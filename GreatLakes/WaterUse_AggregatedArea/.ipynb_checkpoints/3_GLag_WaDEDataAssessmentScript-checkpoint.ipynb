{
 "cells": [
  {
   "cell_type": "markdown",
   "id": "d1f571be",
   "metadata": {},
   "source": [
    "# Data Assessment & Analytics\n",
    "Notes:\n",
    "- change os directory location\n",
    "- be aware of the number of provdied native source data files"
   ]
  },
  {
   "cell_type": "code",
   "execution_count": null,
   "id": "13ee81d8",
   "metadata": {},
   "outputs": [],
   "source": [
    "# Needed Libraries / Modules\n",
    "\n",
    "# ---- working with data ----\n",
    "import os  # native operating system interaction\n",
    "import numpy as np  # mathematical array manipulation\n",
    "import pandas as pd  # data structure and data analysis\n",
    "import geopandas as gpd  # geo-data structure and data analysis\n",
    "\n",
    "# ---- visualization ----\n",
    "import geoplot as gplt  # for plotting maps and geo-data\n",
    "import geoplot.crs as gcrs  #used to pull in webdata related to maps and geo-data\n",
    "import missingno as msno # creates a matrix chart to show missing values\n",
    "import plotly.express as px\n",
    "import plotly.graph_objects as go  # for subplot creation\n",
    "from plotly.subplots import make_subplots  # for subplot creation\n",
    "import matplotlib.pyplot as mplt  # use with gplt to save fig to pdf\n",
    "\n",
    "# ---- cleanup ----\n",
    "import re # string regular expression manipulation\n",
    "from datetime import datetime # date and time manipulation\n",
    "pd.set_option('display.max_columns', 999)  # How to display all columns of a Pandas DataFrame in Jupyter Notebook\n",
    "pd.set_option('display.float_format', lambda x: '%.5f' % x) # suppress scientific notation in Pandas"
   ]
  },
  {
   "cell_type": "code",
   "execution_count": null,
   "id": "f24dccf3",
   "metadata": {},
   "outputs": [],
   "source": [
    "# ---- working directory ----\n",
    "workingDirString = os.getcwd() # set working directory folder string here\n",
    "os.chdir(workingDirString)\n",
    "print(f'The working Directory is:', workingDirString)"
   ]
  },
  {
   "cell_type": "code",
   "execution_count": null,
   "id": "d7078c1e-eb5c-4825-9f43-f2d4843dc64b",
   "metadata": {},
   "outputs": [],
   "source": [
    "# ---- where to find input files ----\n",
    "InputFolderString = \"G:/Shared drives/WaDE Data/WaDE Data Folder/GreatLakes/WaterUse_AggregatedArea\"  # set this to where input files are located"
   ]
  },
  {
   "cell_type": "code",
   "execution_count": null,
   "id": "62de750e",
   "metadata": {},
   "outputs": [],
   "source": [
    "# Native Input Data\n",
    "#################################################################\n",
    "# ---- This needs to be custom per state ----\n",
    "\n",
    "# Data Set 1: WSWC Great Lakes Data 2012-2022\n",
    "dfin1 = pd.read_csv(InputFolderString + '/RawinputData/WSWC Great Lakes Data 2012-2022.zip')\n",
    "\n",
    "# Data Set 2: Exploded_GLCompact_Basins_Jurisdictions\n",
    "dfin2 = pd.read_csv(InputFolderString + '/RawinputData/Exploded_GLCompact_Basins_Jurisdictions.zip')"
   ]
  },
  {
   "cell_type": "code",
   "execution_count": null,
   "id": "ecbf2d48",
   "metadata": {},
   "outputs": [],
   "source": [
    "# Input Data - Processed WaDE Input files\n",
    "#################################################################\n",
    "dfm = pd.read_csv(InputFolderString + \"/ProcessedInputData/methods.csv\").replace(np.nan, \"\")\n",
    "\n",
    "dfv = pd.read_csv(InputFolderString + \"/ProcessedInputData/variables.csv\").replace(np.nan, \"\")\n",
    "\n",
    "dfo = pd.read_csv(InputFolderString + \"/ProcessedInputData/organizations.csv\").replace(np.nan, \"\")\n",
    "\n",
    "dfws = pd.read_csv(InputFolderString + \"/ProcessedInputData/watersources.csv\").replace(np.nan, \"\")\n",
    "dfwspurge = pd.read_csv(InputFolderString + \"/ProcessedInputData/watersources_missing.csv\").replace(np.nan, \"\")\n",
    "\n",
    "dfru = pd.read_csv(InputFolderString + \"/ProcessedInputData/reportingunits.csv\").replace(np.nan, \"\")\n",
    "dfrupurge = pd.read_csv(InputFolderString + \"/ProcessedInputData/reportingunits_missing.csv\").replace(np.nan, \"\")\n",
    "\n",
    "dfag = pd.read_csv(InputFolderString + \"/ProcessedInputData/aggregatedamounts.csv\").replace(np.nan, \"\")\n",
    "dfagpurge = pd.read_csv(InputFolderString + \"/ProcessedInputData/aggregatedamounts_missing.csv\").replace(np.nan, \"\")"
   ]
  },
  {
   "cell_type": "markdown",
   "id": "40ff4e59",
   "metadata": {},
   "source": [
    "# Water Source Info (watersources.csv)"
   ]
  },
  {
   "cell_type": "code",
   "execution_count": null,
   "id": "98a506fe",
   "metadata": {
    "scrolled": true
   },
   "outputs": [],
   "source": [
    "print(len(dfws))\n",
    "dfws.head(1)"
   ]
  },
  {
   "cell_type": "code",
   "execution_count": null,
   "id": "7c4f64f6",
   "metadata": {},
   "outputs": [],
   "source": [
    "# Check what columns contain missing information.\n",
    "msno.bar(dfws)"
   ]
  },
  {
   "cell_type": "code",
   "execution_count": null,
   "id": "b84c8270",
   "metadata": {},
   "outputs": [],
   "source": [
    "# Unique values for 'WaterSourceTypeCV'\n",
    "for x in dfws['WaterSourceTypeCV'].sort_values().unique():\n",
    "    print(f'\"' + x + '\",')"
   ]
  },
  {
   "cell_type": "markdown",
   "id": "ef6701f3",
   "metadata": {},
   "source": [
    "# Reporting Unit Info (reportingunits.csv)"
   ]
  },
  {
   "cell_type": "code",
   "execution_count": null,
   "id": "6f0995e8",
   "metadata": {},
   "outputs": [],
   "source": [
    "print(len(dfru))\n",
    "dfru.head(1)"
   ]
  },
  {
   "cell_type": "code",
   "execution_count": null,
   "id": "5c6ba2fe",
   "metadata": {},
   "outputs": [],
   "source": [
    "# Check what columns contain missing information.\n",
    "msno.bar(dfru)"
   ]
  },
  {
   "cell_type": "code",
   "execution_count": null,
   "id": "f3d0a5ab",
   "metadata": {},
   "outputs": [],
   "source": [
    "# Unique values for 'ReportingUnitName'\n",
    "for x in dfru['ReportingUnitName'].sort_values().unique():\n",
    "    print(f'\"' + x + '\",')"
   ]
  },
  {
   "cell_type": "code",
   "execution_count": null,
   "id": "7c269f81",
   "metadata": {},
   "outputs": [],
   "source": [
    "# Unique values for 'ReportingUnitTypeCV'\n",
    "for x in dfru['ReportingUnitTypeCV'].sort_values().unique():\n",
    "    print(f'\"' + x + '\",')"
   ]
  },
  {
   "cell_type": "markdown",
   "id": "8c68319e",
   "metadata": {},
   "source": [
    "# Aggregated Amounts Info (aggregatedamounts.csv)"
   ]
  },
  {
   "cell_type": "code",
   "execution_count": null,
   "id": "f4130bb0",
   "metadata": {},
   "outputs": [],
   "source": [
    "print(len(dfag))\n",
    "dfag.head(1)"
   ]
  },
  {
   "cell_type": "code",
   "execution_count": null,
   "id": "80bd1ab5",
   "metadata": {},
   "outputs": [],
   "source": [
    "# Check what columns contain missing information.\n",
    "msno.bar(dfag)"
   ]
  },
  {
   "cell_type": "code",
   "execution_count": null,
   "id": "6a144c36",
   "metadata": {},
   "outputs": [],
   "source": [
    "# Unique values for 'AllocationCropDutyAmount'\n",
    "for x in dfag['AllocationCropDutyAmount'].sort_values().unique():\n",
    "    print(f'\"' + str(x) + '\",')"
   ]
  },
  {
   "cell_type": "code",
   "execution_count": null,
   "id": "4fcfa382",
   "metadata": {},
   "outputs": [],
   "source": [
    "# Unique values for 'CommunityWaterSupplySystem'\n",
    "for x in dfag['CommunityWaterSupplySystem'].sort_values().unique():\n",
    "    print(f'\"' + x + '\",')"
   ]
  },
  {
   "cell_type": "code",
   "execution_count": null,
   "id": "bd0282ff",
   "metadata": {},
   "outputs": [],
   "source": [
    "# Unique values for 'CropTypeCV'\n",
    "for x in dfag['CropTypeCV'].sort_values().unique():\n",
    "    print(f'\"' + x + '\",')"
   ]
  },
  {
   "cell_type": "code",
   "execution_count": null,
   "id": "584c59f9",
   "metadata": {},
   "outputs": [],
   "source": [
    "# Unique values for 'CustomerTypeCV'\n",
    "for x in dfag['CustomerTypeCV'].sort_values().unique():\n",
    "    print(f'\"' + x + '\",')"
   ]
  },
  {
   "cell_type": "code",
   "execution_count": null,
   "id": "d386ef64",
   "metadata": {},
   "outputs": [],
   "source": [
    "# Unique values for 'IrrigationMethodCV'\n",
    "for x in dfag['IrrigationMethodCV'].sort_values().unique():\n",
    "    print(f'\"' + x + '\",')"
   ]
  },
  {
   "cell_type": "code",
   "execution_count": null,
   "id": "da68bc14",
   "metadata": {},
   "outputs": [],
   "source": [
    "# Unique values for 'PopulationServed'\n",
    "for x in dfag['PopulationServed'].sort_values().unique():\n",
    "    print(f'\"' + x + '\",')"
   ]
  },
  {
   "cell_type": "code",
   "execution_count": null,
   "id": "3f09c1a6",
   "metadata": {},
   "outputs": [],
   "source": [
    "# Unique values for 'BeneficialUseCategory'\n",
    "uniqueList = list(set([i.strip() for i in ','.join(dfag['BeneficialUseCategory'].astype(str)).split(',')]))\n",
    "uniqueList.sort()\n",
    "uniqueList"
   ]
  },
  {
   "cell_type": "markdown",
   "id": "f58408cc-44c3-4569-95e3-4626343cc68d",
   "metadata": {},
   "source": [
    "## Markdown Table Creation"
   ]
  },
  {
   "cell_type": "code",
   "execution_count": null,
   "id": "0f0a5766-d759-40ce-9257-a30f63bd9c20",
   "metadata": {},
   "outputs": [],
   "source": [
    "# method.csv\n",
    "try:\n",
    "  dftmp = dfm.loc[[0]].drop(['MethodDescription'], axis=1).copy().to_markdown()\n",
    "except:\n",
    "  dftmp = dfm.drop(['MethodDescription'], axis=1).copy().to_markdown()\n",
    "print(dftmp)"
   ]
  },
  {
   "cell_type": "code",
   "execution_count": null,
   "id": "2469cff7-a17c-4fbe-b2a7-b104ce68b643",
   "metadata": {},
   "outputs": [],
   "source": [
    "# variable.csv\n",
    "try:\n",
    "  dftmp = dfv.loc[[0]].copy().to_markdown()\n",
    "except:\n",
    "  dftmp = dfv.copy().to_markdown()\n",
    "print(dftmp)"
   ]
  },
  {
   "cell_type": "code",
   "execution_count": null,
   "id": "c766efc8-7236-430c-8c2c-649a6022d557",
   "metadata": {},
   "outputs": [],
   "source": [
    "# organizations.csv\n",
    "try:\n",
    "  dftmp = dfo.loc[[0]].copy().to_markdown()\n",
    "except:\n",
    "  dftmp = dfo.copy().to_markdown()\n",
    "print(dftmp)"
   ]
  },
  {
   "cell_type": "code",
   "execution_count": null,
   "id": "0a0a7649-9bc1-40bd-ada7-448cb653b7ba",
   "metadata": {},
   "outputs": [],
   "source": [
    "# watersources.csv\n",
    "try:\n",
    "  dftmp = dfws.loc[[0]].copy().to_markdown()\n",
    "except:\n",
    "  dftmp = dfws.copy().to_markdown()\n",
    "print(dftmp)"
   ]
  },
  {
   "cell_type": "code",
   "execution_count": null,
   "id": "8304207c-989d-4729-8274-b764a30db717",
   "metadata": {},
   "outputs": [],
   "source": [
    "# reportingunits.csv\n",
    "try:\n",
    "  dftmp = dfru.loc[[0]].drop(['Geometry'], axis=1).copy().to_markdown()\n",
    "except:\n",
    "  dftmp = dfru.drop(['Geometry'], axis=1).copy().to_markdown()\n",
    "print(dftmp)"
   ]
  },
  {
   "cell_type": "code",
   "execution_count": null,
   "id": "87375526-6169-493a-9191-4b7ad37f377e",
   "metadata": {},
   "outputs": [],
   "source": [
    "# aggregatedamounts.csv\n",
    "try:\n",
    "  dftmp = dfag.loc[[0]].copy().to_markdown()\n",
    "except:\n",
    "  dftmp = dfag.copy().to_markdown()\n",
    "print(dftmp)"
   ]
  },
  {
   "cell_type": "markdown",
   "id": "dfef163f-710c-4bcd-a3d9-0b313e5ca710",
   "metadata": {},
   "source": [
    "## Num of Record Summary"
   ]
  },
  {
   "cell_type": "code",
   "execution_count": null,
   "id": "14c28265-d528-4c5d-970e-040e44b91511",
   "metadata": {},
   "outputs": [],
   "source": [
    "# Num of entries of source data\n",
    "print(f\"Num of Source #1 Entries (rows): \", \"|\", len(dfin1))\n",
    "print(f\"Num of Source #2 Entries (rows): \", \"|\", len(dfin2))"
   ]
  },
  {
   "cell_type": "code",
   "execution_count": null,
   "id": "8f3858d8-152d-4667-9dfc-eb3af27b35a9",
   "metadata": {},
   "outputs": [],
   "source": [
    "# Num of entries compiled into WaDE\n",
    "ruString=  len(dfru)\n",
    "agString = len(dfag)\n",
    "print(\"Dataset  | Num of Identified Reporting Unit Areas | Num of Identified Aggregated Amount Records\")\n",
    "print(\"**Compiled WaDE Data** |\", ruString, \"|\", agString)"
   ]
  },
  {
   "cell_type": "markdown",
   "id": "397f8320-ae54-417b-8b73-8fd6c7e13382",
   "metadata": {},
   "source": [
    "## Why Removed Records Summary"
   ]
  },
  {
   "cell_type": "code",
   "execution_count": null,
   "id": "65c89830-f148-45fa-9e4f-b56087306ecd",
   "metadata": {},
   "outputs": [],
   "source": [
    "print(\"---- Reasons why records were removed from water source info ----\")\n",
    "if len(dfwspurge) != 0:\n",
    "    print(dfwspurge['ReasonRemoved'].value_counts().astype(str) + \" | removed from watersources.csv input\")\n",
    "else:\n",
    "    print(\"...nothing removed.\")"
   ]
  },
  {
   "cell_type": "code",
   "execution_count": null,
   "id": "6cd86410-c817-4e03-b305-0efa434c3586",
   "metadata": {},
   "outputs": [],
   "source": [
    "print(\" ---- Reasons why records were removed from reportingunits info ---- \")\n",
    "if len(dfrupurge) != 0:\n",
    "    print(dfrupurge['ReasonRemoved'].value_counts().astype(str) + \" | removed from reportingunits.csv input\")\n",
    "else:\n",
    "    print(\"...nothing removed.\")"
   ]
  },
  {
   "cell_type": "code",
   "execution_count": null,
   "id": "df7d1c1a-1db5-4e8c-872b-236b66426a55",
   "metadata": {},
   "outputs": [],
   "source": [
    "print(\" ---- Reasons why records were removed from aggregatedamounts amount info ---- \")\n",
    "if len(dfagpurge) != 0:\n",
    "    print(dfagpurge['ReasonRemoved'].value_counts().astype(str) + \" | removed from aggregatedamounts.csv input\")\n",
    "else:\n",
    "    print(\"...nothing removed.\")"
   ]
  },
  {
   "cell_type": "markdown",
   "id": "2323346f-04ec-4b14-8278-411547ec841f",
   "metadata": {},
   "source": [
    "## Figures"
   ]
  },
  {
   "cell_type": "code",
   "execution_count": null,
   "id": "8629e66f-310b-44ba-b86c-a398833bb8a1",
   "metadata": {},
   "outputs": [],
   "source": [
    "# ---- merge watersource.csv to aggregatedamounts.csv to reportingunits.csv ----\n",
    "\n",
    "dfagtemp = dfag.copy()\n",
    "\n",
    "# Count the number of unique records per ReportingUnitUUID\n",
    "dfagtemp['RecordCountByRu'] = dfagtemp['ReportingUnitUUID'].map(dfagtemp['ReportingUnitUUID'].value_counts())\n",
    "\n",
    "# explode aggregatedamounts.csv on WaterSourceUUID\n",
    "dfagtemp = dfagtemp.assign(WaterSourceUUID=dfagtemp['WaterSourceUUID'].str.split(',')).explode('WaterSourceUUID').reset_index(drop=True)\n",
    "\n",
    "# merge watersource.csv to aggregatedamounts.csv ----\n",
    "dfagtemp_ws = pd.merge(dfagtemp, dfws[['WaterSourceUUID', 'WaterSourceTypeCV']], left_on='WaterSourceUUID', right_on='WaterSourceUUID', how='left')\n",
    "\n",
    "# merge watersource-aggregatedamounts combo to reportingunits.csv ----\n",
    "dfrutemp = dfru.copy()\n",
    "dfrutemp_ws = pd.merge(dfrutemp, dfagtemp_ws[['ReportingUnitUUID', 'RecordCountByRu', 'WaterSourceTypeCV']], left_on='ReportingUnitUUID', right_on='ReportingUnitUUID', how='left')\n",
    "\n",
    "print(len(dfrutemp_ws))\n",
    "dfrutemp_ws.head(1)"
   ]
  },
  {
   "cell_type": "code",
   "execution_count": null,
   "id": "92aa8dc2-0f9d-4b8b-bb13-35a4b3fb143c",
   "metadata": {},
   "outputs": [],
   "source": [
    "# ---- Histogram: Num of reportingunits via WatersourceTypeCV ----\n",
    "print(dfagtemp_ws.WaterSourceTypeCV.value_counts())\n",
    "\n",
    "fig = px.histogram(dfagtemp_ws, x=\"WaterSourceTypeCV\", text_auto=True)\n",
    "fig.update_layout(bargap=0.2,\n",
    "                  title=\"Histogram of WaterSourceTypeCV by ReportingUnit Areas\",\n",
    "                  xaxis_title=\"WaterSourceTypeCV Value\",\n",
    "                  yaxis_title=\"# of entries\",\n",
    "                  #legend_title=\"Legend Title\",\n",
    "                    font=dict(\n",
    "                        family=\"Arial Bold\",\n",
    "                        size=12,\n",
    "                        color=\"Black\")\n",
    "                 )\n",
    "fig.show()\n",
    "fig.write_image('figures/WaterSourceTypeCV.png', engine=\"kaleido\")"
   ]
  },
  {
   "cell_type": "code",
   "execution_count": null,
   "id": "cd76e554-63c8-41af-913e-0f36544e36f8",
   "metadata": {},
   "outputs": [],
   "source": [
    "# ---- Histogram: Num of StatCV in reportingunit.csv ----\n",
    "print(dfru.StateCV.value_counts())\n",
    "\n",
    "fig = px.histogram(dfru, x=\"StateCV\")\n",
    "fig.update_layout(bargap=0.2,\n",
    "                  title=\"Histogram of StateCV Entries in reportingunit.csv\",\n",
    "                  xaxis_title=\"StateCV Value\",\n",
    "                  yaxis_title=\"# of entries\",\n",
    "                  #legend_title=\"Legend Title\",\n",
    "                    font=dict(\n",
    "                        family=\"Arial Bold\",\n",
    "                        size=12,\n",
    "                        color=\"Black\")\n",
    "                 )\n",
    "fig.show()\n",
    "fig.write_image('figures/StateCV.pdf', engine=\"kaleido\")"
   ]
  },
  {
   "cell_type": "code",
   "execution_count": null,
   "id": "ee36b44d-4893-4990-bfbe-8ff711170a87",
   "metadata": {},
   "outputs": [],
   "source": [
    "# Amount: Boxplot distribution of WaDE values\n",
    "try:\n",
    "    trace1 = go.Violin(x=dfag['Amount'], points='outliers', name='Violin Plot')\n",
    "    trace2 = go.Histogram(x=dfag['Amount'], name='Historgram')\n",
    "\n",
    "    fig = make_subplots(rows=2, cols=1)\n",
    "    fig.add_trace(trace1, row=1, col=1)\n",
    "    fig.add_trace(trace2, row=2, col=1)\n",
    "\n",
    "    fig.update_layout(showlegend=False, bargap=0.2, title=\"Amount Distribution in aggregatedamounts.csv\", font=dict(family=\"Arial Bold\", size=12,color=\"Black\"))\n",
    "    fig.update_xaxes(title_text=\"Amount Value\", row=1, col=1)\n",
    "    fig.update_xaxes(title_text=\"Amount Value\", row=2, col=1)\n",
    "    fig.update_yaxes(title_text=\"Num. of Records\", row=2, col=1)\n",
    "    fig.show(renderer=\"png\")\n",
    "    fig.write_image('figures/Amount.pdf', engine=\"kaleido\")\n",
    "\n",
    "except: print('Could not plot Amount value.')"
   ]
  },
  {
   "cell_type": "code",
   "execution_count": null,
   "id": "d3a49552-9e94-451a-bc1a-739b16cd2eaf",
   "metadata": {},
   "outputs": [],
   "source": [
    "# PrimaryUseCategory: histogram distribution of WaDE values\n",
    "print(dfag.PrimaryUseCategoryCV.value_counts())\n",
    "\n",
    "fig = px.histogram(dfag, x=\"PrimaryUseCategoryCV\")\n",
    "fig.update_layout(bargap=0.2,\n",
    "                  title=\"Histogram of PrimaryUseCategoryCV Entries in aggregatedamounts.csv\",\n",
    "                  xaxis_title=\"PrimaryUseCategoryCV Value\",\n",
    "                  yaxis_title=\"# of entries\",\n",
    "                  #legend_title=\"Legend Title\",\n",
    "                    font=dict(\n",
    "                        family=\"Arial Bold\",\n",
    "                        size=12,\n",
    "                        color=\"Black\")\n",
    "                 )\n",
    "fig.show()\n",
    "fig.write_image('figures/PrimaryUseCategoryCV.pdf', engine=\"kaleido\")"
   ]
  },
  {
   "cell_type": "code",
   "execution_count": null,
   "id": "2e567352-c544-499f-873e-5574bae3bcaa",
   "metadata": {},
   "outputs": [],
   "source": [
    "# ReportYearCV: histogram distribution of WaDE values\n",
    "print(dfag.ReportYearCV.value_counts())\n",
    "\n",
    "fig = px.histogram(dfag, x=\"ReportYearCV\")\n",
    "fig.update_layout(bargap=0.2,\n",
    "                  title=\"Histogram of ReportYearCV Entries in aggregatedamounts.csv\",\n",
    "                  xaxis_title=\"ReportYearCV Value\",\n",
    "                  yaxis_title=\"# of entries\",\n",
    "                  #legend_title=\"Legend Title\",\n",
    "                    font=dict(\n",
    "                        family=\"Arial Bold\",\n",
    "                        size=12,\n",
    "                        color=\"Black\")\n",
    "                 )\n",
    "fig.show()\n",
    "fig.write_image('figures/ReportYearCV.pdf', engine=\"kaleido\")"
   ]
  },
  {
   "cell_type": "markdown",
   "id": "fe02fb25-f18c-4bed-b729-d888d2e33663",
   "metadata": {},
   "source": [
    "## map"
   ]
  },
  {
   "cell_type": "code",
   "execution_count": null,
   "id": "1c29b2b6-38b9-47f1-aff8-e386449f45de",
   "metadata": {},
   "outputs": [],
   "source": [
    "# Polygon Map\n",
    "\n",
    "dfruPoly = dfru.copy()\n",
    "dfruPoly = dfruPoly[dfruPoly['Geometry'] != \"\"].reset_index(drop=True)\n",
    "\n",
    "try:\n",
    "    contiguous_usa = gpd.read_file(gplt.datasets.get_path('contiguous_usa')) # use for background map in subplot\n",
    "    ax = gplt.webmap(contiguous_usa, projection=gcrs.WebMercator()) # set subplot\n",
    "    \n",
    "    dfruPoly['Geometry'] = gpd.GeoSeries.from_wkt(dfruPoly['Geometry'], crs=\"EPSG:4326\")\n",
    "    gdfruPoly = gpd.GeoDataFrame(dfruPoly, geometry=dfruPoly['Geometry'], crs=\"EPSG:4326\") # covert to geodataframe\n",
    "    gplt.choropleth(gdfruPoly, edgecolor='lightgray', linewidth=0.5, hue='ReportingUnitTypeCV', legend=True, ax=ax)\n",
    "    mplt.savefig(format=\"png\", fname='figures/PolyMap.png')\n",
    "except:\n",
    "    print('No geometry data to plot')"
   ]
  },
  {
   "cell_type": "markdown",
   "id": "6fc755d8",
   "metadata": {},
   "source": [
    "# Removed Records compared to Source Data\n",
    "- this is working just fine\n",
    "- just want to comment out temporarily"
   ]
  },
  {
   "cell_type": "code",
   "execution_count": null,
   "id": "79220931",
   "metadata": {},
   "outputs": [],
   "source": [
    "# # Explode purge.xlsx files by WaDEUUID, concat together\n",
    "# #################################################################\n",
    "\n",
    "# # Explode watersources_missing.csv records by WaDEUUID\n",
    "# dfwspurgeCopy = dfwspurge.assign(WaDEUUID=dfwspurge['WaDEUUID'].str.split(',')).explode('WaDEUUID').reset_index(drop=True)\n",
    "# dfwspurgeCopy = dfwspurgeCopy[['WaDEUUID','ReasonRemoved','IncompleteField']]\n",
    "\n",
    "# # Explode reportingunits_missing.csv records by WaDEUUID\n",
    "# dfrupurgeCopy = dfrupurge.assign(WaDEUUID=dfrupurge['WaDEUUID'].str.split(',')).explode('WaDEUUID').reset_index(drop=True)\n",
    "# dfrupurgeCopy = dfrupurgeCopy[['WaDEUUID','ReasonRemoved','IncompleteField']]\n",
    "\n",
    "# # Explode aggregatedamounts_missing.csv records by WaDEUUID\n",
    "# dfagpurgeCopy = dfagpurge.assign(WaDEUUID=dfagpurge['WaDEUUID'].str.split(',')).explode('WaDEUUID').reset_index(drop=True)\n",
    "# dfagpurgeCopy = dfagpurgeCopy[['WaDEUUID','ReasonRemoved','IncompleteField']]\n",
    "\n",
    "# # concat purge dataframes togehter\n",
    "# frames = [dfwspurgeCopy, dfrupurgeCopy, dfagpurgeCopy] \n",
    "# dfWaDEUUID = pd.concat(frames)\n",
    "# dfWaDEUUID = dfWaDEUUID.drop_duplicates().reset_index(drop=True).replace(np.nan, \"\")\n",
    "# print(len(dfWaDEUUID))\n",
    "# dfWaDEUUID.head(1)"
   ]
  },
  {
   "cell_type": "markdown",
   "id": "5c080897",
   "metadata": {},
   "source": [
    "# Custom Queries and Analysis for this Dataset"
   ]
  },
  {
   "cell_type": "code",
   "execution_count": null,
   "id": "f5661603",
   "metadata": {
    "scrolled": true
   },
   "outputs": [],
   "source": [
    "# N/A"
   ]
  }
 ],
 "metadata": {
  "kernelspec": {
   "display_name": "Python 3 (ipykernel)",
   "language": "python",
   "name": "python3"
  },
  "language_info": {
   "codemirror_mode": {
    "name": "ipython",
    "version": 3
   },
   "file_extension": ".py",
   "mimetype": "text/x-python",
   "name": "python",
   "nbconvert_exporter": "python",
   "pygments_lexer": "ipython3",
   "version": "3.12.3"
  }
 },
 "nbformat": 4,
 "nbformat_minor": 5
}
