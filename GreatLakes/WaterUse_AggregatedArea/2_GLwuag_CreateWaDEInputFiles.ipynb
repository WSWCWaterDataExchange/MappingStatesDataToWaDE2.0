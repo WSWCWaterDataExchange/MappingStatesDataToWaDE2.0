{
 "cells": [
  {
   "cell_type": "markdown",
   "id": "93207788",
   "metadata": {},
   "source": [
    "# Create WaDE Uploader csv Files for Aggregated Area Timeseries Data\n",
    "- Last Updated: 07/16/2024\n",
    "- Purpose: To create necessary processed WaDE Uploader csv files for aggregate area time series."
   ]
  },
  {
   "cell_type": "code",
   "execution_count": 1,
   "id": "008fa19f",
   "metadata": {},
   "outputs": [],
   "source": [
    "# Needed Libraries / Modules\n",
    "import sys\n",
    "import os\n",
    "\n",
    "## Custom Libraries\n",
    "sys.path.append(\"../../5_CustomFunctions/MappingFunctions\")\n",
    "import CreateWaterSourcesFile\n",
    "import CreateReportingUnitsFile\n",
    "import CreateAggregatedAmountsFile\n",
    "import RemoveUnusedRecordsFile"
   ]
  },
  {
   "cell_type": "markdown",
   "id": "9aa8e660",
   "metadata": {},
   "source": [
    "## Input Data (make changes here)\n",
    " - create and add variables specific to this proejct here"
   ]
  },
  {
   "cell_type": "code",
   "execution_count": 2,
   "id": "242daec1",
   "metadata": {},
   "outputs": [
    {
     "name": "stdout",
     "output_type": "stream",
     "text": [
      "The working Directory is: G:/Shared drives/WaDE Data/WaDE Data Folder/GreatLakes/WaterUse_AggregatedArea\n"
     ]
    }
   ],
   "source": [
    "# ---- Inputs ----\n",
    "varST = \"GL\" # state abbreviation\n",
    "varUUIDType = \"wuag\" # UUID data type abbreviation\n",
    "mainInputFile = \"Pwuag_Main.zip\" # use processed zip file\n",
    "# ---- working directory ----\n",
    "workingDirString = \"G:/Shared drives/WaDE Data/WaDE Data Folder/GreatLakes/WaterUse_AggregatedArea\" # set working directory folder string here\n",
    "os.chdir(workingDirString)\n",
    "print(f'The working Directory is:', workingDirString)"
   ]
  },
  {
   "cell_type": "markdown",
   "id": "9ca3ea3e",
   "metadata": {},
   "source": [
    "## Create Aggregated Area Timeseries Input Files"
   ]
  },
  {
   "cell_type": "code",
   "execution_count": 3,
   "id": "f373f87f",
   "metadata": {},
   "outputs": [],
   "source": [
    "# ---- Method (methods.csv) ----\n",
    "# Simple info, create by hand and save in ProcessedInputData folder."
   ]
  },
  {
   "cell_type": "code",
   "execution_count": 4,
   "id": "d0292a0b",
   "metadata": {},
   "outputs": [],
   "source": [
    "# ---- Variable (variables.csv) ----\n",
    "# Simple info, create by hand and save in ProcessedInputData folder."
   ]
  },
  {
   "cell_type": "code",
   "execution_count": 5,
   "id": "de98ab0f",
   "metadata": {},
   "outputs": [],
   "source": [
    "# ---- Organization (organizations.csv) ----\n",
    "# Simple info, create by hand and save in ProcessedInputData folder."
   ]
  },
  {
   "cell_type": "code",
   "execution_count": 6,
   "id": "a96f088b",
   "metadata": {},
   "outputs": [
    {
     "name": "stdout",
     "output_type": "stream",
     "text": [
      "Creating Water Sources input csv...\n",
      "############################################################################\n",
      "Reading input csv...\n",
      "Populating dataframe...\n",
      "Geometry\n",
      "GNISFeatureNameCV\n",
      "WaterQualityIndicatorCV\n",
      "WaterSourceName\n",
      "WaterSourceNativeID\n",
      "WaterSourceTypeCV\n",
      "Adding Data Assessment UUID\n",
      "Resetting Index\n",
      "GroupBy outdf duplicates based on key fields...\n",
      "Error checking each field. Purging bad inputs.\n",
      "Length of outdf DataFrame:  3\n",
      "Length of dfpurge DataFrame:  0\n",
      "Assign WaterSourceUUID\n",
      "Cleaning export for correct data types...\n",
      "Exporting dataframe...\n",
      "Done\n"
     ]
    }
   ],
   "source": [
    "# ---- Water Sources (watersources.csv) ----\n",
    "print(\"Creating Water Sources input csv...\")\n",
    "print(\"############################################################################\")\n",
    "CreateWaterSourcesFile.CreateWaterSourcesInputFunction(workingDirString, varST, varUUIDType, mainInputFile)"
   ]
  },
  {
   "cell_type": "code",
   "execution_count": 7,
   "id": "b6494c99",
   "metadata": {},
   "outputs": [
    {
     "name": "stdout",
     "output_type": "stream",
     "text": [
      "Creating Reporting Unit input csv...\n",
      "############################################################################\n",
      "Reading input csv...\n",
      "Populating dataframe...\n",
      "EPSGCodeCV\n",
      "ReportingUnitName\n",
      "ReportingUnitNativeID\n",
      "ReportingUnitProductVersion\n",
      "ReportingUnitTypeCV\n",
      "ReportingUnitUpdateDate\n",
      "StateCV\n",
      "Geometry\n",
      "Adding Data Assessment UUID\n",
      "Resetting Index\n",
      "GroupBy outdf duplicates based on key fields...\n",
      "Error checking each field. Purging bad inputs.\n",
      "Length of outdf DataFrame:  22\n",
      "Length of dfpurge DataFrame:  0\n",
      "Assign ReportingUnitUUID\n",
      "Exporting dataframe...\n",
      "Done\n"
     ]
    }
   ],
   "source": [
    "# ---- Reporting Unit (reportingunits.csv) ----\n",
    "print(\"Creating Reporting Unit input csv...\")\n",
    "print(\"############################################################################\")\n",
    "CreateReportingUnitsFile.CreateReportingUnitInputFunction(workingDirString, varST, varUUIDType, mainInputFile)"
   ]
  },
  {
   "cell_type": "code",
   "execution_count": 8,
   "id": "ffb1f358",
   "metadata": {
    "scrolled": true
   },
   "outputs": [
    {
     "name": "stdout",
     "output_type": "stream",
     "text": [
      "Creating aggregatedamounts input csv...\n",
      "############################################################################\n",
      "Reading input csv...\n",
      "Populating dataframe outdf...\n",
      "MethodUUID\n",
      "OrganizationUUID\n",
      "ReportingUnitUUID\n",
      "VariableSpecificUUID\n",
      "WaterSourceUUID\n",
      "Amount\n",
      "BeneficialUseCategory\n",
      "CommunityWaterSupplySystem\n",
      "CropTypeCV\n",
      "CustomerTypeCV\n",
      "DataPublicationDate\n",
      "DataPublicationDOI\n",
      "InterbasinTransferFromID\n",
      "InterbasinTransferToID\n",
      "IrrigatedAcreage\n",
      "IrrigationMethodCV\n",
      "PopulationServed\n",
      "PowerGeneratedGWh\n",
      "PowerType\n",
      "PrimaryUseCategory\n",
      "ReportYearCV\n",
      "SDWISIdentifierCV\n",
      "TimeframeEnd\n",
      "TimeframeStart\n",
      "Adding Data Assessment UUID\n",
      "Resetting Index\n",
      "Solving WaDE 2.0 upload issues\n",
      "Error checking each field. Purging bad inputs.\n",
      "Length of outdf DataFrame:  5189\n",
      "Length of dfpurge DataFrame:  0\n",
      "Cleaning export for correct data types...\n",
      "Exporting dataframe...\n",
      "Done\n"
     ]
    }
   ],
   "source": [
    "# ---- Aggregated Amounts (aggregatedamounts.csv) ----\n",
    "print(\"Creating aggregatedamounts input csv...\")\n",
    "print(\"############################################################################\")\n",
    "CreateAggregatedAmountsFile.CreateAggregatedAmountsInputFunction(workingDirString, mainInputFile)"
   ]
  },
  {
   "cell_type": "code",
   "execution_count": 9,
   "id": "a769f9b0",
   "metadata": {},
   "outputs": [
    {
     "name": "stdout",
     "output_type": "stream",
     "text": [
      "Remove unused Water Sources and Reporting Unit records not found within Aggregated Amounts input csv...\n",
      "############################################################################\n",
      "Reading input csv...\n",
      "Length of dfru before removing reporting units:  22\n",
      "Length of dfru after removing reporting units:  22\n",
      "Length of dfws before removing reporting units:  3\n",
      "Length of dfws after removing reporting units:  3\n",
      "Export Files - watersource.csv, watersource_missing.csv, reportingunits.csv, reportingunits_missing.csv, aggregatedamounts.csv\n",
      "Done\n"
     ]
    }
   ],
   "source": [
    "# ---- Remove unused records ----\n",
    "print(\"Remove unused Water Sources and Reporting Unit records not found within Aggregated Amounts input csv...\")\n",
    "print(\"############################################################################\")\n",
    "RemoveUnusedRecordsFile.RemoveUnusedAggregatedAmountRecordsFileFunction(workingDirString)"
   ]
  }
 ],
 "metadata": {
  "kernelspec": {
   "display_name": "Python 3 (ipykernel)",
   "language": "python",
   "name": "python3"
  },
  "language_info": {
   "codemirror_mode": {
    "name": "ipython",
    "version": 3
   },
   "file_extension": ".py",
   "mimetype": "text/x-python",
   "name": "python",
   "nbconvert_exporter": "python",
   "pygments_lexer": "ipython3",
   "version": "3.12.3"
  }
 },
 "nbformat": 4,
 "nbformat_minor": 5
}
