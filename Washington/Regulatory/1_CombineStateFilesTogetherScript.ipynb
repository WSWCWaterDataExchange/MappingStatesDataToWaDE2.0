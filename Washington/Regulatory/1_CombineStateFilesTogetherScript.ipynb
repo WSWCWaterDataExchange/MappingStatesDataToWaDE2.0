{
 "cells": [
  {
   "cell_type": "markdown",
   "id": "ccc474a6",
   "metadata": {},
   "source": [
    "# Combine & Upload All State files into single upload Project.\n",
    "Purpose:  To combine each individual organizations by state ProcessedInputData csv files into a single WaDE 2.0 upload project.\n",
    "\n",
    "Notes: \n",
    "- asdf"
   ]
  },
  {
   "cell_type": "code",
   "execution_count": null,
   "id": "2cb44bc4",
   "metadata": {},
   "outputs": [],
   "source": [
    "# Needed Libraries / Modules\n",
    "\n",
    "# ---- working with data ----\n",
    "import os  # native operating system interaction\n",
    "import numpy as np  # mathematical array manipulation\n",
    "import pandas as pd  # data structure and data analysis\n",
    "import geopandas as gpd  # geo-data structure and data analysis\n",
    "\n",
    "# ---- visualization ----\n",
    "import matplotlib.pyplot as plt  # plotting library\n",
    "import seaborn as sns  # plotting library\n",
    "import geoplot as gplt # for plotting maps\n",
    "import geoplot.crs as gcrs #used to pull in webdata\n",
    "\n",
    "# ---- API data retrieval ----\n",
    "import requests  # http requests\n",
    "import json  # JSON parse\n",
    "\n",
    "# ---- Cleanup ----\n",
    "import re  # string regular expression manipulation\n",
    "from datetime import datetime  # date and time manipulation\n",
    "pd.set_option('display.max_columns', 999)  # How to display all columns of a Pandas DataFrame in Jupyter Notebook\n",
    "pd.set_option('display.float_format', lambda x: '%.5f' % x)  # suppress scientific notation in Pandas"
   ]
  },
  {
   "cell_type": "code",
   "execution_count": null,
   "id": "46689de6",
   "metadata": {},
   "outputs": [],
   "source": [
    "# ---- working directory ----\n",
    "workingDirString = \"G:/Shared drives/WaDE Data/Washington/Regulatory\" # set working directory folder string here\n",
    "os.chdir(workingDirString)\n",
    "print(f'The working Directory is:', workingDirString)"
   ]
  },
  {
   "cell_type": "markdown",
   "id": "d0df0ccd",
   "metadata": {},
   "source": [
    "## Input Data"
   ]
  },
  {
   "cell_type": "code",
   "execution_count": null,
   "id": "18cf824f",
   "metadata": {},
   "outputs": [],
   "source": [
    "# organizations #1 - Regulatory_WDNR\n",
    "# ----------------------------------------------\n",
    "dfd1 = pd.read_csv(\"Regulatory_WDNR/ProcessedInputData/date.csv\")\n",
    "dfo1 = pd.read_csv(\"Regulatory_WDNR/ProcessedInputData/organizations.csv\")\n",
    "dfro1 = pd.read_csv(\"Regulatory_WDNR/ProcessedInputData/regulatoryoverlays.csv\")\n",
    "dfru1 = pd.read_csv(\"Regulatory_WDNR/ProcessedInputData/reportingunits.csv\")\n",
    "dfrru1 = pd.read_csv(\"Regulatory_WDNR/ProcessedInputData/regulatoryreportingunits.csv\")\n",
    "dfs1 = pd.read_csv(\"Regulatory_WDNR/ProcessedInputData/sites.csv\")"
   ]
  },
  {
   "cell_type": "code",
   "execution_count": null,
   "id": "48b83602",
   "metadata": {},
   "outputs": [],
   "source": [
    "# organizations #1 - Regulatory_WDOE\n",
    "# ----------------------------------------------\n",
    "dfd2 = pd.read_csv(\"Regulatory_WDOE/ProcessedInputData/date.csv\")\n",
    "dfo2 = pd.read_csv(\"Regulatory_WDOE/ProcessedInputData/organizations.csv\")\n",
    "dfro2 = pd.read_csv(\"Regulatory_WDOE/ProcessedInputData/regulatoryoverlays.csv\")\n",
    "dfru2 = pd.read_csv(\"Regulatory_WDOE/ProcessedInputData/reportingunits.csv\")\n",
    "dfrru2 = pd.read_csv(\"Regulatory_WDOE/ProcessedInputData/regulatoryreportingunits.csv\")\n",
    "dfs2 = pd.read_csv(\"Regulatory_WDOE/ProcessedInputData/sites.csv\")"
   ]
  },
  {
   "cell_type": "markdown",
   "id": "37e25921",
   "metadata": {},
   "source": [
    "## Concatenate Like Files Together"
   ]
  },
  {
   "cell_type": "code",
   "execution_count": null,
   "id": "b3e2dfd7",
   "metadata": {},
   "outputs": [],
   "source": [
    "# Concatenate data.csv files\n",
    "frames = [dfd1, dfd2]  # list all out dataframes here\n",
    "dfd = pd.concat(frames)\n",
    "dfd = dfd.drop_duplicates().reset_index(drop=True).replace(np.nan, \"\")\n",
    "print(len(dfd))\n",
    "dfd.head(1)"
   ]
  },
  {
   "cell_type": "code",
   "execution_count": null,
   "id": "22379e65",
   "metadata": {},
   "outputs": [],
   "source": [
    "# Concatenate organizations.csv files\n",
    "frames = [dfo1, dfo2]  # list all out dataframes here\n",
    "dfo = pd.concat(frames)\n",
    "dfo = dfo.drop_duplicates().reset_index(drop=True).replace(np.nan, \"\")\n",
    "print(len(dfo))\n",
    "dfo.head()"
   ]
  },
  {
   "cell_type": "code",
   "execution_count": null,
   "id": "f763a547",
   "metadata": {},
   "outputs": [],
   "source": [
    "# Concatenate organizations.csv files\n",
    "frames = [dfo1, dfo2]  # list all out dataframes here\n",
    "dfo = pd.concat(frames)\n",
    "dfo = dfo.drop_duplicates().reset_index(drop=True).replace(np.nan, \"\")\n",
    "print(len(dfo))\n",
    "dfo.head()"
   ]
  },
  {
   "cell_type": "code",
   "execution_count": null,
   "id": "bcbead53",
   "metadata": {},
   "outputs": [],
   "source": [
    "# Concatenate regulatoryoverlays.csv files\n",
    "frames = [dfro1, dfro2]  # list all out dataframes here\n",
    "dfro = pd.concat(frames)\n",
    "dfro = dfro.drop_duplicates().reset_index(drop=True).replace(np.nan, \"\")\n",
    "print(len(dfro))\n",
    "dfro.head()"
   ]
  },
  {
   "cell_type": "code",
   "execution_count": null,
   "id": "325a6f27",
   "metadata": {},
   "outputs": [],
   "source": [
    "# Concatenate reportingunits.csv files\n",
    "frames = [dfru1, dfru2]  # list all out dataframes here\n",
    "dfru = pd.concat(frames)\n",
    "dfru = dfru.drop_duplicates().reset_index(drop=True).replace(np.nan, \"\")\n",
    "print(len(dfru))\n",
    "dfru.head()"
   ]
  },
  {
   "cell_type": "code",
   "execution_count": null,
   "id": "73755e37",
   "metadata": {},
   "outputs": [],
   "source": [
    "# Concatenate regulatoryreportingunits.csv files\n",
    "frames = [dfrru1, dfrru2]  # list all out dataframes here\n",
    "dfrru = pd.concat(frames)\n",
    "dfrru = dfrru.drop_duplicates().reset_index(drop=True).replace(np.nan, \"\")\n",
    "print(len(dfrru))\n",
    "dfrru.head()"
   ]
  },
  {
   "cell_type": "code",
   "execution_count": null,
   "id": "0f3bbf07",
   "metadata": {},
   "outputs": [],
   "source": [
    "# Concatenate sites.csv files\n",
    "# this will require performing a groupby() method\n",
    "frames = [dfs1, dfs2]  # list all out dataframes here\n",
    "dfs = pd.concat(frames)\n",
    "dfs = dfs.drop_duplicates().reset_index(drop=True).replace(np.nan, \"\")\n",
    "dfs = dfs.groupby('SiteUUID').agg(lambda x: ','.join([str(elem) for elem in (list(set(x))) if elem != \"\"])).replace(np.nan, \"\").reset_index()\n",
    "print(len(dfs))\n",
    "dfs.head()"
   ]
  },
  {
   "cell_type": "markdown",
   "id": "59e85c7f",
   "metadata": {},
   "source": [
    "# Inspect Output Data & Export"
   ]
  },
  {
   "cell_type": "code",
   "execution_count": null,
   "id": "8a5201d3",
   "metadata": {},
   "outputs": [],
   "source": [
    "# Export out to CSV\n",
    "dfd.to_csv('ProcessedInputData/date.csv', index=False)\n",
    "dfo.to_csv('ProcessedInputData/organizations.csv', index=False)\n",
    "dfro.to_csv('ProcessedInputData/regulatoryoverlays.csv', index=False)\n",
    "dfru.to_csv('ProcessedInputData/reportingunits.csv', index=False)\n",
    "dfrru.to_csv('ProcessedInputData/regulatoryreportingunits.csv', index=False)\n",
    "dfs.to_csv('ProcessedInputData/sites.csv', index=False)"
   ]
  },
  {
   "cell_type": "code",
   "execution_count": null,
   "id": "d8cae2e9",
   "metadata": {},
   "outputs": [],
   "source": []
  }
 ],
 "metadata": {
  "kernelspec": {
   "display_name": "Python 3 (ipykernel)",
   "language": "python",
   "name": "python3"
  },
  "language_info": {
   "codemirror_mode": {
    "name": "ipython",
    "version": 3
   },
   "file_extension": ".py",
   "mimetype": "text/x-python",
   "name": "python",
   "nbconvert_exporter": "python",
   "pygments_lexer": "ipython3",
   "version": "3.9.16"
  }
 },
 "nbformat": 4,
 "nbformat_minor": 5
}
