{
 "cells": [
  {
   "cell_type": "markdown",
   "metadata": {},
   "source": [
    "# Pre-processing (state / organization Name) Regulatory data for WaDE upload.\n",
    "- Purpose:  To preprocess the data into one master file for simple DataFrame creation and extraction."
   ]
  },
  {
   "cell_type": "code",
   "execution_count": 1,
   "metadata": {},
   "outputs": [],
   "source": [
    "# Needed Libraries / Modules\n",
    "\n",
    "# ---- working with data ----\n",
    "import os  # native operating system interaction\n",
    "import numpy as np  # mathematical array manipulation\n",
    "import pandas as pd  # data structure and data analysis\n",
    "import geopandas as gpd  # geo-data structure and data analysis\n",
    "\n",
    "# ---- visualization ----\n",
    "import matplotlib.pyplot as plt  # plotting library\n",
    "import seaborn as sns  # plotting library\n",
    "\n",
    "# ---- API data retrieval ----\n",
    "import requests  # http requests\n",
    "import json  # JSON parse\n",
    "\n",
    "# ---- Cleanup ----\n",
    "import re  # string regular expression manipulation\n",
    "from datetime import datetime  # date and time manipulation\n",
    "pd.set_option('display.max_columns', 999)  # How to display all columns of a Pandas DataFrame in Jupyter Notebook\n",
    "pd.set_option('display.float_format', lambda x: '%.5f' % x)  # suppress scientific notation in Pandas"
   ]
  },
  {
   "cell_type": "code",
   "execution_count": 2,
   "metadata": {},
   "outputs": [
    {
     "name": "stdout",
     "output_type": "stream",
     "text": [
      "The working Directory is: /Volumes/SPACEX/GitHub/Washington/Regulatory2\n"
     ]
    }
   ],
   "source": [
    "# ---- working directory ----\n",
    "workingDirString = os.getcwd() # set working directory folder string here\n",
    "os.chdir(workingDirString)\n",
    "print(f'The working Directory is:', workingDirString)"
   ]
  },
  {
   "cell_type": "markdown",
   "metadata": {},
   "source": [
    "## Regulatory Area Data #1"
   ]
  },
  {
   "cell_type": "code",
   "execution_count": 3,
   "metadata": {},
   "outputs": [
    {
     "name": "stdout",
     "output_type": "stream",
     "text": [
      "62\n"
     ]
    },
    {
     "data": {
      "text/html": [
       "<div>\n",
       "<style scoped>\n",
       "    .dataframe tbody tr th:only-of-type {\n",
       "        vertical-align: middle;\n",
       "    }\n",
       "\n",
       "    .dataframe tbody tr th {\n",
       "        vertical-align: top;\n",
       "    }\n",
       "\n",
       "    .dataframe thead th {\n",
       "        text-align: right;\n",
       "    }\n",
       "</style>\n",
       "<table border=\"1\" class=\"dataframe\">\n",
       "  <thead>\n",
       "    <tr style=\"text-align: right;\">\n",
       "      <th></th>\n",
       "      <th>OBJECTID</th>\n",
       "      <th>WRIA_NR</th>\n",
       "      <th>WRIA_NM</th>\n",
       "      <th>WRIA_ID</th>\n",
       "      <th>WRIA_AREA_</th>\n",
       "      <th>GlobalID</th>\n",
       "      <th>created_us</th>\n",
       "      <th>created_da</th>\n",
       "      <th>last_edite</th>\n",
       "      <th>last_edi_1</th>\n",
       "      <th>SHAPE_Leng</th>\n",
       "      <th>SHAPE_Area</th>\n",
       "      <th>geometry</th>\n",
       "      <th>WaDEUUID</th>\n",
       "    </tr>\n",
       "  </thead>\n",
       "  <tbody>\n",
       "    <tr>\n",
       "      <th>0</th>\n",
       "      <td>1</td>\n",
       "      <td>62</td>\n",
       "      <td>Pend Oreille</td>\n",
       "      <td>1</td>\n",
       "      <td>789790.04298</td>\n",
       "      <td>{2E9243DC-FFB5-4F1F-ADC6-E1DBC845A9AE}</td>\n",
       "      <td>WAECY_Geoservices</td>\n",
       "      <td>2023-08-01</td>\n",
       "      <td>WAECY_Geoservices</td>\n",
       "      <td>2023-08-01</td>\n",
       "      <td>983139.52888</td>\n",
       "      <td>34404968924.90178</td>\n",
       "      <td>POLYGON ((-117.42955 49.00047, -117.42920 49.0...</td>\n",
       "      <td>re0</td>\n",
       "    </tr>\n",
       "    <tr>\n",
       "      <th>1</th>\n",
       "      <td>2</td>\n",
       "      <td>61</td>\n",
       "      <td>Upper Lake Roosevelt</td>\n",
       "      <td>2</td>\n",
       "      <td>368826.08779</td>\n",
       "      <td>{F365ABB0-65A3-4611-BF97-1BA0C269E808}</td>\n",
       "      <td>WAECY_Geoservices</td>\n",
       "      <td>2023-08-01</td>\n",
       "      <td>WAECY_Geoservices</td>\n",
       "      <td>2023-08-01</td>\n",
       "      <td>743741.84071</td>\n",
       "      <td>16066805223.36566</td>\n",
       "      <td>POLYGON ((-118.06255 49.00021, -118.06184 49.0...</td>\n",
       "      <td>re1</td>\n",
       "    </tr>\n",
       "    <tr>\n",
       "      <th>2</th>\n",
       "      <td>3</td>\n",
       "      <td>1</td>\n",
       "      <td>Nooksack</td>\n",
       "      <td>3</td>\n",
       "      <td>1036786.45950</td>\n",
       "      <td>{02195EB7-FEF4-457A-93E9-BA3964124A93}</td>\n",
       "      <td>WAECY_Geoservices</td>\n",
       "      <td>2023-08-01</td>\n",
       "      <td>WAECY_Geoservices</td>\n",
       "      <td>2023-08-01</td>\n",
       "      <td>1478104.96421</td>\n",
       "      <td>45163907493.73452</td>\n",
       "      <td>POLYGON ((-121.36438 48.87707, -121.36428 48.8...</td>\n",
       "      <td>re2</td>\n",
       "    </tr>\n",
       "    <tr>\n",
       "      <th>3</th>\n",
       "      <td>4</td>\n",
       "      <td>60</td>\n",
       "      <td>Kettle</td>\n",
       "      <td>4</td>\n",
       "      <td>656426.12599</td>\n",
       "      <td>{C5196E1E-6FFE-40B5-BDB5-DE76FBA667FD}</td>\n",
       "      <td>WAECY_Geoservices</td>\n",
       "      <td>2023-08-01</td>\n",
       "      <td>WAECY_Geoservices</td>\n",
       "      <td>2023-08-01</td>\n",
       "      <td>966414.46891</td>\n",
       "      <td>28595381917.68454</td>\n",
       "      <td>POLYGON ((-119.15756 49.00008, -119.14248 49.0...</td>\n",
       "      <td>re3</td>\n",
       "    </tr>\n",
       "    <tr>\n",
       "      <th>4</th>\n",
       "      <td>5</td>\n",
       "      <td>49</td>\n",
       "      <td>Okanogan</td>\n",
       "      <td>5</td>\n",
       "      <td>1342476.88228</td>\n",
       "      <td>{EA14957C-8D24-4048-B2DF-171659828838}</td>\n",
       "      <td>WAECY_Geoservices</td>\n",
       "      <td>2023-08-01</td>\n",
       "      <td>WAECY_Geoservices</td>\n",
       "      <td>2023-08-01</td>\n",
       "      <td>1443751.40210</td>\n",
       "      <td>58480792695.25362</td>\n",
       "      <td>POLYGON ((-119.15756 49.00008, -119.15767 48.9...</td>\n",
       "      <td>re4</td>\n",
       "    </tr>\n",
       "  </tbody>\n",
       "</table>\n",
       "</div>"
      ],
      "text/plain": [
       "   OBJECTID  WRIA_NR               WRIA_NM  WRIA_ID    WRIA_AREA_  \\\n",
       "0         1       62          Pend Oreille        1  789790.04298   \n",
       "1         2       61  Upper Lake Roosevelt        2  368826.08779   \n",
       "2         3        1              Nooksack        3 1036786.45950   \n",
       "3         4       60                Kettle        4  656426.12599   \n",
       "4         5       49              Okanogan        5 1342476.88228   \n",
       "\n",
       "                                 GlobalID         created_us  created_da  \\\n",
       "0  {2E9243DC-FFB5-4F1F-ADC6-E1DBC845A9AE}  WAECY_Geoservices  2023-08-01   \n",
       "1  {F365ABB0-65A3-4611-BF97-1BA0C269E808}  WAECY_Geoservices  2023-08-01   \n",
       "2  {02195EB7-FEF4-457A-93E9-BA3964124A93}  WAECY_Geoservices  2023-08-01   \n",
       "3  {C5196E1E-6FFE-40B5-BDB5-DE76FBA667FD}  WAECY_Geoservices  2023-08-01   \n",
       "4  {EA14957C-8D24-4048-B2DF-171659828838}  WAECY_Geoservices  2023-08-01   \n",
       "\n",
       "          last_edite  last_edi_1    SHAPE_Leng        SHAPE_Area  \\\n",
       "0  WAECY_Geoservices  2023-08-01  983139.52888 34404968924.90178   \n",
       "1  WAECY_Geoservices  2023-08-01  743741.84071 16066805223.36566   \n",
       "2  WAECY_Geoservices  2023-08-01 1478104.96421 45163907493.73452   \n",
       "3  WAECY_Geoservices  2023-08-01  966414.46891 28595381917.68454   \n",
       "4  WAECY_Geoservices  2023-08-01 1443751.40210 58480792695.25362   \n",
       "\n",
       "                                            geometry WaDEUUID  \n",
       "0  POLYGON ((-117.42955 49.00047, -117.42920 49.0...      re0  \n",
       "1  POLYGON ((-118.06255 49.00021, -118.06184 49.0...      re1  \n",
       "2  POLYGON ((-121.36438 48.87707, -121.36428 48.8...      re2  \n",
       "3  POLYGON ((-119.15756 49.00008, -119.14248 49.0...      re3  \n",
       "4  POLYGON ((-119.15756 49.00008, -119.15767 48.9...      re4  "
      ]
     },
     "execution_count": 3,
     "metadata": {},
     "output_type": "execute_result"
    }
   ],
   "source": [
    "# Input File\n",
    "inputFile = \"RawInputData/shapefiles/Water_Resource_Inventory_Areas_(WRIA)/WRIA.shp\"\n",
    "dfin1 = gpd.read_file(inputFile).replace(np.nan, \"\")\n",
    "\n",
    "# WaDE UUID tracker for data assessment\n",
    "if 'WaDEUUID' not in dfin1:\n",
    "    dfin1['WaDEUUID'] = \"re\" + dfin1.index.astype(str)\n",
    "    dfin1.to_csv('RawInputData/shapefiles/Water_Resource_Inventory_Areas_(WRIA).zip', compression=dict(method='zip', archive_name='Water_Resource_Inventory_Areas_(WRIA).csv'), index=False)\n",
    "\n",
    "# Realign Geometry Projection\n",
    "dfin1['geometry'] = dfin1['geometry'].to_crs(epsg=4326)\n",
    "\n",
    "print(len(dfin1))\n",
    "dfin1.head()"
   ]
  },
  {
   "cell_type": "code",
   "execution_count": 4,
   "metadata": {},
   "outputs": [
    {
     "name": "stdout",
     "output_type": "stream",
     "text": [
      "62\n"
     ]
    },
    {
     "data": {
      "text/html": [
       "<div>\n",
       "<style scoped>\n",
       "    .dataframe tbody tr th:only-of-type {\n",
       "        vertical-align: middle;\n",
       "    }\n",
       "\n",
       "    .dataframe tbody tr th {\n",
       "        vertical-align: top;\n",
       "    }\n",
       "\n",
       "    .dataframe thead th {\n",
       "        text-align: right;\n",
       "    }\n",
       "</style>\n",
       "<table border=\"1\" class=\"dataframe\">\n",
       "  <thead>\n",
       "    <tr style=\"text-align: right;\">\n",
       "      <th></th>\n",
       "      <th>WaDEUUID</th>\n",
       "      <th>in_Date</th>\n",
       "      <th>in_Year</th>\n",
       "      <th>in_OrganizationUUID</th>\n",
       "      <th>in_EPSGCodeCV</th>\n",
       "      <th>in_ReportingUnitName</th>\n",
       "      <th>in_ReportingUnitNativeID</th>\n",
       "      <th>in_ReportingUnitProductVersion</th>\n",
       "      <th>in_ReportingUnitTypeCV</th>\n",
       "      <th>in_ReportingUnitUpdateDate</th>\n",
       "      <th>in_StateCV</th>\n",
       "      <th>in_Geometry</th>\n",
       "      <th>in_OversightAgency</th>\n",
       "      <th>in_RegulatoryDescription</th>\n",
       "      <th>in_RegulatoryName</th>\n",
       "      <th>in_RegulatoryOverlayNativeID</th>\n",
       "      <th>in_RegulatoryStatusCV</th>\n",
       "      <th>in_RegulatoryStatute</th>\n",
       "      <th>in_RegulatoryStatuteLink</th>\n",
       "      <th>in_StatutoryEffectiveDate</th>\n",
       "      <th>in_StatutoryEndDate</th>\n",
       "      <th>in_RegulatoryOverlayTypeCV</th>\n",
       "      <th>in_WaterSourceTypeCV</th>\n",
       "    </tr>\n",
       "  </thead>\n",
       "  <tbody>\n",
       "    <tr>\n",
       "      <th>0</th>\n",
       "      <td>re0</td>\n",
       "      <td>8/2/2023</td>\n",
       "      <td>2023</td>\n",
       "      <td>WADOEre_01</td>\n",
       "      <td>4326</td>\n",
       "      <td>Pend Oreille</td>\n",
       "      <td>wa1</td>\n",
       "      <td></td>\n",
       "      <td>Water Resource Inventory Areas</td>\n",
       "      <td>2023-08-01</td>\n",
       "      <td>WA</td>\n",
       "      <td></td>\n",
       "      <td>Washington Department of Ecology</td>\n",
       "      <td>Our innovative partnerships sustain healthy la...</td>\n",
       "      <td>Pend Oreille</td>\n",
       "      <td>1</td>\n",
       "      <td>Active</td>\n",
       "      <td></td>\n",
       "      <td></td>\n",
       "      <td>1/1/1971</td>\n",
       "      <td></td>\n",
       "      <td>Water Resource Inventory Area</td>\n",
       "      <td>Surface Water</td>\n",
       "    </tr>\n",
       "    <tr>\n",
       "      <th>1</th>\n",
       "      <td>re1</td>\n",
       "      <td>8/2/2023</td>\n",
       "      <td>2023</td>\n",
       "      <td>WADOEre_01</td>\n",
       "      <td>4326</td>\n",
       "      <td>Upper Lake Roosevelt</td>\n",
       "      <td>wa2</td>\n",
       "      <td></td>\n",
       "      <td>Water Resource Inventory Areas</td>\n",
       "      <td>2023-08-01</td>\n",
       "      <td>WA</td>\n",
       "      <td></td>\n",
       "      <td>Washington Department of Ecology</td>\n",
       "      <td>Our innovative partnerships sustain healthy la...</td>\n",
       "      <td>Upper Lake Roosevelt</td>\n",
       "      <td>2</td>\n",
       "      <td>Active</td>\n",
       "      <td></td>\n",
       "      <td></td>\n",
       "      <td>1/1/1971</td>\n",
       "      <td></td>\n",
       "      <td>Water Resource Inventory Area</td>\n",
       "      <td>Surface Water</td>\n",
       "    </tr>\n",
       "    <tr>\n",
       "      <th>2</th>\n",
       "      <td>re2</td>\n",
       "      <td>8/2/2023</td>\n",
       "      <td>2023</td>\n",
       "      <td>WADOEre_01</td>\n",
       "      <td>4326</td>\n",
       "      <td>Nooksack</td>\n",
       "      <td>wa3</td>\n",
       "      <td></td>\n",
       "      <td>Water Resource Inventory Areas</td>\n",
       "      <td>2023-08-01</td>\n",
       "      <td>WA</td>\n",
       "      <td></td>\n",
       "      <td>Washington Department of Ecology</td>\n",
       "      <td>Our innovative partnerships sustain healthy la...</td>\n",
       "      <td>Nooksack</td>\n",
       "      <td>3</td>\n",
       "      <td>Active</td>\n",
       "      <td></td>\n",
       "      <td></td>\n",
       "      <td>1/1/1971</td>\n",
       "      <td></td>\n",
       "      <td>Water Resource Inventory Area</td>\n",
       "      <td>Surface Water</td>\n",
       "    </tr>\n",
       "    <tr>\n",
       "      <th>3</th>\n",
       "      <td>re3</td>\n",
       "      <td>8/2/2023</td>\n",
       "      <td>2023</td>\n",
       "      <td>WADOEre_01</td>\n",
       "      <td>4326</td>\n",
       "      <td>Kettle</td>\n",
       "      <td>wa4</td>\n",
       "      <td></td>\n",
       "      <td>Water Resource Inventory Areas</td>\n",
       "      <td>2023-08-01</td>\n",
       "      <td>WA</td>\n",
       "      <td></td>\n",
       "      <td>Washington Department of Ecology</td>\n",
       "      <td>Our innovative partnerships sustain healthy la...</td>\n",
       "      <td>Kettle</td>\n",
       "      <td>4</td>\n",
       "      <td>Active</td>\n",
       "      <td></td>\n",
       "      <td></td>\n",
       "      <td>1/1/1971</td>\n",
       "      <td></td>\n",
       "      <td>Water Resource Inventory Area</td>\n",
       "      <td>Surface Water</td>\n",
       "    </tr>\n",
       "    <tr>\n",
       "      <th>4</th>\n",
       "      <td>re4</td>\n",
       "      <td>8/2/2023</td>\n",
       "      <td>2023</td>\n",
       "      <td>WADOEre_01</td>\n",
       "      <td>4326</td>\n",
       "      <td>Okanogan</td>\n",
       "      <td>wa5</td>\n",
       "      <td></td>\n",
       "      <td>Water Resource Inventory Areas</td>\n",
       "      <td>2023-08-01</td>\n",
       "      <td>WA</td>\n",
       "      <td></td>\n",
       "      <td>Washington Department of Ecology</td>\n",
       "      <td>Our innovative partnerships sustain healthy la...</td>\n",
       "      <td>Okanogan</td>\n",
       "      <td>5</td>\n",
       "      <td>Active</td>\n",
       "      <td></td>\n",
       "      <td></td>\n",
       "      <td>1/1/1971</td>\n",
       "      <td></td>\n",
       "      <td>Water Resource Inventory Area</td>\n",
       "      <td>Surface Water</td>\n",
       "    </tr>\n",
       "  </tbody>\n",
       "</table>\n",
       "</div>"
      ],
      "text/plain": [
       "  WaDEUUID   in_Date in_Year in_OrganizationUUID in_EPSGCodeCV  \\\n",
       "0      re0  8/2/2023    2023          WADOEre_01          4326   \n",
       "1      re1  8/2/2023    2023          WADOEre_01          4326   \n",
       "2      re2  8/2/2023    2023          WADOEre_01          4326   \n",
       "3      re3  8/2/2023    2023          WADOEre_01          4326   \n",
       "4      re4  8/2/2023    2023          WADOEre_01          4326   \n",
       "\n",
       "   in_ReportingUnitName in_ReportingUnitNativeID  \\\n",
       "0          Pend Oreille                      wa1   \n",
       "1  Upper Lake Roosevelt                      wa2   \n",
       "2              Nooksack                      wa3   \n",
       "3                Kettle                      wa4   \n",
       "4              Okanogan                      wa5   \n",
       "\n",
       "  in_ReportingUnitProductVersion          in_ReportingUnitTypeCV  \\\n",
       "0                                 Water Resource Inventory Areas   \n",
       "1                                 Water Resource Inventory Areas   \n",
       "2                                 Water Resource Inventory Areas   \n",
       "3                                 Water Resource Inventory Areas   \n",
       "4                                 Water Resource Inventory Areas   \n",
       "\n",
       "  in_ReportingUnitUpdateDate in_StateCV in_Geometry  \\\n",
       "0                 2023-08-01         WA               \n",
       "1                 2023-08-01         WA               \n",
       "2                 2023-08-01         WA               \n",
       "3                 2023-08-01         WA               \n",
       "4                 2023-08-01         WA               \n",
       "\n",
       "                 in_OversightAgency  \\\n",
       "0  Washington Department of Ecology   \n",
       "1  Washington Department of Ecology   \n",
       "2  Washington Department of Ecology   \n",
       "3  Washington Department of Ecology   \n",
       "4  Washington Department of Ecology   \n",
       "\n",
       "                            in_RegulatoryDescription     in_RegulatoryName  \\\n",
       "0  Our innovative partnerships sustain healthy la...          Pend Oreille   \n",
       "1  Our innovative partnerships sustain healthy la...  Upper Lake Roosevelt   \n",
       "2  Our innovative partnerships sustain healthy la...              Nooksack   \n",
       "3  Our innovative partnerships sustain healthy la...                Kettle   \n",
       "4  Our innovative partnerships sustain healthy la...              Okanogan   \n",
       "\n",
       "   in_RegulatoryOverlayNativeID in_RegulatoryStatusCV in_RegulatoryStatute  \\\n",
       "0                             1                Active                        \n",
       "1                             2                Active                        \n",
       "2                             3                Active                        \n",
       "3                             4                Active                        \n",
       "4                             5                Active                        \n",
       "\n",
       "  in_RegulatoryStatuteLink in_StatutoryEffectiveDate in_StatutoryEndDate  \\\n",
       "0                                           1/1/1971                       \n",
       "1                                           1/1/1971                       \n",
       "2                                           1/1/1971                       \n",
       "3                                           1/1/1971                       \n",
       "4                                           1/1/1971                       \n",
       "\n",
       "      in_RegulatoryOverlayTypeCV in_WaterSourceTypeCV  \n",
       "0  Water Resource Inventory Area        Surface Water  \n",
       "1  Water Resource Inventory Area        Surface Water  \n",
       "2  Water Resource Inventory Area        Surface Water  \n",
       "3  Water Resource Inventory Area        Surface Water  \n",
       "4  Water Resource Inventory Area        Surface Water  "
      ]
     },
     "execution_count": 4,
     "metadata": {},
     "output_type": "execute_result"
    }
   ],
   "source": [
    "# create output for Regulatory Area #1 dataframe\n",
    "df = pd.DataFrame()\n",
    "\n",
    "# Data Assessment UUID\n",
    "df['WaDEUUID'] = dfin1['WaDEUUID']\n",
    "\n",
    "# Date Info\n",
    "df['in_Date'] = \"8/2/2023\"\n",
    "df['in_Year'] = \"2023\"\n",
    "\n",
    "# Organization Info\n",
    "df['in_OrganizationUUID'] = \"WDOEre_O1\"\n",
    "\n",
    "# ReportingUnit Info\n",
    "df['in_EPSGCodeCV'] = \"4326\"\n",
    "df['in_ReportingUnitName'] = dfin1[\"WRIA_NM\"]\n",
    "df['in_ReportingUnitNativeID'] = \"wa\" + dfin1[\"OBJECTID\"].astype(str)\n",
    "df['in_ReportingUnitProductVersion'] = \"\"\n",
    "df['in_ReportingUnitTypeCV'] = \"Water Resource Inventory Areas\"\n",
    "df['in_ReportingUnitUpdateDate'] = dfin1[\"last_edi_1\"]\n",
    "df['in_StateCV'] = \"WA\"\n",
    "df['in_Geometry'] = \"\"\n",
    "\n",
    "# RegulatoryOverlay Info\n",
    "df['in_OversightAgency'] = \"Washington Department of Ecology\"\n",
    "df['in_RegulatoryDescription'] = \"Our innovative partnerships sustain healthy land, air, and water in harmony with a strong economy.\"\n",
    "df['in_RegulatoryName'] = dfin1[\"WRIA_NM\"]\n",
    "df['in_RegulatoryOverlayNativeID'] = dfin1[\"OBJECTID\"]\n",
    "df['in_RegulatoryStatusCV'] = \"Active\"\n",
    "df['in_RegulatoryStatute'] = \"\"\n",
    "df['in_RegulatoryStatuteLink'] =\"\"\n",
    "df['in_StatutoryEffectiveDate'] = \"1/1/1971\"\n",
    "df['in_StatutoryEndDate'] = \"\"\n",
    "df['in_RegulatoryOverlayTypeCV'] = \"Water Resource Inventory Area\"\n",
    "df['in_WaterSourceTypeCV'] = \"Surface Water\"\n",
    "\n",
    "df = df.drop_duplicates().reset_index(drop=True)\n",
    "outdf1 = df.copy()\n",
    "print(len(outdf1))\n",
    "outdf1.head()"
   ]
  },
  {
   "cell_type": "markdown",
   "metadata": {},
   "source": [
    "## Regulatory Area #2"
   ]
  },
  {
   "cell_type": "code",
   "execution_count": null,
   "metadata": {},
   "outputs": [],
   "source": [
    "# etc etc,"
   ]
  },
  {
   "cell_type": "markdown",
   "metadata": {},
   "source": [
    "## Concatenate DataFrames together"
   ]
  },
  {
   "cell_type": "code",
   "execution_count": 5,
   "metadata": {},
   "outputs": [
    {
     "name": "stdout",
     "output_type": "stream",
     "text": [
      "62\n"
     ]
    }
   ],
   "source": [
    "# Concatenate dataframes\n",
    "frames = [outdf1] # list all out dataframes here\n",
    "outdf = pd.concat(frames)\n",
    "outdf = outdf.drop_duplicates().reset_index(drop=True).replace(np.nan, \"\")\n",
    "print(len(outdf))"
   ]
  },
  {
   "cell_type": "markdown",
   "metadata": {},
   "source": [
    "## Clean Data / data types"
   ]
  },
  {
   "cell_type": "code",
   "execution_count": 6,
   "metadata": {
    "scrolled": true
   },
   "outputs": [],
   "source": [
    "# Ensure Empty String / remove string value of \"nan\"\n",
    "\n",
    "def ensureEmptyString(val):\n",
    "    val = str(val).strip()\n",
    "    if val == \"\" or val == \" \" or val == \"nan\" or pd.isnull(val):\n",
    "        outString = \"\"\n",
    "    else:\n",
    "        outString = val\n",
    "    return outString"
   ]
  },
  {
   "cell_type": "code",
   "execution_count": 7,
   "metadata": {},
   "outputs": [
    {
     "data": {
      "text/plain": [
       "array(['Pend Oreille', 'Upper Lake Roosevelt', 'Nooksack', 'Kettle',\n",
       "       'Okanogan', 'Upper Skagit', 'Methow', 'San Juan', 'Colville',\n",
       "       'Sanpoil', 'Lower Skagit - Samish', 'Middle Lake Roosevelt',\n",
       "       'Lyre - Hoko', 'Chelan', 'Soleduc', 'Stillaguamish', 'Island',\n",
       "       'Nespelem', 'Quilcene - Snow', 'Elwha - Dungeness', 'Foster',\n",
       "       'Little Spokane', 'Middle Spokane', 'Wenatchee', 'Entiat',\n",
       "       'Lower Spokane', 'Lower Lake Roosevelt', 'Grand Coulee', 'Kitsap',\n",
       "       'Upper Crab-Wilson', 'Skokomish - Dosewallips', 'Moses Coulee',\n",
       "       'Queets - Quinault', 'Hangman', 'Palouse', 'Upper Yakima',\n",
       "       'Lower Chehalis', 'Kennedy - Goldsborough', 'Lower Crab',\n",
       "       'Alkali - Squilchuck', 'Chambers - Clover', 'Deschutes', 'Naches',\n",
       "       'Nisqually', 'Upper Chehalis', 'Willapa', 'Esquatzel Coulee',\n",
       "       'Middle Snake', 'Cowlitz', 'Lower Snake', 'Lower Yakima',\n",
       "       'Grays - Elochoman', 'Walla Walla', 'Klickitat', 'Lewis',\n",
       "       'Rock - Glade', 'Wind - White Salmon', 'Salmon - Washougal',\n",
       "       'Snohomish', 'Cedar - Sammamish', 'Duwamish - Green',\n",
       "       'Puyallup - White'], dtype=object)"
      ]
     },
     "execution_count": 7,
     "metadata": {},
     "output_type": "execute_result"
    }
   ],
   "source": [
    "outdf['in_ReportingUnitName'] = df.apply(lambda row: ensureEmptyString(row['in_ReportingUnitName']), axis=1)\n",
    "outdf['in_ReportingUnitName'].unique()"
   ]
  },
  {
   "cell_type": "code",
   "execution_count": 8,
   "metadata": {},
   "outputs": [
    {
     "data": {
      "text/plain": [
       "array(['Our innovative partnerships sustain healthy land, air, and water in harmony with a strong economy.'],\n",
       "      dtype=object)"
      ]
     },
     "execution_count": 8,
     "metadata": {},
     "output_type": "execute_result"
    }
   ],
   "source": [
    "outdf['in_RegulatoryDescription'] = df.apply(lambda row: ensureEmptyString(row['in_RegulatoryDescription']), axis=1)\n",
    "outdf['in_RegulatoryDescription'].unique()"
   ]
  },
  {
   "cell_type": "code",
   "execution_count": 10,
   "metadata": {},
   "outputs": [
    {
     "data": {
      "text/plain": [
       "array(['Pend Oreille', 'Upper Lake Roosevelt', 'Nooksack', 'Kettle',\n",
       "       'Okanogan', 'Upper Skagit', 'Methow', 'San Juan', 'Colville',\n",
       "       'Sanpoil', 'Lower Skagit - Samish', 'Middle Lake Roosevelt',\n",
       "       'Lyre - Hoko', 'Chelan', 'Soleduc', 'Stillaguamish', 'Island',\n",
       "       'Nespelem', 'Quilcene - Snow', 'Elwha - Dungeness', 'Foster',\n",
       "       'Little Spokane', 'Middle Spokane', 'Wenatchee', 'Entiat',\n",
       "       'Lower Spokane', 'Lower Lake Roosevelt', 'Grand Coulee', 'Kitsap',\n",
       "       'Upper Crab-Wilson', 'Skokomish - Dosewallips', 'Moses Coulee',\n",
       "       'Queets - Quinault', 'Hangman', 'Palouse', 'Upper Yakima',\n",
       "       'Lower Chehalis', 'Kennedy - Goldsborough', 'Lower Crab',\n",
       "       'Alkali - Squilchuck', 'Chambers - Clover', 'Deschutes', 'Naches',\n",
       "       'Nisqually', 'Upper Chehalis', 'Willapa', 'Esquatzel Coulee',\n",
       "       'Middle Snake', 'Cowlitz', 'Lower Snake', 'Lower Yakima',\n",
       "       'Grays - Elochoman', 'Walla Walla', 'Klickitat', 'Lewis',\n",
       "       'Rock - Glade', 'Wind - White Salmon', 'Salmon - Washougal',\n",
       "       'Snohomish', 'Cedar - Sammamish', 'Duwamish - Green',\n",
       "       'Puyallup - White'], dtype=object)"
      ]
     },
     "execution_count": 10,
     "metadata": {},
     "output_type": "execute_result"
    }
   ],
   "source": [
    "outdf['in_RegulatoryName'] = df.apply(lambda row: ensureEmptyString(row['in_RegulatoryName']), axis=1)\n",
    "outdf['in_RegulatoryName'].unique()"
   ]
  },
  {
   "cell_type": "code",
   "execution_count": 9,
   "metadata": {},
   "outputs": [
    {
     "data": {
      "text/plain": [
       "array(['1971-01-01T00:00:00.000000000'], dtype='datetime64[ns]')"
      ]
     },
     "execution_count": 9,
     "metadata": {},
     "output_type": "execute_result"
    }
   ],
   "source": [
    "#Update datatype of StatutoryEffectiveDate to fit WaDE 2.0 structure\n",
    "outdf['in_StatutoryEffectiveDate'] = pd.to_datetime(outdf['in_StatutoryEffectiveDate'], errors = 'coerce')\n",
    "outdf['in_StatutoryEffectiveDate'] = pd.to_datetime(outdf['in_StatutoryEffectiveDate'].dt.strftime('%m/%d/%Y'))\n",
    "outdf['in_StatutoryEffectiveDate'].unique()"
   ]
  },
  {
   "cell_type": "markdown",
   "metadata": {},
   "source": [
    "# Shapefile Data\n",
    "- For attaching geometry to reporting unit info."
   ]
  },
  {
   "cell_type": "markdown",
   "metadata": {},
   "source": [
    "#### Regulatory Area #1 shapefile info"
   ]
  },
  {
   "cell_type": "code",
   "execution_count": 11,
   "metadata": {},
   "outputs": [
    {
     "name": "stdout",
     "output_type": "stream",
     "text": [
      "62\n"
     ]
    },
    {
     "data": {
      "text/html": [
       "<div>\n",
       "<style scoped>\n",
       "    .dataframe tbody tr th:only-of-type {\n",
       "        vertical-align: middle;\n",
       "    }\n",
       "\n",
       "    .dataframe tbody tr th {\n",
       "        vertical-align: top;\n",
       "    }\n",
       "\n",
       "    .dataframe thead th {\n",
       "        text-align: right;\n",
       "    }\n",
       "</style>\n",
       "<table border=\"1\" class=\"dataframe\">\n",
       "  <thead>\n",
       "    <tr style=\"text-align: right;\">\n",
       "      <th></th>\n",
       "      <th>OBJECTID</th>\n",
       "      <th>WRIA_NR</th>\n",
       "      <th>WRIA_NM</th>\n",
       "      <th>WRIA_ID</th>\n",
       "      <th>WRIA_AREA_</th>\n",
       "      <th>GlobalID</th>\n",
       "      <th>created_us</th>\n",
       "      <th>created_da</th>\n",
       "      <th>last_edite</th>\n",
       "      <th>last_edi_1</th>\n",
       "      <th>SHAPE_Leng</th>\n",
       "      <th>SHAPE_Area</th>\n",
       "      <th>geometry</th>\n",
       "    </tr>\n",
       "  </thead>\n",
       "  <tbody>\n",
       "    <tr>\n",
       "      <th>0</th>\n",
       "      <td>1</td>\n",
       "      <td>62</td>\n",
       "      <td>Pend Oreille</td>\n",
       "      <td>1</td>\n",
       "      <td>789790.04298</td>\n",
       "      <td>{2E9243DC-FFB5-4F1F-ADC6-E1DBC845A9AE}</td>\n",
       "      <td>WAECY_Geoservices</td>\n",
       "      <td>2023-08-01</td>\n",
       "      <td>WAECY_Geoservices</td>\n",
       "      <td>2023-08-01</td>\n",
       "      <td>983139.52888</td>\n",
       "      <td>34404968924.90178</td>\n",
       "      <td>POLYGON ((-117.42955 49.00047, -117.42920 49.0...</td>\n",
       "    </tr>\n",
       "    <tr>\n",
       "      <th>1</th>\n",
       "      <td>2</td>\n",
       "      <td>61</td>\n",
       "      <td>Upper Lake Roosevelt</td>\n",
       "      <td>2</td>\n",
       "      <td>368826.08779</td>\n",
       "      <td>{F365ABB0-65A3-4611-BF97-1BA0C269E808}</td>\n",
       "      <td>WAECY_Geoservices</td>\n",
       "      <td>2023-08-01</td>\n",
       "      <td>WAECY_Geoservices</td>\n",
       "      <td>2023-08-01</td>\n",
       "      <td>743741.84071</td>\n",
       "      <td>16066805223.36566</td>\n",
       "      <td>POLYGON ((-118.06255 49.00021, -118.06184 49.0...</td>\n",
       "    </tr>\n",
       "    <tr>\n",
       "      <th>2</th>\n",
       "      <td>3</td>\n",
       "      <td>1</td>\n",
       "      <td>Nooksack</td>\n",
       "      <td>3</td>\n",
       "      <td>1036786.45950</td>\n",
       "      <td>{02195EB7-FEF4-457A-93E9-BA3964124A93}</td>\n",
       "      <td>WAECY_Geoservices</td>\n",
       "      <td>2023-08-01</td>\n",
       "      <td>WAECY_Geoservices</td>\n",
       "      <td>2023-08-01</td>\n",
       "      <td>1478104.96421</td>\n",
       "      <td>45163907493.73452</td>\n",
       "      <td>POLYGON ((-121.36438 48.87707, -121.36428 48.8...</td>\n",
       "    </tr>\n",
       "    <tr>\n",
       "      <th>3</th>\n",
       "      <td>4</td>\n",
       "      <td>60</td>\n",
       "      <td>Kettle</td>\n",
       "      <td>4</td>\n",
       "      <td>656426.12599</td>\n",
       "      <td>{C5196E1E-6FFE-40B5-BDB5-DE76FBA667FD}</td>\n",
       "      <td>WAECY_Geoservices</td>\n",
       "      <td>2023-08-01</td>\n",
       "      <td>WAECY_Geoservices</td>\n",
       "      <td>2023-08-01</td>\n",
       "      <td>966414.46891</td>\n",
       "      <td>28595381917.68454</td>\n",
       "      <td>POLYGON ((-119.15756 49.00008, -119.14248 49.0...</td>\n",
       "    </tr>\n",
       "    <tr>\n",
       "      <th>4</th>\n",
       "      <td>5</td>\n",
       "      <td>49</td>\n",
       "      <td>Okanogan</td>\n",
       "      <td>5</td>\n",
       "      <td>1342476.88228</td>\n",
       "      <td>{EA14957C-8D24-4048-B2DF-171659828838}</td>\n",
       "      <td>WAECY_Geoservices</td>\n",
       "      <td>2023-08-01</td>\n",
       "      <td>WAECY_Geoservices</td>\n",
       "      <td>2023-08-01</td>\n",
       "      <td>1443751.40210</td>\n",
       "      <td>58480792695.25362</td>\n",
       "      <td>POLYGON ((-119.15756 49.00008, -119.15767 48.9...</td>\n",
       "    </tr>\n",
       "  </tbody>\n",
       "</table>\n",
       "</div>"
      ],
      "text/plain": [
       "   OBJECTID  WRIA_NR               WRIA_NM  WRIA_ID    WRIA_AREA_  \\\n",
       "0         1       62          Pend Oreille        1  789790.04298   \n",
       "1         2       61  Upper Lake Roosevelt        2  368826.08779   \n",
       "2         3        1              Nooksack        3 1036786.45950   \n",
       "3         4       60                Kettle        4  656426.12599   \n",
       "4         5       49              Okanogan        5 1342476.88228   \n",
       "\n",
       "                                 GlobalID         created_us  created_da  \\\n",
       "0  {2E9243DC-FFB5-4F1F-ADC6-E1DBC845A9AE}  WAECY_Geoservices  2023-08-01   \n",
       "1  {F365ABB0-65A3-4611-BF97-1BA0C269E808}  WAECY_Geoservices  2023-08-01   \n",
       "2  {02195EB7-FEF4-457A-93E9-BA3964124A93}  WAECY_Geoservices  2023-08-01   \n",
       "3  {C5196E1E-6FFE-40B5-BDB5-DE76FBA667FD}  WAECY_Geoservices  2023-08-01   \n",
       "4  {EA14957C-8D24-4048-B2DF-171659828838}  WAECY_Geoservices  2023-08-01   \n",
       "\n",
       "          last_edite  last_edi_1    SHAPE_Leng        SHAPE_Area  \\\n",
       "0  WAECY_Geoservices  2023-08-01  983139.52888 34404968924.90178   \n",
       "1  WAECY_Geoservices  2023-08-01  743741.84071 16066805223.36566   \n",
       "2  WAECY_Geoservices  2023-08-01 1478104.96421 45163907493.73452   \n",
       "3  WAECY_Geoservices  2023-08-01  966414.46891 28595381917.68454   \n",
       "4  WAECY_Geoservices  2023-08-01 1443751.40210 58480792695.25362   \n",
       "\n",
       "                                            geometry  \n",
       "0  POLYGON ((-117.42955 49.00047, -117.42920 49.0...  \n",
       "1  POLYGON ((-118.06255 49.00021, -118.06184 49.0...  \n",
       "2  POLYGON ((-121.36438 48.87707, -121.36428 48.8...  \n",
       "3  POLYGON ((-119.15756 49.00008, -119.14248 49.0...  \n",
       "4  POLYGON ((-119.15756 49.00008, -119.15767 48.9...  "
      ]
     },
     "execution_count": 11,
     "metadata": {},
     "output_type": "execute_result"
    }
   ],
   "source": [
    "# Input File\n",
    "shapeInputFile = \"RawInputData/shapefiles/Water_Resource_Inventory_Areas_(WRIA)/WRIA.shp\"\n",
    "gdfin1 = gpd.read_file(shapeInputFile)\n",
    "\n",
    "# Realign Geometry Projection\n",
    "gdfin1['geometry'] = gdfin1['geometry'].to_crs(epsg=4326)\n",
    "\n",
    "print(len(gdfin1))\n",
    "gdfin1.head()"
   ]
  },
  {
   "cell_type": "code",
   "execution_count": 12,
   "metadata": {},
   "outputs": [
    {
     "data": {
      "text/plain": [
       "<AxesSubplot:>"
      ]
     },
     "execution_count": 12,
     "metadata": {},
     "output_type": "execute_result"
    },
    {
     "data": {
      "image/png": "[encoded data removed]",
      "text/plain": [
       "<Figure size 640x480 with 1 Axes>"
      ]
     },
     "metadata": {},
     "output_type": "display_data"
    }
   ],
   "source": [
    "# plot shape info to map\n",
    "gdfin1.plot()"
   ]
  },
  {
   "cell_type": "code",
   "execution_count": 13,
   "metadata": {},
   "outputs": [
    {
     "name": "stdout",
     "output_type": "stream",
     "text": [
      "62\n"
     ]
    },
    {
     "data": {
      "text/html": [
       "<div>\n",
       "<style scoped>\n",
       "    .dataframe tbody tr th:only-of-type {\n",
       "        vertical-align: middle;\n",
       "    }\n",
       "\n",
       "    .dataframe tbody tr th {\n",
       "        vertical-align: top;\n",
       "    }\n",
       "\n",
       "    .dataframe thead th {\n",
       "        text-align: right;\n",
       "    }\n",
       "</style>\n",
       "<table border=\"1\" class=\"dataframe\">\n",
       "  <thead>\n",
       "    <tr style=\"text-align: right;\">\n",
       "      <th></th>\n",
       "      <th>in_ReportingUnitNativeID</th>\n",
       "      <th>geometry</th>\n",
       "    </tr>\n",
       "  </thead>\n",
       "  <tbody>\n",
       "    <tr>\n",
       "      <th>0</th>\n",
       "      <td>wa1</td>\n",
       "      <td>POLYGON ((-117.42955 49.00047, -117.42920 49.0...</td>\n",
       "    </tr>\n",
       "    <tr>\n",
       "      <th>1</th>\n",
       "      <td>wa2</td>\n",
       "      <td>POLYGON ((-118.06255 49.00021, -118.06184 49.0...</td>\n",
       "    </tr>\n",
       "    <tr>\n",
       "      <th>2</th>\n",
       "      <td>wa3</td>\n",
       "      <td>POLYGON ((-121.36438 48.87707, -121.36428 48.8...</td>\n",
       "    </tr>\n",
       "    <tr>\n",
       "      <th>3</th>\n",
       "      <td>wa4</td>\n",
       "      <td>POLYGON ((-119.15756 49.00008, -119.14248 49.0...</td>\n",
       "    </tr>\n",
       "    <tr>\n",
       "      <th>4</th>\n",
       "      <td>wa5</td>\n",
       "      <td>POLYGON ((-119.15756 49.00008, -119.15767 48.9...</td>\n",
       "    </tr>\n",
       "  </tbody>\n",
       "</table>\n",
       "</div>"
      ],
      "text/plain": [
       "  in_ReportingUnitNativeID                                           geometry\n",
       "0                      wa1  POLYGON ((-117.42955 49.00047, -117.42920 49.0...\n",
       "1                      wa2  POLYGON ((-118.06255 49.00021, -118.06184 49.0...\n",
       "2                      wa3  POLYGON ((-121.36438 48.87707, -121.36428 48.8...\n",
       "3                      wa4  POLYGON ((-119.15756 49.00008, -119.14248 49.0...\n",
       "4                      wa5  POLYGON ((-119.15756 49.00008, -119.15767 48.9..."
      ]
     },
     "execution_count": 13,
     "metadata": {},
     "output_type": "execute_result"
    }
   ],
   "source": [
    "# create output for Regulatory Area #1 dataframe\n",
    "df = pd.DataFrame()\n",
    "\n",
    "columnsList = ['in_ReportingUnitNativeID', 'geometry']\n",
    "goutdf1 = pd.DataFrame(columns=columnsList, index=gdfin1.index)\n",
    "\n",
    "goutdf1['in_ReportingUnitNativeID'] = \"wa\" + gdfin1[\"OBJECTID\"].astype(str)  # in_ReportingUnitNativeID needs to match source from above equivlaent datframe\n",
    "goutdf1['geometry'] = gdfin1['geometry']\n",
    "goutdf1 = goutdf1.drop_duplicates().reset_index(drop=True)\n",
    "print(len(goutdf1))\n",
    "goutdf1.head()"
   ]
  },
  {
   "cell_type": "markdown",
   "metadata": {},
   "source": [
    "#### Regulatory Area #2 shapefile info"
   ]
  },
  {
   "cell_type": "code",
   "execution_count": 14,
   "metadata": {},
   "outputs": [],
   "source": [
    "# etc etc..."
   ]
  },
  {
   "cell_type": "markdown",
   "metadata": {},
   "source": [
    "#### Concatenate goutdf shapefile info into single output"
   ]
  },
  {
   "cell_type": "code",
   "execution_count": 15,
   "metadata": {},
   "outputs": [
    {
     "name": "stdout",
     "output_type": "stream",
     "text": [
      "62\n"
     ]
    },
    {
     "data": {
      "text/html": [
       "<div>\n",
       "<style scoped>\n",
       "    .dataframe tbody tr th:only-of-type {\n",
       "        vertical-align: middle;\n",
       "    }\n",
       "\n",
       "    .dataframe tbody tr th {\n",
       "        vertical-align: top;\n",
       "    }\n",
       "\n",
       "    .dataframe thead th {\n",
       "        text-align: right;\n",
       "    }\n",
       "</style>\n",
       "<table border=\"1\" class=\"dataframe\">\n",
       "  <thead>\n",
       "    <tr style=\"text-align: right;\">\n",
       "      <th></th>\n",
       "      <th>in_ReportingUnitNativeID</th>\n",
       "      <th>geometry</th>\n",
       "    </tr>\n",
       "  </thead>\n",
       "  <tbody>\n",
       "    <tr>\n",
       "      <th>0</th>\n",
       "      <td>wa1</td>\n",
       "      <td>POLYGON ((-117.42955 49.00047, -117.42920 49.0...</td>\n",
       "    </tr>\n",
       "    <tr>\n",
       "      <th>1</th>\n",
       "      <td>wa2</td>\n",
       "      <td>POLYGON ((-118.06255 49.00021, -118.06184 49.0...</td>\n",
       "    </tr>\n",
       "    <tr>\n",
       "      <th>2</th>\n",
       "      <td>wa3</td>\n",
       "      <td>POLYGON ((-121.36438 48.87707, -121.36428 48.8...</td>\n",
       "    </tr>\n",
       "    <tr>\n",
       "      <th>3</th>\n",
       "      <td>wa4</td>\n",
       "      <td>POLYGON ((-119.15756 49.00008, -119.14248 49.0...</td>\n",
       "    </tr>\n",
       "    <tr>\n",
       "      <th>4</th>\n",
       "      <td>wa5</td>\n",
       "      <td>POLYGON ((-119.15756 49.00008, -119.15767 48.9...</td>\n",
       "    </tr>\n",
       "  </tbody>\n",
       "</table>\n",
       "</div>"
      ],
      "text/plain": [
       "  in_ReportingUnitNativeID                                           geometry\n",
       "0                      wa1  POLYGON ((-117.42955 49.00047, -117.42920 49.0...\n",
       "1                      wa2  POLYGON ((-118.06255 49.00021, -118.06184 49.0...\n",
       "2                      wa3  POLYGON ((-121.36438 48.87707, -121.36428 48.8...\n",
       "3                      wa4  POLYGON ((-119.15756 49.00008, -119.14248 49.0...\n",
       "4                      wa5  POLYGON ((-119.15756 49.00008, -119.15767 48.9..."
      ]
     },
     "execution_count": 15,
     "metadata": {},
     "output_type": "execute_result"
    }
   ],
   "source": [
    "# Concatenate Basin & Subbasin DataFrames\n",
    "frames = [goutdf1] # add geoutdf dataframes here\n",
    "goutdf = pd.concat(frames).reset_index(drop=True)\n",
    "\n",
    "print(len(goutdf))\n",
    "goutdf.head()"
   ]
  },
  {
   "cell_type": "markdown",
   "metadata": {},
   "source": [
    "## Export Data"
   ]
  },
  {
   "cell_type": "code",
   "execution_count": 16,
   "metadata": {
    "scrolled": false
   },
   "outputs": [
    {
     "name": "stdout",
     "output_type": "stream",
     "text": [
      "WaDEUUID                                  object\n",
      "in_Date                                   object\n",
      "in_Year                                   object\n",
      "in_OrganizationUUID                       object\n",
      "in_EPSGCodeCV                             object\n",
      "in_ReportingUnitName                      object\n",
      "in_ReportingUnitNativeID                  object\n",
      "in_ReportingUnitProductVersion            object\n",
      "in_ReportingUnitTypeCV                    object\n",
      "in_ReportingUnitUpdateDate                object\n",
      "in_StateCV                                object\n",
      "in_Geometry                               object\n",
      "in_OversightAgency                        object\n",
      "in_RegulatoryDescription                  object\n",
      "in_RegulatoryName                         object\n",
      "in_RegulatoryOverlayNativeID               int64\n",
      "in_RegulatoryStatusCV                     object\n",
      "in_RegulatoryStatute                      object\n",
      "in_RegulatoryStatuteLink                  object\n",
      "in_StatutoryEffectiveDate         datetime64[ns]\n",
      "in_StatutoryEndDate                       object\n",
      "in_RegulatoryOverlayTypeCV                object\n",
      "in_WaterSourceTypeCV                      object\n",
      "dtype: object\n"
     ]
    }
   ],
   "source": [
    "with pd.option_context('display.max_rows', None, 'display.max_columns', None):\n",
    "    print(outdf.dtypes)"
   ]
  },
  {
   "cell_type": "code",
   "execution_count": 17,
   "metadata": {},
   "outputs": [
    {
     "name": "stdout",
     "output_type": "stream",
     "text": [
      "in_ReportingUnitNativeID      object\n",
      "geometry                    geometry\n",
      "dtype: object\n"
     ]
    }
   ],
   "source": [
    "with pd.option_context('display.max_rows', None, 'display.max_columns', None):\n",
    "    print(goutdf.dtypes)"
   ]
  },
  {
   "cell_type": "code",
   "execution_count": 19,
   "metadata": {},
   "outputs": [],
   "source": [
    "# Export out to CSV.\n",
    "outdf.to_csv('RawInputData/Pre_wdoeMain.zip', compression=dict(method='zip', archive_name='Pre_Main.csv'), index=False)  # The output, save as a zip\n",
    "goutdf.to_csv('RawInputData/P_Geometry.zip', compression=dict(method='zip', archive_name='P_Geometry.csv'), index=False)  # The output geometry."
   ]
  }
 ],
 "metadata": {
  "kernelspec": {
   "display_name": "Python 3 (ipykernel)",
   "language": "python",
   "name": "python3"
  },
  "language_info": {
   "codemirror_mode": {
    "name": "ipython",
    "version": 3
   },
   "file_extension": ".py",
   "mimetype": "text/x-python",
   "name": "python",
   "nbconvert_exporter": "python",
   "pygments_lexer": "ipython3",
   "version": "3.9.16"
  }
 },
 "nbformat": 4,
 "nbformat_minor": 4
}
