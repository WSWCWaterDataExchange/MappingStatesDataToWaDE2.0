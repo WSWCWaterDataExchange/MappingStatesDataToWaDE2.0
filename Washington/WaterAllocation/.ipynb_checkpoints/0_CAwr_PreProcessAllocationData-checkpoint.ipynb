{
 "cells": [
  {
   "cell_type": "markdown",
   "metadata": {},
   "source": [
    "# Pre-processing California Allocation data for WaDE upload.\n",
    "Purpose: To pre-process the California data into one master file for simple DataFrame creation and extraction"
   ]
  },
  {
   "cell_type": "code",
   "execution_count": null,
   "metadata": {},
   "outputs": [],
   "source": [
    "#Needed Libararies\n",
    "\n",
    "# working with data\n",
    "import os\n",
    "import numpy as np\n",
    "import pandas as pd\n",
    "import geopandas as gpd\n",
    "\n",
    "# visulizaiton\n",
    "import matplotlib.pyplot as plt\n",
    "import seaborn as sns\n",
    "\n",
    "# API retrieval\n",
    "import requests\n",
    "import json\n",
    "\n",
    "# Cleanup\n",
    "import re\n",
    "from datetime import datetime\n",
    "pd.set_option('display.max_columns', 999)  # How to display all columns of a Pandas DataFrame in Jupyter Notebook\n",
    "pd.set_option('display.float_format', lambda x: '%.5f' % x) # suppress scientific notation in Pandas"
   ]
  },
  {
   "cell_type": "code",
   "execution_count": null,
   "metadata": {},
   "outputs": [],
   "source": [
    "# Working Directory\n",
    "workingDir = \"G:/Shared drives/WaDE Data/California/WaterAllocation/RawInputData\"\n",
    "os.chdir(workingDir)"
   ]
  },
  {
   "cell_type": "markdown",
   "metadata": {},
   "source": [
    "## Import Input Data"
   ]
  },
  {
   "cell_type": "code",
   "execution_count": null,
   "metadata": {},
   "outputs": [],
   "source": [
    "# POD Data\n",
    "fileInput = \"ewrims_flat_file_pod.zip\"\n",
    "dfinPOD = pd.read_csv(fileInput, compression='zip')\n",
    "\n",
    "# WaDE UUID tracker for data assessment\n",
    "if 'WaDEUUID' not in dfinPOD:\n",
    "    dfinPOD['WaDEUUID'] = \"caD\" + dfinPOD.index.astype(str)\n",
    "    dfinPOD.to_csv('ewrims_flat_file_pod.zip', compression=dict(method='zip', archive_name='ewrims_flat_file_pod.csv'), index=False)\n",
    "\n",
    "print(len(dfinPOD))\n",
    "dfinPOD.head(1)"
   ]
  },
  {
   "cell_type": "code",
   "execution_count": null,
   "metadata": {},
   "outputs": [],
   "source": [
    "# Clean data a little\n",
    "dfinPOD = dfinPOD.fillna(\"\") # remove nan values\n",
    "dfinPOD['USE_DIRECT_DIVERSION_RATE'] = pd.to_numeric(dfinPOD['USE_DIRECT_DIVERSION_RATE'], errors='coerce').fillna(0) # make sure this is numeric.\n",
    "print(len(dfinPOD))\n",
    "dfinPOD.head(1)"
   ]
  },
  {
   "cell_type": "code",
   "execution_count": null,
   "metadata": {},
   "outputs": [],
   "source": [
    "# Create VariableSpecificCv value\n",
    "def createVariableSpecificCv(unit):\n",
    "    outString = \"\"\n",
    "    if unit == \"Cubic Feet per Second\":\n",
    "        outString = \"CAwr_V1\"\n",
    "    if unit == \"Gallons per Day\":\n",
    "        outString = \"CAwr_V1\"\n",
    "    if unit == \"Acre-feet per Year\":\n",
    "        outString = \"CAwr_V1\"\n",
    "    if unit == \"Gallons per Minute\":\n",
    "        outString = \"CAwr_V1\"\n",
    "    if unit == 'Acre-feet':\n",
    "        outString = \"CAwr_V2\"\n",
    "    if unit == 'Gallons':\n",
    "        outString = \"CAwr_V2\"\n",
    "    else:\n",
    "        outString = \"CAwr_V1\"\n",
    "\n",
    "    return(outString)\n",
    "\n",
    "dfinPOD['in_VariableSpecificUUID'] = dfinPOD.apply(lambda row: createVariableSpecificCv(row['USE_DIRECT_DIV_RATE_UNITS']), axis=1)\n",
    "dfinPOD['in_VariableSpecificUUID'].unique()"
   ]
  },
  {
   "cell_type": "code",
   "execution_count": null,
   "metadata": {},
   "outputs": [],
   "source": [
    "# convert all flow values to CFS\n",
    "def convertFlowFunc(val, unit):\n",
    "    CFS_Value = None\n",
    "    if unit == \"Cubic Feet per Second\":\n",
    "        CFS_Value = val\n",
    "    if unit == \"Gallons per Day\":\n",
    "        CFS_Value = val / (646316.883)\n",
    "    if unit == \"Acre-feet per Year\":\n",
    "        CFS_Value = val / (723.968)\n",
    "    if unit == \"Gallons per Minute\":\n",
    "        CFS_Value = val / (448.83117)\n",
    "    return(CFS_Value)\n",
    "\n",
    "dfinPOD['CFS_Value'] = dfinPOD.apply(lambda row: convertFlowFunc(row['USE_DIRECT_DIVERSION_RATE'], row['USE_DIRECT_DIV_RATE_UNITS']), axis=1)\n",
    "dfinPOD['CFS_Value'].unique()"
   ]
  },
  {
   "cell_type": "code",
   "execution_count": null,
   "metadata": {},
   "outputs": [],
   "source": [
    "# convert all volume values to AF\n",
    "def convertVolumeFunc(val, unit):\n",
    "    AF_Value = None\n",
    "    if unit == 'Acre-feet':\n",
    "        AF_Value = val\n",
    "    if unit == 'Gallons':\n",
    "        AF_Value = val / (325850.943)\n",
    "    return(AF_Value)\n",
    "\n",
    "dfinPOD['AF_Value'] = dfinPOD.apply(lambda row: convertVolumeFunc(row['USE_DIRECT_DIVERSION_RATE'], row['USE_DIRECT_DIV_RATE_UNITS']), axis=1)\n",
    "dfinPOD['AF_Value'].unique()"
   ]
  },
  {
   "cell_type": "markdown",
   "metadata": {},
   "source": [
    "## POD Sites Data"
   ]
  },
  {
   "cell_type": "code",
   "execution_count": null,
   "metadata": {},
   "outputs": [],
   "source": [
    "# create output POD dataframe\n",
    "df = pd.DataFrame()\n",
    "\n",
    "# Data Assessment UUID\n",
    "df['WaDEUUID'] = dfinPOD['WaDEUUID']\n",
    "\n",
    "# WaterSource Info\n",
    "df['in_Geometry'] = \"\"\n",
    "df['in_GNISFeatureNameCV'] = \"\"\n",
    "df['in_WaterQualityIndicatorCV'] = \"\"\n",
    "df['in_WaterSourceName'] = dfinPOD['SOURCE_NAME']\n",
    "df['in_WaterSourceNativeID'] = \"\" # create customID for temp solution\n",
    "df['in_WaterSourceTypeCV'] = dfinPOD['SOURCE_TYPE']\n",
    "\n",
    "# Site Info\n",
    "df['in_RegulatoryOverlayUUIDs'] = \"\"\n",
    "df['in_WaterSourceUUID'] = \"\" # ???\n",
    "df['in_CoordinateAccuracy'] = \"\"\n",
    "df['in_CoordinateMethodCV'] = dfinPOD['LOCATION_METHOD']\n",
    "df['in_County'] = dfinPOD['COUNTY']\n",
    "df['in_EPSGCodeCV'] = 4326\n",
    "df['in_Geometry'] = \"\"\n",
    "df['in_GNISCodeCV'] = \"\"\n",
    "df['in_HUC12'] = dfinPOD['HUC_12_NUMBER']\n",
    "df['in_HUC8'] = dfinPOD['HUC_8_NUMBER']\n",
    "df['in_Latitude'] = dfinPOD['LATITUDE']\n",
    "df['in_Longitude'] = dfinPOD['LONGITUDE']\n",
    "df['in_NHDNetworkStatusCV'] = \"\"\n",
    "df['in_NHDProductCV'] = \"\"\n",
    "df['in_PODorPOUSite'] = \"POD\"\n",
    "df['in_SiteName'] = dfinPOD['POD_NAME']\n",
    "df['in_SiteNativeID'] = dfinPOD['POD_ID'].astype(str)\n",
    "df['in_SitePoint'] = \"\"\n",
    "df['in_SiteTypeCV'] = dfinPOD['POD_TYPE'].astype(str)\n",
    "df['in_StateCV'] = \"CA\"\n",
    "df['in_USGSSiteID'] = \"\"\n",
    "\n",
    "# AllocationAmount Info\n",
    "df['in_VariableSpecificUUID'] =  dfinPOD['in_VariableSpecificUUID']\n",
    "df['in_AllocationApplicationDate'] = dfinPOD['APPLICATION_RECD_DATE']\n",
    "df['in_AllocationAssociatedConsumptiveUseSiteIDs'] = \"\"\n",
    "df['in_AllocationAssociatedWithdrawalSiteIDs'] = \"\"\n",
    "df['in_AllocationBasisCV'] = \"\"\n",
    "df['in_AllocationChangeApplicationIndicator'] = \"\"\n",
    "df['in_AllocationCommunityWaterSupplySystem'] = \"\"\n",
    "df['in_AllocationCropDutyAmount'] = \"\"\n",
    "df['in_AllocationExpirationDate'] = \"\"\n",
    "df['in_AllocationFlow_CFS'] = dfinPOD['CFS_Value'].astype(float) # see above for conversion\n",
    "df['in_AllocationLegalStatusCV'] = dfinPOD['WATER_RIGHT_STATUS']\n",
    "df['in_AllocationNativeID'] =  dfinPOD['APPLICATION_NUMBER']\n",
    "df['in_AllocationOwner'] = dfinPOD['PRIMARY_OWNER_NAME']\n",
    "df['in_AllocationPriorityDate'] = dfinPOD['PRIORITY_DATE']\n",
    "df['in_AllocationTimeframeEnd'] = dfinPOD['DIRECT_DIV_SEASON_END']\n",
    "df['in_AllocationTimeframeStart'] = dfinPOD['DIRECT_DIV_SEASON_START']\n",
    "df['in_AllocationTypeCV'] = dfinPOD['WATER_RIGHT_TYPE'].astype(str) +\"_\" + dfinPOD['SUB_TYPE'].astype(str)\n",
    "df['in_AllocationVolume_AF'] = dfinPOD['AF_Value'].astype(float) # see above for conversion\n",
    "df['in_BeneficialUseCategory'] = dfinPOD['USE_CODE']\n",
    "df['in_CommunityWaterSupplySystem'] = \"\"\n",
    "df['in_CropTypeCV'] = \"\"\n",
    "df['in_CustomerTypeCV'] = \"\"\n",
    "df['in_DataPublicationDate'] = \"\"\n",
    "df['in_DataPublicationDOI'] = \"\"\n",
    "df['in_ExemptOfVolumeFlowPriority'] = 0\n",
    "df['in_GeneratedPowerCapacityMW'] = \"\"\n",
    "#df['in_IrrigatedAcreage'] = dfinPOD['USE_NET_ACREAGE'] ##\n",
    "df['in_IrrigatedAcreage'] = \"\"\n",
    "df['in_IrrigationMethodCV'] = \"\"\n",
    "df['in_LegacyAllocationIDs'] = \"\"\n",
    "df['in_OwnerClassificationCV'] = \"\"\n",
    "#df['in_PopulationServed'] = dfinPOD['USE_POPULATION']\n",
    "df['in_PopulationServed'] = \"\"\n",
    "df['in_PowerType'] = \"\"\n",
    "df['in_PrimaryBeneficialUseCategory'] = \"\"\n",
    "df['in_SDWISIdentifierCV'] = \"\"\n",
    "# df['in_WaterAllocationNativeURL'] = \"https://ciwqs.waterboards.ca.gov/ciwqs/ewrims/EWServlet?OWASP_CSRFTOKEN=2F29-W6H3-FM0Y-I9W5-P5G3-W5MG-VN8J-1DL2&Page_From=EWWaterRightPublicSearch.jsp&Redirect_Page=EWWaterRightPublicSearchResults.jsp&Object_Expected=EwrimsSearchResult&Object_Created=EwrimsSearch&Object_Criteria=&Purpose=&subTypeCourtAdjSpec=&subTypeOtherSpec=&appNumber=\" + dfinPOD['APPLICATION_NUMBER'].astype(str)\n",
    "df['in_WaterAllocationNativeURL'] = \"\"\n",
    "\n",
    "print(len(df))\n",
    "df.head()"
   ]
  },
  {
   "cell_type": "code",
   "execution_count": null,
   "metadata": {},
   "outputs": [],
   "source": [
    "# Concatenate dataframes\n",
    "frames = [df] # add dataframes here\n",
    "outdf = pd.concat(frames)\n",
    "outdf = outdf.drop_duplicates().reset_index(drop=True).replace(np.nan, \"\")\n",
    "print(len(outdf))"
   ]
  },
  {
   "cell_type": "markdown",
   "metadata": {},
   "source": [
    "## Clean output dataframes"
   ]
  },
  {
   "cell_type": "code",
   "execution_count": null,
   "metadata": {},
   "outputs": [],
   "source": [
    "# Fixing empty string names\n",
    "\n",
    "def fixEmptyString(val):\n",
    "    val = str(val).strip()\n",
    "    if val == \"\" or val == \" \" or pd.isnull(val):\n",
    "        outString = \"WaDE Unspecified\"\n",
    "    else:\n",
    "        outString = val\n",
    "    return outString"
   ]
  },
  {
   "cell_type": "code",
   "execution_count": null,
   "metadata": {},
   "outputs": [],
   "source": [
    "outdf['in_WaterSourceName'] = df.apply(lambda row: fixEmptyString(row['in_WaterSourceName']), axis=1)\n",
    "outdf['in_WaterSourceName'].unique()"
   ]
  },
  {
   "cell_type": "code",
   "execution_count": null,
   "metadata": {},
   "outputs": [],
   "source": [
    "outdf['in_WaterSourceTypeCV'] = df.apply(lambda row: fixEmptyString(row['in_WaterSourceTypeCV']), axis=1)\n",
    "outdf['in_WaterSourceTypeCV'].unique()"
   ]
  },
  {
   "cell_type": "code",
   "execution_count": null,
   "metadata": {},
   "outputs": [],
   "source": [
    "outdf['in_CoordinateMethodCV'] = df.apply(lambda row: fixEmptyString(row['in_CoordinateMethodCV']), axis=1)\n",
    "outdf['in_CoordinateMethodCV'].unique()"
   ]
  },
  {
   "cell_type": "code",
   "execution_count": null,
   "metadata": {},
   "outputs": [],
   "source": [
    "outdf['in_SiteName'] = df.apply(lambda row: fixEmptyString(row['in_SiteName']), axis=1)\n",
    "outdf['in_SiteName'].unique()"
   ]
  },
  {
   "cell_type": "code",
   "execution_count": null,
   "metadata": {},
   "outputs": [],
   "source": [
    "outdf['in_SiteTypeCV'] = df.apply(lambda row: fixEmptyString(row['in_SiteTypeCV']), axis=1)\n",
    "outdf['in_SiteTypeCV'].unique()"
   ]
  },
  {
   "cell_type": "code",
   "execution_count": null,
   "metadata": {},
   "outputs": [],
   "source": [
    "# Clean owner name up\n",
    "def cleanOwnerDataFunc(Val):\n",
    "    Val = re.sub(\"[$@&.;,/\\)(-]\", \"\", Val).strip()\n",
    "    return Val\n",
    "outdf['in_AllocationOwner'] = outdf.apply(lambda row: cleanOwnerDataFunc(row['in_AllocationOwner']), axis=1)\n",
    "outdf['in_AllocationOwner'].unique()"
   ]
  },
  {
   "cell_type": "code",
   "execution_count": null,
   "metadata": {},
   "outputs": [],
   "source": [
    "# Clean Up AllocationTypeCV\n",
    "# will remove below...\n",
    "\n",
    "def assignAllocationTypeCV(val):\n",
    "    val = str(val).strip()\n",
    "    val = val.rstrip('_') # remove trailing \"_\"\n",
    "    val = val.rstrip(',') # remove trailing \"_\" # remove trailing commas\n",
    "    if val == \"\" or pd.isnull(val):\n",
    "        outString = \"WaDE_Unspecified\"\n",
    "    else:\n",
    "        outString = val\n",
    "    return outString\n",
    "\n",
    "outdf['in_AllocationTypeCV'] = outdf.apply(lambda row: assignAllocationTypeCV(row['in_AllocationTypeCV']), axis=1)\n",
    "outdf['in_AllocationTypeCV'].unique()"
   ]
  },
  {
   "cell_type": "code",
   "execution_count": null,
   "metadata": {},
   "outputs": [],
   "source": [
    "outdf['in_AllocationLegalStatusCV'] = outdf.apply(lambda row: fixEmptyString(row['in_AllocationLegalStatusCV']), axis=1)\n",
    "outdf['in_AllocationLegalStatusCV'].unique()"
   ]
  },
  {
   "cell_type": "code",
   "execution_count": null,
   "metadata": {},
   "outputs": [],
   "source": [
    "# ExemptOfVolumeFlowPriority\n",
    "# check for keywrods 'RIPERIAN', 'PRE1914', or 'Statement of Div and Use' in AllocationTypeCV\n",
    "def assignExemptOfVolumeFlowPriority(valString):\n",
    "    valString = str(valString).strip()\n",
    "    testList = ['RIPERIAN', 'PRE1914', 'Statement of Div and Use']\n",
    "    checkStr = any(ele in valString for ele in testList)\n",
    "    if checkStr == True:\n",
    "        outString = \"1\"\n",
    "    else:\n",
    "        outString = \"0\"\n",
    "    return outString\n",
    "\n",
    "outdf['in_ExemptOfVolumeFlowPriority'] = outdf.apply(lambda row: assignExemptOfVolumeFlowPriority(row['in_AllocationTypeCV']), axis=1)\n",
    "outdf['in_ExemptOfVolumeFlowPriority'].unique()"
   ]
  },
  {
   "cell_type": "code",
   "execution_count": null,
   "metadata": {},
   "outputs": [],
   "source": [
    "# Fixing in_AllocationFlow_CFS datatype\n",
    "outdf['in_AllocationFlow_CFS'] = pd.to_numeric(outdf['in_AllocationFlow_CFS'], errors='coerce').fillna(0)\n",
    "outdf['in_AllocationFlow_CFS'].unique()"
   ]
  },
  {
   "cell_type": "code",
   "execution_count": null,
   "metadata": {},
   "outputs": [],
   "source": [
    "# Fixing in_AllocationVolume_AF datatype\n",
    "outdf['in_AllocationVolume_AF'] = pd.to_numeric(outdf['in_AllocationVolume_AF'], errors='coerce').fillna(0)\n",
    "outdf['in_AllocationVolume_AF'].unique()"
   ]
  },
  {
   "cell_type": "code",
   "execution_count": null,
   "metadata": {},
   "outputs": [],
   "source": [
    "outdf['in_BeneficialUseCategory'] = outdf.apply(lambda row: fixEmptyString(row['in_BeneficialUseCategory']), axis=1)\n",
    "outdf['in_BeneficialUseCategory'].unique()"
   ]
  },
  {
   "cell_type": "code",
   "execution_count": null,
   "metadata": {},
   "outputs": [],
   "source": [
    "# Update datatype of Priority Date to fit WaDE 2.0 structure\n",
    "def formatDateString(inString1):\n",
    "    inString = str(inString1).strip()\n",
    "    try:\n",
    "        if inString == \"\" or pd.isnull(inString):\n",
    "            valndf = \"\"\n",
    "        else:\n",
    "            valD = pd.to_datetime(inString)\n",
    "            valnDd = valD.date()\n",
    "            valndf = valnDd.strftime('%m/%d/%Y')\n",
    "    except:\n",
    "        valndf = \"\"\n",
    "    return valndf\n",
    "\n",
    "outdf['in_AllocationPriorityDate'] = outdf.apply(lambda row: formatDateString(row['in_AllocationPriorityDate']), axis=1)\n",
    "outdf['in_AllocationPriorityDate'].unique()"
   ]
  },
  {
   "cell_type": "code",
   "execution_count": null,
   "metadata": {},
   "outputs": [],
   "source": [
    "# Convert in_Latitude & in_Longitude to numeric\n",
    "outdf['in_Latitude'] = pd.to_numeric(outdf['in_Latitude'], errors='coerce').fillna(0).astype(float)\n",
    "print(outdf['in_Latitude'].unique())\n",
    "outdf['in_Longitude'] = pd.to_numeric(outdf['in_Longitude'], errors='coerce').fillna(0).astype(float)\n",
    "print(outdf['in_Longitude'].unique())"
   ]
  },
  {
   "cell_type": "code",
   "execution_count": null,
   "metadata": {},
   "outputs": [],
   "source": [
    "# Convert in_PopulationServed to numeric\n",
    "outdf['in_PopulationServed'] = pd.to_numeric(outdf['in_PopulationServed'], errors='coerce').fillna(0).astype(int)\n",
    "outdf['in_PopulationServed'].unique()"
   ]
  },
  {
   "cell_type": "code",
   "execution_count": null,
   "metadata": {},
   "outputs": [],
   "source": [
    "# Convert in_IrrigatedAcreage to numeric\n",
    "outdf['in_IrrigatedAcreage'] = pd.to_numeric(outdf['in_IrrigatedAcreage'], errors='coerce').fillna(0).astype(float)\n",
    "outdf['in_IrrigatedAcreage'].unique()"
   ]
  },
  {
   "cell_type": "code",
   "execution_count": null,
   "metadata": {},
   "outputs": [],
   "source": [
    "# Creating WaDE Custom water source native ID for easy water source identification\n",
    "# ----------------------------------------------------------------------------------------------------\n",
    "\n",
    "# Create temp WaterSourceNativeID dataframe of unique water source.\n",
    "def assignWaterSourceNativeID(colrowValue):\n",
    "    string1 = str(colrowValue)\n",
    "    outstring = \"wadeID\" + string1\n",
    "    return outstring\n",
    "\n",
    "dfWaterSourceNativeID = pd.DataFrame()\n",
    "dfWaterSourceNativeID['in_WaterSourceName'] = outdf['in_WaterSourceName']\n",
    "dfWaterSourceNativeID['in_WaterSourceTypeCV'] = outdf['in_WaterSourceTypeCV']\n",
    "dfWaterSourceNativeID = dfWaterSourceNativeID.drop_duplicates()\n",
    "\n",
    "dftemp = pd.DataFrame(index=dfWaterSourceNativeID.index)\n",
    "dftemp[\"Count\"] = range(1, len(dftemp.index) + 1)\n",
    "dfWaterSourceNativeID['in_WaterSourceNativeID'] = dftemp.apply(lambda row: assignWaterSourceNativeID(row['Count']), axis=1)\n",
    "\n",
    "# ----------------------------------------------------------------------------------------------------\n",
    "\n",
    "# Retreive WaDE Custom water source native ID\n",
    "def retrieveWaterSourceNativeID(A, B):\n",
    "    if (A == '' and B == '') or (pd.isnull(A) and pd.isnull(B)):\n",
    "        outList = ''\n",
    "    else:\n",
    "        ml = dfWaterSourceNativeID.loc[(dfWaterSourceNativeID['in_WaterSourceName'] == A) & \n",
    "                                       (dfWaterSourceNativeID['in_WaterSourceTypeCV'] == B), 'in_WaterSourceNativeID']\n",
    "        if not (ml.empty):  # check if the series is empty\n",
    "            outList = ml.iloc[0]\n",
    "        else:\n",
    "            outList = ''\n",
    "    return outList\n",
    "\n",
    "outdf['in_WaterSourceNativeID'] = outdf.apply(lambda row: retrieveWaterSourceNativeID( row['in_WaterSourceName'], row['in_WaterSourceTypeCV']), axis=1)\n",
    "outdf['in_WaterSourceNativeID'].unique()"
   ]
  },
  {
   "cell_type": "markdown",
   "metadata": {},
   "source": [
    "## Review and Export"
   ]
  },
  {
   "cell_type": "code",
   "execution_count": null,
   "metadata": {},
   "outputs": [],
   "source": [
    "outdf.dtypes"
   ]
  },
  {
   "cell_type": "code",
   "execution_count": null,
   "metadata": {},
   "outputs": [],
   "source": [
    "outdf"
   ]
  },
  {
   "cell_type": "code",
   "execution_count": null,
   "metadata": {},
   "outputs": [],
   "source": [
    "# Export the output dataframe\n",
    "outdf.to_csv('Pwr_CAMain.zip', index=False, compression=\"zip\")  # The output, save as a zip"
   ]
  },
  {
   "cell_type": "code",
   "execution_count": null,
   "metadata": {},
   "outputs": [],
   "source": []
  }
 ],
 "metadata": {
  "kernelspec": {
   "display_name": "Python 3 (ipykernel)",
   "language": "python",
   "name": "python3"
  },
  "language_info": {
   "codemirror_mode": {
    "name": "ipython",
    "version": 3
   },
   "file_extension": ".py",
   "mimetype": "text/x-python",
   "name": "python",
   "nbconvert_exporter": "python",
   "pygments_lexer": "ipython3",
   "version": "3.9.16"
  }
 },
 "nbformat": 4,
 "nbformat_minor": 2
}
