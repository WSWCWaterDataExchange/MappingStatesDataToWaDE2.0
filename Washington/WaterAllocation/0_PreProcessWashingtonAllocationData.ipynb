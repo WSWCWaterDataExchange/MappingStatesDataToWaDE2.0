{
 "cells": [
  {
   "cell_type": "markdown",
   "metadata": {},
   "source": [
    "# Preprocessing Washington Allocation data for WaDEQA upload.\n",
    "- Date Updated: 04/01/2020\n",
    "- Purpose:  To preprocess the Washington data into one master file for simple DataFrame creation and extraction\n",
    "\n",
    "Useful Links to Data:\n",
    "- The Data - Geographic Water Information System (GWIS)Data from the WA stat: https://fortress.wa.gov/ecy/gispublic/DataDownload/wr/GWIS_Data/\n",
    "- Data dictionary - https://fortress.wa.gov/ecy/gispublic/DataDownload/wr/GWIS_Data/GWIS_Data_Dictionary/\n",
    "- Public website   - https://ecology.wa.gov/Water-Shorelines/Water-supply/Water-rights"
   ]
  },
  {
   "cell_type": "code",
   "execution_count": null,
   "metadata": {},
   "outputs": [],
   "source": [
    "# Needed Libararies\n",
    "import os\n",
    "import numpy as np\n",
    "import pandas as pd\n",
    "from datetime import datetime\n",
    "pd.set_option('display.max_columns', 999)  # How to display all columns of a Pandas DataFrame in Jupyter Notebook\n",
    "\n",
    "from pyproj import Transformer, transform\n",
    "transformer = Transformer.from_proj(2927, 4326)  # A trick to drastically optimize the Transformer of pyproj.\n",
    "# Washignton projection = EPSG:2927. WGS84 projection used by WaDE 2.0 = epsg:4326.\n",
    "\n",
    "# Working Directory\n",
    "workingDir = \"C:/Users/rjame/Documents/WSWC Documents/MappingStatesDataToWaDE2.0/Washington/WaterAllocation/RawInputData\"\n",
    "os.chdir(workingDir)"
   ]
  },
  {
   "cell_type": "markdown",
   "metadata": {},
   "source": [
    "## POD Data"
   ]
  },
  {
   "cell_type": "code",
   "execution_count": null,
   "metadata": {},
   "outputs": [],
   "source": [
    "# Input Files\n",
    "d_pointFile = \"D_PointTable.csv\"  # contains PoD info\n",
    "D_Point_WR_DocFile = \"D_Point_WR_Doc.csv\"  #Bridge table\n",
    "Person_Plus_EXTRACT_FromWRTSnotGWISFile = \"Person_Plus_EXTRACT_FromWRTSnotGWIS.csv\"  #Contains water use and owner info"
   ]
  },
  {
   "cell_type": "code",
   "execution_count": null,
   "metadata": {},
   "outputs": [],
   "source": [
    "# Dataframe creation\n",
    "df_1 = pd.read_csv(d_pointFile, encoding = \"ISO-8859-1\") #Input\n",
    "df_2 = pd.read_csv(D_Point_WR_DocFile, encoding = \"ISO-8859-1\") #Input\n",
    "df_3 = pd.read_csv(Person_Plus_EXTRACT_FromWRTSnotGWISFile, encoding = \"ISO-8859-1\") #Input"
   ]
  },
  {
   "cell_type": "code",
   "execution_count": null,
   "metadata": {},
   "outputs": [],
   "source": [
    "# Merging dataframes into one, using left-join.\n",
    "df = pd.DataFrame()\n",
    "df = pd.merge(df_1, df_2, left_on='D_Point_ID', right_on='D_Point_ID', how='left') # Joinning PoD data\n",
    "df = pd.merge(df,   df_3, left_on='WR_Doc_ID', right_on='WR_Doc_ID', how='left') # Joinning PoD data\n",
    "\n",
    "df = df.drop_duplicates().replace(np.nan, \"\").reset_index(drop=True)\n",
    "print(len(df))\n",
    "df"
   ]
  },
  {
   "cell_type": "code",
   "execution_count": null,
   "metadata": {},
   "outputs": [],
   "source": [
    "# For converting projection latitude.\n",
    "def assignLat(colrowValueLat, colrowValueLong):\n",
    "    if colrowValueLat == '' or pd.isnull(colrowValueLat):\n",
    "        lat = \"\"\n",
    "    else:\n",
    "        lat, long = transformer.transform(colrowValueLat, colrowValueLong)\n",
    "    return lat\n",
    "\n",
    "# For converting projection longitude.\n",
    "def assignLong(colrowValueLat, colrowValueLong):\n",
    "    if colrowValueLong == '' or pd.isnull(colrowValueLong):\n",
    "        long = \"\"\n",
    "    else:\n",
    "        lat, long = transformer.transform(colrowValueLat, colrowValueLong)\n",
    "    return long\n",
    "\n",
    "df['in_Latitude'] = df.apply(lambda row: assignLat(row['POINT_X'], row['POINT_Y']), axis=1)\n",
    "df['in_Longitude'] = df.apply(lambda row: assignLong(row['POINT_X'], row['POINT_Y']), axis=1)"
   ]
  },
  {
   "cell_type": "code",
   "execution_count": null,
   "metadata": {},
   "outputs": [],
   "source": [
    "#Changing datatype of used date fields. \n",
    "df['PriorityDate'] = pd.to_datetime(df['PriorityDate'], errors = 'coerce')\n",
    "df['PriorityDate'] = pd.to_datetime(df[\"PriorityDate\"].dt.strftime('%m/%d/%Y'))"
   ]
  },
  {
   "cell_type": "code",
   "execution_count": null,
   "metadata": {},
   "outputs": [],
   "source": [
    "def assignOwner(valueFirst, valueMid, valueLast):\n",
    "    #--- First Name ---\n",
    "    if valueFirst == \"\" or pd.isnull(valueFirst):\n",
    "        FirstName = \"\"\n",
    "    else:\n",
    "        FirstName = str(valueFirst).strip()\n",
    "        \n",
    "    #--- Midile Initial ---\n",
    "    if valueMid == \"\" or pd.isnull(valueMid):\n",
    "        MidName = \"\"\n",
    "    else:\n",
    "        MidName = str(valueMid).strip()\n",
    "    \n",
    "    #--- Last Name ---\n",
    "    if valueLast == \"\" or pd.isnull(valueLast):\n",
    "        LastName = \"\"\n",
    "    else:\n",
    "        LastName = str(valueLast).strip()\n",
    "\n",
    "    if LastName == \"\":\n",
    "        outlist = LastName + FirstName + MidName\n",
    "    else:\n",
    "        outlist = LastName + \", \" + FirstName + \" \"+ MidName\n",
    "        \n",
    "    outlist = outlist.strip()\n",
    "    return outlist\n",
    "\n",
    "\n",
    "df['Owner'] = df.apply(lambda row: assignOwner(row['PersonFirstNM'],\n",
    "                                               row['PersonMINM'],\n",
    "                                               row['PersonLastOrOrganizationNM']), axis=1)"
   ]
  },
  {
   "cell_type": "code",
   "execution_count": null,
   "metadata": {},
   "outputs": [],
   "source": [
    "#Manually filling in empty class code with ‘Unspecified’ value.\n",
    "def assignWaRecRCWClassTypeCode(colValue):\n",
    "    if colValue == \"\" or pd.isnull(colValue):\n",
    "        outlist = \"Unspecified\"\n",
    "    else:\n",
    "        outlist = colValue.strip()\n",
    "    return outlist\n",
    "\n",
    "\n",
    "df['WaRecRCWClassTypeCode'] = df.apply(lambda row: assignWaRecRCWClassTypeCode(row['WaRecRCWClassTypeCode']), axis=1)"
   ]
  },
  {
   "cell_type": "code",
   "execution_count": null,
   "metadata": {},
   "outputs": [],
   "source": [
    "# For creating AllocationAmount\n",
    "def assignAllocationAmount(colrowValueIQ, colrowValueUC):\n",
    "    if colrowValueIQ == '' or pd.isnull(colrowValueIQ):\n",
    "        outVal = \"\"\n",
    "    elif colrowValueIQ <= 0 or pd.isnull(colrowValueIQ):\n",
    "        outVal = 0\n",
    "    else:\n",
    "        MultiFactor = 1.0\n",
    "        gpmcfsUnit = colrowValueUC.strip()\n",
    "        if gpmcfsUnit == 'GPM':\n",
    "            MultiFactor = 0.00222800926\n",
    "        elif gpmcfsUnit == 'GPD':\n",
    "            MultiFactor = 1.0 / 646317.0\n",
    "        try:\n",
    "            outVal = MultiFactor * colrowValueIQ\n",
    "        except:\n",
    "            outVal = colrowValueIQ\n",
    "    return outVal\n",
    "\n",
    "df['in_AllocationFlow_CFS'] =  df.apply(lambda row: assignAllocationAmount(row['InstantaneousQuantity'], row['InstantaneousUnitCode']), axis=1)"
   ]
  },
  {
   "cell_type": "code",
   "execution_count": null,
   "metadata": {},
   "outputs": [],
   "source": [
    "# Create output dataframe for ground water\n",
    "columnslist = [   \n",
    "    ### Water Source Info ###\n",
    "    \"in_WaterSourceTypeCV\",\n",
    "    \n",
    "    ### Site Info ###\n",
    "    \"in_CoordinateAccuracy\",\n",
    "    \"in_Latitude\",\n",
    "    \"in_Longitude\",\n",
    "    \"in_SiteTypeCV\",\n",
    "    \"in_PODorPOUSite\",\n",
    "    \n",
    "    ### AllocationAmount_fact Info ###\n",
    "    \"in_AllocationFlow_CFS\",\n",
    "     \"in_AllocationLegalStatusCV\",\n",
    "    \"in_AllocationNativeID\",\n",
    "    \"in_AllocationOwner\",\n",
    "    \"in_AllocationPriorityDate\",\n",
    "    \"in_AllocationTypeCV\",\n",
    "    \"in_AllocationVolume_AF\",\n",
    "    \"in_BeneficialUseCategory\",\n",
    "    \"in_IrrigatedAcreage\"]\n",
    "\n",
    "dfPOD = pd.DataFrame(columns=columnslist, index=df.index)"
   ]
  },
  {
   "cell_type": "code",
   "execution_count": null,
   "metadata": {},
   "outputs": [],
   "source": [
    "#############################################################################################\n",
    "#WaterSource\n",
    "dfPOD['in_WaterSourceTypeCV'] = df['WaRecRCWClassTypeCode']\n",
    "                                    \n",
    "#Site\n",
    "dfPOD['in_CoordinateAccuracy'] = df['Location_C']\n",
    "dfPOD['in_Latitude'] = df['in_Latitude']\n",
    "dfPOD['in_Longitude'] = df['in_Longitude']\n",
    "dfPOD['in_SiteNativeID'] = df['D_Point_ID'].astype(str)\n",
    "dfPOD['in_SiteTypeCV'] = df['D_Point_Ty']\n",
    "dfPOD['in_PODorPOUSite'] = \"POD\"\n",
    "\n",
    "#AllocationAmount_fact\n",
    "dfPOD['in_AllocationFlow_CFS'] = df['in_AllocationFlow_CFS']\n",
    "dfPOD['in_AllocationLegalStatusCV'] = df['WaRecProcessStatusTypeCode'].astype(str)\n",
    "dfPOD['in_AllocationNativeID'] = df['WR_Doc_ID'].astype(str)\n",
    "dfPOD['in_AllocationOwner'] = df['Owner'].astype(str)\n",
    "dfPOD['in_AllocationPriorityDate'] = df['PriorityDate']\n",
    "dfPOD['in_AllocationTypeCV'] = df['WaRecPhaseTypeCode']\n",
    "dfPOD['in_AllocationVolume_AF'] = df['AnnualVolumeQuantity']\n",
    "dfPOD['in_BeneficialUseCategory'] = df['PurposeOfUseTypeCodes'].astype(str)\n",
    "dfPOD['in_IrrigatedAcreage'] = df['IrrigatedAreaQuantity']\n",
    "\n",
    "dfPOD = dfPOD.drop_duplicates().replace(np.nan, \"\").reset_index(drop=True)\n",
    "print(len(dfPOD))\n",
    "dfPOD"
   ]
  },
  {
   "cell_type": "markdown",
   "metadata": {},
   "source": [
    "## POU Data"
   ]
  },
  {
   "cell_type": "code",
   "execution_count": null,
   "metadata": {},
   "outputs": [],
   "source": [
    "# Input Files\n",
    "pouInput = \"WA_POU_Input.csv\"   # contains POU info\n",
    "Person_Plus_EXTRACT_FromWRTSnotGWISFile = \"Person_Plus_EXTRACT_FromWRTSnotGWIS.csv\"  # Contains water use and owner info"
   ]
  },
  {
   "cell_type": "code",
   "execution_count": null,
   "metadata": {},
   "outputs": [],
   "source": [
    "# Dataframe creation\n",
    "df_1 = pd.read_csv(pouInput, encoding = \"ISO-8859-1\")\n",
    "df_3 = pd.read_csv(Person_Plus_EXTRACT_FromWRTSnotGWISFile, encoding = \"ISO-8859-1\")"
   ]
  },
  {
   "cell_type": "code",
   "execution_count": null,
   "metadata": {},
   "outputs": [],
   "source": [
    "# Merging dataframes into one, using left-join.\n",
    "df = pd.DataFrame()\n",
    "df = pd.merge(df_1, df_3, left_on='WR_DOC_ID', right_on='WR_Doc_ID', how='left')\n",
    "\n",
    "df = df.drop_duplicates().replace(np.nan, \"\").reset_index(drop=True)\n",
    "print(len(df))\n",
    "df"
   ]
  },
  {
   "cell_type": "code",
   "execution_count": null,
   "metadata": {},
   "outputs": [],
   "source": [
    "#Changing datatype of used date fields. \n",
    "df['PriorityDate'] = pd.to_datetime(df['PriorityDate'], errors = 'coerce')\n",
    "df['PriorityDate'] = pd.to_datetime(df[\"PriorityDate\"].dt.strftime('%m/%d/%Y'))"
   ]
  },
  {
   "cell_type": "code",
   "execution_count": null,
   "metadata": {},
   "outputs": [],
   "source": [
    "def assignOwner(valueFirst, valueMid, valueLast):\n",
    "    #--- First Name ---\n",
    "    if valueFirst == \"\" or pd.isnull(valueFirst):\n",
    "        FirstName = \"\"\n",
    "    else:\n",
    "        FirstName = str(valueFirst).strip()\n",
    "        \n",
    "    #--- Midile Initial ---\n",
    "    if valueMid == \"\" or pd.isnull(valueMid):\n",
    "        MidName = \"\"\n",
    "    else:\n",
    "        MidName = str(valueMid).strip()\n",
    "    \n",
    "    #--- Last Name ---\n",
    "    if valueLast == \"\" or pd.isnull(valueLast):\n",
    "        LastName = \"\"\n",
    "    else:\n",
    "        LastName = str(valueLast).strip()\n",
    "\n",
    "    if LastName == \"\":\n",
    "        outlist = LastName + FirstName + MidName\n",
    "    else:\n",
    "        outlist = LastName + \", \" + FirstName + \" \"+ MidName\n",
    "        \n",
    "    outlist = outlist.strip()\n",
    "    return outlist\n",
    "\n",
    "\n",
    "df['Owner'] = df.apply(lambda row: assignOwner(row['PersonFirstNM'],\n",
    "                                               row['PersonMINM'],\n",
    "                                               row['PersonLastOrOrganizationNM']), axis=1)"
   ]
  },
  {
   "cell_type": "code",
   "execution_count": null,
   "metadata": {},
   "outputs": [],
   "source": [
    "#Manually filling in empty class code with ‘unknown’ value.\n",
    "def assignWaRecRCWClassTypeCode(colValue):\n",
    "    if colValue == \"\" or pd.isnull(colValue):\n",
    "        outlist = \"Unspecified\"\n",
    "    else:\n",
    "        outlist = colValue.strip()\n",
    "    return outlist\n",
    "\n",
    "\n",
    "df['WaRecRCWClassTypeCode'] = df.apply(lambda row: assignWaRecRCWClassTypeCode(row['WaRecRCWClassTypeCode']), axis=1)"
   ]
  },
  {
   "cell_type": "code",
   "execution_count": null,
   "metadata": {},
   "outputs": [],
   "source": [
    "# For creating AllocationAmount\n",
    "def assignAllocationAmount(colrowValueIQ, colrowValueUC):\n",
    "    if colrowValueIQ == '' or pd.isnull(colrowValueIQ):\n",
    "        outVal = \"\"\n",
    "    elif colrowValueIQ <= 0 or pd.isnull(colrowValueIQ):\n",
    "        outVal = 0\n",
    "    else:\n",
    "        MultiFactor = 1.0\n",
    "        gpmcfsUnit = colrowValueUC.strip()\n",
    "        if gpmcfsUnit == 'GPM':\n",
    "            MultiFactor = 0.00222800926\n",
    "        elif gpmcfsUnit == 'GPD':\n",
    "            MultiFactor = 1.0 / 646317.0\n",
    "        try:\n",
    "            outVal = MultiFactor * colrowValueIQ\n",
    "        except:\n",
    "            outVal = colrowValueIQ\n",
    "    return outVal\n",
    "\n",
    "df['in_AllocationFlow_CFS'] =  df.apply(lambda row: assignAllocationAmount(row['InstantaneousQuantity'], row['InstantaneousUnitCode']), axis=1)"
   ]
  },
  {
   "cell_type": "code",
   "execution_count": null,
   "metadata": {},
   "outputs": [],
   "source": [
    "# Creating WaDE Custom site native ID for easy site identificaiion\n",
    "# ----------------------------------------------------------------------------------------------------\n",
    "\n",
    "# Create temp SiteNativeID dataframe of unique site.\n",
    "def assignSiteUUID(colrowValue):\n",
    "    string1 = str(colrowValue)\n",
    "    outstring = \"WaDEWA_S\" + string1\n",
    "    return outstring\n",
    "\n",
    "dfSiteNativeID = pd.DataFrame()\n",
    "dfSiteNativeID['in_Latitude'] = df['Latitude']\n",
    "dfSiteNativeID['in_Longitude'] = df['Longitude']\n",
    "dfSiteNativeID = dfSiteNativeID.drop_duplicates()\n",
    "\n",
    "dftemp = pd.DataFrame(index=dfSiteNativeID.index)\n",
    "dftemp[\"Count\"] = range(1, len(dftemp.index) + 1)\n",
    "dfSiteNativeID['in_SiteNativeID'] = dftemp.apply(lambda row: assignSiteUUID(row['Count']), axis=1)\n",
    "\n",
    "# ----------------------------------------------------------------------------------------------------\n",
    "\n",
    "# Retreive WaDE Custom site native ID\n",
    "def retrieveSiteNativeID(A, B):\n",
    "    if (A == '' and B == '') or (pd.isnull(A) and pd.isnull(B)):\n",
    "        outList = ''\n",
    "    else:\n",
    "        ml = dfSiteNativeID.loc[(dfSiteNativeID['in_Latitude'] == A) & \n",
    "                                (dfSiteNativeID['in_Longitude'] == B), 'in_SiteNativeID']\n",
    "        if not (ml.empty):  # check if the series is empty\n",
    "            outList = ml.iloc[0]\n",
    "        else:\n",
    "            outList = ''\n",
    "    return outList\n",
    "\n",
    "df['in_SiteNativeID'] = df.apply(lambda row: retrieveSiteNativeID( row['Latitude'], row['Longitude']), axis=1)\n",
    "df"
   ]
  },
  {
   "cell_type": "code",
   "execution_count": null,
   "metadata": {},
   "outputs": [],
   "source": [
    "# Create output dataframe for ground water\n",
    "columnslist = [   \n",
    "    ### Water Source Info ###\n",
    "    \"in_WaterSourceName\",\n",
    "    \"in_WaterSourceTypeCV\",\n",
    "    \n",
    "    ### Site Info ###\n",
    "    \"in_CoordinateAccuracy\",\n",
    "    \"in_Latitude\",\n",
    "    \"in_Longitude\",\n",
    "    \"in_SiteTypeCV\",\n",
    "    \"in_PODorPOUSite\",\n",
    "    \n",
    "    ### AllocationAmount_fact Info ###\n",
    "    \"in_AllocationFlow_CFS\",\n",
    "     \"in_AllocationLegalStatusCV\",\n",
    "    \"in_AllocationNativeID\",\n",
    "    \"in_AllocationOwner\",\n",
    "    \"in_AllocationPriorityDate\",\n",
    "    \"in_AllocationTypeCV\",\n",
    "    \"in_AllocationVolume_AF\",\n",
    "    \"in_BeneficialUseCategory\",\n",
    "    \"in_IrrigatedAcreage\"]\n",
    "\n",
    "dfPOU = pd.DataFrame(columns=columnslist, index=df.index)"
   ]
  },
  {
   "cell_type": "code",
   "execution_count": null,
   "metadata": {},
   "outputs": [],
   "source": [
    "#############################################################################################\n",
    "#WaterSource\n",
    "dfPOU['in_WaterSourceTypeCV'] = df['WaRecRCWClassTypeCode']\n",
    "                                    \n",
    "#Site\n",
    "dfPOU['in_CoordinateAccuracy'] = \"\"\n",
    "dfPOU['in_Latitude'] = df['Latitude']\n",
    "dfPOU['in_Longitude'] = df['Longitude']\n",
    "dfPOU['in_SiteNativeID'] = df['in_SiteNativeID'].astype(str)\n",
    "dfPOU['in_SiteTypeCV'] = \"Unspecified\"\n",
    "dfPOU['in_PODorPOUSite'] = \"POU\"\n",
    "\n",
    "#AllocationAmount_fact\n",
    "dfPOU['in_AllocationFlow_CFS'] = df['in_AllocationFlow_CFS']\n",
    "dfPOU['in_AllocationLegalStatusCV'] = df['WaRecProcessStatusTypeCode'].astype(str)\n",
    "dfPOU['in_AllocationNativeID'] = df['WR_Doc_ID'].astype(str)\n",
    "dfPOU['in_AllocationOwner'] = df['Owner'].astype(str)\n",
    "dfPOU['in_AllocationPriorityDate'] = df['PriorityDate']\n",
    "dfPOU['in_AllocationTypeCV'] = df['WaRecPhaseTypeCode']\n",
    "dfPOU['in_AllocationVolume_AF'] = df['AnnualVolumeQuantity']\n",
    "dfPOU['in_BeneficialUseCategory'] = df['PurposeOfUseTypeCodes'].astype(str)\n",
    "dfPOU['in_IrrigatedAcreage'] = df['IrrigatedAreaQuantity']\n",
    "\n",
    "dfPOU = dfPOU.drop_duplicates().replace(np.nan, \"\").reset_index(drop=True)\n",
    "print(len(dfPOU))\n",
    "dfPOU"
   ]
  },
  {
   "cell_type": "markdown",
   "metadata": {},
   "source": [
    "## Concatenate POD & POU"
   ]
  },
  {
   "cell_type": "code",
   "execution_count": null,
   "metadata": {},
   "outputs": [],
   "source": [
    "# Concatenate\n",
    "frames = [dfPOD, dfPOU]\n",
    "dfout = pd.concat(frames)\n",
    "dfout = dfout.replace(np.nan, \"\").drop_duplicates()\n",
    "dfout = dfout.replace(\"nan\", \"\").drop_duplicates()\n",
    "\n",
    "print(len(dfout))\n",
    "dfout"
   ]
  },
  {
   "cell_type": "code",
   "execution_count": null,
   "metadata": {},
   "outputs": [],
   "source": [
    "# Creating WaDE Custom water source native ID for easy water source identification\n",
    "# ----------------------------------------------------------------------------------------------------\n",
    "\n",
    "# Create temp WaterSourceNativeID dataframe of unique water source.\n",
    "def assignWaterSourceNativeID(colrowValue):\n",
    "    string1 = str(colrowValue)\n",
    "    outstring = \"WaDEWA_WS\" + string1\n",
    "    return outstring\n",
    "\n",
    "dfWaterSourceNativeID = pd.DataFrame()\n",
    "dfWaterSourceNativeID['in_WaterSourceTypeCV'] = dfout['in_WaterSourceTypeCV']\n",
    "dfWaterSourceNativeID = dfWaterSourceNativeID.drop_duplicates()\n",
    "\n",
    "dftemp = pd.DataFrame(index=dfWaterSourceNativeID.index)\n",
    "dftemp[\"Count\"] = range(1, len(dftemp.index) + 1)\n",
    "dfWaterSourceNativeID['in_WaterSourceNativeID'] = dftemp.apply(lambda row: assignWaterSourceNativeID(row['Count']), axis=1)\n",
    "\n",
    "# ----------------------------------------------------------------------------------------------------\n",
    "\n",
    "# Retreive WaDE Custom water source native ID\n",
    "def retrieveWaterSourceNativeID(A):\n",
    "    if (A == '' and B == '') or (pd.isnull(A) and pd.isnull(B)):\n",
    "        outList = ''\n",
    "    else:\n",
    "        ml = dfWaterSourceNativeID.loc[(dfWaterSourceNativeID['in_WaterSourceTypeCV'] == A), 'in_WaterSourceNativeID']\n",
    "        if not (ml.empty):  # check if the series is empty\n",
    "            outList = ml.iloc[0]\n",
    "        else:\n",
    "            outList = ''\n",
    "    return outList\n",
    "\n",
    "dfout['in_WaterSourceNativeID'] = dfout.apply(lambda row: retrieveWaterSourceNativeID(row['in_WaterSourceTypeCV']), axis=1)\n",
    "dfout"
   ]
  },
  {
   "cell_type": "markdown",
   "metadata": {},
   "source": [
    "## Export Outputs"
   ]
  },
  {
   "cell_type": "code",
   "execution_count": null,
   "metadata": {},
   "outputs": [],
   "source": [
    "#Exporting to Finished File\n",
    "dfout.to_csv('P_WashingtonMaster.csv', index=False)  # The output"
   ]
  },
  {
   "cell_type": "code",
   "execution_count": null,
   "metadata": {},
   "outputs": [],
   "source": []
  }
 ],
 "metadata": {
  "kernelspec": {
   "display_name": "Python 3",
   "language": "python",
   "name": "python3"
  },
  "language_info": {
   "codemirror_mode": {
    "name": "ipython",
    "version": 3
   },
   "file_extension": ".py",
   "mimetype": "text/x-python",
   "name": "python",
   "nbconvert_exporter": "python",
   "pygments_lexer": "ipython3",
   "version": "3.8.5"
  }
 },
 "nbformat": 4,
 "nbformat_minor": 2
}
