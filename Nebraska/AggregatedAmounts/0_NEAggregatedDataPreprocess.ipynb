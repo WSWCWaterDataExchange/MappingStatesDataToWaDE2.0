{
 "cells": [
  {
   "cell_type": "markdown",
   "metadata": {},
   "source": [
    "# NE Aggregated Data\n",
    "\n",
    "Preprocessing input data for a smoother upload experience of the state data to the WaDE 2.0 database.\n",
    "Using geopandas to read in shp file, and coverting to WKT for ReportingUnit geometry.\n",
    "\n",
    "Notes\n",
    "- Will create 5 seperate dataframes to hold variable specific data inputs, then merge into single larger output dataframe."
   ]
  },
  {
   "cell_type": "code",
   "execution_count": null,
   "metadata": {},
   "outputs": [],
   "source": [
    "#Needed Libararies\n",
    "import os\n",
    "import numpy as np\n",
    "import pandas as pd\n",
    "from datetime import datetime\n",
    "import geopandas as gpd # the library that lets us read in shapefiles\n",
    "pd.set_option('display.max_columns', 999)  # How to display all columns of a Pandas DataFrame in Jupyter Notebook\n",
    "\n",
    "#Setting work directory, reading inputs, creating dataframe\n",
    "workingDir = \"C:/Users/rjame/Documents/WSWC Documents/MappingStatesDataToWaDE2.0/Nebraska/AggregatedAmounts/RawInputData\"\n",
    "os.chdir(workingDir)"
   ]
  },
  {
   "cell_type": "markdown",
   "metadata": {},
   "source": [
    "# Water Use Data - Basin"
   ]
  },
  {
   "cell_type": "code",
   "execution_count": null,
   "metadata": {},
   "outputs": [],
   "source": [
    "#CSV input file\n",
    "fileInput = \"INSIGHT_FinalBasinData_20151102_input.csv\""
   ]
  },
  {
   "cell_type": "code",
   "execution_count": null,
   "metadata": {
    "scrolled": true
   },
   "outputs": [],
   "source": [
    "df_basin = pd.read_csv(fileInput)\n",
    "print(len(df_basin))\n",
    "df_basin.head(3)"
   ]
  },
  {
   "cell_type": "code",
   "execution_count": null,
   "metadata": {},
   "outputs": [],
   "source": [
    "# Annual Groundwater Supply\n",
    "columnList = ['in_MethodTypeCV', \n",
    "              'in_VariableSpecificCV', \n",
    "              'in_WaterSourceTypeCV', \n",
    "              'in_ReportingUnitName', \n",
    "              'in_ReportingUnitNativeID',\n",
    "              'in_ReportingUnitTypeCV',\n",
    "              'in_ReportYearCV',\n",
    "              'in_Amount']\n",
    "df_AGWS_ba = pd.DataFrame(columns=columnList, index=df_basin.index)\n",
    "\n",
    "df_AGWS_ba['in_MethodTypeCV'] = \"Modeled\"\n",
    "df_AGWS_ba['in_VariableSpecificCV'] = \"Annual Groundwater Supply\"\n",
    "df_AGWS_ba['in_WaterSourceTypeCV'] = \"Groundwater\"\n",
    "df_AGWS_ba['in_ReportingUnitName'] = df_basin['Basin']\n",
    "df_AGWS_ba['in_ReportingUnitNativeID'] = df_basin['BasinID']\n",
    "df_AGWS_ba['in_ReportingUnitTypeCV'] = \"Basin\"\n",
    "df_AGWS_ba['in_ReportYearCV'] = df_basin['Year']\n",
    "df_AGWS_ba['in_Amount'] = df_basin['GWDP_Annual']\n",
    "\n",
    "print(len(df_AGWS_ba))\n",
    "df_AGWS_ba.head(3)"
   ]
  },
  {
   "cell_type": "code",
   "execution_count": null,
   "metadata": {},
   "outputs": [],
   "source": [
    "# Annual Surface Water Supply\n",
    "columnList = ['in_MethodTypeCV', \n",
    "              'in_VariableSpecificCV', \n",
    "              'in_WaterSourceTypeCV', \n",
    "              'in_ReportingUnitName', \n",
    "              'in_ReportingUnitNativeID',\n",
    "              'in_ReportingUnitTypeCV',\n",
    "              'in_ReportYearCV',\n",
    "              'in_Amount']\n",
    "df_ASWS_ba = pd.DataFrame(columns=columnList, index=df_basin.index)\n",
    "\n",
    "df_ASWS_ba['in_MethodTypeCV'] = \"Modeled\"\n",
    "df_ASWS_ba['in_VariableSpecificCV'] = \"Annual Surface Water Supply\"\n",
    "df_ASWS_ba['in_WaterSourceTypeCV'] = \"Surface Water\"\n",
    "df_ASWS_ba['in_ReportingUnitName'] = df_basin['Basin']\n",
    "df_ASWS_ba['in_ReportingUnitNativeID'] = df_basin['BasinID']\n",
    "df_ASWS_ba['in_ReportingUnitTypeCV'] = \"Basin\"\n",
    "df_ASWS_ba['in_ReportYearCV'] = df_basin['Year']\n",
    "df_ASWS_ba['in_Amount'] = df_basin['SWDTotal_Annual']\n",
    "\n",
    "print(len(df_ASWS_ba))\n",
    "df_ASWS_ba.head(3)"
   ]
  },
  {
   "cell_type": "code",
   "execution_count": null,
   "metadata": {},
   "outputs": [],
   "source": [
    "# Annual Groundwater Demand\n",
    "columnList = ['in_MethodTypeCV', \n",
    "              'in_VariableSpecificCV', \n",
    "              'in_WaterSourceTypeCV', \n",
    "              'in_ReportingUnitName', \n",
    "              'in_ReportingUnitNativeID',\n",
    "              'in_ReportingUnitTypeCV',\n",
    "              'in_ReportYearCV',\n",
    "              'in_Amount']\n",
    "df_AGWD_ba = pd.DataFrame(columns=columnList, index=df_basin.index)\n",
    "\n",
    "df_AGWD_ba['in_MethodTypeCV'] = \"Modeled\"\n",
    "df_AGWD_ba['in_VariableSpecificCV'] = \"Annual Groundwater Demand\"\n",
    "df_AGWD_ba['in_WaterSourceTypeCV'] = \"Groundwater\"\n",
    "df_AGWD_ba['in_ReportingUnitName'] = df_basin['Basin']\n",
    "df_AGWD_ba['in_ReportingUnitNativeID'] = df_basin['BasinID']\n",
    "df_AGWD_ba['in_ReportingUnitTypeCV'] = \"Basin\"\n",
    "df_AGWD_ba['in_ReportYearCV'] = df_basin['Year']\n",
    "df_AGWD_ba['in_Amount'] = df_basin['GWCTotal_Annual']\n",
    "\n",
    "print(len(df_AGWD_ba))\n",
    "df_AGWD_ba.head(3)"
   ]
  },
  {
   "cell_type": "code",
   "execution_count": null,
   "metadata": {},
   "outputs": [],
   "source": [
    "# Annual Surface Water Demand\n",
    "columnList = ['in_MethodTypeCV', \n",
    "              'in_VariableSpecificCV', \n",
    "              'in_WaterSourceTypeCV', \n",
    "              'in_ReportingUnitName', \n",
    "              'in_ReportingUnitNativeID',\n",
    "              'in_ReportingUnitTypeCV',\n",
    "              'in_ReportYearCV',\n",
    "              'in_Amount']\n",
    "df_ASWD_ba = pd.DataFrame(columns=columnList, index=df_basin.index)\n",
    "\n",
    "df_ASWD_ba['in_MethodTypeCV'] = \"Modeled\"\n",
    "df_ASWD_ba['in_VariableSpecificCV'] = \"Annual Surface Water Demand\"\n",
    "df_ASWD_ba['in_WaterSourceTypeCV'] = \"Surface Water\"\n",
    "df_ASWD_ba['in_ReportingUnitName'] = df_basin['Basin']\n",
    "df_ASWD_ba['in_ReportingUnitNativeID'] = df_basin['BasinID']\n",
    "df_ASWD_ba['in_ReportingUnitTypeCV'] = \"Basin\"\n",
    "df_ASWD_ba['in_ReportYearCV'] = df_basin['Year']\n",
    "df_ASWD_ba['in_Amount'] = df_basin['SWDemandTotal_Annual']\n",
    "\n",
    "print(len(df_ASWD_ba))\n",
    "df_ASWD_ba.head(3)"
   ]
  },
  {
   "cell_type": "code",
   "execution_count": null,
   "metadata": {},
   "outputs": [],
   "source": [
    "# Total Non-Consumptive Demand\n",
    "columnList = ['in_MethodTypeCV', \n",
    "              'in_VariableSpecificCV', \n",
    "              'in_WaterSourceTypeCV', \n",
    "              'in_ReportingUnitName', \n",
    "              'in_ReportingUnitNativeID',\n",
    "              'in_ReportingUnitTypeCV',\n",
    "              'in_ReportYearCV',\n",
    "              'in_Amount']\n",
    "df_TNCD_ba = pd.DataFrame(columns=columnList, index=df_basin.index)\n",
    "\n",
    "df_TNCD_ba['in_MethodTypeCV'] = \"Estimated\"\n",
    "df_TNCD_ba['in_VariableSpecificCV'] = \"Total Non-Consumptive Demand\"\n",
    "df_TNCD_ba['in_WaterSourceTypeCV'] = \"Surface and Groundwater\"\n",
    "df_TNCD_ba['in_ReportingUnitName'] = df_basin['Basin']\n",
    "df_TNCD_ba['in_ReportingUnitNativeID'] = df_basin['BasinID']\n",
    "df_TNCD_ba['in_ReportingUnitTypeCV'] = \"Basin\"\n",
    "df_TNCD_ba['in_ReportYearCV'] = df_basin['Year']\n",
    "df_TNCD_ba['in_Amount'] = df_basin['TotalNonConsumptiveUse_Annual']\n",
    "\n",
    "print(len(df_TNCD_ba))\n",
    "df_TNCD_ba.head(3)"
   ]
  },
  {
   "cell_type": "code",
   "execution_count": null,
   "metadata": {},
   "outputs": [],
   "source": [
    "# Net Surface Water Loss Demand\n",
    "columnList = ['in_MethodTypeCV', \n",
    "              'in_VariableSpecificCV', \n",
    "              'in_WaterSourceTypeCV', \n",
    "              'in_ReportingUnitName', \n",
    "              'in_ReportingUnitNativeID',\n",
    "              'in_ReportingUnitTypeCV',\n",
    "              'in_ReportYearCV',\n",
    "              'in_Amount']\n",
    "df_NSWLD_ba = pd.DataFrame(columns=columnList, index=df_basin.index)\n",
    "\n",
    "df_NSWLD_ba['in_MethodTypeCV'] = \"Estimated\"\n",
    "df_NSWLD_ba['in_VariableSpecificCV'] = \"Net Surface Water Loss Demand\"\n",
    "df_NSWLD_ba['in_WaterSourceTypeCV'] = \"Surface Water\"\n",
    "df_NSWLD_ba['in_ReportingUnitName'] = df_basin['Basin']\n",
    "df_NSWLD_ba['in_ReportingUnitNativeID'] = df_basin['BasinID']\n",
    "df_NSWLD_ba['in_ReportingUnitTypeCV'] = \"Basin\"\n",
    "df_NSWLD_ba['in_ReportYearCV'] = df_basin['Year']\n",
    "df_NSWLD_ba['in_Amount'] = df_basin['NetSurfaceWaterLoss_Annual']\n",
    "\n",
    "print(len(df_NSWLD_ba))\n",
    "df_NSWLD_ba.head(3)"
   ]
  },
  {
   "cell_type": "code",
   "execution_count": null,
   "metadata": {},
   "outputs": [],
   "source": [
    "# Concatenate Basin DataFrames\n",
    "frames = [df_AGWS_ba, df_ASWS_ba, df_AGWD_ba, df_ASWD_ba, df_TNCD_ba, df_NSWLD_ba]\n",
    "df_BasinOUT = pd.concat(frames)\n",
    "\n",
    "print(len(df_BasinOUT))\n",
    "df_BasinOUT"
   ]
  },
  {
   "cell_type": "markdown",
   "metadata": {},
   "source": [
    "# Water Use Data - Subbasin"
   ]
  },
  {
   "cell_type": "code",
   "execution_count": null,
   "metadata": {},
   "outputs": [],
   "source": [
    "#CSV input file\n",
    "fileInput = \"INSIGHT_FinalSubBasinData_20151102_input.csv\""
   ]
  },
  {
   "cell_type": "code",
   "execution_count": null,
   "metadata": {},
   "outputs": [],
   "source": [
    "df_subbasin = pd.read_csv(fileInput)\n",
    "print(len(df_subbasin))\n",
    "df_subbasin.head(3)"
   ]
  },
  {
   "cell_type": "code",
   "execution_count": null,
   "metadata": {},
   "outputs": [],
   "source": [
    "# Annual Groundwater Supply\n",
    "columnList = ['in_MethodTypeCV', \n",
    "              'in_VariableSpecificCV', \n",
    "              'in_WaterSourceTypeCV', \n",
    "              'in_ReportingUnitName', \n",
    "              'in_ReportingUnitNativeID',\n",
    "              'in_ReportingUnitTypeCV',\n",
    "              'in_ReportYearCV',\n",
    "              'in_Amount']\n",
    "df_AGWS_sb = pd.DataFrame(columns=columnList, index=df_subbasin.index)\n",
    "\n",
    "df_AGWS_sb['in_MethodTypeCV'] = \"Modeled\"\n",
    "df_AGWS_sb['in_VariableSpecificCV'] = \"Annual Groundwater Supply\"\n",
    "df_AGWS_sb['in_WaterSourceTypeCV'] = \"Groundwater\"\n",
    "df_AGWS_sb['in_ReportingUnitName'] = df_subbasin['Subbasin']\n",
    "df_AGWS_sb['in_ReportingUnitNativeID'] = df_subbasin['SubID']\n",
    "df_AGWS_sb['in_ReportingUnitTypeCV'] = \"Subbasin\"\n",
    "df_AGWS_sb['in_ReportYearCV'] = df_subbasin['Year']\n",
    "df_AGWS_sb['in_Amount'] = df_subbasin['GWDP_Annual']\n",
    "\n",
    "print(len(df_AGWS_sb))\n",
    "df_AGWS_sb.head(3)"
   ]
  },
  {
   "cell_type": "code",
   "execution_count": null,
   "metadata": {},
   "outputs": [],
   "source": [
    "# Annual Surface Water Supply\n",
    "columnList = ['in_MethodTypeCV', \n",
    "              'in_VariableSpecificCV', \n",
    "              'in_WaterSourceTypeCV', \n",
    "              'in_ReportingUnitName', \n",
    "              'in_ReportingUnitNativeID',\n",
    "              'in_ReportingUnitTypeCV',\n",
    "              'in_ReportYearCV',\n",
    "              'in_Amount']\n",
    "df_ASWS_sb = pd.DataFrame(columns=columnList, index=df_subbasin.index)\n",
    "\n",
    "df_ASWS_sb['in_MethodTypeCV'] = \"Modeled\"\n",
    "df_ASWS_sb['in_VariableSpecificCV'] = \"Annual Surface Water Supply\"\n",
    "df_ASWS_sb['in_WaterSourceTypeCV'] = \"Surface Water\"\n",
    "df_ASWS_sb['in_ReportingUnitName'] = df_subbasin['Subbasin']\n",
    "df_ASWS_sb['in_ReportingUnitNativeID'] = df_subbasin['SubID']\n",
    "df_ASWS_sb['in_ReportingUnitTypeCV'] = \"Subbasin\"\n",
    "df_ASWS_sb['in_ReportYearCV'] = df_subbasin['Year']\n",
    "df_ASWS_sb['in_Amount'] = df_subbasin['SWDTotal_Annual']\n",
    "\n",
    "print(len(df_ASWS_sb))\n",
    "df_ASWS_sb.head(3)"
   ]
  },
  {
   "cell_type": "code",
   "execution_count": null,
   "metadata": {},
   "outputs": [],
   "source": [
    "# Annual Groundwater Demand\n",
    "columnList = ['in_MethodTypeCV', \n",
    "              'in_VariableSpecificCV', \n",
    "              'in_WaterSourceTypeCV', \n",
    "              'in_ReportingUnitName', \n",
    "              'in_ReportingUnitNativeID',\n",
    "              'in_ReportingUnitTypeCV',\n",
    "              'in_ReportYearCV',\n",
    "              'in_Amount']\n",
    "df_AGWD_sb = pd.DataFrame(columns=columnList, index=df_subbasin.index)\n",
    "\n",
    "df_AGWD_sb['in_MethodTypeCV'] = \"Modeled\"\n",
    "df_AGWD_sb['in_VariableSpecificCV'] = \"Annual Groundwater Demand\"\n",
    "df_AGWD_sb['in_WaterSourceTypeCV'] = \"Groundwater\"\n",
    "df_AGWD_sb['in_ReportingUnitName'] = df_subbasin['Subbasin']\n",
    "df_AGWD_sb['in_ReportingUnitNativeID'] = df_subbasin['SubID']\n",
    "df_AGWD_sb['in_ReportingUnitTypeCV'] = \"Subbasin\"\n",
    "df_AGWD_sb['in_ReportYearCV'] = df_subbasin['Year']\n",
    "df_AGWD_sb['in_Amount'] = df_subbasin['GWCTotal_Annual']\n",
    "\n",
    "print(len(df_AGWD_sb))\n",
    "df_AGWD_sb.head(3)"
   ]
  },
  {
   "cell_type": "code",
   "execution_count": null,
   "metadata": {},
   "outputs": [],
   "source": [
    "# Annual Surface Water Demand\n",
    "columnList = ['in_MethodTypeCV', \n",
    "              'in_VariableSpecificCV', \n",
    "              'in_WaterSourceTypeCV', \n",
    "              'in_ReportingUnitName', \n",
    "              'in_ReportingUnitNativeID',\n",
    "              'in_ReportingUnitTypeCV',\n",
    "              'in_ReportYearCV',\n",
    "              'in_Amount']\n",
    "df_ASWD_sb = pd.DataFrame(columns=columnList, index=df_subbasin.index)\n",
    "\n",
    "df_ASWD_sb['in_MethodTypeCV'] = \"Modeled\"\n",
    "df_ASWD_sb['in_VariableSpecificCV'] = \"Annual Surface Water Demand\"\n",
    "df_ASWD_sb['in_WaterSourceTypeCV'] = \"Surface Water\"\n",
    "df_ASWD_sb['in_ReportingUnitName'] = df_subbasin['Subbasin']\n",
    "df_ASWD_sb['in_ReportingUnitNativeID'] = df_subbasin['SubID']\n",
    "df_ASWD_sb['in_ReportingUnitTypeCV'] = \"Subbasin\"\n",
    "df_ASWD_sb['in_ReportYearCV'] = df_subbasin['Year']\n",
    "df_ASWD_sb['in_Amount'] = df_subbasin['SWDemandTotal_Annual']\n",
    "\n",
    "print(len(df_ASWD_sb))\n",
    "df_ASWD_sb.head(3)"
   ]
  },
  {
   "cell_type": "code",
   "execution_count": null,
   "metadata": {},
   "outputs": [],
   "source": [
    "# Total Non-Consumptive Demand\n",
    "columnList = ['in_MethodTypeCV', \n",
    "              'in_VariableSpecificCV', \n",
    "              'in_WaterSourceTypeCV', \n",
    "              'in_ReportingUnitName', \n",
    "              'in_ReportingUnitNativeID',\n",
    "              'in_ReportingUnitTypeCV',\n",
    "              'in_ReportYearCV',\n",
    "              'in_Amount']\n",
    "df_TNCD_sb = pd.DataFrame(columns=columnList, index=df_subbasin.index)\n",
    "\n",
    "df_TNCD_sb['in_MethodTypeCV'] = \"Modeled\"\n",
    "df_TNCD_sb['in_VariableSpecificCV'] = \"Total Non-Consumptive Demand\"\n",
    "df_TNCD_sb['in_WaterSourceTypeCV'] = \"Surface and Groundwater\"\n",
    "df_TNCD_sb['in_ReportingUnitName'] = df_subbasin['Subbasin']\n",
    "df_TNCD_sb['in_ReportingUnitNativeID'] = df_subbasin['SubID']\n",
    "df_TNCD_sb['in_ReportingUnitTypeCV'] = \"Subbasin\"\n",
    "df_TNCD_sb['in_ReportYearCV'] = df_subbasin['Year']\n",
    "df_TNCD_sb['in_Amount'] = df_subbasin['TotalNonConsumptiveUse_Annual']\n",
    "\n",
    "print(len(df_TNCD_sb))\n",
    "df_TNCD_sb.head(3)"
   ]
  },
  {
   "cell_type": "code",
   "execution_count": null,
   "metadata": {},
   "outputs": [],
   "source": [
    "# Net Surface Water Loss Demand\n",
    "columnList = ['in_MethodTypeCV', \n",
    "              'in_VariableSpecificCV', \n",
    "              'in_WaterSourceTypeCV', \n",
    "              'in_ReportingUnitName', \n",
    "              'in_ReportingUnitNativeID',\n",
    "              'in_ReportingUnitTypeCV',\n",
    "              'in_ReportYearCV',\n",
    "              'in_Amount']\n",
    "df_NSWLD_sb = pd.DataFrame(columns=columnList, index=df_subbasin.index)\n",
    "\n",
    "df_NSWLD_sb['in_MethodTypeCV'] = \"Modeled\"\n",
    "df_NSWLD_sb['in_VariableSpecificCV'] = \"Net Surface Water Loss Demand\"\n",
    "df_NSWLD_sb['in_WaterSourceTypeCV'] = \"Surface Water\"\n",
    "df_NSWLD_sb['in_ReportingUnitName'] = df_subbasin['Subbasin']\n",
    "df_NSWLD_sb['in_ReportingUnitNativeID'] = df_subbasin['SubID']\n",
    "df_NSWLD_sb['in_ReportingUnitTypeCV'] = \"Subbasin\"\n",
    "df_NSWLD_sb['in_ReportYearCV'] = df_subbasin['Year']\n",
    "df_NSWLD_sb['in_Amount'] = df_subbasin['NetSurfaceWaterLoss_Annual']\n",
    "\n",
    "print(len(df_NSWLD_sb))\n",
    "df_NSWLD_sb.head(3)"
   ]
  },
  {
   "cell_type": "code",
   "execution_count": null,
   "metadata": {},
   "outputs": [],
   "source": [
    "# Concatenate Subbasin DataFrames\n",
    "frames = [df_AGWS_sb, df_ASWS_sb, df_AGWD_sb, df_ASWD_sb, df_TNCD_sb, df_NSWLD_sb]\n",
    "df_SubbasinOUT = pd.concat(frames)\n",
    "\n",
    "print(len(df_SubbasinOUT))\n",
    "df_SubbasinOUT"
   ]
  },
  {
   "cell_type": "markdown",
   "metadata": {},
   "source": [
    "### Concatenate Basin & Subbasin DataFrames"
   ]
  },
  {
   "cell_type": "code",
   "execution_count": null,
   "metadata": {},
   "outputs": [],
   "source": [
    "# Concatenate Subbasin DataFrames\n",
    "frames = [df_BasinOUT, df_SubbasinOUT]\n",
    "df_out = pd.concat(frames)\n",
    "\n",
    "print(len(df_out))\n",
    "df_out"
   ]
  },
  {
   "cell_type": "markdown",
   "metadata": {},
   "source": [
    "## WaDE Custom Elements (due to missing sate info)"
   ]
  },
  {
   "cell_type": "code",
   "execution_count": null,
   "metadata": {
    "scrolled": true
   },
   "outputs": [],
   "source": [
    "# Creating WaDE Custom water source native ID for easy water source identification\n",
    "# ----------------------------------------------------------------------------------------------------\n",
    "\n",
    "# Create temp WaterSourceNativeID dataframe of unique water source.\n",
    "def assignWaterSourceNativeID(colrowValue):\n",
    "    string1 = str(colrowValue)\n",
    "    outstring = \"WaDENE_WS\" + string1\n",
    "    return outstring\n",
    "\n",
    "dfWaterSourceNativeID = pd.DataFrame()\n",
    "dfWaterSourceNativeID['in_WaterSourceTypeCV'] = df_out['in_WaterSourceTypeCV']\n",
    "dfWaterSourceNativeID = dfWaterSourceNativeID.drop_duplicates()\n",
    "\n",
    "dftemp = pd.DataFrame(index=dfWaterSourceNativeID.index)\n",
    "dftemp[\"Count\"] = range(1, len(dftemp.index) + 1)\n",
    "dfWaterSourceNativeID['in_WaterSourceNativeID'] = dftemp.apply(lambda row: assignWaterSourceNativeID(row['Count']), axis=1)\n",
    "\n",
    "# ----------------------------------------------------------------------------------------------------\n",
    "\n",
    "# Retreive WaDE Custom water source native ID\n",
    "def retrieveWaterSourceNativeID(A):\n",
    "    if (A == '') or (pd.isnull(A)):\n",
    "        outList = ''\n",
    "    else:\n",
    "        ml = dfWaterSourceNativeID.loc[(dfWaterSourceNativeID['in_WaterSourceTypeCV'] == A), 'in_WaterSourceNativeID']\n",
    "        if not (ml.empty):  # check if the series is empty\n",
    "            outList = ml.iloc[0]\n",
    "        else:\n",
    "            outList = ''\n",
    "    return outList\n",
    "\n",
    "df_out['in_WaterSourceNativeID'] = df_out.apply(lambda row: retrieveWaterSourceNativeID(row['in_WaterSourceTypeCV']), axis=1)\n",
    "df_out"
   ]
  },
  {
   "cell_type": "markdown",
   "metadata": {},
   "source": [
    "# Shapefile Data"
   ]
  },
  {
   "cell_type": "code",
   "execution_count": null,
   "metadata": {},
   "outputs": [],
   "source": [
    "# Basin Shapefile Data\n",
    "BasinSHPInput = \"InsightShapeFiles/Basin.shp\"\n",
    "BasinShape = gpd.read_file(BasinSHPInput)\n",
    "\n",
    "print(len(BasinShape))\n",
    "BasinShape.head(3)"
   ]
  },
  {
   "cell_type": "code",
   "execution_count": null,
   "metadata": {},
   "outputs": [],
   "source": [
    "# Basin output shapefile dataframe\n",
    "columnList = ['in_ReportingUnitName', \n",
    "              'in_ReportingUnitNativeID',\n",
    "              'in_ReportingUnitTypeCV',\n",
    "              'in_Geomerty']\n",
    "df_basin_shp = pd.DataFrame(columns=columnList, index=BasinShape.index)\n",
    "\n",
    "df_basin_shp['in_ReportingUnitName'] = BasinShape['Basin']\n",
    "df_basin_shp['in_ReportingUnitNativeID'] = BasinShape['BID']\n",
    "df_basin_shp['in_ReportingUnitTypeCV'] = \"Basin\"\n",
    "df_basin_shp['in_Geomerty'] = BasinShape['geometry']\n",
    "\n",
    "print(len(df_basin_shp))\n",
    "df_basin_shp.head(3)"
   ]
  },
  {
   "cell_type": "code",
   "execution_count": null,
   "metadata": {},
   "outputs": [],
   "source": [
    "# Subbasin Shapefile Data\n",
    "SubbasinSHPInput = \"InsightShapeFiles/Subbasin.shp\"\n",
    "SubbasinShape = gpd.read_file(SubbasinSHPInput)\n",
    "\n",
    "print(len(SubbasinShape))\n",
    "SubbasinShape.head(3)"
   ]
  },
  {
   "cell_type": "code",
   "execution_count": null,
   "metadata": {},
   "outputs": [],
   "source": [
    "# Subbasin output shapefile dataframe\n",
    "columnList = ['in_ReportingUnitName', \n",
    "              'in_ReportingUnitNativeID',\n",
    "              'in_ReportingUnitTypeCV',\n",
    "              'in_Geomerty']\n",
    "df_subbasin_shp = pd.DataFrame(columns=columnList, index=SubbasinShape.index)\n",
    "\n",
    "df_subbasin_shp['in_ReportingUnitName'] = SubbasinShape['Subbasin']\n",
    "df_subbasin_shp['in_ReportingUnitNativeID'] = SubbasinShape['SubID']\n",
    "df_subbasin_shp['in_ReportingUnitTypeCV'] = \"Subbasin\"\n",
    "df_subbasin_shp['in_Geomerty'] = SubbasinShape['geometry']\n",
    "\n",
    "print(len(df_subbasin_shp))\n",
    "df_subbasin_shp.head(3)"
   ]
  },
  {
   "cell_type": "markdown",
   "metadata": {},
   "source": [
    "### Concatenate Basin & Subbasin DataFrames"
   ]
  },
  {
   "cell_type": "code",
   "execution_count": null,
   "metadata": {},
   "outputs": [],
   "source": [
    "# Concatenate Subbasin DataFrames\n",
    "frames = [df_basin_shp, df_subbasin_shp]\n",
    "df_shape_out = pd.concat(frames)\n",
    "\n",
    "print(len(df_shape_out))\n",
    "df_shape_out"
   ]
  },
  {
   "cell_type": "markdown",
   "metadata": {},
   "source": [
    "### Inspect Output Data & Export"
   ]
  },
  {
   "cell_type": "code",
   "execution_count": null,
   "metadata": {
    "scrolled": false
   },
   "outputs": [],
   "source": [
    "with pd.option_context('display.max_rows', None, 'display.max_columns', None):\n",
    "    print(df_out.dtypes)"
   ]
  },
  {
   "cell_type": "code",
   "execution_count": null,
   "metadata": {},
   "outputs": [],
   "source": [
    "with pd.option_context('display.max_rows', None, 'display.max_columns', None):\n",
    "    print(df_shape_out.dtypes)"
   ]
  },
  {
   "cell_type": "code",
   "execution_count": null,
   "metadata": {},
   "outputs": [],
   "source": [
    "# Export out to CSV.\n",
    "df_out.to_csv('P_neAggMaster.csv', index=False) # The output.\n",
    "df_shape_out.to_csv('P_neAggGeometry.csv', index=False) # The output geometry."
   ]
  },
  {
   "cell_type": "code",
   "execution_count": null,
   "metadata": {},
   "outputs": [],
   "source": []
  }
 ],
 "metadata": {
  "kernelspec": {
   "display_name": "Python 3",
   "language": "python",
   "name": "python3"
  },
  "language_info": {
   "codemirror_mode": {
    "name": "ipython",
    "version": 3
   },
   "file_extension": ".py",
   "mimetype": "text/x-python",
   "name": "python",
   "nbconvert_exporter": "python",
   "pygments_lexer": "ipython3",
   "version": "3.8.5"
  }
 },
 "nbformat": 4,
 "nbformat_minor": 4
}
