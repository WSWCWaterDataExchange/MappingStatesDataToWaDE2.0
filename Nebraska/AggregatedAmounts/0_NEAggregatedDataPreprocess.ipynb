{
 "cells": [
  {
   "cell_type": "markdown",
   "metadata": {},
   "source": [
    "# NE Aggregated Data\n",
    "Preprocessing input data for a smoother upload experience of the state data to the WaDE 2.0 database.\n",
    "Using geopandas to read in shp file, and coverting to WKT for ReportingUnit geometry.\n",
    "\n",
    "Notes:\n",
    "- Date Updated: 05/02/2022\n",
    "- Source data is missing some basic inputs, will have to hard code those there and match up with the timeseries.\n",
    "- After seven different timeseries data.\n",
    "- Will use basin data, and subbasin data."
   ]
  },
  {
   "cell_type": "code",
   "execution_count": null,
   "metadata": {},
   "outputs": [],
   "source": [
    "#Needed Libararies\n",
    "import os\n",
    "import numpy as np\n",
    "import pandas as pd\n",
    "from datetime import datetime\n",
    "import geopandas as gpd # the library that lets us read in shapefiles\n",
    "pd.set_option('display.max_columns', 999)  # How to display all columns of a Pandas DataFrame in Jupyter Notebook\n",
    "\n",
    "#Setting work directory, reading inputs, creating dataframe\n",
    "workingDir = \"G:/Shared drives/WaDE Data/Nebraska/AggregatedAmounts\"\n",
    "os.chdir(workingDir)"
   ]
  },
  {
   "cell_type": "markdown",
   "metadata": {},
   "source": [
    "## Basin - Water Use Data"
   ]
  },
  {
   "cell_type": "code",
   "execution_count": null,
   "metadata": {},
   "outputs": [],
   "source": [
    "#CSV input file\n",
    "fileInput = \"RawInputData/INSIGHT_FinalBasinData_20151102_input.csv\"\n",
    "df_ba = pd.read_csv(fileInput)\n",
    "print(len(df_ba))\n",
    "df_ba.head(1)"
   ]
  },
  {
   "cell_type": "code",
   "execution_count": null,
   "metadata": {},
   "outputs": [],
   "source": [
    "# 1, Depletion_Annual_Total_Surface Water\n",
    "df1_ba_DATS = pd.DataFrame(index=df_ba.index)\n",
    "\n",
    "# Variable Info\n",
    "df1_ba_DATS['in_VariableSpecificCV'] = \"Depletion_Annual_Total_Surface Water\"\n",
    "\n",
    "# WaterSource Info\n",
    "df1_ba_DATS['in_WaterSourceTypeCV'] = \"Surface Water\"\n",
    "\n",
    "# ReportingUnit Info\n",
    "df1_ba_DATS['in_ReportingUnitName'] = df_ba['Basin']\n",
    "df1_ba_DATS['in_ReportingUnitNativeID'] = df_ba['BasinID']\n",
    "df1_ba_DATS['in_ReportingUnitTypeCV'] = \"Basin\"\n",
    "\n",
    "# AggregatedAmounts Info\n",
    "df1_ba_DATS['in_ReportYearCV'] = df_ba['Year']\n",
    "df1_ba_DATS['in_Amount'] = df_ba['SWDTotal_Annual']\n",
    "df1_ba_DATS['in_BeneficialUseCategory'] = \"Total\"\n",
    "\n",
    "print(len(df1_ba_DATS))\n",
    "df1_ba_DATS.head(1)"
   ]
  },
  {
   "cell_type": "code",
   "execution_count": null,
   "metadata": {},
   "outputs": [],
   "source": [
    "# 2, Basin, Depletion_Annual_Total_Groundwater\n",
    "df2_ba_DATG = pd.DataFrame(index=df_ba.index)\n",
    "\n",
    "# Variable Info\n",
    "df2_ba_DATG['in_VariableSpecificCV'] = \"Depletion_Annual_Total_Groundwater\"\n",
    "\n",
    "# WaterSource Info\n",
    "df2_ba_DATG['in_WaterSourceTypeCV'] = \"Groundwater\"\n",
    "\n",
    "# ReportingUnit Info\n",
    "df2_ba_DATG['in_ReportingUnitName'] = df_ba['Basin']\n",
    "df2_ba_DATG['in_ReportingUnitNativeID'] = df_ba['BasinID']\n",
    "df2_ba_DATG['in_ReportingUnitTypeCV'] = \"Basin\"\n",
    "\n",
    "# AggregatedAmounts Info\n",
    "df2_ba_DATG['in_ReportYearCV'] = df_ba['Year']\n",
    "df2_ba_DATG['in_Amount'] = df_ba['GWDP_Annual']\n",
    "df2_ba_DATG['in_BeneficialUseCategory'] = \"Total\"\n",
    "\n",
    "print(len(df2_ba_DATG))\n",
    "df2_ba_DATG.head(1)"
   ]
  },
  {
   "cell_type": "code",
   "execution_count": null,
   "metadata": {},
   "outputs": [],
   "source": [
    "# 3, Basin, Consumptive Use_Annual_Total_Groundwater\n",
    "d3f_ba_CATG = pd.DataFrame(index=df_ba.index)\n",
    "\n",
    "# Variable Info\n",
    "d3f_ba_CATG['in_VariableSpecificCV'] = \"Consumptive Use_Annual_Total_Groundwater\"\n",
    "\n",
    "# WaterSource Info\n",
    "d3f_ba_CATG['in_WaterSourceTypeCV'] = \"Groundwater\"\n",
    "\n",
    "# ReportingUnit Info\n",
    "d3f_ba_CATG['in_ReportingUnitName'] = df_ba['Basin']\n",
    "d3f_ba_CATG['in_ReportingUnitNativeID'] = df_ba['BasinID']\n",
    "d3f_ba_CATG['in_ReportingUnitTypeCV'] = \"Basin\"\n",
    "\n",
    "# AggregatedAmounts Info\n",
    "d3f_ba_CATG['in_ReportYearCV'] = df_ba['Year']\n",
    "d3f_ba_CATG['in_Amount'] = df_ba['GWCTotal_Annual']\n",
    "d3f_ba_CATG['in_BeneficialUseCategory'] = \"Total\"\n",
    "\n",
    "print(len(d3f_ba_CATG))\n",
    "d3f_ba_CATG.head(1)"
   ]
  },
  {
   "cell_type": "code",
   "execution_count": null,
   "metadata": {},
   "outputs": [],
   "source": [
    "# 4, Basin, Consumptive Use_Annual_Irrigation_Groundwater\n",
    "df4_ba_CAIrG = pd.DataFrame(index=df_ba.index)\n",
    "\n",
    "# Variable Info\n",
    "df4_ba_CAIrG['in_VariableSpecificCV'] = \"Consumptive Use_Annual_Irrigation_Groundwater\"\n",
    "\n",
    "# WaterSource Info\n",
    "df4_ba_CAIrG['in_WaterSourceTypeCV'] = \"Groundwater\"\n",
    "\n",
    "# ReportingUnit Info\n",
    "df4_ba_CAIrG['in_ReportingUnitName'] = df_ba['Basin']\n",
    "df4_ba_CAIrG['in_ReportingUnitNativeID'] = df_ba['BasinID']\n",
    "df4_ba_CAIrG['in_ReportingUnitTypeCV'] = \"Basin\"\n",
    "\n",
    "# AggregatedAmounts Info\n",
    "df4_ba_CAIrG['in_ReportYearCV'] = df_ba['Year']\n",
    "df4_ba_CAIrG['in_Amount'] = df_ba['GWCIrrigation_Annual']\n",
    "df4_ba_CAIrG['in_BeneficialUseCategory'] = \"Irrigation\"\n",
    "\n",
    "print(len(df4_ba_CAIrG))\n",
    "df4_ba_CAIrG.head(1)"
   ]
  },
  {
   "cell_type": "code",
   "execution_count": null,
   "metadata": {},
   "outputs": [],
   "source": [
    "# 5, Basin, Consumptive Use_Annual_Municipal_Groundwater\n",
    "df5_ba_CAMG = pd.DataFrame(index=df_ba.index)\n",
    "\n",
    "# Variable Info\n",
    "df5_ba_CAMG['in_VariableSpecificCV'] = \"Consumptive Use_Annual_Municipal_Groundwater\"\n",
    "\n",
    "# WaterSource Info\n",
    "df5_ba_CAMG['in_WaterSourceTypeCV'] = \"Groundwater\"\n",
    "\n",
    "# ReportingUnit Info\n",
    "df5_ba_CAMG['in_ReportingUnitName'] = df_ba['Basin']\n",
    "df5_ba_CAMG['in_ReportingUnitNativeID'] = df_ba['BasinID']\n",
    "df5_ba_CAMG['in_ReportingUnitTypeCV'] = \"Basin\"\n",
    "\n",
    "# AggregatedAmounts Info\n",
    "df5_ba_CAMG['in_ReportYearCV'] = df_ba['Year']\n",
    "df5_ba_CAMG['in_Amount'] = df_ba['GWCMunicipal_Annual']\n",
    "df5_ba_CAMG['in_BeneficialUseCategory'] = \"Municipal\"\n",
    "\n",
    "print(len(df5_ba_CAMG))\n",
    "df5_ba_CAMG.head(1)"
   ]
  },
  {
   "cell_type": "code",
   "execution_count": null,
   "metadata": {},
   "outputs": [],
   "source": [
    "# 6, Basin, Consumptive Use_Annual_Industrial_Groundwater\n",
    "df6_ba_CAInG = pd.DataFrame(index=df_ba.index)\n",
    "\n",
    "# Variable Info\n",
    "df6_ba_CAInG['in_VariableSpecificCV'] = \"Consumptive Use_Annual_Industrial_Groundwater\"\n",
    "\n",
    "# WaterSource Info\n",
    "df6_ba_CAInG['in_WaterSourceTypeCV'] = \"Groundwater\"\n",
    "\n",
    "# ReportingUnit Info\n",
    "df6_ba_CAInG['in_ReportingUnitName'] = df_ba['Basin']\n",
    "df6_ba_CAInG['in_ReportingUnitNativeID'] = df_ba['BasinID']\n",
    "df6_ba_CAInG['in_ReportingUnitTypeCV'] = \"Basin\"\n",
    "\n",
    "# AggregatedAmounts Info\n",
    "df6_ba_CAInG['in_ReportYearCV'] = df_ba['Year']\n",
    "df6_ba_CAInG['in_Amount'] = df_ba['GWCIndustrial_Annual']\n",
    "df6_ba_CAInG['in_BeneficialUseCategory'] = \"Industrial\"\n",
    "\n",
    "print(len(df6_ba_CAInG))\n",
    "df6_ba_CAInG.head(1)"
   ]
  },
  {
   "cell_type": "code",
   "execution_count": null,
   "metadata": {},
   "outputs": [],
   "source": [
    "# 7, Basin, Demand_Annual_Total_Surface Water\n",
    "df7_ba_DeATS = pd.DataFrame(index=df_ba.index)\n",
    "\n",
    "# Variable Info\n",
    "df7_ba_DeATS['in_VariableSpecificCV'] = \"Demand_Annual_Total_Surface Water\"\n",
    "\n",
    "# WaterSource Info\n",
    "df7_ba_DeATS['in_WaterSourceTypeCV'] = \"Surface Water\"\n",
    "\n",
    "# ReportingUnit Info\n",
    "df7_ba_DeATS['in_ReportingUnitName'] = df_ba['Basin']\n",
    "df7_ba_DeATS['in_ReportingUnitNativeID'] = df_ba['BasinID']\n",
    "df7_ba_DeATS['in_ReportingUnitTypeCV'] = \"Basin\"\n",
    "\n",
    "# AggregatedAmounts Info\n",
    "df7_ba_DeATS['in_ReportYearCV'] = df_ba['Year']\n",
    "df7_ba_DeATS['in_Amount'] = df_ba['SWDemandTotal_Annual']\n",
    "df7_ba_DeATS['in_BeneficialUseCategory'] = \"Total\"\n",
    "\n",
    "print(len(df7_ba_DeATS))\n",
    "df7_ba_DeATS.head(1)"
   ]
  },
  {
   "cell_type": "code",
   "execution_count": null,
   "metadata": {},
   "outputs": [],
   "source": [
    "# Concatenate Basin DataFrames\n",
    "frames = [df1_ba_DATS, df2_ba_DATG, d3f_ba_CATG, df4_ba_CAIrG, df5_ba_CAMG, df6_ba_CAInG, df7_ba_DeATS]\n",
    "df_BasinOUT = pd.concat(frames)\n",
    "\n",
    "print(len(df_BasinOUT))\n",
    "df_BasinOUT.head(1)"
   ]
  },
  {
   "cell_type": "code",
   "execution_count": null,
   "metadata": {},
   "outputs": [],
   "source": [
    "# variable check\n",
    "df_BasinOUT['in_VariableSpecificCV'].unique()"
   ]
  },
  {
   "cell_type": "markdown",
   "metadata": {},
   "source": [
    "## Subbasin - Water Use Data"
   ]
  },
  {
   "cell_type": "code",
   "execution_count": null,
   "metadata": {},
   "outputs": [],
   "source": [
    "#CSV input file\n",
    "fileInput = \"RawInputData/INSIGHT_FinalSubBasinData_20151102_input.csv\"\n",
    "df_sub = pd.read_csv(fileInput)\n",
    "print(len(df_sub))\n",
    "df_sub.head(1)"
   ]
  },
  {
   "cell_type": "code",
   "execution_count": null,
   "metadata": {},
   "outputs": [],
   "source": [
    "# 1, Depletion_Annual_Total_Surface Water\n",
    "df1_sub_DATS = pd.DataFrame(index=df_sub.index)\n",
    "\n",
    "# Variable Info\n",
    "df1_sub_DATS['in_VariableSpecificCV'] = \"Depletion_Annual_Total_Surface Water\"\n",
    "\n",
    "# WaterSource Info\n",
    "df1_sub_DATS['in_WaterSourceTypeCV'] = \"Surface Water\"\n",
    "\n",
    "# ReportingUnit Info\n",
    "df1_sub_DATS['in_ReportingUnitName'] = df_sub['Subbasin']\n",
    "df1_sub_DATS['in_ReportingUnitNativeID'] = df_sub['SubID']\n",
    "df1_sub_DATS['in_ReportingUnitTypeCV'] = \"Subbasin\"\n",
    "\n",
    "# AggregatedAmounts Info\n",
    "df1_sub_DATS['in_ReportYearCV'] = df_sub['Year']\n",
    "df1_sub_DATS['in_Amount'] = df_sub['SWDTotal_Annual']\n",
    "df1_sub_DATS['in_BeneficialUseCategory'] = \"Total\"\n",
    "\n",
    "print(len(df1_sub_DATS))\n",
    "df1_sub_DATS.head(1)"
   ]
  },
  {
   "cell_type": "code",
   "execution_count": null,
   "metadata": {},
   "outputs": [],
   "source": [
    "# 2, Basin, Depletion_Annual_Total_Groundwater\n",
    "df2_sub_DATG = pd.DataFrame(index=df_sub.index)\n",
    "\n",
    "# Variable Info\n",
    "df2_sub_DATG['in_VariableSpecificCV'] = \"Depletion_Annual_Total_Groundwater\"\n",
    "\n",
    "# WaterSource Info\n",
    "df2_sub_DATG['in_WaterSourceTypeCV'] = \"Groundwater\"\n",
    "\n",
    "# ReportingUnit Info\n",
    "df2_sub_DATG['in_ReportingUnitName'] = df_sub['Subbasin']\n",
    "df2_sub_DATG['in_ReportingUnitNativeID'] = df_sub['SubID']\n",
    "df2_sub_DATG['in_ReportingUnitTypeCV'] = \"Subbasin\"\n",
    "\n",
    "# AggregatedAmounts Info\n",
    "df2_sub_DATG['in_ReportYearCV'] = df_sub['Year']\n",
    "df2_sub_DATG['in_Amount'] = df_sub['GWDP_Annual']\n",
    "df2_sub_DATG['in_BeneficialUseCategory'] = \"Total\"\n",
    "\n",
    "print(len(df2_sub_DATG))\n",
    "df2_sub_DATG.head(1)"
   ]
  },
  {
   "cell_type": "code",
   "execution_count": null,
   "metadata": {},
   "outputs": [],
   "source": [
    "# 3, Basin, Consumptive Use_Annual_Total_Groundwater\n",
    "d3f_sub_CATG = pd.DataFrame(index=df_sub.index)\n",
    "\n",
    "# Variable Info\n",
    "d3f_sub_CATG['in_VariableSpecificCV'] = \"Consumptive Use_Annual_Total_Groundwater\"\n",
    "\n",
    "# WaterSource Info\n",
    "d3f_sub_CATG['in_WaterSourceTypeCV'] = \"Groundwater\"\n",
    "\n",
    "# ReportingUnit Info\n",
    "d3f_sub_CATG['in_ReportingUnitName'] = df_sub['Subbasin']\n",
    "d3f_sub_CATG['in_ReportingUnitNativeID'] = df_sub['SubID']\n",
    "d3f_sub_CATG['in_ReportingUnitTypeCV'] = \"Subbasin\"\n",
    "\n",
    "# AggregatedAmounts Info\n",
    "d3f_sub_CATG['in_ReportYearCV'] = df_sub['Year']\n",
    "d3f_sub_CATG['in_Amount'] = df_sub['GWCTotal_Annual']\n",
    "d3f_sub_CATG['in_BeneficialUseCategory'] = \"Total\"\n",
    "\n",
    "print(len(d3f_sub_CATG))\n",
    "d3f_sub_CATG.head(1)"
   ]
  },
  {
   "cell_type": "code",
   "execution_count": null,
   "metadata": {},
   "outputs": [],
   "source": [
    "# 4, Basin, Consumptive Use_Annual_Irrigation_Groundwater\n",
    "df4_sub_CAIrG = pd.DataFrame(index=df_sub.index)\n",
    "\n",
    "# Variable Info\n",
    "df4_sub_CAIrG['in_VariableSpecificCV'] = \"Consumptive Use_Annual_Irrigation_Groundwater\"\n",
    "\n",
    "# WaterSource Info\n",
    "df4_sub_CAIrG['in_WaterSourceTypeCV'] = \"Groundwater\"\n",
    "\n",
    "# ReportingUnit Info\n",
    "df4_sub_CAIrG['in_ReportingUnitName'] = df_sub['Subbasin']\n",
    "df4_sub_CAIrG['in_ReportingUnitNativeID'] = df_sub['SubID']\n",
    "df4_sub_CAIrG['in_ReportingUnitTypeCV'] = \"Subbasin\"\n",
    "\n",
    "# AggregatedAmounts Info\n",
    "df4_sub_CAIrG['in_ReportYearCV'] = df_sub['Year']\n",
    "df4_sub_CAIrG['in_Amount'] = df_sub['GWCIrrigation_Annual']\n",
    "df4_sub_CAIrG['in_BeneficialUseCategory'] = \"Irrigation\"\n",
    "\n",
    "print(len(df4_sub_CAIrG))\n",
    "df4_sub_CAIrG.head(1)"
   ]
  },
  {
   "cell_type": "code",
   "execution_count": null,
   "metadata": {},
   "outputs": [],
   "source": [
    "# 5, Basin, Consumptive Use_Annual_Municipal_Groundwater\n",
    "df5_sub_CAMG = pd.DataFrame(index=df_sub.index)\n",
    "\n",
    "# Variable Info\n",
    "df5_sub_CAMG['in_VariableSpecificCV'] = \"Consumptive Use_Annual_Municipal_Groundwater\"\n",
    "\n",
    "# WaterSource Info\n",
    "df5_sub_CAMG['in_WaterSourceTypeCV'] = \"Groundwater\"\n",
    "\n",
    "# ReportingUnit Info\n",
    "df5_sub_CAMG['in_ReportingUnitName'] = df_sub['Subbasin']\n",
    "df5_sub_CAMG['in_ReportingUnitNativeID'] = df_sub['SubID']\n",
    "df5_sub_CAMG['in_ReportingUnitTypeCV'] = \"Subbasin\"\n",
    "\n",
    "# AggregatedAmounts Info\n",
    "df5_sub_CAMG['in_ReportYearCV'] = df_sub['Year']\n",
    "df5_sub_CAMG['in_Amount'] = df_sub['GWCMunicipal_Annual']\n",
    "df5_sub_CAMG['in_BeneficialUseCategory'] = \"Municipal\"\n",
    "\n",
    "print(len(df5_sub_CAMG))\n",
    "df5_sub_CAMG.head(1)"
   ]
  },
  {
   "cell_type": "code",
   "execution_count": null,
   "metadata": {},
   "outputs": [],
   "source": [
    "# 6, Basin, Consumptive Use_Annual_Industrial_Groundwater\n",
    "df6_sub_CAInG = pd.DataFrame(index=df_sub.index)\n",
    "\n",
    "# Variable Info\n",
    "df6_sub_CAInG['in_VariableSpecificCV'] = \"Consumptive Use_Annual_Industrial_Groundwater\"\n",
    "\n",
    "# WaterSource Info\n",
    "df6_sub_CAInG['in_WaterSourceTypeCV'] = \"Groundwater\"\n",
    "\n",
    "# ReportingUnit Info\n",
    "df6_sub_CAInG['in_ReportingUnitName'] = df_sub['Subbasin']\n",
    "df6_sub_CAInG['in_ReportingUnitNativeID'] = df_sub['SubID']\n",
    "df6_sub_CAInG['in_ReportingUnitTypeCV'] = \"Subbasin\"\n",
    "\n",
    "# AggregatedAmounts Info\n",
    "df6_sub_CAInG['in_ReportYearCV'] = df_sub['Year']\n",
    "df6_sub_CAInG['in_Amount'] = df_sub['GWCIndustrial_Annual']\n",
    "df6_sub_CAInG['in_BeneficialUseCategory'] = \"Industrial\"\n",
    "\n",
    "print(len(df6_sub_CAInG))\n",
    "df6_sub_CAInG.head(1)"
   ]
  },
  {
   "cell_type": "code",
   "execution_count": null,
   "metadata": {},
   "outputs": [],
   "source": [
    "# 7, Basin, Demand_Annual_Total_Surface Water\n",
    "df7_sub_DeATS = pd.DataFrame(index=df_sub.index)\n",
    "\n",
    "# Variable Info\n",
    "df7_sub_DeATS['in_VariableSpecificCV'] = \"Demand_Annual_Total_Surface Water\"\n",
    "\n",
    "# WaterSource Info\n",
    "df7_sub_DeATS['in_WaterSourceTypeCV'] = \"Surface Water\"\n",
    "\n",
    "# ReportingUnit Info\n",
    "df7_sub_DeATS['in_ReportingUnitName'] = df_sub['Subbasin']\n",
    "df7_sub_DeATS['in_ReportingUnitNativeID'] = df_sub['SubID']\n",
    "df7_sub_DeATS['in_ReportingUnitTypeCV'] = \"Subbasin\"\n",
    "\n",
    "# AggregatedAmounts Info\n",
    "df7_sub_DeATS['in_ReportYearCV'] = df_sub['Year']\n",
    "df7_sub_DeATS['in_Amount'] = df_sub['SWDemandTotal_Annual']\n",
    "df7_sub_DeATS['in_BeneficialUseCategory'] = \"Total\"\n",
    "\n",
    "print(len(df7_sub_DeATS))\n",
    "df7_sub_DeATS.head(1)"
   ]
  },
  {
   "cell_type": "code",
   "execution_count": null,
   "metadata": {},
   "outputs": [],
   "source": [
    "# Concatenate Subbasin DataFrames\n",
    "frames = [df1_sub_DATS, df2_sub_DATG, d3f_sub_CATG, df4_sub_CAIrG, df5_sub_CAMG, df6_sub_CAInG, df7_sub_DeATS]\n",
    "df_SubbasinOUT = pd.concat(frames)\n",
    "\n",
    "print(len(df_SubbasinOUT))\n",
    "df_SubbasinOUT.head(1)"
   ]
  },
  {
   "cell_type": "code",
   "execution_count": null,
   "metadata": {},
   "outputs": [],
   "source": [
    "# variable check\n",
    "df_SubbasinOUT['in_ReportingUnitTypeCV'].unique()"
   ]
  },
  {
   "cell_type": "markdown",
   "metadata": {},
   "source": [
    "## Concatenate Basin & Subbasin DataFrames"
   ]
  },
  {
   "cell_type": "code",
   "execution_count": null,
   "metadata": {},
   "outputs": [],
   "source": [
    "# Concatenate Subbasin DataFrames\n",
    "frames = [df_BasinOUT, df_SubbasinOUT]\n",
    "df_out = pd.concat(frames).reset_index(drop=True)\n",
    "\n",
    "print(len(df_out))\n",
    "df_out.head()"
   ]
  },
  {
   "cell_type": "markdown",
   "metadata": {},
   "source": [
    "## WaDE Custom Elements (due to missing info)"
   ]
  },
  {
   "cell_type": "code",
   "execution_count": null,
   "metadata": {
    "scrolled": true
   },
   "outputs": [],
   "source": [
    "# Creating WaDE Custom water source native ID for easy water source identification\n",
    "# ----------------------------------------------------------------------------------------------------\n",
    "\n",
    "# Create temp WaterSourceNativeID dataframe of unique water source.\n",
    "def assignWaterSourceNativeID(colrowValue):\n",
    "    string1 = str(colrowValue)\n",
    "    outstring = \"WaDENE_WS\" + string1\n",
    "    return outstring\n",
    "\n",
    "dfWaterSourceNativeID = pd.DataFrame()\n",
    "dfWaterSourceNativeID['in_WaterSourceTypeCV'] = df_out['in_WaterSourceTypeCV']\n",
    "dfWaterSourceNativeID = dfWaterSourceNativeID.drop_duplicates()\n",
    "\n",
    "dftemp = pd.DataFrame(index=dfWaterSourceNativeID.index)\n",
    "dftemp[\"Count\"] = range(1, len(dftemp.index) + 1)\n",
    "dfWaterSourceNativeID['in_WaterSourceNativeID'] = dftemp.apply(lambda row: assignWaterSourceNativeID(row['Count']), axis=1)\n",
    "\n",
    "# ----------------------------------------------------------------------------------------------------\n",
    "\n",
    "# Retreive WaDE Custom water source native ID\n",
    "def retrieveWaterSourceNativeID(A):\n",
    "    if (A == '') or (pd.isnull(A)):\n",
    "        outList = ''\n",
    "    else:\n",
    "        ml = dfWaterSourceNativeID.loc[(dfWaterSourceNativeID['in_WaterSourceTypeCV'] == A), 'in_WaterSourceNativeID']\n",
    "        if not (ml.empty):  # check if the series is empty\n",
    "            outList = ml.iloc[0]\n",
    "        else:\n",
    "            outList = ''\n",
    "    return outList\n",
    "\n",
    "df_out['in_WaterSourceNativeID'] = df_out.apply(lambda row: retrieveWaterSourceNativeID(row['in_WaterSourceTypeCV']), axis=1)\n",
    "df_out"
   ]
  },
  {
   "cell_type": "markdown",
   "metadata": {},
   "source": [
    "## Shapefile Data"
   ]
  },
  {
   "cell_type": "code",
   "execution_count": null,
   "metadata": {},
   "outputs": [],
   "source": [
    "# Basin Shapefile Data\n",
    "BasinSHPInput = \"RawInputData/InsightShapeFiles/Basin.shp\"\n",
    "BasinShape = gpd.read_file(BasinSHPInput, crs=\"EPSG:4326\")\n",
    "\n",
    "print(len(BasinShape))\n",
    "BasinShape.head(3)"
   ]
  },
  {
   "cell_type": "code",
   "execution_count": null,
   "metadata": {},
   "outputs": [],
   "source": [
    "# Basin output shapefile dataframe\n",
    "columnList = ['in_ReportingUnitName', \n",
    "              'in_ReportingUnitNativeID',\n",
    "              'in_ReportingUnitTypeCV',\n",
    "              'in_Geomerty']\n",
    "df_basin_shp = pd.DataFrame(columns=columnList, index=BasinShape.index)\n",
    "\n",
    "df_basin_shp['in_ReportingUnitName'] = BasinShape['Basin']\n",
    "df_basin_shp['in_ReportingUnitNativeID'] = BasinShape['BID']\n",
    "df_basin_shp['in_ReportingUnitTypeCV'] = \"Basin\"\n",
    "df_basin_shp['in_Geomerty'] = BasinShape['geometry']\n",
    "\n",
    "print(len(df_basin_shp))\n",
    "df_basin_shp.head(3)"
   ]
  },
  {
   "cell_type": "code",
   "execution_count": null,
   "metadata": {},
   "outputs": [],
   "source": [
    "# Subbasin Shapefile Data\n",
    "SubbasinSHPInput = \"RawInputData/InsightShapeFiles/Subbasin.shp\"\n",
    "SubbasinShape = gpd.read_file(SubbasinSHPInput)\n",
    "\n",
    "print(len(SubbasinShape))\n",
    "SubbasinShape.head(3)"
   ]
  },
  {
   "cell_type": "code",
   "execution_count": null,
   "metadata": {},
   "outputs": [],
   "source": [
    "# Subbasin output shapefile dataframe\n",
    "columnList = ['in_ReportingUnitName', \n",
    "              'in_ReportingUnitNativeID',\n",
    "              'in_ReportingUnitTypeCV',\n",
    "              'in_Geomerty']\n",
    "df_subbasin_shp = pd.DataFrame(columns=columnList, index=SubbasinShape.index)\n",
    "\n",
    "df_subbasin_shp['in_ReportingUnitName'] = SubbasinShape['Subbasin']\n",
    "df_subbasin_shp['in_ReportingUnitNativeID'] = SubbasinShape['SubID']\n",
    "df_subbasin_shp['in_ReportingUnitTypeCV'] = \"Subbasin\"\n",
    "df_subbasin_shp['in_Geomerty'] = SubbasinShape['geometry']\n",
    "\n",
    "print(len(df_subbasin_shp))\n",
    "df_subbasin_shp.head(3)"
   ]
  },
  {
   "cell_type": "code",
   "execution_count": null,
   "metadata": {},
   "outputs": [],
   "source": [
    "# Concatenate Basin & Subbasin DataFrames\n",
    "frames = [df_basin_shp, df_subbasin_shp]\n",
    "df_shape_out = pd.concat(frames)\n",
    "\n",
    "print(len(df_shape_out))\n",
    "df_shape_out.head()"
   ]
  },
  {
   "cell_type": "markdown",
   "metadata": {},
   "source": [
    "### Inspect Output Data & Export"
   ]
  },
  {
   "cell_type": "code",
   "execution_count": null,
   "metadata": {
    "scrolled": false
   },
   "outputs": [],
   "source": [
    "with pd.option_context('display.max_rows', None, 'display.max_columns', None):\n",
    "    print(df_out.dtypes)"
   ]
  },
  {
   "cell_type": "code",
   "execution_count": null,
   "metadata": {},
   "outputs": [],
   "source": [
    "with pd.option_context('display.max_rows', None, 'display.max_columns', None):\n",
    "    print(df_shape_out.dtypes)"
   ]
  },
  {
   "cell_type": "code",
   "execution_count": null,
   "metadata": {},
   "outputs": [],
   "source": [
    "# Export out to CSV.\n",
    "df_out.to_csv('RawInputData/P_neAgMaster.csv', index=False) # The output.\n",
    "df_shape_out.to_csv('RawInputData/P_neAgGeometry.csv', index=False) # The output geometry."
   ]
  },
  {
   "cell_type": "code",
   "execution_count": null,
   "metadata": {},
   "outputs": [],
   "source": []
  }
 ],
 "metadata": {
  "kernelspec": {
   "display_name": "Python 3 (ipykernel)",
   "language": "python",
   "name": "python3"
  },
  "language_info": {
   "codemirror_mode": {
    "name": "ipython",
    "version": 3
   },
   "file_extension": ".py",
   "mimetype": "text/x-python",
   "name": "python",
   "nbconvert_exporter": "python",
   "pygments_lexer": "ipython3",
   "version": "3.9.13"
  }
 },
 "nbformat": 4,
 "nbformat_minor": 4
}
