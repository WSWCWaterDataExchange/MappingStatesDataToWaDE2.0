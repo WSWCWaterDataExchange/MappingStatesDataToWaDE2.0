{
 "cells": [
  {
   "cell_type": "markdown",
   "metadata": {},
   "source": [
    "# Pre-processing Overlay data for WaDE upload.\n",
    "- Purpose: To preprocess state overlay data into one main file for simple DataFrame creation and extraction."
   ]
  },
  {
   "cell_type": "code",
   "execution_count": 1,
   "metadata": {},
   "outputs": [],
   "source": [
    "# Needed Libraries / Modules\n",
    "\n",
    "# ---- working with data ----\n",
    "import os  # native operating system interaction\n",
    "import numpy as np  # mathematical array manipulation\n",
    "import pandas as pd  # data structure and data analysis\n",
    "import geopandas as gpd  # geo-data structure and data analysis\n",
    "\n",
    "# ---- visualization ----\n",
    "import matplotlib.pyplot as plt  # plotting library\n",
    "import seaborn as sns  # plotting library\n",
    "\n",
    "# ---- API data retrieval ----\n",
    "import requests  # http requests\n",
    "import json  # JSON parse\n",
    "\n",
    "# ---- Cleanup ----\n",
    "import re  # string regular expression manipulation\n",
    "from datetime import datetime  # date and time manipulation\n",
    "pd.set_option('display.max_columns', 999)  # How to display all columns of a Pandas DataFrame in Jupyter Notebook\n",
    "pd.set_option('display.float_format', lambda x: '%.5f' % x)  # suppress scientific notation in Pandas"
   ]
  },
  {
   "cell_type": "code",
   "execution_count": 2,
   "metadata": {},
   "outputs": [
    {
     "name": "stdout",
     "output_type": "stream",
     "text": [
      "The working Directory is: G:/Shared drives/WaDE Data/WaDE Data Folder/Nebraska/Overlays\n"
     ]
    }
   ],
   "source": [
    "# ---- working directory ----\n",
    "workingDirString = \"G:/Shared drives/WaDE Data/WaDE Data Folder/Nebraska/Overlays\" # set working directory folder string here\n",
    "os.chdir(workingDirString)\n",
    "print(f'The working Directory is:', workingDirString)"
   ]
  },
  {
   "cell_type": "markdown",
   "metadata": {},
   "source": [
    "## Overlay Area Data #1"
   ]
  },
  {
   "cell_type": "code",
   "execution_count": 3,
   "metadata": {},
   "outputs": [
    {
     "name": "stdout",
     "output_type": "stream",
     "text": [
      "23\n"
     ]
    },
    {
     "data": {
      "text/html": [
       "<div>\n",
       "<style scoped>\n",
       "    .dataframe tbody tr th:only-of-type {\n",
       "        vertical-align: middle;\n",
       "    }\n",
       "\n",
       "    .dataframe tbody tr th {\n",
       "        vertical-align: top;\n",
       "    }\n",
       "\n",
       "    .dataframe thead th {\n",
       "        text-align: right;\n",
       "    }\n",
       "</style>\n",
       "<table border=\"1\" class=\"dataframe\">\n",
       "  <thead>\n",
       "    <tr style=\"text-align: right;\">\n",
       "      <th></th>\n",
       "      <th>OBJECTID</th>\n",
       "      <th>NRD_Name</th>\n",
       "      <th>NRD_Name_A</th>\n",
       "      <th>NRD_Num</th>\n",
       "      <th>Shape_Leng</th>\n",
       "      <th>Shape_Le_1</th>\n",
       "      <th>Shape_Area</th>\n",
       "      <th>geometry</th>\n",
       "      <th>WaDEUUID</th>\n",
       "    </tr>\n",
       "  </thead>\n",
       "  <tbody>\n",
       "    <tr>\n",
       "      <th>0</th>\n",
       "      <td>1</td>\n",
       "      <td>Lower Republican</td>\n",
       "      <td>LOWER REPUBLICAN</td>\n",
       "      <td>23</td>\n",
       "      <td>605099.76849</td>\n",
       "      <td>5.22031</td>\n",
       "      <td>0.67953</td>\n",
       "      <td>POLYGON ((-97.93460 40.00210, -98.17728 40.002...</td>\n",
       "      <td>ov0</td>\n",
       "    </tr>\n",
       "    <tr>\n",
       "      <th>1</th>\n",
       "      <td>2</td>\n",
       "      <td>Tri-Basin</td>\n",
       "      <td>TRI-BASIN</td>\n",
       "      <td>24</td>\n",
       "      <td>413768.86546</td>\n",
       "      <td>3.45080</td>\n",
       "      <td>0.41809</td>\n",
       "      <td>POLYGON ((-98.72437 40.68977, -98.72389 40.451...</td>\n",
       "      <td>ov1</td>\n",
       "    </tr>\n",
       "    <tr>\n",
       "      <th>2</th>\n",
       "      <td>3</td>\n",
       "      <td>Little Blue</td>\n",
       "      <td>LITTLE BLUE</td>\n",
       "      <td>5</td>\n",
       "      <td>606780.75182</td>\n",
       "      <td>5.01537</td>\n",
       "      <td>0.65961</td>\n",
       "      <td>POLYGON ((-97.36873 40.43739, -97.36879 40.350...</td>\n",
       "      <td>ov2</td>\n",
       "    </tr>\n",
       "    <tr>\n",
       "      <th>3</th>\n",
       "      <td>4</td>\n",
       "      <td>Lower Big Blue</td>\n",
       "      <td>LOWER BIG BLUE</td>\n",
       "      <td>2</td>\n",
       "      <td>438586.07860</td>\n",
       "      <td>3.49527</td>\n",
       "      <td>0.45064</td>\n",
       "      <td>POLYGON ((-96.74194 40.52312, -96.68493 40.523...</td>\n",
       "      <td>ov3</td>\n",
       "    </tr>\n",
       "    <tr>\n",
       "      <th>4</th>\n",
       "      <td>5</td>\n",
       "      <td>Nemaha</td>\n",
       "      <td>NEMAHA</td>\n",
       "      <td>11</td>\n",
       "      <td>606872.26451</td>\n",
       "      <td>4.88719</td>\n",
       "      <td>0.67026</td>\n",
       "      <td>POLYGON ((-95.88707 40.72605, -95.88319 40.717...</td>\n",
       "      <td>ov4</td>\n",
       "    </tr>\n",
       "  </tbody>\n",
       "</table>\n",
       "</div>"
      ],
      "text/plain": [
       "   OBJECTID          NRD_Name        NRD_Name_A  NRD_Num   Shape_Leng  \\\n",
       "0         1  Lower Republican  LOWER REPUBLICAN       23 605099.76849   \n",
       "1         2         Tri-Basin         TRI-BASIN       24 413768.86546   \n",
       "2         3       Little Blue       LITTLE BLUE        5 606780.75182   \n",
       "3         4    Lower Big Blue    LOWER BIG BLUE        2 438586.07860   \n",
       "4         5            Nemaha            NEMAHA       11 606872.26451   \n",
       "\n",
       "   Shape_Le_1  Shape_Area                                           geometry  \\\n",
       "0     5.22031     0.67953  POLYGON ((-97.93460 40.00210, -98.17728 40.002...   \n",
       "1     3.45080     0.41809  POLYGON ((-98.72437 40.68977, -98.72389 40.451...   \n",
       "2     5.01537     0.65961  POLYGON ((-97.36873 40.43739, -97.36879 40.350...   \n",
       "3     3.49527     0.45064  POLYGON ((-96.74194 40.52312, -96.68493 40.523...   \n",
       "4     4.88719     0.67026  POLYGON ((-95.88707 40.72605, -95.88319 40.717...   \n",
       "\n",
       "  WaDEUUID  \n",
       "0      ov0  \n",
       "1      ov1  \n",
       "2      ov2  \n",
       "3      ov3  \n",
       "4      ov4  "
      ]
     },
     "execution_count": 3,
     "metadata": {},
     "output_type": "execute_result"
    }
   ],
   "source": [
    "# Input File\n",
    "inputFile = \"RawInputData/shapefiles/Natural_Resource_District_NRD_Boundaries_20250129.zip\"\n",
    "dfin1 = gpd.read_file(inputFile).replace(np.nan, \"\")\n",
    "dfin1['geometry'] = dfin1['geometry'].to_crs(epsg=4326) # Realign Geometry Projection\n",
    "\n",
    "# WaDE UUID tracker for data assessment\n",
    "if 'WaDEUUID' not in dfin1:\n",
    "    dfin1['WaDEUUID'] = \"ov\" + dfin1.index.astype(str)\n",
    "    dfin1.to_csv('RawInputData/Natural_Resource_District_NRD_Boundaries_20250129.zip', compression=dict(method='zip', archive_name='Natural_Resource_District_NRD_Boundaries_20250129.csv'), index=False)\n",
    "\n",
    "print(len(dfin1))\n",
    "dfin1.head()"
   ]
  },
  {
   "cell_type": "code",
   "execution_count": 4,
   "metadata": {},
   "outputs": [
    {
     "data": {
      "text/html": [
       "<div>\n",
       "<style scoped>\n",
       "    .dataframe tbody tr th:only-of-type {\n",
       "        vertical-align: middle;\n",
       "    }\n",
       "\n",
       "    .dataframe tbody tr th {\n",
       "        vertical-align: top;\n",
       "    }\n",
       "\n",
       "    .dataframe thead th {\n",
       "        text-align: right;\n",
       "    }\n",
       "</style>\n",
       "<table border=\"1\" class=\"dataframe\">\n",
       "  <thead>\n",
       "    <tr style=\"text-align: right;\">\n",
       "      <th></th>\n",
       "      <th>OBJECTID</th>\n",
       "      <th>NRD_Name</th>\n",
       "      <th>NRD_Name_A</th>\n",
       "      <th>NRD_Num</th>\n",
       "      <th>Shape_Leng</th>\n",
       "      <th>Shape_Le_1</th>\n",
       "      <th>Shape_Area</th>\n",
       "      <th>geometry</th>\n",
       "      <th>WaDEUUID</th>\n",
       "      <th>in_RegulatoryStatuteLink</th>\n",
       "    </tr>\n",
       "  </thead>\n",
       "  <tbody>\n",
       "    <tr>\n",
       "      <th>0</th>\n",
       "      <td>1</td>\n",
       "      <td>Lower Republican</td>\n",
       "      <td>LOWER REPUBLICAN</td>\n",
       "      <td>23</td>\n",
       "      <td>605099.76849</td>\n",
       "      <td>5.22031</td>\n",
       "      <td>0.67953</td>\n",
       "      <td>POLYGON ((-97.93460 40.00210, -98.17728 40.002...</td>\n",
       "      <td>ov0</td>\n",
       "      <td>https://www.lrnrd.org/</td>\n",
       "    </tr>\n",
       "    <tr>\n",
       "      <th>1</th>\n",
       "      <td>2</td>\n",
       "      <td>Tri-Basin</td>\n",
       "      <td>TRI-BASIN</td>\n",
       "      <td>24</td>\n",
       "      <td>413768.86546</td>\n",
       "      <td>3.45080</td>\n",
       "      <td>0.41809</td>\n",
       "      <td>POLYGON ((-98.72437 40.68977, -98.72389 40.451...</td>\n",
       "      <td>ov1</td>\n",
       "      <td>https://www.tribasinnrd.org/</td>\n",
       "    </tr>\n",
       "    <tr>\n",
       "      <th>2</th>\n",
       "      <td>3</td>\n",
       "      <td>Little Blue</td>\n",
       "      <td>LITTLE BLUE</td>\n",
       "      <td>5</td>\n",
       "      <td>606780.75182</td>\n",
       "      <td>5.01537</td>\n",
       "      <td>0.65961</td>\n",
       "      <td>POLYGON ((-97.36873 40.43739, -97.36879 40.350...</td>\n",
       "      <td>ov2</td>\n",
       "      <td>http://www.littlebluenrd.org/</td>\n",
       "    </tr>\n",
       "    <tr>\n",
       "      <th>3</th>\n",
       "      <td>4</td>\n",
       "      <td>Lower Big Blue</td>\n",
       "      <td>LOWER BIG BLUE</td>\n",
       "      <td>2</td>\n",
       "      <td>438586.07860</td>\n",
       "      <td>3.49527</td>\n",
       "      <td>0.45064</td>\n",
       "      <td>POLYGON ((-96.74194 40.52312, -96.68493 40.523...</td>\n",
       "      <td>ov3</td>\n",
       "      <td>http://www.lbbnrd.net</td>\n",
       "    </tr>\n",
       "    <tr>\n",
       "      <th>4</th>\n",
       "      <td>5</td>\n",
       "      <td>Nemaha</td>\n",
       "      <td>NEMAHA</td>\n",
       "      <td>11</td>\n",
       "      <td>606872.26451</td>\n",
       "      <td>4.88719</td>\n",
       "      <td>0.67026</td>\n",
       "      <td>POLYGON ((-95.88707 40.72605, -95.88319 40.717...</td>\n",
       "      <td>ov4</td>\n",
       "      <td>https://www.nemahanrd.org/</td>\n",
       "    </tr>\n",
       "  </tbody>\n",
       "</table>\n",
       "</div>"
      ],
      "text/plain": [
       "   OBJECTID          NRD_Name        NRD_Name_A  NRD_Num   Shape_Leng  \\\n",
       "0         1  Lower Republican  LOWER REPUBLICAN       23 605099.76849   \n",
       "1         2         Tri-Basin         TRI-BASIN       24 413768.86546   \n",
       "2         3       Little Blue       LITTLE BLUE        5 606780.75182   \n",
       "3         4    Lower Big Blue    LOWER BIG BLUE        2 438586.07860   \n",
       "4         5            Nemaha            NEMAHA       11 606872.26451   \n",
       "\n",
       "   Shape_Le_1  Shape_Area                                           geometry  \\\n",
       "0     5.22031     0.67953  POLYGON ((-97.93460 40.00210, -98.17728 40.002...   \n",
       "1     3.45080     0.41809  POLYGON ((-98.72437 40.68977, -98.72389 40.451...   \n",
       "2     5.01537     0.65961  POLYGON ((-97.36873 40.43739, -97.36879 40.350...   \n",
       "3     3.49527     0.45064  POLYGON ((-96.74194 40.52312, -96.68493 40.523...   \n",
       "4     4.88719     0.67026  POLYGON ((-95.88707 40.72605, -95.88319 40.717...   \n",
       "\n",
       "  WaDEUUID       in_RegulatoryStatuteLink  \n",
       "0      ov0         https://www.lrnrd.org/  \n",
       "1      ov1   https://www.tribasinnrd.org/  \n",
       "2      ov2  http://www.littlebluenrd.org/  \n",
       "3      ov3          http://www.lbbnrd.net  \n",
       "4      ov4     https://www.nemahanrd.org/  "
      ]
     },
     "execution_count": 4,
     "metadata": {},
     "output_type": "execute_result"
    }
   ],
   "source": [
    "# Create URL\n",
    "# URL link info was found here: https://www.nrdnet.org/\n",
    "\n",
    "URLdict = {\n",
    "\"1\" : \"https://www.lrnrd.org/\",\n",
    "\"2\" : \"https://www.tribasinnrd.org/\",\n",
    "\"3\" : \"http://www.littlebluenrd.org/\",\n",
    "\"4\" : \"http://www.lbbnrd.net\",\n",
    "\"5\" : \"https://www.nemahanrd.org/\",\n",
    "\"6\" : \"http://www.mrnrd.org\",\n",
    "\"7\" : \"http://www.urnrd.org\",\n",
    "\"8\" : \"https://www.lpsnrd.org/\",\n",
    "\"9\" : \"http://www.upperbigblue.org\",\n",
    "\"10\" : \"www.cpnrd.org\",\n",
    "\"11\" : \"http://www.spnrd.org\",\n",
    "\"12\" : \"http://www.tpnrd.org\",\n",
    "\"13\" : \"http://www.lpnnrd.org\",\n",
    "\"14\" : \"http://www.llnrd.org\",\n",
    "\"15\" : \"http://www.npnrd.org\",\n",
    "\"16\" : \"http://www.upperloupnrd.org\",\n",
    "\"17\" : \"http://www.papionrd.org\",\n",
    "\"18\" : \"http://www.lenrd.org\",\n",
    "\"19\" : \"http://www.uenrd.org\",\n",
    "\"20\" : \"https://lcnrd.nebraska.gov/\",\n",
    "\"21\" : \"http://www.lnnrd.org\",\n",
    "\"22\" : \"http://www.mnnrd.org\",\n",
    "\"23\" : \"http://www.unwnrd.org\"}\n",
    "\n",
    "def retrieveURL(valA):\n",
    "    valA = str(valA).strip()\n",
    "    if valA == '' or pd.isnull(valA):\n",
    "        outString = ''\n",
    "    else:\n",
    "        String1 = valA\n",
    "        try:\n",
    "            outString = URLdict[String1]\n",
    "        except:\n",
    "            outString = ''\n",
    "    return outString\n",
    "\n",
    "\n",
    "dfin1['in_RegulatoryStatuteLink'] = dfin1.apply(lambda row: retrieveURL(row['OBJECTID']), axis=1)\n",
    "dfin1.head()"
   ]
  },
  {
   "cell_type": "code",
   "execution_count": 5,
   "metadata": {},
   "outputs": [
    {
     "name": "stdout",
     "output_type": "stream",
     "text": [
      "23\n"
     ]
    },
    {
     "data": {
      "text/html": [
       "<div>\n",
       "<style scoped>\n",
       "    .dataframe tbody tr th:only-of-type {\n",
       "        vertical-align: middle;\n",
       "    }\n",
       "\n",
       "    .dataframe tbody tr th {\n",
       "        vertical-align: top;\n",
       "    }\n",
       "\n",
       "    .dataframe thead th {\n",
       "        text-align: right;\n",
       "    }\n",
       "</style>\n",
       "<table border=\"1\" class=\"dataframe\">\n",
       "  <thead>\n",
       "    <tr style=\"text-align: right;\">\n",
       "      <th></th>\n",
       "      <th>WaDEUUID</th>\n",
       "      <th>in_Date</th>\n",
       "      <th>in_Year</th>\n",
       "      <th>in_OrganizationUUID</th>\n",
       "      <th>in_EPSGCodeCV</th>\n",
       "      <th>in_ReportingUnitName</th>\n",
       "      <th>in_ReportingUnitNativeID</th>\n",
       "      <th>in_ReportingUnitProductVersion</th>\n",
       "      <th>in_ReportingUnitTypeCV</th>\n",
       "      <th>in_ReportingUnitUpdateDate</th>\n",
       "      <th>in_StateCV</th>\n",
       "      <th>in_Geometry</th>\n",
       "      <th>in_OversightAgency</th>\n",
       "      <th>in_RegulatoryDescription</th>\n",
       "      <th>in_RegulatoryName</th>\n",
       "      <th>in_RegulatoryOverlayNativeID</th>\n",
       "      <th>in_RegulatoryStatusCV</th>\n",
       "      <th>in_RegulatoryStatute</th>\n",
       "      <th>in_RegulatoryStatuteLink</th>\n",
       "      <th>in_StatutoryEffectiveDate</th>\n",
       "      <th>in_StatutoryEndDate</th>\n",
       "      <th>in_RegulatoryOverlayTypeCV</th>\n",
       "      <th>in_WaterSourceTypeCV</th>\n",
       "    </tr>\n",
       "  </thead>\n",
       "  <tbody>\n",
       "    <tr>\n",
       "      <th>0</th>\n",
       "      <td>ov0</td>\n",
       "      <td>01/25/2025</td>\n",
       "      <td>2025</td>\n",
       "      <td>NEov_O1</td>\n",
       "      <td>4326</td>\n",
       "      <td>LOWER REPUBLICAN</td>\n",
       "      <td>ne23</td>\n",
       "      <td></td>\n",
       "      <td>Natural Resources Districts</td>\n",
       "      <td></td>\n",
       "      <td>NE</td>\n",
       "      <td></td>\n",
       "      <td>LOWER REPUBLICANNRD</td>\n",
       "      <td>Natural Resources Districts were created to so...</td>\n",
       "      <td>LOWER REPUBLICAN</td>\n",
       "      <td>23</td>\n",
       "      <td>Active</td>\n",
       "      <td></td>\n",
       "      <td>https://www.lrnrd.org/</td>\n",
       "      <td>01/01/1972</td>\n",
       "      <td></td>\n",
       "      <td>Natural Resources Districts</td>\n",
       "      <td>Groundwater</td>\n",
       "    </tr>\n",
       "    <tr>\n",
       "      <th>1</th>\n",
       "      <td>ov1</td>\n",
       "      <td>01/25/2025</td>\n",
       "      <td>2025</td>\n",
       "      <td>NEov_O1</td>\n",
       "      <td>4326</td>\n",
       "      <td>TRI-BASIN</td>\n",
       "      <td>ne24</td>\n",
       "      <td></td>\n",
       "      <td>Natural Resources Districts</td>\n",
       "      <td></td>\n",
       "      <td>NE</td>\n",
       "      <td></td>\n",
       "      <td>TRI-BASINNRD</td>\n",
       "      <td>Natural Resources Districts were created to so...</td>\n",
       "      <td>TRI-BASIN</td>\n",
       "      <td>24</td>\n",
       "      <td>Active</td>\n",
       "      <td></td>\n",
       "      <td>https://www.tribasinnrd.org/</td>\n",
       "      <td>01/01/1972</td>\n",
       "      <td></td>\n",
       "      <td>Natural Resources Districts</td>\n",
       "      <td>Groundwater</td>\n",
       "    </tr>\n",
       "    <tr>\n",
       "      <th>2</th>\n",
       "      <td>ov2</td>\n",
       "      <td>01/25/2025</td>\n",
       "      <td>2025</td>\n",
       "      <td>NEov_O1</td>\n",
       "      <td>4326</td>\n",
       "      <td>LITTLE BLUE</td>\n",
       "      <td>ne5</td>\n",
       "      <td></td>\n",
       "      <td>Natural Resources Districts</td>\n",
       "      <td></td>\n",
       "      <td>NE</td>\n",
       "      <td></td>\n",
       "      <td>LITTLE BLUENRD</td>\n",
       "      <td>Natural Resources Districts were created to so...</td>\n",
       "      <td>LITTLE BLUE</td>\n",
       "      <td>5</td>\n",
       "      <td>Active</td>\n",
       "      <td></td>\n",
       "      <td>http://www.littlebluenrd.org/</td>\n",
       "      <td>01/01/1972</td>\n",
       "      <td></td>\n",
       "      <td>Natural Resources Districts</td>\n",
       "      <td>Groundwater</td>\n",
       "    </tr>\n",
       "    <tr>\n",
       "      <th>3</th>\n",
       "      <td>ov3</td>\n",
       "      <td>01/25/2025</td>\n",
       "      <td>2025</td>\n",
       "      <td>NEov_O1</td>\n",
       "      <td>4326</td>\n",
       "      <td>LOWER BIG BLUE</td>\n",
       "      <td>ne2</td>\n",
       "      <td></td>\n",
       "      <td>Natural Resources Districts</td>\n",
       "      <td></td>\n",
       "      <td>NE</td>\n",
       "      <td></td>\n",
       "      <td>LOWER BIG BLUENRD</td>\n",
       "      <td>Natural Resources Districts were created to so...</td>\n",
       "      <td>LOWER BIG BLUE</td>\n",
       "      <td>2</td>\n",
       "      <td>Active</td>\n",
       "      <td></td>\n",
       "      <td>http://www.lbbnrd.net</td>\n",
       "      <td>01/01/1972</td>\n",
       "      <td></td>\n",
       "      <td>Natural Resources Districts</td>\n",
       "      <td>Groundwater</td>\n",
       "    </tr>\n",
       "    <tr>\n",
       "      <th>4</th>\n",
       "      <td>ov4</td>\n",
       "      <td>01/25/2025</td>\n",
       "      <td>2025</td>\n",
       "      <td>NEov_O1</td>\n",
       "      <td>4326</td>\n",
       "      <td>NEMAHA</td>\n",
       "      <td>ne11</td>\n",
       "      <td></td>\n",
       "      <td>Natural Resources Districts</td>\n",
       "      <td></td>\n",
       "      <td>NE</td>\n",
       "      <td></td>\n",
       "      <td>NEMAHANRD</td>\n",
       "      <td>Natural Resources Districts were created to so...</td>\n",
       "      <td>NEMAHA</td>\n",
       "      <td>11</td>\n",
       "      <td>Active</td>\n",
       "      <td></td>\n",
       "      <td>https://www.nemahanrd.org/</td>\n",
       "      <td>01/01/1972</td>\n",
       "      <td></td>\n",
       "      <td>Natural Resources Districts</td>\n",
       "      <td>Groundwater</td>\n",
       "    </tr>\n",
       "  </tbody>\n",
       "</table>\n",
       "</div>"
      ],
      "text/plain": [
       "  WaDEUUID     in_Date in_Year in_OrganizationUUID in_EPSGCodeCV  \\\n",
       "0      ov0  01/25/2025    2025             NEov_O1          4326   \n",
       "1      ov1  01/25/2025    2025             NEov_O1          4326   \n",
       "2      ov2  01/25/2025    2025             NEov_O1          4326   \n",
       "3      ov3  01/25/2025    2025             NEov_O1          4326   \n",
       "4      ov4  01/25/2025    2025             NEov_O1          4326   \n",
       "\n",
       "  in_ReportingUnitName in_ReportingUnitNativeID  \\\n",
       "0     LOWER REPUBLICAN                     ne23   \n",
       "1            TRI-BASIN                     ne24   \n",
       "2          LITTLE BLUE                      ne5   \n",
       "3       LOWER BIG BLUE                      ne2   \n",
       "4               NEMAHA                     ne11   \n",
       "\n",
       "  in_ReportingUnitProductVersion       in_ReportingUnitTypeCV  \\\n",
       "0                                 Natural Resources Districts   \n",
       "1                                 Natural Resources Districts   \n",
       "2                                 Natural Resources Districts   \n",
       "3                                 Natural Resources Districts   \n",
       "4                                 Natural Resources Districts   \n",
       "\n",
       "  in_ReportingUnitUpdateDate in_StateCV in_Geometry   in_OversightAgency  \\\n",
       "0                                    NE              LOWER REPUBLICANNRD   \n",
       "1                                    NE                     TRI-BASINNRD   \n",
       "2                                    NE                   LITTLE BLUENRD   \n",
       "3                                    NE                LOWER BIG BLUENRD   \n",
       "4                                    NE                        NEMAHANRD   \n",
       "\n",
       "                            in_RegulatoryDescription in_RegulatoryName  \\\n",
       "0  Natural Resources Districts were created to so...  LOWER REPUBLICAN   \n",
       "1  Natural Resources Districts were created to so...         TRI-BASIN   \n",
       "2  Natural Resources Districts were created to so...       LITTLE BLUE   \n",
       "3  Natural Resources Districts were created to so...    LOWER BIG BLUE   \n",
       "4  Natural Resources Districts were created to so...            NEMAHA   \n",
       "\n",
       "   in_RegulatoryOverlayNativeID in_RegulatoryStatusCV in_RegulatoryStatute  \\\n",
       "0                            23                Active                        \n",
       "1                            24                Active                        \n",
       "2                             5                Active                        \n",
       "3                             2                Active                        \n",
       "4                            11                Active                        \n",
       "\n",
       "        in_RegulatoryStatuteLink in_StatutoryEffectiveDate  \\\n",
       "0         https://www.lrnrd.org/                01/01/1972   \n",
       "1   https://www.tribasinnrd.org/                01/01/1972   \n",
       "2  http://www.littlebluenrd.org/                01/01/1972   \n",
       "3          http://www.lbbnrd.net                01/01/1972   \n",
       "4     https://www.nemahanrd.org/                01/01/1972   \n",
       "\n",
       "  in_StatutoryEndDate   in_RegulatoryOverlayTypeCV in_WaterSourceTypeCV  \n",
       "0                      Natural Resources Districts          Groundwater  \n",
       "1                      Natural Resources Districts          Groundwater  \n",
       "2                      Natural Resources Districts          Groundwater  \n",
       "3                      Natural Resources Districts          Groundwater  \n",
       "4                      Natural Resources Districts          Groundwater  "
      ]
     },
     "execution_count": 5,
     "metadata": {},
     "output_type": "execute_result"
    }
   ],
   "source": [
    "# create output for Overlay Area #1 dataframe\n",
    "df = pd.DataFrame()\n",
    "\n",
    "# Data Assessment UUID\n",
    "df['WaDEUUID'] = dfin1['WaDEUUID']\n",
    "\n",
    "# Date Info\n",
    "df['in_Date'] = \"01/25/2025\"\n",
    "df['in_Year'] = \"2025\"\n",
    "\n",
    "# Organization Info\n",
    "df['in_OrganizationUUID'] = \"NEov_O1\"\n",
    "\n",
    "# ReportingUnit Info\n",
    "df['in_EPSGCodeCV'] = \"4326\"\n",
    "df['in_ReportingUnitName'] = dfin1['NRD_Name_A']\n",
    "df['in_ReportingUnitNativeID'] = \"ne\" + dfin1['NRD_Num'].astype(str)\n",
    "df['in_ReportingUnitProductVersion'] = \"\"\n",
    "df['in_ReportingUnitTypeCV'] = \"Natural Resources Districts\"\n",
    "df['in_ReportingUnitUpdateDate'] = \"\"\n",
    "df['in_StateCV'] = \"NE\"\n",
    "df['in_Geometry'] = dfin1['geometry']\n",
    "\n",
    "# RegulatoryOverlay Info\n",
    "df['in_OversightAgency'] = dfin1['NRD_Name_A'] + \"NRD\"\n",
    "df['in_RegulatoryDescription'] = \"Natural Resources Districts were created to solve flood control, soil erosion, irrigation run-off, and groundwater quantity and quality issues. Nebraska's NRDs are involved in a wide variety of projects and programs to conserve and protect the state's natural resources. NRDs are charged under state law with 12 areas of responsibility including flood control, soil erosion, groundwater management and many others.\"\n",
    "df['in_RegulatoryName'] = dfin1['NRD_Name_A']\n",
    "df['in_RegulatoryOverlayNativeID'] = dfin1['NRD_Num']\n",
    "df['in_RegulatoryStatusCV'] = \"Active\"\n",
    "df['in_RegulatoryStatute'] = \"\"\n",
    "df['in_RegulatoryStatuteLink'] = dfin1['in_RegulatoryStatuteLink']\n",
    "df['in_StatutoryEffectiveDate'] = \"01/01/1972\"\n",
    "df['in_StatutoryEndDate'] = \"\"\n",
    "df['in_RegulatoryOverlayTypeCV'] = \"Natural Resources Districts\"\n",
    "df['in_WaterSourceTypeCV'] = \"Groundwater\"\n",
    "\n",
    "df = df.drop_duplicates().reset_index(drop=True)\n",
    "outdf1 = df.copy()\n",
    "print(len(outdf1))\n",
    "outdf1.head()"
   ]
  },
  {
   "cell_type": "markdown",
   "metadata": {},
   "source": [
    "## Overlay Area #2"
   ]
  },
  {
   "cell_type": "code",
   "execution_count": 6,
   "metadata": {},
   "outputs": [],
   "source": [
    "# etc etc,"
   ]
  },
  {
   "cell_type": "markdown",
   "metadata": {},
   "source": [
    "## Concatenate DataFrames together"
   ]
  },
  {
   "cell_type": "code",
   "execution_count": 7,
   "metadata": {},
   "outputs": [
    {
     "name": "stdout",
     "output_type": "stream",
     "text": [
      "23\n"
     ]
    }
   ],
   "source": [
    "# Concatenate dataframes\n",
    "frames = [outdf1] # list all out dataframes here\n",
    "outdf = pd.concat(frames)\n",
    "outdf = outdf.drop_duplicates().reset_index(drop=True).replace(np.nan, \"\")\n",
    "print(len(outdf))"
   ]
  },
  {
   "cell_type": "markdown",
   "metadata": {},
   "source": [
    "## Clean Data / data types"
   ]
  },
  {
   "cell_type": "code",
   "execution_count": 8,
   "metadata": {
    "scrolled": true
   },
   "outputs": [],
   "source": [
    "# Ensure Empty String / remove string value of \"nan\"\n",
    "\n",
    "def ensureEmptyString(val):\n",
    "    val = str(val).strip()\n",
    "    if val == \"\" or val == \" \" or val == \"nan\" or pd.isnull(val):\n",
    "        outString = \"\"\n",
    "    else:\n",
    "        outString = val\n",
    "    return outString"
   ]
  },
  {
   "cell_type": "code",
   "execution_count": 9,
   "metadata": {},
   "outputs": [
    {
     "data": {
      "text/plain": [
       "array(['LOWER REPUBLICAN', 'TRI-BASIN', 'LITTLE BLUE', 'LOWER BIG BLUE',\n",
       "       'NEMAHA', 'MIDDLE REPUBLICAN', 'UPPER REPUBLICAN',\n",
       "       'LOWER PLATTE SOUTH', 'UPPER BIG BLUE', 'CENTRAL PLATTE',\n",
       "       'SOUTH PLATTE', 'TWIN PLATTE', 'LOWER PLATTE NORTH', 'LOWER LOUP',\n",
       "       'NORTH PLATTE', 'UPPER LOUP', 'PAPIO-MISSOURI RIVER',\n",
       "       'LOWER ELKHORN', 'UPPER ELKHORN', 'LEWIS & CLARK',\n",
       "       'LOWER NIOBRARA', 'MIDDLE NIOBRARA', 'UPPER NIOBRARA-WHITE'],\n",
       "      dtype=object)"
      ]
     },
     "execution_count": 9,
     "metadata": {},
     "output_type": "execute_result"
    }
   ],
   "source": [
    "outdf['in_ReportingUnitName'] = outdf.apply(lambda row: ensureEmptyString(row['in_ReportingUnitName']), axis=1)\n",
    "outdf['in_ReportingUnitName'].unique()"
   ]
  },
  {
   "cell_type": "code",
   "execution_count": 10,
   "metadata": {},
   "outputs": [
    {
     "data": {
      "text/plain": [
       "array([\"Natural Resources Districts were created to solve flood control, soil erosion, irrigation run-off, and groundwater quantity and quality issues. Nebraska's NRDs are involved in a wide variety of projects and programs to conserve and protect the state's natural resources. NRDs are charged under state law with 12 areas of responsibility including flood control, soil erosion, groundwater management and many others.\"],\n",
       "      dtype=object)"
      ]
     },
     "execution_count": 10,
     "metadata": {},
     "output_type": "execute_result"
    }
   ],
   "source": [
    "outdf['in_RegulatoryDescription'] = outdf.apply(lambda row: ensureEmptyString(row['in_RegulatoryDescription']), axis=1)\n",
    "outdf['in_RegulatoryDescription'].unique()"
   ]
  },
  {
   "cell_type": "code",
   "execution_count": 11,
   "metadata": {},
   "outputs": [
    {
     "data": {
      "text/plain": [
       "array(['LOWER REPUBLICAN', 'TRI-BASIN', 'LITTLE BLUE', 'LOWER BIG BLUE',\n",
       "       'NEMAHA', 'MIDDLE REPUBLICAN', 'UPPER REPUBLICAN',\n",
       "       'LOWER PLATTE SOUTH', 'UPPER BIG BLUE', 'CENTRAL PLATTE',\n",
       "       'SOUTH PLATTE', 'TWIN PLATTE', 'LOWER PLATTE NORTH', 'LOWER LOUP',\n",
       "       'NORTH PLATTE', 'UPPER LOUP', 'PAPIO-MISSOURI RIVER',\n",
       "       'LOWER ELKHORN', 'UPPER ELKHORN', 'LEWIS & CLARK',\n",
       "       'LOWER NIOBRARA', 'MIDDLE NIOBRARA', 'UPPER NIOBRARA-WHITE'],\n",
       "      dtype=object)"
      ]
     },
     "execution_count": 11,
     "metadata": {},
     "output_type": "execute_result"
    }
   ],
   "source": [
    "outdf['in_RegulatoryName'] = outdf.apply(lambda row: ensureEmptyString(row['in_RegulatoryName']), axis=1)\n",
    "outdf['in_RegulatoryName'].unique()"
   ]
  },
  {
   "cell_type": "code",
   "execution_count": 12,
   "metadata": {},
   "outputs": [
    {
     "data": {
      "text/plain": [
       "<DatetimeArray>\n",
       "['1972-01-01 00:00:00']\n",
       "Length: 1, dtype: datetime64[ns]"
      ]
     },
     "execution_count": 12,
     "metadata": {},
     "output_type": "execute_result"
    }
   ],
   "source": [
    "#Update datatype of StatutoryEffectiveDate to fit WaDE 2.0 structure\n",
    "outdf['in_StatutoryEffectiveDate'] = pd.to_datetime(outdf['in_StatutoryEffectiveDate'], errors = 'coerce')\n",
    "outdf['in_StatutoryEffectiveDate'] = pd.to_datetime(outdf['in_StatutoryEffectiveDate'].dt.strftime('%m/%d/%Y'))\n",
    "outdf['in_StatutoryEffectiveDate'].unique()"
   ]
  },
  {
   "cell_type": "markdown",
   "metadata": {},
   "source": [
    "# Geometry Data\n",
    "- For attaching geometry to overlay reporting unit area info."
   ]
  },
  {
   "cell_type": "markdown",
   "metadata": {},
   "source": [
    "#### Overlay Area #1 shapefile info"
   ]
  },
  {
   "cell_type": "code",
   "execution_count": 13,
   "metadata": {},
   "outputs": [
    {
     "ename": "TypeError",
     "evalue": "Input must be valid geometry objects: ",
     "output_type": "error",
     "traceback": [
      "\u001b[1;31m---------------------------------------------------------------------------\u001b[0m",
      "\u001b[1;31mTypeError\u001b[0m                                 Traceback (most recent call last)",
      "Cell \u001b[1;32mIn[13], line 4\u001b[0m\n\u001b[0;32m      1\u001b[0m \u001b[38;5;66;03m# # Input File / or use same input as above\u001b[39;00m\n\u001b[0;32m      3\u001b[0m gdfin1 \u001b[38;5;241m=\u001b[39m outdf\u001b[38;5;241m.\u001b[39mcopy()\n\u001b[1;32m----> 4\u001b[0m gdfin1 \u001b[38;5;241m=\u001b[39m \u001b[43mgpd\u001b[49m\u001b[38;5;241;43m.\u001b[39;49m\u001b[43mGeoDataFrame\u001b[49m\u001b[43m(\u001b[49m\u001b[43mgdfin1\u001b[49m\u001b[43m,\u001b[49m\u001b[43m \u001b[49m\u001b[43mgeometry\u001b[49m\u001b[38;5;241;43m=\u001b[39;49m\u001b[43mgdfin1\u001b[49m\u001b[43m[\u001b[49m\u001b[38;5;124;43m'\u001b[39;49m\u001b[38;5;124;43min_Geometry\u001b[39;49m\u001b[38;5;124;43m'\u001b[39;49m\u001b[43m]\u001b[49m\u001b[43m,\u001b[49m\u001b[43m \u001b[49m\u001b[43mcrs\u001b[49m\u001b[38;5;241;43m=\u001b[39;49m\u001b[38;5;124;43m\"\u001b[39;49m\u001b[38;5;124;43mEPSG:4326\u001b[39;49m\u001b[38;5;124;43m\"\u001b[39;49m\u001b[43m)\u001b[49m \u001b[38;5;66;03m# covert to geodataframe\u001b[39;00m\n\u001b[0;32m      5\u001b[0m \u001b[38;5;28mprint\u001b[39m(\u001b[38;5;28mlen\u001b[39m(gdfin1))\n\u001b[0;32m      6\u001b[0m gdfin1\u001b[38;5;241m.\u001b[39mhead()\n",
      "File \u001b[1;32m~\\anaconda3\\Lib\\site-packages\\geopandas\\geodataframe.py:192\u001b[0m, in \u001b[0;36mGeoDataFrame.__init__\u001b[1;34m(self, data, geometry, crs, *args, **kwargs)\u001b[0m\n\u001b[0;32m    184\u001b[0m     \u001b[38;5;28;01mif\u001b[39;00m (\n\u001b[0;32m    185\u001b[0m         \u001b[38;5;28mhasattr\u001b[39m(geometry, \u001b[38;5;124m\"\u001b[39m\u001b[38;5;124mcrs\u001b[39m\u001b[38;5;124m\"\u001b[39m)\n\u001b[0;32m    186\u001b[0m         \u001b[38;5;129;01mand\u001b[39;00m geometry\u001b[38;5;241m.\u001b[39mcrs\n\u001b[0;32m    187\u001b[0m         \u001b[38;5;129;01mand\u001b[39;00m crs\n\u001b[0;32m    188\u001b[0m         \u001b[38;5;129;01mand\u001b[39;00m \u001b[38;5;129;01mnot\u001b[39;00m geometry\u001b[38;5;241m.\u001b[39mcrs \u001b[38;5;241m==\u001b[39m crs\n\u001b[0;32m    189\u001b[0m     ):\n\u001b[0;32m    190\u001b[0m         \u001b[38;5;28;01mraise\u001b[39;00m \u001b[38;5;167;01mValueError\u001b[39;00m(crs_mismatch_error)\n\u001b[1;32m--> 192\u001b[0m     \u001b[38;5;28;43mself\u001b[39;49m\u001b[38;5;241;43m.\u001b[39;49m\u001b[43mset_geometry\u001b[49m\u001b[43m(\u001b[49m\u001b[43mgeometry\u001b[49m\u001b[43m,\u001b[49m\u001b[43m \u001b[49m\u001b[43minplace\u001b[49m\u001b[38;5;241;43m=\u001b[39;49m\u001b[38;5;28;43;01mTrue\u001b[39;49;00m\u001b[43m,\u001b[49m\u001b[43m \u001b[49m\u001b[43mcrs\u001b[49m\u001b[38;5;241;43m=\u001b[39;49m\u001b[43mcrs\u001b[49m\u001b[43m)\u001b[49m\n\u001b[0;32m    194\u001b[0m \u001b[38;5;28;01mif\u001b[39;00m geometry \u001b[38;5;129;01mis\u001b[39;00m \u001b[38;5;28;01mNone\u001b[39;00m \u001b[38;5;129;01mand\u001b[39;00m crs:\n\u001b[0;32m    195\u001b[0m     \u001b[38;5;28;01mraise\u001b[39;00m \u001b[38;5;167;01mValueError\u001b[39;00m(\n\u001b[0;32m    196\u001b[0m         \u001b[38;5;124m\"\u001b[39m\u001b[38;5;124mAssigning CRS to a GeoDataFrame without a geometry column is not \u001b[39m\u001b[38;5;124m\"\u001b[39m\n\u001b[0;32m    197\u001b[0m         \u001b[38;5;124m\"\u001b[39m\u001b[38;5;124msupported. Supply geometry using the \u001b[39m\u001b[38;5;124m'\u001b[39m\u001b[38;5;124mgeometry=\u001b[39m\u001b[38;5;124m'\u001b[39m\u001b[38;5;124m keyword argument, \u001b[39m\u001b[38;5;124m\"\u001b[39m\n\u001b[0;32m    198\u001b[0m         \u001b[38;5;124m\"\u001b[39m\u001b[38;5;124mor by providing a DataFrame with column name \u001b[39m\u001b[38;5;124m'\u001b[39m\u001b[38;5;124mgeometry\u001b[39m\u001b[38;5;124m'\u001b[39m\u001b[38;5;124m\"\u001b[39m,\n\u001b[0;32m    199\u001b[0m     )\n",
      "File \u001b[1;32m~\\anaconda3\\Lib\\site-packages\\geopandas\\geodataframe.py:352\u001b[0m, in \u001b[0;36mGeoDataFrame.set_geometry\u001b[1;34m(self, col, drop, inplace, crs)\u001b[0m\n\u001b[0;32m    349\u001b[0m     level\u001b[38;5;241m.\u001b[39mcrs \u001b[38;5;241m=\u001b[39m crs\n\u001b[0;32m    351\u001b[0m \u001b[38;5;66;03m# Check that we are using a listlike of geometries\u001b[39;00m\n\u001b[1;32m--> 352\u001b[0m level \u001b[38;5;241m=\u001b[39m \u001b[43m_ensure_geometry\u001b[49m\u001b[43m(\u001b[49m\u001b[43mlevel\u001b[49m\u001b[43m,\u001b[49m\u001b[43m \u001b[49m\u001b[43mcrs\u001b[49m\u001b[38;5;241;43m=\u001b[39;49m\u001b[43mcrs\u001b[49m\u001b[43m)\u001b[49m\n\u001b[0;32m    353\u001b[0m \u001b[38;5;66;03m# update _geometry_column_name prior to assignment\u001b[39;00m\n\u001b[0;32m    354\u001b[0m \u001b[38;5;66;03m# to avoid default is None warning\u001b[39;00m\n\u001b[0;32m    355\u001b[0m frame\u001b[38;5;241m.\u001b[39m_geometry_column_name \u001b[38;5;241m=\u001b[39m geo_column_name\n",
      "File \u001b[1;32m~\\anaconda3\\Lib\\site-packages\\geopandas\\geodataframe.py:57\u001b[0m, in \u001b[0;36m_ensure_geometry\u001b[1;34m(data, crs)\u001b[0m\n\u001b[0;32m     55\u001b[0m \u001b[38;5;28;01melse\u001b[39;00m:\n\u001b[0;32m     56\u001b[0m     \u001b[38;5;28;01mif\u001b[39;00m \u001b[38;5;28misinstance\u001b[39m(data, Series):\n\u001b[1;32m---> 57\u001b[0m         out \u001b[38;5;241m=\u001b[39m \u001b[43mfrom_shapely\u001b[49m\u001b[43m(\u001b[49m\u001b[43mnp\u001b[49m\u001b[38;5;241;43m.\u001b[39;49m\u001b[43masarray\u001b[49m\u001b[43m(\u001b[49m\u001b[43mdata\u001b[49m\u001b[43m)\u001b[49m\u001b[43m,\u001b[49m\u001b[43m \u001b[49m\u001b[43mcrs\u001b[49m\u001b[38;5;241;43m=\u001b[39;49m\u001b[43mcrs\u001b[49m\u001b[43m)\u001b[49m\n\u001b[0;32m     58\u001b[0m         \u001b[38;5;28;01mreturn\u001b[39;00m GeoSeries(out, index\u001b[38;5;241m=\u001b[39mdata\u001b[38;5;241m.\u001b[39mindex, name\u001b[38;5;241m=\u001b[39mdata\u001b[38;5;241m.\u001b[39mname)\n\u001b[0;32m     59\u001b[0m     \u001b[38;5;28;01melse\u001b[39;00m:\n",
      "File \u001b[1;32m~\\anaconda3\\Lib\\site-packages\\geopandas\\array.py:159\u001b[0m, in \u001b[0;36mfrom_shapely\u001b[1;34m(data, crs)\u001b[0m\n\u001b[0;32m    143\u001b[0m \u001b[38;5;28;01mdef\u001b[39;00m \u001b[38;5;21mfrom_shapely\u001b[39m(data, crs\u001b[38;5;241m=\u001b[39m\u001b[38;5;28;01mNone\u001b[39;00m):\n\u001b[0;32m    144\u001b[0m \u001b[38;5;250m    \u001b[39m\u001b[38;5;124;03m\"\"\"\u001b[39;00m\n\u001b[0;32m    145\u001b[0m \u001b[38;5;124;03m    Convert a list or array of shapely objects to a GeometryArray.\u001b[39;00m\n\u001b[0;32m    146\u001b[0m \n\u001b[1;32m   (...)\u001b[0m\n\u001b[0;32m    157\u001b[0m \n\u001b[0;32m    158\u001b[0m \u001b[38;5;124;03m    \"\"\"\u001b[39;00m\n\u001b[1;32m--> 159\u001b[0m     \u001b[38;5;28;01mreturn\u001b[39;00m GeometryArray(\u001b[43mvectorized\u001b[49m\u001b[38;5;241;43m.\u001b[39;49m\u001b[43mfrom_shapely\u001b[49m\u001b[43m(\u001b[49m\u001b[43mdata\u001b[49m\u001b[43m)\u001b[49m, crs\u001b[38;5;241m=\u001b[39mcrs)\n",
      "File \u001b[1;32m~\\anaconda3\\Lib\\site-packages\\geopandas\\_vectorized.py:146\u001b[0m, in \u001b[0;36mfrom_shapely\u001b[1;34m(data)\u001b[0m\n\u001b[0;32m    144\u001b[0m         out\u001b[38;5;241m.\u001b[39mappend(\u001b[38;5;28;01mNone\u001b[39;00m)\n\u001b[0;32m    145\u001b[0m     \u001b[38;5;28;01melse\u001b[39;00m:\n\u001b[1;32m--> 146\u001b[0m         \u001b[38;5;28;01mraise\u001b[39;00m \u001b[38;5;167;01mTypeError\u001b[39;00m(\u001b[38;5;124m\"\u001b[39m\u001b[38;5;124mInput must be valid geometry objects: \u001b[39m\u001b[38;5;132;01m{0}\u001b[39;00m\u001b[38;5;124m\"\u001b[39m\u001b[38;5;241m.\u001b[39mformat(geom))\n\u001b[0;32m    148\u001b[0m \u001b[38;5;28;01mif\u001b[39;00m compat\u001b[38;5;241m.\u001b[39mUSE_PYGEOS:\n\u001b[0;32m    149\u001b[0m     \u001b[38;5;28;01mreturn\u001b[39;00m np\u001b[38;5;241m.\u001b[39marray(out, dtype\u001b[38;5;241m=\u001b[39m\u001b[38;5;28mobject\u001b[39m)\n",
      "\u001b[1;31mTypeError\u001b[0m: Input must be valid geometry objects: "
     ]
    }
   ],
   "source": [
    "# # Input File / or use same input as above\n",
    "\n",
    "gdfin1 = outdf.copy()\n",
    "gdfin1 = gpd.GeoDataFrame(gdfin1, geometry=gdfin1['in_Geometry'], crs=\"EPSG:4326\") # covert to geodataframe\n",
    "print(len(gdfin1))\n",
    "gdfin1.head()"
   ]
  },
  {
   "cell_type": "code",
   "execution_count": null,
   "metadata": {},
   "outputs": [],
   "source": [
    "# plot shape info to map\n",
    "gdfin1.plot()"
   ]
  },
  {
   "cell_type": "code",
   "execution_count": null,
   "metadata": {},
   "outputs": [],
   "source": [
    "# create output for Regulatory Area #1 dataframe\n",
    "df = pd.DataFrame()\n",
    "\n",
    "columnsList = ['in_ReportingUnitNativeID', 'geometry']\n",
    "goutdf1 = pd.DataFrame(columns=columnsList, index=gdfin1.index)\n",
    "\n",
    "goutdf1['in_ReportingUnitNativeID'] =  gdfin1[\"in_ReportingUnitNativeID\"].astype(str)  #in_ReportingUnitNativeID needs to match source from above equivalent dataframe\n",
    "goutdf1['geometry'] = gdfin1['geometry']\n",
    "goutdf1 = goutdf1.drop_duplicates().reset_index(drop=True)\n",
    "print(len(goutdf1))\n",
    "goutdf1.head()"
   ]
  },
  {
   "cell_type": "markdown",
   "metadata": {},
   "source": [
    "#### Overlay Area #2 shapefile info"
   ]
  },
  {
   "cell_type": "code",
   "execution_count": null,
   "metadata": {},
   "outputs": [],
   "source": [
    "# etc etc..."
   ]
  },
  {
   "cell_type": "markdown",
   "metadata": {},
   "source": [
    "#### Concatenate goutdf shapefile info into single output"
   ]
  },
  {
   "cell_type": "code",
   "execution_count": null,
   "metadata": {},
   "outputs": [],
   "source": [
    "# Concatenate Geometry DataFrames\n",
    "frames = [goutdf1] # add geoutdf dataframes here\n",
    "goutdf = pd.concat(frames).reset_index(drop=True)\n",
    "\n",
    "print(len(goutdf))\n",
    "goutdf.head()"
   ]
  },
  {
   "cell_type": "markdown",
   "metadata": {},
   "source": [
    "## Export Data"
   ]
  },
  {
   "cell_type": "code",
   "execution_count": null,
   "metadata": {},
   "outputs": [],
   "source": [
    "with pd.option_context('display.max_rows', None, 'display.max_columns', None):\n",
    "    print(outdf.dtypes)"
   ]
  },
  {
   "cell_type": "code",
   "execution_count": null,
   "metadata": {},
   "outputs": [],
   "source": [
    "with pd.option_context('display.max_rows', None, 'display.max_columns', None):\n",
    "    print(goutdf.dtypes)"
   ]
  },
  {
   "cell_type": "code",
   "execution_count": null,
   "metadata": {},
   "outputs": [],
   "source": [
    "# Export out to CSV.\n",
    "outdf.to_csv('RawInputData/Pov_Main.zip', compression=dict(method='zip', archive_name='Pov_Main.csv'), index=False)  # The output, save as a zip\n",
    "goutdf.to_csv('RawInputData/P_Geometry.zip', compression=dict(method='zip', archive_name='P_Geometry.csv'), index=False)  # The output geometry."
   ]
  }
 ],
 "metadata": {
  "kernelspec": {
   "display_name": "Python 3 (ipykernel)",
   "language": "python",
   "name": "python3"
  },
  "language_info": {
   "codemirror_mode": {
    "name": "ipython",
    "version": 3
   },
   "file_extension": ".py",
   "mimetype": "text/x-python",
   "name": "python",
   "nbconvert_exporter": "python",
   "pygments_lexer": "ipython3",
   "version": "3.12.3"
  }
 },
 "nbformat": 4,
 "nbformat_minor": 4
}
