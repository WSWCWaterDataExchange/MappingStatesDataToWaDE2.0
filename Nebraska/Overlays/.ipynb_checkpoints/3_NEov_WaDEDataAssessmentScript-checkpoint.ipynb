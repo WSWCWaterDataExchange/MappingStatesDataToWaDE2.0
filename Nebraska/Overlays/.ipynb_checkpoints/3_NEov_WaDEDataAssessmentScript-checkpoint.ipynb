{
 "cells": [
  {
   "cell_type": "markdown",
   "id": "d1f571be",
   "metadata": {},
   "source": [
    "# Data Assessment & Analytics - Overlay Data\n",
    "Notes:\n",
    "- change os directory location\n",
    "- be aware of the number of provdied native source data files"
   ]
  },
  {
   "cell_type": "code",
   "execution_count": null,
   "id": "13ee81d8",
   "metadata": {},
   "outputs": [],
   "source": [
    "# Needed Libraries / Modules\n",
    "\n",
    "# ---- working with data ----\n",
    "import os  # native operating system interaction\n",
    "import numpy as np  # mathematical array manipulation\n",
    "import pandas as pd  # data structure and data analysis\n",
    "import geopandas as gpd  # geo-data structure and data analysis\n",
    "\n",
    "# ---- visualization ----\n",
    "import geoplot as gplt  # for plotting maps and geo-data\n",
    "import geoplot.crs as gcrs  #used to pull in webdata related to maps and geo-data\n",
    "import missingno as msno # creates a matrix chart to show missing values\n",
    "import plotly.express as px\n",
    "import plotly.graph_objects as go  # for subplot creation\n",
    "from plotly.subplots import make_subplots  # for subplot creation\n",
    "import matplotlib.pyplot as mplt  # use with gplt to save fig to pdf\n",
    "\n",
    "# ---- cleanup ----\n",
    "import re # string regular expression manipulation\n",
    "from datetime import datetime # date and time manipulation\n",
    "pd.set_option('display.max_columns', 999)  # How to display all columns of a Pandas DataFrame in Jupyter Notebook\n",
    "pd.set_option('display.float_format', lambda x: '%.5f' % x) # suppress scientific notation in Pandas"
   ]
  },
  {
   "cell_type": "code",
   "execution_count": null,
   "id": "14d2ac21",
   "metadata": {},
   "outputs": [],
   "source": [
    "# ---- working directory ----\n",
    "workingDirString = os.getcwd()\n",
    "os.chdir(workingDirString)\n",
    "print(f'The working Directory is:', workingDirString)"
   ]
  },
  {
   "cell_type": "code",
   "execution_count": null,
   "id": "f24dccf3",
   "metadata": {},
   "outputs": [],
   "source": [
    "# ---- where to find input files ----\n",
    "InputFolderString = \"G:/Shared drives/WaDE Data/WaDE Data Folder/Nebraska/Overlays\" # set working directory folder string here"
   ]
  },
  {
   "cell_type": "code",
   "execution_count": null,
   "id": "62de750e",
   "metadata": {},
   "outputs": [],
   "source": [
    "# Native Input Data\n",
    "#################################################################\n",
    "# ---- This needs to be custom per state ----\n",
    "\n",
    "# Data Set 1: Natural_Resource_District_NRD_Boundaries_20250129\n",
    "dfin1 = pd.read_csv(InputFolderString + '/RawinputData/Natural_Resource_District_NRD_Boundaries_20250129.zip') # will need name of souce input files"
   ]
  },
  {
   "cell_type": "code",
   "execution_count": null,
   "id": "ecbf2d48",
   "metadata": {},
   "outputs": [],
   "source": [
    "# WaDE Processed Input Data\n",
    "#################################################################\n",
    "dfd = pd.read_csv(InputFolderString + \"/ProcessedInputData/date.csv\").replace(np.nan, \"\")\n",
    "\n",
    "dfo = pd.read_csv(InputFolderString + \"/ProcessedInputData/organizations.csv\", encoding = \"ISO-8859-1\").replace(np.nan, \"\")\n",
    "\n",
    "dfru = pd.read_csv(InputFolderString + \"/ProcessedInputData/reportingunits.csv\").replace(np.nan, \"\")\n",
    "dfrupurge = pd.read_csv(InputFolderString + \"/ProcessedInputData/reportingunits_missing.csv\").replace(np.nan, \"\")\n",
    "\n",
    "dfov = pd.read_csv(InputFolderString + \"/ProcessedInputData/overlays.csv\").replace(np.nan, \"\")\n",
    "dfovpurge = pd.read_csv(InputFolderString + \"/ProcessedInputData/overlays_missing.csv\").replace(np.nan, \"\")\n",
    "\n",
    "dfovru = pd.read_csv(InputFolderString + \"/ProcessedInputData/overlayreportingunits.csv\").replace(np.nan, \"\")\n",
    "dfovrupurge = pd.read_csv(InputFolderString + \"/ProcessedInputData/overlayreportingunits_missing.csv\").replace(np.nan, \"\")"
   ]
  },
  {
   "cell_type": "markdown",
   "id": "ce42e7a5",
   "metadata": {},
   "source": [
    "# Reporting Unit Area Info\n",
    "- reportingunits.csv"
   ]
  },
  {
   "cell_type": "code",
   "execution_count": null,
   "id": "7fafebfb",
   "metadata": {},
   "outputs": [],
   "source": [
    "print(len(dfru))\n",
    "dfru.head(1)"
   ]
  },
  {
   "cell_type": "code",
   "execution_count": null,
   "id": "93dfbef2",
   "metadata": {},
   "outputs": [],
   "source": [
    "# Check what columns contain missing information.\n",
    "#msno.matrix(dfru, figsize=(10,5), fontsize=10)\n",
    "msno.bar(dfru)"
   ]
  },
  {
   "cell_type": "code",
   "execution_count": null,
   "id": "dda35a49",
   "metadata": {},
   "outputs": [],
   "source": [
    "# Unique values for 'ReportingUnitName'\n",
    "for x in dfru['ReportingUnitName'].sort_values().unique():\n",
    "    print(f'\"' + x + '\",')"
   ]
  },
  {
   "cell_type": "code",
   "execution_count": null,
   "id": "c427b36b",
   "metadata": {},
   "outputs": [],
   "source": [
    "# Unique values for 'ReportingUnitNativeID'\n",
    "for x in dfru['ReportingUnitNativeID'].astype(str).sort_values().unique():\n",
    "    print(f'\"' + x + '\",')"
   ]
  },
  {
   "cell_type": "code",
   "execution_count": null,
   "id": "f887ed26",
   "metadata": {},
   "outputs": [],
   "source": [
    "# Unique values for 'ReportingUnitTypeCV'\n",
    "for x in dfru['ReportingUnitTypeCV'].sort_values().unique():\n",
    "    print(f'\"' + x + '\",')"
   ]
  },
  {
   "cell_type": "markdown",
   "id": "43f94051",
   "metadata": {},
   "source": [
    "# Overlay Info\n",
    "- overlays.csv"
   ]
  },
  {
   "cell_type": "code",
   "execution_count": null,
   "id": "00742c31",
   "metadata": {},
   "outputs": [],
   "source": [
    "print(len(dfov))\n",
    "dfov.head(1)"
   ]
  },
  {
   "cell_type": "code",
   "execution_count": null,
   "id": "e369baf3",
   "metadata": {},
   "outputs": [],
   "source": [
    "# Check what columns contain missing information.\n",
    "#msno.matrix(dfov, figsize=(10,5), fontsize=10)\n",
    "msno.bar(dfov)"
   ]
  },
  {
   "cell_type": "code",
   "execution_count": null,
   "id": "11870cbe",
   "metadata": {},
   "outputs": [],
   "source": [
    "# Unique values for 'OversightAgency'\n",
    "for x in dfov['OversightAgency'].sort_values().unique():\n",
    "    print(f'\"' + x + '\",')"
   ]
  },
  {
   "cell_type": "code",
   "execution_count": null,
   "id": "4967fe2a",
   "metadata": {},
   "outputs": [],
   "source": [
    "# Unique values for 'OverlayName'\n",
    "for x in dfov['OverlayName'].sort_values().unique():\n",
    "    print(f'\"' + x + '\",')"
   ]
  },
  {
   "cell_type": "code",
   "execution_count": null,
   "id": "02ca6ba1",
   "metadata": {},
   "outputs": [],
   "source": [
    "# Unique values for 'OverlayNativeID'\n",
    "for x in dfov['OverlayNativeID'].astype(str).sort_values().unique():\n",
    "    print(f'\"' + x + '\",')"
   ]
  },
  {
   "cell_type": "code",
   "execution_count": null,
   "id": "780c96b1",
   "metadata": {},
   "outputs": [],
   "source": [
    "# Unique values for 'OverlayTypeCV'\n",
    "for x in dfov['OverlayTypeCV'].sort_values().unique():\n",
    "    print(f'\"' + x + '\",')"
   ]
  },
  {
   "cell_type": "code",
   "execution_count": null,
   "id": "8f08764f",
   "metadata": {},
   "outputs": [],
   "source": [
    "# Unique values for 'WaterSourceTypeCV'\n",
    "for x in dfov['WaterSourceTypeCV'].sort_values().unique():\n",
    "    print(f'\"' + x + '\",')"
   ]
  },
  {
   "cell_type": "markdown",
   "id": "8772ee57",
   "metadata": {},
   "source": [
    "## Num of Record Summary"
   ]
  },
  {
   "cell_type": "code",
   "execution_count": null,
   "id": "199cfce0",
   "metadata": {},
   "outputs": [],
   "source": [
    "print(f\"Num of Source Entries (rows): \", len(dfin1))\n",
    "#print(f\"Num of Source #2 Entries (rows): \", len(dfin2))"
   ]
  },
  {
   "cell_type": "code",
   "execution_count": null,
   "id": "0ca96707-ad3a-4358-bff6-aba96ddc0a70",
   "metadata": {},
   "outputs": [],
   "source": [
    "# Num of entries compiled into WaDE\n",
    "ruString =  len(dfru)\n",
    "roString =  len(dfov)\n",
    "print(\"Dataset  | Num of Identified Reporting Units | Num of Identified Overlays\")\n",
    "print(\"**Compiled WaDE Data** |\", ruString, \"|\", roString)"
   ]
  },
  {
   "cell_type": "markdown",
   "id": "24445e94-583b-4377-b77e-b263348932d4",
   "metadata": {},
   "source": [
    "## Markdown Table Creation"
   ]
  },
  {
   "cell_type": "code",
   "execution_count": null,
   "id": "0afa982b-3f24-4b08-961c-c7f056e88c9b",
   "metadata": {},
   "outputs": [],
   "source": [
    "# date.csv\n",
    "dftmp = dfd.copy().to_markdown()\n",
    "print(dftmp)"
   ]
  },
  {
   "cell_type": "code",
   "execution_count": null,
   "id": "9b1e460b-b496-4cfb-89c0-f848ab85ed38",
   "metadata": {},
   "outputs": [],
   "source": [
    "# organizations.csv\n",
    "dftmp = dfo.copy().to_markdown()\n",
    "print(dftmp)"
   ]
  },
  {
   "cell_type": "code",
   "execution_count": null,
   "id": "47fb5ed9-a169-4570-aa3b-1bdf6a16292a",
   "metadata": {},
   "outputs": [],
   "source": [
    "# reportingunits.csv\n",
    "dftmp = dfru.loc[[1]].copy()\n",
    "dftmp = dftmp.drop(['Geometry'], axis=1).to_markdown()\n",
    "print(dftmp)"
   ]
  },
  {
   "cell_type": "code",
   "execution_count": null,
   "id": "bb5418c1-c36d-4c21-bd78-8233f71cdaa0",
   "metadata": {},
   "outputs": [],
   "source": [
    "# overlays.csv\n",
    "dftmp = dfov.loc[[1]].copy().to_markdown()\n",
    "print(dftmp)"
   ]
  },
  {
   "cell_type": "code",
   "execution_count": null,
   "id": "b5a53574-c474-41a3-a30e-c673f5259372",
   "metadata": {},
   "outputs": [],
   "source": [
    "# overlayreportingunits.csv\n",
    "dftmp = dfovru.loc[[1]].copy().to_markdown()\n",
    "print(dftmp)"
   ]
  },
  {
   "cell_type": "markdown",
   "id": "6c8f031e",
   "metadata": {},
   "source": [
    "## Why Removed Records Summary"
   ]
  },
  {
   "cell_type": "code",
   "execution_count": null,
   "id": "1020895d",
   "metadata": {},
   "outputs": [],
   "source": [
    "print(\"---- Reasons why records were removed from reporting unit source info ----\")\n",
    "if len(dfrupurge) != 0:\n",
    "    print(dfrupurge['ReasonRemoved'].value_counts().astype(str) + \" | removed from reportingunits.csv input\")\n",
    "else:\n",
    "    print(\"...nothing removed.\")"
   ]
  },
  {
   "cell_type": "code",
   "execution_count": null,
   "id": "969f2358",
   "metadata": {},
   "outputs": [],
   "source": [
    "print(\" ---- Reasons why records were removed from regula toryoverlays info ---- \")\n",
    "if len(dfovpurge) != 0:\n",
    "    print(dfovpurge['ReasonRemoved'].value_counts().astype(str) + \" | removed from overlays.csv input\")\n",
    "else:\n",
    "    print(\"...nothing removed.\")"
   ]
  },
  {
   "cell_type": "markdown",
   "id": "6fd9f7f3",
   "metadata": {},
   "source": [
    "## Figures"
   ]
  },
  {
   "cell_type": "code",
   "execution_count": null,
   "id": "7f0fdccd",
   "metadata": {},
   "outputs": [],
   "source": [
    "# ReportingUnitName: histogram distribution of WaDE values\n",
    "print(dfru.ReportingUnitName.value_counts())\n",
    "\n",
    "fig = px.histogram(dfru, x=\"ReportingUnitName\", text_auto=True)\n",
    "fig.update_layout(bargap=0.2,\n",
    "                  title=\"Histogram of ReportingUnitName Entries in reportingunits.csv\",\n",
    "                  xaxis_title=\"ReportingUnitName Value\",\n",
    "                  yaxis_title=\"# of entries\",\n",
    "                    font=dict(\n",
    "                        family=\"Arial Bold\",\n",
    "                        size=12,\n",
    "                        color=\"Black\")\n",
    "                 )\n",
    "fig.show()\n",
    "fig.write_image('figures/ReportingUnitName.png', engine=\"kaleido\")"
   ]
  },
  {
   "cell_type": "code",
   "execution_count": null,
   "id": "d592bfd9",
   "metadata": {},
   "outputs": [],
   "source": [
    "# ReportingUnitTypeCV: histogram distribution of WaDE values\n",
    "print(dfru.ReportingUnitTypeCV.value_counts())\n",
    "\n",
    "fig = px.histogram(dfru, x=\"ReportingUnitTypeCV\", text_auto=True)\n",
    "fig.update_layout(bargap=0.2,\n",
    "                  title=\"Histogram of ReportingUnitTypeCV Entries in reportingunits.csv\",\n",
    "                  xaxis_title=\"ReportingUnitTypeCV Value\",\n",
    "                  yaxis_title=\"# of entries\",\n",
    "                    font=dict(\n",
    "                        family=\"Arial Bold\",\n",
    "                        size=12,\n",
    "                        color=\"Black\")\n",
    "                 )\n",
    "fig.show()\n",
    "fig.write_image('figures/ReportingUnitTypeCV.png', engine=\"kaleido\")"
   ]
  },
  {
   "cell_type": "code",
   "execution_count": null,
   "id": "f9fbb957",
   "metadata": {},
   "outputs": [],
   "source": [
    "# OversightAgency: histogram distribution of WaDE values\n",
    "print(dfov.OversightAgency.value_counts())\n",
    "\n",
    "fig = px.histogram(dfov, x=\"OversightAgency\", text_auto=True)\n",
    "fig.update_layout(bargap=0.2,\n",
    "                  title=\"Histogram of OversightAgency Entries in overlays.csv\",\n",
    "                  xaxis_title=\"OversightAgency Value\",\n",
    "                  yaxis_title=\"# of entries\",\n",
    "                    font=dict(\n",
    "                        family=\"Arial Bold\",\n",
    "                        size=12,\n",
    "                        color=\"Black\")\n",
    "                 )\n",
    "fig.show()\n",
    "fig.write_image('figures/OversightAgency.png', engine=\"kaleido\")"
   ]
  },
  {
   "cell_type": "code",
   "execution_count": null,
   "id": "dfe63e20",
   "metadata": {},
   "outputs": [],
   "source": [
    "# OverlayName: histogram distribution of WaDE values\n",
    "print(dfov.OverlayName.value_counts())\n",
    "\n",
    "fig = px.histogram(dfov, x=\"OverlayName\", text_auto=True)\n",
    "fig.update_layout(bargap=0.2,\n",
    "                  title=\"Histogram of OverlayName Entries in overlays.csv\",\n",
    "                  xaxis_title=\"OverlayName Value\",\n",
    "                  yaxis_title=\"# of entries\",\n",
    "                    font=dict(\n",
    "                        family=\"Arial Bold\",\n",
    "                        size=12,\n",
    "                        color=\"Black\")\n",
    "                 )\n",
    "fig.show()\n",
    "fig.write_image('figures/OverlayName.png', engine=\"kaleido\")"
   ]
  },
  {
   "cell_type": "code",
   "execution_count": null,
   "id": "e149d365",
   "metadata": {},
   "outputs": [],
   "source": [
    "# OverlayTypeCV: histogram distribution of WaDE values\n",
    "print(dfov.OverlayTypeCV.value_counts())\n",
    "\n",
    "fig = px.histogram(dfov, x=\"OverlayTypeCV\", text_auto=True)\n",
    "fig.update_layout(bargap=0.2,\n",
    "                  title=\"Histogram of OverlayTypeCV Entries in overlays.csv\",\n",
    "                  xaxis_title=\"OverlayTypeCV Value\",\n",
    "                  yaxis_title=\"# of entries\",\n",
    "                    font=dict(\n",
    "                        family=\"Arial Bold\",\n",
    "                        size=12,\n",
    "                        color=\"Black\")\n",
    "                 )\n",
    "fig.show()\n",
    "fig.write_image('figures/OverlayTypeCV.png', engine=\"kaleido\")"
   ]
  },
  {
   "cell_type": "code",
   "execution_count": null,
   "id": "818c3b58",
   "metadata": {},
   "outputs": [],
   "source": [
    "# Map poly info\n",
    "\n",
    "dfruPoly = dfru.copy()\n",
    "dfruPoly = dfruPoly[dfruPoly['Geometry'] != \"\"].reset_index(drop=True)\n",
    "\n",
    "try:\n",
    "    contiguous_usa = gpd.read_file(gplt.datasets.get_path('contiguous_usa')) # use for background map in subplot\n",
    "    ax = gplt.webmap(contiguous_usa, projection=gcrs.WebMercator()) # set subplot\n",
    "\n",
    "    dfruPoly['Geometry'] = gpd.GeoSeries.from_wkt(dfruPoly['Geometry'], crs=\"EPSG:4326\")\n",
    "    gdfruPoly = gpd.GeoDataFrame(dfruPoly, geometry=dfruPoly['Geometry'], crs=\"EPSG:4326\") # covert to geodataframe\n",
    "    #gdfruPoly['Geometry'] = gdfruPoly.simplify(0.001) # simplify the geometry. Lower the number the larger the exported file.\n",
    "    gplt.choropleth(gdfruPoly, edgecolor='white', linewidth=1, hue='ReportingUnitTypeCV', legend=True, legend_kwargs={'loc': 'lower left'}, ax=ax)\n",
    "    mplt.savefig(format=\"png\", fname='figures/ReportingUnitMap.png') \n",
    "except:\n",
    "    print('No geometry data to plot')"
   ]
  },
  {
   "cell_type": "markdown",
   "id": "5c080897",
   "metadata": {},
   "source": [
    "# Custom Queries and Analysis for this Dataset"
   ]
  },
  {
   "cell_type": "code",
   "execution_count": null,
   "id": "f5661603",
   "metadata": {
    "scrolled": true
   },
   "outputs": [],
   "source": [
    "# asdf"
   ]
  }
 ],
 "metadata": {
  "kernelspec": {
   "display_name": "Python 3 (ipykernel)",
   "language": "python",
   "name": "python3"
  },
  "language_info": {
   "codemirror_mode": {
    "name": "ipython",
    "version": 3
   },
   "file_extension": ".py",
   "mimetype": "text/x-python",
   "name": "python",
   "nbconvert_exporter": "python",
   "pygments_lexer": "ipython3",
   "version": "3.12.3"
  }
 },
 "nbformat": 4,
 "nbformat_minor": 5
}
