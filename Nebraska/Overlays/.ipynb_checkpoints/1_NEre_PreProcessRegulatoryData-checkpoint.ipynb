{
 "cells": [
  {
   "cell_type": "markdown",
   "metadata": {},
   "source": [
    "# Pre-processing (state / organization Name) Regulatory data for WaDE upload.\n",
    "- Purpose:  To preprocess the data into one master file for simple DataFrame creation and extraction."
   ]
  },
  {
   "cell_type": "code",
   "execution_count": 2,
   "metadata": {},
   "outputs": [],
   "source": [
    "# Needed Libraries / Modules\n",
    "\n",
    "# ---- working with data ----\n",
    "import os  # native operating system interaction\n",
    "import numpy as np  # mathematical array manipulation\n",
    "import pandas as pd  # data structure and data analysis\n",
    "import geopandas as gpd  # geo-data structure and data analysis\n",
    "\n",
    "# ---- visualization ----\n",
    "import matplotlib.pyplot as plt  # plotting library\n",
    "import seaborn as sns  # plotting library\n",
    "\n",
    "# ---- API data retrieval ----\n",
    "import requests  # http requests\n",
    "import json  # JSON parse\n",
    "\n",
    "# ---- Cleanup ----\n",
    "import re  # string regular expression manipulation\n",
    "from datetime import datetime  # date and time manipulation\n",
    "pd.set_option('display.max_columns', 999)  # How to display all columns of a Pandas DataFrame in Jupyter Notebook\n",
    "pd.set_option('display.float_format', lambda x: '%.5f' % x)  # suppress scientific notation in Pandas"
   ]
  },
  {
   "cell_type": "code",
   "execution_count": 3,
   "metadata": {},
   "outputs": [
    {
     "name": "stdout",
     "output_type": "stream",
     "text": [
      "The working Directory is: G:/Shared drives/WaDE Data/Nebraska/Regulatory\n"
     ]
    }
   ],
   "source": [
    "# ---- working directory ----\n",
    "workingDirString = \"G:/Shared drives/WaDE Data/Nebraska/Regulatory\" # set working directory folder string here\n",
    "os.chdir(workingDirString)\n",
    "print(f'The working Directory is:', workingDirString)"
   ]
  },
  {
   "cell_type": "markdown",
   "metadata": {},
   "source": [
    "## Regulatory Area Data #1"
   ]
  },
  {
   "cell_type": "code",
   "execution_count": 4,
   "metadata": {},
   "outputs": [
    {
     "name": "stdout",
     "output_type": "stream",
     "text": [
      "23\n"
     ]
    },
    {
     "data": {
      "text/html": [
       "<div>\n",
       "<style scoped>\n",
       "    .dataframe tbody tr th:only-of-type {\n",
       "        vertical-align: middle;\n",
       "    }\n",
       "\n",
       "    .dataframe tbody tr th {\n",
       "        vertical-align: top;\n",
       "    }\n",
       "\n",
       "    .dataframe thead th {\n",
       "        text-align: right;\n",
       "    }\n",
       "</style>\n",
       "<table border=\"1\" class=\"dataframe\">\n",
       "  <thead>\n",
       "    <tr style=\"text-align: right;\">\n",
       "      <th></th>\n",
       "      <th>ï»¿OID_</th>\n",
       "      <th>OBJECTID</th>\n",
       "      <th>AreaName</th>\n",
       "      <th>NRD_Name_A</th>\n",
       "      <th>NRD_Num</th>\n",
       "      <th>Shape_Leng</th>\n",
       "      <th>Shape_Length</th>\n",
       "      <th>Shape_Area</th>\n",
       "    </tr>\n",
       "  </thead>\n",
       "  <tbody>\n",
       "    <tr>\n",
       "      <th>0</th>\n",
       "      <td>1</td>\n",
       "      <td>1</td>\n",
       "      <td>Lower Republican</td>\n",
       "      <td>LOWER REPUBLICAN</td>\n",
       "      <td>23</td>\n",
       "      <td>605099.76849</td>\n",
       "      <td>605099.76849</td>\n",
       "      <td>11018161576.28113</td>\n",
       "    </tr>\n",
       "    <tr>\n",
       "      <th>1</th>\n",
       "      <td>2</td>\n",
       "      <td>2</td>\n",
       "      <td>Tri-Basin</td>\n",
       "      <td>TRI-BASIN</td>\n",
       "      <td>24</td>\n",
       "      <td>413768.86546</td>\n",
       "      <td>413768.86546</td>\n",
       "      <td>6815290176.96236</td>\n",
       "    </tr>\n",
       "    <tr>\n",
       "      <th>2</th>\n",
       "      <td>3</td>\n",
       "      <td>3</td>\n",
       "      <td>Little Blue</td>\n",
       "      <td>LITTLE BLUE</td>\n",
       "      <td>5</td>\n",
       "      <td>606780.75182</td>\n",
       "      <td>606780.75182</td>\n",
       "      <td>10718680365.61676</td>\n",
       "    </tr>\n",
       "    <tr>\n",
       "      <th>3</th>\n",
       "      <td>4</td>\n",
       "      <td>4</td>\n",
       "      <td>Lower Big Blue</td>\n",
       "      <td>LOWER BIG BLUE</td>\n",
       "      <td>2</td>\n",
       "      <td>438586.07860</td>\n",
       "      <td>438586.07860</td>\n",
       "      <td>7324130010.01756</td>\n",
       "    </tr>\n",
       "    <tr>\n",
       "      <th>4</th>\n",
       "      <td>5</td>\n",
       "      <td>5</td>\n",
       "      <td>Nemaha</td>\n",
       "      <td>NEMAHA</td>\n",
       "      <td>11</td>\n",
       "      <td>606872.26451</td>\n",
       "      <td>606872.26451</td>\n",
       "      <td>10901490684.33732</td>\n",
       "    </tr>\n",
       "  </tbody>\n",
       "</table>\n",
       "</div>"
      ],
      "text/plain": [
       "   ï»¿OID_  OBJECTID          AreaName        NRD_Name_A  NRD_Num  \\\n",
       "0        1         1  Lower Republican  LOWER REPUBLICAN       23   \n",
       "1        2         2         Tri-Basin         TRI-BASIN       24   \n",
       "2        3         3       Little Blue       LITTLE BLUE        5   \n",
       "3        4         4    Lower Big Blue    LOWER BIG BLUE        2   \n",
       "4        5         5            Nemaha            NEMAHA       11   \n",
       "\n",
       "    Shape_Leng  Shape_Length        Shape_Area  \n",
       "0 605099.76849  605099.76849 11018161576.28113  \n",
       "1 413768.86546  413768.86546  6815290176.96236  \n",
       "2 606780.75182  606780.75182 10718680365.61676  \n",
       "3 438586.07860  438586.07860  7324130010.01756  \n",
       "4 606872.26451  606872.26451 10901490684.33732  "
      ]
     },
     "execution_count": 4,
     "metadata": {},
     "output_type": "execute_result"
    }
   ],
   "source": [
    "#CSV input file\n",
    "inputFile = \"RawInputData/BND_NaturalResourceDistricts_DNR_input.csv\"\n",
    "df = pd.read_csv(inputFile, encoding = \"ISO-8859-1\").replace(np.nan, \"\")\n",
    "print(len(dfin1))\n",
    "dfin1.head()"
   ]
  },
  {
   "cell_type": "code",
   "execution_count": 5,
   "metadata": {},
   "outputs": [
    {
     "data": {
      "text/html": [
       "<div>\n",
       "<style scoped>\n",
       "    .dataframe tbody tr th:only-of-type {\n",
       "        vertical-align: middle;\n",
       "    }\n",
       "\n",
       "    .dataframe tbody tr th {\n",
       "        vertical-align: top;\n",
       "    }\n",
       "\n",
       "    .dataframe thead th {\n",
       "        text-align: right;\n",
       "    }\n",
       "</style>\n",
       "<table border=\"1\" class=\"dataframe\">\n",
       "  <thead>\n",
       "    <tr style=\"text-align: right;\">\n",
       "      <th></th>\n",
       "      <th>ï»¿OID_</th>\n",
       "      <th>OBJECTID</th>\n",
       "      <th>AreaName</th>\n",
       "      <th>NRD_Name_A</th>\n",
       "      <th>NRD_Num</th>\n",
       "      <th>Shape_Leng</th>\n",
       "      <th>Shape_Length</th>\n",
       "      <th>Shape_Area</th>\n",
       "    </tr>\n",
       "  </thead>\n",
       "  <tbody>\n",
       "    <tr>\n",
       "      <th>0</th>\n",
       "      <td>1</td>\n",
       "      <td>1</td>\n",
       "      <td>Lower Republican</td>\n",
       "      <td>LOWER REPUBLICAN</td>\n",
       "      <td>23</td>\n",
       "      <td>605099.76849</td>\n",
       "      <td>605099.76849</td>\n",
       "      <td>11018161576.28113</td>\n",
       "    </tr>\n",
       "    <tr>\n",
       "      <th>1</th>\n",
       "      <td>2</td>\n",
       "      <td>2</td>\n",
       "      <td>Tri-Basin</td>\n",
       "      <td>TRI-BASIN</td>\n",
       "      <td>24</td>\n",
       "      <td>413768.86546</td>\n",
       "      <td>413768.86546</td>\n",
       "      <td>6815290176.96236</td>\n",
       "    </tr>\n",
       "    <tr>\n",
       "      <th>2</th>\n",
       "      <td>3</td>\n",
       "      <td>3</td>\n",
       "      <td>Little Blue</td>\n",
       "      <td>LITTLE BLUE</td>\n",
       "      <td>5</td>\n",
       "      <td>606780.75182</td>\n",
       "      <td>606780.75182</td>\n",
       "      <td>10718680365.61676</td>\n",
       "    </tr>\n",
       "    <tr>\n",
       "      <th>3</th>\n",
       "      <td>4</td>\n",
       "      <td>4</td>\n",
       "      <td>Lower Big Blue</td>\n",
       "      <td>LOWER BIG BLUE</td>\n",
       "      <td>2</td>\n",
       "      <td>438586.07860</td>\n",
       "      <td>438586.07860</td>\n",
       "      <td>7324130010.01756</td>\n",
       "    </tr>\n",
       "    <tr>\n",
       "      <th>4</th>\n",
       "      <td>5</td>\n",
       "      <td>5</td>\n",
       "      <td>Nemaha</td>\n",
       "      <td>NEMAHA</td>\n",
       "      <td>11</td>\n",
       "      <td>606872.26451</td>\n",
       "      <td>606872.26451</td>\n",
       "      <td>10901490684.33732</td>\n",
       "    </tr>\n",
       "  </tbody>\n",
       "</table>\n",
       "</div>"
      ],
      "text/plain": [
       "   ï»¿OID_  OBJECTID          AreaName        NRD_Name_A NRD_Num   Shape_Leng  \\\n",
       "0        1         1  Lower Republican  LOWER REPUBLICAN      23 605099.76849   \n",
       "1        2         2         Tri-Basin         TRI-BASIN      24 413768.86546   \n",
       "2        3         3       Little Blue       LITTLE BLUE       5 606780.75182   \n",
       "3        4         4    Lower Big Blue    LOWER BIG BLUE       2 438586.07860   \n",
       "4        5         5            Nemaha            NEMAHA      11 606872.26451   \n",
       "\n",
       "   Shape_Length        Shape_Area  \n",
       "0  605099.76849 11018161576.28113  \n",
       "1  413768.86546  6815290176.96236  \n",
       "2  606780.75182 10718680365.61676  \n",
       "3  438586.07860  7324130010.01756  \n",
       "4  606872.26451 10901490684.33732  "
      ]
     },
     "execution_count": 5,
     "metadata": {},
     "output_type": "execute_result"
    }
   ],
   "source": [
    "# Clean text\n",
    "dfin1['NRD_Name_A'] = dfin1['NRD_Name_A'].str.strip()\n",
    "dfin1['NRD_Num'] = dfin1['NRD_Num'].astype(str).str.strip()\n",
    "dfin1.head()"
   ]
  },
  {
   "cell_type": "code",
   "execution_count": null,
   "metadata": {},
   "outputs": [],
   "source": [
    "# Create URL\n",
    "# URL link info was found here: https://www.nrdnet.org/\n",
    "\n",
    "URLdict = {\n",
    "\"1\" : \"https://www.lrnrd.org/\",\n",
    "\"2\" : \"https://www.tribasinnrd.org/\",\n",
    "\"3\" : \"http://www.littlebluenrd.org/\",\n",
    "\"4\" : \"http://www.lbbnrd.net\",\n",
    "\"5\" : \"https://www.nemahanrd.org/\",\n",
    "\"6\" : \"http://www.mrnrd.org\",\n",
    "\"7\" : \"http://www.urnrd.org\",\n",
    "\"8\" : \"https://www.lpsnrd.org/\",\n",
    "\"9\" : \"http://www.upperbigblue.org\",\n",
    "\"10\" : \"www.cpnrd.org\",\n",
    "\"11\" : \"http://www.spnrd.org\",\n",
    "\"12\" : \"http://www.tpnrd.org\",\n",
    "\"13\" : \"http://www.lpnnrd.org\",\n",
    "\"14\" : \"http://www.llnrd.org\",\n",
    "\"15\" : \"http://www.npnrd.org\",\n",
    "\"16\" : \"http://www.upperloupnrd.org\",\n",
    "\"17\" : \"http://www.papionrd.org\",\n",
    "\"18\" : \"http://www.lenrd.org\",\n",
    "\"19\" : \"http://www.uenrd.org\",\n",
    "\"20\" : \"https://lcnrd.nebraska.gov/\",\n",
    "\"21\" : \"http://www.lnnrd.org\",\n",
    "\"22\" : \"http://www.mnnrd.org\",\n",
    "\"23\" : \"http://www.unwnrd.org\"}\n",
    "\n",
    "def retrieveURL(valA):\n",
    "    valA = str(valA).strip()\n",
    "    if valA == '' or pd.isnull(valA):\n",
    "        outString = ''\n",
    "    else:\n",
    "        String1 = valA\n",
    "        try:\n",
    "            outString = URLdict[String1]\n",
    "        except:\n",
    "            outString = ''\n",
    "    return outString\n",
    "\n",
    "\n",
    "df['in_RegulatoryStatuteLink'] = df.apply(lambda row: retrieveURL(row['OBJECTID']), axis=1)\n",
    "df.head()"
   ]
  },
  {
   "cell_type": "code",
   "execution_count": null,
   "metadata": {},
   "outputs": [],
   "source": []
  },
  {
   "cell_type": "code",
   "execution_count": null,
   "metadata": {},
   "outputs": [],
   "source": []
  },
  {
   "cell_type": "code",
   "execution_count": null,
   "metadata": {},
   "outputs": [],
   "source": []
  },
  {
   "cell_type": "code",
   "execution_count": null,
   "metadata": {},
   "outputs": [],
   "source": [
    "# Input File\n",
    "inputFile = \"RawInputData/BND_NaturalResourceDistricts_DNR_input.csv\"\n",
    "dfin1 = pd.read_csv(inputFile, encoding = \"ISO-8859-1\").replace(np.nan, \"\")\n",
    "\n",
    "# WaDE UUID tracker for data assessment\n",
    "if 'WaDEUUID' not in dfin1:\n",
    "    dfin1['WaDEUUID'] = \"re\" + dfin1.index.astype(str)\n",
    "    dfin1.to_csv('RawInputData/{enter file name here}.zip', compression=dict(method='zip', archive_name='{enter file name here}.csv'), index=False)\n",
    "\n",
    "print(len(dfin1))\n",
    "dfin1.head()"
   ]
  },
  {
   "cell_type": "code",
   "execution_count": null,
   "metadata": {},
   "outputs": [],
   "source": []
  },
  {
   "cell_type": "code",
   "execution_count": null,
   "metadata": {},
   "outputs": [],
   "source": [
    "# create output for Regulatory Area #1 dataframe\n",
    "df = pd.DataFrame()\n",
    "\n",
    "# Data Assessment UUID\n",
    "df['WaDEUUID'] = dfin1['WaDEUUID']\n",
    "\n",
    "# Date Info\n",
    "df['in_Date'] = \"\"\n",
    "df['in_Year'] = \"\"\n",
    "\n",
    "# Organization Info\n",
    "df['in_OrganizationUUID'] = \"\"\n",
    "\n",
    "# ReportingUnit Info\n",
    "df['in_EPSGCodeCV'] = \"\"\n",
    "df['in_ReportingUnitName'] = \"\"\n",
    "df['in_ReportingUnitNativeID'] = \"\"\n",
    "df['in_ReportingUnitProductVersion'] = \"\"\n",
    "df['in_ReportingUnitTypeCV'] = \"\"\n",
    "df['in_ReportingUnitUpdateDate'] = \"\"\n",
    "df['in_StateCV'] = \"\"\n",
    "df['in_Geometry'] = \"\"\n",
    "\n",
    "# RegulatoryOverlay Info\n",
    "df['in_OversightAgency'] = \"\"\n",
    "df['in_RegulatoryDescription'] = \"\"\n",
    "df['in_RegulatoryName'] = \"\"\n",
    "df['in_RegulatoryOverlayNativeID'] = \"\"\n",
    "df['in_RegulatoryStatusCV'] = \"\"\n",
    "df['in_RegulatoryStatute'] = \"\"\n",
    "df['in_RegulatoryStatuteLink'] =\"\"\n",
    "df['in_StatutoryEffectiveDate'] = d\"\"\n",
    "df['in_StatutoryEndDate'] = \"\"\n",
    "df['in_RegulatoryOverlayTypeCV'] = \"\"\n",
    "df['in_WaterSourceTypeCV'] = \"\"\n",
    "\n",
    "df = df.drop_duplicates().reset_index(drop=True)\n",
    "outdf1 = df.copy()\n",
    "print(len(outdf1))\n",
    "outdf1.head()"
   ]
  },
  {
   "cell_type": "markdown",
   "metadata": {},
   "source": [
    "## Regulatory Area #2"
   ]
  },
  {
   "cell_type": "code",
   "execution_count": null,
   "metadata": {},
   "outputs": [],
   "source": [
    "# etc etc,"
   ]
  },
  {
   "cell_type": "markdown",
   "metadata": {},
   "source": [
    "## Concatenate DataFrames together"
   ]
  },
  {
   "cell_type": "code",
   "execution_count": null,
   "metadata": {},
   "outputs": [],
   "source": [
    "# Concatenate dataframes\n",
    "frames = [outdf1, outdf2] # list all out dataframes here\n",
    "outdf = pd.concat(frames)\n",
    "outdf = outdf.drop_duplicates().reset_index(drop=True).replace(np.nan, \"\")\n",
    "print(len(outdf))"
   ]
  },
  {
   "cell_type": "markdown",
   "metadata": {},
   "source": [
    "## Clean Data / data types"
   ]
  },
  {
   "cell_type": "code",
   "execution_count": null,
   "metadata": {
    "scrolled": true
   },
   "outputs": [],
   "source": [
    "# Ensure Empty String / remove string value of \"nan\"\n",
    "\n",
    "def ensureEmptyString(val):\n",
    "    val = str(val).strip()\n",
    "    if val == \"\" or val == \" \" or val == \"nan\" or pd.isnull(val):\n",
    "        outString = \"\"\n",
    "    else:\n",
    "        outString = val\n",
    "    return outString"
   ]
  },
  {
   "cell_type": "code",
   "execution_count": null,
   "metadata": {},
   "outputs": [],
   "source": [
    "outdf['in_ReportingUnitName'] = df.apply(lambda row: ensureEmptyString(row['in_ReportingUnitName']), axis=1)\n",
    "outdf['in_ReportingUnitName'].unique()"
   ]
  },
  {
   "cell_type": "code",
   "execution_count": null,
   "metadata": {},
   "outputs": [],
   "source": [
    "outdf['in_RegulatoryDescription'] = df.apply(lambda row: ensureEmptyString(row['in_RegulatoryDescription']), axis=1)\n",
    "outdf['in_RegulatoryDescription'].unique()"
   ]
  },
  {
   "cell_type": "code",
   "execution_count": null,
   "metadata": {},
   "outputs": [],
   "source": [
    "outdf['in_RegulatoryName'] = df.apply(lambda row: ensureEmptyString(row['in_RegulatoryName']), axis=1)\n",
    "outdf['in_RegulatoryName'].unique()"
   ]
  },
  {
   "cell_type": "code",
   "execution_count": null,
   "metadata": {},
   "outputs": [],
   "source": [
    "#Update datatype of StatutoryEffectiveDate to fit WaDE 2.0 structure\n",
    "outdf['in_StatutoryEffectiveDate'] = pd.to_datetime(outdf['in_StatutoryEffectiveDate'], errors = 'coerce')\n",
    "outdf['in_StatutoryEffectiveDate'] = pd.to_datetime(outdf['in_StatutoryEffectiveDate'].dt.strftime('%m/%d/%Y'))\n",
    "outdf['in_StatutoryEffectiveDate'].unique()"
   ]
  },
  {
   "cell_type": "markdown",
   "metadata": {},
   "source": [
    "# Shapefile Data\n",
    "- For attaching geometry to reporting unit info."
   ]
  },
  {
   "cell_type": "markdown",
   "metadata": {},
   "source": [
    "#### Regulatory Area #1 shapefile info"
   ]
  },
  {
   "cell_type": "code",
   "execution_count": null,
   "metadata": {},
   "outputs": [],
   "source": [
    "# Input File\n",
    "shapeInputFile = \"RawInputData/shapefiles/{enter file name here}.zip\"\n",
    "gdfin1 = gpd.read_file(shapeInputFile)\n",
    "print(len(gdfin1))\n",
    "gdfin1.head()"
   ]
  },
  {
   "cell_type": "code",
   "execution_count": null,
   "metadata": {},
   "outputs": [],
   "source": [
    "# plot shape info to map\n",
    "gdfin1.plot()"
   ]
  },
  {
   "cell_type": "code",
   "execution_count": null,
   "metadata": {},
   "outputs": [],
   "source": [
    "# create output for Regulatory Area #1 dataframe\n",
    "df = pd.DataFrame()\n",
    "\n",
    "columnsList = ['in_ReportingUnitNativeID', 'geometry']\n",
    "goutdf1 = pd.DataFrame(columns=columnsList, index=gdfin1.index)\n",
    "\n",
    "goutdf1['in_ReportingUnitNativeID'] = \"\"  # in_ReportingUnitNativeID needs to match source from above equivlaent datframe\n",
    "goutdf1['geometry'] = gdfin1['geometry']\n",
    "goutdf1 = goutdf1.drop_duplicates().reset_index(drop=True)\n",
    "print(len(goutdf1))\n",
    "goutdf1.head()"
   ]
  },
  {
   "cell_type": "markdown",
   "metadata": {},
   "source": [
    "#### Regulatory Area #2 shapefile info"
   ]
  },
  {
   "cell_type": "code",
   "execution_count": null,
   "metadata": {},
   "outputs": [],
   "source": [
    "# etc etc..."
   ]
  },
  {
   "cell_type": "markdown",
   "metadata": {},
   "source": [
    "#### Concatenate goutdf shapefile info into single output"
   ]
  },
  {
   "cell_type": "code",
   "execution_count": null,
   "metadata": {},
   "outputs": [],
   "source": [
    "# Concatenate Basin & Subbasin DataFrames\n",
    "frames = [goutdf1, goutdf2,] # add geoutdf dataframes here\n",
    "goutdf = pd.concat(frames).reset_index(drop=True)\n",
    "\n",
    "print(len(goutdf))\n",
    "goutdf.head()"
   ]
  },
  {
   "cell_type": "markdown",
   "metadata": {},
   "source": [
    "## Export Data"
   ]
  },
  {
   "cell_type": "code",
   "execution_count": null,
   "metadata": {
    "scrolled": false
   },
   "outputs": [],
   "source": [
    "with pd.option_context('display.max_rows', None, 'display.max_columns', None):\n",
    "    print(outdf.dtypes)"
   ]
  },
  {
   "cell_type": "code",
   "execution_count": null,
   "metadata": {},
   "outputs": [],
   "source": [
    "with pd.option_context('display.max_rows', None, 'display.max_columns', None):\n",
    "    print(goutdf.dtypes)"
   ]
  },
  {
   "cell_type": "code",
   "execution_count": null,
   "metadata": {},
   "outputs": [],
   "source": [
    "# Export out to CSV.\n",
    "outdf.to_csv('RawInputData/Pre_sdMain.zip', compression=dict(method='zip', archive_name='Pre_Main.csv'), index=False)  # The output, save as a zip\n",
    "goutdf.to_csv('RawInputData/P_Geometry.zip', compression=dict(method='zip', archive_name='P_Geometry.csv'), index=False)  # The output geometry."
   ]
  }
 ],
 "metadata": {
  "kernelspec": {
   "display_name": "Python 3 (ipykernel)",
   "language": "python",
   "name": "python3"
  },
  "language_info": {
   "codemirror_mode": {
    "name": "ipython",
    "version": 3
   },
   "file_extension": ".py",
   "mimetype": "text/x-python",
   "name": "python",
   "nbconvert_exporter": "python",
   "pygments_lexer": "ipython3",
   "version": "3.9.17"
  }
 },
 "nbformat": 4,
 "nbformat_minor": 4
}
