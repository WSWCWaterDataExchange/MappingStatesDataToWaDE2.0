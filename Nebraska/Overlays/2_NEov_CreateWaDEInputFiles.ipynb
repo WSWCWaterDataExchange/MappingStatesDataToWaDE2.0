{
 "cells": [
  {
   "cell_type": "markdown",
   "id": "091aecd3",
   "metadata": {},
   "source": [
    "# Create WaDE Uploader csv Files for Overlay Data\n",
    "- Date Update: 10/29/2024\n",
    "- Purpose: To create WaDE data input files for overlay information."
   ]
  },
  {
   "cell_type": "code",
   "execution_count": 1,
   "id": "e2500615",
   "metadata": {},
   "outputs": [],
   "source": [
    "# Needed Libraries / Modules\n",
    "import sys\n",
    "import os\n",
    "\n",
    "## Custom Libraries\n",
    "sys.path.append(\"../../5_CustomFunctions/MappingFunctions\")\n",
    "import CreateReportingUnitsFile\n",
    "import CreateOverlaysFile\n",
    "import CreateOverlayReportingUnits_factFile\n",
    "import RemoveUnusedRecordsFile"
   ]
  },
  {
   "cell_type": "markdown",
   "id": "1af83dac",
   "metadata": {},
   "source": [
    "## Input Data\n",
    " - create and add variables specific to this proejct here"
   ]
  },
  {
   "cell_type": "code",
   "execution_count": 2,
   "id": "ef992aa3",
   "metadata": {},
   "outputs": [
    {
     "name": "stdout",
     "output_type": "stream",
     "text": [
      "The working Directory is: G:/Shared drives/WaDE Data/WaDE Data Folder/Nebraska/Overlays\n"
     ]
    }
   ],
   "source": [
    "# ---- Inputs ----\n",
    "varST = \"NE\" # state abbreviation\n",
    "varUUIDType = \"ov\" # UUID data type abbreviation\n",
    "mainInputFile = \"Pov_Main.zip\" # use processed zip file\n",
    "\n",
    "# ---- working directory ----\n",
    "workingDirString = \"G:/Shared drives/WaDE Data/WaDE Data Folder/Nebraska/Overlays\" # set working directory folder string here\n",
    "os.chdir(workingDirString)\n",
    "print(f'The working Directory is:', workingDirString)"
   ]
  },
  {
   "cell_type": "markdown",
   "id": "9ca3ea3e",
   "metadata": {},
   "source": [
    "## Create Overlay Input Files"
   ]
  },
  {
   "cell_type": "code",
   "execution_count": 3,
   "id": "f373f87f",
   "metadata": {},
   "outputs": [],
   "source": [
    "# ---- Date (date.csv)----\n",
    "# Simple info, create by hand and save in ProcessedInputData folder."
   ]
  },
  {
   "cell_type": "code",
   "execution_count": 4,
   "id": "de98ab0f",
   "metadata": {},
   "outputs": [],
   "source": [
    "# ---- Organization (organizations.csv) ----\n",
    "# Simple info, create by hand and save in ProcessedInputData folder."
   ]
  },
  {
   "cell_type": "code",
   "execution_count": 5,
   "id": "c8d42fa0",
   "metadata": {},
   "outputs": [
    {
     "name": "stdout",
     "output_type": "stream",
     "text": [
      "Creating Reporting Unit input csv...\n",
      "############################################################################\n",
      "Reading input csv...\n",
      "Populating dataframe...\n",
      "EPSGCodeCV\n",
      "ReportingUnitName\n",
      "ReportingUnitNativeID\n",
      "ReportingUnitProductVersion\n",
      "ReportingUnitTypeCV\n",
      "ReportingUnitUpdateDate\n",
      "StateCV\n",
      "Geometry\n",
      "Adding Data Assessment UUID\n",
      "Resetting Index\n",
      "GroupBy outdf duplicates based on key fields...\n",
      "Error checking each field. Purging bad inputs.\n",
      "Length of outdf DataFrame:  23\n",
      "Length of dfpurge DataFrame:  0\n",
      "Assign ReportingUnitUUID\n",
      "Exporting dataframe...\n",
      "Done\n"
     ]
    }
   ],
   "source": [
    "# ---- Reporting Unit Areas (reportingunits.csv) ----\n",
    "print(\"Creating Reporting Unit input csv...\")\n",
    "print(\"############################################################################\")\n",
    "CreateReportingUnitsFile.CreateReportingUnitInputFunction(workingDirString, varST, varUUIDType, mainInputFile)"
   ]
  },
  {
   "cell_type": "code",
   "execution_count": 6,
   "id": "ad265089",
   "metadata": {},
   "outputs": [
    {
     "name": "stdout",
     "output_type": "stream",
     "text": [
      "Creating Overlays input csv...\n",
      "############################################################################\n",
      "Reading input csv...\n",
      "Populating dataframe outdf...\n",
      "OversightAgency\n",
      "OverlayDescription\n",
      "OverlayName\n",
      "OverlayNativeID\n",
      "OverlayStatusCV\n",
      "Statute\n",
      "StatuteLink\n",
      "StatutoryEffectiveDate\n",
      "StatutoryEndDate\n",
      "OverlayTypeCV\n",
      "WaterSourceTypeCV\n",
      "Adding Data Assessment UUID\n",
      "Resetting Index\n",
      "Joining outdf duplicates based on key fields...\n",
      "Solving WaDE 2.0 upload issues\n",
      "Error checking each field. Purging bad inputs.\n",
      "Length of outdf DataFrame:  23\n",
      "Length of dfpurge DataFrame:  0\n",
      "Assign OverlayUUID\n",
      "Exporting dataframe...\n",
      "Done\n"
     ]
    }
   ],
   "source": [
    "# ---- Overlays (overlays.csv) ----\n",
    "print(\"Creating Overlays input csv...\")\n",
    "print(\"############################################################################\")\n",
    "CreateOverlaysFile.CreateOverlaysInputFunction(workingDirString, varST, varUUIDType, mainInputFile)"
   ]
  },
  {
   "cell_type": "code",
   "execution_count": 7,
   "id": "0e97535d",
   "metadata": {},
   "outputs": [
    {
     "name": "stdout",
     "output_type": "stream",
     "text": [
      "Creating Overlay Reporting Units input csv...\n",
      "############################################################################\n",
      "Reading input csv...\n",
      "Populating dataframe outdf...\n",
      "DataPublicationDate\n",
      "OrganizationUUID\n",
      "OverlayUUID\n",
      "ReportingUnitUUID\n",
      "Resetting Index\n",
      "Solving WaDE 2.0 upload issues\n",
      "Error checking each field. Purging bad inputs.\n",
      "Length of outdf DataFrame:  23\n",
      "Length of dfpurge DataFrame:  0\n",
      "Exporting dataframe...\n",
      "Done\n"
     ]
    }
   ],
   "source": [
    "# ---- Overlay Reporting Units (overlayreportingunits.csv) ----\n",
    "print(\"Creating Overlay Reporting Units input csv...\")\n",
    "print(\"############################################################################\")\n",
    "CreateOverlayReportingUnits_factFile.CreateOverlayReportingUnitsInputFunction(workingDirString, mainInputFile)"
   ]
  },
  {
   "cell_type": "code",
   "execution_count": 8,
   "id": "efac01eb",
   "metadata": {},
   "outputs": [
    {
     "name": "stdout",
     "output_type": "stream",
     "text": [
      "Remove unused Reporting Unit records not found within Overlays input csv...\n",
      "############################################################################\n",
      "Reading input csv...\n",
      "Length of dfru before removing reporting units:  23\n",
      "Length of dfru after removing reporting units:  23\n",
      "Length of dfrru before removing reporting units:  23\n",
      "Length of dfrru after removing reporting units:  23\n",
      "Export Files - reportingunits.csv, reportingunits_missing.csv, overlayreportingunits.csv, overlayreportingunits_missing.csv, overlays.csv\n",
      "Done\n"
     ]
    }
   ],
   "source": [
    "# ---- Remove unused records ----\n",
    "print(\"Remove unused Reporting Unit records not found within Overlays input csv...\")\n",
    "print(\"############################################################################\")\n",
    "RemoveUnusedRecordsFile.RemoveUnusedOverlaysRecordsFileFunction(workingDirString)"
   ]
  }
 ],
 "metadata": {
  "kernelspec": {
   "display_name": "Python 3 (ipykernel)",
   "language": "python",
   "name": "python3"
  },
  "language_info": {
   "codemirror_mode": {
    "name": "ipython",
    "version": 3
   },
   "file_extension": ".py",
   "mimetype": "text/x-python",
   "name": "python",
   "nbconvert_exporter": "python",
   "pygments_lexer": "ipython3",
   "version": "3.12.3"
  }
 },
 "nbformat": 4,
 "nbformat_minor": 5
}
