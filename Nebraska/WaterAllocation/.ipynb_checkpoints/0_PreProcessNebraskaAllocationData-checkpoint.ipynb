{
 "cells": [
  {
   "cell_type": "markdown",
   "metadata": {},
   "source": [
    "# Preprocessing Nebraska Allocation data for WaDEQA upload.\n",
    "- Date Updated: 08/26/2020\n",
    "- Purpose:  To preprocess the Nebraska data into one master file for simple DataFrame creation and extraction.\n",
    "- Joining API surface water data - to POD shapefile data via **RightID**."
   ]
  },
  {
   "cell_type": "code",
   "execution_count": null,
   "metadata": {},
   "outputs": [],
   "source": [
    "#Needed Libararies\n",
    "import os\n",
    "import numpy as np\n",
    "import pandas as pd\n",
    "import requests\n",
    "import json\n",
    "from datetime import datetime\n",
    "pd.set_option('display.max_columns', 999)  # How to display all columns of a Pandas DataFrame in Jupyter Notebook"
   ]
  },
  {
   "cell_type": "code",
   "execution_count": null,
   "metadata": {},
   "outputs": [],
   "source": [
    "# Working Directory\n",
    "workingDir = \"G:/Shared drives/WaDE Data/Nebraska/WaterAllocation/RawInputData\"\n",
    "os.chdir(workingDir)"
   ]
  },
  {
   "cell_type": "code",
   "execution_count": null,
   "metadata": {},
   "outputs": [],
   "source": [
    "#Retrieve POD shapefile data\n",
    "sfInput = \"ActiveSWPODs08242020_input.csv\"\n",
    "dfpodsftemp = pd.read_csv(sfInput)\n",
    "dfpodsf = dfpodsftemp[['RightID', 'HUC_12', 'Longitude', 'Latitude']] #columns of interest\n",
    "dfpodsf.head()"
   ]
  },
  {
   "cell_type": "code",
   "execution_count": null,
   "metadata": {},
   "outputs": [],
   "source": [
    "%%time\n",
    "# Get all surface water points from NeDNR API.\n",
    "# Note: API has lots of NULL values, have to put a hard stop of what to search.\n",
    "# May get duplicates, should be roughly 120,000 good records to work with (according to NE).\n",
    "dfsw = pd.DataFrame()\n",
    "page = 1\n",
    "\n",
    "# for i in range(length):\n",
    "while page < 20:\n",
    "    url = \"https://nednr.nebraska.gov/IwipApi/api/v1/WaterRights/AllSurfaceWaterPoints?page=\" + str(page)\n",
    "    page = 1 + page\n",
    "    responseD = json.loads(requests.get(url).text)\n",
    "    DLtL = responseD['Results']\n",
    "    length = len(DLtL)\n",
    "    for i in range(length):\n",
    "        row = pd.DataFrame([DLtL[i]])\n",
    "        dfsw = dfsw.append(row)\n",
    "\n",
    "dfapisw = dfsw.drop_duplicates(subset=None, keep='first', inplace=False, ignore_index=False)\n",
    "dfapisw.to_csv('NESWPData.csv', index=False)  # The output."
   ]
  },
  {
   "cell_type": "code",
   "execution_count": null,
   "metadata": {},
   "outputs": [],
   "source": []
  },
  {
   "cell_type": "code",
   "execution_count": null,
   "metadata": {},
   "outputs": [],
   "source": []
  },
  {
   "cell_type": "code",
   "execution_count": null,
   "metadata": {},
   "outputs": [],
   "source": [
    "#Merging dataframes into one, using left-join.\n",
    "\n",
    "df = pd.merge(dfapisw, dfpodsf, left_on='RightID', right_on='RightID', how='inner')\n",
    "print(len(df))\n",
    "df.head()"
   ]
  },
  {
   "cell_type": "code",
   "execution_count": null,
   "metadata": {},
   "outputs": [],
   "source": [
    "# Changing datatype of used date fields.\n",
    "\n",
    "df['PriorityDate'] = pd.to_datetime(df['PriorityDate'], errors = 'coerce')\n",
    "df['PriorityDate'] = pd.to_datetime(df[\"PriorityDate\"].dt.strftime('%m/%d/%Y'))\n",
    "df.head(3)"
   ]
  },
  {
   "cell_type": "code",
   "execution_count": null,
   "metadata": {},
   "outputs": [],
   "source": [
    "# Making Sure datatype of HUC12 is int.\n",
    "\n",
    "def assignHUC12(colrowValue):\n",
    "    if colrowValue == '' or pd.isnull(colrowValue):\n",
    "        outList = ''\n",
    "    else:\n",
    "        outList = int(colrowValue)\n",
    "    return outList\n",
    "\n",
    "df['HUC12'] = df.apply(lambda row: assignHUC12(row['HUC12']), axis=1)\n",
    "df.head(3)"
   ]
  },
  {
   "cell_type": "code",
   "execution_count": null,
   "metadata": {},
   "outputs": [],
   "source": [
    "#Creating Beneficial Use from NeDWR Provdied code.  See metaData_SurfaceWaterWebSimpleSearch.pdf for details.\n",
    "\n",
    "NebraskaBenUseCodeDict = {\n",
    "\"CO\" : \"Cooling\",\n",
    "\"DG\" : \"Dredge\",\n",
    "\"DI\" : \"Domestic, Irrigation and Manufacturing\",\n",
    "\"DO\" : \"Domestic\",\n",
    "\"DS\" : \"Domestic Storage\",\n",
    "\"FC\" : \"Fish Culture\",\n",
    "\"FL\" : \"Flood Control\",\n",
    "\"FW\" : \"Fish and Wildlife\",\n",
    "\"IF\" : \"Instream Flow\",\n",
    "\"IG\" : \"Induced Ground Water Recharge\",\n",
    "\"IN\" : \"Intentional Underground Storage\",\n",
    "\"IR\" : \"Irrigation from Natural Stream\",\n",
    "\"IS\" : \"Irrigation and Storage (an appropriation approved for both uses)\",\n",
    "\"IU\" : \"Irrigation and Incidental Underground Storage\",\n",
    "\"MF\" : \"Manufacturing\",\n",
    "\"ML\" : \"Maintain Level of a Lake\",\n",
    "\"MU\" : \"Municipal\",\n",
    "\"OU\" : \"Incidental Underground Storage\",\n",
    "\"PI\" : \"Power and Incidental Underground Storage\",\n",
    "\"PR\" : \"Power\",\n",
    "\"PS\" : \"Supplemental Power and Incidental Underground Storage\",\n",
    "\"PW\" : \"Public Water Supply\",\n",
    "\"RC\" : \"Groundwater Recharge\",\n",
    "\"RD\" : \"Raise Dam (for increase in head for power production)\",\n",
    "\"SC\" : \"Supplemental Cooling\",\n",
    "\"SD\" : \"Supplemental Domestic\",\n",
    "\"SF\" : \"Supplemental Fish Culture\",\n",
    "\"SI\" : \"Supplemental Irrigation\",\n",
    "\"SO\" : \"Storage Use-only\",\n",
    "\"SP\" : \"Supplemental Power\",\n",
    "\"SS\" : \"Supplemental Storage\",\n",
    "\"ST\" : \"Storage\",\n",
    "\"SU\" : \"Storage and Incidental Underground Storage\",\n",
    "\"TI\" : \"Temporary Transfer to In-Stream Use\",\n",
    "\"UI\" : \"Supplemental Irrigation and Incidental Underground Storage\",\n",
    "\"US\" : \"Incidental Underground Storage\",\n",
    "\"WS\" : \"Waste Storage\",\n",
    "\"WT\" : \"Wetlands\"}\n",
    "\n",
    "def assignRightUse(colrowValue):\n",
    "    if colrowValue == \"\" or pd.isnull(colrowValue):\n",
    "        outList = \"Unspecified\"\n",
    "    else:\n",
    "        String1 = colrowValue.strip()  # remove whitespace chars\n",
    "        try:\n",
    "            outList = NebraskaBenUseCodeDict[String1]\n",
    "        except:\n",
    "            outList = \"Unspecified\"\n",
    "    return outList\n",
    "\n",
    "df['BeneficialUseCategory'] = df.apply(lambda row: assignRightUse(row['RightUse']), axis=1)\n",
    "df.head(3)"
   ]
  },
  {
   "cell_type": "code",
   "execution_count": null,
   "metadata": {},
   "outputs": [],
   "source": [
    "# AllocationFlow_CFS - based on reporeted Unit\n",
    "\n",
    "def assignAllocationFlow_CFS(colvA, colvB):\n",
    "    if colvA == '' or pd.isnull(colvA):\n",
    "        outList = ''\n",
    "    else:\n",
    "        colvB = colvB.strip()\n",
    "        if colvB == \"CFS\":\n",
    "            outList = colvA\n",
    "        else:\n",
    "            outList = ''\n",
    "    return outList\n",
    "\n",
    "df['AllocationFlow_CFS'] = df.apply(lambda row: assignAllocationFlow_CFS(row['ProGrant'], row['Units']), axis=1)\n",
    "df.head(3)"
   ]
  },
  {
   "cell_type": "code",
   "execution_count": null,
   "metadata": {},
   "outputs": [],
   "source": [
    "# AllocationVolume_AF - based on reporeted Unit\n",
    "\n",
    "def assignAllocationVolume_AF(colvA, colvB):\n",
    "    if colvA == '' or pd.isnull(colvA):\n",
    "        outList = ''\n",
    "    else:\n",
    "        colvB = colvB.strip()\n",
    "        if colvB == \"AF\":\n",
    "            outList = colvA\n",
    "        else:\n",
    "            outList = ''\n",
    "    return outList\n",
    "\n",
    "df['AllocationVolume_AF'] = df.apply(lambda row: assignAllocationVolume_AF(row['ProGrant'], row['Units']), axis=1)\n",
    "df.head(3)"
   ]
  },
  {
   "cell_type": "code",
   "execution_count": null,
   "metadata": {},
   "outputs": [],
   "source": [
    "# For creating WaterSourceName\n",
    "\n",
    "def assignWaterSourceName(colrowValue):\n",
    "    if colrowValue == '' or pd.isnull(colrowValue):\n",
    "        outList = \"Unspecified\"\n",
    "    else:\n",
    "        outList = colrowValue.strip()\n",
    "    return outList\n",
    "\n",
    "df['in_WaterSourceName'] = df.apply(lambda row: assignWaterSourceName(row['SourceName']), axis=1)\n",
    "df['in_WaterSourceName'].unique()"
   ]
  },
  {
   "cell_type": "code",
   "execution_count": null,
   "metadata": {},
   "outputs": [],
   "source": [
    "df['WaterAllocationNativeURL'] = 'https://nednr.nebraska.gov/dynamic/WaterRights/WaterRights/SWRDetailPage?RightId=' + df['RightID'].astype(str)\n",
    "df.head(3)"
   ]
  },
  {
   "cell_type": "markdown",
   "metadata": {},
   "source": [
    "## WaDE Custom Elements (due to missing state site info)"
   ]
  },
  {
   "cell_type": "code",
   "execution_count": null,
   "metadata": {},
   "outputs": [],
   "source": [
    "# Creating WaDE Custom water source native ID for easy water source identification\n",
    "# ----------------------------------------------------------------------------------------------------\n",
    "\n",
    "# Create temp WaterSourceNativeID dataframe of unique water source.\n",
    "def assignWaterSourceNativeID(colrowValue):\n",
    "    string1 = str(colrowValue)\n",
    "    outstring = \"WaDENE_WS\" + string1\n",
    "    return outstring\n",
    "\n",
    "dfWaterSourceNativeID = pd.DataFrame()\n",
    "dfWaterSourceNativeID['in_WaterSourceName'] = df['in_WaterSourceName']\n",
    "dfWaterSourceNativeID = dfWaterSourceNativeID.drop_duplicates()\n",
    "\n",
    "dftemp = pd.DataFrame(index=dfWaterSourceNativeID.index)\n",
    "dftemp[\"Count\"] = range(1, len(dftemp.index) + 1)\n",
    "dfWaterSourceNativeID['in_WaterSourceNativeID'] = dftemp.apply(lambda row: assignWaterSourceNativeID(row['Count']), axis=1)\n",
    "\n",
    "# ----------------------------------------------------------------------------------------------------\n",
    "\n",
    "# Retreive WaDE Custom water source native ID\n",
    "def retrieveWaterSourceNativeID(A):\n",
    "    if (A == '') or (pd.isnull(A)):\n",
    "        outList = ''\n",
    "    else:\n",
    "        ml = dfWaterSourceNativeID.loc[(dfWaterSourceNativeID['in_WaterSourceName'] == A), 'in_WaterSourceNativeID']\n",
    "        if not (ml.empty):  # check if the series is empty\n",
    "            outList = ml.iloc[0]\n",
    "        else:\n",
    "            outList = ''\n",
    "    return outList\n",
    "\n",
    "df['in_WaterSourceNativeID'] = df.apply(lambda row: retrieveWaterSourceNativeID(row['in_WaterSourceName']), axis=1)\n",
    "df"
   ]
  },
  {
   "cell_type": "code",
   "execution_count": null,
   "metadata": {},
   "outputs": [],
   "source": [
    "# Exporting output files.\n",
    "df.to_csv('P_NebraskaMaster.csv', index=False)  # The output."
   ]
  },
  {
   "cell_type": "code",
   "execution_count": null,
   "metadata": {},
   "outputs": [],
   "source": []
  },
  {
   "cell_type": "code",
   "execution_count": null,
   "metadata": {},
   "outputs": [],
   "source": []
  }
 ],
 "metadata": {
  "kernelspec": {
   "display_name": "Python 3 (ipykernel)",
   "language": "python",
   "name": "python3"
  },
  "language_info": {
   "codemirror_mode": {
    "name": "ipython",
    "version": 3
   },
   "file_extension": ".py",
   "mimetype": "text/x-python",
   "name": "python",
   "nbconvert_exporter": "python",
   "pygments_lexer": "ipython3",
   "version": "3.9.16"
  }
 },
 "nbformat": 4,
 "nbformat_minor": 2
}
