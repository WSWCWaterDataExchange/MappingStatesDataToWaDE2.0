{
 "cells": [
  {
   "cell_type": "markdown",
   "id": "091aecd3",
   "metadata": {},
   "source": [
    "# Create WaDE Uploader csv Files for Water Right Data\n",
    "- Last Updated: 06/23/2023\n",
    "- Purpose: To create necessary processed WaDE Uploader csv files for water right information."
   ]
  },
  {
   "cell_type": "code",
   "execution_count": 1,
   "id": "90b6067a",
   "metadata": {},
   "outputs": [
    {
     "ename": "ModuleNotFoundError",
     "evalue": "No module named 'ErrorCheckCodeFunctionsFile'",
     "output_type": "error",
     "traceback": [
      "\u001b[1;31m---------------------------------------------------------------------------\u001b[0m",
      "\u001b[1;31mModuleNotFoundError\u001b[0m                       Traceback (most recent call last)",
      "Cell \u001b[1;32mIn[1], line 7\u001b[0m\n\u001b[0;32m      5\u001b[0m \u001b[38;5;66;03m## Custom Libraries\u001b[39;00m\n\u001b[0;32m      6\u001b[0m sys\u001b[38;5;241m.\u001b[39mpath\u001b[38;5;241m.\u001b[39mappend(\u001b[38;5;124m\"\u001b[39m\u001b[38;5;124mC:/Users/rjame/Documents/WSWC Documents/MappingStatesDataToWaDE2.0/5_CustomFunctions/MappingFunctions\u001b[39m\u001b[38;5;124m\"\u001b[39m)\n\u001b[1;32m----> 7\u001b[0m \u001b[38;5;28;01mimport\u001b[39;00m \u001b[38;5;21;01mCreateWaterSourcesFile\u001b[39;00m\n\u001b[0;32m      8\u001b[0m \u001b[38;5;28;01mimport\u001b[39;00m \u001b[38;5;21;01mCreateSitesFile\u001b[39;00m\n\u001b[0;32m      9\u001b[0m \u001b[38;5;28;01mimport\u001b[39;00m \u001b[38;5;21;01mCreateAllocationsAmounts_factsFile\u001b[39;00m\n",
      "File \u001b[1;32mC:\\Users/rjame/Documents/WSWC Documents/MappingStatesDataToWaDE2.0/5_CustomFunctions/MappingFunctions\\CreateWaterSourcesFile.py:23\u001b[0m\n\u001b[0;32m     21\u001b[0m \u001b[38;5;66;03m# Test WaDE Data for any Errors\u001b[39;00m\n\u001b[0;32m     22\u001b[0m sys\u001b[38;5;241m.\u001b[39mpath\u001b[38;5;241m.\u001b[39mappend(\u001b[38;5;124m\"\u001b[39m\u001b[38;5;124m../../5_CustomFunctions/ErrorCheckCode\u001b[39m\u001b[38;5;124m\"\u001b[39m)\n\u001b[1;32m---> 23\u001b[0m \u001b[38;5;28;01mimport\u001b[39;00m \u001b[38;5;21;01mErrorCheckCodeFunctionsFile\u001b[39;00m\n\u001b[0;32m     25\u001b[0m \u001b[38;5;66;03m# Clean data and data types\u001b[39;00m\n\u001b[0;32m     26\u001b[0m sys\u001b[38;5;241m.\u001b[39mpath\u001b[38;5;241m.\u001b[39mappend(\u001b[38;5;124m\"\u001b[39m\u001b[38;5;124m../../5_CustomFunctions/CleanDataCode\u001b[39m\u001b[38;5;124m\"\u001b[39m)\n",
      "\u001b[1;31mModuleNotFoundError\u001b[0m: No module named 'ErrorCheckCodeFunctionsFile'"
     ]
    }
   ],
   "source": [
    "# Needed Libraries / Modules\n",
    "import sys\n",
    "import os\n",
    "\n",
    "## Custom Libraries\n",
    "sys.path.append(\"C:/Users/rjame/Documents/WSWC Documents/MappingStatesDataToWaDE2.0/5_CustomFunctions/MappingFunctions\")\n",
    "import CreateWaterSourcesFile\n",
    "import CreateSitesFile\n",
    "import CreateAllocationsAmounts_factsFile\n",
    "import RemoveUnusedRecordsFile\n",
    "import CreatePODSiteToPOUSiteRelationshipsFile"
   ]
  },
  {
   "cell_type": "markdown",
   "id": "22229554",
   "metadata": {},
   "source": [
    "## Input Data (make changes here)\n",
    " - create and add variables specific to this proejct here"
   ]
  },
  {
   "cell_type": "code",
   "execution_count": null,
   "id": "da2aba5f",
   "metadata": {},
   "outputs": [],
   "source": [
    "# ---- Inputs ----\n",
    "varST = \"NE\" # source organization or state abbreviation\n",
    "varUUIDType = \"wr\" # UUID data type abbreviation\n",
    "mainInputFile = \"Pwr_neMain.zip\" # use processed zip file\n",
    "\n",
    "# ---- working directory ----\n",
    "workingDirString = \"C:/Users/rjame/Desktop/NWwr OwnerClass fix\" # set working directory folder string here\n",
    "os.chdir(workingDirString)\n",
    "print(f'The working Directory is:', workingDirString)"
   ]
  },
  {
   "cell_type": "markdown",
   "id": "9ca3ea3e",
   "metadata": {},
   "source": [
    "## Create Water Right Input Files"
   ]
  },
  {
   "cell_type": "code",
   "execution_count": null,
   "id": "f373f87f",
   "metadata": {},
   "outputs": [],
   "source": [
    "# ---- Method (methods.csv) ----\n",
    "# Simple info, create by hand and save in ProcessedInputData folder."
   ]
  },
  {
   "cell_type": "code",
   "execution_count": null,
   "id": "d0292a0b",
   "metadata": {},
   "outputs": [],
   "source": [
    "# ---- Variable (variables.csv) ----\n",
    "# Simple info, create by hand and save in ProcessedInputData folder."
   ]
  },
  {
   "cell_type": "code",
   "execution_count": null,
   "id": "de98ab0f",
   "metadata": {},
   "outputs": [],
   "source": [
    "# ---- Organization (organizations.csv) ----\n",
    "# Simple info, create by hand and save in ProcessedInputData folder."
   ]
  },
  {
   "cell_type": "code",
   "execution_count": null,
   "id": "a96f088b",
   "metadata": {},
   "outputs": [],
   "source": [
    "# ---- Water Sources (watersources.csv) ----\n",
    "print(\"Creating Water Sources input csv...\")\n",
    "print(\"############################################################################\")\n",
    "CreateWaterSourcesFile.CreateWaterSourcesInputFunction(workingDirString, varST, varUUIDType, mainInputFile)"
   ]
  },
  {
   "cell_type": "code",
   "execution_count": null,
   "id": "b6494c99",
   "metadata": {},
   "outputs": [],
   "source": [
    "# ---- Sites (sites.csv) ----\n",
    "print(\"Creating Sites input csv...\")\n",
    "print(\"############################################################################\")\n",
    "CreateSitesFile.CreateSitesInputFunction(workingDirString, varST, varUUIDType, mainInputFile)"
   ]
  },
  {
   "cell_type": "code",
   "execution_count": null,
   "id": "ffb1f358",
   "metadata": {
    "scrolled": true
   },
   "outputs": [],
   "source": [
    "# ---- Allocations Amounts (waterallocations.csv) ----\n",
    "print(\"Creating AllocationsAmounts_facts input csv...\")\n",
    "print(\"############################################################################\")\n",
    "CreateAllocationsAmounts_factsFile.CreateAllocationsAmounts_factsInputFunction(workingDirString, varST, varUUIDType, mainInputFile)"
   ]
  },
  {
   "cell_type": "code",
   "execution_count": null,
   "id": "a769f9b0",
   "metadata": {},
   "outputs": [],
   "source": [
    "# ---- Remove unused records ----\n",
    "print(\"Remove unused Water Sources and Sites records not found within AllocationsAmounts_facts input csv...\")\n",
    "print(\"############################################################################\")\n",
    "RemoveUnusedRecordsFile.RemoveUnusedAllocationsAmountRecordsFileFunction(workingDirString)"
   ]
  },
  {
   "cell_type": "code",
   "execution_count": null,
   "id": "777d5d20",
   "metadata": {},
   "outputs": [],
   "source": [
    "# ---- Create POD and POU joins (podsitetopousiterelationships.csv) ----\n",
    "print(\"Creating Pod site -to- Pou site relationships input csv...\")\n",
    "print(\"############################################################################\")\n",
    "CreatePODSiteToPOUSiteRelationshipsFile.CreatePODSiteToPOUSiteRelationshipsFunction(workingDirString)"
   ]
  },
  {
   "cell_type": "code",
   "execution_count": null,
   "id": "db0d3804",
   "metadata": {},
   "outputs": [],
   "source": []
  }
 ],
 "metadata": {
  "kernelspec": {
   "display_name": "Python 3 (ipykernel)",
   "language": "python",
   "name": "python3"
  },
  "language_info": {
   "codemirror_mode": {
    "name": "ipython",
    "version": 3
   },
   "file_extension": ".py",
   "mimetype": "text/x-python",
   "name": "python",
   "nbconvert_exporter": "python",
   "pygments_lexer": "ipython3",
   "version": "3.9.18"
  }
 },
 "nbformat": 4,
 "nbformat_minor": 5
}
