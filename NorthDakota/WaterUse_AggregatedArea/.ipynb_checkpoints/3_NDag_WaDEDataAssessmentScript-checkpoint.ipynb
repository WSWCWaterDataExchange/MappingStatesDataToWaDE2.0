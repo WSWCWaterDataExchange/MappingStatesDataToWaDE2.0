{
 "cells": [
  {
   "cell_type": "markdown",
   "id": "d1f571be",
   "metadata": {},
   "source": [
    "# Data Assessment & Analytics\n",
    "Notes:\n",
    "- change os directory location\n",
    "- be aware of the number of provdied native source data files"
   ]
  },
  {
   "cell_type": "code",
   "execution_count": null,
   "id": "13ee81d8",
   "metadata": {},
   "outputs": [],
   "source": [
    "# working with data\n",
    "import os\n",
    "import numpy as np\n",
    "import pandas as pd\n",
    "import geopandas as gpd # the library that lets us read in shapefiles\n",
    "import geoplot as gplt # for plotting maps\n",
    "import geoplot.crs as gcrs #used to pull in webdata\n",
    "\n",
    "# visulizaiton\n",
    "import missingno as msno # creates a matrix chart to show missing values\n",
    "import plotly.express as px\n",
    "import plotly.graph_objects as go # for subplot creation\n",
    "from plotly.subplots import make_subplots # for subplot creation\n",
    "import matplotlib.pyplot as mplt # use with gplt to save fig to pdf\n",
    "\n",
    "# Cleanup\n",
    "from datetime import datetime\n",
    "pd.set_option('display.max_columns', 999)  # How to display all columns of a Pandas DataFrame in Jupyter Notebook"
   ]
  },
  {
   "cell_type": "code",
   "execution_count": null,
   "id": "f24dccf3",
   "metadata": {},
   "outputs": [],
   "source": [
    "# Set Working Directory\n",
    "workingDir = \"G:/Shared drives/WaDE Data/NorthDakota/AggregatedAmounts\" # set working directory folder string here\n",
    "os.chdir(workingDir)"
   ]
  },
  {
   "cell_type": "code",
   "execution_count": null,
   "id": "62de750e",
   "metadata": {},
   "outputs": [],
   "source": [
    "# # This needs to be custom per state\n",
    "\n",
    "# # Input Data\n",
    "# #################################################################\n",
    "# # Data 1: 2060report_data-release_v2110_A1_6_9_11_14_17_22\n",
    "# df1 = pd.read_csv('RawinputData/2060report_data-release_v2110_A1_6_9_11_14_17_22.zip')"
   ]
  },
  {
   "cell_type": "code",
   "execution_count": null,
   "id": "ecbf2d48",
   "metadata": {},
   "outputs": [],
   "source": [
    "# Input Data - Processed WaDE Input files\n",
    "#################################################################\n",
    "dfws = pd.read_csv(\"ProcessedInputData/watersources.csv\").replace(np.nan, \"\")\n",
    "dfwspurge = pd.read_csv(\"ProcessedInputData/watersources_missing.csv\").replace(np.nan, \"\")\n",
    "\n",
    "dfru = pd.read_csv(\"ProcessedInputData/reportingunits.csv\").replace(np.nan, \"\")\n",
    "dfrupurge = pd.read_csv(\"ProcessedInputData/reportingunits_missing.csv\").replace(np.nan, \"\")\n",
    "\n",
    "dfag = pd.read_csv(\"ProcessedInputData/aggregatedamounts.csv\").replace(np.nan, \"\")\n",
    "dfagpurge = pd.read_csv(\"ProcessedInputData/aggregatedamounts_missing.csv\").replace(np.nan, \"\")"
   ]
  },
  {
   "cell_type": "markdown",
   "id": "40ff4e59",
   "metadata": {},
   "source": [
    "# Water Source Info\n",
    "- watersources.csv"
   ]
  },
  {
   "cell_type": "code",
   "execution_count": null,
   "id": "98a506fe",
   "metadata": {
    "scrolled": true
   },
   "outputs": [],
   "source": [
    "print(len(dfws))\n",
    "dfws.head(1)"
   ]
  },
  {
   "cell_type": "code",
   "execution_count": null,
   "id": "7c4f64f6",
   "metadata": {},
   "outputs": [],
   "source": [
    "# Check what columns contain missing information.\n",
    "msno.matrix(dfws, figsize=(10,5), fontsize=10)"
   ]
  },
  {
   "cell_type": "code",
   "execution_count": null,
   "id": "b84c8270",
   "metadata": {},
   "outputs": [],
   "source": [
    "# Unique values for 'WaterSourceTypeCV'\n",
    "for x in dfws['WaterSourceTypeCV'].sort_values().unique():\n",
    "    print(f'\"' + x + '\",')"
   ]
  },
  {
   "cell_type": "code",
   "execution_count": null,
   "id": "9c57fcf1",
   "metadata": {},
   "outputs": [],
   "source": [
    "# WaterSourceTypeCV: histogram distribution of WaDE values\n",
    "print(dfws.WaterSourceTypeCV.value_counts())\n",
    "\n",
    "fig = px.histogram(dfws, x=\"WaterSourceTypeCV\")\n",
    "fig.update_layout(bargap=0.2,\n",
    "                  title=\"Histogram of WaterSourceTypeCV Entries in watersource.csv\",\n",
    "                  xaxis_title=\"WaterSourceTypeCV Value\",\n",
    "                  yaxis_title=\"# of entries\",\n",
    "                  #legend_title=\"Legend Title\",\n",
    "                    font=dict(\n",
    "                        family=\"Arial Bold\",\n",
    "                        size=12,\n",
    "                        color=\"Black\")\n",
    "                 )\n",
    "fig.show()\n",
    "#fig.write_image('DataAssessment/figures/WaterSourceTypeCV.pdf', engine=\"kaleido\")"
   ]
  },
  {
   "cell_type": "markdown",
   "id": "ef6701f3",
   "metadata": {},
   "source": [
    "# Reporting Unit Info\n",
    "- reportingunits.csv"
   ]
  },
  {
   "cell_type": "code",
   "execution_count": null,
   "id": "6f0995e8",
   "metadata": {},
   "outputs": [],
   "source": [
    "print(len(dfru))\n",
    "dfru.head(1)"
   ]
  },
  {
   "cell_type": "code",
   "execution_count": null,
   "id": "5c6ba2fe",
   "metadata": {},
   "outputs": [],
   "source": [
    "# Check what columns contain missing information.\n",
    "msno.matrix(dfru, figsize=(10,5), fontsize=10)"
   ]
  },
  {
   "cell_type": "code",
   "execution_count": null,
   "id": "f3d0a5ab",
   "metadata": {},
   "outputs": [],
   "source": [
    "# Unique values for 'ReportingUnitName'\n",
    "for x in dfru['ReportingUnitName'].sort_values().unique():\n",
    "    print(f'\"' + x + '\",')"
   ]
  },
  {
   "cell_type": "code",
   "execution_count": null,
   "id": "7c269f81",
   "metadata": {},
   "outputs": [],
   "source": [
    "# Unique values for 'ReportingUnitTypeCV'\n",
    "for x in dfru['ReportingUnitTypeCV'].sort_values().unique():\n",
    "    print(f'\"' + x + '\",')"
   ]
  },
  {
   "cell_type": "code",
   "execution_count": null,
   "id": "9faa6245",
   "metadata": {},
   "outputs": [],
   "source": [
    "# ReportingUnitTypeCV: histogram distribution of WaDE values\n",
    "print(dfru.ReportingUnitTypeCV.value_counts())\n",
    "\n",
    "fig = px.histogram(dfru, x=\"ReportingUnitTypeCV\")\n",
    "fig.update_layout(bargap=0.2,\n",
    "                  title=\"Histogram of ReportingUnitTypeCV Entries in reportingunit.csv\",\n",
    "                  xaxis_title=\"ReportingUnitTypeCV Value\",\n",
    "                  yaxis_title=\"# of entries\",\n",
    "                  #legend_title=\"Legend Title\",\n",
    "                    font=dict(\n",
    "                        family=\"Arial Bold\",\n",
    "                        size=12,\n",
    "                        color=\"Black\")\n",
    "                 )\n",
    "fig.show()\n",
    "#fig.write_image('DataAssessment/figures/ReportingUnitTypeCV.pdf', engine=\"kaleido\")"
   ]
  },
  {
   "cell_type": "code",
   "execution_count": null,
   "id": "d4077ac4",
   "metadata": {},
   "outputs": [],
   "source": [
    "# StateCV: histogram distribution of WaDE values\n",
    "print(dfru.StateCV.value_counts())\n",
    "\n",
    "fig = px.histogram(dfru, x=\"StateCV\")\n",
    "fig.update_layout(bargap=0.2,\n",
    "                  title=\"Histogram of StateCV Entries in reportingunit.csv\",\n",
    "                  xaxis_title=\"StateCV Value\",\n",
    "                  yaxis_title=\"# of entries\",\n",
    "                  #legend_title=\"Legend Title\",\n",
    "                    font=dict(\n",
    "                        family=\"Arial Bold\",\n",
    "                        size=12,\n",
    "                        color=\"Black\")\n",
    "                 )\n",
    "fig.show()\n",
    "#fig.write_image('DataAssessment/figures/StateCV.pdf', engine=\"kaleido\")"
   ]
  },
  {
   "cell_type": "code",
   "execution_count": null,
   "id": "9811ea14",
   "metadata": {},
   "outputs": [],
   "source": [
    "# Map poly info\n",
    "try:\n",
    "    contiguous_usa = gpd.read_file(gplt.datasets.get_path('contiguous_usa')) # use for background map in subplot\n",
    "    ax = gplt.webmap(contiguous_usa, projection=gcrs.WebMercator()) # set subplot\n",
    "    \n",
    "    dfruPoly = dfru.copy()\n",
    "    dfruPoly = dfruPoly[dfruPoly['Geometry'] != \"\"].reset_index(drop=True)\n",
    "    dfruPoly['Geometry'] = gpd.GeoSeries.from_wkt(dfruPoly['Geometry'], crs=\"EPSG:4326\")\n",
    "    gdfruPoly = gpd.GeoDataFrame(dfruPoly, geometry=dfruPoly['Geometry'], crs=\"EPSG:4326\") # covert to geodataframe\n",
    "    gdfruPoly['Geometry'] = gdfruPoly.simplify(0.001) # simplify the geometry. Lower the number the larger the exported file.\n",
    "    gplt.polyplot(gdfruPoly, ax=ax)\n",
    "    mplt.savefig(format=\"pdf\", fname='DataAssessment/figures/PolyMap.pdf')\n",
    "except:\n",
    "    print('No geometry data to plot')"
   ]
  },
  {
   "cell_type": "code",
   "execution_count": null,
   "id": "59382d3e",
   "metadata": {
    "scrolled": false
   },
   "outputs": [],
   "source": [
    "dfruPoly.head()"
   ]
  },
  {
   "cell_type": "markdown",
   "id": "8c68319e",
   "metadata": {},
   "source": [
    "# Aggregated Amounts Info\n",
    "- aggregatedamounts.csv"
   ]
  },
  {
   "cell_type": "code",
   "execution_count": null,
   "id": "f4130bb0",
   "metadata": {},
   "outputs": [],
   "source": [
    "print(len(dfag))\n",
    "dfag.head(1)"
   ]
  },
  {
   "cell_type": "code",
   "execution_count": null,
   "id": "80bd1ab5",
   "metadata": {},
   "outputs": [],
   "source": [
    "# Check what columns contain missing information.\n",
    "msno.matrix(dfag, figsize=(10,5), fontsize=10)"
   ]
  },
  {
   "cell_type": "code",
   "execution_count": null,
   "id": "6a144c36",
   "metadata": {},
   "outputs": [],
   "source": [
    "# Unique values for 'AllocationCropDutyAmount'\n",
    "for x in dfag['AllocationCropDutyAmount'].sort_values().unique():\n",
    "    print(f'\"' + str(x) + '\",')"
   ]
  },
  {
   "cell_type": "code",
   "execution_count": null,
   "id": "4fcfa382",
   "metadata": {},
   "outputs": [],
   "source": [
    "# Unique values for 'CommunityWaterSupplySystem'\n",
    "for x in dfag['CommunityWaterSupplySystem'].sort_values().unique():\n",
    "    print(f'\"' + x + '\",')"
   ]
  },
  {
   "cell_type": "code",
   "execution_count": null,
   "id": "bd0282ff",
   "metadata": {},
   "outputs": [],
   "source": [
    "# Unique values for 'CropTypeCV'\n",
    "for x in dfag['CropTypeCV'].sort_values().unique():\n",
    "    print(f'\"' + x + '\",')"
   ]
  },
  {
   "cell_type": "code",
   "execution_count": null,
   "id": "584c59f9",
   "metadata": {},
   "outputs": [],
   "source": [
    "# Unique values for 'CustomerTypeCV'\n",
    "for x in dfag['CustomerTypeCV'].sort_values().unique():\n",
    "    print(f'\"' + x + '\",')"
   ]
  },
  {
   "cell_type": "code",
   "execution_count": null,
   "id": "d386ef64",
   "metadata": {},
   "outputs": [],
   "source": [
    "# Unique values for 'IrrigationMethodCV'\n",
    "for x in dfag['IrrigationMethodCV'].sort_values().unique():\n",
    "    print(f'\"' + x + '\",')"
   ]
  },
  {
   "cell_type": "code",
   "execution_count": null,
   "id": "da68bc14",
   "metadata": {},
   "outputs": [],
   "source": [
    "# Unique values for 'PopulationServed'\n",
    "for x in dfag['PopulationServed'].sort_values().unique():\n",
    "    print(f'\"' + x + '\",')"
   ]
  },
  {
   "cell_type": "code",
   "execution_count": null,
   "id": "3f09c1a6",
   "metadata": {},
   "outputs": [],
   "source": [
    "# Unique values for 'BeneficialUseCategory'\n",
    "uniqueList = list(set([i.strip() for i in ','.join(dfag['BeneficialUseCategory'].astype(str)).split(',')]))\n",
    "uniqueList.sort()\n",
    "uniqueList"
   ]
  },
  {
   "cell_type": "code",
   "execution_count": null,
   "id": "e37758f3",
   "metadata": {},
   "outputs": [],
   "source": [
    "# Amount: Boxplot distribution of WaDE values\n",
    "try:\n",
    "    trace1 = go.Violin(x=dfag['Amount'], points='outliers', name='Violin Plot')\n",
    "    trace2 = go.Histogram(x=dfag['Amount'], name='Historgram')\n",
    "\n",
    "    fig = make_subplots(rows=2, cols=1)\n",
    "    fig.add_trace(trace1, row=1, col=1)\n",
    "    fig.add_trace(trace2, row=2, col=1)\n",
    "\n",
    "    fig.update_layout(showlegend=False, bargap=0.2, title=\"Amount Distribution in aggregatedamounts.csv\", font=dict(family=\"Arial Bold\", size=12,color=\"Black\"))\n",
    "    fig.update_xaxes(title_text=\"Amount Value\", row=1, col=1)\n",
    "    fig.update_xaxes(title_text=\"Amount Value\", row=2, col=1)\n",
    "    fig.update_yaxes(title_text=\"Num. of Records\", row=2, col=1)\n",
    "    fig.show()\n",
    "    #fig.write_image('DataAssessment/figures/Amount.pdf', engine=\"kaleido\")\n",
    "\n",
    "except: print('Could not plot Amount value.')"
   ]
  },
  {
   "cell_type": "code",
   "execution_count": null,
   "id": "f1fcaff3",
   "metadata": {},
   "outputs": [],
   "source": [
    "# PrimaryUseCategory: histogram distribution of WaDE values\n",
    "print(dfag.PrimaryUseCategory.value_counts())\n",
    "\n",
    "fig = px.histogram(dfag, x=\"PrimaryUseCategory\")\n",
    "fig.update_layout(bargap=0.2,\n",
    "                  title=\"Histogram of PrimaryUseCategory Entries in aggregatedamounts.csv\",\n",
    "                  xaxis_title=\"PrimaryUseCategoryCV Value\",\n",
    "                  yaxis_title=\"# of entries\",\n",
    "                  #legend_title=\"Legend Title\",\n",
    "                    font=dict(\n",
    "                        family=\"Arial Bold\",\n",
    "                        size=12,\n",
    "                        color=\"Black\")\n",
    "                 )\n",
    "fig.show()\n",
    "#fig.write_image('DataAssessment/figures/PrimaryUseCategory.pdf', engine=\"kaleido\")"
   ]
  },
  {
   "cell_type": "code",
   "execution_count": null,
   "id": "16bf7fe0",
   "metadata": {},
   "outputs": [],
   "source": [
    "# ReportYearCV: histogram distribution of WaDE values\n",
    "print(dfag.ReportYearCV.value_counts())\n",
    "\n",
    "fig = px.histogram(dfag, x=\"ReportYearCV\")\n",
    "fig.update_layout(bargap=0.2,\n",
    "                  title=\"Histogram of ReportYearCV Entries in aggregatedamounts.csv\",\n",
    "                  xaxis_title=\"ReportYearCV Value\",\n",
    "                  yaxis_title=\"# of entries\",\n",
    "                  #legend_title=\"Legend Title\",\n",
    "                    font=dict(\n",
    "                        family=\"Arial Bold\",\n",
    "                        size=12,\n",
    "                        color=\"Black\")\n",
    "                 )\n",
    "fig.show()\n",
    "#fig.write_image('DataAssessment/figures/ReportYearCV.pdf', engine=\"kaleido\")"
   ]
  },
  {
   "cell_type": "markdown",
   "id": "cf702600",
   "metadata": {},
   "source": [
    "# Merge all figure pdfs into single output pdf"
   ]
  },
  {
   "cell_type": "code",
   "execution_count": null,
   "id": "269a6369",
   "metadata": {},
   "outputs": [],
   "source": [
    "# # merge all figure pdfs into single output pdf\n",
    "\n",
    "# '''\n",
    "# Notes:\n",
    "# 'merger' is used for merging multiple files into one and merger.append(absfile) will append \n",
    "#  the files one by one until all pdfs are appended in the result file.\n",
    "# '''\n",
    "\n",
    "# from PyPDF2 import PdfFileMerger\n",
    "\n",
    "# # If files are saved in the folder 'C:\\Users' then Full_Path will be replaced with C:\\Users\n",
    "# filePath = str(os.getcwd()) + '/DataAssessment/figures'\n",
    "# pdfsList = os.listdir(filePath)\n",
    "# print(pdfsList)\n",
    "\n",
    "\n",
    "# # os.listdir will create the list of all files in a directory\n",
    "# merger = PdfFileMerger(strict=False)\n",
    "\n",
    "# for file in pdfsList:\n",
    "#     if file.endswith(\".pdf\"):\n",
    "#         path_with_file = os.path.join(filePath, file)\n",
    "#         print(path_with_file)\n",
    "#         merger.append(path_with_file,  import_bookmarks=False )\n",
    "# merger.write(\"DataAssessment/Figures Merged Copy.pdf\")\n",
    "\n",
    "# merger.close()"
   ]
  },
  {
   "cell_type": "markdown",
   "id": "6fc755d8",
   "metadata": {},
   "source": [
    "# Removed Records compared to Source Data\n",
    "- this is working just fine\n",
    "- just want to comment out temporarily"
   ]
  },
  {
   "cell_type": "code",
   "execution_count": null,
   "id": "79220931",
   "metadata": {},
   "outputs": [],
   "source": [
    "# # Explode purge.xlsx files by WaDEUUID, concat together\n",
    "# #################################################################\n",
    "\n",
    "# # Explode watersources_missing.csv records by WaDEUUID\n",
    "# dfwspurgeCopy = dfwspurge.assign(WaDEUUID=dfwspurge['WaDEUUID'].str.split(',')).explode('WaDEUUID').reset_index(drop=True)\n",
    "# dfwspurgeCopy = dfwspurgeCopy[['WaDEUUID','ReasonRemoved','IncompleteField']]\n",
    "\n",
    "# # Explode reportingunits_missing.csv records by WaDEUUID\n",
    "# dfrupurgeCopy = dfrupurge.assign(WaDEUUID=dfrupurge['WaDEUUID'].str.split(',')).explode('WaDEUUID').reset_index(drop=True)\n",
    "# dfrupurgeCopy = dfrupurgeCopy[['WaDEUUID','ReasonRemoved','IncompleteField']]\n",
    "\n",
    "# # Explode aggregatedamounts_missing.csv records by WaDEUUID\n",
    "# dfagpurgeCopy = dfagpurge.assign(WaDEUUID=dfagpurge['WaDEUUID'].str.split(',')).explode('WaDEUUID').reset_index(drop=True)\n",
    "# dfagpurgeCopy = dfagpurgeCopy[['WaDEUUID','ReasonRemoved','IncompleteField']]\n",
    "\n",
    "# # concat purge dataframes togehter\n",
    "# frames = [dfwspurgeCopy, dfrupurgeCopy, dfagpurgeCopy] \n",
    "# dfWaDEUUID = pd.concat(frames)\n",
    "# dfWaDEUUID = dfWaDEUUID.drop_duplicates().reset_index(drop=True).replace(np.nan, \"\")\n",
    "# print(len(dfWaDEUUID))\n",
    "# dfWaDEUUID.head(1)"
   ]
  },
  {
   "cell_type": "code",
   "execution_count": null,
   "id": "0125f3de",
   "metadata": {},
   "outputs": [],
   "source": [
    "# # this is custom to the provided data\n",
    "\n",
    "# # attach purge dataframe to Native Source Data\n",
    "# # df1: 2060report_data-release_v2110_A1_6_9_11_14_17_22\n",
    "# #################################################################\n",
    "\n",
    "# if 'ReasonRemoved' in df1:\n",
    "#     df1 = df1.drop(['ReasonRemoved', 'IncompleteField'], axis=1)\n",
    "\n",
    "# df1Copy = dfWaDEUUID.merge(df1, how='right', on='WaDEUUID')\n",
    "# df1Copy = df1Copy.groupby('WaDEUUID').agg(lambda x: ','.join([str(elem) for elem in (list(set(x))) if elem!=''])).replace(np.nan, \"\").reset_index()\n",
    "# df1Copy.to_csv('RawInputData/2060report_data-release_v2110_A1_6_9_11_14_17_22.zip', compression=dict(method='zip', archive_name='2060report_data-release_v2110_A1_6_9_11_14_17_22.csv'), index=False)"
   ]
  },
  {
   "cell_type": "markdown",
   "id": "5c080897",
   "metadata": {},
   "source": [
    "# Custom Queries and Analysis for this Dataset"
   ]
  },
  {
   "cell_type": "code",
   "execution_count": null,
   "id": "f5661603",
   "metadata": {
    "scrolled": true
   },
   "outputs": [],
   "source": [
    "# asdf"
   ]
  }
 ],
 "metadata": {
  "kernelspec": {
   "display_name": "Python 3 (ipykernel)",
   "language": "python",
   "name": "python3"
  },
  "language_info": {
   "codemirror_mode": {
    "name": "ipython",
    "version": 3
   },
   "file_extension": ".py",
   "mimetype": "text/x-python",
   "name": "python",
   "nbconvert_exporter": "python",
   "pygments_lexer": "ipython3",
   "version": "3.9.17"
  }
 },
 "nbformat": 4,
 "nbformat_minor": 5
}
