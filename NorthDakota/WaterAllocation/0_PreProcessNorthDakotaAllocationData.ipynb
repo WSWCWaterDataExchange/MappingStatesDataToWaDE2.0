{
 "cells": [
  {
   "cell_type": "markdown",
   "metadata": {},
   "source": [
    "# Pre-processing North Dakota Allocation data for WaDEQA upload.\n",
    "Date Updated: 04/08/2020\n",
    "\n",
    "Purpose:  To pre-process the North Dakota data into one master file for simple DataFrame creation and extraction.  To validate datatypes and other data related information.\n",
    "\n",
    "Useful Links to Data:  Data obtained from the map services of North Dakota State Water Commission (NDSWC)\n",
    "https://mapservice.swc.nd.gov/.  Downloaded “Water Permits” layer displayed by “Use type”.  Open the shapefile in QGIS and export layer to csv file:  Permits.csv"
   ]
  },
  {
   "cell_type": "code",
   "execution_count": 1,
   "metadata": {},
   "outputs": [],
   "source": [
    "#Needed Libararies\n",
    "import os\n",
    "import numpy as np\n",
    "import pandas as pd\n",
    "from datetime import datetime\n",
    "pd.set_option('display.max_columns', 999)  # How to display all columns of a Pandas DataFrame in Jupyter Notebook"
   ]
  },
  {
   "cell_type": "code",
   "execution_count": 2,
   "metadata": {},
   "outputs": [],
   "source": [
    "#Working Directory and Input File\n",
    "workingDir = \"C:/Users/rjame/Documents/WSWC Documents/MappingStatesDataToWaDE2.0/NorthDakota/WaterAllocation/RawInputData\"\n",
    "os.chdir(workingDir)\n",
    "\n",
    "Permit_Input = \"Permits_input.csv\""
   ]
  },
  {
   "cell_type": "code",
   "execution_count": 3,
   "metadata": {},
   "outputs": [],
   "source": [
    "#Dataframe creation\n",
    "df = pd.read_csv(Permit_Input, encoding = \"ISO-8859-1\")"
   ]
  },
  {
   "cell_type": "code",
   "execution_count": 4,
   "metadata": {},
   "outputs": [],
   "source": [
    "# Changing datatype of date fields to fit WaDE.\n",
    "df['priority_d'] = pd.to_datetime(df['priority_d'], errors = 'coerce')\n",
    "df['priority_d'] = pd.to_datetime(df[\"priority_d\"].dt.strftime('%m/%d/%Y'))\n",
    "\n",
    "df['date_issue'] = pd.to_datetime(df['date_issue'], errors = 'coerce')\n",
    "df['date_issue'] = pd.to_datetime(df[\"date_issue\"].dt.strftime('%m/%d/%Y'))\n",
    "\n",
    "df['date_cance'] = pd.to_datetime(df['date_cance'], errors = 'coerce')\n",
    "df['date_cance'] = pd.to_datetime(df[\"date_cance\"].dt.strftime('%m/%d/%Y'))"
   ]
  },
  {
   "cell_type": "code",
   "execution_count": 5,
   "metadata": {},
   "outputs": [],
   "source": [
    "# Changing format to Title to clean up text.\n",
    "df['source_nam'] = df['source_nam'].str.title()\n",
    "df['source'] = df['source'].str.title()\n",
    "df['permit_hol'] = df['permit_hol'].str.title()\n",
    "\n",
    "# Removing white space from certain text fields to help clean up text.\n",
    "df['source_nam'] = df['source_nam'].str.strip()\n",
    "df['source'] = df['source'].str.strip()\n",
    "df['permit_hol'] = df['permit_hol'].str.strip()\n",
    "\n",
    "df['county'] = df['county'].str.strip()\n",
    "df['aquifer'] = df['aquifer'].str.strip()\n",
    "df['pod'] = df['pod'].str.strip()\n",
    "df['status'] = df['status'].str.strip()\n",
    "df['use_type'] = df['use_type'].str.strip()\n",
    "df['permit_num'] = df['permit_num'].str.strip()"
   ]
  },
  {
   "cell_type": "code",
   "execution_count": 6,
   "metadata": {},
   "outputs": [
    {
     "name": "stdout",
     "output_type": "stream",
     "text": [
      "permit_ind             int64\n",
      "permit_num            object\n",
      "pod_index              int64\n",
      "pod                   object\n",
      "permit_hol            object\n",
      "priority_d    datetime64[ns]\n",
      "use_type              object\n",
      "status                object\n",
      "date_issue    datetime64[ns]\n",
      "date_cance    datetime64[ns]\n",
      "beneficial            object\n",
      "county                object\n",
      "hu_sub_bas            object\n",
      "aquifer               object\n",
      "subaquifer            object\n",
      "req_acft             float64\n",
      "req_acre             float64\n",
      "req_rate             float64\n",
      "req_storag           float64\n",
      "app_acft             float64\n",
      "app_acre             float64\n",
      "app_rate             float64\n",
      "app_storag           float64\n",
      "pod_status            object\n",
      "source                object\n",
      "irrigation            object\n",
      "source_nam            object\n",
      "mainstem               int64\n",
      "impound_lo            object\n",
      "impound_na            object\n",
      "return_des            object\n",
      "discharge_            object\n",
      "period_sta            object\n",
      "period_end            object\n",
      "return_qua             int64\n",
      "held_acft            float64\n",
      "held_acre            float64\n",
      "held_rate            float64\n",
      "held_stora           float64\n",
      "longitude            float64\n",
      "latitude             float64\n",
      "dtype: object\n"
     ]
    }
   ],
   "source": [
    "#technique to check datatype of long dataframes.\n",
    "with pd.option_context('display.max_rows', None, 'display.max_columns', None):\n",
    "    print(df.dtypes)"
   ]
  },
  {
   "cell_type": "code",
   "execution_count": 7,
   "metadata": {},
   "outputs": [],
   "source": [
    "#Exporting to Finished File\n",
    "df.to_csv('P_NorthDakotaMaster.csv', index=False)  # The output"
   ]
  }
 ],
 "metadata": {
  "kernelspec": {
   "display_name": "Python 3",
   "language": "python",
   "name": "python3"
  },
  "language_info": {
   "codemirror_mode": {
    "name": "ipython",
    "version": 3
   },
   "file_extension": ".py",
   "mimetype": "text/x-python",
   "name": "python",
   "nbconvert_exporter": "python",
   "pygments_lexer": "ipython3",
   "version": "3.8.5"
  }
 },
 "nbformat": 4,
 "nbformat_minor": 2
}
