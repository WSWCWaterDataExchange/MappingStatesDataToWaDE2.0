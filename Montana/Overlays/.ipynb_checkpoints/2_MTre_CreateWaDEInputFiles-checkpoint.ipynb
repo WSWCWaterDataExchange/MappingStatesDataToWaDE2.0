{
 "cells": [
  {
   "cell_type": "markdown",
   "id": "091aecd3",
   "metadata": {},
   "source": [
    "# Create WaDE Uploader csv Files for Regulatory Data\n",
    "- Date Update: 07/07/2023\n",
    "- Purpose: To create WaDE data input files for regulatory information."
   ]
  },
  {
   "cell_type": "code",
   "execution_count": 1,
   "id": "a0c9ddae",
   "metadata": {},
   "outputs": [],
   "source": [
    "# Needed Libraries / Modules\n",
    "import sys\n",
    "import os\n",
    "\n",
    "## Custom Libraries\n",
    "sys.path.append(\"../../5_CustomFunctions/MappingFunctions\")\n",
    "import CreateReportingUnitsFile\n",
    "import CreateRegulatoryOverlaysFile\n",
    "import CreateRegulatoryReportingUnits_factFile\n",
    "import RemoveUnusedRecordsFile"
   ]
  },
  {
   "cell_type": "markdown",
   "id": "9aa8e660",
   "metadata": {},
   "source": [
    "## Input Data\n",
    " - create and add variables specific to this proejct here"
   ]
  },
  {
   "cell_type": "code",
   "execution_count": 2,
   "id": "effcda68",
   "metadata": {},
   "outputs": [
    {
     "name": "stdout",
     "output_type": "stream",
     "text": [
      "The working Directory is: C:\\Users\\rjame\\Documents\\WSWC Documents\\MappingStatesDataToWaDE2.0\\Montana\\Regulatory\n"
     ]
    }
   ],
   "source": [
    "# ---- Inputs ----\n",
    "varST = \"MT\" # state abbreviation\n",
    "varUUIDType = \"re\" # UUID data type abbreviation\n",
    "mainInputFile = \"Pre_mtMain.zip\" # use processed zip file\n",
    "\n",
    "# ---- working directory ----\n",
    "workingDirString = os.getcwd() # set working directory folder string here\n",
    "os.chdir(workingDirString)\n",
    "print(f'The working Directory is:', workingDirString)"
   ]
  },
  {
   "cell_type": "markdown",
   "id": "9ca3ea3e",
   "metadata": {},
   "source": [
    "## Create RegulatoryOverlay Input Files"
   ]
  },
  {
   "cell_type": "code",
   "execution_count": 3,
   "id": "f373f87f",
   "metadata": {},
   "outputs": [],
   "source": [
    "# ---- Date (date.csv)----\n",
    "# Simple info, create by hand and save in ProcessedInputData folder."
   ]
  },
  {
   "cell_type": "code",
   "execution_count": 4,
   "id": "de98ab0f",
   "metadata": {},
   "outputs": [],
   "source": [
    "# ---- Organization (organizations.csv) ----\n",
    "# Simple info, create by hand and save in ProcessedInputData folder."
   ]
  },
  {
   "cell_type": "code",
   "execution_count": 5,
   "id": "c8d42fa0",
   "metadata": {},
   "outputs": [
    {
     "name": "stdout",
     "output_type": "stream",
     "text": [
      "Creating Reporting Unit input csv...\n",
      "############################################################################\n",
      "Reading input csv...\n",
      "Populating dataframe...\n",
      "EPSGCodeCV\n",
      "ReportingUnitName\n",
      "ReportingUnitNativeID\n",
      "ReportingUnitProductVersion\n",
      "ReportingUnitTypeCV\n",
      "ReportingUnitUpdateDate\n",
      "StateCV\n",
      "Geometry\n",
      "Adding Data Assessment UUID\n",
      "Resetting Index\n",
      "GroupBy outdf duplicates based on key fields...\n",
      "Error checking each field. Purging bad inputs.\n",
      "Length of outdf DataFrame:  58\n",
      "Length of dfpurge DataFrame:  1\n",
      "Assign ReportingUnitUUID\n",
      "Exporting dataframe...\n"
     ]
    },
    {
     "name": "stderr",
     "output_type": "stream",
     "text": [
      "C:\\Users\\rjame\\Documents\\WSWC Documents\\MappingStatesDataToWaDE2.0\\Montana\\Regulatory\\../../5_CustomFunctions/ErrorCheckCode\\ErrorCheckCodeFunctionsFile.py:24: FutureWarning: The frame.append method is deprecated and will be removed from pandas in a future version. Use pandas.concat instead.\n",
      "  dfy = dfy.append(mask)\n"
     ]
    },
    {
     "name": "stdout",
     "output_type": "stream",
     "text": [
      "... 1  records removed.\n",
      "Done\n"
     ]
    }
   ],
   "source": [
    "# ---- Reporting Unit (reportingunits.csv) ----\n",
    "print(\"Creating Reporting Unit input csv...\")\n",
    "print(\"############################################################################\")\n",
    "CreateReportingUnitsFile.CreateReportingUnitInputFunction(workingDirString, varST, varUUIDType, mainInputFile)"
   ]
  },
  {
   "cell_type": "code",
   "execution_count": 6,
   "id": "ad265089",
   "metadata": {},
   "outputs": [
    {
     "name": "stdout",
     "output_type": "stream",
     "text": [
      "Creating Regulatory Overlays input csv...\n",
      "############################################################################\n",
      "Reading input csv...\n",
      "Populating dataframe outdf...\n",
      "OversightAgency\n",
      "RegulatoryDescription\n",
      "RegulatoryName\n",
      "RegulatoryOverlayNativeID\n",
      "RegulatoryStatusCV\n",
      "RegulatoryStatute\n",
      "RegulatoryStatuteLink\n",
      "StatutoryEffectiveDate\n",
      "StatutoryEndDate\n",
      "RegulatoryOverlayTypeCV\n",
      "WaterSourceTypeCV\n",
      "Adding Data Assessment UUID\n",
      "Resetting Index\n",
      "Joining outdf duplicates based on key fields...\n",
      "Solving WaDE 2.0 upload issues\n",
      "Error checking each field. Purging bad inputs.\n",
      "Length of outdf DataFrame:  58\n",
      "Length of dfpurge DataFrame:  1\n",
      "Assign RegulatoryOverlayUUID\n",
      "Exporting dataframe...\n",
      "... 1  records removed.\n",
      "Done\n"
     ]
    },
    {
     "name": "stderr",
     "output_type": "stream",
     "text": [
      "C:\\Users\\rjame\\Documents\\WSWC Documents\\MappingStatesDataToWaDE2.0\\Montana\\Regulatory\\../../5_CustomFunctions/ErrorCheckCode\\ErrorCheckCodeFunctionsFile.py:1524: FutureWarning: The frame.append method is deprecated and will be removed from pandas in a future version. Use pandas.concat instead.\n",
      "  dfy = dfy.append(mask)\n"
     ]
    }
   ],
   "source": [
    "# ---- RegulatoryOverlays (regulatoryoverlays.csv) ----\n",
    "print(\"Creating Regulatory Overlays input csv...\")\n",
    "print(\"############################################################################\")\n",
    "CreateRegulatoryOverlaysFile.CreateRegulatoryOverlaysInputFunction(workingDirString, varST, varUUIDType, mainInputFile)"
   ]
  },
  {
   "cell_type": "code",
   "execution_count": 7,
   "id": "0e97535d",
   "metadata": {},
   "outputs": [
    {
     "name": "stdout",
     "output_type": "stream",
     "text": [
      "Creating Regulatory Reporting Units input csv...\n",
      "############################################################################\n",
      "Reading input csv...\n",
      "Populating dataframe outdf...\n",
      "DataPublicationDate\n",
      "OrganizationUUID\n",
      "RegulatoryOverlayUUID\n",
      "ReportingUnitUUID\n",
      "Resetting Index\n",
      "Solving WaDE 2.0 upload issues\n",
      "Error checking each field. Purging bad inputs.\n",
      "Length of outdf DataFrame:  58\n",
      "Length of dfpurge DataFrame:  1\n",
      "Exporting dataframe...\n",
      "... 1  records removed.\n",
      "Done\n"
     ]
    },
    {
     "name": "stderr",
     "output_type": "stream",
     "text": [
      "C:\\Users\\rjame\\Documents\\WSWC Documents\\MappingStatesDataToWaDE2.0\\Montana\\Regulatory\\../../5_CustomFunctions/ErrorCheckCode\\ErrorCheckCodeFunctionsFile.py:24: FutureWarning: The frame.append method is deprecated and will be removed from pandas in a future version. Use pandas.concat instead.\n",
      "  dfy = dfy.append(mask)\n"
     ]
    }
   ],
   "source": [
    "# ---- RegulatoryReportingUnits_fact (regulatoryreportingunits.csv) ----\n",
    "print(\"Creating Regulatory Reporting Units input csv...\")\n",
    "print(\"############################################################################\")\n",
    "CreateRegulatoryReportingUnits_factFile.CreateRegulatoryReportingUnitsInputFunction(workingDirString, mainInputFile)"
   ]
  },
  {
   "cell_type": "code",
   "execution_count": 8,
   "id": "e37e5b26",
   "metadata": {},
   "outputs": [
    {
     "name": "stdout",
     "output_type": "stream",
     "text": [
      "Remove unused Reporting Unit records not found within RegulatoryOverlays input csv...\n",
      "############################################################################\n",
      "Reading input csv...\n",
      "Length of dfru before removing reporting units:  58\n",
      "Length of dfru after removing reporting units:  58\n",
      "Length of dfrru before removing reporting units:  58\n",
      "Length of dfrru after removing reporting units:  58\n",
      "Export Files - reportingunits.csv, reportingunits_missing.csv, regulatoryreportingunits.csv, regulatoryreportingunits_missing.csv, regulatoryoverlays.csv\n",
      "Done\n"
     ]
    }
   ],
   "source": [
    "# ---- Remove unused records ----\n",
    "print(\"Remove unused Reporting Unit records not found within RegulatoryOverlays input csv...\")\n",
    "print(\"############################################################################\")\n",
    "RemoveUnusedRecordsFile.RemoveUnusedRegulatoryOverlaysRecordsFileFunction(workingDirString)"
   ]
  },
  {
   "cell_type": "code",
   "execution_count": null,
   "id": "ebe0c54c",
   "metadata": {},
   "outputs": [],
   "source": []
  }
 ],
 "metadata": {
  "kernelspec": {
   "display_name": "Python 3 (ipykernel)",
   "language": "python",
   "name": "python3"
  },
  "language_info": {
   "codemirror_mode": {
    "name": "ipython",
    "version": 3
   },
   "file_extension": ".py",
   "mimetype": "text/x-python",
   "name": "python",
   "nbconvert_exporter": "python",
   "pygments_lexer": "ipython3",
   "version": "3.9.16"
  }
 },
 "nbformat": 4,
 "nbformat_minor": 5
}
