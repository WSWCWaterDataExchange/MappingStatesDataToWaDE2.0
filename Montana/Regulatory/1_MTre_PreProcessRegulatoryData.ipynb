{
 "cells": [
  {
   "cell_type": "markdown",
   "metadata": {},
   "source": [
    "# Pre-processing (state / organization Name) Regulatory data for WaDE upload.\n",
    "- Purpose:  To preprocess the data into one master file for simple DataFrame creation and extraction."
   ]
  },
  {
   "cell_type": "code",
   "execution_count": 1,
   "metadata": {},
   "outputs": [],
   "source": [
    "# Needed Libraries / Modules\n",
    "\n",
    "# ---- working with data ----\n",
    "import os  # native operating system interaction\n",
    "import numpy as np  # mathematical array manipulation\n",
    "import pandas as pd  # data structure and data analysis\n",
    "import geopandas as gpd  # geo-data structure and data analysis\n",
    "\n",
    "# ---- visualization ----\n",
    "import matplotlib.pyplot as plt  # plotting library\n",
    "import seaborn as sns  # plotting library\n",
    "\n",
    "# ---- API data retrieval ----\n",
    "import requests  # http requests\n",
    "import json  # JSON parse\n",
    "\n",
    "# ---- Cleanup ----\n",
    "import re  # string regular expression manipulation\n",
    "from datetime import datetime  # date and time manipulation\n",
    "pd.set_option('display.max_columns', 999)  # How to display all columns of a Pandas DataFrame in Jupyter Notebook\n",
    "pd.set_option('display.float_format', lambda x: '%.5f' % x)  # suppress scientific notation in Pandas"
   ]
  },
  {
   "cell_type": "code",
   "execution_count": 2,
   "metadata": {},
   "outputs": [
    {
     "name": "stdout",
     "output_type": "stream",
     "text": [
      "The working Directory is: C:\\Users\\rjame\\Documents\\WSWC Documents\\MappingStatesDataToWaDE2.0\\Montana\\Regulatory\n"
     ]
    }
   ],
   "source": [
    "# ---- working directory ----\n",
    "workingDirString = os.getcwd() # set working directory folder string here\n",
    "os.chdir(workingDirString)\n",
    "print(f'The working Directory is:', workingDirString)"
   ]
  },
  {
   "cell_type": "markdown",
   "metadata": {},
   "source": [
    "## Regulatory Area Data #1"
   ]
  },
  {
   "cell_type": "code",
   "execution_count": 3,
   "metadata": {},
   "outputs": [
    {
     "name": "stdout",
     "output_type": "stream",
     "text": [
      "59\n"
     ]
    },
    {
     "data": {
      "text/html": [
       "<div>\n",
       "<style scoped>\n",
       "    .dataframe tbody tr th:only-of-type {\n",
       "        vertical-align: middle;\n",
       "    }\n",
       "\n",
       "    .dataframe tbody tr th {\n",
       "        vertical-align: top;\n",
       "    }\n",
       "\n",
       "    .dataframe thead th {\n",
       "        text-align: right;\n",
       "    }\n",
       "</style>\n",
       "<table border=\"1\" class=\"dataframe\">\n",
       "  <thead>\n",
       "    <tr style=\"text-align: right;\">\n",
       "      <th></th>\n",
       "      <th>OBJECTID</th>\n",
       "      <th>DISTRICT_N</th>\n",
       "      <th>MACD_AREA</th>\n",
       "      <th>MACD_NAME</th>\n",
       "      <th>ORG_DATE</th>\n",
       "      <th>URL</th>\n",
       "      <th>SQMILES</th>\n",
       "      <th>ACRES</th>\n",
       "      <th>SHAPE_Leng</th>\n",
       "      <th>SHAPE_Area</th>\n",
       "      <th>geometry</th>\n",
       "      <th>WaDEUUID</th>\n",
       "    </tr>\n",
       "  </thead>\n",
       "  <tbody>\n",
       "    <tr>\n",
       "      <th>0</th>\n",
       "      <td>1</td>\n",
       "      <td>Valley County Conservation District</td>\n",
       "      <td>1</td>\n",
       "      <td>Northeast</td>\n",
       "      <td>1945-06-21</td>\n",
       "      <td>http://dnrc.mt.gov/divisions/cardd/conservatio...</td>\n",
       "      <td>5056.39222</td>\n",
       "      <td>130960481.26100</td>\n",
       "      <td>6.72585</td>\n",
       "      <td>1.59046</td>\n",
       "      <td>POLYGON ((-106.15193 48.85645, -106.15193 48.8...</td>\n",
       "      <td>re0</td>\n",
       "    </tr>\n",
       "    <tr>\n",
       "      <th>1</th>\n",
       "      <td>2</td>\n",
       "      <td>Toole County Conservation District</td>\n",
       "      <td>3</td>\n",
       "      <td>North Central</td>\n",
       "      <td>1947-12-27</td>\n",
       "      <td>http://dnrc.mt.gov/divisions/cardd/conservatio...</td>\n",
       "      <td>1943.84867</td>\n",
       "      <td>50345650.92060</td>\n",
       "      <td>3.52242</td>\n",
       "      <td>0.61474</td>\n",
       "      <td>POLYGON ((-111.26988 48.99724, -111.26988 48.9...</td>\n",
       "      <td>re1</td>\n",
       "    </tr>\n",
       "    <tr>\n",
       "      <th>2</th>\n",
       "      <td>3</td>\n",
       "      <td>Blaine County Conservation District</td>\n",
       "      <td>3</td>\n",
       "      <td>North Central</td>\n",
       "      <td>1947-12-27</td>\n",
       "      <td>http://dnrc.mt.gov/divisions/cardd/conservatio...</td>\n",
       "      <td>4236.22555</td>\n",
       "      <td>109718177.00300</td>\n",
       "      <td>5.53664</td>\n",
       "      <td>1.33405</td>\n",
       "      <td>POLYGON ((-108.23640 48.99673, -108.23640 48.9...</td>\n",
       "      <td>re2</td>\n",
       "    </tr>\n",
       "    <tr>\n",
       "      <th>3</th>\n",
       "      <td>4</td>\n",
       "      <td>McCone Conservation District</td>\n",
       "      <td>1</td>\n",
       "      <td>Northeast</td>\n",
       "      <td>1945-06-21</td>\n",
       "      <td>http://dnrc.mt.gov/divisions/cardd/conservatio...</td>\n",
       "      <td>2679.08836</td>\n",
       "      <td>69388347.53940</td>\n",
       "      <td>4.88254</td>\n",
       "      <td>0.83153</td>\n",
       "      <td>POLYGON ((-105.32448 48.08853, -105.32409 48.0...</td>\n",
       "      <td>re3</td>\n",
       "    </tr>\n",
       "    <tr>\n",
       "      <th>4</th>\n",
       "      <td>5</td>\n",
       "      <td>Dawson County Conservation District</td>\n",
       "      <td>2</td>\n",
       "      <td>Southeast</td>\n",
       "      <td>1945-08-07</td>\n",
       "      <td>http://dnrc.mt.gov/divisions/cardd/conservatio...</td>\n",
       "      <td>2380.63448</td>\n",
       "      <td>61658396.61250</td>\n",
       "      <td>4.10532</td>\n",
       "      <td>0.73377</td>\n",
       "      <td>POLYGON ((-105.23499 47.70730, -105.23501 47.7...</td>\n",
       "      <td>re4</td>\n",
       "    </tr>\n",
       "  </tbody>\n",
       "</table>\n",
       "</div>"
      ],
      "text/plain": [
       "   OBJECTID                           DISTRICT_N  MACD_AREA      MACD_NAME  \\\n",
       "0         1  Valley County Conservation District          1      Northeast   \n",
       "1         2   Toole County Conservation District          3  North Central   \n",
       "2         3  Blaine County Conservation District          3  North Central   \n",
       "3         4         McCone Conservation District          1      Northeast   \n",
       "4         5  Dawson County Conservation District          2      Southeast   \n",
       "\n",
       "     ORG_DATE                                                URL    SQMILES  \\\n",
       "0  1945-06-21  http://dnrc.mt.gov/divisions/cardd/conservatio... 5056.39222   \n",
       "1  1947-12-27  http://dnrc.mt.gov/divisions/cardd/conservatio... 1943.84867   \n",
       "2  1947-12-27  http://dnrc.mt.gov/divisions/cardd/conservatio... 4236.22555   \n",
       "3  1945-06-21  http://dnrc.mt.gov/divisions/cardd/conservatio... 2679.08836   \n",
       "4  1945-08-07  http://dnrc.mt.gov/divisions/cardd/conservatio... 2380.63448   \n",
       "\n",
       "            ACRES  SHAPE_Leng  SHAPE_Area  \\\n",
       "0 130960481.26100     6.72585     1.59046   \n",
       "1  50345650.92060     3.52242     0.61474   \n",
       "2 109718177.00300     5.53664     1.33405   \n",
       "3  69388347.53940     4.88254     0.83153   \n",
       "4  61658396.61250     4.10532     0.73377   \n",
       "\n",
       "                                            geometry WaDEUUID  \n",
       "0  POLYGON ((-106.15193 48.85645, -106.15193 48.8...      re0  \n",
       "1  POLYGON ((-111.26988 48.99724, -111.26988 48.9...      re1  \n",
       "2  POLYGON ((-108.23640 48.99673, -108.23640 48.9...      re2  \n",
       "3  POLYGON ((-105.32448 48.08853, -105.32409 48.0...      re3  \n",
       "4  POLYGON ((-105.23499 47.70730, -105.23501 47.7...      re4  "
      ]
     },
     "execution_count": 3,
     "metadata": {},
     "output_type": "execute_result"
    }
   ],
   "source": [
    "# Input File\n",
    "inputFile = \"RawInputData/shapefiles/ConservationDistricts.zip\"\n",
    "dfin1 = gpd.read_file(inputFile).replace(np.nan, \"\")\n",
    "\n",
    "# WaDE UUID tracker for data assessment\n",
    "if 'WaDEUUID' not in dfin1:\n",
    "    dfin1['WaDEUUID'] = \"re\" + dfin1.index.astype(str)\n",
    "    dfin1.to_csv('RawInputData/Conservation_Districts.zip', compression=dict(method='zip', archive_name='Conservation_Districts.csv'), index=False)\n",
    "\n",
    "print(len(dfin1))\n",
    "dfin1.head()"
   ]
  },
  {
   "cell_type": "code",
   "execution_count": 4,
   "metadata": {},
   "outputs": [
    {
     "name": "stdout",
     "output_type": "stream",
     "text": [
      "59\n"
     ]
    },
    {
     "data": {
      "text/html": [
       "<div>\n",
       "<style scoped>\n",
       "    .dataframe tbody tr th:only-of-type {\n",
       "        vertical-align: middle;\n",
       "    }\n",
       "\n",
       "    .dataframe tbody tr th {\n",
       "        vertical-align: top;\n",
       "    }\n",
       "\n",
       "    .dataframe thead th {\n",
       "        text-align: right;\n",
       "    }\n",
       "</style>\n",
       "<table border=\"1\" class=\"dataframe\">\n",
       "  <thead>\n",
       "    <tr style=\"text-align: right;\">\n",
       "      <th></th>\n",
       "      <th>WaDEUUID</th>\n",
       "      <th>in_Date</th>\n",
       "      <th>in_Year</th>\n",
       "      <th>in_OrganizationUUID</th>\n",
       "      <th>in_EPSGCodeCV</th>\n",
       "      <th>in_ReportingUnitName</th>\n",
       "      <th>in_ReportingUnitNativeID</th>\n",
       "      <th>in_ReportingUnitProductVersion</th>\n",
       "      <th>in_ReportingUnitTypeCV</th>\n",
       "      <th>in_ReportingUnitUpdateDate</th>\n",
       "      <th>in_StateCV</th>\n",
       "      <th>in_Geometry</th>\n",
       "      <th>in_OversightAgency</th>\n",
       "      <th>in_RegulatoryDescription</th>\n",
       "      <th>in_RegulatoryName</th>\n",
       "      <th>in_RegulatoryOverlayNativeID</th>\n",
       "      <th>in_RegulatoryStatusCV</th>\n",
       "      <th>in_RegulatoryStatute</th>\n",
       "      <th>in_RegulatoryStatuteLink</th>\n",
       "      <th>in_StatutoryEffectiveDate</th>\n",
       "      <th>in_StatutoryEndDate</th>\n",
       "      <th>in_RegulatoryOverlayTypeCV</th>\n",
       "      <th>in_WaterSourceTypeCV</th>\n",
       "    </tr>\n",
       "  </thead>\n",
       "  <tbody>\n",
       "    <tr>\n",
       "      <th>0</th>\n",
       "      <td>re0</td>\n",
       "      <td>8/3/2023</td>\n",
       "      <td>2023</td>\n",
       "      <td>MTre_01</td>\n",
       "      <td>4326</td>\n",
       "      <td>Northeast</td>\n",
       "      <td>MTre1</td>\n",
       "      <td></td>\n",
       "      <td>Conservation Districts</td>\n",
       "      <td>9/21/2021</td>\n",
       "      <td>MT</td>\n",
       "      <td></td>\n",
       "      <td>Montana Department of Natural Resources</td>\n",
       "      <td>Help citizens conserve their soil, water, and ...</td>\n",
       "      <td>Northeast</td>\n",
       "      <td>1</td>\n",
       "      <td>Active</td>\n",
       "      <td></td>\n",
       "      <td></td>\n",
       "      <td>1945-06-21</td>\n",
       "      <td></td>\n",
       "      <td>Conservation District</td>\n",
       "      <td>Surface Water</td>\n",
       "    </tr>\n",
       "    <tr>\n",
       "      <th>1</th>\n",
       "      <td>re1</td>\n",
       "      <td>8/3/2023</td>\n",
       "      <td>2023</td>\n",
       "      <td>MTre_01</td>\n",
       "      <td>4326</td>\n",
       "      <td>North Central</td>\n",
       "      <td>MTre2</td>\n",
       "      <td></td>\n",
       "      <td>Conservation Districts</td>\n",
       "      <td>9/21/2021</td>\n",
       "      <td>MT</td>\n",
       "      <td></td>\n",
       "      <td>Montana Department of Natural Resources</td>\n",
       "      <td>Help citizens conserve their soil, water, and ...</td>\n",
       "      <td>North Central</td>\n",
       "      <td>2</td>\n",
       "      <td>Active</td>\n",
       "      <td></td>\n",
       "      <td></td>\n",
       "      <td>1947-12-27</td>\n",
       "      <td></td>\n",
       "      <td>Conservation District</td>\n",
       "      <td>Surface Water</td>\n",
       "    </tr>\n",
       "    <tr>\n",
       "      <th>2</th>\n",
       "      <td>re2</td>\n",
       "      <td>8/3/2023</td>\n",
       "      <td>2023</td>\n",
       "      <td>MTre_01</td>\n",
       "      <td>4326</td>\n",
       "      <td>North Central</td>\n",
       "      <td>MTre3</td>\n",
       "      <td></td>\n",
       "      <td>Conservation Districts</td>\n",
       "      <td>9/21/2021</td>\n",
       "      <td>MT</td>\n",
       "      <td></td>\n",
       "      <td>Montana Department of Natural Resources</td>\n",
       "      <td>Help citizens conserve their soil, water, and ...</td>\n",
       "      <td>North Central</td>\n",
       "      <td>3</td>\n",
       "      <td>Active</td>\n",
       "      <td></td>\n",
       "      <td></td>\n",
       "      <td>1947-12-27</td>\n",
       "      <td></td>\n",
       "      <td>Conservation District</td>\n",
       "      <td>Surface Water</td>\n",
       "    </tr>\n",
       "    <tr>\n",
       "      <th>3</th>\n",
       "      <td>re3</td>\n",
       "      <td>8/3/2023</td>\n",
       "      <td>2023</td>\n",
       "      <td>MTre_01</td>\n",
       "      <td>4326</td>\n",
       "      <td>Northeast</td>\n",
       "      <td>MTre4</td>\n",
       "      <td></td>\n",
       "      <td>Conservation Districts</td>\n",
       "      <td>9/21/2021</td>\n",
       "      <td>MT</td>\n",
       "      <td></td>\n",
       "      <td>Montana Department of Natural Resources</td>\n",
       "      <td>Help citizens conserve their soil, water, and ...</td>\n",
       "      <td>Northeast</td>\n",
       "      <td>4</td>\n",
       "      <td>Active</td>\n",
       "      <td></td>\n",
       "      <td></td>\n",
       "      <td>1945-06-21</td>\n",
       "      <td></td>\n",
       "      <td>Conservation District</td>\n",
       "      <td>Surface Water</td>\n",
       "    </tr>\n",
       "    <tr>\n",
       "      <th>4</th>\n",
       "      <td>re4</td>\n",
       "      <td>8/3/2023</td>\n",
       "      <td>2023</td>\n",
       "      <td>MTre_01</td>\n",
       "      <td>4326</td>\n",
       "      <td>Southeast</td>\n",
       "      <td>MTre5</td>\n",
       "      <td></td>\n",
       "      <td>Conservation Districts</td>\n",
       "      <td>9/21/2021</td>\n",
       "      <td>MT</td>\n",
       "      <td></td>\n",
       "      <td>Montana Department of Natural Resources</td>\n",
       "      <td>Help citizens conserve their soil, water, and ...</td>\n",
       "      <td>Southeast</td>\n",
       "      <td>5</td>\n",
       "      <td>Active</td>\n",
       "      <td></td>\n",
       "      <td></td>\n",
       "      <td>1945-08-07</td>\n",
       "      <td></td>\n",
       "      <td>Conservation District</td>\n",
       "      <td>Surface Water</td>\n",
       "    </tr>\n",
       "  </tbody>\n",
       "</table>\n",
       "</div>"
      ],
      "text/plain": [
       "  WaDEUUID   in_Date in_Year in_OrganizationUUID in_EPSGCodeCV  \\\n",
       "0      re0  8/3/2023    2023             MTre_01          4326   \n",
       "1      re1  8/3/2023    2023             MTre_01          4326   \n",
       "2      re2  8/3/2023    2023             MTre_01          4326   \n",
       "3      re3  8/3/2023    2023             MTre_01          4326   \n",
       "4      re4  8/3/2023    2023             MTre_01          4326   \n",
       "\n",
       "  in_ReportingUnitName in_ReportingUnitNativeID  \\\n",
       "0            Northeast                    MTre1   \n",
       "1        North Central                    MTre2   \n",
       "2        North Central                    MTre3   \n",
       "3            Northeast                    MTre4   \n",
       "4            Southeast                    MTre5   \n",
       "\n",
       "  in_ReportingUnitProductVersion  in_ReportingUnitTypeCV  \\\n",
       "0                                 Conservation Districts   \n",
       "1                                 Conservation Districts   \n",
       "2                                 Conservation Districts   \n",
       "3                                 Conservation Districts   \n",
       "4                                 Conservation Districts   \n",
       "\n",
       "  in_ReportingUnitUpdateDate in_StateCV in_Geometry  \\\n",
       "0                  9/21/2021         MT               \n",
       "1                  9/21/2021         MT               \n",
       "2                  9/21/2021         MT               \n",
       "3                  9/21/2021         MT               \n",
       "4                  9/21/2021         MT               \n",
       "\n",
       "                        in_OversightAgency  \\\n",
       "0  Montana Department of Natural Resources   \n",
       "1  Montana Department of Natural Resources   \n",
       "2  Montana Department of Natural Resources   \n",
       "3  Montana Department of Natural Resources   \n",
       "4  Montana Department of Natural Resources   \n",
       "\n",
       "                            in_RegulatoryDescription in_RegulatoryName  \\\n",
       "0  Help citizens conserve their soil, water, and ...         Northeast   \n",
       "1  Help citizens conserve their soil, water, and ...     North Central   \n",
       "2  Help citizens conserve their soil, water, and ...     North Central   \n",
       "3  Help citizens conserve their soil, water, and ...         Northeast   \n",
       "4  Help citizens conserve their soil, water, and ...         Southeast   \n",
       "\n",
       "   in_RegulatoryOverlayNativeID in_RegulatoryStatusCV in_RegulatoryStatute  \\\n",
       "0                             1                Active                        \n",
       "1                             2                Active                        \n",
       "2                             3                Active                        \n",
       "3                             4                Active                        \n",
       "4                             5                Active                        \n",
       "\n",
       "  in_RegulatoryStatuteLink in_StatutoryEffectiveDate in_StatutoryEndDate  \\\n",
       "0                                         1945-06-21                       \n",
       "1                                         1947-12-27                       \n",
       "2                                         1947-12-27                       \n",
       "3                                         1945-06-21                       \n",
       "4                                         1945-08-07                       \n",
       "\n",
       "  in_RegulatoryOverlayTypeCV in_WaterSourceTypeCV  \n",
       "0      Conservation District        Surface Water  \n",
       "1      Conservation District        Surface Water  \n",
       "2      Conservation District        Surface Water  \n",
       "3      Conservation District        Surface Water  \n",
       "4      Conservation District        Surface Water  "
      ]
     },
     "execution_count": 4,
     "metadata": {},
     "output_type": "execute_result"
    }
   ],
   "source": [
    "# create output for Regulatory Area #1 dataframe\n",
    "df = pd.DataFrame()\n",
    "\n",
    "# Data Assessment UUID\n",
    "df['WaDEUUID'] = dfin1['WaDEUUID']\n",
    "\n",
    "# Date Info\n",
    "df['in_Date'] = \"8/3/2023\"\n",
    "df['in_Year'] = \"2023\"\n",
    "\n",
    "# Organization Info\n",
    "df['in_OrganizationUUID'] = \"MTre_01\"\n",
    "\n",
    "# ReportingUnit Info\n",
    "df['in_EPSGCodeCV'] = \"4326\"\n",
    "df['in_ReportingUnitName'] = dfin1[\"MACD_NAME\"]\n",
    "df['in_ReportingUnitNativeID'] = \"MTre\" + dfin1[\"OBJECTID\"].replace(\"\", 0).fillna(0).astype(int).astype(str)\n",
    "df['in_ReportingUnitProductVersion'] = \"\"\n",
    "df['in_ReportingUnitTypeCV'] = \"Conservation Districts\"\n",
    "df['in_ReportingUnitUpdateDate'] = \"9/21/2021\"\n",
    "df['in_StateCV'] = \"MT\"\n",
    "df['in_Geometry'] = \"\"\n",
    "\n",
    "# RegulatoryOverlay Info\n",
    "df['in_OversightAgency'] = \"Montana Department of Natural Resources\"\n",
    "df['in_RegulatoryDescription'] = \"Help citizens conserve their soil, water, and other renewable natural resources.\"\n",
    "df['in_RegulatoryName'] = dfin1[\"MACD_NAME\"]\n",
    "df['in_RegulatoryOverlayNativeID'] = dfin1[\"OBJECTID\"]\n",
    "df['in_RegulatoryStatusCV'] = \"Active\"\n",
    "df['in_RegulatoryStatute'] = \"\"\n",
    "df['in_RegulatoryStatuteLink'] =\"\"\n",
    "df['in_StatutoryEffectiveDate'] = dfin1[\"ORG_DATE\"]\n",
    "df['in_StatutoryEndDate'] = \"\"\n",
    "df['in_RegulatoryOverlayTypeCV'] = \"Conservation District\"\n",
    "df['in_WaterSourceTypeCV'] = \"Surface Water\"\n",
    "\n",
    "df = df.drop_duplicates().reset_index(drop=True)\n",
    "outdf1 = df.copy()\n",
    "print(len(outdf1))\n",
    "outdf1.head()"
   ]
  },
  {
   "cell_type": "markdown",
   "metadata": {},
   "source": [
    "## Regulatory Area #2"
   ]
  },
  {
   "cell_type": "code",
   "execution_count": 5,
   "metadata": {},
   "outputs": [],
   "source": [
    "# etc etc,"
   ]
  },
  {
   "cell_type": "markdown",
   "metadata": {},
   "source": [
    "## Concatenate POD and POU Data.  Make needed changes"
   ]
  },
  {
   "cell_type": "code",
   "execution_count": 6,
   "metadata": {},
   "outputs": [
    {
     "name": "stdout",
     "output_type": "stream",
     "text": [
      "59\n"
     ]
    }
   ],
   "source": [
    "# Concatenate dataframes\n",
    "frames = [outdf1] # list all out dataframes here\n",
    "outdf = pd.concat(frames)\n",
    "outdf = outdf.drop_duplicates().reset_index(drop=True).replace(np.nan, \"\")\n",
    "print(len(outdf))"
   ]
  },
  {
   "cell_type": "markdown",
   "metadata": {},
   "source": [
    "## Clean Data / data types"
   ]
  },
  {
   "cell_type": "code",
   "execution_count": 7,
   "metadata": {
    "scrolled": true
   },
   "outputs": [],
   "source": [
    "# Ensure Empty String / remove string value of \"nan\"\n",
    "\n",
    "def ensureEmptyString(val):\n",
    "    val = str(val).strip()\n",
    "    if val == \"\" or val == \" \" or val == \"nan\" or pd.isnull(val):\n",
    "        outString = \"\"\n",
    "    else:\n",
    "        outString = val\n",
    "    return outString"
   ]
  },
  {
   "cell_type": "code",
   "execution_count": 8,
   "metadata": {},
   "outputs": [
    {
     "data": {
      "text/plain": [
       "array(['Northeast', 'North Central', 'Southeast', 'Northwest',\n",
       "       'South Central', 'Southwest', ''], dtype=object)"
      ]
     },
     "execution_count": 8,
     "metadata": {},
     "output_type": "execute_result"
    }
   ],
   "source": [
    "outdf['in_ReportingUnitName'] = df.apply(lambda row: ensureEmptyString(row['in_ReportingUnitName']), axis=1)\n",
    "outdf['in_ReportingUnitName'].unique()"
   ]
  },
  {
   "cell_type": "code",
   "execution_count": 9,
   "metadata": {},
   "outputs": [
    {
     "data": {
      "text/plain": [
       "array(['Help citizens conserve their soil, water, and other renewable natural resources.'],\n",
       "      dtype=object)"
      ]
     },
     "execution_count": 9,
     "metadata": {},
     "output_type": "execute_result"
    }
   ],
   "source": [
    "outdf['in_RegulatoryDescription'] = df.apply(lambda row: ensureEmptyString(row['in_RegulatoryDescription']), axis=1)\n",
    "outdf['in_RegulatoryDescription'].unique()"
   ]
  },
  {
   "cell_type": "code",
   "execution_count": 10,
   "metadata": {},
   "outputs": [
    {
     "data": {
      "text/plain": [
       "array(['Northeast', 'North Central', 'Southeast', 'Northwest',\n",
       "       'South Central', 'Southwest', ''], dtype=object)"
      ]
     },
     "execution_count": 10,
     "metadata": {},
     "output_type": "execute_result"
    }
   ],
   "source": [
    "outdf['in_RegulatoryName'] = df.apply(lambda row: ensureEmptyString(row['in_RegulatoryName']), axis=1)\n",
    "outdf['in_RegulatoryName'].unique()"
   ]
  },
  {
   "cell_type": "code",
   "execution_count": 11,
   "metadata": {},
   "outputs": [
    {
     "data": {
      "text/plain": [
       "array(['1945-06-21T00:00:00.000000000', '1947-12-27T00:00:00.000000000',\n",
       "       '1945-08-07T00:00:00.000000000', '1943-11-03T00:00:00.000000000',\n",
       "       '1946-07-19T00:00:00.000000000', '1957-07-25T00:00:00.000000000',\n",
       "                                 'NaT', '1946-05-08T00:00:00.000000000'],\n",
       "      dtype='datetime64[ns]')"
      ]
     },
     "execution_count": 11,
     "metadata": {},
     "output_type": "execute_result"
    }
   ],
   "source": [
    "#Update datatype of StatutoryEffectiveDate to fit WaDE 2.0 structure\n",
    "outdf['in_StatutoryEffectiveDate'] = pd.to_datetime(outdf['in_StatutoryEffectiveDate'], errors = 'coerce')\n",
    "outdf['in_StatutoryEffectiveDate'] = pd.to_datetime(outdf['in_StatutoryEffectiveDate'].dt.strftime('%m/%d/%Y'))\n",
    "outdf['in_StatutoryEffectiveDate'].unique()"
   ]
  },
  {
   "cell_type": "markdown",
   "metadata": {},
   "source": [
    "# Shapefile Data\n",
    "- For attaching geometry to reporting unit info."
   ]
  },
  {
   "cell_type": "markdown",
   "metadata": {},
   "source": [
    "#### Regulatory Area #1 shapefile info"
   ]
  },
  {
   "cell_type": "code",
   "execution_count": 12,
   "metadata": {},
   "outputs": [
    {
     "name": "stdout",
     "output_type": "stream",
     "text": [
      "59\n"
     ]
    },
    {
     "data": {
      "text/html": [
       "<div>\n",
       "<style scoped>\n",
       "    .dataframe tbody tr th:only-of-type {\n",
       "        vertical-align: middle;\n",
       "    }\n",
       "\n",
       "    .dataframe tbody tr th {\n",
       "        vertical-align: top;\n",
       "    }\n",
       "\n",
       "    .dataframe thead th {\n",
       "        text-align: right;\n",
       "    }\n",
       "</style>\n",
       "<table border=\"1\" class=\"dataframe\">\n",
       "  <thead>\n",
       "    <tr style=\"text-align: right;\">\n",
       "      <th></th>\n",
       "      <th>OBJECTID</th>\n",
       "      <th>DISTRICT_N</th>\n",
       "      <th>MACD_AREA</th>\n",
       "      <th>MACD_NAME</th>\n",
       "      <th>ORG_DATE</th>\n",
       "      <th>URL</th>\n",
       "      <th>SQMILES</th>\n",
       "      <th>ACRES</th>\n",
       "      <th>SHAPE_Leng</th>\n",
       "      <th>SHAPE_Area</th>\n",
       "      <th>geometry</th>\n",
       "    </tr>\n",
       "  </thead>\n",
       "  <tbody>\n",
       "    <tr>\n",
       "      <th>0</th>\n",
       "      <td>1</td>\n",
       "      <td>Valley County Conservation District</td>\n",
       "      <td>1</td>\n",
       "      <td>Northeast</td>\n",
       "      <td>1945-06-21</td>\n",
       "      <td>http://dnrc.mt.gov/divisions/cardd/conservatio...</td>\n",
       "      <td>5056.39222</td>\n",
       "      <td>130960481.26100</td>\n",
       "      <td>6.72585</td>\n",
       "      <td>1.59046</td>\n",
       "      <td>POLYGON ((-106.15193 48.85645, -106.15193 48.8...</td>\n",
       "    </tr>\n",
       "    <tr>\n",
       "      <th>1</th>\n",
       "      <td>2</td>\n",
       "      <td>Toole County Conservation District</td>\n",
       "      <td>3</td>\n",
       "      <td>North Central</td>\n",
       "      <td>1947-12-27</td>\n",
       "      <td>http://dnrc.mt.gov/divisions/cardd/conservatio...</td>\n",
       "      <td>1943.84867</td>\n",
       "      <td>50345650.92060</td>\n",
       "      <td>3.52242</td>\n",
       "      <td>0.61474</td>\n",
       "      <td>POLYGON ((-111.26988 48.99724, -111.26988 48.9...</td>\n",
       "    </tr>\n",
       "    <tr>\n",
       "      <th>2</th>\n",
       "      <td>3</td>\n",
       "      <td>Blaine County Conservation District</td>\n",
       "      <td>3</td>\n",
       "      <td>North Central</td>\n",
       "      <td>1947-12-27</td>\n",
       "      <td>http://dnrc.mt.gov/divisions/cardd/conservatio...</td>\n",
       "      <td>4236.22555</td>\n",
       "      <td>109718177.00300</td>\n",
       "      <td>5.53664</td>\n",
       "      <td>1.33405</td>\n",
       "      <td>POLYGON ((-108.23640 48.99673, -108.23640 48.9...</td>\n",
       "    </tr>\n",
       "    <tr>\n",
       "      <th>3</th>\n",
       "      <td>4</td>\n",
       "      <td>McCone Conservation District</td>\n",
       "      <td>1</td>\n",
       "      <td>Northeast</td>\n",
       "      <td>1945-06-21</td>\n",
       "      <td>http://dnrc.mt.gov/divisions/cardd/conservatio...</td>\n",
       "      <td>2679.08836</td>\n",
       "      <td>69388347.53940</td>\n",
       "      <td>4.88254</td>\n",
       "      <td>0.83153</td>\n",
       "      <td>POLYGON ((-105.32448 48.08853, -105.32409 48.0...</td>\n",
       "    </tr>\n",
       "    <tr>\n",
       "      <th>4</th>\n",
       "      <td>5</td>\n",
       "      <td>Dawson County Conservation District</td>\n",
       "      <td>2</td>\n",
       "      <td>Southeast</td>\n",
       "      <td>1945-08-07</td>\n",
       "      <td>http://dnrc.mt.gov/divisions/cardd/conservatio...</td>\n",
       "      <td>2380.63448</td>\n",
       "      <td>61658396.61250</td>\n",
       "      <td>4.10532</td>\n",
       "      <td>0.73377</td>\n",
       "      <td>POLYGON ((-105.23499 47.70730, -105.23501 47.7...</td>\n",
       "    </tr>\n",
       "  </tbody>\n",
       "</table>\n",
       "</div>"
      ],
      "text/plain": [
       "   OBJECTID                           DISTRICT_N  MACD_AREA      MACD_NAME  \\\n",
       "0         1  Valley County Conservation District          1      Northeast   \n",
       "1         2   Toole County Conservation District          3  North Central   \n",
       "2         3  Blaine County Conservation District          3  North Central   \n",
       "3         4         McCone Conservation District          1      Northeast   \n",
       "4         5  Dawson County Conservation District          2      Southeast   \n",
       "\n",
       "     ORG_DATE                                                URL    SQMILES  \\\n",
       "0  1945-06-21  http://dnrc.mt.gov/divisions/cardd/conservatio... 5056.39222   \n",
       "1  1947-12-27  http://dnrc.mt.gov/divisions/cardd/conservatio... 1943.84867   \n",
       "2  1947-12-27  http://dnrc.mt.gov/divisions/cardd/conservatio... 4236.22555   \n",
       "3  1945-06-21  http://dnrc.mt.gov/divisions/cardd/conservatio... 2679.08836   \n",
       "4  1945-08-07  http://dnrc.mt.gov/divisions/cardd/conservatio... 2380.63448   \n",
       "\n",
       "            ACRES  SHAPE_Leng  SHAPE_Area  \\\n",
       "0 130960481.26100     6.72585     1.59046   \n",
       "1  50345650.92060     3.52242     0.61474   \n",
       "2 109718177.00300     5.53664     1.33405   \n",
       "3  69388347.53940     4.88254     0.83153   \n",
       "4  61658396.61250     4.10532     0.73377   \n",
       "\n",
       "                                            geometry  \n",
       "0  POLYGON ((-106.15193 48.85645, -106.15193 48.8...  \n",
       "1  POLYGON ((-111.26988 48.99724, -111.26988 48.9...  \n",
       "2  POLYGON ((-108.23640 48.99673, -108.23640 48.9...  \n",
       "3  POLYGON ((-105.32448 48.08853, -105.32409 48.0...  \n",
       "4  POLYGON ((-105.23499 47.70730, -105.23501 47.7...  "
      ]
     },
     "execution_count": 12,
     "metadata": {},
     "output_type": "execute_result"
    }
   ],
   "source": [
    "# Input File\n",
    "shapeInputFile = \"RawInputData/shapefiles/ConservationDistricts.zip\"\n",
    "gdfin1 = gpd.read_file(shapeInputFile)\n",
    "print(len(gdfin1))\n",
    "gdfin1.head()"
   ]
  },
  {
   "cell_type": "code",
   "execution_count": 13,
   "metadata": {},
   "outputs": [
    {
     "data": {
      "text/plain": [
       "<AxesSubplot: >"
      ]
     },
     "execution_count": 13,
     "metadata": {},
     "output_type": "execute_result"
    },
    {
     "data": {
      "image/png": "[encoded data removed]",
      "text/plain": [
       "<Figure size 640x480 with 1 Axes>"
      ]
     },
     "metadata": {},
     "output_type": "display_data"
    }
   ],
   "source": [
    "# plot shape info to map\n",
    "gdfin1.plot()"
   ]
  },
  {
   "cell_type": "code",
   "execution_count": 14,
   "metadata": {},
   "outputs": [
    {
     "name": "stdout",
     "output_type": "stream",
     "text": [
      "59\n"
     ]
    },
    {
     "data": {
      "text/html": [
       "<div>\n",
       "<style scoped>\n",
       "    .dataframe tbody tr th:only-of-type {\n",
       "        vertical-align: middle;\n",
       "    }\n",
       "\n",
       "    .dataframe tbody tr th {\n",
       "        vertical-align: top;\n",
       "    }\n",
       "\n",
       "    .dataframe thead th {\n",
       "        text-align: right;\n",
       "    }\n",
       "</style>\n",
       "<table border=\"1\" class=\"dataframe\">\n",
       "  <thead>\n",
       "    <tr style=\"text-align: right;\">\n",
       "      <th></th>\n",
       "      <th>in_ReportingUnitNativeID</th>\n",
       "      <th>geometry</th>\n",
       "    </tr>\n",
       "  </thead>\n",
       "  <tbody>\n",
       "    <tr>\n",
       "      <th>0</th>\n",
       "      <td>MTre1</td>\n",
       "      <td>POLYGON ((-106.15193 48.85645, -106.15193 48.8...</td>\n",
       "    </tr>\n",
       "    <tr>\n",
       "      <th>1</th>\n",
       "      <td>MTre2</td>\n",
       "      <td>POLYGON ((-111.26988 48.99724, -111.26988 48.9...</td>\n",
       "    </tr>\n",
       "    <tr>\n",
       "      <th>2</th>\n",
       "      <td>MTre3</td>\n",
       "      <td>POLYGON ((-108.23640 48.99673, -108.23640 48.9...</td>\n",
       "    </tr>\n",
       "    <tr>\n",
       "      <th>3</th>\n",
       "      <td>MTre4</td>\n",
       "      <td>POLYGON ((-105.32448 48.08853, -105.32409 48.0...</td>\n",
       "    </tr>\n",
       "    <tr>\n",
       "      <th>4</th>\n",
       "      <td>MTre5</td>\n",
       "      <td>POLYGON ((-105.23499 47.70730, -105.23501 47.7...</td>\n",
       "    </tr>\n",
       "  </tbody>\n",
       "</table>\n",
       "</div>"
      ],
      "text/plain": [
       "  in_ReportingUnitNativeID                                           geometry\n",
       "0                    MTre1  POLYGON ((-106.15193 48.85645, -106.15193 48.8...\n",
       "1                    MTre2  POLYGON ((-111.26988 48.99724, -111.26988 48.9...\n",
       "2                    MTre3  POLYGON ((-108.23640 48.99673, -108.23640 48.9...\n",
       "3                    MTre4  POLYGON ((-105.32448 48.08853, -105.32409 48.0...\n",
       "4                    MTre5  POLYGON ((-105.23499 47.70730, -105.23501 47.7..."
      ]
     },
     "execution_count": 14,
     "metadata": {},
     "output_type": "execute_result"
    }
   ],
   "source": [
    "# create output for Regulatory Area #1 dataframe\n",
    "df = pd.DataFrame()\n",
    "\n",
    "columnsList = ['in_ReportingUnitNativeID', 'geometry']\n",
    "goutdf1 = pd.DataFrame(columns=columnsList, index=gdfin1.index)\n",
    "\n",
    "goutdf1['in_ReportingUnitNativeID'] =  \"MTre\" + gdfin1[\"OBJECTID\"].replace(\"\", 0).fillna(0).astype(int).astype(str)  # in_ReportingUnitNativeID needs to match source from above equivlaent datframe\n",
    "goutdf1['geometry'] = gdfin1['geometry']\n",
    "goutdf1 = goutdf1.drop_duplicates().reset_index(drop=True)\n",
    "print(len(goutdf1))\n",
    "goutdf1.head()"
   ]
  },
  {
   "cell_type": "markdown",
   "metadata": {},
   "source": [
    "#### Regulatory Area #2 shapefile info"
   ]
  },
  {
   "cell_type": "code",
   "execution_count": 15,
   "metadata": {},
   "outputs": [],
   "source": [
    "# etc etc..."
   ]
  },
  {
   "cell_type": "markdown",
   "metadata": {},
   "source": [
    "#### Concatenate goutdf shapefile info into single output"
   ]
  },
  {
   "cell_type": "code",
   "execution_count": 16,
   "metadata": {},
   "outputs": [
    {
     "name": "stdout",
     "output_type": "stream",
     "text": [
      "59\n"
     ]
    },
    {
     "data": {
      "text/html": [
       "<div>\n",
       "<style scoped>\n",
       "    .dataframe tbody tr th:only-of-type {\n",
       "        vertical-align: middle;\n",
       "    }\n",
       "\n",
       "    .dataframe tbody tr th {\n",
       "        vertical-align: top;\n",
       "    }\n",
       "\n",
       "    .dataframe thead th {\n",
       "        text-align: right;\n",
       "    }\n",
       "</style>\n",
       "<table border=\"1\" class=\"dataframe\">\n",
       "  <thead>\n",
       "    <tr style=\"text-align: right;\">\n",
       "      <th></th>\n",
       "      <th>in_ReportingUnitNativeID</th>\n",
       "      <th>geometry</th>\n",
       "    </tr>\n",
       "  </thead>\n",
       "  <tbody>\n",
       "    <tr>\n",
       "      <th>0</th>\n",
       "      <td>MTre1</td>\n",
       "      <td>POLYGON ((-106.15193 48.85645, -106.15193 48.8...</td>\n",
       "    </tr>\n",
       "    <tr>\n",
       "      <th>1</th>\n",
       "      <td>MTre2</td>\n",
       "      <td>POLYGON ((-111.26988 48.99724, -111.26988 48.9...</td>\n",
       "    </tr>\n",
       "    <tr>\n",
       "      <th>2</th>\n",
       "      <td>MTre3</td>\n",
       "      <td>POLYGON ((-108.23640 48.99673, -108.23640 48.9...</td>\n",
       "    </tr>\n",
       "    <tr>\n",
       "      <th>3</th>\n",
       "      <td>MTre4</td>\n",
       "      <td>POLYGON ((-105.32448 48.08853, -105.32409 48.0...</td>\n",
       "    </tr>\n",
       "    <tr>\n",
       "      <th>4</th>\n",
       "      <td>MTre5</td>\n",
       "      <td>POLYGON ((-105.23499 47.70730, -105.23501 47.7...</td>\n",
       "    </tr>\n",
       "  </tbody>\n",
       "</table>\n",
       "</div>"
      ],
      "text/plain": [
       "  in_ReportingUnitNativeID                                           geometry\n",
       "0                    MTre1  POLYGON ((-106.15193 48.85645, -106.15193 48.8...\n",
       "1                    MTre2  POLYGON ((-111.26988 48.99724, -111.26988 48.9...\n",
       "2                    MTre3  POLYGON ((-108.23640 48.99673, -108.23640 48.9...\n",
       "3                    MTre4  POLYGON ((-105.32448 48.08853, -105.32409 48.0...\n",
       "4                    MTre5  POLYGON ((-105.23499 47.70730, -105.23501 47.7..."
      ]
     },
     "execution_count": 16,
     "metadata": {},
     "output_type": "execute_result"
    }
   ],
   "source": [
    "# Concatenate Basin & Subbasin DataFrames\n",
    "frames = [goutdf1] # add geoutdf dataframes here\n",
    "goutdf = pd.concat(frames).reset_index(drop=True)\n",
    "\n",
    "print(len(goutdf))\n",
    "goutdf.head()"
   ]
  },
  {
   "cell_type": "markdown",
   "metadata": {},
   "source": [
    "## Export Data"
   ]
  },
  {
   "cell_type": "code",
   "execution_count": 17,
   "metadata": {
    "scrolled": false
   },
   "outputs": [
    {
     "name": "stdout",
     "output_type": "stream",
     "text": [
      "WaDEUUID                                  object\n",
      "in_Date                                   object\n",
      "in_Year                                   object\n",
      "in_OrganizationUUID                       object\n",
      "in_EPSGCodeCV                             object\n",
      "in_ReportingUnitName                      object\n",
      "in_ReportingUnitNativeID                  object\n",
      "in_ReportingUnitProductVersion            object\n",
      "in_ReportingUnitTypeCV                    object\n",
      "in_ReportingUnitUpdateDate                object\n",
      "in_StateCV                                object\n",
      "in_Geometry                               object\n",
      "in_OversightAgency                        object\n",
      "in_RegulatoryDescription                  object\n",
      "in_RegulatoryName                         object\n",
      "in_RegulatoryOverlayNativeID               int64\n",
      "in_RegulatoryStatusCV                     object\n",
      "in_RegulatoryStatute                      object\n",
      "in_RegulatoryStatuteLink                  object\n",
      "in_StatutoryEffectiveDate         datetime64[ns]\n",
      "in_StatutoryEndDate                       object\n",
      "in_RegulatoryOverlayTypeCV                object\n",
      "in_WaterSourceTypeCV                      object\n",
      "dtype: object\n"
     ]
    }
   ],
   "source": [
    "with pd.option_context('display.max_rows', None, 'display.max_columns', None):\n",
    "    print(outdf.dtypes)"
   ]
  },
  {
   "cell_type": "code",
   "execution_count": 18,
   "metadata": {},
   "outputs": [
    {
     "name": "stdout",
     "output_type": "stream",
     "text": [
      "in_ReportingUnitNativeID      object\n",
      "geometry                    geometry\n",
      "dtype: object\n"
     ]
    }
   ],
   "source": [
    "with pd.option_context('display.max_rows', None, 'display.max_columns', None):\n",
    "    print(goutdf.dtypes)"
   ]
  },
  {
   "cell_type": "code",
   "execution_count": 19,
   "metadata": {},
   "outputs": [],
   "source": [
    "# Export out to CSV.\n",
    "outdf.to_csv('RawInputData/Pre_mtMain.zip', compression=dict(method='zip', archive_name='Pre_Main.csv'), index=False)  # The output, save as a zip\n",
    "goutdf.to_csv('RawInputData/P_Geometry.zip', compression=dict(method='zip', archive_name='P_Geometry.csv'), index=False)  # The output geometry."
   ]
  },
  {
   "cell_type": "code",
   "execution_count": null,
   "metadata": {},
   "outputs": [],
   "source": []
  }
 ],
 "metadata": {
  "kernelspec": {
   "display_name": "Python 3 (ipykernel)",
   "language": "python",
   "name": "python3"
  },
  "language_info": {
   "codemirror_mode": {
    "name": "ipython",
    "version": 3
   },
   "file_extension": ".py",
   "mimetype": "text/x-python",
   "name": "python",
   "nbconvert_exporter": "python",
   "pygments_lexer": "ipython3",
   "version": "3.9.16"
  }
 },
 "nbformat": 4,
 "nbformat_minor": 4
}
