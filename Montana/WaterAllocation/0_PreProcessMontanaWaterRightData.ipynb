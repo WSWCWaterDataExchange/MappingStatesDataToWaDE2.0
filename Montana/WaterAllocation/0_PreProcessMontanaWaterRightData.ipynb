{
 "cells": [
  {
   "cell_type": "markdown",
   "metadata": {},
   "source": [
    "# Pre-processing Montana Water Right data for WaDEQA upload.\n",
    "\n",
    "Date Updated: 11/30/2020\n",
    "\n",
    "Purpose:  To pre-process the Montana data into one master file for simple DataFrame creation and extraction."
   ]
  },
  {
   "cell_type": "code",
   "execution_count": null,
   "metadata": {},
   "outputs": [],
   "source": [
    "# Needed Libararies\n",
    "import os\n",
    "import numpy as np\n",
    "import pandas as pd\n",
    "import datetime\n",
    "import geopandas as gpd # the library that lets us read in shapefiles\n",
    "pd.set_option('display.max_columns', 999)  # How to display all columns of a Pandas DataFrame in Jupyter Notebook\n",
    "\n",
    "# Setting work directory, reading inputs, creating dataframe\n",
    "workingDir = \"C:/Users/rjame/Documents/WSWC Documents/MappingStatesDataToWaDE2.0/Montana/WaterAllocation/RawInputData\"\n",
    "os.chdir(workingDir)"
   ]
  },
  {
   "cell_type": "code",
   "execution_count": null,
   "metadata": {},
   "outputs": [],
   "source": [
    "# columns needed for combined output Dataframe\n",
    "columnsList = [\"in_GNISFeatureNameCV\",\t\"in_WaterQualityIndicatorCV\",\t\"in_WaterSourceName\",\t\"in_WaterSourceNativeID\",\t\"in_WaterSourceTypeCV\",\n",
    "               \"in_CoordinateAccuracy\",\t\"in_CoordinateMethodCV\",\t\"in_County\",\t\"in_EPSGCodeCV\",\t\"in_Geometry\",\t\"in_GNISCodeCV\",\t\"in_HUC12\",\t\"in_HUC8\",\t\"in_Latitude\",\t\"in_Longitude\",\t\"in_NHDNetworkStatusCV\",\t\"in_NHDProductCV\",\t\"in_PODorPOUSite\",\t\"in_SiteName\",\t\"in_SiteNativeID\",\t\"in_SitePoint\",\t\"in_SiteTypeCV\",\t\"in_StateCV\",\t\"in_USGSSiteID\",\n",
    "               \"in_AllocationApplicationDate\",\t\"in_AllocationAssociatedConsumptiveUseSiteIDs\",\t\"in_AllocationAssociatedWithdrawalSiteIDs\",\t\"in_AllocationBasisCV\",\t\"in_AllocationChangeApplicationIndicator\",\t\"in_AllocationCommunityWaterSupplySystem\",\t\"in_AllocationCropDutyAmount\",\t\"in_AllocationExpirationDate\",\t\"in_AllocationFlow_CFS\",\t\"in_AllocationLegalStatusCV\",\t\"in_AllocationNativeID\",\t\"in_AllocationOwner\",\t\"in_AllocationPriorityDate\",\t\"in_AllocationSDWISIdentifierCV\",\t\"in_AllocationTimeframeEnd\",\t\"in_AllocationTimeframeStart\",\t\"in_AllocationTypeCV\",\t\"in_AllocationVolume_AF\",\t\"in_BeneficialUseCategory\",\t\"in_CommunityWaterSupplySystem\",\t\"in_CropTypeCV\",\t\"in_CustomerTypeCV\",\t\"in_DataPublicationDate\",\t\"in_DataPublicationDOI\",\t\"in_ExemptOfVolumeFlowPriority\",\t\"in_GeneratedPowerCapacityMW\",\t\"in_IrrigatedAcreage\",\t\"in_IrrigationMethodCV\",\t\"in_LegacyAllocationIDs\",\t\"in_OrganizationUUID\",\t\"in_PopulationServed\",\t\"in_PowerType\",\t\"in_PrimaryUseCategory\",\t\"in_VariableSpecificUUID\",\t\"in_WaterAllocationNativeURL\"]"
   ]
  },
  {
   "cell_type": "markdown",
   "metadata": {},
   "source": [
    "## POD Water Budget Data"
   ]
  },
  {
   "cell_type": "code",
   "execution_count": null,
   "metadata": {},
   "outputs": [],
   "source": [
    "# CSV input file\n",
    "fileInput = \"WaDE_PODs_input.csv\"\n",
    "df = pd.read_csv(fileInput)\n",
    "print(len(df))\n",
    "df.head(3)"
   ]
  },
  {
   "cell_type": "code",
   "execution_count": null,
   "metadata": {},
   "outputs": [],
   "source": [
    "# WaterSourceTypeCV\n",
    "waterSourceTypeDict = {\n",
    "\"SURFACE\" : \"Surface Water\",\n",
    "\"GROUNDWATER\" : \"Groundwater\",\n",
    "\"ALL NATURALLY OCCURING WATER\" : \"Surface Water\"\n",
    "}\n",
    "\n",
    "def retrieveWaterSourceTypeCV(colrowValue):\n",
    "    if colrowValue == \"\" or pd.isnull(colrowValue):\n",
    "        outList = \"Unspecified\"\n",
    "    else:\n",
    "        String1 = colrowValue.strip()\n",
    "        try:\n",
    "            outList = waterSourceTypeDict[String1]\n",
    "        except:\n",
    "            outList = \"Unspecified\"\n",
    "    return outList\n",
    "\n",
    "df['WaterSourceTypeCV'] = df.apply(lambda row: retrieveWaterSourceTypeCV(row['SOURCE_TYPE']), axis=1)\n",
    "df.head(3)"
   ]
  },
  {
   "cell_type": "code",
   "execution_count": null,
   "metadata": {},
   "outputs": [],
   "source": [
    "# Update datatype of Priority Date to fit WaDE 2.0 structure\n",
    "\n",
    "df['ENF_PRIORITY_DATE'] = pd.to_datetime(df['ENF_PRIORITY_DATE'])\n",
    "df['ENF_PRIORITY_DATE'] = pd.to_datetime(df[\"ENF_PRIORITY_DATE\"].dt.strftime('%m/%d/%Y'))\n",
    "df.head(3)"
   ]
  },
  {
   "cell_type": "code",
   "execution_count": null,
   "metadata": {},
   "outputs": [],
   "source": [
    "# Creating easy MethodTypeCV retreival for AllocationsAmounts_fact sheet.\n",
    "\n",
    "x = datetime.datetime(1973, 7, 1)\n",
    "x\n",
    "\n",
    "def createMethodTypeCV(colrowValue):\n",
    "    if colrowValue == '' or pd.isnull(colrowValue):\n",
    "        outList = ''\n",
    "    else:\n",
    "        if colrowValue < x:\n",
    "            outList = \"Adjudication\"\n",
    "        else:\n",
    "            outList = \"Appropriations\"\n",
    "    return outList\n",
    "\n",
    "df['MethodTypeCV'] = df.apply(lambda row: createMethodTypeCV(row['ENF_PRIORITY_DATE']), axis=1)\n",
    "df.head(3)"
   ]
  },
  {
   "cell_type": "code",
   "execution_count": null,
   "metadata": {},
   "outputs": [],
   "source": [
    "# Creating TimeframeStart.\n",
    "# Spliting string, returning WaDE friendly format.\n",
    "\n",
    "MonthNumbDict = {\n",
    "\"Jan\" : \"01\",\n",
    "\"Feb\" : \"02\",\n",
    "\"Mar\" : \"03\",\n",
    "\"May\" : \"04\",\n",
    "\"Apr\" : \"05\",\n",
    "\"Jun\" : \"06\",\n",
    "\"Jul\" : \"07\",\n",
    "\"Aug\" : \"08\",\n",
    "\"Sep\" : \"09\",\n",
    "\"Oct\" : \"10\",\n",
    "\"Nov\" : \"11\",\n",
    "\"Dec\" : \"12\"}\n",
    "\n",
    "def createTimeframeStart(ColRowVal):\n",
    "    val = str(ColRowVal)\n",
    "    day = val.split('-')[0]\n",
    "    try:\n",
    "        month = val.split('-')[1]\n",
    "        month = MonthNumbDict[month] + \"/\"\n",
    "    except:\n",
    "        day = \"\"\n",
    "        month = \"\"\n",
    "    outlist = month + day\n",
    "    return outlist\n",
    "\n",
    "df['TimeframeStart'] = df.apply(lambda row: createTimeframeStart(row['PER_DIV_BGN_DT']), axis=1)\n",
    "df.head(3)"
   ]
  },
  {
   "cell_type": "code",
   "execution_count": null,
   "metadata": {},
   "outputs": [],
   "source": [
    "# Creating TimeframeEnd.\n",
    "# Spliting string, returning WaDE friendly format.\n",
    "\n",
    "MonthNumbDict = {\n",
    "\"Jan\" : \"01\",\n",
    "\"Feb\" : \"02\",\n",
    "\"Mar\" : \"03\",\n",
    "\"May\" : \"04\",\n",
    "\"Apr\" : \"05\",\n",
    "\"Jun\" : \"06\",\n",
    "\"Jul\" : \"07\",\n",
    "\"Aug\" : \"08\",\n",
    "\"Sep\" : \"09\",\n",
    "\"Oct\" : \"10\",\n",
    "\"Nov\" : \"11\",\n",
    "\"Dec\" : \"12\"}\n",
    "\n",
    "def createTimeframeEnd(ColRowVal):\n",
    "    val = str(ColRowVal)\n",
    "    day = val.split('-')[0]\n",
    "    try:\n",
    "        month = val.split('-')[1]\n",
    "        month = MonthNumbDict[month] + \"/\"\n",
    "    except:\n",
    "        day = \"\"\n",
    "        month = \"\"\n",
    "    outlist = month + day\n",
    "    return outlist\n",
    "\n",
    "df['TimeframeEnd'] = df.apply(lambda row: createTimeframeEnd(row['PER_DIV_END_DT']), axis=1)\n",
    "df.head(3)"
   ]
  },
  {
   "cell_type": "code",
   "execution_count": null,
   "metadata": {},
   "outputs": [],
   "source": [
    "#Creating the output Dataframe for PODs.\n",
    "\n",
    "dfPOD = pd.DataFrame(columns=columnsList)\n",
    "\n",
    "#Method\n",
    "dfPOD[\"in_MethodTypeCV\"] = df['MethodTypeCV']\n",
    "\n",
    "# Water Source\n",
    "dfPOD[\"in_WaterSourceName\"] = df['SOURCE_NAME']\n",
    "dfPOD[\"in_WaterSourceTypeCV\"] = df['WaterSourceTypeCV']\n",
    "\n",
    "# Site\n",
    "dfPOD[\"in_CoordinateAccuracy\"] = \"Unspecified\"\n",
    "dfPOD[\"in_CoordinateMethodCV\"] = \"Unspecified\"\n",
    "dfPOD[\"in_County\"] = df['LLDS_COUNTY_NAME']\n",
    "dfPOD[\"in_HUC12\"] = df['HUC_12']\n",
    "dfPOD[\"in_Latitude\"] = df['Y']\n",
    "dfPOD[\"in_Longitude\"] = df['X']\n",
    "dfPOD[\"in_PODorPOUSite\"] = \"POD\"\n",
    "dfPOD[\"in_SiteName\"] = df['DITCH_NAME']\n",
    "dfPOD[\"in_SiteNativeID\"] = df['PODV_ID_SEQ']\n",
    "dfPOD[\"in_SiteTypeCV\"] = df['MEANS_OF_DIV']\n",
    "\n",
    "# Allocation\n",
    "dfPOD[\"in_AllocationFlow_CFS\"] = df['FLW_RT_CFS']\n",
    "dfPOD[\"in_AllocationLegalStatusCV\"] = df['WR_STATUS']\n",
    "dfPOD[\"in_AllocationNativeID\"] = df['WR_NUMBER']\n",
    "dfPOD[\"in_AllocationOwner\"] = df['ALL_OWNERS']\n",
    "dfPOD[\"in_AllocationPriorityDate\"] = df['ENF_PRIORITY_DATE'] \n",
    "dfPOD[\"in_AllocationTimeframeEnd\"] = df['TimeframeEnd']\n",
    "dfPOD[\"in_AllocationTimeframeStart\"] = df['TimeframeStart']\n",
    "dfPOD[\"in_AllocationTypeCV\"] = df['WR_TYPE']\n",
    "dfPOD[\"in_AllocationVolume_AF\"] = df['VOLUME']\n",
    "dfPOD[\"in_BeneficialUseCategory\"] = df['PURPOSES']\n",
    "dfPOD[\"in_DataPublicationDOI\"] = df['ABST_LINK']\n",
    "dfPOD[\"in_IrrigatedAcreage\"] = df['MAX_ACRES']\n",
    "\n",
    "print(len(dfPOD))"
   ]
  },
  {
   "cell_type": "code",
   "execution_count": null,
   "metadata": {},
   "outputs": [],
   "source": [
    "# POD Shapefile Data\n",
    "ShapeFileInput = gpd.read_file('PODShp/MT_POD.shp')\n",
    "dfPODshapetemp = pd.DataFrame(ShapeFileInput)\n",
    "dfPODshapetemp.head(3)"
   ]
  },
  {
   "cell_type": "code",
   "execution_count": null,
   "metadata": {},
   "outputs": [],
   "source": [
    "columnsList = ['WR_NUMBER', 'POD_NO', 'DITCH_NAME', 'geometry']\n",
    "dfPODshape = pd.DataFrame(columns=columnsList)\n",
    "dfPODshape['WR_NUMBER'] = dfPODshapetemp['WR_NUMBER']\n",
    "dfPODshape['POD_NO'] = dfPODshapetemp['POD_NO']\n",
    "dfPODshape['DITCH_NAME'] = dfPODshapetemp['DITCH_NAME']\n",
    "dfPODshape['geometry'] = dfPODshapetemp['geometry']\n",
    "dfPODshape = dfPODshape.drop_duplicates(subset=None, keep='first', inplace=False, ignore_index=False)\n",
    "dfPODshape.head(3)"
   ]
  },
  {
   "cell_type": "markdown",
   "metadata": {},
   "source": [
    "## PoU Water Budget Data"
   ]
  },
  {
   "cell_type": "code",
   "execution_count": null,
   "metadata": {
    "scrolled": true
   },
   "outputs": [],
   "source": [
    "# CSV input file\n",
    "fileInput = \"WaDE_PoUs_input.csv\"\n",
    "df = pd.read_csv(fileInput)\n",
    "print(len(df))\n",
    "df.head(3)"
   ]
  },
  {
   "cell_type": "code",
   "execution_count": null,
   "metadata": {},
   "outputs": [],
   "source": [
    "# Fixing datatypes of inputs.\n",
    "df['ENF_PRIORI'] = pd.to_datetime(df['ENF_PRIORI'])"
   ]
  },
  {
   "cell_type": "code",
   "execution_count": null,
   "metadata": {},
   "outputs": [],
   "source": [
    "# WaterSourceTypeCV\n",
    "\n",
    "waterSourceTypeDict = {\n",
    "    \"GROUNDWATER\" : \"Groundwater\",\n",
    "    \"SURFACE\" : \"Surface Water\"\n",
    "}\n",
    "\n",
    "def retrieveWaterSourceTypeCV(colrowValue):\n",
    "    if colrowValue == \"\" or pd.isnull(colrowValue):\n",
    "        outList = \"Unspecified\"\n",
    "    else:\n",
    "        String1 = colrowValue.strip()\n",
    "        try:\n",
    "            outList = waterSourceTypeDict[String1]\n",
    "        except:\n",
    "            outList = \"Unspecified\"\n",
    "    return outList\n",
    "\n",
    "df['WaterSourceTypeCV'] = df.apply(lambda row: retrieveWaterSourceTypeCV(row['SRCTYPE']), axis=1)\n",
    "df.head(3)"
   ]
  },
  {
   "cell_type": "code",
   "execution_count": null,
   "metadata": {},
   "outputs": [],
   "source": [
    "# Creating easy MethodTypeCV retreival for AllocationsAmounts_fact sheet.\n",
    "\n",
    "x = datetime.datetime(1973, 7, 1)\n",
    "x\n",
    "\n",
    "def createMethodTypeCV(colrowValue):\n",
    "    if colrowValue == '' or pd.isnull(colrowValue):\n",
    "        outList = ''\n",
    "    else:\n",
    "        if colrowValue < x:\n",
    "            outList = \"Adjudication\"\n",
    "        else:\n",
    "            outList = \"Appropriations\"\n",
    "    return outList\n",
    "\n",
    "df['MethodTypeCV'] = df.apply(lambda row: createMethodTypeCV(row['ENF_PRIORI']), axis=1)\n",
    "df.head(3)"
   ]
  },
  {
   "cell_type": "code",
   "execution_count": null,
   "metadata": {},
   "outputs": [],
   "source": [
    "# Creating TimeframeStart.\n",
    "# Spliting string, returning WaDE friendly format.\n",
    "\n",
    "MonthNumbDict = {\n",
    "\"Jan\" : \"01\",\n",
    "\"Feb\" : \"02\",\n",
    "\"Mar\" : \"03\",\n",
    "\"May\" : \"04\",\n",
    "\"Apr\" : \"05\",\n",
    "\"Jun\" : \"06\",\n",
    "\"Jul\" : \"07\",\n",
    "\"Aug\" : \"08\",\n",
    "\"Sep\" : \"09\",\n",
    "\"Oct\" : \"10\",\n",
    "\"Nov\" : \"11\",\n",
    "\"Dec\" : \"12\"}\n",
    "\n",
    "def createTimeframeStart(ColRowVal):\n",
    "    val = str(ColRowVal)\n",
    "    day = val.split('-')[0]\n",
    "    try:\n",
    "        month = val.split('-')[1]\n",
    "        month = MonthNumbDict[month] + \"/\"\n",
    "    except:\n",
    "        day = \"\"\n",
    "        month = \"\"\n",
    "    outlist = month + day\n",
    "    return outlist\n",
    "\n",
    "df['TimeframeStart'] = df.apply(lambda row: createTimeframeStart(row['PER_USE_BG']), axis=1)\n",
    "df.head(3)"
   ]
  },
  {
   "cell_type": "code",
   "execution_count": null,
   "metadata": {},
   "outputs": [],
   "source": [
    "# Creating TimeframeEnd.\n",
    "# Spliting string, returning WaDE friendly format.\n",
    "\n",
    "MonthNumbDict = {\n",
    "\"Jan\" : \"01\",\n",
    "\"Feb\" : \"02\",\n",
    "\"Mar\" : \"03\",\n",
    "\"May\" : \"04\",\n",
    "\"Apr\" : \"05\",\n",
    "\"Jun\" : \"06\",\n",
    "\"Jul\" : \"07\",\n",
    "\"Aug\" : \"08\",\n",
    "\"Sep\" : \"09\",\n",
    "\"Oct\" : \"10\",\n",
    "\"Nov\" : \"11\",\n",
    "\"Dec\" : \"12\"}\n",
    "\n",
    "def createTimeframeEnd(ColRowVal):\n",
    "    val = str(ColRowVal)\n",
    "    day = val.split('-')[0]\n",
    "    try:\n",
    "        month = val.split('-')[1]\n",
    "        month = MonthNumbDict[month] + \"/\"\n",
    "    except:\n",
    "        day = \"\"\n",
    "        month = \"\"\n",
    "    outlist = month + day\n",
    "    return outlist\n",
    "\n",
    "df['TimeframeEnd'] = df.apply(lambda row: createTimeframeEnd(row['PER_USE_EN']), axis=1)\n",
    "df.head(3)"
   ]
  },
  {
   "cell_type": "code",
   "execution_count": null,
   "metadata": {},
   "outputs": [],
   "source": [
    "# Creating the output Dataframe for POUs.\n",
    "\n",
    "dfPOU = pd.DataFrame(columns=columnsList)\n",
    "\n",
    "# Method\n",
    "dfPOU[\"in_MethodTypeCV\"] = df['MethodTypeCV']\n",
    "\n",
    "# Water Source\n",
    "dfPOU[\"in_WaterSourceName\"] = df['SOURC_NAME']\n",
    "dfPOU[\"in_WaterSourceTypeCV\"] = df['WaterSourceTypeCV']\n",
    "\n",
    "# Site\n",
    "dfPOU[\"in_CoordinateAccuracy\"] = \"Unspecified\"\n",
    "dfPOU[\"in_CoordinateMethodCV\"] = \"Centroid\"\n",
    "dfPOU[\"in_County\"] = df['COUNTY']\n",
    "dfPOU[\"in_Latitude\"] = df['Latitdue']\n",
    "dfPOU[\"in_Longitude\"] = df['Longitdue']\n",
    "dfPOU[\"in_PODorPOUSite\"] = \"POU\"\n",
    "dfPOU[\"in_SiteName\"] = \"Unspecified\"\n",
    "dfPOU[\"in_SiteTypeCV\"] = \"Unspecified\" \n",
    "\n",
    "# Allocation\n",
    "dfPOU[\"in_AllocationFlow_CFS\"] = df['FLW_RT_CFS']\n",
    "dfPOU[\"in_AllocationLegalStatusCV\"] = df['STATUS']\n",
    "dfPOU[\"in_AllocationNativeID\"] = df['WRNUMBER']\n",
    "dfPOU[\"in_AllocationOwner\"] = df['ALL_OWNERS']\n",
    "dfPOU[\"in_AllocationPriorityDate\"] = df['ENF_PRIORI']\n",
    "dfPOU[\"in_AllocationTimeframeEnd\"] = df['TimeframeEnd']\n",
    "dfPOU[\"in_AllocationTimeframeStart\"] = df['TimeframeStart'] \n",
    "dfPOU[\"in_AllocationTypeCV\"] = df['WRTYPE']\n",
    "dfPOU[\"in_AllocationVolume_AF\"] = df['VOLUME']\n",
    "dfPOU[\"in_BeneficialUseCategory\"] = df['PURPOSE']\n",
    "dfPOU[\"in_DataPublicationDOI\"] = df['NRIS_LINK']\n",
    "dfPOU[\"in_IrrigatedAcreage\"] = df['MAX_ACRES']\n",
    "\n",
    "print(len(dfPOU))"
   ]
  },
  {
   "cell_type": "code",
   "execution_count": null,
   "metadata": {},
   "outputs": [],
   "source": [
    "# Creating WaDE Custom site native ID for easy site identificaiion\n",
    "# ----------------------------------------------------------------------------------------------------\n",
    "\n",
    "# Create temp SiteNativeID dataframe of unique site.\n",
    "def assignSiteUUID(colrowValue):\n",
    "    string1 = str(colrowValue)\n",
    "    outstring = \"WaDEMT_S\" + string1\n",
    "    return outstring\n",
    "\n",
    "dfSiteNativeID = pd.DataFrame()\n",
    "dfSiteNativeID['in_Latitude'] = dfPOU['in_Latitude']\n",
    "dfSiteNativeID['in_Longitude'] = dfPOU['in_Longitude']\n",
    "dfSiteNativeID['in_SiteTypeCV'] = dfPOU['in_SiteTypeCV']\n",
    "dfSiteNativeID['in_SiteName'] = dfPOU['in_SiteName']\n",
    "dfSiteNativeID = dfSiteNativeID.drop_duplicates()\n",
    "\n",
    "dftemp = pd.DataFrame(index=dfSiteNativeID.index)\n",
    "dftemp[\"Count\"] = range(1, len(dftemp.index) + 1)\n",
    "dfSiteNativeID['in_SiteNativeID'] = dftemp.apply(lambda row: assignSiteUUID(row['Count']), axis=1)\n",
    "\n",
    "# ----------------------------------------------------------------------------------------------------\n",
    "\n",
    "# Retreive WaDE Custom site native ID\n",
    "def retrieveSiteNativeID(A, B, C, D):\n",
    "    if (A == '' and B == '') or (pd.isnull(A) and pd.isnull(B)):\n",
    "        outList = ''\n",
    "    else:\n",
    "        ml = dfSiteNativeID.loc[(dfSiteNativeID['in_Latitude'] == A) & \n",
    "                                (dfSiteNativeID['in_Longitude'] == B) &\n",
    "                                (dfSiteNativeID['in_SiteTypeCV'] == C) &\n",
    "                                (dfSiteNativeID['in_SiteName'] == D), 'in_SiteNativeID']\n",
    "        if not (ml.empty):  # check if the series is empty\n",
    "            outList = ml.iloc[0]\n",
    "        else:\n",
    "            outList = ''\n",
    "    return outList\n",
    "\n",
    "dfPOU['in_SiteNativeID'] = dfPOU.apply(lambda row: retrieveSiteNativeID( row['in_Latitude'], row['in_Longitude'], row['in_SiteTypeCV'], row['in_SiteName']), axis=1)\n",
    "dfPOU"
   ]
  },
  {
   "cell_type": "code",
   "execution_count": null,
   "metadata": {},
   "outputs": [],
   "source": [
    "# PoU Shapefile Data\n",
    "# Shapefile input\n",
    "ShapeFileInput = gpd.read_file('PoUShp/MT_PoU.shp')\n",
    "dfPoUshapetemp = pd.DataFrame(ShapeFileInput)\n",
    "dfPoUshapetemp.head(3)"
   ]
  },
  {
   "cell_type": "code",
   "execution_count": null,
   "metadata": {
    "scrolled": true
   },
   "outputs": [],
   "source": [
    "columnsList = ['WR_NUMBER', 'POU_NO', 'DITCH_NAME', 'geometry']\n",
    "dfPoUshape = pd.DataFrame(columns=columnsList)\n",
    "dfPoUshape['WR_NUMBER'] = dfPoUshapetemp['WRNUMBER']\n",
    "dfPoUshape['POD_NO'] = dfPoUshapetemp['POU_NO']\n",
    "dfPoUshape['DITCH_NAME'] = \"Unspecified\"\n",
    "dfPoUshape['geometry'] = dfPoUshapetemp['geometry']\n",
    "dfPoUshape = dfPoUshape.drop_duplicates(subset=None, keep='first', inplace=False, ignore_index=False)\n",
    "dfPoUshape.head(3)"
   ]
  },
  {
   "cell_type": "markdown",
   "metadata": {},
   "source": [
    "### Concatenate and Export"
   ]
  },
  {
   "cell_type": "code",
   "execution_count": null,
   "metadata": {},
   "outputs": [],
   "source": [
    "# Merge dataframes\n",
    "frames = [dfPOD, dfPOU]\n",
    "outdf = pd.concat(frames)\n",
    "outdf = outdf.drop_duplicates()\n",
    "print(len(outdf))"
   ]
  },
  {
   "cell_type": "code",
   "execution_count": null,
   "metadata": {},
   "outputs": [],
   "source": [
    "# Concatenate dataframes\n",
    "frames = [dfPODshape, dfPoUshape]\n",
    "dfshape = pd.concat(frames)\n",
    "print(len(dfshape))"
   ]
  },
  {
   "cell_type": "code",
   "execution_count": null,
   "metadata": {},
   "outputs": [],
   "source": [
    "# Creating WaDE Custom water source native ID for easy water source identification\n",
    "# ----------------------------------------------------------------------------------------------------\n",
    "\n",
    "# Create temp WaterSourceNativeID dataframe of unique water source.\n",
    "def assignWaterSourceNativeID(colrowValue):\n",
    "    string1 = str(colrowValue)\n",
    "    outstring = \"WaDEMT_WS\" + string1\n",
    "    return outstring\n",
    "\n",
    "dfWaterSourceNativeID = pd.DataFrame()\n",
    "dfWaterSourceNativeID['in_WaterSourceName'] = outdf['in_WaterSourceName']\n",
    "dfWaterSourceNativeID['in_WaterSourceTypeCV'] = outdf['in_WaterSourceTypeCV']\n",
    "dfWaterSourceNativeID = dfWaterSourceNativeID.drop_duplicates()\n",
    "\n",
    "dftemp = pd.DataFrame(index=dfWaterSourceNativeID.index)\n",
    "dftemp[\"Count\"] = range(1, len(dftemp.index) + 1)\n",
    "dfWaterSourceNativeID['in_WaterSourceNativeID'] = dftemp.apply(lambda row: assignWaterSourceNativeID(row['Count']), axis=1)\n",
    "\n",
    "# ----------------------------------------------------------------------------------------------------\n",
    "\n",
    "# Retreive WaDE Custom water source native ID\n",
    "def retrieveWaterSourceNativeID(A, B):\n",
    "    if (A == '' and B == '') or (pd.isnull(A) and pd.isnull(B)):\n",
    "        outList = ''\n",
    "    else:\n",
    "        ml = dfWaterSourceNativeID.loc[(dfWaterSourceNativeID['in_WaterSourceName'] == A) & \n",
    "                                       (dfWaterSourceNativeID['in_WaterSourceTypeCV'] == B), 'in_WaterSourceNativeID']\n",
    "        if not (ml.empty):  # check if the series is empty\n",
    "            outList = ml.iloc[0]\n",
    "        else:\n",
    "            outList = ''\n",
    "    return outList\n",
    "\n",
    "outdf['in_WaterSourceNativeID'] = outdf.apply(lambda row: retrieveWaterSourceNativeID( row['in_WaterSourceName'], row['in_WaterSourceTypeCV']), axis=1)\n",
    "outdf"
   ]
  },
  {
   "cell_type": "code",
   "execution_count": null,
   "metadata": {},
   "outputs": [],
   "source": [
    "# Export out to CSV.\n",
    "outdf.to_csv('P_MontanaMaster.csv', index=False) # The output.\n",
    "dfshape.to_csv('P_MontanaGeometry.csv', index=False) # The output geometry."
   ]
  },
  {
   "cell_type": "code",
   "execution_count": null,
   "metadata": {},
   "outputs": [],
   "source": [
    "outdf.head(10)"
   ]
  },
  {
   "cell_type": "code",
   "execution_count": null,
   "metadata": {},
   "outputs": [],
   "source": [
    "outdf.tail(5)"
   ]
  }
 ],
 "metadata": {
  "kernelspec": {
   "display_name": "Python 3",
   "language": "python",
   "name": "python3"
  },
  "language_info": {
   "codemirror_mode": {
    "name": "ipython",
    "version": 3
   },
   "file_extension": ".py",
   "mimetype": "text/x-python",
   "name": "python",
   "nbconvert_exporter": "python",
   "pygments_lexer": "ipython3",
   "version": "3.8.5"
  }
 },
 "nbformat": 4,
 "nbformat_minor": 2
}
