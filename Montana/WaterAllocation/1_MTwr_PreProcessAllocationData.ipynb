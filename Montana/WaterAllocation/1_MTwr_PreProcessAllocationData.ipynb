{
 "cells": [
  {
   "cell_type": "markdown",
   "metadata": {},
   "source": [
    "# Pre-processing Montana Water Right data for WaDEQA upload.\n",
    "\n",
    "Date Updated: 08/05/2022\n",
    "\n",
    "Purpose:  To pre-process the Montana data into one master file for simple DataFrame creation and extraction."
   ]
  },
  {
   "cell_type": "code",
   "execution_count": null,
   "metadata": {},
   "outputs": [],
   "source": [
    "#Needed Libararies\n",
    "\n",
    "# working with data\n",
    "import os\n",
    "import numpy as np\n",
    "import pandas as pd\n",
    "import geopandas as gpd\n",
    "\n",
    "# visulizaiton\n",
    "import matplotlib.pyplot as plt\n",
    "import seaborn as sns\n",
    "\n",
    "# API retrieval\n",
    "import requests\n",
    "import json\n",
    "\n",
    "# Cleanup\n",
    "import re\n",
    "from datetime import datetime\n",
    "pd.set_option('display.max_columns', 999)  # How to display all columns of a Pandas DataFrame in Jupyter Notebook\n",
    "pd.set_option('display.float_format', lambda x: '%.5f' % x) # suppress scientific notation in Pandas"
   ]
  },
  {
   "cell_type": "code",
   "execution_count": null,
   "metadata": {},
   "outputs": [],
   "source": [
    "# Working Directory\n",
    "workingDir = \"G:/Shared drives/WaDE Data/Montana/WaterAllocation/RawInputData\"\n",
    "os.chdir(workingDir)"
   ]
  },
  {
   "cell_type": "markdown",
   "metadata": {},
   "source": [
    "## POD Water Budget Data"
   ]
  },
  {
   "cell_type": "code",
   "execution_count": null,
   "metadata": {},
   "outputs": [],
   "source": [
    "# Input File\n",
    "fileInput = \"WaDE_PODs_input.zip\"\n",
    "dfinPOD = pd.read_csv(fileInput)\n",
    "\n",
    "# WaDE UUID tracker for data assessment\n",
    "if 'WaDEUUID' not in dfinPOD:\n",
    "    dfinPOD['WaDEUUID'] = \"mtD\" + dfinPOD.index.astype(str)\n",
    "    dfinPOD.to_csv('WaDE_PODs_input.zip', compression=dict(method='zip', archive_name='WaDE_PODs_input.csv'), index=False)\n",
    "\n",
    "print(len(dfinPOD))\n",
    "dfinPOD.head()"
   ]
  },
  {
   "cell_type": "code",
   "execution_count": null,
   "metadata": {},
   "outputs": [],
   "source": [
    "# Clean Owner info.  Remove special characters\n",
    "# need to separate out by ; into list\n",
    "# remove special characters\n",
    "# convert list to string, separate by ,\n",
    "\n",
    "def cleanOwnerDataFunc(Val):\n",
    "    Val = Val.strip()\n",
    "    ValList = Val.split(';')\n",
    "    for i, s in enumerate(ValList):\n",
    "        ValList[i] = re.sub(\"[$@&.,;/\\)(-]\", \"\", s).title().strip()\n",
    "    outString = ','.join(ValList)\n",
    "    return outString\n",
    "\n",
    "dfinPOD['ALL_OWNERS'] = dfinPOD.apply(lambda row: cleanOwnerDataFunc(row['ALL_OWNERS']), axis=1)\n",
    "dfinPOD['ALL_OWNERS'].unique()"
   ]
  },
  {
   "cell_type": "code",
   "execution_count": null,
   "metadata": {},
   "outputs": [],
   "source": [
    "def createNativeLandingURLMTFunct(xVal):\n",
    "    # convert to list\n",
    "    xList = xVal.split(' ')\n",
    "    \n",
    "    # add '20' value to 2nd & 3rd positoin\n",
    "    try:\n",
    "        xList[1] = \"20\" + xList[1]\n",
    "        xList[2] = \"20\" + xList[2]\n",
    "        outVal = ' '.join(xList).replace(' ', '%')\n",
    "    except:\n",
    "        outVal = ' '.join(xList).replace(' ', '%')\n",
    "    \n",
    "    # concatenate with url\n",
    "    outstring = \"http://wrqs.dnrc.mt.gov/ResultsWS.aspx?search=simple&index=8&wrnumber=\" + outVal + \"&status=ACTV!SEVR\"\n",
    "    \n",
    "    return outstring\n",
    "\n",
    "dfinPOD['in_WaterAllocationNativeURL'] = dfinPOD.apply(lambda row: createNativeLandingURLMTFunct(row['WR_NUMBER']), axis=1)\n",
    "dfinPOD['in_WaterAllocationNativeURL'].unique()"
   ]
  },
  {
   "cell_type": "code",
   "execution_count": null,
   "metadata": {},
   "outputs": [],
   "source": [
    "# create output POD dataframe\n",
    "df = pd.DataFrame()\n",
    "\n",
    "# Data Assessment UUID\n",
    "df['WaDEUUID'] = dfinPOD['WaDEUUID']\n",
    "\n",
    "# Method Info\n",
    "df['in_MethodUUID'] = \"MTwr_M1\"\n",
    "\n",
    "# Variable Info\n",
    "df['in_VariableSpecificUUID'] = \"MTwr_V1\"\n",
    "\n",
    "# Organization Info\n",
    "df['in_OrganizationUUID'] = \"MTwr_O1\"\n",
    "\n",
    "# WaterSource Info\n",
    "df['in_Geometry'] = \"\"\n",
    "df['in_GNISFeatureNameCV'] = \"\"\n",
    "df['in_WaterQualityIndicatorCV'] = \"\"\n",
    "df['in_WaterSourceName'] = dfinPOD['SOURCE_NAM'].str.title()\n",
    "df['in_WaterSourceNativeID'] = \"\" #auto fill in below\n",
    "df['in_WaterSourceTypeCV'] = dfinPOD['SOURCE_TYP'].str.title()\n",
    "\n",
    "# Site Info\n",
    "df['in_CoordinateAccuracy'] = \"WaDE Unspecified\"\n",
    "df['in_CoordinateMethodCV'] = \"WaDE Unspecified\"\n",
    "df['in_County'] = dfinPOD['LLDS_COUNT'].str.title()\n",
    "df['in_EPSGCodeCV'] = 4326\n",
    "df['in_Geometry'] = \"\"\n",
    "df['in_GNISCodeCV'] = \"\"\n",
    "df['in_HUC12'] = dfinPOD['HUC_12']\n",
    "df['in_HUC8'] = \"\"\n",
    "df['in_Latitude'] = dfinPOD['Lat']\n",
    "df['in_Longitude'] = dfinPOD['Long']\n",
    "df['in_NHDNetworkStatusCV'] = \"\"\n",
    "df['in_NHDProductCV'] = \"\"\n",
    "df['in_PODorPOUSite'] = \"POD\"\n",
    "df['in_SiteName'] = dfinPOD['DITCH_NAME'].str.title()\n",
    "df['in_SiteNativeID'] = \"POD\" + dfinPOD['PODV_ID_SE'].replace(\"\", 0).fillna(0).astype(int).astype(str)\n",
    "df['in_SitePoint'] = \"\"\n",
    "df['in_SiteTypeCV'] = dfinPOD['MEANS_OF_D'].str.title()\n",
    "df['in_StateCV'] = \"MT\"\n",
    "df['in_USGSSiteID'] = \"\"\n",
    "\n",
    "# AllocationAmount Info\n",
    "df['in_AllocationApplicationDate'] = \"\"\n",
    "df['in_AllocationAssociatedConsumptiveUseSiteIDs'] = \"\"\n",
    "df['in_AllocationAssociatedWithdrawalSiteIDs'] = \"\"\n",
    "df['in_AllocationBasisCV'] = \"\"\n",
    "df['in_AllocationChangeApplicationIndicator'] = \"\"\n",
    "df['in_AllocationCommunityWaterSupplySystem'] = \"\"\n",
    "df['in_AllocationCropDutyAmount'] = \"\"\n",
    "df['in_AllocationExpirationDate'] = \"\"\n",
    "df['in_AllocationFlow_CFS'] = dfinPOD['FLW_RT_CFS'].astype(float)\n",
    "df['in_AllocationLegalStatusCV'] = dfinPOD['WR_STATUS'].str.title()\n",
    "df['in_AllocationNativeID'] =  dfinPOD['WR_NUMBER'].replace(\"\", 0).fillna(0).astype(str)\n",
    "df['in_AllocationOwner'] = dfinPOD['ALL_OWNERS']\n",
    "df['in_AllocationPriorityDate'] = dfinPOD['ENF_PRIORI']\n",
    "df['in_AllocationSDWISIdentifierCV'] = \"\"\n",
    "df['in_AllocationTimeframeEnd'] = dfinPOD['PER_DIV_EN']\n",
    "df['in_AllocationTimeframeStart'] = dfinPOD['PER_DIV_BG']\n",
    "df['in_AllocationTypeCV'] = dfinPOD['WR_TYPE']\n",
    "df['in_AllocationVolume_AF'] = dfinPOD['VOLUME']\n",
    "df['in_BeneficialUseCategory'] = dfinPOD['PURPOSES'].str.replace(\"; \", \",\").str.replace(\", \", \",\").str.title()\n",
    "df['in_CommunityWaterSupplySystem'] = \"\"\n",
    "df['in_CropTypeCV'] = \"\"\n",
    "df['in_CustomerTypeCV'] = \"\"\n",
    "df['in_DataPublicationDate'] = \"\"\n",
    "df['in_DataPublicationDOI'] = \"\"\n",
    "df['in_ExemptOfVolumeFlowPriority'] = 0\n",
    "df['in_GeneratedPowerCapacityMW'] = \"\"\n",
    "df['in_IrrigatedAcreage'] = dfinPOD['MAX_ACRES']\n",
    "df['in_IrrigationMethodCV'] = \"\"\n",
    "df['in_LegacyAllocationIDs'] = \"\"\n",
    "df['in_OwnerClassificationCV'] = \"\"\n",
    "df['in_PopulationServed'] = \"\"\n",
    "df['in_PowerType'] = \"\"\n",
    "df['in_PrimaryBeneficialUseCategory'] = \"\"\n",
    "df['in_SDWISIdentifierCV'] = \"\"\n",
    "df['in_WaterAllocationNativeURL'] = dfinPOD['in_WaterAllocationNativeURL']\n",
    "\n",
    "outPOD = df.copy()\n",
    "outPOD = outPOD.drop_duplicates().reset_index(drop=True)\n",
    "print(len(outPOD))\n",
    "outPOD.head()"
   ]
  },
  {
   "cell_type": "markdown",
   "metadata": {},
   "source": [
    "## PoU Water Budget Data"
   ]
  },
  {
   "cell_type": "code",
   "execution_count": null,
   "metadata": {},
   "outputs": [],
   "source": [
    "# Input File\n",
    "fileInput = \"WaDE_PoUs_input.zip\"\n",
    "dfinPOU = pd.read_csv(fileInput)\n",
    "\n",
    "# WaDE UUID tracker for data assessment\n",
    "if 'WaDEUUID' not in dfinPOU:\n",
    "    dfinPOU['WaDEUUID'] = \"mtU\" + dfinPOU.index.astype(str)\n",
    "    dfinPOU.to_csv('WaDE_PoUs_input.zip', compression=dict(method='zip', archive_name='WaDE_PoUs_input.csv'), index=False)\n",
    "\n",
    "print(len(dfinPOU))\n",
    "dfinPOU.head()"
   ]
  },
  {
   "cell_type": "code",
   "execution_count": null,
   "metadata": {},
   "outputs": [],
   "source": [
    "def createNativeLandingURLMTFunct(xVal):\n",
    "    # convert to list\n",
    "    xList = xVal.split(' ')\n",
    "    \n",
    "    # add '20' value to 2nd & 3rd positoin\n",
    "    try:\n",
    "        xList[1] = \"20\" + xList[1]\n",
    "        xList[2] = \"20\" + xList[2]\n",
    "        outVal = ' '.join(xList).replace(' ', '%')\n",
    "    except:\n",
    "        outVal = ' '.join(xList).replace(' ', '%')\n",
    "    \n",
    "    # concatenate with url\n",
    "    outstring = \"http://wrqs.dnrc.mt.gov/ResultsWS.aspx?search=simple&index=8&wrnumber=\" + outVal + \"&status=ACTV!SEVR\"\n",
    "    \n",
    "    return outstring\n",
    "\n",
    "dfinPOU['in_WaterAllocationNativeURL'] = dfinPOU.apply(lambda row: createNativeLandingURLMTFunct(row['WRNUMBER']), axis=1)\n",
    "dfinPOU['in_WaterAllocationNativeURL'].unique()"
   ]
  },
  {
   "cell_type": "code",
   "execution_count": null,
   "metadata": {},
   "outputs": [],
   "source": [
    "# create output POD dataframe\n",
    "df = pd.DataFrame()\n",
    "\n",
    "# Data Assessment UUID\n",
    "df['WaDEUUID'] = dfinPOU['WaDEUUID']\n",
    "\n",
    "# Method Info\n",
    "df['in_MethodUUID'] = \"MTwr_M1\"\n",
    "\n",
    "# Variable Info\n",
    "df['in_VariableSpecificUUID'] = \"MTwr_V1\"\n",
    "\n",
    "# Organization Info\n",
    "df['in_OrganizationUUID'] = \"MTwr_O1\"\n",
    "\n",
    "# WaterSource Info\n",
    "df['in_Geometry'] = \"\"\n",
    "df['in_GNISFeatureNameCV'] = \"\"\n",
    "df['in_WaterQualityIndicatorCV'] = \"\"\n",
    "df['in_WaterSourceName'] = dfinPOU['SOURC_NAME'].str.title()\n",
    "df['in_WaterSourceNativeID'] = \"\" #auto fill in below\n",
    "df['in_WaterSourceTypeCV'] = dfinPOU['SRCTYPE']\n",
    "\n",
    "# Site Info\n",
    "df['in_CoordinateAccuracy'] = \"WaDE Unspecified\"\n",
    "df['in_CoordinateMethodCV'] = \"Centroid of Area\"\n",
    "df['in_County'] = dfinPOU['COUNTY']\n",
    "df['in_EPSGCodeCV'] = 4326\n",
    "df['in_Geometry'] = \"\"\n",
    "df['in_GNISCodeCV'] = \"\"\n",
    "df['in_HUC12'] = \"\"\n",
    "df['in_HUC8'] = \"\"\n",
    "df['in_Latitude'] = dfinPOU['Latitdue']\n",
    "df['in_Longitude'] = dfinPOU['Longitdue']\n",
    "df['in_NHDNetworkStatusCV'] = \"\"\n",
    "df['in_NHDProductCV'] = \"\"\n",
    "df['in_PODorPOUSite'] = \"POU\"\n",
    "df['in_SiteName'] = \"WaDE Unspecified\"\n",
    "df['in_SiteNativeID'] = \"POU\" + dfinPOU['OBJECTID'].replace(\"\", 0).fillna(0).astype(int).astype(str)\n",
    "df['in_SitePoint'] = \"\"\n",
    "df['in_SiteTypeCV'] =  \"WaDE Unspecified\"\n",
    "df['in_StateCV'] = \"MT\"\n",
    "df['in_USGSSiteID'] = \"\"\n",
    "\n",
    "# AllocationAmount Info\n",
    "df['in_AllocationApplicationDate'] = \"\"\n",
    "df['in_AllocationAssociatedConsumptiveUseSiteIDs'] = \"\"\n",
    "df['in_AllocationAssociatedWithdrawalSiteIDs'] = \"\"\n",
    "df['in_AllocationBasisCV'] = \"\"\n",
    "df['in_AllocationChangeApplicationIndicator'] = \"\"\n",
    "df['in_AllocationCommunityWaterSupplySystem'] = \"\"\n",
    "df['in_AllocationCropDutyAmount'] = \"\"\n",
    "df['in_AllocationExpirationDate'] = \"\"\n",
    "df['in_AllocationFlow_CFS'] = dfinPOU['FLW_RT_CFS'].astype(float)\n",
    "df['in_AllocationLegalStatusCV'] = dfinPOU['STATUS'].str.title()\n",
    "df['in_AllocationNativeID'] =  dfinPOU['WRNUMBER'].replace(\"\", 0).fillna(0).astype(str)\n",
    "df['in_AllocationOwner'] = dfinPOU['ALL_OWNERS'].str.title()\n",
    "df['in_AllocationPriorityDate'] = dfinPOU['ENF_PRIORI']\n",
    "df['in_AllocationSDWISIdentifierCV'] = \"\"\n",
    "df['in_AllocationTimeframeEnd'] = dfinPOU['PER_USE_EN']\n",
    "df['in_AllocationTimeframeStart'] = dfinPOU['PER_USE_BG']\n",
    "df['in_AllocationTypeCV'] = dfinPOU['WRTYPE'].str.title()\n",
    "df['in_AllocationVolume_AF'] = dfinPOU['VOLUME']\n",
    "df['in_BeneficialUseCategory'] = dfinPOU['PURPOSE'].str.replace(\"; \", \",\").str.replace(\", \", \",\").str.title()\n",
    "df['in_CommunityWaterSupplySystem'] = \"\"\n",
    "df['in_CropTypeCV'] = \"\"\n",
    "df['in_CustomerTypeCV'] = \"\"\n",
    "df['in_DataPublicationDate'] = \"\"\n",
    "df['in_DataPublicationDOI'] = \"\"\n",
    "df['in_ExemptOfVolumeFlowPriority'] = 0\n",
    "df['in_GeneratedPowerCapacityMW'] = \"\"\n",
    "df['in_IrrigatedAcreage'] = dfinPOU['MAX_ACRES']\n",
    "df['in_IrrigationMethodCV'] = \"\"\n",
    "df['in_LegacyAllocationIDs'] = \"\"\n",
    "df['in_OwnerClassificationCV'] = \"\"\n",
    "df['in_PopulationServed'] = \"\"\n",
    "df['in_PowerType'] = \"\"\n",
    "df['in_PrimaryBeneficialUseCategory'] = \"\"\n",
    "df['in_SDWISIdentifierCV'] = \"\"\n",
    "df['in_WaterAllocationNativeURL'] = dfinPOU['in_WaterAllocationNativeURL']\n",
    "\n",
    "outPOU = df.copy()\n",
    "outPOU = outPOU.drop_duplicates().reset_index(drop=True)\n",
    "print(len(outPOU))\n",
    "outPOU.head()"
   ]
  },
  {
   "cell_type": "markdown",
   "metadata": {},
   "source": [
    "## Concatenate POD and POU\n",
    "## Fix Elements"
   ]
  },
  {
   "cell_type": "code",
   "execution_count": null,
   "metadata": {},
   "outputs": [],
   "source": [
    "# Merge dataframes\n",
    "frames = [outPOD, outPOU]\n",
    "outdf = pd.concat(frames)\n",
    "outdf = outdf.drop_duplicates().reset_index(drop=True)\n",
    "print(len(outdf))"
   ]
  },
  {
   "cell_type": "code",
   "execution_count": null,
   "metadata": {},
   "outputs": [],
   "source": [
    "# Fixing empty string names\n",
    "\n",
    "def fixEmptyString(val):\n",
    "    if val == \"\" or val == \" \" or val == \"nan\" or pd.isnull(val):\n",
    "        outString = \"WaDE Unspecified\"\n",
    "    else:\n",
    "        outString = val\n",
    "    return outString"
   ]
  },
  {
   "cell_type": "code",
   "execution_count": null,
   "metadata": {},
   "outputs": [],
   "source": [
    "outdf['in_WaterSourceName'] = outdf.apply(lambda row: fixEmptyString(row['in_WaterSourceName']), axis=1)\n",
    "outdf['in_WaterSourceName'].unique()"
   ]
  },
  {
   "cell_type": "code",
   "execution_count": null,
   "metadata": {},
   "outputs": [],
   "source": [
    "outdf['in_SiteTypeCV'] = outdf.apply(lambda row: fixEmptyString(row['in_SiteTypeCV']), axis=1)\n",
    "outdf['in_SiteTypeCV'].unique()"
   ]
  },
  {
   "cell_type": "code",
   "execution_count": null,
   "metadata": {},
   "outputs": [],
   "source": [
    "outdf['in_AllocationTypeCV'] = outdf.apply(lambda row: fixEmptyString(row['in_AllocationTypeCV']), axis=1)\n",
    "outdf['in_AllocationTypeCV'].unique()"
   ]
  },
  {
   "cell_type": "code",
   "execution_count": null,
   "metadata": {},
   "outputs": [],
   "source": [
    "outdf['in_AllocationLegalStatusCV'] = outdf.apply(lambda row: fixEmptyString(row['in_AllocationLegalStatusCV']), axis=1)\n",
    "outdf['in_AllocationLegalStatusCV'].unique()"
   ]
  },
  {
   "cell_type": "code",
   "execution_count": null,
   "metadata": {},
   "outputs": [],
   "source": [
    "outdf['in_AllocationOwner'] = outdf.apply(lambda row: fixEmptyString(row['in_AllocationOwner']), axis=1)\n",
    "outdf['in_AllocationOwner'].unique()"
   ]
  },
  {
   "cell_type": "code",
   "execution_count": null,
   "metadata": {},
   "outputs": [],
   "source": [
    "outdf['in_BeneficialUseCategory'] = outdf.apply(lambda row: fixEmptyString(row['in_BeneficialUseCategory']), axis=1)\n",
    "outdf['in_BeneficialUseCategory'].unique()"
   ]
  },
  {
   "cell_type": "code",
   "execution_count": null,
   "metadata": {},
   "outputs": [],
   "source": [
    "# in_Latitude & in_Longitude\n",
    "outdf['in_Latitude'] = pd.to_numeric(outdf['in_Latitude'], errors='coerce').fillna(0)\n",
    "outdf['in_Longitude'] = pd.to_numeric(outdf['in_Longitude'], errors='coerce').fillna(0)\n",
    "outdf.head(1)"
   ]
  },
  {
   "cell_type": "code",
   "execution_count": null,
   "metadata": {},
   "outputs": [],
   "source": [
    "#Update datatype of Priority Date to fit WaDE 2.0 structure\n",
    "outdf['in_AllocationPriorityDate'] = pd.to_datetime(outdf['in_AllocationPriorityDate'])\n",
    "outdf['in_AllocationPriorityDate'] = pd.to_datetime(outdf['in_AllocationPriorityDate'].dt.strftime('%m/%d/%Y'))\n",
    "outdf['in_AllocationPriorityDate'].unique()"
   ]
  },
  {
   "cell_type": "code",
   "execution_count": null,
   "metadata": {},
   "outputs": [],
   "source": [
    "# Fixing in_AllocationFlow_CFS datatype\n",
    "outdf['in_AllocationFlow_CFS'] = pd.to_numeric(outdf['in_AllocationFlow_CFS'], errors='coerce').fillna(0)\n",
    "outdf['in_AllocationFlow_CFS'].unique()"
   ]
  },
  {
   "cell_type": "code",
   "execution_count": null,
   "metadata": {},
   "outputs": [],
   "source": [
    "# Fixing in_AllocationVolume_AF datatype\n",
    "outdf['in_AllocationVolume_AF'] = pd.to_numeric(outdf['in_AllocationVolume_AF'], errors='coerce').fillna(0)\n",
    "outdf['in_AllocationVolume_AF'].unique()"
   ]
  },
  {
   "cell_type": "code",
   "execution_count": null,
   "metadata": {},
   "outputs": [],
   "source": [
    "# Fixing in_IrrigatedAcreage datatype\n",
    "outdf['in_IrrigatedAcreage'] = pd.to_numeric(outdf['in_IrrigatedAcreage'], errors='coerce').fillna(0)\n",
    "outdf['in_IrrigatedAcreage'].unique()"
   ]
  },
  {
   "cell_type": "code",
   "execution_count": null,
   "metadata": {},
   "outputs": [],
   "source": [
    "# fix WaterSourceTypeCV\n",
    "# use WaDE specific terms only\n",
    "\n",
    "waterSourceTypeDict = {\n",
    "\"SURFACE\" : \"Surface Water\",\n",
    "\"GROUNDWATER\" : \"Groundwater\",\n",
    "\"ALL NATURALLY OCCURING WATER\" : \"Surface Water\"\n",
    "}\n",
    "\n",
    "def fixWaterSourceTypeCV(val):\n",
    "    if val == \"\" or pd.isnull(val):\n",
    "        outString = \"WaDE Unspecified\"\n",
    "    else:\n",
    "        String1 = val.strip()\n",
    "        try:\n",
    "            outString = waterSourceTypeDict[String1]\n",
    "        except:\n",
    "            outString = \"WaDE Unspecified\"\n",
    "    return outString\n",
    "\n",
    "outdf['in_WaterSourceTypeCV'] = outdf.apply(lambda row: fixWaterSourceTypeCV(row['in_WaterSourceTypeCV']), axis=1)\n",
    "outdf['in_WaterSourceTypeCV'].unique()"
   ]
  },
  {
   "cell_type": "code",
   "execution_count": null,
   "metadata": {},
   "outputs": [],
   "source": [
    "# Creating TimeframeStart & TimeframeEnd\n",
    "# Spliting string, returning WaDE friendly format.\n",
    "\n",
    "MonthNumbDict = {\n",
    "\"Jan\" : \"01\",\n",
    "\"Feb\" : \"02\",\n",
    "\"Mar\" : \"03\",\n",
    "\"May\" : \"04\",\n",
    "\"Apr\" : \"05\",\n",
    "\"Jun\" : \"06\",\n",
    "\"Jul\" : \"07\",\n",
    "\"Aug\" : \"08\",\n",
    "\"Sep\" : \"09\",\n",
    "\"Oct\" : \"10\",\n",
    "\"Nov\" : \"11\",\n",
    "\"Dec\" : \"12\"}\n",
    "\n",
    "def createTimeframe(ColRowVal):\n",
    "    val = str(ColRowVal)\n",
    "    day = val.split('-')[0]\n",
    "    try:\n",
    "        month = val.split('-')[1]\n",
    "        month = MonthNumbDict[month] + \"/\"\n",
    "    except:\n",
    "        day = \"\"\n",
    "        month = \"\"\n",
    "    outlist = month + day\n",
    "    return outlist\n",
    "\n",
    "outdf['in_AllocationTimeframeEnd'] = outdf.apply(lambda row: createTimeframe(row['in_AllocationTimeframeEnd']), axis=1)\n",
    "outdf['in_AllocationTimeframeStart'] = outdf.apply(lambda row: createTimeframe(row['in_AllocationTimeframeStart']), axis=1)\n",
    "\n",
    "outdf['in_AllocationTimeframeEnd'].unique()\n",
    "outdf['in_AllocationTimeframeStart'].unique()"
   ]
  },
  {
   "cell_type": "code",
   "execution_count": null,
   "metadata": {},
   "outputs": [],
   "source": [
    "# Creating WaDE Custom water source native ID for easy water source identification\n",
    "# ----------------------------------------------------------------------------------------------------\n",
    "\n",
    "# Create temp WaterSourceNativeID dataframe of unique water source.\n",
    "def assignWaterSourceNativeID(colrowValue):\n",
    "    string1 = str(colrowValue)\n",
    "    outstring = \"wadeID\" + string1\n",
    "    return outstring\n",
    "\n",
    "dfWaterSourceNativeID = pd.DataFrame()\n",
    "dfWaterSourceNativeID['in_WaterSourceName'] = outdf['in_WaterSourceName']\n",
    "dfWaterSourceNativeID['in_WaterSourceTypeCV'] = outdf['in_WaterSourceTypeCV']\n",
    "dfWaterSourceNativeID = dfWaterSourceNativeID.drop_duplicates()\n",
    "\n",
    "dftemp = pd.DataFrame(index=dfWaterSourceNativeID.index)\n",
    "dftemp[\"Count\"] = range(1, len(dftemp.index) + 1)\n",
    "dfWaterSourceNativeID['in_WaterSourceNativeID'] = dftemp.apply(lambda row: assignWaterSourceNativeID(row['Count']), axis=1)\n",
    "\n",
    "# ----------------------------------------------------------------------------------------------------\n",
    "\n",
    "# Retreive WaDE Custom water source native ID\n",
    "def retrieveWaterSourceNativeID(A, B):\n",
    "    if (A == '' and B == '') or (pd.isnull(A) and pd.isnull(B)):\n",
    "        outList = ''\n",
    "    else:\n",
    "        ml = dfWaterSourceNativeID.loc[(dfWaterSourceNativeID['in_WaterSourceName'] == A) & \n",
    "                                       (dfWaterSourceNativeID['in_WaterSourceTypeCV'] == B), 'in_WaterSourceNativeID']\n",
    "        if not (ml.empty):  # check if the series is empty\n",
    "            outList = ml.iloc[0]\n",
    "        else:\n",
    "            outList = ''\n",
    "    return outList\n",
    "\n",
    "outdf['in_WaterSourceNativeID'] = outdf.apply(lambda row: retrieveWaterSourceNativeID( row['in_WaterSourceName'], row['in_WaterSourceTypeCV']), axis=1)\n",
    "outdf['in_WaterSourceNativeID'].unique()"
   ]
  },
  {
   "cell_type": "markdown",
   "metadata": {},
   "source": [
    "## Shapefile Data\n",
    "- For attaching gemetry to POU csv inputs."
   ]
  },
  {
   "cell_type": "code",
   "execution_count": null,
   "metadata": {},
   "outputs": [],
   "source": [
    "# PoU Shapefile Data\n",
    "# Shapefile input\n",
    "dfPoUshapetemp = gpd.read_file('PoUShp/MT_PoU2.shp')\n",
    "dfPoUshapetemp.head(3)"
   ]
  },
  {
   "cell_type": "code",
   "execution_count": null,
   "metadata": {},
   "outputs": [],
   "source": [
    "columnsList = ['in_SiteNativeID', 'geometry']\n",
    "dfPoUshape = pd.DataFrame(columns=columnsList)\n",
    "dfPoUshape['in_SiteNativeID'] = \"POU\" + dfPoUshapetemp['OBJECTID'].replace(\"\", 0).fillna(0).astype(int).astype(str)\n",
    "dfPoUshape['geometry'] = dfPoUshapetemp['geometry']\n",
    "dfPoUshape = dfPoUshape.drop_duplicates(subset=None, keep='first', inplace=False, ignore_index=False)\n",
    "dfPoUshape.head(3)"
   ]
  },
  {
   "cell_type": "markdown",
   "metadata": {},
   "source": [
    "## Export Data"
   ]
  },
  {
   "cell_type": "code",
   "execution_count": null,
   "metadata": {},
   "outputs": [],
   "source": [
    "outdf.info()"
   ]
  },
  {
   "cell_type": "code",
   "execution_count": null,
   "metadata": {},
   "outputs": [],
   "source": [
    "outdf"
   ]
  },
  {
   "cell_type": "code",
   "execution_count": null,
   "metadata": {},
   "outputs": [],
   "source": [
    "# Export the output dataframe\n",
    "outdf.to_csv('Pwr_mtMain.zip', index=False, compression=\"zip\")  # The output, save as a zip\n",
    "dfPoUshape.to_csv('P_Geometry.zip', compression=dict(method='zip', archive_name='P_Geometry.csv'), index=False)  # The output geometry."
   ]
  },
  {
   "cell_type": "code",
   "execution_count": null,
   "metadata": {},
   "outputs": [],
   "source": []
  }
 ],
 "metadata": {
  "kernelspec": {
   "display_name": "Python 3 (ipykernel)",
   "language": "python",
   "name": "python3"
  },
  "language_info": {
   "codemirror_mode": {
    "name": "ipython",
    "version": 3
   },
   "file_extension": ".py",
   "mimetype": "text/x-python",
   "name": "python",
   "nbconvert_exporter": "python",
   "pygments_lexer": "ipython3",
   "version": "3.9.16"
  }
 },
 "nbformat": 4,
 "nbformat_minor": 2
}
