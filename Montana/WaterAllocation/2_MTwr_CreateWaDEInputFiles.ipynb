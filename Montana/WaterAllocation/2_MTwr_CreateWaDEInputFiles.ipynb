{
 "cells": [
  {
   "cell_type": "markdown",
   "id": "091aecd3",
   "metadata": {},
   "source": [
    "# Create WaDE Uploader csv Files for Water Right Data\n",
    "- Last Updated: 06/23/2023\n",
    "- Purpose: To create necessary processed WaDE Uploader csv files for water right information."
   ]
  },
  {
   "cell_type": "code",
   "execution_count": 1,
   "id": "90b6067a",
   "metadata": {},
   "outputs": [],
   "source": [
    "# Needed Libraries / Modules\n",
    "import sys\n",
    "import os\n",
    "\n",
    "## Custom Libraries\n",
    "sys.path.append(\"../../5_CustomFunctions/MappingFunctions\")\n",
    "import CreateWaterSourcesFile\n",
    "import CreateSitesFile\n",
    "import CreateAllocationsAmounts_factsFile\n",
    "import RemoveUnusedRecordsFile\n",
    "import CreatePODSiteToPOUSiteRelationshipsFile\n",
    "import JoinOverlayToSiteFile\n",
    "import AddCountyHUC8HUC12File"
   ]
  },
  {
   "cell_type": "markdown",
   "id": "22229554",
   "metadata": {},
   "source": [
    "## Input Data (make changes here)\n",
    " - create and add variables specific to this proejct here"
   ]
  },
  {
   "cell_type": "code",
   "execution_count": 2,
   "id": "da2aba5f",
   "metadata": {},
   "outputs": [
    {
     "name": "stdout",
     "output_type": "stream",
     "text": [
      "The working Directory is: G:/Shared drives/WaDE Data/WaDE Data Folder/Montana/WaterAllocation\n"
     ]
    }
   ],
   "source": [
    "# ---- Inputs ----\n",
    "varST = \"MT\" # source organization or state abbreviation\n",
    "varUUIDType = \"wr\" # UUID data type abbreviation\n",
    "mainInputFile = \"Pwr_Main.zip\" # use processed zip file\n",
    "\n",
    "# ---- working directory ----\n",
    "workingDirString = \"G:/Shared drives/WaDE Data/WaDE Data Folder/Montana/WaterAllocation\"  # set working directory folder string here\n",
    "os.chdir(workingDirString)\n",
    "print(f'The working Directory is:', workingDirString)"
   ]
  },
  {
   "cell_type": "markdown",
   "id": "9ca3ea3e",
   "metadata": {},
   "source": [
    "## Create Water Right Input Files"
   ]
  },
  {
   "cell_type": "code",
   "execution_count": 3,
   "id": "f373f87f",
   "metadata": {},
   "outputs": [],
   "source": [
    "# ---- Method (methods.csv) ----\n",
    "# Simple info, create by hand and save in ProcessedInputData folder."
   ]
  },
  {
   "cell_type": "code",
   "execution_count": 4,
   "id": "d0292a0b",
   "metadata": {},
   "outputs": [],
   "source": [
    "# ---- Variable (variables.csv) ----\n",
    "# Simple info, create by hand and save in ProcessedInputData folder."
   ]
  },
  {
   "cell_type": "code",
   "execution_count": 5,
   "id": "de98ab0f",
   "metadata": {},
   "outputs": [],
   "source": [
    "# ---- Organization (organizations.csv) ----\n",
    "# Simple info, create by hand and save in ProcessedInputData folder."
   ]
  },
  {
   "cell_type": "code",
   "execution_count": 6,
   "id": "a96f088b",
   "metadata": {},
   "outputs": [
    {
     "name": "stdout",
     "output_type": "stream",
     "text": [
      "Creating Water Sources input csv...\n",
      "############################################################################\n",
      "Reading input csv...\n"
     ]
    },
    {
     "name": "stderr",
     "output_type": "stream",
     "text": [
      "C:\\Users\\rjame\\Documents\\WSWC Documents\\MappingStatesDataToWaDE2.0\\Montana\\WaterAllocation\\../../5_CustomFunctions/MappingFunctions\\CreateWaterSourcesFile.py:40: DtypeWarning: Columns (5,24,39,54) have mixed types. Specify dtype option on import or set low_memory=False.\n",
      "  df = pd.read_csv(fileInput, compression='zip')\n"
     ]
    },
    {
     "name": "stdout",
     "output_type": "stream",
     "text": [
      "Populating dataframe...\n",
      "Geometry\n",
      "GNISFeatureNameCV\n",
      "WaterQualityIndicatorCV\n",
      "WaterSourceName\n",
      "WaterSourceNativeID\n",
      "WaterSourceTypeCV\n",
      "Adding Data Assessment UUID\n",
      "Resetting Index\n",
      "GroupBy outdf duplicates based on key fields...\n",
      "Error checking each field. Purging bad inputs.\n",
      "Length of outdf DataFrame:  19952\n",
      "Length of dfpurge DataFrame:  0\n",
      "Assign WaterSourceUUID\n",
      "Cleaning export for correct data types...\n",
      "Exporting dataframe...\n",
      "Done\n"
     ]
    }
   ],
   "source": [
    "# ---- Water Sources (watersources.csv) ----\n",
    "print(\"Creating Water Sources input csv...\")\n",
    "print(\"############################################################################\")\n",
    "CreateWaterSourcesFile.CreateWaterSourcesInputFunction(workingDirString, varST, varUUIDType, mainInputFile)"
   ]
  },
  {
   "cell_type": "code",
   "execution_count": 7,
   "id": "b6494c99",
   "metadata": {},
   "outputs": [
    {
     "name": "stdout",
     "output_type": "stream",
     "text": [
      "Creating Sites input csv...\n",
      "############################################################################\n",
      "Reading input csv...\n"
     ]
    },
    {
     "name": "stderr",
     "output_type": "stream",
     "text": [
      "C:\\Users\\rjame\\Documents\\WSWC Documents\\MappingStatesDataToWaDE2.0\\Montana\\WaterAllocation\\../../5_CustomFunctions/MappingFunctions\\CreateSitesFile.py:41: DtypeWarning: Columns (5,24,39,54) have mixed types. Specify dtype option on import or set low_memory=False.\n",
      "  df = pd.read_csv(fileInput, compression='zip')\n"
     ]
    },
    {
     "name": "stdout",
     "output_type": "stream",
     "text": [
      "Populating dataframe...\n",
      "WaterSourceUUIDs\n",
      "RegulatoryOverlayUUIDs\n",
      "CoordinateAccuracy\n",
      "CoordinateMethodCV\n",
      "County\n",
      "EPSGCodeCV\n",
      "Geometry\n",
      "GNISCodeCV\n",
      "HUC12\n",
      "HUC8\n",
      "Latitude\n",
      "Longitude\n",
      "NHDNetworkStatusCV\n",
      "NHDProductCV\n",
      "PODorPOUSite\n",
      "SiteName\n",
      "SiteNativeID\n",
      "SitePoint\n",
      "SiteTypeCV\n",
      "StateCV\n",
      "USGSSiteID\n",
      "Adding Data Assessment UUID\n",
      "Resetting Index\n",
      "GroupBy outdf duplicates based on key fields...\n",
      "Error checking each field. Purging bad inputs.\n",
      "Length of outdf DataFrame:  1442389\n",
      "Length of dfpurge DataFrame:  5342\n",
      "Assign SiteUUID\n",
      "Cleaning export for correct data types...\n",
      "Exporting dataframe...\n",
      "... 5342  records removed.\n",
      "Done\n"
     ]
    }
   ],
   "source": [
    "# ---- Sites (sites.csv) ----\n",
    "print(\"Creating Sites input csv...\")\n",
    "print(\"############################################################################\")\n",
    "CreateSitesFile.CreateSitesInputFunction(workingDirString, varST, varUUIDType, mainInputFile)"
   ]
  },
  {
   "cell_type": "code",
   "execution_count": 8,
   "id": "ffb1f358",
   "metadata": {
    "scrolled": true
   },
   "outputs": [
    {
     "name": "stdout",
     "output_type": "stream",
     "text": [
      "Creating AllocationsAmounts_facts input csv...\n",
      "############################################################################\n",
      "Reading input csv...\n"
     ]
    },
    {
     "name": "stderr",
     "output_type": "stream",
     "text": [
      "C:\\Users\\rjame\\Documents\\WSWC Documents\\MappingStatesDataToWaDE2.0\\Montana\\WaterAllocation\\../../5_CustomFunctions/MappingFunctions\\CreateAllocationsAmounts_factsFile.py:51: DtypeWarning: Columns (5,24,39,54) have mixed types. Specify dtype option on import or set low_memory=False.\n",
      "  df = pd.read_csv(fileInput, compression='zip')\n",
      "C:\\Users\\rjame\\Documents\\WSWC Documents\\MappingStatesDataToWaDE2.0\\Montana\\WaterAllocation\\../../5_CustomFunctions/MappingFunctions\\CreateAllocationsAmounts_factsFile.py:55: DtypeWarning: Columns (7) have mixed types. Specify dtype option on import or set low_memory=False.\n",
      "  dfs = pd.read_csv(\"ProcessedInputData/sites.csv\").replace(np.nan, \"\")\n"
     ]
    },
    {
     "name": "stdout",
     "output_type": "stream",
     "text": [
      "Populating dataframe outdf...\n",
      "MethodUUID\n",
      "OrganizationUUID\n",
      "SiteUUID\n",
      "VariableSpecificUUID\n",
      "AllocationApplicationDate\n",
      "AllocationAssociatedConsumptiveUseSiteIDs\n",
      "AllocationAssociatedWithdrawalSiteIDs\n",
      "AllocationBasisCV\n",
      "AllocationChangeApplicationIndicator\n",
      "AllocationCommunityWaterSupplySystem\n",
      "AllocationCropDutyAmount\n",
      "AllocationExpirationDate\n",
      "AllocationFlow_CFS\n",
      "AllocationLegalStatusCV\n",
      "AllocationNativeID\n",
      "AllocationOwner\n",
      "AllocationPriorityDate\n",
      "AllocationSDWISIdentifierCV\n",
      "AllocationTimeframeEnd\n",
      "AllocationTimeframeStart\n",
      "AllocationTypeCV\n",
      "AllocationVolume_AF\n",
      "BeneficialUseCategory\n",
      "CommunityWaterSupplySystem\n",
      "CropTypeCV\n",
      "CustomerTypeCV\n",
      "DataPublicationDate\n",
      "DataPublicationDOI\n",
      "ExemptOfVolumeFlowPriority\n",
      "GeneratedPowerCapacityMW\n",
      "IrrigatedAcreage\n",
      "IrrigationMethodCV\n",
      "LegacyAllocationIDs\n",
      "OwnerClassificationCV\n",
      "PopulationServed\n",
      "PowerType\n",
      "PrimaryBeneficialUseCategory\n",
      "WaterAllocationNativeURL\n",
      "Adding Data Assessment UUID\n",
      "Resetting Index\n",
      "GroupBy outdf duplicates based on key fields...\n",
      "Solving WaDE 2.0 upload issues\n",
      "Error checking each field. Purging bad inputs.\n",
      "Length of outdf DataFrame:  355061\n",
      "Length of dfpurge DataFrame:  42014\n",
      "Assign AllocationUUID\n",
      "Cleaning export for correct data types...\n",
      "Exporting dataframe...\n",
      "... 42014  records removed.\n",
      "Done\n"
     ]
    }
   ],
   "source": [
    "# ---- Allocations Amounts (waterallocations.csv) ----\n",
    "print(\"Creating AllocationsAmounts_facts input csv...\")\n",
    "print(\"############################################################################\")\n",
    "CreateAllocationsAmounts_factsFile.CreateAllocationsAmounts_factsInputFunction(workingDirString, varST, varUUIDType, mainInputFile)"
   ]
  },
  {
   "cell_type": "code",
   "execution_count": 9,
   "id": "a769f9b0",
   "metadata": {},
   "outputs": [
    {
     "name": "stdout",
     "output_type": "stream",
     "text": [
      "Remove unused Water Sources and Sites records not found within AllocationsAmounts_facts input csv...\n",
      "############################################################################\n",
      "Reading input csv...\n"
     ]
    },
    {
     "name": "stderr",
     "output_type": "stream",
     "text": [
      "C:\\Users\\rjame\\Documents\\WSWC Documents\\MappingStatesDataToWaDE2.0\\Montana\\WaterAllocation\\../../5_CustomFunctions/MappingFunctions\\RemoveUnusedRecordsFile.py:24: DtypeWarning: Columns (7) have mixed types. Specify dtype option on import or set low_memory=False.\n",
      "  dfs = pd.read_csv(\"ProcessedInputData/sites.csv\").replace(np.nan, \"\")\n"
     ]
    },
    {
     "name": "stdout",
     "output_type": "stream",
     "text": [
      "Length of dfs before removing sites:  1442389\n",
      "Length of dfs after removing sites:  1230515\n",
      "Length of dfws before removing water sources:  19952\n",
      "Length of dfws after removing water sources:  19545\n",
      "no sa data to work for these wrs\n",
      "Export Files - watersource.csv, watersource_missing.csv, sites.csv, sites_missing.csv, waterallocations.csv, sitespecificamounts.csv\n",
      "Done\n"
     ]
    }
   ],
   "source": [
    "# ---- Remove unused records ----\n",
    "print(\"Remove unused Water Sources and Sites records not found within AllocationsAmounts_facts input csv...\")\n",
    "print(\"############################################################################\")\n",
    "RemoveUnusedRecordsFile.RemoveUnusedAllocationsAmountRecordsFileFunction(workingDirString)"
   ]
  },
  {
   "cell_type": "code",
   "execution_count": 10,
   "id": "777d5d20",
   "metadata": {},
   "outputs": [
    {
     "name": "stdout",
     "output_type": "stream",
     "text": [
      "Creating Pod site -to- Pou site relationships input csv...\n",
      "############################################################################\n",
      "Reading input csv...\n",
      "Populating dataframe...\n",
      "Exporting dataframe outdf to csv...\n",
      "Done\n"
     ]
    }
   ],
   "source": [
    "# ---- Create POD and POU joins (podsitetopousiterelationships.csv) ----\n",
    "print(\"Creating Pod site -to- Pou site relationships input csv...\")\n",
    "print(\"############################################################################\")\n",
    "CreatePODSiteToPOUSiteRelationshipsFile.PODToPOUWaterRightRelationshipsFunction(workingDirString)"
   ]
  },
  {
   "cell_type": "code",
   "execution_count": 11,
   "id": "db0d3804",
   "metadata": {},
   "outputs": [
    {
     "name": "stdout",
     "output_type": "stream",
     "text": [
      "Joining RegulatoryOverlayUUIDs to Sites input csv if exists...\n",
      "############################################################################\n",
      "Checking for available Overlays data / project...\n",
      "- Overlays directory exists\n",
      "Reading input csv(s)...\n"
     ]
    },
    {
     "name": "stderr",
     "output_type": "stream",
     "text": [
      "C:\\Users\\rjame\\Documents\\WSWC Documents\\MappingStatesDataToWaDE2.0\\Montana\\WaterAllocation\\../../5_CustomFunctions/MappingFunctions\\JoinOverlayToSiteFile.py:38: DtypeWarning: Columns (7) have mixed types. Specify dtype option on import or set low_memory=False.\n",
      "  dfs = pd.read_csv('ProcessedInputData/sites.csv')\n"
     ]
    },
    {
     "name": "stdout",
     "output_type": "stream",
     "text": [
      "- Reporting Unit Type(s) in ru: ['Conservation Districts']\n",
      "For Reporting Unit Type = \"Conservation Districts\"...\n",
      "- Water Source Type(s) for Conservation Districts: ['Surface Water']...\n",
      "-- Extracting Water Source Type \"Surface Water\" from sites.csv\n",
      "-- Selecting sites within reporting unit polygon\n",
      "-- Setting RegulatoryOverlayUUIDs in sites.csv.\n",
      "-- Concatenate updated sites.csv to existing file\n",
      "Done\n"
     ]
    }
   ],
   "source": [
    "# ---- Join RegulatoryOverlayUUIDs for Sites (Sites.csv update) ----\n",
    "print(\"Joining RegulatoryOverlayUUIDs to Sites input csv if exists...\")\n",
    "print(\"############################################################################\")\n",
    "JoinOverlayToSiteFile.JoinOverlayToSiteFunction(workingDirString)"
   ]
  },
  {
   "cell_type": "code",
   "execution_count": 12,
   "id": "4fb27c44-f869-4a3f-8ac2-04c51c949769",
   "metadata": {},
   "outputs": [
    {
     "name": "stdout",
     "output_type": "stream",
     "text": [
      "Add misinsg County, HUC8, HUC12 information if mising...\n",
      "############################################################################\n",
      "Checking for available shapefiles data / project...\n",
      "Reading input files(s)...\n"
     ]
    },
    {
     "name": "stderr",
     "output_type": "stream",
     "text": [
      "C:\\Users\\rjame\\Documents\\WSWC Documents\\MappingStatesDataToWaDE2.0\\Montana\\WaterAllocation\\../../5_CustomFunctions/MappingFunctions\\AddCountyHUC8HUC12File.py:34: DtypeWarning: Columns (1,7) have mixed types. Specify dtype option on import or set low_memory=False.\n",
      "  dfs = pd.read_csv('ProcessedInputData/sites.csv')\n"
     ]
    },
    {
     "name": "stdout",
     "output_type": "stream",
     "text": [
      "Checking for missing County information....\n",
      "Checking for missing HUC8 information....\n",
      "Checking for missing HUC12 information....\n",
      "Done\n"
     ]
    }
   ],
   "source": [
    "# ---- Add missing County, HUC8, HUC12 information for Sites (Sites.csv update) ----\n",
    "print(\"Add misinsg County, HUC8, HUC12 information if mising...\")\n",
    "print(\"############################################################################\")\n",
    "AddCountyHUC8HUC12File.AddCountyHUC8HUC12Function(workingDirString)"
   ]
  }
 ],
 "metadata": {
  "kernelspec": {
   "display_name": "Python 3 (ipykernel)",
   "language": "python",
   "name": "python3"
  },
  "language_info": {
   "codemirror_mode": {
    "name": "ipython",
    "version": 3
   },
   "file_extension": ".py",
   "mimetype": "text/x-python",
   "name": "python",
   "nbconvert_exporter": "python",
   "pygments_lexer": "ipython3",
   "version": "3.12.3"
  }
 },
 "nbformat": 4,
 "nbformat_minor": 5
}
