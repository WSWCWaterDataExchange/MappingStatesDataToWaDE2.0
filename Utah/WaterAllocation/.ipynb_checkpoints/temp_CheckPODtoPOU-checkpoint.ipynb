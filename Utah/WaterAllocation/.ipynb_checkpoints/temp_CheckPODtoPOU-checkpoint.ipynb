{
 "cells": [
  {
   "cell_type": "code",
   "execution_count": 1,
   "id": "4171c6c4",
   "metadata": {},
   "outputs": [],
   "source": [
    "import os\n",
    "import numpy as np\n",
    "import pandas as pd\n",
    "import sys\n",
    "import re"
   ]
  },
  {
   "cell_type": "code",
   "execution_count": 2,
   "id": "00505100",
   "metadata": {},
   "outputs": [
    {
     "name": "stdout",
     "output_type": "stream",
     "text": [
      "Reading input csv...\n"
     ]
    }
   ],
   "source": [
    "# Inputs\n",
    "############################################################################\n",
    "print(\"Reading input csv...\")\n",
    "workingDir = \"G:/Shared drives/WaDE Data/Utah/WaterAllocation\"\n",
    "os.chdir(workingDir)"
   ]
  },
  {
   "cell_type": "code",
   "execution_count": null,
   "id": "d0722284",
   "metadata": {},
   "outputs": [],
   "source": [
    "    # Sites\n",
    "    siteColumns = [\"SiteUUID\", \"PODorPOUSite\"]\n",
    "    sitesInput = \"ProcessedInputData/sites.csv\"\n",
    "    dfsites = pd.read_csv(sitesInput, usecols=siteColumns)\n",
    "    dfPOD = dfsites[dfsites['PODorPOUSite'] == \"POD\"].reset_index(drop=True)\n",
    "    dfPOD['PODSiteUUID'] = dfPOD['SiteUUID']\n",
    "    dfPOU = dfsites[dfsites['PODorPOUSite'] == \"POU\"].reset_index(drop=True)\n",
    "    dfPOU['POUSiteUUID'] = dfPOU['SiteUUID']"
   ]
  }
 ],
 "metadata": {
  "kernelspec": {
   "display_name": "Python 3 (ipykernel)",
   "language": "python",
   "name": "python3"
  },
  "language_info": {
   "codemirror_mode": {
    "name": "ipython",
    "version": 3
   },
   "file_extension": ".py",
   "mimetype": "text/x-python",
   "name": "python",
   "nbconvert_exporter": "python",
   "pygments_lexer": "ipython3",
   "version": "3.9.16"
  }
 },
 "nbformat": 4,
 "nbformat_minor": 5
}
