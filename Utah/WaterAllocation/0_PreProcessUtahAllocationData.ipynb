{
 "cells": [
  {
   "cell_type": "markdown",
   "metadata": {},
   "source": [
    "# Pre-processing Utah Allocation data for WaDEQA upload.\n",
    "Date Updated: 03/13/2020\n",
    "Purpose:  To pre-process the Utah data into one master file for simple DataFrame creation and extraction\n",
    "\n",
    "Useful Links to Data:\n",
    "The Utah Division of Water Rights (UTDWR) publishes its water right data on-demand through the PUBDUMP Database table dump Utility available at (Download the WATER_MASTER table) \n",
    "https://www.waterrights.utah.gov/cgi-bin/pubdump.exe?DBNAME=WRDB&SECURITYKEY=wrt2012access\n",
    "\n",
    "Contact infomratoin can be found at:\n",
    "https://www.waterrights.utah.gov/contact.asp"
   ]
  },
  {
   "cell_type": "code",
   "execution_count": 1,
   "metadata": {},
   "outputs": [],
   "source": [
    "#Needed Libararies\n",
    "import os\n",
    "import numpy as np\n",
    "import pandas as pd\n",
    "from datetime import datetime\n",
    "pd.set_option('display.max_columns', 999)  # How to display all columns of a Pandas DataFrame in Jupyter Notebook"
   ]
  },
  {
   "cell_type": "code",
   "execution_count": 2,
   "metadata": {},
   "outputs": [],
   "source": [
    "#Working Directory and Input Files\n",
    "workingDir = \"C:/Users/rjame/Documents/WSWC Documents/MappingStatesDataToWaDE2.0/Utah\\WaterAllocation/RawInputData\"\n",
    "os.chdir(workingDir)\n",
    "FI_Master = \"WRCHEX_WATER_MASTER.csv\"\n",
    "FI_PoD = \"WRCHEX_POINTS_OF_DIVERSION.csv\"\n",
    "FI_Own = \"OWNERS.csv\"\n",
    "FI_Irr = \"IRRIGATION_MASTER.csv\"\n",
    "FI_Mun = \"WTRUSE_MUNICIPAL.csv\"\n",
    "FI_Pow = \"WTRUSE_POWER.csv\""
   ]
  },
  {
   "cell_type": "code",
   "execution_count": 3,
   "metadata": {},
   "outputs": [
    {
     "name": "stderr",
     "output_type": "stream",
     "text": [
      "C:\\Users\\rjame\\Anaconda3\\lib\\site-packages\\IPython\\core\\interactiveshell.py:3063: DtypeWarning: Columns (2,4,5,10,11,12,13,15,17,18,19,20,21,22,24,25,26,27,29,31,32,33,34,35,36,37,38,39,41,42,43,44,45,46,47,48,49,50,51,52,53,54,55,56,57,59,77,79,80,81,82,83,84,85,86,87,88,89,90,91,92,93,95,96,97,98,99,100,101,102,103,104,105,106,107,108,109,111) have mixed types.Specify dtype option on import or set low_memory=False.\n",
      "  interactivity=interactivity, compiler=compiler, result=result)\n",
      "C:\\Users\\rjame\\Anaconda3\\lib\\site-packages\\IPython\\core\\interactiveshell.py:3063: DtypeWarning: Columns (10,11,13,18,19,21,22,28,29) have mixed types.Specify dtype option on import or set low_memory=False.\n",
      "  interactivity=interactivity, compiler=compiler, result=result)\n",
      "C:\\Users\\rjame\\Anaconda3\\lib\\site-packages\\IPython\\core\\interactiveshell.py:3063: DtypeWarning: Columns (24) have mixed types.Specify dtype option on import or set low_memory=False.\n",
      "  interactivity=interactivity, compiler=compiler, result=result)\n",
      "C:\\Users\\rjame\\Anaconda3\\lib\\site-packages\\IPython\\core\\interactiveshell.py:3063: DtypeWarning: Columns (1,2,7,9,10,11) have mixed types.Specify dtype option on import or set low_memory=False.\n",
      "  interactivity=interactivity, compiler=compiler, result=result)\n"
     ]
    }
   ],
   "source": [
    "#Dataframe creation\n",
    "df_MS = pd.read_csv(FI_Master, encoding = \"ISO-8859-1\") #Input\n",
    "df_PoD = pd.read_csv(FI_PoD, encoding = \"ISO-8859-1\") #Input\n",
    "df_Own = pd.read_csv(FI_Own, encoding = \"ISO-8859-1\") #Input\n",
    "df_Irr = pd.read_csv(FI_Irr, encoding = \"ISO-8859-1\") #Input\n",
    "df_Mun = pd.read_csv(FI_Mun, encoding = \"ISO-8859-1\") #Input\n",
    "df_Pow = pd.read_csv(FI_Pow, encoding = \"ISO-8859-1\") #Inpu\n",
    "df = pd.DataFrame() #Output"
   ]
  },
  {
   "cell_type": "code",
   "execution_count": 4,
   "metadata": {
    "scrolled": true
   },
   "outputs": [],
   "source": [
    "#Merging dataframes into one, using left-join.\n",
    "df = pd.merge(df_MS, df_PoD, left_on='WRNUM', right_on='WRCHEX', how='outer') # Joinning PoD data\n",
    "df = pd.merge(df,    df_Own, left_on='WRNUM', right_on='WRCHEX', how='outer') # Joinning Owner data\n",
    "df = pd.merge(df,    df_Irr, left_on='WRNUM', right_on='WRNUM', how='outer') #Joinning Irrigaton data\n",
    "df = pd.merge(df,    df_Mun, left_on='WRNUM', right_on='WRNUM', how='outer')  #Joinning Municipal data\n",
    "df = pd.merge(df,    df_Pow, left_on='WRNUM', right_on='WRNUM', how='outer')  #Joinning Power data"
   ]
  },
  {
   "cell_type": "code",
   "execution_count": 7,
   "metadata": {},
   "outputs": [],
   "source": [
    "#Changing datatype of used date fields. \n",
    "df['DATE_PRIORITY'] = pd.to_datetime(df['DATE_PRIORITY'], errors = 'coerce')\n",
    "df['DATE_PRIORITY'] = pd.to_datetime(df[\"DATE_PRIORITY\"].dt.strftime('%m/%d/%Y'))\n",
    "\n",
    "df['DATE_TERMINATED'] = pd.to_datetime(df['DATE_TERMINATED'], errors = 'coerce')\n",
    "df['DATE_TERMINATED'] = pd.to_datetime(df[\"DATE_TERMINATED\"].dt.strftime('%m/%d/%Y'))"
   ]
  },
  {
   "cell_type": "code",
   "execution_count": null,
   "metadata": {},
   "outputs": [],
   "source": [
    "with pd.option_context('display.max_rows', None, 'display.max_columns', None):\n",
    "    print(df.dtypes)"
   ]
  },
  {
   "cell_type": "code",
   "execution_count": 8,
   "metadata": {},
   "outputs": [],
   "source": [
    "#Making Sure datatype of Long, Lat, Wrex, Irrigation are Float\n",
    "df['X_UTM'] = pd.to_numeric(df['X_UTM'], errors='coerce')\n",
    "df['Y_UTM'] = pd.to_numeric(df['Y_UTM'], errors='coerce')\n",
    "df['WREX_CFS'] = pd.to_numeric(df['WREX_CFS'], errors='coerce')\n",
    "df['WREX_ACFT'] = pd.to_numeric(df['WREX_ACFT'], errors='coerce')\n",
    "df['IRRIGATION_DEPLETION'] = pd.to_numeric(df['IRRIGATION_DEPLETION'], errors='coerce')\n",
    "df['IRRIGATION_ACREAGE'] = pd.to_numeric(df['IRRIGATION_ACREAGE'], errors='coerce')"
   ]
  },
  {
   "cell_type": "code",
   "execution_count": 9,
   "metadata": {},
   "outputs": [
    {
     "name": "stderr",
     "output_type": "stream",
     "text": [
      "C:\\Users\\rjame\\Anaconda3\\lib\\site-packages\\pandas\\core\\ops\\array_ops.py:253: FutureWarning: elementwise comparison failed; returning scalar instead, but in the future will perform elementwise comparison\n",
      "  res_values = method(rvalues)\n"
     ]
    }
   ],
   "source": [
    "#Removing Empty Y_UTM and X_UTM rows.\n",
    "dropIndex = df.loc[(df['X_UTM'].isnull()) | (df['X_UTM'] == '') |\n",
    "                      (df['Y_UTM'].isnull()) | (df['Y_UTM'] == '')].index\n",
    "if len(dropIndex) > 0:\n",
    "    df = df.drop(dropIndex)\n",
    "    df = df.reset_index(drop=True)"
   ]
  },
  {
   "cell_type": "code",
   "execution_count": 10,
   "metadata": {},
   "outputs": [],
   "source": [
    "#Removing empty DATE_PRIORITY fields.\n",
    "dropIndex = df.loc[(df['DATE_PRIORITY'].isnull()) | (df['DATE_PRIORITY'] == '')].index\n",
    "\n",
    "if len(dropIndex) > 0:\n",
    "    df = df.drop(dropIndex)\n",
    "    df = df.reset_index(drop=True)"
   ]
  },
  {
   "cell_type": "code",
   "execution_count": 11,
   "metadata": {},
   "outputs": [],
   "source": [
    "#Removing empty AllocationAmount and AllocationMaxium fields.\n",
    "dropIndex = df.loc[((df['WREX_CFS'].isnull()) | (df['WREX_CFS'] == '')) &\n",
    "                   ((df['WREX_ACFT'].isnull()) | (df['WREX_ACFT'] == ''))].index\n",
    "\n",
    "if len(dropIndex) > 0:\n",
    "    df = df.drop(dropIndex)\n",
    "    df = df.reset_index(drop=True)"
   ]
  },
  {
   "cell_type": "code",
   "execution_count": 13,
   "metadata": {
    "scrolled": false
   },
   "outputs": [],
   "source": [
    "#Compiling 'AllocationTimeframeStart' & 'AllocationTimeframeEnd'\n",
    "#Both can have a string format for WaDE 2.0.\n",
    "    \n",
    "def assignTime(colrowValue):\n",
    "    if colrowValue == \"\" or pd.isnull(colrowValue):\n",
    "        outlist = \"\"\n",
    "    else:\n",
    "        colrowValue = str(colrowValue)\n",
    "        colrowValue = colrowValue.strip()\n",
    "        if len(colrowValue) == 4:\n",
    "            startmonth = colrowValue[0:1]\n",
    "            startday = colrowValue[1:2]\n",
    "            outlist = \"0\" + startmonth + \"/\" + \"0\" + startday\n",
    "        elif len(colrowValue) == 5:\n",
    "            startmonth = colrowValue[0:1]\n",
    "            startday = colrowValue[1:3]\n",
    "            outlist = \"0\" + startmonth + \"/\" + startday\n",
    "        elif len(colrowValue) == 6:\n",
    "            startmonth = colrowValue[0:2]\n",
    "            startday = colrowValue[2:4]\n",
    "            outlist = startmonth + \"/\" + startday\n",
    "        else:\n",
    "            outlist = \"\"\n",
    "  \n",
    "    return outlist\n",
    "\n",
    "\n",
    "df['AllocationTimeframeStart'] = df.apply(lambda row: assignTime(row['USE_BEG_DATE_x']), axis=1)\n",
    "df['AllocationTimeframeEnd'] = df.apply(lambda row: assignTime(row['USE_END_DATE_x']), axis=1)"
   ]
  },
  {
   "cell_type": "code",
   "execution_count": null,
   "metadata": {},
   "outputs": [],
   "source": [
    "#Creating Singular location value by concatinating other cells.\n",
    "\n",
    "def assignSiteLocation(vWRNUM, vA, vB, vC, vD, vE):\n",
    "    vWRNUM = str(vWRNUM)\n",
    "    vWRNUM = vWRNUM.strip()\n",
    "    \n",
    "    if vA == \"\" or pd.isnull(vA):\n",
    "        vA = \"\"\n",
    "    else:\n",
    "        vA = str(vA)\n",
    "        vA = vA.strip()\n",
    "\n",
    "    if vB == \"\" or pd.isnull(vB):\n",
    "        vB = \"0\"\n",
    "    else:\n",
    "        vB = int(vB)\n",
    "        vB = str(vB)\n",
    "        vB = vB.strip()\n",
    "    \n",
    "    if vC == \"\" or pd.isnull(vC):\n",
    "        vC = \"\"\n",
    "    else:\n",
    "        vC = str(vC)\n",
    "        vC = vC.strip()\n",
    "\n",
    "    if vD == \"\" or pd.isnull(vD):\n",
    "        vD = \"0\"\n",
    "    else:\n",
    "        vD = int(vD)\n",
    "        vD = str(vD)\n",
    "        vD = vD.strip()\n",
    "        \n",
    "    if vE == \"\" or pd.isnull(vE):\n",
    "        vE = \"\"\n",
    "    else:\n",
    "        vE = str(vE)\n",
    "        vE = vE.strip()\n",
    "    \n",
    "    outlist = vWRNUM + \"_\" + vA + vB + vC + vD + vE\n",
    "    outlist = outlist.strip()\n",
    "    \n",
    "    return outlist\n",
    "\n",
    "df['SiteLocation'] = df.apply(lambda row: assignSiteLocation(row['WRNUM'], \n",
    "                                                             row['NS_DIRECTION'], \n",
    "                                                             row['NS_DISTANCE'], \n",
    "                                                             row['EW_DIRECTION'], \n",
    "                                                             row['EW_DISTANCE'], \n",
    "                                                             row['SECTION_CORNER']), axis=1).reset_index()"
   ]
  },
  {
   "cell_type": "code",
   "execution_count": null,
   "metadata": {},
   "outputs": [],
   "source": [
    "#Sort Dataframe by RightID and columns alphebeticallly.\n",
    "df = df.sort_values(by=['WRNUM'])\n",
    "df = df.reindex(sorted(df.columns), axis=1)"
   ]
  },
  {
   "cell_type": "code",
   "execution_count": null,
   "metadata": {},
   "outputs": [],
   "source": [
    "#Removing all NaN Values and replacing with blank\n",
    "df = df.replace(np.nan, '', regex=True)"
   ]
  },
  {
   "cell_type": "code",
   "execution_count": null,
   "metadata": {},
   "outputs": [],
   "source": [
    "df.columns"
   ]
  },
  {
   "cell_type": "code",
   "execution_count": null,
   "metadata": {
    "scrolled": true
   },
   "outputs": [],
   "source": [
    "df.dtypes"
   ]
  },
  {
   "cell_type": "code",
   "execution_count": null,
   "metadata": {},
   "outputs": [],
   "source": [
    "df"
   ]
  },
  {
   "cell_type": "code",
   "execution_count": null,
   "metadata": {},
   "outputs": [],
   "source": [
    "#Exporting to Finished File\n",
    "df.to_csv('P_UtahMaster.csv', index=False)  # The output"
   ]
  }
 ],
 "metadata": {
  "kernelspec": {
   "display_name": "Python 3",
   "language": "python",
   "name": "python3"
  },
  "language_info": {
   "codemirror_mode": {
    "name": "ipython",
    "version": 3
   },
   "file_extension": ".py",
   "mimetype": "text/x-python",
   "name": "python",
   "nbconvert_exporter": "python",
   "pygments_lexer": "ipython3",
   "version": "3.7.6"
  }
 },
 "nbformat": 4,
 "nbformat_minor": 2
}
