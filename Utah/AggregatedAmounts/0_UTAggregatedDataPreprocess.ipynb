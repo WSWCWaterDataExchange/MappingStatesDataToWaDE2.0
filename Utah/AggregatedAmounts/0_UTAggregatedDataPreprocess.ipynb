{
 "cells": [
  {
   "cell_type": "markdown",
   "metadata": {},
   "source": [
    "# Working with UT Aggregated Data\n",
    "\n",
    "Preprocessing input data for a smoother upload experience of the state data to the WaDE 2.0 database.\n",
    "Using geopandas to read in shp file, and coverting to WKT for ReportingUnit geometry."
   ]
  },
  {
   "cell_type": "code",
   "execution_count": 1,
   "metadata": {},
   "outputs": [],
   "source": [
    "#Needed Libararies\n",
    "\n",
    "# working with data\n",
    "import os\n",
    "import numpy as np\n",
    "import pandas as pd\n",
    "import geopandas as gpd\n",
    "\n",
    "# visulizaiton\n",
    "import matplotlib.pyplot as plt\n",
    "import seaborn as sns\n",
    "\n",
    "# Cleanup\n",
    "from datetime import datetime\n",
    "pd.set_option('display.max_columns', 999)  # How to display all columns of a Pandas DataFrame in Jupyter Notebook"
   ]
  },
  {
   "cell_type": "code",
   "execution_count": 2,
   "metadata": {},
   "outputs": [],
   "source": [
    "#Setting work directory, reading inputs, creating dataframe\n",
    "workingDir = \"G:/Shared drives/WaDE Data/Utah/AggregatedAmounts/RawInputData\"\n",
    "os.chdir(workingDir)"
   ]
  },
  {
   "cell_type": "markdown",
   "metadata": {},
   "source": [
    "# Water Budget Data"
   ]
  },
  {
   "cell_type": "code",
   "execution_count": 3,
   "metadata": {},
   "outputs": [],
   "source": [
    "#CSV input file\n",
    "fileInput = \"UT Water Budget Data 11102020.xlsx\""
   ]
  },
  {
   "cell_type": "code",
   "execution_count": 4,
   "metadata": {
    "scrolled": false
   },
   "outputs": [
    {
     "name": "stdout",
     "output_type": "stream",
     "text": [
      "13071\n"
     ]
    },
    {
     "data": {
      "text/html": [
       "<div>\n",
       "<style scoped>\n",
       "    .dataframe tbody tr th:only-of-type {\n",
       "        vertical-align: middle;\n",
       "    }\n",
       "\n",
       "    .dataframe tbody tr th {\n",
       "        vertical-align: top;\n",
       "    }\n",
       "\n",
       "    .dataframe thead th {\n",
       "        text-align: right;\n",
       "    }\n",
       "</style>\n",
       "<table border=\"1\" class=\"dataframe\">\n",
       "  <thead>\n",
       "    <tr style=\"text-align: right;\">\n",
       "      <th></th>\n",
       "      <th>AllocationCropDutyAmount</th>\n",
       "      <th>Amount</th>\n",
       "      <th>BeneficialUseCategory</th>\n",
       "      <th>CommunityWaterSupplySystem</th>\n",
       "      <th>CropTypeCV</th>\n",
       "      <th>CustomerTypeCV</th>\n",
       "      <th>DataPublicationDate</th>\n",
       "      <th>Geometry</th>\n",
       "      <th>InterbasinTransferFromID</th>\n",
       "      <th>InterbasinTransferToID</th>\n",
       "      <th>IrrigatedAcreage</th>\n",
       "      <th>Unnamed: 11</th>\n",
       "      <th>MethodUUID</th>\n",
       "      <th>NAICSCodeCV</th>\n",
       "      <th>OrganizationUUID</th>\n",
       "      <th>PopulationServed</th>\n",
       "      <th>PowerGeneratedGWh</th>\n",
       "      <th>PowerType</th>\n",
       "      <th>Unnamed: 18</th>\n",
       "      <th>Unnamed: 19</th>\n",
       "      <th>ReportingUnitName</th>\n",
       "      <th>ReportingUnitNativeID</th>\n",
       "      <th>ReportingUnitTypeCV</th>\n",
       "      <th>ReportYearCV</th>\n",
       "      <th>Unnamed: 24</th>\n",
       "      <th>TimeframeEnd</th>\n",
       "      <th>TimeframeStart</th>\n",
       "      <th>USGSCategoryCV</th>\n",
       "      <th>UT_VariableCV</th>\n",
       "      <th>UT_VariableSpecificCV</th>\n",
       "      <th>WaterSourceID</th>\n",
       "    </tr>\n",
       "  </thead>\n",
       "  <tbody>\n",
       "    <tr>\n",
       "      <th>0</th>\n",
       "      <td>NaN</td>\n",
       "      <td>80061.753287</td>\n",
       "      <td>Agriculture</td>\n",
       "      <td>NaN</td>\n",
       "      <td>NaN</td>\n",
       "      <td>NaN</td>\n",
       "      <td>NaN</td>\n",
       "      <td>NaN</td>\n",
       "      <td>NaN</td>\n",
       "      <td>NaN</td>\n",
       "      <td>NaN</td>\n",
       "      <td>NaN</td>\n",
       "      <td>Consumptive Use Estimate</td>\n",
       "      <td>111000</td>\n",
       "      <td>UTDWRE</td>\n",
       "      <td>NaN</td>\n",
       "      <td>NaN</td>\n",
       "      <td>NaN</td>\n",
       "      <td>NaN</td>\n",
       "      <td>NaN</td>\n",
       "      <td>Beaver</td>\n",
       "      <td>49001</td>\n",
       "      <td>County</td>\n",
       "      <td>2005</td>\n",
       "      <td>NaN</td>\n",
       "      <td>2006-09-30</td>\n",
       "      <td>2005-10-01</td>\n",
       "      <td>Irrigation</td>\n",
       "      <td>Consumptive Use</td>\n",
       "      <td>Consumptive Use, Irrigation</td>\n",
       "      <td>Fresh_SW_GW</td>\n",
       "    </tr>\n",
       "  </tbody>\n",
       "</table>\n",
       "</div>"
      ],
      "text/plain": [
       "   AllocationCropDutyAmount        Amount BeneficialUseCategory  \\\n",
       "0                       NaN  80061.753287           Agriculture   \n",
       "\n",
       "   CommunityWaterSupplySystem  CropTypeCV  CustomerTypeCV  \\\n",
       "0                         NaN         NaN             NaN   \n",
       "\n",
       "   DataPublicationDate  Geometry  InterbasinTransferFromID  \\\n",
       "0                  NaN       NaN                       NaN   \n",
       "\n",
       "   InterbasinTransferToID  IrrigatedAcreage  Unnamed: 11  \\\n",
       "0                     NaN               NaN          NaN   \n",
       "\n",
       "                 MethodUUID  NAICSCodeCV OrganizationUUID  PopulationServed  \\\n",
       "0  Consumptive Use Estimate       111000           UTDWRE               NaN   \n",
       "\n",
       "   PowerGeneratedGWh  PowerType  Unnamed: 18  Unnamed: 19 ReportingUnitName  \\\n",
       "0                NaN        NaN          NaN          NaN            Beaver   \n",
       "\n",
       "  ReportingUnitNativeID ReportingUnitTypeCV  ReportYearCV  Unnamed: 24  \\\n",
       "0                 49001              County          2005          NaN   \n",
       "\n",
       "  TimeframeEnd TimeframeStart USGSCategoryCV    UT_VariableCV  \\\n",
       "0   2006-09-30     2005-10-01     Irrigation  Consumptive Use   \n",
       "\n",
       "         UT_VariableSpecificCV WaterSourceID  \n",
       "0  Consumptive Use, Irrigation   Fresh_SW_GW  "
      ]
     },
     "execution_count": 4,
     "metadata": {},
     "output_type": "execute_result"
    }
   ],
   "source": [
    "# check input 2011\n",
    "df = pd.read_excel(fileInput)\n",
    "print(len(df))\n",
    "df.head(1)"
   ]
  },
  {
   "cell_type": "code",
   "execution_count": 5,
   "metadata": {},
   "outputs": [
    {
     "data": {
      "text/plain": [
       "array(['Surface and Groundwater', 'Groundwater', 'Surface Water'],\n",
       "      dtype=object)"
      ]
     },
     "execution_count": 5,
     "metadata": {},
     "output_type": "execute_result"
    }
   ],
   "source": [
    "# Build WaterSourceTypeCV using provdied ADWR water source dictionary.\n",
    "WSDict = {\n",
    "\"Fresh_SW_GW\" : \"Surface and Groundwater\",\n",
    "\"Fresh_Groundwater\" : \"Groundwater\",\n",
    "\"Fresh_Surface Water\" : \"Surface Water\"}\n",
    "\n",
    "def createWSTypeCV(colrowValue):\n",
    "    if colrowValue == '' or pd.isnull(colrowValue):\n",
    "        outList = ''\n",
    "    else:\n",
    "        String1 = colrowValue  # remove whitespace chars\n",
    "        try:\n",
    "            outList = WSDict[String1]\n",
    "        except:\n",
    "            outList = ''\n",
    "    return outList\n",
    "\n",
    "df['tempWST'] = df.apply(lambda row: createWSTypeCV(row['WaterSourceID']), axis=1)\n",
    "df['tempWST'].unique()"
   ]
  },
  {
   "cell_type": "code",
   "execution_count": 6,
   "metadata": {},
   "outputs": [
    {
     "data": {
      "text/plain": [
       "array(['Consumptive Use_Annual_Agriculture_Surface and Groundwater',\n",
       "       'Withdrawal_Annual_Agriculture_Groundwater',\n",
       "       'Withdrawal_Annual_Agriculture_Surface Water',\n",
       "       'Consumptive Use_Annual_Agriculture_Surface Water',\n",
       "       'Withdrawal_Annual_Municipal/Industrial_Groundwater',\n",
       "       'Withdrawal_Annual_Municipal/Industrial_Surface Water'],\n",
       "      dtype=object)"
      ]
     },
     "execution_count": 6,
     "metadata": {},
     "output_type": "execute_result"
    }
   ],
   "source": [
    "# Creating VariableSpecificCV\n",
    "\n",
    "def createVariableSpecificCV(VarT, BeUT, WST):\n",
    "    VarT = str(VarT).strip()\n",
    "    UT = str(BeUT).strip()\n",
    "    WST = str(WST).strip()\n",
    "    \n",
    "    outString = VarT + \"_Annual_\" +  BeUT + \"_\" + WST\n",
    "    \n",
    "    return outString\n",
    "\n",
    "df['in_VariableSpecificCV'] = df.apply(lambda row: createVariableSpecificCV(row['UT_VariableCV'], row['BeneficialUseCategory'], row['tempWST']), axis=1)\n",
    "df['in_VariableSpecificCV'].unique()"
   ]
  },
  {
   "cell_type": "code",
   "execution_count": 7,
   "metadata": {},
   "outputs": [
    {
     "data": {
      "text/plain": [
       "array(['WaDEUT_WS1', 'WaDEUT_WS2', 'WaDEUT_WS3'], dtype=object)"
      ]
     },
     "execution_count": 7,
     "metadata": {},
     "output_type": "execute_result"
    }
   ],
   "source": [
    "# Creating WaDE Custom water source native ID for easy water source identification\n",
    "# ----------------------------------------------------------------------------------------------------\n",
    "\n",
    "# Create temp WaterSourceNativeID dataframe of unique water source.\n",
    "def assignWaterSourceNativeID(colrowValue):\n",
    "    string1 = str(colrowValue)\n",
    "    outstring = \"WaDEUT_WS\" + string1\n",
    "    return outstring\n",
    "\n",
    "dfWaterSourceNativeID = pd.DataFrame()\n",
    "dfWaterSourceNativeID['in_WaterSourceTypeCV'] = df['WaterSourceID']\n",
    "dfWaterSourceNativeID = dfWaterSourceNativeID.drop_duplicates()\n",
    "\n",
    "dftemp = pd.DataFrame(index=dfWaterSourceNativeID.index)\n",
    "dftemp[\"Count\"] = range(1, len(dftemp.index) + 1)\n",
    "dfWaterSourceNativeID['in_WaterSourceNativeID'] = dftemp.apply(lambda row: assignWaterSourceNativeID(row['Count']), axis=1)\n",
    "\n",
    "# ----------------------------------------------------------------------------------------------------\n",
    "\n",
    "# Retreive WaDE Custom water source native ID\n",
    "def retrieveWaterSourceNativeID(A):\n",
    "    if (A == '') or (pd.isnull(A)):\n",
    "        outList = ''\n",
    "    else:\n",
    "        ml = dfWaterSourceNativeID.loc[(dfWaterSourceNativeID['in_WaterSourceTypeCV'] == A), 'in_WaterSourceNativeID']\n",
    "        if not (ml.empty):  # check if the series is empty\n",
    "            outList = ml.iloc[0]\n",
    "        else:\n",
    "            outList = ''\n",
    "    return outList\n",
    "\n",
    "df['in_WaterSourceNativeID'] = df.apply(lambda row: retrieveWaterSourceNativeID(row['WaterSourceID']), axis=1)\n",
    "df['in_WaterSourceNativeID'].unique()"
   ]
  },
  {
   "cell_type": "markdown",
   "metadata": {},
   "source": [
    "# Shapefile Data"
   ]
  },
  {
   "cell_type": "code",
   "execution_count": 14,
   "metadata": {},
   "outputs": [],
   "source": [
    "# Shapefile input\n",
    "UT_County_SF = gpd.read_file('UT_Counties_SF/UT_Counties.shp', crs=\"EPSG:4326\")\n",
    "UT_HUC8_SF = gpd.read_file('UT_HUC8_SF/UT_HUC8.shp', crs=\"EPSG:4326\")\n",
    "UT_Subarea_SF = gpd.read_file('UT_Subarea_SF/UT_Subarea.shp', crs=\"EPSG:4326\")"
   ]
  },
  {
   "cell_type": "code",
   "execution_count": 16,
   "metadata": {},
   "outputs": [
    {
     "data": {
      "text/html": [
       "<div>\n",
       "<style scoped>\n",
       "    .dataframe tbody tr th:only-of-type {\n",
       "        vertical-align: middle;\n",
       "    }\n",
       "\n",
       "    .dataframe tbody tr th {\n",
       "        vertical-align: top;\n",
       "    }\n",
       "\n",
       "    .dataframe thead th {\n",
       "        text-align: right;\n",
       "    }\n",
       "</style>\n",
       "<table border=\"1\" class=\"dataframe\">\n",
       "  <thead>\n",
       "    <tr style=\"text-align: right;\">\n",
       "      <th></th>\n",
       "      <th>RU_Name</th>\n",
       "      <th>RU_ID</th>\n",
       "      <th>RU_Type</th>\n",
       "      <th>geometry</th>\n",
       "    </tr>\n",
       "  </thead>\n",
       "  <tbody>\n",
       "    <tr>\n",
       "      <th>0</th>\n",
       "      <td>Beaver</td>\n",
       "      <td>49001</td>\n",
       "      <td>County</td>\n",
       "      <td>POLYGON ((-114.05049 38.49996, -114.05015 38.5...</td>\n",
       "    </tr>\n",
       "    <tr>\n",
       "      <th>1</th>\n",
       "      <td>Box Elder</td>\n",
       "      <td>49003</td>\n",
       "      <td>County</td>\n",
       "      <td>POLYGON ((-114.04255 41.21092, -114.04172 41.9...</td>\n",
       "    </tr>\n",
       "    <tr>\n",
       "      <th>2</th>\n",
       "      <td>Duchesne</td>\n",
       "      <td>49013</td>\n",
       "      <td>County</td>\n",
       "      <td>POLYGON ((-110.90435 40.70150, -110.89777 40.7...</td>\n",
       "    </tr>\n",
       "  </tbody>\n",
       "</table>\n",
       "</div>"
      ],
      "text/plain": [
       "     RU_Name  RU_ID RU_Type                                           geometry\n",
       "0     Beaver  49001  County  POLYGON ((-114.05049 38.49996, -114.05015 38.5...\n",
       "1  Box Elder  49003  County  POLYGON ((-114.04255 41.21092, -114.04172 41.9...\n",
       "2   Duchesne  49013  County  POLYGON ((-110.90435 40.70150, -110.89777 40.7..."
      ]
     },
     "execution_count": 16,
     "metadata": {},
     "output_type": "execute_result"
    }
   ],
   "source": [
    "# UT, County\n",
    "# get name and geometry\n",
    "###########################################################################\n",
    "columnsList = ['RU_Name', 'RU_ID', 'RU_Type','geometry']\n",
    "dfCountyShape = pd.DataFrame(columns=columnsList)\n",
    "dfCountyShape['RU_Name'] = UT_County_SF['NAME']\n",
    "dfCountyShape['RU_ID'] = UT_County_SF['State_RU']\n",
    "dfCountyShape['RU_ID'] = dfCountyShape['RU_ID'].map(lambda x: x.lstrip(\"46-\"))\n",
    "dfCountyShape['RU_ID'] = \"4\" + dfCountyShape['RU_ID']\n",
    "dfCountyShape['RU_Type'] = 'County'\n",
    "dfCountyShape['geometry'] = UT_County_SF['geometry']\n",
    "dfCountyShape.head(3)"
   ]
  },
  {
   "cell_type": "code",
   "execution_count": 17,
   "metadata": {},
   "outputs": [
    {
     "data": {
      "text/html": [
       "<div>\n",
       "<style scoped>\n",
       "    .dataframe tbody tr th:only-of-type {\n",
       "        vertical-align: middle;\n",
       "    }\n",
       "\n",
       "    .dataframe tbody tr th {\n",
       "        vertical-align: top;\n",
       "    }\n",
       "\n",
       "    .dataframe thead th {\n",
       "        text-align: right;\n",
       "    }\n",
       "</style>\n",
       "<table border=\"1\" class=\"dataframe\">\n",
       "  <thead>\n",
       "    <tr style=\"text-align: right;\">\n",
       "      <th></th>\n",
       "      <th>RU_Name</th>\n",
       "      <th>RU_ID</th>\n",
       "      <th>RU_Type</th>\n",
       "      <th>geometry</th>\n",
       "    </tr>\n",
       "  </thead>\n",
       "  <tbody>\n",
       "    <tr>\n",
       "      <th>0</th>\n",
       "      <td>Meadow Valley Wash</td>\n",
       "      <td>15010013</td>\n",
       "      <td>HUC8</td>\n",
       "      <td>POLYGON ((-114.03649 37.95701, -114.03647 37.9...</td>\n",
       "    </tr>\n",
       "    <tr>\n",
       "      <th>1</th>\n",
       "      <td>Lower Virgin</td>\n",
       "      <td>15010010</td>\n",
       "      <td>HUC8</td>\n",
       "      <td>POLYGON ((-114.06750 37.60696, -114.06708 37.6...</td>\n",
       "    </tr>\n",
       "    <tr>\n",
       "      <th>2</th>\n",
       "      <td>Fort Pearce Wash</td>\n",
       "      <td>15010009</td>\n",
       "      <td>HUC8</td>\n",
       "      <td>POLYGON ((-112.75584 37.06340, -112.75670 37.0...</td>\n",
       "    </tr>\n",
       "  </tbody>\n",
       "</table>\n",
       "</div>"
      ],
      "text/plain": [
       "              RU_Name     RU_ID RU_Type  \\\n",
       "0  Meadow Valley Wash  15010013    HUC8   \n",
       "1        Lower Virgin  15010010    HUC8   \n",
       "2    Fort Pearce Wash  15010009    HUC8   \n",
       "\n",
       "                                            geometry  \n",
       "0  POLYGON ((-114.03649 37.95701, -114.03647 37.9...  \n",
       "1  POLYGON ((-114.06750 37.60696, -114.06708 37.6...  \n",
       "2  POLYGON ((-112.75584 37.06340, -112.75670 37.0...  "
      ]
     },
     "execution_count": 17,
     "metadata": {},
     "output_type": "execute_result"
    }
   ],
   "source": [
    "# UT, HUC8\n",
    "# get name and geometry\n",
    "###########################################################################\n",
    "columnsList = ['RU_Name', 'RU_ID', 'RU_Type','geometry']\n",
    "dfHUC8Shape = pd.DataFrame(columns=columnsList)\n",
    "dfHUC8Shape['RU_Name'] = UT_HUC8_SF['NAME']\n",
    "dfHUC8Shape['RU_ID'] = UT_HUC8_SF['HUC8']\n",
    "dfHUC8Shape['RU_Type'] = 'HUC8'\n",
    "dfHUC8Shape['geometry'] = UT_HUC8_SF['geometry']\n",
    "dfHUC8Shape.head(3)"
   ]
  },
  {
   "cell_type": "code",
   "execution_count": 18,
   "metadata": {},
   "outputs": [
    {
     "data": {
      "text/html": [
       "<div>\n",
       "<style scoped>\n",
       "    .dataframe tbody tr th:only-of-type {\n",
       "        vertical-align: middle;\n",
       "    }\n",
       "\n",
       "    .dataframe tbody tr th {\n",
       "        vertical-align: top;\n",
       "    }\n",
       "\n",
       "    .dataframe thead th {\n",
       "        text-align: right;\n",
       "    }\n",
       "</style>\n",
       "<table border=\"1\" class=\"dataframe\">\n",
       "  <thead>\n",
       "    <tr style=\"text-align: right;\">\n",
       "      <th></th>\n",
       "      <th>RU_Name</th>\n",
       "      <th>RU_ID</th>\n",
       "      <th>RU_Type</th>\n",
       "      <th>geometry</th>\n",
       "    </tr>\n",
       "  </thead>\n",
       "  <tbody>\n",
       "    <tr>\n",
       "      <th>0</th>\n",
       "      <td>Curlew Valley</td>\n",
       "      <td>00-01-03</td>\n",
       "      <td>Subarea</td>\n",
       "      <td>POLYGON ((-112.58699 42.00092, -112.57918 41.9...</td>\n",
       "    </tr>\n",
       "    <tr>\n",
       "      <th>1</th>\n",
       "      <td>Clear Creek</td>\n",
       "      <td>000-01-03</td>\n",
       "      <td>Subarea</td>\n",
       "      <td>POLYGON ((-113.17778 42.00082, -113.20384 41.9...</td>\n",
       "    </tr>\n",
       "    <tr>\n",
       "      <th>2</th>\n",
       "      <td>Promontory Point</td>\n",
       "      <td>00-07-02</td>\n",
       "      <td>Subarea</td>\n",
       "      <td>POLYGON ((-112.36394 42.00018, -112.38128 41.9...</td>\n",
       "    </tr>\n",
       "  </tbody>\n",
       "</table>\n",
       "</div>"
      ],
      "text/plain": [
       "            RU_Name      RU_ID  RU_Type  \\\n",
       "0     Curlew Valley   00-01-03  Subarea   \n",
       "1       Clear Creek  000-01-03  Subarea   \n",
       "2  Promontory Point   00-07-02  Subarea   \n",
       "\n",
       "                                            geometry  \n",
       "0  POLYGON ((-112.58699 42.00092, -112.57918 41.9...  \n",
       "1  POLYGON ((-113.17778 42.00082, -113.20384 41.9...  \n",
       "2  POLYGON ((-112.36394 42.00018, -112.38128 41.9...  "
      ]
     },
     "execution_count": 18,
     "metadata": {},
     "output_type": "execute_result"
    }
   ],
   "source": [
    "# UT, Subarea\n",
    "# get name and geometry\n",
    "###########################################################################\n",
    "columnsList = ['RU_Name', 'RU_ID', 'RU_Type','geometry']\n",
    "dfSubareaShape = pd.DataFrame(columns=columnsList)\n",
    "dfSubareaShape['RU_Name'] = UT_Subarea_SF['RU_Name']\n",
    "dfSubareaShape['RU_ID'] = UT_Subarea_SF['RU_ID']\n",
    "dfSubareaShape['RU_Type'] = 'Subarea'\n",
    "dfSubareaShape['geometry'] = UT_Subarea_SF['geometry']\n",
    "dfSubareaShape.head(3)"
   ]
  },
  {
   "cell_type": "code",
   "execution_count": 19,
   "metadata": {},
   "outputs": [
    {
     "data": {
      "text/html": [
       "<div>\n",
       "<style scoped>\n",
       "    .dataframe tbody tr th:only-of-type {\n",
       "        vertical-align: middle;\n",
       "    }\n",
       "\n",
       "    .dataframe tbody tr th {\n",
       "        vertical-align: top;\n",
       "    }\n",
       "\n",
       "    .dataframe thead th {\n",
       "        text-align: right;\n",
       "    }\n",
       "</style>\n",
       "<table border=\"1\" class=\"dataframe\">\n",
       "  <thead>\n",
       "    <tr style=\"text-align: right;\">\n",
       "      <th></th>\n",
       "      <th>index</th>\n",
       "      <th>RU_Name</th>\n",
       "      <th>RU_ID</th>\n",
       "      <th>RU_Type</th>\n",
       "      <th>geometry</th>\n",
       "    </tr>\n",
       "  </thead>\n",
       "  <tbody>\n",
       "    <tr>\n",
       "      <th>0</th>\n",
       "      <td>0</td>\n",
       "      <td>Beaver</td>\n",
       "      <td>49001</td>\n",
       "      <td>County</td>\n",
       "      <td>POLYGON ((-114.05049 38.49996, -114.05015 38.5...</td>\n",
       "    </tr>\n",
       "    <tr>\n",
       "      <th>1</th>\n",
       "      <td>1</td>\n",
       "      <td>Box Elder</td>\n",
       "      <td>49003</td>\n",
       "      <td>County</td>\n",
       "      <td>POLYGON ((-114.04255 41.21092, -114.04172 41.9...</td>\n",
       "    </tr>\n",
       "    <tr>\n",
       "      <th>2</th>\n",
       "      <td>2</td>\n",
       "      <td>Duchesne</td>\n",
       "      <td>49013</td>\n",
       "      <td>County</td>\n",
       "      <td>POLYGON ((-110.90435 40.70150, -110.89777 40.7...</td>\n",
       "    </tr>\n",
       "    <tr>\n",
       "      <th>3</th>\n",
       "      <td>3</td>\n",
       "      <td>Emery</td>\n",
       "      <td>49015</td>\n",
       "      <td>County</td>\n",
       "      <td>POLYGON ((-111.30701 38.67233, -111.29914 38.6...</td>\n",
       "    </tr>\n",
       "    <tr>\n",
       "      <th>4</th>\n",
       "      <td>4</td>\n",
       "      <td>Grand</td>\n",
       "      <td>49019</td>\n",
       "      <td>County</td>\n",
       "      <td>POLYGON ((-110.17897 38.90920, -110.17447 38.9...</td>\n",
       "    </tr>\n",
       "    <tr>\n",
       "      <th>...</th>\n",
       "      <td>...</td>\n",
       "      <td>...</td>\n",
       "      <td>...</td>\n",
       "      <td>...</td>\n",
       "      <td>...</td>\n",
       "    </tr>\n",
       "    <tr>\n",
       "      <th>240</th>\n",
       "      <td>144</td>\n",
       "      <td>Brigham City</td>\n",
       "      <td>01-01-07</td>\n",
       "      <td>Subarea</td>\n",
       "      <td>POLYGON ((-112.01361 41.64418, -112.00460 41.6...</td>\n",
       "    </tr>\n",
       "    <tr>\n",
       "      <th>241</th>\n",
       "      <td>145</td>\n",
       "      <td>Cache Valley</td>\n",
       "      <td>01-01-04</td>\n",
       "      <td>Subarea</td>\n",
       "      <td>POLYGON ((-111.50799 42.00025, -111.50842 41.9...</td>\n",
       "    </tr>\n",
       "    <tr>\n",
       "      <th>242</th>\n",
       "      <td>146</td>\n",
       "      <td>Randolph</td>\n",
       "      <td>01-03-02</td>\n",
       "      <td>Subarea</td>\n",
       "      <td>POLYGON ((-111.04977 41.80850, -111.05113 41.5...</td>\n",
       "    </tr>\n",
       "    <tr>\n",
       "      <th>243</th>\n",
       "      <td>147</td>\n",
       "      <td>Evanston</td>\n",
       "      <td>01-03-01</td>\n",
       "      <td>Subarea</td>\n",
       "      <td>MULTIPOLYGON (((-110.72426 40.99222, -110.7332...</td>\n",
       "    </tr>\n",
       "    <tr>\n",
       "      <th>244</th>\n",
       "      <td>148</td>\n",
       "      <td>Cedar Valley</td>\n",
       "      <td>04-01-11</td>\n",
       "      <td>Subarea</td>\n",
       "      <td>POLYGON ((-111.98341 40.41573, -111.98963 40.4...</td>\n",
       "    </tr>\n",
       "  </tbody>\n",
       "</table>\n",
       "<p>245 rows × 5 columns</p>\n",
       "</div>"
      ],
      "text/plain": [
       "     index       RU_Name     RU_ID  RU_Type  \\\n",
       "0        0        Beaver     49001   County   \n",
       "1        1     Box Elder     49003   County   \n",
       "2        2      Duchesne     49013   County   \n",
       "3        3         Emery     49015   County   \n",
       "4        4         Grand     49019   County   \n",
       "..     ...           ...       ...      ...   \n",
       "240    144  Brigham City  01-01-07  Subarea   \n",
       "241    145  Cache Valley  01-01-04  Subarea   \n",
       "242    146      Randolph  01-03-02  Subarea   \n",
       "243    147      Evanston  01-03-01  Subarea   \n",
       "244    148  Cedar Valley  04-01-11  Subarea   \n",
       "\n",
       "                                              geometry  \n",
       "0    POLYGON ((-114.05049 38.49996, -114.05015 38.5...  \n",
       "1    POLYGON ((-114.04255 41.21092, -114.04172 41.9...  \n",
       "2    POLYGON ((-110.90435 40.70150, -110.89777 40.7...  \n",
       "3    POLYGON ((-111.30701 38.67233, -111.29914 38.6...  \n",
       "4    POLYGON ((-110.17897 38.90920, -110.17447 38.9...  \n",
       "..                                                 ...  \n",
       "240  POLYGON ((-112.01361 41.64418, -112.00460 41.6...  \n",
       "241  POLYGON ((-111.50799 42.00025, -111.50842 41.9...  \n",
       "242  POLYGON ((-111.04977 41.80850, -111.05113 41.5...  \n",
       "243  MULTIPOLYGON (((-110.72426 40.99222, -110.7332...  \n",
       "244  POLYGON ((-111.98341 40.41573, -111.98963 40.4...  \n",
       "\n",
       "[245 rows x 5 columns]"
      ]
     },
     "execution_count": 19,
     "metadata": {},
     "output_type": "execute_result"
    }
   ],
   "source": [
    "# Concatenate shp datafraes together.\n",
    "frames = [dfCountyShape, dfHUC8Shape, dfSubareaShape]\n",
    "dfAllShape = pd.concat(frames).reset_index()\n",
    "dfAllShape"
   ]
  },
  {
   "cell_type": "markdown",
   "metadata": {},
   "source": [
    "### Inspect Output Data & Export"
   ]
  },
  {
   "cell_type": "code",
   "execution_count": 20,
   "metadata": {
    "scrolled": false
   },
   "outputs": [
    {
     "name": "stdout",
     "output_type": "stream",
     "text": [
      "AllocationCropDutyAmount             float64\n",
      "Amount                               float64\n",
      "BeneficialUseCategory                 object\n",
      "CommunityWaterSupplySystem           float64\n",
      "CropTypeCV                           float64\n",
      "CustomerTypeCV                       float64\n",
      "DataPublicationDate                  float64\n",
      "Geometry                             float64\n",
      "InterbasinTransferFromID             float64\n",
      "InterbasinTransferToID               float64\n",
      "IrrigatedAcreage                     float64\n",
      "Unnamed: 11                          float64\n",
      "MethodUUID                            object\n",
      "NAICSCodeCV                            int64\n",
      "OrganizationUUID                      object\n",
      "PopulationServed                     float64\n",
      "PowerGeneratedGWh                    float64\n",
      "PowerType                            float64\n",
      "Unnamed: 18                          float64\n",
      "Unnamed: 19                          float64\n",
      "ReportingUnitName                     object\n",
      "ReportingUnitNativeID                 object\n",
      "ReportingUnitTypeCV                   object\n",
      "ReportYearCV                           int64\n",
      "Unnamed: 24                          float64\n",
      "TimeframeEnd                  datetime64[ns]\n",
      "TimeframeStart                datetime64[ns]\n",
      "USGSCategoryCV                        object\n",
      "UT_VariableCV                         object\n",
      "UT_VariableSpecificCV                 object\n",
      "WaterSourceID                         object\n",
      "tempWST                               object\n",
      "in_VariableSpecificCV                 object\n",
      "in_WaterSourceNativeID                object\n",
      "dtype: object\n"
     ]
    }
   ],
   "source": [
    "with pd.option_context('display.max_rows', None, 'display.max_columns', None):\n",
    "    print(df.dtypes)"
   ]
  },
  {
   "cell_type": "code",
   "execution_count": 21,
   "metadata": {},
   "outputs": [
    {
     "name": "stdout",
     "output_type": "stream",
     "text": [
      "index          int64\n",
      "RU_Name       object\n",
      "RU_ID         object\n",
      "RU_Type       object\n",
      "geometry    geometry\n",
      "dtype: object\n"
     ]
    }
   ],
   "source": [
    "with pd.option_context('display.max_rows', None, 'display.max_columns', None):\n",
    "    print(dfAllShape.dtypes)"
   ]
  },
  {
   "cell_type": "code",
   "execution_count": 22,
   "metadata": {},
   "outputs": [],
   "source": [
    "# Export out to CSV.\n",
    "df.to_csv('P_utAggMaster.csv', index=False) # The output.\n",
    "dfAllShape.to_csv('P_utGeometry.csv', index=False) # The output geometry."
   ]
  },
  {
   "cell_type": "code",
   "execution_count": null,
   "metadata": {},
   "outputs": [],
   "source": []
  }
 ],
 "metadata": {
  "kernelspec": {
   "display_name": "Python 3 (ipykernel)",
   "language": "python",
   "name": "python3"
  },
  "language_info": {
   "codemirror_mode": {
    "name": "ipython",
    "version": 3
   },
   "file_extension": ".py",
   "mimetype": "text/x-python",
   "name": "python",
   "nbconvert_exporter": "python",
   "pygments_lexer": "ipython3",
   "version": "3.9.13"
  }
 },
 "nbformat": 4,
 "nbformat_minor": 4
}
