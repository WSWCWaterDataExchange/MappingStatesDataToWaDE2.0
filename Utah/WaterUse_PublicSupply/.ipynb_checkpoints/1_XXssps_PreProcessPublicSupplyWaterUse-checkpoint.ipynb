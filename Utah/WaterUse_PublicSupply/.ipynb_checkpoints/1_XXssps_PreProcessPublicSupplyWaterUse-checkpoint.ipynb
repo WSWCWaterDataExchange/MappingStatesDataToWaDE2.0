{
 "cells": [
  {
   "cell_type": "markdown",
   "metadata": {},
   "source": [
    "# Pre-processing \"XX\" Water Right and Time Series Water Use data for WaDE Upload\n",
    "- Purpose:  To pre-process the data into one main file for simple DataFrame creation and extraction"
   ]
  },
  {
   "cell_type": "code",
   "execution_count": 1,
   "metadata": {},
   "outputs": [],
   "source": [
    "# Needed Libraries / Modules\n",
    "\n",
    "# ---- working with data ----\n",
    "import os  # native operating system interaction\n",
    "import numpy as np  # mathematical array manipulation\n",
    "import pandas as pd  # data structure and data analysis\n",
    "import geopandas as gpd  # geo-data structure and data analysis\n",
    "\n",
    "# ---- visualization ----\n",
    "import matplotlib.pyplot as plt  # plotting library\n",
    "import seaborn as sns  # plotting library\n",
    "\n",
    "# ---- API data retrieval ----\n",
    "import requests  # http requests\n",
    "import json  # JSON parse\n",
    "\n",
    "# ---- Cleanup ----\n",
    "import re  # string regular expression manipulation\n",
    "from datetime import datetime  # date and time manipulation\n",
    "pd.set_option('display.max_columns', 999)  # How to display all columns of a Pandas DataFrame in Jupyter Notebook\n",
    "pd.set_option('display.float_format', lambda x: '%.5f' % x)  # suppress scientific notation in Pandas"
   ]
  },
  {
   "cell_type": "code",
   "execution_count": 2,
   "metadata": {},
   "outputs": [
    {
     "name": "stdout",
     "output_type": "stream",
     "text": [
      "The working Directory is: G:/Shared drives/WaDE Data/Utah/SS_PublicSupplyWaterUse\n"
     ]
    }
   ],
   "source": [
    "# ---- working directory ----\n",
    "workingDirString = \"G:/Shared drives/WaDE Data/Utah/SS_PublicSupplyWaterUse\" # set working directory folder string here\n",
    "os.chdir(workingDirString)\n",
    "print(f'The working Directory is:', workingDirString)"
   ]
  },
  {
   "cell_type": "markdown",
   "metadata": {},
   "source": [
    "## Data Input"
   ]
  },
  {
   "cell_type": "code",
   "execution_count": 3,
   "metadata": {},
   "outputs": [
    {
     "name": "stdout",
     "output_type": "stream",
     "text": [
      "8844\n"
     ]
    },
    {
     "data": {
      "text/html": [
       "<div>\n",
       "<style scoped>\n",
       "    .dataframe tbody tr th:only-of-type {\n",
       "        vertical-align: middle;\n",
       "    }\n",
       "\n",
       "    .dataframe tbody tr th {\n",
       "        vertical-align: top;\n",
       "    }\n",
       "\n",
       "    .dataframe thead th {\n",
       "        text-align: right;\n",
       "    }\n",
       "</style>\n",
       "<table border=\"1\" class=\"dataframe\">\n",
       "  <thead>\n",
       "    <tr style=\"text-align: right;\">\n",
       "      <th></th>\n",
       "      <th>System ID</th>\n",
       "      <th>System Name</th>\n",
       "      <th>Source ID</th>\n",
       "      <th>Source Name</th>\n",
       "      <th>Source Status</th>\n",
       "      <th>Lat NAD83</th>\n",
       "      <th>Lon NAD83</th>\n",
       "      <th>Source Type</th>\n",
       "      <th>Diversion Type</th>\n",
       "      <th>Use Type</th>\n",
       "      <th>Year</th>\n",
       "      <th>Units</th>\n",
       "      <th>Method of Measurement</th>\n",
       "      <th>Jan</th>\n",
       "      <th>Feb</th>\n",
       "      <th>Mar</th>\n",
       "      <th>Apr</th>\n",
       "      <th>May</th>\n",
       "      <th>Jun</th>\n",
       "      <th>Jul</th>\n",
       "      <th>Aug</th>\n",
       "      <th>Sep</th>\n",
       "      <th>Oct</th>\n",
       "      <th>Nov</th>\n",
       "      <th>Dec</th>\n",
       "      <th>Total</th>\n",
       "      <th>Source Comments</th>\n",
       "      <th>WaDEUUID</th>\n",
       "    </tr>\n",
       "  </thead>\n",
       "  <tbody>\n",
       "    <tr>\n",
       "      <th>0</th>\n",
       "      <td>1000</td>\n",
       "      <td>Leeds Domestic Water Users Association</td>\n",
       "      <td>10000001</td>\n",
       "      <td>Oak Grove Spring (WS001)</td>\n",
       "      <td>Active</td>\n",
       "      <td>37.30895</td>\n",
       "      <td>-113.42877</td>\n",
       "      <td>Spring</td>\n",
       "      <td>Withdrawal</td>\n",
       "      <td>Water Supplier</td>\n",
       "      <td></td>\n",
       "      <td></td>\n",
       "      <td></td>\n",
       "      <td></td>\n",
       "      <td></td>\n",
       "      <td></td>\n",
       "      <td></td>\n",
       "      <td></td>\n",
       "      <td></td>\n",
       "      <td></td>\n",
       "      <td></td>\n",
       "      <td></td>\n",
       "      <td></td>\n",
       "      <td></td>\n",
       "      <td></td>\n",
       "      <td></td>\n",
       "      <td>*Source 1 springs and Source 2 well are combin...</td>\n",
       "      <td>in10</td>\n",
       "    </tr>\n",
       "  </tbody>\n",
       "</table>\n",
       "</div>"
      ],
      "text/plain": [
       "   System ID                             System Name  Source ID  \\\n",
       "0       1000  Leeds Domestic Water Users Association   10000001   \n",
       "\n",
       "                Source Name Source Status Lat NAD83  Lon NAD83 Source Type  \\\n",
       "0  Oak Grove Spring (WS001)        Active  37.30895 -113.42877      Spring   \n",
       "\n",
       "  Diversion Type        Use Type Year Units Method of Measurement Jan Feb Mar  \\\n",
       "0     Withdrawal  Water Supplier                                                \n",
       "\n",
       "  Apr May Jun Jul Aug Sep Oct Nov Dec Total  \\\n",
       "0                                             \n",
       "\n",
       "                                     Source Comments WaDEUUID  \n",
       "0  *Source 1 springs and Source 2 well are combin...     in10  "
      ]
     },
     "execution_count": 3,
     "metadata": {},
     "output_type": "execute_result"
    }
   ],
   "source": [
    "# Input File - water_use_data_Source\n",
    "fileInput = \"RawInputData/water_use_data_Source.zip\"\n",
    "dfin1 = pd.read_csv(fileInput).replace(np.nan, \"\")\n",
    "\n",
    "# WaDE UUID tracker for data assessment\n",
    "if 'WaDEUUID' not in dfin1:\n",
    "    dfin1['WaDEUUID'] = \"in1\" + dfin1.index.astype(str)\n",
    "    dfin1.to_csv(\"RawInputData/water_use_data_Source.zip\", compression=dict(method='zip', archive_name=\"water_use_data_Source.csv\"), index=False)\n",
    "\n",
    "print(len(dfin1))\n",
    "dfin1.head(1)"
   ]
  },
  {
   "cell_type": "code",
   "execution_count": 4,
   "metadata": {},
   "outputs": [
    {
     "name": "stdout",
     "output_type": "stream",
     "text": [
      "22514\n"
     ]
    },
    {
     "name": "stderr",
     "output_type": "stream",
     "text": [
      "C:\\Users\\rjame\\AppData\\Local\\Temp\\ipykernel_9812\\1321048333.py:3: DtypeWarning: Columns (15) have mixed types. Specify dtype option on import or set low_memory=False.\n",
      "  dfin2 = pd.read_csv(fileInput).replace(np.nan, \"\")\n"
     ]
    },
    {
     "data": {
      "text/html": [
       "<div>\n",
       "<style scoped>\n",
       "    .dataframe tbody tr th:only-of-type {\n",
       "        vertical-align: middle;\n",
       "    }\n",
       "\n",
       "    .dataframe tbody tr th {\n",
       "        vertical-align: top;\n",
       "    }\n",
       "\n",
       "    .dataframe thead th {\n",
       "        text-align: right;\n",
       "    }\n",
       "</style>\n",
       "<table border=\"1\" class=\"dataframe\">\n",
       "  <thead>\n",
       "    <tr style=\"text-align: right;\">\n",
       "      <th></th>\n",
       "      <th>System ID</th>\n",
       "      <th>System Name</th>\n",
       "      <th>System Type</th>\n",
       "      <th>System Status</th>\n",
       "      <th>History Year</th>\n",
       "      <th>Date Received</th>\n",
       "      <th>County</th>\n",
       "      <th>Use Cooling Percent</th>\n",
       "      <th>Use Process Percent</th>\n",
       "      <th>Use Domestic Percent</th>\n",
       "      <th>Use Miscellaneous Percent</th>\n",
       "      <th>Irrigation (Lawn and Garden) Percent</th>\n",
       "      <th>Acres Irrigated</th>\n",
       "      <th>Irrigation (Agriculture)</th>\n",
       "      <th>Acres Irrigated.1</th>\n",
       "      <th>DEQ ID</th>\n",
       "      <th>Population</th>\n",
       "      <th>Domestic Use</th>\n",
       "      <th>Commercial Use</th>\n",
       "      <th>Industrial Use</th>\n",
       "      <th>Institutional Use</th>\n",
       "      <th>Total Use</th>\n",
       "      <th>Method of Measurement</th>\n",
       "      <th>Domestic Connections</th>\n",
       "      <th>Commercial Connections</th>\n",
       "      <th>Industrial Connections</th>\n",
       "      <th>Institutional Connections</th>\n",
       "      <th>Total Connections</th>\n",
       "      <th>Peak Date</th>\n",
       "      <th>Peak Demand</th>\n",
       "      <th>Peak Demand Units</th>\n",
       "      <th>Peak Use Include</th>\n",
       "      <th>Peak Measurement Type</th>\n",
       "      <th>Peak Wholesale Volume</th>\n",
       "      <th>Peak Wholesale Volume Units</th>\n",
       "      <th>ERC Yes/No</th>\n",
       "      <th>ERC Value</th>\n",
       "      <th>Secondary Domestic Percent</th>\n",
       "      <th>Secondary Industrial Percent</th>\n",
       "      <th>Secondary Commercial Percent</th>\n",
       "      <th>Secondary Institutional Percent</th>\n",
       "      <th>Secondary Agriculture Percent</th>\n",
       "      <th>Secondary Domestic Connections</th>\n",
       "      <th>Secondary Industrial Connections</th>\n",
       "      <th>Secondary Commercial Connections</th>\n",
       "      <th>Secondary Institutional Connections</th>\n",
       "      <th>Secondary Agriculture Connections</th>\n",
       "      <th>Secondary Irrigation (Lawn and Garden) Acres</th>\n",
       "      <th>Secondary Irrigation (Agriculture) Acres</th>\n",
       "      <th>Secondary Metered Domestic Connections</th>\n",
       "      <th>Secondary Metered Industrial Connections</th>\n",
       "      <th>Secondary Metered Commercial Connections</th>\n",
       "      <th>Secondary Metered Institutional Connections</th>\n",
       "      <th>Secondary Metered Agriculture Connections</th>\n",
       "      <th>Secondary Metered Domestic Use</th>\n",
       "      <th>Secondary Metered Commercial Use</th>\n",
       "      <th>Secondary Metered Industrial Use</th>\n",
       "      <th>Secondary Metered Institutional Use</th>\n",
       "      <th>Secondary Metered Agriculture Use</th>\n",
       "      <th>System Comments</th>\n",
       "      <th>WaDEUUID</th>\n",
       "    </tr>\n",
       "  </thead>\n",
       "  <tbody>\n",
       "    <tr>\n",
       "      <th>0</th>\n",
       "      <td>1000</td>\n",
       "      <td>Leeds Domestic Water Users Association</td>\n",
       "      <td>Public</td>\n",
       "      <td>Active</td>\n",
       "      <td>1960</td>\n",
       "      <td>12/31/1960</td>\n",
       "      <td>Washington</td>\n",
       "      <td></td>\n",
       "      <td></td>\n",
       "      <td></td>\n",
       "      <td></td>\n",
       "      <td></td>\n",
       "      <td></td>\n",
       "      <td></td>\n",
       "      <td></td>\n",
       "      <td>27010.00000</td>\n",
       "      <td>0.00000</td>\n",
       "      <td>0.00000</td>\n",
       "      <td>0.00000</td>\n",
       "      <td>0.00000</td>\n",
       "      <td></td>\n",
       "      <td>18301270.92000</td>\n",
       "      <td></td>\n",
       "      <td>0.00000</td>\n",
       "      <td>0.00000</td>\n",
       "      <td>0.00000</td>\n",
       "      <td></td>\n",
       "      <td>52.00000</td>\n",
       "      <td></td>\n",
       "      <td></td>\n",
       "      <td></td>\n",
       "      <td></td>\n",
       "      <td></td>\n",
       "      <td></td>\n",
       "      <td></td>\n",
       "      <td>Y</td>\n",
       "      <td>Not Avail</td>\n",
       "      <td></td>\n",
       "      <td></td>\n",
       "      <td></td>\n",
       "      <td></td>\n",
       "      <td></td>\n",
       "      <td></td>\n",
       "      <td></td>\n",
       "      <td></td>\n",
       "      <td></td>\n",
       "      <td></td>\n",
       "      <td></td>\n",
       "      <td></td>\n",
       "      <td></td>\n",
       "      <td></td>\n",
       "      <td></td>\n",
       "      <td></td>\n",
       "      <td></td>\n",
       "      <td></td>\n",
       "      <td></td>\n",
       "      <td></td>\n",
       "      <td></td>\n",
       "      <td></td>\n",
       "      <td>(1988)1. Spring totals do not include overflow...</td>\n",
       "      <td>in20</td>\n",
       "    </tr>\n",
       "  </tbody>\n",
       "</table>\n",
       "</div>"
      ],
      "text/plain": [
       "   System ID                             System Name System Type  \\\n",
       "0       1000  Leeds Domestic Water Users Association      Public   \n",
       "\n",
       "  System Status  History Year Date Received      County Use Cooling Percent  \\\n",
       "0        Active          1960    12/31/1960  Washington                       \n",
       "\n",
       "  Use Process Percent Use Domestic Percent Use Miscellaneous Percent  \\\n",
       "0                                                                      \n",
       "\n",
       "  Irrigation (Lawn and Garden) Percent Acres Irrigated  \\\n",
       "0                                                        \n",
       "\n",
       "  Irrigation (Agriculture) Acres Irrigated.1      DEQ ID Population  \\\n",
       "0                                            27010.00000    0.00000   \n",
       "\n",
       "  Domestic Use Commercial Use Industrial Use Institutional Use      Total Use  \\\n",
       "0      0.00000        0.00000        0.00000                   18301270.92000   \n",
       "\n",
       "  Method of Measurement Domestic Connections Commercial Connections  \\\n",
       "0                                    0.00000                0.00000   \n",
       "\n",
       "  Industrial Connections Institutional Connections Total Connections  \\\n",
       "0                0.00000                                    52.00000   \n",
       "\n",
       "  Peak Date Peak Demand Peak Demand Units Peak Use Include  \\\n",
       "0                                                            \n",
       "\n",
       "  Peak Measurement Type Peak Wholesale Volume Peak Wholesale Volume Units  \\\n",
       "0                                                                           \n",
       "\n",
       "  ERC Yes/No  ERC Value Secondary Domestic Percent  \\\n",
       "0          Y  Not Avail                              \n",
       "\n",
       "  Secondary Industrial Percent Secondary Commercial Percent  \\\n",
       "0                                                             \n",
       "\n",
       "  Secondary Institutional Percent Secondary Agriculture Percent  \\\n",
       "0                                                                 \n",
       "\n",
       "  Secondary Domestic Connections Secondary Industrial Connections  \\\n",
       "0                                                                   \n",
       "\n",
       "  Secondary Commercial Connections Secondary Institutional Connections  \\\n",
       "0                                                                        \n",
       "\n",
       "  Secondary Agriculture Connections  \\\n",
       "0                                     \n",
       "\n",
       "  Secondary Irrigation (Lawn and Garden) Acres  \\\n",
       "0                                                \n",
       "\n",
       "  Secondary Irrigation (Agriculture) Acres  \\\n",
       "0                                            \n",
       "\n",
       "  Secondary Metered Domestic Connections  \\\n",
       "0                                          \n",
       "\n",
       "  Secondary Metered Industrial Connections  \\\n",
       "0                                            \n",
       "\n",
       "  Secondary Metered Commercial Connections  \\\n",
       "0                                            \n",
       "\n",
       "  Secondary Metered Institutional Connections  \\\n",
       "0                                               \n",
       "\n",
       "  Secondary Metered Agriculture Connections Secondary Metered Domestic Use  \\\n",
       "0                                                                            \n",
       "\n",
       "  Secondary Metered Commercial Use Secondary Metered Industrial Use  \\\n",
       "0                                                                     \n",
       "\n",
       "  Secondary Metered Institutional Use Secondary Metered Agriculture Use  \\\n",
       "0                                                                         \n",
       "\n",
       "                                     System Comments WaDEUUID  \n",
       "0  (1988)1. Spring totals do not include overflow...     in20  "
      ]
     },
     "execution_count": 4,
     "metadata": {},
     "output_type": "execute_result"
    }
   ],
   "source": [
    "# Input File - water_use_data_System\n",
    "fileInput = \"RawInputData/water_use_data_System.zip\"\n",
    "dfin2 = pd.read_csv(fileInput).replace(np.nan, \"\")\n",
    "\n",
    "# WaDE UUID tracker for data assessment\n",
    "if 'WaDEUUID' not in dfin2:\n",
    "    dfin2['WaDEUUID'] = \"in2\" + dfin2.index.astype(str)\n",
    "    dfin2.to_csv(\"RawInputData/water_use_data_System.zip\", compression=dict(method='zip', archive_name=\"water_use_data_System.csv\"), index=False)\n",
    "\n",
    "print(len(dfin2))\n",
    "dfin2.head(1)"
   ]
  },
  {
   "cell_type": "code",
   "execution_count": 5,
   "metadata": {},
   "outputs": [
    {
     "data": {
      "text/html": [
       "<div>\n",
       "<style scoped>\n",
       "    .dataframe tbody tr th:only-of-type {\n",
       "        vertical-align: middle;\n",
       "    }\n",
       "\n",
       "    .dataframe tbody tr th {\n",
       "        vertical-align: top;\n",
       "    }\n",
       "\n",
       "    .dataframe thead th {\n",
       "        text-align: right;\n",
       "    }\n",
       "</style>\n",
       "<table border=\"1\" class=\"dataframe\">\n",
       "  <thead>\n",
       "    <tr style=\"text-align: right;\">\n",
       "      <th></th>\n",
       "      <th>FID_1</th>\n",
       "      <th>WRENAME</th>\n",
       "      <th>WRNAME</th>\n",
       "      <th>DWNAME</th>\n",
       "      <th>SYSTEMTYPE</th>\n",
       "      <th>WATERRESID</th>\n",
       "      <th>WRID</th>\n",
       "      <th>DWSYSNUM</th>\n",
       "      <th>WRLINK</th>\n",
       "      <th>WHOLESALER</th>\n",
       "      <th>LABEL</th>\n",
       "      <th>STATE</th>\n",
       "      <th>COUNTY</th>\n",
       "      <th>BASIN</th>\n",
       "      <th>SUBAREA</th>\n",
       "      <th>SUBAREANAM</th>\n",
       "      <th>LANUM</th>\n",
       "      <th>LANAME</th>\n",
       "      <th>ENDYEAR</th>\n",
       "      <th>DATASOURCE</th>\n",
       "      <th>SOURCEDATE</th>\n",
       "      <th>EDITOR</th>\n",
       "      <th>EDITDATE</th>\n",
       "      <th>STATUS</th>\n",
       "      <th>wade_cent_</th>\n",
       "      <th>wade_cent1</th>\n",
       "      <th>Shape_Leng</th>\n",
       "      <th>SHAPE_Le_1</th>\n",
       "      <th>Shape_Le_2</th>\n",
       "      <th>Shape_Area</th>\n",
       "      <th>geometry</th>\n",
       "    </tr>\n",
       "  </thead>\n",
       "  <tbody>\n",
       "    <tr>\n",
       "      <th>0</th>\n",
       "      <td>1</td>\n",
       "      <td>Irontown</td>\n",
       "      <td>Irontown</td>\n",
       "      <td>Irontown</td>\n",
       "      <td>C</td>\n",
       "      <td>564</td>\n",
       "      <td>11358</td>\n",
       "      <td>UTAH11070</td>\n",
       "      <td>https://www.waterrights.utah.gov/asp_apps/view...</td>\n",
       "      <td>NaN</td>\n",
       "      <td>NaN</td>\n",
       "      <td>Utah</td>\n",
       "      <td>Iron</td>\n",
       "      <td>Cedar/Beaver</td>\n",
       "      <td>06-03-01</td>\n",
       "      <td>Escalante Desert</td>\n",
       "      <td>06-03-01a</td>\n",
       "      <td>Escalante Desert</td>\n",
       "      <td>2022</td>\n",
       "      <td>DWRe/Supplier</td>\n",
       "      <td>2021-09-08</td>\n",
       "      <td>ADAMCLARK</td>\n",
       "      <td>2021-11-19</td>\n",
       "      <td>Active</td>\n",
       "      <td>-113.44596</td>\n",
       "      <td>37.60243</td>\n",
       "      <td>6132.97250</td>\n",
       "      <td>6132.97250</td>\n",
       "      <td>0.06338</td>\n",
       "      <td>0.00007</td>\n",
       "      <td>POLYGON ((-113.45270 37.60395, -113.45335 37.6...</td>\n",
       "    </tr>\n",
       "  </tbody>\n",
       "</table>\n",
       "</div>"
      ],
      "text/plain": [
       "   FID_1   WRENAME    WRNAME    DWNAME SYSTEMTYPE  WATERRESID   WRID  \\\n",
       "0      1  Irontown  Irontown  Irontown          C         564  11358   \n",
       "\n",
       "    DWSYSNUM                                             WRLINK WHOLESALER  \\\n",
       "0  UTAH11070  https://www.waterrights.utah.gov/asp_apps/view...        NaN   \n",
       "\n",
       "  LABEL STATE COUNTY         BASIN   SUBAREA        SUBAREANAM      LANUM  \\\n",
       "0   NaN  Utah   Iron  Cedar/Beaver  06-03-01  Escalante Desert  06-03-01a   \n",
       "\n",
       "             LANAME  ENDYEAR     DATASOURCE  SOURCEDATE     EDITOR  \\\n",
       "0  Escalante Desert     2022  DWRe/Supplier  2021-09-08  ADAMCLARK   \n",
       "\n",
       "     EDITDATE  STATUS  wade_cent_  wade_cent1  Shape_Leng  SHAPE_Le_1  \\\n",
       "0  2021-11-19  Active  -113.44596    37.60243  6132.97250  6132.97250   \n",
       "\n",
       "   Shape_Le_2  Shape_Area                                           geometry  \n",
       "0     0.06338     0.00007  POLYGON ((-113.45270 37.60395, -113.45335 37.6...  "
      ]
     },
     "execution_count": 5,
     "metadata": {},
     "output_type": "execute_result"
    }
   ],
   "source": [
    "# Input File - CulinaryWaterServiceArea.shp\n",
    "shapefileInput = \"RawInputData/shapefiles/CulinaryWaterServiceArea.zip\" # ziped folder of the shp file\n",
    "dfPoUshapetemp = gpd.read_file(shapefileInput)\n",
    "dfPoUshapetemp.head(1)"
   ]
  },
  {
   "cell_type": "markdown",
   "metadata": {},
   "source": [
    "## Work with Data"
   ]
  },
  {
   "cell_type": "markdown",
   "metadata": {},
   "source": [
    "#### Source POD Data"
   ]
  },
  {
   "cell_type": "code",
   "execution_count": 6,
   "metadata": {},
   "outputs": [
    {
     "name": "stdout",
     "output_type": "stream",
     "text": [
      "187055\n"
     ]
    },
    {
     "data": {
      "text/html": [
       "<div>\n",
       "<style scoped>\n",
       "    .dataframe tbody tr th:only-of-type {\n",
       "        vertical-align: middle;\n",
       "    }\n",
       "\n",
       "    .dataframe tbody tr th {\n",
       "        vertical-align: top;\n",
       "    }\n",
       "\n",
       "    .dataframe thead th {\n",
       "        text-align: right;\n",
       "    }\n",
       "</style>\n",
       "<table border=\"1\" class=\"dataframe\">\n",
       "  <thead>\n",
       "    <tr style=\"text-align: right;\">\n",
       "      <th></th>\n",
       "      <th>System ID</th>\n",
       "      <th>System Name_x</th>\n",
       "      <th>Source ID</th>\n",
       "      <th>Source Name</th>\n",
       "      <th>Source Status</th>\n",
       "      <th>Lat NAD83</th>\n",
       "      <th>Lon NAD83</th>\n",
       "      <th>Source Type</th>\n",
       "      <th>Diversion Type</th>\n",
       "      <th>Use Type</th>\n",
       "      <th>Year</th>\n",
       "      <th>Units</th>\n",
       "      <th>Method of Measurement</th>\n",
       "      <th>Jan</th>\n",
       "      <th>Feb</th>\n",
       "      <th>Mar</th>\n",
       "      <th>Apr</th>\n",
       "      <th>May</th>\n",
       "      <th>Jun</th>\n",
       "      <th>Jul</th>\n",
       "      <th>Aug</th>\n",
       "      <th>Sep</th>\n",
       "      <th>Oct</th>\n",
       "      <th>Nov</th>\n",
       "      <th>Dec</th>\n",
       "      <th>Total</th>\n",
       "      <th>Source Comments</th>\n",
       "      <th>WaDEUUID</th>\n",
       "      <th>System Name_y</th>\n",
       "      <th>County</th>\n",
       "    </tr>\n",
       "  </thead>\n",
       "  <tbody>\n",
       "    <tr>\n",
       "      <th>0</th>\n",
       "      <td>1000</td>\n",
       "      <td>Leeds Domestic Water Users Association</td>\n",
       "      <td>10000001</td>\n",
       "      <td>Oak Grove Spring (WS001)</td>\n",
       "      <td>Active</td>\n",
       "      <td>37.30895</td>\n",
       "      <td>-113.42877</td>\n",
       "      <td>Spring</td>\n",
       "      <td>Withdrawal</td>\n",
       "      <td>Water Supplier</td>\n",
       "      <td></td>\n",
       "      <td></td>\n",
       "      <td></td>\n",
       "      <td></td>\n",
       "      <td></td>\n",
       "      <td></td>\n",
       "      <td></td>\n",
       "      <td></td>\n",
       "      <td></td>\n",
       "      <td></td>\n",
       "      <td></td>\n",
       "      <td></td>\n",
       "      <td></td>\n",
       "      <td></td>\n",
       "      <td></td>\n",
       "      <td></td>\n",
       "      <td>*Source 1 springs and Source 2 well are combin...</td>\n",
       "      <td>in10</td>\n",
       "      <td>Leeds Domestic Water Users Association</td>\n",
       "      <td>Washington</td>\n",
       "    </tr>\n",
       "  </tbody>\n",
       "</table>\n",
       "</div>"
      ],
      "text/plain": [
       "   System ID                           System Name_x  Source ID  \\\n",
       "0       1000  Leeds Domestic Water Users Association   10000001   \n",
       "\n",
       "                Source Name Source Status Lat NAD83  Lon NAD83 Source Type  \\\n",
       "0  Oak Grove Spring (WS001)        Active  37.30895 -113.42877      Spring   \n",
       "\n",
       "  Diversion Type        Use Type Year Units Method of Measurement Jan Feb Mar  \\\n",
       "0     Withdrawal  Water Supplier                                                \n",
       "\n",
       "  Apr May Jun Jul Aug Sep Oct Nov Dec Total  \\\n",
       "0                                             \n",
       "\n",
       "                                     Source Comments WaDEUUID  \\\n",
       "0  *Source 1 springs and Source 2 well are combin...     in10   \n",
       "\n",
       "                            System Name_y      County  \n",
       "0  Leeds Domestic Water Users Association  Washington  "
      ]
     },
     "execution_count": 6,
     "metadata": {},
     "output_type": "execute_result"
    }
   ],
   "source": [
    "# left merge\n",
    "dfin1 = dfin1.merge(dfin2[['System ID', 'System Name', 'County']], left_on='System ID', right_on='System ID', how='left').replace(np.nan, \"\")\n",
    "print(len(dfin1))\n",
    "dfin1.head(1)"
   ]
  },
  {
   "cell_type": "code",
   "execution_count": 7,
   "metadata": {},
   "outputs": [
    {
     "data": {
      "text/plain": [
       "array(['Surface Water', 'Groundwater'], dtype=object)"
      ]
     },
     "execution_count": 7,
     "metadata": {},
     "output_type": "execute_result"
    }
   ],
   "source": [
    "# fix blank / null WaterSourcetypeCV\n",
    "# simplify to WaDE specific categories\n",
    "\n",
    "wsTypeDict = {\n",
    "    \"Well\" : \"Groundwater\",\n",
    "    \"Well/Spring\" : \"Groundwater\",\n",
    "    \"Well Field\" : \"Groundwater\",\n",
    "    \"Well/Stream\" : \"Groundwater\",\n",
    "    \"Tunnel\" : \"Groundwater\",\n",
    "    \"Drain\" : \"Groundwater\",\n",
    "    \"Stream\" : \"Surface Water\",\n",
    "    \"Spring\" : \"Surface Water\",\n",
    "    \"Reservoir\" : \"Surface Water\",\n",
    "    \"Lake\" : \"Surface Water\"}\n",
    "\n",
    "def fixWaterSourceTypeCV(valA):\n",
    "    valA = str(valA).strip()\n",
    "    if valA == \"\" or pd.isnull(valA):\n",
    "        outString = \"WaDE Blank\"\n",
    "    else:\n",
    "        try:\n",
    "            outString = wsTypeDict[valA]\n",
    "        except:\n",
    "            outString = \"WaDE Blank\"\n",
    "    return outString\n",
    "\n",
    "dfin1['in_WaterSourceTypeCV'] = dfin1.apply(lambda row: fixWaterSourceTypeCV(row['Source Type']), axis=1)\n",
    "dfin1['in_WaterSourceTypeCV'].unique()"
   ]
  },
  {
   "cell_type": "code",
   "execution_count": 8,
   "metadata": {},
   "outputs": [],
   "source": [
    "# Loop data list.  Use this to search for specific fields.\n",
    "monthUseList =  ['Jan',     'Feb',     'Mar',     'Apr',     'May',    'Jun',      'Jul',     'Aug',     'Sep',     'Oct',     'Nov',     'Dec',     'Total']\n",
    "aggregatList =  [\"Monthly\", \"Monthly\", \"Monthly\", \"Monthly\", \"Monthly\", \"Monthly\", \"Monthly\", \"Monthly\", \"Monthly\", \"Monthly\", \"Monthly\", \"Monthly\", \"Annual\"]\n",
    "startDateList = [\"01/01/\",  \"02/01/\",  \"03/01/\",  \"04/01/\",  \"05/01/\",  \"06/01/\",  \"07/01/\",  \"08/01/\",  \"09/01/\",  \"10/01/\",  \"11/01/\",  \"12/01/\",  \"01/01/\"]\n",
    "endDateList =   [\"01/31/\",  \"02/28/\",  \"03/31/\",  \"04/30/\",  \"05/31/\",  \"06/30/\",  \"07/31/\",  \"08/31/\",  \"09/30/\",  \"10/31/\",  \"11/30/\",  \"12/31/\",  \"12/31/\"]"
   ]
  },
  {
   "cell_type": "code",
   "execution_count": 10,
   "metadata": {},
   "outputs": [
    {
     "ename": "TypeError",
     "evalue": "list indices must be integers or slices, not str",
     "output_type": "error",
     "traceback": [
      "\u001b[1;31m---------------------------------------------------------------------------\u001b[0m",
      "\u001b[1;31mTypeError\u001b[0m                                 Traceback (most recent call last)",
      "Cell \u001b[1;32mIn[10], line 16\u001b[0m\n\u001b[0;32m     14\u001b[0m \u001b[38;5;66;03m# Variable Info\u001b[39;00m\n\u001b[0;32m     15\u001b[0m df[\u001b[38;5;124m'\u001b[39m\u001b[38;5;124min_VariableSpecificUUID\u001b[39m\u001b[38;5;124m'\u001b[39m] \u001b[38;5;241m=\u001b[39m \u001b[38;5;124m\"\u001b[39m\u001b[38;5;124m\"\u001b[39m \u001b[38;5;66;03m# will create sa portion below\u001b[39;00m\n\u001b[1;32m---> 16\u001b[0m df[\u001b[38;5;124m'\u001b[39m\u001b[38;5;124min_AggregationIntervalUnitCV\u001b[39m\u001b[38;5;124m'\u001b[39m] \u001b[38;5;241m=\u001b[39m \u001b[43maggregatList\u001b[49m\u001b[43m[\u001b[49m\u001b[43mx\u001b[49m\u001b[43m]\u001b[49m\n\u001b[0;32m     17\u001b[0m df[\u001b[38;5;124m'\u001b[39m\u001b[38;5;124min_VariableCV\u001b[39m\u001b[38;5;124m'\u001b[39m] \u001b[38;5;241m=\u001b[39m dfin1[\u001b[38;5;124m'\u001b[39m\u001b[38;5;124mDiversion Type\u001b[39m\u001b[38;5;124m'\u001b[39m]\n\u001b[0;32m     19\u001b[0m \u001b[38;5;66;03m# Organization Info\u001b[39;00m\n",
      "\u001b[1;31mTypeError\u001b[0m: list indices must be integers or slices, not str"
     ]
    }
   ],
   "source": [
    "# create output POD dataframe\n",
    "df = pd.DataFrame()\n",
    "\n",
    "# for each value in variableTypeList\n",
    "for x in monthUseList:\n",
    "    \n",
    "    # Data Assessment UUID\n",
    "    df['WaDEUUID'] = \"WaDEUUID\"\n",
    "    \n",
    "    # Method Info\n",
    "    df['in_MethodUUID'] = \"\" # will create sa portion below\n",
    "    df['in_MethodTypeCV'] = dfin1['Method of Measurement']\n",
    "    \n",
    "    # Variable Info\n",
    "    df['in_VariableSpecificUUID'] = \"\" # will create sa portion below\n",
    "    df['in_AggregationIntervalUnitCV'] = aggregatList[x]\n",
    "    df['in_VariableCV'] = dfin1['Diversion Type']\n",
    "    \n",
    "    # Organization Info\n",
    "    df['in_OrganizationUUID'] = \"UTssps_O1\"\n",
    "    \n",
    "    # WaterSource Info\n",
    "    df['in_Geometry'] = \"\"\n",
    "    df['in_GNISFeatureNameCV'] = \"\"\n",
    "    df['in_WaterQualityIndicatorCV'] = \"Fresh\"\n",
    "    df['in_WaterSourceName'] = \"WaDE Blank\" # need this for auto fill below\n",
    "    df['in_WaterSourceNativeID'] = \"\" # auto fill in below\n",
    "    df['in_WaterSourceTypeCV'] = dfin1['in_WaterSourceTypeCV'] # need this for auto fill below\n",
    "    \n",
    "    # Site Info\n",
    "    df['in_CoordinateAccuracy'] = \"WaDE Blank\"\n",
    "    df['in_CoordinateMethodCV'] = \"WaDE Blank\"\n",
    "    df['in_County'] = dfin1['County']\n",
    "    df['in_EPSGCodeCV'] = 4326\n",
    "    df['in_Geometry'] = \"\"\n",
    "    df['in_GNISCodeCV'] = \"\"\n",
    "    df['in_HUC12'] = \"\"\n",
    "    df['in_HUC8'] = \"\"\n",
    "    df['in_Latitude'] = dfin1['Lat NAD83']\n",
    "    df['in_Longitude'] = dfin1['Lon NAD83']\n",
    "    df['in_NHDNetworkStatusCV'] = \"\"\n",
    "    df['in_NHDProductCV'] = \"\"\n",
    "    df['in_PODorPOUSite'] = \"POD\"\n",
    "    df['in_SiteName'] = dfin1['Source Name']\n",
    "    df['in_SiteNativeID'] = dfin['Source ID']\n",
    "    df['in_SitePoint'] = \"\"\n",
    "    df['in_SiteTypeCV'] = dfin1['Source Type']\n",
    "    df['in_StateCV'] = \"UT\"\n",
    "    df['in_USGSSiteID'] = \"\"\n",
    "       \n",
    "    # Site VariableAmounts Info\n",
    "    df['in_Amount'] = dfin1[monthUseList[x]]\n",
    "    df['in_AllocationCropDutyAmount'] = \"\"\n",
    "    df['in_AssociatedNativeAllocationIDs'] = \"\"\n",
    "    df['in_BeneficialUseCategory'] = dfin1['Use Type']\n",
    "    df['in_CommunityWaterSupplySystem'] = dfin1['System Name']\n",
    "    df['in_CropTypeCV'] = \"\"\n",
    "    df['in_CustomerTypeCV'] = \"\"\n",
    "    df['in_DataPublicationDate'] = \"\"\n",
    "    df['in_DataPublicationDOI'] = \"\"\n",
    "    df['in_Geometry'] = \"\"\n",
    "    df['in_IrrigatedAcreage'] = \"\"\n",
    "    df['in_IrrigationMethodCV'] = \"\"\n",
    "    df['in_PopulationServed'] = dfin1['Population']\n",
    "    df['in_PowerGeneratedGWh'] = \"\"\n",
    "    df['in_PowerType'] = \"\"\n",
    "    df['in_PrimaryUseCategory'] = \"\" # auto fill in below\n",
    "    df['in_ReportYearCV'] =  dfin1['Year']\n",
    "    df['in_SDWISIdentifier'] = \"\"\n",
    "    df['in_TimeframeEnd'] = endDateList[x] + dfin1['Year'].astype(str)\n",
    "    df['in_TimeframeStart'] = startDateList[x] + dfin1['Year']\n",
    "\n",
    "outdf1 = df.copy()\n",
    "outdf1 = outdf1.drop_duplicates().reset_index(drop=True)\n",
    "print(len(outdf1))\n",
    "outdf1.head()"
   ]
  },
  {
   "cell_type": "markdown",
   "metadata": {},
   "source": [
    "## Concatenate POD and POU Data.  Make needed changes"
   ]
  },
  {
   "cell_type": "code",
   "execution_count": null,
   "metadata": {},
   "outputs": [],
   "source": [
    "# etc etc,\n",
    "# outdf2"
   ]
  },
  {
   "cell_type": "markdown",
   "metadata": {},
   "source": [
    "## Concatenate DataFrames together"
   ]
  },
  {
   "cell_type": "code",
   "execution_count": null,
   "metadata": {},
   "outputs": [],
   "source": [
    "# Concatenate dataframes\n",
    "frames = [outdf1, outdf2]  # list all out dataframes here\n",
    "outdf = pd.concat(frames)\n",
    "outdf = outdf.drop_duplicates().reset_index(drop=True).replace(np.nan, \"\")\n",
    "print(len(outdf))"
   ]
  },
  {
   "cell_type": "markdown",
   "metadata": {},
   "source": [
    "## Clean Data / data types"
   ]
  },
  {
   "cell_type": "code",
   "execution_count": null,
   "metadata": {},
   "outputs": [],
   "source": [
    "# Clean name entries of spcial characters\n",
    "def removeSpecialCharsFunc(Val):\n",
    "    Val = str(Val)\n",
    "    Val = re.sub(\"[$@&.;/\\)(-]\", \"\", Val).title().replace(\"  \", \" \").strip()\n",
    "    return Val"
   ]
  },
  {
   "cell_type": "code",
   "execution_count": null,
   "metadata": {},
   "outputs": [],
   "source": [
    "outdf['in_WaterSourceName'] = outdf.apply(lambda row: removeSpecialCharsFunc(row['in_WaterSourceName']), axis=1)\n",
    "outdf['in_WaterSourceName'].unique()"
   ]
  },
  {
   "cell_type": "code",
   "execution_count": null,
   "metadata": {},
   "outputs": [],
   "source": [
    "outdf['in_County'] = outdf.apply(lambda row: removeSpecialCharsFunc(row['in_County']), axis=1)\n",
    "outdf['in_County'].unique()"
   ]
  },
  {
   "cell_type": "code",
   "execution_count": null,
   "metadata": {},
   "outputs": [],
   "source": [
    "outdf['in_SiteName'] = outdf.apply(lambda row: removeSpecialCharsFunc(row['in_SiteName']), axis=1)\n",
    "outdf['in_SiteName'].unique()"
   ]
  },
  {
   "cell_type": "code",
   "execution_count": null,
   "metadata": {},
   "outputs": [],
   "source": [
    "outdf['in_AllocationOwner'] = outdf.apply(lambda row: removeSpecialCharsFunc(row['in_AllocationOwner']), axis=1)\n",
    "outdf['in_AllocationOwner'].unique()"
   ]
  },
  {
   "cell_type": "code",
   "execution_count": null,
   "metadata": {},
   "outputs": [],
   "source": [
    "# Ensure Empty String / remove string value of \"nan\"\n",
    "\n",
    "def ensureEmptyString(val):\n",
    "    val = str(val).strip()\n",
    "    if val == \"\" or val == \" \" or val == \"nan\" or pd.isnull(val):\n",
    "        outString = \"\"\n",
    "    else:\n",
    "        outString = val\n",
    "    return outString"
   ]
  },
  {
   "cell_type": "code",
   "execution_count": null,
   "metadata": {},
   "outputs": [],
   "source": [
    "outdf['in_WaterSourceName'] = outdf.apply(lambda row: ensureEmptyString(row['in_WaterSourceName']), axis=1)\n",
    "outdf['in_WaterSourceName'].unique()"
   ]
  },
  {
   "cell_type": "code",
   "execution_count": null,
   "metadata": {},
   "outputs": [],
   "source": [
    "outdf['in_WaterSourceTypeCV'] = outdf.apply(lambda row: ensureEmptyString(row['in_WaterSourceTypeCV']), axis=1)\n",
    "outdf['in_WaterSourceTypeCV'].unique()"
   ]
  },
  {
   "cell_type": "code",
   "execution_count": null,
   "metadata": {},
   "outputs": [],
   "source": [
    "outdf['in_SiteTypeCV'] = outdf.apply(lambda row: ensureEmptyString(row['in_SiteTypeCV']), axis=1)\n",
    "outdf['in_SiteTypeCV'].unique()"
   ]
  },
  {
   "cell_type": "code",
   "execution_count": null,
   "metadata": {},
   "outputs": [],
   "source": [
    "outdf['in_SiteName'] = outdf.apply(lambda row: ensureEmptyString(row['in_SiteName']), axis=1)\n",
    "outdf['in_SiteName'].unique()"
   ]
  },
  {
   "cell_type": "code",
   "execution_count": null,
   "metadata": {},
   "outputs": [],
   "source": [
    "outdf['in_County'] = outdf.apply(lambda row: ensureEmptyString(row['in_County']), axis=1)\n",
    "outdf['in_County'].unique()"
   ]
  },
  {
   "cell_type": "code",
   "execution_count": null,
   "metadata": {},
   "outputs": [],
   "source": [
    "outdf['in_AllocationOwner'] = outdf.apply(lambda row: ensureEmptyString(row['in_AllocationOwner']), axis=1)\n",
    "outdf['in_AllocationOwner'].unique()"
   ]
  },
  {
   "cell_type": "code",
   "execution_count": null,
   "metadata": {},
   "outputs": [],
   "source": [
    "outdf['in_BeneficialUseCategory'] = outdf.apply(lambda row: ensureEmptyString(row['in_BeneficialUseCategory']), axis=1)\n",
    "uniqueList = list(set([i.strip() for i in ','.join(outdf['in_BeneficialUseCategory'].astype(str)).split(',')]))\n",
    "uniqueList.sort()\n",
    "uniqueList"
   ]
  },
  {
   "cell_type": "code",
   "execution_count": null,
   "metadata": {},
   "outputs": [],
   "source": [
    "# Ensure Latitude entry is numireic, replace '0' values for removal\n",
    "outdf['in_Latitude'] = pd.to_numeric(outdf['in_Latitude'], errors='coerce').replace(0,\"\").fillna(\"\")\n",
    "outdf['in_Latitude'].unique()"
   ]
  },
  {
   "cell_type": "code",
   "execution_count": null,
   "metadata": {},
   "outputs": [],
   "source": [
    "# Ensure Longitude entry is numireic, replace '0' values for removal\n",
    "outdf['in_Longitude'] = pd.to_numeric(outdf['in_Longitude'], errors='coerce').replace(0,\"\").fillna(\"\")\n",
    "outdf['in_Longitude'].unique()"
   ]
  },
  {
   "cell_type": "code",
   "execution_count": null,
   "metadata": {},
   "outputs": [],
   "source": [
    "# Fixing in_AllocationFlow_CFS datatype\n",
    "outdf['in_AllocationFlow_CFS'] = pd.to_numeric(outdf['in_AllocationFlow_CFS'], errors='coerce').replace(0,\"\").fillna(\"\")\n",
    "outdf['in_AllocationFlow_CFS'].unique()"
   ]
  },
  {
   "cell_type": "code",
   "execution_count": null,
   "metadata": {},
   "outputs": [],
   "source": [
    "# Fixing in_AllocationVolume_AF datatype\n",
    "outdf['in_AllocationVolume_AF'] = pd.to_numeric(outdf['in_AllocationVolume_AF'], errors='coerce').replace(0,\"\").fillna(\"\")\n",
    "outdf['in_AllocationVolume_AF'].unique()"
   ]
  },
  {
   "cell_type": "code",
   "execution_count": null,
   "metadata": {},
   "outputs": [],
   "source": [
    "# Ensure Amount entry is either numireic or blank, no 0 entries\n",
    "outdf['in_Amount'] = pd.to_numeric(outdf['in_Amount'], errors='coerce').round(2).replace(0,\"\").fillna(\"\")\n",
    "outdf['in_Amount'].unique()"
   ]
  },
  {
   "cell_type": "code",
   "execution_count": null,
   "metadata": {},
   "outputs": [],
   "source": [
    "# Ensure PopulationServed entry is numireic WITH 0 entries (no blank strings)\n",
    "outdf['in_PopulationServed'] = pd.to_numeric(outdf['in_PopulationServed'], errors='coerce').round().replace(\"\",0).fillna(0).astype(int).replace(0,\"\").fillna(\"\")\n",
    "outdf['in_PopulationServed'].unique()"
   ]
  },
  {
   "cell_type": "code",
   "execution_count": null,
   "metadata": {},
   "outputs": [],
   "source": [
    "#Update datatype of Priority Date to fit WaDE 2.0 structure\n",
    "outdf['in_AllocationPriorityDate'] = pd.to_datetime(outdf['in_AllocationPriorityDate'])\n",
    "outdf['in_AllocationPriorityDate'] = pd.to_datetime(outdf['in_AllocationPriorityDate'].dt.strftime('%m/%d/%Y'))\n",
    "outdf['in_AllocationPriorityDate'].unique()"
   ]
  },
  {
   "cell_type": "code",
   "execution_count": null,
   "metadata": {},
   "outputs": [],
   "source": [
    "# Convert TimeframeEnd to YYYY-MM-DD format.\n",
    "outdf['in_TimeframeEnd'] = pd.to_datetime(outdf['in_TimeframeEnd'], utc=True, errors = 'coerce').fillna(\"\")\n",
    "outdf['in_TimeframeEnd'] = pd.to_datetime(outdf[\"in_TimeframeEnd\"].dt.strftime('%m/%d/%Y'))\n",
    "outdf['in_TimeframeEnd'].unique()"
   ]
  },
  {
   "cell_type": "code",
   "execution_count": null,
   "metadata": {},
   "outputs": [],
   "source": [
    "# Convert TimeframeStart to YYYY-MM-DD format.\n",
    "outdf['in_TimeframeStart'] = pd.to_datetime(outdf['in_TimeframeStart'], utc=True, errors = 'coerce').fillna(\"\")\n",
    "outdf['in_TimeframeStart'] = pd.to_datetime(outdf[\"in_TimeframeStart\"].dt.strftime('%m/%d/%Y'))\n",
    "outdf['in_TimeframeStart'].unique()"
   ]
  },
  {
   "cell_type": "code",
   "execution_count": null,
   "metadata": {},
   "outputs": [],
   "source": [
    "# extract year out\n",
    "outdf['in_ReportYearCV'] = outdf['in_ReportYearCV'].replace(\"\", 0).fillna(0).astype(int).astype(str)\n",
    "outdf['in_ReportYearCV'].unique()"
   ]
  },
  {
   "cell_type": "code",
   "execution_count": null,
   "metadata": {},
   "outputs": [],
   "source": [
    "# Assign Primary Use Category\n",
    "\n",
    "import sys\n",
    "sys.path.append(\"C:/Users/rjame/Documents/WSWC Documents/MappingStatesDataToWaDE2.0/5_CustomFunctions/AssignPrimaryUseCategory\")\n",
    "import AssignPrimaryUseCategoryFile # Use Custom import file\n",
    "\n",
    "outdf['in_PrimaryUseCategory'] = outdf.apply(lambda row: AssignPrimaryUseCategoryFile.retrievePrimaryUseCategory(row['in_BeneficialUseCategory']), axis=1)\n",
    "outdf['in_PrimaryUseCategory'].unique()"
   ]
  },
  {
   "cell_type": "code",
   "execution_count": null,
   "metadata": {},
   "outputs": [],
   "source": [
    "# Creating WaDE MethodUUID\n",
    "# ----------------------------------------------------------------------------------------------------\n",
    "\n",
    "\n",
    "\n",
    "outdf['MethodUUID'].unique()"
   ]
  },
  {
   "cell_type": "code",
   "execution_count": null,
   "metadata": {},
   "outputs": [],
   "source": [
    "# Creating WaDE Custom VariableSpecificCV\n",
    "# ----------------------------------------------------------------------------------------------------\n",
    "def createVariableSpecificCV(inV, inAIU, inPU, inWST):\n",
    "    inV = str(inV).strip()\n",
    "    inAIU = str(inAIU).strip()\n",
    "    inPU = str(inPU).strip().title()\n",
    "    inWST = str(inWST).strip()\n",
    "    outString = inV + \"_\" + inAIU + \"_\" + inPU + \"_\" + inWST\n",
    "    return outString\n",
    "\n",
    "outdf['in_VariableSpecificCV'] = outdf.apply(lambda row: createVariableSpecificCV(row['in_VariableCV'], \n",
    "                                                                                  row['in_AggregationIntervalUnitCV'],\n",
    "                                                                                  row['in_PrimaryUseCategory'],\n",
    "                                                                                  row['in_WaterSourceTypeCV']), axis=1)\n",
    "outdf['in_VariableSpecificCV'].unique()"
   ]
  },
  {
   "cell_type": "code",
   "execution_count": null,
   "metadata": {},
   "outputs": [],
   "source": [
    "# Creating WaDE Custom water source native ID for easy water source identification\n",
    "# use unique WaterSourceName and WaterSourceType values\n",
    "# ----------------------------------------------------------------------------------------------------\n",
    "\n",
    "# Create temp in_WaterSourceNativeID dataframe of unique water source.\n",
    "def assignIdValueFunc(colRowValue):\n",
    "    string1 = str(colRowValue)\n",
    "    outstring = \"wadeId\" + string1\n",
    "    return outstring\n",
    "\n",
    "dfTempID = pd.DataFrame()\n",
    "dfTempID['in_WaterSourceName'] = outdf['in_WaterSourceName'].astype(str).str.strip()\n",
    "dfTempID['in_WaterSourceTypeCV'] = outdf['in_WaterSourceTypeCV'].astype(str).str.strip()\n",
    "dfTempID = dfTempID.drop_duplicates()\n",
    "\n",
    "dfTempCount = pd.DataFrame(index=dfTempID.index)\n",
    "dfTempCount[\"Count\"] = range(1, len(dfTempCount.index) + 1)\n",
    "dfTempID['in_WaterSourceNativeID'] = dfTempCount.apply(lambda row: assignIdValueFunc(row['Count']), axis=1)\n",
    "dfTempID['linkKey'] = dfTempID['in_WaterSourceName'].astype(str) + dfTempID['in_WaterSourceTypeCV'].astype(str)\n",
    "IdDict = pd.Series(dfTempID.in_WaterSourceNativeID.values, index=dfTempID.linkKey.astype(str)).to_dict()\n",
    "# ----------------------------------------------------------------------------------------------------\n",
    "\n",
    "# Retreive WaDE Custom site native ID\n",
    "def retrieveIdValueFunc(checkVal, valA, valB):\n",
    "    checkVal = str(checkVal).strip()\n",
    "    if checkVal == \"\":\n",
    "        linkKeyVal = str(valA).strip() + str(valB).strip()\n",
    "        outString = IdDict[linkKeyVal]\n",
    "    else:\n",
    "        outString = checkVal\n",
    "    return outString\n",
    "\n",
    "outdf['in_WaterSourceNativeID'] = outdf.apply(lambda row: retrieveIdValueFunc(row['in_WaterSourceNativeID'], \n",
    "                                                                              row['in_WaterSourceName'], row['in_WaterSourceTypeCV']), axis=1)\n",
    "outdf['in_WaterSourceNativeID'].unique()"
   ]
  },
  {
   "cell_type": "code",
   "execution_count": null,
   "metadata": {},
   "outputs": [],
   "source": [
    "# Creating WaDE Custom site native ID for easy site identification\n",
    "# use Unique Latitude, Longitude, SiteName and SiteTypeCV values\n",
    "# ----------------------------------------------------------------------------------------------------\n",
    "\n",
    "# Create temp in_SiteNativeID dataframe of unique water source.\n",
    "def assignIdValueFunc(colRowValue):\n",
    "    string1 = str(colRowValue)\n",
    "    outstring = \"wadeId\" + string1\n",
    "    return outstring\n",
    "\n",
    "dfTempID = pd.DataFrame()\n",
    "dfTempID['in_Latitude'] = outdf['in_Latitude'].astype(str).str.strip()\n",
    "dfTempID['in_Longitude'] = outdf['in_Longitude'].astype(str).str.strip()\n",
    "dfTempID['in_SiteName'] = outdf['in_SiteName'].astype(str).str.strip()\n",
    "dfTempID['in_SiteTypeCV'] = outdf['in_SiteTypeCV'].astype(str).str.strip()\n",
    "dfTempID = dfTempID.drop_duplicates()\n",
    "\n",
    "dfTempCount = pd.DataFrame(index=dfTempID.index)\n",
    "dfTempCount[\"Count\"] = range(1, len(dfTempCount.index) + 1)\n",
    "dfTempID['in_SiteNativeID'] = dfTempCount.apply(lambda row: assignIdValueFunc(row['Count']), axis=1)\n",
    "dfTempID['linkKey'] = dfTempID['in_Latitude'].astype(str) + dfTempID['in_Longitude'].astype(str) + dfTempID['in_SiteName'].astype(str)+ dfTempID['in_SiteTypeCV'].astype(str)\n",
    "IdDict = pd.Series(dfTempID.in_SiteNativeID.values, index=dfTempID.linkKey.astype(str)).to_dict()\n",
    "# ----------------------------------------------------------------------------------------------------\n",
    "\n",
    "# Retreive WaDE Custom site native ID\n",
    "def retrieveIdValueFunc(checkVal, valA, valB, valC, valD):\n",
    "    checkVal = str(checkVal).strip()\n",
    "    if checkVal == \"\":\n",
    "        linkKeyVal = str(valA).strip() + str(valB).strip() + str(valC).strip() + str(valD).strip()\n",
    "        outString = IdDict[linkKeyVal]\n",
    "    else:\n",
    "        outString = checkVal\n",
    "    return outString\n",
    "\n",
    "outdf['in_SiteNativeID'] = outdf.apply(lambda row: retrieveIdValueFunc(row['in_SiteNativeID'], \n",
    "                                                                       row['in_Latitude'], row['in_Longitude'],\n",
    "                                                                       row['in_SiteName'], row['in_SiteTypeCV']), axis=1)\n",
    "outdf['in_SiteNativeID'].unique()"
   ]
  },
  {
   "cell_type": "markdown",
   "metadata": {},
   "source": [
    "## Drop non-Active AllocationLegalStatusCV Water Rights\n",
    "- For this {state name / organization}, we don't want water rights that are considered: {enter string entries here}"
   ]
  },
  {
   "cell_type": "code",
   "execution_count": null,
   "metadata": {},
   "outputs": [],
   "source": [
    "# drop non-active AllocationLegalStatusCV values specific to that state.\n",
    "\n",
    "# drop the list\n",
    "dropLegalStatusList = [\"\"] # enter string entries here\n",
    "\n",
    "# drop rows from above list\n",
    "outdf = outdf[outdf.in_AllocationLegalStatusCV.isin(dropLegalStatusList) == False].reset_index(drop=True)\n",
    "\n",
    "print(len(outdf))\n",
    "outdf['in_AllocationLegalStatusCV'].unique()"
   ]
  },
  {
   "cell_type": "markdown",
   "metadata": {},
   "source": [
    "## Shapefile Data\n",
    "- For attaching geometry to POU csv inputs."
   ]
  },
  {
   "cell_type": "code",
   "execution_count": null,
   "metadata": {},
   "outputs": [],
   "source": [
    "# PoU Shapefile Data\n",
    "shapefileInput = \"RawInputData/shapefiles/{enter file name here}.zip\" # ziped folder of the shp file\n",
    "\n",
    "dfPoUshapetemp = gpd.read_file(shapefileInput)\n",
    "dfPoUshapetemp['geometry'] = dfPoUshapetemp['geometry'].to_crs(epsg=4326) # Realign Geometry Projection\n",
    "print(len(dfPoUshapetemp))\n",
    "dfPoUshapetemp.head()"
   ]
  },
  {
   "cell_type": "code",
   "execution_count": null,
   "metadata": {},
   "outputs": [],
   "source": [
    "# create temp dataframe to hold native ID and geometry from shapefile input\n",
    "columnsList = ['in_SiteNativeID', 'geometry']\n",
    "dfPoUshape = pd.DataFrame(columns=columnsList)\n",
    "\n",
    "# assing values to temp dataframe based on shapefile input\n",
    "# for in_SiteNativeID assure ID value is the same as that listed above for POU info.\n",
    "dfPoUshape['in_SiteNativeID'] = \"POU\" + \"\"\n",
    "dfPoUshape['geometry'] = dfPoUshapetemp['geometry']\n",
    "dfPoUshape = dfPoUshape.drop_duplicates(subset=None, keep='first', inplace=False, ignore_index=False)\n",
    "print(len(dfPoUshape))\n",
    "dfPoUshape.head()"
   ]
  },
  {
   "cell_type": "markdown",
   "metadata": {},
   "source": [
    "## Export Outputs"
   ]
  },
  {
   "cell_type": "code",
   "execution_count": null,
   "metadata": {},
   "outputs": [],
   "source": [
    "outdf.info()"
   ]
  },
  {
   "cell_type": "code",
   "execution_count": null,
   "metadata": {},
   "outputs": [],
   "source": [
    "outdf"
   ]
  },
  {
   "cell_type": "code",
   "execution_count": null,
   "metadata": {},
   "outputs": [],
   "source": [
    "# Export the output dataframe\n",
    "outdf.to_csv('RawInputData/Pwr_wu_Main.zip', compression=dict(method='zip', archive_name='Pwr_wu_Main.csv'), index=False)  # The output, save as a zip\n",
    "dfPoUshape.to_csv('RawInputData/P_Geometry.zip', compression=dict(method='zip', archive_name='P_Geometry.csv'), index=False)  # The output geometry."
   ]
  },
  {
   "cell_type": "code",
   "execution_count": null,
   "metadata": {},
   "outputs": [],
   "source": []
  }
 ],
 "metadata": {
  "kernelspec": {
   "display_name": "Python 3 (ipykernel)",
   "language": "python",
   "name": "python3"
  },
  "language_info": {
   "codemirror_mode": {
    "name": "ipython",
    "version": 3
   },
   "file_extension": ".py",
   "mimetype": "text/x-python",
   "name": "python",
   "nbconvert_exporter": "python",
   "pygments_lexer": "ipython3",
   "version": "3.9.18"
  }
 },
 "nbformat": 4,
 "nbformat_minor": 4
}
