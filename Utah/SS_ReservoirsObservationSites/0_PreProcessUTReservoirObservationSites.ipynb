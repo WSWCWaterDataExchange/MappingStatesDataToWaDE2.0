{
 "cells": [
  {
   "cell_type": "markdown",
   "id": "1f178c7c",
   "metadata": {},
   "source": [
    "# Retreive Utah Reservoir and Observation Site data for WaDE\n",
    "Notes:\n",
    "- Distribution_Stations.csv contains site information, provdied by David J. Jones via email.\n",
    "- Ex API: https://www.waterrights.utah.gov/dvrtdb/DailyCommaData.aspBYEAR=1960&EYEAR=2022&StationId=2614&Units=Mean+daily+discharge+in+CFS"
   ]
  },
  {
   "cell_type": "code",
   "execution_count": 1,
   "id": "30b11961",
   "metadata": {},
   "outputs": [],
   "source": [
    "# Needed Libararies\n",
    "\n",
    "# Working with data\n",
    "import os\n",
    "import numpy as np\n",
    "import pandas as pd\n",
    "import geopandas as gpd\n",
    "\n",
    "# Visulizaiton\n",
    "import matplotlib.pyplot as plt\n",
    "import seaborn as sns\n",
    "\n",
    "# Working with API\n",
    "import requests\n",
    "import io\n",
    "\n",
    "# Cleanup\n",
    "import time\n",
    "from datetime import datetime\n",
    "pd.set_option('display.max_columns', 999)  # How to display all columns of a Pandas DataFrame in Jupyter Notebook"
   ]
  },
  {
   "cell_type": "code",
   "execution_count": 2,
   "id": "6672cd4e",
   "metadata": {},
   "outputs": [],
   "source": [
    "# Working Directory\n",
    "workingDir = \"G:/Shared drives/WaDE Data/Utah/SS_ReservoirsObservationSites/RawInputData\"\n",
    "os.chdir(workingDir)"
   ]
  },
  {
   "cell_type": "markdown",
   "id": "00b9fc3e",
   "metadata": {},
   "source": [
    "### Distribution_Stations Site Data"
   ]
  },
  {
   "cell_type": "code",
   "execution_count": null,
   "id": "bfcb3294",
   "metadata": {},
   "outputs": [],
   "source": [
    "# this is working fine & can be skipped for now.\n",
    "\n",
    "fileInput = \"Distribution_Stations.csv\"\n",
    "dfds = pd.read_csv(fileInput)\n",
    "print(len(dfds))\n",
    "dfds.head()"
   ]
  },
  {
   "cell_type": "code",
   "execution_count": null,
   "id": "2a13d751",
   "metadata": {},
   "outputs": [],
   "source": [
    "# Get list of STATION_ID\n",
    "stationIDList = dfds['STATION_ID'].astype(int).astype(str).tolist()   \n",
    "print(len(stationIDList))\n",
    "stationIDList"
   ]
  },
  {
   "cell_type": "markdown",
   "id": "a2856299",
   "metadata": {},
   "source": [
    "### Getting Workable URLs using Station ID list from API 1"
   ]
  },
  {
   "cell_type": "code",
   "execution_count": null,
   "id": "9f851a7a",
   "metadata": {},
   "outputs": [],
   "source": [
    "%%time\n",
    "# get csv return of app service results\n",
    "# strip down \n",
    "# use STATION_ID in url\n",
    "\n",
    "# create empty url dataframe\n",
    "dfurl = pd.DataFrame()\n",
    "\n",
    "slength = len(stationIDList)\n",
    "for i in range(slength):\n",
    "    url = \"https://www.waterrights.utah.gov/dvrtdb/DailyCommaData.asp?BYEAR=2000&EYEAR=2022&StationId=\" + str(stationIDList[i]) + \"&Units=Mean+daily+discharge+in+CFS.txt\"\n",
    "    print(url)\n",
    "    dfapi_1 = pd.read_csv(url, on_bad_lines='skip') # read in file\n",
    "    dfapi_1['oldURL'] = url\n",
    "    dfapi_1 = dfapi_1.rename(columns={'<!doctype html public \"-//w3c//dtd html 4.0 transitional//en\">': \"ReturnVal\"}) # rename column to something simplier\n",
    "    dfapi_1 = dfapi_1.iloc[[12]] # remove unnecessary row\n",
    "    \n",
    "    # remove unnecessary string from value\n",
    "    dfapi_1['ReturnVal'] = dfapi_1['ReturnVal'].str.replace('<form name=\"submitform\" action=\"/', '')\n",
    "    dfapi_1['ReturnVal'] = dfapi_1['ReturnVal'].str.replace('\">', '')\n",
    "    dfapi_1['ReturnVal'] = dfapi_1['ReturnVal'].str.replace('\">', '')\n",
    "    dfapi_1['ReturnVal'] = dfapi_1['ReturnVal'].str.replace(' ', '')\n",
    "    \n",
    "    # fill in dataframe\n",
    "    dfapi_1['newURL'] = \"https://www.waterrights.utah.gov/\" + dfapi_1['ReturnVal'].astype(str)\n",
    "    dfapi_1['STATION_ID'] = str(stationIDList[i])\n",
    "    \n",
    "    # concatenate\n",
    "    dfurl = pd.concat([dfurl, dfapi_1]) \n",
    "\n",
    "dfurl.to_excel('dataframeURLs.xlsx', index=False)  # The output\n",
    "print(len(dfurl))\n",
    "dfurl.head()"
   ]
  },
  {
   "cell_type": "markdown",
   "id": "c09d82e1",
   "metadata": {},
   "source": [
    "### Getting timeseries data using new generated urls."
   ]
  },
  {
   "cell_type": "code",
   "execution_count": null,
   "id": "f11f1c44",
   "metadata": {
    "scrolled": false
   },
   "outputs": [],
   "source": [
    "%%time\n",
    "# get timeseries results\n",
    "# use STATION_ID in url\n",
    "\n",
    "STATION_IDList = dfurl['STATION_ID'].astype(str).tolist()\n",
    "urlList = dfurl['newURL'].astype(str).tolist()\n",
    "\n",
    "# create empty timeseries dataframe\n",
    "dfts = pd.DataFrame()\n",
    "\n",
    "urllength = len(urlList)\n",
    "for i in range(urllength):\n",
    "    url = str(urlList[i])\n",
    "    print(url)\n",
    "    dfapi_2 = pd.read_csv(url, on_bad_lines='skip')\n",
    "    dfapi_2['STATION_ID'] = str(STATION_IDList[i])\n",
    "    dfts = pd.concat([dfts, dfapi_2]) \n",
    "\n",
    "dfts.to_excel('dataframeTimeSeries.xlsx', index=False)  # The output\n",
    "print(len(dfts))\n",
    "dfts.head()"
   ]
  },
  {
   "cell_type": "code",
   "execution_count": null,
   "id": "dcd27870",
   "metadata": {},
   "outputs": [],
   "source": []
  },
  {
   "cell_type": "code",
   "execution_count": null,
   "id": "30297681",
   "metadata": {},
   "outputs": [],
   "source": []
  },
  {
   "cell_type": "code",
   "execution_count": null,
   "id": "5491b40d",
   "metadata": {},
   "outputs": [],
   "source": []
  },
  {
   "cell_type": "code",
   "execution_count": null,
   "id": "7b4c6fde",
   "metadata": {},
   "outputs": [],
   "source": []
  },
  {
   "cell_type": "code",
   "execution_count": null,
   "id": "cc62db1d",
   "metadata": {},
   "outputs": [],
   "source": []
  }
 ],
 "metadata": {
  "kernelspec": {
   "display_name": "Python 3 (ipykernel)",
   "language": "python",
   "name": "python3"
  },
  "language_info": {
   "codemirror_mode": {
    "name": "ipython",
    "version": 3
   },
   "file_extension": ".py",
   "mimetype": "text/x-python",
   "name": "python",
   "nbconvert_exporter": "python",
   "pygments_lexer": "ipython3",
   "version": "3.9.15"
  }
 },
 "nbformat": 4,
 "nbformat_minor": 5
}
