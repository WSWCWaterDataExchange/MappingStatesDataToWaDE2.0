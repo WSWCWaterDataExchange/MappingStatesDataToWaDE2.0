{
 "cells": [
  {
   "cell_type": "markdown",
   "id": "6551b09b",
   "metadata": {},
   "source": [
    "## Create podsitetopousiterelationships.csv file\n",
    "Last Updated: 11/15/2022\n",
    "\n",
    "Purpose: To create UT site specific public supply site POD and POU relation information and populate dataframe for WaDEQA 2.0.\n",
    "\n",
    "Notes:    \n",
    "- read in main processed input file, sites, and sitespecificamounts.\n",
    "- separate out sites from POU to POD\n",
    "- attach time info from sitespecificamounts to both POU and POD site dataframes, then attach linking element from main processed input fill.\n",
    "- Attach POU dataframe to POD datafame if a common linking element."
   ]
  },
  {
   "cell_type": "code",
   "execution_count": 1,
   "id": "43a38373",
   "metadata": {},
   "outputs": [],
   "source": [
    "#Needed Libararies\n",
    "\n",
    "# working with data\n",
    "import os\n",
    "import numpy as np\n",
    "import pandas as pd\n",
    "import geopandas as gpd\n",
    "\n",
    "# visulizaiton\n",
    "import matplotlib.pyplot as plt\n",
    "import seaborn as sns\n",
    "\n",
    "# API retrieval\n",
    "import requests\n",
    "import json\n",
    "\n",
    "# Cleanup\n",
    "from datetime import datetime\n",
    "pd.set_option('display.max_columns', 999)  # How to display all columns of a Pandas DataFrame in Jupyter Notebook"
   ]
  },
  {
   "cell_type": "code",
   "execution_count": 2,
   "id": "534cc804",
   "metadata": {},
   "outputs": [],
   "source": [
    "# Working Directory\n",
    "workingDir = \"G:/Shared drives/WaDE Data/Utah/SS_PublicSupplyWaterUse\"\n",
    "os.chdir(workingDir)"
   ]
  },
  {
   "cell_type": "markdown",
   "id": "9a0d0d67",
   "metadata": {},
   "source": [
    "### Input Files"
   ]
  },
  {
   "cell_type": "code",
   "execution_count": 3,
   "id": "38a452f8",
   "metadata": {},
   "outputs": [
    {
     "name": "stdout",
     "output_type": "stream",
     "text": [
      "585719\n"
     ]
    },
    {
     "name": "stderr",
     "output_type": "stream",
     "text": [
      "C:\\Users\\rjame\\AppData\\Local\\Temp\\ipykernel_8060\\1959264520.py:3: DtypeWarning: Columns (11,18) have mixed types. Specify dtype option on import or set low_memory=False.\n",
      "  dfmp = pd.read_csv(fileInput)\n"
     ]
    },
    {
     "data": {
      "text/html": [
       "<div>\n",
       "<style scoped>\n",
       "    .dataframe tbody tr th:only-of-type {\n",
       "        vertical-align: middle;\n",
       "    }\n",
       "\n",
       "    .dataframe tbody tr th {\n",
       "        vertical-align: top;\n",
       "    }\n",
       "\n",
       "    .dataframe thead th {\n",
       "        text-align: right;\n",
       "    }\n",
       "</style>\n",
       "<table border=\"1\" class=\"dataframe\">\n",
       "  <thead>\n",
       "    <tr style=\"text-align: right;\">\n",
       "      <th></th>\n",
       "      <th>in_VariableCV</th>\n",
       "      <th>in_VariableSpecificCV</th>\n",
       "      <th>in_Amount</th>\n",
       "      <th>in_PopulationServed</th>\n",
       "      <th>in_BenUse</th>\n",
       "      <th>in_ReportYearCV</th>\n",
       "      <th>in_TimeframeEnd</th>\n",
       "      <th>in_TimeframeStart</th>\n",
       "      <th>in_WaterSourceTypeCV</th>\n",
       "      <th>linkKey</th>\n",
       "      <th>in_CoordinateMethodCV</th>\n",
       "      <th>in_County</th>\n",
       "      <th>in_Latitude</th>\n",
       "      <th>in_Longitude</th>\n",
       "      <th>in_PODorPOUSite</th>\n",
       "      <th>in_SiteName</th>\n",
       "      <th>in_SiteNativeID</th>\n",
       "      <th>in_SiteTypeCV</th>\n",
       "      <th>monthCheck</th>\n",
       "      <th>in_WaterSourceNativeID</th>\n",
       "    </tr>\n",
       "  </thead>\n",
       "  <tbody>\n",
       "    <tr>\n",
       "      <th>0</th>\n",
       "      <td>Delivered Water Use</td>\n",
       "      <td>Delivered Water Use_Annual_Domestic_Unspecified</td>\n",
       "      <td>4724846.0</td>\n",
       "      <td>28</td>\n",
       "      <td>Domestic</td>\n",
       "      <td>2021</td>\n",
       "      <td>2021-12-31</td>\n",
       "      <td>2021-01-01</td>\n",
       "      <td>Unspecified</td>\n",
       "      <td>11843</td>\n",
       "      <td>NaN</td>\n",
       "      <td>NaN</td>\n",
       "      <td>0.0</td>\n",
       "      <td>0.0</td>\n",
       "      <td>NaN</td>\n",
       "      <td>NaN</td>\n",
       "      <td>NaN</td>\n",
       "      <td>NaN</td>\n",
       "      <td>NaN</td>\n",
       "      <td>WaDEUT_WS1</td>\n",
       "    </tr>\n",
       "  </tbody>\n",
       "</table>\n",
       "</div>"
      ],
      "text/plain": [
       "         in_VariableCV                            in_VariableSpecificCV  \\\n",
       "0  Delivered Water Use  Delivered Water Use_Annual_Domestic_Unspecified   \n",
       "\n",
       "   in_Amount  in_PopulationServed in_BenUse  in_ReportYearCV in_TimeframeEnd  \\\n",
       "0  4724846.0                   28  Domestic             2021      2021-12-31   \n",
       "\n",
       "  in_TimeframeStart in_WaterSourceTypeCV  linkKey in_CoordinateMethodCV  \\\n",
       "0        2021-01-01          Unspecified    11843                   NaN   \n",
       "\n",
       "  in_County  in_Latitude  in_Longitude in_PODorPOUSite in_SiteName  \\\n",
       "0       NaN          0.0           0.0             NaN         NaN   \n",
       "\n",
       "  in_SiteNativeID in_SiteTypeCV monthCheck in_WaterSourceNativeID  \n",
       "0             NaN           NaN        NaN             WaDEUT_WS1  "
      ]
     },
     "execution_count": 3,
     "metadata": {},
     "output_type": "execute_result"
    }
   ],
   "source": [
    "# Read in main processed input file\n",
    "fileInput = \"RawInputData/P_MasterUTSiteSpecific.csv\"\n",
    "dfmp = pd.read_csv(fileInput)\n",
    "print(len(dfmp))\n",
    "dfmp.head(1)"
   ]
  },
  {
   "cell_type": "code",
   "execution_count": 4,
   "id": "7f03a5c9",
   "metadata": {},
   "outputs": [
    {
     "name": "stdout",
     "output_type": "stream",
     "text": [
      "4432\n"
     ]
    },
    {
     "data": {
      "text/html": [
       "<div>\n",
       "<style scoped>\n",
       "    .dataframe tbody tr th:only-of-type {\n",
       "        vertical-align: middle;\n",
       "    }\n",
       "\n",
       "    .dataframe tbody tr th {\n",
       "        vertical-align: top;\n",
       "    }\n",
       "\n",
       "    .dataframe thead th {\n",
       "        text-align: right;\n",
       "    }\n",
       "</style>\n",
       "<table border=\"1\" class=\"dataframe\">\n",
       "  <thead>\n",
       "    <tr style=\"text-align: right;\">\n",
       "      <th></th>\n",
       "      <th>SiteUUID</th>\n",
       "      <th>RegulatoryOverlayUUIDs</th>\n",
       "      <th>WaterSourceUUIDs</th>\n",
       "      <th>CoordinateAccuracy</th>\n",
       "      <th>CoordinateMethodCV</th>\n",
       "      <th>County</th>\n",
       "      <th>EPSGCodeCV</th>\n",
       "      <th>Geometry</th>\n",
       "      <th>GNISCodeCV</th>\n",
       "      <th>HUC12</th>\n",
       "      <th>HUC8</th>\n",
       "      <th>Latitude</th>\n",
       "      <th>Longitude</th>\n",
       "      <th>NHDNetworkStatusCV</th>\n",
       "      <th>NHDProductCV</th>\n",
       "      <th>PODorPOUSite</th>\n",
       "      <th>SiteName</th>\n",
       "      <th>SiteNativeID</th>\n",
       "      <th>SitePoint</th>\n",
       "      <th>SiteTypeCV</th>\n",
       "      <th>StateCV</th>\n",
       "      <th>USGSSiteID</th>\n",
       "    </tr>\n",
       "  </thead>\n",
       "  <tbody>\n",
       "    <tr>\n",
       "      <th>0</th>\n",
       "      <td>UTssps_S1</td>\n",
       "      <td>NaN</td>\n",
       "      <td>UTssps_WS3</td>\n",
       "      <td>NaN</td>\n",
       "      <td>Representation Node</td>\n",
       "      <td>NaN</td>\n",
       "      <td>4326</td>\n",
       "      <td>NaN</td>\n",
       "      <td>NaN</td>\n",
       "      <td>NaN</td>\n",
       "      <td>NaN</td>\n",
       "      <td>40.533785</td>\n",
       "      <td>-111.831387</td>\n",
       "      <td>NaN</td>\n",
       "      <td>NaN</td>\n",
       "      <td>POD</td>\n",
       "      <td>Well A (middle well)</td>\n",
       "      <td>POD100000001</td>\n",
       "      <td>NaN</td>\n",
       "      <td>Well</td>\n",
       "      <td>UT</td>\n",
       "      <td>NaN</td>\n",
       "    </tr>\n",
       "  </tbody>\n",
       "</table>\n",
       "</div>"
      ],
      "text/plain": [
       "    SiteUUID  RegulatoryOverlayUUIDs WaterSourceUUIDs  CoordinateAccuracy  \\\n",
       "0  UTssps_S1                     NaN       UTssps_WS3                 NaN   \n",
       "\n",
       "    CoordinateMethodCV  County  EPSGCodeCV Geometry  GNISCodeCV  HUC12  HUC8  \\\n",
       "0  Representation Node     NaN        4326      NaN         NaN    NaN   NaN   \n",
       "\n",
       "    Latitude   Longitude  NHDNetworkStatusCV  NHDProductCV PODorPOUSite  \\\n",
       "0  40.533785 -111.831387                 NaN           NaN          POD   \n",
       "\n",
       "               SiteName  SiteNativeID  SitePoint SiteTypeCV StateCV  \\\n",
       "0  Well A (middle well)  POD100000001        NaN       Well      UT   \n",
       "\n",
       "   USGSSiteID  \n",
       "0         NaN  "
      ]
     },
     "execution_count": 4,
     "metadata": {},
     "output_type": "execute_result"
    }
   ],
   "source": [
    "# Read in sites file\n",
    "fileInput = \"ProcessedInputData/Sites.csv\"\n",
    "dfs = pd.read_csv(fileInput)\n",
    "print(len(dfs))\n",
    "dfs.head(1)"
   ]
  },
  {
   "cell_type": "code",
   "execution_count": 5,
   "id": "86003078",
   "metadata": {},
   "outputs": [
    {
     "name": "stdout",
     "output_type": "stream",
     "text": [
      "386961\n"
     ]
    },
    {
     "data": {
      "text/html": [
       "<div>\n",
       "<style scoped>\n",
       "    .dataframe tbody tr th:only-of-type {\n",
       "        vertical-align: middle;\n",
       "    }\n",
       "\n",
       "    .dataframe tbody tr th {\n",
       "        vertical-align: top;\n",
       "    }\n",
       "\n",
       "    .dataframe thead th {\n",
       "        text-align: right;\n",
       "    }\n",
       "</style>\n",
       "<table border=\"1\" class=\"dataframe\">\n",
       "  <thead>\n",
       "    <tr style=\"text-align: right;\">\n",
       "      <th></th>\n",
       "      <th>MethodUUID</th>\n",
       "      <th>OrganizationUUID</th>\n",
       "      <th>SiteUUID</th>\n",
       "      <th>VariableSpecificUUID</th>\n",
       "      <th>WaterSourceUUID</th>\n",
       "      <th>Amount</th>\n",
       "      <th>AllocationCropDutyAmount</th>\n",
       "      <th>AssociatedNativeAllocationIDs</th>\n",
       "      <th>BeneficialUseCategory</th>\n",
       "      <th>CommunityWaterSupplySystem</th>\n",
       "      <th>CropTypeCV</th>\n",
       "      <th>CustomerTypeCV</th>\n",
       "      <th>DataPublicationDate</th>\n",
       "      <th>DataPublicationDOI</th>\n",
       "      <th>Geometry</th>\n",
       "      <th>IrrigatedAcreage</th>\n",
       "      <th>IrrigationMethodCV</th>\n",
       "      <th>PopulationServed</th>\n",
       "      <th>PowerGeneratedGWh</th>\n",
       "      <th>PowerType</th>\n",
       "      <th>PrimaryUseCategory</th>\n",
       "      <th>ReportYearCV</th>\n",
       "      <th>SDWISIdentifier</th>\n",
       "      <th>TimeframeEnd</th>\n",
       "      <th>TimeframeStart</th>\n",
       "    </tr>\n",
       "  </thead>\n",
       "  <tbody>\n",
       "    <tr>\n",
       "      <th>0</th>\n",
       "      <td>UTssps_M1</td>\n",
       "      <td>UTssps_O1</td>\n",
       "      <td>UTssps_S4214</td>\n",
       "      <td>UTssps_V3</td>\n",
       "      <td>UTssps_WS1</td>\n",
       "      <td>1228800.0</td>\n",
       "      <td>NaN</td>\n",
       "      <td>NaN</td>\n",
       "      <td>Domestic</td>\n",
       "      <td>NaN</td>\n",
       "      <td>NaN</td>\n",
       "      <td>Public</td>\n",
       "      <td>11/15/2022</td>\n",
       "      <td>NaN</td>\n",
       "      <td>NaN</td>\n",
       "      <td>NaN</td>\n",
       "      <td>NaN</td>\n",
       "      <td>14</td>\n",
       "      <td>NaN</td>\n",
       "      <td>NaN</td>\n",
       "      <td>Unspecified</td>\n",
       "      <td>2021</td>\n",
       "      <td>NaN</td>\n",
       "      <td>2021-12-31</td>\n",
       "      <td>2021-01-01</td>\n",
       "    </tr>\n",
       "  </tbody>\n",
       "</table>\n",
       "</div>"
      ],
      "text/plain": [
       "  MethodUUID OrganizationUUID      SiteUUID VariableSpecificUUID  \\\n",
       "0  UTssps_M1        UTssps_O1  UTssps_S4214            UTssps_V3   \n",
       "\n",
       "  WaterSourceUUID     Amount  AllocationCropDutyAmount  \\\n",
       "0      UTssps_WS1  1228800.0                       NaN   \n",
       "\n",
       "   AssociatedNativeAllocationIDs BeneficialUseCategory  \\\n",
       "0                            NaN              Domestic   \n",
       "\n",
       "   CommunityWaterSupplySystem  CropTypeCV CustomerTypeCV DataPublicationDate  \\\n",
       "0                         NaN         NaN         Public          11/15/2022   \n",
       "\n",
       "   DataPublicationDOI  Geometry  IrrigatedAcreage  IrrigationMethodCV  \\\n",
       "0                 NaN       NaN               NaN                 NaN   \n",
       "\n",
       "   PopulationServed  PowerGeneratedGWh  PowerType PrimaryUseCategory  \\\n",
       "0                14                NaN        NaN        Unspecified   \n",
       "\n",
       "   ReportYearCV  SDWISIdentifier TimeframeEnd TimeframeStart  \n",
       "0          2021              NaN   2021-12-31     2021-01-01  "
      ]
     },
     "execution_count": 5,
     "metadata": {},
     "output_type": "execute_result"
    }
   ],
   "source": [
    "# Read in sitespecificamounts file\n",
    "fileInput = \"ProcessedInputData/sitespecificamounts.csv\"\n",
    "dfsa = pd.read_csv(fileInput)\n",
    "dfsa = dfsa.assign(SiteUUID=dfsa['SiteUUID'].str.split(',')).explode('SiteUUID').reset_index(drop=True)\n",
    "print(len(dfsa))\n",
    "dfsa.head(1)"
   ]
  },
  {
   "cell_type": "markdown",
   "id": "d6028dd7",
   "metadata": {},
   "source": [
    "### Extract Data"
   ]
  },
  {
   "cell_type": "code",
   "execution_count": 6,
   "id": "57fd6ff1",
   "metadata": {},
   "outputs": [
    {
     "name": "stdout",
     "output_type": "stream",
     "text": [
      "4848\n"
     ]
    },
    {
     "data": {
      "text/html": [
       "<div>\n",
       "<style scoped>\n",
       "    .dataframe tbody tr th:only-of-type {\n",
       "        vertical-align: middle;\n",
       "    }\n",
       "\n",
       "    .dataframe tbody tr th {\n",
       "        vertical-align: top;\n",
       "    }\n",
       "\n",
       "    .dataframe thead th {\n",
       "        text-align: right;\n",
       "    }\n",
       "</style>\n",
       "<table border=\"1\" class=\"dataframe\">\n",
       "  <thead>\n",
       "    <tr style=\"text-align: right;\">\n",
       "      <th></th>\n",
       "      <th>in_SiteNativeID</th>\n",
       "      <th>linkKey</th>\n",
       "    </tr>\n",
       "  </thead>\n",
       "  <tbody>\n",
       "    <tr>\n",
       "      <th>0</th>\n",
       "      <td>POU11830</td>\n",
       "      <td>11830</td>\n",
       "    </tr>\n",
       "    <tr>\n",
       "      <th>1</th>\n",
       "      <td>POU11815</td>\n",
       "      <td>11815</td>\n",
       "    </tr>\n",
       "  </tbody>\n",
       "</table>\n",
       "</div>"
      ],
      "text/plain": [
       "  in_SiteNativeID  linkKey\n",
       "0        POU11830    11830\n",
       "1        POU11815    11815"
      ]
     },
     "execution_count": 6,
     "metadata": {},
     "output_type": "execute_result"
    }
   ],
   "source": [
    "# extract unique in_SiteNativeID and linkKey from main processed input file\n",
    "dfmp2 = dfmp[['in_SiteNativeID', 'linkKey']]\n",
    "dfmp2 = dfmp2.dropna().drop_duplicates().reset_index(drop=True)\n",
    "print(len(dfmp2))\n",
    "dfmp2.head(2)"
   ]
  },
  {
   "cell_type": "code",
   "execution_count": 7,
   "id": "fb9b2e38",
   "metadata": {},
   "outputs": [
    {
     "name": "stdout",
     "output_type": "stream",
     "text": [
      "566\n"
     ]
    },
    {
     "data": {
      "text/html": [
       "<div>\n",
       "<style scoped>\n",
       "    .dataframe tbody tr th:only-of-type {\n",
       "        vertical-align: middle;\n",
       "    }\n",
       "\n",
       "    .dataframe tbody tr th {\n",
       "        vertical-align: top;\n",
       "    }\n",
       "\n",
       "    .dataframe thead th {\n",
       "        text-align: right;\n",
       "    }\n",
       "</style>\n",
       "<table border=\"1\" class=\"dataframe\">\n",
       "  <thead>\n",
       "    <tr style=\"text-align: right;\">\n",
       "      <th></th>\n",
       "      <th>SiteUUID</th>\n",
       "      <th>SiteNativeID</th>\n",
       "      <th>PODorPOUSite</th>\n",
       "    </tr>\n",
       "  </thead>\n",
       "  <tbody>\n",
       "    <tr>\n",
       "      <th>0</th>\n",
       "      <td>UTssps_S3867</td>\n",
       "      <td>POU1000</td>\n",
       "      <td>POU</td>\n",
       "    </tr>\n",
       "    <tr>\n",
       "      <th>1</th>\n",
       "      <td>UTssps_S3868</td>\n",
       "      <td>POU1001</td>\n",
       "      <td>POU</td>\n",
       "    </tr>\n",
       "  </tbody>\n",
       "</table>\n",
       "</div>"
      ],
      "text/plain": [
       "       SiteUUID SiteNativeID PODorPOUSite\n",
       "0  UTssps_S3867      POU1000          POU\n",
       "1  UTssps_S3868      POU1001          POU"
      ]
     },
     "execution_count": 7,
     "metadata": {},
     "output_type": "execute_result"
    }
   ],
   "source": [
    "#create POU site file\n",
    "dfspou = dfs[['SiteUUID', 'SiteNativeID', 'PODorPOUSite']]\n",
    "dfspou = dfspou[dfspou['PODorPOUSite'] == 'POU']\n",
    "dfspou = dfspou.dropna().drop_duplicates().reset_index(drop=True)\n",
    "print(len(dfspou))\n",
    "dfspou.head(2)"
   ]
  },
  {
   "cell_type": "code",
   "execution_count": 8,
   "id": "c99f708f",
   "metadata": {},
   "outputs": [
    {
     "name": "stdout",
     "output_type": "stream",
     "text": [
      "566\n"
     ]
    },
    {
     "data": {
      "text/html": [
       "<div>\n",
       "<style scoped>\n",
       "    .dataframe tbody tr th:only-of-type {\n",
       "        vertical-align: middle;\n",
       "    }\n",
       "\n",
       "    .dataframe tbody tr th {\n",
       "        vertical-align: top;\n",
       "    }\n",
       "\n",
       "    .dataframe thead th {\n",
       "        text-align: right;\n",
       "    }\n",
       "</style>\n",
       "<table border=\"1\" class=\"dataframe\">\n",
       "  <thead>\n",
       "    <tr style=\"text-align: right;\">\n",
       "      <th></th>\n",
       "      <th>SiteUUID</th>\n",
       "      <th>SiteNativeID</th>\n",
       "      <th>PODorPOUSite</th>\n",
       "    </tr>\n",
       "  </thead>\n",
       "  <tbody>\n",
       "    <tr>\n",
       "      <th>0</th>\n",
       "      <td>UTssps_S3867</td>\n",
       "      <td>POU1000</td>\n",
       "      <td>POU</td>\n",
       "    </tr>\n",
       "    <tr>\n",
       "      <th>1</th>\n",
       "      <td>UTssps_S3868</td>\n",
       "      <td>POU1001</td>\n",
       "      <td>POU</td>\n",
       "    </tr>\n",
       "  </tbody>\n",
       "</table>\n",
       "</div>"
      ],
      "text/plain": [
       "       SiteUUID SiteNativeID PODorPOUSite\n",
       "0  UTssps_S3867      POU1000          POU\n",
       "1  UTssps_S3868      POU1001          POU"
      ]
     },
     "execution_count": 8,
     "metadata": {},
     "output_type": "execute_result"
    }
   ],
   "source": [
    "#create POD site file\n",
    "dfspod = dfs[['SiteUUID', 'SiteNativeID', 'PODorPOUSite']]\n",
    "dfspod = dfspod[dfspod['PODorPOUSite'] == 'POD']\n",
    "dfspou = dfspou.dropna().drop_duplicates().reset_index(drop=True)\n",
    "print(len(dfspou))\n",
    "dfspou.head(2)"
   ]
  },
  {
   "cell_type": "code",
   "execution_count": 9,
   "id": "e10966cb",
   "metadata": {},
   "outputs": [
    {
     "name": "stdout",
     "output_type": "stream",
     "text": [
      "372278\n"
     ]
    },
    {
     "data": {
      "text/html": [
       "<div>\n",
       "<style scoped>\n",
       "    .dataframe tbody tr th:only-of-type {\n",
       "        vertical-align: middle;\n",
       "    }\n",
       "\n",
       "    .dataframe tbody tr th {\n",
       "        vertical-align: top;\n",
       "    }\n",
       "\n",
       "    .dataframe thead th {\n",
       "        text-align: right;\n",
       "    }\n",
       "</style>\n",
       "<table border=\"1\" class=\"dataframe\">\n",
       "  <thead>\n",
       "    <tr style=\"text-align: right;\">\n",
       "      <th></th>\n",
       "      <th>SiteUUID</th>\n",
       "      <th>TimeframeStart</th>\n",
       "      <th>TimeframeEnd</th>\n",
       "    </tr>\n",
       "  </thead>\n",
       "  <tbody>\n",
       "    <tr>\n",
       "      <th>0</th>\n",
       "      <td>UTssps_S4214</td>\n",
       "      <td>2021-01-01</td>\n",
       "      <td>2021-12-31</td>\n",
       "    </tr>\n",
       "    <tr>\n",
       "      <th>1</th>\n",
       "      <td>UTssps_S4211</td>\n",
       "      <td>2021-01-01</td>\n",
       "      <td>2021-12-31</td>\n",
       "    </tr>\n",
       "  </tbody>\n",
       "</table>\n",
       "</div>"
      ],
      "text/plain": [
       "       SiteUUID TimeframeStart TimeframeEnd\n",
       "0  UTssps_S4214     2021-01-01   2021-12-31\n",
       "1  UTssps_S4211     2021-01-01   2021-12-31"
      ]
     },
     "execution_count": 9,
     "metadata": {},
     "output_type": "execute_result"
    }
   ],
   "source": [
    "# extract useable site info with StartDate & EndDate from sitespecificamounts file\n",
    "dfsa2 = dfsa[['SiteUUID', 'TimeframeStart', 'TimeframeEnd']]\n",
    "dfsa2 = dfsa2.dropna().drop_duplicates().reset_index(drop=True)\n",
    "print(len(dfsa2))\n",
    "dfsa2.head(2)"
   ]
  },
  {
   "cell_type": "code",
   "execution_count": 10,
   "id": "3aee1c13",
   "metadata": {},
   "outputs": [
    {
     "name": "stdout",
     "output_type": "stream",
     "text": [
      "10741\n"
     ]
    },
    {
     "data": {
      "text/html": [
       "<div>\n",
       "<style scoped>\n",
       "    .dataframe tbody tr th:only-of-type {\n",
       "        vertical-align: middle;\n",
       "    }\n",
       "\n",
       "    .dataframe tbody tr th {\n",
       "        vertical-align: top;\n",
       "    }\n",
       "\n",
       "    .dataframe thead th {\n",
       "        text-align: right;\n",
       "    }\n",
       "</style>\n",
       "<table border=\"1\" class=\"dataframe\">\n",
       "  <thead>\n",
       "    <tr style=\"text-align: right;\">\n",
       "      <th></th>\n",
       "      <th>SiteUUID</th>\n",
       "      <th>SiteNativeID</th>\n",
       "      <th>PODorPOUSite</th>\n",
       "      <th>TimeframeStart</th>\n",
       "      <th>TimeframeEnd</th>\n",
       "      <th>in_SiteNativeID</th>\n",
       "      <th>linkKey</th>\n",
       "    </tr>\n",
       "  </thead>\n",
       "  <tbody>\n",
       "    <tr>\n",
       "      <th>0</th>\n",
       "      <td>UTssps_S3867</td>\n",
       "      <td>POU1000</td>\n",
       "      <td>POU</td>\n",
       "      <td>2002-01-01</td>\n",
       "      <td>2002-12-31</td>\n",
       "      <td>POU1000</td>\n",
       "      <td>1000</td>\n",
       "    </tr>\n",
       "    <tr>\n",
       "      <th>1</th>\n",
       "      <td>UTssps_S3867</td>\n",
       "      <td>POU1000</td>\n",
       "      <td>POU</td>\n",
       "      <td>2012-01-01</td>\n",
       "      <td>2012-12-31</td>\n",
       "      <td>POU1000</td>\n",
       "      <td>1000</td>\n",
       "    </tr>\n",
       "  </tbody>\n",
       "</table>\n",
       "</div>"
      ],
      "text/plain": [
       "       SiteUUID SiteNativeID PODorPOUSite TimeframeStart TimeframeEnd  \\\n",
       "0  UTssps_S3867      POU1000          POU     2002-01-01   2002-12-31   \n",
       "1  UTssps_S3867      POU1000          POU     2012-01-01   2012-12-31   \n",
       "\n",
       "  in_SiteNativeID  linkKey  \n",
       "0         POU1000     1000  \n",
       "1         POU1000     1000  "
      ]
     },
     "execution_count": 10,
     "metadata": {},
     "output_type": "execute_result"
    }
   ],
   "source": [
    "# left join POU sites to sitespecificamounts to main processed input file\n",
    "dfmergeU = pd.DataFrame(index=dfspou.index)\n",
    "\n",
    "dfmergeU = pd.merge(dfspou, dfsa2, on='SiteUUID', how='left')\n",
    "dfmergeU = pd.merge(dfmergeU, dfmp2, left_on='SiteNativeID', right_on='in_SiteNativeID', how='left')\n",
    "dfmergeU = dfmergeU.drop_duplicates().reset_index(drop=True)\n",
    "print(len(dfmergeU))\n",
    "dfmergeU.head(2)"
   ]
  },
  {
   "cell_type": "code",
   "execution_count": 11,
   "id": "dabf5bf2",
   "metadata": {},
   "outputs": [
    {
     "name": "stdout",
     "output_type": "stream",
     "text": [
      "362035\n"
     ]
    },
    {
     "data": {
      "text/html": [
       "<div>\n",
       "<style scoped>\n",
       "    .dataframe tbody tr th:only-of-type {\n",
       "        vertical-align: middle;\n",
       "    }\n",
       "\n",
       "    .dataframe tbody tr th {\n",
       "        vertical-align: top;\n",
       "    }\n",
       "\n",
       "    .dataframe thead th {\n",
       "        text-align: right;\n",
       "    }\n",
       "</style>\n",
       "<table border=\"1\" class=\"dataframe\">\n",
       "  <thead>\n",
       "    <tr style=\"text-align: right;\">\n",
       "      <th></th>\n",
       "      <th>SiteUUID</th>\n",
       "      <th>SiteNativeID</th>\n",
       "      <th>PODorPOUSite</th>\n",
       "      <th>TimeframeStart</th>\n",
       "      <th>TimeframeEnd</th>\n",
       "      <th>in_SiteNativeID</th>\n",
       "      <th>linkKey</th>\n",
       "    </tr>\n",
       "  </thead>\n",
       "  <tbody>\n",
       "    <tr>\n",
       "      <th>0</th>\n",
       "      <td>UTssps_S1</td>\n",
       "      <td>POD100000001</td>\n",
       "      <td>POD</td>\n",
       "      <td>2021-04-01</td>\n",
       "      <td>2021-04-30</td>\n",
       "      <td>POD100000001</td>\n",
       "      <td>10000</td>\n",
       "    </tr>\n",
       "    <tr>\n",
       "      <th>1</th>\n",
       "      <td>UTssps_S1</td>\n",
       "      <td>POD100000001</td>\n",
       "      <td>POD</td>\n",
       "      <td>2018-04-01</td>\n",
       "      <td>2018-04-30</td>\n",
       "      <td>POD100000001</td>\n",
       "      <td>10000</td>\n",
       "    </tr>\n",
       "  </tbody>\n",
       "</table>\n",
       "</div>"
      ],
      "text/plain": [
       "    SiteUUID  SiteNativeID PODorPOUSite TimeframeStart TimeframeEnd  \\\n",
       "0  UTssps_S1  POD100000001          POD     2021-04-01   2021-04-30   \n",
       "1  UTssps_S1  POD100000001          POD     2018-04-01   2018-04-30   \n",
       "\n",
       "  in_SiteNativeID  linkKey  \n",
       "0    POD100000001    10000  \n",
       "1    POD100000001    10000  "
      ]
     },
     "execution_count": 11,
     "metadata": {},
     "output_type": "execute_result"
    }
   ],
   "source": [
    "# left join POD sites to sitespecificamounts to main processed input file\n",
    "dfmergeD = pd.DataFrame(index=dfspod.index)\n",
    "\n",
    "dfmergeD = pd.merge(dfspod, dfsa2, on='SiteUUID', how='left')\n",
    "dfmergeD = pd.merge(dfmergeD, dfmp2, left_on='SiteNativeID', right_on='in_SiteNativeID', how='left')\n",
    "dfmergeD = dfmergeD.drop_duplicates().reset_index(drop=True)\n",
    "print(len(dfmergeD))\n",
    "dfmergeD.head(2)"
   ]
  },
  {
   "cell_type": "code",
   "execution_count": 12,
   "id": "5f6e53a2",
   "metadata": {},
   "outputs": [
    {
     "name": "stdout",
     "output_type": "stream",
     "text": [
      "6504538\n"
     ]
    },
    {
     "data": {
      "text/html": [
       "<div>\n",
       "<style scoped>\n",
       "    .dataframe tbody tr th:only-of-type {\n",
       "        vertical-align: middle;\n",
       "    }\n",
       "\n",
       "    .dataframe tbody tr th {\n",
       "        vertical-align: top;\n",
       "    }\n",
       "\n",
       "    .dataframe thead th {\n",
       "        text-align: right;\n",
       "    }\n",
       "</style>\n",
       "<table border=\"1\" class=\"dataframe\">\n",
       "  <thead>\n",
       "    <tr style=\"text-align: right;\">\n",
       "      <th></th>\n",
       "      <th>SiteUUID_x</th>\n",
       "      <th>SiteNativeID_x</th>\n",
       "      <th>PODorPOUSite_x</th>\n",
       "      <th>TimeframeStart_x</th>\n",
       "      <th>TimeframeEnd_x</th>\n",
       "      <th>in_SiteNativeID_x</th>\n",
       "      <th>linkKey</th>\n",
       "      <th>SiteUUID_y</th>\n",
       "      <th>SiteNativeID_y</th>\n",
       "      <th>PODorPOUSite_y</th>\n",
       "      <th>TimeframeStart_y</th>\n",
       "      <th>TimeframeEnd_y</th>\n",
       "      <th>in_SiteNativeID_y</th>\n",
       "    </tr>\n",
       "  </thead>\n",
       "  <tbody>\n",
       "    <tr>\n",
       "      <th>0</th>\n",
       "      <td>UTssps_S4</td>\n",
       "      <td>POD10000001</td>\n",
       "      <td>POD</td>\n",
       "      <td>2015-01-01</td>\n",
       "      <td>2015-01-31</td>\n",
       "      <td>POD10000001</td>\n",
       "      <td>1000</td>\n",
       "      <td>UTssps_S3867</td>\n",
       "      <td>POU1000</td>\n",
       "      <td>POU</td>\n",
       "      <td>2002-01-01</td>\n",
       "      <td>2002-12-31</td>\n",
       "      <td>POU1000</td>\n",
       "    </tr>\n",
       "    <tr>\n",
       "      <th>1</th>\n",
       "      <td>UTssps_S4</td>\n",
       "      <td>POD10000001</td>\n",
       "      <td>POD</td>\n",
       "      <td>2015-01-01</td>\n",
       "      <td>2015-01-31</td>\n",
       "      <td>POD10000001</td>\n",
       "      <td>1000</td>\n",
       "      <td>UTssps_S3867</td>\n",
       "      <td>POU1000</td>\n",
       "      <td>POU</td>\n",
       "      <td>2012-01-01</td>\n",
       "      <td>2012-12-31</td>\n",
       "      <td>POU1000</td>\n",
       "    </tr>\n",
       "  </tbody>\n",
       "</table>\n",
       "</div>"
      ],
      "text/plain": [
       "  SiteUUID_x SiteNativeID_x PODorPOUSite_x TimeframeStart_x TimeframeEnd_x  \\\n",
       "0  UTssps_S4    POD10000001            POD       2015-01-01     2015-01-31   \n",
       "1  UTssps_S4    POD10000001            POD       2015-01-01     2015-01-31   \n",
       "\n",
       "  in_SiteNativeID_x  linkKey    SiteUUID_y SiteNativeID_y PODorPOUSite_y  \\\n",
       "0       POD10000001     1000  UTssps_S3867        POU1000            POU   \n",
       "1       POD10000001     1000  UTssps_S3867        POU1000            POU   \n",
       "\n",
       "  TimeframeStart_y TimeframeEnd_y in_SiteNativeID_y  \n",
       "0       2002-01-01     2002-12-31           POU1000  \n",
       "1       2012-01-01     2012-12-31           POU1000  "
      ]
     },
     "execution_count": 12,
     "metadata": {},
     "output_type": "execute_result"
    }
   ],
   "source": [
    "# Left Join POD file with POU file with matching linking elements. Drop NaN rows\n",
    "dfmergeDU = pd.DataFrame(index=dfmergeD.index)\n",
    "\n",
    "dfmergeDU = pd.merge(dfmergeD, dfmergeU, on='linkKey', how='left')\n",
    "dfmergeDU = dfmergeDU.dropna(subset=['SiteUUID_y']).drop_duplicates().reset_index(drop=True)\n",
    "print(len(dfmergeDU))\n",
    "dfmergeDU.head(2)"
   ]
  },
  {
   "cell_type": "markdown",
   "id": "560d8096",
   "metadata": {},
   "source": [
    "### Create Output Dataframe"
   ]
  },
  {
   "cell_type": "code",
   "execution_count": 13,
   "id": "1a3c4ec4",
   "metadata": {},
   "outputs": [
    {
     "name": "stdout",
     "output_type": "stream",
     "text": [
      "6504538\n"
     ]
    },
    {
     "data": {
      "text/html": [
       "<div>\n",
       "<style scoped>\n",
       "    .dataframe tbody tr th:only-of-type {\n",
       "        vertical-align: middle;\n",
       "    }\n",
       "\n",
       "    .dataframe tbody tr th {\n",
       "        vertical-align: top;\n",
       "    }\n",
       "\n",
       "    .dataframe thead th {\n",
       "        text-align: right;\n",
       "    }\n",
       "</style>\n",
       "<table border=\"1\" class=\"dataframe\">\n",
       "  <thead>\n",
       "    <tr style=\"text-align: right;\">\n",
       "      <th></th>\n",
       "      <th>PODSiteUUID</th>\n",
       "      <th>POUSiteUUID</th>\n",
       "      <th>StartDate</th>\n",
       "      <th>EndDate</th>\n",
       "    </tr>\n",
       "  </thead>\n",
       "  <tbody>\n",
       "    <tr>\n",
       "      <th>0</th>\n",
       "      <td>NaN</td>\n",
       "      <td>NaN</td>\n",
       "      <td>NaN</td>\n",
       "      <td>NaN</td>\n",
       "    </tr>\n",
       "  </tbody>\n",
       "</table>\n",
       "</div>"
      ],
      "text/plain": [
       "  PODSiteUUID POUSiteUUID StartDate EndDate\n",
       "0         NaN         NaN       NaN     NaN"
      ]
     },
     "execution_count": 13,
     "metadata": {},
     "output_type": "execute_result"
    }
   ],
   "source": [
    "columnslist = [\"PODSiteUUID\", \"POUSiteUUID\", \"StartDate\", \"EndDate\"]\n",
    "outdf = pd.DataFrame(index=dfmergeDU.index, columns=columnslist)  # The output dataframe\n",
    "print(len(outdf))\n",
    "outdf.head(1)"
   ]
  },
  {
   "cell_type": "code",
   "execution_count": 14,
   "id": "ba6e6495",
   "metadata": {},
   "outputs": [
    {
     "name": "stdout",
     "output_type": "stream",
     "text": [
      "251562\n"
     ]
    },
    {
     "data": {
      "text/html": [
       "<div>\n",
       "<style scoped>\n",
       "    .dataframe tbody tr th:only-of-type {\n",
       "        vertical-align: middle;\n",
       "    }\n",
       "\n",
       "    .dataframe tbody tr th {\n",
       "        vertical-align: top;\n",
       "    }\n",
       "\n",
       "    .dataframe thead th {\n",
       "        text-align: right;\n",
       "    }\n",
       "</style>\n",
       "<table border=\"1\" class=\"dataframe\">\n",
       "  <thead>\n",
       "    <tr style=\"text-align: right;\">\n",
       "      <th></th>\n",
       "      <th>PODSiteUUID</th>\n",
       "      <th>POUSiteUUID</th>\n",
       "      <th>StartDate</th>\n",
       "      <th>EndDate</th>\n",
       "    </tr>\n",
       "  </thead>\n",
       "  <tbody>\n",
       "    <tr>\n",
       "      <th>21040</th>\n",
       "      <td>UTssps_S100</td>\n",
       "      <td>UTssps_S3886</td>\n",
       "      <td>1968-01-01</td>\n",
       "      <td>1968-12-31</td>\n",
       "    </tr>\n",
       "    <tr>\n",
       "      <th>21043</th>\n",
       "      <td>UTssps_S100</td>\n",
       "      <td>UTssps_S3886</td>\n",
       "      <td>1971-01-01</td>\n",
       "      <td>1971-12-31</td>\n",
       "    </tr>\n",
       "    <tr>\n",
       "      <th>21037</th>\n",
       "      <td>UTssps_S100</td>\n",
       "      <td>UTssps_S3886</td>\n",
       "      <td>1972-01-01</td>\n",
       "      <td>1972-12-31</td>\n",
       "    </tr>\n",
       "    <tr>\n",
       "      <th>21036</th>\n",
       "      <td>UTssps_S100</td>\n",
       "      <td>UTssps_S3886</td>\n",
       "      <td>1973-01-01</td>\n",
       "      <td>1973-12-31</td>\n",
       "    </tr>\n",
       "    <tr>\n",
       "      <th>21042</th>\n",
       "      <td>UTssps_S100</td>\n",
       "      <td>UTssps_S3886</td>\n",
       "      <td>1974-01-01</td>\n",
       "      <td>1974-12-31</td>\n",
       "    </tr>\n",
       "  </tbody>\n",
       "</table>\n",
       "</div>"
      ],
      "text/plain": [
       "       PODSiteUUID   POUSiteUUID   StartDate     EndDate\n",
       "21040  UTssps_S100  UTssps_S3886  1968-01-01  1968-12-31\n",
       "21043  UTssps_S100  UTssps_S3886  1971-01-01  1971-12-31\n",
       "21037  UTssps_S100  UTssps_S3886  1972-01-01  1972-12-31\n",
       "21036  UTssps_S100  UTssps_S3886  1973-01-01  1973-12-31\n",
       "21042  UTssps_S100  UTssps_S3886  1974-01-01  1974-12-31"
      ]
     },
     "execution_count": 14,
     "metadata": {},
     "output_type": "execute_result"
    }
   ],
   "source": [
    "outdf['PODSiteUUID'] = dfmergeDU['SiteUUID_x']\n",
    "outdf['POUSiteUUID'] = dfmergeDU['SiteUUID_y']\n",
    "outdf['StartDate'] = dfmergeDU['TimeframeStart_x']\n",
    "outdf['EndDate'] = dfmergeDU['TimeframeEnd_x']\n",
    "outdf = outdf.dropna().drop_duplicates().reset_index(drop=True).sort_values(by=['PODSiteUUID', 'POUSiteUUID', 'StartDate'])\n",
    "print(len(outdf))\n",
    "outdf.head()"
   ]
  },
  {
   "cell_type": "code",
   "execution_count": 15,
   "id": "d7b27341",
   "metadata": {},
   "outputs": [],
   "source": [
    "# The working output DataFrame for WaDE 2.0 input.\n",
    "if not outdf.empty:\n",
    "    outdf.to_csv('ProcessedInputData/podsitetopousiterelationships.csv', index=False)"
   ]
  },
  {
   "cell_type": "code",
   "execution_count": null,
   "id": "3a942161",
   "metadata": {},
   "outputs": [],
   "source": []
  }
 ],
 "metadata": {
  "kernelspec": {
   "display_name": "Python 3 (ipykernel)",
   "language": "python",
   "name": "python3"
  },
  "language_info": {
   "codemirror_mode": {
    "name": "ipython",
    "version": 3
   },
   "file_extension": ".py",
   "mimetype": "text/x-python",
   "name": "python",
   "nbconvert_exporter": "python",
   "pygments_lexer": "ipython3",
   "version": "3.9.15"
  }
 },
 "nbformat": 4,
 "nbformat_minor": 5
}
