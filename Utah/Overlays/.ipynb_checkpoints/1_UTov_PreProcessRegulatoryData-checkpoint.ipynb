{
 "cells": [
  {
   "cell_type": "markdown",
   "metadata": {},
   "source": [
    "# Pre-processing Overlay data for WaDE upload.\n",
    "- Purpose: To preprocess state overlay data into one main file for simple DataFrame creation and extraction."
   ]
  },
  {
   "cell_type": "code",
   "execution_count": null,
   "metadata": {},
   "outputs": [],
   "source": [
    "# Needed Libraries / Modules\n",
    "\n",
    "# ---- working with data ----\n",
    "import os  # native operating system interaction\n",
    "import numpy as np  # mathematical array manipulation\n",
    "import pandas as pd  # data structure and data analysis\n",
    "import geopandas as gpd  # geo-data structure and data analysis\n",
    "\n",
    "# ---- visualization ----\n",
    "import matplotlib.pyplot as plt  # plotting library\n",
    "import seaborn as sns  # plotting library\n",
    "\n",
    "# ---- API data retrieval ----\n",
    "import requests  # http requests\n",
    "import json  # JSON parse\n",
    "\n",
    "# ---- Cleanup ----\n",
    "import re  # string regular expression manipulation\n",
    "from datetime import datetime  # date and time manipulation\n",
    "pd.set_option('display.max_columns', 999)  # How to display all columns of a Pandas DataFrame in Jupyter Notebook\n",
    "pd.set_option('display.float_format', lambda x: '%.5f' % x)  # suppress scientific notation in Pandas"
   ]
  },
  {
   "cell_type": "code",
   "execution_count": null,
   "metadata": {},
   "outputs": [],
   "source": [
    "# ---- working directory ----\n",
    "workingDirString = \"G:/Shared drives/WaDE Data/WaDE Data Folder/Utah/Overlays\" # set working directory folder string here\n",
    "os.chdir(workingDirString)\n",
    "print(f'The working Directory is:', workingDirString)"
   ]
  },
  {
   "cell_type": "markdown",
   "metadata": {},
   "source": [
    "## Regulatory Area Data #1 - WaterRightAreasServiceView\n",
    "- these \"should\" share reporting units with the below Groundwater Policy Management"
   ]
  },
  {
   "cell_type": "code",
   "execution_count": null,
   "metadata": {},
   "outputs": [],
   "source": [
    "# Input File\n",
    "inputFile = \"RawInputData/shapefiles/WaterRightAreasServiceView.zip\"\n",
    "dfin1 = gpd.read_file(inputFile).replace(np.nan, \"\")\n",
    "dfin1['geometry'] = dfin1['geometry'].to_crs(epsg=4326) # Realign Geometry Projection\n",
    "\n",
    "# WaDE UUID tracker for data assessment\n",
    "if 'WaDEUUID' not in dfin1:\n",
    "    dfin1['WaDEUUID'] = \"ov\" + dfin1.index.astype(str)\n",
    "    dfin1.to_csv('RawInputData/WaterRightAreasServiceView.zip', compression=dict(method='zip', archive_name='WaterRightAreasServiceView.csv'), index=False)\n",
    "\n",
    "print(len(dfin1))\n",
    "dfin1.head()"
   ]
  },
  {
   "cell_type": "code",
   "execution_count": null,
   "metadata": {},
   "outputs": [],
   "source": [
    "# create output for Overlay Area #1 dataframe\n",
    "df = pd.DataFrame()\n",
    "\n",
    "# Data Assessment UUID\n",
    "df['WaDEUUID'] = dfin1['WaDEUUID']\n",
    "\n",
    "# Date Info\n",
    "df['in_Date'] = \"12/10/2023\"\n",
    "df['in_Year'] = \"2023\"\n",
    "\n",
    "# Organization Info\n",
    "df['in_OrganizationUUID'] = \"UTov_O1\"\n",
    "\n",
    "# ReportingUnit Info\n",
    "df['in_EPSGCodeCV'] = \"4326\"\n",
    "df['in_ReportingUnitName'] = \"WaDE Blank\"\n",
    "df['in_ReportingUnitNativeID'] = \"ut_\" + dfin1['AREA_CODE'].astype(str).str.strip()\n",
    "df['in_ReportingUnitProductVersion'] = \"\"\n",
    "df['in_ReportingUnitTypeCV'] = \"WaDE Blank\"\n",
    "df['in_ReportingUnitUpdateDate'] = \"5/31/2022\"\n",
    "df['in_StateCV'] = \"UT\"\n",
    "df['in_Geometry'] = dfin1['geometry']\n",
    "\n",
    "# RegulatoryOverlay Info\n",
    "df['in_OversightAgency'] = dfin1['Office']\n",
    "df['in_RegulatoryDescription'] = \"Water Right Areas are administrative boundaries based primarily on surface drainage areas. Different water right areas can have different appropriation policies and can be administered by different regional offices.\"\n",
    "df['in_RegulatoryName'] = \"WaDE Blank\"\n",
    "df['in_RegulatoryOverlayNativeID'] = \"utr1_\" + dfin1['AREA_CODE'].astype(str).str.strip()\n",
    "df['in_RegulatoryStatusCV'] = \"Active\"\n",
    "df['in_RegulatoryStatute'] = \"\"\n",
    "df['in_RegulatoryStatuteLink'] = dfin1['Link']\n",
    "df['in_StatutoryEffectiveDate'] = \"12/10/2023\"\n",
    "df['in_StatutoryEndDate'] = \"\"\n",
    "df['in_RegulatoryOverlayTypeCV'] = \"Water Right Areas\"\n",
    "df['in_WaterSourceTypeCV'] = \"Surface Water and Groundwater\"\n",
    "\n",
    "df = df.drop_duplicates().reset_index(drop=True)\n",
    "outdf1 = df.copy()\n",
    "print(len(outdf1))\n",
    "outdf1.head()"
   ]
  },
  {
   "cell_type": "markdown",
   "metadata": {},
   "source": [
    "## Regulatory Area #2 - Groundwater Policy Management\n",
    "- these \"should\" share reporting units with the above WaterRightAreasServiceView"
   ]
  },
  {
   "cell_type": "code",
   "execution_count": null,
   "metadata": {},
   "outputs": [],
   "source": [
    "# Input File\n",
    "inputFile = \"RawInputData/shapefiles/ground_water_policy.zip\"\n",
    "dfin2 = gpd.read_file(inputFile, encoding = \"ISO-8859-1\").replace(np.nan, \"\")\n",
    "dfin2['geometry'] = dfin2['geometry'].to_crs(epsg=4326) # Realign Geometry Projection\n",
    "\n",
    "# WaDE UUID tracker for data assessment\n",
    "if 'WaDEUUID' not in dfin2:\n",
    "    dfin2['WaDEUUID'] = \"re2\" + dfin2.index.astype(str)\n",
    "    dfin2.to_csv('RawInputData/ground_water_policy.zip', compression=dict(method='zip', archive_name='ground_water_policy.csv'), index=False)\n",
    "\n",
    "print(len(dfin2))\n",
    "dfin2.head()"
   ]
  },
  {
   "cell_type": "code",
   "execution_count": null,
   "metadata": {},
   "outputs": [],
   "source": [
    "# create output for Regulatory Area #1 dataframe\n",
    "df = pd.DataFrame()\n",
    "\n",
    "# Data Assessment UUID\n",
    "df['WaDEUUID'] = dfin2['WaDEUUID']\n",
    "\n",
    "# Date Info\n",
    "df['in_Date'] = \"12/10/2023\"\n",
    "df['in_Year'] = \"2023\"\n",
    "\n",
    "# Organization Info\n",
    "df['in_OrganizationUUID'] = \"UTov_O1\"\n",
    "\n",
    "# ReportingUnit Info\n",
    "df['in_EPSGCodeCV'] = \"4326\"\n",
    "df['in_ReportingUnitName'] = \"WaDE Blank\"\n",
    "df['in_ReportingUnitNativeID'] = \"ut_\" + dfin2['WRAREA'].astype(str).str.strip()\n",
    "df['in_ReportingUnitProductVersion'] = \"\"\n",
    "df['in_ReportingUnitTypeCV'] = \"WaDE Blank\"\n",
    "df['in_ReportingUnitUpdateDate'] = \"5/31/2022\"\n",
    "df['in_StateCV'] = \"UT\"\n",
    "df['in_Geometry'] = dfin2['geometry']\n",
    "\n",
    "# RegulatoryOverlay Info\n",
    "df['in_OversightAgency'] = dfin2['REGIONAL_O']\n",
    "df['in_RegulatoryDescription'] = \"Groundwater Management Plans are created for areas throughout Utah to promote wise use of the ground-water, protect existing water rights, and address water quality issues and over-appropriation of ground water. The creation, requirements, management, purpose, and effects of these plans are explained in Section 73-5-15 of the Utah State code. All existing Groundwater Management Plans can be viewed by selecting the Management Plans link on the left.\"\n",
    "df['in_RegulatoryName'] = \"WaDE Blank\"\n",
    "df['in_RegulatoryOverlayNativeID'] = \"utr2_\" + dfin2['WRAREA'].astype(str).str.strip()\n",
    "df['in_RegulatoryStatusCV'] = dfin2['STATUS'].astype(str).str.strip()\n",
    "df['in_RegulatoryStatute'] = \"73-5-15\"\n",
    "df['in_RegulatoryStatuteLink'] = \"https://www.waterrights.utah.gov/groundwater/ManagementReports/ground.asp\"\n",
    "df['in_StatutoryEffectiveDate'] = \"05/03/2023\"\n",
    "df['in_StatutoryEndDate'] = \"\"\n",
    "df['in_RegulatoryOverlayTypeCV'] = \"Groundwater Policy Management\"\n",
    "df['in_WaterSourceTypeCV'] = \"Groundwater\"\n",
    "\n",
    "df = df.drop_duplicates().reset_index(drop=True)\n",
    "outdf2 = df.copy()\n",
    "print(len(outdf2))\n",
    "outdf2.head()"
   ]
  },
  {
   "cell_type": "markdown",
   "metadata": {},
   "source": [
    "## Regulatory Area #3 - BasinsClosedToNewAppropriations"
   ]
  },
  {
   "cell_type": "code",
   "execution_count": null,
   "metadata": {},
   "outputs": [],
   "source": [
    "# Input File\n",
    "inputFile = \"RawInputData/shapefiles/BasinsClosedToNewAppropriations.zip\"\n",
    "dfin3 = gpd.read_file(inputFile, encoding = \"ISO-8859-1\").replace(np.nan, \"\")\n",
    "dfin3['geometry'] = dfin3['geometry'].to_crs(epsg=4326) # Realign Geometry Projection\n",
    "\n",
    "# WaDE UUID tracker for data assessment\n",
    "if 'WaDEUUID' not in dfin3:\n",
    "    dfin3['WaDEUUID'] = \"re3\" + dfin3.index.astype(str)\n",
    "    dfin3.to_csv('RawInputData/BasinsClosedToNewAppropriations.zip', compression=dict(method='zip', archive_name='BasinsClosedToNewAppropriations.csv'), index=False)\n",
    "\n",
    "print(len(dfin3))\n",
    "dfin3.head()"
   ]
  },
  {
   "cell_type": "code",
   "execution_count": null,
   "metadata": {},
   "outputs": [],
   "source": [
    "# create output for Regulatory Area #1 dataframe\n",
    "df = pd.DataFrame()\n",
    "\n",
    "# Data Assessment UUID\n",
    "df['WaDEUUID'] = dfin3['WaDEUUID']\n",
    "\n",
    "# Date Info\n",
    "df['in_Date'] = \"12/10/2023\"\n",
    "df['in_Year'] = \"2023\"\n",
    "\n",
    "# Organization Info\n",
    "df['in_OrganizationUUID'] = \"UTov_O1\"\n",
    "\n",
    "# ReportingUnit Info\n",
    "df['in_EPSGCodeCV'] = \"4326\"\n",
    "df['in_ReportingUnitName'] = \"WaDE Blank\"\n",
    "df['in_ReportingUnitNativeID'] = \"utr3_\" + dfin3['AREA_CODE'].astype(str).str.strip()\n",
    "df['in_ReportingUnitProductVersion'] = \"\"\n",
    "df['in_ReportingUnitTypeCV'] = \"WaDE Blank\"\n",
    "df['in_ReportingUnitUpdateDate'] = \"5/31/2022\"\n",
    "df['in_StateCV'] = \"UT\"\n",
    "df['in_Geometry'] = dfin3['geometry']\n",
    "\n",
    "# RegulatoryOverlay Info\n",
    "df['in_OversightAgency'] = dfin3['Office']\n",
    "df['in_RegulatoryDescription'] = \"Basin closed to new appropriations.\"\n",
    "df['in_RegulatoryName'] = \"WaDE Blank\"\n",
    "df['in_RegulatoryOverlayNativeID'] = \"utr3_\" + dfin3['AREA_CODE'].astype(str).str.strip()\n",
    "df['in_RegulatoryStatusCV'] = \"Active\"\n",
    "df['in_RegulatoryStatute'] = \"\"\n",
    "df['in_RegulatoryStatuteLink'] = dfin3['Link']\n",
    "df['in_StatutoryEffectiveDate'] = \"12/10/2023\"\n",
    "df['in_StatutoryEndDate'] = \"\"\n",
    "df['in_RegulatoryOverlayTypeCV'] = \"Basins Closed to New Appropriations\"\n",
    "df['in_WaterSourceTypeCV'] = \"Surface Water and Groundwater\"\n",
    "\n",
    "df = df.drop_duplicates().reset_index(drop=True)\n",
    "outdf3 = df.copy()\n",
    "print(len(outdf3))\n",
    "outdf3.head()"
   ]
  },
  {
   "cell_type": "markdown",
   "metadata": {},
   "source": [
    "## Regulatory Area #4 - AreasOpenToLimitedAppropriation"
   ]
  },
  {
   "cell_type": "code",
   "execution_count": null,
   "metadata": {},
   "outputs": [],
   "source": [
    "# Input File\n",
    "inputFile = \"RawInputData/shapefiles/AreasOpenToLimitedAppropriation.zip\"\n",
    "dfin4 = gpd.read_file(inputFile, encoding = \"ISO-8859-1\").replace(np.nan, \"\")\n",
    "dfin4['geometry'] = dfin4['geometry'].to_crs(epsg=4326) # Realign Geometry Projection\n",
    "\n",
    "# WaDE UUID tracker for data assessment\n",
    "if 'WaDEUUID' not in dfin4:\n",
    "    dfin4['WaDEUUID'] = \"re4\" + dfin4.index.astype(str)\n",
    "    dfin4.to_csv('RawInputData/AreasOpenToLimitedAppropriation.zip', compression=dict(method='zip', archive_name='AreasOpenToLimitedAppropriation.csv'), index=False)\n",
    "\n",
    "print(len(dfin4))\n",
    "dfin4.head()"
   ]
  },
  {
   "cell_type": "code",
   "execution_count": null,
   "metadata": {},
   "outputs": [],
   "source": [
    "# create output for Regulatory Area #1 dataframe\n",
    "df = pd.DataFrame()\n",
    "\n",
    "# Data Assessment UUID\n",
    "df['WaDEUUID'] = dfin4['WaDEUUID']\n",
    "\n",
    "# Date Info\n",
    "df['in_Date'] = \"12/10/2023\"\n",
    "df['in_Year'] = \"2023\"\n",
    "\n",
    "# Organization Info\n",
    "df['in_OrganizationUUID'] = \"UTov_O1\"\n",
    "\n",
    "# ReportingUnit Info\n",
    "df['in_EPSGCodeCV'] = \"4326\"\n",
    "df['in_ReportingUnitName'] = \"WaDE Blank\"\n",
    "df['in_ReportingUnitNativeID'] = \"utr4_\" + dfin4['AREA_CODE'].astype(str).str.strip()\n",
    "df['in_ReportingUnitProductVersion'] = \"\"\n",
    "df['in_ReportingUnitTypeCV'] = \"WaDE Blank\"\n",
    "df['in_ReportingUnitUpdateDate'] = \"5/31/2022\"\n",
    "df['in_StateCV'] = \"UT\"\n",
    "df['in_Geometry'] = dfin4['geometry']\n",
    "\n",
    "# RegulatoryOverlay Info\n",
    "df['in_OversightAgency'] = dfin4['Office']\n",
    "df['in_RegulatoryDescription'] = \"The following are excepted from the effect of this proclamation: 1) applications for non-consumptive uses; 2) applications that include a mitigation plan to offset depletion; 3) applications for small amounts of water, as defined in Utah Code 73-3-5.6, that comply with State Engineer basin policies. All such applications remain subject to all applicable requirements of state law.\"\n",
    "df['in_RegulatoryName'] = \"WaDE Blank\"\n",
    "df['in_RegulatoryOverlayNativeID'] = \"utr4_\" + dfin4['AREA_CODE'].astype(str).str.strip()\n",
    "df['in_RegulatoryStatusCV'] = \"Active\"\n",
    "df['in_RegulatoryStatute'] = \"\"\n",
    "df['in_RegulatoryStatuteLink'] = dfin4['Link']\n",
    "df['in_StatutoryEffectiveDate'] = \"12/10/2023\"\n",
    "df['in_StatutoryEndDate'] = \"\"\n",
    "df['in_RegulatoryOverlayTypeCV'] = \"Areas Open to Limited Appropriation\"\n",
    "df['in_WaterSourceTypeCV'] = \"Surface Water and Groundwater\"\n",
    "\n",
    "df = df.drop_duplicates().reset_index(drop=True)\n",
    "outdf4 = df.copy()\n",
    "print(len(outdf4))\n",
    "outdf4.head()"
   ]
  },
  {
   "cell_type": "code",
   "execution_count": null,
   "metadata": {},
   "outputs": [],
   "source": []
  },
  {
   "cell_type": "markdown",
   "metadata": {},
   "source": [
    "## Concatenate DataFrames together"
   ]
  },
  {
   "cell_type": "code",
   "execution_count": null,
   "metadata": {},
   "outputs": [],
   "source": [
    "# Concatenate dataframes\n",
    "frames = [outdf1, outdf2, outdf3, outdf4] # list all out dataframes here\n",
    "outdf = pd.concat(frames)\n",
    "outdf = outdf.drop_duplicates().reset_index(drop=True).replace(np.nan, \"\")\n",
    "print(len(outdf))"
   ]
  },
  {
   "cell_type": "markdown",
   "metadata": {},
   "source": [
    "## Clean Data / data types"
   ]
  },
  {
   "cell_type": "code",
   "execution_count": null,
   "metadata": {
    "scrolled": true
   },
   "outputs": [],
   "source": [
    "# Ensure Empty String / remove string value of \"nan\"\n",
    "\n",
    "def ensureEmptyString(val):\n",
    "    val = str(val).strip()\n",
    "    if val == \"\" or val == \" \" or val == \"nan\" or pd.isnull(val):\n",
    "        outString = \"\"\n",
    "    else:\n",
    "        outString = val\n",
    "    return outString"
   ]
  },
  {
   "cell_type": "code",
   "execution_count": null,
   "metadata": {},
   "outputs": [],
   "source": [
    "outdf['in_ReportingUnitName'] = outdf.apply(lambda row: ensureEmptyString(row['in_ReportingUnitName']), axis=1)\n",
    "outdf['in_ReportingUnitName'].unique()"
   ]
  },
  {
   "cell_type": "code",
   "execution_count": null,
   "metadata": {},
   "outputs": [],
   "source": [
    "outdf['in_RegulatoryDescription'] = outdf.apply(lambda row: ensureEmptyString(row['in_RegulatoryDescription']), axis=1)\n",
    "outdf['in_RegulatoryDescription'].unique()"
   ]
  },
  {
   "cell_type": "code",
   "execution_count": null,
   "metadata": {},
   "outputs": [],
   "source": [
    "outdf['in_RegulatoryName'] = outdf.apply(lambda row: ensureEmptyString(row['in_RegulatoryName']), axis=1)\n",
    "outdf['in_RegulatoryName'].unique()"
   ]
  },
  {
   "cell_type": "code",
   "execution_count": null,
   "metadata": {},
   "outputs": [],
   "source": [
    "#Update datatype of StatutoryEffectiveDate to fit WaDE 2.0 structure\n",
    "outdf['in_StatutoryEffectiveDate'] = pd.to_datetime(outdf['in_StatutoryEffectiveDate'], errors = 'coerce')\n",
    "outdf['in_StatutoryEffectiveDate'] = pd.to_datetime(outdf['in_StatutoryEffectiveDate'].dt.strftime('%m/%d/%Y'))\n",
    "outdf['in_StatutoryEffectiveDate'].unique()"
   ]
  },
  {
   "cell_type": "markdown",
   "metadata": {},
   "source": [
    "# Geometry Data\n",
    "- For attaching geometry to overlay reporting unit area info."
   ]
  },
  {
   "cell_type": "markdown",
   "metadata": {},
   "source": [
    "#### Overlay Area #1 shapefile info"
   ]
  },
  {
   "cell_type": "code",
   "execution_count": null,
   "metadata": {},
   "outputs": [],
   "source": [
    "# # Input File / or use same input as above\n",
    "\n",
    "gdfin1 = outdf.copy()\n",
    "gdfin1 = gpd.GeoDataFrame(gdfin1, geometry=gdfin1['in_Geometry'], crs=\"EPSG:4326\") # covert to geodataframe\n",
    "print(len(gdfin1))\n",
    "gdfin1.head()"
   ]
  },
  {
   "cell_type": "code",
   "execution_count": null,
   "metadata": {},
   "outputs": [],
   "source": [
    "# plot shape info to map\n",
    "gdfin1.plot()"
   ]
  },
  {
   "cell_type": "code",
   "execution_count": null,
   "metadata": {},
   "outputs": [],
   "source": [
    "# create output for Regulatory Area #1 dataframe\n",
    "df = pd.DataFrame()\n",
    "\n",
    "columnsList = ['in_ReportingUnitNativeID', 'geometry']\n",
    "goutdf1 = pd.DataFrame(columns=columnsList, index=gdfin1.index)\n",
    "\n",
    "goutdf1['in_ReportingUnitNativeID'] =  gdfin1[\"in_ReportingUnitNativeID\"].astype(str)  #in_ReportingUnitNativeID needs to match source from above equivalent dataframe\n",
    "goutdf1['geometry'] = gdfin1['in_Geometry']\n",
    "goutdf1 = goutdf1.drop_duplicates().reset_index(drop=True)\n",
    "\n",
    "# drop geometery from outdf\n",
    "outdf = outdf.drop(['in_Geometry'], axis=1)\n",
    "\n",
    "\n",
    "print(len(goutdf1))\n",
    "goutdf1.head()"
   ]
  },
  {
   "cell_type": "markdown",
   "metadata": {},
   "source": [
    "#### Overlay Area #2 shapefile info"
   ]
  },
  {
   "cell_type": "code",
   "execution_count": null,
   "metadata": {},
   "outputs": [],
   "source": [
    "# etc etc..."
   ]
  },
  {
   "cell_type": "markdown",
   "metadata": {},
   "source": [
    "#### Concatenate goutdf shapefile info into single output"
   ]
  },
  {
   "cell_type": "code",
   "execution_count": null,
   "metadata": {},
   "outputs": [],
   "source": [
    "# Concatenate Geometry DataFrames\n",
    "frames = [goutdf1] # add geoutdf dataframes here\n",
    "goutdf = pd.concat(frames).reset_index(drop=True)\n",
    "\n",
    "print(len(goutdf))\n",
    "goutdf.head()"
   ]
  },
  {
   "cell_type": "markdown",
   "metadata": {},
   "source": [
    "## Export Data"
   ]
  },
  {
   "cell_type": "code",
   "execution_count": null,
   "metadata": {},
   "outputs": [],
   "source": [
    "outdf.info()"
   ]
  },
  {
   "cell_type": "code",
   "execution_count": null,
   "metadata": {},
   "outputs": [],
   "source": [
    "outdf"
   ]
  },
  {
   "cell_type": "code",
   "execution_count": null,
   "metadata": {},
   "outputs": [],
   "source": [
    "goutdf.info()"
   ]
  },
  {
   "cell_type": "code",
   "execution_count": null,
   "metadata": {},
   "outputs": [],
   "source": [
    "goutdf"
   ]
  },
  {
   "cell_type": "code",
   "execution_count": null,
   "metadata": {},
   "outputs": [],
   "source": [
    "# Export out to CSV.\n",
    "outdf.to_csv('RawInputData/Pov_Main.zip', compression=dict(method='zip', archive_name='Pov_Main.csv'), index=False)  # The output, save as a zip\n",
    "goutdf.to_csv('RawInputData/P_Geometry.zip', compression=dict(method='zip', archive_name='P_Geometry.csv'), index=False)  # The output geometry."
   ]
  },
  {
   "cell_type": "code",
   "execution_count": null,
   "metadata": {},
   "outputs": [],
   "source": []
  }
 ],
 "metadata": {
  "kernelspec": {
   "display_name": "Python 3 (ipykernel)",
   "language": "python",
   "name": "python3"
  },
  "language_info": {
   "codemirror_mode": {
    "name": "ipython",
    "version": 3
   },
   "file_extension": ".py",
   "mimetype": "text/x-python",
   "name": "python",
   "nbconvert_exporter": "python",
   "pygments_lexer": "ipython3",
   "version": "3.12.3"
  }
 },
 "nbformat": 4,
 "nbformat_minor": 4
}
