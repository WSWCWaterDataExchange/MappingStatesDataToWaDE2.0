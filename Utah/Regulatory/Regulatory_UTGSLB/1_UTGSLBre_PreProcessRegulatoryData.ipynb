{
 "cells": [
  {
   "cell_type": "markdown",
   "metadata": {},
   "source": [
    "# Pre-processing (state / organization Name) Regulatory data for WaDE upload.\n",
    "- Purpose:  To preprocess the data into one master file for simple DataFrame creation and extraction."
   ]
  },
  {
   "cell_type": "code",
   "execution_count": 1,
   "metadata": {},
   "outputs": [],
   "source": [
    "# Needed Libraries / Modules\n",
    "\n",
    "# ---- working with data ----\n",
    "import os  # native operating system interaction\n",
    "import numpy as np  # mathematical array manipulation\n",
    "import pandas as pd  # data structure and data analysis\n",
    "import geopandas as gpd  # geo-data structure and data analysis\n",
    "\n",
    "# ---- visualization ----\n",
    "import matplotlib.pyplot as plt  # plotting library\n",
    "import seaborn as sns  # plotting library\n",
    "\n",
    "# ---- API data retrieval ----\n",
    "import requests  # http requests\n",
    "import json  # JSON parse\n",
    "\n",
    "# ---- Cleanup ----\n",
    "import re  # string regular expression manipulation\n",
    "from datetime import datetime  # date and time manipulation\n",
    "pd.set_option('display.max_columns', 999)  # How to display all columns of a Pandas DataFrame in Jupyter Notebook\n",
    "pd.set_option('display.float_format', lambda x: '%.5f' % x)  # suppress scientific notation in Pandas"
   ]
  },
  {
   "cell_type": "code",
   "execution_count": 2,
   "metadata": {},
   "outputs": [
    {
     "name": "stdout",
     "output_type": "stream",
     "text": [
      "The working Directory is: G:/Shared drives/WaDE Data/Utah/Regulatory/Regulatory_UTGSLB\n"
     ]
    }
   ],
   "source": [
    "# ---- working directory ----\n",
    "workingDirString = \"G:/Shared drives/WaDE Data/Utah/Regulatory/Regulatory_UTGSLB\" # set working directory folder string here\n",
    "os.chdir(workingDirString)\n",
    "print(f'The working Directory is:', workingDirString)"
   ]
  },
  {
   "cell_type": "markdown",
   "metadata": {},
   "source": [
    "## Regulatory Area Data #1"
   ]
  },
  {
   "cell_type": "code",
   "execution_count": 3,
   "metadata": {},
   "outputs": [
    {
     "name": "stdout",
     "output_type": "stream",
     "text": [
      "1\n"
     ]
    },
    {
     "data": {
      "text/html": [
       "<div>\n",
       "<style scoped>\n",
       "    .dataframe tbody tr th:only-of-type {\n",
       "        vertical-align: middle;\n",
       "    }\n",
       "\n",
       "    .dataframe tbody tr th {\n",
       "        vertical-align: top;\n",
       "    }\n",
       "\n",
       "    .dataframe thead th {\n",
       "        text-align: right;\n",
       "    }\n",
       "</style>\n",
       "<table border=\"1\" class=\"dataframe\">\n",
       "  <thead>\n",
       "    <tr style=\"text-align: right;\">\n",
       "      <th></th>\n",
       "      <th>OBJECTID_1</th>\n",
       "      <th>OBJECTID_2</th>\n",
       "      <th>NAME</th>\n",
       "      <th>BASIN</th>\n",
       "      <th>sqmi</th>\n",
       "      <th>Acres</th>\n",
       "      <th>AllReports</th>\n",
       "      <th>FullRept99</th>\n",
       "      <th>FullRept10</th>\n",
       "      <th>NonDigital</th>\n",
       "      <th>SlideTrans</th>\n",
       "      <th>NewDigital</th>\n",
       "      <th>BRC</th>\n",
       "      <th>SurvYear1</th>\n",
       "      <th>Ag1</th>\n",
       "      <th>SurvYear2</th>\n",
       "      <th>Ag2</th>\n",
       "      <th>SurvYear3</th>\n",
       "      <th>Ag3</th>\n",
       "      <th>SurvYear4</th>\n",
       "      <th>Ag4</th>\n",
       "      <th>SurvYear5</th>\n",
       "      <th>Ag5</th>\n",
       "      <th>SurvYear6</th>\n",
       "      <th>Ag6</th>\n",
       "      <th>WBD_Date</th>\n",
       "      <th>OBJECTID</th>\n",
       "      <th>Area_Acres</th>\n",
       "      <th>Area_SqKm</th>\n",
       "      <th>States</th>\n",
       "      <th>LoadDate</th>\n",
       "      <th>Shape_Leng</th>\n",
       "      <th>Gaz_ID</th>\n",
       "      <th>HUC_6</th>\n",
       "      <th>HU_6_Name</th>\n",
       "      <th>TNMID</th>\n",
       "      <th>Shape_Le_1</th>\n",
       "      <th>Shape_Area</th>\n",
       "      <th>geometry</th>\n",
       "      <th>WaDEUUID</th>\n",
       "    </tr>\n",
       "  </thead>\n",
       "  <tbody>\n",
       "    <tr>\n",
       "      <th>0</th>\n",
       "      <td>12</td>\n",
       "      <td>12</td>\n",
       "      <td>BEAR RIVER</td>\n",
       "      <td>01</td>\n",
       "      <td>7509.16723</td>\n",
       "      <td>4805870.00000</td>\n",
       "      <td>http://water.utah.gov/Landuse/publ.htm</td>\n",
       "      <td>http://water.utah.gov/Landuse/wrlui.pdf</td>\n",
       "      <td>http://water.utah.gov/Landuse/StatewideSummary...</td>\n",
       "      <td>1969,</td>\n",
       "      <td>1986,1996,</td>\n",
       "      <td>2003,2009,2015</td>\n",
       "      <td>BRC: 1976,1990</td>\n",
       "      <td>1986</td>\n",
       "      <td>258043.00000</td>\n",
       "      <td>1996</td>\n",
       "      <td>293272.00000</td>\n",
       "      <td>2003</td>\n",
       "      <td>258377.00000</td>\n",
       "      <td>2009</td>\n",
       "      <td>246033.00000</td>\n",
       "      <td>2015</td>\n",
       "      <td>0.00000</td>\n",
       "      <td></td>\n",
       "      <td>0.00000</td>\n",
       "      <td></td>\n",
       "      <td>0</td>\n",
       "      <td>0.00000</td>\n",
       "      <td>0.00000</td>\n",
       "      <td></td>\n",
       "      <td></td>\n",
       "      <td>1173885.57539</td>\n",
       "      <td>0</td>\n",
       "      <td></td>\n",
       "      <td></td>\n",
       "      <td></td>\n",
       "      <td>1173885.48654</td>\n",
       "      <td>19448653836.20000</td>\n",
       "      <td>MULTIPOLYGON (((-114.05051 38.05904, -114.0504...</td>\n",
       "      <td>re0</td>\n",
       "    </tr>\n",
       "  </tbody>\n",
       "</table>\n",
       "</div>"
      ],
      "text/plain": [
       "   OBJECTID_1  OBJECTID_2        NAME BASIN       sqmi         Acres  \\\n",
       "0          12          12  BEAR RIVER    01 7509.16723 4805870.00000   \n",
       "\n",
       "                               AllReports  \\\n",
       "0  http://water.utah.gov/Landuse/publ.htm   \n",
       "\n",
       "                                FullRept99  \\\n",
       "0  http://water.utah.gov/Landuse/wrlui.pdf   \n",
       "\n",
       "                                          FullRept10 NonDigital  SlideTrans  \\\n",
       "0  http://water.utah.gov/Landuse/StatewideSummary...      1969,  1986,1996,   \n",
       "\n",
       "       NewDigital             BRC SurvYear1          Ag1 SurvYear2  \\\n",
       "0  2003,2009,2015  BRC: 1976,1990      1986 258043.00000      1996   \n",
       "\n",
       "           Ag2 SurvYear3          Ag3 SurvYear4          Ag4 SurvYear5  \\\n",
       "0 293272.00000      2003 258377.00000      2009 246033.00000      2015   \n",
       "\n",
       "      Ag5 SurvYear6     Ag6 WBD_Date  OBJECTID  Area_Acres  Area_SqKm States  \\\n",
       "0 0.00000           0.00000                  0     0.00000    0.00000          \n",
       "\n",
       "  LoadDate    Shape_Leng  Gaz_ID HUC_6 HU_6_Name TNMID    Shape_Le_1  \\\n",
       "0          1173885.57539       0                       1173885.48654   \n",
       "\n",
       "         Shape_Area                                           geometry  \\\n",
       "0 19448653836.20000  MULTIPOLYGON (((-114.05051 38.05904, -114.0504...   \n",
       "\n",
       "  WaDEUUID  \n",
       "0      re0  "
      ]
     },
     "execution_count": 3,
     "metadata": {},
     "output_type": "execute_result"
    }
   ],
   "source": [
    "# Input File\n",
    "inputFile = \"RawInputData/shapefiles/GreatSaltLakeBasin_Full.zip\"\n",
    "dfin1 = gpd.read_file(inputFile).replace(np.nan, \"\")\n",
    "\n",
    "# WaDE UUID tracker for data assessment\n",
    "if 'WaDEUUID' not in dfin1:\n",
    "    dfin1['WaDEUUID'] = \"re\" + dfin1.index.astype(str)\n",
    "    dfin1.to_csv('RawInputData/GreatSaltLakeBasin_Full.zip', compression=dict(method='zip', archive_name='GreatSaltLakeBasin_Full.csv'), index=False)\n",
    "\n",
    "# Realign Geometry Projection\n",
    "dfin1['geometry'] = dfin1['geometry'].to_crs(epsg=4326)\n",
    "\n",
    "print(len(dfin1))\n",
    "dfin1.head()"
   ]
  },
  {
   "cell_type": "code",
   "execution_count": 4,
   "metadata": {},
   "outputs": [
    {
     "name": "stdout",
     "output_type": "stream",
     "text": [
      "1\n"
     ]
    },
    {
     "data": {
      "text/html": [
       "<div>\n",
       "<style scoped>\n",
       "    .dataframe tbody tr th:only-of-type {\n",
       "        vertical-align: middle;\n",
       "    }\n",
       "\n",
       "    .dataframe tbody tr th {\n",
       "        vertical-align: top;\n",
       "    }\n",
       "\n",
       "    .dataframe thead th {\n",
       "        text-align: right;\n",
       "    }\n",
       "</style>\n",
       "<table border=\"1\" class=\"dataframe\">\n",
       "  <thead>\n",
       "    <tr style=\"text-align: right;\">\n",
       "      <th></th>\n",
       "      <th>WaDEUUID</th>\n",
       "      <th>in_Date</th>\n",
       "      <th>in_Year</th>\n",
       "      <th>in_OrganizationUUID</th>\n",
       "      <th>in_EPSGCodeCV</th>\n",
       "      <th>in_ReportingUnitName</th>\n",
       "      <th>in_ReportingUnitNativeID</th>\n",
       "      <th>in_ReportingUnitProductVersion</th>\n",
       "      <th>in_ReportingUnitTypeCV</th>\n",
       "      <th>in_ReportingUnitUpdateDate</th>\n",
       "      <th>in_StateCV</th>\n",
       "      <th>in_Geometry</th>\n",
       "      <th>in_OversightAgency</th>\n",
       "      <th>in_RegulatoryDescription</th>\n",
       "      <th>in_RegulatoryName</th>\n",
       "      <th>in_RegulatoryOverlayNativeID</th>\n",
       "      <th>in_RegulatoryStatusCV</th>\n",
       "      <th>in_RegulatoryStatute</th>\n",
       "      <th>in_RegulatoryStatuteLink</th>\n",
       "      <th>in_StatutoryEffectiveDate</th>\n",
       "      <th>in_StatutoryEndDate</th>\n",
       "      <th>in_RegulatoryOverlayTypeCV</th>\n",
       "      <th>in_WaterSourceTypeCV</th>\n",
       "    </tr>\n",
       "  </thead>\n",
       "  <tbody>\n",
       "    <tr>\n",
       "      <th>0</th>\n",
       "      <td>re0</td>\n",
       "      <td>8/2/2023</td>\n",
       "      <td>2023</td>\n",
       "      <td>UTGSLBre_O1</td>\n",
       "      <td>4326</td>\n",
       "      <td>BEAR RIVER</td>\n",
       "      <td>utgslb12</td>\n",
       "      <td></td>\n",
       "      <td>Great Salt Lake Basin</td>\n",
       "      <td></td>\n",
       "      <td>UT</td>\n",
       "      <td></td>\n",
       "      <td>Utah Department of Natural Resources</td>\n",
       "      <td>Helps ensure the quality of life of Utah resid...</td>\n",
       "      <td>BEAR RIVER</td>\n",
       "      <td>12</td>\n",
       "      <td>Active</td>\n",
       "      <td></td>\n",
       "      <td></td>\n",
       "      <td>11/3/2022</td>\n",
       "      <td></td>\n",
       "      <td>Great Salt Lake Basin</td>\n",
       "      <td>Surface Water</td>\n",
       "    </tr>\n",
       "  </tbody>\n",
       "</table>\n",
       "</div>"
      ],
      "text/plain": [
       "  WaDEUUID   in_Date in_Year in_OrganizationUUID in_EPSGCodeCV  \\\n",
       "0      re0  8/2/2023    2023         UTGSLBre_O1          4326   \n",
       "\n",
       "  in_ReportingUnitName in_ReportingUnitNativeID  \\\n",
       "0           BEAR RIVER                 utgslb12   \n",
       "\n",
       "  in_ReportingUnitProductVersion in_ReportingUnitTypeCV  \\\n",
       "0                                 Great Salt Lake Basin   \n",
       "\n",
       "  in_ReportingUnitUpdateDate in_StateCV in_Geometry  \\\n",
       "0                                    UT               \n",
       "\n",
       "                     in_OversightAgency  \\\n",
       "0  Utah Department of Natural Resources   \n",
       "\n",
       "                            in_RegulatoryDescription in_RegulatoryName  \\\n",
       "0  Helps ensure the quality of life of Utah resid...        BEAR RIVER   \n",
       "\n",
       "  in_RegulatoryOverlayNativeID in_RegulatoryStatusCV in_RegulatoryStatute  \\\n",
       "0                           12                Active                        \n",
       "\n",
       "  in_RegulatoryStatuteLink in_StatutoryEffectiveDate in_StatutoryEndDate  \\\n",
       "0                                          11/3/2022                       \n",
       "\n",
       "  in_RegulatoryOverlayTypeCV in_WaterSourceTypeCV  \n",
       "0      Great Salt Lake Basin        Surface Water  "
      ]
     },
     "execution_count": 4,
     "metadata": {},
     "output_type": "execute_result"
    }
   ],
   "source": [
    "# create output for Regulatory Area #1 dataframe\n",
    "df = pd.DataFrame()\n",
    "\n",
    "# Data Assessment UUID\n",
    "df['WaDEUUID'] = dfin1['WaDEUUID']\n",
    "\n",
    "# Date Info\n",
    "df['in_Date'] = \"8/2/2023\"\n",
    "df['in_Year'] = \"2023\"\n",
    "\n",
    "# Organization Info\n",
    "df['in_OrganizationUUID'] = \"UTGSLBre_O1\"\n",
    "\n",
    "# ReportingUnit Info\n",
    "df['in_EPSGCodeCV'] = \"4326\"\n",
    "df['in_ReportingUnitName'] = dfin1[\"NAME\"]\n",
    "df['in_ReportingUnitNativeID'] = \"utgslb\" + dfin1[\"OBJECTID_1\"].astype(str)\n",
    "df['in_ReportingUnitProductVersion'] = \"\"\n",
    "df['in_ReportingUnitTypeCV'] = \"Great Salt Lake Basin\"\n",
    "df['in_ReportingUnitUpdateDate'] = \"\"\n",
    "df['in_StateCV'] = \"UT\"\n",
    "df['in_Geometry'] = \"\"\n",
    "\n",
    "# RegulatoryOverlay Info\n",
    "df['in_OversightAgency'] = \"Utah Department of Natural Resources\"\n",
    "df['in_RegulatoryDescription'] = \"Helps ensure the quality of life of Utah residents by managing and protecting the state's natural resources\"\n",
    "df['in_RegulatoryName'] = dfin1[\"NAME\"]\n",
    "df['in_RegulatoryOverlayNativeID'] = dfin1[\"OBJECTID_1\"].astype(str)\n",
    "df['in_RegulatoryStatusCV'] = \"Active\"\n",
    "df['in_RegulatoryStatute'] = \"\"\n",
    "df['in_RegulatoryStatuteLink'] =\"\"\n",
    "df['in_StatutoryEffectiveDate'] = \"11/3/2022\"\n",
    "df['in_StatutoryEndDate'] = \"\"\n",
    "df['in_RegulatoryOverlayTypeCV'] = \"Great Salt Lake Basin\"\n",
    "df['in_WaterSourceTypeCV'] = \"Surface Water\"\n",
    "\n",
    "df = df.drop_duplicates().reset_index(drop=True)\n",
    "outdf1 = df.copy()\n",
    "print(len(outdf1))\n",
    "outdf1.head()"
   ]
  },
  {
   "cell_type": "markdown",
   "metadata": {},
   "source": [
    "## Regulatory Area #2"
   ]
  },
  {
   "cell_type": "code",
   "execution_count": 5,
   "metadata": {},
   "outputs": [],
   "source": [
    "# etc etc,"
   ]
  },
  {
   "cell_type": "markdown",
   "metadata": {},
   "source": [
    "## Concatenate DataFrames together"
   ]
  },
  {
   "cell_type": "code",
   "execution_count": 6,
   "metadata": {},
   "outputs": [
    {
     "name": "stdout",
     "output_type": "stream",
     "text": [
      "1\n"
     ]
    }
   ],
   "source": [
    "# Concatenate dataframes\n",
    "frames = [outdf1] # list all out dataframes here\n",
    "outdf = pd.concat(frames)\n",
    "outdf = outdf.drop_duplicates().reset_index(drop=True).replace(np.nan, \"\")\n",
    "print(len(outdf))"
   ]
  },
  {
   "cell_type": "markdown",
   "metadata": {},
   "source": [
    "## Clean Data / data types"
   ]
  },
  {
   "cell_type": "code",
   "execution_count": 7,
   "metadata": {
    "scrolled": true
   },
   "outputs": [],
   "source": [
    "# Ensure Empty String / remove string value of \"nan\"\n",
    "\n",
    "def ensureEmptyString(val):\n",
    "    val = str(val).strip()\n",
    "    if val == \"\" or val == \" \" or val == \"nan\" or pd.isnull(val):\n",
    "        outString = \"\"\n",
    "    else:\n",
    "        outString = val\n",
    "    return outString"
   ]
  },
  {
   "cell_type": "code",
   "execution_count": 8,
   "metadata": {},
   "outputs": [
    {
     "data": {
      "text/plain": [
       "array(['BEAR RIVER'], dtype=object)"
      ]
     },
     "execution_count": 8,
     "metadata": {},
     "output_type": "execute_result"
    }
   ],
   "source": [
    "outdf['in_ReportingUnitName'] = df.apply(lambda row: ensureEmptyString(row['in_ReportingUnitName']), axis=1)\n",
    "outdf['in_ReportingUnitName'].unique()"
   ]
  },
  {
   "cell_type": "code",
   "execution_count": 9,
   "metadata": {},
   "outputs": [
    {
     "data": {
      "text/plain": [
       "array([\"Helps ensure the quality of life of Utah residents by managing and protecting the state's natural resources\"],\n",
       "      dtype=object)"
      ]
     },
     "execution_count": 9,
     "metadata": {},
     "output_type": "execute_result"
    }
   ],
   "source": [
    "outdf['in_RegulatoryDescription'] = df.apply(lambda row: ensureEmptyString(row['in_RegulatoryDescription']), axis=1)\n",
    "outdf['in_RegulatoryDescription'].unique()"
   ]
  },
  {
   "cell_type": "code",
   "execution_count": 10,
   "metadata": {},
   "outputs": [
    {
     "data": {
      "text/plain": [
       "array(['BEAR RIVER'], dtype=object)"
      ]
     },
     "execution_count": 10,
     "metadata": {},
     "output_type": "execute_result"
    }
   ],
   "source": [
    "outdf['in_RegulatoryName'] = df.apply(lambda row: ensureEmptyString(row['in_RegulatoryName']), axis=1)\n",
    "outdf['in_RegulatoryName'].unique()"
   ]
  },
  {
   "cell_type": "code",
   "execution_count": 11,
   "metadata": {},
   "outputs": [
    {
     "data": {
      "text/plain": [
       "array(['2022-11-03T00:00:00.000000000'], dtype='datetime64[ns]')"
      ]
     },
     "execution_count": 11,
     "metadata": {},
     "output_type": "execute_result"
    }
   ],
   "source": [
    "#Update datatype of StatutoryEffectiveDate to fit WaDE 2.0 structure\n",
    "outdf['in_StatutoryEffectiveDate'] = pd.to_datetime(outdf['in_StatutoryEffectiveDate'], errors = 'coerce')\n",
    "outdf['in_StatutoryEffectiveDate'] = pd.to_datetime(outdf['in_StatutoryEffectiveDate'].dt.strftime('%m/%d/%Y'))\n",
    "outdf['in_StatutoryEffectiveDate'].unique()"
   ]
  },
  {
   "cell_type": "markdown",
   "metadata": {},
   "source": [
    "# Shapefile Data\n",
    "- For attaching geometry to reporting unit info."
   ]
  },
  {
   "cell_type": "markdown",
   "metadata": {},
   "source": [
    "#### Regulatory Area #1 shapefile info"
   ]
  },
  {
   "cell_type": "code",
   "execution_count": 12,
   "metadata": {},
   "outputs": [
    {
     "name": "stdout",
     "output_type": "stream",
     "text": [
      "1\n"
     ]
    },
    {
     "data": {
      "text/html": [
       "<div>\n",
       "<style scoped>\n",
       "    .dataframe tbody tr th:only-of-type {\n",
       "        vertical-align: middle;\n",
       "    }\n",
       "\n",
       "    .dataframe tbody tr th {\n",
       "        vertical-align: top;\n",
       "    }\n",
       "\n",
       "    .dataframe thead th {\n",
       "        text-align: right;\n",
       "    }\n",
       "</style>\n",
       "<table border=\"1\" class=\"dataframe\">\n",
       "  <thead>\n",
       "    <tr style=\"text-align: right;\">\n",
       "      <th></th>\n",
       "      <th>OBJECTID_1</th>\n",
       "      <th>OBJECTID_2</th>\n",
       "      <th>NAME</th>\n",
       "      <th>BASIN</th>\n",
       "      <th>sqmi</th>\n",
       "      <th>Acres</th>\n",
       "      <th>AllReports</th>\n",
       "      <th>FullRept99</th>\n",
       "      <th>FullRept10</th>\n",
       "      <th>NonDigital</th>\n",
       "      <th>SlideTrans</th>\n",
       "      <th>NewDigital</th>\n",
       "      <th>BRC</th>\n",
       "      <th>SurvYear1</th>\n",
       "      <th>Ag1</th>\n",
       "      <th>SurvYear2</th>\n",
       "      <th>Ag2</th>\n",
       "      <th>SurvYear3</th>\n",
       "      <th>Ag3</th>\n",
       "      <th>SurvYear4</th>\n",
       "      <th>Ag4</th>\n",
       "      <th>SurvYear5</th>\n",
       "      <th>Ag5</th>\n",
       "      <th>SurvYear6</th>\n",
       "      <th>Ag6</th>\n",
       "      <th>WBD_Date</th>\n",
       "      <th>OBJECTID</th>\n",
       "      <th>Area_Acres</th>\n",
       "      <th>Area_SqKm</th>\n",
       "      <th>States</th>\n",
       "      <th>LoadDate</th>\n",
       "      <th>Shape_Leng</th>\n",
       "      <th>Gaz_ID</th>\n",
       "      <th>HUC_6</th>\n",
       "      <th>HU_6_Name</th>\n",
       "      <th>TNMID</th>\n",
       "      <th>Shape_Le_1</th>\n",
       "      <th>Shape_Area</th>\n",
       "      <th>geometry</th>\n",
       "    </tr>\n",
       "  </thead>\n",
       "  <tbody>\n",
       "    <tr>\n",
       "      <th>0</th>\n",
       "      <td>12</td>\n",
       "      <td>12</td>\n",
       "      <td>BEAR RIVER</td>\n",
       "      <td>01</td>\n",
       "      <td>7509.16723</td>\n",
       "      <td>4805870.00000</td>\n",
       "      <td>http://water.utah.gov/Landuse/publ.htm</td>\n",
       "      <td>http://water.utah.gov/Landuse/wrlui.pdf</td>\n",
       "      <td>http://water.utah.gov/Landuse/StatewideSummary...</td>\n",
       "      <td>1969,</td>\n",
       "      <td>1986,1996,</td>\n",
       "      <td>2003,2009,2015</td>\n",
       "      <td>BRC: 1976,1990</td>\n",
       "      <td>1986</td>\n",
       "      <td>258043.00000</td>\n",
       "      <td>1996</td>\n",
       "      <td>293272.00000</td>\n",
       "      <td>2003</td>\n",
       "      <td>258377.00000</td>\n",
       "      <td>2009</td>\n",
       "      <td>246033.00000</td>\n",
       "      <td>2015</td>\n",
       "      <td>0.00000</td>\n",
       "      <td>None</td>\n",
       "      <td>0.00000</td>\n",
       "      <td>None</td>\n",
       "      <td>0</td>\n",
       "      <td>0.00000</td>\n",
       "      <td>0.00000</td>\n",
       "      <td>None</td>\n",
       "      <td>None</td>\n",
       "      <td>1173885.57539</td>\n",
       "      <td>0</td>\n",
       "      <td>None</td>\n",
       "      <td>None</td>\n",
       "      <td>None</td>\n",
       "      <td>1173885.48654</td>\n",
       "      <td>19448653836.20000</td>\n",
       "      <td>MULTIPOLYGON (((-114.05051 38.05904, -114.0504...</td>\n",
       "    </tr>\n",
       "  </tbody>\n",
       "</table>\n",
       "</div>"
      ],
      "text/plain": [
       "   OBJECTID_1  OBJECTID_2        NAME BASIN       sqmi         Acres  \\\n",
       "0          12          12  BEAR RIVER    01 7509.16723 4805870.00000   \n",
       "\n",
       "                               AllReports  \\\n",
       "0  http://water.utah.gov/Landuse/publ.htm   \n",
       "\n",
       "                                FullRept99  \\\n",
       "0  http://water.utah.gov/Landuse/wrlui.pdf   \n",
       "\n",
       "                                          FullRept10 NonDigital  SlideTrans  \\\n",
       "0  http://water.utah.gov/Landuse/StatewideSummary...      1969,  1986,1996,   \n",
       "\n",
       "       NewDigital             BRC SurvYear1          Ag1 SurvYear2  \\\n",
       "0  2003,2009,2015  BRC: 1976,1990      1986 258043.00000      1996   \n",
       "\n",
       "           Ag2 SurvYear3          Ag3 SurvYear4          Ag4 SurvYear5  \\\n",
       "0 293272.00000      2003 258377.00000      2009 246033.00000      2015   \n",
       "\n",
       "      Ag5 SurvYear6     Ag6 WBD_Date  OBJECTID  Area_Acres  Area_SqKm States  \\\n",
       "0 0.00000      None 0.00000     None         0     0.00000    0.00000   None   \n",
       "\n",
       "  LoadDate    Shape_Leng  Gaz_ID HUC_6 HU_6_Name TNMID    Shape_Le_1  \\\n",
       "0     None 1173885.57539       0  None      None  None 1173885.48654   \n",
       "\n",
       "         Shape_Area                                           geometry  \n",
       "0 19448653836.20000  MULTIPOLYGON (((-114.05051 38.05904, -114.0504...  "
      ]
     },
     "execution_count": 12,
     "metadata": {},
     "output_type": "execute_result"
    }
   ],
   "source": [
    "# Input File\n",
    "shapeInputFile = \"RawInputData/shapefiles/GreatSaltLakeBasin_Full.zip\"\n",
    "gdfin1 = gpd.read_file(shapeInputFile)\n",
    "\n",
    "# Realign Geometry Projection\n",
    "gdfin1['geometry'] = gdfin1['geometry'].to_crs(epsg=4326)\n",
    "\n",
    "print(len(gdfin1))\n",
    "gdfin1.head()"
   ]
  },
  {
   "cell_type": "code",
   "execution_count": 13,
   "metadata": {},
   "outputs": [
    {
     "data": {
      "text/plain": [
       "<AxesSubplot: >"
      ]
     },
     "execution_count": 13,
     "metadata": {},
     "output_type": "execute_result"
    },
    {
     "data": {
      "image/png": "[encoded data removed]",
      "text/plain": [
       "<Figure size 640x480 with 1 Axes>"
      ]
     },
     "metadata": {},
     "output_type": "display_data"
    }
   ],
   "source": [
    "# plot shape info to map\n",
    "gdfin1.plot()"
   ]
  },
  {
   "cell_type": "code",
   "execution_count": 14,
   "metadata": {},
   "outputs": [
    {
     "name": "stdout",
     "output_type": "stream",
     "text": [
      "1\n"
     ]
    },
    {
     "data": {
      "text/html": [
       "<div>\n",
       "<style scoped>\n",
       "    .dataframe tbody tr th:only-of-type {\n",
       "        vertical-align: middle;\n",
       "    }\n",
       "\n",
       "    .dataframe tbody tr th {\n",
       "        vertical-align: top;\n",
       "    }\n",
       "\n",
       "    .dataframe thead th {\n",
       "        text-align: right;\n",
       "    }\n",
       "</style>\n",
       "<table border=\"1\" class=\"dataframe\">\n",
       "  <thead>\n",
       "    <tr style=\"text-align: right;\">\n",
       "      <th></th>\n",
       "      <th>in_ReportingUnitNativeID</th>\n",
       "      <th>geometry</th>\n",
       "    </tr>\n",
       "  </thead>\n",
       "  <tbody>\n",
       "    <tr>\n",
       "      <th>0</th>\n",
       "      <td>utgslb12</td>\n",
       "      <td>MULTIPOLYGON (((-114.05051 38.05904, -114.0504...</td>\n",
       "    </tr>\n",
       "  </tbody>\n",
       "</table>\n",
       "</div>"
      ],
      "text/plain": [
       "  in_ReportingUnitNativeID                                           geometry\n",
       "0                 utgslb12  MULTIPOLYGON (((-114.05051 38.05904, -114.0504..."
      ]
     },
     "execution_count": 14,
     "metadata": {},
     "output_type": "execute_result"
    }
   ],
   "source": [
    "# create output for Regulatory Area #1 dataframe\n",
    "df = pd.DataFrame()\n",
    "\n",
    "columnsList = ['in_ReportingUnitNativeID', 'geometry']\n",
    "goutdf1 = pd.DataFrame(columns=columnsList, index=gdfin1.index)\n",
    "\n",
    "goutdf1['in_ReportingUnitNativeID'] = \"utgslb\" + gdfin1[\"OBJECTID_1\"].astype(str)  # in_ReportingUnitNativeID needs to match source from above equivlaent datframe\n",
    "goutdf1['geometry'] = gdfin1['geometry']\n",
    "goutdf1 = goutdf1.drop_duplicates().reset_index(drop=True)\n",
    "print(len(goutdf1))\n",
    "goutdf1.head()"
   ]
  },
  {
   "cell_type": "markdown",
   "metadata": {},
   "source": [
    "#### Regulatory Area #2 shapefile info"
   ]
  },
  {
   "cell_type": "code",
   "execution_count": 15,
   "metadata": {},
   "outputs": [],
   "source": [
    "# etc etc..."
   ]
  },
  {
   "cell_type": "markdown",
   "metadata": {},
   "source": [
    "#### Concatenate goutdf shapefile info into single output"
   ]
  },
  {
   "cell_type": "code",
   "execution_count": 16,
   "metadata": {},
   "outputs": [
    {
     "name": "stdout",
     "output_type": "stream",
     "text": [
      "1\n"
     ]
    },
    {
     "data": {
      "text/html": [
       "<div>\n",
       "<style scoped>\n",
       "    .dataframe tbody tr th:only-of-type {\n",
       "        vertical-align: middle;\n",
       "    }\n",
       "\n",
       "    .dataframe tbody tr th {\n",
       "        vertical-align: top;\n",
       "    }\n",
       "\n",
       "    .dataframe thead th {\n",
       "        text-align: right;\n",
       "    }\n",
       "</style>\n",
       "<table border=\"1\" class=\"dataframe\">\n",
       "  <thead>\n",
       "    <tr style=\"text-align: right;\">\n",
       "      <th></th>\n",
       "      <th>in_ReportingUnitNativeID</th>\n",
       "      <th>geometry</th>\n",
       "    </tr>\n",
       "  </thead>\n",
       "  <tbody>\n",
       "    <tr>\n",
       "      <th>0</th>\n",
       "      <td>utgslb12</td>\n",
       "      <td>MULTIPOLYGON (((-114.05051 38.05904, -114.0504...</td>\n",
       "    </tr>\n",
       "  </tbody>\n",
       "</table>\n",
       "</div>"
      ],
      "text/plain": [
       "  in_ReportingUnitNativeID                                           geometry\n",
       "0                 utgslb12  MULTIPOLYGON (((-114.05051 38.05904, -114.0504..."
      ]
     },
     "execution_count": 16,
     "metadata": {},
     "output_type": "execute_result"
    }
   ],
   "source": [
    "# Concatenate Basin & Subbasin DataFrames\n",
    "frames = [goutdf1] # add geoutdf dataframes here\n",
    "goutdf = pd.concat(frames).reset_index(drop=True)\n",
    "\n",
    "print(len(goutdf))\n",
    "goutdf.head()"
   ]
  },
  {
   "cell_type": "markdown",
   "metadata": {},
   "source": [
    "## Export Data"
   ]
  },
  {
   "cell_type": "code",
   "execution_count": 17,
   "metadata": {
    "scrolled": false
   },
   "outputs": [
    {
     "name": "stdout",
     "output_type": "stream",
     "text": [
      "WaDEUUID                                  object\n",
      "in_Date                                   object\n",
      "in_Year                                   object\n",
      "in_OrganizationUUID                       object\n",
      "in_EPSGCodeCV                             object\n",
      "in_ReportingUnitName                      object\n",
      "in_ReportingUnitNativeID                  object\n",
      "in_ReportingUnitProductVersion            object\n",
      "in_ReportingUnitTypeCV                    object\n",
      "in_ReportingUnitUpdateDate                object\n",
      "in_StateCV                                object\n",
      "in_Geometry                               object\n",
      "in_OversightAgency                        object\n",
      "in_RegulatoryDescription                  object\n",
      "in_RegulatoryName                         object\n",
      "in_RegulatoryOverlayNativeID              object\n",
      "in_RegulatoryStatusCV                     object\n",
      "in_RegulatoryStatute                      object\n",
      "in_RegulatoryStatuteLink                  object\n",
      "in_StatutoryEffectiveDate         datetime64[ns]\n",
      "in_StatutoryEndDate                       object\n",
      "in_RegulatoryOverlayTypeCV                object\n",
      "in_WaterSourceTypeCV                      object\n",
      "dtype: object\n"
     ]
    }
   ],
   "source": [
    "with pd.option_context('display.max_rows', None, 'display.max_columns', None):\n",
    "    print(outdf.dtypes)"
   ]
  },
  {
   "cell_type": "code",
   "execution_count": 18,
   "metadata": {},
   "outputs": [
    {
     "name": "stdout",
     "output_type": "stream",
     "text": [
      "in_ReportingUnitNativeID      object\n",
      "geometry                    geometry\n",
      "dtype: object\n"
     ]
    }
   ],
   "source": [
    "with pd.option_context('display.max_rows', None, 'display.max_columns', None):\n",
    "    print(goutdf.dtypes)"
   ]
  },
  {
   "cell_type": "code",
   "execution_count": 19,
   "metadata": {},
   "outputs": [],
   "source": [
    "# Export out to CSV.\n",
    "outdf.to_csv('RawInputData/Pre_utMain.zip', compression=dict(method='zip', archive_name='Pre_Main.csv'), index=False)  # The output, save as a zip\n",
    "goutdf.to_csv('RawInputData/P_Geometry.zip', compression=dict(method='zip', archive_name='P_Geometry.csv'), index=False)  # The output geometry."
   ]
  }
 ],
 "metadata": {
  "kernelspec": {
   "display_name": "Python 3 (ipykernel)",
   "language": "python",
   "name": "python3"
  },
  "language_info": {
   "codemirror_mode": {
    "name": "ipython",
    "version": 3
   },
   "file_extension": ".py",
   "mimetype": "text/x-python",
   "name": "python",
   "nbconvert_exporter": "python",
   "pygments_lexer": "ipython3",
   "version": "3.9.17"
  }
 },
 "nbformat": 4,
 "nbformat_minor": 4
}
