{
 "cells": [
  {
   "cell_type": "markdown",
   "id": "cf1726ea",
   "metadata": {},
   "source": [
    "# Assign RegulatoryOverlayUUIDs Values to Water Right sites.csv\n",
    "Purpose:  To assign RegulatoryOverlayUUIDs values to state water right sites.csv File.\n",
    "\n",
    "Notes: \n",
    "- requires the completed pre-processed sites.csv & watersource.csv files from the state \"WaterAllocation/ProcessedInputData\" folder to be copied over to the \"Regulatory/ProcessedInputData\" folder.  Rename to wr_sites.csv & wr_watersource.csv to preserve inputs.\n",
    "- requires awareness of unique WaterSourceTypeCV of each water right site match up to corresponding WaterSourceTypeCV of regulatoryoverlays per reportingunits"
   ]
  },
  {
   "cell_type": "code",
   "execution_count": null,
   "id": "ea6bb0d7",
   "metadata": {},
   "outputs": [],
   "source": [
    "# Needed Libraries / Modules\n",
    "\n",
    "# ---- working with data ----\n",
    "import os  # native operating system interaction\n",
    "import numpy as np  # mathematical array manipulation\n",
    "import pandas as pd  # data structure and data analysis\n",
    "import geopandas as gpd  # geo-data structure and data analysis\n",
    "\n",
    "# ---- visualization ----\n",
    "import matplotlib.pyplot as plt  # plotting library\n",
    "import seaborn as sns  # plotting library\n",
    "import geoplot as gplt # for plotting maps\n",
    "import geoplot.crs as gcrs #used to pull in webdata\n",
    "\n",
    "# ---- API data retrieval ----\n",
    "import requests  # http requests\n",
    "import json  # JSON parse\n",
    "\n",
    "# ---- Cleanup ----\n",
    "import re  # string regular expression manipulation\n",
    "from datetime import datetime  # date and time manipulation\n",
    "pd.set_option('display.max_columns', 999)  # How to display all columns of a Pandas DataFrame in Jupyter Notebook\n",
    "pd.set_option('display.float_format', lambda x: '%.5f' % x)  # suppress scientific notation in Pandas"
   ]
  },
  {
   "cell_type": "code",
   "execution_count": null,
   "id": "67694dfd",
   "metadata": {},
   "outputs": [],
   "source": [
    "# ---- working directory ----\n",
    "workingDirString = \"G:/Shared drives/WaDE Data/Utah/Regulatory\" # set working directory folder string here\n",
    "os.chdir(workingDirString)\n",
    "print(f'The working Directory is:', workingDirString)"
   ]
  },
  {
   "cell_type": "markdown",
   "id": "0422914c",
   "metadata": {},
   "source": [
    "## Input Data"
   ]
  },
  {
   "cell_type": "code",
   "execution_count": null,
   "id": "4fb68590",
   "metadata": {},
   "outputs": [],
   "source": [
    "# Regulatory Input Data\n",
    "dfro = pd.read_csv(\"ProcessedInputData/regulatoryoverlays.csv\")\n",
    "dfru = pd.read_csv(\"ProcessedInputData/reportingunits.csv\")\n",
    "dfrru = pd.read_csv(\"ProcessedInputData/regulatoryreportingunits.csv\")\n",
    "\n",
    "# Water right Input Data\n",
    "dfws = pd.read_csv('ProcessedInputData/wr_watersources.zip')\n",
    "dfs = pd.read_csv('ProcessedInputData/wr_sites.zip')"
   ]
  },
  {
   "cell_type": "code",
   "execution_count": null,
   "id": "5b7ad00b",
   "metadata": {},
   "outputs": [],
   "source": [
    "#### regulatory watersource info with reporting unit info\n",
    "\n",
    "# merge regulatoryoverlays -to- regulatoryreportingunits -to- reportingunits\n",
    "dfro = pd.merge(dfro[['RegulatoryOverlayUUID', 'RegulatoryOverlayTypeCV', 'WaterSourceTypeCV']], dfrru[['RegulatoryOverlayUUID', 'ReportingUnitUUID']], left_on='RegulatoryOverlayUUID', right_on='RegulatoryOverlayUUID', how='left')\n",
    "dfru = pd.merge(dfru, dfro, left_on='ReportingUnitUUID', right_on='ReportingUnitUUID', how='left')\n",
    "\n",
    "print(dfru['RegulatoryOverlayTypeCV'].unique()) # check WaterSourceTypeCV for unique values for\n",
    "print(dfru['WaterSourceTypeCV'].unique()) # check WaterSourceTypeCV for unique values for\n",
    "print(len(dfru))\n",
    "dfru.head(1)"
   ]
  },
  {
   "cell_type": "code",
   "execution_count": null,
   "id": "0eef2717",
   "metadata": {},
   "outputs": [],
   "source": [
    "#### water right watersource info with site info\n",
    "\n",
    "# explode site.csv on WaterSourceUUIDs\n",
    "dfs = dfs.assign(WaterSourceUUIDs=dfs['WaterSourceUUIDs'].str.split(',')).explode('WaterSourceUUIDs').reset_index(drop=True)\n",
    "\n",
    "# merge watersources to dfs via WaterSourceUUIDs -to -WaterSourceUUID\n",
    "dfs = pd.merge(dfs, dfws[['WaterSourceUUID', 'WaterSourceTypeCV']], left_on='WaterSourceUUIDs', right_on='WaterSourceUUID', how='left')\n",
    "print(dfs['WaterSourceTypeCV'].unique()) # check WaterSourceTypeCV for unique values for\n",
    "print(len(dfs))\n",
    "dfs.head(1)"
   ]
  },
  {
   "cell_type": "markdown",
   "id": "c6312364",
   "metadata": {},
   "source": [
    "## Extract RegulatoryOverlay from Reporting Units and assing to WR Sites\n",
    "- repeat scripts based on the number of ReportingUnitTypeCV types.\n",
    "- merge all geo-dataframes into one output"
   ]
  },
  {
   "cell_type": "markdown",
   "id": "166df3a0",
   "metadata": {},
   "source": [
    "#### Regulatory Area Data #1"
   ]
  },
  {
   "cell_type": "code",
   "execution_count": null,
   "id": "470b07ee",
   "metadata": {},
   "outputs": [],
   "source": [
    "# Create copy of reportingunits dataframe\n",
    "# Extract out ReportingUnitTypeCV from reportingunits dataframe\n",
    "# note unique WaterSourceTypeCV\n",
    "\n",
    "dfru1 = dfru.copy()\n",
    "nameOfReportingUnitTypeVar = \"Water Right Areas\" # change here for ReportingUnitTypeCV of interest\n",
    "dfru1 = dfru1[dfru1['RegulatoryOverlayTypeCV'] == nameOfReportingUnitTypeVar]\n",
    "print(len(dfru1))\n",
    "print(dfru1['WaterSourceTypeCV'].unique())\n",
    "dfru1.head(1)"
   ]
  },
  {
   "cell_type": "code",
   "execution_count": null,
   "id": "6c04405e",
   "metadata": {},
   "outputs": [],
   "source": [
    "# Convert dataframe -to- geodataframe & plot\n",
    "contiguous_usa = gpd.read_file(gplt.datasets.get_path('contiguous_usa')) # use for background map in subplot\n",
    "ax = gplt.webmap(contiguous_usa, projection=gcrs.WebMercator()) # set subplot\n",
    "\n",
    "dfru1 = dfru1[dfru1['Geometry'] != \"\"].reset_index(drop=True)\n",
    "dfru1['Geometry'] = gpd.GeoSeries.from_wkt(dfru1['Geometry'], crs=\"EPSG:4326\")\n",
    "gdfru1 = gpd.GeoDataFrame(dfru1, geometry=dfru1['Geometry'], crs=\"EPSG:4326\") # covert to geodataframe\n",
    "gplt.polyplot(gdfru1, ax=ax)"
   ]
  },
  {
   "cell_type": "code",
   "execution_count": null,
   "id": "b2b6cde2",
   "metadata": {},
   "outputs": [],
   "source": [
    "# Create copy of water right sites dataframe\n",
    "# Extract out WaterSourceTypeCV and match to that of above reportingunits dataframe\n",
    "\n",
    "dfs1 = dfs.copy()\n",
    "# nameOfWaterSourceTypeCV= \"add name here\" # change here for WaterSourceTypeCV of interest\n",
    "# dfs1 = dfs1[dfs1['WaterSourceTypeCV'] == nameOfWaterSourceTypeCV]\n",
    "dfs1 = dfs1[dfs1['PODorPOUSite'] == 'POD']\n",
    "print(len(dfs1))\n",
    "print(dfs1['WaterSourceTypeCV'].unique())\n",
    "dfs1.head(1)"
   ]
  },
  {
   "cell_type": "code",
   "execution_count": null,
   "id": "765401a1",
   "metadata": {},
   "outputs": [],
   "source": [
    "# Convert extracted water right sites -to- geodataframe & plot\n",
    "contiguous_usa = gpd.read_file(gplt.datasets.get_path('contiguous_usa')) # use for background map in subplot\n",
    "ax = gplt.webmap(contiguous_usa, projection=gcrs.WebMercator()) # set subplot\n",
    "\n",
    "gdfs1 = gpd.GeoDataFrame(dfs1, geometry=gpd.points_from_xy(dfs1.Longitude.astype(float), dfs1.Latitude.astype(float)), crs=\"EPSG:4326\")\n",
    "gplt.pointplot(gdfs1, hue='WaterSourceTypeCV', legend=True, legend_var='hue', ax=ax)"
   ]
  },
  {
   "cell_type": "code",
   "execution_count": null,
   "id": "a1473534",
   "metadata": {},
   "outputs": [],
   "source": [
    "# Select sites within polygon.\n",
    "gdfs1_ru1 = gpd.sjoin(left_df=gdfs1, right_df=gdfru1[['ReportingUnitUUID', 'RegulatoryOverlayUUID', 'geometry']], op='within').replace(np.nan, \"\")\n",
    "print(len(gdfs1_ru1))\n",
    "gdfs1_ru1.head()"
   ]
  },
  {
   "cell_type": "code",
   "execution_count": null,
   "id": "587bdf0b",
   "metadata": {},
   "outputs": [],
   "source": [
    "# plot the selected points\n",
    "contiguous_usa = gpd.read_file(gplt.datasets.get_path('contiguous_usa')) # use for background map in subplot\n",
    "ax = gplt.webmap(contiguous_usa, projection=gcrs.WebMercator()) # set subplot\n",
    "\n",
    "gplt.pointplot(gdfs1_ru1, hue='WaterSourceTypeCV', legend=True, legend_var='hue', ax=ax)"
   ]
  },
  {
   "cell_type": "code",
   "execution_count": null,
   "id": "66216012",
   "metadata": {},
   "outputs": [],
   "source": [
    "# set RegulatoryOverlayUUIDs\n",
    "gdfs1_ru1['RegulatoryOverlayUUIDs'] = gdfs1_ru1['RegulatoryOverlayUUID']\n",
    "gdfs1_ru1 = gdfs1_ru1.drop(['RegulatoryOverlayUUID', 'geometry', 'index_right', 'ReportingUnitUUID', 'WaterSourceUUID', 'WaterSourceTypeCV'], axis=1)\n",
    "gdfs1_ru1.head(1)"
   ]
  },
  {
   "cell_type": "markdown",
   "id": "af4bbf31",
   "metadata": {},
   "source": [
    "#### Regulatory Area Data #2"
   ]
  },
  {
   "cell_type": "code",
   "execution_count": null,
   "id": "bbb9e26a",
   "metadata": {},
   "outputs": [],
   "source": [
    "# Create copy of reportingunits dataframe\n",
    "# Extract out ReportingUnitTypeCV from reportingunits dataframe\n",
    "# note unique WaterSourceTypeCV\n",
    "\n",
    "dfru2 = dfru.copy()\n",
    "nameOfReportingUnitTypeVar = \"Groundwater Policy Management\" # change here for ReportingUnitTypeCV of interest\n",
    "dfru2 = dfru2[dfru2['RegulatoryOverlayTypeCV'] == nameOfReportingUnitTypeVar]\n",
    "print(len(dfru2))\n",
    "print(dfru2['WaterSourceTypeCV'].unique())\n",
    "dfru2.head(1)"
   ]
  },
  {
   "cell_type": "code",
   "execution_count": null,
   "id": "6bdbabf5-f9a8-4c48-8bfa-e4097a3c5553",
   "metadata": {},
   "outputs": [],
   "source": [
    "# Convert dataframe -to- geodataframe & plot\n",
    "contiguous_usa = gpd.read_file(gplt.datasets.get_path('contiguous_usa')) # use for background map in subplot\n",
    "ax = gplt.webmap(contiguous_usa, projection=gcrs.WebMercator()) # set subplot\n",
    "\n",
    "dfru2 = dfru2[dfru2['Geometry'] != \"\"].reset_index(drop=True)\n",
    "dfru2['Geometry'] = gpd.GeoSeries.from_wkt(dfru2['Geometry'], crs=\"EPSG:4326\")\n",
    "gdfru2 = gpd.GeoDataFrame(dfru2, geometry=dfru2['Geometry'], crs=\"EPSG:4326\") # covert to geodataframe\n",
    "gplt.polyplot(gdfru2, ax=ax)"
   ]
  },
  {
   "cell_type": "code",
   "execution_count": null,
   "id": "37a698ab-1ddb-40d7-b3fb-e7da958cfd76",
   "metadata": {},
   "outputs": [],
   "source": [
    "# Create copy of water right sites dataframe\n",
    "# Extract out WaterSourceTypeCV and match to that of above reportingunits dataframe\n",
    "\n",
    "dfs2 = dfs.copy()\n",
    "nameOfWaterSourceTypeCVList = ['Abandonded Well', 'Underground', 'Spring' ] # change here for WaterSourceTypeCV of interest\n",
    "dfs2 = dfs2[dfs2['WaterSourceTypeCV'].isin(nameOfWaterSourceTypeCVList)]\n",
    "dfs2 = dfs2[dfs2['PODorPOUSite'] == 'POD']\n",
    "print(len(dfs2))\n",
    "print(dfs2['WaterSourceTypeCV'].unique())\n",
    "dfs2.head(1)"
   ]
  },
  {
   "cell_type": "code",
   "execution_count": null,
   "id": "f38e604d-c435-4128-9ed6-a6c33b601e05",
   "metadata": {},
   "outputs": [],
   "source": [
    "# Convert extracted water right sites -to- geodataframe & plot\n",
    "contiguous_usa = gpd.read_file(gplt.datasets.get_path('contiguous_usa')) # use for background map in subplot\n",
    "ax = gplt.webmap(contiguous_usa, projection=gcrs.WebMercator()) # set subplot\n",
    "\n",
    "gdfs2 = gpd.GeoDataFrame(dfs2, geometry=gpd.points_from_xy(dfs2.Longitude.astype(float), dfs2.Latitude.astype(float)), crs=\"EPSG:4326\")\n",
    "gplt.pointplot(gdfs2, hue='WaterSourceTypeCV', legend=True, legend_var='hue', ax=ax)"
   ]
  },
  {
   "cell_type": "code",
   "execution_count": null,
   "id": "cc207980-74b6-4f15-9b4e-993d7a324635",
   "metadata": {},
   "outputs": [],
   "source": [
    "# Select sites within polygon.\n",
    "gdfs2_ru2 = gpd.sjoin(left_df=gdfs2, right_df=gdfru2[['ReportingUnitUUID', 'RegulatoryOverlayUUID', 'geometry']], op='within').replace(np.nan, \"\")\n",
    "print(len(gdfs2_ru2))\n",
    "gdfs2_ru2.head()"
   ]
  },
  {
   "cell_type": "code",
   "execution_count": null,
   "id": "f49d4ea6-6ddc-4d6e-bd5b-e50496686d6b",
   "metadata": {},
   "outputs": [],
   "source": [
    "# plot the selected points\n",
    "contiguous_usa = gpd.read_file(gplt.datasets.get_path('contiguous_usa')) # use for background map in subplot\n",
    "ax = gplt.webmap(contiguous_usa, projection=gcrs.WebMercator()) # set subplot\n",
    "\n",
    "gplt.pointplot(gdfs2_ru2, hue='WaterSourceTypeCV', legend=True, legend_var='hue', ax=ax)"
   ]
  },
  {
   "cell_type": "code",
   "execution_count": null,
   "id": "2a0af877-ad2c-4241-9314-0c5138d72771",
   "metadata": {},
   "outputs": [],
   "source": [
    "# set RegulatoryOverlayUUIDs\n",
    "gdfs2_ru2['RegulatoryOverlayUUIDs'] = gdfs2_ru2['RegulatoryOverlayUUID']\n",
    "gdfs2_ru2 = gdfs2_ru2.drop(['RegulatoryOverlayUUID', 'geometry', 'index_right', 'ReportingUnitUUID', 'WaterSourceUUID', 'WaterSourceTypeCV'], axis=1)\n",
    "gdfs2_ru2.head(1)"
   ]
  },
  {
   "cell_type": "markdown",
   "id": "700f6d10-7a50-4c70-b8e3-e91db8f99c57",
   "metadata": {},
   "source": [
    "#### Regulatory Area Data #3"
   ]
  },
  {
   "cell_type": "code",
   "execution_count": null,
   "id": "5d4071ce-8e87-4e18-ae6b-8dc99d42d972",
   "metadata": {},
   "outputs": [],
   "source": [
    "# Create copy of reportingunits dataframe\n",
    "# Extract out ReportingUnitTypeCV from reportingunits dataframe\n",
    "# note unique WaterSourceTypeCV\n",
    "\n",
    "dfru3 = dfru.copy()\n",
    "nameOfReportingUnitTypeVar = \"Basins Closed to New Appropriations\" # change here for ReportingUnitTypeCV of interest\n",
    "dfru3 = dfru3[dfru3['RegulatoryOverlayTypeCV'] == nameOfReportingUnitTypeVar]\n",
    "print(len(dfru3))\n",
    "print(dfru3['WaterSourceTypeCV'].unique())\n",
    "dfru3.head(1)"
   ]
  },
  {
   "cell_type": "code",
   "execution_count": null,
   "id": "cee40b8e-af99-486c-aae4-81ce147434dd",
   "metadata": {},
   "outputs": [],
   "source": [
    "# Convert dataframe -to- geodataframe & plot\n",
    "contiguous_usa = gpd.read_file(gplt.datasets.get_path('contiguous_usa')) # use for background map in subplot\n",
    "ax = gplt.webmap(contiguous_usa, projection=gcrs.WebMercator()) # set subplot\n",
    "\n",
    "dfru3 = dfru3[dfru3['Geometry'] != \"\"].reset_index(drop=True)\n",
    "dfru3['Geometry'] = gpd.GeoSeries.from_wkt(dfru3['Geometry'], crs=\"EPSG:4326\")\n",
    "gdfru3 = gpd.GeoDataFrame(dfru3, geometry=dfru3['Geometry'], crs=\"EPSG:4326\") # covert to geodataframe\n",
    "gplt.polyplot(gdfru3, ax=ax)"
   ]
  },
  {
   "cell_type": "code",
   "execution_count": null,
   "id": "0e0bc104-4766-49f5-a6ee-80608409628f",
   "metadata": {},
   "outputs": [],
   "source": [
    "# Create copy of water right sites dataframe\n",
    "# Extract out WaterSourceTypeCV and match to that of above reportingunits dataframe\n",
    "\n",
    "dfs3 = dfs.copy()\n",
    "# nameOfWaterSourceTypeCV= \"add name here\" # change here for WaterSourceTypeCV of interest\n",
    "# dfs3 = dfs3[dfs3['WaterSourceTypeCV'] == nameOfWaterSourceTypeCV]\n",
    "dfs3 = dfs3[dfs3['PODorPOUSite'] == 'POD']\n",
    "print(len(dfs3))\n",
    "print(dfs3['WaterSourceTypeCV'].unique())\n",
    "dfs3.head(1)"
   ]
  },
  {
   "cell_type": "code",
   "execution_count": null,
   "id": "71ea56f5-33c0-42e4-9aab-a22a3cdc74f6",
   "metadata": {},
   "outputs": [],
   "source": [
    "# Convert extracted water right sites -to- geodataframe & plot\n",
    "contiguous_usa = gpd.read_file(gplt.datasets.get_path('contiguous_usa')) # use for background map in subplot\n",
    "ax = gplt.webmap(contiguous_usa, projection=gcrs.WebMercator()) # set subplot\n",
    "\n",
    "gdfs3 = gpd.GeoDataFrame(dfs3, geometry=gpd.points_from_xy(dfs3.Longitude.astype(float), dfs3.Latitude.astype(float)), crs=\"EPSG:4326\")\n",
    "gplt.pointplot(gdfs3, hue='WaterSourceTypeCV', legend=True, legend_var='hue', ax=ax)"
   ]
  },
  {
   "cell_type": "code",
   "execution_count": null,
   "id": "419b3e90-d940-4bfd-b0e9-6c309e85db3e",
   "metadata": {},
   "outputs": [],
   "source": [
    "# Select sites within polygon.\n",
    "gdfs3_ru3 = gpd.sjoin(left_df=gdfs3, right_df=gdfru3[['ReportingUnitUUID', 'RegulatoryOverlayUUID', 'geometry']], op='within').replace(np.nan, \"\")\n",
    "print(len(gdfs3_ru3))\n",
    "gdfs3_ru3.head()"
   ]
  },
  {
   "cell_type": "code",
   "execution_count": null,
   "id": "cfee0e95-644b-4b33-beb5-8a6e9be5e78d",
   "metadata": {},
   "outputs": [],
   "source": [
    "# plot the selected points\n",
    "contiguous_usa = gpd.read_file(gplt.datasets.get_path('contiguous_usa')) # use for background map in subplot\n",
    "ax = gplt.webmap(contiguous_usa, projection=gcrs.WebMercator()) # set subplot\n",
    "\n",
    "gplt.pointplot(gdfs3_ru3, hue='WaterSourceTypeCV', legend=True, legend_var='hue', ax=ax)"
   ]
  },
  {
   "cell_type": "code",
   "execution_count": null,
   "id": "29fb2208-de83-4732-aa2c-a5a425c8f84e",
   "metadata": {},
   "outputs": [],
   "source": [
    "# set RegulatoryOverlayUUIDs\n",
    "gdfs3_ru3['RegulatoryOverlayUUIDs'] = gdfs3_ru3['RegulatoryOverlayUUID']\n",
    "gdfs3_ru3 = gdfs3_ru3.drop(['RegulatoryOverlayUUID', 'geometry', 'index_right', 'ReportingUnitUUID', 'WaterSourceUUID', 'WaterSourceTypeCV'], axis=1)\n",
    "gdfs3_ru3.head(1)"
   ]
  },
  {
   "cell_type": "markdown",
   "id": "079b84eb-3f24-4a62-b332-74ba953893b4",
   "metadata": {},
   "source": [
    "#### Regulatory Area Data #4"
   ]
  },
  {
   "cell_type": "code",
   "execution_count": null,
   "id": "6d0e7da0-cd79-4def-b256-034bbcbd9d42",
   "metadata": {},
   "outputs": [],
   "source": [
    "# Create copy of reportingunits dataframe\n",
    "# Extract out ReportingUnitTypeCV from reportingunits dataframe\n",
    "# note unique WaterSourceTypeCV\n",
    "\n",
    "dfru4 = dfru.copy()\n",
    "nameOfReportingUnitTypeVar = \"Areas Open to Limited Appropriation\" # change here for ReportingUnitTypeCV of interest\n",
    "dfru4 = dfru4[dfru4['RegulatoryOverlayTypeCV'] == nameOfReportingUnitTypeVar]\n",
    "print(len(dfru4))\n",
    "print(dfru4['WaterSourceTypeCV'].unique())\n",
    "dfru4.head(1)"
   ]
  },
  {
   "cell_type": "code",
   "execution_count": null,
   "id": "b7a88fdf-c34a-47b0-b207-3c9a998e108e",
   "metadata": {},
   "outputs": [],
   "source": [
    "# Convert dataframe -to- geodataframe & plot\n",
    "contiguous_usa = gpd.read_file(gplt.datasets.get_path('contiguous_usa')) # use for background map in subplot\n",
    "ax = gplt.webmap(contiguous_usa, projection=gcrs.WebMercator()) # set subplot\n",
    "\n",
    "dfru4 = dfru4[dfru4['Geometry'] != \"\"].reset_index(drop=True)\n",
    "dfru4['Geometry'] = gpd.GeoSeries.from_wkt(dfru4['Geometry'], crs=\"EPSG:4326\")\n",
    "gdfru4 = gpd.GeoDataFrame(dfru4, geometry=dfru4['Geometry'], crs=\"EPSG:4326\") # covert to geodataframe\n",
    "gplt.polyplot(gdfru4, ax=ax)"
   ]
  },
  {
   "cell_type": "code",
   "execution_count": null,
   "id": "d14a8124-06c8-4fd5-a8d3-6079830c9016",
   "metadata": {},
   "outputs": [],
   "source": [
    "# Create copy of water right sites dataframe\n",
    "# Extract out WaterSourceTypeCV and match to that of above reportingunits dataframe\n",
    "\n",
    "dfs4 = dfs.copy()\n",
    "# nameOfWaterSourceTypeCV= \"add name here\" # change here for WaterSourceTypeCV of interest\n",
    "# dfs2 = dfs2[dfs2['WaterSourceTypeCV'] == nameOfWaterSourceTypeCV]\n",
    "dfs4 = dfs4[dfs4['PODorPOUSite'] == 'POD']\n",
    "print(len(dfs4))\n",
    "print(dfs4['WaterSourceTypeCV'].unique())\n",
    "dfs4.head(1)"
   ]
  },
  {
   "cell_type": "code",
   "execution_count": null,
   "id": "05f56afd-14e1-46af-bd8c-f1412e0504ac",
   "metadata": {},
   "outputs": [],
   "source": [
    "# Convert extracted water right sites -to- geodataframe & plot\n",
    "contiguous_usa = gpd.read_file(gplt.datasets.get_path('contiguous_usa')) # use for background map in subplot\n",
    "ax = gplt.webmap(contiguous_usa, projection=gcrs.WebMercator()) # set subplot\n",
    "\n",
    "gdfs4 = gpd.GeoDataFrame(dfs4, geometry=gpd.points_from_xy(dfs4.Longitude.astype(float), dfs4.Latitude.astype(float)), crs=\"EPSG:4326\")\n",
    "gplt.pointplot(gdfs4, hue='WaterSourceTypeCV', legend=True, legend_var='hue', ax=ax)"
   ]
  },
  {
   "cell_type": "code",
   "execution_count": null,
   "id": "fd63165e-d951-45b1-82db-5550f2838363",
   "metadata": {},
   "outputs": [],
   "source": [
    "# Select sites within polygon.\n",
    "gdfs4_ru4 = gpd.sjoin(left_df=gdfs4, right_df=gdfru4[['ReportingUnitUUID', 'RegulatoryOverlayUUID', 'geometry']], op='within').replace(np.nan, \"\")\n",
    "print(len(gdfs4_ru4))\n",
    "gdfs4_ru4.head()"
   ]
  },
  {
   "cell_type": "code",
   "execution_count": null,
   "id": "070fc2dd-cafc-4076-9dbf-7b0ec4560978",
   "metadata": {},
   "outputs": [],
   "source": [
    "# plot the selected points\n",
    "contiguous_usa = gpd.read_file(gplt.datasets.get_path('contiguous_usa')) # use for background map in subplot\n",
    "ax = gplt.webmap(contiguous_usa, projection=gcrs.WebMercator()) # set subplot\n",
    "\n",
    "gplt.pointplot(gdfs4_ru4, hue='WaterSourceTypeCV', legend=True, legend_var='hue', ax=ax)"
   ]
  },
  {
   "cell_type": "code",
   "execution_count": null,
   "id": "f39f2109-3456-4495-848c-3af6d9822245",
   "metadata": {},
   "outputs": [],
   "source": [
    "# set RegulatoryOverlayUUIDs\n",
    "gdfs4_ru4['RegulatoryOverlayUUIDs'] = gdfs4_ru4['RegulatoryOverlayUUID']\n",
    "gdfs4_ru4 = gdfs4_ru4.drop(['RegulatoryOverlayUUID', 'geometry', 'index_right', 'ReportingUnitUUID', 'WaterSourceUUID', 'WaterSourceTypeCV'], axis=1)\n",
    "gdfs4_ru4.head(1)"
   ]
  },
  {
   "cell_type": "markdown",
   "id": "246a1916",
   "metadata": {},
   "source": [
    "## Concatenate all Regulatory Area Data Types together\n",
    "- drop geometry from the wade wr sites.csv geodataframe"
   ]
  },
  {
   "cell_type": "code",
   "execution_count": null,
   "id": "b0acd398",
   "metadata": {},
   "outputs": [],
   "source": [
    "# Concatenate dataframes into single output\n",
    "frames = [dfs, gdfs1_ru1, gdfs2_ru2, gdfs3_ru3] # list all out dataframes here\n",
    "outdfs = pd.concat(frames)\n",
    "outdfs = outdfs.drop_duplicates().reset_index(drop=True).replace(np.nan, \"\")\n",
    "outdfs = outdfs.groupby('SiteUUID').agg(lambda x: ','.join([str(elem) for elem in (list(set(x))) if elem != \"\"])).replace(np.nan, \"\").reset_index()\n",
    "print(len(outdfs))\n",
    "outdfs.head(1)"
   ]
  },
  {
   "cell_type": "markdown",
   "id": "3760f8b9",
   "metadata": {},
   "source": [
    "# Inspect Output Data & Export"
   ]
  },
  {
   "cell_type": "code",
   "execution_count": null,
   "id": "25aae641",
   "metadata": {},
   "outputs": [],
   "source": [
    "outdfs.info()"
   ]
  },
  {
   "cell_type": "code",
   "execution_count": null,
   "id": "0289257b",
   "metadata": {},
   "outputs": [],
   "source": [
    "outdfs"
   ]
  },
  {
   "cell_type": "code",
   "execution_count": null,
   "id": "26339f89",
   "metadata": {},
   "outputs": [],
   "source": [
    "# Export out to CSV.\n",
    "outdfs.to_csv('ProcessedInputData/sites.csv', index=False) # this is in the Regulatory data folder"
   ]
  }
 ],
 "metadata": {
  "kernelspec": {
   "display_name": "Python 3 (ipykernel)",
   "language": "python",
   "name": "python3"
  },
  "language_info": {
   "codemirror_mode": {
    "name": "ipython",
    "version": 3
   },
   "file_extension": ".py",
   "mimetype": "text/x-python",
   "name": "python",
   "nbconvert_exporter": "python",
   "pygments_lexer": "ipython3",
   "version": "3.9.18"
  }
 },
 "nbformat": 4,
 "nbformat_minor": 5
}
