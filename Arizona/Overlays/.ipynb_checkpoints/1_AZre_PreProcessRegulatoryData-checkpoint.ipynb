{
 "cells": [
  {
   "cell_type": "markdown",
   "metadata": {},
   "source": [
    "# Pre-processing (state / organization Name) Regulatory data for WaDE upload.\n",
    "- Purpose:  To preprocess the data into one master file for simple DataFrame creation and extraction."
   ]
  },
  {
   "cell_type": "code",
   "execution_count": 1,
   "metadata": {},
   "outputs": [],
   "source": [
    "# Needed Libraries / Modules\n",
    "\n",
    "# ---- working with data ----\n",
    "import os  # native operating system interaction\n",
    "import numpy as np  # mathematical array manipulation\n",
    "import pandas as pd  # data structure and data analysis\n",
    "import geopandas as gpd  # geo-data structure and data analysis\n",
    "\n",
    "# ---- visualization ----\n",
    "import matplotlib.pyplot as plt  # plotting library\n",
    "import seaborn as sns  # plotting library\n",
    "\n",
    "# ---- API data retrieval ----\n",
    "import requests  # http requests\n",
    "import json  # JSON parse\n",
    "\n",
    "# ---- Cleanup ----\n",
    "import re  # string regular expression manipulation\n",
    "from datetime import datetime  # date and time manipulation\n",
    "pd.set_option('display.max_columns', 999)  # How to display all columns of a Pandas DataFrame in Jupyter Notebook\n",
    "pd.set_option('display.float_format', lambda x: '%.5f' % x)  # suppress scientific notation in Pandas"
   ]
  },
  {
   "cell_type": "code",
   "execution_count": 2,
   "metadata": {},
   "outputs": [
    {
     "name": "stdout",
     "output_type": "stream",
     "text": [
      "The working Directory is: G:/Shared drives/WaDE Data/Arizona/Regulatory\n"
     ]
    }
   ],
   "source": [
    "# ---- working directory ----\n",
    "workingDirString = \"G:/Shared drives/WaDE Data/Arizona/Regulatory\" # set working directory folder string here\n",
    "os.chdir(workingDirString)\n",
    "print(f'The working Directory is:', workingDirString)"
   ]
  },
  {
   "cell_type": "markdown",
   "metadata": {},
   "source": [
    "## Regulatory Area Data #1"
   ]
  },
  {
   "cell_type": "code",
   "execution_count": 3,
   "metadata": {},
   "outputs": [
    {
     "name": "stdout",
     "output_type": "stream",
     "text": [
      "8\n"
     ]
    },
    {
     "data": {
      "text/html": [
       "<div>\n",
       "<style scoped>\n",
       "    .dataframe tbody tr th:only-of-type {\n",
       "        vertical-align: middle;\n",
       "    }\n",
       "\n",
       "    .dataframe tbody tr th {\n",
       "        vertical-align: top;\n",
       "    }\n",
       "\n",
       "    .dataframe thead th {\n",
       "        text-align: right;\n",
       "    }\n",
       "</style>\n",
       "<table border=\"1\" class=\"dataframe\">\n",
       "  <thead>\n",
       "    <tr style=\"text-align: right;\">\n",
       "      <th></th>\n",
       "      <th>OBJECTID</th>\n",
       "      <th>BASIN_NAME</th>\n",
       "      <th>NAME_ABBR</th>\n",
       "      <th>Shape_Leng</th>\n",
       "      <th>Shape_Area</th>\n",
       "      <th>geometry</th>\n",
       "      <th>WaDEUUID</th>\n",
       "    </tr>\n",
       "  </thead>\n",
       "  <tbody>\n",
       "    <tr>\n",
       "      <th>0</th>\n",
       "      <td>1</td>\n",
       "      <td>SANTA CRUZ AMA</td>\n",
       "      <td>SCA</td>\n",
       "      <td>2.24518</td>\n",
       "      <td>0.17623</td>\n",
       "      <td>POLYGON ((-111.19921 31.85820, -111.19889 31.8...</td>\n",
       "      <td>re0</td>\n",
       "    </tr>\n",
       "    <tr>\n",
       "      <th>1</th>\n",
       "      <td>2</td>\n",
       "      <td>PRESCOTT AMA</td>\n",
       "      <td>PRE</td>\n",
       "      <td>1.93099</td>\n",
       "      <td>0.12240</td>\n",
       "      <td>POLYGON ((-112.56133 34.72246, -112.56120 34.7...</td>\n",
       "      <td>re1</td>\n",
       "    </tr>\n",
       "    <tr>\n",
       "      <th>2</th>\n",
       "      <td>3</td>\n",
       "      <td>HARQUAHALA INA</td>\n",
       "      <td>HAR</td>\n",
       "      <td>2.36600</td>\n",
       "      <td>0.19248</td>\n",
       "      <td>POLYGON ((-113.30172 33.83494, -113.30158 33.8...</td>\n",
       "      <td>re2</td>\n",
       "    </tr>\n",
       "    <tr>\n",
       "      <th>3</th>\n",
       "      <td>4</td>\n",
       "      <td>JOSEPH CITY INA</td>\n",
       "      <td>JCI</td>\n",
       "      <td>0.98562</td>\n",
       "      <td>0.04618</td>\n",
       "      <td>POLYGON ((-110.27111 34.99601, -110.27092 34.9...</td>\n",
       "      <td>re3</td>\n",
       "    </tr>\n",
       "    <tr>\n",
       "      <th>4</th>\n",
       "      <td>5</td>\n",
       "      <td>PHOENIX AMA</td>\n",
       "      <td>PHX</td>\n",
       "      <td>8.37192</td>\n",
       "      <td>1.35427</td>\n",
       "      <td>POLYGON ((-112.06644 34.00006, -112.06605 34.0...</td>\n",
       "      <td>re4</td>\n",
       "    </tr>\n",
       "  </tbody>\n",
       "</table>\n",
       "</div>"
      ],
      "text/plain": [
       "   OBJECTID       BASIN_NAME NAME_ABBR  Shape_Leng  Shape_Area  \\\n",
       "0         1   SANTA CRUZ AMA       SCA     2.24518     0.17623   \n",
       "1         2     PRESCOTT AMA       PRE     1.93099     0.12240   \n",
       "2         3   HARQUAHALA INA       HAR     2.36600     0.19248   \n",
       "3         4  JOSEPH CITY INA       JCI     0.98562     0.04618   \n",
       "4         5      PHOENIX AMA       PHX     8.37192     1.35427   \n",
       "\n",
       "                                            geometry WaDEUUID  \n",
       "0  POLYGON ((-111.19921 31.85820, -111.19889 31.8...      re0  \n",
       "1  POLYGON ((-112.56133 34.72246, -112.56120 34.7...      re1  \n",
       "2  POLYGON ((-113.30172 33.83494, -113.30158 33.8...      re2  \n",
       "3  POLYGON ((-110.27111 34.99601, -110.27092 34.9...      re3  \n",
       "4  POLYGON ((-112.06644 34.00006, -112.06605 34.0...      re4  "
      ]
     },
     "execution_count": 3,
     "metadata": {},
     "output_type": "execute_result"
    }
   ],
   "source": [
    "# Input File\n",
    "inputFile = \"RawInputData/shapefiles/AMA_and_INA2.zip\"\n",
    "dfin1 = gpd.read_file(inputFile)\n",
    "\n",
    "# WaDE UUID tracker for data assessment\n",
    "if 'WaDEUUID' not in dfin1:\n",
    "    dfin1['WaDEUUID'] = \"re\" + dfin1.index.astype(str)\n",
    "    dfin1.to_csv('RawInputData/AMA_and_INA2.zip', compression=dict(method='zip', archive_name='AMA_and_INA2.csv'), index=False)\n",
    "\n",
    "print(len(dfin1))\n",
    "dfin1.head()"
   ]
  },
  {
   "cell_type": "code",
   "execution_count": 4,
   "metadata": {},
   "outputs": [],
   "source": [
    "#Create Effective Date df\n",
    "dfeffdate = pd.DataFrame()\n",
    "dfeffdate[\"Name\"] = dfin1[\"BASIN_NAME\"]\n",
    "Effective_Date = [\"7/1/1994\", \"6/12/1980\", \"1/1/1981\", \"12/16/1974\", \"6/12/1980\", \"6/12/1980\", \"12/1/2022\", \"6/12/1980\"]\n",
    "dfin1[\"Effective_Date\"] = Effective_Date"
   ]
  },
  {
   "cell_type": "code",
   "execution_count": 5,
   "metadata": {},
   "outputs": [
    {
     "name": "stdout",
     "output_type": "stream",
     "text": [
      "   OBJECTID      BASIN_NAME NAME_ABBR  Shape_Leng  Shape_Area  \\\n",
      "0         1  SANTA CRUZ AMA       SCA     2.24518     0.17623   \n",
      "1         2    PRESCOTT AMA       PRE     1.93099     0.12240   \n",
      "4         5     PHOENIX AMA       PHX     8.37192     1.35427   \n",
      "5         6      TUCSON AMA       TUC     6.07367     0.95858   \n",
      "7         8       PINAL AMA       PIN     6.58236     1.01998   \n",
      "\n",
      "                                            geometry WaDEUUID Effective_Date  \n",
      "0  POLYGON ((-111.19921 31.85820, -111.19889 31.8...      re0       7/1/1994  \n",
      "1  POLYGON ((-112.56133 34.72246, -112.56120 34.7...      re1      6/12/1980  \n",
      "4  POLYGON ((-112.06644 34.00006, -112.06605 34.0...      re4      6/12/1980  \n",
      "5  POLYGON ((-110.92813 32.81227, -110.92850 32.8...      re5      6/12/1980  \n",
      "7  POLYGON ((-111.21416 33.18288, -111.21472 33.1...      re7      6/12/1980  \n"
     ]
    },
    {
     "data": {
      "text/html": [
       "<div>\n",
       "<style scoped>\n",
       "    .dataframe tbody tr th:only-of-type {\n",
       "        vertical-align: middle;\n",
       "    }\n",
       "\n",
       "    .dataframe tbody tr th {\n",
       "        vertical-align: top;\n",
       "    }\n",
       "\n",
       "    .dataframe thead th {\n",
       "        text-align: right;\n",
       "    }\n",
       "</style>\n",
       "<table border=\"1\" class=\"dataframe\">\n",
       "  <thead>\n",
       "    <tr style=\"text-align: right;\">\n",
       "      <th></th>\n",
       "      <th>OBJECTID</th>\n",
       "      <th>BASIN_NAME</th>\n",
       "      <th>NAME_ABBR</th>\n",
       "      <th>Shape_Leng</th>\n",
       "      <th>Shape_Area</th>\n",
       "      <th>geometry</th>\n",
       "      <th>WaDEUUID</th>\n",
       "      <th>Effective_Date</th>\n",
       "    </tr>\n",
       "  </thead>\n",
       "  <tbody>\n",
       "    <tr>\n",
       "      <th>2</th>\n",
       "      <td>3</td>\n",
       "      <td>HARQUAHALA INA</td>\n",
       "      <td>HAR</td>\n",
       "      <td>2.36600</td>\n",
       "      <td>0.19248</td>\n",
       "      <td>POLYGON ((-113.30172 33.83494, -113.30158 33.8...</td>\n",
       "      <td>re2</td>\n",
       "      <td>1/1/1981</td>\n",
       "    </tr>\n",
       "    <tr>\n",
       "      <th>3</th>\n",
       "      <td>4</td>\n",
       "      <td>JOSEPH CITY INA</td>\n",
       "      <td>JCI</td>\n",
       "      <td>0.98562</td>\n",
       "      <td>0.04618</td>\n",
       "      <td>POLYGON ((-110.27111 34.99601, -110.27092 34.9...</td>\n",
       "      <td>re3</td>\n",
       "      <td>12/16/1974</td>\n",
       "    </tr>\n",
       "    <tr>\n",
       "      <th>6</th>\n",
       "      <td>7</td>\n",
       "      <td>DOUGLAS INA</td>\n",
       "      <td>DIN</td>\n",
       "      <td>1.91029</td>\n",
       "      <td>0.13655</td>\n",
       "      <td>POLYGON ((-109.49467 31.33405, -109.50064 31.3...</td>\n",
       "      <td>re6</td>\n",
       "      <td>12/1/2022</td>\n",
       "    </tr>\n",
       "  </tbody>\n",
       "</table>\n",
       "</div>"
      ],
      "text/plain": [
       "   OBJECTID       BASIN_NAME NAME_ABBR  Shape_Leng  Shape_Area  \\\n",
       "2         3   HARQUAHALA INA       HAR     2.36600     0.19248   \n",
       "3         4  JOSEPH CITY INA       JCI     0.98562     0.04618   \n",
       "6         7      DOUGLAS INA       DIN     1.91029     0.13655   \n",
       "\n",
       "                                            geometry WaDEUUID Effective_Date  \n",
       "2  POLYGON ((-113.30172 33.83494, -113.30158 33.8...      re2       1/1/1981  \n",
       "3  POLYGON ((-110.27111 34.99601, -110.27092 34.9...      re3     12/16/1974  \n",
       "6  POLYGON ((-109.49467 31.33405, -109.50064 31.3...      re6      12/1/2022  "
      ]
     },
     "execution_count": 5,
     "metadata": {},
     "output_type": "execute_result"
    }
   ],
   "source": [
    "# split up AMA and INA data  into two dataframes\n",
    "dfin2 = dfin1[dfin1['BASIN_NAME'].str.contains(\"AMA\") == False]\n",
    "dfin1 = dfin1[dfin1['BASIN_NAME'].str.contains(\"AMA\") == True]\n",
    "print(dfin1)\n",
    "dfin2"
   ]
  },
  {
   "cell_type": "code",
   "execution_count": 6,
   "metadata": {},
   "outputs": [
    {
     "name": "stdout",
     "output_type": "stream",
     "text": [
      "5\n"
     ]
    },
    {
     "data": {
      "text/html": [
       "<div>\n",
       "<style scoped>\n",
       "    .dataframe tbody tr th:only-of-type {\n",
       "        vertical-align: middle;\n",
       "    }\n",
       "\n",
       "    .dataframe tbody tr th {\n",
       "        vertical-align: top;\n",
       "    }\n",
       "\n",
       "    .dataframe thead th {\n",
       "        text-align: right;\n",
       "    }\n",
       "</style>\n",
       "<table border=\"1\" class=\"dataframe\">\n",
       "  <thead>\n",
       "    <tr style=\"text-align: right;\">\n",
       "      <th></th>\n",
       "      <th>WaDEUUID</th>\n",
       "      <th>in_Date</th>\n",
       "      <th>in_Year</th>\n",
       "      <th>in_OrganizationUUID</th>\n",
       "      <th>in_EPSGCodeCV</th>\n",
       "      <th>in_ReportingUnitName</th>\n",
       "      <th>in_ReportingUnitNativeID</th>\n",
       "      <th>in_ReportingUnitProductVersion</th>\n",
       "      <th>in_ReportingUnitTypeCV</th>\n",
       "      <th>in_ReportingUnitUpdateDate</th>\n",
       "      <th>in_StateCV</th>\n",
       "      <th>in_Geometry</th>\n",
       "      <th>in_OversightAgency</th>\n",
       "      <th>in_OverlayDescription</th>\n",
       "      <th>in_OverlayName</th>\n",
       "      <th>in_OverlayNativeID</th>\n",
       "      <th>in_OverlayStatusCV</th>\n",
       "      <th>in_Statute</th>\n",
       "      <th>in_StatuteLink</th>\n",
       "      <th>in_StatutoryEffectiveDate</th>\n",
       "      <th>in_StatutoryEndDate</th>\n",
       "      <th>in_OverlayTypeCV</th>\n",
       "      <th>in_WaterSourceTypeCV</th>\n",
       "    </tr>\n",
       "  </thead>\n",
       "  <tbody>\n",
       "    <tr>\n",
       "      <th>0</th>\n",
       "      <td>re0</td>\n",
       "      <td>10/13/2023</td>\n",
       "      <td>2023</td>\n",
       "      <td>AZre_O1</td>\n",
       "      <td>4326</td>\n",
       "      <td>SANTA CRUZ AMA</td>\n",
       "      <td>az1</td>\n",
       "      <td></td>\n",
       "      <td>Active Management Areas</td>\n",
       "      <td>1/10/2023</td>\n",
       "      <td>AZ</td>\n",
       "      <td></td>\n",
       "      <td>Arizona Department of Water Resources</td>\n",
       "      <td>To safeguard the health, safety and economic w...</td>\n",
       "      <td>SANTA CRUZ AMA</td>\n",
       "      <td>az1</td>\n",
       "      <td>Active</td>\n",
       "      <td></td>\n",
       "      <td></td>\n",
       "      <td>7/1/1994</td>\n",
       "      <td></td>\n",
       "      <td>Active Management Areas</td>\n",
       "      <td>Groundwater</td>\n",
       "    </tr>\n",
       "    <tr>\n",
       "      <th>1</th>\n",
       "      <td>re1</td>\n",
       "      <td>10/13/2023</td>\n",
       "      <td>2023</td>\n",
       "      <td>AZre_O1</td>\n",
       "      <td>4326</td>\n",
       "      <td>PRESCOTT AMA</td>\n",
       "      <td>az2</td>\n",
       "      <td></td>\n",
       "      <td>Active Management Areas</td>\n",
       "      <td>1/10/2023</td>\n",
       "      <td>AZ</td>\n",
       "      <td></td>\n",
       "      <td>Arizona Department of Water Resources</td>\n",
       "      <td>To safeguard the health, safety and economic w...</td>\n",
       "      <td>PRESCOTT AMA</td>\n",
       "      <td>az2</td>\n",
       "      <td>Active</td>\n",
       "      <td></td>\n",
       "      <td></td>\n",
       "      <td>6/12/1980</td>\n",
       "      <td></td>\n",
       "      <td>Active Management Areas</td>\n",
       "      <td>Groundwater</td>\n",
       "    </tr>\n",
       "    <tr>\n",
       "      <th>2</th>\n",
       "      <td>re4</td>\n",
       "      <td>10/13/2023</td>\n",
       "      <td>2023</td>\n",
       "      <td>AZre_O1</td>\n",
       "      <td>4326</td>\n",
       "      <td>PHOENIX AMA</td>\n",
       "      <td>az5</td>\n",
       "      <td></td>\n",
       "      <td>Active Management Areas</td>\n",
       "      <td>1/10/2023</td>\n",
       "      <td>AZ</td>\n",
       "      <td></td>\n",
       "      <td>Arizona Department of Water Resources</td>\n",
       "      <td>To safeguard the health, safety and economic w...</td>\n",
       "      <td>PHOENIX AMA</td>\n",
       "      <td>az5</td>\n",
       "      <td>Active</td>\n",
       "      <td></td>\n",
       "      <td></td>\n",
       "      <td>6/12/1980</td>\n",
       "      <td></td>\n",
       "      <td>Active Management Areas</td>\n",
       "      <td>Groundwater</td>\n",
       "    </tr>\n",
       "    <tr>\n",
       "      <th>3</th>\n",
       "      <td>re5</td>\n",
       "      <td>10/13/2023</td>\n",
       "      <td>2023</td>\n",
       "      <td>AZre_O1</td>\n",
       "      <td>4326</td>\n",
       "      <td>TUCSON AMA</td>\n",
       "      <td>az6</td>\n",
       "      <td></td>\n",
       "      <td>Active Management Areas</td>\n",
       "      <td>1/10/2023</td>\n",
       "      <td>AZ</td>\n",
       "      <td></td>\n",
       "      <td>Arizona Department of Water Resources</td>\n",
       "      <td>To safeguard the health, safety and economic w...</td>\n",
       "      <td>TUCSON AMA</td>\n",
       "      <td>az6</td>\n",
       "      <td>Active</td>\n",
       "      <td></td>\n",
       "      <td></td>\n",
       "      <td>6/12/1980</td>\n",
       "      <td></td>\n",
       "      <td>Active Management Areas</td>\n",
       "      <td>Groundwater</td>\n",
       "    </tr>\n",
       "    <tr>\n",
       "      <th>4</th>\n",
       "      <td>re7</td>\n",
       "      <td>10/13/2023</td>\n",
       "      <td>2023</td>\n",
       "      <td>AZre_O1</td>\n",
       "      <td>4326</td>\n",
       "      <td>PINAL AMA</td>\n",
       "      <td>az8</td>\n",
       "      <td></td>\n",
       "      <td>Active Management Areas</td>\n",
       "      <td>1/10/2023</td>\n",
       "      <td>AZ</td>\n",
       "      <td></td>\n",
       "      <td>Arizona Department of Water Resources</td>\n",
       "      <td>To safeguard the health, safety and economic w...</td>\n",
       "      <td>PINAL AMA</td>\n",
       "      <td>az8</td>\n",
       "      <td>Active</td>\n",
       "      <td></td>\n",
       "      <td></td>\n",
       "      <td>6/12/1980</td>\n",
       "      <td></td>\n",
       "      <td>Active Management Areas</td>\n",
       "      <td>Groundwater</td>\n",
       "    </tr>\n",
       "  </tbody>\n",
       "</table>\n",
       "</div>"
      ],
      "text/plain": [
       "  WaDEUUID     in_Date in_Year in_OrganizationUUID in_EPSGCodeCV  \\\n",
       "0      re0  10/13/2023    2023             AZre_O1          4326   \n",
       "1      re1  10/13/2023    2023             AZre_O1          4326   \n",
       "2      re4  10/13/2023    2023             AZre_O1          4326   \n",
       "3      re5  10/13/2023    2023             AZre_O1          4326   \n",
       "4      re7  10/13/2023    2023             AZre_O1          4326   \n",
       "\n",
       "  in_ReportingUnitName in_ReportingUnitNativeID  \\\n",
       "0       SANTA CRUZ AMA                      az1   \n",
       "1         PRESCOTT AMA                      az2   \n",
       "2          PHOENIX AMA                      az5   \n",
       "3           TUCSON AMA                      az6   \n",
       "4            PINAL AMA                      az8   \n",
       "\n",
       "  in_ReportingUnitProductVersion   in_ReportingUnitTypeCV  \\\n",
       "0                                 Active Management Areas   \n",
       "1                                 Active Management Areas   \n",
       "2                                 Active Management Areas   \n",
       "3                                 Active Management Areas   \n",
       "4                                 Active Management Areas   \n",
       "\n",
       "  in_ReportingUnitUpdateDate in_StateCV in_Geometry  \\\n",
       "0                  1/10/2023         AZ               \n",
       "1                  1/10/2023         AZ               \n",
       "2                  1/10/2023         AZ               \n",
       "3                  1/10/2023         AZ               \n",
       "4                  1/10/2023         AZ               \n",
       "\n",
       "                      in_OversightAgency  \\\n",
       "0  Arizona Department of Water Resources   \n",
       "1  Arizona Department of Water Resources   \n",
       "2  Arizona Department of Water Resources   \n",
       "3  Arizona Department of Water Resources   \n",
       "4  Arizona Department of Water Resources   \n",
       "\n",
       "                            in_OverlayDescription in_OverlayName  \\\n",
       "0  To safeguard the health, safety and economic w...    SANTA CRUZ AMA   \n",
       "1  To safeguard the health, safety and economic w...      PRESCOTT AMA   \n",
       "2  To safeguard the health, safety and economic w...       PHOENIX AMA   \n",
       "3  To safeguard the health, safety and economic w...        TUCSON AMA   \n",
       "4  To safeguard the health, safety and economic w...         PINAL AMA   \n",
       "\n",
       "  in_OverlayNativeID in_OverlayStatusCV in_Statute  \\\n",
       "0                          az1                Active                        \n",
       "1                          az2                Active                        \n",
       "2                          az5                Active                        \n",
       "3                          az6                Active                        \n",
       "4                          az8                Active                        \n",
       "\n",
       "  in_StatuteLink in_StatutoryEffectiveDate in_StatutoryEndDate  \\\n",
       "0                                           7/1/1994                       \n",
       "1                                          6/12/1980                       \n",
       "2                                          6/12/1980                       \n",
       "3                                          6/12/1980                       \n",
       "4                                          6/12/1980                       \n",
       "\n",
       "  in_OverlayTypeCV in_WaterSourceTypeCV  \n",
       "0    Active Management Areas          Groundwater  \n",
       "1    Active Management Areas          Groundwater  \n",
       "2    Active Management Areas          Groundwater  \n",
       "3    Active Management Areas          Groundwater  \n",
       "4    Active Management Areas          Groundwater  "
      ]
     },
     "execution_count": 6,
     "metadata": {},
     "output_type": "execute_result"
    }
   ],
   "source": [
    "# create output for Regulatory Area #1 dataframe\n",
    "df = pd.DataFrame()\n",
    "\n",
    "# Data Assessment UUID\n",
    "df['WaDEUUID'] = dfin1['WaDEUUID']\n",
    "\n",
    "# Date Info\n",
    "df['in_Date'] = \"10/13/2023\"\n",
    "df['in_Year'] = \"2023\"\n",
    "\n",
    "# Organization Info\n",
    "df['in_OrganizationUUID'] = \"AZre_O1\"\n",
    "\n",
    "# ReportingUnit Info\n",
    "df['in_EPSGCodeCV'] = \"4326\"\n",
    "df['in_ReportingUnitName'] = dfin1['BASIN_NAME']\n",
    "df['in_ReportingUnitNativeID'] = \"az\" + dfin1['OBJECTID'].astype(str)\n",
    "df['in_ReportingUnitProductVersion'] = \"\"\n",
    "df['in_ReportingUnitTypeCV'] = \"Active Management Areas\"\n",
    "df['in_ReportingUnitUpdateDate'] = \"1/10/2023\"\n",
    "df['in_StateCV'] = \"AZ\"\n",
    "df['in_Geometry'] = \"\"\n",
    "\n",
    "# Overlay Info\n",
    "df['in_OversightAgency'] = \"Arizona Department of Water Resources\"\n",
    "df['in_OverlayDescription'] = \"To safeguard the health, safety and economic welfare of the public by protecting, conserving and enhancing Arizona's water supplies in a bold, thoughtful and innovative manner.\"\n",
    "df['in_OverlayName'] = dfin1['BASIN_NAME']\n",
    "df['in_OverlayNativeID'] = \"az\" + dfin1['OBJECTID'].astype(str)\n",
    "df['in_OverlayStatusCV'] = \"Active\"\n",
    "df['in_Statute'] = \"\"\n",
    "df['in_StatuteLink'] =\"\"\n",
    "df['in_StatutoryEffectiveDate'] = dfin1['Effective_Date']\n",
    "df['in_StatutoryEndDate'] = \"\"\n",
    "df['in_OverlayTypeCV'] = \"Active Management Areas\"\n",
    "df['in_WaterSourceTypeCV'] = \"Groundwater\"\n",
    "\n",
    "df = df.drop_duplicates().reset_index(drop=True)\n",
    "outdf1 = df.copy()\n",
    "print(len(outdf1))\n",
    "outdf1.head()"
   ]
  },
  {
   "cell_type": "markdown",
   "metadata": {},
   "source": [
    "## Regulatory Area #2"
   ]
  },
  {
   "cell_type": "code",
   "execution_count": 7,
   "metadata": {},
   "outputs": [],
   "source": [
    "# etc etc,"
   ]
  },
  {
   "cell_type": "code",
   "execution_count": 8,
   "metadata": {},
   "outputs": [
    {
     "name": "stdout",
     "output_type": "stream",
     "text": [
      "3\n"
     ]
    },
    {
     "data": {
      "text/html": [
       "<div>\n",
       "<style scoped>\n",
       "    .dataframe tbody tr th:only-of-type {\n",
       "        vertical-align: middle;\n",
       "    }\n",
       "\n",
       "    .dataframe tbody tr th {\n",
       "        vertical-align: top;\n",
       "    }\n",
       "\n",
       "    .dataframe thead th {\n",
       "        text-align: right;\n",
       "    }\n",
       "</style>\n",
       "<table border=\"1\" class=\"dataframe\">\n",
       "  <thead>\n",
       "    <tr style=\"text-align: right;\">\n",
       "      <th></th>\n",
       "      <th>WaDEUUID</th>\n",
       "      <th>in_Date</th>\n",
       "      <th>in_Year</th>\n",
       "      <th>in_OrganizationUUID</th>\n",
       "      <th>in_EPSGCodeCV</th>\n",
       "      <th>in_ReportingUnitName</th>\n",
       "      <th>in_ReportingUnitNativeID</th>\n",
       "      <th>in_ReportingUnitProductVersion</th>\n",
       "      <th>in_ReportingUnitTypeCV</th>\n",
       "      <th>in_ReportingUnitUpdateDate</th>\n",
       "      <th>in_StateCV</th>\n",
       "      <th>in_Geometry</th>\n",
       "      <th>in_OversightAgency</th>\n",
       "      <th>in_OverlayDescription</th>\n",
       "      <th>in_OverlayName</th>\n",
       "      <th>in_OverlayNativeID</th>\n",
       "      <th>in_OverlayStatusCV</th>\n",
       "      <th>in_Statute</th>\n",
       "      <th>in_StatuteLink</th>\n",
       "      <th>in_StatutoryEffectiveDate</th>\n",
       "      <th>in_StatutoryEndDate</th>\n",
       "      <th>in_OverlayTypeCV</th>\n",
       "      <th>in_WaterSourceTypeCV</th>\n",
       "    </tr>\n",
       "  </thead>\n",
       "  <tbody>\n",
       "    <tr>\n",
       "      <th>0</th>\n",
       "      <td>re2</td>\n",
       "      <td>10/13/2023</td>\n",
       "      <td>2023</td>\n",
       "      <td>AZre_O1</td>\n",
       "      <td>4326</td>\n",
       "      <td>HARQUAHALA INA</td>\n",
       "      <td>az3</td>\n",
       "      <td></td>\n",
       "      <td>Irrigation Non-Expansion Areas</td>\n",
       "      <td>1/10/2023</td>\n",
       "      <td>AZ</td>\n",
       "      <td></td>\n",
       "      <td>Arizona Department of Water Resources</td>\n",
       "      <td>To safeguard the health, safety and economic w...</td>\n",
       "      <td>HARQUAHALA INA</td>\n",
       "      <td>az3</td>\n",
       "      <td>Active</td>\n",
       "      <td></td>\n",
       "      <td></td>\n",
       "      <td>1/1/1981</td>\n",
       "      <td></td>\n",
       "      <td>Irrigation Non-Expansion Areas</td>\n",
       "      <td>Groundwater</td>\n",
       "    </tr>\n",
       "    <tr>\n",
       "      <th>1</th>\n",
       "      <td>re3</td>\n",
       "      <td>10/13/2023</td>\n",
       "      <td>2023</td>\n",
       "      <td>AZre_O1</td>\n",
       "      <td>4326</td>\n",
       "      <td>JOSEPH CITY INA</td>\n",
       "      <td>az4</td>\n",
       "      <td></td>\n",
       "      <td>Irrigation Non-Expansion Areas</td>\n",
       "      <td>1/10/2023</td>\n",
       "      <td>AZ</td>\n",
       "      <td></td>\n",
       "      <td>Arizona Department of Water Resources</td>\n",
       "      <td>To safeguard the health, safety and economic w...</td>\n",
       "      <td>JOSEPH CITY INA</td>\n",
       "      <td>az4</td>\n",
       "      <td>Active</td>\n",
       "      <td></td>\n",
       "      <td></td>\n",
       "      <td>12/16/1974</td>\n",
       "      <td></td>\n",
       "      <td>Irrigation Non-Expansion Areas</td>\n",
       "      <td>Groundwater</td>\n",
       "    </tr>\n",
       "    <tr>\n",
       "      <th>2</th>\n",
       "      <td>re6</td>\n",
       "      <td>10/13/2023</td>\n",
       "      <td>2023</td>\n",
       "      <td>AZre_O1</td>\n",
       "      <td>4326</td>\n",
       "      <td>DOUGLAS INA</td>\n",
       "      <td>az7</td>\n",
       "      <td></td>\n",
       "      <td>Irrigation Non-Expansion Areas</td>\n",
       "      <td>1/10/2023</td>\n",
       "      <td>AZ</td>\n",
       "      <td></td>\n",
       "      <td>Arizona Department of Water Resources</td>\n",
       "      <td>To safeguard the health, safety and economic w...</td>\n",
       "      <td>DOUGLAS INA</td>\n",
       "      <td>az7</td>\n",
       "      <td>Active</td>\n",
       "      <td></td>\n",
       "      <td></td>\n",
       "      <td>12/1/2022</td>\n",
       "      <td></td>\n",
       "      <td>Irrigation Non-Expansion Areas</td>\n",
       "      <td>Groundwater</td>\n",
       "    </tr>\n",
       "  </tbody>\n",
       "</table>\n",
       "</div>"
      ],
      "text/plain": [
       "  WaDEUUID     in_Date in_Year in_OrganizationUUID in_EPSGCodeCV  \\\n",
       "0      re2  10/13/2023    2023             AZre_O1          4326   \n",
       "1      re3  10/13/2023    2023             AZre_O1          4326   \n",
       "2      re6  10/13/2023    2023             AZre_O1          4326   \n",
       "\n",
       "  in_ReportingUnitName in_ReportingUnitNativeID  \\\n",
       "0       HARQUAHALA INA                      az3   \n",
       "1      JOSEPH CITY INA                      az4   \n",
       "2          DOUGLAS INA                      az7   \n",
       "\n",
       "  in_ReportingUnitProductVersion          in_ReportingUnitTypeCV  \\\n",
       "0                                 Irrigation Non-Expansion Areas   \n",
       "1                                 Irrigation Non-Expansion Areas   \n",
       "2                                 Irrigation Non-Expansion Areas   \n",
       "\n",
       "  in_ReportingUnitUpdateDate in_StateCV in_Geometry  \\\n",
       "0                  1/10/2023         AZ               \n",
       "1                  1/10/2023         AZ               \n",
       "2                  1/10/2023         AZ               \n",
       "\n",
       "                      in_OversightAgency  \\\n",
       "0  Arizona Department of Water Resources   \n",
       "1  Arizona Department of Water Resources   \n",
       "2  Arizona Department of Water Resources   \n",
       "\n",
       "                            in_OverlayDescription in_OverlayName  \\\n",
       "0  To safeguard the health, safety and economic w...    HARQUAHALA INA   \n",
       "1  To safeguard the health, safety and economic w...   JOSEPH CITY INA   \n",
       "2  To safeguard the health, safety and economic w...       DOUGLAS INA   \n",
       "\n",
       "  in_OverlayNativeID in_OverlayStatusCV in_Statute  \\\n",
       "0                          az3                Active                        \n",
       "1                          az4                Active                        \n",
       "2                          az7                Active                        \n",
       "\n",
       "  in_StatuteLink in_StatutoryEffectiveDate in_StatutoryEndDate  \\\n",
       "0                                           1/1/1981                       \n",
       "1                                         12/16/1974                       \n",
       "2                                          12/1/2022                       \n",
       "\n",
       "       in_OverlayTypeCV in_WaterSourceTypeCV  \n",
       "0  Irrigation Non-Expansion Areas          Groundwater  \n",
       "1  Irrigation Non-Expansion Areas          Groundwater  \n",
       "2  Irrigation Non-Expansion Areas          Groundwater  "
      ]
     },
     "execution_count": 8,
     "metadata": {},
     "output_type": "execute_result"
    }
   ],
   "source": [
    "# create output for Regulatory Area #1 dataframe\n",
    "df = pd.DataFrame()\n",
    "\n",
    "# Data Assessment UUID\n",
    "df['WaDEUUID'] = dfin2['WaDEUUID']\n",
    "\n",
    "# Date Info\n",
    "df['in_Date'] = \"10/13/2023\"\n",
    "df['in_Year'] = \"2023\"\n",
    "\n",
    "# Organization Info\n",
    "df['in_OrganizationUUID'] = \"AZre_O1\"\n",
    "\n",
    "# ReportingUnit Info\n",
    "df['in_EPSGCodeCV'] = \"4326\"\n",
    "df['in_ReportingUnitName'] = dfin2['BASIN_NAME']\n",
    "df['in_ReportingUnitNativeID'] = \"az\" + dfin2['OBJECTID'].astype(str)\n",
    "df['in_ReportingUnitProductVersion'] = \"\"\n",
    "df['in_ReportingUnitTypeCV'] = \"Irrigation Non-Expansion Areas\"\n",
    "df['in_ReportingUnitUpdateDate'] = \"1/10/2023\"\n",
    "df['in_StateCV'] = \"AZ\"\n",
    "df['in_Geometry'] = \"\"\n",
    "\n",
    "# Overlay Info\n",
    "df['in_OversightAgency'] = \"Arizona Department of Water Resources\"\n",
    "df['in_OverlayDescription'] = \"To safeguard the health, safety and economic welfare of the public by protecting, conserving and enhancing Arizona's water supplies in a bold, thoughtful and innovative manner.\"\n",
    "df['in_OverlayName'] = dfin2['BASIN_NAME']\n",
    "df['in_OverlayNativeID'] = \"az\" + dfin2['OBJECTID'].astype(str)\n",
    "df['in_OverlayStatusCV'] = \"Active\"\n",
    "df['in_Statute'] = \"\"\n",
    "df['in_StatuteLink'] =\"\"\n",
    "df['in_StatutoryEffectiveDate'] = dfin2['Effective_Date']\n",
    "df['in_StatutoryEndDate'] = \"\"\n",
    "df['in_OverlayTypeCV'] = \"Irrigation Non-Expansion Areas\"\n",
    "df['in_WaterSourceTypeCV'] = \"Groundwater\"\n",
    "\n",
    "df = df.drop_duplicates().reset_index(drop=True)\n",
    "outdf2 = df.copy()\n",
    "print(len(outdf2))\n",
    "outdf2.head()"
   ]
  },
  {
   "cell_type": "markdown",
   "metadata": {},
   "source": [
    "## Concatenate DataFrames together"
   ]
  },
  {
   "cell_type": "code",
   "execution_count": 9,
   "metadata": {},
   "outputs": [
    {
     "name": "stdout",
     "output_type": "stream",
     "text": [
      "8\n"
     ]
    }
   ],
   "source": [
    "# Concatenate dataframes\n",
    "frames = [outdf1, outdf2] # list all out dataframes here\n",
    "outdf = pd.concat(frames)\n",
    "outdf = outdf.drop_duplicates().reset_index(drop=True).replace(np.nan, \"\")\n",
    "print(len(outdf))"
   ]
  },
  {
   "cell_type": "markdown",
   "metadata": {},
   "source": [
    "## Clean Data / data types"
   ]
  },
  {
   "cell_type": "code",
   "execution_count": 10,
   "metadata": {
    "scrolled": true
   },
   "outputs": [],
   "source": [
    "# Ensure Empty String / remove string value of \"nan\"\n",
    "\n",
    "def ensureEmptyString(val):\n",
    "    val = str(val).strip()\n",
    "    if val == \"\" or val == \" \" or val == \"nan\" or pd.isnull(val):\n",
    "        outString = \"\"\n",
    "    else:\n",
    "        outString = val\n",
    "    return outString"
   ]
  },
  {
   "cell_type": "code",
   "execution_count": 11,
   "metadata": {},
   "outputs": [
    {
     "data": {
      "text/plain": [
       "array(['SANTA CRUZ AMA', 'PRESCOTT AMA', 'PHOENIX AMA', 'TUCSON AMA',\n",
       "       'PINAL AMA', 'HARQUAHALA INA', 'JOSEPH CITY INA', 'DOUGLAS INA'],\n",
       "      dtype=object)"
      ]
     },
     "execution_count": 11,
     "metadata": {},
     "output_type": "execute_result"
    }
   ],
   "source": [
    "outdf['in_ReportingUnitName'] = outdf.apply(lambda row: ensureEmptyString(row['in_ReportingUnitName']), axis=1)\n",
    "outdf['in_ReportingUnitName'].unique()"
   ]
  },
  {
   "cell_type": "code",
   "execution_count": 12,
   "metadata": {},
   "outputs": [
    {
     "data": {
      "text/plain": [
       "array([\"To safeguard the health, safety and economic welfare of the public by protecting, conserving and enhancing Arizona's water supplies in a bold, thoughtful and innovative manner.\"],\n",
       "      dtype=object)"
      ]
     },
     "execution_count": 12,
     "metadata": {},
     "output_type": "execute_result"
    }
   ],
   "source": [
    "outdf['in_OverlayDescription'] = outdf.apply(lambda row: ensureEmptyString(row['in_OverlayDescription']), axis=1)\n",
    "outdf['in_OverlayDescription'].unique()"
   ]
  },
  {
   "cell_type": "code",
   "execution_count": 13,
   "metadata": {},
   "outputs": [
    {
     "data": {
      "text/plain": [
       "array(['SANTA CRUZ AMA', 'PRESCOTT AMA', 'PHOENIX AMA', 'TUCSON AMA',\n",
       "       'PINAL AMA', 'HARQUAHALA INA', 'JOSEPH CITY INA', 'DOUGLAS INA'],\n",
       "      dtype=object)"
      ]
     },
     "execution_count": 13,
     "metadata": {},
     "output_type": "execute_result"
    }
   ],
   "source": [
    "outdf['in_OverlayName'] = outdf.apply(lambda row: ensureEmptyString(row['in_OverlayName']), axis=1)\n",
    "outdf['in_OverlayName'].unique()"
   ]
  },
  {
   "cell_type": "code",
   "execution_count": 14,
   "metadata": {},
   "outputs": [
    {
     "data": {
      "text/plain": [
       "array(['1994-07-01T00:00:00.000000000', '1980-06-12T00:00:00.000000000',\n",
       "       '1981-01-01T00:00:00.000000000', '1974-12-16T00:00:00.000000000',\n",
       "       '2022-12-01T00:00:00.000000000'], dtype='datetime64[ns]')"
      ]
     },
     "execution_count": 14,
     "metadata": {},
     "output_type": "execute_result"
    }
   ],
   "source": [
    "#Update datatype of StatutoryEffectiveDate to fit WaDE 2.0 structure\n",
    "outdf['in_StatutoryEffectiveDate'] = pd.to_datetime(outdf['in_StatutoryEffectiveDate'], errors = 'coerce')\n",
    "outdf['in_StatutoryEffectiveDate'] = pd.to_datetime(outdf['in_StatutoryEffectiveDate'].dt.strftime('%m/%d/%Y'))\n",
    "outdf['in_StatutoryEffectiveDate'].unique()"
   ]
  },
  {
   "cell_type": "markdown",
   "metadata": {},
   "source": [
    "# Shapefile Data\n",
    "- For attaching geometry to reporting unit info."
   ]
  },
  {
   "cell_type": "markdown",
   "metadata": {},
   "source": [
    "#### Regulatory Area #1 shapefile info"
   ]
  },
  {
   "cell_type": "code",
   "execution_count": 15,
   "metadata": {},
   "outputs": [
    {
     "name": "stdout",
     "output_type": "stream",
     "text": [
      "8\n"
     ]
    },
    {
     "data": {
      "text/html": [
       "<div>\n",
       "<style scoped>\n",
       "    .dataframe tbody tr th:only-of-type {\n",
       "        vertical-align: middle;\n",
       "    }\n",
       "\n",
       "    .dataframe tbody tr th {\n",
       "        vertical-align: top;\n",
       "    }\n",
       "\n",
       "    .dataframe thead th {\n",
       "        text-align: right;\n",
       "    }\n",
       "</style>\n",
       "<table border=\"1\" class=\"dataframe\">\n",
       "  <thead>\n",
       "    <tr style=\"text-align: right;\">\n",
       "      <th></th>\n",
       "      <th>OBJECTID</th>\n",
       "      <th>BASIN_NAME</th>\n",
       "      <th>NAME_ABBR</th>\n",
       "      <th>Shape_Leng</th>\n",
       "      <th>Shape_Area</th>\n",
       "      <th>geometry</th>\n",
       "    </tr>\n",
       "  </thead>\n",
       "  <tbody>\n",
       "    <tr>\n",
       "      <th>0</th>\n",
       "      <td>1</td>\n",
       "      <td>SANTA CRUZ AMA</td>\n",
       "      <td>SCA</td>\n",
       "      <td>2.24518</td>\n",
       "      <td>0.17623</td>\n",
       "      <td>POLYGON ((-111.19921 31.85820, -111.19889 31.8...</td>\n",
       "    </tr>\n",
       "    <tr>\n",
       "      <th>1</th>\n",
       "      <td>2</td>\n",
       "      <td>PRESCOTT AMA</td>\n",
       "      <td>PRE</td>\n",
       "      <td>1.93099</td>\n",
       "      <td>0.12240</td>\n",
       "      <td>POLYGON ((-112.56133 34.72246, -112.56120 34.7...</td>\n",
       "    </tr>\n",
       "    <tr>\n",
       "      <th>2</th>\n",
       "      <td>3</td>\n",
       "      <td>HARQUAHALA INA</td>\n",
       "      <td>HAR</td>\n",
       "      <td>2.36600</td>\n",
       "      <td>0.19248</td>\n",
       "      <td>POLYGON ((-113.30172 33.83494, -113.30158 33.8...</td>\n",
       "    </tr>\n",
       "    <tr>\n",
       "      <th>3</th>\n",
       "      <td>4</td>\n",
       "      <td>JOSEPH CITY INA</td>\n",
       "      <td>JCI</td>\n",
       "      <td>0.98562</td>\n",
       "      <td>0.04618</td>\n",
       "      <td>POLYGON ((-110.27111 34.99601, -110.27092 34.9...</td>\n",
       "    </tr>\n",
       "    <tr>\n",
       "      <th>4</th>\n",
       "      <td>5</td>\n",
       "      <td>PHOENIX AMA</td>\n",
       "      <td>PHX</td>\n",
       "      <td>8.37192</td>\n",
       "      <td>1.35427</td>\n",
       "      <td>POLYGON ((-112.06644 34.00006, -112.06605 34.0...</td>\n",
       "    </tr>\n",
       "  </tbody>\n",
       "</table>\n",
       "</div>"
      ],
      "text/plain": [
       "   OBJECTID       BASIN_NAME NAME_ABBR  Shape_Leng  Shape_Area  \\\n",
       "0         1   SANTA CRUZ AMA       SCA     2.24518     0.17623   \n",
       "1         2     PRESCOTT AMA       PRE     1.93099     0.12240   \n",
       "2         3   HARQUAHALA INA       HAR     2.36600     0.19248   \n",
       "3         4  JOSEPH CITY INA       JCI     0.98562     0.04618   \n",
       "4         5      PHOENIX AMA       PHX     8.37192     1.35427   \n",
       "\n",
       "                                            geometry  \n",
       "0  POLYGON ((-111.19921 31.85820, -111.19889 31.8...  \n",
       "1  POLYGON ((-112.56133 34.72246, -112.56120 34.7...  \n",
       "2  POLYGON ((-113.30172 33.83494, -113.30158 33.8...  \n",
       "3  POLYGON ((-110.27111 34.99601, -110.27092 34.9...  \n",
       "4  POLYGON ((-112.06644 34.00006, -112.06605 34.0...  "
      ]
     },
     "execution_count": 15,
     "metadata": {},
     "output_type": "execute_result"
    }
   ],
   "source": [
    "# Input File\n",
    "shapeInputFile = \"RawInputData/shapefiles/AMA_and_INA2.zip\"\n",
    "gdfin1 = gpd.read_file(shapeInputFile)\n",
    "print(len(gdfin1))\n",
    "gdfin1.head()"
   ]
  },
  {
   "cell_type": "code",
   "execution_count": 16,
   "metadata": {},
   "outputs": [
    {
     "name": "stdout",
     "output_type": "stream",
     "text": [
      "   OBJECTID      BASIN_NAME NAME_ABBR  Shape_Leng  Shape_Area  \\\n",
      "0         1  SANTA CRUZ AMA       SCA     2.24518     0.17623   \n",
      "1         2    PRESCOTT AMA       PRE     1.93099     0.12240   \n",
      "4         5     PHOENIX AMA       PHX     8.37192     1.35427   \n",
      "5         6      TUCSON AMA       TUC     6.07367     0.95858   \n",
      "7         8       PINAL AMA       PIN     6.58236     1.01998   \n",
      "\n",
      "                                            geometry  \n",
      "0  POLYGON ((-111.19921 31.85820, -111.19889 31.8...  \n",
      "1  POLYGON ((-112.56133 34.72246, -112.56120 34.7...  \n",
      "4  POLYGON ((-112.06644 34.00006, -112.06605 34.0...  \n",
      "5  POLYGON ((-110.92813 32.81227, -110.92850 32.8...  \n",
      "7  POLYGON ((-111.21416 33.18288, -111.21472 33.1...  \n"
     ]
    },
    {
     "data": {
      "text/html": [
       "<div>\n",
       "<style scoped>\n",
       "    .dataframe tbody tr th:only-of-type {\n",
       "        vertical-align: middle;\n",
       "    }\n",
       "\n",
       "    .dataframe tbody tr th {\n",
       "        vertical-align: top;\n",
       "    }\n",
       "\n",
       "    .dataframe thead th {\n",
       "        text-align: right;\n",
       "    }\n",
       "</style>\n",
       "<table border=\"1\" class=\"dataframe\">\n",
       "  <thead>\n",
       "    <tr style=\"text-align: right;\">\n",
       "      <th></th>\n",
       "      <th>OBJECTID</th>\n",
       "      <th>BASIN_NAME</th>\n",
       "      <th>NAME_ABBR</th>\n",
       "      <th>Shape_Leng</th>\n",
       "      <th>Shape_Area</th>\n",
       "      <th>geometry</th>\n",
       "    </tr>\n",
       "  </thead>\n",
       "  <tbody>\n",
       "    <tr>\n",
       "      <th>2</th>\n",
       "      <td>3</td>\n",
       "      <td>HARQUAHALA INA</td>\n",
       "      <td>HAR</td>\n",
       "      <td>2.36600</td>\n",
       "      <td>0.19248</td>\n",
       "      <td>POLYGON ((-113.30172 33.83494, -113.30158 33.8...</td>\n",
       "    </tr>\n",
       "    <tr>\n",
       "      <th>3</th>\n",
       "      <td>4</td>\n",
       "      <td>JOSEPH CITY INA</td>\n",
       "      <td>JCI</td>\n",
       "      <td>0.98562</td>\n",
       "      <td>0.04618</td>\n",
       "      <td>POLYGON ((-110.27111 34.99601, -110.27092 34.9...</td>\n",
       "    </tr>\n",
       "    <tr>\n",
       "      <th>6</th>\n",
       "      <td>7</td>\n",
       "      <td>DOUGLAS INA</td>\n",
       "      <td>DIN</td>\n",
       "      <td>1.91029</td>\n",
       "      <td>0.13655</td>\n",
       "      <td>POLYGON ((-109.49467 31.33405, -109.50064 31.3...</td>\n",
       "    </tr>\n",
       "  </tbody>\n",
       "</table>\n",
       "</div>"
      ],
      "text/plain": [
       "   OBJECTID       BASIN_NAME NAME_ABBR  Shape_Leng  Shape_Area  \\\n",
       "2         3   HARQUAHALA INA       HAR     2.36600     0.19248   \n",
       "3         4  JOSEPH CITY INA       JCI     0.98562     0.04618   \n",
       "6         7      DOUGLAS INA       DIN     1.91029     0.13655   \n",
       "\n",
       "                                            geometry  \n",
       "2  POLYGON ((-113.30172 33.83494, -113.30158 33.8...  \n",
       "3  POLYGON ((-110.27111 34.99601, -110.27092 34.9...  \n",
       "6  POLYGON ((-109.49467 31.33405, -109.50064 31.3...  "
      ]
     },
     "execution_count": 16,
     "metadata": {},
     "output_type": "execute_result"
    }
   ],
   "source": [
    "# split up AMA and INA data  into two dataframes\n",
    "gdfin2 = gdfin1[gdfin1['BASIN_NAME'].str.contains(\"AMA\") == False]\n",
    "gdfin1 = gdfin1[gdfin1['BASIN_NAME'].str.contains(\"AMA\") == True]\n",
    "print(gdfin1)\n",
    "gdfin2"
   ]
  },
  {
   "cell_type": "code",
   "execution_count": 17,
   "metadata": {},
   "outputs": [
    {
     "data": {
      "text/plain": [
       "<AxesSubplot: >"
      ]
     },
     "execution_count": 17,
     "metadata": {},
     "output_type": "execute_result"
    },
    {
     "data": {
      "image/png": "[encoded data removed]",
      "text/plain": [
       "<Figure size 640x480 with 1 Axes>"
      ]
     },
     "metadata": {},
     "output_type": "display_data"
    }
   ],
   "source": [
    "# plot shape info to map\n",
    "gdfin1.plot()"
   ]
  },
  {
   "cell_type": "code",
   "execution_count": 18,
   "metadata": {},
   "outputs": [
    {
     "name": "stdout",
     "output_type": "stream",
     "text": [
      "5\n"
     ]
    },
    {
     "data": {
      "text/html": [
       "<div>\n",
       "<style scoped>\n",
       "    .dataframe tbody tr th:only-of-type {\n",
       "        vertical-align: middle;\n",
       "    }\n",
       "\n",
       "    .dataframe tbody tr th {\n",
       "        vertical-align: top;\n",
       "    }\n",
       "\n",
       "    .dataframe thead th {\n",
       "        text-align: right;\n",
       "    }\n",
       "</style>\n",
       "<table border=\"1\" class=\"dataframe\">\n",
       "  <thead>\n",
       "    <tr style=\"text-align: right;\">\n",
       "      <th></th>\n",
       "      <th>in_ReportingUnitNativeID</th>\n",
       "      <th>geometry</th>\n",
       "    </tr>\n",
       "  </thead>\n",
       "  <tbody>\n",
       "    <tr>\n",
       "      <th>0</th>\n",
       "      <td>az1</td>\n",
       "      <td>POLYGON ((-111.19921 31.85820, -111.19889 31.8...</td>\n",
       "    </tr>\n",
       "    <tr>\n",
       "      <th>1</th>\n",
       "      <td>az2</td>\n",
       "      <td>POLYGON ((-112.56133 34.72246, -112.56120 34.7...</td>\n",
       "    </tr>\n",
       "    <tr>\n",
       "      <th>2</th>\n",
       "      <td>az5</td>\n",
       "      <td>POLYGON ((-112.06644 34.00006, -112.06605 34.0...</td>\n",
       "    </tr>\n",
       "    <tr>\n",
       "      <th>3</th>\n",
       "      <td>az6</td>\n",
       "      <td>POLYGON ((-110.92813 32.81227, -110.92850 32.8...</td>\n",
       "    </tr>\n",
       "    <tr>\n",
       "      <th>4</th>\n",
       "      <td>az8</td>\n",
       "      <td>POLYGON ((-111.21416 33.18288, -111.21472 33.1...</td>\n",
       "    </tr>\n",
       "  </tbody>\n",
       "</table>\n",
       "</div>"
      ],
      "text/plain": [
       "  in_ReportingUnitNativeID                                           geometry\n",
       "0                      az1  POLYGON ((-111.19921 31.85820, -111.19889 31.8...\n",
       "1                      az2  POLYGON ((-112.56133 34.72246, -112.56120 34.7...\n",
       "2                      az5  POLYGON ((-112.06644 34.00006, -112.06605 34.0...\n",
       "3                      az6  POLYGON ((-110.92813 32.81227, -110.92850 32.8...\n",
       "4                      az8  POLYGON ((-111.21416 33.18288, -111.21472 33.1..."
      ]
     },
     "execution_count": 18,
     "metadata": {},
     "output_type": "execute_result"
    }
   ],
   "source": [
    "# create output for Regulatory Area #1 dataframe\n",
    "df = pd.DataFrame()\n",
    "\n",
    "columnsList = ['in_ReportingUnitNativeID', 'geometry']\n",
    "goutdf1 = pd.DataFrame(columns=columnsList, index=gdfin1.index)\n",
    "\n",
    "goutdf1['in_ReportingUnitNativeID'] = \"az\" + gdfin1['OBJECTID'].astype(str)  # in_ReportingUnitNativeID needs to match source from above equivlaent datframe\n",
    "goutdf1['geometry'] = gdfin1['geometry']\n",
    "goutdf1 = goutdf1.drop_duplicates().reset_index(drop=True)\n",
    "print(len(goutdf1))\n",
    "goutdf1.head()"
   ]
  },
  {
   "cell_type": "markdown",
   "metadata": {},
   "source": [
    "#### Regulatory Area #2 shapefile info"
   ]
  },
  {
   "cell_type": "code",
   "execution_count": 19,
   "metadata": {},
   "outputs": [],
   "source": [
    "# etc etc..."
   ]
  },
  {
   "cell_type": "code",
   "execution_count": 20,
   "metadata": {},
   "outputs": [
    {
     "data": {
      "text/plain": [
       "<AxesSubplot: >"
      ]
     },
     "execution_count": 20,
     "metadata": {},
     "output_type": "execute_result"
    },
    {
     "data": {
      "image/png": "[encoded data removed]",
      "text/plain": [
       "<Figure size 640x480 with 1 Axes>"
      ]
     },
     "metadata": {},
     "output_type": "display_data"
    }
   ],
   "source": [
    "# plot shape info to map\n",
    "gdfin2.plot()"
   ]
  },
  {
   "cell_type": "code",
   "execution_count": 21,
   "metadata": {},
   "outputs": [
    {
     "name": "stdout",
     "output_type": "stream",
     "text": [
      "3\n"
     ]
    },
    {
     "data": {
      "text/html": [
       "<div>\n",
       "<style scoped>\n",
       "    .dataframe tbody tr th:only-of-type {\n",
       "        vertical-align: middle;\n",
       "    }\n",
       "\n",
       "    .dataframe tbody tr th {\n",
       "        vertical-align: top;\n",
       "    }\n",
       "\n",
       "    .dataframe thead th {\n",
       "        text-align: right;\n",
       "    }\n",
       "</style>\n",
       "<table border=\"1\" class=\"dataframe\">\n",
       "  <thead>\n",
       "    <tr style=\"text-align: right;\">\n",
       "      <th></th>\n",
       "      <th>in_ReportingUnitNativeID</th>\n",
       "      <th>geometry</th>\n",
       "    </tr>\n",
       "  </thead>\n",
       "  <tbody>\n",
       "    <tr>\n",
       "      <th>0</th>\n",
       "      <td>az3</td>\n",
       "      <td>POLYGON ((-113.30172 33.83494, -113.30158 33.8...</td>\n",
       "    </tr>\n",
       "    <tr>\n",
       "      <th>1</th>\n",
       "      <td>az4</td>\n",
       "      <td>POLYGON ((-110.27111 34.99601, -110.27092 34.9...</td>\n",
       "    </tr>\n",
       "    <tr>\n",
       "      <th>2</th>\n",
       "      <td>az7</td>\n",
       "      <td>POLYGON ((-109.49467 31.33405, -109.50064 31.3...</td>\n",
       "    </tr>\n",
       "  </tbody>\n",
       "</table>\n",
       "</div>"
      ],
      "text/plain": [
       "  in_ReportingUnitNativeID                                           geometry\n",
       "0                      az3  POLYGON ((-113.30172 33.83494, -113.30158 33.8...\n",
       "1                      az4  POLYGON ((-110.27111 34.99601, -110.27092 34.9...\n",
       "2                      az7  POLYGON ((-109.49467 31.33405, -109.50064 31.3..."
      ]
     },
     "execution_count": 21,
     "metadata": {},
     "output_type": "execute_result"
    }
   ],
   "source": [
    "# create output for Regulatory Area #1 dataframe\n",
    "df = pd.DataFrame()\n",
    "\n",
    "columnsList = ['in_ReportingUnitNativeID', 'geometry']\n",
    "goutdf2 = pd.DataFrame(columns=columnsList, index=gdfin2.index)\n",
    "\n",
    "goutdf2['in_ReportingUnitNativeID'] = \"az\" + gdfin2['OBJECTID'].astype(str)  # in_ReportingUnitNativeID needs to match source from above equivlaent datframe\n",
    "goutdf2['geometry'] = gdfin2['geometry']\n",
    "goutdf2 = goutdf2.drop_duplicates().reset_index(drop=True)\n",
    "print(len(goutdf2))\n",
    "goutdf2.head()"
   ]
  },
  {
   "cell_type": "markdown",
   "metadata": {},
   "source": [
    "#### Concatenate goutdf shapefile info into single output"
   ]
  },
  {
   "cell_type": "code",
   "execution_count": 22,
   "metadata": {},
   "outputs": [
    {
     "name": "stdout",
     "output_type": "stream",
     "text": [
      "8\n"
     ]
    },
    {
     "data": {
      "text/html": [
       "<div>\n",
       "<style scoped>\n",
       "    .dataframe tbody tr th:only-of-type {\n",
       "        vertical-align: middle;\n",
       "    }\n",
       "\n",
       "    .dataframe tbody tr th {\n",
       "        vertical-align: top;\n",
       "    }\n",
       "\n",
       "    .dataframe thead th {\n",
       "        text-align: right;\n",
       "    }\n",
       "</style>\n",
       "<table border=\"1\" class=\"dataframe\">\n",
       "  <thead>\n",
       "    <tr style=\"text-align: right;\">\n",
       "      <th></th>\n",
       "      <th>in_ReportingUnitNativeID</th>\n",
       "      <th>geometry</th>\n",
       "    </tr>\n",
       "  </thead>\n",
       "  <tbody>\n",
       "    <tr>\n",
       "      <th>0</th>\n",
       "      <td>az1</td>\n",
       "      <td>POLYGON ((-111.19921 31.85820, -111.19889 31.8...</td>\n",
       "    </tr>\n",
       "    <tr>\n",
       "      <th>1</th>\n",
       "      <td>az2</td>\n",
       "      <td>POLYGON ((-112.56133 34.72246, -112.56120 34.7...</td>\n",
       "    </tr>\n",
       "    <tr>\n",
       "      <th>2</th>\n",
       "      <td>az5</td>\n",
       "      <td>POLYGON ((-112.06644 34.00006, -112.06605 34.0...</td>\n",
       "    </tr>\n",
       "    <tr>\n",
       "      <th>3</th>\n",
       "      <td>az6</td>\n",
       "      <td>POLYGON ((-110.92813 32.81227, -110.92850 32.8...</td>\n",
       "    </tr>\n",
       "    <tr>\n",
       "      <th>4</th>\n",
       "      <td>az8</td>\n",
       "      <td>POLYGON ((-111.21416 33.18288, -111.21472 33.1...</td>\n",
       "    </tr>\n",
       "  </tbody>\n",
       "</table>\n",
       "</div>"
      ],
      "text/plain": [
       "  in_ReportingUnitNativeID                                           geometry\n",
       "0                      az1  POLYGON ((-111.19921 31.85820, -111.19889 31.8...\n",
       "1                      az2  POLYGON ((-112.56133 34.72246, -112.56120 34.7...\n",
       "2                      az5  POLYGON ((-112.06644 34.00006, -112.06605 34.0...\n",
       "3                      az6  POLYGON ((-110.92813 32.81227, -110.92850 32.8...\n",
       "4                      az8  POLYGON ((-111.21416 33.18288, -111.21472 33.1..."
      ]
     },
     "execution_count": 22,
     "metadata": {},
     "output_type": "execute_result"
    }
   ],
   "source": [
    "# Concatenate Basin & Subbasin DataFrames\n",
    "frames = [goutdf1, goutdf2,] # add geoutdf dataframes here\n",
    "goutdf = pd.concat(frames).reset_index(drop=True)\n",
    "\n",
    "print(len(goutdf))\n",
    "goutdf.head()"
   ]
  },
  {
   "cell_type": "markdown",
   "metadata": {},
   "source": [
    "## Export Data"
   ]
  },
  {
   "cell_type": "code",
   "execution_count": 23,
   "metadata": {
    "scrolled": false
   },
   "outputs": [
    {
     "name": "stdout",
     "output_type": "stream",
     "text": [
      "WaDEUUID                                  object\n",
      "in_Date                                   object\n",
      "in_Year                                   object\n",
      "in_OrganizationUUID                       object\n",
      "in_EPSGCodeCV                             object\n",
      "in_ReportingUnitName                      object\n",
      "in_ReportingUnitNativeID                  object\n",
      "in_ReportingUnitProductVersion            object\n",
      "in_ReportingUnitTypeCV                    object\n",
      "in_ReportingUnitUpdateDate                object\n",
      "in_StateCV                                object\n",
      "in_Geometry                               object\n",
      "in_OversightAgency                        object\n",
      "in_OverlayDescription                  object\n",
      "in_OverlayName                         object\n",
      "in_OverlayNativeID              object\n",
      "in_OverlayStatusCV                     object\n",
      "in_Statute                      object\n",
      "in_StatuteLink                  object\n",
      "in_StatutoryEffectiveDate         datetime64[ns]\n",
      "in_StatutoryEndDate                       object\n",
      "in_OverlayTypeCV                object\n",
      "in_WaterSourceTypeCV                      object\n",
      "dtype: object\n"
     ]
    }
   ],
   "source": [
    "with pd.option_context('display.max_rows', None, 'display.max_columns', None):\n",
    "    print(outdf.dtypes)"
   ]
  },
  {
   "cell_type": "code",
   "execution_count": 24,
   "metadata": {},
   "outputs": [
    {
     "name": "stdout",
     "output_type": "stream",
     "text": [
      "in_ReportingUnitNativeID      object\n",
      "geometry                    geometry\n",
      "dtype: object\n"
     ]
    }
   ],
   "source": [
    "with pd.option_context('display.max_rows', None, 'display.max_columns', None):\n",
    "    print(goutdf.dtypes)"
   ]
  },
  {
   "cell_type": "code",
   "execution_count": 25,
   "metadata": {},
   "outputs": [],
   "source": [
    "# Export out to CSV.\n",
    "outdf.to_csv('RawInputData/Pre_azMain.zip', compression=dict(method='zip', archive_name='Pre_azMain.csv'), index=False)  # The output, save as a zip\n",
    "goutdf.to_csv('RawInputData/P_Geometry.zip', compression=dict(method='zip', archive_name='P_Geometry.csv'), index=False)  # The output geometry."
   ]
  }
 ],
 "metadata": {
  "kernelspec": {
   "display_name": "Python 3 (ipykernel)",
   "language": "python",
   "name": "python3"
  },
  "language_info": {
   "codemirror_mode": {
    "name": "ipython",
    "version": 3
   },
   "file_extension": ".py",
   "mimetype": "text/x-python",
   "name": "python",
   "nbconvert_exporter": "python",
   "pygments_lexer": "ipython3",
   "version": "3.9.18"
  }
 },
 "nbformat": 4,
 "nbformat_minor": 4
}
