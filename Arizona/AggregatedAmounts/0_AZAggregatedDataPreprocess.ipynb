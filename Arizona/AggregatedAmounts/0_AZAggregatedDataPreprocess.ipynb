{
 "cells": [
  {
   "cell_type": "markdown",
   "metadata": {},
   "source": [
    "# Working with AZ Aggregated Data\n",
    "\n",
    "Pre-processing input data for a smoother upload experience of the state data to the WaDE 2.0 database.\n",
    "Using geopandas to read in shp file, and coverting to WKT for ReportingUnit geometry."
   ]
  },
  {
   "cell_type": "code",
   "execution_count": null,
   "metadata": {},
   "outputs": [],
   "source": [
    "#Needed Libararies\n",
    "import os\n",
    "import numpy as np\n",
    "import pandas as pd\n",
    "from datetime import datetime\n",
    "import geopandas as gpd # the library that lets us read in shapefiles\n",
    "pd.set_option('display.max_columns', 999)  # How to display all columns of a Pandas DataFrame in Jupyter Notebook"
   ]
  },
  {
   "cell_type": "code",
   "execution_count": null,
   "metadata": {},
   "outputs": [],
   "source": [
    "#Setting work directory, reading inputs, creating dataframe\n",
    "workingDir = \"C:/Users/rjame/Documents/WSWC Documents/MappingStatesDataToWaDE2.0/Arizona/AggregatedAmounts\"\n",
    "os.chdir(workingDir)\n",
    "\n",
    "#CSV input file\n",
    "fileInput = \"RawInputData/AMA Demand Supply from DW_use as input.xlsx\"\n",
    "df = pd.read_excel(fileInput)\n",
    "\n",
    "#Shapefile input\n",
    "AZ_AMA = gpd.read_file('C:/Users/rjame/Documents/WSWC Documents/MappingStatesDataToWaDE2.0/Arizona/AggregatedAmounts/RawInputData/AMA_and_INA-shp/AMA_and_INA.shp')\n",
    "dfshape = pd.DataFrame(AZ_AMA)"
   ]
  },
  {
   "cell_type": "code",
   "execution_count": null,
   "metadata": {},
   "outputs": [],
   "source": [
    "#check csv input\n",
    "df.head(3)"
   ]
  },
  {
   "cell_type": "code",
   "execution_count": null,
   "metadata": {},
   "outputs": [],
   "source": [
    "#check shp input\n",
    "dfshape.head(3)"
   ]
  },
  {
   "cell_type": "code",
   "execution_count": null,
   "metadata": {
    "scrolled": true
   },
   "outputs": [],
   "source": [
    "with pd.option_context('display.max_rows', None, 'display.max_columns', None):\n",
    "    print(df.dtypes)"
   ]
  },
  {
   "cell_type": "code",
   "execution_count": null,
   "metadata": {},
   "outputs": [],
   "source": [
    "# Build WaterSourceTypeCV using provdied ADWR water source dictionary.\n",
    "ADWRWaSoDict = {\n",
    "\"CAP\" : \"Surface Water\",\n",
    "\"CAP GSF\" : \"Surface Water\",\n",
    "\"Effluent\" : \"Effluent\",\n",
    "\"Groundwater\" : \"Groundwater\",\n",
    "\"GSF (CAP)\" : \"Surface Water\",\n",
    "\"GSF (Reclaimed Water)\" : \"Effluent\",\n",
    "\"Other\" : \"Surface Water\",\n",
    "\"Poor Quality GW\" : \"Groundwater\",\n",
    "\"Reclaimed Water\" : \"Effluent\",\n",
    "\"Recovered CAP\" : \"Surface Water\",\n",
    "\"Recovered Effluent\" : \"Effluent\",\n",
    "\"Recovered Reclaimed Water\" : \"Effluent\",\n",
    "\"Recovered Surface Water\" : \"Surface Water\",\n",
    "\"Remediation water\" : \"Groundwater\",\n",
    "\"Spill\" : \"Surface Water\",\n",
    "\"Surface water\" : \"Surface Water\",\n",
    "\"Water withdrawn from wells\" : \"Groundwater\",\n",
    "\"Weighted Exchange Reclaimed Water\" : \"Effluent\"\n",
    "}\n",
    "\n",
    "def createWSTypeCV(colrowValue):\n",
    "    if colrowValue == '' or pd.isnull(colrowValue):\n",
    "        outList = 'Unknown'\n",
    "    else:\n",
    "        String1 = colrowValue  # remove whitespace chars\n",
    "        try:\n",
    "            outList = ADWRWaSoDict[String1]\n",
    "        except:\n",
    "            outList = 'Unknown'\n",
    "    return outList\n",
    "\n",
    "df['inputWaterSourceTypeCV'] = df.apply(lambda row: createWSTypeCV(row['BUDGET ELEMENT']), axis=1)\n",
    "df"
   ]
  },
  {
   "cell_type": "code",
   "execution_count": null,
   "metadata": {},
   "outputs": [],
   "source": [
    "#Dropping Columns we don't need fields we don't need.\n",
    "df = df.drop(['PARENT WATER TYPE OR SECTOR', 'BUDGET ELEMENT'], axis=1)\n",
    "df"
   ]
  },
  {
   "cell_type": "code",
   "execution_count": null,
   "metadata": {},
   "outputs": [],
   "source": [
    "#Dropping rows of CATEGORY we don't need.  Only include 'Demand' & 'Supply'.\n",
    "df = df[(df.CATEGORY == 'Demand') | (df.CATEGORY == 'Supply')]\n",
    "df"
   ]
  },
  {
   "cell_type": "code",
   "execution_count": null,
   "metadata": {},
   "outputs": [],
   "source": [
    "#Group by and Sum the 'Quantity' field.\n",
    "df = df.groupby(['AMA','YEAR', 'SECTOR', 'CATEGORY', 'inputWaterSourceTypeCV'])['QUANTITY'].sum().reset_index()\n",
    "df"
   ]
  },
  {
   "cell_type": "code",
   "execution_count": null,
   "metadata": {},
   "outputs": [],
   "source": [
    "#transfer WKT gemetry from dfshape\n",
    "def retrieveGeometry(colrowValue, dfshape):\n",
    "    if (colrowValue == '') or (pd.isnull(colrowValue)):\n",
    "        outList = ''\n",
    "    else:\n",
    "        ml = dfshape.loc[(dfshape['BASIN_NAME'] == colrowValue), 'geometry']\n",
    "        if not(ml.empty):  # check if the series is empty\n",
    "            outList = ml.iloc[0]\n",
    "        else:\n",
    "            outList = ''\n",
    "    return outList\n",
    "\n",
    "df['Geometry'] = df.apply(lambda row: retrieveGeometry(row['AMA'], dfshape), axis=1)\n",
    "df"
   ]
  },
  {
   "cell_type": "code",
   "execution_count": null,
   "metadata": {},
   "outputs": [],
   "source": [
    "#Issue of lengthy geometry result exceeding the nvchar(250) limit of an excel cell.  Using xlsx file to check completness, and csv as input.\n",
    "\n",
    "# #Printing file to xlsx. Easier to manualky check a xlsx than a csv, but csv loads faster into WaDE system.\n",
    "# df.to_excel('RawInputData/P_AZagg.xlsx', index=False)\n",
    "\n",
    "#Printing file to xlsx\n",
    "df.to_csv('RawInputData/P_AZagg.csv', index=False)"
   ]
  },
  {
   "cell_type": "code",
   "execution_count": null,
   "metadata": {},
   "outputs": [],
   "source": []
  }
 ],
 "metadata": {
  "kernelspec": {
   "display_name": "Python 3",
   "language": "python",
   "name": "python3"
  },
  "language_info": {
   "codemirror_mode": {
    "name": "ipython",
    "version": 3
   },
   "file_extension": ".py",
   "mimetype": "text/x-python",
   "name": "python",
   "nbconvert_exporter": "python",
   "pygments_lexer": "ipython3",
   "version": "3.7.7"
  }
 },
 "nbformat": 4,
 "nbformat_minor": 4
}
