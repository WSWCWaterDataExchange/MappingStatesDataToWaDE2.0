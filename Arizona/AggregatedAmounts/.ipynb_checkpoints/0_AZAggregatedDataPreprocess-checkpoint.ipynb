{
 "cells": [
  {
   "cell_type": "markdown",
   "metadata": {},
   "source": [
    "# Working with AZ Aggregated Data\n",
    "\n",
    "Pre-processing input data for a smoother upload experience of the state data to the WaDE 2.0 database.\n",
    "Using geopandas to read in shp file, and coverting to WKT for ReportingUnit geometry."
   ]
  },
  {
   "cell_type": "code",
   "execution_count": null,
   "metadata": {},
   "outputs": [],
   "source": [
    "#Needed Libararies\n",
    "\n",
    "# working with data\n",
    "import os\n",
    "import numpy as np\n",
    "import pandas as pd\n",
    "import geopandas as gpd\n",
    "\n",
    "# visulizaiton\n",
    "import matplotlib.pyplot as plt\n",
    "import seaborn as sns\n",
    "\n",
    "# Cleanup\n",
    "from datetime import datetime\n",
    "pd.set_option('display.max_columns', 999)  # How to display all columns of a Pandas DataFrame in Jupyter Notebook"
   ]
  },
  {
   "cell_type": "code",
   "execution_count": null,
   "metadata": {},
   "outputs": [],
   "source": [
    "#Setting work directory, reading inputs, creating dataframe\n",
    "workingDir = \"G:/Shared drives/WaDE Data/Arizona/AggregatedAmounts/RawInputData\"\n",
    "os.chdir(workingDir)"
   ]
  },
  {
   "cell_type": "markdown",
   "metadata": {},
   "source": [
    "## Input Files"
   ]
  },
  {
   "cell_type": "code",
   "execution_count": null,
   "metadata": {},
   "outputs": [],
   "source": [
    "#CSV input file\n",
    "fileInput = \"AMA Demand Supply from DW_use as input.xlsx\"\n",
    "df = pd.read_excel(fileInput)\n",
    "print(len(df))\n",
    "df.head(1)"
   ]
  },
  {
   "cell_type": "code",
   "execution_count": null,
   "metadata": {},
   "outputs": [],
   "source": [
    "with pd.option_context('display.max_rows', None, 'display.max_columns', None):\n",
    "    print(df.dtypes)"
   ]
  },
  {
   "cell_type": "code",
   "execution_count": null,
   "metadata": {},
   "outputs": [],
   "source": [
    "# WaterSourceType.  Use the BUDGET ELEMENT Use to help determine this.\n",
    "\n",
    "listOfSurfaceWater = ['Surface Water', 'Surface water', \"Streambed\"]\n",
    "listOfGroundwater = ['Groundwater', 'Ground  Water', 'Well', 'well', 'Wells', 'well']\n",
    "listOfEffluent = ['Effluent', 'EFFLUENT']\n",
    "\n",
    "def defineWaterSourceType(colrowValue):\n",
    "    if colrowValue == '' or pd.isnull(colrowValue):\n",
    "        outString = 'Unspecified'\n",
    "    else:\n",
    "        try:\n",
    "            if any(word in colrowValue for word in listOfSurfaceWater):\n",
    "                outString = \"Surface Water\"\n",
    "            elif any(word in colrowValue for word in listOfGroundwater):\n",
    "                outString = \"Groundwater\"\n",
    "            elif any(word in colrowValue for word in listOfEffluent):\n",
    "                outString = \"Effluent\"\n",
    "            else:\n",
    "                outString = \"Unspecified\"\n",
    "        except:\n",
    "            outString = 'Unspecified'\n",
    "    return outString\n",
    "\n",
    "df['in_WaterSourceType'] = df.apply(lambda row: defineWaterSourceType(row['BUDGET ELEMENT']), axis=1)\n",
    "df['in_WaterSourceType'].unique()"
   ]
  },
  {
   "cell_type": "code",
   "execution_count": null,
   "metadata": {},
   "outputs": [],
   "source": [
    "#Dropping Columns we don't need fields we don't need.\n",
    "df = df.drop(['PARENT WATER TYPE OR SECTOR', 'BUDGET ELEMENT'], axis=1)\n",
    "df.head(1)"
   ]
  },
  {
   "cell_type": "code",
   "execution_count": null,
   "metadata": {},
   "outputs": [],
   "source": [
    "#Dropping rows of CATEGORY we don't need.  Only include 'Demand' & 'Supply'.\n",
    "df = df[(df.CATEGORY == 'Demand') | (df.CATEGORY == 'Supply')]\n",
    "print(len(df))\n",
    "df.head(1)"
   ]
  },
  {
   "cell_type": "code",
   "execution_count": null,
   "metadata": {},
   "outputs": [],
   "source": [
    "#Group by and Sum the 'Quantity' field.\n",
    "df = df.groupby(['AMA','YEAR', 'SECTOR', 'CATEGORY', 'in_WaterSourceType'])['QUANTITY'].sum().reset_index()\n",
    "print(len(df))\n",
    "df.head(1)"
   ]
  },
  {
   "cell_type": "code",
   "execution_count": null,
   "metadata": {},
   "outputs": [],
   "source": [
    "# TimeframeStart & TimeframeEnd\n",
    "\n",
    "df['in_TimeframeStart'] = '01/01/' + df['YEAR'].astype(str)\n",
    "df['in_TimeframeEnd'] = '12/31/' + df['YEAR'].astype(str)"
   ]
  },
  {
   "cell_type": "markdown",
   "metadata": {},
   "source": [
    "## WaDE Custom Elements (due to missing reporting unit and water source info)"
   ]
  },
  {
   "cell_type": "code",
   "execution_count": null,
   "metadata": {},
   "outputs": [],
   "source": [
    "# Creating VariableSpecific\n",
    "\n",
    "def createVariableSpecificCV(Cat, Sec, WST):\n",
    "    Cat = str(Cat).strip()\n",
    "    Sec = str(Sec).strip()\n",
    "    WST = str(WST).strip()\n",
    "    \n",
    "    outString = Cat + \"_Annual_\" +  Sec + \"_\" + WST\n",
    "    \n",
    "    return outString\n",
    "\n",
    "df['in_VariableSpecificCV'] = df.apply(lambda row: createVariableSpecificCV(row['CATEGORY'], row['SECTOR'], row['in_WaterSourceType']), axis=1)\n",
    "df['in_VariableSpecificCV'].unique()\n",
    "df['in_VariableSpecificCV'].unique()"
   ]
  },
  {
   "cell_type": "code",
   "execution_count": null,
   "metadata": {},
   "outputs": [],
   "source": [
    "# Creating WaDE Custom water source native ID for easy water source identification\n",
    "# ----------------------------------------------------------------------------------------------------\n",
    "\n",
    "# Create temp WaterSourceNativeID dataframe of unique water source.\n",
    "def assignWaterSourceNativeID(colrowValue):\n",
    "    string1 = str(colrowValue)\n",
    "    outstring = \"WaDEAZ_WS\" + string1\n",
    "    return outstring\n",
    "\n",
    "dfWaterSourceNativeID = pd.DataFrame()\n",
    "dfWaterSourceNativeID['in_WaterSourceType'] = df['in_WaterSourceType']\n",
    "dfWaterSourceNativeID = dfWaterSourceNativeID.drop_duplicates()\n",
    "\n",
    "dftemp = pd.DataFrame(index=dfWaterSourceNativeID.index)\n",
    "dftemp[\"Count\"] = range(1, len(dftemp.index) + 1)\n",
    "dfWaterSourceNativeID['in_WaterSourceNativeID'] = dftemp.apply(lambda row: assignWaterSourceNativeID(row['Count']), axis=1)\n",
    "\n",
    "# ----------------------------------------------------------------------------------------------------\n",
    "\n",
    "# Retreive WaDE Custom water source native ID\n",
    "def retrieveWaterSourceNativeID(A):\n",
    "    if (A == '') or (pd.isnull(A)):\n",
    "        outList = ''\n",
    "    else:\n",
    "        ml = dfWaterSourceNativeID.loc[(dfWaterSourceNativeID['in_WaterSourceType'] == A), 'in_WaterSourceNativeID']\n",
    "        if not (ml.empty):  # check if the series is empty\n",
    "            outList = ml.iloc[0]\n",
    "        else:\n",
    "            outList = ''\n",
    "    return outList\n",
    "\n",
    "df['in_WaterSourceNativeID'] = df.apply(lambda row: retrieveWaterSourceNativeID(row['in_WaterSourceType']), axis=1)\n",
    "df['in_WaterSourceNativeID'].unique()"
   ]
  },
  {
   "cell_type": "code",
   "execution_count": null,
   "metadata": {},
   "outputs": [],
   "source": [
    "# Creating WaDE Custom reportingunit native ID for easy site identificaiion\n",
    "# ----------------------------------------------------------------------------------------------------\n",
    "\n",
    "# Create temp ReportingUnitNativeID dataframe of unique reporting units.\n",
    "def assignReportingUnitNativeID(colrowValue):\n",
    "    string1 = str(colrowValue)\n",
    "    outstring = \"WaDEAZ_RU\" + string1\n",
    "    return outstring\n",
    "\n",
    "dfReportingUnitNativeID = pd.DataFrame()\n",
    "dfReportingUnitNativeID['in_ReportingUnitName'] = df['AMA']\n",
    "dfReportingUnitNativeID = dfReportingUnitNativeID.drop_duplicates()\n",
    "\n",
    "dftemp = pd.DataFrame(index=dfReportingUnitNativeID.index)\n",
    "dftemp[\"Count\"] = range(1, len(dftemp.index) + 1)\n",
    "dfReportingUnitNativeID['in_ReportingUnitNativeID'] = dftemp.apply(lambda row: assignReportingUnitNativeID(row['Count']), axis=1)\n",
    "\n",
    "# ----------------------------------------------------------------------------------------------------\n",
    "\n",
    "# Retreive WaDE Custom reportingunit native ID\n",
    "def retrieveReportingUnitNativeID(A):\n",
    "    if (A == '') or (pd.isnull(A)):\n",
    "        outList = ''\n",
    "    else:\n",
    "        ml = dfReportingUnitNativeID.loc[(dfReportingUnitNativeID['in_ReportingUnitName'] == A), 'in_ReportingUnitNativeID']\n",
    "        if not (ml.empty):  # check if the series is empty\n",
    "            outList = ml.iloc[0]\n",
    "        else:\n",
    "            outList = ''\n",
    "    return outList\n",
    "\n",
    "df['in_ReportingUnitNativeID'] = df.apply(lambda row: retrieveReportingUnitNativeID(row['AMA']), axis=1)\n",
    "df['in_ReportingUnitNativeID'].unique()"
   ]
  },
  {
   "cell_type": "code",
   "execution_count": null,
   "metadata": {},
   "outputs": [],
   "source": [
    "df['AMA'].unique()"
   ]
  },
  {
   "cell_type": "markdown",
   "metadata": {},
   "source": [
    "# Shapefile Data"
   ]
  },
  {
   "cell_type": "code",
   "execution_count": null,
   "metadata": {},
   "outputs": [],
   "source": [
    "# Shapefile input\n",
    "AZ_AMA = gpd.read_file('AMA_and_INA-shp/AMA_and_INA2.shp', crs=\"EPSG:4326\")\n",
    "dfshape = pd.DataFrame(AZ_AMA)\n",
    "print(len(dfshape))\n",
    "dfshape"
   ]
  },
  {
   "cell_type": "code",
   "execution_count": null,
   "metadata": {},
   "outputs": [],
   "source": [
    "#transfer WKT gemetry from dfshape\n",
    "def retrieveRUID(colrowValue, df):\n",
    "    ml = df.loc[(df['AMA'] == colrowValue), 'in_ReportingUnitNativeID']\n",
    "    if not(ml.empty):  # check if the series is empty\n",
    "        outList = ml.iloc[0]\n",
    "    else:\n",
    "        outList = ''\n",
    "    return outList\n",
    "\n",
    "dfshape['in_ReportingUnitNativeID'] = dfshape.apply(lambda row: retrieveRUID(row['BASIN_NAME'], df), axis=1)\n",
    "dfshape"
   ]
  },
  {
   "cell_type": "code",
   "execution_count": null,
   "metadata": {},
   "outputs": [],
   "source": [
    "# UT, Subarea\n",
    "# get name and geometry\n",
    "###########################################################################\n",
    "columnsList = ['in_ReportingUnitNativeID', 'geometry']\n",
    "dfgAZ = pd.DataFrame(columns=columnsList)\n",
    "dfgAZ['in_ReportingUnitNativeID'] = dfshape['in_ReportingUnitNativeID']\n",
    "dfgAZ['geometry'] = dfshape['geometry']\n",
    "dfgAZ = dfgAZ[dfgAZ['in_ReportingUnitNativeID'] != \"\"].reset_index(drop=True)\n",
    "dfgAZ"
   ]
  },
  {
   "cell_type": "code",
   "execution_count": null,
   "metadata": {},
   "outputs": [],
   "source": [
    "# Export out to CSV.\n",
    "df.to_csv('P_AZagg.csv', index=False) # The output.\n",
    "dfgAZ.to_csv('P_agGeometry.csv', index=False) # The output geometry."
   ]
  },
  {
   "cell_type": "code",
   "execution_count": null,
   "metadata": {},
   "outputs": [],
   "source": []
  }
 ],
 "metadata": {
  "kernelspec": {
   "display_name": "Python 3 (ipykernel)",
   "language": "python",
   "name": "python3"
  },
  "language_info": {
   "codemirror_mode": {
    "name": "ipython",
    "version": 3
   },
   "file_extension": ".py",
   "mimetype": "text/x-python",
   "name": "python",
   "nbconvert_exporter": "python",
   "pygments_lexer": "ipython3",
   "version": "3.9.13"
  }
 },
 "nbformat": 4,
 "nbformat_minor": 4
}
