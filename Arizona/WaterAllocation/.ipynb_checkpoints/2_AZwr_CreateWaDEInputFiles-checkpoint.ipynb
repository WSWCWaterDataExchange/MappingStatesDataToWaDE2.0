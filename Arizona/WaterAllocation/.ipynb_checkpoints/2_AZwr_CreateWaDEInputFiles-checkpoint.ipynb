{
 "cells": [
  {
   "cell_type": "markdown",
   "id": "091aecd3",
   "metadata": {},
   "source": [
    "# Create WaDE Uploader csv Files for Water Right Data\n",
    "- Last Updated: 07/21/2025\n",
    "- Purpose: To create necessary processed WaDE Uploader csv files for water right information."
   ]
  },
  {
   "cell_type": "code",
   "execution_count": 1,
   "id": "90b6067a",
   "metadata": {},
   "outputs": [],
   "source": [
    "# Needed Libraries / Modules\n",
    "import sys\n",
    "import os\n",
    "import numpy as np\n",
    "import pandas as pd\n",
    "\n",
    "## Custom Libraries\n",
    "sys.path.append(\"../../5_CustomFunctions/MappingFunctions\")\n",
    "import CreateWaterSourcesFile\n",
    "import CreateSitesFile\n",
    "import CreateAllocationsAmounts_factsFile\n",
    "import RemoveUnusedRecordsFile\n",
    "import CreatePODSiteToPOUSiteRelationshipsFile\n",
    "import JoinOverlayToSiteFile\n",
    "import AddCountyHUC8HUC12File"
   ]
  },
  {
   "cell_type": "markdown",
   "id": "22229554",
   "metadata": {},
   "source": [
    "## Input Data (make changes here)\n",
    " - create and add variables specific to the project here"
   ]
  },
  {
   "cell_type": "code",
   "execution_count": 2,
   "id": "da2aba5f",
   "metadata": {},
   "outputs": [
    {
     "name": "stdout",
     "output_type": "stream",
     "text": [
      "The working Directory is: G:/Shared drives/WaDE Data/WaDE Data Folder/Test/WaterAllocation\n"
     ]
    }
   ],
   "source": [
    "# ---- working directory ----\n",
    "workingDirString = \"G:/Shared drives/WaDE Data/WaDE Data Folder/Arizona/WaterAllocation\"  # set working directory folder string here\n",
    "os.chdir(workingDirString)\n",
    "print(f'The working Directory is:', workingDirString)\n",
    "\n",
    "# ---- Inputs ----\n",
    "varST = \"AZ\" # source organization or state abbreviation\n",
    "varUUIDType = \"wr\" # UUID data type abbreviation\n",
    "mainInputFile = \"RawinputData/Pwr_Main.zip\" # use processed zip file"
   ]
  },
  {
   "cell_type": "code",
   "execution_count": 3,
   "id": "53668df9-90d8-4f68-aa6a-c7114884fc08",
   "metadata": {},
   "outputs": [
    {
     "name": "stderr",
     "output_type": "stream",
     "text": [
      "C:\\Users\\rjame\\AppData\\Local\\Temp\\ipykernel_19620\\3430830664.py:2: DtypeWarning: Columns (4,7,25,37,40,46,62) have mixed types. Specify dtype option on import or set low_memory=False.\n",
      "  df = pd.read_csv(mainInputFile, compression='zip')\n"
     ]
    },
    {
     "name": "stdout",
     "output_type": "stream",
     "text": [
      "Total memory: 22286.80 MB\n"
     ]
    }
   ],
   "source": [
    "# ---- Read in mainInputFile csv file ----\n",
    "df = pd.read_csv(mainInputFile, compression='zip')\n",
    "print(f\"Total memory: {df.memory_usage(deep=True).sum() / 1024**2:.2f} MB\")"
   ]
  },
  {
   "cell_type": "code",
   "execution_count": 4,
   "id": "335f3ec2-966b-4d9c-9f31-03cb8a93669f",
   "metadata": {},
   "outputs": [
    {
     "name": "stdout",
     "output_type": "stream",
     "text": [
      "Total memory: 2830.62 MB\n"
     ]
    }
   ],
   "source": [
    "# ---- Optomize data types of mainInputFile csv file ----\n",
    "def optimize_dataframe(df):\n",
    "    for col in df.select_dtypes(include='int'):\n",
    "        if (df[col] >= 0).all():\n",
    "            df[col] = pd.to_numeric(df[col], downcast='unsigned')\n",
    "        else:\n",
    "            df[col] = pd.to_numeric(df[col], downcast='integer')\n",
    "\n",
    "    for col in df.select_dtypes(include='float'):\n",
    "        df[col] = pd.to_numeric(df[col], downcast='float')\n",
    "\n",
    "    for col in df.select_dtypes(include='object'):\n",
    "        num_unique_values = df[col].nunique()\n",
    "        num_total_values = len(df[col])\n",
    "        if num_unique_values / num_total_values < 0.5:\n",
    "            df[col] = df[col].astype('category')\n",
    "\n",
    "    return df\n",
    "\n",
    "df = optimize_dataframe(df)\n",
    "print(f\"Total memory: {df.memory_usage(deep=True).sum() / 1024**2:.2f} MB\")"
   ]
  },
  {
   "cell_type": "markdown",
   "id": "9ca3ea3e",
   "metadata": {},
   "source": [
    "## Create Water Right Input Files"
   ]
  },
  {
   "cell_type": "code",
   "execution_count": null,
   "id": "f373f87f",
   "metadata": {},
   "outputs": [],
   "source": [
    "# ---- Method (methods.csv) ----\n",
    "# Simple info, create by hand and save in ProcessedInputData folder."
   ]
  },
  {
   "cell_type": "code",
   "execution_count": null,
   "id": "d0292a0b",
   "metadata": {},
   "outputs": [],
   "source": [
    "# ---- Variable (variables.csv) ----\n",
    "# Simple info, create by hand and save in ProcessedInputData folder."
   ]
  },
  {
   "cell_type": "code",
   "execution_count": null,
   "id": "de98ab0f",
   "metadata": {},
   "outputs": [],
   "source": [
    "# ---- Organization (organizations.csv) ----\n",
    "# Simple info, create by hand and save in ProcessedInputData folder."
   ]
  },
  {
   "cell_type": "code",
   "execution_count": null,
   "id": "a96f088b",
   "metadata": {},
   "outputs": [],
   "source": [
    "# ---- Water Sources (watersources.csv) ----\n",
    "print(\"Creating Water Sources input csv...\")\n",
    "print(\"############################################################################\")\n",
    "CreateWaterSourcesFile.CreateWaterSourcesInputFunction(workingDirString, varST, varUUIDType, df)"
   ]
  },
  {
   "cell_type": "code",
   "execution_count": null,
   "id": "b6494c99",
   "metadata": {},
   "outputs": [],
   "source": [
    "# ---- Sites (sites.csv) ----\n",
    "print(\"Creating Sites input csv...\")\n",
    "print(\"############################################################################\")\n",
    "CreateSitesFile.CreateSitesInputFunction(workingDirString, varST, varUUIDType, df)"
   ]
  },
  {
   "cell_type": "code",
   "execution_count": 5,
   "id": "ffb1f358",
   "metadata": {
    "scrolled": true
   },
   "outputs": [
    {
     "name": "stdout",
     "output_type": "stream",
     "text": [
      "Creating AllocationsAmounts_facts input csv...\n",
      "############################################################################\n",
      "Setting inputs...\n",
      "Populating dataframe outdf...\n",
      "MethodUUID\n",
      "OrganizationUUID\n",
      "SiteUUID\n",
      "VariableSpecificUUID\n",
      "AllocationApplicationDate\n",
      "AllocationAssociatedConsumptiveUseSiteIDs\n",
      "AllocationAssociatedWithdrawalSiteIDs\n",
      "AllocationBasisCV\n",
      "AllocationChangeApplicationIndicator\n",
      "AllocationCommunityWaterSupplySystem\n",
      "AllocationCropDutyAmount\n",
      "AllocationExpirationDate\n",
      "AllocationFlow_CFS\n",
      "AllocationLegalStatusCV\n",
      "AllocationNativeID\n",
      "AllocationOwner\n",
      "AllocationPriorityDate\n",
      "AllocationSDWISIdentifierCV\n",
      "AllocationTimeframeEnd\n",
      "AllocationTimeframeStart\n",
      "AllocationTypeCV\n",
      "AllocationVolume_AF\n",
      "BeneficialUseCategory\n",
      "CommunityWaterSupplySystem\n",
      "CropTypeCV\n",
      "CustomerTypeCV\n",
      "DataPublicationDate\n",
      "DataPublicationDOI\n",
      "ExemptOfVolumeFlowPriority\n",
      "GeneratedPowerCapacityMW\n",
      "IrrigatedAcreage\n",
      "IrrigationMethodCV\n",
      "LegacyAllocationIDs\n",
      "OwnerClassificationCV\n",
      "PopulationServed\n",
      "PowerType\n",
      "PrimaryBeneficialUseCategory\n",
      "WaterAllocationNativeURL\n",
      "Adding Data Assessment UUID\n",
      "Resetting Index\n",
      "GroupBy outdf duplicates based on key fields...\n",
      "Solving WaDE 2.0 upload issues\n",
      "Error checking each field. Purging bad inputs.\n"
     ]
    },
    {
     "name": "stderr",
     "output_type": "stream",
     "text": [
      "C:\\Users\\rjame\\Documents\\WSWC Documents\\MappingStatesDataToWaDE2.0\\Arizona\\WaterAllocation\\../../5_CustomFunctions/ErrorCheckCode\\ErrorCheckCodeFunctionsFile.py:24: FutureWarning: The behavior of DataFrame concatenation with empty or all-NA entries is deprecated. In a future version, this will no longer exclude empty or all-NA columns when determining the result dtypes. To retain the old behavior, exclude the relevant entries before the concat operation.\n",
      "  dfy = pd.concat([dfy, mask]).reset_index(drop=True)\n",
      "C:\\Users\\rjame\\Documents\\WSWC Documents\\MappingStatesDataToWaDE2.0\\Arizona\\WaterAllocation\\../../5_CustomFunctions/ErrorCheckCode\\ErrorCheckCodeFunctionsFile.py:24: FutureWarning: The behavior of DataFrame concatenation with empty or all-NA entries is deprecated. In a future version, this will no longer exclude empty or all-NA columns when determining the result dtypes. To retain the old behavior, exclude the relevant entries before the concat operation.\n",
      "  dfy = pd.concat([dfy, mask]).reset_index(drop=True)\n",
      "C:\\Users\\rjame\\Documents\\WSWC Documents\\MappingStatesDataToWaDE2.0\\Arizona\\WaterAllocation\\../../5_CustomFunctions/ErrorCheckCode\\ErrorCheckCodeFunctionsFile.py:24: FutureWarning: The behavior of DataFrame concatenation with empty or all-NA entries is deprecated. In a future version, this will no longer exclude empty or all-NA columns when determining the result dtypes. To retain the old behavior, exclude the relevant entries before the concat operation.\n",
      "  dfy = pd.concat([dfy, mask]).reset_index(drop=True)\n",
      "C:\\Users\\rjame\\Documents\\WSWC Documents\\MappingStatesDataToWaDE2.0\\Arizona\\WaterAllocation\\../../5_CustomFunctions/ErrorCheckCode\\ErrorCheckCodeFunctionsFile.py:24: FutureWarning: The behavior of DataFrame concatenation with empty or all-NA entries is deprecated. In a future version, this will no longer exclude empty or all-NA columns when determining the result dtypes. To retain the old behavior, exclude the relevant entries before the concat operation.\n",
      "  dfy = pd.concat([dfy, mask]).reset_index(drop=True)\n",
      "C:\\Users\\rjame\\Documents\\WSWC Documents\\MappingStatesDataToWaDE2.0\\Arizona\\WaterAllocation\\../../5_CustomFunctions/ErrorCheckCode\\ErrorCheckCodeFunctionsFile.py:24: FutureWarning: The behavior of DataFrame concatenation with empty or all-NA entries is deprecated. In a future version, this will no longer exclude empty or all-NA columns when determining the result dtypes. To retain the old behavior, exclude the relevant entries before the concat operation.\n",
      "  dfy = pd.concat([dfy, mask]).reset_index(drop=True)\n",
      "C:\\Users\\rjame\\Documents\\WSWC Documents\\MappingStatesDataToWaDE2.0\\Arizona\\WaterAllocation\\../../5_CustomFunctions/ErrorCheckCode\\ErrorCheckCodeFunctionsFile.py:24: FutureWarning: The behavior of DataFrame concatenation with empty or all-NA entries is deprecated. In a future version, this will no longer exclude empty or all-NA columns when determining the result dtypes. To retain the old behavior, exclude the relevant entries before the concat operation.\n",
      "  dfy = pd.concat([dfy, mask]).reset_index(drop=True)\n"
     ]
    },
    {
     "name": "stdout",
     "output_type": "stream",
     "text": [
      "Length of outdf DataFrame:  287378\n",
      "Length of dfpurge DataFrame:  9271\n",
      "Assign AllocationUUID\n",
      "Cleaning export for correct data types...\n",
      "Exporting dataframe...\n",
      "... 9271  records removed.\n",
      "Done\n"
     ]
    }
   ],
   "source": [
    "# ---- Allocations Amounts (waterallocations.csv) ----\n",
    "print(\"Creating AllocationsAmounts_facts input csv...\")\n",
    "print(\"############################################################################\")\n",
    "CreateAllocationsAmounts_factsFile.CreateAllocationsAmounts_factsInputFunction(workingDirString, varST, varUUIDType, df)"
   ]
  },
  {
   "cell_type": "code",
   "execution_count": 6,
   "id": "a769f9b0",
   "metadata": {},
   "outputs": [
    {
     "name": "stdout",
     "output_type": "stream",
     "text": [
      "Remove unused Water Sources and Sites records not found within AllocationsAmounts_facts input csv...\n",
      "############################################################################\n",
      "Reading input csv...\n"
     ]
    },
    {
     "name": "stderr",
     "output_type": "stream",
     "text": [
      "C:\\Users\\rjame\\Documents\\WSWC Documents\\MappingStatesDataToWaDE2.0\\Arizona\\WaterAllocation\\../../5_CustomFunctions/MappingFunctions\\RemoveUnusedRecordsFile.py:26: DtypeWarning: Columns (17,38) have mixed types. Specify dtype option on import or set low_memory=False.\n",
      "  dfaa = pd.read_csv(\"ProcessedInputData/waterallocations.csv\").replace(np.nan, \"\")\n"
     ]
    },
    {
     "name": "stdout",
     "output_type": "stream",
     "text": [
      "Length of dfs before removing sites:  218730\n",
      "Length of dfs after removing sites:  218634\n",
      "Length of dfws before removing water sources:  20024\n",
      "Length of dfws after removing water sources:  18005\n",
      "no sa data to work for these wrs\n",
      "Export Files - watersource.csv, watersource_missing.csv, sites.csv, sites_missing.csv, waterallocations.csv, sitespecificamounts.csv\n",
      "Done\n"
     ]
    }
   ],
   "source": [
    "# ---- Remove unused records ----\n",
    "print(\"Remove unused Water Sources and Sites records not found within AllocationsAmounts_facts input csv...\")\n",
    "print(\"############################################################################\")\n",
    "RemoveUnusedRecordsFile.RemoveUnusedAllocationsAmountRecordsFileFunction(workingDirString)"
   ]
  },
  {
   "cell_type": "code",
   "execution_count": 7,
   "id": "777d5d20",
   "metadata": {},
   "outputs": [
    {
     "name": "stdout",
     "output_type": "stream",
     "text": [
      "Creating Pod site -to- Pou site relationships input csv...\n",
      "############################################################################\n",
      "Reading input csv...\n",
      "Populating dataframe...\n",
      "Exporting dataframe outdf to csv...\n",
      "Done\n"
     ]
    }
   ],
   "source": [
    "# ---- Create POD and POU joins (podsitetopousiterelationships.csv) ----\n",
    "print(\"Creating Pod site -to- Pou site relationships input csv...\")\n",
    "print(\"############################################################################\")\n",
    "CreatePODSiteToPOUSiteRelationshipsFile.PODToPOUWaterRightRelationshipsFunction(workingDirString)"
   ]
  },
  {
   "cell_type": "code",
   "execution_count": 8,
   "id": "db0d3804",
   "metadata": {},
   "outputs": [
    {
     "name": "stdout",
     "output_type": "stream",
     "text": [
      "Joining OverlayUUIDs to Sites input csv if exists...\n",
      "############################################################################\n",
      "Checking for available Overlays data / project...\n",
      "- WARNING: No Overlays data / project to work from\n",
      "Done\n"
     ]
    }
   ],
   "source": [
    "# ---- Join OverlayUUIDs for Sites (Sites.csv update) ----\n",
    "print(\"Joining OverlayUUIDs to Sites input csv if exists...\")\n",
    "print(\"############################################################################\")\n",
    "JoinOverlayToSiteFile.JoinOverlayToSiteFunction(workingDirString)"
   ]
  },
  {
   "cell_type": "code",
   "execution_count": 9,
   "id": "4fb27c44-f869-4a3f-8ac2-04c51c949769",
   "metadata": {},
   "outputs": [
    {
     "name": "stdout",
     "output_type": "stream",
     "text": [
      "Add misinsg County, HUC8, HUC12 information if mising...\n",
      "############################################################################\n",
      "Checking for available shapefiles data / project...\n",
      "Reading input files(s)...\n",
      "Checking for missing County information....\n",
      "Checking for missing HUC8 information....\n",
      "Checking for missing HUC12 information....\n",
      "Done\n"
     ]
    }
   ],
   "source": [
    "# ---- Add missing County, HUC8, HUC12 information for Sites (Sites.csv update) ----\n",
    "print(\"Add misinsg County, HUC8, HUC12 information if mising...\")\n",
    "print(\"############################################################################\")\n",
    "AddCountyHUC8HUC12File.AddCountyHUC8HUC12Function(workingDirString)"
   ]
  },
  {
   "cell_type": "code",
   "execution_count": null,
   "id": "ca1cb5de-26c6-419a-9f6b-10e93fe3bd60",
   "metadata": {},
   "outputs": [],
   "source": []
  }
 ],
 "metadata": {
  "kernelspec": {
   "display_name": "Python 3 (ipykernel)",
   "language": "python",
   "name": "python3"
  },
  "language_info": {
   "codemirror_mode": {
    "name": "ipython",
    "version": 3
   },
   "file_extension": ".py",
   "mimetype": "text/x-python",
   "name": "python",
   "nbconvert_exporter": "python",
   "pygments_lexer": "ipython3",
   "version": "3.12.3"
  }
 },
 "nbformat": 4,
 "nbformat_minor": 5
}
