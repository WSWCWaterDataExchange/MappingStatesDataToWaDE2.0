{
 "cells": [
  {
   "cell_type": "markdown",
   "metadata": {},
   "source": [
    "# Pre-processing (state / organization Name) Allocation data for WaDE upload.\n",
    "- Purpose:  To pre-process the data into one main file for simple DataFrame creation and extraction"
   ]
  },
  {
   "cell_type": "code",
   "execution_count": null,
   "metadata": {},
   "outputs": [],
   "source": [
    "# Needed Libraries / Modules\n",
    "\n",
    "# ---- working with data ----\n",
    "import os  # native operating system interaction\n",
    "import numpy as np  # mathematical array manipulation\n",
    "import pandas as pd  # data structure and data analysis\n",
    "import geopandas as gpd  # geo-data structure and data analysis\n",
    "\n",
    "# ---- visualization ----\n",
    "import matplotlib.pyplot as plt  # plotting library\n",
    "import seaborn as sns  # plotting library\n",
    "\n",
    "# ---- API data retrieval ----\n",
    "import requests  # http requests\n",
    "import json  # JSON parse\n",
    "\n",
    "# ---- Cleanup ----\n",
    "import re  # string regular expression manipulation\n",
    "from datetime import datetime  # date and time manipulation\n",
    "pd.set_option('display.max_columns', 999)  # How to display all columns of a Pandas DataFrame in Jupyter Notebook\n",
    "pd.set_option('display.float_format', lambda x: '%.5f' % x)  # suppress scientific notation in Pandas"
   ]
  },
  {
   "cell_type": "code",
   "execution_count": null,
   "metadata": {},
   "outputs": [],
   "source": [
    "# ---- working directory ----\n",
    "workingDirString = \"G:/Shared drives/WaDE Data/Arizona/WaterAllocation\" # set working directory folder string here\n",
    "os.chdir(workingDirString)\n",
    "print(f'The working Directory is:', workingDirString)"
   ]
  },
  {
   "cell_type": "markdown",
   "metadata": {},
   "source": [
    "## Input Data"
   ]
  },
  {
   "cell_type": "code",
   "execution_count": null,
   "metadata": {},
   "outputs": [],
   "source": [
    "# Input File - all SW QUERY BY SURFACE WATERSHEDS csv files\n",
    "\n",
    "# use glob to get all the csv files in the folder \n",
    "import glob \n",
    "path = \"RawInputData/SW QUERY BY SURFACE WATERSHEDS/\"\n",
    "csv_files = glob.glob(os.path.join(path, \"*.zip\"))\n",
    "\n",
    "# loop over the list of csv files\n",
    "dfin1 = pd.DataFrame()\n",
    "for f in csv_files:  \n",
    "    # read the csv file\n",
    "    dftemp = pd.read_csv(f).replace(np.nan, \"\")\n",
    "    dfin1 = pd.concat([dfin1, dftemp]) \n",
    "\n",
    "dfin1['WaDEUUID'] = \"azSW\" + dfin1.index.astype(str)\n",
    "\n",
    "print(len(dfin1))\n",
    "dfin1.head(1)"
   ]
  },
  {
   "cell_type": "code",
   "execution_count": null,
   "metadata": {},
   "outputs": [],
   "source": [
    "# Input File - Filing_POD shp file, for sw\n",
    "inputFile = \"RawInputData/Filing_POD.zip\"\n",
    "df_FPOD = gpd.read_file(inputFile).replace(np.nan, \"\")\n",
    "\n",
    "df_FPOD['geometry'] = df_FPOD['geometry'].to_crs(epsg=4326) # Realign Geometry Projection\n",
    "df_FPOD[\"wade_lattitude\"] = df_FPOD.centroid.y.round(5)\n",
    "df_FPOD[\"wade_longitude\"] = df_FPOD.centroid.x.round(5)\n",
    "print(len(df_FPOD))\n",
    "df_FPOD.head(1)"
   ]
  },
  {
   "cell_type": "code",
   "execution_count": null,
   "metadata": {},
   "outputs": [],
   "source": [
    "# Input File - Filing_POU shp file, for sw\n",
    "inputFile = \"RawInputData/Filing_POU.zip\"\n",
    "df_FPOU = gpd.read_file(inputFile).replace(np.nan, \"\")\n",
    "\n",
    "df_FPOU = df_FPOU[df_FPOU['X_UTMNAD83'] != 0.00000].reset_index(drop=True)\n",
    "\n",
    "df_FPOU['geometry'] = df_FPOU['geometry'].to_crs(epsg=4326) # Realign Geometry Projection\n",
    "df_FPOU[\"wade_lattitude\"] = df_FPOU.centroid.y.round(5)\n",
    "df_FPOU[\"wade_longitude\"] = df_FPOU.centroid.x.round(5)\n",
    "print(len(df_FPOU))\n",
    "df_FPOU.head(1)"
   ]
  },
  {
   "cell_type": "code",
   "execution_count": null,
   "metadata": {},
   "outputs": [],
   "source": [
    "# merge POD and POU shp files together for single dataframe\n",
    "df_fill = pd.concat([df_FPOD, df_FPOU])\n",
    "df_fill = df_fill.drop_duplicates().reset_index(drop=True).replace(np.nan, \"\")\n",
    "print(len(df_fill))\n",
    "df_fill.head(1)"
   ]
  },
  {
   "cell_type": "code",
   "execution_count": null,
   "metadata": {},
   "outputs": [],
   "source": [
    "# Input File - Well_Registry, for gw\n",
    "inputFile = \"RawInputData/Well_Registry.zip\"\n",
    "dfin2 = gpd.read_file(inputFile).replace(np.nan, \"\")\n",
    "\n",
    "dfin2['geometry'] = dfin2['geometry'].to_crs(epsg=4326) # Realign Geometry Projection\n",
    "dfin2[\"wade_lattitude\"] = dfin2.centroid.y.round(5)\n",
    "dfin2[\"wade_longitude\"] = dfin2.centroid.x.round(5)\n",
    "\n",
    "dfin2['WaDEUUID'] = \"azGW\" + dfin2.index.astype(str)\n",
    "\n",
    "print(len(dfin2))\n",
    "dfin2.head(1)"
   ]
  },
  {
   "cell_type": "markdown",
   "metadata": {},
   "source": [
    "## Surface Water Data (POD & POU)"
   ]
  },
  {
   "cell_type": "code",
   "execution_count": null,
   "metadata": {},
   "outputs": [],
   "source": [
    "# Merge Surface Water Query by Watershed water records with Filling.\n",
    "dfin1 = pd.merge(dfin1, df_fill[['FILENO', 'CADASTRAL', 'wade_lattitude', 'wade_longitude', 'POU_POD']], left_on='REG. NO', right_on='FILENO', how='left')\n",
    "print(len(dfin1))\n",
    "dfin1.head(1)"
   ]
  },
  {
   "cell_type": "code",
   "execution_count": null,
   "metadata": {},
   "outputs": [],
   "source": [
    "# fixing 'REG. NO' format to match 'FILNO' in FILINGS shp file.\n",
    "\n",
    "def fixREGNO(val):\n",
    "   \n",
    "    ### first fix\n",
    "    # Create testVal to search for length, split on '-' & '.'\n",
    "    testVal = str(val).strip()\n",
    "    sep1 = '-'\n",
    "    testVal = testVal.split(sep1, 1)[1]\n",
    "    sep2 = '.'\n",
    "    testVal = testVal.split(sep2, 1)[0]\n",
    "    \n",
    "    # inerst new text into 'val' based on 'testVal' length.\n",
    "    if len(testVal) == 2:\n",
    "        val = val.replace(\"-\", \"-0000\")\n",
    "    if len(testVal) == 3:\n",
    "        val = val.replace(\"-\", \"-000\")\n",
    "    if len(testVal) == 4:\n",
    "        val = val.replace(\"-\", \"-00\")\n",
    "    if len(testVal) == 5:\n",
    "        val = val.replace(\"-\", \"-0\")\n",
    "        \n",
    "        \n",
    "    ### second fix\n",
    "    # Create testVal to search for length, split on '.' at the end\n",
    "    testVal = str(val).strip()\n",
    "    sep1 = '.'\n",
    "    testVal = testVal.split(sep1, 1)[1]\n",
    "    \n",
    "    # inerst new text into 'val' based on 'testVal' length.\n",
    "    if len(testVal) == 1:\n",
    "        val = val.replace(\".\", \".00\" + testVal)\n",
    "    if len(testVal) == 2:\n",
    "        val = val.replace(\".\", \".0\" + testVal)   \n",
    "    \n",
    "    return val\n",
    "\n",
    "dfin1['REG. NO'] = dfin1.apply(lambda row: fixREGNO(row['REG. NO']), axis=1)\n",
    "exList = dfin1['REG. NO'].unique().tolist()\n",
    "exList.sort()\n",
    "for x in exList:\n",
    "    print(x)"
   ]
  },
  {
   "cell_type": "code",
   "execution_count": null,
   "metadata": {},
   "outputs": [],
   "source": [
    "# Split 'QUANTITY' into 'Amount' and 'UNIT'\n",
    "dfin1[['Amount', 'Unit']] = dfin1.QUANTITY.str.split(\"  \", expand = True)\n",
    "dfin1['Amount'] = pd.to_numeric(dfin1['Amount'], errors='coerce').fillna(0).astype(float) # make sure this is numeric.\n",
    "dfin1.head(1)"
   ]
  },
  {
   "cell_type": "code",
   "execution_count": null,
   "metadata": {},
   "outputs": [],
   "source": [
    "# temp fix - remove recods with these 'Units'\n",
    "# AZ not provding us with metadata for these.\n",
    "dropList = ['ACRES',\n",
    "            'Amount Required for Maintenance',\n",
    "            'Feet',\n",
    "            'MIT - Miners Inches Total',\n",
    "            'Miners Inches Per Annum', \n",
    "            'XX - Unknown Code at Load time',\n",
    "            'None',\n",
    "            '',\n",
    "            \" \"]\n",
    "\n",
    "dfin1 = dfin1[~dfin1['Unit'].isin(dropList)]\n",
    "print(len(dfin1))\n",
    "dfin1.head(1)"
   ]
  },
  {
   "cell_type": "code",
   "execution_count": null,
   "metadata": {},
   "outputs": [],
   "source": [
    "# convert all flow values to CFS\n",
    "def convertFlowFunc(val, unit):\n",
    "    CFS_Value = None\n",
    "    if unit == \"Cubic Feet Per Second\":\n",
    "        CFS_Value = val\n",
    "    if unit == \"Acre-Feet Per Annum\":\n",
    "        CFS_Value = val / (723.968)\n",
    "    if unit == \"Gallons Per Annum\":\n",
    "        CFS_Value = val / (235905662.34)\n",
    "    else:\n",
    "        CFS_Value = 0.0\n",
    "    return(CFS_Value)\n",
    "\n",
    "dfin1['CFS_Value'] = dfin1.apply(lambda row: convertFlowFunc(row['Amount'], row['Unit']), axis=1)\n",
    "dfin1['CFS_Value'].unique()"
   ]
  },
  {
   "cell_type": "code",
   "execution_count": null,
   "metadata": {},
   "outputs": [],
   "source": [
    "# convert all volume values to AF\n",
    "def convertVolumeFunc(val, unit):\n",
    "    AF_Value = None\n",
    "    if unit == 'Acre-Feet':\n",
    "        AF_Value = val\n",
    "    if unit == 'Acre-Feet Total':\n",
    "        AF_Value = val\n",
    "    if unit == \"CFT - Cubic Feet Total\":\n",
    "        AF_Value = val / (43559.9)\n",
    "    if unit == 'Gallons':\n",
    "        AF_Value = val / (325850.943)\n",
    "    else:\n",
    "        AF_Value = 0.0\n",
    "    return(AF_Value)\n",
    "\n",
    "dfin1['AF_Value'] = dfin1.apply(lambda row: convertVolumeFunc(row['Amount'], row['Unit']), axis=1)\n",
    "dfin1['AF_Value'].unique()"
   ]
  },
  {
   "cell_type": "code",
   "execution_count": null,
   "metadata": {},
   "outputs": [],
   "source": [
    "dfin1.head(1)"
   ]
  },
  {
   "cell_type": "code",
   "execution_count": null,
   "metadata": {},
   "outputs": [],
   "source": [
    "# create output POD dataframe\n",
    "df = pd.DataFrame()\n",
    "\n",
    "# Data Assessment UUID\n",
    "df['WaDEUUID'] = dfin1['WaDEUUID']\n",
    "\n",
    "# Method Info\n",
    "df['in_MethodUUID'] = \"AZwr_M2\" # for surface water\n",
    "\n",
    "# Variable Info\n",
    "df['in_VariableSpecificUUID'] = \"AZwr_V1\"\n",
    "\n",
    "# Organization Info\n",
    "df['in_OrganizationUUID'] = \"AZwr_O1\"\n",
    "\n",
    "# WaterSource Info\n",
    "df['in_Geometry'] = \"\"\n",
    "df['in_GNISFeatureNameCV'] = \"\"\n",
    "df['in_WaterQualityIndicatorCV'] = \"\"\n",
    "df['in_WaterSourceName'] = \"\"\n",
    "df['in_WaterSourceNativeID'] = \"\" # create customID for temp solution\n",
    "df['in_WaterSourceTypeCV'] = \"Surface Water\"\n",
    "\n",
    "# Site Info\n",
    "df['in_CoordinateAccuracy'] = \"\"\n",
    "df['in_CoordinateMethodCV'] = \"WaDE Blank\"\n",
    "df['in_County'] = dfin1['COUNTY']\n",
    "df['in_EPSGCodeCV'] = 4326\n",
    "df['in_Geometry'] = \"\"\n",
    "df['in_GNISCodeCV'] = \"\"\n",
    "df['in_HUC12'] = \"\"\n",
    "df['in_HUC8'] = \"\"\n",
    "df['in_Latitude'] = dfin1['wade_lattitude']\n",
    "df['in_Longitude'] = dfin1['wade_longitude']\n",
    "df['in_NHDNetworkStatusCV'] = \"\"\n",
    "df['in_NHDProductCV'] = \"\"\n",
    "df['in_PODorPOUSite'] = dfin1['POU_POD']\n",
    "df['in_SiteName'] = \"\"\n",
    "df['in_SiteNativeID'] = dfin1['POU_POD'].str.strip() + dfin1['CADASTRAL'].replace(\"\", 0).fillna(0).astype(str)\n",
    "df['in_SitePoint'] = \"\"\n",
    "df['in_SiteTypeCV'] = \"\"\n",
    "df['in_StateCV'] = \"AZ\"\n",
    "df['in_USGSSiteID'] = \"\"\n",
    "\n",
    "# AllocationAmount Info\n",
    "df['in_AllocationApplicationDate'] = \"\"\n",
    "df['in_AllocationAssociatedConsumptiveUseSiteIDs'] = \"\"\n",
    "df['in_AllocationAssociatedWithdrawalSiteIDs'] = \"\"\n",
    "df['in_AllocationBasisCV'] = \"\"\n",
    "df['in_AllocationChangeApplicationIndicator'] = \"\"\n",
    "df['in_AllocationCommunityWaterSupplySystem'] = \"\"\n",
    "df['in_AllocationCropDutyAmount'] = \"\"\n",
    "df['in_AllocationExpirationDate'] = \"\"\n",
    "df['in_AllocationFlow_CFS'] = dfin1['CFS_Value'].astype(float) # see above for conversion\n",
    "df['in_AllocationLegalStatusCV'] = dfin1['STATUS']\n",
    "df['in_AllocationNativeID'] =  dfin1['REG. NO'].replace(\"\", 0).fillna(0).astype(str)\n",
    "df['in_AllocationOwner'] = dfin1['NAME']\n",
    "df['in_AllocationPriorityDate'] = dfin1['PRIOR DATE']\n",
    "df['in_AllocationSDWISIdentifierCV'] = \"\"\n",
    "df['in_AllocationTimeframeEnd'] = \"12/31\"\n",
    "df['in_AllocationTimeframeStart'] = \"01/01\"\n",
    "df['in_AllocationTypeCV'] = \"\"\n",
    "df['in_AllocationVolume_AF'] = dfin1['AF_Value'].astype(float) # see above for conversion\n",
    "df['in_BeneficialUseCategory'] = dfin1['WATER USE'].str.title()\n",
    "df['in_CommunityWaterSupplySystem'] = \"\"\n",
    "df['in_CropTypeCV'] = \"\"\n",
    "df['in_CustomerTypeCV'] = \"\"\n",
    "df['in_DataPublicationDate'] = \"\"\n",
    "df['in_DataPublicationDOI'] = \"\"\n",
    "df['in_ExemptOfVolumeFlowPriority'] = 0 # we want these sw records to be as normal\n",
    "df['in_GeneratedPowerCapacityMW'] = \"\"\n",
    "df['in_IrrigatedAcreage'] = \"\"\n",
    "df['in_IrrigationMethodCV'] = \"\"\n",
    "df['in_LegacyAllocationIDs'] = \"\"\n",
    "df['in_OwnerClassificationCV'] = \"\"\n",
    "df['in_PopulationServed'] = \"\"\n",
    "df['in_PowerType'] = \"\"\n",
    "df['in_PrimaryBeneficialUseCategory'] = \"\"\n",
    "df['in_SDWISIdentifierCV'] = \"\"\n",
    "df['in_WaterAllocationNativeURL'] = \"\"\n",
    "\n",
    "dfswOut = df.copy()\n",
    "dfswOut = dfswOut.drop_duplicates().reset_index(drop=True)\n",
    "print(len(dfswOut))\n",
    "dfswOut.head()"
   ]
  },
  {
   "cell_type": "markdown",
   "metadata": {},
   "source": [
    "## Groundwater Data (POD)"
   ]
  },
  {
   "cell_type": "code",
   "execution_count": null,
   "metadata": {},
   "outputs": [],
   "source": [
    "# create WaDE Registration Number\t\n",
    "dfin2['wade_RegistrationN'] = dfin2['PROGRAM'].astype(str) + \"-\" + dfin2['REGISTRY_I'].astype(str)\n",
    "\n",
    "exList = dfin2['wade_RegistrationN'].unique().tolist()\n",
    "exList.sort()\n",
    "for x in exList:\n",
    "    print(x)"
   ]
  },
  {
   "cell_type": "code",
   "execution_count": null,
   "metadata": {},
   "outputs": [],
   "source": [
    "# AZwr Groundwater PUMPRATE is in GPM, need to convert to CFS\n",
    "# 448.8 CFS = 1 GPM\n",
    "\n",
    "# Clean owner name up\n",
    "def ConvertGPMToCFSFunc(Val):\n",
    "    Val = Val / 448.8 \n",
    "    return Val\n",
    "\n",
    "dfin2['PUMPRATE'] = dfin2.apply(lambda row: ConvertGPMToCFSFunc(row['PUMPRATE']), axis=1)\n",
    "dfin2['PUMPRATE'].unique()"
   ]
  },
  {
   "cell_type": "code",
   "execution_count": null,
   "metadata": {},
   "outputs": [],
   "source": [
    "dfin2.head(1)"
   ]
  },
  {
   "cell_type": "code",
   "execution_count": null,
   "metadata": {},
   "outputs": [],
   "source": [
    "# create output POD dataframe\n",
    "df = pd.DataFrame()\n",
    "\n",
    "# Data Assessment UUID\n",
    "df['WaDEUUID'] = dfin2['WaDEUUID']\n",
    "\n",
    "# Method Info\n",
    "df['in_MethodUUID'] = \"AZwr_M1\" # for goundwater\n",
    "\n",
    "# Variable Info\n",
    "df['in_VariableSpecificUUID'] =  \"AZwr_V1\"\n",
    "\n",
    "# Organization Info\n",
    "df['in_OrganizationUUID'] = \"AZwr_O1\"\n",
    "\n",
    "# WaterSource Info\n",
    "df['in_Geometry'] = \"\"\n",
    "df['in_GNISFeatureNameCV'] = \"\"\n",
    "df['in_WaterQualityIndicatorCV'] = \"\"\n",
    "df['in_WaterSourceName'] = \"\"\n",
    "df['in_WaterSourceNativeID'] = \"\" # create customID for temp solution\n",
    "df['in_WaterSourceTypeCV'] = \"Groundwater\"\n",
    "\n",
    "# Site Info\n",
    "df['in_CoordinateAccuracy'] = \"\"\n",
    "df['in_CoordinateMethodCV'] = \"WaDE Blank\"\n",
    "df['in_County'] = dfin2['COUNTY']\n",
    "df['in_EPSGCodeCV'] = 4326\n",
    "df['in_Geometry'] = \"\"\n",
    "df['in_GNISCodeCV'] = \"\"\n",
    "df['in_HUC12'] = \"\"\n",
    "df['in_HUC8'] = \"\"\n",
    "df['in_Latitude'] = dfin2['wade_lattitude']\n",
    "df['in_Longitude'] = dfin2['wade_longitude']\n",
    "df['in_NHDNetworkStatusCV'] = \"\"\n",
    "df['in_NHDProductCV'] = \"\"\n",
    "df['in_PODorPOUSite'] = \"POD\"\n",
    "df['in_SiteName'] = \"\"\n",
    "df['in_SiteNativeID'] = \"POD\" + dfin2['CADASTRAL'].replace(\"\", 0).fillna(0).astype(str)\n",
    "df['in_SitePoint'] = \"\"\n",
    "df['in_SiteTypeCV'] = \"Well\" # these should all be well records\n",
    "df['in_StateCV'] = \"AZ\"\n",
    "df['in_USGSSiteID'] = \"\"\n",
    "\n",
    "# AllocationAmount Info\n",
    "df['in_AllocationApplicationDate'] = \"\"\n",
    "df['in_AllocationAssociatedConsumptiveUseSiteIDs'] = \"\"\n",
    "df['in_AllocationAssociatedWithdrawalSiteIDs'] = \"\"\n",
    "df['in_AllocationBasisCV'] = \"\"\n",
    "df['in_AllocationChangeApplicationIndicator'] = \"\"\n",
    "df['in_AllocationCommunityWaterSupplySystem'] = \"\"\n",
    "df['in_AllocationCropDutyAmount'] = \"\"\n",
    "df['in_AllocationExpirationDate'] = \"\"\n",
    "df['in_AllocationFlow_CFS'] = dfin2['PUMPRATE'].astype(float)\n",
    "df['in_AllocationLegalStatusCV'] = \"\"\n",
    "df['in_AllocationNativeID'] =  dfin2['wade_RegistrationN'] # see above for creation\n",
    "df['in_AllocationOwner'] = dfin2['OWNER_NAME']\n",
    "df['in_AllocationPriorityDate'] = \"\"\n",
    "df['in_AllocationSDWISIdentifierCV'] = \"\"\n",
    "df['in_AllocationTimeframeEnd'] = \"12/31\"\n",
    "df['in_AllocationTimeframeStart'] = \"01/01\"\n",
    "df['in_AllocationTypeCV'] = \"\"\n",
    "df['in_AllocationVolume_AF'] = \"\"\n",
    "df['in_BeneficialUseCategory'] = dfin2['WATER_USE']\n",
    "df['in_CommunityWaterSupplySystem'] = \"\"\n",
    "df['in_CropTypeCV'] = \"\"\n",
    "df['in_CustomerTypeCV'] = \"\"\n",
    "df['in_DataPublicationDate'] = \"\"\n",
    "df['in_DataPublicationDOI'] = \"\"\n",
    "df['in_ExemptOfVolumeFlowPriority'] = 1 # all these gw records should be considered exempt for us.\n",
    "df['in_GeneratedPowerCapacityMW'] = \"\"\n",
    "df['in_IrrigatedAcreage'] = \"\"\n",
    "df['in_IrrigationMethodCV'] = \"\"\n",
    "df['in_LegacyAllocationIDs'] = \"\"\n",
    "df['in_OwnerClassificationCV'] = \"\"\n",
    "df['in_PopulationServed'] = \"\"\n",
    "df['in_PowerType'] = \"\"\n",
    "df['in_PrimaryBeneficialUseCategory'] = \"\"\n",
    "df['in_SDWISIdentifierCV'] = \"\"\n",
    "df['in_WaterAllocationNativeURL'] = \"https://app.azwater.gov/WellRegistry/Detail.aspx?RegID=?\" + dfin2['REGISTRY_I'].replace(\"\", 0).fillna(0).astype(int).astype(str)\n",
    "\n",
    "\n",
    "dfgwOut = df.copy()\n",
    "dfgwOut = dfgwOut.drop_duplicates().reset_index(drop=True)\n",
    "print(len(dfgwOut))\n",
    "dfgwOut.head()"
   ]
  },
  {
   "cell_type": "markdown",
   "metadata": {},
   "source": [
    "## Concatenate POD and POU Data.  Make needed changes"
   ]
  },
  {
   "cell_type": "code",
   "execution_count": null,
   "metadata": {},
   "outputs": [],
   "source": [
    "# Concatenate dataframes\n",
    "frames = [dfswOut, dfgwOut]  # list all out dataframes here\n",
    "outdf = pd.concat(frames)\n",
    "outdf = outdf.drop_duplicates().reset_index(drop=True).replace(np.nan, \"\")\n",
    "print(len(outdf))"
   ]
  },
  {
   "cell_type": "markdown",
   "metadata": {},
   "source": [
    "## Clean Data / data types"
   ]
  },
  {
   "cell_type": "code",
   "execution_count": null,
   "metadata": {},
   "outputs": [],
   "source": [
    "# Clean name entries of spcial characters\n",
    "def removeSpecialCharsFunc(Val):\n",
    "    Val = str(Val)\n",
    "    Val = re.sub(\"[$@&.;/\\)(-]\", \"\", Val).title().replace(\"  \", \" \").strip().rstrip(',')\n",
    "    return Val"
   ]
  },
  {
   "cell_type": "code",
   "execution_count": null,
   "metadata": {},
   "outputs": [],
   "source": [
    "outdf['in_WaterSourceName'] = outdf.apply(lambda row: removeSpecialCharsFunc(row['in_WaterSourceName']), axis=1)\n",
    "outdf['in_WaterSourceName'].unique()"
   ]
  },
  {
   "cell_type": "code",
   "execution_count": null,
   "metadata": {},
   "outputs": [],
   "source": [
    "outdf['in_County'] = outdf.apply(lambda row: removeSpecialCharsFunc(row['in_County']), axis=1)\n",
    "outdf['in_County'].unique()"
   ]
  },
  {
   "cell_type": "code",
   "execution_count": null,
   "metadata": {},
   "outputs": [],
   "source": [
    "outdf['in_SiteName'] = outdf.apply(lambda row: removeSpecialCharsFunc(row['in_SiteName']), axis=1)\n",
    "outdf['in_SiteName'].unique()"
   ]
  },
  {
   "cell_type": "code",
   "execution_count": null,
   "metadata": {},
   "outputs": [],
   "source": [
    "outdf['in_AllocationOwner'] = outdf.apply(lambda row: removeSpecialCharsFunc(row['in_AllocationOwner']), axis=1)\n",
    "outdf['in_AllocationOwner'].unique()"
   ]
  },
  {
   "cell_type": "code",
   "execution_count": null,
   "metadata": {},
   "outputs": [],
   "source": [
    "# Ensure Empty String / remove string value of \"nan\"\n",
    "\n",
    "def ensureEmptyString(val):\n",
    "    val = str(val).strip()\n",
    "    if val == \"\" or val == \" \" or val == \"nan\" or pd.isnull(val):\n",
    "        outString = \"\"\n",
    "    else:\n",
    "        outString = val\n",
    "    return outString"
   ]
  },
  {
   "cell_type": "code",
   "execution_count": null,
   "metadata": {},
   "outputs": [],
   "source": [
    "outdf['in_WaterSourceName'] = outdf.apply(lambda row: ensureEmptyString(row['in_WaterSourceName']), axis=1)\n",
    "outdf['in_WaterSourceName'].unique()"
   ]
  },
  {
   "cell_type": "code",
   "execution_count": null,
   "metadata": {},
   "outputs": [],
   "source": [
    "outdf['in_WaterSourceTypeCV'] = outdf.apply(lambda row: ensureEmptyString(row['in_WaterSourceTypeCV']), axis=1)\n",
    "outdf['in_WaterSourceTypeCV'].unique()"
   ]
  },
  {
   "cell_type": "code",
   "execution_count": null,
   "metadata": {},
   "outputs": [],
   "source": [
    "outdf['in_SiteTypeCV'] = outdf.apply(lambda row: ensureEmptyString(row['in_SiteTypeCV']), axis=1)\n",
    "outdf['in_SiteTypeCV'].unique()"
   ]
  },
  {
   "cell_type": "code",
   "execution_count": null,
   "metadata": {},
   "outputs": [],
   "source": [
    "outdf['in_SiteName'] = outdf.apply(lambda row: ensureEmptyString(row['in_SiteName']), axis=1)\n",
    "outdf['in_SiteName'].unique()"
   ]
  },
  {
   "cell_type": "code",
   "execution_count": null,
   "metadata": {},
   "outputs": [],
   "source": [
    "outdf['in_AllocationOwner'] = outdf.apply(lambda row: ensureEmptyString(row['in_AllocationOwner']), axis=1)\n",
    "outdf['in_AllocationOwner'].unique()"
   ]
  },
  {
   "cell_type": "code",
   "execution_count": null,
   "metadata": {},
   "outputs": [],
   "source": [
    "outdf['in_BeneficialUseCategory'] = outdf.apply(lambda row: ensureEmptyString(row['in_BeneficialUseCategory']), axis=1)\n",
    "uniqueList = list(set([i.strip() for i in ','.join(outdf['in_BeneficialUseCategory'].astype(str)).split(',')]))\n",
    "uniqueList.sort()\n",
    "uniqueList"
   ]
  },
  {
   "cell_type": "code",
   "execution_count": null,
   "metadata": {},
   "outputs": [],
   "source": [
    "# Ensure Latitude entry is either numireic or a 0\n",
    "outdf['in_Latitude'] = pd.to_numeric(outdf['in_Latitude'], errors='coerce').replace(0,\"\").fillna(\"\")\n",
    "outdf['in_Latitude'].unique()"
   ]
  },
  {
   "cell_type": "code",
   "execution_count": null,
   "metadata": {},
   "outputs": [],
   "source": [
    "# Ensure Longitude entry is either numireic or a 0\n",
    "outdf['in_Longitude'] = pd.to_numeric(outdf['in_Longitude'], errors='coerce').replace(0,\"\").fillna(\"\")\n",
    "outdf['in_Longitude'].unique()"
   ]
  },
  {
   "cell_type": "code",
   "execution_count": null,
   "metadata": {},
   "outputs": [],
   "source": [
    "# Changing datatype of Priority Date to date fields entry\n",
    "outdf['in_AllocationPriorityDate'] = pd.to_datetime(outdf['in_AllocationPriorityDate'], errors = 'coerce')\n",
    "outdf['in_AllocationPriorityDate'] = pd.to_datetime(outdf[\"in_AllocationPriorityDate\"].dt.strftime('%m/%d/%Y'))\n",
    "outdf['in_AllocationPriorityDate'].unique()"
   ]
  },
  {
   "cell_type": "code",
   "execution_count": null,
   "metadata": {},
   "outputs": [],
   "source": [
    "# Ensure Flow entry is either numireic or a 0\n",
    "outdf['in_AllocationFlow_CFS'] = pd.to_numeric(outdf['in_AllocationFlow_CFS'], errors='coerce').round(2).replace(0,\"\").fillna(\"\")\n",
    "outdf['in_AllocationFlow_CFS'].unique()"
   ]
  },
  {
   "cell_type": "code",
   "execution_count": null,
   "metadata": {},
   "outputs": [],
   "source": [
    "# Ensure Volume entry is either numireic or a 0\n",
    "outdf['in_AllocationVolume_AF'] = pd.to_numeric(outdf['in_AllocationVolume_AF'], errors='coerce').round(2).replace(0,\"\").fillna(\"\")\n",
    "outdf['in_AllocationVolume_AF'].unique()"
   ]
  },
  {
   "cell_type": "code",
   "execution_count": null,
   "metadata": {},
   "outputs": [],
   "source": [
    "# Creating WaDE Custom water source native ID for easy water source identification\n",
    "# use unique WaterSourceName and WaterSourceType values\n",
    "# ----------------------------------------------------------------------------------------------------\n",
    "\n",
    "# Create temp in_WaterSourceNativeID dataframe of unique water source.\n",
    "def assignIdValueFunc(colRowValue):\n",
    "    string1 = str(colRowValue)\n",
    "    outstring = \"wId\" + string1\n",
    "    return outstring\n",
    "\n",
    "dfTempID = pd.DataFrame()\n",
    "dfTempID['in_WaterSourceName'] = outdf['in_WaterSourceName'].astype(str).str.strip()\n",
    "dfTempID['in_WaterSourceTypeCV'] = outdf['in_WaterSourceTypeCV'].astype(str).str.strip()\n",
    "dfTempID = dfTempID.drop_duplicates()\n",
    "\n",
    "dfTempCount = pd.DataFrame(index=dfTempID.index)\n",
    "dfTempCount[\"Count\"] = range(1, len(dfTempCount.index) + 1)\n",
    "dfTempID['in_WaterSourceNativeID'] = dfTempCount.apply(lambda row: assignIdValueFunc(row['Count']), axis=1)\n",
    "dfTempID['linkKey'] = dfTempID['in_WaterSourceName'].astype(str) + dfTempID['in_WaterSourceTypeCV'].astype(str)\n",
    "IdDict = pd.Series(dfTempID.in_WaterSourceNativeID.values, index=dfTempID.linkKey.astype(str)).to_dict()\n",
    "# ----------------------------------------------------------------------------------------------------\n",
    "\n",
    "# Retreive WaDE Custom site native ID\n",
    "def retrieveIdValueFunc(checkVal, valA, valB):\n",
    "    checkVal = str(checkVal).strip()\n",
    "    if checkVal == \"\":\n",
    "        linkKeyVal = str(valA).strip() + str(valB).strip()\n",
    "        outString = IdDict[linkKeyVal]\n",
    "    else:\n",
    "        outString = checkVal\n",
    "    return outString\n",
    "\n",
    "outdf['in_WaterSourceNativeID'] = outdf.apply(lambda row: retrieveIdValueFunc(row['in_WaterSourceNativeID'], \n",
    "                                                                              row['in_WaterSourceName'], row['in_WaterSourceTypeCV']), axis=1)\n",
    "outdf['in_WaterSourceNativeID'].unique()"
   ]
  },
  {
   "cell_type": "code",
   "execution_count": null,
   "metadata": {},
   "outputs": [],
   "source": [
    "# Creating WaDE Custom site native ID for easy site identification\n",
    "# use Unique Latitude, Longitude, SiteName and SiteTypeCV values\n",
    "# ----------------------------------------------------------------------------------------------------\n",
    "\n",
    "# Create temp in_SiteNativeID dataframe of unique water source.\n",
    "def assignIdValueFunc(colRowValue):\n",
    "    string1 = str(colRowValue)\n",
    "    outstring = \"wId\" + string1\n",
    "    return outstring\n",
    "\n",
    "dfTempID = pd.DataFrame()\n",
    "dfTempID['in_Latitude'] = outdf['in_Latitude'].astype(str).str.strip()\n",
    "dfTempID['in_Longitude'] = outdf['in_Longitude'].astype(str).str.strip()\n",
    "dfTempID['in_SiteName'] = outdf['in_SiteName'].astype(str).str.strip()\n",
    "dfTempID['in_SiteTypeCV'] = outdf['in_SiteTypeCV'].astype(str).str.strip()\n",
    "dfTempID = dfTempID.drop_duplicates()\n",
    "\n",
    "dfTempCount = pd.DataFrame(index=dfTempID.index)\n",
    "dfTempCount[\"Count\"] = range(1, len(dfTempCount.index) + 1)\n",
    "dfTempID['in_SiteNativeID'] = dfTempCount.apply(lambda row: assignIdValueFunc(row['Count']), axis=1)\n",
    "dfTempID['linkKey'] = dfTempID['in_Latitude'].astype(str) + dfTempID['in_Longitude'].astype(str) + dfTempID['in_SiteName'].astype(str)+ dfTempID['in_SiteTypeCV'].astype(str)\n",
    "IdDict = pd.Series(dfTempID.in_SiteNativeID.values, index=dfTempID.linkKey.astype(str)).to_dict()\n",
    "# ----------------------------------------------------------------------------------------------------\n",
    "\n",
    "# Retreive WaDE Custom site native ID\n",
    "def retrieveIdValueFunc(checkVal, valA, valB, valC, valD):\n",
    "    checkVal = str(checkVal).strip()\n",
    "    if checkVal == \"\":\n",
    "        linkKeyVal = str(valA).strip() + str(valB).strip() + str(valC).strip() + str(valD).strip()\n",
    "        outString = IdDict[linkKeyVal]\n",
    "    else:\n",
    "        outString = checkVal\n",
    "    return outString\n",
    "\n",
    "outdf['in_SiteNativeID'] = outdf.apply(lambda row: retrieveIdValueFunc(row['in_SiteNativeID'], \n",
    "                                                                       row['in_Latitude'], row['in_Longitude'],\n",
    "                                                                       row['in_SiteName'], row['in_SiteTypeCV']), axis=1)\n",
    "outdf['in_SiteNativeID'].unique()"
   ]
  },
  {
   "cell_type": "markdown",
   "metadata": {},
   "source": [
    "## Drop non-Active AllocationLegalStatusCV Water Rights\n",
    "- For this ADWR, we don't want water rights that are considered: \"INACTIVE - WITHDRAWN\",\n",
    "                       \"INACTIVE - CONSOLIDATED\",\n",
    "                       \"INACTIVE - AMENDED\",\n",
    "                       \"INACTIVE - CANCELLED\",\n",
    "                       \"INACTIVE - REJECTED\",\n",
    "                       \"INACTIVE - PARTIAL T&S\",\n",
    "                       \"INACTIVE - RELINQUISHED\",\n",
    "                       \"INACTIVE - FULL T&S\",\n",
    "                       \"INACTIVE - INACTIVE\",\n",
    "                       \"INACTIVE - FULL ASSIGNMENT\",\n",
    "                       \"INACTIVE - PARTIAL ASSIGNMENT\""
   ]
  },
  {
   "cell_type": "code",
   "execution_count": null,
   "metadata": {},
   "outputs": [],
   "source": [
    "# drop non-active AllocationLegalStatusCV values specific to that state.\n",
    "\n",
    "# drop the list\n",
    "dropLegalStatusList = [\"INACTIVE - WITHDRAWN\",\n",
    "                       \"INACTIVE - CONSOLIDATED\",\n",
    "                       \"INACTIVE - AMENDED\",\n",
    "                       \"INACTIVE - CANCELLED\",\n",
    "                       \"INACTIVE - REJECTED\",\n",
    "                       \"INACTIVE - PARTIAL T&S\",\n",
    "                       \"INACTIVE - RELINQUISHED\",\n",
    "                       \"INACTIVE - FULL T&S\",\n",
    "                       \"INACTIVE - INACTIVE\",\n",
    "                       \"INACTIVE - FULL ASSIGNMENT\",\n",
    "                       \"INACTIVE - PARTIAL ASSIGNMENT\"] # enter string entries here\n",
    "\n",
    "# drop rows from above list\n",
    "outdf = outdf[outdf.in_AllocationLegalStatusCV.isin(dropLegalStatusList) == False].reset_index(drop=True)\n",
    "\n",
    "print(len(outdf))\n",
    "outdf['in_AllocationLegalStatusCV'].unique()"
   ]
  },
  {
   "cell_type": "markdown",
   "metadata": {},
   "source": [
    "## Shapefile Data\n",
    "- For attaching geometry to POU csv inputs."
   ]
  },
  {
   "cell_type": "code",
   "execution_count": null,
   "metadata": {},
   "outputs": [],
   "source": [
    "# N/A, all data in POU are considered points for AZwr"
   ]
  },
  {
   "cell_type": "markdown",
   "metadata": {},
   "source": [
    "## Export Data"
   ]
  },
  {
   "cell_type": "code",
   "execution_count": null,
   "metadata": {},
   "outputs": [],
   "source": [
    "outdf.info()"
   ]
  },
  {
   "cell_type": "code",
   "execution_count": null,
   "metadata": {},
   "outputs": [],
   "source": [
    "outdf"
   ]
  },
  {
   "cell_type": "code",
   "execution_count": null,
   "metadata": {},
   "outputs": [],
   "source": [
    "# Export the output dataframe\n",
    "outdf.to_csv('RawInputData/Pwr_azMain.zip', compression=dict(method='zip', archive_name='Pwr_azMain.csv'), index=False)  # The output, save as a zip\n",
    "#dfPoUshape.to_csv('RawInputData/P_Geometry.zip', compression=dict(method='zip', archive_name='P_Geometry.csv'), index=False)  # The output geometry."
   ]
  },
  {
   "cell_type": "code",
   "execution_count": null,
   "metadata": {},
   "outputs": [],
   "source": []
  },
  {
   "cell_type": "code",
   "execution_count": null,
   "metadata": {},
   "outputs": [],
   "source": [
    "uniqueList = list(set([i.strip() for i in ','.join(outdf['in_County'].astype(str)).split(',')]))\n",
    "uniqueList.sort()\n",
    "uniqueList"
   ]
  }
 ],
 "metadata": {
  "kernelspec": {
   "display_name": "Python 3 (ipykernel)",
   "language": "python",
   "name": "python3"
  },
  "language_info": {
   "codemirror_mode": {
    "name": "ipython",
    "version": 3
   },
   "file_extension": ".py",
   "mimetype": "text/x-python",
   "name": "python",
   "nbconvert_exporter": "python",
   "pygments_lexer": "ipython3",
   "version": "3.9.18"
  }
 },
 "nbformat": 4,
 "nbformat_minor": 4
}
