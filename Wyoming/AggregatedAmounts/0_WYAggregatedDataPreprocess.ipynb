{
 "cells": [
  {
   "cell_type": "markdown",
   "metadata": {},
   "source": [
    "# Working with WY Aggregated Data\n",
    "\n",
    "Preprocessing input data for a smoother upload experience of the state data to the WaDE 2.0 database.\n",
    "Using geopandas to read in shp file, and coverting to WKT for ReportingUnit geometry."
   ]
  },
  {
   "cell_type": "code",
   "execution_count": 1,
   "metadata": {},
   "outputs": [],
   "source": [
    "#Needed Libararies\n",
    "\n",
    "# working with data\n",
    "import os\n",
    "import numpy as np\n",
    "import pandas as pd\n",
    "import geopandas as gpd\n",
    "\n",
    "# visulizaiton\n",
    "import matplotlib.pyplot as plt\n",
    "import seaborn as sns\n",
    "\n",
    "# Cleanup\n",
    "from datetime import datetime\n",
    "pd.set_option('display.max_columns', 999)  # How to display all columns of a Pandas DataFrame in Jupyter Notebook"
   ]
  },
  {
   "cell_type": "code",
   "execution_count": 2,
   "metadata": {},
   "outputs": [],
   "source": [
    "#Setting work directory, reading inputs, creating dataframe\n",
    "workingDir = \"C:/Users/rjame/Documents/WSWC Documents/MappingStatesDataToWaDE2.0/Wyoming/AggregatedAmounts/RawInputData\"\n",
    "os.chdir(workingDir)"
   ]
  },
  {
   "cell_type": "markdown",
   "metadata": {},
   "source": [
    "# Water Use Data"
   ]
  },
  {
   "cell_type": "code",
   "execution_count": 3,
   "metadata": {},
   "outputs": [
    {
     "name": "stdout",
     "output_type": "stream",
     "text": [
      "57\n"
     ]
    },
    {
     "data": {
      "text/html": [
       "<div>\n",
       "<style scoped>\n",
       "    .dataframe tbody tr th:only-of-type {\n",
       "        vertical-align: middle;\n",
       "    }\n",
       "\n",
       "    .dataframe tbody tr th {\n",
       "        vertical-align: top;\n",
       "    }\n",
       "\n",
       "    .dataframe thead th {\n",
       "        text-align: right;\n",
       "    }\n",
       "</style>\n",
       "<table border=\"1\" class=\"dataframe\">\n",
       "  <thead>\n",
       "    <tr style=\"text-align: right;\">\n",
       "      <th></th>\n",
       "      <th>Water Use by Basin</th>\n",
       "      <th>UseType</th>\n",
       "      <th>Source</th>\n",
       "      <th>2000</th>\n",
       "      <th>2001</th>\n",
       "      <th>2002</th>\n",
       "      <th>2003</th>\n",
       "      <th>2004</th>\n",
       "      <th>2005</th>\n",
       "      <th>2006</th>\n",
       "      <th>2007</th>\n",
       "      <th>2008</th>\n",
       "      <th>2009</th>\n",
       "      <th>2010</th>\n",
       "      <th>2011</th>\n",
       "      <th>2012</th>\n",
       "      <th>2013</th>\n",
       "      <th>2014</th>\n",
       "      <th>2015</th>\n",
       "      <th>2016</th>\n",
       "      <th>2017</th>\n",
       "      <th>2018</th>\n",
       "    </tr>\n",
       "  </thead>\n",
       "  <tbody>\n",
       "    <tr>\n",
       "      <th>0</th>\n",
       "      <td>Bear River Planning Basin</td>\n",
       "      <td>Agricultural Consumptive Use</td>\n",
       "      <td>Ground Water</td>\n",
       "      <td>1334.272368</td>\n",
       "      <td>1498.365835</td>\n",
       "      <td>1226.612777</td>\n",
       "      <td>1617.425105</td>\n",
       "      <td>1846.693415</td>\n",
       "      <td>2059.991249</td>\n",
       "      <td>1826.625609</td>\n",
       "      <td>1417.511879</td>\n",
       "      <td>1863.082731</td>\n",
       "      <td>2106.901111</td>\n",
       "      <td>1934.922563</td>\n",
       "      <td>2258.502278</td>\n",
       "      <td>1526.792191</td>\n",
       "      <td>1546.331897</td>\n",
       "      <td>2196.058986</td>\n",
       "      <td>1746.463647</td>\n",
       "      <td>2270.430057</td>\n",
       "      <td>2287.420314</td>\n",
       "      <td>2110.106133</td>\n",
       "    </tr>\n",
       "  </tbody>\n",
       "</table>\n",
       "</div>"
      ],
      "text/plain": [
       "          Water Use by Basin                       UseType        Source  \\\n",
       "0  Bear River Planning Basin  Agricultural Consumptive Use  Ground Water   \n",
       "\n",
       "          2000         2001         2002         2003         2004  \\\n",
       "0  1334.272368  1498.365835  1226.612777  1617.425105  1846.693415   \n",
       "\n",
       "          2005         2006         2007         2008         2009  \\\n",
       "0  2059.991249  1826.625609  1417.511879  1863.082731  2106.901111   \n",
       "\n",
       "          2010         2011         2012         2013         2014  \\\n",
       "0  1934.922563  2258.502278  1526.792191  1546.331897  2196.058986   \n",
       "\n",
       "          2015         2016         2017         2018  \n",
       "0  1746.463647  2270.430057  2287.420314  2110.106133  "
      ]
     },
     "execution_count": 3,
     "metadata": {},
     "output_type": "execute_result"
    }
   ],
   "source": [
    "# Input Dataframe\n",
    "fileInput = \"WYAggData_input.csv\"\n",
    "df = pd.read_csv(fileInput)\n",
    "print(len(df))\n",
    "df.head(1)"
   ]
  },
  {
   "cell_type": "code",
   "execution_count": 4,
   "metadata": {},
   "outputs": [
    {
     "name": "stdout",
     "output_type": "stream",
     "text": [
      "57\n"
     ]
    },
    {
     "data": {
      "text/html": [
       "<div>\n",
       "<style scoped>\n",
       "    .dataframe tbody tr th:only-of-type {\n",
       "        vertical-align: middle;\n",
       "    }\n",
       "\n",
       "    .dataframe tbody tr th {\n",
       "        vertical-align: top;\n",
       "    }\n",
       "\n",
       "    .dataframe thead th {\n",
       "        text-align: right;\n",
       "    }\n",
       "</style>\n",
       "<table border=\"1\" class=\"dataframe\">\n",
       "  <thead>\n",
       "    <tr style=\"text-align: right;\">\n",
       "      <th></th>\n",
       "      <th>index</th>\n",
       "      <th>Water Use by Basin</th>\n",
       "      <th>UseType</th>\n",
       "      <th>Source</th>\n",
       "    </tr>\n",
       "  </thead>\n",
       "  <tbody>\n",
       "    <tr>\n",
       "      <th>0</th>\n",
       "      <td>0</td>\n",
       "      <td>Bear River Planning Basin</td>\n",
       "      <td>Agricultural Consumptive Use</td>\n",
       "      <td>Ground Water</td>\n",
       "    </tr>\n",
       "  </tbody>\n",
       "</table>\n",
       "</div>"
      ],
      "text/plain": [
       "   index         Water Use by Basin                       UseType  \\\n",
       "0      0  Bear River Planning Basin  Agricultural Consumptive Use   \n",
       "\n",
       "         Source  \n",
       "0  Ground Water  "
      ]
     },
     "execution_count": 4,
     "metadata": {},
     "output_type": "execute_result"
    }
   ],
   "source": [
    "# temp database #1: base elements\n",
    "droplist = [\"2000\", \"2001\", \"2002\", \"2003\", \"2004\", \"2005\", \"2006\",\n",
    "            \"2007\", \"2008\", \"2009\", \"2010\", \"2011\", \"2012\", \"2013\",\n",
    "            \"2014\", \"2015\", \"2016\", \"2017\", \"2018\"]\n",
    "\n",
    "dftempK = df.copy()\n",
    "dftempK = dftempK.drop(columns=droplist).reset_index()\n",
    "print(len(dftempK))\n",
    "dftempK.head(1)"
   ]
  },
  {
   "cell_type": "code",
   "execution_count": 5,
   "metadata": {},
   "outputs": [
    {
     "name": "stdout",
     "output_type": "stream",
     "text": [
      "1083\n"
     ]
    },
    {
     "data": {
      "text/html": [
       "<div>\n",
       "<style scoped>\n",
       "    .dataframe tbody tr th:only-of-type {\n",
       "        vertical-align: middle;\n",
       "    }\n",
       "\n",
       "    .dataframe tbody tr th {\n",
       "        vertical-align: top;\n",
       "    }\n",
       "\n",
       "    .dataframe thead th {\n",
       "        text-align: right;\n",
       "    }\n",
       "</style>\n",
       "<table border=\"1\" class=\"dataframe\">\n",
       "  <thead>\n",
       "    <tr style=\"text-align: right;\">\n",
       "      <th></th>\n",
       "      <th>Amount</th>\n",
       "      <th>ReportYear</th>\n",
       "    </tr>\n",
       "  </thead>\n",
       "  <tbody>\n",
       "    <tr>\n",
       "      <th>0</th>\n",
       "      <td>1334.272368</td>\n",
       "      <td>2000</td>\n",
       "    </tr>\n",
       "  </tbody>\n",
       "</table>\n",
       "</div>"
      ],
      "text/plain": [
       "        Amount ReportYear\n",
       "0  1334.272368       2000"
      ]
     },
     "execution_count": 5,
     "metadata": {},
     "output_type": "execute_result"
    }
   ],
   "source": [
    "# temp database #2: time series amounts\n",
    "# restructure\n",
    "\n",
    "dftempY = df.copy()\n",
    "dftempY = dftempY.drop(columns=['Water Use by Basin', 'UseType', 'Source'])\n",
    "\n",
    "dftempY = dftempY.T.unstack().reset_index(level=1, name='Amount').rename(columns={'level_1':'ReportYear'})[['Amount','ReportYear']]\n",
    "\n",
    "print(len(dftempY))\n",
    "dftempY.head(1)"
   ]
  },
  {
   "cell_type": "code",
   "execution_count": 6,
   "metadata": {},
   "outputs": [
    {
     "name": "stdout",
     "output_type": "stream",
     "text": [
      "1083\n"
     ]
    },
    {
     "data": {
      "text/html": [
       "<div>\n",
       "<style scoped>\n",
       "    .dataframe tbody tr th:only-of-type {\n",
       "        vertical-align: middle;\n",
       "    }\n",
       "\n",
       "    .dataframe tbody tr th {\n",
       "        vertical-align: top;\n",
       "    }\n",
       "\n",
       "    .dataframe thead th {\n",
       "        text-align: right;\n",
       "    }\n",
       "</style>\n",
       "<table border=\"1\" class=\"dataframe\">\n",
       "  <thead>\n",
       "    <tr style=\"text-align: right;\">\n",
       "      <th></th>\n",
       "      <th>Amount</th>\n",
       "      <th>ReportYear</th>\n",
       "      <th>Water Use by Basin</th>\n",
       "      <th>UseType</th>\n",
       "      <th>Source</th>\n",
       "    </tr>\n",
       "  </thead>\n",
       "  <tbody>\n",
       "    <tr>\n",
       "      <th>0</th>\n",
       "      <td>1334.272368</td>\n",
       "      <td>2000</td>\n",
       "      <td>Bear River Planning Basin</td>\n",
       "      <td>Agricultural Consumptive Use</td>\n",
       "      <td>Ground Water</td>\n",
       "    </tr>\n",
       "  </tbody>\n",
       "</table>\n",
       "</div>"
      ],
      "text/plain": [
       "        Amount ReportYear         Water Use by Basin  \\\n",
       "0  1334.272368       2000  Bear River Planning Basin   \n",
       "\n",
       "                        UseType        Source  \n",
       "0  Agricultural Consumptive Use  Ground Water  "
      ]
     },
     "execution_count": 6,
     "metadata": {},
     "output_type": "execute_result"
    }
   ],
   "source": [
    "# Combine database #1 to database #2.\n",
    "dftempY['Water Use by Basin'] = dftempK['Water Use by Basin']\n",
    "dftempY['UseType'] = dftempK['UseType']\n",
    "dftempY['Source'] = dftempK['Source']\n",
    "\n",
    "print(len(dftempY))\n",
    "dftempY.head(1)"
   ]
  },
  {
   "cell_type": "code",
   "execution_count": 7,
   "metadata": {},
   "outputs": [
    {
     "data": {
      "text/plain": [
       "array(['Agricultural Consumptive Use', 'Domestic Use', 'Industrial Use',\n",
       "       'Municipal Use'], dtype=object)"
      ]
     },
     "execution_count": 7,
     "metadata": {},
     "output_type": "execute_result"
    }
   ],
   "source": [
    "# Fixing UseType errors\n",
    "# Uncessary spaces & white space.\n",
    "\n",
    "def fixUseType(val):\n",
    "    val = str(val).strip() \n",
    "    if val == \"\" or pd.isnull(val):\n",
    "        val = \"Unspecified\"\n",
    "    else:\n",
    "        # Cleaning text / simple search format\n",
    "        val = val.strip()\n",
    "        val = val.replace(\"  \", \" \")\n",
    "        val = val.replace(\",\", \"\")\n",
    "        val = val.replace(\".\", \"\")\n",
    "        val = val.replace(\";\", \"\")\n",
    "        val = val.replace(\"-\", \"\")\n",
    "        val = val.replace(\"/\", \"\")\n",
    "        val = val.replace(\"(\", \"\")\n",
    "        val = val.replace(\")\", \"\")\n",
    "\n",
    "        return val\n",
    "\n",
    "dftempY['UseType'] = dftempY.apply(lambda row: fixUseType(row['UseType']), axis=1)\n",
    "dftempY['UseType'].unique()"
   ]
  },
  {
   "cell_type": "markdown",
   "metadata": {},
   "source": [
    "## WaDE Custom Elements (due to missing sate info)"
   ]
  },
  {
   "cell_type": "code",
   "execution_count": 8,
   "metadata": {},
   "outputs": [
    {
     "data": {
      "text/plain": [
       "array(['Groundwater', 'Surface Water', 'Cross Basin Diversion'],\n",
       "      dtype=object)"
      ]
     },
     "execution_count": 8,
     "metadata": {},
     "output_type": "execute_result"
    }
   ],
   "source": [
    "# temp watersource type\n",
    "\n",
    "def tempWaterSourceType(WST):\n",
    "    WST = str(WST).strip()\n",
    "    if WST == \"Ground Water\":\n",
    "        outString = \"Groundwater\"\n",
    "    else:\n",
    "        outString = WST\n",
    "   \n",
    "    return outString\n",
    "\n",
    "dftempY['tempWST'] = dftempY.apply(lambda row: tempWaterSourceType(row['Source']), axis=1)\n",
    "dftempY['tempWST'].unique()"
   ]
  },
  {
   "cell_type": "code",
   "execution_count": 9,
   "metadata": {},
   "outputs": [
    {
     "data": {
      "text/plain": [
       "array(['Consumptive Use_Annual_Agricultural Consumptive Use_Groundwater',\n",
       "       'Consumptive Use_Annual_Agricultural Consumptive Use_Surface Water',\n",
       "       'Consumptive Use_Annual_Domestic Use_Groundwater',\n",
       "       'Consumptive Use_Annual_Domestic Use_Surface Water',\n",
       "       'Consumptive Use_Annual_Industrial Use_Groundwater',\n",
       "       'Consumptive Use_Annual_Industrial Use_Surface Water',\n",
       "       'Consumptive Use_Annual_Municipal Use_Groundwater',\n",
       "       'Consumptive Use_Annual_Municipal Use_Surface Water',\n",
       "       'Consumptive Use_Annual_Municipal Use_Cross Basin Diversion'],\n",
       "      dtype=object)"
      ]
     },
     "execution_count": 9,
     "metadata": {},
     "output_type": "execute_result"
    }
   ],
   "source": [
    "# Creating VariableSpecificCV\n",
    "\n",
    "def createVariableSpecificCV(UT, WST):\n",
    "    UT = str(UT).strip()\n",
    "    WST = str(WST).strip()\n",
    "    \n",
    "    outString = \"Consumptive Use_Annual_\" +  UT + \"_\" + WST\n",
    "    \n",
    "    return outString\n",
    "\n",
    "dftempY['in_VariableSpecificCV'] = dftempY.apply(lambda row: createVariableSpecificCV(row['UseType'], row['tempWST']), axis=1)\n",
    "dftempY['in_VariableSpecificCV'].unique()"
   ]
  },
  {
   "cell_type": "code",
   "execution_count": 10,
   "metadata": {},
   "outputs": [
    {
     "data": {
      "text/plain": [
       "array(['WaDEWY_RU1', 'WaDEWY_RU2', 'WaDEWY_RU3', 'WaDEWY_RU4',\n",
       "       'WaDEWY_RU5', 'WaDEWY_RU6', 'WaDEWY_RU7'], dtype=object)"
      ]
     },
     "execution_count": 10,
     "metadata": {},
     "output_type": "execute_result"
    }
   ],
   "source": [
    "# Creating WaDE Custom reporting u nit native ID for easy identificaiion\n",
    "# ----------------------------------------------------------------------------------------------------\n",
    "\n",
    "# Create temp ReportingUnit native id dataframe of unique site.\n",
    "def assignReportNID(colrowValue):\n",
    "    string1 = str(colrowValue)\n",
    "    outstring = \"WaDEWY_RU\" + string1\n",
    "    return outstring\n",
    "\n",
    "dfReportNativeID = pd.DataFrame()\n",
    "\n",
    "dfReportNativeID['in_ReportingUnitName'] = dftempY['Water Use by Basin']\n",
    "dfReportNativeID = dfReportNativeID.drop_duplicates()\n",
    "\n",
    "dftemp = pd.DataFrame(index = dfReportNativeID.index)\n",
    "dftemp[\"Count\"] = range(1, len(dftemp.index) + 1)\n",
    "dfReportNativeID['in_ReportingUnitNativeID'] = dftemp.apply(lambda row: assignReportNID(row['Count']), axis=1)\n",
    "\n",
    "# ----------------------------------------------------------------------------------------------------\n",
    "\n",
    "# Retreive WaDE Custom ReportingUnit native id\n",
    "def retrieveReportNID(A):\n",
    "    if (A == '') or (pd.isnull(A)):\n",
    "        outList = ''\n",
    "    else:\n",
    "        ml = dfReportNativeID.loc[(dfReportNativeID['in_ReportingUnitName'] == A), 'in_ReportingUnitNativeID']\n",
    "        if not (ml.empty):  # check if the series is empty\n",
    "            outList = ml.iloc[0]\n",
    "        else:\n",
    "            outList = ''\n",
    "    return outList\n",
    "\n",
    "dftempY['in_ReportingUnitNativeID'] = dftempY.apply(lambda row: retrieveReportNID(row['Water Use by Basin']), axis=1)\n",
    "dftempY['in_ReportingUnitNativeID'].unique()"
   ]
  },
  {
   "cell_type": "code",
   "execution_count": 11,
   "metadata": {},
   "outputs": [
    {
     "data": {
      "text/plain": [
       "array(['WaDEWY_WS1', 'WaDEWY_WS2', 'WaDEWY_WS3'], dtype=object)"
      ]
     },
     "execution_count": 11,
     "metadata": {},
     "output_type": "execute_result"
    }
   ],
   "source": [
    "# Creating WaDE Custom water source native ID for easy water source identification\n",
    "# ----------------------------------------------------------------------------------------------------\n",
    "\n",
    "# Create temp WaterSourceNativeID dataframe of unique water source.\n",
    "def assignWaterSourceNativeID(colrowValue):\n",
    "    string1 = str(colrowValue)\n",
    "    outstring = \"WaDEWY_WS\" + string1\n",
    "    return outstring\n",
    "\n",
    "dfWaterSourceNativeID = pd.DataFrame()\n",
    "dfWaterSourceNativeID['in_WaterSourceTypeCV'] = dftempY['Source']\n",
    "dfWaterSourceNativeID = dfWaterSourceNativeID.drop_duplicates()\n",
    "\n",
    "dftemp = pd.DataFrame(index=dfWaterSourceNativeID.index)\n",
    "dftemp[\"Count\"] = range(1, len(dftemp.index) + 1)\n",
    "dfWaterSourceNativeID['in_WaterSourceNativeID'] = dftemp.apply(lambda row: assignWaterSourceNativeID(row['Count']), axis=1)\n",
    "\n",
    "# ----------------------------------------------------------------------------------------------------\n",
    "\n",
    "# Retreive WaDE Custom water source native ID\n",
    "def retrieveWaterSourceNativeID(A):\n",
    "    if (A == '') or (pd.isnull(A)):\n",
    "        outList = ''\n",
    "    else:\n",
    "        ml = dfWaterSourceNativeID.loc[(dfWaterSourceNativeID['in_WaterSourceTypeCV'] == A), 'in_WaterSourceNativeID']\n",
    "        if not (ml.empty):  # check if the series is empty\n",
    "            outList = ml.iloc[0]\n",
    "        else:\n",
    "            outList = ''\n",
    "    return outList\n",
    "\n",
    "dftempY['in_WaterSourceNativeID'] = dftempY.apply(lambda row: retrieveWaterSourceNativeID(row['Source']), axis=1)\n",
    "dftempY['in_WaterSourceNativeID'].unique()"
   ]
  },
  {
   "cell_type": "markdown",
   "metadata": {},
   "source": [
    "# Shapefile Data"
   ]
  },
  {
   "cell_type": "code",
   "execution_count": 12,
   "metadata": {},
   "outputs": [
    {
     "name": "stdout",
     "output_type": "stream",
     "text": [
      "7\n"
     ]
    },
    {
     "data": {
      "text/html": [
       "<div>\n",
       "<style scoped>\n",
       "    .dataframe tbody tr th:only-of-type {\n",
       "        vertical-align: middle;\n",
       "    }\n",
       "\n",
       "    .dataframe tbody tr th {\n",
       "        vertical-align: top;\n",
       "    }\n",
       "\n",
       "    .dataframe thead th {\n",
       "        text-align: right;\n",
       "    }\n",
       "</style>\n",
       "<table border=\"1\" class=\"dataframe\">\n",
       "  <thead>\n",
       "    <tr style=\"text-align: right;\">\n",
       "      <th></th>\n",
       "      <th>ReportingU</th>\n",
       "      <th>Reportin_1</th>\n",
       "      <th>Reportin_2</th>\n",
       "      <th>Reportin_3</th>\n",
       "      <th>Reportin_4</th>\n",
       "      <th>StateCV</th>\n",
       "      <th>EPSGCodeCV</th>\n",
       "      <th>Shape_Leng</th>\n",
       "      <th>Shape_Area</th>\n",
       "      <th>TypeIDNum</th>\n",
       "      <th>TypeNameNu</th>\n",
       "      <th>OBJECTID</th>\n",
       "      <th>Reportin_5</th>\n",
       "      <th>Reportin_6</th>\n",
       "      <th>Reportin_7</th>\n",
       "      <th>Reportin_8</th>\n",
       "      <th>Reportin_9</th>\n",
       "      <th>StateCV_1</th>\n",
       "      <th>EPSGCode_1</th>\n",
       "      <th>TypeName_1</th>\n",
       "      <th>TypeIDNum_</th>\n",
       "      <th>geometry</th>\n",
       "    </tr>\n",
       "  </thead>\n",
       "  <tbody>\n",
       "    <tr>\n",
       "      <th>0</th>\n",
       "      <td>20222</td>\n",
       "      <td>WY_1</td>\n",
       "      <td>1</td>\n",
       "      <td>Bear River Planning Basin</td>\n",
       "      <td>Basin</td>\n",
       "      <td>WY</td>\n",
       "      <td>EPSG:4326</td>\n",
       "      <td>4.782684</td>\n",
       "      <td>0.421512</td>\n",
       "      <td>3_1_47</td>\n",
       "      <td>3_Bear River Planning Basin_47</td>\n",
       "      <td>1213</td>\n",
       "      <td>21511</td>\n",
       "      <td>WY_1</td>\n",
       "      <td>1</td>\n",
       "      <td>Bear River Planning Basin</td>\n",
       "      <td>Basin</td>\n",
       "      <td>WY</td>\n",
       "      <td>EPSG:4326</td>\n",
       "      <td>3_Bear River Planning Basin_47</td>\n",
       "      <td>3_1_47</td>\n",
       "      <td>POLYGON ((-110.74937 42.60565, -110.72887 42.5...</td>\n",
       "    </tr>\n",
       "  </tbody>\n",
       "</table>\n",
       "</div>"
      ],
      "text/plain": [
       "   ReportingU Reportin_1 Reportin_2                 Reportin_3 Reportin_4  \\\n",
       "0       20222       WY_1          1  Bear River Planning Basin      Basin   \n",
       "\n",
       "  StateCV EPSGCodeCV  Shape_Leng  Shape_Area TypeIDNum  \\\n",
       "0      WY  EPSG:4326    4.782684    0.421512    3_1_47   \n",
       "\n",
       "                       TypeNameNu  OBJECTID  Reportin_5 Reportin_6 Reportin_7  \\\n",
       "0  3_Bear River Planning Basin_47      1213       21511       WY_1          1   \n",
       "\n",
       "                  Reportin_8 Reportin_9 StateCV_1 EPSGCode_1  \\\n",
       "0  Bear River Planning Basin      Basin        WY  EPSG:4326   \n",
       "\n",
       "                       TypeName_1 TypeIDNum_  \\\n",
       "0  3_Bear River Planning Basin_47     3_1_47   \n",
       "\n",
       "                                            geometry  \n",
       "0  POLYGON ((-110.74937 42.60565, -110.72887 42.5...  "
      ]
     },
     "execution_count": 12,
     "metadata": {},
     "output_type": "execute_result"
    }
   ],
   "source": [
    "# Shapefile input\n",
    "shpInput = \"WYBasinShapefile/BasinShapefile.shp\"\n",
    "BasinShape = gpd.read_file(shpInput)\n",
    "print(len(BasinShape))\n",
    "BasinShape.head(1)"
   ]
  },
  {
   "cell_type": "code",
   "execution_count": 13,
   "metadata": {},
   "outputs": [
    {
     "name": "stdout",
     "output_type": "stream",
     "text": [
      "7\n"
     ]
    },
    {
     "data": {
      "text/html": [
       "<div>\n",
       "<style scoped>\n",
       "    .dataframe tbody tr th:only-of-type {\n",
       "        vertical-align: middle;\n",
       "    }\n",
       "\n",
       "    .dataframe tbody tr th {\n",
       "        vertical-align: top;\n",
       "    }\n",
       "\n",
       "    .dataframe thead th {\n",
       "        text-align: right;\n",
       "    }\n",
       "</style>\n",
       "<table border=\"1\" class=\"dataframe\">\n",
       "  <thead>\n",
       "    <tr style=\"text-align: right;\">\n",
       "      <th></th>\n",
       "      <th>RU_Name</th>\n",
       "      <th>geometry</th>\n",
       "    </tr>\n",
       "  </thead>\n",
       "  <tbody>\n",
       "    <tr>\n",
       "      <th>0</th>\n",
       "      <td>Bear River Planning Basin</td>\n",
       "      <td>POLYGON ((-110.74937 42.60565, -110.72887 42.5...</td>\n",
       "    </tr>\n",
       "  </tbody>\n",
       "</table>\n",
       "</div>"
      ],
      "text/plain": [
       "                     RU_Name  \\\n",
       "0  Bear River Planning Basin   \n",
       "\n",
       "                                            geometry  \n",
       "0  POLYGON ((-110.74937 42.60565, -110.72887 42.5...  "
      ]
     },
     "execution_count": 13,
     "metadata": {},
     "output_type": "execute_result"
    }
   ],
   "source": [
    "#Create geo output\n",
    "columnsList = ['RU_Name', 'geometry']\n",
    "dfshape = pd.DataFrame(columns=columnsList)\n",
    "dfshape['RU_Name'] = BasinShape['Reportin_3']\n",
    "dfshape['geometry'] = BasinShape['geometry']\n",
    "dfshape = dfshape.drop_duplicates(subset=None, keep='first', inplace=False, ignore_index=False)\n",
    "print(len(dfshape))\n",
    "dfshape.head(1)"
   ]
  },
  {
   "cell_type": "markdown",
   "metadata": {},
   "source": [
    "### Inspect Output Data & Export"
   ]
  },
  {
   "cell_type": "code",
   "execution_count": 14,
   "metadata": {
    "scrolled": false
   },
   "outputs": [
    {
     "name": "stdout",
     "output_type": "stream",
     "text": [
      "Amount                      float64\n",
      "ReportYear                   object\n",
      "Water Use by Basin           object\n",
      "UseType                      object\n",
      "Source                       object\n",
      "tempWST                      object\n",
      "in_VariableSpecificCV        object\n",
      "in_ReportingUnitNativeID     object\n",
      "in_WaterSourceNativeID       object\n",
      "dtype: object\n"
     ]
    }
   ],
   "source": [
    "with pd.option_context('display.max_rows', None, 'display.max_columns', None):\n",
    "    print(dftempY.dtypes)"
   ]
  },
  {
   "cell_type": "code",
   "execution_count": 15,
   "metadata": {},
   "outputs": [
    {
     "name": "stdout",
     "output_type": "stream",
     "text": [
      "RU_Name       object\n",
      "geometry    geometry\n",
      "dtype: object\n"
     ]
    }
   ],
   "source": [
    "with pd.option_context('display.max_rows', None, 'display.max_columns', None):\n",
    "    print(dfshape.dtypes)"
   ]
  },
  {
   "cell_type": "code",
   "execution_count": 16,
   "metadata": {},
   "outputs": [],
   "source": [
    "# Export out to CSV.\n",
    "dftempY.to_csv('P_wyAggMaster.csv', index=False) # The output.\n",
    "dfshape.to_csv('P_wyGeometry.csv', index=False) # The output geometry."
   ]
  },
  {
   "cell_type": "code",
   "execution_count": null,
   "metadata": {},
   "outputs": [],
   "source": []
  }
 ],
 "metadata": {
  "kernelspec": {
   "display_name": "Python 3 (ipykernel)",
   "language": "python",
   "name": "python3"
  },
  "language_info": {
   "codemirror_mode": {
    "name": "ipython",
    "version": 3
   },
   "file_extension": ".py",
   "mimetype": "text/x-python",
   "name": "python",
   "nbconvert_exporter": "python",
   "pygments_lexer": "ipython3",
   "version": "3.8.12"
  }
 },
 "nbformat": 4,
 "nbformat_minor": 4
}
