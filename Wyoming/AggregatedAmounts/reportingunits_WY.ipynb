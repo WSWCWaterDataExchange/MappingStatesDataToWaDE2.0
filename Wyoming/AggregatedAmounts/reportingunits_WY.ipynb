{
 "cells": [
  {
   "cell_type": "code",
   "execution_count": null,
   "metadata": {
    "collapsed": true
   },
   "outputs": [],
   "source": [
    "import pandas as pd\n",
    "import os\n",
    "import numpy as np"
   ]
  },
  {
   "cell_type": "code",
   "execution_count": null,
   "metadata": {},
   "outputs": [],
   "source": [
    "#working directory\n",
    "working_dir = \"/Users/augustus/Desktop/WSWC/WaDE/MappingStatesDataToWaDE2.0/Wyoming/AggregatedAmounts/RawInputData/\"\n",
    "os.chdir(working_dir)"
   ]
  },
  {
   "cell_type": "code",
   "execution_count": null,
   "metadata": {},
   "outputs": [],
   "source": [
    "# create output dataframe\n",
    "target_columns = [\"ReportingUnitUUID\", \"ReportingUnitNativeID\", \"ReportingUnitName\",\n",
    "                  \"ReportingUnitTypeCV\", \"ReportingUnitUpdateDate\", \"ReportingUnitProductVersion\",\n",
    "                  \"StateCV\", \"EPSGCodeCV\", \"Geometry\"]\n",
    "\n",
    "outdf = pd.DataFrame(columns=target_columns)"
   ]
  },
  {
   "cell_type": "code",
   "execution_count": null,
   "metadata": {},
   "outputs": [],
   "source": [
    "# input file\n",
    "file = \"Agricultural, Municipal, Domestic, and Industrial Use Indecies_Draft_For Delivery to WWDC_2019.0703.xlsx\""
   ]
  },
  {
   "cell_type": "code",
   "execution_count": null,
   "metadata": {},
   "outputs": [],
   "source": [
    "# import file to dataframe\n",
    "df = pd.read_excel(file, header=2)\n",
    "df = df.rename(columns={'Unnamed: 1':'UseType', 'Unnamed: 2':'Source'})\n",
    "\n",
    "# Fill nan with 'blank'\n",
    "df= df.fillna('blank')"
   ]
  },
  {
   "cell_type": "code",
   "execution_count": null,
   "metadata": {},
   "outputs": [],
   "source": [
    "# distribute basin names over blanks\n",
    "x = df.loc[0, 'Water Use by Basin']\n",
    "for i, row in df.iterrows():\n",
    "    y = row['Water Use by Basin']\n",
    "    if y == 'blank':\n",
    "        df.at[i, 'Water Use by Basin'] = x\n",
    "    else:\n",
    "        x = y"
   ]
  },
  {
   "cell_type": "code",
   "execution_count": null,
   "metadata": {},
   "outputs": [],
   "source": [
    "# only need county names in reporting units\n",
    "# remove redundancies\n",
    "df = df.drop_duplicates(subset='Water Use by Basin')\n",
    "df = df.reset_index(drop=True)\n",
    "\n",
    "#Todo: ask Adel about deleting statewide row \n",
    "indexNames = df[ (df['Water Use by Basin'] == 'blank') | (df['Water Use by Basin'] == 'Statewide Water Use Index')].index\n",
    "df.drop(indexNames , inplace=True)\n",
    "\n",
    "outdf[\"ReportingUnitName\"] = df[\"Water Use by Basin\"]"
   ]
  },
  {
   "cell_type": "code",
   "execution_count": null,
   "metadata": {},
   "outputs": [],
   "source": [
    "# Reporting unit native ID:  Auto generate\n",
    "outdf['ReportingUnitNativeID'] = range(1, len(outdf.index) + 1)\n",
    "\n",
    "# ReportingUnitUUID:  WY_NativeID\n",
    "outdf['ReportingUnitUUID'] = outdf.apply(lambda row: \"_\".join([\"WY\", str(row['ReportingUnitNativeID'])]), axis=1)"
   ]
  },
  {
   "cell_type": "code",
   "execution_count": null,
   "metadata": {},
   "outputs": [],
   "source": [
    "# hardcoded\n",
    "outdf.StateCV = \"WY\"\n",
    "outdf.ReportingUnitTypeCV = \"Basin\"\n",
    "\n",
    "#ToDo:  get hardcoded EPSG code from Adel\n",
    "#outdf.EPSGCodeCV = \"EPSG:4326\"\n",
    "\n",
    "# replace NaN with blank cells\n",
    "outdf = outdf.replace(np.nan, '')\n",
    "outdf.head(5)"
   ]
  },
  {
   "cell_type": "code",
   "execution_count": null,
   "metadata": {},
   "outputs": [],
   "source": [
    "print(\"Exporting csv...\")\n",
    "\n",
    "\n",
    "#write out\n",
    "out_repunit = 'reportingunits.csv'\n",
    "outdf.to_csv(out_repunit, index=False, encoding = \"utf-8\")\n",
    "\n",
    "\n",
    "print(\"DONE\")"
   ]
  }
 ],
 "metadata": {
  "kernelspec": {
   "display_name": "Python 2",
   "language": "python",
   "name": "python2"
  },
  "language_info": {
   "codemirror_mode": {
    "name": "ipython",
    "version": 2
   },
   "file_extension": ".py",
   "mimetype": "text/x-python",
   "name": "python",
   "nbconvert_exporter": "python",
   "pygments_lexer": "ipython2",
   "version": "2.7.6"
  }
 },
 "nbformat": 4,
 "nbformat_minor": 0
}
