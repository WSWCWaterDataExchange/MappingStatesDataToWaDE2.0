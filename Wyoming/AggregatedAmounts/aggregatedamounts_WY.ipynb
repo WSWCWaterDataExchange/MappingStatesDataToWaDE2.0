{
 "cells": [
  {
   "cell_type": "code",
   "execution_count": null,
   "metadata": {
    "collapsed": true
   },
   "outputs": [],
   "source": [
    "import pandas as pd\n",
    "import numpy as np\n",
    "from datetime import datetime\n",
    "import os\n",
    "from utilityFunctions import assignReportingUnitsID"
   ]
  },
  {
   "cell_type": "code",
   "execution_count": null,
   "metadata": {},
   "outputs": [],
   "source": [
    "# working directory\n",
    "working_dir = \"/Users/joseph/Desktop/WSWC/DataMigration/MappingStatesDataToWaDE2.0/Wyoming/AggregatedAmounts/\"\n",
    "os.chdir(working_dir)\n",
    "#sub directory destinations\n",
    "PID = \"ProcessedInputData/\"\n",
    "RD = \"RawInputData/\"\n",
    "\n",
    "# set year as most current data permits\n",
    "year = 2018\n"
   ]
  },
  {
   "cell_type": "code",
   "execution_count": null,
   "metadata": {},
   "outputs": [],
   "source": [
    "# create output dataframe columns\n",
    "target_columns = [\"OrganizationUUID\", \"VariableSpecificUUID\",\n",
    "                  \"ReportingUnitUUID\",\n",
    "                  \"PrimaryUseCategory\", \"BeneficialUseCategory\",\n",
    "                  \"WaterSourceUUID\", \"MethodUUID\", \"TimeframeStart\", \"TimeframeEnd\",\n",
    "                  \"DataPublicationDate\", \"DataPublicationDOI\", \"ReportYearCV\", \"Amount\",\n",
    "                  \"PopulationServed\", \"PowerGeneratedGWh\", \"IrrigatedAcreage\",\n",
    "                  \"InterbasinTransferToID\", \"InterbasinTransferFromID\", \"CustomerTypeCV\",\n",
    "                  \"AllocationCropDutyAmount\", \"IrrigationMethodCV\", \"CropTypeCV\",\n",
    "                  \"CommunityWaterSupplySystem\", \"SDWISIdentifierCV\"]\n",
    "outdf100 = pd.DataFrame(columns=target_columns)"
   ]
  },
  {
   "cell_type": "code",
   "execution_count": null,
   "metadata": {},
   "outputs": [],
   "source": [
    "#Input files\n",
    "fileInput1 = \"Agricultural, Municipal, Domestic, and Industrial Use Indecies_Draft_For Delivery to WWDC_2019.0703.xlsx\"\n",
    "\n",
    "# reporting units lookup\n",
    "inp_repunts = \"reportingunits.csv\"\n",
    "# outputs aggregated amounts\n",
    "out_agamount = \"aggregatedamounts.csv\""
   ]
  },
  {
   "cell_type": "code",
   "execution_count": null,
   "metadata": {},
   "outputs": [],
   "source": [
    "# import files to dataframe\n",
    "    # aggregated water use data\n",
    "df = pd.read_excel(RD+fileInput1, header=2)\n",
    "df = df.rename(columns={'Unnamed: 1':'UseType', 'Unnamed: 2':'Source'})\n",
    "    # reporting units (basins)\n",
    "df400 = pd.read_csv(PID+inp_repunts, encoding = \"ISO-8859-1\")\n",
    "\n",
    "# Fill nan with 'blank' to simplify upcoming if statement check\n",
    "df= df.fillna('blank')\n"
   ]
  },
  {
   "cell_type": "code",
   "execution_count": null,
   "metadata": {},
   "outputs": [],
   "source": [
    "# distribute basin names over blanks\n",
    "x = df.loc[0, 'Water Use by Basin']\n",
    "for i, row in df.iterrows():\n",
    "    y = row['Water Use by Basin']\n",
    "    if y == 'blank':\n",
    "        df.at[i, 'Water Use by Basin'] = x\n",
    "    else:\n",
    "        x = y\n",
    "\n",
    "# distribute use types over blanks\n",
    "x = df.loc[0,'UseType']\n",
    "for i, row in df.iterrows():\n",
    "    y = row['UseType']\n",
    "    if y == 'blank':\n",
    "        df.at[i, 'UseType'] = x\n",
    "    else:\n",
    "        x = y"
   ]
  },
  {
   "cell_type": "code",
   "execution_count": null,
   "metadata": {},
   "outputs": [],
   "source": [
    "# Delete rows with Source = \"Total\"\n",
    "print('Pivoting data...')\n",
    "df = df[df.Source != 'Total']\n",
    "# create 'Year' and 'Amount' columns\n",
    "df=df.assign(Year=np.nan, Amount=np.nan)\n",
    "df3 = pd.DataFrame()\n",
    "\n",
    "#Pivot data from horizontal to vertical.  Iterate through across columns\n",
    "clmn = list(df)\n",
    "for i in clmn:\n",
    "    if type(i) == int and i <= year:\n",
    "        df2 = df[['Water Use by Basin', 'UseType', 'Source',i, 'Amount', 'Year']].copy()\n",
    "        #Iterate down rows\n",
    "        for j, row in df2.iterrows():\n",
    "            df2.at[j, 'Year'] = i\n",
    "            if type(row[i]) == int or type(row[i]) == float:\n",
    "                df2.at[j, 'Amount'] = row[i]\n",
    "            else:\n",
    "                df2.at[j, 'Amount'] = np.nan\n",
    "        df3 = df3.append(df2, ignore_index=True)\n",
    "        df3.drop(i, axis=1, inplace=True)\n",
    "        print(i)\n",
    "    else:\n",
    "        print('blah')\n",
    "\n",
    "df3.set_index('Water Use by Basin', inplace = True)\n",
    "df3.drop('Statewide Water Use Index', inplace = True)\n",
    "df3.reset_index(inplace=True)\n",
    "df3['Year'] = df3['Year'].astype(int)\n",
    "df100 = df3.copy()"
   ]
  },
  {
   "cell_type": "code",
   "execution_count": null,
   "metadata": {},
   "outputs": [],
   "source": [
    "# water source id for each amount use type\n",
    "print(\"WatersourceUUID and amount...\")\n",
    "df100.replace(['Surface Water', 'Ground Water', 'Cross Basin Diversion'], ['Fresh_Surface', 'Fresh_Ground', 'CrossBasin_Diversion'], inplace=True)\n",
    "\n",
    "\n",
    "# assign reporting unit from reportingunits.csv\n",
    "df100 = df100.assign(ReportingUnitUUID='')\n",
    "df3['ReportingUnitUUID'] = df3.apply(lambda row: assignReportingUnitsID(row['Water Use by Basin'], df400), axis=1)"
   ]
  },
  {
   "cell_type": "code",
   "execution_count": null,
   "metadata": {},
   "outputs": [],
   "source": [
    "print(\"Copying columns...\")\n",
    "# copy columns from df100 to outdf100\n",
    "destCols = [\"WaterSourceUUID\", \"ReportingUnitUUID\", \"ReportYearCV\", \"Amount\", \"BeneficialUseCategory\"]\n",
    "srsCols = [\"Source\", \"ReportingUnitUUID\", \"Year\", \"Amount\", \"UseType\"]\n",
    "\n",
    "outdf100[destCols] = df3[srsCols]"
   ]
  },
  {
   "cell_type": "code",
   "execution_count": null,
   "metadata": {},
   "outputs": [],
   "source": [
    "# hardcoded\n",
    "outdf100.OrganizationUUID = \"WWDO\"\n",
    "outdf100.VariableSpecificUUID = \"Consumptive Use\"\n",
    "# variableSpecificCV = 'Allocation All'\n",
    "outdf100.MethodUUID = \"WWDO_Water_uses\"\n",
    "#outdf100.AllocationBasisCV = \"Unknown\"\n",
    "# check this later\n",
    "outdf100.PrimaryUseCategory = \"Irrigation\"\n",
    "outdf100.TimeframeStart = \"01/01\"\n",
    "outdf100.TimeframeEnd = \"12/31\"\n",
    "outdf100.DataPublicationDate = datetime.now().strftime('%m/%d/%Y')"
   ]
  },
  {
   "cell_type": "code",
   "execution_count": null,
   "metadata": {},
   "outputs": [],
   "source": [
    "# if Amount empty drop row and save it to a _missing.csv\n",
    "print(\"Droping null amounts...\")\n",
    "outdf100 = outdf100.replace(np.nan, '') #replace NaN by blank strings\n",
    "\n",
    "outdf100purge = outdf100.loc[outdf100[\"Amount\"] == '']\n",
    "if len(outdf100purge.index) > 0:\n",
    "    outdf100purge.to_csv(PID+'aggregatedallocations_missing.csv')    #index=False,\n",
    "    dropIndex = outdf100.loc[outdf100[\"Amount\"] == ''].index\n",
    "    outdf100 = outdf100.drop(dropIndex)\n",
    "    outdf100 = outdf100.reset_index(drop=True)"
   ]
  },
  {
   "cell_type": "code",
   "execution_count": null,
   "metadata": {},
   "outputs": [],
   "source": [
    "# if reporting unit UUID empty, drop row\n",
    "print(\"Droping null ReportingUnitID ...\")\n",
    "#if\n",
    "outdf100nullPR = outdf100.loc[outdf100[\"ReportingUnitUUID\"] == '']\n",
    "if len(outdf100nullPR.index) > 0:\n",
    "    dropIndex = outdf100.loc[outdf100[\"ReportingUnitUUID\"] == ''].index\n",
    "    outdf100 = outdf100.drop(dropIndex)\n",
    "    outdf100 = outdf100.reset_index(drop=True)"
   ]
  },
  {
   "cell_type": "code",
   "execution_count": null,
   "metadata": {},
   "outputs": [],
   "source": [
    "#drop duplicate rows; just make sure\n",
    "print(\"Droping duplicates...\")\n",
    "outdf100Duplicated=outdf100.loc[outdf100.duplicated()]\n",
    "if len(outdf100Duplicated.index) > 0:\n",
    "    outdf100Duplicated.to_csv(PID+\"aggregatedallocations_duplicaterows.csv\")  # index=False,\n",
    "    outdf100.drop_duplicates(inplace=True)   #\n",
    "    outdf100 = outdf100.reset_index(drop=True)"
   ]
  },
  {
   "cell_type": "code",
   "execution_count": null,
   "metadata": {},
   "outputs": [],
   "source": [
    "print('Generating WaDE metadata tables...')\n",
    "#TODO:  Need hardcoded values for all of these.  Adapting Tsegenah's from New Mexico for time being.\n",
    "# Methods\n",
    "columns=['MethodUUID', 'MethodName', 'MethodDescription', 'MethodNEMILink', 'ApplicableResourceTypeCV',\n",
    "         'MethodTypeCV', 'DataCoverageValue', 'DataQualityValueCV',\t'DataConfidenceValue']\n",
    "dtypesx = ['BigInt\tNVarChar(250)\tNVarChar(50)\tText\tNVarChar(100)\tNVarChar(100)\tNVarChar(50)',\n",
    "           'NVarChar(100)\tNVarChar(50)\tNVarChar(50)']\n",
    "inpVals = ['WWDO_Water_uses','Wyoming Water Uses', 'Withdrawal Volume Estimate',\n",
    "           np.nan, 'Unspecified', 'Water use', np.nan, np.nan, np.nan]\n",
    "outdf_methods = pd.DataFrame([inpVals], columns=columns)\n",
    "outdf_methods.to_csv(PID+'methods.csv', index=False)\n",
    "\n",
    "\n",
    "# Water sources\n",
    "columns=['WaterSourceUUID', 'WaterSourceNativeID',\t'WaterSourceName', 'WaterSourceTypeCV',\n",
    "         'WaterQualityIndicatorCV',\t'GNISFeatureNameCV', 'Geometry']\n",
    "dtypesx = ['BigInt\tNVarChar(250)\tNVarChar(250)\tNVarChar(250)\tNVarChar(100)\tNVarChar(100)',\n",
    "           'NVarChar(250)\tGeometry']\n",
    "outdf_waterSources = pd.DataFrame(columns=columns)\n",
    "outdf_waterSources['WaterSourceUUID'] = ['Fresh_Surface', 'Fresh_Ground', 'CrossBasin_Diversion']\n",
    "outdf_waterSources['WaterSourceNativeID'] = ['Fresh_Surface', 'Fresh_Ground', 'CrossBasin_Diversion']\n",
    "outdf_waterSources['WaterSourceTypeCV'] = 'Unspecified'\n",
    "outdf_waterSources['WaterQualityIndicatorCV'] = 'Fresh'\n",
    "outdf_waterSources.to_csv(PID+'watersources.csv', index=False)\n",
    "\n",
    "\n",
    "# variables\n",
    "columns=['VariableSpecificUUID', 'VariableSpecificCV', 'VariableCV', 'AggregationStatisticCV', 'AggregationInterval',\n",
    "         'AggregationIntervalUnitCV', 'ReportYearStartMonth', 'ReportYearTypeCV', 'AmountUnitCV', 'MaximumAmountUnitCV']\n",
    "inpVals = ['Consumptive Use','Consumptive Use', 'Consumptive Use', 'Cumulative', 1,'Year', '1-Oct', 'WaterYear', 'Acre feet', '',]\n",
    "outdf_variables = pd.DataFrame([inpVals], columns=columns)\n",
    "outdf_variables.to_csv(PID+'variables.csv', index=False)\n",
    "\n",
    "# organizations\n",
    "columns=['OrganizationUUID', 'OrganizationName', 'State', 'OrganizationPurview', 'OrganizationWebsite',\n",
    "         'OrganizationPhoneNumber', 'OrganizationContactName', 'OrganizationContactEmail',\t'DataMappingURL']\n",
    "dtypesx = ['BigInt\tNVarChar(250)\tNVarChar(50)\tText\tNVarChar(100)\tNVarChar(100)\tNVarChar(50)',\n",
    "           'NVarChar(100)\tNVarChar(50)\tNVarChar(50)']\n",
    "#assumes dtypes inferred from CO file\n",
    "print(\"Columns...\")\n",
    "inpVals = ['WWDO','Wyoming Water Development Office', 'Wyoming',\n",
    "           np.nan, 'http://wwdc.state.wy.us', '307-777-7626', 'Mabel Jones', 'mabel.jones1@wyo.gov', \n",
    "           'https://github.com/WSWCWaterDataExchange/MappingStatesDataToWaDE2.0/blob/master/Wyoming/ReadMe.md']\n",
    "outdf_organizations = pd.DataFrame([inpVals], columns=columns)\n",
    "outdf_organizations.to_csv(PID+'organizations.csv', index=False)\n"
   ]
  },
  {
   "cell_type": "code",
   "execution_count": null,
   "metadata": {},
   "outputs": [],
   "source": [
    "# outputs aggregated amounts\n",
    "print(\"Writing outputs...\")\n",
    "outdf100.to_csv('ProcessedInputData/'+out_agamount, index=False, encoding = \"utf-8\")\n",
    "\n",
    "\n",
    "print(\"Aggregate water allocation done!\")"
   ]
  }
 ],
 "metadata": {
  "kernelspec": {
   "display_name": "Python 2",
   "language": "python",
   "name": "python2"
  },
  "language_info": {
   "codemirror_mode": {
    "name": "ipython",
    "version": 2
   },
   "file_extension": ".py",
   "mimetype": "text/x-python",
   "name": "python",
   "nbconvert_exporter": "python",
   "pygments_lexer": "ipython2",
   "version": "2.7.6"
  }
 },
 "nbformat": 4,
 "nbformat_minor": 0
}
