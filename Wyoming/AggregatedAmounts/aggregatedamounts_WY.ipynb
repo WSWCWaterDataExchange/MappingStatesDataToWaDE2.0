{
 "cells": [
  {
   "cell_type": "code",
   "execution_count": null,
   "metadata": {
    "collapsed": true
   },
   "outputs": [],
   "source": [
    "import pandas as pd\n",
    "import os"
   ]
  },
  {
   "cell_type": "code",
   "execution_count": null,
   "metadata": {},
   "outputs": [],
   "source": [
    "# working directory\n",
    "working_dir = \"/Users/augustus/Desktop/WSWC/WaDE/MappingStatesDataToWaDE2.0/Wyoming/AggregatedAmounts/RawInputData/\"\n",
    "os.chdir(working_dir)\n"
   ]
  },
  {
   "cell_type": "code",
   "execution_count": null,
   "metadata": {},
   "outputs": [],
   "source": [
    "target_columns = [\"OrganizationUUID\", \"VariableSpecificUUID\", \n",
    "                  \"ReportingUnitUUID\",\n",
    "                  \"PrimaryUseCategory\", \"BeneficialUseCategory\", \n",
    "                  \"WaterSourceUUID\", \"MethodUUID\", \"TimeframeStart\", \"TimeframeEnd\", \n",
    "                  \"DataPublicationDate\", \"DataPublicationDOI\", \"ReportYearCV\", \"Amount\",  \n",
    "                  \"PopulationServed\", \"PowerGeneratedGWh\", \"IrrigatedAcreage\",\n",
    "                  \"InterbasinTransferToID\", \"InterbasinTransferFromID\", \"CustomerTypeCV\",\n",
    "                  \"AllocationCropDutyAmount\", \"IrrigationMethodCV\", \"CropTypeCV\",\n",
    "                  \"CommunityWaterSupplySystem\", \"SDWISIdentifierCV\"]\n"
   ]
  },
  {
   "cell_type": "code",
   "execution_count": null,
   "metadata": {},
   "outputs": [],
   "source": [
    "\n",
    "outdf100 = pd.DataFrame(columns=target_columns)"
   ]
  },
  {
   "cell_type": "code",
   "execution_count": null,
   "metadata": {},
   "outputs": [],
   "source": [
    "#Input files\n",
    "fileInput1 = \"Agricultural, Municipal, Domestic, and Industrial Use Indecies_Draft_For Delivery to WWDC_2019.0703.xlsx\" \n",
    "\n",
    "\n",
    "# reporting units lookup\n",
    "inp_repunts = \"reportingunits.csv\"\n",
    "\n",
    "# outputs aggregated amounts\n",
    "out_agamount = \"aggregatedamounts.csv\"\n"
   ]
  },
  {
   "cell_type": "code",
   "execution_count": null,
   "metadata": {},
   "outputs": [],
   "source": [
    "# only need county names in reporting units\n",
    "# remove redundancies\n",
    "df = df.drop_duplicates(subset='Water Use by Basin')\n",
    "df = df.reset_index(drop=True)\n",
    "outdf[\"ReportingUnitName\"] = df[\"Water Use by Basin\"]"
   ]
  }
 ],
 "metadata": {
  "kernelspec": {
   "display_name": "Python 2",
   "language": "python",
   "name": "python2"
  },
  "language_info": {
   "codemirror_mode": {
    "name": "ipython",
    "version": 2
   },
   "file_extension": ".py",
   "mimetype": "text/x-python",
   "name": "python",
   "nbconvert_exporter": "python",
   "pygments_lexer": "ipython2",
   "version": "2.7.6"
  }
 },
 "nbformat": 4,
 "nbformat_minor": 0
}
