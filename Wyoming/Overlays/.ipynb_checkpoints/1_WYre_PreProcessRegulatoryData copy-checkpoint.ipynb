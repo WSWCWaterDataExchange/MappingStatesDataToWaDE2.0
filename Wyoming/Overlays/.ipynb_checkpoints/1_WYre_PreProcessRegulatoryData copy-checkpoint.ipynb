{
 "cells": [
  {
   "cell_type": "markdown",
   "metadata": {},
   "source": [
    "# Pre-processing (state / organization Name) Regulatory data for WaDE upload.\n",
    "- Purpose:  To preprocess the data into one master file for simple DataFrame creation and extraction."
   ]
  },
  {
   "cell_type": "code",
   "execution_count": 1,
   "metadata": {},
   "outputs": [],
   "source": [
    "# Needed Libraries / Modules\n",
    "\n",
    "# ---- working with data ----\n",
    "import os  # native operating system interaction\n",
    "import numpy as np  # mathematical array manipulation\n",
    "import pandas as pd  # data structure and data analysis\n",
    "import geopandas as gpd  # geo-data structure and data analysis\n",
    "\n",
    "# ---- visualization ----\n",
    "import matplotlib.pyplot as plt  # plotting library\n",
    "import seaborn as sns  # plotting library\n",
    "\n",
    "# ---- API data retrieval ----\n",
    "import requests  # http requests\n",
    "import json  # JSON parse\n",
    "\n",
    "# ---- Cleanup ----\n",
    "import re  # string regular expression manipulation\n",
    "from datetime import datetime  # date and time manipulation\n",
    "pd.set_option('display.max_columns', 999)  # How to display all columns of a Pandas DataFrame in Jupyter Notebook\n",
    "pd.set_option('display.float_format', lambda x: '%.5f' % x)  # suppress scientific notation in Pandas"
   ]
  },
  {
   "cell_type": "code",
   "execution_count": 2,
   "metadata": {},
   "outputs": [
    {
     "name": "stdout",
     "output_type": "stream",
     "text": [
      "The working Directory is: G:/Shared drives/WaDE Data/Wyoming/Regulatory\n"
     ]
    }
   ],
   "source": [
    "# ---- working directory ----\n",
    "workingDirString = \"G:/Shared drives/WaDE Data/Wyoming/Regulatory\" # set working directory folder string here\n",
    "os.chdir(workingDirString)\n",
    "print(f'The working Directory is:', workingDirString)"
   ]
  },
  {
   "cell_type": "markdown",
   "metadata": {},
   "source": [
    "## Regulatory Area Data #1"
   ]
  },
  {
   "cell_type": "code",
   "execution_count": 4,
   "metadata": {},
   "outputs": [
    {
     "name": "stdout",
     "output_type": "stream",
     "text": [
      "35\n"
     ]
    },
    {
     "data": {
      "text/html": [
       "<div>\n",
       "<style scoped>\n",
       "    .dataframe tbody tr th:only-of-type {\n",
       "        vertical-align: middle;\n",
       "    }\n",
       "\n",
       "    .dataframe tbody tr th {\n",
       "        vertical-align: top;\n",
       "    }\n",
       "\n",
       "    .dataframe thead th {\n",
       "        text-align: right;\n",
       "    }\n",
       "</style>\n",
       "<table border=\"1\" class=\"dataframe\">\n",
       "  <thead>\n",
       "    <tr style=\"text-align: right;\">\n",
       "      <th></th>\n",
       "      <th>OBJECTID</th>\n",
       "      <th>entityname</th>\n",
       "      <th>District</th>\n",
       "      <th>Office</th>\n",
       "      <th>County</th>\n",
       "      <th>CountyCode</th>\n",
       "      <th>PhoneNum</th>\n",
       "      <th>Office_ID</th>\n",
       "      <th>Shape_Leng</th>\n",
       "      <th>Shape_Area</th>\n",
       "      <th>CNSVDSTR</th>\n",
       "      <th>geometry</th>\n",
       "      <th>WaDEUUID</th>\n",
       "    </tr>\n",
       "  </thead>\n",
       "  <tbody>\n",
       "    <tr>\n",
       "      <th>0</th>\n",
       "      <td>1</td>\n",
       "      <td>Campbell County Conservation</td>\n",
       "      <td>Campbell County CD</td>\n",
       "      <td>Gillette Service Center</td>\n",
       "      <td>Campbell</td>\n",
       "      <td>005</td>\n",
       "      <td>307-682-8843</td>\n",
       "      <td>66904</td>\n",
       "      <td>680079.19278</td>\n",
       "      <td>24212040527.80907</td>\n",
       "      <td>Campbell County CD</td>\n",
       "      <td>POLYGON ((-106.01896 43.71191, -106.01887 43.7...</td>\n",
       "      <td>re0</td>\n",
       "    </tr>\n",
       "    <tr>\n",
       "      <th>1</th>\n",
       "      <td>2</td>\n",
       "      <td>Clear Creek Conservation</td>\n",
       "      <td>Lake De Smet CD</td>\n",
       "      <td>Buffalo Service Center</td>\n",
       "      <td>Johnson</td>\n",
       "      <td>019</td>\n",
       "      <td>307-684-2526</td>\n",
       "      <td>66928</td>\n",
       "      <td>492838.49438</td>\n",
       "      <td>11462600418.56535</td>\n",
       "      <td>Lake De Smet CD</td>\n",
       "      <td>POLYGON ((-107.37180 44.55729, -107.37138 44.5...</td>\n",
       "      <td>re1</td>\n",
       "    </tr>\n",
       "    <tr>\n",
       "      <th>2</th>\n",
       "      <td>3</td>\n",
       "      <td>Cody Conservation</td>\n",
       "      <td>Powell - Clarks Fork CD</td>\n",
       "      <td>Powell Service Center</td>\n",
       "      <td>Park</td>\n",
       "      <td>029</td>\n",
       "      <td>307-754-9301</td>\n",
       "      <td>66943</td>\n",
       "      <td>1018393.37491</td>\n",
       "      <td>25328296430.75972</td>\n",
       "      <td>Cody CD</td>\n",
       "      <td>POLYGON ((-111.05630 44.85824, -111.05624 44.8...</td>\n",
       "      <td>re2</td>\n",
       "    </tr>\n",
       "    <tr>\n",
       "      <th>3</th>\n",
       "      <td>4</td>\n",
       "      <td>Converse County Conservation</td>\n",
       "      <td>Converse County CD</td>\n",
       "      <td>Douglas Service Center</td>\n",
       "      <td>Converse</td>\n",
       "      <td>009</td>\n",
       "      <td>307-358-3050</td>\n",
       "      <td>66910</td>\n",
       "      <td>646404.76547</td>\n",
       "      <td>20650547614.46943</td>\n",
       "      <td>Converse County CD</td>\n",
       "      <td>POLYGON ((-106.07852 43.49082, -106.07845 43.4...</td>\n",
       "      <td>re3</td>\n",
       "    </tr>\n",
       "    <tr>\n",
       "      <th>4</th>\n",
       "      <td>5</td>\n",
       "      <td>Crook County Natural Resource</td>\n",
       "      <td>Crook County NRD</td>\n",
       "      <td>Sundance Service Center</td>\n",
       "      <td>Crook</td>\n",
       "      <td>011</td>\n",
       "      <td>307-283-2870</td>\n",
       "      <td>66913</td>\n",
       "      <td>488860.90977</td>\n",
       "      <td>14660110606.46379</td>\n",
       "      <td>Crook County NRD</td>\n",
       "      <td>POLYGON ((-105.08952 44.90938, -105.08943 44.9...</td>\n",
       "      <td>re4</td>\n",
       "    </tr>\n",
       "  </tbody>\n",
       "</table>\n",
       "</div>"
      ],
      "text/plain": [
       "   OBJECTID                     entityname                 District  \\\n",
       "0         1   Campbell County Conservation       Campbell County CD   \n",
       "1         2       Clear Creek Conservation          Lake De Smet CD   \n",
       "2         3              Cody Conservation  Powell - Clarks Fork CD   \n",
       "3         4   Converse County Conservation       Converse County CD   \n",
       "4         5  Crook County Natural Resource         Crook County NRD   \n",
       "\n",
       "                    Office    County CountyCode      PhoneNum  Office_ID  \\\n",
       "0  Gillette Service Center  Campbell        005  307-682-8843      66904   \n",
       "1   Buffalo Service Center   Johnson        019  307-684-2526      66928   \n",
       "2    Powell Service Center      Park        029  307-754-9301      66943   \n",
       "3   Douglas Service Center  Converse        009  307-358-3050      66910   \n",
       "4  Sundance Service Center     Crook        011  307-283-2870      66913   \n",
       "\n",
       "     Shape_Leng        Shape_Area            CNSVDSTR  \\\n",
       "0  680079.19278 24212040527.80907  Campbell County CD   \n",
       "1  492838.49438 11462600418.56535     Lake De Smet CD   \n",
       "2 1018393.37491 25328296430.75972             Cody CD   \n",
       "3  646404.76547 20650547614.46943  Converse County CD   \n",
       "4  488860.90977 14660110606.46379    Crook County NRD   \n",
       "\n",
       "                                            geometry WaDEUUID  \n",
       "0  POLYGON ((-106.01896 43.71191, -106.01887 43.7...      re0  \n",
       "1  POLYGON ((-107.37180 44.55729, -107.37138 44.5...      re1  \n",
       "2  POLYGON ((-111.05630 44.85824, -111.05624 44.8...      re2  \n",
       "3  POLYGON ((-106.07852 43.49082, -106.07845 43.4...      re3  \n",
       "4  POLYGON ((-105.08952 44.90938, -105.08943 44.9...      re4  "
      ]
     },
     "execution_count": 4,
     "metadata": {},
     "output_type": "execute_result"
    }
   ],
   "source": [
    "# Input File\n",
    "inputFile = \"RawInputData/shapefiles/NRCS_-_Conservation_Districts.zip\"\n",
    "dfin1 = gpd.read_file(inputFile).replace(np.nan, \"\")\n",
    "\n",
    "# WaDE UUID tracker for data assessment\n",
    "if 'WaDEUUID' not in dfin1:\n",
    "    dfin1['WaDEUUID'] = \"re\" + dfin1.index.astype(str)\n",
    "    dfin1.to_csv('RawInputData/NRCS_-_Conservation_Districts.shp', compression=dict(method='zip', archive_name='NRCS_-_Conservation_Districts.csv'), index=False)\n",
    "\n",
    "# Realign Geometry Projection\n",
    "dfin1['geometry'] = dfin1['geometry'].to_crs(epsg=4326)\n",
    "\n",
    "print(len(dfin1))\n",
    "dfin1.head()"
   ]
  },
  {
   "cell_type": "code",
   "execution_count": null,
   "metadata": {},
   "outputs": [],
   "source": [
    "# create output for Regulatory Area #1 dataframe\n",
    "df = pd.DataFrame()\n",
    "\n",
    "# Data Assessment UUID\n",
    "df['WaDEUUID'] = dfin1['WaDEUUID']\n",
    "\n",
    "# Date Info\n",
    "df['in_Date'] = \"2023\"\n",
    "df['in_Year'] = \"9/26/2023\"\n",
    "\n",
    "# Organization Info\n",
    "df['in_OrganizationUUID'] = \"WYre_O1\"\n",
    "\n",
    "# ReportingUnit Info\n",
    "df['in_EPSGCodeCV'] = \"4326\"\n",
    "df['in_ReportingUnitName'] = dfin1[\"entityname\"]\n",
    "df['in_ReportingUnitNativeID'] = \"wy\" + dfin1[\"OBJECTID\"].astype(str)\n",
    "df['in_ReportingUnitProductVersion'] = \"\"\n",
    "df['in_ReportingUnitTypeCV'] = \"Conservation Districts\"\n",
    "df['in_ReportingUnitUpdateDate'] = \"7/30/2023\"\n",
    "df['in_StateCV'] = \"WY\"\n",
    "df['in_Geometry'] = \"\"\n",
    "\n",
    "# RegulatoryOverlay Info\n",
    "df['in_OversightAgency'] = \"Wyoming Association of Conservation Districts\"\n",
    "df['in_RegulatoryDescription'] = \"'selects conservation policy priorities which are used to develop and review environmental and natural resources legislation and to secure adequate federal funding for natural resources conservation programs.\"\n",
    "df['in_RegulatoryName'] = dfin1[\"entityname\"]\n",
    "df['in_RegulatoryOverlayNativeID'] = dfin1[\"OBJECTID\"]\n",
    "df['in_RegulatoryStatusCV'] = \"Active\"\n",
    "df['in_RegulatoryStatute'] = \"\"\n",
    "df['in_RegulatoryStatuteLink'] =\"\"\n",
    "df['in_StatutoryEffectiveDate'] = \"3/1/1941\"\n",
    "df['in_StatutoryEndDate'] = \"\"\n",
    "df['in_RegulatoryOverlayTypeCV'] = \"Conservation District\"\n",
    "df['in_WaterSourceTypeCV'] = \"Surface and Groundwater\"\n",
    "\n",
    "df = df.drop_duplicates().reset_index(drop=True)\n",
    "outdf1 = df.copy()\n",
    "print(len(outdf1))\n",
    "outdf1.head()"
   ]
  },
  {
   "cell_type": "markdown",
   "metadata": {},
   "source": [
    "## Regulatory Area #2"
   ]
  },
  {
   "cell_type": "code",
   "execution_count": null,
   "metadata": {},
   "outputs": [],
   "source": [
    "# etc etc,"
   ]
  },
  {
   "cell_type": "markdown",
   "metadata": {},
   "source": [
    "## Concatenate DataFrames together"
   ]
  },
  {
   "cell_type": "code",
   "execution_count": null,
   "metadata": {},
   "outputs": [],
   "source": [
    "# Concatenate dataframes\n",
    "frames = [outdf1] # list all out dataframes here\n",
    "outdf = pd.concat(frames)\n",
    "outdf = outdf.drop_duplicates().reset_index(drop=True).replace(np.nan, \"\")\n",
    "print(len(outdf))"
   ]
  },
  {
   "cell_type": "markdown",
   "metadata": {},
   "source": [
    "## Clean Data / data types"
   ]
  },
  {
   "cell_type": "code",
   "execution_count": null,
   "metadata": {
    "scrolled": true
   },
   "outputs": [],
   "source": [
    "# Ensure Empty String / remove string value of \"nan\"\n",
    "\n",
    "def ensureEmptyString(val):\n",
    "    val = str(val).strip()\n",
    "    if val == \"\" or val == \" \" or val == \"nan\" or pd.isnull(val):\n",
    "        outString = \"\"\n",
    "    else:\n",
    "        outString = val\n",
    "    return outString"
   ]
  },
  {
   "cell_type": "code",
   "execution_count": null,
   "metadata": {},
   "outputs": [],
   "source": [
    "outdf['in_ReportingUnitName'] = df.apply(lambda row: ensureEmptyString(row['in_ReportingUnitName']), axis=1)\n",
    "outdf['in_ReportingUnitName'].unique()"
   ]
  },
  {
   "cell_type": "code",
   "execution_count": null,
   "metadata": {},
   "outputs": [],
   "source": [
    "outdf['in_RegulatoryDescription'] = df.apply(lambda row: ensureEmptyString(row['in_RegulatoryDescription']), axis=1)\n",
    "outdf['in_RegulatoryDescription'].unique()"
   ]
  },
  {
   "cell_type": "code",
   "execution_count": null,
   "metadata": {},
   "outputs": [],
   "source": [
    "outdf['in_RegulatoryName'] = df.apply(lambda row: ensureEmptyString(row['in_RegulatoryName']), axis=1)\n",
    "outdf['in_RegulatoryName'].unique()"
   ]
  },
  {
   "cell_type": "code",
   "execution_count": null,
   "metadata": {},
   "outputs": [],
   "source": [
    "#Update datatype of StatutoryEffectiveDate to fit WaDE 2.0 structure\n",
    "outdf['in_StatutoryEffectiveDate'] = pd.to_datetime(outdf['in_StatutoryEffectiveDate'], errors = 'coerce')\n",
    "outdf['in_StatutoryEffectiveDate'] = pd.to_datetime(outdf['in_StatutoryEffectiveDate'].dt.strftime('%m/%d/%Y'))\n",
    "outdf['in_StatutoryEffectiveDate'].unique()"
   ]
  },
  {
   "cell_type": "markdown",
   "metadata": {},
   "source": [
    "# Shapefile Data\n",
    "- For attaching geometry to reporting unit info."
   ]
  },
  {
   "cell_type": "markdown",
   "metadata": {},
   "source": [
    "#### Regulatory Area #1 shapefile info"
   ]
  },
  {
   "cell_type": "code",
   "execution_count": null,
   "metadata": {},
   "outputs": [],
   "source": [
    "# Input File\n",
    "shapeInputFile = \"RawInputData/shapefiles/NRCS_-_Conservation_Districts.zip\"\n",
    "gdfin1 = gpd.read_file(shapeInputFile)\n",
    "\n",
    "# Realign Geometry Projection\n",
    "gdfin1['geometry'] = dfin1['geometry'].to_crs(epsg=4326)\n",
    "\n",
    "print(len(gdfin1))\n",
    "gdfin1.head()"
   ]
  },
  {
   "cell_type": "code",
   "execution_count": null,
   "metadata": {},
   "outputs": [],
   "source": [
    "# plot shape info to map\n",
    "gdfin1.plot()"
   ]
  },
  {
   "cell_type": "code",
   "execution_count": null,
   "metadata": {},
   "outputs": [],
   "source": [
    "# create output for Regulatory Area #1 dataframe\n",
    "df = pd.DataFrame()\n",
    "\n",
    "columnsList = ['in_ReportingUnitNativeID', 'geometry']\n",
    "goutdf1 = pd.DataFrame(columns=columnsList, index=gdfin1.index)\n",
    "\n",
    "goutdf1['in_ReportingUnitNativeID'] = \"wy\" + dfin1[\"OBJECTID\"].astype(str)  # in_ReportingUnitNativeID needs to match source from above equivlaent datframe\n",
    "goutdf1['geometry'] = gdfin1['geometry']\n",
    "goutdf1 = goutdf1.drop_duplicates().reset_index(drop=True)\n",
    "print(len(goutdf1))\n",
    "goutdf1.head()"
   ]
  },
  {
   "cell_type": "markdown",
   "metadata": {},
   "source": [
    "#### Regulatory Area #2 shapefile info"
   ]
  },
  {
   "cell_type": "code",
   "execution_count": null,
   "metadata": {},
   "outputs": [],
   "source": [
    "# etc etc..."
   ]
  },
  {
   "cell_type": "markdown",
   "metadata": {},
   "source": [
    "#### Concatenate goutdf shapefile info into single output"
   ]
  },
  {
   "cell_type": "code",
   "execution_count": null,
   "metadata": {},
   "outputs": [],
   "source": [
    "# Concatenate Basin & Subbasin DataFrames\n",
    "frames = [goutdf1] # add geoutdf dataframes here\n",
    "goutdf = pd.concat(frames).reset_index(drop=True)\n",
    "\n",
    "print(len(goutdf))\n",
    "goutdf.head()"
   ]
  },
  {
   "cell_type": "markdown",
   "metadata": {},
   "source": [
    "## Export Data"
   ]
  },
  {
   "cell_type": "code",
   "execution_count": null,
   "metadata": {
    "scrolled": false
   },
   "outputs": [],
   "source": [
    "with pd.option_context('display.max_rows', None, 'display.max_columns', None):\n",
    "    print(outdf.dtypes)"
   ]
  },
  {
   "cell_type": "code",
   "execution_count": null,
   "metadata": {},
   "outputs": [],
   "source": [
    "with pd.option_context('display.max_rows', None, 'display.max_columns', None):\n",
    "    print(goutdf.dtypes)"
   ]
  },
  {
   "cell_type": "code",
   "execution_count": null,
   "metadata": {},
   "outputs": [],
   "source": [
    "# Export out to CSV.\n",
    "outdf.to_csv('RawInputData/Pre_sdMain.zip', compression=dict(method='zip', archive_name='Pre_Main.csv'), index=False)  # The output, save as a zip\n",
    "goutdf.to_csv('RawInputData/P_Geometry.zip', compression=dict(method='zip', archive_name='P_Geometry.csv'), index=False)  # The output geometry."
   ]
  }
 ],
 "metadata": {
  "kernelspec": {
   "display_name": "Python 3 (ipykernel)",
   "language": "python",
   "name": "python3"
  },
  "language_info": {
   "codemirror_mode": {
    "name": "ipython",
    "version": 3
   },
   "file_extension": ".py",
   "mimetype": "text/x-python",
   "name": "python",
   "nbconvert_exporter": "python",
   "pygments_lexer": "ipython3",
   "version": "3.9.18"
  }
 },
 "nbformat": 4,
 "nbformat_minor": 4
}
