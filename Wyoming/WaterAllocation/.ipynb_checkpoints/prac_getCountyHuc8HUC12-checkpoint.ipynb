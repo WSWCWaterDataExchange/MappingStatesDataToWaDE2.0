{
 "cells": [
  {
   "cell_type": "code",
   "execution_count": null,
   "id": "56ed42c6-5465-4de4-9e99-a1399ba1c7a4",
   "metadata": {},
   "outputs": [],
   "source": [
    "# Needed Libraries / Modules\n",
    "import sys\n",
    "import os\n",
    "\n",
    "## Custom Libraries\n",
    "sys.path.append(\"../../5_CustomFunctions/MappingFunctions\")\n",
    "import CreateWaterSourcesFile\n",
    "import CreateSitesFile\n",
    "import CreateAllocationsAmounts_factsFile\n",
    "import RemoveUnusedRecordsFile\n",
    "import CreatePODSiteToPOUSiteRelationshipsFile\n",
    "import JoinRegulatoryOverlayToSiteFile"
   ]
  },
  {
   "cell_type": "code",
   "execution_count": null,
   "id": "e68f1f4e-3972-4ef8-b358-35203e009326",
   "metadata": {},
   "outputs": [],
   "source": [
    "# ---- Inputs ----\n",
    "varST = \"WY\" # source organization or state abbreviation\n",
    "varUUIDType = \"wr\" # UUID data type abbreviation\n",
    "mainInputFile = \"Pwr_wyMain.zip\" # use processed zip file\n",
    "\n",
    "# ---- working directory ----\n",
    "workingDirString =  \"G:/Shared drives/WaDE Data/Wyoming/WaterAllocation\" # set working directory folder string here\n",
    "os.chdir(workingDirString)\n",
    "print(f'The working Directory is:', workingDirString)"
   ]
  },
  {
   "cell_type": "markdown",
   "id": "f4465d32-7a55-4e75-adc0-dbf82fbb698b",
   "metadata": {},
   "source": [
    "### The Work"
   ]
  },
  {
   "cell_type": "code",
   "execution_count": null,
   "id": "a201390a-dcfc-43fe-8703-d99f6bfac990",
   "metadata": {},
   "outputs": [],
   "source": [
    "# Needed Libraries\n",
    "############################################################################\n",
    "import os\n",
    "import numpy as np\n",
    "import pandas as pd\n",
    "import geopandas as gpd\n",
    "\n"
   ]
  },
  {
   "cell_type": "code",
   "execution_count": null,
   "id": "754dbbe8-e08a-40a7-82ba-f66f189b651b",
   "metadata": {},
   "outputs": [],
   "source": [
    "# Regulatory Input Data\n",
    "dfs = pd.read_csv(\"ProcessedInputData/sites.csv\")\n",
    "\n",
    "gdfCounty = gpd.read_file(\"C:/Users/rjame/Documents/WSWC Documents/MappingStatesDataToWaDE2.0/5_CustomFunctions/AddMissingCountyHuc8Huc12/shapefiles/cb_2018_us_county.zip\")"
   ]
  },
  {
   "cell_type": "code",
   "execution_count": null,
   "id": "9fb61032-28d9-4f52-82b7-dee89baa905c",
   "metadata": {},
   "outputs": [],
   "source": [
    "gdfHuc8 = gpd.read_file(\"C:/Users/rjame/Documents/WSWC Documents/MappingStatesDataToWaDE2.0/5_CustomFunctions/AddMissingCountyHuc8Huc12/shapefiles/HUC8_US.zip\")"
   ]
  },
  {
   "cell_type": "code",
   "execution_count": null,
   "id": "dbc3369b-5c33-4dea-9d22-0326f049ed45",
   "metadata": {},
   "outputs": [],
   "source": [
    "gdfHuc12 = gpd.read_file(\"C:/Users/rjame/Documents/WSWC Documents/MappingStatesDataToWaDE2.0/5_CustomFunctions/AddMissingCountyHuc8Huc12/shapefiles/HUC12_US.zip\")\n",
    "gdfHuc12"
   ]
  },
  {
   "cell_type": "code",
   "execution_count": null,
   "id": "d51b8b0c-e7e2-484b-b6b5-15b9fc0312e5",
   "metadata": {},
   "outputs": [],
   "source": []
  }
 ],
 "metadata": {
  "kernelspec": {
   "display_name": "Python 3 (ipykernel)",
   "language": "python",
   "name": "python3"
  },
  "language_info": {
   "codemirror_mode": {
    "name": "ipython",
    "version": 3
   },
   "file_extension": ".py",
   "mimetype": "text/x-python",
   "name": "python",
   "nbconvert_exporter": "python",
   "pygments_lexer": "ipython3",
   "version": "3.11.7"
  }
 },
 "nbformat": 4,
 "nbformat_minor": 5
}
