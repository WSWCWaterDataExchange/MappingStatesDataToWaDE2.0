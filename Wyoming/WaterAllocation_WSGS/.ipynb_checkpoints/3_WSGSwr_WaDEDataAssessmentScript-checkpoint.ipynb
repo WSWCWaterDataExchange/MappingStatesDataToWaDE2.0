{
 "cells": [
  {
   "cell_type": "markdown",
   "id": "d1f571be",
   "metadata": {},
   "source": [
    "# Data Assessment & Analytics\n",
    "Notes:\n",
    "- change os directory location\n",
    "- be aware of the number of provdied native source data files\n",
    "- beware of of what data is available"
   ]
  },
  {
   "cell_type": "code",
   "execution_count": null,
   "id": "13ee81d8",
   "metadata": {},
   "outputs": [],
   "source": [
    "# Needed Libraries / Modules\n",
    "\n",
    "# ---- working with data ----\n",
    "import os  # native operating system interaction\n",
    "import numpy as np  # mathematical array manipulation\n",
    "import pandas as pd  # data structure and data analysis\n",
    "import geopandas as gpd  # geo-data structure and data analysis\n",
    "\n",
    "# ---- visualization ----\n",
    "import geoplot as gplt  # for plotting maps and geo-data\n",
    "import geoplot.crs as gcrs  #used to pull in webdata related to maps and geo-data\n",
    "import missingno as msno # creates a matrix chart to show missing values\n",
    "import plotly.express as px\n",
    "import plotly.graph_objects as go  # for subplot creation\n",
    "from plotly.subplots import make_subplots  # for subplot creation\n",
    "import matplotlib.pyplot as mplt  # use with gplt to save fig to pdf\n",
    "\n",
    "# ---- cleanup ----\n",
    "import re # string regular expression manipulation\n",
    "from datetime import datetime # date and time manipulation\n",
    "pd.set_option('display.max_columns', 999)  # How to display all columns of a Pandas DataFrame in Jupyter Notebook\n",
    "pd.set_option('display.float_format', lambda x: '%.5f' % x) # suppress scientific notation in Pandas"
   ]
  },
  {
   "cell_type": "code",
   "execution_count": null,
   "id": "f24dccf3",
   "metadata": {},
   "outputs": [],
   "source": [
    "# ---- working directory ----\n",
    "workingDirString = os.getcwd() # set working directory folder string here\n",
    "os.chdir(workingDirString)\n",
    "print(f'The working Directory is:', workingDirString)"
   ]
  },
  {
   "cell_type": "code",
   "execution_count": null,
   "id": "554c2bbf",
   "metadata": {},
   "outputs": [],
   "source": [
    "# # ---- where to find input files ----\n",
    "# InputFolderString = \"G:/Shared drives/WaDE Data/NewMexico/WaterAllocation\" # set this to where input files are located"
   ]
  },
  {
   "cell_type": "code",
   "execution_count": null,
   "id": "62de750e",
   "metadata": {},
   "outputs": [],
   "source": [
    "# Native Input Data\n",
    "#################################################################\n",
    "# ---- This needs to be custom per state ----\n",
    "\n",
    "# Data Set 1: CombinedFiles(SEOWells09012023, )\n",
    "dfin1 = pd.read_csv(InputFolderString + '/RawinputData/CombinedFiles.zip')"
   ]
  },
  {
   "cell_type": "code",
   "execution_count": null,
   "id": "ecbf2d48",
   "metadata": {},
   "outputs": [],
   "source": [
    "# WaDE Processed Input Data\n",
    "#################################################################\n",
    "\n",
    "dfws = pd.read_csv(InputFolderString + \"/ProcessedInputData/watersources.csv\").replace(np.nan, \"\")\n",
    "dfwspurge = pd.read_csv(InputFolderString + \"/ProcessedInputData/watersources_missing.csv\").replace(np.nan, \"\")\n",
    "\n",
    "dfs = pd.read_csv(InputFolderString + \"/ProcessedInputData/sites.csv\").replace(np.nan, \"\")\n",
    "dfspurge = pd.read_csv(InputFolderString + \"/ProcessedInputData/sites_missing.csv\").replace(np.nan, \"\")\n",
    "\n",
    "dfaa = pd.read_csv(InputFolderString + \"/ProcessedInputData/waterallocations.csv\").replace(np.nan, \"\")\n",
    "dfaapurge = pd.read_csv(InputFolderString + \"/ProcessedInputData/waterallocations_missing.csv\").replace(np.nan, \"\")"
   ]
  },
  {
   "cell_type": "markdown",
   "id": "40ff4e59",
   "metadata": {},
   "source": [
    "# Water Source Info (watersources.csv)"
   ]
  },
  {
   "cell_type": "code",
   "execution_count": null,
   "id": "98a506fe",
   "metadata": {
    "scrolled": true
   },
   "outputs": [],
   "source": [
    "print(len(dfws))\n",
    "dfws.head(1)"
   ]
  },
  {
   "cell_type": "code",
   "execution_count": null,
   "id": "7c4f64f6",
   "metadata": {},
   "outputs": [],
   "source": [
    "# Check what columns contain missing information.\n",
    "msno.matrix(dfws, figsize=(10,5), fontsize=10)"
   ]
  },
  {
   "cell_type": "code",
   "execution_count": null,
   "id": "b84c8270",
   "metadata": {},
   "outputs": [],
   "source": [
    "# Unique values for 'WaterSourceTypeCV'\n",
    "for x in dfws['WaterSourceTypeCV'].sort_values().unique():\n",
    "    print(f'\"' + x + '\",')"
   ]
  },
  {
   "cell_type": "markdown",
   "id": "ef6701f3",
   "metadata": {},
   "source": [
    "# Site Info (sites.csv)"
   ]
  },
  {
   "cell_type": "code",
   "execution_count": null,
   "id": "6f0995e8",
   "metadata": {
    "scrolled": true
   },
   "outputs": [],
   "source": [
    "print(len(dfs))\n",
    "dfs.head(1)"
   ]
  },
  {
   "cell_type": "code",
   "execution_count": null,
   "id": "5c6ba2fe",
   "metadata": {},
   "outputs": [],
   "source": [
    "# Check what columns contain missing information.\n",
    "msno.matrix(dfs, figsize=(10,5), fontsize=10)"
   ]
  },
  {
   "cell_type": "code",
   "execution_count": null,
   "id": "f3d0a5ab",
   "metadata": {},
   "outputs": [],
   "source": [
    "# Unique values for 'CoordinateMethodCV'\n",
    "for x in dfs['CoordinateMethodCV'].sort_values().unique():\n",
    "    print(f'\"' + x + '\",')"
   ]
  },
  {
   "cell_type": "code",
   "execution_count": null,
   "id": "7c269f81",
   "metadata": {},
   "outputs": [],
   "source": [
    "# Unique values for 'SiteTypeCV'\n",
    "for x in dfs['SiteTypeCV'].sort_values().unique():\n",
    "    print(f'\"' + x + '\",')"
   ]
  },
  {
   "cell_type": "markdown",
   "id": "8c68319e",
   "metadata": {},
   "source": [
    "# Allocation Amount Info (waterallocations.csv)"
   ]
  },
  {
   "cell_type": "code",
   "execution_count": null,
   "id": "f4130bb0",
   "metadata": {},
   "outputs": [],
   "source": [
    "print(len(dfaa))\n",
    "dfaa.head(1)"
   ]
  },
  {
   "cell_type": "code",
   "execution_count": null,
   "id": "6a144c36",
   "metadata": {},
   "outputs": [],
   "source": [
    "# Unique values for 'AllocationBasisCV'\n",
    "for x in dfaa['AllocationBasisCV'].sort_values().unique():\n",
    "    print(f'\"' + str(x) + '\",')"
   ]
  },
  {
   "cell_type": "code",
   "execution_count": null,
   "id": "dd80a42b",
   "metadata": {},
   "outputs": [],
   "source": [
    "# Unique values for 'AllocationTypeCV'\n",
    "for x in dfaa['AllocationTypeCV'].sort_values().unique():\n",
    "    print(f'\"' + x + '\",')"
   ]
  },
  {
   "cell_type": "code",
   "execution_count": null,
   "id": "bd0282ff",
   "metadata": {},
   "outputs": [],
   "source": [
    "# Unique values for 'AllocationLegalStatusCV'\n",
    "for x in dfaa['AllocationLegalStatusCV'].sort_values().unique():\n",
    "    print(f'\"' + x + '\",')"
   ]
  },
  {
   "cell_type": "code",
   "execution_count": null,
   "id": "3f09c1a6",
   "metadata": {},
   "outputs": [],
   "source": [
    "# Unique values for 'BeneficialUseCategory'\n",
    "uniqueList = list(set([i.strip() for i in ','.join(dfaa['BeneficialUseCategory'].astype(str)).split(',')]))\n",
    "uniqueList.sort()\n",
    "uniqueList"
   ]
  },
  {
   "cell_type": "code",
   "execution_count": null,
   "id": "f2f7cda7",
   "metadata": {},
   "outputs": [],
   "source": [
    "# Unique values for 'OwnerClassificationCV'\n",
    "for x in dfaa['OwnerClassificationCV'].sort_values().unique():\n",
    "    print(f'\"' + x + '\",')"
   ]
  },
  {
   "cell_type": "code",
   "execution_count": null,
   "id": "a11f6de1",
   "metadata": {},
   "outputs": [],
   "source": [
    "# Check what columns contain missing information.\n",
    "msno.matrix(dfaa, figsize=(10,5), fontsize=10)"
   ]
  },
  {
   "cell_type": "markdown",
   "id": "7823eb5a",
   "metadata": {},
   "source": [
    "## Num of Record Summary"
   ]
  },
  {
   "cell_type": "code",
   "execution_count": null,
   "id": "d1f17728",
   "metadata": {},
   "outputs": [],
   "source": [
    "print(f\"Num of Source Entries (rows): \", len(dfin1))\n",
    "print(f\"Num of Identified PODs: \", len(dfs[dfs['PODorPOUSite'] == 'POD']))\n",
    "print(f\"Num of Identified POUs: \", len(dfs[dfs['PODorPOUSite'] == 'POU']))\n",
    "print(f\"Num of Identified Water Right Records: \", len(dfaa))"
   ]
  },
  {
   "cell_type": "markdown",
   "id": "0ce8fa67",
   "metadata": {},
   "source": [
    "## Why Removed Records Summary"
   ]
  },
  {
   "cell_type": "code",
   "execution_count": null,
   "id": "70010938",
   "metadata": {},
   "outputs": [],
   "source": [
    "print(\"---- Reasons why records were removed from water source info ----\")\n",
    "if len(dfwspurge) != 0:\n",
    "    print(dfwspurge['ReasonRemoved'].value_counts())\n",
    "else:\n",
    "    print(\"...nothing removed.\")"
   ]
  },
  {
   "cell_type": "code",
   "execution_count": null,
   "id": "18752994",
   "metadata": {},
   "outputs": [],
   "source": [
    "print(\" ---- Reasons why records were removed from site info ---- \")\n",
    "if len(dfspurge) != 0:\n",
    "    print(dfspurge['ReasonRemoved'].value_counts())\n",
    "else:\n",
    "    print(\"...nothing removed.\")"
   ]
  },
  {
   "cell_type": "code",
   "execution_count": null,
   "id": "e4b5a648",
   "metadata": {},
   "outputs": [],
   "source": [
    "print(\" ---- Reasons why records were removed from allocation amount info ---- \")\n",
    "if len(dfaapurge) != 0:\n",
    "    print(dfaapurge['ReasonRemoved'].value_counts())\n",
    "else:\n",
    "    print(\"...nothing removed.\")"
   ]
  },
  {
   "cell_type": "markdown",
   "id": "3eee4707",
   "metadata": {},
   "source": [
    "## Figures"
   ]
  },
  {
   "cell_type": "code",
   "execution_count": null,
   "id": "199c3115",
   "metadata": {},
   "outputs": [],
   "source": [
    "# ---- merge watersource.csv to sites.csv ----\n",
    "\n",
    "# explode site.csv on WaterSourceUUIDs\n",
    "dfstemp = dfs.copy()\n",
    "dfstemp = dfstemp.assign(WaterSourceUUIDs=dfstemp['WaterSourceUUIDs'].str.split(',')).explode('WaterSourceUUIDs').reset_index(drop=True)\n",
    "\n",
    "# merge\n",
    "dfstemp_ws = pd.merge(dfstemp, dfws[['WaterSourceUUID', 'WaterSourceTypeCV']], left_on='WaterSourceUUIDs', right_on='WaterSourceUUID', how='left')\n",
    "\n",
    "# groupby site-watersource.csv via SiteUUID\n",
    "dfstemp_ws = dfstemp_ws.groupby('SiteUUID').agg(lambda x: ','.join([str(elem) for elem in (list(set(x))) if elem != \"\"])).replace(np.nan, \"\").reset_index()\n",
    "\n",
    "print(len(dfstemp_ws))\n",
    "dfstemp_ws.head(1)"
   ]
  },
  {
   "cell_type": "code",
   "execution_count": null,
   "id": "98a939e8",
   "metadata": {},
   "outputs": [],
   "source": [
    "# ---- Histogram: Num of POD sites vs POU sites ----\n",
    "print(dfstemp_ws.PODorPOUSite.value_counts())\n",
    "\n",
    "fig = px.histogram(dfstemp_ws, x=\"PODorPOUSite\")\n",
    "fig.update_layout(bargap=0.2,\n",
    "                  title=\"Histogram of PODorPOUSite Entries in sites.csv\",\n",
    "                  xaxis_title=\"PODorPOUSite Value\",\n",
    "                  yaxis_title=\"# of entries\",\n",
    "                  #legend_title=\"Legend Title\",\n",
    "                    font=dict(\n",
    "                        family=\"Arial Bold\",\n",
    "                        size=12,\n",
    "                        color=\"Black\")\n",
    "                 )\n",
    "fig.show()\n",
    "fig.write_image('figures/PODorPOUSite.png', engine=\"kaleido\")"
   ]
  },
  {
   "cell_type": "code",
   "execution_count": null,
   "id": "0e7cf685",
   "metadata": {},
   "outputs": [],
   "source": [
    "# ---- Histogram: Num of sites via WatersourceTypeCV ----\n",
    "print(dfstemp_ws.WaterSourceTypeCV.value_counts())\n",
    "\n",
    "fig = px.histogram(dfstemp_ws, x=\"WaterSourceTypeCV\")\n",
    "fig.update_layout(bargap=0.2,\n",
    "                  title=\"Histogram of WaterSourceTypeCV Entries in sites.csv\",\n",
    "                  xaxis_title=\"WaterSourceTypeCV Value\",\n",
    "                  yaxis_title=\"# of entries\",\n",
    "                  #legend_title=\"Legend Title\",\n",
    "                    font=dict(\n",
    "                        family=\"Arial Bold\",\n",
    "                        size=12,\n",
    "                        color=\"Black\")\n",
    "                 )\n",
    "fig.show()\n",
    "fig.write_image('figures/WaterSourceTypeCV.png', engine=\"kaleido\")"
   ]
  },
  {
   "cell_type": "code",
   "execution_count": null,
   "id": "97de36df",
   "metadata": {},
   "outputs": [],
   "source": [
    "# ---- Histogram: Distribution of PrimaryBeneficialUseCategory WaDE Values ----\n",
    "print(dfaa.PrimaryBeneficialUseCategory.value_counts())\n",
    "\n",
    "fig = px.histogram(dfaa, x=\"PrimaryBeneficialUseCategory\")\n",
    "fig.update_layout(bargap=0.2,\n",
    "                  title=\"Histogram of WaDE PrimaryBeneficialUseCategory Entries in waterallocations.csv\",\n",
    "                  xaxis_title=\"PrimaryBeneficialUseCategory Value\",\n",
    "                  yaxis_title=\"# of entries\",\n",
    "                  #legend_title=\"Legend Title\",\n",
    "                    font=dict(\n",
    "                        family=\"Arial Bold\",\n",
    "                        size=12,\n",
    "                        color=\"Black\")\n",
    "                 )\n",
    "fig.show()\n",
    "fig.write_image('figures/PrimaryBeneficialUseCategory.png', engine=\"kaleido\")"
   ]
  },
  {
   "cell_type": "code",
   "execution_count": null,
   "id": "08bb3199",
   "metadata": {},
   "outputs": [],
   "source": [
    "# ---- AllocationPriorityDate #1: histogram distribution of WaDE values \n",
    "print(dfaa.AllocationPriorityDate.value_counts())\n",
    "\n",
    "dfaatemp = dfaa.copy()\n",
    "dfaatemp = dfaatemp[(dfaatemp['ExemptOfVolumeFlowPriority'] < 1)].reset_index(drop=True)\n",
    "fig = px.histogram(dfaatemp, x=\"AllocationPriorityDate\")\n",
    "fig.update_layout(bargap=0.2,\n",
    "                  title=\"Histogram of AllocationPriorityDate Entries in waterallocations.csv\",\n",
    "                  xaxis_title=\"AllocationPriorityDate Value\",\n",
    "                  yaxis_title=\"# of entries\",\n",
    "                  #legend_title=\"Legend Title\",\n",
    "                    font=dict(\n",
    "                        family=\"Arial Bold\",\n",
    "                        size=12,\n",
    "                        color=\"Black\")\n",
    "                 )\n",
    "fig.show()\n",
    "fig.write_image('figures/AllocationPriorityDate1.png', engine=\"kaleido\")"
   ]
  },
  {
   "cell_type": "code",
   "execution_count": null,
   "id": "b488daa6",
   "metadata": {},
   "outputs": [],
   "source": [
    "# ---- AllocationPriorityDate #2: cumulative distribution of WaDE values \n",
    "print(dfaa.AllocationPriorityDate.value_counts())\n",
    "\n",
    "dfaatemp = dfaa.copy()\n",
    "dfaatemp = dfaatemp[(dfaatemp['ExemptOfVolumeFlowPriority'] < 1)].reset_index(drop=True)\n",
    "fig = px.ecdf(dfaatemp, x=\"AllocationPriorityDate\", ecdfnorm=None)\n",
    "fig.update_layout(bargap=0.2,\n",
    "                  title=\"Cumulative Distribution of AllocationPriorityDate Entries in waterallocations.csv\",\n",
    "                  xaxis_title=\"AllocationPriorityDate Value\",\n",
    "                  yaxis_title=\"# of entries\",\n",
    "                  #legend_title=\"Legend Title\",\n",
    "                    font=dict(\n",
    "                        family=\"Arial Bold\",\n",
    "                        size=12,\n",
    "                        color=\"Black\")\n",
    "                 )\n",
    "fig.show()\n",
    "fig.write_image('figures/AllocationPriorityDate2.png', engine=\"kaleido\")"
   ]
  },
  {
   "cell_type": "code",
   "execution_count": null,
   "id": "ef8a700e",
   "metadata": {},
   "outputs": [],
   "source": [
    "# ---- AllocationLegalStatusCV: histogram distribution of WaDE values ----\n",
    "print(dfaa.AllocationLegalStatusCV.value_counts())\n",
    "\n",
    "fig = px.histogram(dfaa, x=\"AllocationLegalStatusCV\")\n",
    "fig.update_layout(bargap=0.2,\n",
    "                  title=\"Histogram of AllocationLegalStatusCV Entries in waterallocations.csv\",\n",
    "                  xaxis_title=\"AllocationLegalStatusCV Value\",\n",
    "                  yaxis_title=\"# of entries\",\n",
    "                  #legend_title=\"Legend Title\",\n",
    "                    font=dict(\n",
    "                        family=\"Arial Bold\",\n",
    "                        size=12,\n",
    "                        color=\"Black\")\n",
    "                 )\n",
    "fig.show()\n",
    "fig.write_image('figures/AllocationLegalStatusCV.png', engine=\"kaleido\")"
   ]
  },
  {
   "cell_type": "code",
   "execution_count": null,
   "id": "e37758f3",
   "metadata": {},
   "outputs": [],
   "source": [
    "# ---- AllocationFlow_CFS: Boxplot distribution of WaDE values ----\n",
    "\n",
    "try: \n",
    "    trace1 = go.Violin(x=dfaa['AllocationFlow_CFS'], points='outliers', name='Violin Plot')\n",
    "    trace2 = go.Histogram(x=dfaa['AllocationFlow_CFS'], name='Historgram')\n",
    "\n",
    "    fig = make_subplots(rows=2, cols=1)\n",
    "    fig.add_trace(trace1, row=1, col=1)\n",
    "    fig.add_trace(trace2, row=2, col=1)\n",
    "\n",
    "    fig.update_layout(showlegend=False, bargap=0.2, title=\"AllocationFlow_CFS Distribution in waterallocations.csv\", font=dict(family=\"Arial Bold\", size=12,color=\"Black\"))\n",
    "    fig.update_xaxes(title_text=\"AllocationFlow_CFS Value\", row=1, col=1)\n",
    "    fig.update_xaxes(title_text=\"AllocationFlow_CFS Value\", row=2, col=1)\n",
    "    fig.update_yaxes(title_text=\"Num. of Records\", row=2, col=1)\n",
    "    fig.show()\n",
    "    fig.write_image('figures/AllocationFlow_CFS.png', engine=\"kaleido\")\n",
    "\n",
    "except: print('Could not plot AllocationFlow_CFS value.')"
   ]
  },
  {
   "cell_type": "code",
   "execution_count": null,
   "id": "9549c1a3",
   "metadata": {},
   "outputs": [],
   "source": [
    "# ---- AllocationVolume_AF: Boxplot distribution of WaDE values ----\n",
    "\n",
    "try:\n",
    "    trace1 = go.Violin(x=dfaa['AllocationVolume_AF'], points='outliers', name='Violin Plot')\n",
    "    trace2 = go.Histogram(x=dfaa['AllocationVolume_AF'], name='Historgram')\n",
    "\n",
    "    fig = make_subplots(rows=2, cols=1)\n",
    "    fig.add_trace(trace1, row=1, col=1)\n",
    "    fig.add_trace(trace2, row=2, col=1)\n",
    "\n",
    "    fig.update_layout(showlegend=False, bargap=0.2, title=\"AllocationVolume_AF Distribution in waterallocations.csv\", font=dict(family=\"Arial Bold\", size=12,color=\"Black\"))\n",
    "    fig.update_xaxes(title_text=\"AllocationVolume_AF Value\", row=1, col=1)\n",
    "    fig.update_xaxes(title_text=\"AllocationVolume_AF Value\", row=2, col=1)\n",
    "    fig.update_yaxes(title_text=\"Num. of Records\", row=2, col=1)\n",
    "    fig.show()\n",
    "    fig.write_image('figures/AllocationVolume_AF.png', engine=\"kaleido\")\n",
    "\n",
    "except: print('Could not plot AllocationVolume_AF value.')"
   ]
  },
  {
   "cell_type": "code",
   "execution_count": null,
   "id": "a6b33335",
   "metadata": {},
   "outputs": [],
   "source": [
    "# ---- Map of Points sites ----\n",
    "\n",
    "dfstemp = dfs.copy()\n",
    "dfstemp = dfstemp[dfstemp['Geometry'] == ''].reset_index(drop=True)\n",
    "\n",
    "try:\n",
    "    contiguous_usa = gpd.read_file(gplt.datasets.get_path('contiguous_usa')) # use for background map in subplot\n",
    "    ax = gplt.webmap(contiguous_usa, projection=gcrs.WebMercator()) # set subplot\n",
    "    gdfstemp = gpd.GeoDataFrame(dfstemp, geometry=gpd.points_from_xy(dfstemp.Longitude.astype(float), dfstemp.Latitude.astype(float)), crs=\"EPSG:4326\")\n",
    "    gplt.pointplot(gdfstemp, hue='PODorPOUSite', legend=True, legend_var='hue', ax=ax)\n",
    "    mplt.savefig(format=\"png\", fname='figures/PointMap.png') \n",
    "except:\n",
    "    print('No point data to plot')"
   ]
  },
  {
   "cell_type": "code",
   "execution_count": null,
   "id": "ac547593",
   "metadata": {},
   "outputs": [],
   "source": [
    "# ---- Map of Polygons ----\n",
    "\n",
    "dfstemp = dfs.copy()\n",
    "dfstemp = dfstemp[dfstemp['Geometry'] != \"\"].reset_index(drop=True)\n",
    "\n",
    "try:\n",
    "    contiguous_usa = gpd.read_file(gplt.datasets.get_path('contiguous_usa')) # use for background map in subplot\n",
    "    ax = gplt.webmap(contiguous_usa, projection=gcrs.WebMercator()) # set subplot\n",
    "\n",
    "    dfstemp['Geometry'] = gpd.GeoSeries.from_wkt(dfstemp['Geometry'], crs=\"EPSG:4326\")\n",
    "    gdfstemp = gpd.GeoDataFrame(dfstemp, geometry=dfstemp['Geometry'], crs=\"EPSG:4326\") # covert to geodataframe\n",
    "    gplt.polyplot(gdfstemp, ax=ax)\n",
    "    mplt.savefig(format=\"png\", fname='figures/PolyMap.png')\n",
    "except:\n",
    "    print('No geometry data to plot')"
   ]
  },
  {
   "cell_type": "markdown",
   "id": "6fc755d8",
   "metadata": {},
   "source": [
    "# Removed Records compared to Source Data\n",
    "- this is working just fine, just want to comment out temporarily for future use"
   ]
  },
  {
   "cell_type": "code",
   "execution_count": null,
   "id": "79220931",
   "metadata": {},
   "outputs": [],
   "source": [
    "# # Explode purge.xlsx files by WaDEUUID, concat together\n",
    "# #################################################################\n",
    "\n",
    "# # Explode watersources_missing.xlsx records by WaDEUUID\n",
    "# dfwspurgeCopy = dfwspurge.assign(WaDEUUID=dfwspurge['WaDEUUID'].str.split(',')).explode('WaDEUUID').reset_index(drop=True)\n",
    "# dfwspurgeCopy = dfwspurgeCopy[['WaDEUUID','ReasonRemoved','IncompleteField']]\n",
    "\n",
    "# # Explode sites_missing.xlsx records by WaDEUUID\n",
    "# dfspurgeCopy = dfspurge.assign(WaDEUUID=dfspurge['WaDEUUID'].str.split(',')).explode('WaDEUUID').reset_index(drop=True)\n",
    "# dfspurgeCopy = dfspurgeCopy[['WaDEUUID','ReasonRemoved','IncompleteField']]\n",
    "\n",
    "# # Explode waterallocations_missing.xlsx records by WaDEUUID\n",
    "# dfaapurgeCopy = dfaapurge.assign(WaDEUUID=dfaapurge['WaDEUUID'].str.split(',')).explode('WaDEUUID').reset_index(drop=True)\n",
    "# dfaapurgeCopy = dfaapurgeCopy[['WaDEUUID','ReasonRemoved','IncompleteField']]\n",
    "\n",
    "# # concat purge dataframes togehter\n",
    "# frames = [dfwspurgeCopy, dfspurgeCopy, dfaapurgeCopy] \n",
    "# dfWaDEUUID = pd.concat(frames)\n",
    "# dfWaDEUUID = dfWaDEUUID.drop_duplicates().reset_index(drop=True).replace(np.nan, \"\")\n",
    "# print(len(dfWaDEUUID))\n",
    "# dfWaDEUUID.head(1)"
   ]
  },
  {
   "cell_type": "markdown",
   "id": "5c080897",
   "metadata": {},
   "source": [
    "# Custom Queries and Analysis for this Dataset"
   ]
  },
  {
   "cell_type": "code",
   "execution_count": null,
   "id": "0125f3de",
   "metadata": {},
   "outputs": [],
   "source": [
    "# N/A"
   ]
  }
 ],
 "metadata": {
  "kernelspec": {
   "display_name": "Python 3 (ipykernel)",
   "language": "python",
   "name": "python3"
  },
  "language_info": {
   "codemirror_mode": {
    "name": "ipython",
    "version": 3
   },
   "file_extension": ".py",
   "mimetype": "text/x-python",
   "name": "python",
   "nbconvert_exporter": "python",
   "pygments_lexer": "ipython3",
   "version": "3.9.18"
  }
 },
 "nbformat": 4,
 "nbformat_minor": 5
}
