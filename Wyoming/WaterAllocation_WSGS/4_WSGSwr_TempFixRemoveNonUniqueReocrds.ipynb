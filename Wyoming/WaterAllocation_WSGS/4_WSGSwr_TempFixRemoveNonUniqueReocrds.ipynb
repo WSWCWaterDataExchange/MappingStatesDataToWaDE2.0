{
 "cells": [
  {
   "cell_type": "markdown",
   "id": "13bb5c81",
   "metadata": {},
   "source": [
    "# Removing Non-Unique Wyoming State Geological SurveyAllocation records.\n",
    "- Purpose:  Temp fix.  Removing Wyoming State Geological Survey records that are already posted by the existing WYwr proejct."
   ]
  },
  {
   "cell_type": "code",
   "execution_count": 1,
   "id": "1aaf3689",
   "metadata": {},
   "outputs": [],
   "source": [
    "# Needed Libraries / Modules\n",
    "\n",
    "# ---- working with data ----\n",
    "import os  # native operating system interaction\n",
    "import numpy as np  # mathematical array manipulation\n",
    "import pandas as pd  # data structure and data analysis\n",
    "import geopandas as gpd  # geo-data structure and data analysis\n",
    "\n",
    "# ---- visualization ----\n",
    "import matplotlib.pyplot as plt  # plotting library\n",
    "import seaborn as sns  # plotting library\n",
    "\n",
    "# ---- API data retrieval ----\n",
    "import requests  # http requests\n",
    "import json  # JSON parse\n",
    "\n",
    "# ---- Cleanup ----\n",
    "import re  # string regular expression manipulation\n",
    "from datetime import datetime  # date and time manipulation\n",
    "pd.set_option('display.max_columns', 999)  # How to display all columns of a Pandas DataFrame in Jupyter Notebook\n",
    "pd.set_option('display.float_format', lambda x: '%.5f' % x)  # suppress scientific notation in Pandas"
   ]
  },
  {
   "cell_type": "code",
   "execution_count": 2,
   "id": "a1de6701",
   "metadata": {},
   "outputs": [],
   "source": [
    "# Needed Libraries / Modules\n",
    "import sys\n",
    "\n",
    "## Custom Libraries\n",
    "sys.path.append(\"../../5_CustomFunctions/MappingFunctions\")\n",
    "import RemoveUnusedRecordsFile\n",
    "import CreatePODSiteToPOUSiteRelationshipsFile"
   ]
  },
  {
   "cell_type": "code",
   "execution_count": 3,
   "id": "fef629fe",
   "metadata": {},
   "outputs": [],
   "source": [
    "# ---- working directory ----\n",
    "workingDirString = \"G:/Shared drives/WaDE Data/Wyoming/WaterAllocation_WSGS\" # file location # set working directory folder string here\n",
    "os.chdir(workingDirString)\n",
    "print(f'The working Directory is:', workingDirString)"
   ]
  },
  {
   "cell_type": "markdown",
   "id": "7b0758ea",
   "metadata": {},
   "source": [
    "## Input"
   ]
  },
  {
   "cell_type": "code",
   "execution_count": 4,
   "id": "1cecf747",
   "metadata": {},
   "outputs": [],
   "source": [
    "# working file - WSGSwr\n",
    "inputFile = \"G:/Shared drives/WaDE Data/Wyoming/WaterAllocation_WSGS/ProcessedInputData/waterallocations.csv\"\n",
    "df = pd.read_csv(inputFile).replace(np.nan, \"\")\n",
    "print(len(df))\n",
    "df.head(1)"
   ]
  },
  {
   "cell_type": "code",
   "execution_count": 5,
   "id": "5abda38b",
   "metadata": {},
   "outputs": [],
   "source": [
    "# file that holds records to delete - WYwr\n",
    "inputFile = \"G:/Shared drives/WaDE Data/Wyoming/WaterAllocation/ProcessedInputData/waterallocations.csv\"\n",
    "df_remove = pd.read_csv(inputFile).replace(np.nan, \"\")\n",
    "print(len(df_remove))\n",
    "df_remove.head(1)"
   ]
  },
  {
   "cell_type": "markdown",
   "id": "a5d72f59",
   "metadata": {},
   "source": [
    "## Remove duplicate files"
   ]
  },
  {
   "cell_type": "code",
   "execution_count": 6,
   "id": "c62ddd7e",
   "metadata": {},
   "outputs": [],
   "source": [
    "removeList = df_remove['AllocationNativeID'].sort_values().unique().tolist()\n",
    "removeList"
   ]
  },
  {
   "cell_type": "code",
   "execution_count": 7,
   "id": "29b3224e",
   "metadata": {},
   "outputs": [],
   "source": [
    "df = df[~df['AllocationNativeID'].isin(removeList)]\n",
    "print(len(df))\n",
    "df.head(1)"
   ]
  },
  {
   "cell_type": "code",
   "execution_count": 8,
   "id": "e7a30a98",
   "metadata": {},
   "outputs": [],
   "source": [
    "# Export waterallocations with the removed records\n",
    "df.to_csv('ProcessedInputData/waterallocations.csv', index=False)"
   ]
  },
  {
   "cell_type": "code",
   "execution_count": 9,
   "id": "d9bf3ae6",
   "metadata": {},
   "outputs": [],
   "source": [
    "# ---- Remove unused records ----\n",
    "print(\"Remove unused Water Sources and Sites records not found within AllocationsAmounts_facts input csv...\")\n",
    "print(\"############################################################################\")\n",
    "RemoveUnusedRecordsFile.RemoveUnusedAllocationsAmountRecordsFileFunction(workingDirString)"
   ]
  },
  {
   "cell_type": "code",
   "execution_count": 10,
   "id": "4b4df41c",
   "metadata": {},
   "outputs": [],
   "source": [
    "# ---- Create POD and POU joins (podsitetopousiterelationships.csv) ----\n",
    "print(\"Creating Pod site -to- Pou site relationships input csv...\")\n",
    "print(\"############################################################################\")\n",
    "CreatePODSiteToPOUSiteRelationshipsFile.CreatePODSiteToPOUSiteRelationshipsFunction(workingDirString)"
   ]
  }
 ],
 "metadata": {
  "kernelspec": {
   "display_name": "Python 3 (ipykernel)",
   "language": "python",
   "name": "python3"
  },
  "language_info": {
   "codemirror_mode": {
    "name": "ipython",
    "version": 3
   },
   "file_extension": ".py",
   "mimetype": "text/x-python",
   "name": "python",
   "nbconvert_exporter": "python",
   "pygments_lexer": "ipython3",
   "version": "3.9.18"
  }
 },
 "nbformat": 4,
 "nbformat_minor": 5
}
