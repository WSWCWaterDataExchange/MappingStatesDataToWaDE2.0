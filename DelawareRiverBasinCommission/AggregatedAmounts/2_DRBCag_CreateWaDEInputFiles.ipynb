{
 "cells": [
  {
   "cell_type": "markdown",
   "id": "091aecd3",
   "metadata": {},
   "source": [
    "- Date Update: 06/13/2023\n",
    "- Purpose: To create WaDE data input files for Delaware River Basin Commission aggregated area timeseries information."
   ]
  },
  {
   "cell_type": "markdown",
   "id": "1dcf6456",
   "metadata": {},
   "source": [
    "## Custom Libraries"
   ]
  },
  {
   "cell_type": "code",
   "execution_count": 1,
   "id": "008fa19f",
   "metadata": {},
   "outputs": [],
   "source": [
    "# Custom Libraries\n",
    "import sys\n",
    "sys.path.append(\"C:/Users/rjame/Documents/WSWC Documents/MappingStatesDataToWaDE2.0/5_CustomFunctions/MappingFunctions\")"
   ]
  },
  {
   "cell_type": "markdown",
   "id": "9aa8e660",
   "metadata": {},
   "source": [
    "## Input Data"
   ]
  },
  {
   "cell_type": "code",
   "execution_count": 2,
   "id": "c27dfdca",
   "metadata": {},
   "outputs": [],
   "source": [
    "# Inputs\n",
    "varST = \"DRBC\" # state abbreviation\n",
    "varSTName = \"DelawareRiverBasinCommission\" # state name\n",
    "varUUIDType = \"ag\" # uuid abbreviation\n",
    "varWaDEDataType = \"AggregatedAmounts\" # WaDE datatype for file location\n",
    "mainInputFile = \"Pag_drbcMain.zip\" # use processed zip file"
   ]
  },
  {
   "cell_type": "markdown",
   "id": "9ca3ea3e",
   "metadata": {},
   "source": [
    "## Create Water Right Input Files"
   ]
  },
  {
   "cell_type": "code",
   "execution_count": 3,
   "id": "f373f87f",
   "metadata": {},
   "outputs": [],
   "source": [
    "# Method\n",
    "# Simple info, create by hand"
   ]
  },
  {
   "cell_type": "code",
   "execution_count": 4,
   "id": "d0292a0b",
   "metadata": {},
   "outputs": [],
   "source": [
    "# Variable\n",
    "# Simple info, create by hand"
   ]
  },
  {
   "cell_type": "code",
   "execution_count": 5,
   "id": "de98ab0f",
   "metadata": {},
   "outputs": [],
   "source": [
    "# Organization\n",
    "# Simple info, create by hand"
   ]
  },
  {
   "cell_type": "code",
   "execution_count": 6,
   "id": "a96f088b",
   "metadata": {},
   "outputs": [
    {
     "name": "stdout",
     "output_type": "stream",
     "text": [
      "Creating watersources input csv...\n",
      "############################################################################\n",
      "Reading input csv...\n",
      "Populating dataframe...\n",
      "Geometry\n",
      "GNISFeatureNameCV\n",
      "WaterQualityIndicatorCV\n",
      "WaterSourceName\n",
      "WaterSourceNativeID\n",
      "WaterSourceTypeCV\n",
      "Adding Data Assessment UUID\n",
      "Resetting Index\n",
      "GroupBy outdf duplicates based on key fields...\n",
      "Error checking each field. Purging bad inputs.\n",
      "Length of outdf DataFrame:  2\n",
      "Length of dfpurge DataFrame:  0\n",
      "Assign WaterSourceUUID\n",
      "Cleaning export for correct data types...\n",
      "Exporting dataframe...\n",
      "Done\n"
     ]
    }
   ],
   "source": [
    "# Water Sources\n",
    "print(\"Creating watersources input csv...\")\n",
    "print(\"############################################################################\")\n",
    "import CreateWaterSourcesFile\n",
    "CreateWaterSourcesFile.CreateWaterSourcesInputFunction(varST, varSTName, varUUIDType, varWaDEDataType, mainInputFile)"
   ]
  },
  {
   "cell_type": "code",
   "execution_count": 7,
   "id": "b6494c99",
   "metadata": {},
   "outputs": [
    {
     "name": "stdout",
     "output_type": "stream",
     "text": [
      "Creating reportingunits input csv...\n",
      "############################################################################\n",
      "Reading input csv...\n",
      "Populating dataframe...\n",
      "EPSGCodeCV\n",
      "ReportingUnitName\n",
      "ReportingUnitNativeID\n",
      "ReportingUnitProductVersion\n",
      "ReportingUnitTypeCV\n",
      "ReportingUnitUpdateDate\n",
      "StateCV\n",
      "Geometry\n",
      "Adding Data Assessment UUID\n",
      "Resetting Index\n",
      "GroupBy outdf duplicates based on key fields...\n",
      "Error checking each field. Purging bad inputs.\n",
      "Length of outdf DataFrame:  132\n",
      "Length of dfpurge DataFrame:  0\n",
      "Assign ReportingUnitUUID\n",
      "Exporting dataframe...\n",
      "Done\n"
     ]
    }
   ],
   "source": [
    "# Reporting Unit\n",
    "print(\"Creating reportingunits input csv...\")\n",
    "print(\"############################################################################\")\n",
    "import CreateReportingUnitsFile\n",
    "CreateReportingUnitsFile.CreateReportingUnitInputFunction(varST, varSTName, varUUIDType, varWaDEDataType, mainInputFile)"
   ]
  },
  {
   "cell_type": "code",
   "execution_count": 8,
   "id": "ffb1f358",
   "metadata": {
    "scrolled": true
   },
   "outputs": [
    {
     "name": "stdout",
     "output_type": "stream",
     "text": [
      "Creating aggregatedamounts input csv...\n",
      "############################################################################\n",
      "Reading input csv...\n",
      "Populating dataframe outdf...\n",
      "MethodUUID\n",
      "OrganizationUUID\n",
      "ReportingUnitUUID\n",
      "VariableSpecificUUID\n",
      "WaterSourceUUID\n",
      "Amount\n",
      "BeneficialUseCategory\n",
      "CommunityWaterSupplySystem\n",
      "CropTypeCV\n",
      "CustomerTypeCV\n",
      "DataPublicationDate\n",
      "DataPublicationDOI\n",
      "InterbasinTransferFromID\n",
      "InterbasinTransferToID\n",
      "IrrigatedAcreage\n",
      "IrrigationMethodCV\n",
      "PopulationServed\n",
      "PowerGeneratedGWh\n",
      "PowerType\n",
      "PrimaryUseCategory\n",
      "ReportYearCV\n",
      "SDWISIdentifierCV\n",
      "TimeframeEnd\n",
      "TimeframeStart\n",
      "Adding Data Assessment UUID\n",
      "Resetting Index\n",
      "Solving WaDE 2.0 upload issues\n",
      "Error checking each field. Purging bad inputs.\n",
      "Length of outdf DataFrame:  42936\n",
      "Length of dfpurge DataFrame:  0\n",
      "Cleaning export for correct data types...\n",
      "Exporting dataframe...\n",
      "Done\n"
     ]
    }
   ],
   "source": [
    "# Aggregated Amounts\n",
    "print(\"Creating aggregatedamounts input csv...\")\n",
    "print(\"############################################################################\")\n",
    "import CreateAggregatedAmountsFile\n",
    "CreateAggregatedAmountsFile.CreateAggregatedAmountsInputFunction(varST, varSTName, varUUIDType, varWaDEDataType, mainInputFile)"
   ]
  },
  {
   "cell_type": "code",
   "execution_count": 9,
   "id": "a769f9b0",
   "metadata": {},
   "outputs": [
    {
     "name": "stdout",
     "output_type": "stream",
     "text": [
      "Remove unused Water Sources and Reporting Unit records not found within Aggregated Amounts input csv...\n",
      "############################################################################\n",
      "Reading input csv...\n",
      "Length of dfru before removing reporting units:  132\n",
      "Length of dfru after removing reporting units:  132\n",
      "Length of dfws before removing reporting units:  2\n",
      "Length of dfws after removing reporting units:  2\n",
      "Export Files - watersource.csv, watersource_missing.csv, reportingunits.csv, reportingunits_missing.csv, aggregatedamounts.csv, aggregatedamounts_missing.csv\n",
      "Done\n"
     ]
    }
   ],
   "source": [
    "# Remove unused records\n",
    "print(\"Remove unused Water Sources and Reporting Unit records not found within Aggregated Amounts input csv...\")\n",
    "print(\"############################################################################\")\n",
    "import RemoveUnusedRecordsFile\n",
    "RemoveUnusedRecordsFile.RemoveUnusedAggregatedAmountRecordsFileFunction(varSTName, varWaDEDataType)"
   ]
  }
 ],
 "metadata": {
  "kernelspec": {
   "display_name": "Python 3 (ipykernel)",
   "language": "python",
   "name": "python3"
  },
  "language_info": {
   "codemirror_mode": {
    "name": "ipython",
    "version": 3
   },
   "file_extension": ".py",
   "mimetype": "text/x-python",
   "name": "python",
   "nbconvert_exporter": "python",
   "pygments_lexer": "ipython3",
   "version": "3.9.16"
  }
 },
 "nbformat": 4,
 "nbformat_minor": 5
}
