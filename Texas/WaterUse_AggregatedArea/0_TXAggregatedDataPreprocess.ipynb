{
 "cells": [
  {
   "cell_type": "markdown",
   "metadata": {},
   "source": [
    "# Working with TX Aggregated Data\n",
    "\n",
    "Pre-processing input data for a smoother upload experience of the state data to the WaDE 2.0 database.\n",
    "Using geopandas to read in shp file, and coverting to WKT for ReportingUnit geometry.\n",
    "\n",
    "#### Notes:\n",
    "- Will need to do a while loop to read in each csv source file by year.\n",
    "- Will need to seperate out by Basin & County, then combine.\n",
    "- TX data also includes the summation of amounts by surface water, groundwater, and reuse.  Only pull in those catagories and leave out the summation.\n",
    "- Will need to assign water source type, use ben use string to determine this.\n",
    "- Will need to fix ben use string and remove errors."
   ]
  },
  {
   "cell_type": "code",
   "execution_count": null,
   "metadata": {},
   "outputs": [],
   "source": [
    "#Needed Libararies\n",
    "import os\n",
    "import numpy as np\n",
    "import pandas as pd\n",
    "from datetime import datetime\n",
    "import geopandas as gpd # the library that lets us read in shapefiles\n",
    "pd.set_option('display.max_columns', 999)  # How to display all columns of a Pandas DataFrame in Jupyter Notebook\n",
    "\n",
    "#Setting work directory, reading inputs, creating dataframe\n",
    "workingDir = \"G:/Shared drives/WaDE Data/Texas/AggregatedAmounts/RawInputData\"\n",
    "os.chdir(workingDir)"
   ]
  },
  {
   "cell_type": "markdown",
   "metadata": {},
   "source": [
    "# Basin Data"
   ]
  },
  {
   "cell_type": "code",
   "execution_count": null,
   "metadata": {},
   "outputs": [],
   "source": [
    "#Read in Basin xlsx data.  2000-2016.\n",
    "yearCount = 2000\n",
    "dfbinput = pd.DataFrame() #input dataframe\n",
    "dfBasin = pd.DataFrame() #working dataframe\n",
    "\n",
    "while yearCount < 2017:\n",
    "    basinInputString = str(yearCount) + \"/SumFinal_BasinReport.xlsx\"\n",
    "    dfbinput = pd.read_excel(basinInputString, skiprows=1)\n",
    "    dfBasin = dfBasin.append(dfbinput)\n",
    "    yearCount = yearCount + 1\n",
    "\n",
    "dfBasin = dfBasin.replace(np.nan, '').drop_duplicates()\n",
    "print(len(dfBasin.index))\n",
    "dfBasin.head(3)"
   ]
  },
  {
   "cell_type": "code",
   "execution_count": null,
   "metadata": {},
   "outputs": [],
   "source": [
    "# Produce Temporary Basin out dataframe\n",
    "columnsList = [\"Year\", \"Basin\", \"Population\"]\n",
    "dfBasinV2 = pd.DataFrame(columns=columnsList)\n",
    "dfBasinV2 = dfBasin[columnsList]\n",
    "dfBasinV2 = dfBasinV2.rename(columns={\"Basin\": \"in_ReportingUnitName\"})\n",
    "\n",
    "############################################\n",
    "\n",
    "dfBasinV2 = dfBasinV2.assign(TX_BenUse='')\n",
    "dfBasinV2 = dfBasinV2.assign(in_Amount='')\n",
    "dfBasinV2 = dfBasinV2.assign(in_ReportingUnitType='')\n",
    "dfBasinOut = pd.DataFrame()\n",
    "\n",
    "############################################\n",
    "columnsList = [\n",
    "\"Irrig ation Reuse\",\n",
    "\"Irrigation Ground Water\",\n",
    "\"Irrigation Surface Water\",\n",
    "\"Livestock Ground Water\",\n",
    "\"Livestock Reuse\",\n",
    "\"Livestock Surface Water\",\n",
    "\"Mfg Ground Water\",\n",
    "\"Mfg Reuse\",\n",
    "\"Mfg Surface Water\",\n",
    "\"Mining Ground Water\",\n",
    "\"Mining Reuse\",\n",
    "\"Mining Surface Water\",\n",
    "\"Municipal Ground  Water\",\n",
    "\"Municipal Reuse\",\n",
    "\"Municipal Surface Water\",\n",
    "\"Power Ground Water\",\n",
    "\"Power Reuse\",\n",
    "\"Power Surface Water\"]\n",
    "lenList = len(columnsList)\n",
    "\n",
    "\n",
    "############################################\n",
    "for i in range(lenList):\n",
    "    BenuseString = columnsList[i]\n",
    "    dfBasinV2['TX_BenUse'] = BenuseString\n",
    "    dfBasinV2['in_Amount'] = dfBasin[columnsList[i]]\n",
    "    dfBasinV2['in_ReportingUnitType'] = \"Basin\"\n",
    "    dfBasinOut = dfBasinOut.append(dfBasinV2)\n",
    "    \n",
    "############################################\n",
    "\n",
    "print(len(dfBasinOut.index))\n",
    "dfBasinOut.head(3)"
   ]
  },
  {
   "cell_type": "markdown",
   "metadata": {},
   "source": [
    "# County Data"
   ]
  },
  {
   "cell_type": "code",
   "execution_count": null,
   "metadata": {},
   "outputs": [],
   "source": [
    "# #Read in County xlsx data.  2000-2016.\n",
    "yearCount = 2000\n",
    "dfcinput = pd.DataFrame() #input dataframe\n",
    "dfCounty = pd.DataFrame() #working dataframe\n",
    "\n",
    "while yearCount < 2017:\n",
    "    countyInputString = str(yearCount) + \"/SumFinal_CountyReport.xlsx\"\n",
    "    dfcinput = pd.read_excel(countyInputString, skiprows=1)\n",
    "    dfCounty = dfCounty.append(dfcinput)\n",
    "    yearCount = yearCount + 1\n",
    "\n",
    "dfCounty = dfCounty.replace(np.nan, '').drop_duplicates()\n",
    "print(len(dfCounty.index))\n",
    "dfCounty.head(3)"
   ]
  },
  {
   "cell_type": "code",
   "execution_count": null,
   "metadata": {},
   "outputs": [],
   "source": [
    "# Produce Temporary County out dataframe\n",
    "columnsList = [\"Year\", \"County\", \"Population\"]\n",
    "dfCountyV2 = pd.DataFrame(columns=columnsList)\n",
    "dfCountyV2 = dfCounty[columnsList]\n",
    "dfCountyV2 = dfCountyV2.rename(columns={\"County\": \"in_ReportingUnitName\"})\n",
    "\n",
    "############################################\n",
    "\n",
    "dfCountyV2 = dfCountyV2.assign(TX_BenUse='')\n",
    "dfCountyV2 = dfCountyV2.assign(in_Amount='')\n",
    "dfCountyV2 = dfCountyV2.assign(in_ReportingUnitType='')\n",
    "dfCountyOut = pd.DataFrame()\n",
    "\n",
    "############################################\n",
    "columnsList = [\n",
    "\"Irrigation Ground Water\",\n",
    "\"Irrigation Reuse\",\n",
    "\"Irrigation Surface Water\",\n",
    "\"Livestock Ground Water\",\n",
    "\"Livestock Reuse\",\n",
    "\"Livestock Surface Water\",\n",
    "\"Mfg Ground Water\",\n",
    "\"Mfg Reuse\",\n",
    "\"Mfg Surface Water\",\n",
    "\"Mining Ground Water\",\n",
    "\"Mining Reuse\",\n",
    "\"Mining Surface Water\",\n",
    "\"Municipal Ground Water\",\n",
    "\"Municipal Reuse\",\n",
    "\"Municipal Surface Water\",\n",
    "\"Power Ground Water\",\n",
    "\"Power Reuse\",\n",
    "\"Power Surface Water\"]\n",
    "lenList = len(columnsList)\n",
    "\n",
    "\n",
    "############################################\n",
    "for i in range(lenList):\n",
    "    BenuseString = columnsList[i]\n",
    "    dfCountyV2['TX_BenUse'] = BenuseString\n",
    "    dfCountyV2['in_Amount'] = dfCounty[columnsList[i]]\n",
    "    dfCountyV2['in_ReportingUnitType'] = \"County\"\n",
    "    dfCountyOut = dfCountyOut.append(dfCountyV2)\n",
    "    \n",
    "############################################\n",
    "\n",
    "print(len(dfCountyOut.index))\n",
    "dfCountyOut.head(3)"
   ]
  },
  {
   "cell_type": "markdown",
   "metadata": {},
   "source": [
    "# Output Dataframe"
   ]
  },
  {
   "cell_type": "code",
   "execution_count": null,
   "metadata": {},
   "outputs": [],
   "source": [
    "dfout = dfBasinOut\n",
    "dfout = dfout.append(dfCountyOut)\n",
    "print(len(dfout.index))\n",
    "dfout.head(3)"
   ]
  },
  {
   "cell_type": "code",
   "execution_count": null,
   "metadata": {},
   "outputs": [],
   "source": [
    "# WaterSourceType.  Use the TX Benefical Use to help determine this.\n",
    "\n",
    "dfout = dfout.assign(in_WaterSourceType='')\n",
    "\n",
    "def defineWaterSourceType(colrowValue):\n",
    "    if colrowValue == '' or pd.isnull(colrowValue):\n",
    "        outString = 'Unspecified'\n",
    "    else:\n",
    "        try:\n",
    "            if \"Surface Water\" in str(colrowValue).strip():\n",
    "                outString = \"Surface Water\"\n",
    "            elif \"Ground Water\" in str(colrowValue).strip():\n",
    "                outString = \"Groundwater\"\n",
    "            elif \"Ground  Water\" in str(colrowValue).strip():\n",
    "                outString = \"Groundwater\"\n",
    "            elif \"Reuse\" in str(colrowValue).strip():\n",
    "                outString = \"Reuse\"\n",
    "            else:\n",
    "                outString = \"Unspecified\"\n",
    "        except:\n",
    "            outString = 'Unspecified'\n",
    "    return outString\n",
    "\n",
    "dfout['in_WaterSourceType'] = dfout.apply(lambda row: defineWaterSourceType(row['TX_BenUse']), axis=1)\n",
    "dfout"
   ]
  },
  {
   "cell_type": "code",
   "execution_count": null,
   "metadata": {},
   "outputs": [],
   "source": [
    "# TimeframeStart & TimeframeEnd\n",
    "\n",
    "dfout['inTimeframeStart'] = '01/01/' + dfout['Year'].astype(str)\n",
    "dfout['inTimeframeEnd'] = '12/31/' + dfout['Year'].astype(str)\n",
    "dfout"
   ]
  },
  {
   "cell_type": "code",
   "execution_count": null,
   "metadata": {
    "scrolled": true
   },
   "outputs": [],
   "source": [
    "# Fixing Benefical use\n",
    "\n",
    "BenUseDict = {\n",
    "\"Irrigation Ground Water\" : \"Irrigation\",\n",
    "\"Irrigation Reuse\" : \"Irrigation\",\n",
    "\"Irrigation Surface Water\" : \"Irrigation\",\n",
    "\"Livestock Ground Water\" : \"Livestock\",\n",
    "\"Livestock Reuse\" : \"Livestock\",\n",
    "\"Livestock Surface Water\" : \"Livestock\",\n",
    "\"Mfg Ground Water\" : \"Manufacturing\",\n",
    "\"Mfg Reuse\" : \"Manufacturing\",\n",
    "\"Mfg Surface Water\" : \"Manufacturing\",\n",
    "\"Mining Ground Water\" : \"Mining\",\n",
    "\"Mining Reuse\" : \"Mining\",\n",
    "\"Mining Surface Water\" : \"Mining\",\n",
    "\"Municipal Ground Water\" : \"Municipal\",\n",
    "\"Municipal Reuse\" : \"Municipal\",\n",
    "\"Municipal Surface Water\" : \"Municipal\",\n",
    "\"Power Ground Water\" : \"Power\",\n",
    "\"Power Reuse\" : \"Power\",\n",
    "\"Power Surface Water\" : \"Power\",\n",
    "\"Irrig ation Reuse\" : \"Irrigation\",\n",
    "\"Municipal Ground  Water\" : \"Municipal\"}\n",
    "\n",
    "def fixTX_BenUse(colrowValue):\n",
    "    if colrowValue == '' or pd.isnull(colrowValue):\n",
    "        outString = 'UnSpecified'\n",
    "    else:\n",
    "        String1 = colrowValue\n",
    "        try:\n",
    "            outString = BenUseDict[String1]\n",
    "        except:\n",
    "            outString = 'UnSpecified'\n",
    "    return outString\n",
    "\n",
    "dfout['TX_BenUse'] = dfout.apply(lambda row: fixTX_BenUse(row['TX_BenUse']), axis=1)\n",
    "dfout"
   ]
  },
  {
   "cell_type": "code",
   "execution_count": null,
   "metadata": {},
   "outputs": [],
   "source": [
    "# Dropping the 'STATE TOTAL' unit name.\n",
    "\n",
    "dfout = dfout[dfout.in_ReportingUnitName != \"STATE TOTAL\"]\n",
    "dfout"
   ]
  },
  {
   "cell_type": "code",
   "execution_count": null,
   "metadata": {},
   "outputs": [],
   "source": [
    "# in_VariableSpecificCV Info\n",
    "dfout['in_VariableSpecificCV'] = \"Consumptive Use_Annual_\" + dfout['TX_BenUse'] + \"_\" + dfout['in_WaterSourceType']\n",
    "dfout['in_VariableSpecificCV'].unique()"
   ]
  },
  {
   "cell_type": "markdown",
   "metadata": {},
   "source": [
    "## WaDE Custom Elements (due to missing reporting unit and water source info)"
   ]
  },
  {
   "cell_type": "code",
   "execution_count": null,
   "metadata": {},
   "outputs": [],
   "source": [
    "# Creating WaDE Custom water source native ID for easy water source identification\n",
    "# ----------------------------------------------------------------------------------------------------\n",
    "\n",
    "# Create temp WaterSourceNativeID dataframe of unique water source.\n",
    "def assignWaterSourceNativeID(colrowValue):\n",
    "    string1 = str(colrowValue)\n",
    "    outstring = \"WaDETX_WS\" + string1\n",
    "    return outstring\n",
    "\n",
    "dfWaterSourceNativeID = pd.DataFrame()\n",
    "dfWaterSourceNativeID['in_WaterSourceType'] = dfout['in_WaterSourceType']\n",
    "dfWaterSourceNativeID = dfWaterSourceNativeID.drop_duplicates()\n",
    "\n",
    "dftemp = pd.DataFrame(index=dfWaterSourceNativeID.index)\n",
    "dftemp[\"Count\"] = range(1, len(dftemp.index) + 1)\n",
    "dfWaterSourceNativeID['in_WaterSourceNativeID'] = dftemp.apply(lambda row: assignWaterSourceNativeID(row['Count']), axis=1)\n",
    "\n",
    "# ----------------------------------------------------------------------------------------------------\n",
    "\n",
    "# Retreive WaDE Custom water source native ID\n",
    "def retrieveWaterSourceNativeID(A):\n",
    "    if (A == '') or (pd.isnull(A)):\n",
    "        outList = ''\n",
    "    else:\n",
    "        ml = dfWaterSourceNativeID.loc[(dfWaterSourceNativeID['in_WaterSourceType'] == A), 'in_WaterSourceNativeID']\n",
    "        if not (ml.empty):  # check if the series is empty\n",
    "            outList = ml.iloc[0]\n",
    "        else:\n",
    "            outList = ''\n",
    "    return outList\n",
    "\n",
    "dfout['in_WaterSourceNativeID'] = dfout.apply(lambda row: retrieveWaterSourceNativeID(row['in_WaterSourceType']), axis=1)\n",
    "dfout"
   ]
  },
  {
   "cell_type": "code",
   "execution_count": null,
   "metadata": {},
   "outputs": [],
   "source": [
    "# Creating WaDE Custom reportingunit native ID for easy site identificaiion\n",
    "# ----------------------------------------------------------------------------------------------------\n",
    "\n",
    "# Create temp ReportingUnitNativeID dataframe of unique reporting units.\n",
    "def assignReportingUnitNativeID(colrowValue):\n",
    "    string1 = str(colrowValue)\n",
    "    outstring = \"WaDETX_RU\" + string1\n",
    "    return outstring\n",
    "\n",
    "dfReportingUnitNativeID = pd.DataFrame()\n",
    "dfReportingUnitNativeID['in_ReportingUnitName'] = dfout['in_ReportingUnitName']\n",
    "dfReportingUnitNativeID['in_ReportingUnitType'] = dfout['in_ReportingUnitType']\n",
    "dfReportingUnitNativeID = dfReportingUnitNativeID.drop_duplicates()\n",
    "\n",
    "dftemp = pd.DataFrame(index=dfReportingUnitNativeID.index)\n",
    "dftemp[\"Count\"] = range(1, len(dftemp.index) + 1)\n",
    "dfReportingUnitNativeID['in_ReportingUnitNativeID'] = dftemp.apply(lambda row: assignReportingUnitNativeID(row['Count']), axis=1)\n",
    "\n",
    "# ----------------------------------------------------------------------------------------------------\n",
    "\n",
    "# Retreive WaDE Custom reportingunit native ID\n",
    "def retrieveReportingUnitNativeID(A, B):\n",
    "    if (A == '' and B == '') or (pd.isnull(A) and pd.isnull(B)):\n",
    "        outList = ''\n",
    "    else:\n",
    "        ml = dfReportingUnitNativeID.loc[(dfReportingUnitNativeID['in_ReportingUnitName'] == A) & \n",
    "                                         (dfReportingUnitNativeID['in_ReportingUnitType'] == B), 'in_ReportingUnitNativeID']\n",
    "        if not (ml.empty):  # check if the series is empty\n",
    "            outList = ml.iloc[0]\n",
    "        else:\n",
    "            outList = ''\n",
    "    return outList\n",
    "\n",
    "dfout['in_ReportingUnitNativeID'] = dfout.apply(lambda row: retrieveReportingUnitNativeID( row['in_ReportingUnitName'], row['in_ReportingUnitType']), axis=1)\n",
    "dfout"
   ]
  },
  {
   "cell_type": "markdown",
   "metadata": {},
   "source": [
    "# Shapefile Data"
   ]
  },
  {
   "cell_type": "code",
   "execution_count": null,
   "metadata": {},
   "outputs": [],
   "source": [
    "# Shapefile input\n",
    "inputBasinShape = gpd.read_file('shapefiles/TX_Basin.shp')\n",
    "inputCountyShape = gpd.read_file('shapefiles/TX_County.shp')"
   ]
  },
  {
   "cell_type": "code",
   "execution_count": null,
   "metadata": {},
   "outputs": [],
   "source": [
    "#Basin Shapefile\n",
    "dfBasinShapetemp = pd.DataFrame(inputBasinShape)\n",
    "\n",
    "columnsList = ['in_ReportingUnitName', 'in_ReportingUnitType', 'geometry']\n",
    "dfBasinShape = pd.DataFrame(columns=columnsList)\n",
    "dfBasinShape['in_ReportingUnitName'] = dfBasinShapetemp['Reportin_1']\n",
    "dfBasinShape['in_ReportingUnitType'] = dfBasinShapetemp['Reportin_2']\n",
    "dfBasinShape['geometry'] = dfBasinShapetemp['geometry']\n",
    "\n",
    "\n",
    "# Retreive WaDE Custom reportingunit native ID\n",
    "def retrieveReportingUnitNativeID(A, B):\n",
    "    if (A == '' and B == '') or (pd.isnull(A) and pd.isnull(B)):\n",
    "        outList = ''\n",
    "    else:\n",
    "        ml = dfout.loc[(dfout['in_ReportingUnitName'] == A) & \n",
    "                       (dfout['in_ReportingUnitType'] == B), 'in_ReportingUnitNativeID']\n",
    "        if not (ml.empty):  # check if the series is empty\n",
    "            outList = ml.iloc[0]\n",
    "        else:\n",
    "            outList = ''\n",
    "    return outList\n",
    "\n",
    "dfBasinShape['in_ReportingUnitNativeID'] = dfBasinShape.apply(lambda row: retrieveReportingUnitNativeID( row['in_ReportingUnitName'], row['in_ReportingUnitType']), axis=1)\n",
    "dfBasinShape\n",
    "\n",
    "\n",
    "dfBasinShape = dfBasinShape.drop_duplicates(subset=None, keep='first', inplace=False, ignore_index=False)\n",
    "dfBasinShape.head(3)"
   ]
  },
  {
   "cell_type": "code",
   "execution_count": null,
   "metadata": {},
   "outputs": [],
   "source": [
    "#CountyShapefile\n",
    "dfCountyShapetemp = pd.DataFrame(inputCountyShape)\n",
    "\n",
    "columnsList = ['in_ReportingUnitName', 'in_ReportingUnitType', 'geometry']\n",
    "dfCountyShape = pd.DataFrame(columns=columnsList)\n",
    "dfCountyShape['in_ReportingUnitName'] = dfCountyShapetemp['Reportin_3'].astype(str).clip()\n",
    "dfCountyShape['in_ReportingUnitType'] = dfCountyShapetemp['Reportin_4'].astype(str).clip()\n",
    "dfCountyShape['geometry'] = dfCountyShapetemp['geometry']\n",
    "\n",
    "# Retreive WaDE Custom reportingunit native ID\n",
    "def retrieveReportingUnitNativeID(A, B):\n",
    "    if (A == '' and B == '') or (pd.isnull(A) and pd.isnull(B)):\n",
    "        outList = ''\n",
    "    else:\n",
    "        ml = dfout.loc[(dfout['in_ReportingUnitName'] == A) & \n",
    "                       (dfout['in_ReportingUnitType'] == B), 'in_ReportingUnitNativeID']\n",
    "        if not (ml.empty):  # check if the series is empty\n",
    "            outList = ml.iloc[0]\n",
    "        else:\n",
    "            outList = ''\n",
    "    return outList\n",
    "\n",
    "dfCountyShape['in_ReportingUnitNativeID'] = dfCountyShape.apply(lambda row: retrieveReportingUnitNativeID( row['in_ReportingUnitName'], row['in_ReportingUnitType']), axis=1)\n",
    "dfCountyShape\n",
    "\n",
    "dfCountyShape = dfCountyShape.drop_duplicates(subset=None, keep='first', inplace=False, ignore_index=False)\n",
    "dfCountyShape"
   ]
  },
  {
   "cell_type": "code",
   "execution_count": null,
   "metadata": {},
   "outputs": [],
   "source": [
    "# Concatenate shp datafraes together.\n",
    "frames = [dfBasinShape, dfCountyShape]\n",
    "dfAllShape = pd.concat(frames).reset_index()\n",
    "dfAllShape"
   ]
  },
  {
   "cell_type": "markdown",
   "metadata": {},
   "source": [
    "### Inspect Output Data & Export"
   ]
  },
  {
   "cell_type": "code",
   "execution_count": null,
   "metadata": {},
   "outputs": [],
   "source": [
    "# Export out to CSV.\n",
    "dfout.to_csv('P_txAggMaster.csv', index=False) # The output.\n",
    "dfAllShape.to_csv('P_TXGeometry.csv', index=False) # The output geometry."
   ]
  },
  {
   "cell_type": "code",
   "execution_count": null,
   "metadata": {},
   "outputs": [],
   "source": []
  }
 ],
 "metadata": {
  "kernelspec": {
   "display_name": "Python 3 (ipykernel)",
   "language": "python",
   "name": "python3"
  },
  "language_info": {
   "codemirror_mode": {
    "name": "ipython",
    "version": 3
   },
   "file_extension": ".py",
   "mimetype": "text/x-python",
   "name": "python",
   "nbconvert_exporter": "python",
   "pygments_lexer": "ipython3",
   "version": "3.12.3"
  }
 },
 "nbformat": 4,
 "nbformat_minor": 4
}
