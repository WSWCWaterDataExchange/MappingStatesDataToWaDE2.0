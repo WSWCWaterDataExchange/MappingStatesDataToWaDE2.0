{
 "cells": [
  {
   "cell_type": "markdown",
   "metadata": {},
   "source": [
    "# Pre-processing Texas TCEQ Allocation data for WaDEQA upload.\n",
    "Date Updated: 03/28/2023\n",
    "Purpose:  To pre-process the Texas data into one master file for simple DataFrame creation and extraction"
   ]
  },
  {
   "cell_type": "code",
   "execution_count": null,
   "metadata": {},
   "outputs": [],
   "source": [
    "#Needed Libararies\n",
    "\n",
    "# working with data\n",
    "import os\n",
    "import numpy as np\n",
    "import pandas as pd\n",
    "import geopandas as gpd\n",
    "\n",
    "# visulizaiton\n",
    "import matplotlib.pyplot as plt\n",
    "import seaborn as sns\n",
    "\n",
    "# API retrieval\n",
    "import requests\n",
    "import json\n",
    "\n",
    "# Cleanup\n",
    "from datetime import datetime\n",
    "pd.set_option('display.max_columns', 999)  # How to display all columns of a Pandas DataFrame in Jupyter Notebook\n",
    "pd.set_option('display.float_format', lambda x: '%.5f' % x) # suppress scientific notation in Pandas"
   ]
  },
  {
   "cell_type": "code",
   "execution_count": null,
   "metadata": {},
   "outputs": [],
   "source": [
    "#Working Directory\n",
    "workingDir = \"G:/Shared drives/WaDE Data/Texas/WaterAllocation/RawInputData\"\n",
    "os.chdir(workingDir)"
   ]
  },
  {
   "cell_type": "markdown",
   "metadata": {},
   "source": [
    "## Assign Owner Name\n",
    "- create dictionary of owner names\n",
    "- will use a dictionary to assign owner name for output main file."
   ]
  },
  {
   "cell_type": "code",
   "execution_count": null,
   "metadata": {},
   "outputs": [],
   "source": [
    "#Dataframe creation - owners\n",
    "ownerInput = \"WaterRightOwner.csv\"\n",
    "df_owner = pd.read_csv(ownerInput, usecols=['Water Right ID', 'Owner'], encoding=\"ISO-8859-1\")\n",
    "df_owner.head()"
   ]
  },
  {
   "cell_type": "code",
   "execution_count": null,
   "metadata": {},
   "outputs": [],
   "source": [
    "# Clean Owner info.  Remove special characters\n",
    "\n",
    "import re\n",
    "\n",
    "def cleanOwnerDataFunc(Val):\n",
    "    Val = re.sub(\"[$@&.;,/\\)(-]\", \"\", Val).strip()\n",
    "    return Val\n",
    "\n",
    "df_owner['Owner'] = df_owner.apply(lambda row: cleanOwnerDataFunc(row['Owner']), axis=1)\n",
    "df_owner['Owner'].unique()"
   ]
  },
  {
   "cell_type": "code",
   "execution_count": null,
   "metadata": {},
   "outputs": [],
   "source": [
    "# Merge onwers, assign ID\n",
    "# Issue of multiple owners per water Right ID\n",
    "\n",
    "def retrieveNames(df):\n",
    "    ids = df['Water Right ID'].drop_duplicates()\n",
    "    outdf = pd.DataFrame(ids)\n",
    "    outdf.reset_index(drop=True, inplace=True)\n",
    "    outdf['owners'] = ''\n",
    "    outdf.set_index(outdf['Water Right ID'], inplace=True)\n",
    "\n",
    "    for id in ids:\n",
    "        vals = df.loc[df['Water Right ID'] == id]\n",
    "        vals.reset_index(inplace=True)\n",
    "        names = []\n",
    "        for i, row in vals.iterrows():\n",
    "            names.append(row['Owner'])\n",
    "\n",
    "        outdf.at[id, 'owners'] = ', '.join(names)\n",
    "\n",
    "    return outdf\n",
    "\n",
    "df_owners = retrieveNames(df_owner)\n",
    "df_owners['WaterRightID'] = df_owners['Water Right ID']\n",
    "df_owners.head()"
   ]
  },
  {
   "cell_type": "markdown",
   "metadata": {},
   "source": [
    "## Assign Ben Use\n",
    "- create dictionary of ben use\n",
    "- will use a dictionary to assign ben use for output main file."
   ]
  },
  {
   "cell_type": "code",
   "execution_count": null,
   "metadata": {},
   "outputs": [],
   "source": [
    "#Dataframe creation - ben use\n",
    "useInput = \"WaterUse.csv\"\n",
    "df_use = pd.read_csv(useInput, usecols=['Water Right ID', 'Use'])\n",
    "df_use.head()"
   ]
  },
  {
   "cell_type": "code",
   "execution_count": null,
   "metadata": {},
   "outputs": [],
   "source": [
    "def retrieveUses(df):\n",
    "    ids = df['Water Right ID'].drop_duplicates()\n",
    "    outdf = pd.DataFrame(ids)\n",
    "    outdf.reset_index(drop=True, inplace=True)\n",
    "    outdf['uses'] = ''\n",
    "    outdf.set_index(outdf['Water Right ID'], inplace=True)\n",
    "\n",
    "    for id in ids:\n",
    "        vals = df.loc[df['Water Right ID'] == id]\n",
    "        vals.reset_index(inplace=True)\n",
    "        uses = []\n",
    "        for i, row in vals.iterrows():\n",
    "            new_use = row['Use']\n",
    "\n",
    "            if new_use not in uses:\n",
    "                uses.append(new_use)\n",
    "\n",
    "        outdf.at[id, 'uses'] = ','.join(uses)\n",
    "\n",
    "    return outdf\n",
    "\n",
    "df_uses = retrieveUses(df_use)\n",
    "df_uses['WaterRightID'] = df_uses['Water Right ID']\n",
    "df_uses.head()"
   ]
  },
  {
   "cell_type": "markdown",
   "metadata": {},
   "source": [
    "## Water Right Points and Output file\n",
    "- maint output"
   ]
  },
  {
   "cell_type": "code",
   "execution_count": null,
   "metadata": {},
   "outputs": [],
   "source": [
    "# Input File\n",
    "fileInput = \"WaterRightPoint.csv\"\n",
    "df = pd.read_csv(fileInput)\n",
    "\n",
    "# WaDE UUID tracker for data assessment\n",
    "if 'WaDEUUID' not in df:\n",
    "    df['WaDEUUID'] = \"txWR\" + df.index.astype(str)\n",
    "    df.to_csv('WaterRightPoint.csv', index=False)\n",
    "\n",
    "print(len(df))\n",
    "df.head()"
   ]
  },
  {
   "cell_type": "code",
   "execution_count": null,
   "metadata": {},
   "outputs": [],
   "source": [
    "with pd.option_context('display.max_rows', None, 'display.max_columns', None):\n",
    "    print(df.dtypes)"
   ]
  },
  {
   "cell_type": "code",
   "execution_count": null,
   "metadata": {},
   "outputs": [],
   "source": [
    "# Assining owner name to output file\n",
    "\n",
    "# Loop up dictonary\n",
    "OwnerDict = pd.Series(df_owners.owners.values, index=df_owners.WaterRightID).to_dict()\n",
    "\n",
    "def retrieveOwner(val):\n",
    "    if val == '' or pd.isnull(val):\n",
    "        outString = \"WaDE Unspecified\"\n",
    "    else:\n",
    "        String1 = str(val).strip()\n",
    "        try:\n",
    "            outString = OwnerDict[String1]\n",
    "        except:\n",
    "            outString = \"WaDE Unspecified\"\n",
    "    return outString\n",
    "\n",
    "df['in_AllocationOwner'] = df.apply(lambda row: retrieveOwner(row['WR_ID']), axis=1)\n",
    "df"
   ]
  },
  {
   "cell_type": "code",
   "execution_count": null,
   "metadata": {},
   "outputs": [],
   "source": [
    "# Assining ben use to output file\n",
    "\n",
    "# Loop up dictonary\n",
    "BenuseDict = pd.Series(df_uses.uses.values, index=df_uses.WaterRightID).to_dict()\n",
    "\n",
    "def retrieveBenUse(val):\n",
    "    if val == '' or pd.isnull(val):\n",
    "        outString = \"WaDE Unspecified\"\n",
    "    else:\n",
    "        String1 = str(val).strip()\n",
    "        try:\n",
    "            outString = BenuseDict[String1]\n",
    "        except:\n",
    "            outString = \"WaDE Unspecified\"\n",
    "    return outString\n",
    "\n",
    "df['in_BeneficialUseCategory'] = df.apply(lambda row: retrieveBenUse(row['WR_ID']), axis=1)\n",
    "df"
   ]
  },
  {
   "cell_type": "code",
   "execution_count": null,
   "metadata": {},
   "outputs": [],
   "source": [
    "# Tx projection = EPSG:4269.  WGS84 projection used by WaDE 2.0 = epsg:4326.\n",
    "\n",
    "from pyproj import Transformer, transform # for transforming coordinates to a new projection\n",
    "transformer = Transformer.from_proj(4269, 4326)  \n",
    "\n",
    "def assignLat(colrowValueLat, colrowValueLong):\n",
    "    lat, long = transformer.transform(colrowValueLat, colrowValueLong)\n",
    "    return lat\n",
    "\n",
    "def assignLong(colrowValueLat, colrowValueLong):\n",
    "    lat, long = transformer.transform(colrowValueLat, colrowValueLong)\n",
    "    return long\n",
    "\n",
    "\n",
    "\n",
    "df['in_Latitude'] = df.apply(lambda row: assignLat(row['LAT_DD'], row['LONG_DD']), axis=1)\n",
    "df['in_Longitude'] = df.apply(lambda row: assignLong(row['LAT_DD'], row['LONG_DD']), axis=1)\n",
    "df.head()"
   ]
  },
  {
   "cell_type": "code",
   "execution_count": null,
   "metadata": {},
   "outputs": [],
   "source": [
    "#fixing Spelling issues in TCEQ TYPE field\n",
    "TYPEdict = {\n",
    "\"Dischrage Point\" : \"Discharge Point\",\n",
    "\"Dishcharge Point\" : \"Discharge Point\",\n",
    "\"IBT -  Diversion Point\" : \"IBT - Diversion Point\",\n",
    "\"On-channel  Reservoir\" : \"On-channel Reservoir\",\n",
    "\"On-channel Reservior\" : \"On-channel Reservoir\",\n",
    "\"GW -  Release Point\" : \"GW - Release Point\"\n",
    "}\n",
    "\n",
    "def updateTYPE(colrowValue):\n",
    "    if colrowValue == '' or pd.isnull(colrowValue):\n",
    "        outList = colrowValue\n",
    "    else:\n",
    "        String1 = colrowValue  # remove whitespace chars\n",
    "        try:\n",
    "            outList = TYPEdict[String1]\n",
    "        except:\n",
    "            outList = colrowValue\n",
    "    return outList\n",
    "\n",
    "df['TYPE'] = df.apply(lambda row: updateTYPE(row['TYPE']), axis=1)"
   ]
  },
  {
   "cell_type": "code",
   "execution_count": null,
   "metadata": {},
   "outputs": [],
   "source": [
    "# Creating the output Dataframe for PODs.\n",
    "\n",
    "dfPOD = pd.DataFrame(index=df.index)\n",
    "\n",
    "# Data Assessment UUID\n",
    "dfPOD['WaDEUUID'] = df['WaDEUUID']\n",
    "\n",
    "# Water Source\n",
    "dfPOD[\"in_WaterSourceName\"] = \"WaDE Unspecified\"\n",
    "dfPOD[\"in_WaterSourceTypeCV\"] = \"WaDE Unspecified\"\n",
    "\n",
    "# Site\n",
    "dfPOD[\"in_CoordinateAccuracy\"] = \"WaDE Unspecified\"\n",
    "dfPOD[\"in_CoordinateMethodCV\"] = \"Digitized\"\n",
    "dfPOD['in_HUC12'] = \"\"\n",
    "dfPOD['in_HUC8'] = \"\"\n",
    "dfPOD['in_County'] = \"\"\n",
    "dfPOD[\"in_Latitude\"] = df['in_Latitude']\n",
    "dfPOD[\"in_Longitude\"] = df['in_Longitude']\n",
    "dfPOD[\"in_PODorPOUSite\"] = \"POD\"\n",
    "dfPOD[\"in_SiteName\"] = \"WaDE Unspecified\"\n",
    "dfPOD[\"in_SiteNativeID\"] = \"POD\" + df['TCEQ_ID'].astype(str)\n",
    "dfPOD[\"in_SiteTypeCV\"] = df['TYPE']\n",
    "dfPOD[\"in_StateCV\"] = \"TX\"\n",
    "\n",
    "# Allocation\n",
    "dfPOD[\"in_AllocationFlow_CFS\"] = \"\"\n",
    "dfPOD[\"in_AllocationVolume_AF\"] = \"\"\n",
    "dfPOD['in_AllocationLegalStatusCV'] = \"WaDE Unspecified\"\n",
    "dfPOD[\"in_AllocationNativeID\"] = df['WR_ID']\n",
    "dfPOD['in_AllocationOwner'] = df['in_AllocationOwner']\n",
    "dfPOD['in_AllocationPriorityDate'] = \"\"\n",
    "dfPOD['in_AllocationTimeframeEnd'] = \"\"\n",
    "dfPOD['in_AllocationTimeframeStart'] = \"\"\n",
    "dfPOD['in_AllocationTypeCV'] = \"WaDE Unspecified\"\n",
    "dfPOD[\"in_BeneficialUseCategory\"] = df['in_BeneficialUseCategory']\n",
    "dfPOD['in_CommunityWaterSupplySystem'] = \"\"\n",
    "dfPOD['in_ExemptOfVolumeFlowPriority'] = \"1\" # we want this data excempt\n",
    "dfPOD[\"in_IrrigatedAcreage\"] = \"\"\n",
    "dfPOD[\"in_IrrigationMethodCV\"] = \"\"\n",
    "dfPOD[\"in_WaterAllocationNativeURL\"] = \"\"\n",
    "\n",
    "dfPOD = dfPOD.drop_duplicates().reset_index(drop=True)\n",
    "print(len(dfPOD))\n",
    "dfPOD.head(1)"
   ]
  },
  {
   "cell_type": "markdown",
   "metadata": {},
   "source": [
    "## Inspect and Clean Data"
   ]
  },
  {
   "cell_type": "code",
   "execution_count": null,
   "metadata": {},
   "outputs": [],
   "source": [
    "%%time\n",
    "\n",
    "# Creating WaDE Custom water source native ID for easy water source identification\n",
    "# Change 'outstring' name to be state specific.\n",
    "# ----------------------------------------------------------------------------------------------------\n",
    "\n",
    "# Create temp WaterSourceNativeID dataframe of unique water source.\n",
    "def assignWaterSourceNativeID(colrowValue):\n",
    "    string1 = str(colrowValue)\n",
    "    outstring = \"WaDETX_WS\" + string1\n",
    "    return outstring\n",
    "\n",
    "dfWaterSourceNativeID = pd.DataFrame()\n",
    "dfWaterSourceNativeID['in_WaterSourceName'] = dfPOD['in_WaterSourceName']\n",
    "dfWaterSourceNativeID['in_WaterSourceTypeCV'] = dfPOD['in_WaterSourceTypeCV']\n",
    "dfWaterSourceNativeID = dfWaterSourceNativeID.drop_duplicates()\n",
    "\n",
    "dftemp = pd.DataFrame(index=dfWaterSourceNativeID.index)\n",
    "dftemp[\"Count\"] = range(1, len(dftemp.index) + 1)\n",
    "dfWaterSourceNativeID['in_WaterSourceNativeID'] = dftemp.apply(lambda row: assignWaterSourceNativeID(row['Count']), axis=1)\n",
    "\n",
    "# ----------------------------------------------------------------------------------------------------\n",
    "\n",
    "# Retreive WaDE Custom water source native ID\n",
    "def retrieveWaterSourceNativeID(A, B):\n",
    "    if (A == '' and B == '') or (pd.isnull(A) and pd.isnull(B)):\n",
    "        outList = ''\n",
    "    else:\n",
    "        ml = dfWaterSourceNativeID.loc[(dfWaterSourceNativeID['in_WaterSourceName'] == A) & \n",
    "                                       (dfWaterSourceNativeID['in_WaterSourceTypeCV'] == B), 'in_WaterSourceNativeID']\n",
    "        if not (ml.empty):  # check if the series is empty\n",
    "            outList = ml.iloc[0]\n",
    "        else:\n",
    "            outList = ''\n",
    "    return outList\n",
    "\n",
    "dfPOD['in_WaterSourceNativeID'] = dfPOD.apply(lambda row: retrieveWaterSourceNativeID( row['in_WaterSourceName'], row['in_WaterSourceTypeCV']), axis=1)\n",
    "dfPOD['in_WaterSourceNativeID'].unique()"
   ]
  },
  {
   "cell_type": "markdown",
   "metadata": {},
   "source": [
    "## Export Data"
   ]
  },
  {
   "cell_type": "code",
   "execution_count": null,
   "metadata": {},
   "outputs": [],
   "source": [
    "# Export the output dataframe\n",
    "dfPOD.to_csv('P_TexasWRP.zip', index=False, compression=\"zip\")  # The output, save as a zip"
   ]
  },
  {
   "cell_type": "code",
   "execution_count": null,
   "metadata": {},
   "outputs": [],
   "source": []
  }
 ],
 "metadata": {
  "kernelspec": {
   "display_name": "Python 3 (ipykernel)",
   "language": "python",
   "name": "python3"
  },
  "language_info": {
   "codemirror_mode": {
    "name": "ipython",
    "version": 3
   },
   "file_extension": ".py",
   "mimetype": "text/x-python",
   "name": "python",
   "nbconvert_exporter": "python",
   "pygments_lexer": "ipython3",
   "version": "3.9.16"
  }
 },
 "nbformat": 4,
 "nbformat_minor": 2
}
