{
 "cells": [
  {
   "cell_type": "markdown",
   "metadata": {},
   "source": [
    "# Pre-processing Texas TCEQ Allocation data for WaDEQA upload.\n",
    "Date Updated: 06/24/2020\n",
    "Purpose:  To pre-process the Texas data into one master file for simple DataFrame creation and extraction"
   ]
  },
  {
   "cell_type": "code",
   "execution_count": null,
   "metadata": {},
   "outputs": [],
   "source": [
    "#Needed Libararies\n",
    "import os\n",
    "import numpy as np\n",
    "import pandas as pd\n",
    "from datetime import datetime\n",
    "pd.set_option('display.max_columns', 999)  # How to display all columns of a Pandas DataFrame in Jupyter Notebook"
   ]
  },
  {
   "cell_type": "code",
   "execution_count": null,
   "metadata": {},
   "outputs": [],
   "source": [
    "#Working Directory and Input File\n",
    "workingDir = \"C:/Users/rjame/Documents/WSWC Documents/MappingStatesDataToWaDE2.0/Texas/WaterAllocation/RawInputData\"\n",
    "os.chdir(workingDir)\n",
    "\n",
    "WRP = \"WaterRightPoint.csv\""
   ]
  },
  {
   "cell_type": "code",
   "execution_count": null,
   "metadata": {},
   "outputs": [],
   "source": [
    "#Dataframe creation\n",
    "df = pd.read_csv(WRP)\n",
    "df"
   ]
  },
  {
   "cell_type": "code",
   "execution_count": null,
   "metadata": {},
   "outputs": [],
   "source": [
    "df.columns"
   ]
  },
  {
   "cell_type": "code",
   "execution_count": null,
   "metadata": {},
   "outputs": [],
   "source": [
    "with pd.option_context('display.max_rows', None, 'display.max_columns', None):\n",
    "    print(df.dtypes)"
   ]
  },
  {
   "cell_type": "code",
   "execution_count": null,
   "metadata": {},
   "outputs": [],
   "source": [
    "#fixing Spelling issues in TCEQ TYPE field\n",
    "TYPEdict = {\n",
    "\"Dischrage Point\" : \"Discharge Point\",\n",
    "\"Dishcharge Point\" : \"Discharge Point\",\n",
    "\"IBT -  Diversion Point\" : \"IBT - Diversion Point\",\n",
    "\"On-channel  Reservoir\" : \"On-channel Reservoir\",\n",
    "\"On-channel Reservior\" : \"On-channel Reservoir\"\n",
    "}\n",
    "\n",
    "def updateTYPE(colrowValue):\n",
    "    if colrowValue == '' or pd.isnull(colrowValue):\n",
    "        outList = colrowValue\n",
    "    else:\n",
    "        String1 = colrowValue  # remove whitespace chars\n",
    "        try:\n",
    "            outList = TYPEdict[String1]\n",
    "        except:\n",
    "            outList = colrowValue\n",
    "    return outList\n",
    "\n",
    "df['TYPE'] = df.apply(lambda row: updateTYPE(row['TYPE']), axis=1)"
   ]
  },
  {
   "cell_type": "code",
   "execution_count": null,
   "metadata": {},
   "outputs": [],
   "source": [
    "#Exporting to Finished File\n",
    "df.to_csv('P_TexasWRP.csv', index=False)  # The output"
   ]
  },
  {
   "cell_type": "code",
   "execution_count": null,
   "metadata": {},
   "outputs": [],
   "source": []
  }
 ],
 "metadata": {
  "kernelspec": {
   "display_name": "Python 3",
   "language": "python",
   "name": "python3"
  },
  "language_info": {
   "codemirror_mode": {
    "name": "ipython",
    "version": 3
   },
   "file_extension": ".py",
   "mimetype": "text/x-python",
   "name": "python",
   "nbconvert_exporter": "python",
   "pygments_lexer": "ipython3",
   "version": "3.8.5"
  }
 },
 "nbformat": 4,
 "nbformat_minor": 2
}
