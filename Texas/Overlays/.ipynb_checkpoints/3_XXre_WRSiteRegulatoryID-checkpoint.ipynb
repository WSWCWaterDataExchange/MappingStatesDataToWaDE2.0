{
 "cells": [
  {
   "cell_type": "markdown",
   "id": "cf1726ea",
   "metadata": {},
   "source": [
    "# Assign RegulatoryOverlayUUIDs Values to Water Right Sites.csv\n",
    "- Purpose:  To assign RegulatoryOverlayUUIDs values to state water right sites.csv File.\n",
    "- Note: requires the completed pre-processed sites.csv file from the state \"WaterAllocation/ProcessedInputData\" folder to be copied over to the \"Regulatory/ProcessedInputData\" folder."
   ]
  },
  {
   "cell_type": "code",
   "execution_count": null,
   "id": "ea6bb0d7",
   "metadata": {},
   "outputs": [],
   "source": [
    "# Needed Libraries / Modules\n",
    "\n",
    "# ---- working with data ----\n",
    "import os  # native operating system interaction\n",
    "import numpy as np  # mathematical array manipulation\n",
    "import pandas as pd  # data structure and data analysis\n",
    "import geopandas as gpd  # geo-data structure and data analysis\n",
    "\n",
    "# ---- visualization ----\n",
    "import matplotlib.pyplot as plt  # plotting library\n",
    "import seaborn as sns  # plotting library\n",
    "\n",
    "# ---- API data retrieval ----\n",
    "import requests  # http requests\n",
    "import json  # JSON parse\n",
    "\n",
    "# ---- Cleanup ----\n",
    "import re  # string regular expression manipulation\n",
    "from datetime import datetime  # date and time manipulation\n",
    "pd.set_option('display.max_columns', 999)  # How to display all columns of a Pandas DataFrame in Jupyter Notebook\n",
    "pd.set_option('display.float_format', lambda x: '%.5f' % x)  # suppress scientific notation in Pandas"
   ]
  },
  {
   "cell_type": "code",
   "execution_count": null,
   "id": "67694dfd",
   "metadata": {},
   "outputs": [],
   "source": [
    "# Inputs\n",
    "varWaDEDataType = \"Regulatory\" # WaDE datatype for file location\n",
    "\n",
    "# Set Working Directory\n",
    "workingDirString = \"C:/Users/rjame/Documents/WSWC Documents/MappingStatesDataToWaDE2.0/2_CodeMappingTemplates/\" + varWaDEDataType\n",
    "print(f'The working Directory is:', workingDirString)"
   ]
  },
  {
   "cell_type": "markdown",
   "id": "0422914c",
   "metadata": {},
   "source": [
    "## Input Data\n",
    "- state water right sites.csv\n",
    "- state regulatory regulatoryreportingunits.csv\n",
    "- state regulatory reportingunits.csv "
   ]
  },
  {
   "cell_type": "markdown",
   "id": "91f4f18e",
   "metadata": {},
   "source": [
    "#### wade water right site.csv data\n",
    "- convert to geodataframe"
   ]
  },
  {
   "cell_type": "code",
   "execution_count": null,
   "id": "3c5d660b",
   "metadata": {},
   "outputs": [],
   "source": [
    "# State Water Right sites.csv file\n",
    "dfs = pd.read_csv('G:/Shared drives/WaDE Data/NewMexico/WaterAllocation/ProcessedInputData/sites.csv')\n",
    "print(len(dfs))\n",
    "dfs.head(1)"
   ]
  },
  {
   "cell_type": "code",
   "execution_count": null,
   "id": "81ee9aeb",
   "metadata": {},
   "outputs": [],
   "source": [
    "# Map out points\n",
    "contiguous_usa = gpd.read_file(gplt.datasets.get_path('contiguous_usa')) # use for background map in subplot\n",
    "ax = gplt.webmap(contiguous_usa, projection=gcrs.WebMercator()) # set subplot\n",
    "gdfs = gpd.GeoDataFrame(dfs, geometry=gpd.points_from_xy(dfs.Longitude.astype(float), dfs.Latitude.astype(float)), crs=\"EPSG:4326\")\n",
    "gplt.pointplot(gdfs, hue='PODorPOUSite', legend=True, legend_var='hue', ax=ax)"
   ]
  },
  {
   "cell_type": "markdown",
   "id": "7a567a40",
   "metadata": {},
   "source": [
    "#### wade regulatoryreportingunits.csv data"
   ]
  },
  {
   "cell_type": "code",
   "execution_count": null,
   "id": "48b60d8a",
   "metadata": {},
   "outputs": [],
   "source": [
    "inputFile = \"ProcessedInputData/regulatoryreportingunits.csv\"\n",
    "df_rru = pd.read_csv(inputFile)\n",
    "print(len(df_rru))\n",
    "df_rru.head(1)"
   ]
  },
  {
   "cell_type": "markdown",
   "id": "1d024a8b",
   "metadata": {},
   "source": [
    "#### wade reportingunits.csv data"
   ]
  },
  {
   "cell_type": "code",
   "execution_count": null,
   "id": "8053d416",
   "metadata": {},
   "outputs": [],
   "source": [
    "inputFile = \"ProcessedInputData/reportingunits.csv\"\n",
    "dfru = pd.read_csv(inputFile)\n",
    "print(len(dfru))\n",
    "dfru.head(1)"
   ]
  },
  {
   "cell_type": "markdown",
   "id": "c6312364",
   "metadata": {},
   "source": [
    "## Extract RegulatoryOverlay from Reporting Units and assing to WR Sites\n",
    "- repeat scripts based on the number of ReportingUnitTypeCV types.\n",
    "- merge all geo-dataframes into one output"
   ]
  },
  {
   "cell_type": "markdown",
   "id": "166df3a0",
   "metadata": {},
   "source": [
    "#### Regulatory Area Data #1"
   ]
  },
  {
   "cell_type": "code",
   "execution_count": null,
   "id": "470b07ee",
   "metadata": {},
   "outputs": [],
   "source": [
    "dfru1 = dfru.copy()\n",
    "dfru1 = dfru1[dfru1['ReportingUnitTypeCV'] == \"{name of ReportingUnitTypeCV of area data type #1}\"]\n",
    "dfru1 = pd.merge(dfru1, df_rru[['ReportingUnitUUID', 'RegulatoryOverlayUUID']], left_on='ReportingUnitUUID', right_on='ReportingUnitUUID', how='left')\n",
    "print(len(dfru1))\n",
    "dfru1.head(1)"
   ]
  },
  {
   "cell_type": "code",
   "execution_count": null,
   "id": "6c04405e",
   "metadata": {},
   "outputs": [],
   "source": [
    "# Convert dataframe -to- geodataframe & plot\n",
    "contiguous_usa = gpd.read_file(gplt.datasets.get_path('contiguous_usa')) # use for background map in subplot\n",
    "ax = gplt.webmap(contiguous_usa, projection=gcrs.WebMercator()) # set subplot\n",
    "\n",
    "dfru1 = dfru1[dfru1['Geometry'] != \"\"].reset_index(drop=True)\n",
    "dfru1['Geometry'] = gpd.GeoSeries.from_wkt(dfru1['Geometry'], crs=\"EPSG:4326\")\n",
    "gdfru1 = gpd.GeoDataFrame(dfru1, geometry=dfru1['Geometry'], crs=\"EPSG:4326\") # covert to geodataframe\n",
    "gplt.polyplot(gdfru1, ax=ax)"
   ]
  },
  {
   "cell_type": "code",
   "execution_count": null,
   "id": "a1473534",
   "metadata": {},
   "outputs": [],
   "source": [
    "# Select sites within polygon.\n",
    "gdfs_ru1 = gpd.sjoin(left_df=gdfs, right_df=gdfru1[['ReportingUnitUUID', 'RegulatoryOverlayUUID', 'geometry']], op='within').replace(np.nan, \"\")\n",
    "print(len(gdfs_ru1))\n",
    "gdfs_ru1.head()"
   ]
  },
  {
   "cell_type": "code",
   "execution_count": null,
   "id": "587bdf0b",
   "metadata": {},
   "outputs": [],
   "source": [
    "# plot the selected points\n",
    "contiguous_usa = gpd.read_file(gplt.datasets.get_path('contiguous_usa')) # use for background map in subplot\n",
    "ax = gplt.webmap(contiguous_usa, projection=gcrs.WebMercator()) # set subplot\n",
    "gplt.pointplot(gdfs_ru1, hue='PODorPOUSite', legend=True, legend_var='hue', ax=ax)"
   ]
  },
  {
   "cell_type": "code",
   "execution_count": null,
   "id": "66216012",
   "metadata": {},
   "outputs": [],
   "source": [
    "# set RegulatoryOverlayUUIDs\n",
    "gdfs_ru1['RegulatoryOverlayUUIDs'] = gdfs_ru1['RegulatoryOverlayUUID']\n",
    "gdfs_ru1 = gdfs_ru1.drop(['RegulatoryOverlayUUID', 'geometry', 'index_right', 'ReportingUnitUUID'], axis=1)\n",
    "gdfs_ru1.head(1)"
   ]
  },
  {
   "cell_type": "markdown",
   "id": "af4bbf31",
   "metadata": {},
   "source": [
    "#### Regulatory Area Data #2"
   ]
  },
  {
   "cell_type": "code",
   "execution_count": null,
   "id": "bbb9e26a",
   "metadata": {},
   "outputs": [],
   "source": [
    "# dfru2 = dfru.copy()\n",
    "# etc etc"
   ]
  },
  {
   "cell_type": "markdown",
   "id": "246a1916",
   "metadata": {},
   "source": [
    "## Concatenate all Regulatory Area Data Types together\n",
    "- drop geometry from the wade wr sites.csv geodataframe"
   ]
  },
  {
   "cell_type": "code",
   "execution_count": null,
   "id": "b0acd398",
   "metadata": {},
   "outputs": [],
   "source": [
    "# Concatenate dataframes\n",
    "gdfs = gdfs.drop(['geometry'], axis=1)\n",
    "\n",
    "frames = [gdfs, gdfs_ru1] # list all out dataframes here\n",
    "outdf = pd.concat(frames)\n",
    "outdf = outdf.drop_duplicates().reset_index(drop=True).replace(np.nan, \"\")\n",
    "print(len(outdf))"
   ]
  },
  {
   "cell_type": "code",
   "execution_count": null,
   "id": "39ec0c74",
   "metadata": {},
   "outputs": [],
   "source": [
    "# groupby() fields on SiteNativeID\n",
    "outdf = outdf.groupby('SiteNativeID').agg(lambda x: ','.join([str(elem) for elem in (list(set(x))) if elem!=''])).replace(np.nan, \"\").reset_index()\n",
    "print(len(outdf))"
   ]
  },
  {
   "cell_type": "markdown",
   "id": "3760f8b9",
   "metadata": {},
   "source": [
    "# Inspect Output Data & Export"
   ]
  },
  {
   "cell_type": "code",
   "execution_count": null,
   "id": "25aae641",
   "metadata": {},
   "outputs": [],
   "source": [
    "outdf.info()"
   ]
  },
  {
   "cell_type": "code",
   "execution_count": null,
   "id": "0289257b",
   "metadata": {},
   "outputs": [],
   "source": [
    "outdf"
   ]
  },
  {
   "cell_type": "code",
   "execution_count": null,
   "id": "26339f89",
   "metadata": {},
   "outputs": [],
   "source": [
    "# Export out to CSV.\n",
    "outdf.to_csv('ProcessedInputData/sites.csv', index=False) # this is in the Regulatory data folder"
   ]
  },
  {
   "cell_type": "code",
   "execution_count": null,
   "id": "69fc6cb0",
   "metadata": {},
   "outputs": [],
   "source": []
  }
 ],
 "metadata": {
  "kernelspec": {
   "display_name": "Python 3 (ipykernel)",
   "language": "python",
   "name": "python3"
  },
  "language_info": {
   "codemirror_mode": {
    "name": "ipython",
    "version": 3
   },
   "file_extension": ".py",
   "mimetype": "text/x-python",
   "name": "python",
   "nbconvert_exporter": "python",
   "pygments_lexer": "ipython3",
   "version": "3.9.16"
  }
 },
 "nbformat": 4,
 "nbformat_minor": 5
}
