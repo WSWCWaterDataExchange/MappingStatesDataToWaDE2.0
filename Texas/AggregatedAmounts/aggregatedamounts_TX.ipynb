{
 "cells": [
  {
   "cell_type": "code",
   "execution_count": 1,
   "metadata": {},
   "outputs": [],
   "source": [
    "#!/usr/bin/env python\n",
    "import pandas as pd\n",
    "import numpy as np\n",
    "import os\n",
    "from datetime import datetime\n",
    "from dateutil.parser import parse\n",
    "from utilityFunctions import *"
   ]
  },
  {
   "cell_type": "code",
   "execution_count": 2,
   "metadata": {},
   "outputs": [],
   "source": [
    "# working directory\n",
    "working_dir = \"./ProcessedInputData/\"\n",
    "os.chdir(working_dir)"
   ]
  },
  {
   "cell_type": "code",
   "execution_count": null,
   "metadata": {},
   "outputs": [],
   "source": [
    "target_columns = [\"OrganizationUUID\", \"VariableSpecificUUID\", \n",
    "                  \"ReportingUnitUUID\",\n",
    "                  \"PrimaryUseCategory\", \"BeneficialUseCategory\", \n",
    "                  \"WaterSourceUUID\", \"MethodUUID\", \"TimeframeStart\", \"TimeframeEnd\", \n",
    "                  \"DataPublicationDate\", \"DataPublicationDOI\", \"ReportYearCV\", \"Amount\",  \n",
    "                  \"PopulationServed\", \"PowerGeneratedGWh\", \"IrrigatedAcreage\",\n",
    "                  \"InterbasinTransferToID\", \"InterbasinTransferFromID\", \"CustomerTypeCV\",\n",
    "                  \"AllocationCropDutyAmount\", \"IrrigationMethodCV\", \"CropTypeCV\",\n",
    "                  \"CommunityWaterSupplySystem\", \"SDWISIdentifierCV\"]"
   ]
  },
  {
   "cell_type": "code",
   "execution_count": null,
   "metadata": {},
   "outputs": [],
   "source": [
    "outdf100 = pd.DataFrame(columns=target_columns)"
   ]
  },
  {
   "cell_type": "code",
   "execution_count": null,
   "metadata": {},
   "outputs": [],
   "source": [
    "# Input files\n",
    "fileInput1 = \"S_USE_AMOUNT.csv\"\n",
    "fileInput2 = \"SUMMARY_USE.csv\"\n",
    "#fileInput3 = \"REPORTING_UNIT.csv\"\n",
    "#fileInput4 = \"REPORT.csv\"\n",
    "#fileInput5 = \"S_USE_IRRIGATION.csv\"\n",
    "#fileInput6 = \"LU_BENEFICIAL_USE.csv\"\n",
    "\n",
    "# reporting units\n",
    "#inp_repunts = 'reportingunits.csv'"
   ]
  },
  {
   "cell_type": "code",
   "execution_count": null,
   "metadata": {},
   "outputs": [],
   "source": [
    "print(\"Reading inputs...\")\n",
    "\n",
    "df100 = pd.read_csv(fileInput1,encoding = \"ISO-8859-1\") #, usecols =input_owner_cols) \n",
    "print(len(df100.index))\n",
    "#df100.drop_duplicates(inplace=True)\n",
    "#print(len(df100.index))\n",
    "\n",
    "input_cols = ['POPULATION_SERVED', 'POWER_GENERATED']\n",
    "df20 = pd.read_csv(fileInput2,encoding = \"ISO-8859-1\", usecols =input_cols)  \n",
    "print(len(df20.index))\n",
    "\n",
    "# these two files have same length and rows correspond to same water use\n",
    "df100 = df100.assign(POPULATION_SERVED='')\n",
    "df100 = df100.assign(POWER_GENERATED='')\n",
    "df100[\"POPULATION_SERVED\"] = df20[\"POPULATION_SERVED\"]\n",
    "df100[\"POWER_GENERATED\"] = df20[\"POWER_GENERATED\"]\n",
    "#pd.merge(df10, df20, left_on='REPORTING_UNIT_ID', right_on='REPORTING_UNIT_ID') #, how='left')\n",
    "#df100\n",
    "print (len(df100.index))\n",
    "\n",
    "# reporting units look up\n",
    "#df400 = pd.read_csv(inp_repunts,encoding = \"ISO-8859-1\")\n",
    "#drop duplicate rows ---this one is not necessary once the table is refined to remove duplicates\n",
    "#df400 = df400.drop_duplicates(subset=['ReportingUnitName'])\n",
    "#df400"
   ]
  },
  {
   "cell_type": "code",
   "execution_count": null,
   "metadata": {},
   "outputs": [],
   "source": [
    "print(\"reporting units...\")\n",
    "\n",
    "#ReportingUnitUUID\tREPORTING_UNIT_ID\n",
    "\n",
    "df100 = df100.assign(ReportingUnitUUID='')\n",
    "df100['ReportingUnitUUID'] = df100.apply(lambda row: \n",
    "                                         '_'.join([\"TX\", str(row[\"REPORTING_UNIT_ID\"])]),\n",
    "                                                               axis=1)\n",
    "\n",
    "df100"
   ]
  },
  {
   "cell_type": "code",
   "execution_count": null,
   "metadata": {},
   "outputs": [],
   "source": [
    "ben_use_dictionary = {\n",
    "    \"1\":\"Irrigated agriculture_ground\",\n",
    "    \"2\":\"Irrigated agriculture_surface\",\n",
    "    \"3\":\"Irrigated agriculture_reuse\",\n",
    "    \"4\":\"Livestock_ground\",\n",
    "    \"5\":\"Livestock_surface\",\n",
    "    \"6\":\"Livestock_reuse\",\n",
    "    \"7\":\"Mining_ground\",\n",
    "    \"8\":\"Mining_surface\",\n",
    "    \"9\":\"Mining_reuse\",\n",
    "    \"10\":\"Steam-Electric Power_ground\",\n",
    "    \"11\":\"Steam-Electric Power_surface\",\n",
    "    \"12\":\"Steam-Electric Power_reuse\",\n",
    "    \"13\":\"Manufacturing_ground\",\n",
    "    \"14\":\"Manufacturing_surface\",\n",
    "    \"15\":\"Manufacturing_reuse\",\n",
    "    \"16\":\"Municipal_ground\",\n",
    "    \"17\":\"Municipal_surface\",\n",
    "    \"18\":\"Municipal_reuse\"\n",
    "}"
   ]
  },
  {
   "cell_type": "code",
   "execution_count": null,
   "metadata": {},
   "outputs": [],
   "source": [
    "print(\"Beneficial uses...\")\n",
    "\n",
    "#BeneficialUseCategory\tBENEFICIAL_USE_ID\n",
    "\n",
    "df100 = df100.assign(BeneficialUseCategory='')\n",
    "df100['BeneficialUseCategory'] = df100.apply(lambda row: \n",
    "                                ben_use_dictionary[str(row[\"BENEFICIAL_USE_ID\"]).strip()],axis=1)\n",
    "\n",
    "df100"
   ]
  },
  {
   "cell_type": "code",
   "execution_count": null,
   "metadata": {},
   "outputs": [],
   "source": [
    "print (\"water source UUID...\")\n",
    "\n",
    "# Three types of water sources: ground, surface, reuse\n",
    "#outdf100.WaterSourceUUID = \"TWDB_1\", \"TWDB_2\", \"TWDB_3\"\n",
    "def mapWaterSourceUUID(inString1):\n",
    "    inString = str(inString1).strip()\n",
    "    if \"ground\" in inString:\n",
    "        return \"TWDB_1\"\n",
    "    elif \"surface\" in inString:\n",
    "        return \"TWDB_2\"\n",
    "    elif \"reuse\" in inString:\n",
    "        return \"TWDB_3\"\n",
    "    else:\n",
    "        print(\"erroneous input string\")\n",
    "        return ''\n",
    "    \n",
    "df100 = df100.assign(WaterSourceUUID='')\n",
    "df100['WaterSourceUUID'] = df100.apply(lambda row: \n",
    "                                       mapWaterSourceUUID(row[\"BeneficialUseCategory\"]), axis=1)\n",
    "\n",
    "df100"
   ]
  },
  {
   "cell_type": "code",
   "execution_count": null,
   "metadata": {},
   "outputs": [],
   "source": [
    "print(\"Copying Columns...\")\n",
    "\n",
    "#ReportYearCV\tREPORT_ID \n",
    "#Amount\tAMOUNT\n",
    "#PopulationServed\tPOPULATION_SERVED\n",
    "#PowerGeneratedGWh\tPOWER_GENERATED\n",
    "#TimeframeStart\tSTART_DATE\n",
    "#TimeframeEnd\tEND_DATE\n",
    "\n",
    "destCols = [\"ReportingUnitUUID\", \"WaterSourceUUID\", \"PrimaryUseCategory\", \"BeneficialUseCategory\", \"ReportYearCV\", \"Amount\", \n",
    "            \"PopulationServed\", \"PowerGeneratedGWh\", \"TimeframeStart\", \"TimeframeEnd\"]\n",
    "srsCols = [\"ReportingUnitUUID\", \"WaterSourceUUID\", \"PrimaryUseCategory\", \"BeneficialUseCategory\", \"REPORT_ID\", \"AMOUNT\", \n",
    "           \"POPULATION_SERVED\", \"POWER_GENERATED\", \"START_DATE\", \"END_DATE\"]\n",
    "\n",
    "outdf100[destCols] = df100[srsCols]\n",
    "\n",
    "outdf100"
   ]
  },
  {
   "cell_type": "code",
   "execution_count": null,
   "metadata": {},
   "outputs": [],
   "source": [
    "# hardcoded\n",
    "\n",
    "outdf100.OrganizationUUID = \"TWDB\"\n",
    "#\n",
    "outdf100.VariableSpecificUUID = \"Consumptive Use\"\n",
    "# variableSpecificCV = 'Allocation All'\n",
    "outdf100.MethodUUID = \"TWDB_Water_uses\"\n",
    "#outdf100.AllocationBasisCV = \"Unknown\"\n",
    "# check this later\n",
    "#outdf100.PrimaryUseCategory = \"Irrigation\"\n",
    "#outdf100.TimeframeStart = \"01/01\"\n",
    "#outdf100.TimeframeEnd = \"12/31\"\n",
    "#\n",
    "outdf100.DataPublicationDate = datetime.now().strftime('%m/%d/%Y') \n",
    "\n",
    "outdf100"
   ]
  },
  {
   "cell_type": "code",
   "execution_count": null,
   "metadata": {},
   "outputs": [],
   "source": [
    "print(\"Droping null amounts...\")\n",
    "\n",
    "# if Amount empty drop row and save it to a _missing.csv\n",
    "\n",
    "#outdf100 = outdf100.replace(np.nan, '') #replace NaN by blank strings\n",
    "\n",
    "outdf100purge = outdf100.loc[(outdf100[\"Amount\"] == '') | (outdf100[\"Amount\"] == np.nan)]\n",
    "if len(outdf100purge.index) > 0:\n",
    "    outdf100purge.to_csv('aggregatedallocations_missing.csv')    #index=False,\n",
    "    dropIndex = outdf100.loc[(outdf100[\"Amount\"] == '') | (outdf100[\"Amount\"] == np.nan].index\n",
    "    outdf100 = outdf100.drop(dropIndex)\n",
    "    outdf100 = outdf100.reset_index(drop=True)\n",
    "#outdf100[\"PopulationServed\"]"
   ]
  },
  {
   "cell_type": "code",
   "execution_count": null,
   "metadata": {},
   "outputs": [],
   "source": [
    "print(\"Droping null ReportingUnitID ...\")\n",
    "outdf100nullPR = outdf100.loc[(outdf100[\"ReportingUnitUUID\"] == '') \n",
    "                              | (outdf100[\"ReportingUnitUUID\"] == np.nan)]\n",
    "if len(outdf100nullPR.index) > 0:\n",
    "    dropIndex = outdf100.loc[(outdf100[\"ReportingUnitUUID\"] == '') \n",
    "                              | (outdf100[\"ReportingUnitUUID\"] == np.nan)].index\n",
    "    outdf100 = outdf100.drop(dropIndex)\n",
    "    outdf100 = outdf100.reset_index(drop=True)\n",
    "#outdf100"
   ]
  },
  {
   "cell_type": "code",
   "execution_count": null,
   "metadata": {},
   "outputs": [],
   "source": [
    "print(\"Droping duplicates...\")\n",
    "#drop duplicate rows; just make sure\n",
    "outdf100Duplicated=outdf100.loc[outdf100.duplicated()]\n",
    "if len(outdf100Duplicated.index) > 0:\n",
    "    outdf100Duplicated.to_csv(\"aggregatedallocations_duplicaterows.csv\")  # index=False,\n",
    "    outdf100.drop_duplicates(inplace=True)   #\n",
    "    outdf100 = outdf100.reset_index(drop=True)\n",
    "#outdf100"
   ]
  },
  {
   "cell_type": "code",
   "execution_count": null,
   "metadata": {},
   "outputs": [],
   "source": [
    "print(\"Inspect duplicates for subset of columns...\")\n",
    "\n",
    "target_columns = [\"OrganizationUUID\", \"VariableSpecificUUID\", \n",
    "                  \"ReportingUnitUUID\",\n",
    "                  #\"PrimaryUseCategory\", \"BeneficialUseCategory\", \n",
    "                  \"WaterSourceUUID\", \"MethodUUID\", \"ReportYearCV\"]\n",
    "\n",
    "out_agamount1 = \"aggregatedamounts.csv\"\n",
    "outdf100 = pd.read_csv(out_agamount1,encoding = \"ISO-8859-1\")\n",
    "#drop duplicate rows; just make sure\n",
    "outdf100Duplicated=outdf100.loc[outdf100.duplicated(subset = target_columns)]\n",
    "if len(outdf100Duplicated.index) > 0:\n",
    "    outdf100Duplicated.to_csv(\"aggregateuse_duplicateID_rows.csv\")  # index=False,\n",
    "    outdf100.drop_duplicates(subset = target_columns, inplace=True)   #\n",
    "    outdf100 = outdf100.reset_index(drop=True)\n",
    "    \n",
    "#TODO: These may need removing \n",
    "outdf100Duplicated"
   ]
  },
  {
   "cell_type": "code",
   "execution_count": 8,
   "metadata": {},
   "outputs": [
    {
     "name": "stdout",
     "output_type": "stream",
     "text": [
      "Writing outputs...\n",
      "Done Water Allocation\n"
     ]
    }
   ],
   "source": [
    "print(\"Writing outputs...\")\n",
    "\n",
    "# outputs aggregated amounts\n",
    "out_agamount = \"aggregatedamounts.csv\"\n",
    "outdf100.to_csv(out_agamount, index=False, encoding = \"utf-8\")\n",
    "\n",
    "print(\"Done Water Allocation\")"
   ]
  },
  {
   "cell_type": "code",
   "execution_count": null,
   "metadata": {},
   "outputs": [],
   "source": []
  }
 ],
 "metadata": {
  "kernelspec": {
   "display_name": "Python 3",
   "language": "python",
   "name": "python3"
  },
  "language_info": {
   "codemirror_mode": {
    "name": "ipython",
    "version": 3
   },
   "file_extension": ".py",
   "mimetype": "text/x-python",
   "name": "python",
   "nbconvert_exporter": "python",
   "pygments_lexer": "ipython3",
   "version": "3.7.3"
  }
 },
 "nbformat": 4,
 "nbformat_minor": 2
}
