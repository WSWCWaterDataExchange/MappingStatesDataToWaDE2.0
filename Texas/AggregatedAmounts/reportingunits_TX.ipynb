{
 "cells": [
  {
   "cell_type": "code",
   "execution_count": 1,
   "metadata": {},
   "outputs": [],
   "source": [
    "#!/usr/bin/env python\n",
    "import pandas as pd\n",
    "import numpy as np\n",
    "import os\n",
    "from datetime import datetime\n",
    "from dateutil.parser import parse"
   ]
  },
  {
   "cell_type": "code",
   "execution_count": 2,
   "metadata": {},
   "outputs": [],
   "source": [
    "# working directory\n",
    "working_dir = \"./ProcessedInputData/\"\n",
    "os.chdir(working_dir)"
   ]
  },
  {
   "cell_type": "code",
   "execution_count": 3,
   "metadata": {},
   "outputs": [],
   "source": [
    "target_columns = [\"ReportingUnitUUID\", \"ReportingUnitNativeID\", \"ReportingUnitName\", \n",
    "                  \"ReportingUnitTypeCV\", \"ReportingUnitUpdateDate\", \"ReportingUnitProductVersion\",\n",
    "                  \"StateCV\", \"EPSGCodeCV\", \"Geometry\"]"
   ]
  },
  {
   "cell_type": "code",
   "execution_count": 4,
   "metadata": {},
   "outputs": [],
   "source": [
    "outdf100 = pd.DataFrame(columns=target_columns)"
   ]
  },
  {
   "cell_type": "code",
   "execution_count": 5,
   "metadata": {},
   "outputs": [],
   "source": [
    "# Input files\n",
    "fileInput1 = \"S_USE_AMOUNT.csv\"\n",
    "fileInput2 = \"SUMMARY_USE.csv\"\n",
    "fileInput3 = \"REPORTING_UNIT.csv\"\n",
    "fileInput4 = \"REPORT.csv\"\n",
    "fileInput5 = \"S_USE_IRRIGATION.csv\"\n",
    "fileInput6 = \"LU_BENEFICIAL_USE.csv\""
   ]
  },
  {
   "cell_type": "code",
   "execution_count": 8,
   "metadata": {},
   "outputs": [
    {
     "name": "stdout",
     "output_type": "stream",
     "text": [
      "Reading inputs...\n"
     ]
    }
   ],
   "source": [
    "print(\"Reading inputs...\")\n",
    "\n",
    "df100 = pd.read_csv(fileInput3,encoding = \"ISO-8859-1\") #, usecols =input_owner_cols) \n",
    "#print(len(df100))\n",
    "#df100.drop_duplicates(inplace=True)\n",
    "#print(len(df100))"
   ]
  },
  {
   "cell_type": "code",
   "execution_count": 9,
   "metadata": {},
   "outputs": [
    {
     "name": "stdout",
     "output_type": "stream",
     "text": [
      "Copying Columns...\n"
     ]
    }
   ],
   "source": [
    "print(\"Copying Columns...\")\n",
    "\n",
    "#ReportingUnitNativeID\t REPORTING_UNIT_ID\n",
    "#ReportingUnitName\tREPORTING_UNIT_NAME\n",
    "#ReportingUnitTypeCV\tREPORTING_UNIT_TYPE\n",
    "srsCols = [\"REPORTING_UNIT_ID\", \"REPORTING_UNIT_NAME\", \"REPORTING_UNIT_TYPE\"]\n",
    "destCols = [\"ReportingUnitNativeID\", \"ReportingUnitName\", \"ReportingUnitTypeCV\"]\n",
    "\n",
    "outdf100[destCols] = df100[srsCols]"
   ]
  },
  {
   "cell_type": "code",
   "execution_count": 10,
   "metadata": {},
   "outputs": [
    {
     "name": "stdout",
     "output_type": "stream",
     "text": [
      "ReportingUnitUUID...\n"
     ]
    }
   ],
   "source": [
    "print(\"ReportingUnitUUID...\")\n",
    "\n",
    "#ReportingUnitUUID\t \t NM_NativeID\n",
    "outdf100['ReportingUnitUUID'] = outdf100.apply(lambda row: \"_\".join([\"TX\", str(row['ReportingUnitNativeID'])]), axis=1)\n"
   ]
  },
  {
   "cell_type": "code",
   "execution_count": 11,
   "metadata": {},
   "outputs": [
    {
     "data": {
      "text/html": [
       "<div>\n",
       "<style scoped>\n",
       "    .dataframe tbody tr th:only-of-type {\n",
       "        vertical-align: middle;\n",
       "    }\n",
       "\n",
       "    .dataframe tbody tr th {\n",
       "        vertical-align: top;\n",
       "    }\n",
       "\n",
       "    .dataframe thead th {\n",
       "        text-align: right;\n",
       "    }\n",
       "</style>\n",
       "<table border=\"1\" class=\"dataframe\">\n",
       "  <thead>\n",
       "    <tr style=\"text-align: right;\">\n",
       "      <th></th>\n",
       "      <th>ReportingUnitUUID</th>\n",
       "      <th>ReportingUnitNativeID</th>\n",
       "      <th>ReportingUnitName</th>\n",
       "      <th>ReportingUnitTypeCV</th>\n",
       "      <th>ReportingUnitUpdateDate</th>\n",
       "      <th>ReportingUnitProductVersion</th>\n",
       "      <th>StateCV</th>\n",
       "      <th>EPSGCodeCV</th>\n",
       "      <th>Geometry</th>\n",
       "    </tr>\n",
       "  </thead>\n",
       "  <tbody>\n",
       "    <tr>\n",
       "      <th>0</th>\n",
       "      <td>TX_12</td>\n",
       "      <td>12</td>\n",
       "      <td>BRAZOS</td>\n",
       "      <td>Basin</td>\n",
       "      <td>12/05/2019</td>\n",
       "      <td></td>\n",
       "      <td>TX</td>\n",
       "      <td>EPSG:4326</td>\n",
       "      <td>POLYGON((-99.54319297853704 37.15853229006052,...</td>\n",
       "    </tr>\n",
       "    <tr>\n",
       "      <th>1</th>\n",
       "      <td>TX_13</td>\n",
       "      <td>13</td>\n",
       "      <td>BRAZOS-COLORADO</td>\n",
       "      <td>Basin</td>\n",
       "      <td>12/05/2019</td>\n",
       "      <td></td>\n",
       "      <td>TX</td>\n",
       "      <td>EPSG:4326</td>\n",
       "      <td>POLYGON((-99.54319297853704 37.15853229006052,...</td>\n",
       "    </tr>\n",
       "    <tr>\n",
       "      <th>2</th>\n",
       "      <td>TX_1</td>\n",
       "      <td>1</td>\n",
       "      <td>CANADIAN</td>\n",
       "      <td>Basin</td>\n",
       "      <td>12/05/2019</td>\n",
       "      <td></td>\n",
       "      <td>TX</td>\n",
       "      <td>EPSG:4326</td>\n",
       "      <td>POLYGON((-99.54319297853704 37.15853229006052,...</td>\n",
       "    </tr>\n",
       "    <tr>\n",
       "      <th>3</th>\n",
       "      <td>TX_14</td>\n",
       "      <td>14</td>\n",
       "      <td>COLORADO</td>\n",
       "      <td>Basin</td>\n",
       "      <td>12/05/2019</td>\n",
       "      <td></td>\n",
       "      <td>TX</td>\n",
       "      <td>EPSG:4326</td>\n",
       "      <td>POLYGON((-99.54319297853704 37.15853229006052,...</td>\n",
       "    </tr>\n",
       "    <tr>\n",
       "      <th>4</th>\n",
       "      <td>TX_15</td>\n",
       "      <td>15</td>\n",
       "      <td>COLORADO-LAVACA</td>\n",
       "      <td>Basin</td>\n",
       "      <td>12/05/2019</td>\n",
       "      <td></td>\n",
       "      <td>TX</td>\n",
       "      <td>EPSG:4326</td>\n",
       "      <td>POLYGON((-99.54319297853704 37.15853229006052,...</td>\n",
       "    </tr>\n",
       "  </tbody>\n",
       "</table>\n",
       "</div>"
      ],
      "text/plain": [
       "  ReportingUnitUUID  ReportingUnitNativeID ReportingUnitName  \\\n",
       "0             TX_12                     12            BRAZOS   \n",
       "1             TX_13                     13   BRAZOS-COLORADO   \n",
       "2              TX_1                      1          CANADIAN   \n",
       "3             TX_14                     14          COLORADO   \n",
       "4             TX_15                     15   COLORADO-LAVACA   \n",
       "\n",
       "  ReportingUnitTypeCV ReportingUnitUpdateDate ReportingUnitProductVersion  \\\n",
       "0               Basin              12/05/2019                               \n",
       "1               Basin              12/05/2019                               \n",
       "2               Basin              12/05/2019                               \n",
       "3               Basin              12/05/2019                               \n",
       "4               Basin              12/05/2019                               \n",
       "\n",
       "  StateCV EPSGCodeCV                                           Geometry  \n",
       "0      TX  EPSG:4326  POLYGON((-99.54319297853704 37.15853229006052,...  \n",
       "1      TX  EPSG:4326  POLYGON((-99.54319297853704 37.15853229006052,...  \n",
       "2      TX  EPSG:4326  POLYGON((-99.54319297853704 37.15853229006052,...  \n",
       "3      TX  EPSG:4326  POLYGON((-99.54319297853704 37.15853229006052,...  \n",
       "4      TX  EPSG:4326  POLYGON((-99.54319297853704 37.15853229006052,...  "
      ]
     },
     "execution_count": 11,
     "metadata": {},
     "output_type": "execute_result"
    }
   ],
   "source": [
    "# hardcoded\n",
    "\n",
    "outdf100.StateCV = \"TX\"\n",
    "outdf100.EPSGCodeCV = \"EPSG:4326\"\n",
    "outdf100.ReportingUnitUpdateDate = datetime.now().strftime('%m/%d/%Y') \n",
    "sampleWKT =  'POLYGON((-99.54319297853704 37.15853229006052, -97.26976797641987 37.15759429005948, -105.11636298372741 37.14764529005038, -104.52740598317905 37.15119229005359, -104.09963198278069 37.15376929005606, -103.56062798227867 37.156443290058405, -103.12301898187116 37.157137290059154, -103.08639398183686 37.15689329005886, -103.00203898175846 37.156332290058344, -99.90287697887197 37.162385290064094, -99.54319297853704 37.15853229006052))'\n",
    "outdf100.Geometry = sampleWKT\n",
    "\n",
    "# replace NaN with blank cells\n",
    "outdf100 = outdf100.replace(np.nan, '')\n",
    "outdf100.head(5)"
   ]
  },
  {
   "cell_type": "code",
   "execution_count": null,
   "metadata": {},
   "outputs": [],
   "source": [
    "print(\"Droping duplicates...\")\n",
    "#drop duplicate rows; just make sure\n",
    "outdf100Duplicated=outdf100.loc[outdf100.duplicated()]\n",
    "if len(outdf100Duplicated.index) > 0:\n",
    "    outdf100Duplicated.to_csv(\"reportingunits_duplicaterows.csv\")  # index=False,\n",
    "    outdf100.drop_duplicates(inplace=True)   #\n",
    "    outdf100 = outdf100.reset_index(drop=True)"
   ]
  },
  {
   "cell_type": "code",
   "execution_count": 12,
   "metadata": {},
   "outputs": [
    {
     "name": "stdout",
     "output_type": "stream",
     "text": [
      "Writing out...\n",
      "Done sites\n"
     ]
    }
   ],
   "source": [
    "print(\"Writing out...\")\n",
    "\n",
    "#write out\n",
    "out_repunit = 'reportingunits.csv'\n",
    "outdf100.to_csv(out_repunit, index=False, encoding = \"utf-8\")\n",
    "\n",
    "print(\"Done Reporting units\")"
   ]
  },
  {
   "cell_type": "code",
   "execution_count": null,
   "metadata": {},
   "outputs": [],
   "source": []
  }
 ],
 "metadata": {
  "kernelspec": {
   "display_name": "Python 3",
   "language": "python",
   "name": "python3"
  },
  "language_info": {
   "codemirror_mode": {
    "name": "ipython",
    "version": 3
   },
   "file_extension": ".py",
   "mimetype": "text/x-python",
   "name": "python",
   "nbconvert_exporter": "python",
   "pygments_lexer": "ipython3",
   "version": "3.7.3"
  }
 },
 "nbformat": 4,
 "nbformat_minor": 2
}
