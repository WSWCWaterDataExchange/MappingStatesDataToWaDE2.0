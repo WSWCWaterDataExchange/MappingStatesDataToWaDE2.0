{
 "cells": [
  {
   "cell_type": "markdown",
   "metadata": {},
   "source": [
    "# Preprocessing Texas Site Specific data for WaDEQA upload.\n",
    "- Date Updated: 01/07/2022\n",
    "- Purpose: N/A\n",
    "\n",
    "Notes:\n",
    "- Working with Historical Municipal Water Intake Report for Public Water Systems by Water Planning Region reports.\n",
    "- <font color='red'>Temp fix of removing duplicate entries in the Historical Municipal data.</font> "
   ]
  },
  {
   "cell_type": "code",
   "execution_count": null,
   "metadata": {},
   "outputs": [],
   "source": [
    "# working with data\n",
    "import os\n",
    "import numpy as np\n",
    "import pandas as pd\n",
    "import geopandas as gpd # the library that lets us read in shapefiles\n",
    "\n",
    "# visulizaiton\n",
    "import matplotlib.pyplot as plot\n",
    "import seaborn as sns\n",
    "\n",
    "# Cleanup\n",
    "from datetime import datetime\n",
    "pd.set_option('display.max_columns', 999)  # How to display all columns of a Pandas DataFrame in Jupyter Notebook"
   ]
  },
  {
   "cell_type": "code",
   "execution_count": null,
   "metadata": {},
   "outputs": [],
   "source": [
    "# Working Directory and Input File\n",
    "workingDir = \"G:/Shared drives/WaDE Data/Texas/SS_PublicSupplyWaterUse/RawInputData\"\n",
    "os.chdir(workingDir)"
   ]
  },
  {
   "cell_type": "markdown",
   "metadata": {},
   "source": [
    "# Inputs and Dataframe Creation\n",
    "- Inputs for Historical Municipal data A-P.\n",
    "- Inputs for PWS Water use 2016-2019\n",
    "- Input of an Export of Shapefile data.\n",
    "- Bridge table for Historical Municipal to Export of Shapefile data.|"
   ]
  },
  {
   "cell_type": "code",
   "execution_count": null,
   "metadata": {
    "scrolled": true
   },
   "outputs": [],
   "source": [
    "# 1) HistoricalMunicipal_A\n",
    "fileInput = \"HistoricalMunicipal_A.csv\"\n",
    "df_A = pd.read_csv(fileInput).replace(np.nan, \"\")\n",
    "df_A['sourceFile'] = 'A'\n",
    "print(len(df_A))"
   ]
  },
  {
   "cell_type": "code",
   "execution_count": null,
   "metadata": {},
   "outputs": [],
   "source": [
    "# 2) HistoricalMunicipal_B\n",
    "fileInput = \"HistoricalMunicipal_B.csv\"\n",
    "df_B = pd.read_csv(fileInput).replace(np.nan, \"\")\n",
    "df_B['sourceFile'] = 'B'\n",
    "print(len(df_B))"
   ]
  },
  {
   "cell_type": "code",
   "execution_count": null,
   "metadata": {},
   "outputs": [],
   "source": [
    "# 3) HistoricalMunicipal_C\n",
    "fileInput = \"HistoricalMunicipal_C.csv\"\n",
    "df_C = pd.read_csv(fileInput).replace(np.nan, \"\")\n",
    "df_C['sourceFile'] = 'C'\n",
    "print(len(df_C))"
   ]
  },
  {
   "cell_type": "code",
   "execution_count": null,
   "metadata": {},
   "outputs": [],
   "source": [
    "# 4) HistoricalMunicipal_D\n",
    "fileInput = \"HistoricalMunicipal_D.csv\"\n",
    "df_D = pd.read_csv(fileInput).replace(np.nan, \"\")\n",
    "df_D['sourceFile'] = 'D'\n",
    "print(len(df_D))"
   ]
  },
  {
   "cell_type": "code",
   "execution_count": null,
   "metadata": {},
   "outputs": [],
   "source": [
    "# 5) HistoricalMunicipal_E\n",
    "fileInput = \"HistoricalMunicipal_E.csv\"\n",
    "df_E = pd.read_csv(fileInput).replace(np.nan, \"\")\n",
    "df_E['sourceFile'] = 'E'\n",
    "print(len(df_E))"
   ]
  },
  {
   "cell_type": "code",
   "execution_count": null,
   "metadata": {},
   "outputs": [],
   "source": [
    "# 6) HistoricalMunicipal_F\n",
    "fileInput = \"HistoricalMunicipal_F.csv\"\n",
    "df_F = pd.read_csv(fileInput).replace(np.nan, \"\")\n",
    "df_F['sourceFile'] = 'F'\n",
    "print(len(df_F))"
   ]
  },
  {
   "cell_type": "code",
   "execution_count": null,
   "metadata": {},
   "outputs": [],
   "source": [
    "# 7) HistoricalMunicipal_G\n",
    "fileInput = \"HistoricalMunicipal_G.csv\"\n",
    "df_G = pd.read_csv(fileInput).replace(np.nan, \"\")\n",
    "df_G['sourceFile'] = 'G'\n",
    "print(len(df_G))"
   ]
  },
  {
   "cell_type": "code",
   "execution_count": null,
   "metadata": {},
   "outputs": [],
   "source": [
    "# 8) HistoricalMunicipal_H\n",
    "fileInput = \"HistoricalMunicipal_H.csv\"\n",
    "df_H = pd.read_csv(fileInput).replace(np.nan, \"\")\n",
    "df_H['sourceFile'] = 'H'\n",
    "print(len(df_H))"
   ]
  },
  {
   "cell_type": "code",
   "execution_count": null,
   "metadata": {},
   "outputs": [],
   "source": [
    "# 9) HistoricalMunicipal_I\n",
    "fileInput = \"HistoricalMunicipal_I.csv\"\n",
    "df_I = pd.read_csv(fileInput).replace(np.nan, \"\")\n",
    "df_I['sourceFile'] = 'I'\n",
    "print(len(df_I))"
   ]
  },
  {
   "cell_type": "code",
   "execution_count": null,
   "metadata": {},
   "outputs": [],
   "source": [
    "# 10) HistoricalMunicipal_J\n",
    "fileInput = \"HistoricalMunicipal_J.csv\"\n",
    "df_J = pd.read_csv(fileInput).replace(np.nan, \"\")\n",
    "df_J['sourceFile'] = 'J'\n",
    "print(len(df_J))"
   ]
  },
  {
   "cell_type": "code",
   "execution_count": null,
   "metadata": {},
   "outputs": [],
   "source": [
    "# 11) HistoricalMunicipal_K\n",
    "fileInput = \"HistoricalMunicipal_K.csv\"\n",
    "df_K = pd.read_csv(fileInput).replace(np.nan, \"\")\n",
    "df_K['sourceFile'] = 'K'\n",
    "print(len(df_K))"
   ]
  },
  {
   "cell_type": "code",
   "execution_count": null,
   "metadata": {},
   "outputs": [],
   "source": [
    "# 12) HistoricalMunicipal_L\n",
    "fileInput = \"HistoricalMunicipal_L.csv\"\n",
    "df_L = pd.read_csv(fileInput).replace(np.nan, \"\")\n",
    "df_L['sourceFile'] = 'L'\n",
    "print(len(df_L))"
   ]
  },
  {
   "cell_type": "code",
   "execution_count": null,
   "metadata": {},
   "outputs": [],
   "source": [
    "# 13) HistoricalMunicipal_M\n",
    "fileInput = \"HistoricalMunicipal_M.csv\"\n",
    "df_M = pd.read_csv(fileInput).replace(np.nan, \"\")\n",
    "df_M['sourceFile'] = 'M'\n",
    "print(len(df_M))"
   ]
  },
  {
   "cell_type": "code",
   "execution_count": null,
   "metadata": {},
   "outputs": [],
   "source": [
    "# 14) HistoricalMunicipal_N\n",
    "fileInput = \"HistoricalMunicipal_N.csv\"\n",
    "df_N = pd.read_csv(fileInput).replace(np.nan, \"\")\n",
    "df_N['sourceFile'] = 'N'\n",
    "print(len(df_N))"
   ]
  },
  {
   "cell_type": "code",
   "execution_count": null,
   "metadata": {},
   "outputs": [],
   "source": [
    "# 15) HistoricalMunicipal_O\n",
    "fileInput = \"HistoricalMunicipal_O.csv\"\n",
    "df_O = pd.read_csv(fileInput).replace(np.nan, \"\")\n",
    "df_O['sourceFile'] = 'O'\n",
    "print(len(df_O))"
   ]
  },
  {
   "cell_type": "code",
   "execution_count": null,
   "metadata": {},
   "outputs": [],
   "source": [
    "# 16) HistoricalMunicipal_P\n",
    "fileInput = \"HistoricalMunicipal_P.csv\"\n",
    "df_P = pd.read_csv(fileInput).replace(np.nan, \"\")\n",
    "df_P['sourceFile'] = 'P'\n",
    "print(len(df_P))"
   ]
  },
  {
   "cell_type": "code",
   "execution_count": null,
   "metadata": {},
   "outputs": [],
   "source": [
    "# Concatenate Historical Municipal Data Together\n",
    "frames = [df_A, df_B, df_C, df_D, df_E, df_F, df_G, df_H, \n",
    "          df_I, df_J, df_K, df_L, df_M, df_N, df_O, df_P]\n",
    "df_HM = pd.concat(frames).reset_index(drop=True)\n",
    "print(len(df_HM))"
   ]
  },
  {
   "cell_type": "code",
   "execution_count": null,
   "metadata": {},
   "outputs": [],
   "source": [
    "# 1) PWS Water Use 2016\n",
    "fileInput = \"PWS_Categorical_Connections_and_Volumes_2016.csv\"\n",
    "dfpws_16 = pd.read_csv(fileInput).replace(np.nan, \"\")\n",
    "dfpws_16['sourceFile'] = 'pws2016'\n",
    "print(len(dfpws_16))"
   ]
  },
  {
   "cell_type": "code",
   "execution_count": null,
   "metadata": {},
   "outputs": [],
   "source": [
    "# 2) PWS Water Use 2017\n",
    "fileInput = \"PWS_Categorical_Connections_and_Volumes_2017.csv\"\n",
    "dfpws_17 = pd.read_csv(fileInput).replace(np.nan, \"\")\n",
    "dfpws_17['sourceFile'] = 'pws2017'\n",
    "print(len(dfpws_17))"
   ]
  },
  {
   "cell_type": "code",
   "execution_count": null,
   "metadata": {},
   "outputs": [],
   "source": [
    "# 3) PWS Water Use 2018\n",
    "fileInput = \"PWS_Categorical_Connections_and_Volumes_2018.csv\"\n",
    "dfpws_18 = pd.read_csv(fileInput).replace(np.nan, \"\")\n",
    "dfpws_18['sourceFile'] = 'pws2018'\n",
    "print(len(dfpws_18))"
   ]
  },
  {
   "cell_type": "code",
   "execution_count": null,
   "metadata": {},
   "outputs": [],
   "source": [
    "# 4) PWS Water Use 2019\n",
    "fileInput = \"PWS_Categorical_Connections_and_Volumes_2019.csv\"\n",
    "dfpws_19 = pd.read_csv(fileInput).replace(np.nan, \"\")\n",
    "dfpws_19['sourceFile'] = 'pws2019'\n",
    "print(len(dfpws_19))"
   ]
  },
  {
   "cell_type": "code",
   "execution_count": null,
   "metadata": {},
   "outputs": [],
   "source": [
    "# Concatenate PWS Water Use Data Together\n",
    "frames = [dfpws_16, dfpws_17, dfpws_18, dfpws_19]\n",
    "df_PWU = pd.concat(frames).reset_index(drop=True)\n",
    "print(len(df_PWU))"
   ]
  },
  {
   "cell_type": "code",
   "execution_count": null,
   "metadata": {},
   "outputs": [],
   "source": [
    "# Input of an Export of Shapefile data.\n",
    "fileInput = \"PWS_Shapefile_Export/PWS_Export.shp\"\n",
    "df_PWS = gpd.read_file(fileInput)\n",
    "print(len(df_PWS))\n",
    "df_PWS.head()"
   ]
  },
  {
   "cell_type": "code",
   "execution_count": null,
   "metadata": {},
   "outputs": [],
   "source": [
    "# Bridge Table\n",
    "fileInput = \"20220106 PWS-SurveyNO bridge table.csv\"\n",
    "df_bridge = pd.read_csv(fileInput)\n",
    "print(len(df_bridge))\n",
    "df_bridge.head()"
   ]
  },
  {
   "cell_type": "code",
   "execution_count": null,
   "metadata": {},
   "outputs": [],
   "source": [
    "# Left Join HistoricalMunicipal to Bridge table via 'TWDB_Survey_No' = 'surveyNo'.\n",
    "# Left Join Shapefile Export via 'pwsCode2' = 'PWSId'.\n",
    "\n",
    "df = pd.merge(df_HM, df_bridge, left_on='TWDB_Survey_No', right_on='surveyNo', how='left')\n",
    "df = pd.merge(df, df_PWS, left_on='pwsCode2', right_on='PWSId', how='left')\n",
    "\n",
    "print(len(df))\n",
    "df.head()"
   ]
  },
  {
   "cell_type": "code",
   "execution_count": null,
   "metadata": {},
   "outputs": [],
   "source": [
    "# Left Join PWS Water Use to Bridge table via 'TWDB_Survey_Number' = 'surveyNo'.\n",
    "# Left Join Shapefile Export via 'pwsCode2' = 'PWSId'.\n",
    "\n",
    "df2 = pd.merge(df_PWU, df_bridge, left_on='TWDB_Survey_Number', right_on='surveyNo', how='left')\n",
    "df2 = pd.merge(df2, df_PWS, left_on='pwsCode2', right_on='PWSId', how='left')\n",
    "\n",
    "print(len(df2))\n",
    "df2.head()"
   ]
  },
  {
   "cell_type": "markdown",
   "metadata": {},
   "source": [
    "# (1) Intake Data: Monthly and Annual Timeseries\n",
    "- Exporting Monthly and Annual (total) timeseries data."
   ]
  },
  {
   "cell_type": "code",
   "execution_count": null,
   "metadata": {},
   "outputs": [],
   "source": [
    "# Create temporary main dataframe\n",
    "df_temp = pd.DataFrame(index=df.index)\n",
    "\n",
    "# Method Info\n",
    "df_temp['in_MethodUUID'] = \"TXss_M1\"\n",
    "\n",
    "# Variable Info\n",
    "df_temp['in_VariableSpecificCV'] = \"\" # Timeseries specific.\n",
    "\n",
    "# Water Source Info\n",
    "df_temp['Organization'] = df['Organization']\n",
    "df_temp['Aquifer_Source'] = df['Aquifer_Source']\n",
    "df_temp['Surface_Water_Source'] = df['Surface_Water_Source']\n",
    "df_temp['in_WaterSourceName'] = \"\" # specific to name\n",
    "df_temp['in_WaterSourceTypeCV'] = df['Water_Type']\n",
    "\n",
    "# Site Info\n",
    "df_temp['in_CoordinateMethodCV'] = df['Source']\n",
    "df_temp['in_County'] = df['County_Used']\n",
    "df_temp['in_Latitude'] = df['Lat'].astype(float)\n",
    "df_temp['in_Longitude'] = df['Long'].astype(float)\n",
    "df_temp['in_SiteName'] = df['pwsName_y']\n",
    "df_temp['in_SiteNativeID'] = \"POU\" + df['PWSId'].astype(str)\n",
    "\n",
    "# Site Variable Amount Info\n",
    "df_temp['in_Amount'] = \"\" # Timeseries specific.\n",
    "df_temp['in_BeneficialUseCategory'] = \"Municipal\"\n",
    "df_temp['in_CommunityWaterSupplySystem'] =  df['pwsName_y']\n",
    "df_temp['in_PopulationServed'] =  df['Population_Served']\n",
    "df_temp['in_ReportYearCV'] =  df['Year']\n",
    "df_temp['in_TimeframeStart'] = \"\" # Timeseries specific.\n",
    "df_temp['in_TimeframeEnd'] = \"\" # Timeseries specific.\n",
    "\n",
    "print(len(df_temp))\n",
    "df_temp.head(1)"
   ]
  },
  {
   "cell_type": "code",
   "execution_count": null,
   "metadata": {},
   "outputs": [],
   "source": [
    "# 1) Monthly Jan\n",
    "df_Jan = df_temp.copy()\n",
    "\n",
    "df_Jan['in_VariableSpecificCV'] = \"Intake_Monthly_MI\" # <- change here\n",
    "df_Jan['in_Amount'] = df['Jan'] # <- change here\n",
    "df_Jan['in_TimeframeStart'] = df['Year'].astype(str) + \"-01-01\"  # <- change here\n",
    "df_Jan['in_TimeframeEnd'] = df['Year'].astype(str) + \"-01-31\"  # <- change here\n",
    "df_Jan['timeStamp'] = \"January\"\n",
    "\n",
    "df_Jan['in_TimeframeEnd'] = df['Year'].astype(str) + \"-01-31\"  # <- change here\n",
    "\n",
    "print(len(df_Jan))\n",
    "df_Jan.head(1)"
   ]
  },
  {
   "cell_type": "code",
   "execution_count": null,
   "metadata": {},
   "outputs": [],
   "source": [
    "# 2) Monthly Feb\n",
    "df_Feb = df_temp.copy()\n",
    "\n",
    "df_Feb['in_VariableSpecificCV'] = \"Intake_Monthly_MI\" # <- change here\n",
    "df_Feb['in_Amount'] = df['Feb'] # <- change here\n",
    "df_Feb['in_TimeframeStart'] = df['Year'].astype(str) + \"-02-01\"  # <- change here\n",
    "df_Feb['in_TimeframeEnd'] = df['Year'].astype(str) + \"-02-28\"  # <- change here\n",
    "df_Feb['timeStamp'] = \"Feburary\"\n",
    "\n",
    "print(len(df_Feb))\n",
    "df_Feb.head(1)"
   ]
  },
  {
   "cell_type": "code",
   "execution_count": null,
   "metadata": {},
   "outputs": [],
   "source": [
    "# 3) Monthly Mar\n",
    "df_Mar = df_temp.copy()\n",
    "\n",
    "df_Mar['in_VariableSpecificCV'] = \"Intake_Monthly_MI\" # <- change here\n",
    "df_Mar['in_Amount'] = df['Mar'] # <- change here\n",
    "df_Mar['in_TimeframeStart'] = df['Year'].astype(str) + \"-03-01\"  # <- change here\n",
    "df_Mar['in_TimeframeEnd'] = df['Year'].astype(str) + \"-03-31\"  # <- change here\n",
    "df_Mar['timeStamp'] = \"March\"\n",
    "\n",
    "print(len(df_Mar))\n",
    "df_Mar.head(1)"
   ]
  },
  {
   "cell_type": "code",
   "execution_count": null,
   "metadata": {},
   "outputs": [],
   "source": [
    "# 4) Monthly Apr\n",
    "df_Apr = df_temp.copy()\n",
    "\n",
    "df_Apr['in_VariableSpecificCV'] = \"Intake_Monthly_MI\" # <- change here\n",
    "df_Apr['in_Amount'] = df['Apr'] # <- change here\n",
    "df_Apr['in_TimeframeStart'] = df['Year'].astype(str) + \"-04-01\"  # <- change here\n",
    "df_Apr['in_TimeframeEnd'] = df['Year'].astype(str) + \"-04-30\"  # <- change here\n",
    "df_Apr['timeStamp'] = \"April\"\n",
    "\n",
    "print(len(df_Apr))\n",
    "df_Apr.head(1)"
   ]
  },
  {
   "cell_type": "code",
   "execution_count": null,
   "metadata": {},
   "outputs": [],
   "source": [
    "# 5) Monthly May\n",
    "df_May = df_temp.copy()\n",
    "\n",
    "df_May['in_VariableSpecificCV'] = \"Intake_Monthly_MI\" # <- change here\n",
    "df_May['in_Amount'] = df['May'] # <- change here\n",
    "df_May['in_TimeframeStart'] = df['Year'].astype(str) + \"-05-01\"  # <- change here\n",
    "df_May['in_TimeframeEnd'] = df['Year'].astype(str) + \"-05-31\"  # <- change here\n",
    "df_May['timeStamp'] = \"May\"\n",
    "\n",
    "print(len(df_May))\n",
    "df_May.head(1)"
   ]
  },
  {
   "cell_type": "code",
   "execution_count": null,
   "metadata": {},
   "outputs": [],
   "source": [
    "# 6) Monthly Jun\n",
    "df_Jun = df_temp.copy()\n",
    "\n",
    "df_Jun['in_VariableSpecificCV'] = \"Intake_Monthly_MI\" # <- change here\n",
    "df_Jun['in_Amount'] = df['Jun'] # <- change here\n",
    "df_Jun['in_TimeframeStart'] = df['Year'].astype(str) + \"-06-01\"  # <- change here\n",
    "df_Jun['in_TimeframeEnd'] = df['Year'].astype(str) + \"-06-30\"  # <- change here\n",
    "df_Jun['timeStamp'] = \"June\"\n",
    "\n",
    "print(len(df_Jun))\n",
    "df_Jun.head(1)"
   ]
  },
  {
   "cell_type": "code",
   "execution_count": null,
   "metadata": {},
   "outputs": [],
   "source": [
    "# 7) Monthly Jul\n",
    "df_Jul = df_temp.copy()\n",
    "\n",
    "df_Jul['in_VariableSpecificCV'] = \"Intake_Monthly_MI\" # <- change here\n",
    "df_Jul['in_Amount'] = df['Jul'] # <- change here\n",
    "df_Jul['in_TimeframeStart'] = df['Year'].astype(str) + \"-07-01\"  # <- change here\n",
    "df_Jul['in_TimeframeEnd'] = df['Year'].astype(str) + \"-07-31\"  # <- change here\n",
    "df_Jul['timeStamp'] = \"July\"\n",
    "\n",
    "print(len(df_Jul))\n",
    "df_Jul.head(1)"
   ]
  },
  {
   "cell_type": "code",
   "execution_count": null,
   "metadata": {},
   "outputs": [],
   "source": [
    "# 8) Monthly Aug\n",
    "df_Aug = df_temp.copy()\n",
    "\n",
    "df_Aug['in_VariableSpecificCV'] = \"Intake_Monthly_MI\" # <- change here\n",
    "df_Aug['in_Amount'] = df['Aug'] # <- change here\n",
    "df_Aug['in_TimeframeStart'] = df['Year'].astype(str) + \"-08-01\"  # <- change here\n",
    "df_Aug['in_TimeframeEnd'] = df['Year'].astype(str) + \"-08-31\"  # <- change here\n",
    "df_Aug['timeStamp'] = \"August\"\n",
    "\n",
    "print(len(df_Aug))\n",
    "df_Aug.head(1)"
   ]
  },
  {
   "cell_type": "code",
   "execution_count": null,
   "metadata": {},
   "outputs": [],
   "source": [
    "# 9) Monthly Sep\n",
    "df_Sep = df_temp.copy()\n",
    "\n",
    "df_Sep['in_VariableSpecificCV'] = \"Intake_Monthly_MI\" # <- change here\n",
    "df_Sep['in_Amount'] = df['Sep'] # <- change here\n",
    "df_Sep['in_TimeframeStart'] = df['Year'].astype(str) + \"-09-01\"  # <- change here\n",
    "df_Sep['in_TimeframeEnd'] = df['Year'].astype(str) + \"-09-30\"  # <- change here\n",
    "df_Sep['timeStamp'] = \"September\"\n",
    "\n",
    "print(len(df_Sep))\n",
    "df_Sep.head(1)"
   ]
  },
  {
   "cell_type": "code",
   "execution_count": null,
   "metadata": {},
   "outputs": [],
   "source": [
    "# 10) Monthly Oct\n",
    "df_Oct = df_temp.copy()\n",
    "\n",
    "df_Oct['in_VariableSpecificCV'] = \"Intake_Monthly_MI\" # <- change here\n",
    "df_Oct['in_Amount'] = df['Oct'] # <- change here\n",
    "df_Oct['in_TimeframeStart'] = df['Year'].astype(str) + \"-10-01\"  # <- change here\n",
    "df_Oct['in_TimeframeEnd'] = df['Year'].astype(str) + \"-10-31\"  # <- change here\n",
    "df_Oct['timeStamp'] = \"October\"\n",
    "\n",
    "print(len(df_Oct))\n",
    "df_Oct.head(1)"
   ]
  },
  {
   "cell_type": "code",
   "execution_count": null,
   "metadata": {},
   "outputs": [],
   "source": [
    "# 11) Monthly Nov\n",
    "df_Nov = df_temp.copy()\n",
    "\n",
    "df_Nov['in_VariableSpecificCV'] = \"Intake_Monthly_MI\" # <- change here\n",
    "df_Nov['in_Amount'] = df['Nov'] # <- change here\n",
    "df_Nov['in_TimeframeStart'] = '11/01/' + df['Year'].astype(str) # <- change here\n",
    "df_Nov['in_TimeframeEnd'] = '11/30/' + df['Year'].astype(str) # <- change here\n",
    "df_Nov['in_TimeframeStart'] = df['Year'].astype(str) + \"-11-01\"  # <- change here\n",
    "df_Nov['in_TimeframeEnd'] = df['Year'].astype(str) + \"-11-30\"  # <- change here\n",
    "df_Nov['timeStamp'] = \"November\"\n",
    "\n",
    "print(len(df_Nov))\n",
    "df_Nov.head(1)"
   ]
  },
  {
   "cell_type": "code",
   "execution_count": null,
   "metadata": {},
   "outputs": [],
   "source": [
    "# 12) Monthly Dec\n",
    "df_Dec = df_temp.copy()\n",
    "\n",
    "df_Dec['in_VariableSpecificCV'] = \"Intake_Monthly_MI\" # <- change here\n",
    "df_Dec['in_Amount'] = df['Dec'] # <- change here\n",
    "df_Dec['in_TimeframeStart'] = df['Year'].astype(str) + \"-12-01\"  # <- change here\n",
    "df_Dec['in_TimeframeEnd'] = df['Year'].astype(str) + \"-12-31\"  # <- change here\n",
    "df_Dec['timeStamp'] = \"December\"\n",
    "\n",
    "print(len(df_Dec))\n",
    "df_Dec.head(1)"
   ]
  },
  {
   "cell_type": "code",
   "execution_count": null,
   "metadata": {},
   "outputs": [],
   "source": [
    "# 13) Annual (total)\n",
    "df_Annual = df_temp.copy()\n",
    "\n",
    "df_Annual['in_VariableSpecificCV'] = \"Intake_Annual_MI\" # <- change here\n",
    "df_Annual['in_Amount'] = df['Total_Intake__Gallons_'] # <- change here\n",
    "df_Annual['in_TimeframeStart'] = df['Year'].astype(str) + \"-01-01\"  # <- change here\n",
    "df_Annual['in_TimeframeEnd'] = df['Year'].astype(str) + \"-12-31\"  # <- change here\n",
    "df_Annual['timeStamp'] = \"Annual\"\n",
    "\n",
    "print(len(df_Annual))\n",
    "df_Annual.head(1)"
   ]
  },
  {
   "cell_type": "code",
   "execution_count": null,
   "metadata": {
    "scrolled": true
   },
   "outputs": [],
   "source": [
    "# Concatenate Monthly and Annual Intake Together\n",
    "frames = [df_Jan, df_Feb, df_Mar, df_Apr, df_May, df_Jun,\n",
    "          df_Jul, df_Aug, df_Sep, df_Oct, df_Nov, df_Dec, df_Annual]\n",
    "dfout_intake = pd.concat(frames).reset_index(drop=True)\n",
    "print(len(dfout_intake))"
   ]
  },
  {
   "cell_type": "code",
   "execution_count": null,
   "metadata": {},
   "outputs": [],
   "source": [
    "# dropping duplicate\n",
    "dropList=['in_VariableSpecificCV','in_WaterSourceTypeCV','in_SiteNativeID','in_BeneficialUseCategory','in_ReportYearCV','in_TimeframeStart','in_TimeframeEnd']\n",
    "dfout_intake = dfout_intake.drop_duplicates(subset=dropList, keep='first').reset_index(drop=True)\n",
    "print(len(dfout_intake))"
   ]
  },
  {
   "cell_type": "code",
   "execution_count": null,
   "metadata": {},
   "outputs": [],
   "source": [
    "# Create WaterSource name\n",
    "# Surface Water = Surface_Water_Source, Groundwater = Aquifer_Source, Reuse = Organization.\n",
    "\n",
    "# Fixing empty site names\n",
    "\n",
    "def setWSN(Type, SWName, GWName, RUName):\n",
    "    Type = str(Type).strip()\n",
    "    SWName = str(SWName).strip()\n",
    "    GWName = str(GWName).strip()\n",
    "    RUName = str(RUName).strip()\n",
    "    \n",
    "    outString = \"Unspecified\" # default\n",
    "    \n",
    "    if Type == \"Surface Water\":\n",
    "        outString = SWName\n",
    "    if Type == \"Ground Water\":\n",
    "        outString = GWName\n",
    "    if Type == \"Reuse\":\n",
    "        outString = RUName\n",
    "        \n",
    "    if outString == \"\":\n",
    "        outString = \"Unspecified\"\n",
    "        \n",
    "    return outString\n",
    "\n",
    "dfout_intake['in_WaterSourceName'] = dfout_intake.apply(lambda row: setWSN(row['in_WaterSourceTypeCV'], \n",
    "                                                             row['Surface_Water_Source'], \n",
    "                                                             row['Aquifer_Source'], \n",
    "                                                             row['Organization']), axis=1)\n",
    "print(len(dfout_intake))"
   ]
  },
  {
   "cell_type": "code",
   "execution_count": null,
   "metadata": {},
   "outputs": [],
   "source": [
    "# Update in_VariableSpecificCV to include water source type.\n",
    "\n",
    "def changeGroundWater(WSTcv):\n",
    "    WSTcv = str(WSTcv).strip()\n",
    "    if WSTcv == \"Ground Water\":\n",
    "        outString = 'Groundwater'\n",
    "    else:\n",
    "        outString = WSTcv\n",
    "    return outString\n",
    "\n",
    "dfout_intake['temp_WaterSourceTypeCV'] = dfout_intake.apply(lambda row: changeGroundWater(row['in_WaterSourceTypeCV']), axis=1)\n",
    "\n",
    "def updateVariableSpecificCV(VScv, WSTcv):\n",
    "    VScv = str(VScv).strip()\n",
    "    WSTcv = str(WSTcv).strip()\n",
    "    outString = VScv + \"_\" + WSTcv\n",
    "    return outString\n",
    "\n",
    "dfout_intake['in_VariableSpecificCV'] = dfout_intake.apply(lambda row: updateVariableSpecificCV(row['in_VariableSpecificCV'], row['temp_WaterSourceTypeCV']), axis=1)\n",
    "dfout_intake = dfout_intake.drop(['temp_WaterSourceTypeCV'], axis=1)\n",
    "dfout_intake['in_VariableSpecificCV'].unique()"
   ]
  },
  {
   "cell_type": "markdown",
   "metadata": {},
   "source": [
    "# (2) Public Water System Data: Annual Timeseries\n",
    "- Nine time series to use:\n",
    "    - SingleFamily\n",
    "    - Multifamily\n",
    "    - Comercial\n",
    "    - Industrial\n",
    "    - Agriculture\n",
    "    - Reuse\n",
    "    - Total Metered\n",
    "    - Total Unmetered"
   ]
  },
  {
   "cell_type": "code",
   "execution_count": null,
   "metadata": {},
   "outputs": [],
   "source": [
    "# 1) PWS SingleFamily\n",
    "dfpwu_sf = pd.DataFrame(index=df2.index)\n",
    "\n",
    "# Method Info\n",
    "dfpwu_sf['in_MethodUUID'] = \"TXss_M2\"\n",
    "\n",
    "# Variable Info\n",
    "dfpwu_sf['in_VariableSpecificCV'] = \"Water Use_Annual_SingleFamily_Unspecified\"\n",
    "\n",
    "# Water Source Info\n",
    "dfpwu_sf['in_WaterSourceName'] = \"Unspecified\"\n",
    "dfpwu_sf['in_WaterSourceTypeCV'] = \"Unspecified\"\n",
    "\n",
    "# Site Info\n",
    "dfpwu_sf['in_CoordinateMethodCV'] = df2['Source']\n",
    "dfpwu_sf['in_County'] = \"\"  # should be okay to leave blank as we use SiteNativeID from shapefile to identify sites\n",
    "dfpwu_sf['in_Latitude'] = df2['Lat'].astype(float)\n",
    "dfpwu_sf['in_Longitude'] = df2['Long'].astype(float)\n",
    "dfpwu_sf['in_SiteName'] = df2['pwsName_y']\n",
    "dfpwu_sf['in_SiteNativeID'] = df2['PWSId']\n",
    "\n",
    "# Site Variable Amount Info\n",
    "dfpwu_sf['in_Amount'] = df2['Single_Family_Volume']  # Timeseries specific.\n",
    "dfpwu_sf['in_BeneficialUseCategory'] = \"SingleFamily\"  # Timeseries specific.\n",
    "dfpwu_sf['in_CommunityWaterSupplySystem'] =  df2['pwsName_y']\n",
    "dfpwu_sf['in_PopulationServed'] =  df2['Single_Family_Connections']  # Timeseries specific.\n",
    "dfpwu_sf['in_ReportYearCV'] =  df2['Year']\n",
    "dfpwu_sf['in_TimeframeStart'] = df2['Year'].astype(str) + \"-01-01\"  # <- change here\n",
    "dfpwu_sf['in_TimeframeEnd'] = df2['Year'].astype(str) + \"-12-31\"  # <- change here\n",
    "\n",
    "print(len(dfpwu_sf))\n",
    "dfpwu_sf.head(1)"
   ]
  },
  {
   "cell_type": "code",
   "execution_count": null,
   "metadata": {},
   "outputs": [],
   "source": [
    "# 2) PWS MultiFamily\n",
    "dfpwu_mf = pd.DataFrame(index=df2.index)\n",
    "\n",
    "# Method Info\n",
    "dfpwu_mf['in_MethodUUID'] = \"TXss_M2\"\n",
    "\n",
    "# Variable Info\n",
    "dfpwu_mf['in_VariableSpecificCV'] = \"Water Use_Annual_MultiFamily_Unspecified\"\n",
    "\n",
    "# Water Source Info\n",
    "dfpwu_mf['in_WaterSourceName'] = \"Unspecified\"\n",
    "dfpwu_mf['in_WaterSourceTypeCV'] = \"Unspecified\"\n",
    "\n",
    "# Site Info\n",
    "dfpwu_mf['in_CoordinateMethodCV'] = df2['Source']\n",
    "dfpwu_mf['in_County'] = \"\"  # should be okay to leave blank as we use SiteNativeID from shapefile to identify sites\n",
    "dfpwu_mf['in_Latitude'] = df2['Lat'].astype(float)\n",
    "dfpwu_mf['in_Longitude'] = df2['Long'].astype(float)\n",
    "dfpwu_mf['in_SiteName'] = df2['pwsName_y']\n",
    "dfpwu_mf['in_SiteNativeID'] = df2['PWSId']\n",
    "\n",
    "# Site Variable Amount Info\n",
    "dfpwu_mf['in_Amount'] = df2['Multi_Family_Volume']  # Timeseries specific.\n",
    "dfpwu_mf['in_BeneficialUseCategory'] = \"MultiFamily\"  # Timeseries specific.\n",
    "dfpwu_mf['in_CommunityWaterSupplySystem'] =  df2['pwsName_y']\n",
    "dfpwu_mf['in_PopulationServed'] =  df2['Multi_Family_Connections']  # Timeseries specific.\n",
    "dfpwu_mf['in_ReportYearCV'] =  df2['Year']\n",
    "dfpwu_mf['in_TimeframeStart'] = df2['Year'].astype(str) + \"-01-01\"  # <- change here\n",
    "dfpwu_mf['in_TimeframeEnd'] = df2['Year'].astype(str) + \"-12-31\"  # <- change here\n",
    "\n",
    "print(len(dfpwu_mf))\n",
    "dfpwu_mf.head(1)"
   ]
  },
  {
   "cell_type": "code",
   "execution_count": null,
   "metadata": {},
   "outputs": [],
   "source": [
    "# 3) PWS Commercial\n",
    "dfpwu_c = pd.DataFrame(index=df2.index)\n",
    "\n",
    "# Method Info\n",
    "dfpwu_c['in_MethodUUID'] = \"TXss_M2\"\n",
    "\n",
    "# Variable Info\n",
    "dfpwu_c['in_VariableSpecificCV'] = \"Water Use_Annual_Commercial_Unspecified\"\n",
    "\n",
    "# Water Source Info\n",
    "dfpwu_c['in_WaterSourceName'] = \"Unspecified\"\n",
    "dfpwu_c['in_WaterSourceTypeCV'] = \"Unspecified\"\n",
    "\n",
    "# Site Info\n",
    "dfpwu_c['in_CoordinateMethodCV'] = df2['Source']\n",
    "dfpwu_c['in_County'] = \"\"  # should be okay to leave blank as we use SiteNativeID from shapefile to identify sites\n",
    "dfpwu_c['in_Latitude'] = df2['Lat'].astype(float)\n",
    "dfpwu_c['in_Longitude'] = df2['Long'].astype(float)\n",
    "dfpwu_c['in_SiteName'] = df2['pwsName_y']\n",
    "dfpwu_c['in_SiteNativeID'] = df2['PWSId']\n",
    "\n",
    "# Site Variable Amount Info\n",
    "dfpwu_c['in_Amount'] = df2['Commercial_Volume']  # Timeseries specific.\n",
    "dfpwu_c['in_BeneficialUseCategory'] = \"Commercial\"  # Timeseries specific.\n",
    "dfpwu_c['in_CommunityWaterSupplySystem'] =  df2['pwsName_y']\n",
    "dfpwu_c['in_PopulationServed'] =  df2['Commercial_Connections']  # Timeseries specific.\n",
    "dfpwu_c['in_ReportYearCV'] =  df2['Year']\n",
    "dfpwu_c['in_TimeframeStart'] = df2['Year'].astype(str) + \"-01-01\"  # <- change here\n",
    "dfpwu_c['in_TimeframeEnd'] = df2['Year'].astype(str) + \"-12-31\"  # <- change here\n",
    "\n",
    "print(len(dfpwu_c))\n",
    "dfpwu_c.head(1)"
   ]
  },
  {
   "cell_type": "code",
   "execution_count": null,
   "metadata": {},
   "outputs": [],
   "source": [
    "# 4) PWS Industrial\n",
    "dfpwu_i = pd.DataFrame(index=df2.index)\n",
    "\n",
    "# Method Info\n",
    "dfpwu_i['in_MethodUUID'] = \"TXss_M2\"\n",
    "\n",
    "# Variable Info\n",
    "dfpwu_i['in_VariableSpecificCV'] = \"Water Use_Annual_Industrial_Unspecified\"\n",
    "\n",
    "# Water Source Info\n",
    "dfpwu_i['in_WaterSourceName'] = \"Unspecified\"\n",
    "dfpwu_i['in_WaterSourceTypeCV'] = \"Unspecified\"\n",
    "\n",
    "# Site Info\n",
    "dfpwu_i['in_CoordinateMethodCV'] = df2['Source']\n",
    "dfpwu_i['in_County'] = \"\"  # should be okay to leave blank as we use SiteNativeID from shapefile to identify sites\n",
    "dfpwu_i['in_Latitude'] = df2['Lat'].astype(float)\n",
    "dfpwu_i['in_Longitude'] = df2['Long'].astype(float)\n",
    "dfpwu_i['in_SiteName'] = df2['pwsName_y']\n",
    "dfpwu_i['in_SiteNativeID'] = df2['PWSId']\n",
    "\n",
    "# Site Variable Amount Info\n",
    "dfpwu_i['in_Amount'] = df2['Industrial_Volume']  # Timeseries specific.\n",
    "dfpwu_i['in_BeneficialUseCategory'] = \"Industrial\"  # Timeseries specific.\n",
    "dfpwu_i['in_CommunityWaterSupplySystem'] =  df2['pwsName_y']\n",
    "dfpwu_i['in_PopulationServed'] =  df2['Industrial_Connections']  # Timeseries specific.\n",
    "dfpwu_i['in_ReportYearCV'] =  df2['Year']\n",
    "dfpwu_i['in_TimeframeStart'] = df2['Year'].astype(str) + \"-01-01\"  # <- change here\n",
    "dfpwu_i['in_TimeframeEnd'] = df2['Year'].astype(str) + \"-12-31\"  # <- change here\n",
    "\n",
    "print(len(dfpwu_i))\n",
    "dfpwu_i.head(1)"
   ]
  },
  {
   "cell_type": "code",
   "execution_count": null,
   "metadata": {},
   "outputs": [],
   "source": [
    "# 5) PWS Institutional\n",
    "dfpwu_ins = pd.DataFrame(index=df2.index)\n",
    "\n",
    "# Method Info\n",
    "dfpwu_ins['in_MethodUUID'] = \"TXss_M2\"\n",
    "\n",
    "# Variable Info\n",
    "dfpwu_ins['in_VariableSpecificCV'] = \"Water Use_Annual_Institutional_Unspecified\"\n",
    "\n",
    "# Water Source Info\n",
    "dfpwu_ins['in_WaterSourceName'] = \"Unspecified\"\n",
    "dfpwu_ins['in_WaterSourceTypeCV'] = \"Unspecified\"\n",
    "\n",
    "# Site Info\n",
    "dfpwu_ins['in_CoordinateMethodCV'] = df2['Source']\n",
    "dfpwu_ins['in_County'] = \"\"  # should be okay to leave blank as we use SiteNativeID from shapefile to identify sites\n",
    "dfpwu_ins['in_Latitude'] = df2['Lat'].astype(float)\n",
    "dfpwu_ins['in_Longitude'] = df2['Long'].astype(float)\n",
    "dfpwu_ins['in_SiteName'] = df2['pwsName_y']\n",
    "dfpwu_ins['in_SiteNativeID'] = df2['PWSId']\n",
    "\n",
    "# Site Variable Amount Info\n",
    "dfpwu_ins['in_Amount'] = df2['Institutional_Volume']  # Timeseries specific.\n",
    "dfpwu_ins['in_BeneficialUseCategory'] = \"Institutional\"  # Timeseries specific.\n",
    "dfpwu_ins['in_CommunityWaterSupplySystem'] =  df2['pwsName_y']\n",
    "dfpwu_ins['in_PopulationServed'] =  df2['Institutional_Connections']  # Timeseries specific.\n",
    "dfpwu_ins['in_ReportYearCV'] =  df2['Year']\n",
    "dfpwu_ins['in_TimeframeStart'] = df2['Year'].astype(str) + \"-01-01\"  # <- change here\n",
    "dfpwu_ins['in_TimeframeEnd'] = df2['Year'].astype(str) + \"-12-31\"  # <- change here\n",
    "\n",
    "print(len(dfpwu_ins))\n",
    "dfpwu_ins.head(1)"
   ]
  },
  {
   "cell_type": "code",
   "execution_count": null,
   "metadata": {},
   "outputs": [],
   "source": [
    "# 6) PWS Agriculture\n",
    "dfpwu_ag = pd.DataFrame(index=df2.index)\n",
    "\n",
    "# Method Info\n",
    "dfpwu_ag['in_MethodUUID'] = \"TXss_M2\"\n",
    "\n",
    "# Variable Info\n",
    "dfpwu_ag['in_VariableSpecificCV'] = \"Water Use_Annual_Agriculture_Unspecified\"\n",
    "\n",
    "# Water Source Info\n",
    "dfpwu_ag['in_WaterSourceName'] = \"Unspecified\"\n",
    "dfpwu_ag['in_WaterSourceTypeCV'] = \"Unspecified\"\n",
    "\n",
    "# Site Info\n",
    "dfpwu_ag['in_CoordinateMethodCV'] = df2['Source']\n",
    "dfpwu_ag['in_County'] = \"\"  # should be okay to leave blank as we use SiteNativeID from shapefile to identify sites\n",
    "dfpwu_ag['in_Latitude'] = df2['Lat'].astype(float)\n",
    "dfpwu_ag['in_Longitude'] = df2['Long'].astype(float)\n",
    "dfpwu_ag['in_SiteName'] = df2['pwsName_y']\n",
    "dfpwu_ag['in_SiteNativeID'] = df2['PWSId']\n",
    "\n",
    "# Site Variable Amount Info\n",
    "dfpwu_ag['in_Amount'] = df2['Agriculture_Volume']  # Timeseries specific.\n",
    "dfpwu_ag['in_BeneficialUseCategory'] = \"Agriculture\"  # Timeseries specific.\n",
    "dfpwu_ag['in_CommunityWaterSupplySystem'] =  df2['pwsName_y']\n",
    "dfpwu_ag['in_PopulationServed'] =  df2['Agriculture_Connections']  # Timeseries specific.\n",
    "dfpwu_ag['in_ReportYearCV'] =  df2['Year']\n",
    "dfpwu_ag['in_TimeframeStart'] = df2['Year'].astype(str) + \"-01-01\"  # <- change here\n",
    "dfpwu_ag['in_TimeframeEnd'] = df2['Year'].astype(str) + \"-12-31\"  # <- change here\n",
    "\n",
    "print(len(dfpwu_ag))\n",
    "dfpwu_ag.head(1)"
   ]
  },
  {
   "cell_type": "code",
   "execution_count": null,
   "metadata": {},
   "outputs": [],
   "source": [
    "# 7) Reuse_Connections\n",
    "dfpwu_re = pd.DataFrame(index=df2.index)\n",
    "\n",
    "# Method Info\n",
    "dfpwu_re['in_MethodUUID'] = \"TXss_M2\"\n",
    "\n",
    "# Variable Info\n",
    "dfpwu_re['in_VariableSpecificCV'] = \"Water Use_Annual_Reuse_Unspecified\"\n",
    "\n",
    "# Water Source Info\n",
    "dfpwu_re['in_WaterSourceName'] = \"Unspecified\"\n",
    "dfpwu_re['in_WaterSourceTypeCV'] = \"Unspecified\"\n",
    "\n",
    "# Site Info\n",
    "dfpwu_re['in_CoordinateMethodCV'] = df2['Source']\n",
    "dfpwu_re['in_County'] = \"\"  # should be okay to leave blank as we use SiteNativeID from shapefile to identify sites\n",
    "dfpwu_re['in_Latitude'] = df2['Lat'].astype(float)\n",
    "dfpwu_re['in_Longitude'] = df2['Long'].astype(float)\n",
    "dfpwu_re['in_SiteName'] = df2['pwsName_y']\n",
    "dfpwu_re['in_SiteNativeID'] = df2['PWSId']\n",
    "\n",
    "# Site Variable Amount Info\n",
    "dfpwu_re['in_Amount'] = df2['Reuse_Volume']  # Timeseries specific.\n",
    "dfpwu_re['in_BeneficialUseCategory'] = \"Reuse\"  # Timeseries specific.\n",
    "dfpwu_re['in_CommunityWaterSupplySystem'] =  df2['pwsName_y']\n",
    "dfpwu_re['in_PopulationServed'] =  df2['Reuse_Connections']  # Timeseries specific.\n",
    "dfpwu_re['in_ReportYearCV'] =  df2['Year']\n",
    "dfpwu_re['in_TimeframeStart'] = df2['Year'].astype(str) + \"-01-01\"  # <- change here\n",
    "dfpwu_re['in_TimeframeEnd'] = df2['Year'].astype(str) + \"-12-31\"  # <- change here\n",
    "\n",
    "print(len(dfpwu_re))\n",
    "dfpwu_re.head(1)"
   ]
  },
  {
   "cell_type": "code",
   "execution_count": null,
   "metadata": {},
   "outputs": [],
   "source": [
    "# 8) TotalMetered\n",
    "dfpwu_tm = pd.DataFrame(index=df2.index)\n",
    "\n",
    "# Method Info\n",
    "dfpwu_tm['in_MethodUUID'] = \"TXss_M2\"\n",
    "\n",
    "# Variable Info\n",
    "dfpwu_tm['in_VariableSpecificCV'] = \"Water Use_Annual_TotalMetered_Unspecified\"\n",
    "\n",
    "# Water Source Info\n",
    "dfpwu_tm['in_WaterSourceName'] = \"Unspecified\"\n",
    "dfpwu_tm['in_WaterSourceTypeCV'] = \"Unspecified\"\n",
    "\n",
    "# Site Info\n",
    "dfpwu_tm['in_CoordinateMethodCV'] = df2['Source']\n",
    "dfpwu_tm['in_County'] = \"\"  # should be okay to leave blank as we use SiteNativeID from shapefile to identify sites\n",
    "dfpwu_tm['in_Latitude'] = df2['Lat'].astype(float)\n",
    "dfpwu_tm['in_Longitude'] = df2['Long'].astype(float)\n",
    "dfpwu_tm['in_SiteName'] = df2['pwsName_y']\n",
    "dfpwu_tm['in_SiteNativeID'] = df2['PWSId']\n",
    "\n",
    "# Site Variable Amount Info\n",
    "dfpwu_tm['in_Amount'] = df2['Total_Metered_Volume']  # Timeseries specific.\n",
    "dfpwu_tm['in_BeneficialUseCategory'] = \"TotalMetered\"  # Timeseries specific.\n",
    "dfpwu_tm['in_CommunityWaterSupplySystem'] =  df2['pwsName_y']\n",
    "dfpwu_tm['in_PopulationServed'] =  df2['Total_Metered_Connections']  # Timeseries specific.\n",
    "dfpwu_tm['in_ReportYearCV'] =  df2['Year']\n",
    "dfpwu_tm['in_TimeframeStart'] = df2['Year'].astype(str) + \"-01-01\"  # <- change here\n",
    "dfpwu_tm['in_TimeframeEnd'] = df2['Year'].astype(str) + \"-12-31\"  # <- change here\n",
    "\n",
    "print(len(dfpwu_tm))\n",
    "dfpwu_tm.head(1)"
   ]
  },
  {
   "cell_type": "code",
   "execution_count": null,
   "metadata": {},
   "outputs": [],
   "source": [
    "# 9) TotalMetered\n",
    "dfpwu_tum = pd.DataFrame(index=df2.index)\n",
    "\n",
    "# Method Info\n",
    "dfpwu_tum['in_MethodUUID'] = \"TXss_M2\"\n",
    "\n",
    "# Variable Info\n",
    "dfpwu_tum['in_VariableSpecificCV'] = \"Water Use_Annual_TotalUnmetered_Unspecified\"\n",
    "\n",
    "# Water Source Info\n",
    "dfpwu_tum['in_WaterSourceName'] = \"Unspecified\"\n",
    "dfpwu_tum['in_WaterSourceTypeCV'] = \"Unspecified\"\n",
    "\n",
    "# Site Info\n",
    "dfpwu_tum['in_CoordinateMethodCV'] = df2['Source']\n",
    "dfpwu_tum['in_County'] = \"\"  # should be okay to leave blank as we use SiteNativeID from shapefile to identify sites\n",
    "dfpwu_tum['in_Latitude'] = df2['Lat'].astype(float)\n",
    "dfpwu_tum['in_Longitude'] = df2['Long'].astype(float)\n",
    "dfpwu_tum['in_SiteName'] = df2['pwsName_y']\n",
    "dfpwu_tum['in_SiteNativeID'] = df2['PWSId']\n",
    "\n",
    "# Site Variable Amount Info\n",
    "dfpwu_tum['in_Amount'] = df2['Unmetered_Volume']  # Timeseries specific.\n",
    "dfpwu_tum['in_BeneficialUseCategory'] = \"TotalUnmetered\"  # Timeseries specific.\n",
    "dfpwu_tum['in_CommunityWaterSupplySystem'] =  df2['pwsName_y']\n",
    "dfpwu_tum['in_PopulationServed'] =  df2['Total_Unmetered_Connections']  # Timeseries specific.\n",
    "dfpwu_tum['in_ReportYearCV'] =  df2['Year']\n",
    "dfpwu_tum['in_TimeframeStart'] = df2['Year'].astype(str) + \"-01-01\"  # <- change here\n",
    "dfpwu_tum['in_TimeframeEnd'] = df2['Year'].astype(str) + \"-12-31\"  # <- change here\n",
    "\n",
    "print(len(dfpwu_tum))\n",
    "dfpwu_tum.head(1)"
   ]
  },
  {
   "cell_type": "code",
   "execution_count": null,
   "metadata": {},
   "outputs": [],
   "source": [
    "# Concatenate PWS Water Use Together\n",
    "frames = [dfpwu_sf, dfpwu_mf, dfpwu_c, dfpwu_i, dfpwu_ins,\n",
    "          dfpwu_ag, dfpwu_re, dfpwu_tm, dfpwu_tum]\n",
    "dfout_pwu = pd.concat(frames).reset_index(drop=True)\n",
    "print(len(dfout_pwu))"
   ]
  },
  {
   "cell_type": "markdown",
   "metadata": {},
   "source": [
    "## Concatenate Intake with PWS outputs datatogether"
   ]
  },
  {
   "cell_type": "code",
   "execution_count": null,
   "metadata": {},
   "outputs": [],
   "source": [
    "# Concatenate PWS Water Use Together\n",
    "frames = [dfout_intake, dfout_pwu]\n",
    "dfout = pd.concat(frames).reset_index(drop=True)\n",
    "print(len(dfout_pwu))"
   ]
  },
  {
   "cell_type": "markdown",
   "metadata": {},
   "source": [
    "## Cleaning Output & WaDE Custom Elements (due to missing info)"
   ]
  },
  {
   "cell_type": "code",
   "execution_count": null,
   "metadata": {},
   "outputs": [],
   "source": [
    "# Convert History Year to YYYY-MM-DD format.\n",
    "\n",
    "dfout['in_TimeframeEnd'] = pd.to_datetime(dfout['in_TimeframeEnd'], errors = 'coerce')\n",
    "dfout['in_TimeframeEnd'] = pd.to_datetime(dfout[\"in_TimeframeEnd\"].dt.strftime('%m/%d/%Y'))\n",
    "\n",
    "dfout['in_TimeframeStart'] = pd.to_datetime(dfout['in_TimeframeStart'], errors = 'coerce')\n",
    "dfout['in_TimeframeStart'] = pd.to_datetime(dfout[\"in_TimeframeStart\"].dt.strftime('%m/%d/%Y'))\n",
    "\n",
    "dfout.head()"
   ]
  },
  {
   "cell_type": "markdown",
   "metadata": {},
   "source": [
    "## WaDE Custom Elements (due to missing info)"
   ]
  },
  {
   "cell_type": "code",
   "execution_count": null,
   "metadata": {},
   "outputs": [],
   "source": [
    "# Creating WaDE Custom water source native ID for easy water source identification\n",
    "# ----------------------------------------------------------------------------------------------------\n",
    "\n",
    "# Create temp WaterSourceNativeID dataframe of unique water source.\n",
    "def assignWaterSourceNativeID(colrowValue):\n",
    "    string1 = str(colrowValue)\n",
    "    outstring = \"WaDETX_WS\" + string1\n",
    "    return outstring\n",
    "\n",
    "dfWaterSourceNativeID = pd.DataFrame()\n",
    "dfWaterSourceNativeID['in_WaterSourceName'] = dfout['in_WaterSourceName']\n",
    "dfWaterSourceNativeID['in_WaterSourceTypeCV'] = dfout['in_WaterSourceTypeCV']\n",
    "dfWaterSourceNativeID = dfWaterSourceNativeID.drop_duplicates()\n",
    "\n",
    "dftemp = pd.DataFrame(index=dfWaterSourceNativeID.index)\n",
    "dftemp[\"Count\"] = range(1, len(dftemp.index) + 1)\n",
    "dfWaterSourceNativeID['in_WaterSourceNativeID'] = dftemp.apply(lambda row: assignWaterSourceNativeID(row['Count']), axis=1)\n",
    "\n",
    "# ----------------------------------------------------------------------------------------------------\n",
    "\n",
    "# Retreive WaDE Custom water source native ID\n",
    "def retrieveWaterSourceNativeID(A, B):\n",
    "    if (A == '' and B == '') or (pd.isnull(A) and pd.isnull(B)):\n",
    "        outList = ''\n",
    "    else:\n",
    "        ml = dfWaterSourceNativeID.loc[(dfWaterSourceNativeID['in_WaterSourceName'] == A) & \n",
    "                                       (dfWaterSourceNativeID['in_WaterSourceTypeCV'] == B), 'in_WaterSourceNativeID']\n",
    "        if not (ml.empty):  # check if the series is empty\n",
    "            outList = ml.iloc[0]\n",
    "        else:\n",
    "            outList = ''\n",
    "    return outList\n",
    "\n",
    "dfout['in_WaterSourceNativeID'] = dfout.apply(lambda row: retrieveWaterSourceNativeID( row['in_WaterSourceName'], row['in_WaterSourceTypeCV']), axis=1)\n",
    "dfout['in_WaterSourceNativeID'].unique()"
   ]
  },
  {
   "cell_type": "code",
   "execution_count": null,
   "metadata": {},
   "outputs": [],
   "source": [
    "# Converting numbers that are in string to float.\n",
    "\n",
    "# in_Amount\n",
    "dfout['in_Amount'] = dfout['in_Amount'].replace(\",\", \"\", regex=True)\n",
    "dfout['in_Amount'] = pd.to_numeric(dfout['in_Amount'], errors='coerce')\n",
    "\n",
    "#in_PopulationServed\n",
    "dfout['in_PopulationServed'] = dfout['in_PopulationServed'].replace(\",\", \"\", regex=True)\n",
    "dfout['in_PopulationServed'] = pd.to_numeric(dfout['in_PopulationServed'], errors='coerce')\n",
    "\n",
    "dfout.head()"
   ]
  },
  {
   "cell_type": "markdown",
   "metadata": {},
   "source": [
    "## Shapefile Data\n",
    "- For attaching gemetry to POU csv inputs."
   ]
  },
  {
   "cell_type": "code",
   "execution_count": null,
   "metadata": {},
   "outputs": [],
   "source": [
    "# PoU Shapefile Data\n",
    "# Shapefile input\n",
    "ShapeFileInput = gpd.read_file('PWS_Shapefile_Export/PWS_Export.shp')\n",
    "dfPoUshapetemp = pd.DataFrame(ShapeFileInput)\n",
    "dfPoUshapetemp.head(3)"
   ]
  },
  {
   "cell_type": "code",
   "execution_count": null,
   "metadata": {},
   "outputs": [],
   "source": [
    "columnsList = ['in_SiteNativeID', 'geometry']\n",
    "dfPoUshape = pd.DataFrame(columns=columnsList)\n",
    "dfPoUshape['in_SiteNativeID'] = \"POU\" + dfPoUshapetemp['PWSId'].astype(str)\n",
    "dfPoUshape['geometry'] = dfPoUshapetemp['geometry']\n",
    "dfPoUshape = dfPoUshape.drop_duplicates(subset=None, keep='first', inplace=False, ignore_index=False)\n",
    "dfPoUshape.head(3)"
   ]
  },
  {
   "cell_type": "markdown",
   "metadata": {},
   "source": [
    "## Export Outputfile"
   ]
  },
  {
   "cell_type": "code",
   "execution_count": null,
   "metadata": {},
   "outputs": [],
   "source": [
    "dfout.info()"
   ]
  },
  {
   "cell_type": "code",
   "execution_count": null,
   "metadata": {},
   "outputs": [],
   "source": [
    "# Exporting output files.\n",
    "dfout.to_csv('P_MasterTXSiteSpecific.csv', index=False)  # The master output.\n",
    "dfPoUshape.to_csv('P_txSSGeometry.csv', index=False) # The output geometry."
   ]
  },
  {
   "cell_type": "code",
   "execution_count": null,
   "metadata": {},
   "outputs": [],
   "source": []
  }
 ],
 "metadata": {
  "kernelspec": {
   "display_name": "Python 3 (ipykernel)",
   "language": "python",
   "name": "python3"
  },
  "language_info": {
   "codemirror_mode": {
    "name": "ipython",
    "version": 3
   },
   "file_extension": ".py",
   "mimetype": "text/x-python",
   "name": "python",
   "nbconvert_exporter": "python",
   "pygments_lexer": "ipython3",
   "version": "3.9.13"
  }
 },
 "nbformat": 4,
 "nbformat_minor": 2
}
