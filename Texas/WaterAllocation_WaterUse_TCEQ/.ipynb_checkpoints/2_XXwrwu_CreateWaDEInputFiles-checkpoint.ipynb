{
 "cells": [
  {
   "cell_type": "markdown",
   "id": "091aecd3",
   "metadata": {},
   "source": [
    "# Create WaDE Uploader csv Files for Water Right and Time Series Water Use Data\n",
    "- Last Updated: 01/17/2024\n",
    "- Purpose: To create necessary processed WaDE Uploader csv files for water right information."
   ]
  },
  {
   "cell_type": "code",
   "execution_count": 4,
   "id": "90b6067a",
   "metadata": {},
   "outputs": [],
   "source": [
    "# Needed Libraries / Modules\n",
    "import sys\n",
    "import os\n",
    "\n",
    "## Custom Libraries\n",
    "sys.path.append(\"../../5_CustomFunctions/MappingFunctions\")\n",
    "import CreateWaterSourcesFile\n",
    "import CreateSitesFile\n",
    "import CreateAllocationsAmounts_factsFile\n",
    "import CreateSiteSpecificAmounts_factFile\n",
    "import RemoveUnusedRecordsFile\n",
    "import CreatePODSiteToPOUSiteRelationshipsFile\n",
    "import JoinOverlayToSiteFile\n",
    "import AddCountyHUC8HUC12File"
   ]
  },
  {
   "cell_type": "markdown",
   "id": "22229554",
   "metadata": {},
   "source": [
    "## Input Data (make changes here)\n",
    " - create and add variables specific to this proejct here"
   ]
  },
  {
   "cell_type": "code",
   "execution_count": 2,
   "id": "da2aba5f",
   "metadata": {},
   "outputs": [
    {
     "name": "stdout",
     "output_type": "stream",
     "text": [
      "The working Directory is: G:/Shared drives/WaDE Data/WaDE Data Folder/Texas/WaterAllocation_WaterUse_TCEQ\n"
     ]
    }
   ],
   "source": [
    "# ---- Inputs ----\n",
    "varST = \"TCEQ\" # source organization or state abbreviation\n",
    "varUUIDType = \"wrwu\" # UUID data type abbreviation\n",
    "mainInputFile = \"Pwrwu_Main.zip\" # use processed zip file\n",
    "\n",
    "# ---- working directory ----\n",
    "workingDirString = \"G:/Shared drives/WaDE Data/WaDE Data Folder/Texas/WaterAllocation_WaterUse_TCEQ\"  # set working directory folder string here\n",
    "os.chdir(workingDirString)\n",
    "print(f'The working Directory is:', workingDirString)"
   ]
  },
  {
   "cell_type": "markdown",
   "id": "9ca3ea3e",
   "metadata": {},
   "source": [
    "## Create CSV Input Files"
   ]
  },
  {
   "cell_type": "code",
   "execution_count": null,
   "id": "f373f87f",
   "metadata": {},
   "outputs": [],
   "source": [
    "# ---- Method (methods.csv) ----\n",
    "# Simple info, create by hand and save in ProcessedInputData folder."
   ]
  },
  {
   "cell_type": "code",
   "execution_count": null,
   "id": "d0292a0b",
   "metadata": {},
   "outputs": [],
   "source": [
    "# ---- Variable (variables.csv) ----\n",
    "# Simple info, create by hand and save in ProcessedInputData folder."
   ]
  },
  {
   "cell_type": "code",
   "execution_count": null,
   "id": "de98ab0f",
   "metadata": {},
   "outputs": [],
   "source": [
    "# ---- Organization (organizations.csv) ----\n",
    "# Simple info, create by hand and save in ProcessedInputData folder."
   ]
  },
  {
   "cell_type": "code",
   "execution_count": null,
   "id": "a96f088b",
   "metadata": {},
   "outputs": [],
   "source": [
    "# ---- Water Sources (watersources.csv) ----\n",
    "print(\"Creating Water Sources input csv...\")\n",
    "print(\"############################################################################\")\n",
    "CreateWaterSourcesFile.CreateWaterSourcesInputFunction(workingDirString, varST, varUUIDType, mainInputFile)"
   ]
  },
  {
   "cell_type": "code",
   "execution_count": 8,
   "id": "b6494c99",
   "metadata": {},
   "outputs": [
    {
     "name": "stdout",
     "output_type": "stream",
     "text": [
      "Creating Sites input csv...\n",
      "############################################################################\n",
      "Reading input csv...\n",
      "...no geometry data to worry about.\n",
      "Populating dataframe...\n",
      "WaterSourceUUIDs\n",
      "RegulatoryOverlayUUIDs\n",
      "CoordinateAccuracy\n",
      "CoordinateMethodCV\n",
      "County\n",
      "EPSGCodeCV\n",
      "Geometry\n",
      "GNISCodeCV\n",
      "HUC12\n",
      "HUC8\n",
      "Latitude\n",
      "Longitude\n",
      "NHDNetworkStatusCV\n",
      "NHDProductCV\n",
      "PODorPOUSite\n",
      "SiteName\n",
      "SiteNativeID\n",
      "SitePoint\n",
      "SiteTypeCV\n",
      "StateCV\n",
      "USGSSiteID\n",
      "Adding Data Assessment UUID\n",
      "Resetting Index\n",
      "GroupBy outdf duplicates based on key fields...\n",
      "Error checking each field. Purging bad inputs.\n",
      "Length of outdf DataFrame:  15619\n",
      "Length of dfpurge DataFrame:  3\n",
      "Assign SiteUUID\n",
      "Cleaning export for correct data types...\n",
      "Exporting dataframe...\n",
      "... 3  records removed.\n",
      "Done\n"
     ]
    }
   ],
   "source": [
    "# ---- Sites (sites.csv) ----\n",
    "print(\"Creating Sites input csv...\")\n",
    "print(\"############################################################################\")\n",
    "CreateSitesFile.CreateSitesInputFunction(workingDirString, varST, varUUIDType, mainInputFile)"
   ]
  },
  {
   "cell_type": "code",
   "execution_count": null,
   "id": "ffb1f358",
   "metadata": {
    "scrolled": true
   },
   "outputs": [],
   "source": [
    "# ---- Allocations Amounts (waterallocations.csv) ----\n",
    "print(\"Creating AllocationsAmounts_facts input csv...\")\n",
    "print(\"############################################################################\")\n",
    "CreateAllocationsAmounts_factsFile.CreateAllocationsAmounts_factsInputFunction(workingDirString, varST, varUUIDType, mainInputFile)"
   ]
  },
  {
   "cell_type": "code",
   "execution_count": null,
   "id": "154747bb-1ded-49fd-bf5f-30e4c7649089",
   "metadata": {},
   "outputs": [],
   "source": [
    "# ---- Site Specific Amounts (sitespecificamounts.csv) ----\n",
    "print(\"Creating Site Specific Amounts input csv...\")\n",
    "print(\"############################################################################\")\n",
    "CreateSiteSpecificAmounts_factFile.CreateSiteSpecificAmounts_factsInputFunction(workingDirString, mainInputFile)"
   ]
  },
  {
   "cell_type": "code",
   "execution_count": null,
   "id": "a769f9b0",
   "metadata": {},
   "outputs": [
    {
     "name": "stdout",
     "output_type": "stream",
     "text": [
      "Remove unused Water Sources and Sites records not found within waterallocations.csv...\n",
      "############################################################################\n",
      "Reading input csv...\n",
      "Length of dfs before removing sites:  15613\n",
      "Length of dfs after removing sites:  15613\n",
      "Length of dfws before removing water sources:  1\n",
      "Length of dfws after removing water sources:  1\n",
      "no ws WaDEUUID\n",
      "no s WaDEUUID\n",
      "no aa WaDEUUID\n"
     ]
    },
    {
     "name": "stderr",
     "output_type": "stream",
     "text": [
      "C:\\Users\\rjame\\Documents\\WSWC Documents\\MappingStatesDataToWaDE2.0\\Texas\\WaterAllocation_WaterUse_TCEQ\\../../5_CustomFunctions/MappingFunctions\\RemoveUnusedRecordsFile.py:100: DtypeWarning: Columns (27) have mixed types. Specify dtype option on import or set low_memory=False.\n",
      "  dfsapurge = pd.read_csv(\"ProcessedInputData/sitespecificamounts_missing.csv\").replace(np.nan, \"\")\n"
     ]
    }
   ],
   "source": [
    "# ---- Remove unused records ----\n",
    "print(\"Remove unused Water Sources and Sites records not found within waterallocations.csv...\")\n",
    "print(\"############################################################################\")\n",
    "RemoveUnusedRecordsFile.RemoveUnusedAllocationsAmountRecordsFileFunction(workingDirString)"
   ]
  },
  {
   "cell_type": "code",
   "execution_count": null,
   "id": "777d5d20",
   "metadata": {},
   "outputs": [],
   "source": [
    "# ---- Create POD and POU joins (podsitetopousiterelationships.csv) ----\n",
    "print(\"Creating Pod site -to- Pou site relationships input csv...\")\n",
    "print(\"############################################################################\")\n",
    "CreatePODSiteToPOUSiteRelationshipsFile.PODToPOUWaterRightRelationshipsFunction(workingDirString)"
   ]
  },
  {
   "cell_type": "code",
   "execution_count": null,
   "id": "11908591-b96c-4081-addc-62234b9fc238",
   "metadata": {},
   "outputs": [],
   "source": [
    "# ---- Join RegulatoryOverlayUUIDs for Sites (Sites.csv update) ----\n",
    "print(\"Joining RegulatoryOverlayUUIDs to Sites input csv if exists...\")\n",
    "print(\"############################################################################\")\n",
    "JoinOverlayToSiteFile.JoinOverlayToSiteFunction(workingDirString)"
   ]
  },
  {
   "cell_type": "code",
   "execution_count": 7,
   "id": "f0e21540-5f7d-4f26-a6b2-862b37e91438",
   "metadata": {},
   "outputs": [
    {
     "name": "stdout",
     "output_type": "stream",
     "text": [
      "Add misinsg County, HUC8, HUC12 information if mising...\n",
      "############################################################################\n",
      "Checking for available shapefiles data / project...\n",
      "Reading input files(s)...\n",
      "Checking for missing County information....\n"
     ]
    },
    {
     "name": "stderr",
     "output_type": "stream",
     "text": [
      "C:\\Users\\rjame\\anaconda3\\Lib\\site-packages\\IPython\\core\\interactiveshell.py:3579: FutureWarning: The `op` parameter is deprecated and will be removed in a future release. Please use the `predicate` parameter instead.\n",
      "  exec(code_obj, self.user_global_ns, self.user_ns)\n"
     ]
    },
    {
     "name": "stdout",
     "output_type": "stream",
     "text": [
      "Checking for missing HUC8 information....\n"
     ]
    },
    {
     "name": "stderr",
     "output_type": "stream",
     "text": [
      "C:\\Users\\rjame\\anaconda3\\Lib\\site-packages\\IPython\\core\\interactiveshell.py:3579: FutureWarning: The `op` parameter is deprecated and will be removed in a future release. Please use the `predicate` parameter instead.\n",
      "  exec(code_obj, self.user_global_ns, self.user_ns)\n"
     ]
    },
    {
     "name": "stdout",
     "output_type": "stream",
     "text": [
      "Checking for missing HUC12 information....\n"
     ]
    },
    {
     "name": "stderr",
     "output_type": "stream",
     "text": [
      "C:\\Users\\rjame\\anaconda3\\Lib\\site-packages\\IPython\\core\\interactiveshell.py:3579: FutureWarning: The `op` parameter is deprecated and will be removed in a future release. Please use the `predicate` parameter instead.\n",
      "  exec(code_obj, self.user_global_ns, self.user_ns)\n"
     ]
    },
    {
     "name": "stdout",
     "output_type": "stream",
     "text": [
      "Done\n"
     ]
    }
   ],
   "source": [
    "# ---- Add missing County, HUC8, HUC12 information for Sites (Sites.csv update) ----\n",
    "print(\"Add missing County, HUC8, HUC12 information if missing...\")\n",
    "print(\"############################################################################\")\n",
    "AddCountyHUC8HUC12File.AddCountyHUC8HUC12Function(workingDirString)"
   ]
  },
  {
   "cell_type": "code",
   "execution_count": null,
   "id": "e486a915-1fa4-4af3-87df-54704ee76c9d",
   "metadata": {},
   "outputs": [],
   "source": []
  }
 ],
 "metadata": {
  "kernelspec": {
   "display_name": "Python 3 (ipykernel)",
   "language": "python",
   "name": "python3"
  },
  "language_info": {
   "codemirror_mode": {
    "name": "ipython",
    "version": 3
   },
   "file_extension": ".py",
   "mimetype": "text/x-python",
   "name": "python",
   "nbconvert_exporter": "python",
   "pygments_lexer": "ipython3",
   "version": "3.12.3"
  }
 },
 "nbformat": 4,
 "nbformat_minor": 5
}
