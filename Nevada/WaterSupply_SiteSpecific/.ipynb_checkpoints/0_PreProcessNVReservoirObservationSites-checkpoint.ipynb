{
 "cells": [
  {
   "cell_type": "markdown",
   "metadata": {},
   "source": [
    "# Pre-processing Nevada Site Specific data for WaDEQA upload.\n",
    "Date Updated: 01/26/2022\n",
    "Purpose:  To pre-process the Nevada ss data into one master file for simple DataFrame creation and extraction"
   ]
  },
  {
   "cell_type": "code",
   "execution_count": null,
   "metadata": {},
   "outputs": [],
   "source": [
    "# Libaries\n",
    "\n",
    "# working with data\n",
    "import os\n",
    "import numpy as np\n",
    "import pandas as pd\n",
    "import geopandas as gpd\n",
    "\n",
    "# visulizaiton\n",
    "import matplotlib.pyplot as plt\n",
    "import seaborn as sns\n",
    "\n",
    "# Cleanup\n",
    "from datetime import datetime\n",
    "pd.set_option('display.max_columns', 999)  # How to display all columns of a Pandas DataFrame in Jupyter Notebook"
   ]
  },
  {
   "cell_type": "code",
   "execution_count": null,
   "metadata": {},
   "outputs": [],
   "source": [
    "# Working Directory\n",
    "workingDir = \"G:/Shared drives/WaDE Data/Nevada/SS_ReservoirsObservationSites/RawInputData\"\n",
    "os.chdir(workingDir)"
   ]
  },
  {
   "cell_type": "markdown",
   "metadata": {},
   "source": [
    "## Input Data"
   ]
  },
  {
   "cell_type": "code",
   "execution_count": null,
   "metadata": {},
   "outputs": [],
   "source": [
    "# Dataframe Creation - Timeseries\n",
    "inputFile1 = \"Surface_Water_Monitoring_Sites_and_Measures.csv\"\n",
    "df_ts = pd.read_csv(inputFile1)\n",
    "print(len(df_ts))\n",
    "df_ts.head(1)"
   ]
  },
  {
   "cell_type": "code",
   "execution_count": null,
   "metadata": {},
   "outputs": [],
   "source": [
    "# Dataframe Creation - Location Info\n",
    "# Export of Shapefile data\n",
    "fileInput = \"Shapefile/SurfaceWaterMonitoringSites.shp\"\n",
    "df_loc = gpd.read_file(fileInput)\n",
    "print(len(df_loc))\n",
    "df_loc.head(1)"
   ]
  },
  {
   "cell_type": "code",
   "execution_count": null,
   "metadata": {
    "scrolled": true
   },
   "outputs": [],
   "source": [
    "# Left Join timeseries -to- location via 'Site_Name' field.\n",
    "df_tsloc = pd.merge(df_ts, df_loc, left_on='Site_name', right_on='Site_Name', how='left')\n",
    "print(len(df_tsloc))\n",
    "df_tsloc.head(1)"
   ]
  },
  {
   "cell_type": "code",
   "execution_count": null,
   "metadata": {},
   "outputs": [],
   "source": [
    "df_tsloc.info()"
   ]
  },
  {
   "cell_type": "markdown",
   "metadata": {},
   "source": [
    "## Clean Up / Output DataFrame"
   ]
  },
  {
   "cell_type": "code",
   "execution_count": null,
   "metadata": {},
   "outputs": [],
   "source": [
    "# Create temporary main dataframe\n",
    "dfout = pd.DataFrame(index=df_tsloc.index)\n",
    "\n",
    "# Water Source Info\n",
    "dfout['in_WaterSourceName'] = df_tsloc['Source_Nam']\n",
    "\n",
    "# Site Info\n",
    "dfout['in_County'] = df_tsloc['County']\n",
    "dfout['in_Latitude'] = df_tsloc['Lat_DD_NAD'].astype(float)\n",
    "dfout['in_Longitude'] = df_tsloc['Lon_DD_NAD'].astype(float)\n",
    "dfout['in_SiteName'] = df_tsloc['Site_Name']\n",
    "dfout['in_SiteNativeID'] = df_tsloc['AutoID']\n",
    "dfout['in_SiteTypeCV'] = df_tsloc['Source_Des']\n",
    "\n",
    "# Site Variable Amount Info\n",
    "dfout['Units'] = df_tsloc['Units']\n",
    "dfout['in_Amount'] = df_tsloc['Discharge'].astype(float)\n",
    "dfout['in_ReportYearCV'] =  df_tsloc['Measure_date']\n",
    "dfout['in_TimeframeStart'] = df_tsloc['Measure_date']\n",
    "dfout['in_TimeframeEnd'] = df_tsloc['Measure_date']\n",
    "\n",
    "print(len(dfout))\n",
    "dfout.head(1)"
   ]
  },
  {
   "cell_type": "code",
   "execution_count": null,
   "metadata": {},
   "outputs": [],
   "source": [
    "# Convert all GPM amounts to CFS for simplicity.\n",
    "\n",
    "def convertGPMtoCFS(Aval, Uval):\n",
    "    Uval = str(Uval).strip().lower()\n",
    "    if Uval == \"gpm\":\n",
    "        outValue = Aval * 0.00222800926\n",
    "    else:\n",
    "        outValue = Aval\n",
    "    return outValue\n",
    "\n",
    "dfout['in_Amount'] = dfout.apply(lambda row: convertGPMtoCFS(row['in_Amount'], row['Units']), axis=1)\n",
    "dfout = dfout.drop(['Units'], axis=1)\n",
    "dfout.head()"
   ]
  },
  {
   "cell_type": "code",
   "execution_count": null,
   "metadata": {},
   "outputs": [],
   "source": [
    "# Convert History Year to YYYY-MM-DD format.  # Convert ReportYearCV to int.\n",
    "\n",
    "dfout['in_ReportYearCV'] = pd.to_datetime(dfout['in_ReportYearCV'], errors = 'coerce')\n",
    "dfout['in_ReportYearCV'] = pd.to_datetime(dfout[\"in_ReportYearCV\"].dt.strftime('%Y'))\n",
    "dfout['in_ReportYearCV'] = dfout['in_ReportYearCV'].dt.to_period('Y').astype(str)\n",
    "\n",
    "dfout['in_TimeframeStart'] = pd.to_datetime(dfout['in_TimeframeStart'], errors = 'coerce')\n",
    "dfout['in_TimeframeStart'] = pd.to_datetime(dfout[\"in_TimeframeStart\"].dt.strftime('%m/%d/%Y'))\n",
    "\n",
    "dfout['in_TimeframeEnd'] = pd.to_datetime(dfout['in_TimeframeEnd'], errors = 'coerce')\n",
    "dfout['in_TimeframeEnd'] = pd.to_datetime(dfout[\"in_TimeframeEnd\"].dt.strftime('%m/%d/%Y'))\n",
    "\n",
    "dfout.head()"
   ]
  },
  {
   "cell_type": "code",
   "execution_count": null,
   "metadata": {},
   "outputs": [],
   "source": [
    "# For SiteTypeCV change nan values to Unspecified\n",
    "\n",
    "def changeNanSiteTypeCV(STcv):\n",
    "    STcv = str(STcv).strip()\n",
    "    if STcv == \"\" or STcv == 'nan' or pd.isnull(STcv):\n",
    "        outString = \"Unspecified\"\n",
    "    else:\n",
    "        outString = STcv\n",
    "    return outString\n",
    "\n",
    "dfout['in_SiteTypeCV'] = dfout.apply(lambda row: changeNanSiteTypeCV(row['in_SiteTypeCV']), axis=1)\n",
    "dfout.head()"
   ]
  },
  {
   "cell_type": "code",
   "execution_count": null,
   "metadata": {},
   "outputs": [],
   "source": [
    "# Add Water Source Type based on SiteTypeCV\n",
    "\n",
    "def addWaterSourceType(WSTcv):\n",
    "    WSTcv = str(WSTcv).strip().lower()\n",
    "    if WSTcv == \"wells\" or WSTcv == 'well' or WSTcv == 'flowing well' or WSTcv == 'spring':\n",
    "        outString = \"Groundwater\"\n",
    "    else:\n",
    "        outString = \"Surface Water\"\n",
    "    return outString\n",
    "\n",
    "dfout['in_WaterSourceTypeCV'] = dfout.apply(lambda row: addWaterSourceType(row['in_SiteTypeCV']), axis=1)\n",
    "dfout.head()"
   ]
  },
  {
   "cell_type": "markdown",
   "metadata": {},
   "source": [
    "## WaDE Custom Elements (due to missing info)"
   ]
  },
  {
   "cell_type": "code",
   "execution_count": null,
   "metadata": {},
   "outputs": [],
   "source": [
    "# Creating WaDE Custom water source native ID for easy water source identification\n",
    "# ----------------------------------------------------------------------------------------------------\n",
    "\n",
    "# Create temp WaterSourceNativeID dataframe of unique water source.\n",
    "def assignWaterSourceNativeID(colrowValue):\n",
    "    string1 = str(colrowValue)\n",
    "    outstring = \"WaDENV_WS\" + string1\n",
    "    return outstring\n",
    "\n",
    "dfWaterSourceNativeID = pd.DataFrame()\n",
    "dfWaterSourceNativeID['in_WaterSourceName'] = dfout['in_WaterSourceName']\n",
    "dfWaterSourceNativeID = dfWaterSourceNativeID.drop_duplicates()\n",
    "\n",
    "dftemp = pd.DataFrame(index=dfWaterSourceNativeID.index)\n",
    "dftemp[\"Count\"] = range(1, len(dftemp.index) + 1)\n",
    "dfWaterSourceNativeID['in_WaterSourceNativeID'] = dftemp.apply(lambda row: assignWaterSourceNativeID(row['Count']), axis=1)\n",
    "\n",
    "# ----------------------------------------------------------------------------------------------------\n",
    "\n",
    "# Retreive WaDE Custom water source native ID\n",
    "def retrieveWaterSourceNativeID(A):\n",
    "    ml = dfWaterSourceNativeID.loc[(dfWaterSourceNativeID['in_WaterSourceName'] == A), 'in_WaterSourceNativeID']\n",
    "    if not (ml.empty):  # check if the series is empty\n",
    "        outList = ml.iloc[0]\n",
    "    else:\n",
    "        outList = ''\n",
    "    return outList\n",
    "\n",
    "dfout['in_WaterSourceNativeID'] = dfout.apply(lambda row: retrieveWaterSourceNativeID( row['in_WaterSourceName']), axis=1)\n",
    "dfout.head(1)"
   ]
  },
  {
   "cell_type": "markdown",
   "metadata": {},
   "source": [
    "## Inspect Data"
   ]
  },
  {
   "cell_type": "code",
   "execution_count": null,
   "metadata": {},
   "outputs": [],
   "source": [
    "dfout.info()"
   ]
  },
  {
   "cell_type": "code",
   "execution_count": null,
   "metadata": {},
   "outputs": [],
   "source": [
    "dfout['in_SiteTypeCV'].unique()"
   ]
  },
  {
   "cell_type": "code",
   "execution_count": null,
   "metadata": {},
   "outputs": [],
   "source": [
    "dfout['in_ReportYearCV'].unique()"
   ]
  },
  {
   "cell_type": "code",
   "execution_count": null,
   "metadata": {},
   "outputs": [],
   "source": [
    "# Inspect amount distribution.\n",
    "\n",
    "# This is correct, there are at least two sites with > 40,000 CFS.\n",
    "sns.boxplot(data=dfout, x=\"in_Amount\")"
   ]
  },
  {
   "cell_type": "markdown",
   "metadata": {},
   "source": [
    "## Export Output Dataframe"
   ]
  },
  {
   "cell_type": "code",
   "execution_count": null,
   "metadata": {},
   "outputs": [],
   "source": [
    "#Exporting to Finished File\n",
    "dfout.to_csv('P_nvOSMaster.csv', index=False)  # The output"
   ]
  }
 ],
 "metadata": {
  "kernelspec": {
   "display_name": "Python 3 (ipykernel)",
   "language": "python",
   "name": "python3"
  },
  "language_info": {
   "codemirror_mode": {
    "name": "ipython",
    "version": 3
   },
   "file_extension": ".py",
   "mimetype": "text/x-python",
   "name": "python",
   "nbconvert_exporter": "python",
   "pygments_lexer": "ipython3",
   "version": "3.9.15"
  }
 },
 "nbformat": 4,
 "nbformat_minor": 2
}
