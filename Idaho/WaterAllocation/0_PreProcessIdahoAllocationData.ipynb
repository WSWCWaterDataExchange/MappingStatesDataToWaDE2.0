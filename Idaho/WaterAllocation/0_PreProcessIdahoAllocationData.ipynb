{
 "cells": [
  {
   "cell_type": "markdown",
   "metadata": {},
   "source": [
    "# Pre-processing Idaho Allocation data for WaDEQA upload.\n",
    "- Date Updated: 09/09/2022\n",
    "- Purpose:  To pre-process the Idaho data into one master file for simple DataFrame creation and extraction.  Working Idaho data for WaDEQA 2.0 is mostly composed of point of diversion data.\n",
    "- Notes: working with POD and POU data.  Working with assumption that both POD and POU data share the same water right record information."
   ]
  },
  {
   "cell_type": "code",
   "execution_count": null,
   "metadata": {},
   "outputs": [],
   "source": [
    "# Needed Libararies\n",
    "import os\n",
    "import numpy as np\n",
    "import pandas as pd\n",
    "import datetime\n",
    "import geopandas as gpd # the library that lets us read in shapefiles\n",
    "pd.set_option('display.max_columns', 999)  # How to display all columns of a Pandas DataFrame in Jupyter Notebook"
   ]
  },
  {
   "cell_type": "code",
   "execution_count": null,
   "metadata": {},
   "outputs": [],
   "source": [
    "# Working Directory\n",
    "workingDir = \"G:/Shared drives/WaDE Data/Idaho/WaterAllocation/RawInputData\"\n",
    "os.chdir(workingDir)"
   ]
  },
  {
   "cell_type": "markdown",
   "metadata": {},
   "source": [
    "## Import Input Data"
   ]
  },
  {
   "cell_type": "code",
   "execution_count": null,
   "metadata": {},
   "outputs": [],
   "source": [
    "# POD Data\n",
    "FI_POD = \"Water_Right_PODs_input.csv\"\n",
    "dfinPOD = pd.read_csv(FI_POD)\n",
    "\n",
    "# WaDE UUID tracker for data assessment\n",
    "if 'WaDEUUID' not in dfinPOD:\n",
    "    dfinPOD['WaDEUUID'] = \"idD\" + dfinPOD.index.astype(str)\n",
    "    dfinPOD.to_csv('Water_Right_PODs_input.csv', index=False)\n",
    "\n",
    "print(len(dfinPOD))\n",
    "dfinPOD.head(1)"
   ]
  },
  {
   "cell_type": "code",
   "execution_count": null,
   "metadata": {},
   "outputs": [],
   "source": [
    "# POU\n",
    "FI_POU = \"WaterRightPOUs_input.csv\"\n",
    "dfinPOU = pd.read_csv(FI_POU)\n",
    "\n",
    "# WaDE UUID tracker for data assessment\n",
    "if 'WaDEUUID' not in dfinPOU:\n",
    "    dfinPOU['WaDEUUID'] = \"idU\" + dfinPOU.index.astype(str)\n",
    "    dfinPOU.to_csv('WaterRightPOUs_input.csv', index=False)\n",
    "\n",
    "print(len(dfinPOU))\n",
    "dfinPOU.head(1)"
   ]
  },
  {
   "cell_type": "markdown",
   "metadata": {},
   "source": [
    "## POD Sites Data"
   ]
  },
  {
   "cell_type": "code",
   "execution_count": null,
   "metadata": {},
   "outputs": [],
   "source": [
    "# extract a few POU elements\n",
    "\n",
    "dfinPODm = pd.merge(dfinPOD, dfinPOU[['RightID', 'WaterUse', 'AcreLimit', 'TotalAcres']], on='RightID', how='left')\n",
    "print(len(dfinPODm))\n",
    "dfinPODm.head(1)"
   ]
  },
  {
   "cell_type": "code",
   "execution_count": null,
   "metadata": {},
   "outputs": [],
   "source": [
    "# Idaho projection = EPSG:8826.  WGS84 projection used by WaDE 2.0 = epsg:4326.\n",
    "from pyproj import Transformer, transform\n",
    "transformer = Transformer.from_proj(8826, 4326)  # A trick to drastically optimize the Transformer of pyproj.\n",
    "\n",
    "# For converting projection latitude.\n",
    "def assignLat(colrowValLat, colrowValLong):\n",
    "    lat, long = transformer.transform(colrowValLat, colrowValLong)\n",
    "    return lat\n",
    "\n",
    "# For converting projection longitude.\n",
    "def assignLong(colrowValLat, colrowValLong):\n",
    "    lat, long = transformer.transform(colrowValLat, colrowValLong)\n",
    "    return long\n",
    "\n",
    "\n",
    "dfinPODm['Latitude'] = dfinPODm.apply(lambda row: assignLat(row['Y'], row['X']), axis=1)\n",
    "dfinPODm['Longitude'] = dfinPODm.apply(lambda row: assignLong(row['Y'], row['X']), axis=1)\n",
    "dfinPODm.head(1)"
   ]
  },
  {
   "cell_type": "code",
   "execution_count": null,
   "metadata": {},
   "outputs": [],
   "source": [
    "# IrrigatedAcreage\n",
    "\n",
    "def assignIrrigatedAcreage(AcreLimit, TotalAcres):\n",
    "    AcreLimit = float(AcreLimit)\n",
    "    TotalAcres = float(TotalAcres)\n",
    "    if AcreLimit > 0:\n",
    "        outVal = AcreLimit\n",
    "    else:\n",
    "        outVal = TotalAcres\n",
    "    return outVal\n",
    "\n",
    "dfinPODm['in_IrrigatedAcreage'] = dfinPODm.apply(lambda row: assignIrrigatedAcreage(row['AcreLimit'], row['TotalAcres']), axis=1)\n",
    "dfinPODm['in_IrrigatedAcreage'].unique()"
   ]
  },
  {
   "cell_type": "code",
   "execution_count": null,
   "metadata": {},
   "outputs": [],
   "source": [
    "# create output POD dataframe\n",
    "\n",
    "dfPOD = pd.DataFrame()\n",
    "\n",
    "# Data Assessment UUID\n",
    "dfPOD['WaDEUUID'] = dfinPODm['WaDEUUID']\n",
    "\n",
    "# Water Source\n",
    "dfPOD['in_WaterSourceName'] = dfinPODm['Source'].str.strip()\n",
    "dfPOD['in_WaterSourceTypeCV'] = dfinPODm['Source'].str.strip()\n",
    "\n",
    "# Site\n",
    "dfPOD['in_CoordinateAccuracy'] = \"Unspecified\"\n",
    "dfPOD['in_CoordinateMethodCV'] = dfinPODm['DataSource']\n",
    "dfPOD['in_County'] = \"Unspecified\"\n",
    "dfPOD['in_Latitude'] = dfinPODm['Y']\n",
    "dfPOD['in_Longitude'] = dfinPODm['X']\n",
    "dfPOD['in_PODorPOUSite'] = \"POD\"\n",
    "dfPOD['in_SiteName'] = dfinPODm['DiversionName']\n",
    "dfPOD['in_SiteNativeID'] = \"POD\" + dfinPODm['PointOfDiversionID'].astype(str).str.strip()\n",
    "dfPOD['in_SiteTypeCV'] = \"Unspecified\"\n",
    "\n",
    "# Allocation Fact\n",
    "dfPOD['in_AllocationNativeID'] = dfinPODm['WaterRightNumber']\n",
    "dfPOD['in_AllocationOwner'] = dfinPODm['Owner']\n",
    "dfPOD['in_AllocationPriorityDate'] = dfinPODm['PriorityDate']\n",
    "dfPOD['in_AllocationFlow_CFS'] = dfinPODm['OverallMaxDiversionRate']\n",
    "dfPOD['in_AllocationBasisCV'] = dfinPODm['Basis'].str.strip()\n",
    "dfPOD['in_AllocationLegalStatusCV'] = dfinPODm['Status'].str.strip()\n",
    "dfPOD['in_BeneficialUseCategory'] = dfinPODm['WaterUse'].str.strip()\n",
    "dfPOD['in_IrrigatedAcreage'] = dfinPODm['in_IrrigatedAcreage']\n",
    "dfPOD['in_WaterAllocationNativeURL'] = dfinPODm['WRDocs']\n",
    "\n",
    "print(len(dfPOD))\n",
    "dfPOD.head(1)"
   ]
  },
  {
   "cell_type": "markdown",
   "metadata": {},
   "source": [
    "## POU Site Data"
   ]
  },
  {
   "cell_type": "code",
   "execution_count": null,
   "metadata": {},
   "outputs": [],
   "source": [
    "# extract POD elements\n",
    "\n",
    "dfinPOUm = pd.merge(dfinPOU, dfinPOD, on='RightID', how='left')\n",
    "print(len(dfinPOUm))\n",
    "dfinPOUm.head(1)"
   ]
  },
  {
   "cell_type": "code",
   "execution_count": null,
   "metadata": {},
   "outputs": [],
   "source": [
    "# IrrigatedAcreage\n",
    "\n",
    "def assignIrrigatedAcreage(AcreLimit, TotalAcres):\n",
    "    AcreLimit = float(AcreLimit)\n",
    "    TotalAcres = float(TotalAcres)\n",
    "    if AcreLimit > 0:\n",
    "        outVal = AcreLimit\n",
    "    else:\n",
    "        outVal = TotalAcres\n",
    "    return outVal\n",
    "\n",
    "dfinPOUm['in_IrrigatedAcreage'] = dfinPOUm.apply(lambda row: assignIrrigatedAcreage(row['AcreLimit'], row['TotalAcres']), axis=1)\n",
    "dfinPOUm['in_IrrigatedAcreage'].unique()"
   ]
  },
  {
   "cell_type": "code",
   "execution_count": null,
   "metadata": {},
   "outputs": [],
   "source": [
    "# create output POD dataframe\n",
    "\n",
    "dfPOU = pd.DataFrame()\n",
    "\n",
    "# Data Assessment UUID\n",
    "dfPOU['WaDEUUID'] = dfinPOUm['WaDEUUID_x']\n",
    "\n",
    "# Water Source\n",
    "dfPOU['in_WaterSourceName'] = dfinPOUm['Source_x'].str.strip()\n",
    "dfPOU['in_WaterSourceTypeCV'] = dfinPOUm['Source_x'].str.strip()\n",
    "\n",
    "# Site\n",
    "dfPOU['in_CoordinateAccuracy'] = \"Unspecified\"\n",
    "dfPOU['in_CoordinateMethodCV'] = \"Centroid\"\n",
    "dfPOU['in_County'] = \"Unspecified\"\n",
    "dfPOU['in_Latitude'] = dfinPOUm['Latitude']\n",
    "dfPOU['in_Longitude'] = dfinPOUm['Longitude']\n",
    "dfPOU['in_PODorPOUSite'] = \"POU\"\n",
    "dfPOU['in_SiteName'] = \"Unspecified\"\n",
    "dfPOU['in_SiteTypeCV'] = \"Unspecified\"\n",
    "dfPOU['in_SiteNativeID'] = \"POU\" + dfinPOUm['PlaceOfUse'].astype(str).str.strip()\n",
    "\n",
    "# Allocation Fact\n",
    "dfPOU['in_AllocationNativeID'] = dfinPOUm['WaterRight']\n",
    "dfPOU['in_AllocationOwner'] = dfinPOUm['Owner_x']\n",
    "dfPOU['in_AllocationPriorityDate'] = dfinPOUm['PriorityDa']\n",
    "dfPOU['in_AllocationFlow_CFS'] = dfinPOUm['OverallMaxDiversionRate']\n",
    "dfPOU['in_AllocationBasisCV'] = dfinPOUm['Basis'].str.strip()\n",
    "dfPOU['in_AllocationLegalStatusCV'] = dfinPOUm['Status_x'].str.title()\n",
    "dfPOU['in_BeneficialUseCategory'] = dfinPOUm['WaterUse'].str.strip()\n",
    "dfPOU['in_IrrigatedAcreage'] = dfinPOUm['in_IrrigatedAcreage']\n",
    "dfPOU['in_WaterAllocationNativeURL'] = dfinPOUm['WRDocs_x']\n",
    "\n",
    "print(len(dfPOU))\n",
    "dfPOU.head(1)"
   ]
  },
  {
   "cell_type": "markdown",
   "metadata": {},
   "source": [
    "## Concatenate and Clean Data"
   ]
  },
  {
   "cell_type": "code",
   "execution_count": null,
   "metadata": {},
   "outputs": [],
   "source": [
    "# Concatenate dataframes\n",
    "frames = [dfPOD, dfPOU]\n",
    "outdf = pd.concat(frames)\n",
    "outdf = outdf.drop_duplicates()\n",
    "print(len(outdf))"
   ]
  },
  {
   "cell_type": "code",
   "execution_count": null,
   "metadata": {},
   "outputs": [],
   "source": [
    "# clean up AllocationNativeID\n",
    "\n",
    "def cleanAllocationNativeID(Val):\n",
    "    Val = str(Val).strip()\n",
    "    return Val\n",
    "\n",
    "outdf['in_AllocationNativeID'] = outdf.apply(lambda row: cleanAllocationNativeID(row['in_AllocationNativeID']), axis=1)\n",
    "outdf['in_AllocationNativeID'].unique()"
   ]
  },
  {
   "cell_type": "code",
   "execution_count": null,
   "metadata": {},
   "outputs": [],
   "source": [
    "# remove special characters AllocationOwner\n",
    "\n",
    "import re\n",
    "\n",
    "def cleanOwnerDataFunc(Val):\n",
    "    Val = re.sub(\"[$@&.;,'/\\)(-]\", \"\", Val).strip()\n",
    "    return Val\n",
    "\n",
    "outdf['in_AllocationOwner'] = outdf.apply(lambda row: cleanOwnerDataFunc(row['in_AllocationOwner']), axis=1)\n",
    "outdf['in_AllocationOwner'].unique()"
   ]
  },
  {
   "cell_type": "code",
   "execution_count": null,
   "metadata": {},
   "outputs": [],
   "source": [
    "# WaterSourceType\n",
    "\n",
    "WaterSourceTypeDict = {\n",
    "\"River\" : \"Surface Water\",\n",
    "\"Ground Water\" : \"Groundwater\",\n",
    "\"Spring\" :  \"Groundwater\",\n",
    "\"Lake\" :  \"Surface Water\",\n",
    "\"Pond\" :  \"Surface Water\", \n",
    "\"Canal\" :  \"Surface Water\",\n",
    "\"Creek\" : \"Surface Water\",\n",
    "\"Fork\" : \"Surface Water\",\n",
    "\"Waste Water\" : \"Reuse\",\n",
    "\"Drain\" : \"Surface Water\",\n",
    "\"Gluch\" : \"Surface Water\",\n",
    "\"Reservoir\" : \"Surface Water\",\n",
    "\"Slough\" : \"Surface Water\",\n",
    "\"Ditch\" : \"Surface Water\",\n",
    "\"Channel\" : \"Surface Water\",\n",
    "\"Dry\" : \"Surface Water\"}\n",
    "\n",
    "def assignWaterSourceType(colrowValue):\n",
    "    if colrowValue == '' or pd.isnull(colrowValue):\n",
    "        outList = 'Unspecified'\n",
    "    elif colrowValue == \"GROUND WATER\":\n",
    "        outList = \"Groundwater\"\n",
    "    else:\n",
    "        String1 = colrowValue.strip()  # remove whitespace chars\n",
    "        String1 = String1.title()  # change to title format\n",
    "        list_of_words = String1.split()\n",
    "        for i in list_of_words:\n",
    "            if i in WaterSourceTypeDict.keys():\n",
    "                outList = WaterSourceTypeDict[i]\n",
    "            else:\n",
    "                outList = 'Unspecified'\n",
    "    return outList\n",
    "\n",
    "outdf['in_WaterSourceTypeCV'] = outdf.apply(lambda row: assignWaterSourceType(row['in_WaterSourceTypeCV']), axis=1)\n",
    "outdf['in_WaterSourceTypeCV'].unique()"
   ]
  },
  {
   "cell_type": "code",
   "execution_count": null,
   "metadata": {},
   "outputs": [],
   "source": [
    "# Update datatype of Priority Date to fit WaDE 2.0 structure\n",
    "\n",
    "def formatDateString(inString1):\n",
    "    inString = str(inString1).strip()\n",
    "    try:\n",
    "        if inString == \"\" or pd.isnull(inString):\n",
    "            valndf = \"\"\n",
    "        else:\n",
    "            valD = pd.to_datetime(inString)\n",
    "            valnDd = valD.date()\n",
    "            valndf = valnDd.strftime('%m/%d/%Y')\n",
    "    except:\n",
    "        valndf = \"\"\n",
    "    return valndf\n",
    "\n",
    "outdf['in_AllocationPriorityDate'] = outdf.apply(lambda row: formatDateString(row['in_AllocationPriorityDate']), axis=1)\n",
    "outdf['in_AllocationPriorityDate'].unique()"
   ]
  },
  {
   "cell_type": "code",
   "execution_count": null,
   "metadata": {},
   "outputs": [],
   "source": [
    "# Creating WaDE Custom water source native ID for easy water source identification\n",
    "# ----------------------------------------------------------------------------------------------------\n",
    "\n",
    "# Create temp WaterSourceNativeID dataframe of unique water source.\n",
    "def assignWaterSourceNativeID(colrowValue):\n",
    "    string1 = str(colrowValue)\n",
    "    outstring = \"WaDEID_WS\" + string1\n",
    "    return outstring\n",
    "\n",
    "dfWaterSourceNativeID = pd.DataFrame()\n",
    "dfWaterSourceNativeID['in_WaterSourceName'] = outdf['in_WaterSourceName']\n",
    "dfWaterSourceNativeID['in_WaterSourceTypeCV'] = outdf['in_WaterSourceTypeCV']\n",
    "dfWaterSourceNativeID = dfWaterSourceNativeID.drop_duplicates()\n",
    "\n",
    "dftemp = pd.DataFrame(index=dfWaterSourceNativeID.index)\n",
    "dftemp[\"Count\"] = range(1, len(dftemp.index) + 1)\n",
    "dfWaterSourceNativeID['in_WaterSourceNativeID'] = dftemp.apply(lambda row: assignWaterSourceNativeID(row['Count']), axis=1)\n",
    "\n",
    "# ----------------------------------------------------------------------------------------------------\n",
    "\n",
    "# Retreive WaDE Custom water source native ID\n",
    "def retrieveWaterSourceNativeID(A, B):\n",
    "    if (A == '' and B == '') or (pd.isnull(A) and pd.isnull(B)):\n",
    "        outList = ''\n",
    "    else:\n",
    "        ml = dfWaterSourceNativeID.loc[(dfWaterSourceNativeID['in_WaterSourceName'] == A) & \n",
    "                                       (dfWaterSourceNativeID['in_WaterSourceTypeCV'] == B), 'in_WaterSourceNativeID']\n",
    "        if not (ml.empty):  # check if the series is empty\n",
    "            outList = ml.iloc[0]\n",
    "        else:\n",
    "            outList = ''\n",
    "    return outList\n",
    "\n",
    "outdf['in_WaterSourceNativeID'] = outdf.apply(lambda row: retrieveWaterSourceNativeID( row['in_WaterSourceName'], row['in_WaterSourceTypeCV']), axis=1)\n",
    "outdf['in_WaterSourceNativeID'].unique()"
   ]
  },
  {
   "cell_type": "markdown",
   "metadata": {},
   "source": [
    "## Shapefile Data\n",
    "- For attaching gemetry to csv inputs."
   ]
  },
  {
   "cell_type": "code",
   "execution_count": null,
   "metadata": {},
   "outputs": [],
   "source": [
    "# Shapefile input\n",
    "dfPoUshapetemp = gpd.read_file('shapefile/WaterRightPOUs.shp')\n",
    "print(len(dfPoUshapetemp))\n",
    "dfPoUshapetemp.head(1)"
   ]
  },
  {
   "cell_type": "code",
   "execution_count": null,
   "metadata": {},
   "outputs": [],
   "source": [
    "columnsList = ['in_SiteNativeID', 'geometry']\n",
    "dfPoUshape = pd.DataFrame(columns=columnsList)\n",
    "dfPoUshape['in_SiteNativeID'] = \"POU\" + dfPoUshapetemp['PlaceOfUse'].astype(str).str.strip()\n",
    "dfPoUshape['geometry'] = dfPoUshapetemp['geometry']\n",
    "dfPoUshape = dfPoUshape.drop_duplicates(subset=None, keep='first', inplace=False, ignore_index=False)\n",
    "dfPoUshape.head(3)"
   ]
  },
  {
   "cell_type": "markdown",
   "metadata": {},
   "source": [
    "## Review and Export"
   ]
  },
  {
   "cell_type": "code",
   "execution_count": null,
   "metadata": {
    "scrolled": false
   },
   "outputs": [],
   "source": [
    "outdf.dtypes"
   ]
  },
  {
   "cell_type": "code",
   "execution_count": null,
   "metadata": {},
   "outputs": [],
   "source": [
    "#Exporting to Finished File\n",
    "outdf.to_csv('P_IdahoMaster.csv', index=False)  # The output\n",
    "dfPoUshape.to_csv('P_idGeometry.csv', index=False) # The output geometry."
   ]
  },
  {
   "cell_type": "code",
   "execution_count": null,
   "metadata": {},
   "outputs": [],
   "source": []
  },
  {
   "cell_type": "code",
   "execution_count": null,
   "metadata": {},
   "outputs": [],
   "source": []
  },
  {
   "cell_type": "code",
   "execution_count": null,
   "metadata": {},
   "outputs": [],
   "source": [
    "# fileInput = \"G:/Shared drives/WaDE Data/Idaho/WaterAllocation/ProcessedInputData/sites.csv\"\n",
    "# df = pd.read_csv(FI_POD)\n",
    "# df.head(1)"
   ]
  },
  {
   "cell_type": "code",
   "execution_count": null,
   "metadata": {},
   "outputs": [],
   "source": []
  }
 ],
 "metadata": {
  "kernelspec": {
   "display_name": "Python 3 (ipykernel)",
   "language": "python",
   "name": "python3"
  },
  "language_info": {
   "codemirror_mode": {
    "name": "ipython",
    "version": 3
   },
   "file_extension": ".py",
   "mimetype": "text/x-python",
   "name": "python",
   "nbconvert_exporter": "python",
   "pygments_lexer": "ipython3",
   "version": "3.9.13"
  }
 },
 "nbformat": 4,
 "nbformat_minor": 2
}
