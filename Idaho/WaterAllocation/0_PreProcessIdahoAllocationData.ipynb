{
 "cells": [
  {
   "cell_type": "markdown",
   "metadata": {},
   "source": [
    "# Pre-processing Idaho Allocation data for WaDEQA upload.\n",
    "Date Updated: 10/22/2020\n",
    "Purpose:  To pre-process the Idaho data into one master file for simple DataFrame creation and extraction.  Working Idaho data for WaDEQA 2.0 is mostly composed of point of diversion data.\n",
    "\n",
    "Useful Links to Data:\n",
    "Point of Diversion (POD): (download spreadsheet)\n",
    "https://data-idwr.opendata.arcgis.com/datasets/water-right-pods\n",
    "\n",
    "Place of Use (PoU): Water Right (download the Zipped Files). See metadata in the View. Open WaterRightPOUs.dbf into Excel/load it into pandas Python \n",
    "https://data-idwr.opendata.arcgis.com/pages/gis-data#WaterRights"
   ]
  },
  {
   "cell_type": "code",
   "execution_count": null,
   "metadata": {},
   "outputs": [],
   "source": [
    "# Needed Libararies\n",
    "import os\n",
    "import numpy as np\n",
    "import pandas as pd\n",
    "import datetime\n",
    "import geopandas as gpd # the library that lets us read in shapefiles\n",
    "pd.set_option('display.max_columns', 999)  # How to display all columns of a Pandas DataFrame in Jupyter Notebook"
   ]
  },
  {
   "cell_type": "code",
   "execution_count": null,
   "metadata": {},
   "outputs": [],
   "source": [
    "# Working Directory\n",
    "workingDir = \"G:/Shared drives/WaDE Data/Idaho/WaterAllocation/RawInputData\"\n",
    "os.chdir(workingDir)"
   ]
  },
  {
   "cell_type": "markdown",
   "metadata": {},
   "source": [
    "## Clean Owner Data"
   ]
  },
  {
   "cell_type": "code",
   "execution_count": null,
   "metadata": {},
   "outputs": [],
   "source": [
    "FI_ExtendedContactNames = \"IdwrExtendedContactNamesWithFieldNames_input.xlsx\"\n",
    "df_ECN = pd.read_excel(FI_ExtendedContactNames)\n",
    "df_ECN.head(1)\n",
    "print(len(df_ECN))"
   ]
  },
  {
   "cell_type": "code",
   "execution_count": null,
   "metadata": {},
   "outputs": [],
   "source": [
    "import re\n",
    "\n",
    "def cleanOwnerDataFunc(Val):\n",
    "    Val = re.sub(\"[$@&.;,/\\)(-]\", \"\", Val).strip()\n",
    "    return Val\n",
    "\n",
    "df_ECN['OrganizationName'] = df_ECN.apply(lambda row: cleanOwnerDataFunc(row['OrganizationName']), axis=1)\n",
    "df_ECN['in_AllocationOwner'].unique()"
   ]
  },
  {
   "cell_type": "code",
   "execution_count": null,
   "metadata": {},
   "outputs": [],
   "source": [
    "df_ECN.to_excel('IdwrExtendedContactNamesWithFieldNames_input.xlsx', index=False)  # The output"
   ]
  },
  {
   "cell_type": "code",
   "execution_count": null,
   "metadata": {},
   "outputs": [],
   "source": [
    "# create owner dictionary\n",
    "ExtOwnerNameDict = pd.Series(df_ECN.StreetAddress.values, index = df_ECN.RightID).to_dict()"
   ]
  },
  {
   "cell_type": "markdown",
   "metadata": {},
   "source": [
    "## POD Sites Data"
   ]
  },
  {
   "cell_type": "code",
   "execution_count": null,
   "metadata": {},
   "outputs": [],
   "source": [
    "# Input File\n",
    "FI_POD = \"ID_Water_Right_PODs_input.xlsx\"\n",
    "dfinPOD = pd.read_excel(FI_POD)\n",
    "\n",
    "# WaDE UUID tracker for data assessment\n",
    "if 'WaDEUUID' not in dfinPOD:\n",
    "    dfinPOD['WaDEUUID'] = \"idD\" + dfinPOD.index.astype(str)\n",
    "    dfinPOD.to_excel('ID_Water_Right_PODs_input.xlsx', index=False)\n",
    "\n",
    "dfinPOD.head(1)"
   ]
  },
  {
   "cell_type": "code",
   "execution_count": null,
   "metadata": {},
   "outputs": [],
   "source": [
    "# temp\n",
    "# merge a few POU elements, like water use\n",
    "FI_POU = \"ID_Water_Right_PoUs_input.xlsx\"\n",
    "dfinPOU = pd.read_excel(FI_POU)\n",
    "\n",
    "dfinPOD = pd.merge(dfinPOD, dfinPOU[['RightID','WaterUse']], left_on='RightID_POD', right_on='RightID', how='left')\n",
    "print(len(dfinPOD))\n",
    "dfinPOD.head(3)"
   ]
  },
  {
   "cell_type": "code",
   "execution_count": null,
   "metadata": {},
   "outputs": [],
   "source": [
    "# Update datatype of Priority Date to fit WaDE 2.0 structure\n",
    "\n",
    "dfinPOD['PriorityDate_POD'] = pd.to_datetime(dfinPOD['PriorityDate_POD'])\n",
    "dfinPOD['PriorityDate_POD'] = pd.to_datetime(dfinPOD[\"PriorityDate_POD\"].dt.strftime('%m/%d/%Y'))"
   ]
  },
  {
   "cell_type": "code",
   "execution_count": null,
   "metadata": {},
   "outputs": [],
   "source": [
    "# WaterSourceType\n",
    "\n",
    "WaterSourceTypeDict = {\n",
    "\"River\" : \"Surface Water\",\n",
    "\"Ground Water\" : \"Groundwater\",\n",
    "\"Spring\" :  \"Groundwater\",\n",
    "\"Lake\" :  \"Surface Water\",\n",
    "\"Pond\" :  \"Surface Water\", \n",
    "\"Canal\" :  \"Surface Water\",\n",
    "\"Creek\" : \"Surface Water\",\n",
    "\"Fork\" : \"Surface Water\",\n",
    "\"Waste Water\" : \"Reuse\",\n",
    "\"Drain\" : \"Drain\",\n",
    "\"Gluch\" : \"Surface Water\",\n",
    "\"Reservoir\" : \"reservoir\",\n",
    "\"Slough\" : \"Surface Water\",\n",
    "\"Ditch\" : \"Surface Water\",\n",
    "\"Channel\" : \"Surface Water\",\n",
    "\"Dry\" : \"Surface Water\"}\n",
    "\n",
    "def assignWaterSourceType(colrowValue):\n",
    "    if colrowValue == '' or pd.isnull(colrowValue):\n",
    "        outList = 'Unspecified'\n",
    "    elif colrowValue == \"GROUND WATER\":\n",
    "        outList = \"Groundwater\"\n",
    "    else:\n",
    "        String1 = colrowValue.strip()  # remove whitespace chars\n",
    "        String1 = String1.title()  # change to title format\n",
    "        list_of_words = String1.split()\n",
    "        for i in list_of_words:\n",
    "            if i in WaterSourceTypeDict.keys():\n",
    "                outList = WaterSourceTypeDict[i]\n",
    "            else:\n",
    "                outList = 'Unspecified'\n",
    "    return outList\n",
    "\n",
    "dfinPOD['in_WaterSourceTypeCV'] = dfinPOD.apply(lambda row: assignWaterSourceType(row['Source_POD']), axis=1)\n",
    "dfinPOD.head(3)"
   ]
  },
  {
   "cell_type": "code",
   "execution_count": null,
   "metadata": {},
   "outputs": [],
   "source": [
    "# Sitetype\n",
    "\n",
    "SiteTypeDict = {\n",
    "\"River\" : \"River\",\n",
    "\"Spring\" : \"Spring\",\n",
    "\"Lake\" : \"Lake\",\n",
    "\"Pond\" : \"Pond\", \n",
    "\"Canal\" : \"Canal\",\n",
    "\"Creek\" : \"Creek\",\n",
    "\"Fork\" : \"Fork\",\n",
    "\"Waste Water\" : \"Waste Water\",\n",
    "\"Drain\" : \"Drain\",\n",
    "\"Gluch\" : \"Gluch\",\n",
    "\"Reservoir\" : \"Reservoir\",\n",
    "\"Slough\" : \"Slough\",\n",
    "\"Ditch\" : \"Ditch\"\n",
    "}\n",
    "\n",
    "def assignSiteType(colrowValue):\n",
    "    if colrowValue == '' or pd.isnull(colrowValue):\n",
    "        outList = \"Unspecified\"\n",
    "    else:\n",
    "        String1 = colrowValue.strip()  # remove whitespace chars\n",
    "        String1 = String1.title()  # change to title format\n",
    "        list_of_words = String1.split()\n",
    "        for i in list_of_words:\n",
    "            if i in SiteTypeDict.keys():\n",
    "                outList = SiteTypeDict[i]\n",
    "            else:\n",
    "                outList = \"Unspecified\"\n",
    "    return outList\n",
    "\n",
    "dfinPOD['in_SiteTypeCV'] = dfinPOD.apply(lambda row: assignSiteType(row['Source_POD']), axis=1)\n",
    "dfinPOD.head(3)"
   ]
  },
  {
   "cell_type": "code",
   "execution_count": null,
   "metadata": {},
   "outputs": [],
   "source": [
    "# Updating Owner names whose text was cut. Use extened contact name input.\n",
    "\n",
    "def updateExtndedOwner(valRightID, valOwner):\n",
    "    if valOwner == '' or pd.isnull(valOwner):\n",
    "        outList = ''\n",
    "    else:\n",
    "        try:\n",
    "            outList = ExtOwnerNameDict[valRightID]\n",
    "        except:\n",
    "            outList = re.sub(\"[$@&.;,/\\)(-]\", \"\", valOwner).strip()\n",
    "    return outList\n",
    "\n",
    "dfinPOD['in_AllocationOwner'] = dfinPOD.apply(lambda row: updateExtndedOwner(row['RightID_POD'], row['Owner_POD']), axis=1)\n",
    "dfinPOD.head(3)"
   ]
  },
  {
   "cell_type": "code",
   "execution_count": null,
   "metadata": {},
   "outputs": [],
   "source": [
    "dfPOD = pd.DataFrame()\n",
    "\n",
    "# Data Assessment UUID\n",
    "dfPOD['WaDEUUID'] = dfinPOD['WaDEUUID']\n",
    "\n",
    "# Water Source\n",
    "dfPOD['in_WaterSourceName'] = dfinPOD['Source_POD']\n",
    "dfPOD['in_WaterSourceTypeCV'] = dfinPOD['in_WaterSourceTypeCV']\n",
    "\n",
    "# Site\n",
    "dfPOD['in_CoordinateAccuracy'] = \"Unspecified\"\n",
    "dfPOD['in_CoordinateMethodCV'] = dfinPOD['DataSource_POD']\n",
    "dfPOD['in_County'] = \"Unspecified\"\n",
    "dfPOD['in_Latitude'] = dfinPOD['Y_POD']\n",
    "dfPOD['in_Longitude'] = dfinPOD['X_POD']\n",
    "dfPOD['in_PODorPOUSite'] = \"POD\"\n",
    "dfPOD['in_SiteName'] = dfinPOD['DiversionName_POD']\n",
    "dfPOD['in_SiteNativeID'] = \"POD\" + dfinPOD['PointOfDiversionID_POD'].astype(str)\n",
    "dfPOD['in_SiteTypeCV'] = dfinPOD['in_SiteTypeCV']\n",
    "\n",
    "# Allocation Fact\n",
    "dfPOD['in_AllocationNativeID'] = dfinPOD['RightID_POD']\n",
    "dfPOD['in_AllocationOwner'] = dfinPOD['in_AllocationOwner']\n",
    "dfPOD['in_AllocationPriorityDate'] = dfinPOD['PriorityDate_POD']\n",
    "dfPOD['in_AllocationFlow_CFS'] = dfinPOD['OverallMaxDiversionRate_POD']\n",
    "dfPOD['in_AllocationVolume_AF'] = \"\"\n",
    "dfPOD['in_AllocationBasisCV'] = dfinPOD['Basis_POD']\n",
    "dfPOD['in_AllocationTypeCV'] = dfinPOD['Status_POD']\n",
    "dfPOD['in_BeneficialUseCategory'] = dfinPOD['WaterUse']\n",
    "dfPOD['in_WaterAllocationNativeURL'] = dfinPOD['WRDocs_POD']\n",
    "\n",
    "print(len(dfPOD))\n",
    "dfPOD.head(3)"
   ]
  },
  {
   "cell_type": "markdown",
   "metadata": {},
   "source": [
    "## POU Site Data"
   ]
  },
  {
   "cell_type": "code",
   "execution_count": null,
   "metadata": {},
   "outputs": [],
   "source": [
    "# Input File\n",
    "FI_POU = \"ID_Water_Right_PoUs_input.xlsx\"\n",
    "dfinPOU = pd.read_excel(FI_POU)\n",
    "\n",
    "# WaDE UUID tracker for data assessment\n",
    "if 'WaDEUUID' not in dfinPOU:\n",
    "    dfinPOU['WaDEUUID'] = \"idU\" + dfinPOU.index.astype(str)\n",
    "    dfinPOU.to_excel('ID_Water_Right_PoUs_input.xlsx', index=False)\n",
    "\n",
    "dfinPOU.head()"
   ]
  },
  {
   "cell_type": "code",
   "execution_count": null,
   "metadata": {},
   "outputs": [],
   "source": [
    "# Update datatype of Priority Date to fit WaDE 2.0 structure.\n",
    "\n",
    "dfinPOU['PriorityDa'] = dfinPOU['PriorityDa'].astype(str)\n",
    "dfinPOU['PriorityDa'] = pd.to_datetime(dfinPOU['PriorityDa'])\n",
    "dfinPOU['PriorityDa'] = pd.to_datetime(dfinPOU[\"PriorityDa\"].dt.strftime('%m/%d/%Y'))"
   ]
  },
  {
   "cell_type": "code",
   "execution_count": null,
   "metadata": {},
   "outputs": [],
   "source": [
    "# AllocationVolume_AF\n",
    "\n",
    "def assignAllocationVolume_AF(A, B):\n",
    "    A = float(A)\n",
    "    B = float(B)\n",
    "    if A > 0:\n",
    "        outString = A\n",
    "    else:\n",
    "        outString = B\n",
    "    return outString\n",
    "\n",
    "dfinPOU['in_AllocationVolume_AF'] = dfinPOU.apply(lambda row: assignAllocationVolume_AF(row['AcreLimit'], row['TotalAcres']), axis=1)\n",
    "dfinPOU.head(3)"
   ]
  },
  {
   "cell_type": "code",
   "execution_count": null,
   "metadata": {},
   "outputs": [],
   "source": [
    "# WaterSourceType\n",
    "\n",
    "WaterSourceTypeDict = {\n",
    "\"River\" : \"Surface Water\",\n",
    "\"Ground Water\" : \"Groundwater\",\n",
    "\"Spring\" :  \"Groundwater\",\n",
    "\"Lake\" :  \"Surface Water\",\n",
    "\"Pond\" :  \"Surface Water\", \n",
    "\"Canal\" :  \"Surface Water\",\n",
    "\"Creek\" : \"Surface Water\",\n",
    "\"Fork\" : \"Surface Water\",\n",
    "\"Waste Water\" : \"Reuse\",\n",
    "\"Drain\" : \"Drain\",\n",
    "\"Gluch\" : \"Surface Water\",\n",
    "\"Reservoir\" : \"Reservoir\",\n",
    "\"Slough\" : \"Surface Water\",\n",
    "\"Ditch\" : \"Surface Water\",\n",
    "\"Channel\" : \"Surface Water\",\n",
    "\"Dry\" : \"Surface Water\"}\n",
    "\n",
    "def assignWaterSourceType(colrowValue):\n",
    "    if colrowValue == '' or pd.isnull(colrowValue):\n",
    "        outList = 'Unspecified'\n",
    "    elif colrowValue == \"GROUND WATER\":\n",
    "        outList = \"Groundwater\"\n",
    "    else:\n",
    "        String1 = colrowValue.strip()  # remove whitespace chars\n",
    "        String1 = String1.title()  # change to title format\n",
    "        list_of_words = String1.split()\n",
    "        for i in list_of_words:\n",
    "            if i in WaterSourceTypeDict.keys():\n",
    "                outList = WaterSourceTypeDict[i]\n",
    "            else:\n",
    "                outList = 'Unspecified'\n",
    "    return outList\n",
    "\n",
    "dfinPOU['in_WaterSourceTypeCV'] = dfinPOU.apply(lambda row: assignWaterSourceType(row['Source']), axis=1)\n",
    "dfinPOU.head(3)"
   ]
  },
  {
   "cell_type": "code",
   "execution_count": null,
   "metadata": {},
   "outputs": [],
   "source": [
    "# Updating Owner names whose text was cut. Use extened contact name input.\n",
    "\n",
    "def updateExtndedOwner(valRightID, valOwner):\n",
    "    if valOwner == '' or pd.isnull(valOwner):\n",
    "        outList = ''\n",
    "    else:\n",
    "#         valRightID = valRightID.strip()  # remove whitespace chars\n",
    "        try:\n",
    "            outList = ExtOwnerNameDict[valRightID]\n",
    "        except:\n",
    "            outList = re.sub(\"[$@&.;,/\\)(-]\", \"\", valOwner).strip()\n",
    "    return outList\n",
    "\n",
    "dfinPOU['in_AllocationOwner'] = dfinPOU.apply(lambda row: updateExtndedOwner(row['RightID'], row['Owner']), axis=1)\n",
    "dfinPOU.head(3)"
   ]
  },
  {
   "cell_type": "code",
   "execution_count": null,
   "metadata": {},
   "outputs": [],
   "source": [
    "dfPOU = pd.DataFrame()\n",
    "\n",
    "# Data Assessment UUID\n",
    "dfPOU['WaDEUUID'] = dfinPOU['WaDEUUID']\n",
    "\n",
    "# Water Source\n",
    "dfPOU['in_WaterSourceName'] = dfinPOU['Source']\n",
    "dfPOU['in_WaterSourceTypeCV'] = dfinPOU['in_WaterSourceTypeCV']\n",
    "\n",
    "# Site\n",
    "dfPOU['in_CoordinateAccuracy'] = \"Unspecified\"\n",
    "dfPOU['in_CoordinateMethodCV'] = \"Centroid\"\n",
    "dfPOU['in_County'] = \"Unspecified\"\n",
    "dfPOU['in_Latitude'] = dfinPOU['Latitude']\n",
    "dfPOU['in_Longitude'] = dfinPOU['Longitude']\n",
    "dfPOU['in_PODorPOUSite'] = \"POU\"\n",
    "dfPOU['in_SiteName'] = \"Unspecified\"\n",
    "dfPOU['in_SiteTypeCV'] = \"Unspecified\"\n",
    "dfPOU['in_SiteNativeID'] = \"POU\" + dfinPOU['PlaceOfUse'].astype(str)\n",
    "\n",
    "# Allocation Fact\n",
    "dfPOU['in_AllocationNativeID'] = dfinPOU['RightID']\n",
    "dfPOU['in_AllocationOwner'] = dfinPOU['in_AllocationOwner']\n",
    "dfPOU['in_AllocationPriorityDate'] = dfinPOU['PriorityDa']\n",
    "dfPOU['in_AllocationFlow_CFS'] = \"\"\n",
    "dfPOU['in_AllocationVolume_AF'] = dfinPOU['in_AllocationVolume_AF']\n",
    "dfPOU['in_AllocationBasisCV'] = \"\"\n",
    "dfPOU['in_AllocationTypeCV'] = \"\"\n",
    "dfPOU['in_BeneficialUseCategory'] = dfinPOU['WaterUse']\n",
    "dfPOU['in_WaterAllocationNativeURL'] = dfinPOU['WRDocs']\n",
    "\n",
    "print(len(dfPOU))\n",
    "dfPOU.head(3)"
   ]
  },
  {
   "cell_type": "markdown",
   "metadata": {},
   "source": [
    "## Concatenate and Export"
   ]
  },
  {
   "cell_type": "code",
   "execution_count": null,
   "metadata": {},
   "outputs": [],
   "source": [
    "# Concatenate dataframes\n",
    "frames = [dfPOD, dfPOU]\n",
    "outdf = pd.concat(frames)\n",
    "outdf = outdf.drop_duplicates()\n",
    "print(len(outdf))"
   ]
  },
  {
   "cell_type": "code",
   "execution_count": null,
   "metadata": {},
   "outputs": [],
   "source": [
    "# Creating WaDE Custom water source native ID for easy water source identification\n",
    "# ----------------------------------------------------------------------------------------------------\n",
    "\n",
    "# Create temp WaterSourceNativeID dataframe of unique water source.\n",
    "def assignWaterSourceNativeID(colrowValue):\n",
    "    string1 = str(colrowValue)\n",
    "    outstring = \"WaDEID_WS\" + string1\n",
    "    return outstring\n",
    "\n",
    "dfWaterSourceNativeID = pd.DataFrame()\n",
    "dfWaterSourceNativeID['in_WaterSourceName'] = outdf['in_WaterSourceName']\n",
    "dfWaterSourceNativeID['in_WaterSourceTypeCV'] = outdf['in_WaterSourceTypeCV']\n",
    "dfWaterSourceNativeID = dfWaterSourceNativeID.drop_duplicates()\n",
    "\n",
    "dftemp = pd.DataFrame(index=dfWaterSourceNativeID.index)\n",
    "dftemp[\"Count\"] = range(1, len(dftemp.index) + 1)\n",
    "dfWaterSourceNativeID['in_WaterSourceNativeID'] = dftemp.apply(lambda row: assignWaterSourceNativeID(row['Count']), axis=1)\n",
    "\n",
    "# ----------------------------------------------------------------------------------------------------\n",
    "\n",
    "# Retreive WaDE Custom water source native ID\n",
    "def retrieveWaterSourceNativeID(A, B):\n",
    "    if (A == '' and B == '') or (pd.isnull(A) and pd.isnull(B)):\n",
    "        outList = ''\n",
    "    else:\n",
    "        ml = dfWaterSourceNativeID.loc[(dfWaterSourceNativeID['in_WaterSourceName'] == A) & \n",
    "                                       (dfWaterSourceNativeID['in_WaterSourceTypeCV'] == B), 'in_WaterSourceNativeID']\n",
    "        if not (ml.empty):  # check if the series is empty\n",
    "            outList = ml.iloc[0]\n",
    "        else:\n",
    "            outList = ''\n",
    "    return outList\n",
    "\n",
    "outdf['in_WaterSourceNativeID'] = outdf.apply(lambda row: retrieveWaterSourceNativeID( row['in_WaterSourceName'], row['in_WaterSourceTypeCV']), axis=1)\n",
    "outdf"
   ]
  },
  {
   "cell_type": "markdown",
   "metadata": {},
   "source": [
    "## Shapefile Data\n",
    "- For attaching gemetry to csv inputs."
   ]
  },
  {
   "cell_type": "code",
   "execution_count": null,
   "metadata": {},
   "outputs": [],
   "source": [
    "# Shapefile input - POU2\n",
    "dfPoUshapetemp = gpd.read_file('shapefile/ID_PoU2.shp')\n",
    "print(len(dfPoUshapetemp))\n",
    "dfPoUshapetemp.head(1)"
   ]
  },
  {
   "cell_type": "code",
   "execution_count": null,
   "metadata": {},
   "outputs": [],
   "source": [
    "columnsList = ['in_SiteNativeID', 'geometry']\n",
    "dfPoUshape = pd.DataFrame(columns=columnsList)\n",
    "dfPoUshape['in_SiteNativeID'] = \"POU\" + dfPoUshapetemp['PlaceOfUse'].astype(str)\n",
    "dfPoUshape['geometry'] = dfPoUshapetemp['geometry']\n",
    "dfPoUshape = dfPoUshape.drop_duplicates(subset=None, keep='first', inplace=False, ignore_index=False)\n",
    "dfPoUshape.head(3)"
   ]
  },
  {
   "cell_type": "markdown",
   "metadata": {},
   "source": [
    "## Review and Export"
   ]
  },
  {
   "cell_type": "code",
   "execution_count": null,
   "metadata": {
    "scrolled": false
   },
   "outputs": [],
   "source": [
    "outdf.dtypes"
   ]
  },
  {
   "cell_type": "code",
   "execution_count": null,
   "metadata": {},
   "outputs": [],
   "source": [
    "#Exporting to Finished File\n",
    "outdf.to_csv('P_IdahoMaster.csv', index=False)  # The output\n",
    "#dfPoUshape.to_csv('P_idGeometry.csv', index=False) # The output geometry."
   ]
  },
  {
   "cell_type": "code",
   "execution_count": null,
   "metadata": {},
   "outputs": [],
   "source": []
  }
 ],
 "metadata": {
  "kernelspec": {
   "display_name": "Python 3 (ipykernel)",
   "language": "python",
   "name": "python3"
  },
  "language_info": {
   "codemirror_mode": {
    "name": "ipython",
    "version": 3
   },
   "file_extension": ".py",
   "mimetype": "text/x-python",
   "name": "python",
   "nbconvert_exporter": "python",
   "pygments_lexer": "ipython3",
   "version": "3.8.13"
  }
 },
 "nbformat": 4,
 "nbformat_minor": 2
}
