{
 "cells": [
  {
   "cell_type": "markdown",
   "metadata": {},
   "source": [
    "# Preprocessing Idaho Regulatory data for WaDE upload.\n",
    "- Purpose:  To preprocess the Idaho data into one master file for simple DataFrame creation and extraction."
   ]
  },
  {
   "cell_type": "code",
   "execution_count": 1,
   "metadata": {},
   "outputs": [],
   "source": [
    "#Needed Libararies\n",
    "\n",
    "# working with data\n",
    "import os\n",
    "import numpy as np\n",
    "import pandas as pd\n",
    "import geopandas as gpd # the library that lets us read in shapefiles\n",
    "\n",
    "# visulizaiton\n",
    "import matplotlib.pyplot as plt\n",
    "import seaborn as sns\n",
    "\n",
    "# API retrieval\n",
    "import requests\n",
    "import json\n",
    "\n",
    "# Cleanup\n",
    "import re\n",
    "from datetime import date\n",
    "pd.set_option('display.max_columns', 999)  # How to display all columns of a Pandas DataFrame in Jupyter Notebook\n",
    "pd.set_option('display.float_format', lambda x: '%.5f' % x) # suppress scientific notation in Pandas"
   ]
  },
  {
   "cell_type": "code",
   "execution_count": 2,
   "metadata": {},
   "outputs": [],
   "source": [
    "# Working Directory\n",
    "workingDir = \"G:/Shared drives/WaDE Data/Idaho/Regulatory/RawInputData\"\n",
    "os.chdir(workingDir)"
   ]
  },
  {
   "cell_type": "markdown",
   "metadata": {},
   "source": [
    "## Inputs"
   ]
  },
  {
   "cell_type": "code",
   "execution_count": 3,
   "metadata": {},
   "outputs": [
    {
     "name": "stdout",
     "output_type": "stream",
     "text": [
      "1\n"
     ]
    },
    {
     "data": {
      "text/html": [
       "<div>\n",
       "<style scoped>\n",
       "    .dataframe tbody tr th:only-of-type {\n",
       "        vertical-align: middle;\n",
       "    }\n",
       "\n",
       "    .dataframe tbody tr th {\n",
       "        vertical-align: top;\n",
       "    }\n",
       "\n",
       "    .dataframe thead th {\n",
       "        text-align: right;\n",
       "    }\n",
       "</style>\n",
       "<table border=\"1\" class=\"dataframe\">\n",
       "  <thead>\n",
       "    <tr style=\"text-align: right;\">\n",
       "      <th></th>\n",
       "      <th>WaDEUUID</th>\n",
       "      <th>in_ReportingUnitName</th>\n",
       "      <th>in_ReportingUnitNativeID</th>\n",
       "      <th>in_RegulatoryName</th>\n",
       "      <th>in_RegulatoryOverlayNativeID</th>\n",
       "      <th>in_RegulatoryStatuteLink</th>\n",
       "      <th>in_StatutoryEffectiveDate</th>\n",
       "      <th>geometry</th>\n",
       "    </tr>\n",
       "  </thead>\n",
       "  <tbody>\n",
       "    <tr>\n",
       "      <th>0</th>\n",
       "      <td>wade1</td>\n",
       "      <td>Eastern Snake</td>\n",
       "      <td>wade1</td>\n",
       "      <td>Eastern Snake CAMP</td>\n",
       "      <td>wade1</td>\n",
       "      <td>https://idwr.idaho.gov/iwrb/water-planning/cam...</td>\n",
       "      <td>01/01/2009</td>\n",
       "      <td>POLYGON ((-111.67757 44.22304, -111.67054 44.2...</td>\n",
       "    </tr>\n",
       "  </tbody>\n",
       "</table>\n",
       "</div>"
      ],
      "text/plain": [
       "  WaDEUUID in_ReportingUnitName in_ReportingUnitNativeID   in_RegulatoryName  \\\n",
       "0    wade1        Eastern Snake                    wade1  Eastern Snake CAMP   \n",
       "\n",
       "  in_RegulatoryOverlayNativeID  \\\n",
       "0                        wade1   \n",
       "\n",
       "                            in_RegulatoryStatuteLink  \\\n",
       "0  https://idwr.idaho.gov/iwrb/water-planning/cam...   \n",
       "\n",
       "  in_StatutoryEffectiveDate                                           geometry  \n",
       "0                01/01/2009  POLYGON ((-111.67757 44.22304, -111.67054 44.2...  "
      ]
     },
     "execution_count": 3,
     "metadata": {},
     "output_type": "execute_result"
    }
   ],
   "source": [
    "# Eastern Snake CAMP\n",
    "inputFile = \"Eastern_Snake_Comprehensive_Aquifer_Management_Plan.zip\"\n",
    "gdf_es = gpd.read_file(inputFile)\n",
    "\n",
    "# Data Assessment UUID\n",
    "gdf_es['WaDEUUID'] = \"wade1\"\n",
    "\n",
    "# ReportingUnits\n",
    "gdf_es['in_ReportingUnitName'] = \"Eastern Snake\"\n",
    "gdf_es['in_ReportingUnitNativeID'] = \"wade1\"\n",
    "\n",
    "# RegulatoryOverlay\n",
    "gdf_es['in_RegulatoryName'] = \"Eastern Snake CAMP\"\n",
    "gdf_es['in_RegulatoryOverlayNativeID'] = \"wade1\"\n",
    "gdf_es['in_RegulatoryStatuteLink'] = \"https://idwr.idaho.gov/iwrb/water-planning/camps/espa/\"\n",
    "gdf_es['in_StatutoryEffectiveDate'] = \"01/01/2009\"\n",
    "gdf_es = gdf_es[['WaDEUUID', 'in_ReportingUnitName', 'in_ReportingUnitNativeID', 'in_RegulatoryName', 'in_RegulatoryOverlayNativeID', 'in_RegulatoryStatuteLink', 'in_StatutoryEffectiveDate', 'geometry']]\n",
    "\n",
    "print(len(gdf_es))\n",
    "gdf_es.head(1)"
   ]
  },
  {
   "cell_type": "code",
   "execution_count": 4,
   "metadata": {},
   "outputs": [
    {
     "name": "stdout",
     "output_type": "stream",
     "text": [
      "1\n"
     ]
    },
    {
     "data": {
      "text/html": [
       "<div>\n",
       "<style scoped>\n",
       "    .dataframe tbody tr th:only-of-type {\n",
       "        vertical-align: middle;\n",
       "    }\n",
       "\n",
       "    .dataframe tbody tr th {\n",
       "        vertical-align: top;\n",
       "    }\n",
       "\n",
       "    .dataframe thead th {\n",
       "        text-align: right;\n",
       "    }\n",
       "</style>\n",
       "<table border=\"1\" class=\"dataframe\">\n",
       "  <thead>\n",
       "    <tr style=\"text-align: right;\">\n",
       "      <th></th>\n",
       "      <th>WaDEUUID</th>\n",
       "      <th>in_ReportingUnitName</th>\n",
       "      <th>in_ReportingUnitNativeID</th>\n",
       "      <th>in_RegulatoryName</th>\n",
       "      <th>in_RegulatoryOverlayNativeID</th>\n",
       "      <th>in_RegulatoryStatuteLink</th>\n",
       "      <th>in_StatutoryEffectiveDate</th>\n",
       "      <th>geometry</th>\n",
       "    </tr>\n",
       "  </thead>\n",
       "  <tbody>\n",
       "    <tr>\n",
       "      <th>0</th>\n",
       "      <td>wade2</td>\n",
       "      <td>Rathdrum Prairie</td>\n",
       "      <td>wade2</td>\n",
       "      <td>Rathdrum Prairie CAMP</td>\n",
       "      <td>wade2</td>\n",
       "      <td>https://idwr.idaho.gov/IWRB/water-planning/CAM...</td>\n",
       "      <td>01/01/2009</td>\n",
       "      <td>POLYGON ((-116.78942 48.04840, -116.79298 48.0...</td>\n",
       "    </tr>\n",
       "  </tbody>\n",
       "</table>\n",
       "</div>"
      ],
      "text/plain": [
       "  WaDEUUID in_ReportingUnitName in_ReportingUnitNativeID  \\\n",
       "0    wade2     Rathdrum Prairie                    wade2   \n",
       "\n",
       "       in_RegulatoryName in_RegulatoryOverlayNativeID  \\\n",
       "0  Rathdrum Prairie CAMP                        wade2   \n",
       "\n",
       "                            in_RegulatoryStatuteLink  \\\n",
       "0  https://idwr.idaho.gov/IWRB/water-planning/CAM...   \n",
       "\n",
       "  in_StatutoryEffectiveDate                                           geometry  \n",
       "0                01/01/2009  POLYGON ((-116.78942 48.04840, -116.79298 48.0...  "
      ]
     },
     "execution_count": 4,
     "metadata": {},
     "output_type": "execute_result"
    }
   ],
   "source": [
    "# Rathdrum CAMP\n",
    "inputFile = \"Rathdrum_Comprehensive_Aquifer_Management_Plan.zip\"\n",
    "gdf_r = gpd.read_file(inputFile)\n",
    "\n",
    "# Data Assessment UUID\n",
    "gdf_r['WaDEUUID'] = \"wade2\"\n",
    "\n",
    "# ReportingUnits\n",
    "gdf_r['in_ReportingUnitName'] = \"Rathdrum Prairie\"\n",
    "gdf_r['in_ReportingUnitNativeID'] = \"wade2\"\n",
    "\n",
    "# RegulatoryOverlay\n",
    "gdf_r['in_RegulatoryName'] = \"Rathdrum Prairie CAMP\"\n",
    "gdf_r['in_RegulatoryOverlayNativeID'] = \"wade2\"\n",
    "gdf_r['in_RegulatoryStatuteLink'] = \"https://idwr.idaho.gov/IWRB/water-planning/CAMPs/rathdrum-prairie/\"\n",
    "gdf_r['in_StatutoryEffectiveDate'] = \"01/01/2009\"\n",
    "gdf_r = gdf_r[['WaDEUUID', 'in_ReportingUnitName', 'in_ReportingUnitNativeID', 'in_RegulatoryName', 'in_RegulatoryOverlayNativeID', 'in_RegulatoryStatuteLink', 'in_StatutoryEffectiveDate', 'geometry']]\n",
    "\n",
    "print(len(gdf_r))\n",
    "gdf_r.head()"
   ]
  },
  {
   "cell_type": "code",
   "execution_count": 5,
   "metadata": {},
   "outputs": [
    {
     "name": "stdout",
     "output_type": "stream",
     "text": [
      "1\n"
     ]
    },
    {
     "data": {
      "text/html": [
       "<div>\n",
       "<style scoped>\n",
       "    .dataframe tbody tr th:only-of-type {\n",
       "        vertical-align: middle;\n",
       "    }\n",
       "\n",
       "    .dataframe tbody tr th {\n",
       "        vertical-align: top;\n",
       "    }\n",
       "\n",
       "    .dataframe thead th {\n",
       "        text-align: right;\n",
       "    }\n",
       "</style>\n",
       "<table border=\"1\" class=\"dataframe\">\n",
       "  <thead>\n",
       "    <tr style=\"text-align: right;\">\n",
       "      <th></th>\n",
       "      <th>WaDEUUID</th>\n",
       "      <th>in_ReportingUnitName</th>\n",
       "      <th>in_ReportingUnitNativeID</th>\n",
       "      <th>in_RegulatoryName</th>\n",
       "      <th>in_RegulatoryOverlayNativeID</th>\n",
       "      <th>in_RegulatoryStatuteLink</th>\n",
       "      <th>in_StatutoryEffectiveDate</th>\n",
       "      <th>geometry</th>\n",
       "    </tr>\n",
       "  </thead>\n",
       "  <tbody>\n",
       "    <tr>\n",
       "      <th>0</th>\n",
       "      <td>wade3</td>\n",
       "      <td>Treasure Valley</td>\n",
       "      <td>wade3</td>\n",
       "      <td>Treasure Valley CAMP</td>\n",
       "      <td>wade3</td>\n",
       "      <td>https://idwr.idaho.gov/iwrb/water-planning/cam...</td>\n",
       "      <td>01/01/2009</td>\n",
       "      <td>POLYGON ((-116.61388 43.82598, -116.61388 43.8...</td>\n",
       "    </tr>\n",
       "  </tbody>\n",
       "</table>\n",
       "</div>"
      ],
      "text/plain": [
       "  WaDEUUID in_ReportingUnitName in_ReportingUnitNativeID  \\\n",
       "0    wade3      Treasure Valley                    wade3   \n",
       "\n",
       "      in_RegulatoryName in_RegulatoryOverlayNativeID  \\\n",
       "0  Treasure Valley CAMP                        wade3   \n",
       "\n",
       "                            in_RegulatoryStatuteLink  \\\n",
       "0  https://idwr.idaho.gov/iwrb/water-planning/cam...   \n",
       "\n",
       "  in_StatutoryEffectiveDate                                           geometry  \n",
       "0                01/01/2009  POLYGON ((-116.61388 43.82598, -116.61388 43.8...  "
      ]
     },
     "execution_count": 5,
     "metadata": {},
     "output_type": "execute_result"
    }
   ],
   "source": [
    "# Treasure Valley CAMP\n",
    "inputFile = \"Treasure_Valley_Comprehensive_Aquifer_Management_Plan.zip\"\n",
    "gdf_tv = gpd.read_file(inputFile)\n",
    "\n",
    "# Data Assessment UUID\n",
    "gdf_tv['WaDEUUID'] = \"wade3\"\n",
    "\n",
    "# ReportingUnits\n",
    "gdf_tv['in_ReportingUnitName'] = \"Treasure Valley\"\n",
    "gdf_tv['in_ReportingUnitNativeID'] = \"wade3\"\n",
    "\n",
    "# RegulatoryOverlay\n",
    "gdf_tv['in_RegulatoryName'] = \"Treasure Valley CAMP\"\n",
    "gdf_tv['in_RegulatoryOverlayNativeID'] = \"wade3\"\n",
    "gdf_tv['in_RegulatoryStatuteLink'] = \"https://idwr.idaho.gov/iwrb/water-planning/camps/treasure-valley/\"\n",
    "gdf_tv['in_StatutoryEffectiveDate'] = \"01/01/2009\"\n",
    "gdf_tv = gdf_tv[['WaDEUUID', 'in_ReportingUnitName', 'in_ReportingUnitNativeID', 'in_RegulatoryName', 'in_RegulatoryOverlayNativeID', 'in_RegulatoryStatuteLink', 'in_StatutoryEffectiveDate', 'geometry']]\n",
    "\n",
    "\n",
    "print(len(gdf_tv))\n",
    "gdf_tv.head(1)"
   ]
  },
  {
   "cell_type": "code",
   "execution_count": 6,
   "metadata": {},
   "outputs": [
    {
     "name": "stdout",
     "output_type": "stream",
     "text": [
      "3\n"
     ]
    },
    {
     "data": {
      "text/html": [
       "<div>\n",
       "<style scoped>\n",
       "    .dataframe tbody tr th:only-of-type {\n",
       "        vertical-align: middle;\n",
       "    }\n",
       "\n",
       "    .dataframe tbody tr th {\n",
       "        vertical-align: top;\n",
       "    }\n",
       "\n",
       "    .dataframe thead th {\n",
       "        text-align: right;\n",
       "    }\n",
       "</style>\n",
       "<table border=\"1\" class=\"dataframe\">\n",
       "  <thead>\n",
       "    <tr style=\"text-align: right;\">\n",
       "      <th></th>\n",
       "      <th>WaDEUUID</th>\n",
       "      <th>in_ReportingUnitName</th>\n",
       "      <th>in_ReportingUnitNativeID</th>\n",
       "      <th>in_RegulatoryName</th>\n",
       "      <th>in_RegulatoryOverlayNativeID</th>\n",
       "      <th>in_RegulatoryStatuteLink</th>\n",
       "      <th>in_StatutoryEffectiveDate</th>\n",
       "      <th>geometry</th>\n",
       "    </tr>\n",
       "  </thead>\n",
       "  <tbody>\n",
       "    <tr>\n",
       "      <th>0</th>\n",
       "      <td>wade1</td>\n",
       "      <td>Eastern Snake</td>\n",
       "      <td>wade1</td>\n",
       "      <td>Eastern Snake CAMP</td>\n",
       "      <td>wade1</td>\n",
       "      <td>https://idwr.idaho.gov/iwrb/water-planning/cam...</td>\n",
       "      <td>01/01/2009</td>\n",
       "      <td>POLYGON ((-111.67757 44.22304, -111.67054 44.2...</td>\n",
       "    </tr>\n",
       "    <tr>\n",
       "      <th>0</th>\n",
       "      <td>wade2</td>\n",
       "      <td>Rathdrum Prairie</td>\n",
       "      <td>wade2</td>\n",
       "      <td>Rathdrum Prairie CAMP</td>\n",
       "      <td>wade2</td>\n",
       "      <td>https://idwr.idaho.gov/IWRB/water-planning/CAM...</td>\n",
       "      <td>01/01/2009</td>\n",
       "      <td>POLYGON ((-116.78942 48.04840, -116.79298 48.0...</td>\n",
       "    </tr>\n",
       "    <tr>\n",
       "      <th>0</th>\n",
       "      <td>wade3</td>\n",
       "      <td>Treasure Valley</td>\n",
       "      <td>wade3</td>\n",
       "      <td>Treasure Valley CAMP</td>\n",
       "      <td>wade3</td>\n",
       "      <td>https://idwr.idaho.gov/iwrb/water-planning/cam...</td>\n",
       "      <td>01/01/2009</td>\n",
       "      <td>POLYGON ((-116.61388 43.82598, -116.61388 43.8...</td>\n",
       "    </tr>\n",
       "  </tbody>\n",
       "</table>\n",
       "</div>"
      ],
      "text/plain": [
       "  WaDEUUID in_ReportingUnitName in_ReportingUnitNativeID  \\\n",
       "0    wade1        Eastern Snake                    wade1   \n",
       "0    wade2     Rathdrum Prairie                    wade2   \n",
       "0    wade3      Treasure Valley                    wade3   \n",
       "\n",
       "       in_RegulatoryName in_RegulatoryOverlayNativeID  \\\n",
       "0     Eastern Snake CAMP                        wade1   \n",
       "0  Rathdrum Prairie CAMP                        wade2   \n",
       "0   Treasure Valley CAMP                        wade3   \n",
       "\n",
       "                            in_RegulatoryStatuteLink  \\\n",
       "0  https://idwr.idaho.gov/iwrb/water-planning/cam...   \n",
       "0  https://idwr.idaho.gov/IWRB/water-planning/CAM...   \n",
       "0  https://idwr.idaho.gov/iwrb/water-planning/cam...   \n",
       "\n",
       "  in_StatutoryEffectiveDate                                           geometry  \n",
       "0                01/01/2009  POLYGON ((-111.67757 44.22304, -111.67054 44.2...  \n",
       "0                01/01/2009  POLYGON ((-116.78942 48.04840, -116.79298 48.0...  \n",
       "0                01/01/2009  POLYGON ((-116.61388 43.82598, -116.61388 43.8...  "
      ]
     },
     "execution_count": 6,
     "metadata": {},
     "output_type": "execute_result"
    }
   ],
   "source": [
    "# Concatenate inputs DataFrames together\n",
    "frames = [gdf_es, gdf_r, gdf_tv]\n",
    "gdfIn = pd.concat(frames)\n",
    "print(len(gdfIn))\n",
    "gdfIn.head()"
   ]
  },
  {
   "cell_type": "markdown",
   "metadata": {},
   "source": [
    "## Create Output"
   ]
  },
  {
   "cell_type": "code",
   "execution_count": 7,
   "metadata": {},
   "outputs": [
    {
     "name": "stdout",
     "output_type": "stream",
     "text": [
      "3\n"
     ]
    },
    {
     "data": {
      "text/html": [
       "<div>\n",
       "<style scoped>\n",
       "    .dataframe tbody tr th:only-of-type {\n",
       "        vertical-align: middle;\n",
       "    }\n",
       "\n",
       "    .dataframe tbody tr th {\n",
       "        vertical-align: top;\n",
       "    }\n",
       "\n",
       "    .dataframe thead th {\n",
       "        text-align: right;\n",
       "    }\n",
       "</style>\n",
       "<table border=\"1\" class=\"dataframe\">\n",
       "  <thead>\n",
       "    <tr style=\"text-align: right;\">\n",
       "      <th></th>\n",
       "      <th>WaDEUUID</th>\n",
       "      <th>in_Date</th>\n",
       "      <th>in_Year</th>\n",
       "      <th>in_OrganizationUUID</th>\n",
       "      <th>in_EPSGCodeCV</th>\n",
       "      <th>in_ReportingUnitName</th>\n",
       "      <th>in_ReportingUnitNativeID</th>\n",
       "      <th>in_ReportingUnitProductVersion</th>\n",
       "      <th>in_ReportingUnitTypeCV</th>\n",
       "      <th>in_ReportingUnitUpdateDate</th>\n",
       "      <th>in_StateCV</th>\n",
       "      <th>in_Geometry</th>\n",
       "      <th>in_OversightAgency</th>\n",
       "      <th>in_RegulatoryDescription</th>\n",
       "      <th>in_RegulatoryName</th>\n",
       "      <th>in_RegulatoryOverlayNativeID</th>\n",
       "      <th>in_RegulatoryStatusCV</th>\n",
       "      <th>in_RegulatoryStatute</th>\n",
       "      <th>in_RegulatoryStatuteLink</th>\n",
       "      <th>in_StatutoryEffectiveDate</th>\n",
       "      <th>in_StatutoryEndDate</th>\n",
       "      <th>in_RegulatoryOverlayTypeCV</th>\n",
       "      <th>in_WaterSourceTypeCV</th>\n",
       "    </tr>\n",
       "  </thead>\n",
       "  <tbody>\n",
       "    <tr>\n",
       "      <th>0</th>\n",
       "      <td>wade1</td>\n",
       "      <td>05/17</td>\n",
       "      <td>2023</td>\n",
       "      <td>IDre_O1</td>\n",
       "      <td>4326</td>\n",
       "      <td>Eastern Snake</td>\n",
       "      <td>wade1</td>\n",
       "      <td></td>\n",
       "      <td>Comprehensive Aquifer Management Plan</td>\n",
       "      <td></td>\n",
       "      <td>ID</td>\n",
       "      <td>POLYGON ((-111.67757 44.22304, -111.67054 44.2...</td>\n",
       "      <td>Idaho Department of Water Resources</td>\n",
       "      <td>The 2008 Legislature approved House Bill 428 a...</td>\n",
       "      <td>Eastern Snake CAMP</td>\n",
       "      <td>wade1</td>\n",
       "      <td>Active</td>\n",
       "      <td></td>\n",
       "      <td>https://idwr.idaho.gov/iwrb/water-planning/cam...</td>\n",
       "      <td>01/01/2009</td>\n",
       "      <td></td>\n",
       "      <td>Comprehensive Aquifer Management Plan</td>\n",
       "      <td>Groundwater</td>\n",
       "    </tr>\n",
       "    <tr>\n",
       "      <th>1</th>\n",
       "      <td>wade2</td>\n",
       "      <td>05/17</td>\n",
       "      <td>2023</td>\n",
       "      <td>IDre_O1</td>\n",
       "      <td>4326</td>\n",
       "      <td>Rathdrum Prairie</td>\n",
       "      <td>wade2</td>\n",
       "      <td></td>\n",
       "      <td>Comprehensive Aquifer Management Plan</td>\n",
       "      <td></td>\n",
       "      <td>ID</td>\n",
       "      <td>POLYGON ((-116.78942 48.04840, -116.79298 48.0...</td>\n",
       "      <td>Idaho Department of Water Resources</td>\n",
       "      <td>The 2008 Legislature approved House Bill 428 a...</td>\n",
       "      <td>Rathdrum Prairie CAMP</td>\n",
       "      <td>wade2</td>\n",
       "      <td>Active</td>\n",
       "      <td></td>\n",
       "      <td>https://idwr.idaho.gov/IWRB/water-planning/CAM...</td>\n",
       "      <td>01/01/2009</td>\n",
       "      <td></td>\n",
       "      <td>Comprehensive Aquifer Management Plan</td>\n",
       "      <td>Groundwater</td>\n",
       "    </tr>\n",
       "    <tr>\n",
       "      <th>2</th>\n",
       "      <td>wade3</td>\n",
       "      <td>05/17</td>\n",
       "      <td>2023</td>\n",
       "      <td>IDre_O1</td>\n",
       "      <td>4326</td>\n",
       "      <td>Treasure Valley</td>\n",
       "      <td>wade3</td>\n",
       "      <td></td>\n",
       "      <td>Comprehensive Aquifer Management Plan</td>\n",
       "      <td></td>\n",
       "      <td>ID</td>\n",
       "      <td>POLYGON ((-116.61388 43.82598, -116.61388 43.8...</td>\n",
       "      <td>Idaho Department of Water Resources</td>\n",
       "      <td>The 2008 Legislature approved House Bill 428 a...</td>\n",
       "      <td>Treasure Valley CAMP</td>\n",
       "      <td>wade3</td>\n",
       "      <td>Active</td>\n",
       "      <td></td>\n",
       "      <td>https://idwr.idaho.gov/iwrb/water-planning/cam...</td>\n",
       "      <td>01/01/2009</td>\n",
       "      <td></td>\n",
       "      <td>Comprehensive Aquifer Management Plan</td>\n",
       "      <td>Groundwater</td>\n",
       "    </tr>\n",
       "  </tbody>\n",
       "</table>\n",
       "</div>"
      ],
      "text/plain": [
       "  WaDEUUID in_Date in_Year in_OrganizationUUID in_EPSGCodeCV  \\\n",
       "0    wade1   05/17    2023             IDre_O1          4326   \n",
       "1    wade2   05/17    2023             IDre_O1          4326   \n",
       "2    wade3   05/17    2023             IDre_O1          4326   \n",
       "\n",
       "  in_ReportingUnitName in_ReportingUnitNativeID  \\\n",
       "0        Eastern Snake                    wade1   \n",
       "1     Rathdrum Prairie                    wade2   \n",
       "2      Treasure Valley                    wade3   \n",
       "\n",
       "  in_ReportingUnitProductVersion                 in_ReportingUnitTypeCV  \\\n",
       "0                                 Comprehensive Aquifer Management Plan   \n",
       "1                                 Comprehensive Aquifer Management Plan   \n",
       "2                                 Comprehensive Aquifer Management Plan   \n",
       "\n",
       "  in_ReportingUnitUpdateDate in_StateCV  \\\n",
       "0                                    ID   \n",
       "1                                    ID   \n",
       "2                                    ID   \n",
       "\n",
       "                                         in_Geometry  \\\n",
       "0  POLYGON ((-111.67757 44.22304, -111.67054 44.2...   \n",
       "1  POLYGON ((-116.78942 48.04840, -116.79298 48.0...   \n",
       "2  POLYGON ((-116.61388 43.82598, -116.61388 43.8...   \n",
       "\n",
       "                    in_OversightAgency  \\\n",
       "0  Idaho Department of Water Resources   \n",
       "1  Idaho Department of Water Resources   \n",
       "2  Idaho Department of Water Resources   \n",
       "\n",
       "                            in_RegulatoryDescription      in_RegulatoryName  \\\n",
       "0  The 2008 Legislature approved House Bill 428 a...     Eastern Snake CAMP   \n",
       "1  The 2008 Legislature approved House Bill 428 a...  Rathdrum Prairie CAMP   \n",
       "2  The 2008 Legislature approved House Bill 428 a...   Treasure Valley CAMP   \n",
       "\n",
       "  in_RegulatoryOverlayNativeID in_RegulatoryStatusCV in_RegulatoryStatute  \\\n",
       "0                        wade1                Active                        \n",
       "1                        wade2                Active                        \n",
       "2                        wade3                Active                        \n",
       "\n",
       "                            in_RegulatoryStatuteLink  \\\n",
       "0  https://idwr.idaho.gov/iwrb/water-planning/cam...   \n",
       "1  https://idwr.idaho.gov/IWRB/water-planning/CAM...   \n",
       "2  https://idwr.idaho.gov/iwrb/water-planning/cam...   \n",
       "\n",
       "  in_StatutoryEffectiveDate in_StatutoryEndDate  \\\n",
       "0                01/01/2009                       \n",
       "1                01/01/2009                       \n",
       "2                01/01/2009                       \n",
       "\n",
       "              in_RegulatoryOverlayTypeCV in_WaterSourceTypeCV  \n",
       "0  Comprehensive Aquifer Management Plan          Groundwater  \n",
       "1  Comprehensive Aquifer Management Plan          Groundwater  \n",
       "2  Comprehensive Aquifer Management Plan          Groundwater  "
      ]
     },
     "execution_count": 7,
     "metadata": {},
     "output_type": "execute_result"
    }
   ],
   "source": [
    "# create output POD dataframe\n",
    "df = pd.DataFrame(index=gdfIn.index)\n",
    "\n",
    "# Data Assessment UUID\n",
    "df['WaDEUUID'] = gdfIn['WaDEUUID']\n",
    "\n",
    "# Date Info\n",
    "df['in_Date'] = date.today().strftime('%m/%d')\n",
    "df['in_Year'] = date.today().strftime('%Y')\n",
    "\n",
    "# Organization\n",
    "df['in_OrganizationUUID'] = \"IDre_O1\"\n",
    "\n",
    "# ReportingUnit Info\n",
    "df['in_EPSGCodeCV'] = \"4326\"\n",
    "df['in_ReportingUnitName'] = gdfIn['in_ReportingUnitName']\n",
    "df['in_ReportingUnitNativeID'] = gdfIn['in_ReportingUnitNativeID']\n",
    "df['in_ReportingUnitProductVersion'] = \"\"\n",
    "df['in_ReportingUnitTypeCV'] = \"Comprehensive Aquifer Management Plan\"\n",
    "df['in_ReportingUnitUpdateDate'] = \"\"\n",
    "df['in_StateCV'] = \"ID\"\n",
    "df['in_Geometry'] = gdfIn['geometry']\n",
    "\n",
    "# RegulatoryOverlay Info\n",
    "df['in_OversightAgency'] = \"Idaho Department of Water Resources\"\n",
    "\n",
    "df['in_RegulatoryDescription'] = \"\"\"The 2008 Legislature approved House Bill 428 and House Bill 644 establishing the Statewide Comprehensive Aquifer Planning and Management Program (Idaho Code § 42-1779) and the Aquifer Planning and Management Fund (Idaho Code § 42-1780). This legislation authorized characterization and planning efforts for ten different basins from 2008 through 2018.\n",
    "\n",
    "The Comprehensive Aquifer Planning and Management Program was designed to provide IWRB and IDWR with the necessary information to develop plans for managing groundwater and surface water resources into the future. The program had two phases: a technical component to characterize the surface water and groundwater resources of each basin a planning component to integrate the technical knowledge with an assessment of current and projected future water uses and constraints.  At the culmination of this program, the intent was to develop long-range plans for conjunctively managing the water resources of each basin by integrating hydrologic realities with the social needs. These water management plans were designed to address water supply and demand issues looking out 50 years into the future, and investigated strategies which will lead to sustainable water supplies and optimum use of the water resources.\"\"\"\n",
    "\n",
    "df['in_RegulatoryName'] = gdfIn['in_RegulatoryName']\n",
    "df['in_RegulatoryOverlayNativeID'] = gdfIn['in_RegulatoryOverlayNativeID']\n",
    "df['in_RegulatoryStatusCV'] = \"Active\"\n",
    "df['in_RegulatoryStatute'] = \"\"\n",
    "df['in_RegulatoryStatuteLink'] = gdfIn['in_RegulatoryStatuteLink']\n",
    "df['in_StatutoryEffectiveDate'] = gdfIn['in_StatutoryEffectiveDate']\n",
    "df['in_StatutoryEndDate'] = \"\"\n",
    "df['in_RegulatoryOverlayTypeCV'] = \"Comprehensive Aquifer Management Plan\"\n",
    "df['in_WaterSourceTypeCV'] = \"Groundwater\"\n",
    "\n",
    "\n",
    "df = df.drop_duplicates().reset_index(drop=True)\n",
    "outdf = df.copy()\n",
    "print(len(outdf))\n",
    "outdf.head()"
   ]
  },
  {
   "cell_type": "markdown",
   "metadata": {},
   "source": [
    "## Clean Data and Concatenate DataFrames together into single output"
   ]
  },
  {
   "cell_type": "code",
   "execution_count": 8,
   "metadata": {
    "scrolled": true
   },
   "outputs": [],
   "source": [
    "# Ensure Empty String\n",
    "\n",
    "def ensureEmptyString(val):\n",
    "    val = str(val).strip()\n",
    "    if val == \"\" or val == \" \" or val == \"nan\" or pd.isnull(val):\n",
    "        outString = \"\"\n",
    "    else:\n",
    "        outString = val\n",
    "    return outString"
   ]
  },
  {
   "cell_type": "code",
   "execution_count": 9,
   "metadata": {},
   "outputs": [
    {
     "data": {
      "text/plain": [
       "array(['Eastern Snake', 'Rathdrum Prairie', 'Treasure Valley'],\n",
       "      dtype=object)"
      ]
     },
     "execution_count": 9,
     "metadata": {},
     "output_type": "execute_result"
    }
   ],
   "source": [
    "outdf['in_ReportingUnitName'] = df.apply(lambda row: ensureEmptyString(row['in_ReportingUnitName']), axis=1)\n",
    "outdf['in_ReportingUnitName'].unique()"
   ]
  },
  {
   "cell_type": "code",
   "execution_count": 10,
   "metadata": {},
   "outputs": [
    {
     "data": {
      "text/plain": [
       "array(['The 2008 Legislature approved House Bill 428 and House Bill 644 establishing the Statewide Comprehensive Aquifer Planning and Management Program (Idaho Code § 42-1779) and the Aquifer Planning and Management Fund (Idaho Code § 42-1780). This legislation authorized characterization and planning efforts for ten different basins from 2008 through 2018.\\n\\nThe Comprehensive Aquifer Planning and Management Program was designed to provide IWRB and IDWR with the necessary information to develop plans for managing groundwater and surface water resources into the future. The program had two phases: a technical component to characterize the surface water and groundwater resources of each basin a planning component to integrate the technical knowledge with an assessment of current and projected future water uses and constraints.  At the culmination of this program, the intent was to develop long-range plans for conjunctively managing the water resources of each basin by integrating hydrologic realities with the social needs. These water management plans were designed to address water supply and demand issues looking out 50 years into the future, and investigated strategies which will lead to sustainable water supplies and optimum use of the water resources.'],\n",
       "      dtype=object)"
      ]
     },
     "execution_count": 10,
     "metadata": {},
     "output_type": "execute_result"
    }
   ],
   "source": [
    "outdf['in_RegulatoryDescription'] = df.apply(lambda row: ensureEmptyString(row['in_RegulatoryDescription']), axis=1)\n",
    "outdf['in_RegulatoryDescription'].unique()"
   ]
  },
  {
   "cell_type": "code",
   "execution_count": 11,
   "metadata": {},
   "outputs": [
    {
     "data": {
      "text/plain": [
       "array(['Eastern Snake CAMP', 'Rathdrum Prairie CAMP',\n",
       "       'Treasure Valley CAMP'], dtype=object)"
      ]
     },
     "execution_count": 11,
     "metadata": {},
     "output_type": "execute_result"
    }
   ],
   "source": [
    "outdf['in_RegulatoryName'] = df.apply(lambda row: ensureEmptyString(row['in_RegulatoryName']), axis=1)\n",
    "outdf['in_RegulatoryName'].unique()"
   ]
  },
  {
   "cell_type": "code",
   "execution_count": 12,
   "metadata": {},
   "outputs": [
    {
     "data": {
      "text/plain": [
       "array(['2009-01-01T00:00:00.000000000'], dtype='datetime64[ns]')"
      ]
     },
     "execution_count": 12,
     "metadata": {},
     "output_type": "execute_result"
    }
   ],
   "source": [
    "#Update datatype of StatutoryEffectiveDate to fit WaDE 2.0 structure\n",
    "outdf['in_StatutoryEffectiveDate'] = pd.to_datetime(outdf['in_StatutoryEffectiveDate'], errors = 'coerce')\n",
    "outdf['in_StatutoryEffectiveDate'] = pd.to_datetime(outdf['in_StatutoryEffectiveDate'].dt.strftime('%m/%d/%Y'))\n",
    "outdf['in_StatutoryEffectiveDate'].unique()"
   ]
  },
  {
   "cell_type": "markdown",
   "metadata": {},
   "source": [
    "# Shapefile Data"
   ]
  },
  {
   "cell_type": "code",
   "execution_count": 13,
   "metadata": {},
   "outputs": [],
   "source": [
    "# already got the geometery for IDre"
   ]
  },
  {
   "cell_type": "code",
   "execution_count": 14,
   "metadata": {},
   "outputs": [
    {
     "name": "stdout",
     "output_type": "stream",
     "text": [
      "3\n"
     ]
    },
    {
     "data": {
      "text/html": [
       "<div>\n",
       "<style scoped>\n",
       "    .dataframe tbody tr th:only-of-type {\n",
       "        vertical-align: middle;\n",
       "    }\n",
       "\n",
       "    .dataframe tbody tr th {\n",
       "        vertical-align: top;\n",
       "    }\n",
       "\n",
       "    .dataframe thead th {\n",
       "        text-align: right;\n",
       "    }\n",
       "</style>\n",
       "<table border=\"1\" class=\"dataframe\">\n",
       "  <thead>\n",
       "    <tr style=\"text-align: right;\">\n",
       "      <th></th>\n",
       "      <th>WaDEUUID</th>\n",
       "      <th>in_Date</th>\n",
       "      <th>in_Year</th>\n",
       "      <th>in_OrganizationUUID</th>\n",
       "      <th>in_EPSGCodeCV</th>\n",
       "      <th>in_ReportingUnitName</th>\n",
       "      <th>in_ReportingUnitNativeID</th>\n",
       "      <th>in_ReportingUnitProductVersion</th>\n",
       "      <th>in_ReportingUnitTypeCV</th>\n",
       "      <th>in_ReportingUnitUpdateDate</th>\n",
       "      <th>in_StateCV</th>\n",
       "      <th>in_Geometry</th>\n",
       "      <th>in_OversightAgency</th>\n",
       "      <th>in_RegulatoryDescription</th>\n",
       "      <th>in_RegulatoryName</th>\n",
       "      <th>in_RegulatoryOverlayNativeID</th>\n",
       "      <th>in_RegulatoryStatusCV</th>\n",
       "      <th>in_RegulatoryStatute</th>\n",
       "      <th>in_RegulatoryStatuteLink</th>\n",
       "      <th>in_StatutoryEffectiveDate</th>\n",
       "      <th>in_StatutoryEndDate</th>\n",
       "      <th>in_RegulatoryOverlayTypeCV</th>\n",
       "      <th>in_WaterSourceTypeCV</th>\n",
       "    </tr>\n",
       "  </thead>\n",
       "  <tbody>\n",
       "    <tr>\n",
       "      <th>0</th>\n",
       "      <td>wade1</td>\n",
       "      <td>05/17</td>\n",
       "      <td>2023</td>\n",
       "      <td>IDre_O1</td>\n",
       "      <td>4326</td>\n",
       "      <td>Eastern Snake</td>\n",
       "      <td>wade1</td>\n",
       "      <td></td>\n",
       "      <td>Comprehensive Aquifer Management Plan</td>\n",
       "      <td></td>\n",
       "      <td>ID</td>\n",
       "      <td>POLYGON ((-111.67757 44.22304, -111.67054 44.2...</td>\n",
       "      <td>Idaho Department of Water Resources</td>\n",
       "      <td>The 2008 Legislature approved House Bill 428 a...</td>\n",
       "      <td>Eastern Snake CAMP</td>\n",
       "      <td>wade1</td>\n",
       "      <td>Active</td>\n",
       "      <td></td>\n",
       "      <td>https://idwr.idaho.gov/iwrb/water-planning/cam...</td>\n",
       "      <td>2009-01-01</td>\n",
       "      <td></td>\n",
       "      <td>Comprehensive Aquifer Management Plan</td>\n",
       "      <td>Groundwater</td>\n",
       "    </tr>\n",
       "    <tr>\n",
       "      <th>1</th>\n",
       "      <td>wade2</td>\n",
       "      <td>05/17</td>\n",
       "      <td>2023</td>\n",
       "      <td>IDre_O1</td>\n",
       "      <td>4326</td>\n",
       "      <td>Rathdrum Prairie</td>\n",
       "      <td>wade2</td>\n",
       "      <td></td>\n",
       "      <td>Comprehensive Aquifer Management Plan</td>\n",
       "      <td></td>\n",
       "      <td>ID</td>\n",
       "      <td>POLYGON ((-116.78942 48.04840, -116.79298 48.0...</td>\n",
       "      <td>Idaho Department of Water Resources</td>\n",
       "      <td>The 2008 Legislature approved House Bill 428 a...</td>\n",
       "      <td>Rathdrum Prairie CAMP</td>\n",
       "      <td>wade2</td>\n",
       "      <td>Active</td>\n",
       "      <td></td>\n",
       "      <td>https://idwr.idaho.gov/IWRB/water-planning/CAM...</td>\n",
       "      <td>2009-01-01</td>\n",
       "      <td></td>\n",
       "      <td>Comprehensive Aquifer Management Plan</td>\n",
       "      <td>Groundwater</td>\n",
       "    </tr>\n",
       "    <tr>\n",
       "      <th>2</th>\n",
       "      <td>wade3</td>\n",
       "      <td>05/17</td>\n",
       "      <td>2023</td>\n",
       "      <td>IDre_O1</td>\n",
       "      <td>4326</td>\n",
       "      <td>Treasure Valley</td>\n",
       "      <td>wade3</td>\n",
       "      <td></td>\n",
       "      <td>Comprehensive Aquifer Management Plan</td>\n",
       "      <td></td>\n",
       "      <td>ID</td>\n",
       "      <td>POLYGON ((-116.61388 43.82598, -116.61388 43.8...</td>\n",
       "      <td>Idaho Department of Water Resources</td>\n",
       "      <td>The 2008 Legislature approved House Bill 428 a...</td>\n",
       "      <td>Treasure Valley CAMP</td>\n",
       "      <td>wade3</td>\n",
       "      <td>Active</td>\n",
       "      <td></td>\n",
       "      <td>https://idwr.idaho.gov/iwrb/water-planning/cam...</td>\n",
       "      <td>2009-01-01</td>\n",
       "      <td></td>\n",
       "      <td>Comprehensive Aquifer Management Plan</td>\n",
       "      <td>Groundwater</td>\n",
       "    </tr>\n",
       "  </tbody>\n",
       "</table>\n",
       "</div>"
      ],
      "text/plain": [
       "  WaDEUUID in_Date in_Year in_OrganizationUUID in_EPSGCodeCV  \\\n",
       "0    wade1   05/17    2023             IDre_O1          4326   \n",
       "1    wade2   05/17    2023             IDre_O1          4326   \n",
       "2    wade3   05/17    2023             IDre_O1          4326   \n",
       "\n",
       "  in_ReportingUnitName in_ReportingUnitNativeID  \\\n",
       "0        Eastern Snake                    wade1   \n",
       "1     Rathdrum Prairie                    wade2   \n",
       "2      Treasure Valley                    wade3   \n",
       "\n",
       "  in_ReportingUnitProductVersion                 in_ReportingUnitTypeCV  \\\n",
       "0                                 Comprehensive Aquifer Management Plan   \n",
       "1                                 Comprehensive Aquifer Management Plan   \n",
       "2                                 Comprehensive Aquifer Management Plan   \n",
       "\n",
       "  in_ReportingUnitUpdateDate in_StateCV  \\\n",
       "0                                    ID   \n",
       "1                                    ID   \n",
       "2                                    ID   \n",
       "\n",
       "                                         in_Geometry  \\\n",
       "0  POLYGON ((-111.67757 44.22304, -111.67054 44.2...   \n",
       "1  POLYGON ((-116.78942 48.04840, -116.79298 48.0...   \n",
       "2  POLYGON ((-116.61388 43.82598, -116.61388 43.8...   \n",
       "\n",
       "                    in_OversightAgency  \\\n",
       "0  Idaho Department of Water Resources   \n",
       "1  Idaho Department of Water Resources   \n",
       "2  Idaho Department of Water Resources   \n",
       "\n",
       "                            in_RegulatoryDescription      in_RegulatoryName  \\\n",
       "0  The 2008 Legislature approved House Bill 428 a...     Eastern Snake CAMP   \n",
       "1  The 2008 Legislature approved House Bill 428 a...  Rathdrum Prairie CAMP   \n",
       "2  The 2008 Legislature approved House Bill 428 a...   Treasure Valley CAMP   \n",
       "\n",
       "  in_RegulatoryOverlayNativeID in_RegulatoryStatusCV in_RegulatoryStatute  \\\n",
       "0                        wade1                Active                        \n",
       "1                        wade2                Active                        \n",
       "2                        wade3                Active                        \n",
       "\n",
       "                            in_RegulatoryStatuteLink  \\\n",
       "0  https://idwr.idaho.gov/iwrb/water-planning/cam...   \n",
       "1  https://idwr.idaho.gov/IWRB/water-planning/CAM...   \n",
       "2  https://idwr.idaho.gov/iwrb/water-planning/cam...   \n",
       "\n",
       "  in_StatutoryEffectiveDate in_StatutoryEndDate  \\\n",
       "0                2009-01-01                       \n",
       "1                2009-01-01                       \n",
       "2                2009-01-01                       \n",
       "\n",
       "              in_RegulatoryOverlayTypeCV in_WaterSourceTypeCV  \n",
       "0  Comprehensive Aquifer Management Plan          Groundwater  \n",
       "1  Comprehensive Aquifer Management Plan          Groundwater  \n",
       "2  Comprehensive Aquifer Management Plan          Groundwater  "
      ]
     },
     "execution_count": 14,
     "metadata": {},
     "output_type": "execute_result"
    }
   ],
   "source": [
    "df_shape_out = outdf.copy()\n",
    "print(len(df_shape_out))\n",
    "df_shape_out.head()"
   ]
  },
  {
   "cell_type": "code",
   "execution_count": 15,
   "metadata": {},
   "outputs": [
    {
     "data": {
      "text/plain": [
       "<AxesSubplot: >"
      ]
     },
     "execution_count": 15,
     "metadata": {},
     "output_type": "execute_result"
    },
    {
     "data": {
      "image/png": "[encoded data removed]",
      "text/plain": [
       "<Figure size 640x480 with 1 Axes>"
      ]
     },
     "metadata": {},
     "output_type": "display_data"
    }
   ],
   "source": [
    "# plot\n",
    "df_shape_out = df_shape_out[df_shape_out['in_Geometry'] != \"\"].reset_index(drop=True)\n",
    "df_shape_out['Geometry'] = gpd.GeoSeries.from_wkt(df_shape_out['in_Geometry'].astype(str), crs=\"EPSG:4326\")\n",
    "gdf_shape_out = gpd.GeoDataFrame(df_shape_out, geometry=df_shape_out['Geometry'], crs=\"EPSG:4326\") # covert to geodataframe\n",
    "gdf_shape_out.plot()"
   ]
  },
  {
   "cell_type": "markdown",
   "metadata": {},
   "source": [
    "### Inspect Output Data & Export"
   ]
  },
  {
   "cell_type": "code",
   "execution_count": 16,
   "metadata": {},
   "outputs": [
    {
     "name": "stdout",
     "output_type": "stream",
     "text": [
      "WaDEUUID                                  object\n",
      "in_Date                                   object\n",
      "in_Year                                   object\n",
      "in_OrganizationUUID                       object\n",
      "in_EPSGCodeCV                             object\n",
      "in_ReportingUnitName                      object\n",
      "in_ReportingUnitNativeID                  object\n",
      "in_ReportingUnitProductVersion            object\n",
      "in_ReportingUnitTypeCV                    object\n",
      "in_ReportingUnitUpdateDate                object\n",
      "in_StateCV                                object\n",
      "in_Geometry                             geometry\n",
      "in_OversightAgency                        object\n",
      "in_RegulatoryDescription                  object\n",
      "in_RegulatoryName                         object\n",
      "in_RegulatoryOverlayNativeID              object\n",
      "in_RegulatoryStatusCV                     object\n",
      "in_RegulatoryStatute                      object\n",
      "in_RegulatoryStatuteLink                  object\n",
      "in_StatutoryEffectiveDate         datetime64[ns]\n",
      "in_StatutoryEndDate                       object\n",
      "in_RegulatoryOverlayTypeCV                object\n",
      "in_WaterSourceTypeCV                      object\n",
      "Geometry                                geometry\n",
      "geometry                                geometry\n",
      "dtype: object\n"
     ]
    }
   ],
   "source": [
    "with pd.option_context('display.max_rows', None, 'display.max_columns', None):\n",
    "    print(df_shape_out.dtypes)"
   ]
  },
  {
   "cell_type": "code",
   "execution_count": 17,
   "metadata": {},
   "outputs": [],
   "source": [
    "# Export out to CSV.\n",
    "outdf.to_csv('Pre_idMain.zip', compression=dict(method='zip', archive_name='Pre_idMain.csv'), index=False)  # The output, save as a zip\n",
    "df_shape_out.to_csv('P_Geometry.zip', compression=dict(method='zip', archive_name='P_Geometry.csv'), index=False)  # The output geometry."
   ]
  },
  {
   "cell_type": "code",
   "execution_count": null,
   "metadata": {},
   "outputs": [],
   "source": []
  }
 ],
 "metadata": {
  "kernelspec": {
   "display_name": "Python 3 (ipykernel)",
   "language": "python",
   "name": "python3"
  },
  "language_info": {
   "codemirror_mode": {
    "name": "ipython",
    "version": 3
   },
   "file_extension": ".py",
   "mimetype": "text/x-python",
   "name": "python",
   "nbconvert_exporter": "python",
   "pygments_lexer": "ipython3",
   "version": "3.9.16"
  }
 },
 "nbformat": 4,
 "nbformat_minor": 4
}
