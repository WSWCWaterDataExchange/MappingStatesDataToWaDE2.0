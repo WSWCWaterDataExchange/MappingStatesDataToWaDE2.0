{
 "cells": [
  {
   "cell_type": "markdown",
   "metadata": {},
   "source": [
    "# Preprocessing Idaho Regulatory data for WaDE upload.\n",
    "- Purpose:  To preprocess the Idaho data into one master file for simple DataFrame creation and extraction."
   ]
  },
  {
   "cell_type": "code",
   "execution_count": null,
   "metadata": {},
   "outputs": [],
   "source": [
    "#Needed Libararies\n",
    "\n",
    "# working with data\n",
    "import os\n",
    "import numpy as np\n",
    "import pandas as pd\n",
    "import geopandas as gpd # the library that lets us read in shapefiles\n",
    "\n",
    "# visulizaiton\n",
    "import matplotlib.pyplot as plt\n",
    "import seaborn as sns\n",
    "\n",
    "# API retrieval\n",
    "import requests\n",
    "import json\n",
    "\n",
    "# Cleanup\n",
    "import re\n",
    "from datetime import date\n",
    "pd.set_option('display.max_columns', 999)  # How to display all columns of a Pandas DataFrame in Jupyter Notebook\n",
    "pd.set_option('display.float_format', lambda x: '%.5f' % x) # suppress scientific notation in Pandas"
   ]
  },
  {
   "cell_type": "code",
   "execution_count": null,
   "metadata": {},
   "outputs": [],
   "source": [
    "# Working Directory\n",
    "workingDir = \"G:/Shared drives/WaDE Data/Idaho/Regulatory/RawInputData\"\n",
    "os.chdir(workingDir)"
   ]
  },
  {
   "cell_type": "markdown",
   "metadata": {},
   "source": [
    "# Inputs\n",
    "- CAMP (three separate areas & inputs)\n",
    "- Groundwater Districts\n",
    "- Groundwater Management Areas\n",
    "- Aquifer Recharge District "
   ]
  },
  {
   "cell_type": "markdown",
   "metadata": {},
   "source": [
    "### CAMP data"
   ]
  },
  {
   "cell_type": "code",
   "execution_count": null,
   "metadata": {},
   "outputs": [],
   "source": [
    "# Eastern Snake CAMP\n",
    "inputFile = \"Eastern_Snake_Comprehensive_Aquifer_Management_Plan.zip\"\n",
    "gdf_es = gpd.read_file(inputFile)\n",
    "\n",
    "# Data Assessment UUID\n",
    "gdf_es['WaDEUUID'] = \"wade1\"\n",
    "\n",
    "# ReportingUnits\n",
    "gdf_es['in_ReportingUnitName'] = \"Eastern Snake\"\n",
    "gdf_es['in_ReportingUnitNativeID'] = \"wade1\"\n",
    "\n",
    "# RegulatoryOverlay\n",
    "gdf_es['in_RegulatoryName'] = \"Eastern Snake CAMP\"\n",
    "gdf_es['in_RegulatoryOverlayNativeID'] = \"wade1\"\n",
    "gdf_es['in_RegulatoryStatuteLink'] = \"https://idwr.idaho.gov/iwrb/water-planning/camps/espa/\"\n",
    "gdf_es['in_StatutoryEffectiveDate'] = \"01/01/2009\"\n",
    "gdf_es = gdf_es[['WaDEUUID', 'in_ReportingUnitName', 'in_ReportingUnitNativeID', 'in_RegulatoryName', 'in_RegulatoryOverlayNativeID', 'in_RegulatoryStatuteLink', 'in_StatutoryEffectiveDate', 'geometry']]\n",
    "\n",
    "print(len(gdf_es))\n",
    "gdf_es.head(1)"
   ]
  },
  {
   "cell_type": "code",
   "execution_count": null,
   "metadata": {},
   "outputs": [],
   "source": [
    "# Rathdrum CAMP\n",
    "inputFile = \"Rathdrum_Comprehensive_Aquifer_Management_Plan.zip\"\n",
    "gdf_r = gpd.read_file(inputFile)\n",
    "\n",
    "# Data Assessment UUID\n",
    "gdf_r['WaDEUUID'] = \"wade2\"\n",
    "\n",
    "# ReportingUnits\n",
    "gdf_r['in_ReportingUnitName'] = \"Rathdrum Prairie\"\n",
    "gdf_r['in_ReportingUnitNativeID'] = \"wade2\"\n",
    "\n",
    "# RegulatoryOverlay\n",
    "gdf_r['in_RegulatoryName'] = \"Rathdrum Prairie CAMP\"\n",
    "gdf_r['in_RegulatoryOverlayNativeID'] = \"wade2\"\n",
    "gdf_r['in_RegulatoryStatuteLink'] = \"https://idwr.idaho.gov/IWRB/water-planning/CAMPs/rathdrum-prairie/\"\n",
    "gdf_r['in_StatutoryEffectiveDate'] = \"01/01/2009\"\n",
    "gdf_r = gdf_r[['WaDEUUID', 'in_ReportingUnitName', 'in_ReportingUnitNativeID', 'in_RegulatoryName', 'in_RegulatoryOverlayNativeID', 'in_RegulatoryStatuteLink', 'in_StatutoryEffectiveDate', 'geometry']]\n",
    "\n",
    "print(len(gdf_r))\n",
    "gdf_r.head()"
   ]
  },
  {
   "cell_type": "code",
   "execution_count": null,
   "metadata": {},
   "outputs": [],
   "source": [
    "# Treasure Valley CAMP\n",
    "inputFile = \"Treasure_Valley_Comprehensive_Aquifer_Management_Plan.zip\"\n",
    "gdf_tv = gpd.read_file(inputFile)\n",
    "\n",
    "# Data Assessment UUID\n",
    "gdf_tv['WaDEUUID'] = \"wade3\"\n",
    "\n",
    "# ReportingUnits\n",
    "gdf_tv['in_ReportingUnitName'] = \"Treasure Valley\"\n",
    "gdf_tv['in_ReportingUnitNativeID'] = \"wade3\"\n",
    "\n",
    "# RegulatoryOverlay\n",
    "gdf_tv['in_RegulatoryName'] = \"Treasure Valley CAMP\"\n",
    "gdf_tv['in_RegulatoryOverlayNativeID'] = \"wade3\"\n",
    "gdf_tv['in_RegulatoryStatuteLink'] = \"https://idwr.idaho.gov/iwrb/water-planning/camps/treasure-valley/\"\n",
    "gdf_tv['in_StatutoryEffectiveDate'] = \"01/01/2009\"\n",
    "gdf_tv = gdf_tv[['WaDEUUID', 'in_ReportingUnitName', 'in_ReportingUnitNativeID', 'in_RegulatoryName', 'in_RegulatoryOverlayNativeID', 'in_RegulatoryStatuteLink', 'in_StatutoryEffectiveDate', 'geometry']]\n",
    "\n",
    "\n",
    "print(len(gdf_tv))\n",
    "gdf_tv.head(1)"
   ]
  },
  {
   "cell_type": "code",
   "execution_count": null,
   "metadata": {},
   "outputs": [],
   "source": [
    "# Concatenate inputs DataFrames together\n",
    "frames = [gdf_es, gdf_r, gdf_tv]\n",
    "gdfIn = pd.concat(frames)\n",
    "print(len(gdfIn))\n",
    "gdfIn.head()"
   ]
  },
  {
   "cell_type": "code",
   "execution_count": null,
   "metadata": {},
   "outputs": [],
   "source": [
    "# create output POD dataframe\n",
    "df = pd.DataFrame(index=gdfIn.index)\n",
    "\n",
    "# Data Assessment UUID\n",
    "df['WaDEUUID'] = gdfIn['WaDEUUID']\n",
    "\n",
    "# Date Info\n",
    "df['in_Date'] = date.today().strftime('%m/%d')\n",
    "df['in_Year'] = date.today().strftime('%Y')\n",
    "\n",
    "# Organization\n",
    "df['in_OrganizationUUID'] = \"IDre_O1\"\n",
    "\n",
    "# ReportingUnit Info\n",
    "df['in_EPSGCodeCV'] = \"4326\"\n",
    "df['in_ReportingUnitName'] = gdfIn['in_ReportingUnitName']\n",
    "df['in_ReportingUnitNativeID'] = gdfIn['in_ReportingUnitNativeID']\n",
    "df['in_ReportingUnitProductVersion'] = \"\"\n",
    "df['in_ReportingUnitTypeCV'] = \"Comprehensive Aquifer Management Plan\"\n",
    "df['in_ReportingUnitUpdateDate'] = \"\"\n",
    "df['in_StateCV'] = \"ID\"\n",
    "df['in_Geometry'] = gdfIn['geometry']\n",
    "\n",
    "# RegulatoryOverlay Info\n",
    "df['in_OversightAgency'] = \"Idaho Department of Water Resources\"\n",
    "\n",
    "df['in_RegulatoryDescription'] = \"\"\"The 2008 Legislature approved House Bill 428 and House Bill 644 establishing the Statewide Comprehensive Aquifer Planning and Management Program (Idaho Code § 42-1779) and the Aquifer Planning and Management Fund (Idaho Code § 42-1780). This legislation authorized characterization and planning efforts for ten different basins from 2008 through 2018.\n",
    "\n",
    "The Comprehensive Aquifer Planning and Management Program was designed to provide IWRB and IDWR with the necessary information to develop plans for managing groundwater and surface water resources into the future. The program had two phases: a technical component to characterize the surface water and groundwater resources of each basin a planning component to integrate the technical knowledge with an assessment of current and projected future water uses and constraints.  At the culmination of this program, the intent was to develop long-range plans for conjunctively managing the water resources of each basin by integrating hydrologic realities with the social needs. These water management plans were designed to address water supply and demand issues looking out 50 years into the future, and investigated strategies which will lead to sustainable water supplies and optimum use of the water resources.\"\"\"\n",
    "\n",
    "df['in_RegulatoryName'] = gdfIn['in_RegulatoryName']\n",
    "df['in_RegulatoryOverlayNativeID'] = gdfIn['in_RegulatoryOverlayNativeID']\n",
    "df['in_RegulatoryStatusCV'] = \"Active\"\n",
    "df['in_RegulatoryStatute'] = \"\"\n",
    "df['in_RegulatoryStatuteLink'] = gdfIn['in_RegulatoryStatuteLink']\n",
    "df['in_StatutoryEffectiveDate'] = gdfIn['in_StatutoryEffectiveDate']\n",
    "df['in_StatutoryEndDate'] = \"\"\n",
    "df['in_RegulatoryOverlayTypeCV'] = \"Comprehensive Aquifer Management Plan\"\n",
    "df['in_WaterSourceTypeCV'] = \"Groundwater\"\n",
    "\n",
    "\n",
    "df = df.drop_duplicates().reset_index(drop=True)\n",
    "outdf = df.copy()\n",
    "print(len(outdf))\n",
    "outdf.head()"
   ]
  },
  {
   "cell_type": "markdown",
   "metadata": {},
   "source": [
    "### Groundwater Districts data"
   ]
  },
  {
   "cell_type": "code",
   "execution_count": null,
   "metadata": {},
   "outputs": [],
   "source": [
    "# Input File\n",
    "inputFile = \"RawInputData/shapefiles/Groundwater_Districts/Groundwater_Districts.shp\"\n",
    "dfin1 = gpd.read_file(inputFile, encoding = \"ISO-8859-1\").replace(np.nan, \"\")\n",
    "\n",
    "# WaDE UUID tracker for data assessment\n",
    "if 'WaDEUUID' not in dfin1:\n",
    "    dfin1['WaDEUUID'] = \"re\" + dfin1.index.astype(str)\n",
    "    dfin1.to_csv('RawInputData/shapefiles/Groundwater_Districts/Groundwater_Districts.shp', compression=dict(method='zip', archive_name='Groundwater_District.csv'), index=False)\n",
    "\n",
    "print(len(dfin1))\n",
    "dfin1.head()"
   ]
  },
  {
   "cell_type": "code",
   "execution_count": null,
   "metadata": {},
   "outputs": [],
   "source": [
    "# create output for Regulatory Area #1 dataframe\n",
    "df = pd.DataFrame()\n",
    "\n",
    "# Data Assessment UUID\n",
    "df['WaDEUUID'] = dfin1['WaDEUUID']\n",
    "\n",
    "# Date Info\n",
    "df['in_Date'] = \"9/29/2023\"\n",
    "df['in_Year'] = \"2023\"\n",
    "\n",
    "# Organization Info\n",
    "df['in_OrganizationUUID'] = \"IDre_RO1\"\n",
    "\n",
    "# ReportingUnit Info\n",
    "df['in_EPSGCodeCV'] = \"4326\"\n",
    "df['in_ReportingUnitName'] = dfin1[\"NAME\"]\n",
    "df['in_ReportingUnitNativeID'] = \"GWD\" + dfin1[\"OBJECTID\"].astype(str)\n",
    "df['in_ReportingUnitProductVersion'] = \"\"\n",
    "df['in_ReportingUnitTypeCV'] = \"Groundwater Districts\"\n",
    "df['in_ReportingUnitUpdateDate'] = \"\"\n",
    "df['in_StateCV'] = \"ID\"\n",
    "df['in_Geometry'] = \"\"\n",
    "\n",
    "# RegulatoryOverlay Info\n",
    "df['in_OversightAgency'] = \"Idaho Department of Water Resources\"\n",
    "df['in_RegulatoryDescription'] = \"manages water via water allocation and distribution processes\"\n",
    "df['in_RegulatoryName'] = dfin1[\"NAME\"]\n",
    "df['in_RegulatoryOverlayNativeID'] = \"GWD\" + dfin1[\"OBJECTID\"].astype(str)\n",
    "df['in_RegulatoryStatusCV'] = \"Active\"\n",
    "df['in_RegulatoryStatute'] = \"\"\n",
    "df['in_RegulatoryStatuteLink'] =\"\"\n",
    "df['in_StatutoryEffectiveDate'] = \"1/1/1995\"\n",
    "df['in_StatutoryEndDate'] = \"\"\n",
    "df['in_RegulatoryOverlayTypeCV'] = \"Groundwater Districts\"\n",
    "df['in_WaterSourceTypeCV'] = \"Groundwater\"\n",
    "\n",
    "df = df.drop_duplicates().reset_index(drop=True)\n",
    "outdf1 = df.copy()\n",
    "print(len(outdf1))\n",
    "outdf1.head()"
   ]
  },
  {
   "cell_type": "markdown",
   "metadata": {},
   "source": [
    "### Groundwater Management Areas data"
   ]
  },
  {
   "cell_type": "code",
   "execution_count": null,
   "metadata": {},
   "outputs": [],
   "source": [
    "# Input File\n",
    "inputFile = \"RawInputData/shapefiles/Groundwater_Management_Areas/Groundwater_Management_Areas.shp\"\n",
    "dfin2 = gpd.read_file(inputFile, encoding = \"ISO-8859-1\").replace(np.nan, \"\")\n",
    "\n",
    "# WaDE UUID tracker for data assessment\n",
    "if 'WaDEUUID' not in dfin2:\n",
    "    dfin2['WaDEUUID'] = \"re\" + dfin2.index.astype(str)\n",
    "    dfin2.to_csv('RawInputData/shapefiles/Groundwater_Management_Areas/Groundwater_Management_Areas.shp', compression=dict(method='zip', archive_name='Groundwater_Management_Areas.csv'), index=False)\n",
    "\n",
    "print(len(dfin2))\n",
    "dfin2.head()"
   ]
  },
  {
   "cell_type": "code",
   "execution_count": null,
   "metadata": {},
   "outputs": [],
   "source": [
    "# create output for Regulatory Area #1 dataframe\n",
    "df = pd.DataFrame()\n",
    "\n",
    "# Data Assessment UUID\n",
    "df['WaDEUUID'] = dfin1['WaDEUUID']\n",
    "\n",
    "# Date Info\n",
    "df['in_Date'] = \"10/2/2023\"\n",
    "df['in_Year'] = \"2023\"\n",
    "\n",
    "# Organization Info\n",
    "df['in_OrganizationUUID'] = \"IDre_RO1\"\n",
    "\n",
    "# ReportingUnit Info\n",
    "df['in_EPSGCodeCV'] = \"4326\"\n",
    "df['in_ReportingUnitName'] = dfin2[\"NAME\"]\n",
    "df['in_ReportingUnitNativeID'] = \"GWMA\" + dfin2[\"OBJECTID\"].astype(str)\n",
    "df['in_ReportingUnitProductVersion'] = \"\"\n",
    "df['in_ReportingUnitTypeCV'] = \"Groundwater Management Areas\"\n",
    "df['in_ReportingUnitUpdateDate'] = \"4/27/2023\"\n",
    "df['in_StateCV'] = \"ID\"\n",
    "df['in_Geometry'] = \"\"\n",
    "\n",
    "# RegulatoryOverlay Info\n",
    "df['in_OversightAgency'] = \"Idaho Department of Water Resources\"\n",
    "df['in_RegulatoryDescription'] = \"manages water via water allocation and distribution processes\"\n",
    "df['in_RegulatoryName'] = dfin2[\"NAME\"]\n",
    "df['in_RegulatoryOverlayNativeID'] = \"GWMA\" + dfin2[\"OBJECTID\"].astype(str)\n",
    "df['in_RegulatoryStatusCV'] = \"Active\"\n",
    "df['in_RegulatoryStatute'] = \"\"\n",
    "df['in_RegulatoryStatuteLink'] =\"\"\n",
    "df['in_StatutoryEffectiveDate'] = \"1/1/1982\"\n",
    "df['in_StatutoryEndDate'] = \"\"\n",
    "df['in_RegulatoryOverlayTypeCV'] = \"Groundwater Management Areas\"\n",
    "df['in_WaterSourceTypeCV'] = \"Groundwater\"\n",
    "\n",
    "df = df.drop_duplicates().reset_index(drop=True)\n",
    "outdf2 = df.copy()\n",
    "print(len(outdf2))\n",
    "outdf2.head()"
   ]
  },
  {
   "cell_type": "markdown",
   "metadata": {},
   "source": [
    "### Aquifer Recharge District data"
   ]
  },
  {
   "cell_type": "code",
   "execution_count": null,
   "metadata": {},
   "outputs": [],
   "source": [
    "# Input File\n",
    "inputFile = \"RawInputData/shapefiles/Lower_Snake_River_Aquifer_Recharge_District/Lower_Snake_River_Aquifer_Recharge_District.shp\"\n",
    "dfin3 = gpd.read_file(inputFile, encoding = \"ISO-8859-1\").replace(np.nan, \"\")\n",
    "\n",
    "# WaDE UUID tracker for data assessment\n",
    "if 'WaDEUUID' not in dfin3:\n",
    "    dfin3['WaDEUUID'] = \"re\" + dfin3.index.astype(str)\n",
    "    dfin3.to_csv('RawInputData/shapefiles/Lower_Snake_River_Aquifer_Recharge_District/Lower_Snake_River_Aquifer_Recharge_District.shp', compression=dict(method='zip', archive_name='Lower_Snake_River_Aquifer_Recharge_District.csv'), index=False)\n",
    "\n",
    "# Create Name Column\n",
    "dfin3[\"NAME\"] = ['Lower Snake River Aquifer Recharge District']\n",
    "\n",
    "print(len(dfin3))\n",
    "dfin3.head()"
   ]
  },
  {
   "cell_type": "code",
   "execution_count": null,
   "metadata": {},
   "outputs": [],
   "source": [
    "# create output for Regulatory Area #1 dataframe\n",
    "df = pd.DataFrame()\n",
    "\n",
    "# Data Assessment UUID\n",
    "df['WaDEUUID'] = dfin3['WaDEUUID']\n",
    "\n",
    "# Date Info\n",
    "df['in_Date'] = \"10/2/2023\"\n",
    "df['in_Year'] = \"2023\"\n",
    "\n",
    "# Organization Info\n",
    "df['in_OrganizationUUID'] = \"IDre_RO1\"\n",
    "\n",
    "# ReportingUnit Info\n",
    "df['in_EPSGCodeCV'] = \"4326\"\n",
    "df['in_ReportingUnitName'] = dfin3[\"NAME\"]\n",
    "df['in_ReportingUnitNativeID'] = \"ARD\" + dfin3[\"OBJECTID\"].astype(str)\n",
    "df['in_ReportingUnitProductVersion'] = \"\"\n",
    "df['in_ReportingUnitTypeCV'] = \"Aquifer Recharge Districts\"\n",
    "df['in_ReportingUnitUpdateDate'] = \"4/27/2023\"\n",
    "df['in_StateCV'] = \"ID\"\n",
    "df['in_Geometry'] = \"\"\n",
    "\n",
    "# RegulatoryOverlay Info\n",
    "df['in_OversightAgency'] = \"Idaho Department of Water Resources\"\n",
    "df['in_RegulatoryDescription'] = \"manages water via water allocation and distribution processes\"\n",
    "df['in_RegulatoryName'] = dfin3[\"NAME\"]\n",
    "df['in_RegulatoryOverlayNativeID'] = \"ARD\" + dfin3[\"OBJECTID\"].astype(str)\n",
    "df['in_RegulatoryStatusCV'] = \"Active\"\n",
    "df['in_RegulatoryStatute'] = \"\"\n",
    "df['in_RegulatoryStatuteLink'] =\"\"\n",
    "df['in_StatutoryEffectiveDate'] = \"7/1/1978\"\n",
    "df['in_StatutoryEndDate'] = \"\"\n",
    "df['in_RegulatoryOverlayTypeCV'] = \"Aquifer Recharge Districts\"\n",
    "df['in_WaterSourceTypeCV'] = \"Groundwater\"\n",
    "\n",
    "df = df.drop_duplicates().reset_index(drop=True)\n",
    "outdf3 = df.copy()\n",
    "print(len(outdf3))\n",
    "outdf3.head()\n"
   ]
  },
  {
   "cell_type": "markdown",
   "metadata": {},
   "source": [
    "## Concatenate DataFrames together"
   ]
  },
  {
   "cell_type": "code",
   "execution_count": null,
   "metadata": {},
   "outputs": [],
   "source": [
    "# Concatenate dataframes\n",
    "frames = [outdf1, outdf2, outdf3] # list all out dataframes here\n",
    "outdf = pd.concat(frames)\n",
    "outdf = outdf.drop_duplicates().reset_index(drop=True).replace(np.nan, \"\")\n",
    "print(len(outdf))\n",
    "outdf"
   ]
  },
  {
   "cell_type": "markdown",
   "metadata": {},
   "source": [
    "## Clean Data / data types"
   ]
  },
  {
   "cell_type": "code",
   "execution_count": null,
   "metadata": {
    "scrolled": true
   },
   "outputs": [],
   "source": [
    "# Ensure Empty String\n",
    "\n",
    "def ensureEmptyString(val):\n",
    "    val = str(val).strip()\n",
    "    if val == \"\" or val == \" \" or val == \"nan\" or pd.isnull(val):\n",
    "        outString = \"\"\n",
    "    else:\n",
    "        outString = val\n",
    "    return outString"
   ]
  },
  {
   "cell_type": "code",
   "execution_count": null,
   "metadata": {},
   "outputs": [],
   "source": [
    "outdf['in_ReportingUnitName'] = df.apply(lambda row: ensureEmptyString(row['in_ReportingUnitName']), axis=1)\n",
    "outdf['in_ReportingUnitName'].unique()"
   ]
  },
  {
   "cell_type": "code",
   "execution_count": null,
   "metadata": {},
   "outputs": [],
   "source": [
    "outdf['in_RegulatoryDescription'] = df.apply(lambda row: ensureEmptyString(row['in_RegulatoryDescription']), axis=1)\n",
    "outdf['in_RegulatoryDescription'].unique()"
   ]
  },
  {
   "cell_type": "code",
   "execution_count": null,
   "metadata": {},
   "outputs": [],
   "source": [
    "outdf['in_RegulatoryName'] = df.apply(lambda row: ensureEmptyString(row['in_RegulatoryName']), axis=1)\n",
    "outdf['in_RegulatoryName'].unique()"
   ]
  },
  {
   "cell_type": "code",
   "execution_count": null,
   "metadata": {},
   "outputs": [],
   "source": [
    "#Update datatype of StatutoryEffectiveDate to fit WaDE 2.0 structure\n",
    "outdf['in_StatutoryEffectiveDate'] = pd.to_datetime(outdf['in_StatutoryEffectiveDate'], errors = 'coerce')\n",
    "outdf['in_StatutoryEffectiveDate'] = pd.to_datetime(outdf['in_StatutoryEffectiveDate'].dt.strftime('%m/%d/%Y'))\n",
    "outdf['in_StatutoryEffectiveDate'].unique()"
   ]
  },
  {
   "cell_type": "markdown",
   "metadata": {},
   "source": [
    "# Shapefile Data"
   ]
  },
  {
   "cell_type": "markdown",
   "metadata": {},
   "source": [
    "### CAMP data"
   ]
  },
  {
   "cell_type": "code",
   "execution_count": null,
   "metadata": {},
   "outputs": [],
   "source": [
    "# already got the geometery for IDre\n",
    "df_shape_out = outdf.copy()\n",
    "print(len(df_shape_out))\n",
    "df_shape_out.head()"
   ]
  },
  {
   "cell_type": "code",
   "execution_count": null,
   "metadata": {},
   "outputs": [],
   "source": [
    "# plot\n",
    "df_shape_out = df_shape_out[df_shape_out['in_Geometry'] != \"\"].reset_index(drop=True)\n",
    "df_shape_out['Geometry'] = gpd.GeoSeries.from_wkt(df_shape_out['in_Geometry'].astype(str), crs=\"EPSG:4326\")\n",
    "gdf_shape_out = gpd.GeoDataFrame(df_shape_out, geometry=df_shape_out['Geometry'], crs=\"EPSG:4326\") # covert to geodataframe\n",
    "gdf_shape_out.plot()"
   ]
  },
  {
   "cell_type": "markdown",
   "metadata": {},
   "source": [
    "### Groundwater Districts data"
   ]
  },
  {
   "cell_type": "code",
   "execution_count": null,
   "metadata": {},
   "outputs": [],
   "source": [
    "# Input File\n",
    "shapeInputFile = \"RawInputData/shapefiles/Groundwater_Districts/Groundwater_Districts.shp\"\n",
    "gdfin1 = gpd.read_file(shapeInputFile)\n",
    "\n",
    "# Realign Geometry Projection\n",
    "gdfin1['geometry'] = dfin1['geometry'].to_crs(epsg=4326)\n",
    "\n",
    "print(len(gdfin1))\n",
    "gdfin1.head()"
   ]
  },
  {
   "cell_type": "code",
   "execution_count": null,
   "metadata": {},
   "outputs": [],
   "source": [
    "# plot shape info to map\n",
    "gdfin1.plot()"
   ]
  },
  {
   "cell_type": "code",
   "execution_count": null,
   "metadata": {},
   "outputs": [],
   "source": [
    "# create output for Regulatory Area #1 dataframe\n",
    "df = pd.DataFrame()\n",
    "\n",
    "columnsList = ['in_ReportingUnitNativeID', 'geometry']\n",
    "goutdf1 = pd.DataFrame(columns=columnsList, index=gdfin1.index)\n",
    "\n",
    "goutdf1['in_ReportingUnitNativeID'] = \"GWD\" + gdfin1[\"OBJECTID\"].astype(str)  # in_ReportingUnitNativeID needs to match source from above equivlaent datframe\n",
    "goutdf1['geometry'] = gdfin1['geometry']\n",
    "goutdf1 = goutdf1.drop_duplicates().reset_index(drop=True)\n",
    "print(len(goutdf1))\n",
    "goutdf1.head()"
   ]
  },
  {
   "cell_type": "markdown",
   "metadata": {},
   "source": [
    "### Groundwater Management Areas data"
   ]
  },
  {
   "cell_type": "code",
   "execution_count": null,
   "metadata": {},
   "outputs": [],
   "source": [
    "# Input File\n",
    "shapeInputFile = \"RawInputData/shapefiles/Groundwater_Management_Areas/Groundwater_Management_Areas.shp\"\n",
    "gdfin2 = gpd.read_file(shapeInputFile)\n",
    "\n",
    "# Realign Geometry Projection\n",
    "gdfin2['geometry'] = dfin2['geometry'].to_crs(epsg=4326)\n",
    "\n",
    "print(len(gdfin2))\n",
    "gdfin2.head()"
   ]
  },
  {
   "cell_type": "code",
   "execution_count": null,
   "metadata": {},
   "outputs": [],
   "source": [
    "# plot shape info to map\n",
    "gdfin2.plot()"
   ]
  },
  {
   "cell_type": "code",
   "execution_count": null,
   "metadata": {},
   "outputs": [],
   "source": [
    "# create output for Regulatory Area #1 dataframe\n",
    "df = pd.DataFrame()\n",
    "\n",
    "columnsList = ['in_ReportingUnitNativeID', 'geometry']\n",
    "goutdf2 = pd.DataFrame(columns=columnsList, index=gdfin2.index)\n",
    "\n",
    "goutdf2['in_ReportingUnitNativeID'] = \"GWMA\" + gdfin2[\"OBJECTID\"].astype(str)  # in_ReportingUnitNativeID needs to match source from above equivlaent datframe\n",
    "goutdf2['geometry'] = gdfin2['geometry']\n",
    "goutdf2 = goutdf2.drop_duplicates().reset_index(drop=True)\n",
    "print(len(goutdf2))\n",
    "goutdf2.head()"
   ]
  },
  {
   "cell_type": "markdown",
   "metadata": {},
   "source": [
    "### Aquifer Recharge District data"
   ]
  },
  {
   "cell_type": "code",
   "execution_count": null,
   "metadata": {},
   "outputs": [],
   "source": [
    "# Input File\n",
    "shapeInputFile = \"RawInputData/shapefiles/Lower_Snake_River_Aquifer_Recharge_District/Lower_Snake_River_Aquifer_Recharge_District.shp\"\n",
    "gdfin3 = gpd.read_file(shapeInputFile)\n",
    "\n",
    "# Realign Geometry Projection\n",
    "gdfin3['geometry'] = dfin3['geometry'].to_crs(epsg=4326)\n",
    "\n",
    "print(len(gdfin3))\n",
    "gdfin3.head()"
   ]
  },
  {
   "cell_type": "code",
   "execution_count": null,
   "metadata": {},
   "outputs": [],
   "source": [
    "# plot shape info to map\n",
    "gdfin3.plot()"
   ]
  },
  {
   "cell_type": "code",
   "execution_count": null,
   "metadata": {},
   "outputs": [],
   "source": [
    "# create output for Regulatory Area #1 dataframe\n",
    "df = pd.DataFrame()\n",
    "\n",
    "columnsList = ['in_ReportingUnitNativeID', 'geometry']\n",
    "goutdf3 = pd.DataFrame(columns=columnsList, index=gdfin2.index)\n",
    "\n",
    "goutdf3['in_ReportingUnitNativeID'] = \"ARD\" + gdfin3[\"OBJECTID\"].astype(str)  # in_ReportingUnitNativeID needs to match source from above equivlaent datframe\n",
    "goutdf3['geometry'] = gdfin3['geometry']\n",
    "goutdf3 = goutdf3.drop_duplicates().reset_index(drop=True)\n",
    "print(len(goutdf3))\n",
    "goutdf3.head()"
   ]
  },
  {
   "cell_type": "markdown",
   "metadata": {},
   "source": [
    "### Concatenate goutdf shapefile info into single output"
   ]
  },
  {
   "cell_type": "code",
   "execution_count": null,
   "metadata": {},
   "outputs": [],
   "source": [
    "# Concatenate Basin & Subbasin DataFrames\n",
    "frames = [goutdf1, goutdf2, goutdf3] # add geoutdf dataframes here\n",
    "goutdf = pd.concat(frames).reset_index(drop=True)\n",
    "\n",
    "print(len(goutdf))\n",
    "goutdf.head()"
   ]
  },
  {
   "cell_type": "markdown",
   "metadata": {},
   "source": [
    "### Inspect Output Data & Export"
   ]
  },
  {
   "cell_type": "code",
   "execution_count": null,
   "metadata": {},
   "outputs": [],
   "source": [
    "with pd.option_context('display.max_rows', None, 'display.max_columns', None):\n",
    "    print(outdf.dtypes)"
   ]
  },
  {
   "cell_type": "code",
   "execution_count": null,
   "metadata": {},
   "outputs": [],
   "source": [
    "with pd.option_context('display.max_rows', None, 'display.max_columns', None):\n",
    "    print(goutdf.dtypes)"
   ]
  },
  {
   "cell_type": "code",
   "execution_count": null,
   "metadata": {},
   "outputs": [],
   "source": [
    "# Export out to CSV.\n",
    "outdf.to_csv('RawInputData/Pre_Main.zip', compression=dict(method='zip', archive_name='Pre_Main.csv'), index=False)  # The output, save as a zip\n",
    "goutdf.to_csv('RawInputData/P_Geometry.zip', compression=dict(method='zip', archive_name='P_Geometry.csv'), index=False)  # The output geometry."
   ]
  },
  {
   "cell_type": "code",
   "execution_count": null,
   "metadata": {},
   "outputs": [],
   "source": []
  }
 ],
 "metadata": {
  "kernelspec": {
   "display_name": "Python 3 (ipykernel)",
   "language": "python",
   "name": "python3"
  },
  "language_info": {
   "codemirror_mode": {
    "name": "ipython",
    "version": 3
   },
   "file_extension": ".py",
   "mimetype": "text/x-python",
   "name": "python",
   "nbconvert_exporter": "python",
   "pygments_lexer": "ipython3",
   "version": "3.9.18"
  }
 },
 "nbformat": 4,
 "nbformat_minor": 4
}
