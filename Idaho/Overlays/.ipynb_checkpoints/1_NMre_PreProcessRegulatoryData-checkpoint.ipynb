{
 "cells": [
  {
   "cell_type": "markdown",
   "metadata": {},
   "source": [
    "# Preprocessing New Mexico Regulatory data for WaDE upload.\n",
    "- Purpose:  To preprocess the New Mexico data into one master file for simple DataFrame creation and extraction."
   ]
  },
  {
   "cell_type": "code",
   "execution_count": null,
   "metadata": {},
   "outputs": [],
   "source": [
    "#Needed Libararies\n",
    "\n",
    "# working with data\n",
    "import os\n",
    "import numpy as np\n",
    "import pandas as pd\n",
    "import geopandas as gpd\n",
    "\n",
    "# visulizaiton\n",
    "import matplotlib.pyplot as plt\n",
    "import seaborn as sns\n",
    "\n",
    "# API retrieval\n",
    "import requests\n",
    "import json\n",
    "\n",
    "# Cleanup\n",
    "import re\n",
    "from datetime import date\n",
    "pd.set_option('display.max_columns', 999)  # How to display all columns of a Pandas DataFrame in Jupyter Notebook\n",
    "pd.set_option('display.float_format', lambda x: '%.5f' % x) # suppress scientific notation in Pandas"
   ]
  },
  {
   "cell_type": "code",
   "execution_count": null,
   "metadata": {},
   "outputs": [],
   "source": [
    "# Working Directory\n",
    "workingDir = \"G:/Shared drives/WaDE Data/NewMexico/Regulatory/RawInputData\"\n",
    "os.chdir(workingDir)"
   ]
  },
  {
   "cell_type": "markdown",
   "metadata": {},
   "source": [
    "## Interstate Stream Compact Regions"
   ]
  },
  {
   "cell_type": "code",
   "execution_count": null,
   "metadata": {},
   "outputs": [],
   "source": [
    "# Input File - OSEWaterRightDistrictBoundary_input.csv\n",
    "df_iscr = pd.read_csv('Interstate Stream Compact Regions/InterstateStreamCompactRegions_input.zip', compression='zip')\n",
    "\n",
    "# WaDE UUID tracker for data assessment\n",
    "if 'WaDEUUID' not in df_iscr:\n",
    "    df_iscr['WaDEUUID'] = \"nmiscr\" + df_iscr.index.astype(str)\n",
    "    df_iscr.to_csv('Interstate Stream Compact Regions/InterstateStreamCompactRegions_input.zip', compression=dict(method='zip', archive_name='InterstateStreamCompactRegions_input.csv'), index=False)\n",
    "\n",
    "print(len(df_iscr))\n",
    "df_iscr.head(1)"
   ]
  },
  {
   "cell_type": "code",
   "execution_count": null,
   "metadata": {},
   "outputs": [],
   "source": [
    "# create output POD dataframe\n",
    "df = pd.DataFrame()\n",
    "\n",
    "# Data Assessment UUID\n",
    "df['WaDEUUID'] = df_iscr['WaDEUUID']\n",
    "\n",
    "# Date Info\n",
    "df['in_Date'] = date.today().strftime('%m/%d')\n",
    "df['in_Year'] = date.today().strftime('%Y')\n",
    "\n",
    "# Organization\n",
    "df['in_OrganizationUUID'] = \"NMwr_O1\"\n",
    "\n",
    "# ReportingUnit Info\n",
    "df['in_EPSGCodeCV'] = \"4326\"\n",
    "df['in_ReportingUnitName'] = df_iscr['Full_Name']\n",
    "df['in_ReportingUnitNativeID'] = \"ISCR\" + df_iscr['OID_'].replace(\"\", 0).fillna(0).astype(int).astype(str)\n",
    "df['in_ReportingUnitProductVersion'] = \"\"\n",
    "df['in_ReportingUnitTypeCV'] = \"Interstate River Compact\"\n",
    "df['in_ReportingUnitUpdateDate'] = \"\"\n",
    "df['in_StateCV'] = \"NM\"\n",
    "df['in_Geometry'] = \"\"\n",
    "\n",
    "# RegulatoryOverlay Info\n",
    "df['in_OversightAgency'] = \"WaDE Unspecfied\"\n",
    "df['in_RegulatoryDescription'] = df_iscr['RegulatoryDescription']\n",
    "df['in_RegulatoryName'] = df_iscr['Full_Name']\n",
    "df['in_RegulatoryOverlayNativeID'] = \"ISCR\" # make custom below\n",
    "df['in_RegulatoryStatusCV'] = \"Active\"\n",
    "df['in_RegulatoryStatute'] = \"\"\n",
    "df['in_RegulatoryStatuteLink'] = df_iscr['URL']\n",
    "df['in_StatutoryEffectiveDate'] = df_iscr['EffectiveDate']\n",
    "df['in_StatutoryEndDate'] = \"\"\n",
    "df['in_RegulatoryOverlayTypeCV'] = \"Interstate River Compact\"\n",
    "df['in_WaterSourceTypeCV'] = \"Surface Water\"\n",
    "\n",
    "\n",
    "df = df.drop_duplicates().reset_index(drop=True)\n",
    "outdf_iscr = df.copy()\n",
    "print(len(outdf_iscr))\n",
    "outdf_iscr.head()"
   ]
  },
  {
   "cell_type": "markdown",
   "metadata": {},
   "source": [
    "## OSE Water Right District Boundary"
   ]
  },
  {
   "cell_type": "code",
   "execution_count": null,
   "metadata": {},
   "outputs": [],
   "source": [
    "# Input File - OSEWaterRightDistrictBoundary_input.csv\n",
    "df_ose = pd.read_csv('OSE Water Right District Boundary/OSEWaterRightDistrictBoundary_input.csv')\n",
    "\n",
    "# WaDE UUID tracker for data assessment\n",
    "if 'WaDEUUID' not in df_ose:\n",
    "    df_ose['WaDEUUID'] = \"nmiscr\" + df_ose.index.astype(str)\n",
    "    df_ose.to_csv('OSE Water Right District Boundary/OSEWaterRightDistrictBoundary_input.csv', index=False)\n",
    "\n",
    "print(len(df_ose))\n",
    "df_ose.head(1)"
   ]
  },
  {
   "cell_type": "code",
   "execution_count": null,
   "metadata": {},
   "outputs": [],
   "source": [
    "# create output POD dataframe\n",
    "df = pd.DataFrame()\n",
    "\n",
    "# Data Assessment UUID\n",
    "df['WaDEUUID'] = df_ose['WaDEUUID']\n",
    "\n",
    "# Date Info\n",
    "df['in_Date'] = date.today().strftime('%m/%d')\n",
    "df['in_Year'] = date.today().strftime('%Y')\n",
    "\n",
    "# Organization\n",
    "df['in_OrganizationUUID'] = \"NMwr_O1\"\n",
    "\n",
    "# ReportingUnit Info\n",
    "df['in_EPSGCodeCV'] = \"4326\"\n",
    "df['in_ReportingUnitName'] = df_ose['name']\n",
    "df['in_ReportingUnitNativeID'] = \"OSEWRB\" + df_ose['ose_dist_i'].replace(\"\", 0).fillna(0).astype(int).astype(str)\n",
    "df['in_ReportingUnitProductVersion'] = \"\"\n",
    "df['in_ReportingUnitTypeCV'] = \"Water Rights District\"\n",
    "df['in_ReportingUnitUpdateDate'] = \"\"\n",
    "df['in_StateCV'] = \"NM\"\n",
    "df['in_Geometry'] = \"\"\n",
    "\n",
    "# RegulatoryOverlay Info\n",
    "df['in_OversightAgency'] = \"WaDE Unspecfied\"\n",
    "df['in_RegulatoryDescription'] = \"District operated by a Water Master appointed by the Office of the State Engineer, who is charged with administering the state's water resources. The State Engineer has authority over the supervision, measurement, appropriation, and distribution of all surface and groundwater in New Mexico, including streams and rivers that cross state boundaries.\"\n",
    "df['in_RegulatoryName'] = df_ose['name']\n",
    "df['in_RegulatoryOverlayNativeID'] = \"OSEWR\" # make custom below\n",
    "df['in_RegulatoryStatusCV'] = \"Active\"\n",
    "df['in_RegulatoryStatute'] = \"\"\n",
    "df['in_RegulatoryStatuteLink'] = df_ose['URL']\n",
    "df['in_StatutoryEffectiveDate'] = \"08/12/2021\"\n",
    "df['in_StatutoryEndDate'] = \"\"\n",
    "df['in_RegulatoryOverlayTypeCV'] = \"Water Rights District\"\n",
    "df['in_WaterSourceTypeCV'] = \"Surface Water and Groundwater\"\n",
    "\n",
    "df = df.drop_duplicates().reset_index(drop=True)\n",
    "outdf_ose = df.copy()\n",
    "print(len(outdf_ose))\n",
    "outdf_ose.head()"
   ]
  },
  {
   "cell_type": "markdown",
   "metadata": {},
   "source": [
    "## Special Conditions Water Right"
   ]
  },
  {
   "cell_type": "code",
   "execution_count": null,
   "metadata": {},
   "outputs": [],
   "source": [
    "# Input File - SpecialConditionsWaterRight_input.csv\n",
    "df_scwr = pd.read_csv(\"Special Conditions Water Right Regulations/SpecialConditionsWaterRight_input.csv\", encoding = \"ISO-8859-1\")\n",
    "\n",
    "# WaDE UUID tracker for data assessment\n",
    "if 'WaDEUUID' not in df_scwr:\n",
    "    df_scwr['WaDEUUID'] = \"nmscwr\" + df_scwr.index.astype(str)\n",
    "    df_scwr.to_csv('Special Conditions Water Right Regulations/SpecialConditionsWaterRight_input.csv', index=False)\n",
    "\n",
    "print(len(df_scwr))\n",
    "df_scwr.head(1)"
   ]
  },
  {
   "cell_type": "code",
   "execution_count": null,
   "metadata": {},
   "outputs": [],
   "source": [
    "# create output POD dataframe\n",
    "df = pd.DataFrame()\n",
    "\n",
    "# Data Assessment UUID\n",
    "df['WaDEUUID'] = df_scwr['WaDEUUID']\n",
    "\n",
    "# Date Info\n",
    "df['in_Date'] = date.today().strftime('%m/%d')\n",
    "df['in_Year'] = date.today().strftime('%Y')\n",
    "\n",
    "# Organization\n",
    "df['in_OrganizationUUID'] = \"NMwr_O1\"\n",
    "\n",
    "# # ReportingUnit Info\n",
    "df['in_EPSGCodeCV'] = \"4326\"\n",
    "df['in_ReportingUnitName'] = df_scwr['Name']\n",
    "df['in_ReportingUnitNativeID'] = \"SCWR\" + df_scwr['OID_'].replace(\"\", 0).fillna(0).astype(int).astype(str)\n",
    "df['in_ReportingUnitProductVersion'] = \"\"\n",
    "df['in_ReportingUnitTypeCV'] = \"Special Condition Water Right\"\n",
    "df['in_ReportingUnitUpdateDate'] = \"\"\n",
    "df['in_StateCV'] = \"NM\"\n",
    "df['in_Geometry'] = \"\"\n",
    "\n",
    "# # RegulatoryOverlay Info\n",
    "df['in_OversightAgency'] = \"WaDE Unspecified\"\n",
    "df['in_RegulatoryDescription'] = df_scwr['requiremen']\n",
    "df['in_RegulatoryName'] = df_scwr['Name']\n",
    "df['in_RegulatoryOverlayNativeID'] = \"SCWR\" # make custom below\n",
    "df['in_RegulatoryStatusCV'] = \"Active\"\n",
    "df['in_RegulatoryStatute'] = \"\"\n",
    "df['in_RegulatoryStatuteLink'] = \"WaDE Unspecified\"\n",
    "df['in_StatutoryEffectiveDate'] = df_scwr['effect_dat']\n",
    "df['in_StatutoryEndDate'] = \"\"\n",
    "df['in_RegulatoryOverlayTypeCV'] = \"Special Condition Water Right\"\n",
    "df['in_WaterSourceTypeCV'] = \"Surface Water and Groundwater\"\n",
    "\n",
    "df = df.drop_duplicates().reset_index(drop=True)\n",
    "outdf_scwr = df.copy()\n",
    "print(len(outdf_scwr))\n",
    "outdf_scwr.head()"
   ]
  },
  {
   "cell_type": "markdown",
   "metadata": {},
   "source": [
    "## Clean Data and Concatenate DataFrames together into single output"
   ]
  },
  {
   "cell_type": "code",
   "execution_count": null,
   "metadata": {},
   "outputs": [],
   "source": [
    "# make custom in_RegulatoryOverlayNativeID\n",
    "\n",
    "outdf_iscr['in_RegulatoryOverlayNativeID'] = outdf_iscr['in_RegulatoryOverlayNativeID'].astype(str) + outdf_iscr.index.astype(str)\n",
    "outdf_ose['in_RegulatoryOverlayNativeID'] = outdf_ose['in_RegulatoryOverlayNativeID'].astype(str) + outdf_ose.index.astype(str)\n",
    "outdf_scwr['in_RegulatoryOverlayNativeID'] = outdf_scwr['in_RegulatoryOverlayNativeID'].astype(str) + outdf_scwr.index.astype(str)"
   ]
  },
  {
   "cell_type": "code",
   "execution_count": null,
   "metadata": {},
   "outputs": [],
   "source": [
    "# Concatenate Subbasin DataFrames\n",
    "frames = [outdf_iscr, outdf_ose, outdf_scwr]\n",
    "outdf = pd.concat(frames)\n",
    "print(len(outdf))\n",
    "outdf.head(1)"
   ]
  },
  {
   "cell_type": "code",
   "execution_count": null,
   "metadata": {
    "scrolled": true
   },
   "outputs": [],
   "source": [
    "# Fixing empty string names\n",
    "def fixEmptyString(val):\n",
    "    val = str(val).strip()\n",
    "    if val == \"\" or val == \" \" or pd.isnull(val):\n",
    "        outString = \"WaDE Unspecified\"\n",
    "    else:\n",
    "        outString = val\n",
    "    return outString"
   ]
  },
  {
   "cell_type": "code",
   "execution_count": null,
   "metadata": {},
   "outputs": [],
   "source": [
    "outdf['in_ReportingUnitName'] = df.apply(lambda row: fixEmptyString(row['in_ReportingUnitName']), axis=1)\n",
    "outdf['in_ReportingUnitName'].unique()"
   ]
  },
  {
   "cell_type": "code",
   "execution_count": null,
   "metadata": {},
   "outputs": [],
   "source": [
    "outdf['in_RegulatoryDescription'] = df.apply(lambda row: fixEmptyString(row['in_RegulatoryDescription']), axis=1)\n",
    "outdf['in_RegulatoryDescription'].unique()"
   ]
  },
  {
   "cell_type": "code",
   "execution_count": null,
   "metadata": {},
   "outputs": [],
   "source": [
    "outdf['in_RegulatoryName'] = df.apply(lambda row: fixEmptyString(row['in_RegulatoryName']), axis=1)\n",
    "outdf['in_RegulatoryName'].unique()"
   ]
  },
  {
   "cell_type": "markdown",
   "metadata": {},
   "source": [
    "# Shapefile Data"
   ]
  },
  {
   "cell_type": "markdown",
   "metadata": {},
   "source": [
    "### Interstate Stream Compact Regions"
   ]
  },
  {
   "cell_type": "code",
   "execution_count": null,
   "metadata": {},
   "outputs": [],
   "source": [
    "ISCRShapeFile = \"Interstate Stream Compact Regions/shapefile/InterstateStreamCompactRegions.zip\"\n",
    "ISCRShape = gpd.read_file(ISCRShapeFile)\n",
    "print(len(ISCRShape))\n",
    "ISCRShape.head(1)"
   ]
  },
  {
   "cell_type": "code",
   "execution_count": null,
   "metadata": {},
   "outputs": [],
   "source": [
    "ISCRShape.plot()"
   ]
  },
  {
   "cell_type": "code",
   "execution_count": null,
   "metadata": {},
   "outputs": [],
   "source": [
    "# Interstate Stream Compact Regions\n",
    "columnsList = ['in_SiteNativeID', 'geometry']\n",
    "df_ISCR_shp = pd.DataFrame(columns=columnsList, index=ISCRShape.index)\n",
    "\n",
    "df_ISCR_shp['in_ReportingUnitNativeID'] = \"ISCR\" + ISCRShape.index.fillna(0).astype(int).astype(str)\n",
    "df_ISCR_shp['geometry'] = ISCRShape['geometry']\n",
    "df_ISCR_shp = df_ISCR_shp.drop_duplicates().reset_index(drop=True)\n",
    "print(len(df_ISCR_shp))\n",
    "df_ISCR_shp.head(3)"
   ]
  },
  {
   "cell_type": "code",
   "execution_count": null,
   "metadata": {},
   "outputs": [],
   "source": [
    "# # Interstate Stream Compact Regions\n",
    "\n",
    "# ISCRShapeFile = \"Interstate Stream Compact Regions/shapefile/InterstateStreamCompactRegions.zip\"\n",
    "# ISCRShape = gpd.read_file(ISCRShapeFile)\n",
    "\n",
    "# columnList = ['in_ReportingUnitName', \n",
    "#               'in_ReportingUnitNativeID',\n",
    "#               'in_ReportingUnitTypeCV',\n",
    "#               'in_Geomerty']\n",
    "# df_ISCR_shp = pd.DataFrame(columns=columnList, index=ISCRShape.index)\n",
    "\n",
    "# df_ISCR_shp['in_ReportingUnitName'] = ISCRShape['Full_Name']\n",
    "# df_ISCR_shp['in_ReportingUnitNativeID'] = ISCRShape.index.fillna(0).astype(int).astype(str)\n",
    "# df_ISCR_shp['in_ReportingUnitTypeCV'] = \"Interstate River Compact\"\n",
    "# df_ISCR_shp['in_Geomerty'] = ISCRShape['geometry']\n",
    "\n",
    "# print(len(df_ISCR_shp))\n",
    "# df_ISCR_shp.head(3)"
   ]
  },
  {
   "cell_type": "markdown",
   "metadata": {},
   "source": [
    "### OSE Water Right District Boundary"
   ]
  },
  {
   "cell_type": "code",
   "execution_count": null,
   "metadata": {},
   "outputs": [],
   "source": [
    "EWRDhapeFile = \"OSE Water Right District Boundary/shapefile/OSEWaterRightDistrictBoundary.shp\"\n",
    "EWRDShape = gpd.read_file(EWRDhapeFile)\n",
    "print(len(EWRDShape))\n",
    "EWRDShape.head(1)"
   ]
  },
  {
   "cell_type": "code",
   "execution_count": null,
   "metadata": {},
   "outputs": [],
   "source": [
    "EWRDShape.plot()"
   ]
  },
  {
   "cell_type": "code",
   "execution_count": null,
   "metadata": {},
   "outputs": [],
   "source": [
    "# OSE Water Right District Boundary\n",
    "columnsList = ['in_SiteNativeID', 'geometry']\n",
    "df_EWRD_shp = pd.DataFrame(columns=columnsList, index=EWRDShape.index)\n",
    "\n",
    "df_EWRD_shp['in_ReportingUnitNativeID'] = \"OSEWRB\" + EWRDShape['ose_dist_i'].replace(\"\", 0).fillna(0).astype(int).astype(str)\n",
    "df_EWRD_shp['geometry'] = EWRDShape['geometry']\n",
    "df_EWRD_shp = df_EWRD_shp.drop_duplicates().reset_index(drop=True)\n",
    "print(len(df_EWRD_shp))\n",
    "df_EWRD_shp.head(3)"
   ]
  },
  {
   "cell_type": "code",
   "execution_count": null,
   "metadata": {},
   "outputs": [],
   "source": [
    "# # OSE Water Right District Boundary\n",
    "\n",
    "# columnList = ['in_ReportingUnitName', \n",
    "#               'in_ReportingUnitNativeID',\n",
    "#               'in_ReportingUnitTypeCV',\n",
    "#               'in_Geomerty']\n",
    "# df_EWRD_shp = pd.DataFrame(columns=columnList, index=EWRDShape.index)\n",
    "\n",
    "# df_EWRD_shp['in_ReportingUnitName'] = EWRDShape['name']\n",
    "# df_EWRD_shp['in_ReportingUnitNativeID'] = EWRDShape['ose_dist_i'].replace(\"\", 0).fillna(0).astype(int).astype(str)\n",
    "# df_EWRD_shp['in_ReportingUnitTypeCV'] = \"Water Rights District\"\n",
    "# df_EWRD_shp['in_Geomerty'] = EWRDShape['geometry']\n",
    "\n",
    "# print(len(df_EWRD_shp))\n",
    "# df_EWRD_shp.head(3)"
   ]
  },
  {
   "cell_type": "markdown",
   "metadata": {},
   "source": [
    "### Special Conditoins Water Right"
   ]
  },
  {
   "cell_type": "code",
   "execution_count": null,
   "metadata": {},
   "outputs": [],
   "source": [
    "SCWRShapeFile = \"Special Conditions Water Right Regulations/shapefile/SpecialConditionsWaterRightRegulations.shp\"\n",
    "SCWRShape = gpd.read_file(SCWRShapeFile)\n",
    "print(len(SCWRShape))\n",
    "SCWRShape.head(1)"
   ]
  },
  {
   "cell_type": "code",
   "execution_count": null,
   "metadata": {},
   "outputs": [],
   "source": [
    "SCWRShape.plot()"
   ]
  },
  {
   "cell_type": "code",
   "execution_count": null,
   "metadata": {},
   "outputs": [],
   "source": [
    "# Special Conditoins Water Right\n",
    "columnsList = ['in_SiteNativeID', 'geometry']\n",
    "df_SCWR_shp = pd.DataFrame(columns=columnsList, index=SCWRShape.index)\n",
    "\n",
    "df_SCWR_shp['in_ReportingUnitNativeID'] = \"SCWR\" + SCWRShape.index.fillna(0).astype(int).astype(str)\n",
    "df_SCWR_shp['geometry'] = SCWRShape['geometry']\n",
    "df_SCWR_shp = df_SCWR_shp.drop_duplicates().reset_index(drop=True)\n",
    "print(len(df_SCWR_shp))\n",
    "df_SCWR_shp.head(3)"
   ]
  },
  {
   "cell_type": "code",
   "execution_count": null,
   "metadata": {},
   "outputs": [],
   "source": [
    "# # Special Conditoins Water Right\n",
    "\n",
    "# columnList = ['in_ReportingUnitName', \n",
    "#               'in_ReportingUnitNativeID',\n",
    "#               'in_ReportingUnitTypeCV',\n",
    "#               'in_Geomerty']\n",
    "# df_SCWR_shp = pd.DataFrame(columns=columnList, index=SCWRShape.index)\n",
    "\n",
    "# df_SCWR_shp['in_ReportingUnitName'] = SCWRShape['Name']\n",
    "# df_SCWR_shp['in_ReportingUnitNativeID'] = SCWRShape.index.fillna(0).astype(int).astype(str)\n",
    "# df_SCWR_shp['in_ReportingUnitTypeCV'] = \"Special Condition Water Right\"\n",
    "# df_SCWR_shp['in_Geomerty'] = SCWRShape['geometry']\n",
    "\n",
    "# print(len(df_SCWR_shp))\n",
    "# df_SCWR_shp.head(3)"
   ]
  },
  {
   "cell_type": "code",
   "execution_count": null,
   "metadata": {},
   "outputs": [],
   "source": [
    "# Concatenate Basin & Subbasin DataFrames\n",
    "frames = [df_ISCR_shp, df_EWRD_shp, df_SCWR_shp]\n",
    "df_shape_out = pd.concat(frames).reset_index(drop=True)\n",
    "\n",
    "print(len(df_shape_out))\n",
    "df_shape_out"
   ]
  },
  {
   "cell_type": "markdown",
   "metadata": {},
   "source": [
    "### Inspect Output Data & Export"
   ]
  },
  {
   "cell_type": "code",
   "execution_count": null,
   "metadata": {
    "scrolled": false
   },
   "outputs": [],
   "source": [
    "with pd.option_context('display.max_rows', None, 'display.max_columns', None):\n",
    "    print(outdf.dtypes)"
   ]
  },
  {
   "cell_type": "code",
   "execution_count": null,
   "metadata": {},
   "outputs": [],
   "source": [
    "with pd.option_context('display.max_rows', None, 'display.max_columns', None):\n",
    "    print(df_shape_out.dtypes)"
   ]
  },
  {
   "cell_type": "code",
   "execution_count": null,
   "metadata": {},
   "outputs": [],
   "source": [
    "# Export out to CSV.\n",
    "outdf.to_csv('Pre_nmMain.zip', index=False, compression=\"zip\")  # The output, save as a zip\n",
    "df_shape_out.to_csv('P_Geometry.zip', compression=dict(method='zip', archive_name='P_Geometry.csv'), index=False)  # The output geometry."
   ]
  },
  {
   "cell_type": "code",
   "execution_count": null,
   "metadata": {},
   "outputs": [],
   "source": []
  },
  {
   "cell_type": "code",
   "execution_count": null,
   "metadata": {},
   "outputs": [],
   "source": []
  }
 ],
 "metadata": {
  "kernelspec": {
   "display_name": "Python 3 (ipykernel)",
   "language": "python",
   "name": "python3"
  },
  "language_info": {
   "codemirror_mode": {
    "name": "ipython",
    "version": 3
   },
   "file_extension": ".py",
   "mimetype": "text/x-python",
   "name": "python",
   "nbconvert_exporter": "python",
   "pygments_lexer": "ipython3",
   "version": "3.9.16"
  }
 },
 "nbformat": 4,
 "nbformat_minor": 4
}
