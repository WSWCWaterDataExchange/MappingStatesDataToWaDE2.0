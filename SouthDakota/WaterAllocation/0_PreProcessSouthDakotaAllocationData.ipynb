{
 "cells": [
  {
   "cell_type": "markdown",
   "metadata": {},
   "source": [
    "# Pre-processing South Dakota Allocation data for WaDEQA upload.\n",
    "Date Updated: 01/19/2021\n",
    "Purpose: To pre-process the South Dakota data into one master file for simple DataFrame creation and extraction\n",
    "\n",
    "Notes: N/A"
   ]
  },
  {
   "cell_type": "code",
   "execution_count": null,
   "metadata": {},
   "outputs": [],
   "source": [
    "#Needed Libararies\n",
    "import os\n",
    "import numpy as np\n",
    "import pandas as pd\n",
    "from datetime import datetime\n",
    "pd.set_option('display.max_columns', 999)  # How to display all columns of a Pandas DataFrame in Jupyter Notebook"
   ]
  },
  {
   "cell_type": "code",
   "execution_count": null,
   "metadata": {},
   "outputs": [],
   "source": [
    "#Working Directory and Input File\n",
    "workingDir = \"C:/Users/rjame/Documents/WSWC Documents/MappingStatesDataToWaDE2.0/SouthDakota/WaterAllocation/RawInputData\"\n",
    "os.chdir(workingDir)\n",
    "\n",
    "Input = \"waterights_input.csv\"\n",
    "df = pd.read_csv(Input)\n",
    "df.head(3)"
   ]
  },
  {
   "cell_type": "code",
   "execution_count": null,
   "metadata": {},
   "outputs": [],
   "source": [
    "#Update datatype of Priority Date to fit WaDE 2.0 structure\n",
    "df['PRIORDATE'] = pd.to_datetime(df['PRIORDATE'])\n",
    "df['PRIORDATE'] = pd.to_datetime(df[\"PRIORDATE\"].dt.strftime('%m/%d/%Y'))\n",
    "df.head(3)"
   ]
  },
  {
   "cell_type": "code",
   "execution_count": null,
   "metadata": {
    "scrolled": true
   },
   "outputs": [],
   "source": [
    "#Creating WaDE Owner Field.  \n",
    "\n",
    "def retrieveOwner(FN, LN):\n",
    "    FN = str(FN).strip()\n",
    "    LN = str(LN).strip()\n",
    "    outList = FN + \", \" + LN\n",
    "    return outList\n",
    "df['WaDEOwner'] = df.apply(lambda row: retrieveOwner(row['FIRST_NAME'], row['LAST_NAME']), axis=1)\n",
    "df.head(3)"
   ]
  },
  {
   "cell_type": "code",
   "execution_count": null,
   "metadata": {},
   "outputs": [],
   "source": [
    "#Creating Beneficial Use.\n",
    "#Need to translate SD abbreviatoins to a workable format.\n",
    "\n",
    "BenUseDict = {\n",
    "\"COM\" : \"Commercial\",\n",
    "\"DOM\" : \"Domestic\",\n",
    "\"FCP\" : \"Flood Control Permit\",\n",
    "\"FWP\" : \"Fish And Wildlife Propagation\",\n",
    "\"GEO\" : \"Geothermal\",\n",
    "\"GWR\" : \"Ground Water Remediation\",\n",
    "\"IND\" : \"Industrial\",\n",
    "\"INS\" : \"Institutional\",\n",
    "\"IRR\" : \"Irrigation\",\n",
    "\"MUN\" : \"Municipal\",\n",
    "\"REC\" : \"Recreation\",\n",
    "\"RWS\" : \"Rural Water System\",\n",
    "\"SHD\" : \"Suburban Housing Development\"}\n",
    "\n",
    "def retrieveBenUse(A, B, C, D):\n",
    "    A = str(A).strip()\n",
    "    B = str(B).strip()\n",
    "    C = str(C).strip()\n",
    "    D = str(D).strip()\n",
    "\n",
    "    if A == \"\":\n",
    "        outA = \"\"\n",
    "    else:\n",
    "        try:\n",
    "            outA = BenUseDict[A]\n",
    "        except:\n",
    "            outA = \"Unspecified\"\n",
    "\n",
    "    if B == \"\":\n",
    "        outB = \"\"\n",
    "    else:\n",
    "        try:\n",
    "            outB = \", \" + BenUseDict[B]\n",
    "        except:\n",
    "            outB = \", \" + \"Unspecified\"\n",
    "\n",
    "    if C == \"\":\n",
    "        outC = \"\"\n",
    "    else:\n",
    "        try:\n",
    "            outC = \", \" + BenUseDict[C]\n",
    "        except:\n",
    "            outC = \", \" + \"Unspecified\"\n",
    "\n",
    "    if D == \"\":\n",
    "        outD = \"\"\n",
    "    else:\n",
    "        try:\n",
    "            outD = \", \" + BenUseDict[D]\n",
    "        except:\n",
    "            outD = \", \" + \"Unspecified\"\n",
    "\n",
    "    outList = outA + outB + outC + outD\n",
    "    outList = outList.strip()\n",
    "\n",
    "    return outList\n",
    "\n",
    "df['input_Benuse'] = df.apply(lambda row: retrieveBenUse(row['USE_TYPE1'], \n",
    "                                                          row['USE_TYPE2'], \n",
    "                                                          row['USE_TYPE4'], \n",
    "                                                          row['USE_TYPE5']), axis=1)\n",
    "df"
   ]
  },
  {
   "cell_type": "code",
   "execution_count": null,
   "metadata": {},
   "outputs": [],
   "source": [
    "#Creating SiteTypeDict field\n",
    "\n",
    "SiteTypeDict = {\n",
    "    \"S\" : \"Surface Water\",\n",
    "    \"G\" : \"Groundwater\",\n",
    "    \"B\" : \"Both\"}\n",
    "\n",
    "def retrieveSiteType(colrowValue):\n",
    "    if colrowValue == \"\" or pd.isnull(colrowValue):\n",
    "        outList = \"Unspecified\"\n",
    "    else:\n",
    "        String1 = str(colrowValue).strip()\n",
    "        try:\n",
    "            outList = SiteTypeDict[String1]\n",
    "        except:\n",
    "            outList = \"Unspecified\"\n",
    "    return outList\n",
    "\n",
    "df['input_SiteType'] = df.apply(lambda row: retrieveSiteType(row['SOURCE']), axis=1)\n",
    "df.head(3)"
   ]
  },
  {
   "cell_type": "code",
   "execution_count": null,
   "metadata": {},
   "outputs": [],
   "source": [
    "#Creating allocation status\n",
    "\n",
    "AlloStatusDict = {\n",
    "\"CA\" : \"Cancelled\",\n",
    "\"DF\" : \"Deferred\",\n",
    "\"DN\" : \"Denied\",\n",
    "\"FU\" : \"Future Use\",\n",
    "\"HD\" : \"Hold\",\n",
    "\"IP\" : \"Incorporated\",\n",
    "\"LC\" : \"License\",\n",
    "\"OC\" : \"Owner Change\",\n",
    "\"PE\" : \"Permit\",\n",
    "\"WI\" : \"Withdrawn\"}\n",
    "\n",
    "def retrieveStatus(colrowValue):\n",
    "    if colrowValue == \"\" or pd.isnull(colrowValue):\n",
    "        outList = \"Unspecified\"\n",
    "    else:\n",
    "        String1 = str(colrowValue).strip()\n",
    "        try:\n",
    "            outList = AlloStatusDict[String1]\n",
    "        except:\n",
    "            outList = \"Unspecified\"\n",
    "    return outList\n",
    "\n",
    "df['input_Status'] = df.apply(lambda row: retrieveStatus(row['STATUS']), axis=1)\n",
    "df.head(3)"
   ]
  },
  {
   "cell_type": "markdown",
   "metadata": {},
   "source": [
    "## WaDE Custom Elements (due to missing sate info)"
   ]
  },
  {
   "cell_type": "code",
   "execution_count": null,
   "metadata": {},
   "outputs": [],
   "source": [
    "# Creating WaDE Custom site native ID for easy site identificaiion\n",
    "# ----------------------------------------------------------------------------------------------------\n",
    "\n",
    "# Create temp SiteNativeID dataframe of unique site.\n",
    "def assignSiteUUID(colrowValue):\n",
    "    string1 = str(colrowValue)\n",
    "    outstring = \"WaDEWY_S\" + string1\n",
    "    return outstring\n",
    "\n",
    "dfSiteNativeID = pd.DataFrame()\n",
    "dfSiteNativeID['in_Latitude'] = df['LATITUDE']\n",
    "dfSiteNativeID['in_Longitude'] = df['LONGITUDE']\n",
    "dfSiteNativeID['in_SiteName'] = df['DIVERSION1']\n",
    "dfSiteNativeID = dfSiteNativeID.drop_duplicates()\n",
    "\n",
    "dftemp = pd.DataFrame(index=dfSiteNativeID.index)\n",
    "dftemp[\"Count\"] = range(1, len(dftemp.index) + 1)\n",
    "dfSiteNativeID['in_SiteNativeID'] = dftemp.apply(lambda row: assignSiteUUID(row['Count']), axis=1)\n",
    "\n",
    "# ----------------------------------------------------------------------------------------------------\n",
    "\n",
    "# Retreive WaDE Custom site native ID\n",
    "def retrieveSiteNativeID(A, B, D):\n",
    "    if (A == '' and B == '') or (pd.isnull(A) and pd.isnull(B)):\n",
    "        outList = ''\n",
    "    else:\n",
    "        ml = dfSiteNativeID.loc[(dfSiteNativeID['in_Latitude'] == A) & \n",
    "                                (dfSiteNativeID['in_Longitude'] == B) &\n",
    "                                (dfSiteNativeID['in_SiteName'] == D), 'in_SiteNativeID']\n",
    "        if not (ml.empty):  # check if the series is empty\n",
    "            outList = ml.iloc[0]\n",
    "        else:\n",
    "            outList = ''\n",
    "    return outList\n",
    "\n",
    "df['in_SiteNativeID'] = df.apply(lambda row: retrieveSiteNativeID( row['LATITUDE'], row['LONGITUDE'], row['DIVERSION1']), axis=1)\n",
    "df"
   ]
  },
  {
   "cell_type": "code",
   "execution_count": null,
   "metadata": {},
   "outputs": [],
   "source": [
    "# Creating WaDE Custom water source native ID for easy watersource identification\n",
    "# ----------------------------------------------------------------------------------------------------\n",
    "\n",
    "# Create temp WaterSourceNativeID dataframe of unique water source.\n",
    "def assignWaterSourceNativeID(colrowValue):\n",
    "    string1 = str(colrowValue)\n",
    "    outstring = \"WaDEWY_WS\" + string1\n",
    "    return outstring\n",
    "\n",
    "dfWaterSourceNativeID = pd.DataFrame()\n",
    "dfWaterSourceNativeID['in_WaterSourceName'] = df['BASIN']\n",
    "dfWaterSourceNativeID = dfWaterSourceNativeID.drop_duplicates()\n",
    "\n",
    "dftemp = pd.DataFrame(index=dfWaterSourceNativeID.index)\n",
    "dftemp[\"Count\"] = range(1, len(dftemp.index) + 1)\n",
    "dfWaterSourceNativeID['in_WaterSourceNativeID'] = dftemp.apply(lambda row: assignWaterSourceNativeID(row['Count']), axis=1)\n",
    "\n",
    "# ----------------------------------------------------------------------------------------------------\n",
    "\n",
    "# Retreive WaDE Custom water source native ID\n",
    "def retrieveWaterSourceNativeID(A):\n",
    "    if (A == '') or (pd.isnull(A)):\n",
    "        outList = ''\n",
    "    else:\n",
    "        ml = dfWaterSourceNativeID.loc[(dfWaterSourceNativeID['in_WaterSourceName'] == A), 'in_WaterSourceNativeID']\n",
    "        if not (ml.empty):  # check if the series is empty\n",
    "            outList = ml.iloc[0]\n",
    "        else:\n",
    "            outList = ''\n",
    "    return outList\n",
    "\n",
    "df['in_WaterSourceNativeID'] = df.apply(lambda row: retrieveWaterSourceNativeID( row['BASIN']), axis=1)\n",
    "df"
   ]
  },
  {
   "cell_type": "markdown",
   "metadata": {},
   "source": [
    "## Export Outputs"
   ]
  },
  {
   "cell_type": "code",
   "execution_count": null,
   "metadata": {},
   "outputs": [],
   "source": [
    "with pd.option_context('display.max_rows', None, 'display.max_columns', None):\n",
    "    print(df.dtypes)"
   ]
  },
  {
   "cell_type": "code",
   "execution_count": null,
   "metadata": {},
   "outputs": [],
   "source": [
    "#Exporting to Finished File\n",
    "df.to_csv('P_SouthDakotaMaster.csv', index=False)  # The output"
   ]
  },
  {
   "cell_type": "code",
   "execution_count": null,
   "metadata": {},
   "outputs": [],
   "source": []
  }
 ],
 "metadata": {
  "kernelspec": {
   "display_name": "Python 3",
   "language": "python",
   "name": "python3"
  },
  "language_info": {
   "codemirror_mode": {
    "name": "ipython",
    "version": 3
   },
   "file_extension": ".py",
   "mimetype": "text/x-python",
   "name": "python",
   "nbconvert_exporter": "python",
   "pygments_lexer": "ipython3",
   "version": "3.8.5"
  }
 },
 "nbformat": 4,
 "nbformat_minor": 2
}
