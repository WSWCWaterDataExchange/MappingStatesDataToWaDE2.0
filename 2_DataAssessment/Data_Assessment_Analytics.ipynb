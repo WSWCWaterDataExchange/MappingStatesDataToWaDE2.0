{
 "cells": [
  {
   "cell_type": "markdown",
   "id": "73baad61",
   "metadata": {},
   "source": [
    "# Data Assessment & Analytics"
   ]
  },
  {
   "cell_type": "code",
   "execution_count": 1,
   "id": "09368fb1",
   "metadata": {},
   "outputs": [],
   "source": [
    "#Needed Libararies\n",
    "\n",
    "# working with data\n",
    "import os\n",
    "import numpy as np\n",
    "import pandas as pd\n",
    "import geopandas as gpd\n",
    "\n",
    "# visulizaiton\n",
    "import matplotlib.pyplot as plt\n",
    "import seaborn as sns\n",
    "import plotly.express as px\n",
    "import geoplot as gplt # for plotting maps\n",
    "\n",
    "# API retrieval\n",
    "import requests\n",
    "import json\n",
    "\n",
    "# Cleanup\n",
    "from datetime import datetime\n",
    "pd.set_option('display.max_columns', 999)  # How to display all columns of a Pandas DataFrame in Jupyter Notebook"
   ]
  },
  {
   "cell_type": "markdown",
   "id": "7e8ee8e5",
   "metadata": {},
   "source": [
    "## Water Right Data"
   ]
  },
  {
   "cell_type": "code",
   "execution_count": 2,
   "id": "6ce08d7a",
   "metadata": {},
   "outputs": [
    {
     "name": "stdout",
     "output_type": "stream",
     "text": [
      "Current working directory: G:/Shared drives/WaDE Data/Idaho/WaterAllocation/ProcessedInputData\n"
     ]
    }
   ],
   "source": [
    "# #Setting work directory\n",
    "# workingDir = \"G:/Shared drives/WaDE Data/Idaho/WaterAllocation/ProcessedInputData\"\n",
    "# os.chdir(workingDir)\n",
    "# print(\"Current working directory: {0}\".format(workingDir))"
   ]
  },
  {
   "cell_type": "markdown",
   "id": "1c81847b",
   "metadata": {},
   "source": [
    "## Aggregated Amounts Data\n",
    "- timeseries data"
   ]
  },
  {
   "cell_type": "code",
   "execution_count": null,
   "id": "933d0509",
   "metadata": {},
   "outputs": [],
   "source": [
    "#Setting work directory\n",
    "workingDir = \"G:/Shared drives/WaDE Data/Colorado/AggregatedAmounts/ProcessedInputData\"\n",
    "os.chdir(workingDir)\n",
    "print(\"Current working directory: {0}\".format(workingDir))"
   ]
  },
  {
   "cell_type": "code",
   "execution_count": null,
   "id": "1b944b2f",
   "metadata": {},
   "outputs": [],
   "source": [
    "# fileInput = \"aggregatedamounts.csv\"\n",
    "# df = pd.read_csv(fileInput)\n",
    "# print(len(df))\n",
    "# df.head()"
   ]
  },
  {
   "cell_type": "code",
   "execution_count": null,
   "id": "c1b6d68f",
   "metadata": {},
   "outputs": [],
   "source": [
    "# # Plot All\n",
    "# df = df.sort_values(by=['ReportingUnitUUID', 'VariableSpecificUUID', 'ReportYearCV'])\n",
    "# fig = px.line(df, x=\"ReportYearCV\", y=\"Amount\", color='ReportingUnitUUID')\n",
    "# fig.show()"
   ]
  },
  {
   "cell_type": "code",
   "execution_count": null,
   "id": "8a29fe27",
   "metadata": {},
   "outputs": [],
   "source": [
    "# # Plot One Site\n",
    "# dfs1 = df.copy()\n",
    "# dfs1 = dfs1[dfs1['ReportingUnitUUID'] == 'CAag_RU3'].reset_index(drop=True)\n",
    "\n",
    "# fig = px.line(dfs1, x=\"ReportYearCV\", y=\"Amount\", color='VariableSpecificUUID')\n",
    "# fig.show()"
   ]
  },
  {
   "cell_type": "code",
   "execution_count": null,
   "id": "f208719f",
   "metadata": {},
   "outputs": [],
   "source": [
    "# Plotting Points\n",
    "# dftemp = dfru2.copy()\n",
    "# dftemp = dftemp[dftemp['State']=='UT'].reset_index(drop=True) # change state entry here\n",
    "# dftemp['geometry'] = gpd.GeoSeries.from_wkt(dftemp['geometry'], crs=\"EPSG:4326\")\n",
    "# gdftemp = gpd.GeoDataFrame(dftemp, geometry=dftemp['geometry'], crs=\"EPSG:4326\")\n",
    "#gplt.pointplot(gdf2)"
   ]
  },
  {
   "cell_type": "code",
   "execution_count": null,
   "id": "6f687701",
   "metadata": {},
   "outputs": [],
   "source": [
    "fileInput = \"reportingunits.csv\"\n",
    "dfru = pd.read_csv(fileInput)\n",
    "print(len(dfru))\n",
    "dfru.head()"
   ]
  },
  {
   "cell_type": "code",
   "execution_count": null,
   "id": "5ebc73b8",
   "metadata": {},
   "outputs": [],
   "source": [
    "#Plotting Polygons\n",
    "# checking for certain reportingunittypeCV\n",
    "\n",
    "gdfru = dfru.copy()\n",
    "#gdfru = gdfru[gdfru['ReportingUnitTypeCV'] == 'County'].reset_index(drop=True)\n",
    "gdfru['geometry'] = gpd.GeoSeries.from_wkt(gdfru['Geometry'], crs=\"EPSG:4326\")\n",
    "gdfru = gpd.GeoDataFrame(gdfru, geometry=gdfru['geometry'], crs=\"EPSG:4326\") # covert to geodataframe\n",
    "gplt.polyplot(gdfru, edgecolor='blue', facecolor='lightgray')"
   ]
  },
  {
   "cell_type": "code",
   "execution_count": null,
   "id": "6ef56d24",
   "metadata": {},
   "outputs": [],
   "source": [
    "#gdfru.to_file(\"checkShapefileNV.shp\") # export shape file"
   ]
  },
  {
   "cell_type": "markdown",
   "id": "521b5fda",
   "metadata": {},
   "source": [
    "## Site Spececific Amounts Data"
   ]
  },
  {
   "cell_type": "code",
   "execution_count": null,
   "id": "695bb0a4",
   "metadata": {},
   "outputs": [],
   "source": [
    "#Setting work directory\n",
    "workingDir = \"G:/Shared drives/WaDE Data/Texas/SS_ReservoirsObservationSites/ProcessedInputData\"\n",
    "os.chdir(workingDir)\n",
    "print(\"Current working directory: {0}\".format(workingDir))"
   ]
  },
  {
   "cell_type": "markdown",
   "id": "5a939dd5",
   "metadata": {},
   "source": [
    "#### variables"
   ]
  },
  {
   "cell_type": "code",
   "execution_count": null,
   "id": "b44fb7d3",
   "metadata": {},
   "outputs": [],
   "source": [
    "fileInput = \"variables.csv\"\n",
    "dfv = pd.read_csv(fileInput)\n",
    "print(len(dfv))\n",
    "dfv.head()"
   ]
  },
  {
   "cell_type": "markdown",
   "id": "b9cd1dbf",
   "metadata": {},
   "source": [
    "#### watersource"
   ]
  },
  {
   "cell_type": "code",
   "execution_count": null,
   "id": "0b3eed72",
   "metadata": {},
   "outputs": [],
   "source": [
    "fileInput = \"watersources.csv\"\n",
    "dfws = pd.read_csv(fileInput)\n",
    "print(len(dfws))\n",
    "dfws.head(1)"
   ]
  },
  {
   "cell_type": "markdown",
   "id": "91068bcd",
   "metadata": {},
   "source": [
    "#### Sites"
   ]
  },
  {
   "cell_type": "code",
   "execution_count": null,
   "id": "3b271da2",
   "metadata": {
    "scrolled": true
   },
   "outputs": [],
   "source": [
    "fileInput = \"sites.csv\"\n",
    "dfs = pd.read_csv(fileInput)\n",
    "print(len(dfs))\n",
    "dfs.head()"
   ]
  },
  {
   "cell_type": "code",
   "execution_count": null,
   "id": "39177039",
   "metadata": {},
   "outputs": [],
   "source": [
    "dfs['SiteTypeCV'].unique()"
   ]
  },
  {
   "cell_type": "code",
   "execution_count": null,
   "id": "038a4682",
   "metadata": {},
   "outputs": [],
   "source": [
    "# Mapping Site.csv Points\n",
    "gdfs = gpd.GeoDataFrame(dfs, geometry=gpd.points_from_xy(dfs.Longitude.astype(float), dfs.Latitude.astype(float)), crs=\"EPSG:4326\")\n",
    "gplt.pointplot(gdfs)"
   ]
  },
  {
   "cell_type": "markdown",
   "id": "93057e7d",
   "metadata": {},
   "source": [
    "#### sitespecificamounts"
   ]
  },
  {
   "cell_type": "code",
   "execution_count": null,
   "id": "858d0c6e",
   "metadata": {},
   "outputs": [],
   "source": [
    "fileInput = \"sitespecificamounts.csv\"\n",
    "dfsa = pd.read_csv(fileInput)\n",
    "print(len(dfsa))\n",
    "dfsa.sort_values(by=['SiteUUID', 'VariableSpecificUUID', \"ReportYearCV\", \"TimeframeStart\"])"
   ]
  },
  {
   "cell_type": "code",
   "execution_count": null,
   "id": "514a4954",
   "metadata": {
    "scrolled": true
   },
   "outputs": [],
   "source": [
    "dfsa['VariableSpecificUUID'].unique()"
   ]
  },
  {
   "cell_type": "code",
   "execution_count": null,
   "id": "8fe41f33",
   "metadata": {},
   "outputs": [],
   "source": [
    "# check for duplicate records\n",
    "dfsa2 = dfsa.copy()\n",
    "#df2 = df2.drop_duplicates(subset=['OrganizationUUID', 'SiteUUID', 'VariableSpecificUUID', 'BeneficialUseCategory', 'ReportYearCV'], keep='last')\n",
    "dfsa2 = dfsa2.drop_duplicates(subset=['OrganizationUUID', 'SiteUUID', 'VariableSpecificUUID', 'BeneficialUseCategory', 'ReportYearCV', 'TimeframeEnd', 'TimeframeStart'], keep='last')\n",
    "print(len(dfsa2))\n",
    "dfsa2.head()"
   ]
  },
  {
   "cell_type": "code",
   "execution_count": null,
   "id": "34685c3f",
   "metadata": {},
   "outputs": [],
   "source": [
    "# Plot All\n",
    "dfsa = dfsa.sort_values(by=['SiteUUID', 'VariableSpecificUUID', 'TimeframeStart'])\n",
    "fig = px.line(dfsa, x=\"TimeframeStart\", y=\"Amount\", color='SiteUUID')\n",
    "fig.show()"
   ]
  },
  {
   "cell_type": "code",
   "execution_count": null,
   "id": "b0ba7be3",
   "metadata": {},
   "outputs": [],
   "source": [
    "# Plot One Site - need to pick a site from above Plot all\n",
    "dfsa1 = dfsa.copy()\n",
    "dfsa1 = dfsa1[dfsa1['SiteUUID'] == 'IDssro_S82'].reset_index(drop=True)\n",
    "fig = px.line(dfsa1, x=\"TimeframeStart\", y=\"Amount\", color='VariableSpecificUUID')\n",
    "fig.show()"
   ]
  },
  {
   "cell_type": "code",
   "execution_count": null,
   "id": "2c70f914",
   "metadata": {},
   "outputs": [],
   "source": [
    "# Mapping sitespecificamounts.csv Points\n",
    "fileInput = \"sites.csv\"\n",
    "dfs = pd.read_csv(fileInput)\n",
    "dftemp = pd.merge(df, dfs, on=\"SiteUUID\", how=\"left\")\n",
    "gdf = gpd.GeoDataFrame(dftemp, geometry=gpd.points_from_xy(dftemp.Longitude.astype(float), dftemp.Latitude.astype(float)), crs=\"EPSG:4326\")\n",
    "gplt.pointplot(gdf)"
   ]
  },
  {
   "cell_type": "code",
   "execution_count": null,
   "id": "4258e644",
   "metadata": {},
   "outputs": [],
   "source": [
    "# merge tables.  Export to inspect\n",
    "dftemp = pd.DataFrame()\n",
    "dftemp = pd.merge(dfsa, dfv[['VariableSpecificUUID', 'VariableSpecificCV', 'AggregationIntervalUnitCV']], on='VariableSpecificUUID', how='left')\n",
    "dftemp = pd.merge(dftemp, dfs[['SiteUUID', 'WaterSourceUUIDs', 'SiteName', 'SiteTypeCV']], on='SiteUUID', how='left')\n",
    "dftemp = pd.merge(dftemp, dfws[['WaterSourceUUID', 'WaterSourceTypeCV']], left_on='WaterSourceUUIDs', right_on='WaterSourceUUID', how='left')\n",
    "dftemp.to_excel('checkCombined.xlsx', index=False)  # The output.\n",
    "dftemp.head(1)"
   ]
  },
  {
   "cell_type": "code",
   "execution_count": null,
   "id": "9c80d31e",
   "metadata": {},
   "outputs": [],
   "source": [
    "# Plotting Polygons\n",
    "# dftemp = dfru2.copy()\n",
    "# dftemp = dftemp[dftemp['State']=='UT'].reset_index(drop=True) # change state entry here\n",
    "# dftemp['geometry'] = gpd.GeoSeries.from_wkt(dftemp['geometry'], crs=\"EPSG:4326\")\n",
    "# gdftemp = gpd.GeoDataFrame(dftemp, geometry=dftemp['geometry'], crs=\"EPSG:4326\")\n",
    "# gplt.polyplot(gdftemp)"
   ]
  }
 ],
 "metadata": {
  "kernelspec": {
   "display_name": "Python 3 (ipykernel)",
   "language": "python",
   "name": "python3"
  },
  "language_info": {
   "codemirror_mode": {
    "name": "ipython",
    "version": 3
   },
   "file_extension": ".py",
   "mimetype": "text/x-python",
   "name": "python",
   "nbconvert_exporter": "python",
   "pygments_lexer": "ipython3",
   "version": "3.9.15"
  }
 },
 "nbformat": 4,
 "nbformat_minor": 5
}
