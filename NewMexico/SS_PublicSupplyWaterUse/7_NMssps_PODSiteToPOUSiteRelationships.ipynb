{
 "cells": [
  {
   "cell_type": "markdown",
   "id": "6551b09b",
   "metadata": {},
   "source": [
    "## Create podsitetopousiterelationships.csv file\n",
    "Last Updated: 11/15/2022\n",
    "\n",
    "Purpose: To create UT site specific public supply site POD and POU relation information and populate dataframe for WaDEQA 2.0.\n",
    "\n",
    "Notes:    \n",
    "- read in main processed input file, sites, and sitespecificamounts.\n",
    "- separate out sites from POU to POD\n",
    "- attach time info from sitespecificamounts to both POU and POD site dataframes, then attach linking element from main processed input fill.\n",
    "- Attach POU dataframe to POD datafame if a common linking element."
   ]
  },
  {
   "cell_type": "code",
   "execution_count": 1,
   "id": "43a38373",
   "metadata": {},
   "outputs": [],
   "source": [
    "#Needed Libararies\n",
    "\n",
    "# working with data\n",
    "import os\n",
    "import numpy as np\n",
    "import pandas as pd\n",
    "import geopandas as gpd\n",
    "\n",
    "# visulizaiton\n",
    "import matplotlib.pyplot as plt\n",
    "import seaborn as sns\n",
    "\n",
    "# API retrieval\n",
    "import requests\n",
    "import json\n",
    "\n",
    "# Cleanup\n",
    "from datetime import datetime\n",
    "pd.set_option('display.max_columns', 999)  # How to display all columns of a Pandas DataFrame in Jupyter Notebook"
   ]
  },
  {
   "cell_type": "code",
   "execution_count": 2,
   "id": "534cc804",
   "metadata": {},
   "outputs": [],
   "source": [
    "# Working Directory\n",
    "workingDir = \"G:/Shared drives/WaDE Data/NewMexico/SS_PublicSupplyWaterUse\"\n",
    "os.chdir(workingDir)"
   ]
  },
  {
   "cell_type": "markdown",
   "id": "9a0d0d67",
   "metadata": {},
   "source": [
    "### Input Files"
   ]
  },
  {
   "cell_type": "code",
   "execution_count": 3,
   "id": "38a452f8",
   "metadata": {},
   "outputs": [
    {
     "name": "stdout",
     "output_type": "stream",
     "text": [
      "2913\n"
     ]
    },
    {
     "data": {
      "text/html": [
       "<div>\n",
       "<style scoped>\n",
       "    .dataframe tbody tr th:only-of-type {\n",
       "        vertical-align: middle;\n",
       "    }\n",
       "\n",
       "    .dataframe tbody tr th {\n",
       "        vertical-align: top;\n",
       "    }\n",
       "\n",
       "    .dataframe thead th {\n",
       "        text-align: right;\n",
       "    }\n",
       "</style>\n",
       "<table border=\"1\" class=\"dataframe\">\n",
       "  <thead>\n",
       "    <tr style=\"text-align: right;\">\n",
       "      <th></th>\n",
       "      <th>in_VariableCV</th>\n",
       "      <th>in_VariableSpecificCV</th>\n",
       "      <th>in_WaterSourceTypeCV</th>\n",
       "      <th>in_County</th>\n",
       "      <th>in_HUC8</th>\n",
       "      <th>in_Latitude</th>\n",
       "      <th>in_Longitude</th>\n",
       "      <th>in_PODorPOUSite</th>\n",
       "      <th>in_SiteName</th>\n",
       "      <th>in_SiteNativeID</th>\n",
       "      <th>in_Amount</th>\n",
       "      <th>in_BeneficialUseCategory</th>\n",
       "      <th>in_PopulationServed</th>\n",
       "      <th>in_ReportYearCV</th>\n",
       "      <th>in_TimeframeEnd</th>\n",
       "      <th>in_TimeframeStart</th>\n",
       "      <th>linkKey</th>\n",
       "      <th>in_WaterSourceNativeID</th>\n",
       "    </tr>\n",
       "  </thead>\n",
       "  <tbody>\n",
       "    <tr>\n",
       "      <th>0</th>\n",
       "      <td>Withdrawal</td>\n",
       "      <td>Withdrawal_Annual_Unspecified_Groundwater</td>\n",
       "      <td>Groundwater</td>\n",
       "      <td>BERNALILLO</td>\n",
       "      <td>13050001.0</td>\n",
       "      <td>34.941213</td>\n",
       "      <td>-106.273851</td>\n",
       "      <td>POD</td>\n",
       "      <td>Unspecified</td>\n",
       "      <td>1.0</td>\n",
       "      <td>6.575</td>\n",
       "      <td>Unspecified</td>\n",
       "      <td>100</td>\n",
       "      <td>2010</td>\n",
       "      <td>2010-12-31</td>\n",
       "      <td>2010-01-01</td>\n",
       "      <td>BEARCAT HOMEOWNERS ASSOCIATION</td>\n",
       "      <td>WaDNMD_WS1</td>\n",
       "    </tr>\n",
       "  </tbody>\n",
       "</table>\n",
       "</div>"
      ],
      "text/plain": [
       "  in_VariableCV                      in_VariableSpecificCV  \\\n",
       "0    Withdrawal  Withdrawal_Annual_Unspecified_Groundwater   \n",
       "\n",
       "  in_WaterSourceTypeCV   in_County     in_HUC8  in_Latitude  in_Longitude  \\\n",
       "0          Groundwater  BERNALILLO  13050001.0    34.941213   -106.273851   \n",
       "\n",
       "  in_PODorPOUSite  in_SiteName in_SiteNativeID  in_Amount  \\\n",
       "0             POD  Unspecified             1.0      6.575   \n",
       "\n",
       "  in_BeneficialUseCategory  in_PopulationServed  in_ReportYearCV  \\\n",
       "0              Unspecified                  100             2010   \n",
       "\n",
       "  in_TimeframeEnd in_TimeframeStart                          linkKey  \\\n",
       "0      2010-12-31        2010-01-01  BEARCAT HOMEOWNERS ASSOCIATION    \n",
       "\n",
       "  in_WaterSourceNativeID  \n",
       "0             WaDNMD_WS1  "
      ]
     },
     "execution_count": 3,
     "metadata": {},
     "output_type": "execute_result"
    }
   ],
   "source": [
    "# Read in main processed input file\n",
    "fileInput = \"RawInputData/P_nmSSPWMain.csv\"\n",
    "dfmp = pd.read_csv(fileInput)\n",
    "print(len(dfmp))\n",
    "dfmp.head(1)"
   ]
  },
  {
   "cell_type": "code",
   "execution_count": 4,
   "id": "7f03a5c9",
   "metadata": {},
   "outputs": [
    {
     "name": "stdout",
     "output_type": "stream",
     "text": [
      "1191\n"
     ]
    },
    {
     "data": {
      "text/html": [
       "<div>\n",
       "<style scoped>\n",
       "    .dataframe tbody tr th:only-of-type {\n",
       "        vertical-align: middle;\n",
       "    }\n",
       "\n",
       "    .dataframe tbody tr th {\n",
       "        vertical-align: top;\n",
       "    }\n",
       "\n",
       "    .dataframe thead th {\n",
       "        text-align: right;\n",
       "    }\n",
       "</style>\n",
       "<table border=\"1\" class=\"dataframe\">\n",
       "  <thead>\n",
       "    <tr style=\"text-align: right;\">\n",
       "      <th></th>\n",
       "      <th>SiteUUID</th>\n",
       "      <th>RegulatoryOverlayUUIDs</th>\n",
       "      <th>WaterSourceUUIDs</th>\n",
       "      <th>CoordinateAccuracy</th>\n",
       "      <th>CoordinateMethodCV</th>\n",
       "      <th>County</th>\n",
       "      <th>EPSGCodeCV</th>\n",
       "      <th>Geometry</th>\n",
       "      <th>GNISCodeCV</th>\n",
       "      <th>HUC12</th>\n",
       "      <th>HUC8</th>\n",
       "      <th>Latitude</th>\n",
       "      <th>Longitude</th>\n",
       "      <th>NHDNetworkStatusCV</th>\n",
       "      <th>NHDProductCV</th>\n",
       "      <th>PODorPOUSite</th>\n",
       "      <th>SiteName</th>\n",
       "      <th>SiteNativeID</th>\n",
       "      <th>SitePoint</th>\n",
       "      <th>SiteTypeCV</th>\n",
       "      <th>StateCV</th>\n",
       "      <th>USGSSiteID</th>\n",
       "    </tr>\n",
       "  </thead>\n",
       "  <tbody>\n",
       "    <tr>\n",
       "      <th>0</th>\n",
       "      <td>NMssps_S1</td>\n",
       "      <td>NaN</td>\n",
       "      <td>NMssps_WS2,NMssps_WS1</td>\n",
       "      <td>Unspecified</td>\n",
       "      <td>Unspecified</td>\n",
       "      <td>BERNALILLO</td>\n",
       "      <td>4326</td>\n",
       "      <td>NaN</td>\n",
       "      <td>NaN</td>\n",
       "      <td>NaN</td>\n",
       "      <td>13050001.0</td>\n",
       "      <td>34.941213</td>\n",
       "      <td>-106.273851</td>\n",
       "      <td>NaN</td>\n",
       "      <td>NaN</td>\n",
       "      <td>POD</td>\n",
       "      <td>Unspecified</td>\n",
       "      <td>1.0</td>\n",
       "      <td>NaN</td>\n",
       "      <td>Unspecified</td>\n",
       "      <td>NM</td>\n",
       "      <td>NaN</td>\n",
       "    </tr>\n",
       "  </tbody>\n",
       "</table>\n",
       "</div>"
      ],
      "text/plain": [
       "    SiteUUID  RegulatoryOverlayUUIDs       WaterSourceUUIDs  \\\n",
       "0  NMssps_S1                     NaN  NMssps_WS2,NMssps_WS1   \n",
       "\n",
       "  CoordinateAccuracy CoordinateMethodCV      County  EPSGCodeCV Geometry  \\\n",
       "0        Unspecified        Unspecified  BERNALILLO        4326      NaN   \n",
       "\n",
       "   GNISCodeCV  HUC12        HUC8   Latitude   Longitude  NHDNetworkStatusCV  \\\n",
       "0         NaN    NaN  13050001.0  34.941213 -106.273851                 NaN   \n",
       "\n",
       "   NHDProductCV PODorPOUSite     SiteName SiteNativeID  SitePoint  \\\n",
       "0           NaN          POD  Unspecified          1.0        NaN   \n",
       "\n",
       "    SiteTypeCV StateCV  USGSSiteID  \n",
       "0  Unspecified      NM         NaN  "
      ]
     },
     "execution_count": 4,
     "metadata": {},
     "output_type": "execute_result"
    }
   ],
   "source": [
    "# Read in sites file\n",
    "fileInput = \"ProcessedInputData/Sites.csv\"\n",
    "dfs = pd.read_csv(fileInput)\n",
    "print(len(dfs))\n",
    "dfs.head(1)"
   ]
  },
  {
   "cell_type": "code",
   "execution_count": 5,
   "id": "86003078",
   "metadata": {},
   "outputs": [
    {
     "name": "stdout",
     "output_type": "stream",
     "text": [
      "1102\n"
     ]
    },
    {
     "data": {
      "text/html": [
       "<div>\n",
       "<style scoped>\n",
       "    .dataframe tbody tr th:only-of-type {\n",
       "        vertical-align: middle;\n",
       "    }\n",
       "\n",
       "    .dataframe tbody tr th {\n",
       "        vertical-align: top;\n",
       "    }\n",
       "\n",
       "    .dataframe thead th {\n",
       "        text-align: right;\n",
       "    }\n",
       "</style>\n",
       "<table border=\"1\" class=\"dataframe\">\n",
       "  <thead>\n",
       "    <tr style=\"text-align: right;\">\n",
       "      <th></th>\n",
       "      <th>MethodUUID</th>\n",
       "      <th>OrganizationUUID</th>\n",
       "      <th>SiteUUID</th>\n",
       "      <th>VariableSpecificUUID</th>\n",
       "      <th>WaterSourceUUID</th>\n",
       "      <th>Amount</th>\n",
       "      <th>AllocationCropDutyAmount</th>\n",
       "      <th>AssociatedNativeAllocationIDs</th>\n",
       "      <th>BeneficialUseCategory</th>\n",
       "      <th>CommunityWaterSupplySystem</th>\n",
       "      <th>CropTypeCV</th>\n",
       "      <th>CustomerTypeCV</th>\n",
       "      <th>DataPublicationDate</th>\n",
       "      <th>DataPublicationDOI</th>\n",
       "      <th>Geometry</th>\n",
       "      <th>IrrigatedAcreage</th>\n",
       "      <th>IrrigationMethodCV</th>\n",
       "      <th>PopulationServed</th>\n",
       "      <th>PowerGeneratedGWh</th>\n",
       "      <th>PowerType</th>\n",
       "      <th>PrimaryUseCategory</th>\n",
       "      <th>ReportYearCV</th>\n",
       "      <th>SDWISIdentifier</th>\n",
       "      <th>TimeframeEnd</th>\n",
       "      <th>TimeframeStart</th>\n",
       "    </tr>\n",
       "  </thead>\n",
       "  <tbody>\n",
       "    <tr>\n",
       "      <th>0</th>\n",
       "      <td>NMssps_M1</td>\n",
       "      <td>NMssps_O1</td>\n",
       "      <td>NMssps_S1</td>\n",
       "      <td>NMssps_V1</td>\n",
       "      <td>NMssps_WS1</td>\n",
       "      <td>6.575</td>\n",
       "      <td>NaN</td>\n",
       "      <td>NaN</td>\n",
       "      <td>Unspecified</td>\n",
       "      <td>NaN</td>\n",
       "      <td>NaN</td>\n",
       "      <td>NaN</td>\n",
       "      <td>11/17/2022</td>\n",
       "      <td>NaN</td>\n",
       "      <td>NaN</td>\n",
       "      <td>NaN</td>\n",
       "      <td>NaN</td>\n",
       "      <td>100</td>\n",
       "      <td>NaN</td>\n",
       "      <td>NaN</td>\n",
       "      <td>Unspecified</td>\n",
       "      <td>2010</td>\n",
       "      <td>NaN</td>\n",
       "      <td>2010-12-31</td>\n",
       "      <td>2010-01-01</td>\n",
       "    </tr>\n",
       "  </tbody>\n",
       "</table>\n",
       "</div>"
      ],
      "text/plain": [
       "  MethodUUID OrganizationUUID   SiteUUID VariableSpecificUUID WaterSourceUUID  \\\n",
       "0  NMssps_M1        NMssps_O1  NMssps_S1            NMssps_V1      NMssps_WS1   \n",
       "\n",
       "   Amount  AllocationCropDutyAmount  AssociatedNativeAllocationIDs  \\\n",
       "0   6.575                       NaN                            NaN   \n",
       "\n",
       "  BeneficialUseCategory  CommunityWaterSupplySystem  CropTypeCV  \\\n",
       "0           Unspecified                         NaN         NaN   \n",
       "\n",
       "   CustomerTypeCV DataPublicationDate  DataPublicationDOI  Geometry  \\\n",
       "0             NaN          11/17/2022                 NaN       NaN   \n",
       "\n",
       "   IrrigatedAcreage  IrrigationMethodCV  PopulationServed  PowerGeneratedGWh  \\\n",
       "0               NaN                 NaN               100                NaN   \n",
       "\n",
       "   PowerType PrimaryUseCategory  ReportYearCV  SDWISIdentifier TimeframeEnd  \\\n",
       "0        NaN        Unspecified          2010              NaN   2010-12-31   \n",
       "\n",
       "  TimeframeStart  \n",
       "0     2010-01-01  "
      ]
     },
     "execution_count": 5,
     "metadata": {},
     "output_type": "execute_result"
    }
   ],
   "source": [
    "# Read in sitespecificamounts file\n",
    "fileInput = \"ProcessedInputData/sitespecificamounts.csv\"\n",
    "dfsa = pd.read_csv(fileInput)\n",
    "dfsa = dfsa.assign(SiteUUID=dfsa['SiteUUID'].str.split(',')).explode('SiteUUID').reset_index(drop=True)\n",
    "print(len(dfsa))\n",
    "dfsa.head(1)"
   ]
  },
  {
   "cell_type": "markdown",
   "id": "d6028dd7",
   "metadata": {},
   "source": [
    "### Extract Data"
   ]
  },
  {
   "cell_type": "code",
   "execution_count": 6,
   "id": "57fd6ff1",
   "metadata": {},
   "outputs": [
    {
     "name": "stdout",
     "output_type": "stream",
     "text": [
      "1190\n"
     ]
    },
    {
     "data": {
      "text/html": [
       "<div>\n",
       "<style scoped>\n",
       "    .dataframe tbody tr th:only-of-type {\n",
       "        vertical-align: middle;\n",
       "    }\n",
       "\n",
       "    .dataframe tbody tr th {\n",
       "        vertical-align: top;\n",
       "    }\n",
       "\n",
       "    .dataframe thead th {\n",
       "        text-align: right;\n",
       "    }\n",
       "</style>\n",
       "<table border=\"1\" class=\"dataframe\">\n",
       "  <thead>\n",
       "    <tr style=\"text-align: right;\">\n",
       "      <th></th>\n",
       "      <th>in_SiteNativeID</th>\n",
       "      <th>linkKey</th>\n",
       "    </tr>\n",
       "  </thead>\n",
       "  <tbody>\n",
       "    <tr>\n",
       "      <th>0</th>\n",
       "      <td>1.0</td>\n",
       "      <td>BEARCAT HOMEOWNERS ASSOCIATION</td>\n",
       "    </tr>\n",
       "    <tr>\n",
       "      <th>1</th>\n",
       "      <td>4.0</td>\n",
       "      <td>ROSEDALE MDWCA</td>\n",
       "    </tr>\n",
       "  </tbody>\n",
       "</table>\n",
       "</div>"
      ],
      "text/plain": [
       "  in_SiteNativeID                          linkKey\n",
       "0             1.0  BEARCAT HOMEOWNERS ASSOCIATION \n",
       "1             4.0                  ROSEDALE MDWCA "
      ]
     },
     "execution_count": 6,
     "metadata": {},
     "output_type": "execute_result"
    }
   ],
   "source": [
    "# extract unique in_SiteNativeID and linkKey from main processed input file\n",
    "dfmp2 = dfmp[['in_SiteNativeID', 'linkKey']]\n",
    "dfmp2 = dfmp2.dropna().drop_duplicates().reset_index(drop=True)\n",
    "print(len(dfmp2))\n",
    "dfmp2.head(2)"
   ]
  },
  {
   "cell_type": "code",
   "execution_count": 7,
   "id": "fb9b2e38",
   "metadata": {},
   "outputs": [
    {
     "name": "stdout",
     "output_type": "stream",
     "text": [
      "605\n"
     ]
    },
    {
     "data": {
      "text/html": [
       "<div>\n",
       "<style scoped>\n",
       "    .dataframe tbody tr th:only-of-type {\n",
       "        vertical-align: middle;\n",
       "    }\n",
       "\n",
       "    .dataframe tbody tr th {\n",
       "        vertical-align: top;\n",
       "    }\n",
       "\n",
       "    .dataframe thead th {\n",
       "        text-align: right;\n",
       "    }\n",
       "</style>\n",
       "<table border=\"1\" class=\"dataframe\">\n",
       "  <thead>\n",
       "    <tr style=\"text-align: right;\">\n",
       "      <th></th>\n",
       "      <th>SiteUUID</th>\n",
       "      <th>SiteNativeID</th>\n",
       "      <th>PODorPOUSite</th>\n",
       "    </tr>\n",
       "  </thead>\n",
       "  <tbody>\n",
       "    <tr>\n",
       "      <th>0</th>\n",
       "      <td>NMssps_S587</td>\n",
       "      <td>CR-SPRINGERTRACT</td>\n",
       "      <td>POU</td>\n",
       "    </tr>\n",
       "    <tr>\n",
       "      <th>1</th>\n",
       "      <td>NMssps_S588</td>\n",
       "      <td>NM3500101</td>\n",
       "      <td>POU</td>\n",
       "    </tr>\n",
       "  </tbody>\n",
       "</table>\n",
       "</div>"
      ],
      "text/plain": [
       "      SiteUUID      SiteNativeID PODorPOUSite\n",
       "0  NMssps_S587  CR-SPRINGERTRACT          POU\n",
       "1  NMssps_S588         NM3500101          POU"
      ]
     },
     "execution_count": 7,
     "metadata": {},
     "output_type": "execute_result"
    }
   ],
   "source": [
    "#create POU site file\n",
    "dfspou = dfs[['SiteUUID', 'SiteNativeID', 'PODorPOUSite']]\n",
    "dfspou = dfspou[dfspou['PODorPOUSite'] == 'POU']\n",
    "dfspou = dfspou.dropna().drop_duplicates().reset_index(drop=True)\n",
    "print(len(dfspou))\n",
    "dfspou.head(2)"
   ]
  },
  {
   "cell_type": "code",
   "execution_count": 8,
   "id": "c99f708f",
   "metadata": {},
   "outputs": [
    {
     "name": "stdout",
     "output_type": "stream",
     "text": [
      "605\n"
     ]
    },
    {
     "data": {
      "text/html": [
       "<div>\n",
       "<style scoped>\n",
       "    .dataframe tbody tr th:only-of-type {\n",
       "        vertical-align: middle;\n",
       "    }\n",
       "\n",
       "    .dataframe tbody tr th {\n",
       "        vertical-align: top;\n",
       "    }\n",
       "\n",
       "    .dataframe thead th {\n",
       "        text-align: right;\n",
       "    }\n",
       "</style>\n",
       "<table border=\"1\" class=\"dataframe\">\n",
       "  <thead>\n",
       "    <tr style=\"text-align: right;\">\n",
       "      <th></th>\n",
       "      <th>SiteUUID</th>\n",
       "      <th>SiteNativeID</th>\n",
       "      <th>PODorPOUSite</th>\n",
       "    </tr>\n",
       "  </thead>\n",
       "  <tbody>\n",
       "    <tr>\n",
       "      <th>0</th>\n",
       "      <td>NMssps_S587</td>\n",
       "      <td>CR-SPRINGERTRACT</td>\n",
       "      <td>POU</td>\n",
       "    </tr>\n",
       "    <tr>\n",
       "      <th>1</th>\n",
       "      <td>NMssps_S588</td>\n",
       "      <td>NM3500101</td>\n",
       "      <td>POU</td>\n",
       "    </tr>\n",
       "  </tbody>\n",
       "</table>\n",
       "</div>"
      ],
      "text/plain": [
       "      SiteUUID      SiteNativeID PODorPOUSite\n",
       "0  NMssps_S587  CR-SPRINGERTRACT          POU\n",
       "1  NMssps_S588         NM3500101          POU"
      ]
     },
     "execution_count": 8,
     "metadata": {},
     "output_type": "execute_result"
    }
   ],
   "source": [
    "#create POD site file\n",
    "dfspod = dfs[['SiteUUID', 'SiteNativeID', 'PODorPOUSite']]\n",
    "dfspod = dfspod[dfspod['PODorPOUSite'] == 'POD']\n",
    "dfspou = dfspou.dropna().drop_duplicates().reset_index(drop=True)\n",
    "print(len(dfspou))\n",
    "dfspou.head(2)"
   ]
  },
  {
   "cell_type": "code",
   "execution_count": 9,
   "id": "e10966cb",
   "metadata": {},
   "outputs": [
    {
     "name": "stdout",
     "output_type": "stream",
     "text": [
      "1058\n"
     ]
    },
    {
     "data": {
      "text/html": [
       "<div>\n",
       "<style scoped>\n",
       "    .dataframe tbody tr th:only-of-type {\n",
       "        vertical-align: middle;\n",
       "    }\n",
       "\n",
       "    .dataframe tbody tr th {\n",
       "        vertical-align: top;\n",
       "    }\n",
       "\n",
       "    .dataframe thead th {\n",
       "        text-align: right;\n",
       "    }\n",
       "</style>\n",
       "<table border=\"1\" class=\"dataframe\">\n",
       "  <thead>\n",
       "    <tr style=\"text-align: right;\">\n",
       "      <th></th>\n",
       "      <th>SiteUUID</th>\n",
       "      <th>TimeframeStart</th>\n",
       "      <th>TimeframeEnd</th>\n",
       "    </tr>\n",
       "  </thead>\n",
       "  <tbody>\n",
       "    <tr>\n",
       "      <th>0</th>\n",
       "      <td>NMssps_S1</td>\n",
       "      <td>2010-01-01</td>\n",
       "      <td>2010-12-31</td>\n",
       "    </tr>\n",
       "    <tr>\n",
       "      <th>1</th>\n",
       "      <td>NMssps_S363</td>\n",
       "      <td>2010-01-01</td>\n",
       "      <td>2010-12-31</td>\n",
       "    </tr>\n",
       "  </tbody>\n",
       "</table>\n",
       "</div>"
      ],
      "text/plain": [
       "      SiteUUID TimeframeStart TimeframeEnd\n",
       "0    NMssps_S1     2010-01-01   2010-12-31\n",
       "1  NMssps_S363     2010-01-01   2010-12-31"
      ]
     },
     "execution_count": 9,
     "metadata": {},
     "output_type": "execute_result"
    }
   ],
   "source": [
    "# extract useable site info with StartDate & EndDate from sitespecificamounts file\n",
    "dfsa2 = dfsa[['SiteUUID', 'TimeframeStart', 'TimeframeEnd']]\n",
    "dfsa2 = dfsa2.dropna().drop_duplicates().reset_index(drop=True)\n",
    "print(len(dfsa2))\n",
    "dfsa2.head(2)"
   ]
  },
  {
   "cell_type": "code",
   "execution_count": 10,
   "id": "3aee1c13",
   "metadata": {},
   "outputs": [
    {
     "name": "stdout",
     "output_type": "stream",
     "text": [
      "605\n"
     ]
    },
    {
     "data": {
      "text/html": [
       "<div>\n",
       "<style scoped>\n",
       "    .dataframe tbody tr th:only-of-type {\n",
       "        vertical-align: middle;\n",
       "    }\n",
       "\n",
       "    .dataframe tbody tr th {\n",
       "        vertical-align: top;\n",
       "    }\n",
       "\n",
       "    .dataframe thead th {\n",
       "        text-align: right;\n",
       "    }\n",
       "</style>\n",
       "<table border=\"1\" class=\"dataframe\">\n",
       "  <thead>\n",
       "    <tr style=\"text-align: right;\">\n",
       "      <th></th>\n",
       "      <th>SiteUUID</th>\n",
       "      <th>SiteNativeID</th>\n",
       "      <th>PODorPOUSite</th>\n",
       "      <th>TimeframeStart</th>\n",
       "      <th>TimeframeEnd</th>\n",
       "      <th>in_SiteNativeID</th>\n",
       "      <th>linkKey</th>\n",
       "    </tr>\n",
       "  </thead>\n",
       "  <tbody>\n",
       "    <tr>\n",
       "      <th>0</th>\n",
       "      <td>NMssps_S587</td>\n",
       "      <td>CR-SPRINGERTRACT</td>\n",
       "      <td>POU</td>\n",
       "      <td>NaN</td>\n",
       "      <td>NaN</td>\n",
       "      <td>CR-SPRINGERTRACT</td>\n",
       "      <td>SPRINGER TRACT</td>\n",
       "    </tr>\n",
       "    <tr>\n",
       "      <th>1</th>\n",
       "      <td>NMssps_S588</td>\n",
       "      <td>NM3500101</td>\n",
       "      <td>POU</td>\n",
       "      <td>NaN</td>\n",
       "      <td>NaN</td>\n",
       "      <td>NM3500101</td>\n",
       "      <td>BEARCAT HOMEOWNERS ASSOCIATION</td>\n",
       "    </tr>\n",
       "  </tbody>\n",
       "</table>\n",
       "</div>"
      ],
      "text/plain": [
       "      SiteUUID      SiteNativeID PODorPOUSite TimeframeStart TimeframeEnd  \\\n",
       "0  NMssps_S587  CR-SPRINGERTRACT          POU            NaN          NaN   \n",
       "1  NMssps_S588         NM3500101          POU            NaN          NaN   \n",
       "\n",
       "    in_SiteNativeID                         linkKey  \n",
       "0  CR-SPRINGERTRACT                  SPRINGER TRACT  \n",
       "1         NM3500101  BEARCAT HOMEOWNERS ASSOCIATION  "
      ]
     },
     "execution_count": 10,
     "metadata": {},
     "output_type": "execute_result"
    }
   ],
   "source": [
    "# left join POU sites to sitespecificamounts to main processed input file\n",
    "dfmergeU = pd.DataFrame(index=dfspou.index)\n",
    "\n",
    "dfmergeU = pd.merge(dfspou, dfsa2, on='SiteUUID', how='left')\n",
    "dfmergeU = pd.merge(dfmergeU, dfmp2, left_on='SiteNativeID', right_on='in_SiteNativeID', how='left')\n",
    "dfmergeU = dfmergeU.drop_duplicates().reset_index(drop=True)\n",
    "print(len(dfmergeU))\n",
    "dfmergeU.head(2)"
   ]
  },
  {
   "cell_type": "code",
   "execution_count": 11,
   "id": "dabf5bf2",
   "metadata": {},
   "outputs": [
    {
     "name": "stdout",
     "output_type": "stream",
     "text": [
      "1109\n"
     ]
    },
    {
     "data": {
      "text/html": [
       "<div>\n",
       "<style scoped>\n",
       "    .dataframe tbody tr th:only-of-type {\n",
       "        vertical-align: middle;\n",
       "    }\n",
       "\n",
       "    .dataframe tbody tr th {\n",
       "        vertical-align: top;\n",
       "    }\n",
       "\n",
       "    .dataframe thead th {\n",
       "        text-align: right;\n",
       "    }\n",
       "</style>\n",
       "<table border=\"1\" class=\"dataframe\">\n",
       "  <thead>\n",
       "    <tr style=\"text-align: right;\">\n",
       "      <th></th>\n",
       "      <th>SiteUUID</th>\n",
       "      <th>SiteNativeID</th>\n",
       "      <th>PODorPOUSite</th>\n",
       "      <th>TimeframeStart</th>\n",
       "      <th>TimeframeEnd</th>\n",
       "      <th>in_SiteNativeID</th>\n",
       "      <th>linkKey</th>\n",
       "    </tr>\n",
       "  </thead>\n",
       "  <tbody>\n",
       "    <tr>\n",
       "      <th>0</th>\n",
       "      <td>NMssps_S1</td>\n",
       "      <td>1.0</td>\n",
       "      <td>POD</td>\n",
       "      <td>2010-01-01</td>\n",
       "      <td>2010-12-31</td>\n",
       "      <td>1.0</td>\n",
       "      <td>BEARCAT HOMEOWNERS ASSOCIATION</td>\n",
       "    </tr>\n",
       "    <tr>\n",
       "      <th>1</th>\n",
       "      <td>NMssps_S1</td>\n",
       "      <td>1.0</td>\n",
       "      <td>POD</td>\n",
       "      <td>2015-01-01</td>\n",
       "      <td>2015-12-31</td>\n",
       "      <td>1.0</td>\n",
       "      <td>BEARCAT HOMEOWNERS ASSOCIATION</td>\n",
       "    </tr>\n",
       "  </tbody>\n",
       "</table>\n",
       "</div>"
      ],
      "text/plain": [
       "    SiteUUID SiteNativeID PODorPOUSite TimeframeStart TimeframeEnd  \\\n",
       "0  NMssps_S1          1.0          POD     2010-01-01   2010-12-31   \n",
       "1  NMssps_S1          1.0          POD     2015-01-01   2015-12-31   \n",
       "\n",
       "  in_SiteNativeID                          linkKey  \n",
       "0             1.0  BEARCAT HOMEOWNERS ASSOCIATION   \n",
       "1             1.0  BEARCAT HOMEOWNERS ASSOCIATION   "
      ]
     },
     "execution_count": 11,
     "metadata": {},
     "output_type": "execute_result"
    }
   ],
   "source": [
    "# left join POD sites to sitespecificamounts to main processed input file\n",
    "dfmergeD = pd.DataFrame(index=dfspod.index)\n",
    "\n",
    "dfmergeD = pd.merge(dfspod, dfsa2, on='SiteUUID', how='left')\n",
    "dfmergeD = pd.merge(dfmergeD, dfmp2, left_on='SiteNativeID', right_on='in_SiteNativeID', how='left')\n",
    "dfmergeD = dfmergeD.drop_duplicates().reset_index(drop=True)\n",
    "print(len(dfmergeD))\n",
    "dfmergeD.head(2)"
   ]
  },
  {
   "cell_type": "code",
   "execution_count": 26,
   "id": "5f6e53a2",
   "metadata": {},
   "outputs": [
    {
     "name": "stdout",
     "output_type": "stream",
     "text": [
      "98\n"
     ]
    },
    {
     "data": {
      "text/html": [
       "<div>\n",
       "<style scoped>\n",
       "    .dataframe tbody tr th:only-of-type {\n",
       "        vertical-align: middle;\n",
       "    }\n",
       "\n",
       "    .dataframe tbody tr th {\n",
       "        vertical-align: top;\n",
       "    }\n",
       "\n",
       "    .dataframe thead th {\n",
       "        text-align: right;\n",
       "    }\n",
       "</style>\n",
       "<table border=\"1\" class=\"dataframe\">\n",
       "  <thead>\n",
       "    <tr style=\"text-align: right;\">\n",
       "      <th></th>\n",
       "      <th>SiteUUID_x</th>\n",
       "      <th>SiteNativeID_x</th>\n",
       "      <th>PODorPOUSite_x</th>\n",
       "      <th>TimeframeStart_x</th>\n",
       "      <th>TimeframeEnd_x</th>\n",
       "      <th>in_SiteNativeID_x</th>\n",
       "      <th>linkKey</th>\n",
       "      <th>SiteUUID_y</th>\n",
       "      <th>SiteNativeID_y</th>\n",
       "      <th>PODorPOUSite_y</th>\n",
       "      <th>TimeframeStart_y</th>\n",
       "      <th>TimeframeEnd_y</th>\n",
       "      <th>in_SiteNativeID_y</th>\n",
       "    </tr>\n",
       "  </thead>\n",
       "  <tbody>\n",
       "    <tr>\n",
       "      <th>0</th>\n",
       "      <td>NMssps_S5</td>\n",
       "      <td>103.0</td>\n",
       "      <td>POD</td>\n",
       "      <td>NaN</td>\n",
       "      <td>NaN</td>\n",
       "      <td>103.0</td>\n",
       "      <td>MOONGATE WEST</td>\n",
       "      <td>NMssps_S671</td>\n",
       "      <td>NM3501207</td>\n",
       "      <td>POU</td>\n",
       "      <td>NaN</td>\n",
       "      <td>NaN</td>\n",
       "      <td>NM3501207</td>\n",
       "    </tr>\n",
       "    <tr>\n",
       "      <th>1</th>\n",
       "      <td>NMssps_S13</td>\n",
       "      <td>111.0</td>\n",
       "      <td>POD</td>\n",
       "      <td>NaN</td>\n",
       "      <td>NaN</td>\n",
       "      <td>111.0</td>\n",
       "      <td>SOUTHWEST TINY HOMES AND RV PARK</td>\n",
       "      <td>NMssps_S679</td>\n",
       "      <td>NM3501327</td>\n",
       "      <td>POU</td>\n",
       "      <td>NaN</td>\n",
       "      <td>NaN</td>\n",
       "      <td>NM3501327</td>\n",
       "    </tr>\n",
       "  </tbody>\n",
       "</table>\n",
       "</div>"
      ],
      "text/plain": [
       "   SiteUUID_x SiteNativeID_x PODorPOUSite_x TimeframeStart_x TimeframeEnd_x  \\\n",
       "0   NMssps_S5          103.0            POD              NaN            NaN   \n",
       "1  NMssps_S13          111.0            POD              NaN            NaN   \n",
       "\n",
       "  in_SiteNativeID_x                           linkKey   SiteUUID_y  \\\n",
       "0             103.0                     MOONGATE WEST  NMssps_S671   \n",
       "1             111.0  SOUTHWEST TINY HOMES AND RV PARK  NMssps_S679   \n",
       "\n",
       "  SiteNativeID_y PODorPOUSite_y TimeframeStart_y TimeframeEnd_y  \\\n",
       "0      NM3501207            POU              NaN            NaN   \n",
       "1      NM3501327            POU              NaN            NaN   \n",
       "\n",
       "  in_SiteNativeID_y  \n",
       "0         NM3501207  \n",
       "1         NM3501327  "
      ]
     },
     "execution_count": 26,
     "metadata": {},
     "output_type": "execute_result"
    }
   ],
   "source": [
    "# Left Join POD file with POU file with matching linking elements. Drop NaN rows\n",
    "dfmergeDU = pd.DataFrame(index=dfmergeD.index)\n",
    "\n",
    "dfmergeDU = pd.merge(dfmergeD, dfmergeU, on='linkKey', how='left')\n",
    "dfmergeDU = dfmergeDU.dropna(subset=['SiteUUID_y']).drop_duplicates().reset_index(drop=True)\n",
    "print(len(dfmergeDU))\n",
    "dfmergeDU.head(2)"
   ]
  },
  {
   "cell_type": "markdown",
   "id": "560d8096",
   "metadata": {},
   "source": [
    "### Create Output Dataframe"
   ]
  },
  {
   "cell_type": "code",
   "execution_count": 27,
   "id": "1a3c4ec4",
   "metadata": {},
   "outputs": [
    {
     "name": "stdout",
     "output_type": "stream",
     "text": [
      "98\n"
     ]
    },
    {
     "data": {
      "text/html": [
       "<div>\n",
       "<style scoped>\n",
       "    .dataframe tbody tr th:only-of-type {\n",
       "        vertical-align: middle;\n",
       "    }\n",
       "\n",
       "    .dataframe tbody tr th {\n",
       "        vertical-align: top;\n",
       "    }\n",
       "\n",
       "    .dataframe thead th {\n",
       "        text-align: right;\n",
       "    }\n",
       "</style>\n",
       "<table border=\"1\" class=\"dataframe\">\n",
       "  <thead>\n",
       "    <tr style=\"text-align: right;\">\n",
       "      <th></th>\n",
       "      <th>PODSiteUUID</th>\n",
       "      <th>POUSiteUUID</th>\n",
       "      <th>StartDate</th>\n",
       "      <th>EndDate</th>\n",
       "    </tr>\n",
       "  </thead>\n",
       "  <tbody>\n",
       "    <tr>\n",
       "      <th>0</th>\n",
       "      <td>NaN</td>\n",
       "      <td>NaN</td>\n",
       "      <td>NaN</td>\n",
       "      <td>NaN</td>\n",
       "    </tr>\n",
       "  </tbody>\n",
       "</table>\n",
       "</div>"
      ],
      "text/plain": [
       "  PODSiteUUID POUSiteUUID StartDate EndDate\n",
       "0         NaN         NaN       NaN     NaN"
      ]
     },
     "execution_count": 27,
     "metadata": {},
     "output_type": "execute_result"
    }
   ],
   "source": [
    "columnslist = [\"PODSiteUUID\", \"POUSiteUUID\", \"StartDate\", \"EndDate\"]\n",
    "outdf = pd.DataFrame(index=dfmergeDU.index, columns=columnslist)  # The output dataframe\n",
    "print(len(outdf))\n",
    "outdf.head(1)"
   ]
  },
  {
   "cell_type": "code",
   "execution_count": 28,
   "id": "ba6e6495",
   "metadata": {},
   "outputs": [
    {
     "name": "stdout",
     "output_type": "stream",
     "text": [
      "66\n"
     ]
    },
    {
     "data": {
      "text/html": [
       "<div>\n",
       "<style scoped>\n",
       "    .dataframe tbody tr th:only-of-type {\n",
       "        vertical-align: middle;\n",
       "    }\n",
       "\n",
       "    .dataframe tbody tr th {\n",
       "        vertical-align: top;\n",
       "    }\n",
       "\n",
       "    .dataframe thead th {\n",
       "        text-align: right;\n",
       "    }\n",
       "</style>\n",
       "<table border=\"1\" class=\"dataframe\">\n",
       "  <thead>\n",
       "    <tr style=\"text-align: right;\">\n",
       "      <th></th>\n",
       "      <th>PODSiteUUID</th>\n",
       "      <th>POUSiteUUID</th>\n",
       "      <th>StartDate</th>\n",
       "      <th>EndDate</th>\n",
       "    </tr>\n",
       "  </thead>\n",
       "  <tbody>\n",
       "    <tr>\n",
       "      <th>4</th>\n",
       "      <td>NMssps_S102</td>\n",
       "      <td>NMssps_S773</td>\n",
       "      <td>2010-01-01</td>\n",
       "      <td>2010-12-31</td>\n",
       "    </tr>\n",
       "    <tr>\n",
       "      <th>5</th>\n",
       "      <td>NMssps_S102</td>\n",
       "      <td>NMssps_S773</td>\n",
       "      <td>2015-01-01</td>\n",
       "      <td>2015-12-31</td>\n",
       "    </tr>\n",
       "    <tr>\n",
       "      <th>6</th>\n",
       "      <td>NMssps_S105</td>\n",
       "      <td>NMssps_S604</td>\n",
       "      <td>2010-01-01</td>\n",
       "      <td>2010-12-31</td>\n",
       "    </tr>\n",
       "    <tr>\n",
       "      <th>7</th>\n",
       "      <td>NMssps_S105</td>\n",
       "      <td>NMssps_S604</td>\n",
       "      <td>2015-01-01</td>\n",
       "      <td>2015-12-31</td>\n",
       "    </tr>\n",
       "    <tr>\n",
       "      <th>8</th>\n",
       "      <td>NMssps_S118</td>\n",
       "      <td>NMssps_S790</td>\n",
       "      <td>2010-01-01</td>\n",
       "      <td>2010-12-31</td>\n",
       "    </tr>\n",
       "  </tbody>\n",
       "</table>\n",
       "</div>"
      ],
      "text/plain": [
       "   PODSiteUUID  POUSiteUUID   StartDate     EndDate\n",
       "4  NMssps_S102  NMssps_S773  2010-01-01  2010-12-31\n",
       "5  NMssps_S102  NMssps_S773  2015-01-01  2015-12-31\n",
       "6  NMssps_S105  NMssps_S604  2010-01-01  2010-12-31\n",
       "7  NMssps_S105  NMssps_S604  2015-01-01  2015-12-31\n",
       "8  NMssps_S118  NMssps_S790  2010-01-01  2010-12-31"
      ]
     },
     "execution_count": 28,
     "metadata": {},
     "output_type": "execute_result"
    }
   ],
   "source": [
    "outdf['PODSiteUUID'] = dfmergeDU['SiteUUID_x']\n",
    "outdf['POUSiteUUID'] = dfmergeDU['SiteUUID_y']\n",
    "outdf['StartDate'] = dfmergeDU['TimeframeStart_x']\n",
    "outdf['EndDate'] = dfmergeDU['TimeframeEnd_x']\n",
    "outdf = outdf.dropna().drop_duplicates().reset_index(drop=True).sort_values(by=['PODSiteUUID', 'POUSiteUUID', 'StartDate'])\n",
    "print(len(outdf))\n",
    "outdf.head()"
   ]
  },
  {
   "cell_type": "code",
   "execution_count": 29,
   "id": "d7b27341",
   "metadata": {},
   "outputs": [],
   "source": [
    "# The working output DataFrame for WaDE 2.0 input.\n",
    "if not outdf.empty:\n",
    "    outdf.to_csv('ProcessedInputData/podsitetopousiterelationships.csv', index=False)"
   ]
  },
  {
   "cell_type": "code",
   "execution_count": null,
   "id": "3a942161",
   "metadata": {},
   "outputs": [],
   "source": []
  }
 ],
 "metadata": {
  "kernelspec": {
   "display_name": "Python 3 (ipykernel)",
   "language": "python",
   "name": "python3"
  },
  "language_info": {
   "codemirror_mode": {
    "name": "ipython",
    "version": 3
   },
   "file_extension": ".py",
   "mimetype": "text/x-python",
   "name": "python",
   "nbconvert_exporter": "python",
   "pygments_lexer": "ipython3",
   "version": "3.9.15"
  }
 },
 "nbformat": 4,
 "nbformat_minor": 5
}
