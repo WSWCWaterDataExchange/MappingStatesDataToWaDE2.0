{
 "cells": [
  {
   "cell_type": "markdown",
   "id": "091aecd3",
   "metadata": {},
   "source": [
    "- Date Update: 04/13/2023\n",
    "- Purpose: To create WaDE data input files for NM water right information."
   ]
  },
  {
   "cell_type": "markdown",
   "id": "1dcf6456",
   "metadata": {},
   "source": [
    "## Custom Libraries"
   ]
  },
  {
   "cell_type": "code",
   "execution_count": null,
   "id": "008fa19f",
   "metadata": {},
   "outputs": [],
   "source": [
    "# Custom Libraries\n",
    "import sys\n",
    "sys.path.append(\"C:/Users/rjame/Documents/WSWC Documents/MappingStatesDataToWaDE2.0/5_CustomFunctions/MappingFunctions\")"
   ]
  },
  {
   "cell_type": "markdown",
   "id": "9aa8e660",
   "metadata": {},
   "source": [
    "## Input Data"
   ]
  },
  {
   "cell_type": "code",
   "execution_count": null,
   "id": "29142e85",
   "metadata": {},
   "outputs": [],
   "source": [
    "# Inputs\n",
    "varST = \"NM\" # state abbreviation\n",
    "varSTName = \"NewMexico\" # state name\n",
    "varUUIDType = \"re\" # uuid abbreviation\n",
    "varWaDEDataType = \"Regulatory\" # WaDE datatype for file location\n",
    "mainInputFile = \"Pre_neMain.zip\" # use processed zip file"
   ]
  },
  {
   "cell_type": "markdown",
   "id": "9ca3ea3e",
   "metadata": {},
   "source": [
    "## Create RegulatoryOverlay Input Files"
   ]
  },
  {
   "cell_type": "code",
   "execution_count": null,
   "id": "f373f87f",
   "metadata": {},
   "outputs": [],
   "source": [
    "# Date\n",
    "# Simple info, create by hand"
   ]
  },
  {
   "cell_type": "code",
   "execution_count": null,
   "id": "de98ab0f",
   "metadata": {},
   "outputs": [],
   "source": [
    "# Organization\n",
    "# Simple info, create by hand"
   ]
  },
  {
   "cell_type": "code",
   "execution_count": null,
   "id": "c8d42fa0",
   "metadata": {},
   "outputs": [],
   "source": [
    "# Reporting Unit\n"
   ]
  },
  {
   "cell_type": "code",
   "execution_count": null,
   "id": "ad265089",
   "metadata": {},
   "outputs": [],
   "source": [
    "# RegulatoryOverlay"
   ]
  },
  {
   "cell_type": "code",
   "execution_count": null,
   "id": "0e97535d",
   "metadata": {},
   "outputs": [],
   "source": [
    "# RegulatoryReportingUnits_fact"
   ]
  },
  {
   "cell_type": "code",
   "execution_count": null,
   "id": "5212d231",
   "metadata": {},
   "outputs": [],
   "source": []
  },
  {
   "cell_type": "code",
   "execution_count": null,
   "id": "77e6958e",
   "metadata": {},
   "outputs": [],
   "source": []
  },
  {
   "cell_type": "code",
   "execution_count": null,
   "id": "707165fe",
   "metadata": {},
   "outputs": [],
   "source": []
  },
  {
   "cell_type": "code",
   "execution_count": null,
   "id": "c06a06c2",
   "metadata": {},
   "outputs": [],
   "source": []
  },
  {
   "cell_type": "code",
   "execution_count": null,
   "id": "a96f088b",
   "metadata": {},
   "outputs": [],
   "source": [
    "# # Water Sources\n",
    "# print(\"Creating Water Sources input csv...\")\n",
    "# print(\"############################################################################\")\n",
    "# import CreateWaterSourcesFile\n",
    "# CreateWaterSourcesFile.CreateWaterSourcesInputFunction(varST, varSTName, mainInputFile)"
   ]
  },
  {
   "cell_type": "code",
   "execution_count": null,
   "id": "b6494c99",
   "metadata": {},
   "outputs": [],
   "source": [
    "# # Sites\n",
    "# print(\"Creating Sites input csv...\")\n",
    "# print(\"############################################################################\")\n",
    "# import CreateSitesFile\n",
    "# CreateSitesFile.CreateSitesInputFunction(varST, varSTName, mainInputFile)"
   ]
  },
  {
   "cell_type": "code",
   "execution_count": null,
   "id": "ffb1f358",
   "metadata": {
    "scrolled": true
   },
   "outputs": [],
   "source": [
    "# # AllocationsAmounts_facts\n",
    "# print(\"Creating AllocationsAmounts_facts input csv...\")\n",
    "# print(\"############################################################################\")\n",
    "# import CreateAllocationsAmounts_factsFile\n",
    "# CreateAllocationsAmounts_factsFile.CreateAllocationsAmounts_factsInputFunction(varST, varSTName, mainInputFile)"
   ]
  },
  {
   "cell_type": "code",
   "execution_count": null,
   "id": "a769f9b0",
   "metadata": {},
   "outputs": [],
   "source": [
    "# # Remove unused records\n",
    "# print(\"Remove unused Water Sources and Sites records not found within AllocationsAmounts_facts input csv...\")\n",
    "# print(\"############################################################################\")\n",
    "# import RemoveUnusedRecordsFile\n",
    "# RemoveUnusedRecordsFile.RemoveUnusedRecordsFileFunction(varSTName)"
   ]
  },
  {
   "cell_type": "code",
   "execution_count": null,
   "id": "777d5d20",
   "metadata": {},
   "outputs": [],
   "source": []
  }
 ],
 "metadata": {
  "kernelspec": {
   "display_name": "Python 3 (ipykernel)",
   "language": "python",
   "name": "python3"
  },
  "language_info": {
   "codemirror_mode": {
    "name": "ipython",
    "version": 3
   },
   "file_extension": ".py",
   "mimetype": "text/x-python",
   "name": "python",
   "nbconvert_exporter": "python",
   "pygments_lexer": "ipython3",
   "version": "3.9.16"
  }
 },
 "nbformat": 4,
 "nbformat_minor": 5
}
