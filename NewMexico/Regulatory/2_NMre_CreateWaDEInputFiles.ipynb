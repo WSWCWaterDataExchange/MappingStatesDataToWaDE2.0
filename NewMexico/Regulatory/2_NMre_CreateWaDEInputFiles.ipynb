{
 "cells": [
  {
   "cell_type": "markdown",
   "id": "091aecd3",
   "metadata": {},
   "source": [
    "- Date Update: 04/26/2023\n",
    "- Purpose: To create WaDE data input files for NM regulatory information."
   ]
  },
  {
   "cell_type": "markdown",
   "id": "1dcf6456",
   "metadata": {},
   "source": [
    "## Custom Libraries"
   ]
  },
  {
   "cell_type": "code",
   "execution_count": 1,
   "id": "008fa19f",
   "metadata": {},
   "outputs": [],
   "source": [
    "# Custom Libraries\n",
    "import sys\n",
    "sys.path.append(\"C:/Users/rjame/Documents/WSWC Documents/MappingStatesDataToWaDE2.0/5_CustomFunctions/MappingFunctions\")"
   ]
  },
  {
   "cell_type": "markdown",
   "id": "9aa8e660",
   "metadata": {},
   "source": [
    "## Input Data"
   ]
  },
  {
   "cell_type": "code",
   "execution_count": 2,
   "id": "29142e85",
   "metadata": {},
   "outputs": [],
   "source": [
    "# Inputs\n",
    "varST = \"NM\" # state abbreviation\n",
    "varSTName = \"NewMexico\" # state name\n",
    "varUUIDType = \"re\" # uuid abbreviation\n",
    "varWaDEDataType = \"Regulatory\" # WaDE datatype for file location\n",
    "mainInputFile = \"Pre_nmMain.zip\" # use processed zip file"
   ]
  },
  {
   "cell_type": "markdown",
   "id": "9ca3ea3e",
   "metadata": {},
   "source": [
    "## Create RegulatoryOverlay Input Files"
   ]
  },
  {
   "cell_type": "code",
   "execution_count": 3,
   "id": "f373f87f",
   "metadata": {},
   "outputs": [],
   "source": [
    "# Date\n",
    "# Simple info, create by hand"
   ]
  },
  {
   "cell_type": "code",
   "execution_count": 4,
   "id": "de98ab0f",
   "metadata": {},
   "outputs": [],
   "source": [
    "# Organization\n",
    "# Simple info, create by hand"
   ]
  },
  {
   "cell_type": "code",
   "execution_count": 5,
   "id": "c8d42fa0",
   "metadata": {},
   "outputs": [
    {
     "name": "stdout",
     "output_type": "stream",
     "text": [
      "Creating Reporting Unit input csv...\n",
      "############################################################################\n",
      "Reading input csv...\n",
      "Populating dataframe...\n",
      "EPSGCodeCV\n",
      "ReportingUnitName\n",
      "ReportingUnitNativeID\n",
      "ReportingUnitProductVersion\n",
      "ReportingUnitTypeCV\n",
      "ReportingUnitUpdateDate\n",
      "StateCV\n",
      "Geometry\n",
      "Adding Data Assessment UUID\n",
      "Resetting Index\n",
      "GroupBy outdf duplicates based on key fields...\n",
      "Error checking each field. Purging bad inputs.\n",
      "Length of outdf DataFrame:  209\n",
      "Length of dfpurge DataFrame:  0\n",
      "Assign ReportingUnitUUID\n",
      "Exporting dataframe...\n",
      "Done\n"
     ]
    }
   ],
   "source": [
    "# Reporting Unit\n",
    "print(\"Creating Reporting Unit input csv...\")\n",
    "print(\"############################################################################\")\n",
    "import CreateReportingUnitsFile\n",
    "CreateReportingUnitsFile.CreateReportingUnitInputFunction(varST, varSTName, varUUIDType, varWaDEDataType, mainInputFile)"
   ]
  },
  {
   "cell_type": "code",
   "execution_count": 6,
   "id": "ad265089",
   "metadata": {},
   "outputs": [
    {
     "name": "stdout",
     "output_type": "stream",
     "text": [
      "Creating Regulatory Overlays input csv...\n",
      "############################################################################\n",
      "Reading input csv...\n",
      "Populating dataframe outdf...\n",
      "OversightAgency\n",
      "RegulatoryDescription\n",
      "RegulatoryName\n",
      "RegulatoryOverlayNativeID\n",
      "RegulatoryStatusCV\n",
      "RegulatoryStatute\n",
      "RegulatoryStatuteLink\n",
      "StatutoryEffectiveDate\n",
      "StatutoryEndDate\n",
      "RegulatoryOverlayTypeCV\n",
      "WaterSourceTypeCV\n",
      "Adding Data Assessment UUID\n",
      "Resetting Index\n",
      "Joining outdf duplicates based on key fields...\n",
      "Solving WaDE 2.0 upload issues\n",
      "Error checking each field. Purging bad inputs.\n",
      "Length of outdf DataFrame:  206\n",
      "Length of dfpurge DataFrame:  3\n",
      "Assign RegulatoryOverlayUUID\n",
      "Exporting dataframe...\n",
      "... 3  records removed.\n",
      "Done\n"
     ]
    },
    {
     "name": "stderr",
     "output_type": "stream",
     "text": [
      "C:\\Users/rjame/Documents/WSWC Documents/MappingStatesDataToWaDE2.0/5_CustomFunctions/ErrorCheckCode\\ErrorCheckCodeFunctionsFile.py:1474: FutureWarning: The frame.append method is deprecated and will be removed from pandas in a future version. Use pandas.concat instead.\n",
      "  dfy = dfy.append(mask)\n"
     ]
    }
   ],
   "source": [
    "# RegulatoryOverlays\n",
    "print(\"Creating Regulatory Overlays input csv...\")\n",
    "print(\"############################################################################\")\n",
    "import CreateRegulatoryOverlaysFile\n",
    "CreateRegulatoryOverlaysFile.CreateRegulatoryOverlaysInputFunction(varST, varSTName, varUUIDType, varWaDEDataType, mainInputFile)"
   ]
  },
  {
   "cell_type": "code",
   "execution_count": 7,
   "id": "0e97535d",
   "metadata": {},
   "outputs": [
    {
     "name": "stdout",
     "output_type": "stream",
     "text": [
      "Creating Regulatory Reporting Units input csv...\n",
      "############################################################################\n",
      "Reading input csv...\n",
      "Populating dataframe outdf...\n",
      "DataPublicationDate\n",
      "OrganizationUUID\n",
      "RegulatoryOverlayUUID\n",
      "ReportingUnitUUID\n",
      "Resetting Index\n",
      "Solving WaDE 2.0 upload issues\n",
      "Error checking each field. Purging bad inputs.\n",
      "Length of outdf DataFrame:  206\n",
      "Length of dfpurge DataFrame:  3\n",
      "Exporting dataframe...\n",
      "... 3  records removed.\n",
      "Done\n"
     ]
    },
    {
     "name": "stderr",
     "output_type": "stream",
     "text": [
      "C:\\Users/rjame/Documents/WSWC Documents/MappingStatesDataToWaDE2.0/5_CustomFunctions/ErrorCheckCode\\ErrorCheckCodeFunctionsFile.py:1428: FutureWarning: The frame.append method is deprecated and will be removed from pandas in a future version. Use pandas.concat instead.\n",
      "  dfy = dfy.append(mask)\n"
     ]
    }
   ],
   "source": [
    "# RegulatoryReportingUnits_fact\n",
    "print(\"Creating Regulatory Reporting Units input csv...\")\n",
    "print(\"############################################################################\")\n",
    "import CreateRegulatoryReportingUnits_factFile\n",
    "CreateRegulatoryReportingUnits_factFile.CreateRegulatoryReportingUnitsInputFunction(varST, varSTName, varUUIDType, varWaDEDataType, mainInputFile)"
   ]
  }
 ],
 "metadata": {
  "kernelspec": {
   "display_name": "Python 3 (ipykernel)",
   "language": "python",
   "name": "python3"
  },
  "language_info": {
   "codemirror_mode": {
    "name": "ipython",
    "version": 3
   },
   "file_extension": ".py",
   "mimetype": "text/x-python",
   "name": "python",
   "nbconvert_exporter": "python",
   "pygments_lexer": "ipython3",
   "version": "3.9.16"
  }
 },
 "nbformat": 4,
 "nbformat_minor": 5
}
