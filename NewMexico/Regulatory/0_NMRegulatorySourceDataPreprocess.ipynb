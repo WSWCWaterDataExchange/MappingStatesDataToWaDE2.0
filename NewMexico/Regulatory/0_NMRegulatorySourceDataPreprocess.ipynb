{
 "cells": [
  {
   "cell_type": "markdown",
   "metadata": {},
   "source": [
    "# NM Regulatory Data\n",
    "\n",
    "Preprocessing input data for a smoother upload experience of the state data to the WaDE 2.0 database.\n",
    "Using geopandas to read in shp file, and coverting to WKT for ReportingUnit geometry.\n",
    "\n",
    "Notes\n",
    "- Will create separate dataframes for each regulatory input, combine into single long output dataframe.\n",
    "- WKT will be in it's own separate geometery dataframe."
   ]
  },
  {
   "cell_type": "code",
   "execution_count": null,
   "metadata": {},
   "outputs": [],
   "source": [
    "#Needed Libararies\n",
    "import os\n",
    "import numpy as np\n",
    "import pandas as pd\n",
    "from datetime import datetime\n",
    "import geopandas as gpd # the library that lets us read in shapefiles\n",
    "pd.set_option('display.max_columns', 999)  # How to display all columns of a Pandas DataFrame in Jupyter Notebook\n",
    "\n",
    "#Setting work directory, reading inputs, creating dataframe\n",
    "workingDir = \"C:/Users/rjame/Documents/WSWC Documents/MappingStatesDataToWaDE2.0/NewMexico/Regulatory/RawInputData\"\n",
    "os.chdir(workingDir)"
   ]
  },
  {
   "cell_type": "markdown",
   "metadata": {},
   "source": [
    "## Interstate Stream Compact Regions"
   ]
  },
  {
   "cell_type": "code",
   "execution_count": null,
   "metadata": {},
   "outputs": [],
   "source": [
    "#CSV input file\n",
    "fileInput = \"InterstateStreamCompactRegions_input.csv\"\n",
    "\n",
    "df = pd.read_csv(fileInput)\n",
    "print(len(df))\n",
    "df.head(3)"
   ]
  },
  {
   "cell_type": "code",
   "execution_count": null,
   "metadata": {},
   "outputs": [],
   "source": [
    "# Interstate Stream Compact Regions Dataframe\n",
    "# -------------------------------------------\n",
    "\n",
    "# Create new dataframe\n",
    "columnList = ['in_ReportingUnitName', \n",
    "              'in_ReportingUnitNativeID', \n",
    "              'in_ReportingUnitTypeCV', \n",
    "              \"in_OversightAgency\",\n",
    "              \"in_RegulatoryDescription\",\n",
    "              \"in_RegulatoryName\",\n",
    "              \"in_RegulatoryStatusCV\",\n",
    "              \"in_RegulatoryStatute\",\n",
    "              \"in_RegulatoryStatuteLink\",\n",
    "              \"in_StatutoryEffectiveDate\",\n",
    "              \"in_RegulatoryOverlayTypeCV\",\n",
    "              \"in_WaterSourceTypeCV\"]\n",
    "df_ISCR = pd.DataFrame(columns=columnList, index=df.index)\n",
    "\n",
    "# ReportingUnit Inputs\n",
    "df_ISCR['in_ReportingUnitName'] = df['Full_Name']\n",
    "df_ISCR['in_ReportingUnitNativeID'] = df['OID_']\n",
    "df_ISCR['in_ReportingUnitTypeCV'] = \"Interstate River Compact\"\n",
    "\n",
    "# RegulatoryOverlay\n",
    "df_ISCR['in_OversightAgency'] = df['States']\n",
    "df_ISCR['in_RegulatoryDescription'] = df['RegulatoryDescription']\n",
    "df_ISCR['in_RegulatoryName'] = df['Full_Name']\n",
    "df_ISCR['in_RegulatoryStatusCV'] = \"Active\"\n",
    "df_ISCR['in_RegulatoryStatute'] = \"\"  #blank\n",
    "df_ISCR['in_RegulatoryStatuteLink'] = df['URL']\n",
    "df_ISCR['in_StatutoryEffectiveDate'] = \"01/01/\" + df['EffectiveDate'].astype(str)\n",
    "df_ISCR['in_RegulatoryOverlayTypeCV'] = \"Interstate River Compact\"\n",
    "df_ISCR['in_WaterSourceTypeCV'] = \"Surface Water\"\n",
    "\n",
    "df_ISCR = df_ISCR.drop_duplicates().reset_index()\n",
    "\n",
    "print(len(df_ISCR))\n",
    "df_ISCR.head(3)"
   ]
  },
  {
   "cell_type": "markdown",
   "metadata": {},
   "source": [
    "## OSE Water Right District Boundary"
   ]
  },
  {
   "cell_type": "code",
   "execution_count": null,
   "metadata": {},
   "outputs": [],
   "source": [
    "#CSV input file\n",
    "fileInput = \"OSEWaterRightDistrictBoundary_input.csv\"\n",
    "\n",
    "df = pd.read_csv(fileInput)\n",
    "print(len(df))\n",
    "df.head(3)"
   ]
  },
  {
   "cell_type": "code",
   "execution_count": null,
   "metadata": {},
   "outputs": [],
   "source": [
    "#  OSE Water Right District Boundary Dataframe\n",
    "# -------------------------------------------\n",
    "\n",
    "# Create new dataframe\n",
    "columnList = ['in_ReportingUnitName', \n",
    "              'in_ReportingUnitNativeID', \n",
    "              'in_ReportingUnitTypeCV', \n",
    "              \"in_OversightAgency\",\n",
    "              \"in_RegulatoryDescription\",\n",
    "              \"in_RegulatoryName\",\n",
    "              \"in_RegulatoryStatusCV\",\n",
    "              \"in_RegulatoryStatute\",\n",
    "              \"in_RegulatoryStatuteLink\",\n",
    "              \"in_StatutoryEffectiveDate\",\n",
    "              \"in_RegulatoryOverlayTypeCV\",\n",
    "              \"in_WaterSourceTypeCV\"]\n",
    "df_EWRD = pd.DataFrame(columns=columnList, index=df.index)\n",
    "\n",
    "# ReportingUnit Inputs\n",
    "df_EWRD['in_ReportingUnitName'] = df['name']\n",
    "df_EWRD['in_ReportingUnitNativeID'] = df['ose_dist_i']\n",
    "df_EWRD['in_ReportingUnitTypeCV'] = \"Water Rights District\"\n",
    "\n",
    "# RegulatoryOverlay\n",
    "df_EWRD['in_OversightAgency'] = df['name'] + \" OSE\"\n",
    "df_EWRD['in_RegulatoryDescription'] = \"District operated by a Water Master appointed by the Office of the State Engineer, who is charged with administering the state's water resources. The State Engineer has authority over the supervision, measurement, appropriation, and distribution of all surface and groundwater in New Mexico, including streams and rivers that cross state boundaries\"\n",
    "df_EWRD['in_RegulatoryName'] = df['name'] + \" District\"\n",
    "df_EWRD['in_RegulatoryStatusCV'] = \"Active\"\n",
    "df_EWRD['in_RegulatoryStatute'] = \"https://nmonesource.com/nmos/nmsa/en/item/4402/index.do#!fragment/zoupio-_Toc74832537/BQCwhgziBcwMYgK4DsDWszIQewE4BUBTADwBdoAvbRABwEtsBaAfX2zgHYAWADgGYATAFY+HAJQAaZNlKEIARUSFcAT2gBydRIiEwuBIuVrN23fpABlPKQBCagEoBRADKOAagEEAcgGFHE0jAAI2hSdjExIA\"\n",
    "df_EWRD['in_RegulatoryStatuteLink'] = df['URL']\n",
    "df_EWRD['in_StatutoryEffectiveDate'] = \"08/12/2021\"\n",
    "df_EWRD['in_RegulatoryOverlayTypeCV'] = \"Water Rights District\"\n",
    "df_EWRD['in_WaterSourceTypeCV'] = \"Surface and Groundwater\"\n",
    "\n",
    "df_EWRD = df_EWRD.drop_duplicates().reset_index()\n",
    "\n",
    "print(len(df_EWRD))\n",
    "df_EWRD.head(3)"
   ]
  },
  {
   "cell_type": "markdown",
   "metadata": {},
   "source": [
    "## Special Conditions Water Right"
   ]
  },
  {
   "cell_type": "code",
   "execution_count": null,
   "metadata": {},
   "outputs": [],
   "source": [
    "#CSV input file\n",
    "fileInput = \"SpecialConditionsWaterRight_input.csv\"\n",
    "\n",
    "df = pd.read_csv(fileInput)\n",
    "print(len(df))\n",
    "df.head(3)"
   ]
  },
  {
   "cell_type": "code",
   "execution_count": null,
   "metadata": {},
   "outputs": [],
   "source": [
    "#  Special Conditoins Water Right Dataframe\n",
    "# -------------------------------------------\n",
    "\n",
    "# Create new dataframe\n",
    "columnList = ['in_ReportingUnitName', \n",
    "              'in_ReportingUnitNativeID', \n",
    "              'in_ReportingUnitTypeCV', \n",
    "              \"in_OversightAgency\",\n",
    "              \"in_RegulatoryDescription\",\n",
    "              \"in_RegulatoryName\",\n",
    "              \"in_RegulatoryStatusCV\",\n",
    "              \"in_RegulatoryStatute\",\n",
    "              \"in_RegulatoryStatuteLink\",\n",
    "              \"in_StatutoryEffectiveDate\",\n",
    "              \"in_RegulatoryOverlayTypeCV\",\n",
    "              \"in_WaterSourceTypeCV\"]\n",
    "df_SCWR = pd.DataFrame(columns=columnList, index=df.index)\n",
    "\n",
    "# ReportingUnit Inputs\n",
    "df_SCWR['in_ReportingUnitName'] = df['Name']\n",
    "df_SCWR['in_ReportingUnitNativeID'] = df['OID_']\n",
    "df_SCWR['in_ReportingUnitTypeCV'] = \"Special Condition Water Right\"\n",
    "\n",
    "# RegulatoryOverlay\n",
    "df_SCWR['in_OversightAgency'] = df['jurisdicti']\n",
    "df_SCWR['in_RegulatoryDescription'] = df['requiremen']\n",
    "df_SCWR['in_RegulatoryName'] = df['Name']\n",
    "df_SCWR['in_RegulatoryStatusCV'] = \"Active\"\n",
    "df_SCWR['in_RegulatoryStatute'] = \"\"\n",
    "df_SCWR['in_RegulatoryStatuteLink'] = \"\"\n",
    "df_SCWR['in_StatutoryEffectiveDate'] = df['effect_dat']\n",
    "df_SCWR['in_RegulatoryOverlayTypeCV'] = \"Special Condition Water Right\"\n",
    "df_SCWR['in_WaterSourceTypeCV'] = \"Surface and Groundwater\"\n",
    "\n",
    "df_SCWR = df_SCWR.drop_duplicates().reset_index()\n",
    "\n",
    "print(len(df_SCWR))\n",
    "df_SCWR.head(3)"
   ]
  },
  {
   "cell_type": "markdown",
   "metadata": {},
   "source": [
    "## Concatenate DataFrames together"
   ]
  },
  {
   "cell_type": "code",
   "execution_count": null,
   "metadata": {},
   "outputs": [],
   "source": [
    "# Concatenate Subbasin DataFrames\n",
    "frames = [df_ISCR, df_EWRD, df_SCWR]\n",
    "df_out = pd.concat(frames)\n",
    "\n",
    "print(len(df_out))\n",
    "df_out"
   ]
  },
  {
   "cell_type": "markdown",
   "metadata": {},
   "source": [
    "## WaDE Custom Elements (due to missing sate info)"
   ]
  },
  {
   "cell_type": "code",
   "execution_count": null,
   "metadata": {
    "scrolled": true
   },
   "outputs": [],
   "source": [
    "# Creating WaDE Custom Regulatory Overlay Native ID for easy water source identification\n",
    "# ----------------------------------------------------------------------------------------------------\n",
    "\n",
    "# Create temp RegulatoryOverlayNativeID dataframe of unique water source.\n",
    "def assignRegulatoryOverlayNativeID(colrowValue):\n",
    "    string1 = str(colrowValue)\n",
    "    outstring = \"WaDENM_RE\" + string1\n",
    "    return outstring\n",
    "\n",
    "dfRegulatoryOverlayNativeID = pd.DataFrame()\n",
    "dfRegulatoryOverlayNativeID['in_ReportingUnitName'] = df_out['in_ReportingUnitName']\n",
    "dfRegulatoryOverlayNativeID = dfRegulatoryOverlayNativeID.drop_duplicates()\n",
    "\n",
    "dftemp = pd.DataFrame(index=dfRegulatoryOverlayNativeID.index)\n",
    "dftemp[\"Count\"] = range(1, len(dftemp.index) + 1)\n",
    "dfRegulatoryOverlayNativeID['in_RegulatoryOverlayNativeID'] = dftemp.apply(lambda row: assignRegulatoryOverlayNativeID(row['Count']), axis=1)\n",
    "\n",
    "# ----------------------------------------------------------------------------------------------------\n",
    "\n",
    "# Retreive WaDE Custom Regulatory Overlay Native ID\n",
    "def retrieveRegulatoryOverlayNativeID(A):\n",
    "    if (A == '') or (pd.isnull(A)):\n",
    "        outList = ''\n",
    "    else:\n",
    "        ml = dfRegulatoryOverlayNativeID.loc[(dfRegulatoryOverlayNativeID['in_ReportingUnitName'] == A), 'in_RegulatoryOverlayNativeID']\n",
    "        if not (ml.empty):  # check if the series is empty\n",
    "            outList = ml.iloc[0]\n",
    "        else:\n",
    "            outList = ''\n",
    "    return outList\n",
    "\n",
    "df_out['in_RegulatoryOverlayNativeID'] = df_out.apply(lambda row: retrieveRegulatoryOverlayNativeID(row['in_ReportingUnitName']), axis=1)\n",
    "df_out"
   ]
  },
  {
   "cell_type": "markdown",
   "metadata": {},
   "source": [
    "# Shapefile Data"
   ]
  },
  {
   "cell_type": "code",
   "execution_count": null,
   "metadata": {},
   "outputs": [],
   "source": [
    "# Interstate Stream Compact Regions\n",
    "\n",
    "ISCRShapeFile = \"ShapefileData/Interstate Stream Compact Regions/NMInterstateStreamCompactRegions.shp\"\n",
    "ISCRShape = gpd.read_file(ISCRShapeFile)\n",
    "\n",
    "print(len(ISCRShape))\n",
    "ISCRShape.head(1)"
   ]
  },
  {
   "cell_type": "code",
   "execution_count": null,
   "metadata": {},
   "outputs": [],
   "source": [
    "# Interstate Stream Compact Regions output shapefile dataframe\n",
    "columnList = ['in_ReportingUnitName', \n",
    "              'in_ReportingUnitNativeID',\n",
    "              'in_ReportingUnitTypeCV',\n",
    "              'in_Geomerty']\n",
    "df_ISCR_shp = pd.DataFrame(columns=columnList, index=ISCRShape.index)\n",
    "\n",
    "df_ISCR_shp['in_ReportingUnitName'] = ISCRShape['Full_Name']\n",
    "df_ISCR_shp['in_ReportingUnitNativeID'] = ISCRShape.index\n",
    "df_ISCR_shp['in_ReportingUnitTypeCV'] = \"Interstate River Compact\"\n",
    "df_ISCR_shp['in_Geomerty'] = ISCRShape['geometry']\n",
    "\n",
    "print(len(df_ISCR_shp))\n",
    "df_ISCR_shp.head(3)"
   ]
  },
  {
   "cell_type": "code",
   "execution_count": null,
   "metadata": {},
   "outputs": [],
   "source": [
    "# OSE Water Right District Boundary\n",
    "\n",
    "EWRDhapeFile = \"ShapefileData/OSE District Boundary/OSEDistrictBoundary.shp\"\n",
    "EWRDShape = gpd.read_file(EWRDhapeFile)\n",
    "\n",
    "print(len(EWRDShape))\n",
    "EWRDShape.head(1)"
   ]
  },
  {
   "cell_type": "code",
   "execution_count": null,
   "metadata": {},
   "outputs": [],
   "source": [
    "# OSE Water Right District output shapefile dataframe\n",
    "columnList = ['in_ReportingUnitName', \n",
    "              'in_ReportingUnitNativeID',\n",
    "              'in_ReportingUnitTypeCV',\n",
    "              'in_Geomerty']\n",
    "df_EWRD_shp = pd.DataFrame(columns=columnList, index=EWRDShape.index)\n",
    "\n",
    "df_EWRD_shp['in_ReportingUnitName'] = EWRDShape['name']\n",
    "df_EWRD_shp['in_ReportingUnitNativeID'] = EWRDShape['ose_dist_i']\n",
    "df_EWRD_shp['in_ReportingUnitTypeCV'] = \"Water Rights District\"\n",
    "df_EWRD_shp['in_Geomerty'] = EWRDShape['geometry']\n",
    "\n",
    "print(len(df_EWRD_shp))\n",
    "df_EWRD_shp.head(3)"
   ]
  },
  {
   "cell_type": "code",
   "execution_count": null,
   "metadata": {},
   "outputs": [],
   "source": [
    "# Special Conditoins Water Right\n",
    "\n",
    "SCWRShapeFile = \"ShapefileData/Water Right Regulations/WaterRightRegulations.shp\"\n",
    "SCWRShape = gpd.read_file(SCWRShapeFile)\n",
    "\n",
    "print(len(SCWRShape))\n",
    "SCWRShape.head(1)"
   ]
  },
  {
   "cell_type": "code",
   "execution_count": null,
   "metadata": {},
   "outputs": [],
   "source": [
    "# Special Conditoins Water Right output shapefile dataframe\n",
    "columnList = ['in_ReportingUnitName', \n",
    "              'in_ReportingUnitNativeID',\n",
    "              'in_ReportingUnitTypeCV',\n",
    "              'in_Geomerty']\n",
    "df_SCWR_shp = pd.DataFrame(columns=columnList, index=SCWRShape.index)\n",
    "\n",
    "df_SCWR_shp['in_ReportingUnitName'] = SCWRShape['Name']\n",
    "df_SCWR_shp['in_ReportingUnitNativeID'] = SCWRShape.index\n",
    "df_SCWR_shp['in_ReportingUnitTypeCV'] = \"Special Condition Water Right\"\n",
    "df_SCWR_shp['in_Geomerty'] = SCWRShape['geometry']\n",
    "\n",
    "print(len(df_SCWR_shp))\n",
    "df_SCWR_shp.head(3)"
   ]
  },
  {
   "cell_type": "markdown",
   "metadata": {},
   "source": [
    "### Concatenate Basin & Subbasin DataFrames"
   ]
  },
  {
   "cell_type": "code",
   "execution_count": null,
   "metadata": {},
   "outputs": [],
   "source": [
    "# Concatenate Subbasin DataFrames\n",
    "frames = [df_ISCR_shp, df_EWRD_shp, df_SCWR_shp]\n",
    "df_shape_out = pd.concat(frames)\n",
    "\n",
    "print(len(df_shape_out))\n",
    "df_shape_out"
   ]
  },
  {
   "cell_type": "markdown",
   "metadata": {},
   "source": [
    "### Inspect Output Data & Export"
   ]
  },
  {
   "cell_type": "code",
   "execution_count": null,
   "metadata": {
    "scrolled": false
   },
   "outputs": [],
   "source": [
    "with pd.option_context('display.max_rows', None, 'display.max_columns', None):\n",
    "    print(df_out.dtypes)"
   ]
  },
  {
   "cell_type": "code",
   "execution_count": null,
   "metadata": {},
   "outputs": [],
   "source": [
    "with pd.option_context('display.max_rows', None, 'display.max_columns', None):\n",
    "    print(df_shape_out.dtypes)"
   ]
  },
  {
   "cell_type": "code",
   "execution_count": null,
   "metadata": {},
   "outputs": [],
   "source": [
    "# Export out to CSV.\n",
    "df_out.to_csv('P_nmRegMaster.csv', index=False) # The output.\n",
    "df_shape_out.to_csv('P_nmRegGeometry.csv', index=False) # The output geometry."
   ]
  },
  {
   "cell_type": "code",
   "execution_count": null,
   "metadata": {},
   "outputs": [],
   "source": []
  }
 ],
 "metadata": {
  "kernelspec": {
   "display_name": "Python 3",
   "language": "python",
   "name": "python3"
  },
  "language_info": {
   "codemirror_mode": {
    "name": "ipython",
    "version": 3
   },
   "file_extension": ".py",
   "mimetype": "text/x-python",
   "name": "python",
   "nbconvert_exporter": "python",
   "pygments_lexer": "ipython3",
   "version": "3.8.5"
  }
 },
 "nbformat": 4,
 "nbformat_minor": 4
}
