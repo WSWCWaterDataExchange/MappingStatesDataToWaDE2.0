{
 "cells": [
  {
   "cell_type": "markdown",
   "metadata": {},
   "source": [
    "# Pre-processing Utah Allocation data for WaDEQA upload.\n",
    "- Purpose:  To pre-process the Utah data into one master file for simple DataFrame creation and extraction"
   ]
  },
  {
   "cell_type": "code",
   "execution_count": null,
   "metadata": {},
   "outputs": [],
   "source": [
    "#Needed Libararies\n",
    "\n",
    "# working with data\n",
    "import os\n",
    "import numpy as np\n",
    "import pandas as pd\n",
    "import geopandas as gpd\n",
    "\n",
    "# visulizaiton\n",
    "import matplotlib.pyplot as plt\n",
    "import seaborn as sns\n",
    "\n",
    "# API retrieval\n",
    "import requests\n",
    "import json\n",
    "\n",
    "# Cleanup\n",
    "from datetime import datetime\n",
    "pd.set_option('display.max_columns', 999)  # How to display all columns of a Pandas DataFrame in Jupyter Notebook\n",
    "pd.set_option('display.float_format', lambda x: '%.5f' % x) # suppress scientific notation in Pandas"
   ]
  },
  {
   "cell_type": "code",
   "execution_count": null,
   "metadata": {},
   "outputs": [],
   "source": [
    "# Working Directory\n",
    "workingDir = \"G:/Shared drives/WaDE Data/Utah/WaterAllocation/RawInputData\"\n",
    "os.chdir(workingDir)"
   ]
  },
  {
   "cell_type": "markdown",
   "metadata": {},
   "source": [
    "## Point of Diversion Data"
   ]
  },
  {
   "cell_type": "code",
   "execution_count": null,
   "metadata": {},
   "outputs": [],
   "source": [
    "# Input File\n",
    "FI_PoD = \"PointsOfDiversion_input.csv\"\n",
    "dfPODin = pd.read_csv(FI_PoD, encoding = \"ISO-8859-1\")\n",
    "\n",
    "# WaDE UUID tracker for data assessment\n",
    "if 'WaDEUUID' not in dfPODin:\n",
    "    dfPODin['WaDEUUID'] = \"utD\" + dfPODin.index.astype(str)\n",
    "    dfPODin.to_csv('PointsOfDiversion_input.csv', index=False)\n",
    "\n",
    "dfPODin.head()"
   ]
  },
  {
   "cell_type": "code",
   "execution_count": null,
   "metadata": {},
   "outputs": [],
   "source": [
    "def fixNativeID(valA):\n",
    "    outString = str(valA).strip()\n",
    "    return outString\n",
    "\n",
    "dfPODin['WRNUM'] = dfPODin.apply(lambda row: fixNativeID(row['WRNUM']), axis=1)"
   ]
  },
  {
   "cell_type": "code",
   "execution_count": null,
   "metadata": {},
   "outputs": [],
   "source": [
    "# For creating BeneficialUseCategory\n",
    "benUseDict = {\n",
    "    \"I\" : \"Irrigation\",\n",
    "    \"S\" : \"Stockwatering\",\n",
    "    \"D\" : \"Domestic\",\n",
    "    \"M\" : \"Municipal\",\n",
    "    \"X\" : \"Mining\",\n",
    "    \"P\" : \"Power\",\n",
    "    \"O\" : \"Other\"}\n",
    "def assignBenUseCategory(colrowValue):\n",
    "    colrowValue = str(colrowValue).strip()\n",
    "    if colrowValue == \"\" or pd.isnull(colrowValue):\n",
    "        outList = \"WaDE Unspecified\"\n",
    "    else:\n",
    "        outList = \",\".join(benUseDict[inx] for inx in list(str(colrowValue)))\n",
    "    return outList\n",
    "\n",
    "\n",
    "dfPODin['in_BeneficialUseCategory'] = dfPODin.apply(lambda row: assignBenUseCategory(row['USES']), axis=1)\n",
    "dfPODin['in_BeneficialUseCategory'].unique()"
   ]
  },
  {
   "cell_type": "code",
   "execution_count": null,
   "metadata": {},
   "outputs": [],
   "source": [
    "# Creating the output Dataframe for PODs.\n",
    "\n",
    "dfPOD = pd.DataFrame(index=dfPODin.index)\n",
    "\n",
    "# Data Assessment UUID\n",
    "dfPOD['WaDEUUID'] = dfPODin['WaDEUUID']\n",
    "\n",
    "# Water Source\n",
    "dfPOD[\"in_WaterSourceName\"] = \"WaDE Unspecified\"\n",
    "dfPOD[\"in_WaterSourceTypeCV\"] = dfPODin['TYPE']\n",
    "\n",
    "# Site\n",
    "dfPOD[\"in_CoordinateAccuracy\"] = \"WaDE Unspecified\"\n",
    "dfPOD[\"in_CoordinateMethodCV\"] = \"WaDE Unspecified\"\n",
    "dfPOD['in_HUC12'] = \"\"\n",
    "dfPOD['in_HUC8'] = \"\"\n",
    "dfPOD['in_County'] = \"\"\n",
    "dfPOD[\"in_Latitude\"] = dfPODin['Latitude']\n",
    "dfPOD[\"in_Longitude\"] = dfPODin['Longitude']\n",
    "dfPOD[\"in_PODorPOUSite\"] = \"POD\"\n",
    "dfPOD[\"in_SiteName\"] = dfPODin['SOURCE']\n",
    "dfPOD[\"in_SiteNativeID\"] = \"POD\" + dfPODin['OBJECTID'].astype(str)\n",
    "dfPOD[\"in_SiteTypeCV\"] = dfPODin['SOURCE']\n",
    "dfPOD[\"in_StateCV\"] = \"UT\"\n",
    "\n",
    "# Allocation\n",
    "dfPOD[\"in_AllocationFlow_CFS\"] = dfPODin['CFS'].astype(float)\n",
    "dfPOD[\"in_AllocationVolume_AF\"] = dfPODin['ACFT'].astype(float)\n",
    "dfPOD['in_AllocationLegalStatusCV'] = dfPODin['STATUS']\n",
    "dfPOD[\"in_AllocationNativeID\"] = dfPODin['WRNUM']\n",
    "dfPOD['in_AllocationOwner'] = dfPODin['OWNER']\n",
    "dfPOD['in_AllocationPriorityDate'] = dfPODin['PRIORITY']\n",
    "dfPOD['in_AllocationTimeframeEnd'] = \"\"\n",
    "dfPOD['in_AllocationTimeframeStart'] = \"\"\n",
    "dfPOD['in_AllocationTypeCV'] = \"\"\n",
    "dfPOD[\"in_BeneficialUseCategory\"] = dfPODin['in_BeneficialUseCategory']  #see above\n",
    "dfPOD['in_CommunityWaterSupplySystem'] = \"\"\n",
    "dfPOD['in_ExemptOfVolumeFlowPriority'] = \"0\"\n",
    "dfPOD[\"in_IrrigatedAcreage\"] = \"\"\n",
    "dfPOD[\"in_WaterAllocationNativeURL\"] = \"\"\n",
    "\n",
    "dfPOD = dfPOD.drop_duplicates().reset_index(drop=True)\n",
    "print(len(dfPOD))\n",
    "dfPOD.head(1)"
   ]
  },
  {
   "cell_type": "markdown",
   "metadata": {},
   "source": [
    "## Place of Use Data"
   ]
  },
  {
   "cell_type": "code",
   "execution_count": null,
   "metadata": {},
   "outputs": [],
   "source": [
    "# Input File\n",
    "FI_POU = \"Utah_Place_of_Use_Irrigation_input.csv\"\n",
    "dfPOUin = pd.read_csv(FI_POU, encoding = \"ISO-8859-1\") # Place of Use Input\n",
    "\n",
    "# WaDE UUID tracker for data assessment\n",
    "if 'WaDEUUID' not in dfPOUin:\n",
    "    dfPOUin['WaDEUUID'] = \"utU\" + dfPOUin.index.astype(str)\n",
    "    dfPOUin.to_csv('Utah_Place_of_Use_Irrigation_input.csv', index=False)\n",
    "\n",
    "print(len(dfPOUin))\n",
    "dfPOUin.head()"
   ]
  },
  {
   "cell_type": "code",
   "execution_count": null,
   "metadata": {},
   "outputs": [],
   "source": [
    "dfPOUin = dfPOUin.drop_duplicates().reset_index(drop=True)\n",
    "print(len(dfPOUin))\n",
    "dfPOUin.head()"
   ]
  },
  {
   "cell_type": "code",
   "execution_count": null,
   "metadata": {},
   "outputs": [],
   "source": [
    "# I manually solved this to prevet future errors.\n",
    "\n",
    "# # Need to split out WRNUMS into their own row\n",
    "# # The explode() method explodes lists into separate rows.\n",
    "# dfPOUin = dfPOUin.assign(WRNUMS=dfPOUin['WRNUMS'].str.split(',')).explode('WRNUMS').reset_index()\n",
    "# dfPOUin = dfPOUin.rename({'WRNUMS': 'WRNUM'}, axis=1)\n",
    "# dfPOUin = dfPOUin.replace(np.nan, \"\").reset_index()\n",
    "# print(len(dfPOUin))\n",
    "# dfPOUin.head(1)\n",
    "\n",
    "dfPOUin = dfPOUin.drop_duplicates().reset_index(drop=True)\n",
    "print(len(dfPOUin))"
   ]
  },
  {
   "cell_type": "code",
   "execution_count": null,
   "metadata": {},
   "outputs": [],
   "source": [
    "def fixNativeID(valA):\n",
    "    outString = str(valA).strip()\n",
    "    return outString\n",
    "\n",
    "dfPOUin['WRNUM'] = dfPOUin.apply(lambda row: fixNativeID(row['WRNUM']), axis=1)"
   ]
  },
  {
   "cell_type": "code",
   "execution_count": null,
   "metadata": {},
   "outputs": [],
   "source": [
    "# CFS not provided for POU data.  Will instead assume they share values.\n",
    "# merging dfPOD data to ensure that the POUs are using the same CFS and AF as the PODS.\n",
    "dfPOUin = pd.merge(dfPOUin, dfPOD, left_on='WRNUM', right_on='in_AllocationNativeID', how='left')\n",
    "print(len(dfPOUin))\n",
    "dfPOUin.head(1)"
   ]
  },
  {
   "cell_type": "code",
   "execution_count": null,
   "metadata": {},
   "outputs": [],
   "source": [
    "# Creating the output Dataframe for POUs.\n",
    "\n",
    "dfPOU = pd.DataFrame(index=dfPOUin.index)\n",
    "\n",
    "# Data Assessment UUID\n",
    "dfPOU['WaDEUUID'] = dfPOUin['WaDEUUID_x']\n",
    "\n",
    "# Water Source\n",
    "dfPOU[\"in_WaterSourceName\"] = \"WaDE Unspecified\"\n",
    "dfPOU[\"in_WaterSourceTypeCV\"] = \"\"\n",
    "\n",
    "# Site\n",
    "dfPOU[\"in_CoordinateAccuracy\"] = \"WaDE Unspecified\"\n",
    "dfPOU[\"in_CoordinateMethodCV\"] = \"WaDE Unspecified\"\n",
    "dfPOU['in_County'] = \"\"\n",
    "dfPOU['in_HUC12'] = \"\"\n",
    "dfPOU['in_HUC8'] = \"\"\n",
    "dfPOU[\"in_Latitude\"] = dfPOUin['Latitude']\n",
    "dfPOU[\"in_Longitude\"] = dfPOUin['Longitude']\n",
    "dfPOU[\"in_PODorPOUSite\"] = \"POU\"\n",
    "dfPOU[\"in_SiteName\"] = \"WaDE Unspecified\"\n",
    "dfPOU[\"in_SiteNativeID\"] = \"POU\" + dfPOUin['RECORD_ID'].astype(str)\n",
    "dfPOU[\"in_SiteTypeCV\"] = \"\"\n",
    "dfPOU[\"in_StateCV\"] = \"UT\"\n",
    "\n",
    "# Allocation\n",
    "dfPOU[\"in_AllocationFlow_CFS\"] = dfPOUin['in_AllocationFlow_CFS'].astype(float)  # from POD data\n",
    "dfPOU[\"in_AllocationVolume_AF\"] = dfPOUin['in_AllocationVolume_AF'].astype(float)\n",
    "dfPOU['in_AllocationLegalStatusCV'] = dfPOUin['in_AllocationLegalStatusCV'] # from POD data\n",
    "dfPOU[\"in_AllocationNativeID\"] = dfPOUin['WRNUM'].str.strip()\n",
    "dfPOU['in_AllocationOwner'] = dfPOUin['in_AllocationOwner']  # from POD data\n",
    "dfPOU['in_AllocationPriorityDate'] = dfPOUin['in_AllocationPriorityDate']  # from POD data\n",
    "dfPOU['in_AllocationTimeframeEnd'] = \"\"\n",
    "dfPOU['in_AllocationTimeframeStart'] = \"\"\n",
    "dfPOU['in_AllocationTypeCV'] = \"\"\n",
    "dfPOU[\"in_BeneficialUseCategory\"] = dfPOUin['in_BeneficialUseCategory']  # from POD data\n",
    "dfPOU['in_CommunityWaterSupplySystem'] = \"\"\n",
    "dfPOU['in_ExemptOfVolumeFlowPriority'] = \"0\"\n",
    "dfPOU[\"in_IrrigatedAcreage\"] = dfPOUin['ACRES'].astype(float)\n",
    "dfPOU[\"in_WaterAllocationNativeURL\"] = \"\"\n",
    "\n",
    "dfPOU = dfPOU.drop_duplicates().reset_index(drop=True)\n",
    "print(len(dfPOUin))\n",
    "dfPOU.head(1)"
   ]
  },
  {
   "cell_type": "markdown",
   "metadata": {},
   "source": [
    "## Concatenate POD and POU Data.  Clean Data."
   ]
  },
  {
   "cell_type": "code",
   "execution_count": null,
   "metadata": {
    "scrolled": false
   },
   "outputs": [],
   "source": [
    "# Concatenate\n",
    "frames = [dfPOD, dfPOU]\n",
    "dfout = pd.concat(frames)\n",
    "\n",
    "#Removing all NaN Values and replacing with blank\n",
    "dfout = dfout.replace(np.nan, \"\", regex=True).reset_index()\n",
    "\n",
    "print(len(dfout))\n",
    "dfout.head(1)"
   ]
  },
  {
   "cell_type": "code",
   "execution_count": null,
   "metadata": {},
   "outputs": [],
   "source": [
    "# Clean Owner info. Remove special characters\n",
    "import re\n",
    "\n",
    "def cleanOwnerDataFunc(Val):\n",
    "    Val = re.sub(\"[$@&.;,/\\)(-]\", \"\", Val).strip()\n",
    "    return Val\n",
    "\n",
    "dfout['in_AllocationOwner'] = dfout.apply(lambda row: cleanOwnerDataFunc(row['in_AllocationOwner']), axis=1)\n",
    "dfout['in_AllocationOwner'].unique()"
   ]
  },
  {
   "cell_type": "code",
   "execution_count": null,
   "metadata": {},
   "outputs": [],
   "source": [
    "# Changing datatype of used date fields. \n",
    "dfout['in_AllocationPriorityDate'] = pd.to_datetime(dfout['in_AllocationPriorityDate'], errors = 'coerce')\n",
    "dfout['in_AllocationPriorityDate'] = pd.to_datetime(dfout[\"in_AllocationPriorityDate\"].dt.strftime('%m/%d/%Y'))"
   ]
  },
  {
   "cell_type": "code",
   "execution_count": null,
   "metadata": {},
   "outputs": [],
   "source": [
    "# Making Sure datatype of Long, Lat, Wrex, Irrigation are Float\n",
    "dfout['in_AllocationFlow_CFS'] = pd.to_numeric(dfout['in_AllocationFlow_CFS'], errors='coerce')\n",
    "dfout['in_AllocationVolume_AF'] = pd.to_numeric(dfout['in_AllocationVolume_AF'], errors='coerce')"
   ]
  },
  {
   "cell_type": "code",
   "execution_count": null,
   "metadata": {},
   "outputs": [],
   "source": [
    "# For filling in WaDE Unspecified when null\n",
    "\n",
    "def assignBeneficialUseCategory(val):\n",
    "    val = str(val).strip().rstrip(',')\n",
    "    if val == \"\" or pd.isnull(val):\n",
    "        outString = \"WaDE Unspecified\"\n",
    "    else:\n",
    "        outString = val\n",
    "    return outString\n",
    "\n",
    "dfout['in_BeneficialUseCategory'] =dfout.apply(lambda row: assignBeneficialUseCategory(row['in_BeneficialUseCategory']), axis=1)\n",
    "dfout['in_BeneficialUseCategory'].unique()"
   ]
  },
  {
   "cell_type": "code",
   "execution_count": null,
   "metadata": {},
   "outputs": [],
   "source": [
    "# Creating WaterSourceTypeCV\n",
    "\n",
    "WaterSourceTypeCVDictionary={\n",
    "\"Underground\" : \"Groundwater\",\n",
    "\"Abandonded Well\" : \"Groundwater\",\n",
    "\"Point to Point\" : \"Surface Water\",\n",
    "\"Surface\" : \"Surface Water\",\n",
    "\"Return\" : \"Surface Water\",\n",
    "\"Drain\" : \"Surface Water\",\n",
    "\"Spring\" : \"Surface Water\",\n",
    "\"Rediversion\" : \"Surface Water\"}\n",
    "def CreateWaterSourceTypeCV(val):\n",
    "    if val == \"\" or pd.isnull(val):\n",
    "        outString = \"WaDE Unspecified\"\n",
    "    else:\n",
    "        val = val.strip()\n",
    "        try:\n",
    "            outString = WaterSourceTypeCVDictionary[val]\n",
    "        except:\n",
    "            outString = \"WaDE Unspecified\"\n",
    "    return outString\n",
    "\n",
    "dfout['in_WaterSourceTypeCV'] = dfout.apply(lambda row: CreateWaterSourceTypeCV(row['in_WaterSourceTypeCV']), axis=1)\n",
    "dfout['in_WaterSourceTypeCV'].unique()"
   ]
  },
  {
   "cell_type": "code",
   "execution_count": null,
   "metadata": {},
   "outputs": [],
   "source": [
    "# SiteName, For filling in WaDE Unspecified when null\n",
    "\n",
    "def assignSiteName(val):\n",
    "    val = str(val).strip()\n",
    "    if val == \"\" or pd.isnull(val):\n",
    "        outString = \"WaDE Unspecified\"\n",
    "    else:\n",
    "        outString = val\n",
    "    return outString\n",
    "\n",
    "dfout['in_SiteName'] = dfout.apply(lambda row: assignSiteName(row['in_SiteName']), axis=1)\n",
    "dfout['in_SiteName'].unique()"
   ]
  },
  {
   "cell_type": "code",
   "execution_count": null,
   "metadata": {},
   "outputs": [],
   "source": [
    "# SiteNativeID, For filling in WaDE Unspecified when null\n",
    "\n",
    "def assignSiteNativeID(val):\n",
    "    val = str(val).strip()\n",
    "    return val\n",
    "\n",
    "dfout['in_SiteNativeID'] = dfout.apply(lambda row: assignSiteNativeID(row['in_SiteNativeID']), axis=1)\n",
    "dfout['in_SiteNativeID'].unique()"
   ]
  },
  {
   "cell_type": "code",
   "execution_count": null,
   "metadata": {},
   "outputs": [],
   "source": [
    "# Assign SiteTypeCV value.\n",
    "# Uses the re library, but requires for loop.\n",
    "# Order that the lists are inputed into dictoinary is important, want to overide generic search with a more specific search.\n",
    "\n",
    "# Create the Lists\n",
    "canalList = [\"canal\", \"canals\"]\n",
    "creekList = [\"creek\"]\n",
    "ditchList = [\"ditch\"]\n",
    "drainList = [\"drain\", \"drains\"]\n",
    "lakeList = [\"lake\"]\n",
    "pondList = [\"pond\"]\n",
    "reservoirList = [\"reservoir\"]\n",
    "riverList = [\"river\", \"fork\", \"surface\"]\n",
    "sloughList = [\"slough\"]\n",
    "springList = [\"spring\", \"springs\", \"gulch\", \"seep\"]\n",
    "tunnelList = [\"tunnel\", \"tunnels\"]\n",
    "washList = [\"wash\"]\n",
    "wellList = [\"well\", \"wells\", \"well:\", \"draw\", \"hollow\"]\n",
    "\n",
    "# Making the dictionary\n",
    "listDictionary = {}\n",
    "listDictionary[\"Canal\"] = canalList\n",
    "listDictionary[\"Creek\"] = creekList\n",
    "listDictionary[\"Ditch\"] = ditchList\n",
    "listDictionary[\"Drain\"] = drainList\n",
    "listDictionary[\"Lake\"] = lakeList\n",
    "listDictionary[\"Pond\"] = pondList\n",
    "listDictionary[\"Reservoir\"] = reservoirList\n",
    "listDictionary[\"River\"] = riverList\n",
    "listDictionary[\"Slough\"] = sloughList\n",
    "listDictionary[\"Spring\"] = springList\n",
    "listDictionary[\"Tunnel\"] = tunnelList\n",
    "listDictionary[\"Wash\"] = washList\n",
    "listDictionary[\"Well\"] = wellList\n",
    "\n",
    "def CreateSiteTypeCV(val):\n",
    "    if val == \"\" or pd.isnull(val):\n",
    "        outString = \"WaDE Unspecified\"\n",
    "    else:\n",
    "        outString = \"WaDE Unspecified\" # Default\n",
    "        \n",
    "        # Cleaning text / simple search format\n",
    "        val = val.replace(\",\", \" \")\n",
    "        val = val.replace(\".\", \" \")\n",
    "        val = val.replace(\";\", \" \")\n",
    "        val = val.replace(\"-\", \" \")\n",
    "        val = val.replace(\"/\", \" \")\n",
    "        val = val.replace(\"(\", \" \")\n",
    "        val = val.replace(\")\", \" \")\n",
    "        val = val.lower().strip()\n",
    "        val = \" \"+val+\" \"\n",
    "        \n",
    "        for x in listDictionary:\n",
    "            labelString = x\n",
    "            valueList = listDictionary[x]\n",
    "            for words in valueList:\n",
    "                if re.search(\" \"+words+ \" \", val): outString = x\n",
    "            \n",
    "    return outString\n",
    "\n",
    "dfout['in_SiteTypeCV'] = dfout.apply(lambda row: CreateSiteTypeCV( row['in_SiteTypeCV']), axis=1)\n",
    "dfout['in_SiteTypeCV'].unique()"
   ]
  },
  {
   "cell_type": "code",
   "execution_count": null,
   "metadata": {},
   "outputs": [],
   "source": [
    "# Assign LegalStatusCV value.\n",
    "# Uses the re library, but requires for loop.\n",
    "# Order that the lists are inputed into dictoinary is important, want to overide generic search with a more specific search.\n",
    "\n",
    "# Create the Lists\n",
    "ADECList = [\"ADEC\"]\n",
    "ADVList = [\"ADV\"]\n",
    "APPList = [\"APP\"]\n",
    "CERTList = [\"CERT\"]\n",
    "DECList = [\"DEC\"]\n",
    "DILList = [\"DIL\"]\n",
    "DISList = [\"DIS\"]\n",
    "EXPList = [\"EXP\"]\n",
    "FORFList = [\"FORF\"]\n",
    "LAPList = [\"LAP\"]\n",
    "NPRList = [\"NPR\"]\n",
    "NUSEList = [\"NUSE\"]\n",
    "PERFList = [\"PERF\"]\n",
    "REJList = [\"REJ\"]\n",
    "RNUMList = [\"RNUM\"]\n",
    "STATUSList = [\"STATUS\"]\n",
    "TEMPList = [\"TEMP\"]\n",
    "TERMList = [\"TERM\"]\n",
    "UGWCList = [\"UGWC\"]\n",
    "UNAPList = [\"UNAP\"]\n",
    "WDList = [\"WD\"]\n",
    "WUCList = [\"WUC\"]\n",
    "\n",
    "\n",
    "# Making the dictionary\n",
    "listDictionary = {}\n",
    "\n",
    "listDictionary[\"Lapsed\"] = LAPList\n",
    "\n",
    "listDictionary[\"Adjudication Decree\"] = ADECList\n",
    "listDictionary[\"Adverse Use Claim\"] = ADVList\n",
    "listDictionary[\"Approved\"] = APPList\n",
    "listDictionary[\"Certificated\"] = CERTList\n",
    "listDictionary[\"Decree\"] = DECList\n",
    "listDictionary[\"Diligence Claim\"] = DILList\n",
    "listDictionary[\"Disallowed\"] = DISList\n",
    "listDictionary[\"Expired\"] = EXPList\n",
    "listDictionary[\"Forfeited\"] = FORFList\n",
    "listDictionary[\"No Proof Required\"] = NPRList\n",
    "listDictionary[\"Nonuse\"] = NUSEList\n",
    "listDictionary[\"Perfected\"] = PERFList\n",
    "listDictionary[\"Rejected\"] = REJList\n",
    "listDictionary[\"Renumbered\"] = RNUMList\n",
    "listDictionary[\"Deff\"] = STATUSList\n",
    "listDictionary[\"Temp Applications\"] = TEMPList\n",
    "listDictionary[\"Terminated\"] = TERMList\n",
    "listDictionary[\"Underground Water Claim\"] = UGWCList\n",
    "listDictionary[\"Unapproved\"] = UNAPList\n",
    "listDictionary[\"Withdrawn\"] = WDList\n",
    "listDictionary[\"Water User`s Claim\"] = WUCList\n",
    "\n",
    "\n",
    "def CreateLegalStatus(val):\n",
    "    val = str(val).strip()\n",
    "    if val == \"\" or pd.isnull(val):\n",
    "        outString = \"WaDE Unspecified\"\n",
    "    else:\n",
    "        outString = \"\"\n",
    "        for x in listDictionary:\n",
    "            valueList = listDictionary[x]\n",
    "            for words in valueList:\n",
    "                if words in val: outString = x\n",
    "    \n",
    "    if outString == \"\" or pd.isnull(val):\n",
    "        outString = \"WaDE Unspecified\"\n",
    "\n",
    "    return outString\n",
    "\n",
    "dfout['in_AllocationLegalStatusCV'] = dfout.apply(lambda row: CreateLegalStatus( row['in_AllocationLegalStatusCV']), axis=1)\n",
    "dfout['in_AllocationLegalStatusCV'].unique()"
   ]
  },
  {
   "cell_type": "markdown",
   "metadata": {},
   "source": [
    "## WaDE Custom Elements (due to missing state site info)"
   ]
  },
  {
   "cell_type": "code",
   "execution_count": null,
   "metadata": {},
   "outputs": [],
   "source": [
    "# Creating WaDE Custom water source native ID for easy water source identification\n",
    "# ----------------------------------------------------------------------------------------------------\n",
    "\n",
    "# Create temp WaterSourceNativeID dataframe of unique water source.\n",
    "def assignWaterSourceNativeID(colrowValue):\n",
    "    string1 = str(colrowValue)\n",
    "    outstring = \"WaDEUT_WS\" + string1\n",
    "    return outstring\n",
    "\n",
    "dfWaterSourceNativeID = pd.DataFrame()\n",
    "dfWaterSourceNativeID['in_WaterSourceTypeCV'] = dfout['in_WaterSourceTypeCV']\n",
    "dfWaterSourceNativeID = dfWaterSourceNativeID.drop_duplicates()\n",
    "\n",
    "dftemp = pd.DataFrame(index=dfWaterSourceNativeID.index)\n",
    "dftemp[\"Count\"] = range(1, len(dftemp.index) + 1)\n",
    "dfWaterSourceNativeID['in_WaterSourceNativeID'] = dftemp.apply(lambda row: assignWaterSourceNativeID(row['Count']), axis=1)\n",
    "\n",
    "# ----------------------------------------------------------------------------------------------------\n",
    "\n",
    "# Retreive WaDE Custom water source native ID\n",
    "def retrieveWaterSourceNativeID(A):\n",
    "    if (A == '') or (pd.isnull(A)):\n",
    "        outList = ''\n",
    "    else:\n",
    "        ml = dfWaterSourceNativeID.loc[(dfWaterSourceNativeID['in_WaterSourceTypeCV'] == A), 'in_WaterSourceNativeID']\n",
    "        if not (ml.empty):  # check if the series is empty\n",
    "            outList = ml.iloc[0]\n",
    "        else:\n",
    "            outList = ''\n",
    "    return outList\n",
    "\n",
    "dfout['in_WaterSourceNativeID'] = dfout.apply(lambda row: retrieveWaterSourceNativeID( row['in_WaterSourceTypeCV']), axis=1)\n",
    "dfout['in_WaterSourceNativeID'].unique()"
   ]
  },
  {
   "cell_type": "markdown",
   "metadata": {},
   "source": [
    "## Shapefile Data\n",
    "- For attaching geometry to POU csv inputs."
   ]
  },
  {
   "cell_type": "code",
   "execution_count": null,
   "metadata": {},
   "outputs": [],
   "source": [
    "# PoU Shapefile Data\n",
    "# Shapefile input\n",
    "dfPoUshapetemp = gpd.read_file('Utah_Place_of_Use_Irrigation/Utah_Place_of_Use_Irrigation.shp')\n",
    "print(len(dfPoUshapetemp))\n",
    "dfPoUshapetemp.head(1)"
   ]
  },
  {
   "cell_type": "code",
   "execution_count": null,
   "metadata": {},
   "outputs": [],
   "source": [
    "columnsList = ['in_SiteNativeID', 'geometry']\n",
    "dfPoUshape = pd.DataFrame(columns=columnsList)\n",
    "dfPoUshape['in_SiteNativeID'] = \"POU\" + dfPoUshapetemp['RECORD_ID'].astype(str)\n",
    "dfPoUshape['geometry'] = dfPoUshapetemp['geometry']\n",
    "dfPoUshape = dfPoUshape.drop_duplicates(subset=None, keep='first', inplace=False, ignore_index=False)\n",
    "dfPoUshape.head(3)"
   ]
  },
  {
   "cell_type": "markdown",
   "metadata": {},
   "source": [
    "## Export Data"
   ]
  },
  {
   "cell_type": "code",
   "execution_count": null,
   "metadata": {},
   "outputs": [],
   "source": [
    "#Removing all NaN Values and replacing with blank\n",
    "dfout = dfout.replace(np.nan, \"\", regex=True)\n",
    "print(len(dfout))\n",
    "dfout.head(3)"
   ]
  },
  {
   "cell_type": "code",
   "execution_count": null,
   "metadata": {},
   "outputs": [],
   "source": [
    "#Exporting to Finished File\n",
    "dfout.to_csv('Pwr_UtahMain.csv', index=False)  # The output\n",
    "dfPoUshape.to_csv('P_utGeometry.csv', index=False) # The output geometry."
   ]
  }
 ],
 "metadata": {
  "kernelspec": {
   "display_name": "Python 3 (ipykernel)",
   "language": "python",
   "name": "python3"
  },
  "language_info": {
   "codemirror_mode": {
    "name": "ipython",
    "version": 3
   },
   "file_extension": ".py",
   "mimetype": "text/x-python",
   "name": "python",
   "nbconvert_exporter": "python",
   "pygments_lexer": "ipython3",
   "version": "3.9.16"
  }
 },
 "nbformat": 4,
 "nbformat_minor": 2
}
