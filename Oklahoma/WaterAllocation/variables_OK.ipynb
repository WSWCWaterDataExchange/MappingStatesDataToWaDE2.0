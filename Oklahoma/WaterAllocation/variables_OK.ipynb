{
 "cells": [
  {
   "cell_type": "code",
   "execution_count": 7,
   "metadata": {},
   "outputs": [],
   "source": [
    "#!/usr/bin/env python\n",
    "import pandas as pd\n",
    "import numpy as np\n",
    "import os"
   ]
  },
  {
   "cell_type": "code",
   "execution_count": 8,
   "metadata": {},
   "outputs": [],
   "source": [
    "# working directory\n",
    "working_dir = \"C:/tseg/OKTest\"\n",
    "os.chdir(working_dir)"
   ]
  },
  {
   "cell_type": "code",
   "execution_count": 9,
   "metadata": {},
   "outputs": [
    {
     "name": "stdout",
     "output_type": "stream",
     "text": [
      "Columns...\n"
     ]
    }
   ],
   "source": [
    "print(\"Columns...\")\n",
    "#WaDE columns\n",
    "columns=['VariableSpecificUUID', 'VariableSpecificCV', 'VariableCV', 'AggregationStatisticCV', \n",
    "         'AggregationInterval', 'AggregationIntervalUnitCV', 'ReportYearStartMonth', \n",
    "         'ReportYearTypeCV', 'AmountUnitCV', 'MaximumAmountUnitCV']\n",
    "dtypesx = ['']\n",
    "#assumes dtypes inferred from CO file"
   ]
  },
  {
   "cell_type": "code",
   "execution_count": 10,
   "metadata": {},
   "outputs": [],
   "source": [
    "# map table values --hard coded\n",
    "\n",
    "inpVals = ['OWRB Allocation All','Allocation All', 'Allocation', 'Average', '1', 'Year', \n",
    "           '10', 'WaterYear', 'CFS', 'AFY']\n",
    "\n",
    "outdf100 = pd.DataFrame([inpVals], columns=columns)"
   ]
  },
  {
   "cell_type": "code",
   "execution_count": 11,
   "metadata": {},
   "outputs": [
    {
     "name": "stdout",
     "output_type": "stream",
     "text": [
      "Check required is not null...\n"
     ]
    }
   ],
   "source": [
    "print(\"Check required is not null...\")\n",
    "#9.9.19: Adel: check all 'required' (not NA) columns have value (not empty)\n",
    "requiredCols=['VariableSpecificUUID','VariableSpecificCV', 'VariableCV',\n",
    "              'AggregationStatisticCV', 'AggregationInterval', 'AggregationIntervalUnitCV',\n",
    "              'ReportYearStartMonth', 'ReportYearTypeCV','AmountUnitCV']\n",
    "#replace blank strings by NaN, if there are any\n",
    "outdf100 = outdf100.replace('', np.nan)\n",
    "#any cell of these columns is null\n",
    "#outdf100_nullMand = outdf100.loc[outdf100.isnull().any(axis=1)] --for all cols\n",
    "outdf100_nullMand = outdf100.loc[(outdf100[\"VariableSpecificUUID\"].isnull()) | \n",
    "                                 (outdf100[\"VariableSpecificCV\"].isnull()) |\n",
    "                                (outdf100[\"VariableCV\"].isnull()) | \n",
    "                                 (outdf100[\"AggregationStatisticCV\"].isnull()) |\n",
    "                                (outdf100[\"AggregationInterval\"].isnull()) | \n",
    "                                 (outdf100[\"AggregationIntervalUnitCV\"].isnull()) |\n",
    "                                (outdf100[\"ReportYearStartMonth\"].isnull()) | \n",
    "                                 (outdf100[\"ReportYearTypeCV\"].isnull()) |\n",
    "                                (outdf100[\"AmountUnitCV\"].isnull())]\n",
    "#outdf100_nullMand = outdf100.loc[[False | (outdf100[varName].isnull()) for varName \n",
    "#                                        in requiredCols]]\n",
    "if(len(outdf100_nullMand.index) > 0):\n",
    "    outdf100_nullMand.to_csv('variables_mandatoryFieldMissing.csv')  # index=False,\n",
    "#ToDO: purge these cells if there is any missing? #For now left to be inspected"
   ]
  },
  {
   "cell_type": "code",
   "execution_count": 12,
   "metadata": {},
   "outputs": [
    {
     "name": "stdout",
     "output_type": "stream",
     "text": [
      "Write out...\n",
      "Done variables\n"
     ]
    }
   ],
   "source": [
    "print(\"Write out...\")\n",
    "# save to output\n",
    "varCSV = 'variables.csv'\n",
    "outdf100.to_csv(varCSV, index=False, encoding = \"utf-8\")\n",
    "\n",
    "print(\"Done variables\")"
   ]
  }
 ],
 "metadata": {
  "kernelspec": {
   "display_name": "Python 3",
   "language": "python",
   "name": "python3"
  },
  "language_info": {
   "codemirror_mode": {
    "name": "ipython",
    "version": 3
   },
   "file_extension": ".py",
   "mimetype": "text/x-python",
   "name": "python",
   "nbconvert_exporter": "python",
   "pygments_lexer": "ipython3",
   "version": "3.7.3"
  }
 },
 "nbformat": 4,
 "nbformat_minor": 2
}
