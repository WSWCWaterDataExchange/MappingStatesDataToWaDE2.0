{
 "cells": [
  {
   "cell_type": "markdown",
   "metadata": {},
   "source": [
    "# Pre-processing Oklahoma Allocation data for WaDEQA upload.\n",
    "Date Updated: 04/07/2020\n",
    "Purpose:  To pre-process the Oklahoma data into one master file for simple DataFrame creation and extraction.  To validate datatypes and other data related informattion."
   ]
  },
  {
   "cell_type": "code",
   "execution_count": null,
   "metadata": {},
   "outputs": [],
   "source": [
    "#Needed Libararies\n",
    "import os\n",
    "import numpy as np\n",
    "import pandas as pd\n",
    "import geopandas as gpd # the library that lets us read in shapefiles\n",
    "from datetime import datetime\n",
    "pd.set_option('display.max_columns', 999)  # How to display all columns of a Pandas DataFrame in Jupyter Notebook"
   ]
  },
  {
   "cell_type": "code",
   "execution_count": null,
   "metadata": {},
   "outputs": [],
   "source": [
    "#Working Directory and Input File\n",
    "workingDir = \"G:/Shared drives/WaDE Data/Oklahoma/WaterAllocation/RawInputData\"\n",
    "os.chdir(workingDir)"
   ]
  },
  {
   "cell_type": "markdown",
   "metadata": {},
   "source": [
    "## POD Division Data\n",
    "- groundwater wells\n",
    "- surface water divisions"
   ]
  },
  {
   "cell_type": "code",
   "execution_count": null,
   "metadata": {},
   "outputs": [],
   "source": [
    "# groundwater\n",
    "# Input File\n",
    "PGW_Input = \"Permitted_Groundwater_Wells_input.csv\"\n",
    "df_PGW = pd.read_csv(PGW_Input)\n",
    "\n",
    "# WaDE UUID tracker for data assessment\n",
    "if 'WaDEUUID' not in df_PGW:\n",
    "    df_PGW['WaDEUUID'] = \"okGD\" + df_PGW.index.astype(str)\n",
    "    df_PGW.to_csv('Permitted_Groundwater_Wells_input.csv', index=False)\n",
    "\n",
    "df_PGW.head(1)"
   ]
  },
  {
   "cell_type": "code",
   "execution_count": null,
   "metadata": {},
   "outputs": [],
   "source": [
    "# surface Water\n",
    "# Input File\n",
    "PSWDP_Input = \"Permitted_Surface_Water_Diversion_Points_input.csv\"\n",
    "df_PSWDP = pd.read_csv(PSWDP_Input)\n",
    "\n",
    "# WaDE UUID tracker for data assessment\n",
    "if 'WaDEUUID' not in df_PSWDP:\n",
    "    df_PSWDP['WaDEUUID'] = \"okSD\" + df_PSWDP.index.astype(str)\n",
    "    df_PSWDP.to_csv('Permitted_Surface_Water_Diversion_Points_input.csv', index=False)\n",
    "\n",
    "df_PSWDP.head(1)"
   ]
  },
  {
   "cell_type": "code",
   "execution_count": null,
   "metadata": {},
   "outputs": [],
   "source": [
    "# Concatenate - Both datasets share the same columns.\n",
    "dfPOD = pd.concat([df_PGW, df_PSWDP], ignore_index=True).reset_index(drop=True)\n",
    "\n",
    "print(len(dfPOD))\n",
    "dfPOD.head(1)"
   ]
  },
  {
   "cell_type": "code",
   "execution_count": null,
   "metadata": {},
   "outputs": [],
   "source": [
    "# PODorPOUSite insert\n",
    "dfPOD['in_PODorPOUSite'] = \"POD\"\n",
    "dfPOD.head(3)"
   ]
  },
  {
   "cell_type": "code",
   "execution_count": null,
   "metadata": {},
   "outputs": [],
   "source": [
    "#Changing datatype of used date fields. \n",
    "dfPOD['DATE_FILED'] = pd.to_datetime(dfPOD['DATE_FILED'], errors = 'coerce')\n",
    "dfPOD['DATE_FILED'] = pd.to_datetime(dfPOD['DATE_FILED'].dt.strftime('%m/%d/%Y'))\n",
    "\n",
    "dfPOD['DATE_ISSUED'] = pd.to_datetime(dfPOD['DATE_ISSUED'], errors = 'coerce')\n",
    "dfPOD['DATE_ISSUED'] = pd.to_datetime(dfPOD['DATE_ISSUED'].dt.strftime('%m/%d/%Y'))"
   ]
  },
  {
   "cell_type": "code",
   "execution_count": null,
   "metadata": {},
   "outputs": [],
   "source": [
    "# Creating WaDE Custom site native ID for easy site identificaiion\n",
    "# ----------------------------------------------------------------------------------------------------\n",
    "\n",
    "# Create temp SiteNativeID dataframe of unique site.\n",
    "def assignSiteUUID(colrowValue):\n",
    "    string1 = str(colrowValue)\n",
    "    outstring = \"WaDEOK_S\" + string1\n",
    "    return outstring\n",
    "\n",
    "dfSiteNativeID = pd.DataFrame()\n",
    "dfSiteNativeID['in_Latitude'] = dfPOD['LATITUDE']\n",
    "dfSiteNativeID['in_Longitude'] = dfPOD['LONGITUDE']\n",
    "dfSiteNativeID = dfSiteNativeID.drop_duplicates()\n",
    "\n",
    "dftemp = pd.DataFrame(index=dfSiteNativeID.index)\n",
    "dftemp[\"Count\"] = range(1, len(dftemp.index) + 1)\n",
    "dfSiteNativeID['in_SiteNativeID'] = dftemp.apply(lambda row: assignSiteUUID(row['Count']), axis=1)\n",
    "\n",
    "# ----------------------------------------------------------------------------------------------------\n",
    "\n",
    "# Retreive WaDE Custom site native ID\n",
    "def retrieveSiteNativeID(A, B):\n",
    "    if (A == '' and B == '') or (pd.isnull(A) and pd.isnull(B)):\n",
    "        outList = ''\n",
    "    else:\n",
    "        ml = dfSiteNativeID.loc[(dfSiteNativeID['in_Latitude'] == A) & \n",
    "                                (dfSiteNativeID['in_Longitude'] == B), 'in_SiteNativeID']\n",
    "        if not (ml.empty):  # check if the series is empty\n",
    "            outList = ml.iloc[0]\n",
    "        else:\n",
    "            outList = ''\n",
    "    return outList\n",
    "\n",
    "dfPOD['in_SiteNativeID'] = dfPOD.apply(lambda row: retrieveSiteNativeID( row['LATITUDE'], row['LONGITUDE']), axis=1)\n",
    "dfPOD['in_SiteNativeID'] = \"POD\" + dfPOD['in_SiteNativeID'].astype(str)\n",
    "dfPOD.head(2)"
   ]
  },
  {
   "cell_type": "markdown",
   "metadata": {},
   "source": [
    "## Place of Use Data"
   ]
  },
  {
   "cell_type": "code",
   "execution_count": null,
   "metadata": {},
   "outputs": [],
   "source": [
    "# Input File\n",
    "AOU_Input = \"OK_AreasofUse_input.csv\"\n",
    "dfPOU = pd.read_csv(AOU_Input)\n",
    "\n",
    "# WaDE UUID tracker for data assessment\n",
    "if 'WaDEUUID' not in dfPOU:\n",
    "    dfPOU['WaDEUUID'] = \"okU\" + dfPOU.index.astype(str)\n",
    "    dfPOU.to_csv('OK_AreasofUse_input.csv', index=False)\n",
    "\n",
    "print(len(dfPOU))\n",
    "dfPOU.head(3)"
   ]
  },
  {
   "cell_type": "code",
   "execution_count": null,
   "metadata": {},
   "outputs": [],
   "source": [
    "# PODorPOUSite insert\n",
    "dfPOU['in_PODorPOUSite'] = \"POU\"\n",
    "dfPOU.head(3)"
   ]
  },
  {
   "cell_type": "code",
   "execution_count": null,
   "metadata": {},
   "outputs": [],
   "source": [
    "#Changing datatype of used date fields. \n",
    "dfPOU['DATE_FILED'] = pd.to_datetime(dfPOU['DATE_FILED'], errors = 'coerce')\n",
    "dfPOU['DATE_FILED'] = pd.to_datetime(dfPOU['DATE_FILED'].dt.strftime('%m/%d/%Y'))\n",
    "\n",
    "dfPOU['DATE_ISSUED'] = pd.to_datetime(dfPOU['DATE_ISSUED'], errors = 'coerce')\n",
    "dfPOU['DATE_ISSUED'] = pd.to_datetime(dfPOU['DATE_ISSUED'].dt.strftime('%m/%d/%Y'))"
   ]
  },
  {
   "cell_type": "code",
   "execution_count": null,
   "metadata": {},
   "outputs": [],
   "source": [
    "# Creating WaDE Custom site native ID for easy site identificaiion\n",
    "# ----------------------------------------------------------------------------------------------------\n",
    "\n",
    "# Create temp SiteNativeID dataframe of unique site.\n",
    "def assignSiteUUID(colrowValue):\n",
    "    string1 = str(colrowValue)\n",
    "    outstring = \"WaDEOK_S\" + string1\n",
    "    return outstring\n",
    "\n",
    "dfSiteNativeID = pd.DataFrame()\n",
    "dfSiteNativeID['in_Latitude'] = dfPOU['LATITUDE']\n",
    "dfSiteNativeID['in_Longitude'] = dfPOU['LONGITUDE']\n",
    "dfSiteNativeID = dfSiteNativeID.drop_duplicates()\n",
    "\n",
    "dftemp = pd.DataFrame(index=dfSiteNativeID.index)\n",
    "dftemp[\"Count\"] = range(1, len(dftemp.index) + 1)\n",
    "dfSiteNativeID['in_SiteNativeID'] = dftemp.apply(lambda row: assignSiteUUID(row['Count']), axis=1)\n",
    "\n",
    "# ----------------------------------------------------------------------------------------------------\n",
    "\n",
    "# Retreive WaDE Custom site native ID\n",
    "def retrieveSiteNativeID(A, B):\n",
    "    if (A == '' and B == '') or (pd.isnull(A) and pd.isnull(B)):\n",
    "        outList = ''\n",
    "    else:\n",
    "        ml = dfSiteNativeID.loc[(dfSiteNativeID['in_Latitude'] == A) & \n",
    "                                (dfSiteNativeID['in_Longitude'] == B), 'in_SiteNativeID']\n",
    "        if not (ml.empty):  # check if the series is empty\n",
    "            outList = ml.iloc[0]\n",
    "        else:\n",
    "            outList = ''\n",
    "    return outList\n",
    "\n",
    "dfPOU['in_SiteNativeID'] = dfPOU.apply(lambda row: retrieveSiteNativeID( row['LATITUDE'], row['LONGITUDE']), axis=1)\n",
    "dfPOU['in_SiteNativeID'] = \"POU\" + dfPOU['in_SiteNativeID'].astype(str)\n",
    "dfPOU.head(2)"
   ]
  },
  {
   "cell_type": "markdown",
   "metadata": {},
   "source": [
    "## Concaenate POD and POU"
   ]
  },
  {
   "cell_type": "code",
   "execution_count": null,
   "metadata": {},
   "outputs": [],
   "source": [
    "# Concatenate\n",
    "# Both datasets share the same columns.\n",
    "df = pd.concat([dfPOD, dfPOU], ignore_index=True).reset_index(drop=True)\n",
    "\n",
    "print(len(df))\n",
    "df.head()"
   ]
  },
  {
   "cell_type": "markdown",
   "metadata": {},
   "source": [
    "## Data Fix"
   ]
  },
  {
   "cell_type": "code",
   "execution_count": null,
   "metadata": {},
   "outputs": [],
   "source": [
    "#Fixing Beneficial Uses PRIMARY_PURPOSE\n",
    "def fixRecFishWild(colrowValue):\n",
    "    if colrowValue == 'Recreation, Fish, Wildlife':\n",
    "        outList = 'Recreation Fish Wildlife'\n",
    "    else:\n",
    "        outList = colrowValue\n",
    "    return outList\n",
    "\n",
    "df['PRIMARY_PURPOSE'] = df.apply(lambda row: fixRecFishWild(row['PRIMARY_PURPOSE']), axis=1)"
   ]
  },
  {
   "cell_type": "code",
   "execution_count": null,
   "metadata": {},
   "outputs": [],
   "source": [
    "import re\n",
    "\n",
    "def cleanOwnerDataFunc(Val):\n",
    "    Val = re.sub(\"[$@&.;,/\\)(-]\", \"\", Val).strip()\n",
    "    return Val\n",
    "\n",
    "df['in_AllocationOwner'] = df.apply(lambda row: cleanOwnerDataFunc(row['ENTITY_NAME']), axis=1)\n",
    "df.head(3)"
   ]
  },
  {
   "cell_type": "code",
   "execution_count": null,
   "metadata": {},
   "outputs": [],
   "source": [
    "# Creating WaDE Custom water source native ID for easy water source identification\n",
    "# ----------------------------------------------------------------------------------------------------\n",
    "\n",
    "# Create temp WaterSourceNativeID dataframe of unique water source.\n",
    "def assignWaterSourceNativeID(colrowValue):\n",
    "    string1 = str(colrowValue)\n",
    "    outstring = \"WaDEOK_WS\" + string1\n",
    "    return outstring\n",
    "\n",
    "dfWaterSourceNativeID = pd.DataFrame()\n",
    "dfWaterSourceNativeID['in_WaterSourceName'] = df['WATER']\n",
    "dfWaterSourceNativeID = dfWaterSourceNativeID.drop_duplicates()\n",
    "\n",
    "dftemp = pd.DataFrame(index=dfWaterSourceNativeID.index)\n",
    "dftemp[\"Count\"] = range(1, len(dftemp.index) + 1)\n",
    "dfWaterSourceNativeID['in_WaterSourceNativeID'] = dftemp.apply(lambda row: assignWaterSourceNativeID(row['Count']), axis=1)\n",
    "\n",
    "# ----------------------------------------------------------------------------------------------------\n",
    "\n",
    "# Retreive WaDE Custom water source native ID\n",
    "def retrieveWaterSourceNativeID(A):\n",
    "    ml = dfWaterSourceNativeID.loc[(dfWaterSourceNativeID['in_WaterSourceName'] == A), 'in_WaterSourceNativeID']\n",
    "    if not (ml.empty):  # check if the series is empty\n",
    "        outList = ml.iloc[0]\n",
    "    else:\n",
    "        outList = ''\n",
    "    return outList\n",
    "\n",
    "df['in_WaterSourceNativeID'] = df.apply(lambda row: retrieveWaterSourceNativeID(row['WATER']), axis=1)\n",
    "df['in_WaterSourceNativeID'].unique()"
   ]
  },
  {
   "cell_type": "markdown",
   "metadata": {},
   "source": [
    "## Shapefile Data\n",
    "- For attaching gemetry to csv inputs."
   ]
  },
  {
   "cell_type": "code",
   "execution_count": null,
   "metadata": {},
   "outputs": [],
   "source": [
    "# PoU Shapefile Data\n",
    "# Shapefile input\n",
    "dfPoUshapetemp = gpd.read_file('shapefile/OK_PoU2.shp')\n",
    "dfPoUshapetemp.head(3)"
   ]
  },
  {
   "cell_type": "code",
   "execution_count": null,
   "metadata": {},
   "outputs": [],
   "source": [
    "# Creating WaDE Custom site native ID for easy site identificaiion\n",
    "# ----------------------------------------------------------------------------------------------------\n",
    "\n",
    "# Create temp SiteNativeID dataframe of unique site.\n",
    "def assignSiteUUID(colrowValue):\n",
    "    string1 = str(colrowValue)\n",
    "    outstring = \"WaDEOK_S\" + string1\n",
    "    return outstring\n",
    "\n",
    "dfSiteNativeID = pd.DataFrame()\n",
    "dfSiteNativeID['in_Latitude'] = dfPoUshapetemp['Lattitude']\n",
    "dfSiteNativeID['in_Longitude'] = dfPoUshapetemp['Longitude']\n",
    "dfSiteNativeID = dfSiteNativeID.drop_duplicates()\n",
    "\n",
    "dftemp = pd.DataFrame(index=dfSiteNativeID.index)\n",
    "dftemp[\"Count\"] = range(1, len(dftemp.index) + 1)\n",
    "dfSiteNativeID['in_SiteNativeID'] = dftemp.apply(lambda row: assignSiteUUID(row['Count']), axis=1)\n",
    "\n",
    "# ----------------------------------------------------------------------------------------------------\n",
    "\n",
    "# Retreive WaDE Custom site native ID\n",
    "def retrieveSiteNativeID(A, B):\n",
    "    if (A == '' and B == '') or (pd.isnull(A) and pd.isnull(B)):\n",
    "        outList = ''\n",
    "    else:\n",
    "        ml = dfSiteNativeID.loc[(dfSiteNativeID['in_Latitude'] == A) & \n",
    "                                (dfSiteNativeID['in_Longitude'] == B), 'in_SiteNativeID']\n",
    "        if not (ml.empty):  # check if the series is empty\n",
    "            outList = ml.iloc[0]\n",
    "        else:\n",
    "            outList = ''\n",
    "    return outList\n",
    "\n",
    "dfPoUshapetemp['in_SiteNativeID'] = dfPoUshapetemp.apply(lambda row: retrieveSiteNativeID( row['Lattitude'], row['Longitude']), axis=1)\n",
    "dfPoUshapetemp.head(2)"
   ]
  },
  {
   "cell_type": "code",
   "execution_count": null,
   "metadata": {},
   "outputs": [],
   "source": [
    "columnsList = ['in_SiteNativeID', 'geometry']\n",
    "dfPoUshape = pd.DataFrame(columns=columnsList)\n",
    "dfPoUshape['in_SiteNativeID'] = \"POU\" + dfPoUshapetemp['in_SiteNativeID'].astype(str)\n",
    "dfPoUshape['geometry'] = dfPoUshapetemp['geometry']\n",
    "dfPoUshape = dfPoUshape.drop_duplicates(subset=None, keep='first', inplace=False, ignore_index=False)\n",
    "print(len(dfPoUshape))\n",
    "dfPoUshape.head(3)"
   ]
  },
  {
   "cell_type": "code",
   "execution_count": null,
   "metadata": {},
   "outputs": [],
   "source": [
    "dfPoUshape['in_SiteNativeID'].unique()"
   ]
  },
  {
   "cell_type": "markdown",
   "metadata": {},
   "source": [
    "## Export Data"
   ]
  },
  {
   "cell_type": "code",
   "execution_count": null,
   "metadata": {},
   "outputs": [],
   "source": [
    "#Exporting to Finished File\n",
    "df.to_csv('P_OklahomaMaster.csv', index=False)  # The output\n",
    "dfPoUshape.to_csv('P_OklahomaGeometry.csv', index=False) # The output geometry."
   ]
  },
  {
   "cell_type": "code",
   "execution_count": null,
   "metadata": {},
   "outputs": [],
   "source": []
  }
 ],
 "metadata": {
  "kernelspec": {
   "display_name": "Python 3 (ipykernel)",
   "language": "python",
   "name": "python3"
  },
  "language_info": {
   "codemirror_mode": {
    "name": "ipython",
    "version": 3
   },
   "file_extension": ".py",
   "mimetype": "text/x-python",
   "name": "python",
   "nbconvert_exporter": "python",
   "pygments_lexer": "ipython3",
   "version": "3.8.13"
  }
 },
 "nbformat": 4,
 "nbformat_minor": 2
}
