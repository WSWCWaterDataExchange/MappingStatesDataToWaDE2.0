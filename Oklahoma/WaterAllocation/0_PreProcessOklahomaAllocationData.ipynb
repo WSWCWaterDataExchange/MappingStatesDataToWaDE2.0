{
 "cells": [
  {
   "cell_type": "markdown",
   "metadata": {},
   "source": [
    "# Pre-processing Oklahoma Allocation data for WaDEQA upload.\n",
    "Date Updated: 04/07/2020\n",
    "Purpose:  To pre-process the Oklahoma data into one master file for simple DataFrame creation and extraction.  To validate datatypes and other data related informattion."
   ]
  },
  {
   "cell_type": "code",
   "execution_count": null,
   "metadata": {},
   "outputs": [],
   "source": [
    "#Needed Libararies\n",
    "import os\n",
    "import numpy as np\n",
    "import pandas as pd\n",
    "from datetime import datetime\n",
    "pd.set_option('display.max_columns', 999)  # How to display all columns of a Pandas DataFrame in Jupyter Notebook\n",
    "\n",
    "#Working Directory and Input File\n",
    "workingDir = \"C:/Users/rjame/Documents/WSWC Documents/MappingStatesDataToWaDE2.0/Oklahoma/WaterAllocation/RawInputData\"\n",
    "os.chdir(workingDir)"
   ]
  },
  {
   "cell_type": "markdown",
   "metadata": {},
   "source": [
    "## Division Data"
   ]
  },
  {
   "cell_type": "code",
   "execution_count": null,
   "metadata": {},
   "outputs": [],
   "source": [
    "# Input Files\n",
    "PGW_Input = \"Permitted_Groundwater_Wells_input.csv\"\n",
    "PSWDP_Input = \"Permitted_Surface_Water_Diversion_Points_input.csv\"\n",
    "\n",
    "# Dataframe creation\n",
    "# df_PGW = pd.read_csv(PGW_Input, encoding = \"ISO-8859-1\")\n",
    "# df_PSWDP = pd.read_csv(PSWDP_Input, encoding = \"ISO-8859-1\")\n",
    "df_PGW = pd.read_csv(PGW_Input)\n",
    "df_PSWDP = pd.read_csv(PSWDP_Input)\n",
    "\n",
    "# Concatenate\n",
    "# Both datasets share the same columns.\n",
    "dfPOD = pd.concat([df_PGW, df_PSWDP], ignore_index=True).reset_index(drop=True)\n",
    "\n",
    "print(len(dfPOD))\n",
    "dfPOD.head(1)"
   ]
  },
  {
   "cell_type": "code",
   "execution_count": null,
   "metadata": {},
   "outputs": [],
   "source": [
    "# PODorPOUSite insert\n",
    "dfPOD['in_PODorPOUSite'] = \"POD\"\n",
    "dfPOD.head(3)"
   ]
  },
  {
   "cell_type": "code",
   "execution_count": null,
   "metadata": {},
   "outputs": [],
   "source": [
    "#Changing datatype of used date fields. \n",
    "dfPOD['DATE_FILED'] = pd.to_datetime(dfPOD['DATE_FILED'], errors = 'coerce')\n",
    "dfPOD['DATE_FILED'] = pd.to_datetime(dfPOD['DATE_FILED'].dt.strftime('%m/%d/%Y'))\n",
    "\n",
    "dfPOD['DATE_ISSUED'] = pd.to_datetime(dfPOD['DATE_ISSUED'], errors = 'coerce')\n",
    "dfPOD['DATE_ISSUED'] = pd.to_datetime(dfPOD['DATE_ISSUED'].dt.strftime('%m/%d/%Y'))"
   ]
  },
  {
   "cell_type": "markdown",
   "metadata": {},
   "source": [
    "## Area of Use Data"
   ]
  },
  {
   "cell_type": "code",
   "execution_count": null,
   "metadata": {},
   "outputs": [],
   "source": [
    "# Input Files\n",
    "AOU_Input = \"OK_AreasofUse_input.csv\"\n",
    "\n",
    "# Dataframe creation\n",
    "# dfPOU = pd.read_csv(AOU_Input, encoding = \"ISO-8859-1\")\n",
    "dfPOU = pd.read_csv(AOU_Input)\n",
    "\n",
    "print(len(dfPOU))\n",
    "dfPOU.head(3)"
   ]
  },
  {
   "cell_type": "code",
   "execution_count": null,
   "metadata": {},
   "outputs": [],
   "source": [
    "# PODorPOUSite insert\n",
    "dfPOU['in_PODorPOUSite'] = \"POU\"\n",
    "dfPOU.head(3)"
   ]
  },
  {
   "cell_type": "code",
   "execution_count": null,
   "metadata": {},
   "outputs": [],
   "source": [
    "#Changing datatype of used date fields. \n",
    "dfPOU['DATE_FILED'] = pd.to_datetime(dfPOU['DATE_FILED'], errors = 'coerce')\n",
    "dfPOU['DATE_FILED'] = pd.to_datetime(dfPOU['DATE_FILED'].dt.strftime('%m/%d/%Y'))\n",
    "\n",
    "dfPOU['DATE_ISSUED'] = pd.to_datetime(dfPOU['DATE_ISSUED'], errors = 'coerce')\n",
    "dfPOU['DATE_ISSUED'] = pd.to_datetime(dfPOU['DATE_ISSUED'].dt.strftime('%m/%d/%Y'))"
   ]
  },
  {
   "cell_type": "markdown",
   "metadata": {},
   "source": [
    "## Concaenate POD and POU"
   ]
  },
  {
   "cell_type": "code",
   "execution_count": null,
   "metadata": {},
   "outputs": [],
   "source": [
    "# Concatenate\n",
    "# Both datasets share the same columns.\n",
    "df = pd.concat([dfPOD, dfPOU], ignore_index=True).reset_index(drop=True)\n",
    "\n",
    "print(len(df))\n",
    "df"
   ]
  },
  {
   "cell_type": "markdown",
   "metadata": {},
   "source": [
    "## Data Fix"
   ]
  },
  {
   "cell_type": "code",
   "execution_count": null,
   "metadata": {},
   "outputs": [],
   "source": [
    "with pd.option_context('display.max_rows', None, 'display.max_columns', None):\n",
    "    print(df.dtypes)"
   ]
  },
  {
   "cell_type": "code",
   "execution_count": null,
   "metadata": {},
   "outputs": [],
   "source": [
    "#Fixing Beneficial Uses PRIMARY_PURPOSE\n",
    "def fixRecFishWild(colrowValue):\n",
    "    if colrowValue == 'Recreation, Fish, Wildlife':\n",
    "        outList = 'Recreation Fish Wildlife'\n",
    "    else:\n",
    "        outList = colrowValue\n",
    "    return outList\n",
    "\n",
    "df['PRIMARY_PURPOSE'] = df.apply(lambda row: fixRecFishWild(row['PRIMARY_PURPOSE']), axis=1)"
   ]
  },
  {
   "cell_type": "code",
   "execution_count": null,
   "metadata": {},
   "outputs": [],
   "source": [
    "# swapping order owner name\n",
    "\n",
    "def createOwnerName(val):\n",
    "    if val == \"\" or pd.isnull(val):\n",
    "        outString = \"\"\n",
    "    else:\n",
    "        val = str(val)\n",
    "        val = val.strip()\n",
    "        if \",\" in val:\n",
    "            x = val.split(\",\")\n",
    "            outString = str(x[0]).strip() + \" \" + str(x[1]).strip()\n",
    "        else:\n",
    "            outString = val\n",
    "            \n",
    "    return outString\n",
    "\n",
    "df['in_AllocationOwner'] = df.apply(lambda row: createOwnerName(row['ENTITY_NAME']), axis=1)\n",
    "df"
   ]
  },
  {
   "cell_type": "markdown",
   "metadata": {},
   "source": [
    "## WaDE Custom Elements (due to missing state site info)"
   ]
  },
  {
   "cell_type": "code",
   "execution_count": null,
   "metadata": {},
   "outputs": [],
   "source": [
    "# Creating WaDE Custom site native ID for easy site identificaiion\n",
    "# ----------------------------------------------------------------------------------------------------\n",
    "\n",
    "# Create temp SiteNativeID dataframe of unique site.\n",
    "def assignSiteUUID(colrowValue):\n",
    "    string1 = str(colrowValue)\n",
    "    outstring = \"WaDEOK_S\" + string1\n",
    "    return outstring\n",
    "\n",
    "dfSiteNativeID = pd.DataFrame()\n",
    "dfSiteNativeID['in_Latitude'] = df['LATITUDE']\n",
    "dfSiteNativeID['in_Longitude'] = df['LONGITUDE']\n",
    "dfSiteNativeID['in_PODorPOUSite'] = df['in_PODorPOUSite']\n",
    "dfSiteNativeID = dfSiteNativeID.drop_duplicates()\n",
    "\n",
    "dftemp = pd.DataFrame(index=dfSiteNativeID.index)\n",
    "dftemp[\"Count\"] = range(1, len(dftemp.index) + 1)\n",
    "dfSiteNativeID['in_SiteNativeID'] = dftemp.apply(lambda row: assignSiteUUID(row['Count']), axis=1)\n",
    "\n",
    "# ----------------------------------------------------------------------------------------------------\n",
    "\n",
    "# Retreive WaDE Custom site native ID\n",
    "def retrieveSiteNativeID(A, B, C):\n",
    "    if (A == '' and B == '') or (pd.isnull(A) and pd.isnull(B)):\n",
    "        outList = ''\n",
    "    else:\n",
    "        ml = dfSiteNativeID.loc[(dfSiteNativeID['in_Latitude'] == A) & \n",
    "                                (dfSiteNativeID['in_Longitude'] == B) &\n",
    "                                (dfSiteNativeID['in_PODorPOUSite'] == C), 'in_SiteNativeID']\n",
    "        if not (ml.empty):  # check if the series is empty\n",
    "            outList = ml.iloc[0]\n",
    "        else:\n",
    "            outList = ''\n",
    "    return outList\n",
    "\n",
    "df['in_SiteNativeID'] = df.apply(lambda row: retrieveSiteNativeID( row['LATITUDE'], row['LONGITUDE'], row['in_PODorPOUSite']), axis=1)\n",
    "df"
   ]
  },
  {
   "cell_type": "code",
   "execution_count": null,
   "metadata": {},
   "outputs": [],
   "source": [
    "#Exporting to Finished File\n",
    "df.to_csv('P_OklahomaMaster.csv', index=False)  # The output"
   ]
  },
  {
   "cell_type": "code",
   "execution_count": null,
   "metadata": {},
   "outputs": [],
   "source": []
  }
 ],
 "metadata": {
  "kernelspec": {
   "display_name": "Python 3",
   "language": "python",
   "name": "python3"
  },
  "language_info": {
   "codemirror_mode": {
    "name": "ipython",
    "version": 3
   },
   "file_extension": ".py",
   "mimetype": "text/x-python",
   "name": "python",
   "nbconvert_exporter": "python",
   "pygments_lexer": "ipython3",
   "version": "3.8.5"
  }
 },
 "nbformat": 4,
 "nbformat_minor": 2
}
