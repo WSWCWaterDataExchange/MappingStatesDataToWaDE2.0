{
 "cells": [
  {
   "cell_type": "markdown",
   "metadata": {},
   "source": [
    "## Methods_dim\n",
    "Python code to generate the 'methods.csv' input file to WaDE db for OK water rights"
   ]
  },
  {
   "cell_type": "code",
   "execution_count": 5,
   "metadata": {},
   "outputs": [],
   "source": [
    "import numpy as np\n",
    "import pandas as pd\n",
    "import os\n",
    "#from sodapy import * "
   ]
  },
  {
   "cell_type": "code",
   "execution_count": 6,
   "metadata": {},
   "outputs": [],
   "source": [
    "# working directory\n",
    "working_dir = \"C:/tseg/OKTest\"\n",
    "os.chdir(working_dir)"
   ]
  },
  {
   "cell_type": "code",
   "execution_count": 7,
   "metadata": {},
   "outputs": [],
   "source": [
    "#WaDE target column headers\n",
    "columns=['MethodUUID', 'MethodName', 'MethodDescription', 'MethodNEMILink', \n",
    "         'ApplicableResourceTypeCV',\n",
    "         'MethodTypeCV', 'DataCoverageValue', 'DataQualityValueCV',\t'DataConfidenceValue']"
   ]
  },
  {
   "cell_type": "code",
   "execution_count": 20,
   "metadata": {},
   "outputs": [],
   "source": [
    "# the mapping code for OK\n",
    "inpVals = ['OWRB_DiversionTracking','DiversionTracking', \n",
    "           'Methodology used for tracking diversions in the state of Oklahoma', '',\n",
    "           'Allocation', 'Water withdrawals',\n",
    "           '', '', '']\n",
    "\n",
    "dfout = pd.DataFrame([inpVals], columns=columns)"
   ]
  },
  {
   "cell_type": "code",
   "execution_count": 11,
   "metadata": {},
   "outputs": [],
   "source": [
    "# make sure that 'mandatory' fields are not null\n",
    "\n",
    "#replace blank strings by NaN, if there are any\n",
    "outdf100 = outdf100.replace('', np.nan)\n",
    "# The following fields can not be empty\n",
    "requiredCols=['MethodUUID', 'MethodName', 'MethodDescription','ApplicableResourceTypeCV',\n",
    "              'MethodTypeCV']\n",
    "\n",
    "# find rows where any of these fields is empty\n",
    "outdf100_nullMand = outdf100.loc[(outdf100[\"MethodUUID\"].isnull()) | \n",
    "                                 (outdf100[\"MethodName\"].isnull()) |\n",
    "                                (outdf100[\"MethodDescription\"].isnull()) | \n",
    "                                 (outdf100[\"ApplicableResourceTypeCV\"].isnull()) |\n",
    "                                (outdf100[\"MethodTypeCV\"].isnull())]\n",
    "#outdf100_nullMand = outdf100.loc[[False | (outdf100[varName].isnull()) for varName in reqCols\n",
    "# save the rows with a missing mandatory fields\n",
    "if(len(outdf100_nullMand.index) > 0):\n",
    "    outdf100_nullMand.to_csv('methods_mandatoryFieldMissing.csv')  # index=False,\n",
    "\n",
    "#ToDO: purge these cells if there is any missing? \n",
    "#For now left to be inspected"
   ]
  },
  {
   "cell_type": "code",
   "execution_count": 12,
   "metadata": {},
   "outputs": [
    {
     "name": "stdout",
     "output_type": "stream",
     "text": [
      "Done methods\n"
     ]
    }
   ],
   "source": [
    "#write output dataframe to csv\n",
    "\n",
    "methods_csv = 'methods.csv'\n",
    "outdf100.to_csv(methods_csv, index=False)\n",
    "\n",
    "print(\"Done methods\")"
   ]
  }
 ],
 "metadata": {
  "kernelspec": {
   "display_name": "Python 3",
   "language": "python",
   "name": "python3"
  },
  "language_info": {
   "codemirror_mode": {
    "name": "ipython",
    "version": 3
   },
   "file_extension": ".py",
   "mimetype": "text/x-python",
   "name": "python",
   "nbconvert_exporter": "python",
   "pygments_lexer": "ipython3",
   "version": "3.7.3"
  }
 },
 "nbformat": 4,
 "nbformat_minor": 2
}
