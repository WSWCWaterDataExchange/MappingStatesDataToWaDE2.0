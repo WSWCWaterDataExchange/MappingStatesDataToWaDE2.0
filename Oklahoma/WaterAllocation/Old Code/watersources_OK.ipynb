{
 "cells": [
  {
   "cell_type": "code",
   "execution_count": 1,
   "metadata": {},
   "outputs": [],
   "source": [
    "#!/usr/bin/env python\n",
    "import pandas as pd\n",
    "import numpy as np\n",
    "import os\n",
    "import beneficialUseDictionary"
   ]
  },
  {
   "cell_type": "code",
   "execution_count": 2,
   "metadata": {},
   "outputs": [],
   "source": [
    "# working directory\n",
    "working_dir = \"C:/tseg/OKTest\"\n",
    "os.chdir(working_dir)"
   ]
  },
  {
   "cell_type": "code",
   "execution_count": 3,
   "metadata": {},
   "outputs": [],
   "source": [
    "# Input files\n",
    "fileInput1 = \"Permitted_Groundwater_Wells.csv\" \n",
    "FileInput2 = \"Permitted_Surface_Water_Diversion_Points.csv\" # Points of diversion\n",
    "\n",
    "# output water sources\n",
    "out_put = \"watersources.csv\""
   ]
  },
  {
   "cell_type": "code",
   "execution_count": 4,
   "metadata": {},
   "outputs": [],
   "source": [
    "##### WaDE columns\n",
    "\n",
    "columns=['WaterSourceUUID', 'WaterSourceNativeID',\t'WaterSourceName', 'WaterSourceTypeCV',\n",
    "         'WaterQualityIndicatorCV',\t'GNISFeatureNameCV', 'Geometry']\n",
    "\n",
    "dtypesx = ['BigInt\tNVarChar(250)\tNVarChar(250)\tNVarChar(250)\tNVarChar(100)\tNVarChar(100)',\n",
    "           'NVarChar(250)\tGeometry']"
   ]
  },
  {
   "cell_type": "code",
   "execution_count": 6,
   "metadata": {},
   "outputs": [
    {
     "name": "stdout",
     "output_type": "stream",
     "text": [
      "Hard coded ...\n"
     ]
    },
    {
     "data": {
      "text/html": [
       "<div>\n",
       "<style scoped>\n",
       "    .dataframe tbody tr th:only-of-type {\n",
       "        vertical-align: middle;\n",
       "    }\n",
       "\n",
       "    .dataframe tbody tr th {\n",
       "        vertical-align: top;\n",
       "    }\n",
       "\n",
       "    .dataframe thead th {\n",
       "        text-align: right;\n",
       "    }\n",
       "</style>\n",
       "<table border=\"1\" class=\"dataframe\">\n",
       "  <thead>\n",
       "    <tr style=\"text-align: right;\">\n",
       "      <th></th>\n",
       "      <th>WaterSourceUUID</th>\n",
       "      <th>WaterSourceNativeID</th>\n",
       "      <th>WaterSourceName</th>\n",
       "      <th>WaterSourceTypeCV</th>\n",
       "      <th>WaterQualityIndicatorCV</th>\n",
       "      <th>GNISFeatureNameCV</th>\n",
       "      <th>Geometry</th>\n",
       "    </tr>\n",
       "  </thead>\n",
       "  <tbody>\n",
       "    <tr>\n",
       "      <th>0</th>\n",
       "      <td>OK_1</td>\n",
       "      <td>1</td>\n",
       "      <td>Unspecificed</td>\n",
       "      <td>Surface Water</td>\n",
       "      <td>Fresh</td>\n",
       "      <td></td>\n",
       "      <td></td>\n",
       "    </tr>\n",
       "    <tr>\n",
       "      <th>1</th>\n",
       "      <td>OK_2</td>\n",
       "      <td>2</td>\n",
       "      <td>Unspecificed</td>\n",
       "      <td>Groundwater</td>\n",
       "      <td>Fresh</td>\n",
       "      <td></td>\n",
       "      <td></td>\n",
       "    </tr>\n",
       "  </tbody>\n",
       "</table>\n",
       "</div>"
      ],
      "text/plain": [
       "  WaterSourceUUID  WaterSourceNativeID WaterSourceName WaterSourceTypeCV  \\\n",
       "0            OK_1                    1    Unspecificed     Surface Water   \n",
       "1            OK_2                    2    Unspecificed       Groundwater   \n",
       "\n",
       "  WaterQualityIndicatorCV GNISFeatureNameCV Geometry  \n",
       "0                   Fresh                             \n",
       "1                   Fresh                             "
      ]
     },
     "execution_count": 6,
     "metadata": {},
     "output_type": "execute_result"
    }
   ],
   "source": [
    "print(\"Hard coded ...\")\n",
    "\n",
    "Vals=[['OK_1', 1, 'Unspecificed', 'Surface Water', 'Fresh', '','' ],\n",
    "      ['OK_2', 2, 'Unspecificed', 'Groundwater', 'Fresh', '','' ]]\n",
    "\n",
    "outdf100=pd.DataFrame(Vals,columns=columns)\n",
    "outdf100"
   ]
  },
  {
   "cell_type": "code",
   "execution_count": 7,
   "metadata": {},
   "outputs": [
    {
     "name": "stdout",
     "output_type": "stream",
     "text": [
      "Done watersources\n"
     ]
    }
   ],
   "source": [
    "#write out\n",
    "outdf100.to_csv(out_put, index=False, encoding = \"utf-8\")\n",
    "\n",
    "print(\"Done watersources\")"
   ]
  },
  {
   "cell_type": "code",
   "execution_count": null,
   "metadata": {},
   "outputs": [],
   "source": []
  }
 ],
 "metadata": {
  "kernelspec": {
   "display_name": "Python 3",
   "language": "python",
   "name": "python3"
  },
  "language_info": {
   "codemirror_mode": {
    "name": "ipython",
    "version": 3
   },
   "file_extension": ".py",
   "mimetype": "text/x-python",
   "name": "python",
   "nbconvert_exporter": "python",
   "pygments_lexer": "ipython3",
   "version": "3.7.6"
  }
 },
 "nbformat": 4,
 "nbformat_minor": 2
}
