{
 "cells": [
  {
   "cell_type": "markdown",
   "metadata": {},
   "source": [
    "# Pre-processing Colorado Site Specific data for WaDEQA upload.\n",
    "Date Updated: 03/09/2021\n",
    "Purpose:  To pre-process the Colorado data into one master file for simple DataFrame creation and extraction\n",
    "\n",
    "Notes:\n",
    "- Using two different API Colorado CDSS REST web service. 1) [**Division Data**](https://dwr.state.co.us/Rest/GET/Help/Api/GET-api-v2-structures-divrec-waterclasses) api for Division 1-7 site specific information. 2) [**Annual WDID Time Series Data**](https://dwr.state.co.us/Rest/GET/Help/Api/GET-api-v2-structures-divrec-divrecyear) api using sites of interest wdid list produced from Division 1-7.\n",
    "- Retreiving WDID data that is divrectype = WaterClass, availableTimesteps = Year, and ciuCode = A (for active) values only.\n",
    "- Full script run time took the better of the morning.  Will save each division incremental step as individiual csv output for ease of review."
   ]
  },
  {
   "cell_type": "code",
   "execution_count": null,
   "metadata": {},
   "outputs": [],
   "source": [
    "#Needed Libararies\n",
    "import os\n",
    "import numpy as np\n",
    "import pandas as pd\n",
    "import requests\n",
    "import json\n",
    "from datetime import datetime\n",
    "pd.set_option('display.max_columns', 999)  # How to display all columns of a Pandas DataFrame in Jupyter Notebook"
   ]
  },
  {
   "cell_type": "code",
   "execution_count": null,
   "metadata": {},
   "outputs": [],
   "source": [
    "#Working Directory and Input File\n",
    "workingDir = \"C:/Users/rjame/Documents/WSWC Documents/MappingStatesDataToWaDE2.0/Colorado/SiteSpecificAmounts/RawInputData\"\n",
    "os.chdir(workingDir)"
   ]
  },
  {
   "cell_type": "code",
   "execution_count": null,
   "metadata": {},
   "outputs": [],
   "source": [
    "# Query by Division (1-7) to get a full list of WDIDs per division.\n",
    "# Plug in \"division=1\" etc into API request.\n",
    "# Save results as Division1.csv, etc.\n",
    "# Rinse and Repeat to retreive all data for Divisions 1-7.\n",
    "\n",
    "# url = \"https://dwr.state.co.us/Rest/GET/api/v2/structures/divrec/waterclasses/?division=7&apiKey=wAC6ZmzcPJ30dyy6nYu6jQmG7BBedcem\"\n",
    "# responseD = json.loads(requests.get(url).text)\n",
    "# LD = responseD['ResultList']\n",
    "\n",
    "# df_ts = pd.DataFrame()\n",
    "# for n in range(len(LD)):\n",
    "#     row = pd.DataFrame([LD[n]])\n",
    "#     df_ts = df_ts.append(row)\n",
    "# df_ts\n",
    "\n",
    "# #Exporting to Finished File\n",
    "# df_ts.to_csv('Division7.csv', index=False)  # The output"
   ]
  },
  {
   "cell_type": "markdown",
   "metadata": {},
   "source": [
    "# Division 1"
   ]
  },
  {
   "cell_type": "code",
   "execution_count": null,
   "metadata": {},
   "outputs": [],
   "source": [
    "# The Dvision 1 Time Series Dataframe\n",
    "df_div1ts = pd.DataFrame()"
   ]
  },
  {
   "cell_type": "code",
   "execution_count": null,
   "metadata": {},
   "outputs": [],
   "source": [
    "# Read in division csv file.\n",
    "# Change input to Division 1\n",
    "fileInput = \"Success/Division1.csv\"\n",
    "dftemp = pd.read_csv(fileInput)\n",
    "print(len(dftemp))\n",
    "dftemp.head(3)"
   ]
  },
  {
   "cell_type": "code",
   "execution_count": null,
   "metadata": {},
   "outputs": [],
   "source": [
    "# Trim down division dataframe for divrectype = DivTotal, availableTimesteps = Year, and ciuCode = A (for active) values only.\n",
    "# Fix wdid values that are less then 7 chars long.  Covert to string.\n",
    "dftemp = dftemp[dftemp.divrectype == 'WaterClass']\n",
    "dftemp = dftemp[dftemp.availableTimesteps == 'Year']\n",
    "dftemp = dftemp[dftemp.ciuCode == 'A']\n",
    "\n",
    "# fix wdid values that are less then 7 chars long.  Covert to string.\n",
    "def formatWDIDValue(colVal):\n",
    "    n = str(colVal)\n",
    "    if len(n) < 7:\n",
    "        outString = \"0\" + n\n",
    "    else:\n",
    "        outString = n\n",
    "    return outString\n",
    "dftemp['wdid'] = dftemp.apply(lambda row: formatWDIDValue(row['wdid']), axis=1)\n",
    "\n",
    "print(len(dftemp))\n",
    "dftemp.head(3)"
   ]
  },
  {
   "cell_type": "code",
   "execution_count": null,
   "metadata": {},
   "outputs": [],
   "source": [
    "# Converted trimed down dataframe wdid to list.\n",
    "dftemp = dftemp.drop_duplicates(subset='wdid', keep=\"first\")\n",
    "wdidlist = dftemp['wdid'].tolist()\n",
    "type(wdidlist)"
   ]
  },
  {
   "cell_type": "code",
   "execution_count": null,
   "metadata": {},
   "outputs": [],
   "source": [
    "#Split list into catagories that are 100 long.\n",
    "wdidlistB = [wdidlist[i:i + 100] for i in range(0, len(wdidlist), 100)]"
   ]
  },
  {
   "cell_type": "code",
   "execution_count": null,
   "metadata": {},
   "outputs": [],
   "source": [
    "# Use list of WDIDs (from Divisoin data) as inputs, retreive time series data.\n",
    "# Change dataframe to df_div1ts\n",
    "\n",
    "str2 = \"https://dwr.state.co.us/Rest/GET/api/v2/structures/divrec/divrecyear/?wdid=\"\n",
    "str3 = \"%2C&apiKey=wAC6ZmzcPJ30dyy6nYu6jQmG7BBedcem\"\n",
    "\n",
    "for i in range(len(wdidlistB)):\n",
    "    lstC = wdidlistB[i]\n",
    "    lstCa = '%2C'.join([str(n) for n in lstC]) \n",
    "    \n",
    "    url = str2 + lstCa + str3\n",
    "    responseD = json.loads(requests.get(url).text)\n",
    "    LD = responseD['ResultList']\n",
    "    \n",
    "    for n in range(len(LD)):\n",
    "        row = pd.DataFrame([LD[n]])\n",
    "        df_div1ts = df_div1ts.append(row)\n",
    "\n",
    "print(len(df_div1ts))\n",
    "df_div1ts.tail(3)"
   ]
  },
  {
   "cell_type": "code",
   "execution_count": null,
   "metadata": {},
   "outputs": [],
   "source": [
    "# Merging wdid and division dataframes into one, using left-join.\n",
    "df_div1ts = pd.merge(df_div1ts, dftemp, left_on='wdid', right_on='wdid', how='left') "
   ]
  },
  {
   "cell_type": "code",
   "execution_count": null,
   "metadata": {},
   "outputs": [],
   "source": [
    "# Exporting to Finished File.\n",
    "# Change dataframe to df_div1ts.\n",
    "df_div1ts.to_excel('P_Div1WDIDTimeSeries.xlsx', index=False)  # The output"
   ]
  },
  {
   "cell_type": "markdown",
   "metadata": {},
   "source": [
    "# Division 2"
   ]
  },
  {
   "cell_type": "code",
   "execution_count": null,
   "metadata": {},
   "outputs": [],
   "source": [
    "# The Dvision 2 Time Series Dataframe\n",
    "df_div2ts = pd.DataFrame()"
   ]
  },
  {
   "cell_type": "code",
   "execution_count": null,
   "metadata": {},
   "outputs": [],
   "source": [
    "# Read in division csv file.\n",
    "# Change input to Division 2\n",
    "fileInput = \"Success/Division2.csv\"\n",
    "dftemp = pd.read_csv(fileInput)\n",
    "print(len(dftemp))\n",
    "dftemp.head(3)"
   ]
  },
  {
   "cell_type": "code",
   "execution_count": null,
   "metadata": {},
   "outputs": [],
   "source": [
    "# Trim down division dataframe for divrectype = DivTotal, availableTimesteps = Year, and ciuCode = A (for active) values only.\n",
    "# Fix wdid values that are less then 7 chars long.  Covert to string.\n",
    "dftemp = dftemp[dftemp.divrectype == 'WaterClass']\n",
    "dftemp = dftemp[dftemp.availableTimesteps == 'Year']\n",
    "dftemp = dftemp[dftemp.ciuCode == 'A']\n",
    "\n",
    "# fix wdid values that are less then 7 chars long.  Covert to string.\n",
    "def formatWDIDValue(colVal):\n",
    "    n = str(colVal)\n",
    "    if len(n) < 7:\n",
    "        outString = \"0\" + n\n",
    "    else:\n",
    "        outString = n\n",
    "    return outString\n",
    "dftemp['wdid'] = dftemp.apply(lambda row: formatWDIDValue(row['wdid']), axis=1)\n",
    "\n",
    "print(len(dftemp))\n",
    "dftemp.head(3)"
   ]
  },
  {
   "cell_type": "code",
   "execution_count": null,
   "metadata": {},
   "outputs": [],
   "source": [
    "# Converted trimed down dataframe wdid to list.\n",
    "dftemp = dftemp.drop_duplicates(subset='wdid', keep=\"first\")\n",
    "wdidlist = dftemp['wdid'].tolist()\n",
    "type(wdidlist)"
   ]
  },
  {
   "cell_type": "code",
   "execution_count": null,
   "metadata": {},
   "outputs": [],
   "source": [
    "#Split list into catagories that are 100 long.\n",
    "wdidlistB = [wdidlist[i:i + 100] for i in range(0, len(wdidlist), 100)]"
   ]
  },
  {
   "cell_type": "code",
   "execution_count": null,
   "metadata": {},
   "outputs": [],
   "source": [
    "# Use list of WDIDs (from Divisoin data) as inputs, retreive time series data.\n",
    "# Change dataframe to df_div2ts\n",
    "\n",
    "str2 = \"https://dwr.state.co.us/Rest/GET/api/v2/structures/divrec/divrecyear/?wdid=\"\n",
    "str3 = \"%2C&apiKey=wAC6ZmzcPJ30dyy6nYu6jQmG7BBedcem\"\n",
    "\n",
    "for i in range(len(wdidlistB)):\n",
    "    lstC = wdidlistB[i]\n",
    "    lstCa = '%2C'.join([str(n) for n in lstC]) \n",
    "    \n",
    "    url = str2 + lstCa + str3\n",
    "    responseD = json.loads(requests.get(url).text)\n",
    "    LD = responseD['ResultList']\n",
    "    \n",
    "    for n in range(len(LD)):\n",
    "        row = pd.DataFrame([LD[n]])\n",
    "        df_div2ts = df_div2ts.append(row)\n",
    "\n",
    "print(len(df_div2ts))\n",
    "df_div2ts.tail(3)"
   ]
  },
  {
   "cell_type": "code",
   "execution_count": null,
   "metadata": {},
   "outputs": [],
   "source": [
    "# Merging wdid and division dataframes into one, using left-join.\n",
    "df_div2ts = pd.merge(df_div2ts, dftemp, left_on='wdid', right_on='wdid', how='left')"
   ]
  },
  {
   "cell_type": "code",
   "execution_count": null,
   "metadata": {},
   "outputs": [],
   "source": [
    "# Exporting to Finished File.\n",
    "# Change dataframe to df_div2ts.\n",
    "df_div2ts.to_excel('P_Div2WDIDTimeSeries.xlsx', index=False)  # The output"
   ]
  },
  {
   "cell_type": "markdown",
   "metadata": {},
   "source": [
    "# Division 3"
   ]
  },
  {
   "cell_type": "code",
   "execution_count": null,
   "metadata": {},
   "outputs": [],
   "source": [
    "# The Dvision 3 Time Series Dataframe\n",
    "df_div3ts = pd.DataFrame()"
   ]
  },
  {
   "cell_type": "code",
   "execution_count": null,
   "metadata": {},
   "outputs": [],
   "source": [
    "# Read in division csv file.\n",
    "# Change input to Division 3.\n",
    "fileInput = \"Success/Division3.csv\"\n",
    "dftemp = pd.read_csv(fileInput)\n",
    "print(len(dftemp))\n",
    "dftemp.head(3)"
   ]
  },
  {
   "cell_type": "code",
   "execution_count": null,
   "metadata": {},
   "outputs": [],
   "source": [
    "# Trim down division dataframe for divrectype = DivTotal, availableTimesteps = Year, and ciuCode = A (for active) values only.\n",
    "# Fix wdid values that are less then 7 chars long.  Covert to string.\n",
    "dftemp = dftemp[dftemp.divrectype == 'WaterClass']\n",
    "dftemp = dftemp[dftemp.availableTimesteps == 'Year']\n",
    "dftemp = dftemp[dftemp.ciuCode == 'A']\n",
    "\n",
    "# fix wdid values that are less then 7 chars long.  Covert to string.\n",
    "def formatWDIDValue(colVal):\n",
    "    n = str(colVal)\n",
    "    if len(n) < 7:\n",
    "        outString = \"0\" + n\n",
    "    else:\n",
    "        outString = n\n",
    "    return outString\n",
    "dftemp['wdid'] = dftemp.apply(lambda row: formatWDIDValue(row['wdid']), axis=1)\n",
    "\n",
    "print(len(dftemp))\n",
    "dftemp.head(3)"
   ]
  },
  {
   "cell_type": "code",
   "execution_count": null,
   "metadata": {},
   "outputs": [],
   "source": [
    "# Converted trimed down dataframe wdid to list.\n",
    "dftemp = dftemp.drop_duplicates(subset='wdid', keep=\"first\")\n",
    "wdidlist = dftemp['wdid'].tolist()\n",
    "type(wdidlist)"
   ]
  },
  {
   "cell_type": "code",
   "execution_count": null,
   "metadata": {},
   "outputs": [],
   "source": [
    "# Split list into catagories that are 100 long.\n",
    "wdidlistB = [wdidlist[i:i + 100] for i in range(0, len(wdidlist), 100)]"
   ]
  },
  {
   "cell_type": "code",
   "execution_count": null,
   "metadata": {},
   "outputs": [],
   "source": [
    "# Use list of WDIDs (from Divisoin data) as inputs, retreive time series data.\n",
    "# Change dataframe to df_div3ts\n",
    "\n",
    "str2 = \"https://dwr.state.co.us/Rest/GET/api/v2/structures/divrec/divrecyear/?wdid=\"\n",
    "str3 = \"%2C&apiKey=wAC6ZmzcPJ30dyy6nYu6jQmG7BBedcem\"\n",
    "\n",
    "for i in range(len(wdidlistB)):\n",
    "    lstC = wdidlistB[i]\n",
    "    lstCa = '%2C'.join([str(n) for n in lstC]) \n",
    "    \n",
    "    url = str2 + lstCa + str3\n",
    "    responseD = json.loads(requests.get(url).text)\n",
    "    LD = responseD['ResultList']\n",
    "    \n",
    "    for n in range(len(LD)):\n",
    "        row = pd.DataFrame([LD[n]])\n",
    "        df_div3ts = df_div3ts.append(row)\n",
    "\n",
    "print(len(df_div3ts))\n",
    "df_div3ts.tail(3)"
   ]
  },
  {
   "cell_type": "code",
   "execution_count": null,
   "metadata": {},
   "outputs": [],
   "source": [
    "# Merging wdid and division dataframes into one, using left-join.\n",
    "df_div3ts = pd.merge(df_div3ts, dftemp, left_on='wdid', right_on='wdid', how='left')"
   ]
  },
  {
   "cell_type": "code",
   "execution_count": null,
   "metadata": {},
   "outputs": [],
   "source": [
    "# Exporting to Finished File.\n",
    "# Change dataframe to df_div3ts.\n",
    "df_div3ts.to_excel('P_Div3WDIDTimeSeries.xlsx', index=False)  # The output"
   ]
  },
  {
   "cell_type": "markdown",
   "metadata": {},
   "source": [
    "# Division 4"
   ]
  },
  {
   "cell_type": "code",
   "execution_count": null,
   "metadata": {},
   "outputs": [],
   "source": [
    "# The Dvision 4 Time Series Dataframe\n",
    "df_div4ts = pd.DataFrame()"
   ]
  },
  {
   "cell_type": "code",
   "execution_count": null,
   "metadata": {},
   "outputs": [],
   "source": [
    "# Read in division csv file.\n",
    "# Change input to Division 4.\n",
    "fileInput = \"Success/Division4.csv\"\n",
    "dftemp = pd.read_csv(fileInput)\n",
    "print(len(dftemp))\n",
    "dftemp.head(3)"
   ]
  },
  {
   "cell_type": "code",
   "execution_count": null,
   "metadata": {},
   "outputs": [],
   "source": [
    "# Trim down division dataframe for divrectype = DivTotal, availableTimesteps = Year, and ciuCode = A (for active) values only.\n",
    "# Fix wdid values that are less then 7 chars long.  Covert to string.\n",
    "dftemp = dftemp[dftemp.divrectype == 'WaterClass']\n",
    "dftemp = dftemp[dftemp.availableTimesteps == 'Year']\n",
    "dftemp = dftemp[dftemp.ciuCode == 'A']\n",
    "\n",
    "# fix wdid values that are less then 7 chars long.  Covert to string.\n",
    "def formatWDIDValue(colVal):\n",
    "    n = str(colVal)\n",
    "    if len(n) < 7:\n",
    "        outString = \"0\" + n\n",
    "    else:\n",
    "        outString = n\n",
    "    return outString\n",
    "dftemp['wdid'] = dftemp.apply(lambda row: formatWDIDValue(row['wdid']), axis=1)\n",
    "\n",
    "print(len(dftemp))\n",
    "dftemp.head(3)"
   ]
  },
  {
   "cell_type": "code",
   "execution_count": null,
   "metadata": {},
   "outputs": [],
   "source": [
    "# Converted trimed down dataframe wdid to list.\n",
    "dftemp = dftemp.drop_duplicates(subset='wdid', keep=\"first\")\n",
    "wdidlist = dftemp['wdid'].tolist()\n",
    "type(wdidlist)"
   ]
  },
  {
   "cell_type": "code",
   "execution_count": null,
   "metadata": {},
   "outputs": [],
   "source": [
    "# Split list into catagories that are 100 long.\n",
    "wdidlistB = [wdidlist[i:i + 100] for i in range(0, len(wdidlist), 100)]"
   ]
  },
  {
   "cell_type": "code",
   "execution_count": null,
   "metadata": {},
   "outputs": [],
   "source": [
    "# Use list of WDIDs (from Divisoin data) as inputs, retreive time series data.\n",
    "# Change dataframe to df_div4ts\n",
    "\n",
    "str2 = \"https://dwr.state.co.us/Rest/GET/api/v2/structures/divrec/divrecyear/?wdid=\"\n",
    "str3 = \"%2C&apiKey=wAC6ZmzcPJ30dyy6nYu6jQmG7BBedcem\"\n",
    "\n",
    "for i in range(len(wdidlistB)):\n",
    "    lstC = wdidlistB[i]\n",
    "    lstCa = '%2C'.join([str(n) for n in lstC]) \n",
    "    \n",
    "    url = str2 + lstCa + str3\n",
    "    responseD = json.loads(requests.get(url).text)\n",
    "    LD = responseD['ResultList']\n",
    "    \n",
    "    for n in range(len(LD)):\n",
    "        row = pd.DataFrame([LD[n]])\n",
    "        df_div4ts = df_div4ts.append(row)\n",
    "\n",
    "print(len(df_div4ts))\n",
    "df_div4ts.tail(3)"
   ]
  },
  {
   "cell_type": "code",
   "execution_count": null,
   "metadata": {},
   "outputs": [],
   "source": [
    "# Merging wdid and division dataframes into one, using left-join.\n",
    "df_div4ts = pd.merge(df_div4ts, dftemp, left_on='wdid', right_on='wdid', how='left')"
   ]
  },
  {
   "cell_type": "code",
   "execution_count": null,
   "metadata": {},
   "outputs": [],
   "source": [
    "# Exporting to Finished File.\n",
    "# Change dataframe to df_div4ts.\n",
    "df_div4ts.to_excel('P_Div4WDIDTimeSeries.xlsx', index=False)  # The output"
   ]
  },
  {
   "cell_type": "markdown",
   "metadata": {},
   "source": [
    "# Division 5"
   ]
  },
  {
   "cell_type": "code",
   "execution_count": null,
   "metadata": {},
   "outputs": [],
   "source": [
    "# The Dvision 5 Time Series Dataframe\n",
    "df_div5ts = pd.DataFrame()"
   ]
  },
  {
   "cell_type": "code",
   "execution_count": null,
   "metadata": {},
   "outputs": [],
   "source": [
    "# Read in division csv file.\n",
    "# Change input to Division 5.\n",
    "fileInput = \"Success/Division5.csv\"\n",
    "dftemp = pd.read_csv(fileInput)\n",
    "print(len(dftemp))\n",
    "dftemp.head(3)"
   ]
  },
  {
   "cell_type": "code",
   "execution_count": null,
   "metadata": {},
   "outputs": [],
   "source": [
    "# Trim down division dataframe for divrectype = DivTotal, availableTimesteps = Year, and ciuCode = A (for active) values only.\n",
    "# Fix wdid values that are less then 7 chars long.  Covert to string.\n",
    "dftemp = dftemp[dftemp.divrectype == 'WaterClass']\n",
    "dftemp = dftemp[dftemp.availableTimesteps == 'Year']\n",
    "dftemp = dftemp[dftemp.ciuCode == 'A']\n",
    "\n",
    "# fix wdid values that are less then 7 chars long.  Covert to string.\n",
    "def formatWDIDValue(colVal):\n",
    "    n = str(colVal)\n",
    "    if len(n) < 7:\n",
    "        outString = \"0\" + n\n",
    "    else:\n",
    "        outString = n\n",
    "    return outString\n",
    "dftemp['wdid'] = dftemp.apply(lambda row: formatWDIDValue(row['wdid']), axis=1)\n",
    "\n",
    "print(len(dftemp))\n",
    "dftemp.head(3)"
   ]
  },
  {
   "cell_type": "code",
   "execution_count": null,
   "metadata": {},
   "outputs": [],
   "source": [
    "# Converted trimed down dataframe wdid to list.\n",
    "dftemp = dftemp.drop_duplicates(subset='wdid', keep=\"first\")\n",
    "wdidlist = dftemp['wdid'].tolist()\n",
    "type(wdidlist)"
   ]
  },
  {
   "cell_type": "code",
   "execution_count": null,
   "metadata": {},
   "outputs": [],
   "source": [
    "# Split list into catagories that are 100 long.\n",
    "wdidlistB = [wdidlist[i:i + 100] for i in range(0, len(wdidlist), 100)]"
   ]
  },
  {
   "cell_type": "code",
   "execution_count": null,
   "metadata": {},
   "outputs": [],
   "source": [
    "# Use list of WDIDs (from Divisoin data) as inputs, retreive time series data.\n",
    "# Change dataframe to df_div5ts\n",
    "\n",
    "str2 = \"https://dwr.state.co.us/Rest/GET/api/v2/structures/divrec/divrecyear/?wdid=\"\n",
    "str3 = \"%2C&apiKey=wAC6ZmzcPJ30dyy6nYu6jQmG7BBedcem\"\n",
    "\n",
    "for i in range(len(wdidlistB)):\n",
    "    lstC = wdidlistB[i]\n",
    "    lstCa = '%2C'.join([str(n) for n in lstC]) \n",
    "    \n",
    "    url = str2 + lstCa + str3\n",
    "    responseD = json.loads(requests.get(url).text)\n",
    "    LD = responseD['ResultList']\n",
    "    \n",
    "    for n in range(len(LD)):\n",
    "        row = pd.DataFrame([LD[n]])\n",
    "        df_div5ts = df_div5ts.append(row)\n",
    "\n",
    "print(len(df_div5ts))\n",
    "df_div5ts.tail(3)"
   ]
  },
  {
   "cell_type": "code",
   "execution_count": null,
   "metadata": {},
   "outputs": [],
   "source": [
    "# Merging wdid and division dataframes into one, using left-join.\n",
    "df_div5ts = pd.merge(df_div5ts, dftemp, left_on='wdid', right_on='wdid', how='left')"
   ]
  },
  {
   "cell_type": "code",
   "execution_count": null,
   "metadata": {},
   "outputs": [],
   "source": [
    "# Exporting to Finished File.\n",
    "# Change dataframe to df_div5ts.\n",
    "df_div5ts.to_excel('P_Div5WDIDTimeSeries.xlsx', index=False)  # The output"
   ]
  },
  {
   "cell_type": "markdown",
   "metadata": {},
   "source": [
    "# Division 6"
   ]
  },
  {
   "cell_type": "code",
   "execution_count": null,
   "metadata": {},
   "outputs": [],
   "source": [
    "# The Dvision 6 Time Series Dataframe\n",
    "df_div6ts = pd.DataFrame()"
   ]
  },
  {
   "cell_type": "code",
   "execution_count": null,
   "metadata": {},
   "outputs": [],
   "source": [
    "# Read in division csv file.\n",
    "# Change input to Division 6.\n",
    "fileInput = \"Success/Division6.csv\"\n",
    "dftemp = pd.read_csv(fileInput)\n",
    "print(len(dftemp))\n",
    "dftemp.head(3)"
   ]
  },
  {
   "cell_type": "code",
   "execution_count": null,
   "metadata": {},
   "outputs": [],
   "source": [
    "# Trim down division dataframe for divrectype = DivTotal, availableTimesteps = Year, and ciuCode = A (for active) values only.\n",
    "# Fix wdid values that are less then 7 chars long.  Covert to string.\n",
    "dftemp = dftemp[dftemp.divrectype == 'WaterClass']\n",
    "dftemp = dftemp[dftemp.availableTimesteps == 'Year']\n",
    "dftemp = dftemp[dftemp.ciuCode == 'A']\n",
    "\n",
    "# fix wdid values that are less then 7 chars long.  Covert to string.\n",
    "def formatWDIDValue(colVal):\n",
    "    n = str(colVal)\n",
    "    if len(n) < 7:\n",
    "        outString = \"0\" + n\n",
    "    else:\n",
    "        outString = n\n",
    "    return outString\n",
    "dftemp['wdid'] = dftemp.apply(lambda row: formatWDIDValue(row['wdid']), axis=1)\n",
    "\n",
    "print(len(dftemp))\n",
    "dftemp.head(3)"
   ]
  },
  {
   "cell_type": "code",
   "execution_count": null,
   "metadata": {},
   "outputs": [],
   "source": [
    "# Converted trimed down dataframe wdid to list.\n",
    "dftemp = dftemp.drop_duplicates(subset='wdid', keep=\"first\")\n",
    "wdidlist = dftemp['wdid'].tolist()\n",
    "type(wdidlist)"
   ]
  },
  {
   "cell_type": "code",
   "execution_count": null,
   "metadata": {},
   "outputs": [],
   "source": [
    "# Split list into catagories that are 100 long.\n",
    "wdidlistB = [wdidlist[i:i + 100] for i in range(0, len(wdidlist), 100)]"
   ]
  },
  {
   "cell_type": "code",
   "execution_count": null,
   "metadata": {},
   "outputs": [],
   "source": [
    "# Use list of WDIDs (from Divisoin data) as inputs, retreive time series data.\n",
    "# Change dataframe to df_div6ts\n",
    "\n",
    "str2 = \"https://dwr.state.co.us/Rest/GET/api/v2/structures/divrec/divrecyear/?wdid=\"\n",
    "str3 = \"%2C&apiKey=wAC6ZmzcPJ30dyy6nYu6jQmG7BBedcem\"\n",
    "\n",
    "for i in range(len(wdidlistB)):\n",
    "    lstC = wdidlistB[i]\n",
    "    lstCa = '%2C'.join([str(n) for n in lstC]) \n",
    "    \n",
    "    url = str2 + lstCa + str3\n",
    "    responseD = json.loads(requests.get(url).text)\n",
    "    LD = responseD['ResultList']\n",
    "    \n",
    "    for n in range(len(LD)):\n",
    "        row = pd.DataFrame([LD[n]])\n",
    "        df_div6ts = df_div6ts.append(row)\n",
    "\n",
    "print(len(df_div6ts))\n",
    "df_div6ts.tail(3)"
   ]
  },
  {
   "cell_type": "code",
   "execution_count": null,
   "metadata": {},
   "outputs": [],
   "source": [
    "# Merging wdid and division dataframes into one, using left-join.\n",
    "df_div6ts = pd.merge(df_div6ts, dftemp, left_on='wdid', right_on='wdid', how='left')"
   ]
  },
  {
   "cell_type": "code",
   "execution_count": null,
   "metadata": {},
   "outputs": [],
   "source": [
    "# Exporting to Finished File.\n",
    "# Change dataframe to df_div6ts.\n",
    "df_div6ts.to_excel('P_Div6WDIDTimeSeries.xlsx', index=False)  # The output"
   ]
  },
  {
   "cell_type": "markdown",
   "metadata": {},
   "source": [
    "# Division 7"
   ]
  },
  {
   "cell_type": "code",
   "execution_count": null,
   "metadata": {},
   "outputs": [],
   "source": [
    "# The Dvision 7 Time Series Dataframe\n",
    "df_div7ts = pd.DataFrame()"
   ]
  },
  {
   "cell_type": "code",
   "execution_count": null,
   "metadata": {},
   "outputs": [],
   "source": [
    "# Read in division csv file.\n",
    "# Change input to Division 7.\n",
    "fileInput = \"Success/Division7.csv\"\n",
    "dftemp = pd.read_csv(fileInput)\n",
    "print(len(dftemp))\n",
    "dftemp.head(3)"
   ]
  },
  {
   "cell_type": "code",
   "execution_count": null,
   "metadata": {},
   "outputs": [],
   "source": [
    "# Trim down division dataframe for divrectype = DivTotal, availableTimesteps = Year, and ciuCode = A (for active) values only.\n",
    "# Fix wdid values that are less then 7 chars long.  Covert to string.\n",
    "dftemp = dftemp[dftemp.divrectype == 'WaterClass']\n",
    "dftemp = dftemp[dftemp.availableTimesteps == 'Year']\n",
    "dftemp = dftemp[dftemp.ciuCode == 'A']\n",
    "\n",
    "# fix wdid values that are less then 7 chars long.  Covert to string.\n",
    "def formatWDIDValue(colVal):\n",
    "    n = str(colVal)\n",
    "    if len(n) < 7:\n",
    "        outString = \"0\" + n\n",
    "    else:\n",
    "        outString = n\n",
    "    return outString\n",
    "dftemp['wdid'] = dftemp.apply(lambda row: formatWDIDValue(row['wdid']), axis=1)\n",
    "\n",
    "print(len(dftemp))\n",
    "dftemp.head(3)"
   ]
  },
  {
   "cell_type": "code",
   "execution_count": null,
   "metadata": {},
   "outputs": [],
   "source": [
    "# Converted trimed down dataframe wdid to list.\n",
    "dftemp = dftemp.drop_duplicates(subset='wdid', keep=\"first\")\n",
    "wdidlist = dftemp['wdid'].tolist()\n",
    "type(wdidlist)"
   ]
  },
  {
   "cell_type": "code",
   "execution_count": null,
   "metadata": {},
   "outputs": [],
   "source": [
    "# Split list into catagories that are 100 long.\n",
    "wdidlistB = [wdidlist[i:i + 100] for i in range(0, len(wdidlist), 100)]"
   ]
  },
  {
   "cell_type": "code",
   "execution_count": null,
   "metadata": {},
   "outputs": [],
   "source": [
    "# Use list of WDIDs (from Divisoin data) as inputs, retreive time series data.\n",
    "# Change dataframe to df_div7ts\n",
    "\n",
    "str2 = \"https://dwr.state.co.us/Rest/GET/api/v2/structures/divrec/divrecyear/?wdid=\"\n",
    "str3 = \"%2C&apiKey=wAC6ZmzcPJ30dyy6nYu6jQmG7BBedcem\"\n",
    "\n",
    "for i in range(len(wdidlistB)):\n",
    "    lstC = wdidlistB[i]\n",
    "    lstCa = '%2C'.join([str(n) for n in lstC]) \n",
    "    \n",
    "    url = str2 + lstCa + str3\n",
    "    responseD = json.loads(requests.get(url).text)\n",
    "    LD = responseD['ResultList']\n",
    "    \n",
    "    for n in range(len(LD)):\n",
    "        row = pd.DataFrame([LD[n]])\n",
    "        df_div7ts = df_div7ts.append(row)\n",
    "\n",
    "print(len(df_div7ts))\n",
    "df_div7ts.tail(3)"
   ]
  },
  {
   "cell_type": "code",
   "execution_count": null,
   "metadata": {},
   "outputs": [],
   "source": [
    "# Merging wdid and division dataframes into one, using left-join.\n",
    "df_div7ts = pd.merge(df_div7ts, dftemp, left_on='wdid', right_on='wdid', how='left')"
   ]
  },
  {
   "cell_type": "code",
   "execution_count": null,
   "metadata": {},
   "outputs": [],
   "source": [
    "# Exporting to Finished File.\n",
    "# Change dataframe to df_div7ts.\n",
    "df_div7ts.to_excel('P_Div7WDIDTimeSeries.xlsx', index=False)  # The output"
   ]
  },
  {
   "cell_type": "markdown",
   "metadata": {},
   "source": [
    "# Concatenate"
   ]
  },
  {
   "cell_type": "code",
   "execution_count": null,
   "metadata": {},
   "outputs": [],
   "source": [
    "# Concatenate\n",
    "frames = [df_div1ts, df_div2ts, df_div3ts, df_div4ts, df_div5ts, df_div6ts, df_div7ts]\n",
    "dfout = pd.concat(frames)"
   ]
  },
  {
   "cell_type": "code",
   "execution_count": null,
   "metadata": {},
   "outputs": [],
   "source": [
    "print(len(dfout))\n",
    "dfout"
   ]
  },
  {
   "cell_type": "markdown",
   "metadata": {},
   "source": [
    "# WaDE Custom Elements (due to missing sate info)"
   ]
  },
  {
   "cell_type": "code",
   "execution_count": null,
   "metadata": {},
   "outputs": [],
   "source": [
    "# Creating WaDE Custom water source native ID for easy water source identification\n",
    "# ----------------------------------------------------------------------------------------------------\n",
    "\n",
    "# Create temp WaterSourceNativeID dataframe of unique water source.\n",
    "def assignWaterSourceNativeID(colrowValue):\n",
    "    string1 = str(colrowValue)\n",
    "    outstring = \"WaDECO_WS\" + string1\n",
    "    return outstring\n",
    "\n",
    "dfWaterSourceNativeID = pd.DataFrame()\n",
    "dfWaterSourceNativeID['in_WaterSourceName'] = dfout['waterSource']\n",
    "dfWaterSourceNativeID = dfWaterSourceNativeID.drop_duplicates()\n",
    "\n",
    "dftemp = pd.DataFrame(index=dfWaterSourceNativeID.index)\n",
    "dftemp[\"Count\"] = range(1, len(dftemp.index) + 1)\n",
    "dfWaterSourceNativeID['in_WaterSourceNativeID'] = dftemp.apply(lambda row: assignWaterSourceNativeID(row['Count']), axis=1)\n",
    "\n",
    "# ----------------------------------------------------------------------------------------------------\n",
    "\n",
    "# Retreive WaDE Custom water source native ID\n",
    "def retrieveWaterSourceNativeID(A):\n",
    "    if (A == '') or (pd.isnull(A)):\n",
    "        outList = ''\n",
    "    else:\n",
    "        ml = dfWaterSourceNativeID.loc[(dfWaterSourceNativeID['in_WaterSourceName'] == A), 'in_WaterSourceNativeID']\n",
    "        if not (ml.empty):  # check if the series is empty\n",
    "            outList = ml.iloc[0]\n",
    "        else:\n",
    "            outList = ''\n",
    "    return outList\n",
    "\n",
    "dfout['in_WaterSourceNativeID'] = dfout.apply(lambda row: retrieveWaterSourceNativeID( row['waterSource']), axis=1)\n",
    "dfout.head(3)"
   ]
  },
  {
   "cell_type": "code",
   "execution_count": null,
   "metadata": {},
   "outputs": [],
   "source": [
    "# Creating WaDE Custom site native ID for easy site identificaiion\n",
    "# ----------------------------------------------------------------------------------------------------\n",
    "\n",
    "# Create temp SiteNativeID dataframe of unique site.\n",
    "def assignSiteUUID(colrowValue):\n",
    "    string1 = str(colrowValue)\n",
    "    outstring = \"WaDECO_S\" + string1\n",
    "    return outstring\n",
    "\n",
    "dfSiteNativeID = pd.DataFrame()\n",
    "dfSiteNativeID['in_Latitude'] = dfout['latdecdeg']\n",
    "dfSiteNativeID['in_Longitude'] = dfout['longdecdeg']\n",
    "dfSiteNativeID['in_SiteTypeCV'] = dfout['structureType']\n",
    "dfSiteNativeID['in_SiteName'] = dfout['structureName']\n",
    "dfSiteNativeID = dfSiteNativeID.drop_duplicates()\n",
    "\n",
    "dftemp = pd.DataFrame(index=dfSiteNativeID.index)\n",
    "dftemp[\"Count\"] = range(1, len(dftemp.index) + 1)\n",
    "dfSiteNativeID['in_SiteNativeID'] = dftemp.apply(lambda row: assignSiteUUID(row['Count']), axis=1)\n",
    "\n",
    "# ----------------------------------------------------------------------------------------------------\n",
    "\n",
    "# Retreive WaDE Custom site native ID\n",
    "def retrieveSiteNativeID(A, B, C, D):\n",
    "    if (A == '' and B == '') or (pd.isnull(A) and pd.isnull(B)):\n",
    "        outList = ''\n",
    "    else:\n",
    "        ml = dfSiteNativeID.loc[(dfSiteNativeID['in_Latitude'] == A) & \n",
    "                                (dfSiteNativeID['in_Longitude'] == B) &\n",
    "                                (dfSiteNativeID['in_SiteTypeCV'] == C) &\n",
    "                                (dfSiteNativeID['in_SiteName'] == D), 'in_SiteNativeID']\n",
    "        if not (ml.empty):  # check if the series is empty\n",
    "            outList = ml.iloc[0]\n",
    "        else:\n",
    "            outList = ''\n",
    "    return outList\n",
    "\n",
    "dfout['in_SiteNativeID'] = dfout.apply(lambda row: retrieveSiteNativeID( row['latdecdeg'], row['longdecdeg'], row['structureType'], row['structureName']), axis=1)\n",
    "dfout.head(3)"
   ]
  },
  {
   "cell_type": "code",
   "execution_count": null,
   "metadata": {},
   "outputs": [],
   "source": [
    "# TimeframeStart & TimeframeEnd\n",
    "\n",
    "dfout['inTimeframeStart'] = '01/01/' + dfout['dataMeasDate'].astype(str)\n",
    "dfout['inTimeframeEnd'] = '12/31/' + dfout['dataMeasDate'].astype(str)\n",
    "dfout"
   ]
  },
  {
   "cell_type": "code",
   "execution_count": null,
   "metadata": {},
   "outputs": [],
   "source": [
    "# Exporting to Finished File.\n",
    "# Change dataframe to df_div7ts.\n",
    "dfout.to_csv('P_coSSMaster.csv', index=False)  # The output"
   ]
  },
  {
   "cell_type": "code",
   "execution_count": null,
   "metadata": {},
   "outputs": [],
   "source": []
  }
 ],
 "metadata": {
  "kernelspec": {
   "display_name": "Python 3",
   "language": "python",
   "name": "python3"
  },
  "language_info": {
   "codemirror_mode": {
    "name": "ipython",
    "version": 3
   },
   "file_extension": ".py",
   "mimetype": "text/x-python",
   "name": "python",
   "nbconvert_exporter": "python",
   "pygments_lexer": "ipython3",
   "version": "3.8.5"
  }
 },
 "nbformat": 4,
 "nbformat_minor": 2
}
