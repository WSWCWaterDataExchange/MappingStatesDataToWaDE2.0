{
 "cells": [
  {
   "cell_type": "markdown",
   "metadata": {},
   "source": [
    "# Pre-processing Colorado Allocation data for WaDEQA upload.\n",
    "Date Updated: 04/13/2022\n",
    "Purpose:  To pre-process the Colorado data into one master file for simple DataFrame creation and extraction\n",
    "\n",
    "Notes:\n",
    "asdf"
   ]
  },
  {
   "cell_type": "code",
   "execution_count": null,
   "metadata": {},
   "outputs": [],
   "source": [
    "#Needed Libararies\n",
    "import os\n",
    "import numpy as np\n",
    "import pandas as pd\n",
    "from datetime import datetime\n",
    "pd.set_option('display.max_columns', 999)  # How to display all columns of a Pandas DataFrame in Jupyter Notebook"
   ]
  },
  {
   "cell_type": "code",
   "execution_count": null,
   "metadata": {},
   "outputs": [],
   "source": [
    "# Working Directory\n",
    "workingDir = \"G:/Shared drives/WaDE Data/Colorado/WaterAllocation/RawInputData\"\n",
    "os.chdir(workingDir)\n",
    "\n",
    "# Input File\n",
    "fileInput = \"DWR_Water_Right_-_Net_Amounts_input.csv\"\n",
    "df = pd.read_csv(fileInput)\n",
    "df.head(2)"
   ]
  },
  {
   "cell_type": "code",
   "execution_count": null,
   "metadata": {},
   "outputs": [],
   "source": [
    "#Update datatype of Priority Date to fit WaDE 2.0 structure\n",
    "df['Appropriation Date'] = pd.to_datetime(df['Appropriation Date'])\n",
    "df['Appropriation Date'] = pd.to_datetime(df[\"Appropriation Date\"].dt.strftime('%m/%d/%Y'))\n",
    "df.head(2)"
   ]
  },
  {
   "cell_type": "code",
   "execution_count": null,
   "metadata": {
    "scrolled": false
   },
   "outputs": [],
   "source": [
    "#Creating Beneficial Use.\n",
    "#Need to split CO abbreviatoin strings to a workable format.\n",
    "\n",
    "BenUseDict = {\n",
    "\"0\" : \"Storage\",\n",
    "\"1\" : \"Irrigation\",\n",
    "\"2\" : \"Municipal\",\n",
    "\"3\" : \"Commercial\",\n",
    "\"4\" : \"Industrial\",\n",
    "\"5\" : \"Recreation\",\n",
    "\"6\" : \"Fishery\",\n",
    "\"7\" : \"Fire\",\n",
    "\"8\" : \"Domestic\",\n",
    "\"9\" : \"Stock\",\n",
    "\"A\" : \"Augmentation\",\n",
    "\"B\" : \"Export from Basin\",\n",
    "\"C\" : \"Cumulative Accretion to River\",\n",
    "\"D\" : \"Cumulative Depletion from River\",\n",
    "\"E\" : \"Evaporative\",\n",
    "\"F\" : \"Federal Reserved\",\n",
    "\"G\" : \"Geothermal\",\n",
    "\"H\" : \"Household Use Only\",\n",
    "\"K\" : \"Snow Making\",\n",
    "\"M\" : \"Minimum Streamflow\",\n",
    "\"N\" : \"Net Effect on River\",\n",
    "\"P\" : \"Power Generation\",\n",
    "\"Q\" : \"Other\",\n",
    "\"R\" : \"Recharge\",\n",
    "\"S\" : \"Export from State\",\n",
    "\"T\" : \"Transmountain Export\",\n",
    "\"W\" : \"Wildlife\",\n",
    "\"X\" : \"All Beneficial Uses\"}\n",
    "\n",
    "def retrieveBenUse(colrowValue):\n",
    "    if colrowValue == \"\" or pd.isnull(colrowValue):\n",
    "        outString = \"Unspecified\"\n",
    "    else:\n",
    "        String1 = str(colrowValue).strip()\n",
    "        x=[]\n",
    "        x[:] = String1\n",
    "        try:\n",
    "            outList = []\n",
    "            for i in range(len(x)):\n",
    "                y = x[i].strip()\n",
    "                y = BenUseDict[y]\n",
    "                outList.append(y)\n",
    "            outString = \", \".join(str(e) for e in outList)\n",
    "        except:\n",
    "            outString = \"Unspecified\"\n",
    "    return outString\n",
    "\n",
    "df['in_WaDEBenUse'] = df.apply(lambda row: retrieveBenUse(row['Decreed Uses']), axis=1)\n",
    "df.head(2)"
   ]
  },
  {
   "cell_type": "code",
   "execution_count": null,
   "metadata": {},
   "outputs": [],
   "source": [
    "#Determining WaterSourceTypeCV\n",
    "\n",
    "def determineWaterSourceTypeCV(colrowValue):\n",
    "    if colrowValue == \"\" or pd.isnull(colrowValue):\n",
    "        outString = \"Unspecified\"\n",
    "    else:\n",
    "        String1 = str(colrowValue).strip()\n",
    "        if \"GROUNDWATER:\" in String1:\n",
    "            outString = \"Groundwater\"\n",
    "        else:\n",
    "            outString = \"Surface Water\"\n",
    "    return outString\n",
    "\n",
    "df['in_WaterSourceTypeCV'] = df.apply(lambda row: determineWaterSourceTypeCV(row['Water Source']), axis=1)\n",
    "df.head(2)"
   ]
  },
  {
   "cell_type": "code",
   "execution_count": null,
   "metadata": {},
   "outputs": [],
   "source": [
    "#Determining WaterSourceName\n",
    "#Want to remove the \"GROUNDWATER: \" from the name.\n",
    "\n",
    "def determineWaterSourceName(colrowValue):\n",
    "    if colrowValue == \"\" or pd.isnull(colrowValue):\n",
    "        outString = \"Unspecified\"\n",
    "    else:\n",
    "        String1 = str(colrowValue).strip()\n",
    "        if \"GROUNDWATER:\" in String1:\n",
    "            outString = colrowValue.replace(\"GROUNDWATER: \", \"\").strip()\n",
    "        else:\n",
    "            outString = colrowValue\n",
    "    return outString\n",
    "\n",
    "df['in_WaterSourceName'] = df.apply(lambda row: determineWaterSourceName(row['Water Source']), axis=1)\n",
    "df.head(2)"
   ]
  },
  {
   "cell_type": "code",
   "execution_count": null,
   "metadata": {},
   "outputs": [],
   "source": [
    "#Filling in blank spots of GNIS ID for use of WaterSourceNativeID\n",
    "\n",
    "def fillGNISID(colrowValue):\n",
    "    if colrowValue == \"\" or pd.isnull(colrowValue):\n",
    "        outString = \"Unspecified\"\n",
    "    else:\n",
    "        outString = str(colrowValue).strip()\n",
    "    return outString\n",
    "\n",
    "df['GNIS ID'] = df.apply(lambda row: fillGNISID(row['GNIS ID']), axis=1)\n",
    "df.head(2)"
   ]
  },
  {
   "cell_type": "code",
   "execution_count": null,
   "metadata": {},
   "outputs": [],
   "source": [
    "# Allocation_CFS\n",
    "# If Decreed Units = \"C\" and Net Absolute != 0, then return Net Absolute\n",
    "# Elif Decreed Units = \"C\" and Net Conditional != 0, then return Net Conditional\n",
    "# Else return blank\n",
    "\n",
    "# For creating Allocation_CFS\n",
    "def assignAllocation_CFS(valA, valB, valC):\n",
    "    valA = str(valA).strip()\n",
    "    if (valB != 0) and (valC != 0):\n",
    "        outString = 0\n",
    "    else:\n",
    "        if (valA == \"C\") and (valB != 0):\n",
    "            outString = valB\n",
    "        elif (valA  == \"C\") and (valC != 0):\n",
    "            outString = valC\n",
    "        else:\n",
    "            outString = 0\n",
    "    return outString\n",
    "\n",
    "df['in_AllocationFlow_CFS'] = df.apply(lambda row: assignAllocation_CFS(row[\"Decreed Units\"], row[\"Net Absolute\"], row[\"Net Conditional\"]), axis=1)\n",
    "df.head(2)"
   ]
  },
  {
   "cell_type": "code",
   "execution_count": null,
   "metadata": {},
   "outputs": [],
   "source": [
    "# AllocationVolume_AF\n",
    "# If Decreed Units = \"A\" and Net Absolute != 0, then return Net Absolute\n",
    "# Elif Decreed Units = \"A\" and Net Conditional != 0, then return Net Conditional\n",
    "# Else return blank\n",
    "\n",
    "# For creating AllocationVolume_AF\n",
    "def assignAllocationVolume_AF(valA, valB, valC):\n",
    "    valA = str(valA).strip()\n",
    "    if (valB != 0) and (valC != 0):\n",
    "        outString = 0\n",
    "    else:\n",
    "        if (valA == \"A\") and (valB != 0):\n",
    "            outString = valB\n",
    "        elif (valA  == \"A\") and (valC != 0):\n",
    "            outString = valC\n",
    "        else:\n",
    "            outString = 0\n",
    "    return outString\n",
    "\n",
    "df['in_AllocationVolume_AF'] = df.apply(lambda row: assignAllocationVolume_AF(row[\"Decreed Units\"], row[\"Net Absolute\"], row[\"Net Conditional\"]), axis=1)\n",
    "df.head(2)"
   ]
  },
  {
   "cell_type": "code",
   "execution_count": null,
   "metadata": {},
   "outputs": [],
   "source": [
    "# For creating AllocationLegalStatusCV\n",
    "# If Net Absolute = 0 and Net Condontial = 0, then Condtional Aboslute\n",
    "# Elif Net Absolute = 0 and Net Condontial != 0, then Condtional\n",
    "# Else, Aboslute\n",
    "\n",
    "def assignAllocationLegalStatusCV(valA, valB):\n",
    "    if (valA == 0) and (valB == 0):\n",
    "        outString = \"Conditional Absolute\"\n",
    "    elif (valA == 0) and (valB != 0):\n",
    "        outString = \"Conditional\"\n",
    "    else:\n",
    "        outString = \"Absolute\"\n",
    "    return outString\n",
    "\n",
    "df['in_AllocationLegalStatusCV'] = df.apply(lambda row: assignAllocationLegalStatusCV(row['Net Absolute'], row['Net Conditional']), axis=1)\n",
    "df.head(2)"
   ]
  },
  {
   "cell_type": "code",
   "execution_count": null,
   "metadata": {},
   "outputs": [],
   "source": [
    "# Need a unique identifier for WaDE AllocationNativeID.  Combine combine **Admin No**, **Order No**, **Decreed Units**, & **WDID** into single string entry.\n",
    "\n",
    "# For creating AllocationAmount\n",
    "def assignAllocationNativeID(colrowValueA, colrowValueB, colrowValueC, colrowValueD):\n",
    "    outString = \"-\".join(map(str, [colrowValueA, colrowValueB, colrowValueC, colrowValueD]))\n",
    "    return outString\n",
    "\n",
    "df['in_AllocationNativeID'] = df.apply(lambda row: assignAllocationNativeID(row['Admin No'], row['Order No'], row['Decreed Units'], row['WDID']), axis=1)\n",
    "df.head(2)"
   ]
  },
  {
   "cell_type": "markdown",
   "metadata": {},
   "source": [
    "## Export Outputs"
   ]
  },
  {
   "cell_type": "code",
   "execution_count": null,
   "metadata": {},
   "outputs": [],
   "source": [
    "with pd.option_context('display.max_rows', None, 'display.max_columns', None):\n",
    "    print(df.dtypes)"
   ]
  },
  {
   "cell_type": "code",
   "execution_count": null,
   "metadata": {},
   "outputs": [],
   "source": [
    "#Exporting to Finished File\n",
    "df.to_csv('P_ColoradoMaster.csv', index=False)  # The output"
   ]
  },
  {
   "cell_type": "code",
   "execution_count": null,
   "metadata": {},
   "outputs": [],
   "source": []
  }
 ],
 "metadata": {
  "kernelspec": {
   "display_name": "Python 3 (ipykernel)",
   "language": "python",
   "name": "python3"
  },
  "language_info": {
   "codemirror_mode": {
    "name": "ipython",
    "version": 3
   },
   "file_extension": ".py",
   "mimetype": "text/x-python",
   "name": "python",
   "nbconvert_exporter": "python",
   "pygments_lexer": "ipython3",
   "version": "3.8.12"
  }
 },
 "nbformat": 4,
 "nbformat_minor": 2
}
