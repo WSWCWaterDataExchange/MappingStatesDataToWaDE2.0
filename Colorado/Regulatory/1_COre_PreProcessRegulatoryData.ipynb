{
 "cells": [
  {
   "cell_type": "markdown",
   "metadata": {},
   "source": [
    "# Pre-processing (state / organization Name) Regulatory data for WaDE upload.\n",
    "- Purpose:  To preprocess the data into one master file for simple DataFrame creation and extraction."
   ]
  },
  {
   "cell_type": "code",
   "execution_count": 1,
   "metadata": {},
   "outputs": [],
   "source": [
    "# Needed Libraries / Modules\n",
    "\n",
    "# ---- working with data ----\n",
    "import os  # native operating system interaction\n",
    "import numpy as np  # mathematical array manipulation\n",
    "import pandas as pd  # data structure and data analysis\n",
    "import geopandas as gpd  # geo-data structure and data analysis\n",
    "\n",
    "# ---- visualization ----\n",
    "import matplotlib.pyplot as plt  # plotting library\n",
    "import seaborn as sns  # plotting library\n",
    "\n",
    "# ---- API data retrieval ----\n",
    "import requests  # http requests\n",
    "import json  # JSON parse\n",
    "\n",
    "# ---- Cleanup ----\n",
    "import re  # string regular expression manipulation\n",
    "from datetime import datetime  # date and time manipulation\n",
    "pd.set_option('display.max_columns', 999)  # How to display all columns of a Pandas DataFrame in Jupyter Notebook\n",
    "pd.set_option('display.float_format', lambda x: '%.5f' % x)  # suppress scientific notation in Pandas"
   ]
  },
  {
   "cell_type": "code",
   "execution_count": 2,
   "metadata": {},
   "outputs": [
    {
     "name": "stdout",
     "output_type": "stream",
     "text": [
      "The working Directory is: G:/Shared drives/WaDE Data/Colorado/Regulatory\n"
     ]
    }
   ],
   "source": [
    "# ---- working directory ----\n",
    "workingDirString = \"G:/Shared drives/WaDE Data/Colorado/Regulatory\" # set working directory folder string here\n",
    "os.chdir(workingDirString)\n",
    "print(f'The working Directory is:', workingDirString)"
   ]
  },
  {
   "cell_type": "markdown",
   "metadata": {},
   "source": [
    "## Regulatory Area Data #1"
   ]
  },
  {
   "cell_type": "code",
   "execution_count": 3,
   "metadata": {},
   "outputs": [
    {
     "name": "stdout",
     "output_type": "stream",
     "text": [
      "13\n"
     ]
    },
    {
     "data": {
      "text/html": [
       "<div>\n",
       "<style scoped>\n",
       "    .dataframe tbody tr th:only-of-type {\n",
       "        vertical-align: middle;\n",
       "    }\n",
       "\n",
       "    .dataframe tbody tr th {\n",
       "        vertical-align: top;\n",
       "    }\n",
       "\n",
       "    .dataframe thead th {\n",
       "        text-align: right;\n",
       "    }\n",
       "</style>\n",
       "<table border=\"1\" class=\"dataframe\">\n",
       "  <thead>\n",
       "    <tr style=\"text-align: right;\">\n",
       "      <th></th>\n",
       "      <th>OBJECTID</th>\n",
       "      <th>PERIMETER</th>\n",
       "      <th>MD_NAME</th>\n",
       "      <th>MDID</th>\n",
       "      <th>BMNDS_NO</th>\n",
       "      <th>FORMATION_</th>\n",
       "      <th>AMENDED_DA</th>\n",
       "      <th>Shape_Leng</th>\n",
       "      <th>Shape_Area</th>\n",
       "      <th>geometry</th>\n",
       "      <th>WaDEUUID</th>\n",
       "    </tr>\n",
       "  </thead>\n",
       "  <tbody>\n",
       "    <tr>\n",
       "      <th>0</th>\n",
       "      <td>1</td>\n",
       "      <td>224641.11567</td>\n",
       "      <td>Central Yuma</td>\n",
       "      <td>5</td>\n",
       "      <td>1-5</td>\n",
       "      <td>1967-05-22</td>\n",
       "      <td></td>\n",
       "      <td>224643.29565</td>\n",
       "      <td>2010438013.08000</td>\n",
       "      <td>POLYGON ((-102.05166 40.17715, -102.05167 40.1...</td>\n",
       "      <td>re0</td>\n",
       "    </tr>\n",
       "    <tr>\n",
       "      <th>1</th>\n",
       "      <td>2</td>\n",
       "      <td>146771.52468</td>\n",
       "      <td>Marks Butte</td>\n",
       "      <td>11</td>\n",
       "      <td>1-11</td>\n",
       "      <td>1977-08-05</td>\n",
       "      <td></td>\n",
       "      <td>146770.14014</td>\n",
       "      <td>750708676.46500</td>\n",
       "      <td>POLYGON ((-102.65135 40.77851, -102.65125 40.7...</td>\n",
       "      <td>re1</td>\n",
       "    </tr>\n",
       "    <tr>\n",
       "      <th>2</th>\n",
       "      <td>3</td>\n",
       "      <td>241327.98905</td>\n",
       "      <td>Frenchman</td>\n",
       "      <td>4</td>\n",
       "      <td>1-4</td>\n",
       "      <td>1967-05-22</td>\n",
       "      <td>1977-04-21</td>\n",
       "      <td>241329.21017</td>\n",
       "      <td>2623488158.69000</td>\n",
       "      <td>POLYGON ((-102.65135 40.77851, -102.65150 40.7...</td>\n",
       "      <td>re2</td>\n",
       "    </tr>\n",
       "    <tr>\n",
       "      <th>3</th>\n",
       "      <td>4</td>\n",
       "      <td>238791.96085</td>\n",
       "      <td>W-Y</td>\n",
       "      <td>6</td>\n",
       "      <td>1-6</td>\n",
       "      <td>1967-05-22</td>\n",
       "      <td></td>\n",
       "      <td>238794.41003</td>\n",
       "      <td>2377972505.63000</td>\n",
       "      <td>POLYGON ((-102.45472 40.43920, -102.45451 40.4...</td>\n",
       "      <td>re3</td>\n",
       "    </tr>\n",
       "    <tr>\n",
       "      <th>4</th>\n",
       "      <td>5</td>\n",
       "      <td>142787.31594</td>\n",
       "      <td>Sand Hills</td>\n",
       "      <td>2</td>\n",
       "      <td>1-2</td>\n",
       "      <td>1966-12-09</td>\n",
       "      <td></td>\n",
       "      <td>142788.70838</td>\n",
       "      <td>1095359481.88000</td>\n",
       "      <td>POLYGON ((-102.05208 40.43986, -102.05147 40.4...</td>\n",
       "      <td>re4</td>\n",
       "    </tr>\n",
       "  </tbody>\n",
       "</table>\n",
       "</div>"
      ],
      "text/plain": [
       "   OBJECTID    PERIMETER       MD_NAME  MDID BMNDS_NO  FORMATION_  AMENDED_DA  \\\n",
       "0         1 224641.11567  Central Yuma     5      1-5  1967-05-22               \n",
       "1         2 146771.52468   Marks Butte    11     1-11  1977-08-05               \n",
       "2         3 241327.98905     Frenchman     4      1-4  1967-05-22  1977-04-21   \n",
       "3         4 238791.96085           W-Y     6      1-6  1967-05-22               \n",
       "4         5 142787.31594    Sand Hills     2      1-2  1966-12-09               \n",
       "\n",
       "    Shape_Leng       Shape_Area  \\\n",
       "0 224643.29565 2010438013.08000   \n",
       "1 146770.14014  750708676.46500   \n",
       "2 241329.21017 2623488158.69000   \n",
       "3 238794.41003 2377972505.63000   \n",
       "4 142788.70838 1095359481.88000   \n",
       "\n",
       "                                            geometry WaDEUUID  \n",
       "0  POLYGON ((-102.05166 40.17715, -102.05167 40.1...      re0  \n",
       "1  POLYGON ((-102.65135 40.77851, -102.65125 40.7...      re1  \n",
       "2  POLYGON ((-102.65135 40.77851, -102.65150 40.7...      re2  \n",
       "3  POLYGON ((-102.45472 40.43920, -102.45451 40.4...      re3  \n",
       "4  POLYGON ((-102.05208 40.43986, -102.05147 40.4...      re4  "
      ]
     },
     "execution_count": 3,
     "metadata": {},
     "output_type": "execute_result"
    }
   ],
   "source": [
    "# Input File\n",
    "inputFile = \"RawInputData/shapefiles/Groundwater_Management_Districts/Groundwater_Management_Districts.shp\"\n",
    "dfin1 = gpd.read_file(inputFile).replace(np.nan, \"\")\n",
    "\n",
    "# WaDE UUID tracker for data assessment\n",
    "if 'WaDEUUID' not in dfin1:\n",
    "    dfin1['WaDEUUID'] = \"re\" + dfin1.index.astype(str)\n",
    "    dfin1.to_csv('RawInputData/shapefiles/Groundwater_Management_Districts.zip', compression=dict(method='zip', archive_name='Groundwater_Management_Districts.csv'), index=False)\n",
    "\n",
    "# Realign Geometry Projection\n",
    "dfin1['geometry'] = dfin1['geometry'].to_crs(epsg=4326)\n",
    "\n",
    "print(len(dfin1))\n",
    "dfin1.head()"
   ]
  },
  {
   "cell_type": "code",
   "execution_count": 4,
   "metadata": {},
   "outputs": [
    {
     "name": "stdout",
     "output_type": "stream",
     "text": [
      "13\n"
     ]
    },
    {
     "data": {
      "text/html": [
       "<div>\n",
       "<style scoped>\n",
       "    .dataframe tbody tr th:only-of-type {\n",
       "        vertical-align: middle;\n",
       "    }\n",
       "\n",
       "    .dataframe tbody tr th {\n",
       "        vertical-align: top;\n",
       "    }\n",
       "\n",
       "    .dataframe thead th {\n",
       "        text-align: right;\n",
       "    }\n",
       "</style>\n",
       "<table border=\"1\" class=\"dataframe\">\n",
       "  <thead>\n",
       "    <tr style=\"text-align: right;\">\n",
       "      <th></th>\n",
       "      <th>WaDEUUID</th>\n",
       "      <th>in_Date</th>\n",
       "      <th>in_Year</th>\n",
       "      <th>in_OrganizationUUID</th>\n",
       "      <th>in_EPSGCodeCV</th>\n",
       "      <th>in_ReportingUnitName</th>\n",
       "      <th>in_ReportingUnitNativeID</th>\n",
       "      <th>in_ReportingUnitProductVersion</th>\n",
       "      <th>in_ReportingUnitTypeCV</th>\n",
       "      <th>in_ReportingUnitUpdateDate</th>\n",
       "      <th>in_StateCV</th>\n",
       "      <th>in_Geometry</th>\n",
       "      <th>in_OversightAgency</th>\n",
       "      <th>in_RegulatoryDescription</th>\n",
       "      <th>in_RegulatoryName</th>\n",
       "      <th>in_RegulatoryOverlayNativeID</th>\n",
       "      <th>in_RegulatoryStatusCV</th>\n",
       "      <th>in_RegulatoryStatute</th>\n",
       "      <th>in_RegulatoryStatuteLink</th>\n",
       "      <th>in_StatutoryEffectiveDate</th>\n",
       "      <th>in_StatutoryEndDate</th>\n",
       "      <th>in_RegulatoryOverlayTypeCV</th>\n",
       "      <th>in_WaterSourceTypeCV</th>\n",
       "    </tr>\n",
       "  </thead>\n",
       "  <tbody>\n",
       "    <tr>\n",
       "      <th>0</th>\n",
       "      <td>re0</td>\n",
       "      <td>8/4/2023</td>\n",
       "      <td>2023</td>\n",
       "      <td>COre_O1</td>\n",
       "      <td>4326</td>\n",
       "      <td>Central Yuma</td>\n",
       "      <td>co1</td>\n",
       "      <td></td>\n",
       "      <td>Ground Water Management District</td>\n",
       "      <td>9/1/1996</td>\n",
       "      <td>CO</td>\n",
       "      <td></td>\n",
       "      <td>Division of Water Resources</td>\n",
       "      <td>Administers water rights, issues water well pe...</td>\n",
       "      <td>Central Yuma</td>\n",
       "      <td>co1</td>\n",
       "      <td>Active</td>\n",
       "      <td></td>\n",
       "      <td>https://dwr.colorado.gov/services/well-permitt...</td>\n",
       "      <td>1967-05-22</td>\n",
       "      <td></td>\n",
       "      <td>Ground Water Management District</td>\n",
       "      <td>Groundwater</td>\n",
       "    </tr>\n",
       "    <tr>\n",
       "      <th>1</th>\n",
       "      <td>re1</td>\n",
       "      <td>8/4/2023</td>\n",
       "      <td>2023</td>\n",
       "      <td>COre_O1</td>\n",
       "      <td>4326</td>\n",
       "      <td>Marks Butte</td>\n",
       "      <td>co2</td>\n",
       "      <td></td>\n",
       "      <td>Ground Water Management District</td>\n",
       "      <td>9/1/1996</td>\n",
       "      <td>CO</td>\n",
       "      <td></td>\n",
       "      <td>Division of Water Resources</td>\n",
       "      <td>Administers water rights, issues water well pe...</td>\n",
       "      <td>Marks Butte</td>\n",
       "      <td>co2</td>\n",
       "      <td>Active</td>\n",
       "      <td></td>\n",
       "      <td>https://dwr.colorado.gov/services/well-permitt...</td>\n",
       "      <td>1977-08-05</td>\n",
       "      <td></td>\n",
       "      <td>Ground Water Management District</td>\n",
       "      <td>Groundwater</td>\n",
       "    </tr>\n",
       "    <tr>\n",
       "      <th>2</th>\n",
       "      <td>re2</td>\n",
       "      <td>8/4/2023</td>\n",
       "      <td>2023</td>\n",
       "      <td>COre_O1</td>\n",
       "      <td>4326</td>\n",
       "      <td>Frenchman</td>\n",
       "      <td>co3</td>\n",
       "      <td></td>\n",
       "      <td>Ground Water Management District</td>\n",
       "      <td>9/1/1996</td>\n",
       "      <td>CO</td>\n",
       "      <td></td>\n",
       "      <td>Division of Water Resources</td>\n",
       "      <td>Administers water rights, issues water well pe...</td>\n",
       "      <td>Frenchman</td>\n",
       "      <td>co3</td>\n",
       "      <td>Active</td>\n",
       "      <td></td>\n",
       "      <td>https://dwr.colorado.gov/services/well-permitt...</td>\n",
       "      <td>1967-05-22</td>\n",
       "      <td></td>\n",
       "      <td>Ground Water Management District</td>\n",
       "      <td>Groundwater</td>\n",
       "    </tr>\n",
       "    <tr>\n",
       "      <th>3</th>\n",
       "      <td>re3</td>\n",
       "      <td>8/4/2023</td>\n",
       "      <td>2023</td>\n",
       "      <td>COre_O1</td>\n",
       "      <td>4326</td>\n",
       "      <td>W-Y</td>\n",
       "      <td>co4</td>\n",
       "      <td></td>\n",
       "      <td>Ground Water Management District</td>\n",
       "      <td>9/1/1996</td>\n",
       "      <td>CO</td>\n",
       "      <td></td>\n",
       "      <td>Division of Water Resources</td>\n",
       "      <td>Administers water rights, issues water well pe...</td>\n",
       "      <td>W-Y</td>\n",
       "      <td>co4</td>\n",
       "      <td>Active</td>\n",
       "      <td></td>\n",
       "      <td>https://dwr.colorado.gov/services/well-permitt...</td>\n",
       "      <td>1967-05-22</td>\n",
       "      <td></td>\n",
       "      <td>Ground Water Management District</td>\n",
       "      <td>Groundwater</td>\n",
       "    </tr>\n",
       "    <tr>\n",
       "      <th>4</th>\n",
       "      <td>re4</td>\n",
       "      <td>8/4/2023</td>\n",
       "      <td>2023</td>\n",
       "      <td>COre_O1</td>\n",
       "      <td>4326</td>\n",
       "      <td>Sand Hills</td>\n",
       "      <td>co5</td>\n",
       "      <td></td>\n",
       "      <td>Ground Water Management District</td>\n",
       "      <td>9/1/1996</td>\n",
       "      <td>CO</td>\n",
       "      <td></td>\n",
       "      <td>Division of Water Resources</td>\n",
       "      <td>Administers water rights, issues water well pe...</td>\n",
       "      <td>Sand Hills</td>\n",
       "      <td>co5</td>\n",
       "      <td>Active</td>\n",
       "      <td></td>\n",
       "      <td>https://dwr.colorado.gov/services/well-permitt...</td>\n",
       "      <td>1966-12-09</td>\n",
       "      <td></td>\n",
       "      <td>Ground Water Management District</td>\n",
       "      <td>Groundwater</td>\n",
       "    </tr>\n",
       "  </tbody>\n",
       "</table>\n",
       "</div>"
      ],
      "text/plain": [
       "  WaDEUUID   in_Date in_Year in_OrganizationUUID in_EPSGCodeCV  \\\n",
       "0      re0  8/4/2023    2023             COre_O1          4326   \n",
       "1      re1  8/4/2023    2023             COre_O1          4326   \n",
       "2      re2  8/4/2023    2023             COre_O1          4326   \n",
       "3      re3  8/4/2023    2023             COre_O1          4326   \n",
       "4      re4  8/4/2023    2023             COre_O1          4326   \n",
       "\n",
       "  in_ReportingUnitName in_ReportingUnitNativeID  \\\n",
       "0         Central Yuma                      co1   \n",
       "1          Marks Butte                      co2   \n",
       "2            Frenchman                      co3   \n",
       "3                  W-Y                      co4   \n",
       "4           Sand Hills                      co5   \n",
       "\n",
       "  in_ReportingUnitProductVersion            in_ReportingUnitTypeCV  \\\n",
       "0                                 Ground Water Management District   \n",
       "1                                 Ground Water Management District   \n",
       "2                                 Ground Water Management District   \n",
       "3                                 Ground Water Management District   \n",
       "4                                 Ground Water Management District   \n",
       "\n",
       "  in_ReportingUnitUpdateDate in_StateCV in_Geometry  \\\n",
       "0                   9/1/1996         CO               \n",
       "1                   9/1/1996         CO               \n",
       "2                   9/1/1996         CO               \n",
       "3                   9/1/1996         CO               \n",
       "4                   9/1/1996         CO               \n",
       "\n",
       "            in_OversightAgency  \\\n",
       "0  Division of Water Resources   \n",
       "1  Division of Water Resources   \n",
       "2  Division of Water Resources   \n",
       "3  Division of Water Resources   \n",
       "4  Division of Water Resources   \n",
       "\n",
       "                            in_RegulatoryDescription in_RegulatoryName  \\\n",
       "0  Administers water rights, issues water well pe...      Central Yuma   \n",
       "1  Administers water rights, issues water well pe...       Marks Butte   \n",
       "2  Administers water rights, issues water well pe...         Frenchman   \n",
       "3  Administers water rights, issues water well pe...               W-Y   \n",
       "4  Administers water rights, issues water well pe...        Sand Hills   \n",
       "\n",
       "  in_RegulatoryOverlayNativeID in_RegulatoryStatusCV in_RegulatoryStatute  \\\n",
       "0                          co1                Active                        \n",
       "1                          co2                Active                        \n",
       "2                          co3                Active                        \n",
       "3                          co4                Active                        \n",
       "4                          co5                Active                        \n",
       "\n",
       "                            in_RegulatoryStatuteLink  \\\n",
       "0  https://dwr.colorado.gov/services/well-permitt...   \n",
       "1  https://dwr.colorado.gov/services/well-permitt...   \n",
       "2  https://dwr.colorado.gov/services/well-permitt...   \n",
       "3  https://dwr.colorado.gov/services/well-permitt...   \n",
       "4  https://dwr.colorado.gov/services/well-permitt...   \n",
       "\n",
       "  in_StatutoryEffectiveDate in_StatutoryEndDate  \\\n",
       "0                1967-05-22                       \n",
       "1                1977-08-05                       \n",
       "2                1967-05-22                       \n",
       "3                1967-05-22                       \n",
       "4                1966-12-09                       \n",
       "\n",
       "         in_RegulatoryOverlayTypeCV in_WaterSourceTypeCV  \n",
       "0  Ground Water Management District          Groundwater  \n",
       "1  Ground Water Management District          Groundwater  \n",
       "2  Ground Water Management District          Groundwater  \n",
       "3  Ground Water Management District          Groundwater  \n",
       "4  Ground Water Management District          Groundwater  "
      ]
     },
     "execution_count": 4,
     "metadata": {},
     "output_type": "execute_result"
    }
   ],
   "source": [
    "# create output for Regulatory Area #1 dataframe\n",
    "df = pd.DataFrame()\n",
    "\n",
    "# Data Assessment UUID\n",
    "df['WaDEUUID'] = dfin1['WaDEUUID']\n",
    "\n",
    "# Date Info\n",
    "df['in_Date'] = \"8/4/2023\"\n",
    "df['in_Year'] = \"2023\"\n",
    "\n",
    "# Organization Info\n",
    "df['in_OrganizationUUID'] = \"COre_O1\"\n",
    "\n",
    "# ReportingUnit Info\n",
    "df['in_EPSGCodeCV'] = \"4326\"\n",
    "df['in_ReportingUnitName'] = dfin1[\"MD_NAME\"]\n",
    "df['in_ReportingUnitNativeID'] = \"co\" + dfin1[\"OBJECTID\"].astype(str)\n",
    "df['in_ReportingUnitProductVersion'] = \"\"\n",
    "df['in_ReportingUnitTypeCV'] = \"Ground Water Management District\"\n",
    "df['in_ReportingUnitUpdateDate'] = \"9/1/1996\"\n",
    "df['in_StateCV'] = \"CO\"\n",
    "df['in_Geometry'] = \"\"\n",
    "\n",
    "# RegulatoryOverlay Info\n",
    "df['in_OversightAgency'] = \"Division of Water Resources\"\n",
    "df['in_RegulatoryDescription'] = \"Administers water rights, issues water well permits, represents Colorado in interstate water compact proceedings, monitors streamflow and water use, approves construction and repair of dams and performs dam safety inspections, issues licenses for well drillers and assures the safe and proper construction of water wells, and maintains numerous databases of Colorado water information.\"\n",
    "df['in_RegulatoryName'] = dfin1[\"MD_NAME\"]\n",
    "df['in_RegulatoryOverlayNativeID'] = \"co\" + dfin1[\"OBJECTID\"].astype(str)\n",
    "df['in_RegulatoryStatusCV'] = \"Active\"\n",
    "df['in_RegulatoryStatute'] = \"\"\n",
    "df['in_RegulatoryStatuteLink'] = \"https://dwr.colorado.gov/services/well-permitting/designated-basins\"\n",
    "df['in_StatutoryEffectiveDate'] = dfin1[\"FORMATION_\"]\n",
    "df['in_StatutoryEndDate'] = \"\"\n",
    "df['in_RegulatoryOverlayTypeCV'] = \"Ground Water Management District\"\n",
    "df['in_WaterSourceTypeCV'] = \"Groundwater\"\n",
    "\n",
    "df = df.drop_duplicates().reset_index(drop=True)\n",
    "outdf1 = df.copy()\n",
    "print(len(outdf1))\n",
    "outdf1.head()"
   ]
  },
  {
   "cell_type": "markdown",
   "metadata": {},
   "source": [
    "## Regulatory Area #2"
   ]
  },
  {
   "cell_type": "code",
   "execution_count": 5,
   "metadata": {},
   "outputs": [],
   "source": [
    "# etc etc,"
   ]
  },
  {
   "cell_type": "markdown",
   "metadata": {},
   "source": [
    "## Concatenate DataFrames together"
   ]
  },
  {
   "cell_type": "code",
   "execution_count": 6,
   "metadata": {},
   "outputs": [
    {
     "name": "stdout",
     "output_type": "stream",
     "text": [
      "13\n"
     ]
    }
   ],
   "source": [
    "# Concatenate dataframes\n",
    "frames = [outdf1] # list all out dataframes here\n",
    "outdf = pd.concat(frames)\n",
    "outdf = outdf.drop_duplicates().reset_index(drop=True).replace(np.nan, \"\")\n",
    "print(len(outdf))"
   ]
  },
  {
   "cell_type": "markdown",
   "metadata": {},
   "source": [
    "## Clean Data / data types"
   ]
  },
  {
   "cell_type": "code",
   "execution_count": 7,
   "metadata": {
    "scrolled": true
   },
   "outputs": [],
   "source": [
    "# Ensure Empty String / remove string value of \"nan\"\n",
    "\n",
    "def ensureEmptyString(val):\n",
    "    val = str(val).strip()\n",
    "    if val == \"\" or val == \" \" or val == \"nan\" or pd.isnull(val):\n",
    "        outString = \"\"\n",
    "    else:\n",
    "        outString = val\n",
    "    return outString"
   ]
  },
  {
   "cell_type": "code",
   "execution_count": 8,
   "metadata": {},
   "outputs": [
    {
     "data": {
      "text/plain": [
       "array(['Central Yuma', 'Marks Butte', 'Frenchman', 'W-Y', 'Sand Hills',\n",
       "       'Plains', 'East Cheyenne', 'Southern High Plains',\n",
       "       'Upper Black Squirrel Creek', 'North Kiowa Bijou', 'Lost Creek',\n",
       "       'Arikaree', 'Big Sandy'], dtype=object)"
      ]
     },
     "execution_count": 8,
     "metadata": {},
     "output_type": "execute_result"
    }
   ],
   "source": [
    "outdf['in_ReportingUnitName'] = df.apply(lambda row: ensureEmptyString(row['in_ReportingUnitName']), axis=1)\n",
    "outdf['in_ReportingUnitName'].unique()"
   ]
  },
  {
   "cell_type": "code",
   "execution_count": 9,
   "metadata": {},
   "outputs": [
    {
     "data": {
      "text/plain": [
       "array(['Administers water rights, issues water well permits, represents Colorado in interstate water compact proceedings, monitors streamflow and water use, approves construction and repair of dams and performs dam safety inspections, issues licenses for well drillers and assures the safe and proper construction of water wells, and maintains numerous databases of Colorado water information.'],\n",
       "      dtype=object)"
      ]
     },
     "execution_count": 9,
     "metadata": {},
     "output_type": "execute_result"
    }
   ],
   "source": [
    "outdf['in_RegulatoryDescription'] = df.apply(lambda row: ensureEmptyString(row['in_RegulatoryDescription']), axis=1)\n",
    "outdf['in_RegulatoryDescription'].unique()"
   ]
  },
  {
   "cell_type": "code",
   "execution_count": 10,
   "metadata": {},
   "outputs": [
    {
     "data": {
      "text/plain": [
       "array(['Central Yuma', 'Marks Butte', 'Frenchman', 'W-Y', 'Sand Hills',\n",
       "       'Plains', 'East Cheyenne', 'Southern High Plains',\n",
       "       'Upper Black Squirrel Creek', 'North Kiowa Bijou', 'Lost Creek',\n",
       "       'Arikaree', 'Big Sandy'], dtype=object)"
      ]
     },
     "execution_count": 10,
     "metadata": {},
     "output_type": "execute_result"
    }
   ],
   "source": [
    "outdf['in_RegulatoryName'] = df.apply(lambda row: ensureEmptyString(row['in_RegulatoryName']), axis=1)\n",
    "outdf['in_RegulatoryName'].unique()"
   ]
  },
  {
   "cell_type": "code",
   "execution_count": 11,
   "metadata": {},
   "outputs": [
    {
     "data": {
      "text/plain": [
       "array(['1967-05-22T00:00:00.000000000', '1977-08-05T00:00:00.000000000',\n",
       "       '1966-12-09T00:00:00.000000000', '1967-01-27T00:00:00.000000000',\n",
       "       '1973-05-24T00:00:00.000000000', '1974-08-16T00:00:00.000000000',\n",
       "       '1979-12-04T00:00:00.000000000', '1967-03-27T00:00:00.000000000',\n",
       "       '1974-02-08T00:00:00.000000000', '1967-12-13T00:00:00.000000000',\n",
       "       '1976-10-22T00:00:00.000000000'], dtype='datetime64[ns]')"
      ]
     },
     "execution_count": 11,
     "metadata": {},
     "output_type": "execute_result"
    }
   ],
   "source": [
    "#Update datatype of StatutoryEffectiveDate to fit WaDE 2.0 structure\n",
    "outdf['in_StatutoryEffectiveDate'] = pd.to_datetime(outdf['in_StatutoryEffectiveDate'], errors = 'coerce')\n",
    "outdf['in_StatutoryEffectiveDate'] = pd.to_datetime(outdf['in_StatutoryEffectiveDate'].dt.strftime('%m/%d/%Y'))\n",
    "outdf['in_StatutoryEffectiveDate'].unique()"
   ]
  },
  {
   "cell_type": "markdown",
   "metadata": {},
   "source": [
    "# Shapefile Data\n",
    "- For attaching geometry to reporting unit info."
   ]
  },
  {
   "cell_type": "markdown",
   "metadata": {},
   "source": [
    "#### Regulatory Area #1 shapefile info"
   ]
  },
  {
   "cell_type": "code",
   "execution_count": 12,
   "metadata": {},
   "outputs": [
    {
     "name": "stdout",
     "output_type": "stream",
     "text": [
      "13\n"
     ]
    },
    {
     "data": {
      "text/html": [
       "<div>\n",
       "<style scoped>\n",
       "    .dataframe tbody tr th:only-of-type {\n",
       "        vertical-align: middle;\n",
       "    }\n",
       "\n",
       "    .dataframe tbody tr th {\n",
       "        vertical-align: top;\n",
       "    }\n",
       "\n",
       "    .dataframe thead th {\n",
       "        text-align: right;\n",
       "    }\n",
       "</style>\n",
       "<table border=\"1\" class=\"dataframe\">\n",
       "  <thead>\n",
       "    <tr style=\"text-align: right;\">\n",
       "      <th></th>\n",
       "      <th>OBJECTID</th>\n",
       "      <th>PERIMETER</th>\n",
       "      <th>MD_NAME</th>\n",
       "      <th>MDID</th>\n",
       "      <th>BMNDS_NO</th>\n",
       "      <th>FORMATION_</th>\n",
       "      <th>AMENDED_DA</th>\n",
       "      <th>Shape_Leng</th>\n",
       "      <th>Shape_Area</th>\n",
       "      <th>geometry</th>\n",
       "    </tr>\n",
       "  </thead>\n",
       "  <tbody>\n",
       "    <tr>\n",
       "      <th>0</th>\n",
       "      <td>1</td>\n",
       "      <td>224641.11567</td>\n",
       "      <td>Central Yuma</td>\n",
       "      <td>5</td>\n",
       "      <td>1-5</td>\n",
       "      <td>1967-05-22</td>\n",
       "      <td>None</td>\n",
       "      <td>224643.29565</td>\n",
       "      <td>2010438013.08000</td>\n",
       "      <td>POLYGON ((-102.05166 40.17715, -102.05167 40.1...</td>\n",
       "    </tr>\n",
       "    <tr>\n",
       "      <th>1</th>\n",
       "      <td>2</td>\n",
       "      <td>146771.52468</td>\n",
       "      <td>Marks Butte</td>\n",
       "      <td>11</td>\n",
       "      <td>1-11</td>\n",
       "      <td>1977-08-05</td>\n",
       "      <td>None</td>\n",
       "      <td>146770.14014</td>\n",
       "      <td>750708676.46500</td>\n",
       "      <td>POLYGON ((-102.65135 40.77851, -102.65125 40.7...</td>\n",
       "    </tr>\n",
       "    <tr>\n",
       "      <th>2</th>\n",
       "      <td>3</td>\n",
       "      <td>241327.98905</td>\n",
       "      <td>Frenchman</td>\n",
       "      <td>4</td>\n",
       "      <td>1-4</td>\n",
       "      <td>1967-05-22</td>\n",
       "      <td>1977-04-21</td>\n",
       "      <td>241329.21017</td>\n",
       "      <td>2623488158.69000</td>\n",
       "      <td>POLYGON ((-102.65135 40.77851, -102.65150 40.7...</td>\n",
       "    </tr>\n",
       "    <tr>\n",
       "      <th>3</th>\n",
       "      <td>4</td>\n",
       "      <td>238791.96085</td>\n",
       "      <td>W-Y</td>\n",
       "      <td>6</td>\n",
       "      <td>1-6</td>\n",
       "      <td>1967-05-22</td>\n",
       "      <td>None</td>\n",
       "      <td>238794.41003</td>\n",
       "      <td>2377972505.63000</td>\n",
       "      <td>POLYGON ((-102.45472 40.43920, -102.45451 40.4...</td>\n",
       "    </tr>\n",
       "    <tr>\n",
       "      <th>4</th>\n",
       "      <td>5</td>\n",
       "      <td>142787.31594</td>\n",
       "      <td>Sand Hills</td>\n",
       "      <td>2</td>\n",
       "      <td>1-2</td>\n",
       "      <td>1966-12-09</td>\n",
       "      <td>None</td>\n",
       "      <td>142788.70838</td>\n",
       "      <td>1095359481.88000</td>\n",
       "      <td>POLYGON ((-102.05208 40.43986, -102.05147 40.4...</td>\n",
       "    </tr>\n",
       "  </tbody>\n",
       "</table>\n",
       "</div>"
      ],
      "text/plain": [
       "   OBJECTID    PERIMETER       MD_NAME  MDID BMNDS_NO  FORMATION_  AMENDED_DA  \\\n",
       "0         1 224641.11567  Central Yuma     5      1-5  1967-05-22        None   \n",
       "1         2 146771.52468   Marks Butte    11     1-11  1977-08-05        None   \n",
       "2         3 241327.98905     Frenchman     4      1-4  1967-05-22  1977-04-21   \n",
       "3         4 238791.96085           W-Y     6      1-6  1967-05-22        None   \n",
       "4         5 142787.31594    Sand Hills     2      1-2  1966-12-09        None   \n",
       "\n",
       "    Shape_Leng       Shape_Area  \\\n",
       "0 224643.29565 2010438013.08000   \n",
       "1 146770.14014  750708676.46500   \n",
       "2 241329.21017 2623488158.69000   \n",
       "3 238794.41003 2377972505.63000   \n",
       "4 142788.70838 1095359481.88000   \n",
       "\n",
       "                                            geometry  \n",
       "0  POLYGON ((-102.05166 40.17715, -102.05167 40.1...  \n",
       "1  POLYGON ((-102.65135 40.77851, -102.65125 40.7...  \n",
       "2  POLYGON ((-102.65135 40.77851, -102.65150 40.7...  \n",
       "3  POLYGON ((-102.45472 40.43920, -102.45451 40.4...  \n",
       "4  POLYGON ((-102.05208 40.43986, -102.05147 40.4...  "
      ]
     },
     "execution_count": 12,
     "metadata": {},
     "output_type": "execute_result"
    }
   ],
   "source": [
    "# Input File\n",
    "shapeInputFile = \"RawInputData/shapefiles/Groundwater_Management_Districts/Groundwater_Management_Districts.shp\"\n",
    "gdfin1 = gpd.read_file(shapeInputFile)\n",
    "\n",
    "# Realign Geometry Projection\n",
    "gdfin1['geometry'] = gdfin1['geometry'].to_crs(epsg=4326)\n",
    "\n",
    "print(len(gdfin1))\n",
    "gdfin1.head()"
   ]
  },
  {
   "cell_type": "code",
   "execution_count": 13,
   "metadata": {},
   "outputs": [
    {
     "data": {
      "text/plain": [
       "<AxesSubplot: >"
      ]
     },
     "execution_count": 13,
     "metadata": {},
     "output_type": "execute_result"
    },
    {
     "data": {
      "image/png": "[encoded data removed]",
      "text/plain": [
       "<Figure size 640x480 with 1 Axes>"
      ]
     },
     "metadata": {},
     "output_type": "display_data"
    }
   ],
   "source": [
    "# plot shape info to map\n",
    "gdfin1.plot()"
   ]
  },
  {
   "cell_type": "code",
   "execution_count": 14,
   "metadata": {},
   "outputs": [
    {
     "name": "stdout",
     "output_type": "stream",
     "text": [
      "13\n"
     ]
    },
    {
     "data": {
      "text/html": [
       "<div>\n",
       "<style scoped>\n",
       "    .dataframe tbody tr th:only-of-type {\n",
       "        vertical-align: middle;\n",
       "    }\n",
       "\n",
       "    .dataframe tbody tr th {\n",
       "        vertical-align: top;\n",
       "    }\n",
       "\n",
       "    .dataframe thead th {\n",
       "        text-align: right;\n",
       "    }\n",
       "</style>\n",
       "<table border=\"1\" class=\"dataframe\">\n",
       "  <thead>\n",
       "    <tr style=\"text-align: right;\">\n",
       "      <th></th>\n",
       "      <th>in_ReportingUnitNativeID</th>\n",
       "      <th>geometry</th>\n",
       "    </tr>\n",
       "  </thead>\n",
       "  <tbody>\n",
       "    <tr>\n",
       "      <th>0</th>\n",
       "      <td>co1</td>\n",
       "      <td>POLYGON ((-102.05166 40.17715, -102.05167 40.1...</td>\n",
       "    </tr>\n",
       "    <tr>\n",
       "      <th>1</th>\n",
       "      <td>co2</td>\n",
       "      <td>POLYGON ((-102.65135 40.77851, -102.65125 40.7...</td>\n",
       "    </tr>\n",
       "    <tr>\n",
       "      <th>2</th>\n",
       "      <td>co3</td>\n",
       "      <td>POLYGON ((-102.65135 40.77851, -102.65150 40.7...</td>\n",
       "    </tr>\n",
       "    <tr>\n",
       "      <th>3</th>\n",
       "      <td>co4</td>\n",
       "      <td>POLYGON ((-102.45472 40.43920, -102.45451 40.4...</td>\n",
       "    </tr>\n",
       "    <tr>\n",
       "      <th>4</th>\n",
       "      <td>co5</td>\n",
       "      <td>POLYGON ((-102.05208 40.43986, -102.05147 40.4...</td>\n",
       "    </tr>\n",
       "  </tbody>\n",
       "</table>\n",
       "</div>"
      ],
      "text/plain": [
       "  in_ReportingUnitNativeID                                           geometry\n",
       "0                      co1  POLYGON ((-102.05166 40.17715, -102.05167 40.1...\n",
       "1                      co2  POLYGON ((-102.65135 40.77851, -102.65125 40.7...\n",
       "2                      co3  POLYGON ((-102.65135 40.77851, -102.65150 40.7...\n",
       "3                      co4  POLYGON ((-102.45472 40.43920, -102.45451 40.4...\n",
       "4                      co5  POLYGON ((-102.05208 40.43986, -102.05147 40.4..."
      ]
     },
     "execution_count": 14,
     "metadata": {},
     "output_type": "execute_result"
    }
   ],
   "source": [
    "# create output for Regulatory Area #1 dataframe\n",
    "df = pd.DataFrame()\n",
    "\n",
    "columnsList = ['in_ReportingUnitNativeID', 'geometry']\n",
    "goutdf1 = pd.DataFrame(columns=columnsList, index=gdfin1.index)\n",
    "\n",
    "goutdf1['in_ReportingUnitNativeID'] = \"co\" + gdfin1[\"OBJECTID\"].astype(str)  # in_ReportingUnitNativeID needs to match source from above equivlaent datframe\n",
    "goutdf1['geometry'] = gdfin1['geometry']\n",
    "goutdf1 = goutdf1.drop_duplicates().reset_index(drop=True)\n",
    "print(len(goutdf1))\n",
    "goutdf1.head()"
   ]
  },
  {
   "cell_type": "markdown",
   "metadata": {},
   "source": [
    "#### Regulatory Area #2 shapefile info"
   ]
  },
  {
   "cell_type": "code",
   "execution_count": 15,
   "metadata": {},
   "outputs": [],
   "source": [
    "# etc etc..."
   ]
  },
  {
   "cell_type": "markdown",
   "metadata": {},
   "source": [
    "#### Concatenate goutdf shapefile info into single output"
   ]
  },
  {
   "cell_type": "code",
   "execution_count": 16,
   "metadata": {},
   "outputs": [
    {
     "name": "stdout",
     "output_type": "stream",
     "text": [
      "13\n"
     ]
    },
    {
     "data": {
      "text/html": [
       "<div>\n",
       "<style scoped>\n",
       "    .dataframe tbody tr th:only-of-type {\n",
       "        vertical-align: middle;\n",
       "    }\n",
       "\n",
       "    .dataframe tbody tr th {\n",
       "        vertical-align: top;\n",
       "    }\n",
       "\n",
       "    .dataframe thead th {\n",
       "        text-align: right;\n",
       "    }\n",
       "</style>\n",
       "<table border=\"1\" class=\"dataframe\">\n",
       "  <thead>\n",
       "    <tr style=\"text-align: right;\">\n",
       "      <th></th>\n",
       "      <th>in_ReportingUnitNativeID</th>\n",
       "      <th>geometry</th>\n",
       "    </tr>\n",
       "  </thead>\n",
       "  <tbody>\n",
       "    <tr>\n",
       "      <th>0</th>\n",
       "      <td>co1</td>\n",
       "      <td>POLYGON ((-102.05166 40.17715, -102.05167 40.1...</td>\n",
       "    </tr>\n",
       "    <tr>\n",
       "      <th>1</th>\n",
       "      <td>co2</td>\n",
       "      <td>POLYGON ((-102.65135 40.77851, -102.65125 40.7...</td>\n",
       "    </tr>\n",
       "    <tr>\n",
       "      <th>2</th>\n",
       "      <td>co3</td>\n",
       "      <td>POLYGON ((-102.65135 40.77851, -102.65150 40.7...</td>\n",
       "    </tr>\n",
       "    <tr>\n",
       "      <th>3</th>\n",
       "      <td>co4</td>\n",
       "      <td>POLYGON ((-102.45472 40.43920, -102.45451 40.4...</td>\n",
       "    </tr>\n",
       "    <tr>\n",
       "      <th>4</th>\n",
       "      <td>co5</td>\n",
       "      <td>POLYGON ((-102.05208 40.43986, -102.05147 40.4...</td>\n",
       "    </tr>\n",
       "  </tbody>\n",
       "</table>\n",
       "</div>"
      ],
      "text/plain": [
       "  in_ReportingUnitNativeID                                           geometry\n",
       "0                      co1  POLYGON ((-102.05166 40.17715, -102.05167 40.1...\n",
       "1                      co2  POLYGON ((-102.65135 40.77851, -102.65125 40.7...\n",
       "2                      co3  POLYGON ((-102.65135 40.77851, -102.65150 40.7...\n",
       "3                      co4  POLYGON ((-102.45472 40.43920, -102.45451 40.4...\n",
       "4                      co5  POLYGON ((-102.05208 40.43986, -102.05147 40.4..."
      ]
     },
     "execution_count": 16,
     "metadata": {},
     "output_type": "execute_result"
    }
   ],
   "source": [
    "# Concatenate Basin & Subbasin DataFrames\n",
    "frames = [goutdf1] # add geoutdf dataframes here\n",
    "goutdf = pd.concat(frames).reset_index(drop=True)\n",
    "\n",
    "print(len(goutdf))\n",
    "goutdf.head()"
   ]
  },
  {
   "cell_type": "markdown",
   "metadata": {},
   "source": [
    "## Export Data"
   ]
  },
  {
   "cell_type": "code",
   "execution_count": 17,
   "metadata": {
    "scrolled": false
   },
   "outputs": [
    {
     "name": "stdout",
     "output_type": "stream",
     "text": [
      "WaDEUUID                                  object\n",
      "in_Date                                   object\n",
      "in_Year                                   object\n",
      "in_OrganizationUUID                       object\n",
      "in_EPSGCodeCV                             object\n",
      "in_ReportingUnitName                      object\n",
      "in_ReportingUnitNativeID                  object\n",
      "in_ReportingUnitProductVersion            object\n",
      "in_ReportingUnitTypeCV                    object\n",
      "in_ReportingUnitUpdateDate                object\n",
      "in_StateCV                                object\n",
      "in_Geometry                               object\n",
      "in_OversightAgency                        object\n",
      "in_RegulatoryDescription                  object\n",
      "in_RegulatoryName                         object\n",
      "in_RegulatoryOverlayNativeID              object\n",
      "in_RegulatoryStatusCV                     object\n",
      "in_RegulatoryStatute                      object\n",
      "in_RegulatoryStatuteLink                  object\n",
      "in_StatutoryEffectiveDate         datetime64[ns]\n",
      "in_StatutoryEndDate                       object\n",
      "in_RegulatoryOverlayTypeCV                object\n",
      "in_WaterSourceTypeCV                      object\n",
      "dtype: object\n"
     ]
    }
   ],
   "source": [
    "with pd.option_context('display.max_rows', None, 'display.max_columns', None):\n",
    "    print(outdf.dtypes)"
   ]
  },
  {
   "cell_type": "code",
   "execution_count": 18,
   "metadata": {},
   "outputs": [
    {
     "name": "stdout",
     "output_type": "stream",
     "text": [
      "in_ReportingUnitNativeID      object\n",
      "geometry                    geometry\n",
      "dtype: object\n"
     ]
    }
   ],
   "source": [
    "with pd.option_context('display.max_rows', None, 'display.max_columns', None):\n",
    "    print(goutdf.dtypes)"
   ]
  },
  {
   "cell_type": "code",
   "execution_count": 19,
   "metadata": {},
   "outputs": [],
   "source": [
    "# Export out to CSV.\n",
    "outdf.to_csv('RawInputData/Pre_coMain.zip', compression=dict(method='zip', archive_name='Pre_Main.csv'), index=False)  # The output, save as a zip\n",
    "goutdf.to_csv('RawInputData/P_Geometry.zip', compression=dict(method='zip', archive_name='P_Geometry.csv'), index=False)  # The output geometry."
   ]
  }
 ],
 "metadata": {
  "kernelspec": {
   "display_name": "Python 3 (ipykernel)",
   "language": "python",
   "name": "python3"
  },
  "language_info": {
   "codemirror_mode": {
    "name": "ipython",
    "version": 3
   },
   "file_extension": ".py",
   "mimetype": "text/x-python",
   "name": "python",
   "nbconvert_exporter": "python",
   "pygments_lexer": "ipython3",
   "version": "3.9.16"
  }
 },
 "nbformat": 4,
 "nbformat_minor": 4
}
