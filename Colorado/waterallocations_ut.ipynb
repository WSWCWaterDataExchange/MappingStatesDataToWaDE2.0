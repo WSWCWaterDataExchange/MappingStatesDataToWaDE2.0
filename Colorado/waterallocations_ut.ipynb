{
 "cells": [
  {
   "cell_type": "code",
   "execution_count": 1,
   "metadata": {},
   "outputs": [],
   "source": [
    "#!/usr/bin/env python\n",
    "import pandas as pd\n",
    "import numpy as np\n",
    "import os\n",
    "import beneficialUseDictionary"
   ]
  },
  {
   "cell_type": "code",
   "execution_count": 2,
   "metadata": {},
   "outputs": [],
   "source": [
    "# working directory\n",
    "working_dir = \"C:/tseg/jupyterWaDE\"\n",
    "os.chdir(working_dir)"
   ]
  },
  {
   "cell_type": "code",
   "execution_count": 3,
   "metadata": {},
   "outputs": [],
   "source": [
    "# inputs \n",
    "fileInput=\"WRCHEX_WATER_MASTER.csv\" #\"Water_Master.csv\"\n",
    "WSdimCSV=\"UTWaterSources.csv\"\n",
    "FileInput2=\"OWNERS.csv\"     #\"UtahOwners.csv\"\n",
    "FileInput3= \"IRRIGATION_MASTER.csv\"    #\"Irrigation_Master.csv\"\n",
    "\n",
    "#output: water allocation\n",
    "allocCSV=\"UTWaterAllocations.csv\" #output"
   ]
  },
  {
   "cell_type": "code",
   "execution_count": 4,
   "metadata": {},
   "outputs": [],
   "source": [
    "#WaDE columns \n",
    "\n",
    "#the followwing fields have difference between the table here (edited by DPL) and that on the schema website\n",
    "#http://schema.westernstateswater.org/tables/Input_AllocationAmounts_fact.html\n",
    "\"\"\"\n",
    "BeneficialUseCategory, PrimaryUseCategory, AllocationTimeframeStart, AllocationTimeframeEnd, \" \"\n",
    "BeneficialUseCategoryCV, PrimaryUseCategoryCV, TimeframeStartDate,\tTimeframeEndDate,\tGeometry\t\n",
    "\"\"\"\n",
    "# UUIDs: 9.15.19: Adel commented \"Add UUIDs for all dim tables\"\n",
    "# OrganizationUUID, SiteUUID, VariableSpecificUUID, WaterSourceUUID, MethodUUID\n",
    "columns = [\"OrganizationUUID\", \"SiteUUID\", \"VariableSpecificUUID\", \"WaterSourceUUID\", \"MethodUUID\", \"PrimaryUseCategoryCV\",\n",
    "           \"BeneficialUseCategoryCV\", \"AllocationNativeID\", \"AllocationTypeCV\", \"AllocationOwner\", \n",
    "           \"AllocationApplicationDate\", \"AllocationPriorityDate\", \"AllocationLegalStatusCV\", \"AllocationCropDutyAmount\",\n",
    "           \"AllocationExpirationDate\",\n",
    "           \"AllocationChangeApplicationIndicator\", \"LegacyAllocationIDs\", \"AllocationBasisCV\", \"AllocationTimeframeStart\",\n",
    "           \"AllocationTimeframeEnd\", \"AllocationAmount\", \"AllocationMaximum\", \"PopulationServed\", \"PowerGeneratedGWh\",\n",
    "           \"IrrigatedAcreage\", \"AllocationCommunityWaterSupplySystem\", \"AllocationSDWISIdentifierCV\",\n",
    "           \"AllocationAssociatedWithdrawalSiteIDs\", \"AllocationAssociatedConsumptiveUseSiteIDs\", \"WaterAllocationNativeURL\",\n",
    "           \"CustomerTypeCV\", \"IrrigationMethodCV\", \"CropTypeCV\", \"CommunityWaterSupplySystem\", \"DataPublicationDate\",\n",
    "           \"DataPublicationDOI\"]\n",
    "\n",
    "dtypesx = [''] #here we could theoretically specify data types for each column name, but we didn't need to do that"
   ]
  },
  {
   "cell_type": "code",
   "execution_count": 5,
   "metadata": {},
   "outputs": [
    {
     "name": "stderr",
     "output_type": "stream",
     "text": [
      "C:\\ProgramData\\Anaconda3\\lib\\site-packages\\IPython\\core\\interactiveshell.py:3057: DtypeWarning: Columns (2,4,5,10,11,12,13,15,17,18,19,20,21,22,24,25,26,27,29,31,32,33,34,35,36,37,38,39,41,42,43,44,45,46,47,48,49,50,51,52,53,54,55,56,57,59,77,79,80,81,82,83,84,85,86,87,88,89,90,91,92,93,95,96,97,98,99,100,101,102,103,104,105,106,107,108,109,111) have mixed types. Specify dtype option on import or set low_memory=False.\n",
      "  interactivity=interactivity, compiler=compiler, result=result)\n"
     ]
    },
    {
     "name": "stdout",
     "output_type": "stream",
     "text": [
      "180225\n"
     ]
    },
    {
     "name": "stderr",
     "output_type": "stream",
     "text": [
      "C:\\ProgramData\\Anaconda3\\lib\\site-packages\\IPython\\core\\interactiveshell.py:3057: DtypeWarning: Columns (24) have mixed types. Specify dtype option on import or set low_memory=False.\n",
      "  interactivity=interactivity, compiler=compiler, result=result)\n"
     ]
    },
    {
     "name": "stdout",
     "output_type": "stream",
     "text": [
      "245213\n"
     ]
    },
    {
     "name": "stderr",
     "output_type": "stream",
     "text": [
      "C:\\ProgramData\\Anaconda3\\lib\\site-packages\\IPython\\core\\interactiveshell.py:3057: DtypeWarning: Columns (1,2,7,9,10,11) have mixed types. Specify dtype option on import or set low_memory=False.\n",
      "  interactivity=interactivity, compiler=compiler, result=result)\n"
     ]
    },
    {
     "name": "stdout",
     "output_type": "stream",
     "text": [
      "531935\n",
      "510824\n"
     ]
    }
   ],
   "source": [
    "# Read Inputs and merge tables\n",
    "# ToDO: We are joining 'on-left': keep all rows of mater table (check if need to be refined)\n",
    "\n",
    "# water_master\n",
    "df100_l = pd.read_csv(fileInput,encoding = \"ISO-8859-1\") #, or alternatively encoding = \"utf-8\"\n",
    "#df100\n",
    "print (len(df100_l.index))\n",
    "\n",
    "#### Join tables\n",
    "\n",
    "# Allocation owner \n",
    "df200 = pd.read_csv(FileInput2,encoding = \"ISO-8859-1\")  #UtahOwners\n",
    "df100_ll=pd.merge(df100_l, df200, left_on='WRNUM', right_on='WRCHEX', how='left') #joined Utahowners table into Master_Table\n",
    "#df100_ll\n",
    "print (len(df100_ll.index))\n",
    "\n",
    "# Irrigation master\n",
    "df300=pd.read_csv(FileInput3,encoding = \"ISO-8859-1\") \n",
    "df100=pd.merge(df100_ll, df300, left_on='WRNUM', right_on='WRNUM', how='left') #joined Irrigation master table into Master_Table\n",
    "#df100\n",
    "print (len(df100.index))\n",
    "\n",
    "df100.drop_duplicates(inplace=True)   #\n",
    "df100 = df100.reset_index(drop=True)\n",
    "print (len(df100.index))\n",
    "\n",
    "#df100 = df100.head(10000) #only runs first 100 lines for testing.\n",
    "#df100"
   ]
  },
  {
   "cell_type": "code",
   "execution_count": 6,
   "metadata": {},
   "outputs": [],
   "source": [
    "# water sources look up\n",
    "df400 = pd.read_csv(WSdimCSV,encoding = \"ISO-8859-1\") \n",
    "\n",
    "#drop duplicate rows ---this one is not necessary once the water sources table is refined to remove duplicates\n",
    "df400 = df400.drop_duplicates(subset=['WaterSourceName']) \n",
    "#df400"
   ]
  },
  {
   "cell_type": "code",
   "execution_count": 7,
   "metadata": {},
   "outputs": [],
   "source": [
    "# target dataFrame\n",
    "# assumes dtypes inferred from CO file\n",
    "outdf100=pd.DataFrame(columns=columns)\n",
    "\n",
    "df100 = df100.replace('', np.nan)\n",
    "\n",
    "#df100"
   ]
  },
  {
   "cell_type": "code",
   "execution_count": null,
   "metadata": {},
   "outputs": [
    {
     "name": "stdout",
     "output_type": "stream",
     "text": [
      "Adding SiteUUID...\n"
     ]
    }
   ],
   "source": [
    "print(\"Adding SiteUUID...\")\n",
    "\n",
    "#append 'UTDWRE'\n",
    "df100 = df100.assign(SiteUUID=np.nan)  #add new column and make is nan\n",
    "\n",
    "# no-loop approach?\n",
    "for ix in range(len(df100.index)):\n",
    "    df100.loc[ix, 'SiteUUID'] = \"_\".join([\"UTDWRE\",str(df100.loc[ix, 'RECORD_ID'])])\n",
    "#outdf100.SiteUUID = df100['SiteUUIDVar']\n",
    "\n",
    "#df100"
   ]
  },
  {
   "cell_type": "code",
   "execution_count": null,
   "metadata": {},
   "outputs": [],
   "source": [
    "print(\"Beneficial Uses...\")\n",
    "\n",
    "#ToDO: look up beneficial use\n",
    "# may need to modify capitalization in beneficialUseDictionary\n",
    "benUseDict = beneficialUseDictionary.beneficialUseDictionary ##modified key for Utah values\n",
    "\n",
    "df100 = df100.assign(BeneficialUseCategory=np.nan)\n",
    "## df100 = df100.dropna(subset=['WATER_USES']) 10.15.19 not application here---there are empty cells \n",
    "##df100 = df100.reset_index(drop=True)\n",
    "# find no-loop approach\n",
    "for ix in range(len(df100.index)):\n",
    "    #print(ix)\n",
    "    if pd.notnull(df100.loc[ix, 'WATER_USES']):    #if not pd.isnull(df100.loc[ix, 'WATER_USES'])\n",
    "        benUseListStrStr = df100.loc[ix, 'WATER_USES']\n",
    "        benUseListStr = benUseListStrStr.strip() #remove whitespace chars\n",
    "        df100.loc[ix, 'BeneficialUseCategory'] = \",\".join(benUseDict[inx] for inx in list(str(benUseListStr)))         \n",
    "    #map(lambda x: x, benUseListStr))\n",
    "#outdf100.BeneficialUseID = df100['BeneficialUseID']\n",
    "\n",
    "#df100"
   ]
  },
  {
   "cell_type": "code",
   "execution_count": null,
   "metadata": {},
   "outputs": [],
   "source": [
    "print(\"Water sources...\") \n",
    "\n",
    "#look up WaterSources_dim\n",
    "df100 = df100.assign(WaterSourceUUID=np.nan)\n",
    "#df100['WaterSourceUUID'] = np.nan\n",
    "for ix in range(len(df100.index)):\n",
    "    #print(ix)\n",
    "    ml = df400.loc[df400['WaterSourceName'] == df100.loc[ix,\"WREX_SOURCE\"], 'WaterSourceUUID']\n",
    "    #ml = wsdim.loc[wsdim['WaterSourceName'] == outdf100.WaterSourceVar[ix],'WaterSourceNativeID']\n",
    "    #print(ml)\n",
    "    #print(ml.empty)\n",
    "    if not(ml.empty):            # check if the series is empty\n",
    "        df100.loc[ix, 'WaterSourceUUID'] = ml.iloc[0]\n",
    "#outdf100.WaterSourceUUID = df100['WaterSourceUUID']\n",
    "\n",
    "#df100"
   ]
  },
  {
   "cell_type": "code",
   "execution_count": null,
   "metadata": {},
   "outputs": [],
   "source": [
    "print(\"AllocationTypeCV...\")\n",
    "\n",
    "# look up beneficial use\n",
    "# may need to modify capitalization in beneficialUseDictionary\n",
    "AllocationTypeCVDict = beneficialUseDictionary.AllocationTypeCVDictionary ##modified key for Utah values\n",
    "#df100['BeneficialUseCategoryID'] = df100['Decreed Uses']\n",
    "#df100['BeneficialUseID'] = np.nan\n",
    "df100 = df100.assign(AllocationTypeCV=np.nan)\n",
    "#\n",
    "##df100 = df100.dropna(subset=['TYPE_OF_RIGHT']) #drop null values\n",
    "##df100 = df100.reset_index(drop=True)\n",
    "\n",
    "# find no-loop approach\n",
    "for ix in range(len(df100.index)):\n",
    "    #print(ix)\n",
    "    if pd.notnull(df100.loc[ix, 'TYPE_OF_RIGHT']):\n",
    "        benUseListStrStr = df100.loc[ix, 'TYPE_OF_RIGHT']\n",
    "        benUseListStr = benUseListStrStr.strip() #remove whitespace chars\n",
    "        df100.loc[ix, 'AllocationTypeCV'] = AllocationTypeCVDict[benUseListStr]\n",
    "#outdf100.BeneficialUseID = df100['BeneficialUseID']\n",
    "\n",
    "#df100"
   ]
  },
  {
   "cell_type": "code",
   "execution_count": null,
   "metadata": {},
   "outputs": [],
   "source": [
    "print(\"AllocationOwner...\")\n",
    "\n",
    "df100 = df100.assign(AllocationOwner=np.nan)\n",
    "# no-loop approach?\n",
    "for ix in range(len(df100.index)):\n",
    "   #print(ix)\n",
    "   df100.loc[ix, 'AllocationOwner'] = \",\".join(map(str, [df100[\"OWNER_LAST_NAME\"].iloc[ix], df100[\"OWNER_FIRST_NAME\"].iloc[ix]]))\n",
    "\n",
    "#df100"
   ]
  },
  {
   "cell_type": "code",
   "execution_count": null,
   "metadata": {},
   "outputs": [],
   "source": [
    "print(\"Allocation Legal Status...\")\n",
    "\n",
    "#df100['AllocationLegalStatusCV'] = np.nan\n",
    "df100 = df100.assign(AllocationLegalStatusCV=np.nan)\n",
    "\n",
    "#outdf100.AllocationLegalStatusCV = df100.AllocationLegalStatusCV\n",
    "AllocationUseDict = beneficialUseDictionary.AllocationLegalStatusDictionary ##modified key for Utah values. First part is file name, second part is dictionary name I created for Allocation.\n",
    "\n",
    "##df100 = df100.dropna(subset=['WREX_STATUS']) #drop null values if there is a blank row\n",
    "##df100 = df100.reset_index(drop=True)\n",
    "\n",
    "# find no-loop approach\n",
    "for ix in range(len(df100.index)):\n",
    "    #print(ix)\n",
    "    if pd.notnull(df100.loc[ix, 'WREX_STATUS']):    #if not pd.isnull(df100.loc[ix, 'WREX_STATUS'])\n",
    "        benUseListStrStr = df100.loc[ix, 'WREX_STATUS']\n",
    "        benUseListStr = benUseListStrStr.strip() #remove whitespace chars\n",
    "        df100.loc[ix, 'AllocationLegalStatusCV'] = AllocationUseDict[benUseListStr]        #map(lambda x: x, benUseListStr))\n",
    "\n",
    "#df100"
   ]
  },
  {
   "cell_type": "code",
   "execution_count": null,
   "metadata": {},
   "outputs": [],
   "source": [
    "print(\"Copying all columns...\")\n",
    "\n",
    "destCols=[\"SiteUUID\",\n",
    "          \"WaterSourceUUID\",\n",
    "          \"BeneficialUseCategory\", \"AllocationNativeID\",\n",
    "          \"AllocationOwner\", \n",
    "          \"AllocationApplicationDate\", \"AllocationPriorityDate\",\n",
    "          \"AllocationLegalStatusCV\",\"AllocationAmount\", \"AllocationMaximum\", \"AllocationCropDutyAmount\",\n",
    "          \"AllocationExpirationDate\", \n",
    "          \"AllocationAcreage\",\n",
    "          \"AllocationTimeframeStart\", \"AllocationTimeframeEnd\"\n",
    "         ]\n",
    "\n",
    "sourCols=[\"SiteUUID\",\n",
    "          \"WaterSourceUUID\",\n",
    "          \"BeneficialUseCategory\", \"WRNUM\", \n",
    "          \"AllocationOwner\",\n",
    "          \"DATE_FILED\", \"DATE_PRIORITY\",\n",
    "          \"AllocationLegalStatusCV\",\"WREX_CFS\",\"WREX_ACFT\", \"IRRIGATION_DEPLETION\",\n",
    "          \"DATE_TERMINATED\",\n",
    "          \"IRRIGATION_ACREAGE\",\n",
    "          \"USE_BEG_DATE\", \"USE_END_DATE\"\n",
    "         ]\n",
    "\n",
    "outdf100[destCols] = df100[sourCols]\n",
    "\n",
    "#outdf100"
   ]
  },
  {
   "cell_type": "code",
   "execution_count": null,
   "metadata": {},
   "outputs": [],
   "source": [
    "print(\"Hard coded...\")\n",
    "\n",
    "#hard coded\n",
    "outdf100.OrganizationUUID = \"UTDWRE\"\n",
    "outdf100.VariableSpecificUUID = \"Water Allocation_all\"\n",
    "outdf100.MethodUUID = \"UT_WaterAllocation\"\n",
    "outdf100.AllocationBasisCV = \"Unknown\"\n",
    "outdf100.TimeframeStart = \"01/01\"\n",
    "outdf100.TimeframeEnd = \"12/31\"\n",
    "\n",
    "#outdf100"
   ]
  },
  {
   "cell_type": "code",
   "execution_count": null,
   "metadata": {},
   "outputs": [],
   "source": [
    "print(\"Dropping null allocations...\")\n",
    "\"\"\" \n",
    "Comment from Adel\n",
    "1) AllocationAmount/Allocation maximum empty cells -- one of them empty is acceptable but not both\n",
    "==> find if both Allocation amount and Allocation maximum are empty -if they are, then drop them.\n",
    "==> and delete row :drop\n",
    "==> save row to a Allocations_missing.csv\n",
    "\"\"\"\n",
    "\n",
    "#outdf100 = outdf100.replace('', np.nan) #replace blank strings by NaN\n",
    "outdf100purge = outdf100.loc[(outdf100[\"AllocationAmount\"].isnull()) & (outdf100[\"AllocationMaximum\"].isnull())]\n",
    "if len(outdf100purge.index) > 0:\n",
    "    outdf100purge.to_csv('waterallocations_missing.csv')    #index=False,\n",
    "    dropIndex = outdf100.loc[(outdf100[\"AllocationAmount\"].isnull()) & (outdf100[\"AllocationMaximum\"].isnull())].index\n",
    "    outdf100 = outdf100.drop(dropIndex)\n",
    "    outdf100 = outdf100.reset_index(drop=True)\n",
    "\n",
    "#outdf100"
   ]
  },
  {
   "cell_type": "code",
   "execution_count": null,
   "metadata": {},
   "outputs": [],
   "source": [
    "print(\"Dropping duplicates...\")\n",
    "\n",
    "#drop duplicate rows; just make sure\n",
    "outdf100Duplicated=outdf100.loc[outdf100.duplicated()]\n",
    "if len(outdf100Duplicated.index) > 0:\n",
    "    outdf100Duplicated.to_csv(\"waterallocations_duplicaterows.csv\")  # index=False,\n",
    "    outdf100.drop_duplicates(inplace=True)   #\n",
    "    outdf100 = outdf100.reset_index(drop=True)\n",
    "\n",
    "#outdf100"
   ]
  },
  {
   "cell_type": "code",
   "execution_count": null,
   "metadata": {},
   "outputs": [],
   "source": [
    "print(\"Checking required is not null...\")\n",
    "\n",
    "#9.9.19: Adel: check all 'required' (not NA) columns have value (not empty)\n",
    "requiredCols=[\"OrganizationUUID\",\"VariableSpecificUUID\",\"WaterSourceUUID\",\"MethodUUID\", \"AllocationPriorityDate\"]\n",
    "outdf100 = outdf100.replace('', np.nan) #replace blank strings by NaN, if there are any\n",
    "#any cell of these columns is null\n",
    "\n",
    "#(outdf100[\"SiteUUID\"].isnull()) |\n",
    "outdf100_nullMand = outdf100.loc[(outdf100[\"OrganizationUUID\"].isnull()) |\n",
    "                                (outdf100[\"VariableSpecificUUID\"].isnull()) | (outdf100[\"WaterSourceUUID\"].isnull()) |\n",
    "                                (outdf100[\"MethodUUID\"].isnull()) | (outdf100[\"AllocationPriorityDate\"].isnull())]\n",
    "#outdf100_nullMand = outdf100.loc[[False | (outdf100[varName].isnull()) for varName in requiredCols]]\n",
    "if(len(outdf100_nullMand.index) > 0):\n",
    "    outdf100_nullMand.to_csv('waterallocations_mandatoryFieldMissing.csv')  # index=False,\n",
    "\n",
    "#ToDO: purge these cells if there is any missing? #For now left to be inspected\n",
    "\n",
    "#outdf100_nullMand"
   ]
  },
  {
   "cell_type": "code",
   "execution_count": null,
   "metadata": {},
   "outputs": [],
   "source": [
    "print(\"Writing outputs...\")\n",
    "\n",
    "#write out\n",
    "outdf100.to_csv(allocCSV, index=False, encoding = \"utf-8\")\n",
    "\n",
    "print(\"Done Water Allocation\")"
   ]
  }
 ],
 "metadata": {
  "kernelspec": {
   "display_name": "Python 3",
   "language": "python",
   "name": "python3"
  },
  "language_info": {
   "codemirror_mode": {
    "name": "ipython",
    "version": 3
   },
   "file_extension": ".py",
   "mimetype": "text/x-python",
   "name": "python",
   "nbconvert_exporter": "python",
   "pygments_lexer": "ipython3",
   "version": "3.7.3"
  }
 },
 "nbformat": 4,
 "nbformat_minor": 2
}
