{
 "cells": [
  {
   "cell_type": "markdown",
   "metadata": {},
   "source": [
    "# Preprocessing New Jersey Specific data for WaDEQA upload.\n",
    "- Date Updated: 05/13/2022\n",
    "\n",
    "Notes:\n",
    "- Working with esimated return and withdrawal monthly timeseres data in MG per site, with multiple sites for each municipial area(s).\n",
    "- We will aggregate sites to the area.\n",
    "- Available data...\n",
    "    - return_MunDischarge.csv & withd_MunWithdrawal.csv has the ts amount info\n",
    "    - return_MunInfo.csv & withd_MunInfo has the keys needed to attach shapefile site info to the ts amount info.\n",
    "    - Municipal_Boundaries_of_NJ.csv contains the shapefile site info to attach to the ts amount info.\n",
    "    - return_MunSiteInfo.csv & withd_MunSiteInfo.csv have a few water source type info.\n",
    "- Match ts amount data to info data via MCDCode field -> shapefile site info via GNISCode field. \n",
    "- Match siteinfo to the ts amount via SiteName field."
   ]
  },
  {
   "cell_type": "code",
   "execution_count": null,
   "metadata": {},
   "outputs": [],
   "source": [
    "# working with data\n",
    "import os\n",
    "import numpy as np\n",
    "import pandas as pd\n",
    "import geopandas as gpd # the library that lets us read in shapefiles\n",
    "\n",
    "# visulizaiton\n",
    "import matplotlib.pyplot as plot\n",
    "import seaborn as sns\n",
    "\n",
    "# Cleanup\n",
    "from datetime import datetime\n",
    "pd.set_option('display.max_columns', 999)  # How to display all columns of a Pandas DataFrame in Jupyter Notebook"
   ]
  },
  {
   "cell_type": "code",
   "execution_count": null,
   "metadata": {},
   "outputs": [],
   "source": [
    "# Working Directory and Input File\n",
    "workingDir = \"G:/Shared drives/WaDE Data/NewJersey/SiteSpecificAmounts/RawInputData\"\n",
    "os.chdir(workingDir)"
   ]
  },
  {
   "cell_type": "markdown",
   "metadata": {},
   "source": [
    "## Inputs and Dataframe Creation"
   ]
  },
  {
   "cell_type": "code",
   "execution_count": null,
   "metadata": {},
   "outputs": [],
   "source": [
    "# 1a) return_MunDischarge.xlss\n",
    "fileInput = \"return_MunDischarge.xlsx\"\n",
    "dfr_md = pd.read_excel(fileInput).replace(np.nan, \"\")\n",
    "print(len(dfr_md))\n",
    "dfr_md.head(1)"
   ]
  },
  {
   "cell_type": "code",
   "execution_count": null,
   "metadata": {},
   "outputs": [],
   "source": [
    "# 1b) return_MunInfo.xlss\n",
    "fileInput = \"return_MunInfo.xlsx\"\n",
    "dfr_mi = pd.read_excel(fileInput).replace(np.nan, \"\")\n",
    "print(len(dfr_mi))\n",
    "dfr_mi.head(1)"
   ]
  },
  {
   "cell_type": "code",
   "execution_count": null,
   "metadata": {},
   "outputs": [],
   "source": [
    "# 1c) return_MunSiteInfo.xlss\n",
    "fileInput = \"return_MunSiteInfo.xlsx\"\n",
    "dfr_msi = pd.read_excel(fileInput).replace(np.nan, \"\")\n",
    "print(len(dfr_msi))\n",
    "dfr_msi.head(1)"
   ]
  },
  {
   "cell_type": "code",
   "execution_count": null,
   "metadata": {},
   "outputs": [],
   "source": [
    "# 2a) withd_MunWithdrawal.xlss\n",
    "fileInput = \"withd_MunWithdrawal.xlsx\"\n",
    "dfw_mw = pd.read_excel(fileInput).replace(np.nan, \"\")\n",
    "print(len(dfw_mw))\n",
    "dfw_mw.head(1)"
   ]
  },
  {
   "cell_type": "code",
   "execution_count": null,
   "metadata": {},
   "outputs": [],
   "source": [
    "# 2b) withd_MunInfo.xlss\n",
    "fileInput = \"withd_MunInfo.xlsx\"\n",
    "dfw_mi = pd.read_excel(fileInput).replace(np.nan, \"\")\n",
    "print(len(dfw_mi))\n",
    "dfw_mi.head(1)"
   ]
  },
  {
   "cell_type": "code",
   "execution_count": null,
   "metadata": {},
   "outputs": [],
   "source": [
    "# 2c) withd_MunSiteInfo.xlss\n",
    "fileInput = \"withd_MunSiteInfo.xlsx\"\n",
    "dfw_msi = pd.read_excel(fileInput).replace(np.nan, \"\")\n",
    "print(len(dfw_msi))\n",
    "dfw_msi.head(1)"
   ]
  },
  {
   "cell_type": "code",
   "execution_count": null,
   "metadata": {},
   "outputs": [],
   "source": [
    "# 3) Municipal_Boundaries_of_NJ.csv\n",
    "fileInput = \"Municipal_Boundaries_of_NJ.csv\"\n",
    "df_mb = pd.read_csv(fileInput).replace(np.nan, \"\")\n",
    "print(len(df_mb))\n",
    "df_mb.head(1)"
   ]
  },
  {
   "cell_type": "code",
   "execution_count": null,
   "metadata": {},
   "outputs": [],
   "source": [
    "# Left-Join return data\n",
    "dfr = pd.merge(dfr_md, dfr_mi, on='MCDCode', how='left')\n",
    "dfr = pd.merge(dfr, df_mb, left_on='GNISCode', right_on='GNIS', how='left')\n",
    "dfr = pd.merge(dfr, dfr_msi, on='SiteName', how='left')\n",
    "\n",
    "print(len(dfr))\n",
    "dfr.head(3)"
   ]
  },
  {
   "cell_type": "code",
   "execution_count": null,
   "metadata": {
    "scrolled": true
   },
   "outputs": [],
   "source": [
    "# Left-Join withdrawal data\n",
    "dfw = pd.merge(dfw_mw, dfw_mi, on='MCDCode', how='left')\n",
    "dfw = pd.merge(dfw, df_mb, left_on='GNISCode', right_on='GNIS', how='left')\n",
    "dfw = pd.merge(dfw, dfw_msi, on='SiteName', how='left')\n",
    "\n",
    "print(len(dfw))\n",
    "dfw.head(3)"
   ]
  },
  {
   "cell_type": "markdown",
   "metadata": {},
   "source": [
    "## Time Series Data\n",
    "- Exporting Monthly timeseries data."
   ]
  },
  {
   "cell_type": "code",
   "execution_count": null,
   "metadata": {},
   "outputs": [],
   "source": [
    "# Return Data\n",
    "# Create temporary main dataframe\n",
    "dfr_temp = pd.DataFrame(index=dfr.index)\n",
    "\n",
    "# Variable Info\n",
    "dfr_temp['in_VariableCV'] = \"Return\"\n",
    "dfr_temp['in_VariableSpecificCV'] = \"\" # Timeseries specific.\n",
    "\n",
    "# Water Source Info\n",
    "dfr_temp['in_WaterSourceTypeCV'] = dfr['GWorSW']\n",
    "\n",
    "# Site Info\n",
    "dfr_temp['in_County'] = dfr['COUNTY']\n",
    "dfr_temp['in_GNISCodeCV'] = dfr['GNIS']\n",
    "dfr_temp['in_Latitude'] = dfr['Lat'].astype(float)\n",
    "dfr_temp['in_Longitude'] = dfr['Long'].astype(float)\n",
    "dfr_temp['in_SiteName'] = dfr['NAME']\n",
    "dfr_temp['in_SiteNativeID'] = dfr['GNIS'].astype('Int64').astype('str')\n",
    "dfr_temp['in_SiteTypeCV'] = dfr['MUN_TYPE'].astype(str)\n",
    "\n",
    "# Site Variable Amount Info\n",
    "dfr_temp['in_Amount'] = dfr['ReturnMG'].astype(float)\n",
    "dfr_temp['in_AssociatedNativeAllocationIDs'] = dfr['PermitNumber'].astype(str)\n",
    "dfr_temp['in_BeneficialUseCategory'] = dfr['UseGroup']\n",
    "dfr_temp['in_CommunityWaterSupplySystem'] =  dfr['GNIS_NAME']\n",
    "dfr_temp['in_PopulationServed'] =  dfr['POP2010']\n",
    "dfr_temp['in_ReportYearCV'] =  dfr['YearNumber']\n",
    "\n",
    "dfr_temp['in_TimeframeStart'] = dfr['YearNumber'].astype(str) + \"/\" + dfr['MonthNumber'].astype(str) + \"/01\" \n",
    "dfr_temp['in_TimeframeEnd'] = dfr['YearNumber'].astype(str) + \"/\" + dfr['MonthNumber'].astype(str) + \"/28\" #cheat for now and use value of 28 for day\n",
    "\n",
    "print(len(dfr_temp))\n",
    "dfr_temp.head(1)"
   ]
  },
  {
   "cell_type": "code",
   "execution_count": null,
   "metadata": {},
   "outputs": [],
   "source": [
    "# Withdrawal Data\n",
    "# Create temporary main dataframe\n",
    "dfw_temp = pd.DataFrame(index=dfw.index)\n",
    "\n",
    "# Variable Info\n",
    "dfw_temp['in_VariableCV'] = \"Withdrawal\"\n",
    "dfw_temp['in_VariableSpecificCV'] = \"\" # Timeseries specific.\n",
    "\n",
    "# Water Source Info\n",
    "dfw_temp['in_WaterSourceTypeCV'] = dfw['GWorSW']\n",
    "\n",
    "# Site Info\n",
    "dfw_temp['in_County'] = dfw['COUNTY']\n",
    "dfw_temp['in_GNISCodeCV'] = dfw['GNIS']\n",
    "dfw_temp['in_Latitude'] = dfw['Lat'].astype(float)\n",
    "dfw_temp['in_Longitude'] = dfw['Long'].astype(float)\n",
    "dfw_temp['in_SiteName'] = dfw['NAME']\n",
    "dfw_temp['in_SiteNativeID'] = dfw['GNIS'].astype('Int64').astype('str')\n",
    "dfw_temp['in_SiteTypeCV'] = dfw['MUN_TYPE'].astype(str)\n",
    "\n",
    "# Site Variable Amount Info\n",
    "dfw_temp['in_Amount'] = dfw['WithdrawalMG'].astype(float)\n",
    "dfw_temp['in_AssociatedNativeAllocationIDs'] = dfw['PermitNumber'].astype(str)\n",
    "dfw_temp['in_BeneficialUseCategory'] = dfw['UseGroup']\n",
    "dfw_temp['in_CommunityWaterSupplySystem'] =  dfw['GNIS_NAME']\n",
    "dfw_temp['in_PopulationServed'] =  dfw['POP2010']\n",
    "dfw_temp['in_ReportYearCV'] =  dfw['YearNumber']\n",
    "\n",
    "dfw_temp['in_TimeframeStart'] = dfw['YearNumber'].astype(str) + \"/\" + dfw['MonthNumber'].astype(str) + \"/01\"\n",
    "dfw_temp['in_TimeframeEnd'] = dfw['YearNumber'].astype(str) + \"/\" + dfw['MonthNumber'].astype(str) + \"/28\" #cheat for now and use value of 28 for day\n",
    "\n",
    "print(len(dfw_temp))\n",
    "dfw_temp.head(1)"
   ]
  },
  {
   "cell_type": "code",
   "execution_count": null,
   "metadata": {},
   "outputs": [],
   "source": [
    "# Concatenate return data with withdrawal data\n",
    "frames = [dfr_temp, dfw_temp]\n",
    "dfout = pd.concat(frames).reset_index(drop=True)\n",
    "print(len(dfout))\n",
    "dfout.head(1)"
   ]
  },
  {
   "cell_type": "markdown",
   "metadata": {},
   "source": [
    "## WaDE Custom Elements (due to missing info)"
   ]
  },
  {
   "cell_type": "code",
   "execution_count": null,
   "metadata": {},
   "outputs": [],
   "source": [
    "# updating in_WaterSourceTypeCV to be more machine readable / WaDE specific\n",
    "# ----------------------------------------------------------------------------------------------------\n",
    "\n",
    "def createWaterSourceTypeCV(inWST):\n",
    "    inWST = str(inWST).strip()\n",
    "    \n",
    "    if inWST == \"\":\n",
    "        outString = \"Unspecified\"\n",
    "    if inWST == \"un\":\n",
    "        outString = \"Unspecified\"\n",
    "    if inWST == \"SW\":\n",
    "        outString = \"Surface Water\"\n",
    "    if inWST == \"GW\":\n",
    "        outString = \"Groundwater\"\n",
    "    if inWST == \"SG\":\n",
    "        outString = \"Surface Groundwater\"      \n",
    "      \n",
    "    return outString\n",
    "\n",
    "dfout['in_WaterSourceTypeCV'] = dfout.apply(lambda row: createWaterSourceTypeCV(row['in_WaterSourceTypeCV']), axis=1)\n",
    "dfout['in_WaterSourceTypeCV'].unique()"
   ]
  },
  {
   "cell_type": "code",
   "execution_count": null,
   "metadata": {},
   "outputs": [],
   "source": [
    "# Creating WaDE Custom water source native ID for easy water source identification\n",
    "# ----------------------------------------------------------------------------------------------------\n",
    "\n",
    "# Create temp WaterSourceNativeID dataframe of unique water source.\n",
    "def assignWaterSourceNativeID(colrowValue):\n",
    "    string1 = str(colrowValue)\n",
    "    outstring = \"WaDENJ_WS\" + string1\n",
    "    return outstring\n",
    "\n",
    "dfWaterSourceNativeID = pd.DataFrame()\n",
    "dfWaterSourceNativeID['in_WaterSourceTypeCV'] = dfout['in_WaterSourceTypeCV']\n",
    "dfWaterSourceNativeID = dfWaterSourceNativeID.drop_duplicates()\n",
    "\n",
    "dftemp = pd.DataFrame(index=dfWaterSourceNativeID.index)\n",
    "dftemp[\"Count\"] = range(1, len(dftemp.index) + 1)\n",
    "dfWaterSourceNativeID['in_WaterSourceNativeID'] = dftemp.apply(lambda row: assignWaterSourceNativeID(row['Count']), axis=1)\n",
    "\n",
    "# ----------------------------------------------------------------------------------------------------\n",
    "\n",
    "# Retreive WaDE Custom water source native ID\n",
    "def retrieveWaterSourceNativeID(A):\n",
    "    if (A == '') or (pd.isnull(A)):\n",
    "        outList = ''\n",
    "    else:\n",
    "        ml = dfWaterSourceNativeID.loc[(dfWaterSourceNativeID['in_WaterSourceTypeCV'] == A), 'in_WaterSourceNativeID']\n",
    "        if not (ml.empty):  # check if the series is empty\n",
    "            outList = ml.iloc[0]\n",
    "        else:\n",
    "            outList = ''\n",
    "    return outList\n",
    "\n",
    "dfout['in_WaterSourceNativeID'] = dfout.apply(lambda row: retrieveWaterSourceNativeID(row['in_WaterSourceTypeCV']), axis=1)\n",
    "dfout['in_WaterSourceNativeID'].unique()"
   ]
  },
  {
   "cell_type": "code",
   "execution_count": null,
   "metadata": {},
   "outputs": [],
   "source": [
    "# Creating WaDE Custom VariableSpecificCV\n",
    "# ----------------------------------------------------------------------------------------------------\n",
    "\n",
    "def createVariableSpecificCV(inV, inBU, inWST):\n",
    "    inV = str(inV).strip()\n",
    "    inBU = str(inBU).strip().title()\n",
    "    inWST = str(inWST).strip()\n",
    "    \n",
    "    outString = inV + \"_Monthly_\" +  inBU + \"_\" + inWST\n",
    "    \n",
    "    return outString\n",
    "\n",
    "dfout['in_VariableSpecificCV'] = dfout.apply(lambda row: createVariableSpecificCV(row['in_VariableCV'], \n",
    "                                                                                     row['in_BeneficialUseCategory'],\n",
    "                                                                                     row['in_WaterSourceTypeCV']), axis=1)\n",
    "dfout['in_VariableSpecificCV'].unique()"
   ]
  },
  {
   "cell_type": "markdown",
   "metadata": {},
   "source": [
    "## Groupby and Sum"
   ]
  },
  {
   "cell_type": "code",
   "execution_count": null,
   "metadata": {},
   "outputs": [],
   "source": [
    "dfout2 = dfout.copy()\n",
    "print(len(dfout2))\n",
    "dfout2.head(1)"
   ]
  },
  {
   "cell_type": "code",
   "execution_count": null,
   "metadata": {
    "scrolled": true
   },
   "outputs": [],
   "source": [
    "# groupbyList = ['in_SiteNativeID', 'in_VariableSpecificCV', 'in_TimeframeStart', 'in_TimeframeEnd']\n",
    "# dfout2 = dfout2.groupby(groupbyList).sum(numeric_only=False).reset_index()\n",
    "# print(len(dfout2))\n",
    "# dfout2.head()\n",
    "\n",
    "groupbyList = ['in_SiteNativeID', 'in_VariableSpecificCV', 'in_TimeframeStart', 'in_TimeframeEnd']\n",
    "dfout2 = dfout2.groupby(groupbyList).agg(lambda x: ','.join([str(elem) for elem in (list(set(x))) if elem!=''])).replace(np.nan, \"\").reset_index()\n",
    "print(len(dfout2))\n",
    "dfout2.head()"
   ]
  },
  {
   "cell_type": "markdown",
   "metadata": {},
   "source": [
    "## Cleaning Output"
   ]
  },
  {
   "cell_type": "code",
   "execution_count": null,
   "metadata": {},
   "outputs": [],
   "source": [
    "# Convert History Year to YYYY-MM-DD format.\n",
    "\n",
    "dfout2['in_TimeframeEnd'] = pd.to_datetime(dfout2['in_TimeframeEnd'], errors = 'coerce')\n",
    "dfout2['in_TimeframeEnd'] = pd.to_datetime(dfout2[\"in_TimeframeEnd\"].dt.strftime('%m/%d/%Y'))\n",
    "\n",
    "dfout2['in_TimeframeStart'] = pd.to_datetime(dfout2['in_TimeframeStart'], errors = 'coerce')\n",
    "dfout2['in_TimeframeStart'] = pd.to_datetime(dfout2[\"in_TimeframeStart\"].dt.strftime('%m/%d/%Y'))\n",
    "\n",
    "dfout2.head(1)"
   ]
  },
  {
   "cell_type": "code",
   "execution_count": null,
   "metadata": {},
   "outputs": [],
   "source": [
    "# summing up the comma separated list of Amounts to one value.\n",
    "def sumAmountsFunc(valA):\n",
    "    valAList = valA.split(\",\")\n",
    "    for x in valAList:\n",
    "        if x == \"\" or \",\" in x:\n",
    "            outString = x\n",
    "        else:\n",
    "            try:\n",
    "                x = float(x)\n",
    "                outString += x\n",
    "            except:\n",
    "                outString = x\n",
    "                    \n",
    "    return outString\n",
    "\n",
    "dfout2['in_Amount'] = dfout2.apply(lambda row: sumAmountsFunc(row['in_Amount']), axis=1)\n",
    "dfout2.head(1)"
   ]
  },
  {
   "cell_type": "code",
   "execution_count": null,
   "metadata": {
    "scrolled": true
   },
   "outputs": [],
   "source": [
    "# Converting numbers that are in string to float.\n",
    "\n",
    "# in_Latitude & in_Longitude\n",
    "dfout2['in_Latitude'] = pd.to_numeric(dfout2['in_Latitude'], errors='coerce')\n",
    "dfout2['in_Longitude'] = pd.to_numeric(dfout2['in_Longitude'], errors='coerce')\n",
    "\n",
    "# in_Amount\n",
    "dfout2['in_Amount'] = pd.to_numeric(dfout2['in_Amount'], errors='coerce')\n",
    "\n",
    "#in_PopulationServed\n",
    "dfout2['in_PopulationServed'] = pd.to_numeric(dfout2['in_PopulationServed'], errors='coerce').fillna(0)\n",
    "dfout2['in_PopulationServed'] = dfout2['in_PopulationServed'].astype(int)\n",
    "\n",
    "#in_ReportYearCV\n",
    "dfout2['in_ReportYearCV'] = pd.to_numeric(dfout2['in_ReportYearCV'], errors='coerce')\n",
    "\n",
    "dfout2.head(1)"
   ]
  },
  {
   "cell_type": "code",
   "execution_count": null,
   "metadata": {},
   "outputs": [],
   "source": [
    "# title format for beneficial use\n",
    "# ----------------------------------------------------------------------------------------------------\n",
    "\n",
    "def formatTitle(A):\n",
    "    if (A == \"\") or (pd.isnull(A)):\n",
    "        outString = \"Unspecified\"\n",
    "    else:\n",
    "        outString = str(A).strip().title()\n",
    "      \n",
    "    return outString\n",
    "\n",
    "dfout2['in_BeneficialUseCategory'] = dfout2.apply(lambda row: formatTitle(row['in_BeneficialUseCategory']), axis=1)\n",
    "dfout2['in_BeneficialUseCategory'].unique()"
   ]
  },
  {
   "cell_type": "markdown",
   "metadata": {},
   "source": [
    "## Shapefile Data\n",
    "- For attaching geometry to POU areas and sites."
   ]
  },
  {
   "cell_type": "code",
   "execution_count": null,
   "metadata": {},
   "outputs": [],
   "source": [
    "# PoU Shapefile Data\n",
    "# Shapefile input\n",
    "ShapeFileInput = gpd.read_file('shapefiles/Municipal_Boundaries_of_NJ.shp')\n",
    "dfPoUshapetemp = pd.DataFrame(ShapeFileInput)\n",
    "dfPoUshapetemp.head(3)"
   ]
  },
  {
   "cell_type": "code",
   "execution_count": null,
   "metadata": {},
   "outputs": [],
   "source": [
    "columnsList = ['in_SiteNativeID', 'geometry']\n",
    "dfPoUshape = pd.DataFrame(columns=columnsList)\n",
    "dfPoUshape['in_SiteNativeID'] = dfPoUshapetemp['GNIS'].astype('Int64').astype('str')\n",
    "dfPoUshape['geometry'] = dfPoUshapetemp['geometry']\n",
    "dfPoUshape = dfPoUshape.drop_duplicates(subset=None, keep='first', inplace=False, ignore_index=False)\n",
    "dfPoUshape.head(3)"
   ]
  },
  {
   "cell_type": "markdown",
   "metadata": {},
   "source": [
    "## Export Outputfile(s)"
   ]
  },
  {
   "cell_type": "code",
   "execution_count": null,
   "metadata": {},
   "outputs": [],
   "source": [
    "dfout2.info()"
   ]
  },
  {
   "cell_type": "code",
   "execution_count": null,
   "metadata": {},
   "outputs": [],
   "source": [
    "# Exporting output files.\n",
    "dfout2.to_csv('P_njSSMaster.csv', index=False)  # The master output.\n",
    "dfPoUshape.to_csv('P_njSSGeometry.csv', index=False) # The output geometry."
   ]
  },
  {
   "cell_type": "markdown",
   "metadata": {},
   "source": [
    "#### bonus:"
   ]
  },
  {
   "cell_type": "code",
   "execution_count": null,
   "metadata": {},
   "outputs": [],
   "source": [
    "# # Exporting output files.\n",
    "# dfw.to_excel('withdrawalCombine.xlsx', index=False)"
   ]
  },
  {
   "cell_type": "code",
   "execution_count": null,
   "metadata": {},
   "outputs": [],
   "source": [
    "# print(len(dfw))"
   ]
  },
  {
   "cell_type": "code",
   "execution_count": null,
   "metadata": {},
   "outputs": [],
   "source": [
    "# dfw2 = dfw[dfw.duplicated()]\n",
    "# print(len(dfw2))"
   ]
  },
  {
   "cell_type": "code",
   "execution_count": null,
   "metadata": {},
   "outputs": [],
   "source": [
    "# # Exporting output files.\n",
    "# dfw2.to_excel('dfw2_withdrawalCombine.xlsx', index=False)"
   ]
  },
  {
   "cell_type": "code",
   "execution_count": null,
   "metadata": {},
   "outputs": [],
   "source": [
    "# dfout2 = dfout[dfout.duplicated()]\n",
    "# print(len(dfout2))"
   ]
  },
  {
   "cell_type": "code",
   "execution_count": null,
   "metadata": {},
   "outputs": [],
   "source": [
    "# # Exporting output files.\n",
    "# dfout2.to_excel('dfout2_withdrawalCombine.xlsx', index=False)"
   ]
  },
  {
   "cell_type": "code",
   "execution_count": null,
   "metadata": {},
   "outputs": [],
   "source": [
    "dfout3 = dfout2.copy()\n",
    "dfout3 = dfout3[dfout3['in_SiteNativeID'] == 'nan']\n",
    "print(len(dfout3))"
   ]
  },
  {
   "cell_type": "code",
   "execution_count": null,
   "metadata": {},
   "outputs": [],
   "source": []
  }
 ],
 "metadata": {
  "kernelspec": {
   "display_name": "Python 3 (ipykernel)",
   "language": "python",
   "name": "python3"
  },
  "language_info": {
   "codemirror_mode": {
    "name": "ipython",
    "version": 3
   },
   "file_extension": ".py",
   "mimetype": "text/x-python",
   "name": "python",
   "nbconvert_exporter": "python",
   "pygments_lexer": "ipython3",
   "version": "3.8.12"
  }
 },
 "nbformat": 4,
 "nbformat_minor": 2
}
