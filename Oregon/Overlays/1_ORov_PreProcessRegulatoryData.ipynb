{
 "cells": [
  {
   "cell_type": "markdown",
   "metadata": {},
   "source": [
    "# Pre-processing Overlay data for WaDE upload.\n",
    "- Purpose: To preprocess state overlay data into one main file for simple DataFrame creation and extraction."
   ]
  },
  {
   "cell_type": "code",
   "execution_count": 1,
   "metadata": {},
   "outputs": [],
   "source": [
    "# Needed Libraries / Modules\n",
    "\n",
    "# ---- working with data ----\n",
    "import os  # native operating system interaction\n",
    "import numpy as np  # mathematical array manipulation\n",
    "import pandas as pd  # data structure and data analysis\n",
    "import geopandas as gpd  # geo-data structure and data analysis\n",
    "\n",
    "# ---- visualization ----\n",
    "import matplotlib.pyplot as plt  # plotting library\n",
    "import seaborn as sns  # plotting library\n",
    "\n",
    "# ---- API data retrieval ----\n",
    "import requests  # http requests\n",
    "import json  # JSON parse\n",
    "\n",
    "# ---- Cleanup ----\n",
    "import re  # string regular expression manipulation\n",
    "from datetime import datetime  # date and time manipulation\n",
    "pd.set_option('display.max_columns', 999)  # How to display all columns of a Pandas DataFrame in Jupyter Notebook\n",
    "pd.set_option('display.float_format', lambda x: '%.5f' % x)  # suppress scientific notation in Pandas"
   ]
  },
  {
   "cell_type": "code",
   "execution_count": 3,
   "metadata": {},
   "outputs": [
    {
     "name": "stdout",
     "output_type": "stream",
     "text": [
      "The working Directory is: G:/Shared drives/WaDE Data/WaDE Data Folder/Oregon/Overlays\n"
     ]
    }
   ],
   "source": [
    "# ---- working directory ----\n",
    "workingDirString = \"G:/Shared drives/WaDE Data/WaDE Data Folder/Oregon/Overlays\" # set working directory folder string here\n",
    "os.chdir(workingDirString)\n",
    "print(f'The working Directory is:', workingDirString)"
   ]
  },
  {
   "cell_type": "markdown",
   "metadata": {},
   "source": [
    "## Overlay Area Data #1"
   ]
  },
  {
   "cell_type": "code",
   "execution_count": 6,
   "metadata": {},
   "outputs": [
    {
     "name": "stdout",
     "output_type": "stream",
     "text": [
      "19\n"
     ]
    },
    {
     "data": {
      "text/html": [
       "<div>\n",
       "<style scoped>\n",
       "    .dataframe tbody tr th:only-of-type {\n",
       "        vertical-align: middle;\n",
       "    }\n",
       "\n",
       "    .dataframe tbody tr th {\n",
       "        vertical-align: top;\n",
       "    }\n",
       "\n",
       "    .dataframe thead th {\n",
       "        text-align: right;\n",
       "    }\n",
       "</style>\n",
       "<table border=\"1\" class=\"dataframe\">\n",
       "  <thead>\n",
       "    <tr style=\"text-align: right;\">\n",
       "      <th></th>\n",
       "      <th>BASIN_24</th>\n",
       "      <th>BASIN_24_I</th>\n",
       "      <th>BASIN_NUM</th>\n",
       "      <th>BASIN_NAME</th>\n",
       "      <th>SQ_MI</th>\n",
       "      <th>SHORTNAME</th>\n",
       "      <th>geometry</th>\n",
       "      <th>WaDEUUID</th>\n",
       "    </tr>\n",
       "  </thead>\n",
       "  <tbody>\n",
       "    <tr>\n",
       "      <th>0</th>\n",
       "      <td>2.00000</td>\n",
       "      <td>1.00000</td>\n",
       "      <td>1</td>\n",
       "      <td>North Coast</td>\n",
       "      <td>2556.24000</td>\n",
       "      <td>norco</td>\n",
       "      <td>POLYGON ((551528.312 1648986.750, 552702.375 1...</td>\n",
       "      <td>ov0</td>\n",
       "    </tr>\n",
       "    <tr>\n",
       "      <th>1</th>\n",
       "      <td>3.00000</td>\n",
       "      <td>2.00000</td>\n",
       "      <td>8</td>\n",
       "      <td>Grande Ronde</td>\n",
       "      <td>4919.97000</td>\n",
       "      <td>gron</td>\n",
       "      <td>POLYGON ((1968356.250 1559735.750, 1969243.875...</td>\n",
       "      <td>ov1</td>\n",
       "    </tr>\n",
       "    <tr>\n",
       "      <th>2</th>\n",
       "      <td>4.00000</td>\n",
       "      <td>3.00000</td>\n",
       "      <td>7</td>\n",
       "      <td>Umatilla</td>\n",
       "      <td>4501.74000</td>\n",
       "      <td>uma</td>\n",
       "      <td>POLYGON ((1603555.750 1521597.000, 1603574.000...</td>\n",
       "      <td>ov2</td>\n",
       "    </tr>\n",
       "    <tr>\n",
       "      <th>3</th>\n",
       "      <td>5.00000</td>\n",
       "      <td>4.00000</td>\n",
       "      <td>2</td>\n",
       "      <td>Willamette</td>\n",
       "      <td>11468.98000</td>\n",
       "      <td>will</td>\n",
       "      <td>POLYGON ((825738.062 1396432.875, 826102.438 1...</td>\n",
       "      <td>ov3</td>\n",
       "    </tr>\n",
       "    <tr>\n",
       "      <th>4</th>\n",
       "      <td>6.00000</td>\n",
       "      <td>5.00000</td>\n",
       "      <td>6</td>\n",
       "      <td>John Day</td>\n",
       "      <td>8072.88000</td>\n",
       "      <td>jday</td>\n",
       "      <td>POLYGON ((1431521.250 1461584.375, 1431330.625...</td>\n",
       "      <td>ov4</td>\n",
       "    </tr>\n",
       "  </tbody>\n",
       "</table>\n",
       "</div>"
      ],
      "text/plain": [
       "   BASIN_24  BASIN_24_I  BASIN_NUM    BASIN_NAME       SQ_MI SHORTNAME  \\\n",
       "0   2.00000     1.00000          1   North Coast  2556.24000     norco   \n",
       "1   3.00000     2.00000          8  Grande Ronde  4919.97000      gron   \n",
       "2   4.00000     3.00000          7      Umatilla  4501.74000       uma   \n",
       "3   5.00000     4.00000          2    Willamette 11468.98000      will   \n",
       "4   6.00000     5.00000          6      John Day  8072.88000      jday   \n",
       "\n",
       "                                            geometry WaDEUUID  \n",
       "0  POLYGON ((551528.312 1648986.750, 552702.375 1...      ov0  \n",
       "1  POLYGON ((1968356.250 1559735.750, 1969243.875...      ov1  \n",
       "2  POLYGON ((1603555.750 1521597.000, 1603574.000...      ov2  \n",
       "3  POLYGON ((825738.062 1396432.875, 826102.438 1...      ov3  \n",
       "4  POLYGON ((1431521.250 1461584.375, 1431330.625...      ov4  "
      ]
     },
     "execution_count": 6,
     "metadata": {},
     "output_type": "execute_result"
    }
   ],
   "source": [
    "# Input File\n",
    "inputFile = \"RawInputData/shapefiles/oregon-water-resources-department-owrd-administrative-basins.zip\"\n",
    "dfin1 = gpd.read_file(inputFile).replace(np.nan, \"\")\n",
    "\n",
    "# WaDE UUID tracker for data assessment\n",
    "if 'WaDEUUID' not in dfin1:\n",
    "    dfin1['WaDEUUID'] = \"ov\" + dfin1.index.astype(str)\n",
    "    dfin1.to_csv('RawInputData/oregon-water-resources-department-owrd-administrative-basins.zip', compression=dict(method='zip', archive_name='oregon-water-resources-department-owrd-administrative-basins.csv'), index=False)\n",
    "\n",
    "print(len(dfin1))\n",
    "dfin1.head()"
   ]
  },
  {
   "cell_type": "code",
   "execution_count": 7,
   "metadata": {},
   "outputs": [
    {
     "name": "stdout",
     "output_type": "stream",
     "text": [
      "19\n"
     ]
    },
    {
     "data": {
      "text/html": [
       "<div>\n",
       "<style scoped>\n",
       "    .dataframe tbody tr th:only-of-type {\n",
       "        vertical-align: middle;\n",
       "    }\n",
       "\n",
       "    .dataframe tbody tr th {\n",
       "        vertical-align: top;\n",
       "    }\n",
       "\n",
       "    .dataframe thead th {\n",
       "        text-align: right;\n",
       "    }\n",
       "</style>\n",
       "<table border=\"1\" class=\"dataframe\">\n",
       "  <thead>\n",
       "    <tr style=\"text-align: right;\">\n",
       "      <th></th>\n",
       "      <th>WaDEUUID</th>\n",
       "      <th>in_Date</th>\n",
       "      <th>in_Year</th>\n",
       "      <th>in_OrganizationUUID</th>\n",
       "      <th>in_EPSGCodeCV</th>\n",
       "      <th>in_ReportingUnitName</th>\n",
       "      <th>in_ReportingUnitNativeID</th>\n",
       "      <th>in_ReportingUnitProductVersion</th>\n",
       "      <th>in_ReportingUnitTypeCV</th>\n",
       "      <th>in_ReportingUnitUpdateDate</th>\n",
       "      <th>in_StateCV</th>\n",
       "      <th>in_Geometry</th>\n",
       "      <th>in_OversightAgency</th>\n",
       "      <th>in_RegulatoryDescription</th>\n",
       "      <th>in_RegulatoryName</th>\n",
       "      <th>in_RegulatoryOverlayNativeID</th>\n",
       "      <th>in_RegulatoryStatusCV</th>\n",
       "      <th>in_RegulatoryStatute</th>\n",
       "      <th>in_RegulatoryStatuteLink</th>\n",
       "      <th>in_StatutoryEffectiveDate</th>\n",
       "      <th>in_StatutoryEndDate</th>\n",
       "      <th>in_RegulatoryOverlayTypeCV</th>\n",
       "      <th>in_WaterSourceTypeCV</th>\n",
       "    </tr>\n",
       "  </thead>\n",
       "  <tbody>\n",
       "    <tr>\n",
       "      <th>0</th>\n",
       "      <td>ov0</td>\n",
       "      <td>10/29/2024</td>\n",
       "      <td>2024</td>\n",
       "      <td>ORov_O1</td>\n",
       "      <td>4326</td>\n",
       "      <td>North Coast</td>\n",
       "      <td>or1</td>\n",
       "      <td>9.6</td>\n",
       "      <td>Administrative Basins</td>\n",
       "      <td>9/22/2021</td>\n",
       "      <td>OR</td>\n",
       "      <td></td>\n",
       "      <td>Oregon Water Resources Department</td>\n",
       "      <td>Administrative rules which establish water man...</td>\n",
       "      <td>North Coast</td>\n",
       "      <td>or1</td>\n",
       "      <td>Active</td>\n",
       "      <td></td>\n",
       "      <td>https://secure.sos.state.or.us/oard/displayDiv...</td>\n",
       "      <td>10/7/1993</td>\n",
       "      <td></td>\n",
       "      <td>Administrative Basins</td>\n",
       "      <td>Surface and Groundwater</td>\n",
       "    </tr>\n",
       "    <tr>\n",
       "      <th>1</th>\n",
       "      <td>ov1</td>\n",
       "      <td>10/29/2024</td>\n",
       "      <td>2024</td>\n",
       "      <td>ORov_O1</td>\n",
       "      <td>4326</td>\n",
       "      <td>Grande Ronde</td>\n",
       "      <td>or8</td>\n",
       "      <td>9.6</td>\n",
       "      <td>Administrative Basins</td>\n",
       "      <td>9/22/2021</td>\n",
       "      <td>OR</td>\n",
       "      <td></td>\n",
       "      <td>Oregon Water Resources Department</td>\n",
       "      <td>Administrative rules which establish water man...</td>\n",
       "      <td>Grande Ronde</td>\n",
       "      <td>or8</td>\n",
       "      <td>Active</td>\n",
       "      <td></td>\n",
       "      <td>https://secure.sos.state.or.us/oard/displayDiv...</td>\n",
       "      <td>10/7/1993</td>\n",
       "      <td></td>\n",
       "      <td>Administrative Basins</td>\n",
       "      <td>Surface and Groundwater</td>\n",
       "    </tr>\n",
       "    <tr>\n",
       "      <th>2</th>\n",
       "      <td>ov2</td>\n",
       "      <td>10/29/2024</td>\n",
       "      <td>2024</td>\n",
       "      <td>ORov_O1</td>\n",
       "      <td>4326</td>\n",
       "      <td>Umatilla</td>\n",
       "      <td>or7</td>\n",
       "      <td>9.6</td>\n",
       "      <td>Administrative Basins</td>\n",
       "      <td>9/22/2021</td>\n",
       "      <td>OR</td>\n",
       "      <td></td>\n",
       "      <td>Oregon Water Resources Department</td>\n",
       "      <td>Administrative rules which establish water man...</td>\n",
       "      <td>Umatilla</td>\n",
       "      <td>or7</td>\n",
       "      <td>Active</td>\n",
       "      <td></td>\n",
       "      <td>https://secure.sos.state.or.us/oard/displayDiv...</td>\n",
       "      <td>10/7/1993</td>\n",
       "      <td></td>\n",
       "      <td>Administrative Basins</td>\n",
       "      <td>Surface and Groundwater</td>\n",
       "    </tr>\n",
       "    <tr>\n",
       "      <th>3</th>\n",
       "      <td>ov3</td>\n",
       "      <td>10/29/2024</td>\n",
       "      <td>2024</td>\n",
       "      <td>ORov_O1</td>\n",
       "      <td>4326</td>\n",
       "      <td>Willamette</td>\n",
       "      <td>or2</td>\n",
       "      <td>9.6</td>\n",
       "      <td>Administrative Basins</td>\n",
       "      <td>9/22/2021</td>\n",
       "      <td>OR</td>\n",
       "      <td></td>\n",
       "      <td>Oregon Water Resources Department</td>\n",
       "      <td>Administrative rules which establish water man...</td>\n",
       "      <td>Willamette</td>\n",
       "      <td>or2</td>\n",
       "      <td>Active</td>\n",
       "      <td></td>\n",
       "      <td>https://secure.sos.state.or.us/oard/displayDiv...</td>\n",
       "      <td>10/7/1993</td>\n",
       "      <td></td>\n",
       "      <td>Administrative Basins</td>\n",
       "      <td>Surface and Groundwater</td>\n",
       "    </tr>\n",
       "    <tr>\n",
       "      <th>4</th>\n",
       "      <td>ov4</td>\n",
       "      <td>10/29/2024</td>\n",
       "      <td>2024</td>\n",
       "      <td>ORov_O1</td>\n",
       "      <td>4326</td>\n",
       "      <td>John Day</td>\n",
       "      <td>or6</td>\n",
       "      <td>9.6</td>\n",
       "      <td>Administrative Basins</td>\n",
       "      <td>9/22/2021</td>\n",
       "      <td>OR</td>\n",
       "      <td></td>\n",
       "      <td>Oregon Water Resources Department</td>\n",
       "      <td>Administrative rules which establish water man...</td>\n",
       "      <td>John Day</td>\n",
       "      <td>or6</td>\n",
       "      <td>Active</td>\n",
       "      <td></td>\n",
       "      <td>https://secure.sos.state.or.us/oard/displayDiv...</td>\n",
       "      <td>10/7/1993</td>\n",
       "      <td></td>\n",
       "      <td>Administrative Basins</td>\n",
       "      <td>Surface and Groundwater</td>\n",
       "    </tr>\n",
       "  </tbody>\n",
       "</table>\n",
       "</div>"
      ],
      "text/plain": [
       "  WaDEUUID     in_Date in_Year in_OrganizationUUID in_EPSGCodeCV  \\\n",
       "0      ov0  10/29/2024    2024             ORov_O1          4326   \n",
       "1      ov1  10/29/2024    2024             ORov_O1          4326   \n",
       "2      ov2  10/29/2024    2024             ORov_O1          4326   \n",
       "3      ov3  10/29/2024    2024             ORov_O1          4326   \n",
       "4      ov4  10/29/2024    2024             ORov_O1          4326   \n",
       "\n",
       "  in_ReportingUnitName in_ReportingUnitNativeID  \\\n",
       "0          North Coast                      or1   \n",
       "1         Grande Ronde                      or8   \n",
       "2             Umatilla                      or7   \n",
       "3           Willamette                      or2   \n",
       "4             John Day                      or6   \n",
       "\n",
       "  in_ReportingUnitProductVersion in_ReportingUnitTypeCV  \\\n",
       "0                            9.6  Administrative Basins   \n",
       "1                            9.6  Administrative Basins   \n",
       "2                            9.6  Administrative Basins   \n",
       "3                            9.6  Administrative Basins   \n",
       "4                            9.6  Administrative Basins   \n",
       "\n",
       "  in_ReportingUnitUpdateDate in_StateCV in_Geometry  \\\n",
       "0                  9/22/2021         OR               \n",
       "1                  9/22/2021         OR               \n",
       "2                  9/22/2021         OR               \n",
       "3                  9/22/2021         OR               \n",
       "4                  9/22/2021         OR               \n",
       "\n",
       "                  in_OversightAgency  \\\n",
       "0  Oregon Water Resources Department   \n",
       "1  Oregon Water Resources Department   \n",
       "2  Oregon Water Resources Department   \n",
       "3  Oregon Water Resources Department   \n",
       "4  Oregon Water Resources Department   \n",
       "\n",
       "                            in_RegulatoryDescription in_RegulatoryName  \\\n",
       "0  Administrative rules which establish water man...       North Coast   \n",
       "1  Administrative rules which establish water man...      Grande Ronde   \n",
       "2  Administrative rules which establish water man...          Umatilla   \n",
       "3  Administrative rules which establish water man...        Willamette   \n",
       "4  Administrative rules which establish water man...          John Day   \n",
       "\n",
       "  in_RegulatoryOverlayNativeID in_RegulatoryStatusCV in_RegulatoryStatute  \\\n",
       "0                          or1                Active                        \n",
       "1                          or8                Active                        \n",
       "2                          or7                Active                        \n",
       "3                          or2                Active                        \n",
       "4                          or6                Active                        \n",
       "\n",
       "                            in_RegulatoryStatuteLink  \\\n",
       "0  https://secure.sos.state.or.us/oard/displayDiv...   \n",
       "1  https://secure.sos.state.or.us/oard/displayDiv...   \n",
       "2  https://secure.sos.state.or.us/oard/displayDiv...   \n",
       "3  https://secure.sos.state.or.us/oard/displayDiv...   \n",
       "4  https://secure.sos.state.or.us/oard/displayDiv...   \n",
       "\n",
       "  in_StatutoryEffectiveDate in_StatutoryEndDate in_RegulatoryOverlayTypeCV  \\\n",
       "0                 10/7/1993                          Administrative Basins   \n",
       "1                 10/7/1993                          Administrative Basins   \n",
       "2                 10/7/1993                          Administrative Basins   \n",
       "3                 10/7/1993                          Administrative Basins   \n",
       "4                 10/7/1993                          Administrative Basins   \n",
       "\n",
       "      in_WaterSourceTypeCV  \n",
       "0  Surface and Groundwater  \n",
       "1  Surface and Groundwater  \n",
       "2  Surface and Groundwater  \n",
       "3  Surface and Groundwater  \n",
       "4  Surface and Groundwater  "
      ]
     },
     "execution_count": 7,
     "metadata": {},
     "output_type": "execute_result"
    }
   ],
   "source": [
    "# create output for Regulatory Area #1 dataframe\n",
    "df = pd.DataFrame()\n",
    "\n",
    "# Data Assessment UUID\n",
    "df['WaDEUUID'] = dfin1['WaDEUUID']\n",
    "\n",
    "# Date Info\n",
    "df['in_Date'] = \"10/29/2024\"\n",
    "df['in_Year'] = \"2024\"\n",
    "\n",
    "# Organization Info\n",
    "df['in_OrganizationUUID'] = \"ORov_O1\"\n",
    "\n",
    "# ReportingUnit Info\n",
    "df['in_EPSGCodeCV'] = \"4326\"\n",
    "df['in_ReportingUnitName'] = dfin1[\"BASIN_NAME\"]\n",
    "df['in_ReportingUnitNativeID'] = \"or\" + dfin1[\"BASIN_NUM\"].astype(str)\n",
    "df['in_ReportingUnitProductVersion'] = \"9.6\"\n",
    "df['in_ReportingUnitTypeCV'] = \"Administrative Basins\"\n",
    "df['in_ReportingUnitUpdateDate'] = \"9/22/2021\"\n",
    "df['in_StateCV'] = \"OR\"\n",
    "df['in_Geometry'] = \"\"\n",
    "\n",
    "# RegulatoryOverlay Info\n",
    "df['in_OversightAgency'] = \"Oregon Water Resources Department\"\n",
    "df['in_RegulatoryDescription'] = \"Administrative rules which establish water management policies and objectives and which govern the appropriation and use of the surface and ground water\"\n",
    "df['in_RegulatoryName'] = dfin1[\"BASIN_NAME\"]\n",
    "df['in_RegulatoryOverlayNativeID'] = \"or\" + dfin1[\"BASIN_NUM\"].astype(str)\n",
    "df['in_RegulatoryStatusCV'] = \"Active\"\n",
    "df['in_RegulatoryStatute'] = \"\"\n",
    "df['in_RegulatoryStatuteLink'] = \"https://secure.sos.state.or.us/oard/displayDivisionRules.action?selectedDivision=3207\"\n",
    "df['in_StatutoryEffectiveDate'] = \"10/7/1993\"\n",
    "df['in_StatutoryEndDate'] = \"\"\n",
    "df['in_RegulatoryOverlayTypeCV'] = \"Administrative Basins\"\n",
    "df['in_WaterSourceTypeCV'] = \"Surface and Groundwater\"\n",
    "\n",
    "df = df.drop_duplicates().reset_index(drop=True)\n",
    "outdf1 = df.copy()\n",
    "print(len(outdf1))\n",
    "outdf1.head()"
   ]
  },
  {
   "cell_type": "code",
   "execution_count": 8,
   "metadata": {},
   "outputs": [],
   "source": [
    "# etc etc,"
   ]
  },
  {
   "cell_type": "markdown",
   "metadata": {},
   "source": [
    "## Concatenate DataFrames together"
   ]
  },
  {
   "cell_type": "code",
   "execution_count": 10,
   "metadata": {},
   "outputs": [
    {
     "name": "stdout",
     "output_type": "stream",
     "text": [
      "19\n"
     ]
    }
   ],
   "source": [
    "# Concatenate dataframes\n",
    "frames = [outdf1] # list all out dataframes here\n",
    "outdf = pd.concat(frames)\n",
    "outdf = outdf.drop_duplicates().reset_index(drop=True).replace(np.nan, \"\")\n",
    "print(len(outdf))"
   ]
  },
  {
   "cell_type": "markdown",
   "metadata": {},
   "source": [
    "## Clean Data / data types"
   ]
  },
  {
   "cell_type": "code",
   "execution_count": 11,
   "metadata": {
    "scrolled": true
   },
   "outputs": [],
   "source": [
    "# Ensure Empty String / remove string value of \"nan\"\n",
    "\n",
    "def ensureEmptyString(val):\n",
    "    val = str(val).strip()\n",
    "    if val == \"\" or val == \" \" or val == \"nan\" or pd.isnull(val):\n",
    "        outString = \"\"\n",
    "    else:\n",
    "        outString = val\n",
    "    return outString"
   ]
  },
  {
   "cell_type": "code",
   "execution_count": 12,
   "metadata": {},
   "outputs": [
    {
     "data": {
      "text/plain": [
       "array(['North Coast', 'Grande Ronde', 'Umatilla', 'Willamette',\n",
       "       'John Day', 'Deschutes', 'Hood', 'Sandy', 'Powder', 'Mid Coast',\n",
       "       'Malheur', 'Malheur Lake', 'Umpqua', 'Owyhee',\n",
       "       'Goose & Summer Lakes', 'South Coast', 'Klamath', 'Rogue'],\n",
       "      dtype=object)"
      ]
     },
     "execution_count": 12,
     "metadata": {},
     "output_type": "execute_result"
    }
   ],
   "source": [
    "outdf['in_ReportingUnitName'] = outdf.apply(lambda row: ensureEmptyString(row['in_ReportingUnitName']), axis=1)\n",
    "outdf['in_ReportingUnitName'].unique()"
   ]
  },
  {
   "cell_type": "code",
   "execution_count": 13,
   "metadata": {},
   "outputs": [
    {
     "data": {
      "text/plain": [
       "array(['Administrative rules which establish water management policies and objectives and which govern the appropriation and use of the surface and ground water'],\n",
       "      dtype=object)"
      ]
     },
     "execution_count": 13,
     "metadata": {},
     "output_type": "execute_result"
    }
   ],
   "source": [
    "outdf['in_RegulatoryDescription'] = outdf.apply(lambda row: ensureEmptyString(row['in_RegulatoryDescription']), axis=1)\n",
    "outdf['in_RegulatoryDescription'].unique()"
   ]
  },
  {
   "cell_type": "code",
   "execution_count": 14,
   "metadata": {},
   "outputs": [
    {
     "data": {
      "text/plain": [
       "array(['North Coast', 'Grande Ronde', 'Umatilla', 'Willamette',\n",
       "       'John Day', 'Deschutes', 'Hood', 'Sandy', 'Powder', 'Mid Coast',\n",
       "       'Malheur', 'Malheur Lake', 'Umpqua', 'Owyhee',\n",
       "       'Goose & Summer Lakes', 'South Coast', 'Klamath', 'Rogue'],\n",
       "      dtype=object)"
      ]
     },
     "execution_count": 14,
     "metadata": {},
     "output_type": "execute_result"
    }
   ],
   "source": [
    "outdf['in_RegulatoryName'] = outdf.apply(lambda row: ensureEmptyString(row['in_RegulatoryName']), axis=1)\n",
    "outdf['in_RegulatoryName'].unique()"
   ]
  },
  {
   "cell_type": "code",
   "execution_count": 15,
   "metadata": {},
   "outputs": [
    {
     "data": {
      "text/plain": [
       "<DatetimeArray>\n",
       "['1993-10-07 00:00:00']\n",
       "Length: 1, dtype: datetime64[ns]"
      ]
     },
     "execution_count": 15,
     "metadata": {},
     "output_type": "execute_result"
    }
   ],
   "source": [
    "#Update datatype of StatutoryEffectiveDate to fit WaDE 2.0 structure\n",
    "outdf['in_StatutoryEffectiveDate'] = pd.to_datetime(outdf['in_StatutoryEffectiveDate'], errors = 'coerce')\n",
    "outdf['in_StatutoryEffectiveDate'] = pd.to_datetime(outdf['in_StatutoryEffectiveDate'].dt.strftime('%m/%d/%Y'))\n",
    "outdf['in_StatutoryEffectiveDate'].unique()"
   ]
  },
  {
   "cell_type": "markdown",
   "metadata": {},
   "source": [
    "# Geometry Data\n",
    "- For attaching geometry to overlay reporting unit area info."
   ]
  },
  {
   "cell_type": "markdown",
   "metadata": {},
   "source": [
    "#### Overlay Area #1 shapefile info"
   ]
  },
  {
   "cell_type": "code",
   "execution_count": 16,
   "metadata": {},
   "outputs": [
    {
     "name": "stdout",
     "output_type": "stream",
     "text": [
      "19\n"
     ]
    },
    {
     "data": {
      "text/html": [
       "<div>\n",
       "<style scoped>\n",
       "    .dataframe tbody tr th:only-of-type {\n",
       "        vertical-align: middle;\n",
       "    }\n",
       "\n",
       "    .dataframe tbody tr th {\n",
       "        vertical-align: top;\n",
       "    }\n",
       "\n",
       "    .dataframe thead th {\n",
       "        text-align: right;\n",
       "    }\n",
       "</style>\n",
       "<table border=\"1\" class=\"dataframe\">\n",
       "  <thead>\n",
       "    <tr style=\"text-align: right;\">\n",
       "      <th></th>\n",
       "      <th>BASIN_24</th>\n",
       "      <th>BASIN_24_I</th>\n",
       "      <th>BASIN_NUM</th>\n",
       "      <th>BASIN_NAME</th>\n",
       "      <th>SQ_MI</th>\n",
       "      <th>SHORTNAME</th>\n",
       "      <th>geometry</th>\n",
       "      <th>WaDEUUID</th>\n",
       "    </tr>\n",
       "  </thead>\n",
       "  <tbody>\n",
       "    <tr>\n",
       "      <th>0</th>\n",
       "      <td>2.00000</td>\n",
       "      <td>1.00000</td>\n",
       "      <td>1</td>\n",
       "      <td>North Coast</td>\n",
       "      <td>2556.24000</td>\n",
       "      <td>norco</td>\n",
       "      <td>POLYGON ((-123.50594 46.23513, -123.50129 46.2...</td>\n",
       "      <td>ov0</td>\n",
       "    </tr>\n",
       "    <tr>\n",
       "      <th>1</th>\n",
       "      <td>3.00000</td>\n",
       "      <td>2.00000</td>\n",
       "      <td>8</td>\n",
       "      <td>Grande Ronde</td>\n",
       "      <td>4919.97000</td>\n",
       "      <td>gron</td>\n",
       "      <td>POLYGON ((-117.91887 46.00038, -117.91537 46.0...</td>\n",
       "      <td>ov1</td>\n",
       "    </tr>\n",
       "    <tr>\n",
       "      <th>2</th>\n",
       "      <td>4.00000</td>\n",
       "      <td>3.00000</td>\n",
       "      <td>7</td>\n",
       "      <td>Umatilla</td>\n",
       "      <td>4501.74000</td>\n",
       "      <td>uma</td>\n",
       "      <td>POLYGON ((-119.35598 45.91852, -119.35590 45.9...</td>\n",
       "      <td>ov2</td>\n",
       "    </tr>\n",
       "    <tr>\n",
       "      <th>3</th>\n",
       "      <td>5.00000</td>\n",
       "      <td>4.00000</td>\n",
       "      <td>2</td>\n",
       "      <td>Willamette</td>\n",
       "      <td>11468.98000</td>\n",
       "      <td>will</td>\n",
       "      <td>POLYGON ((-122.39995 45.56544, -122.39845 45.5...</td>\n",
       "      <td>ov3</td>\n",
       "    </tr>\n",
       "    <tr>\n",
       "      <th>4</th>\n",
       "      <td>6.00000</td>\n",
       "      <td>5.00000</td>\n",
       "      <td>6</td>\n",
       "      <td>John Day</td>\n",
       "      <td>8072.88000</td>\n",
       "      <td>jday</td>\n",
       "      <td>POLYGON ((-120.03311 45.75861, -120.03386 45.7...</td>\n",
       "      <td>ov4</td>\n",
       "    </tr>\n",
       "  </tbody>\n",
       "</table>\n",
       "</div>"
      ],
      "text/plain": [
       "   BASIN_24  BASIN_24_I  BASIN_NUM    BASIN_NAME       SQ_MI SHORTNAME  \\\n",
       "0   2.00000     1.00000          1   North Coast  2556.24000     norco   \n",
       "1   3.00000     2.00000          8  Grande Ronde  4919.97000      gron   \n",
       "2   4.00000     3.00000          7      Umatilla  4501.74000       uma   \n",
       "3   5.00000     4.00000          2    Willamette 11468.98000      will   \n",
       "4   6.00000     5.00000          6      John Day  8072.88000      jday   \n",
       "\n",
       "                                            geometry WaDEUUID  \n",
       "0  POLYGON ((-123.50594 46.23513, -123.50129 46.2...      ov0  \n",
       "1  POLYGON ((-117.91887 46.00038, -117.91537 46.0...      ov1  \n",
       "2  POLYGON ((-119.35598 45.91852, -119.35590 45.9...      ov2  \n",
       "3  POLYGON ((-122.39995 45.56544, -122.39845 45.5...      ov3  \n",
       "4  POLYGON ((-120.03311 45.75861, -120.03386 45.7...      ov4  "
      ]
     },
     "execution_count": 16,
     "metadata": {},
     "output_type": "execute_result"
    }
   ],
   "source": [
    "# # Input File / or use same input as above\n",
    "gdfin1 = dfin1.copy()\n",
    "gdfin1['geometry'] = gdfin1['geometry'].to_crs(epsg=4326) # Realign Geometry Projection\n",
    "print(len(gdfin1))\n",
    "gdfin1.head()"
   ]
  },
  {
   "cell_type": "code",
   "execution_count": 20,
   "metadata": {},
   "outputs": [
    {
     "data": {
      "text/plain": [
       "<Axes: >"
      ]
     },
     "execution_count": 20,
     "metadata": {},
     "output_type": "execute_result"
    },
    {
     "data": {
      "image/png": "[encoded data removed]",
      "text/plain": [
       "<Figure size 640x480 with 1 Axes>"
      ]
     },
     "metadata": {},
     "output_type": "display_data"
    }
   ],
   "source": [
    "# plot shape info to map\n",
    "gdfin1.plot()"
   ]
  },
  {
   "cell_type": "code",
   "execution_count": 21,
   "metadata": {},
   "outputs": [
    {
     "name": "stdout",
     "output_type": "stream",
     "text": [
      "19\n"
     ]
    },
    {
     "data": {
      "text/html": [
       "<div>\n",
       "<style scoped>\n",
       "    .dataframe tbody tr th:only-of-type {\n",
       "        vertical-align: middle;\n",
       "    }\n",
       "\n",
       "    .dataframe tbody tr th {\n",
       "        vertical-align: top;\n",
       "    }\n",
       "\n",
       "    .dataframe thead th {\n",
       "        text-align: right;\n",
       "    }\n",
       "</style>\n",
       "<table border=\"1\" class=\"dataframe\">\n",
       "  <thead>\n",
       "    <tr style=\"text-align: right;\">\n",
       "      <th></th>\n",
       "      <th>in_ReportingUnitNativeID</th>\n",
       "      <th>geometry</th>\n",
       "    </tr>\n",
       "  </thead>\n",
       "  <tbody>\n",
       "    <tr>\n",
       "      <th>0</th>\n",
       "      <td>or1</td>\n",
       "      <td>POLYGON ((-123.50594 46.23513, -123.50129 46.2...</td>\n",
       "    </tr>\n",
       "    <tr>\n",
       "      <th>1</th>\n",
       "      <td>or8</td>\n",
       "      <td>POLYGON ((-117.91887 46.00038, -117.91537 46.0...</td>\n",
       "    </tr>\n",
       "    <tr>\n",
       "      <th>2</th>\n",
       "      <td>or7</td>\n",
       "      <td>POLYGON ((-119.35598 45.91852, -119.35590 45.9...</td>\n",
       "    </tr>\n",
       "    <tr>\n",
       "      <th>3</th>\n",
       "      <td>or2</td>\n",
       "      <td>POLYGON ((-122.39995 45.56544, -122.39845 45.5...</td>\n",
       "    </tr>\n",
       "    <tr>\n",
       "      <th>4</th>\n",
       "      <td>or6</td>\n",
       "      <td>POLYGON ((-120.03311 45.75861, -120.03386 45.7...</td>\n",
       "    </tr>\n",
       "  </tbody>\n",
       "</table>\n",
       "</div>"
      ],
      "text/plain": [
       "  in_ReportingUnitNativeID                                           geometry\n",
       "0                      or1  POLYGON ((-123.50594 46.23513, -123.50129 46.2...\n",
       "1                      or8  POLYGON ((-117.91887 46.00038, -117.91537 46.0...\n",
       "2                      or7  POLYGON ((-119.35598 45.91852, -119.35590 45.9...\n",
       "3                      or2  POLYGON ((-122.39995 45.56544, -122.39845 45.5...\n",
       "4                      or6  POLYGON ((-120.03311 45.75861, -120.03386 45.7..."
      ]
     },
     "execution_count": 21,
     "metadata": {},
     "output_type": "execute_result"
    }
   ],
   "source": [
    "# create output for Regulatory Area #1 dataframe\n",
    "df = pd.DataFrame()\n",
    "\n",
    "columnsList = ['in_ReportingUnitNativeID', 'geometry']\n",
    "goutdf1 = pd.DataFrame(columns=columnsList, index=gdfin1.index)\n",
    "\n",
    "goutdf1['in_ReportingUnitNativeID'] =  \"or\" + gdfin1[\"BASIN_NUM\"].astype(str)  # in_ReportingUnitNativeID needs to match source from above equivlaent datframe\n",
    "goutdf1['geometry'] = gdfin1['geometry']\n",
    "goutdf1 = goutdf1.drop_duplicates().reset_index(drop=True)\n",
    "print(len(goutdf1))\n",
    "goutdf1.head()"
   ]
  },
  {
   "cell_type": "markdown",
   "metadata": {},
   "source": [
    "#### Concatenate goutdf shapefile info into single output"
   ]
  },
  {
   "cell_type": "code",
   "execution_count": 22,
   "metadata": {},
   "outputs": [
    {
     "name": "stdout",
     "output_type": "stream",
     "text": [
      "19\n"
     ]
    },
    {
     "data": {
      "text/html": [
       "<div>\n",
       "<style scoped>\n",
       "    .dataframe tbody tr th:only-of-type {\n",
       "        vertical-align: middle;\n",
       "    }\n",
       "\n",
       "    .dataframe tbody tr th {\n",
       "        vertical-align: top;\n",
       "    }\n",
       "\n",
       "    .dataframe thead th {\n",
       "        text-align: right;\n",
       "    }\n",
       "</style>\n",
       "<table border=\"1\" class=\"dataframe\">\n",
       "  <thead>\n",
       "    <tr style=\"text-align: right;\">\n",
       "      <th></th>\n",
       "      <th>in_ReportingUnitNativeID</th>\n",
       "      <th>geometry</th>\n",
       "    </tr>\n",
       "  </thead>\n",
       "  <tbody>\n",
       "    <tr>\n",
       "      <th>0</th>\n",
       "      <td>or1</td>\n",
       "      <td>POLYGON ((-123.50594 46.23513, -123.50129 46.2...</td>\n",
       "    </tr>\n",
       "    <tr>\n",
       "      <th>1</th>\n",
       "      <td>or8</td>\n",
       "      <td>POLYGON ((-117.91887 46.00038, -117.91537 46.0...</td>\n",
       "    </tr>\n",
       "    <tr>\n",
       "      <th>2</th>\n",
       "      <td>or7</td>\n",
       "      <td>POLYGON ((-119.35598 45.91852, -119.35590 45.9...</td>\n",
       "    </tr>\n",
       "    <tr>\n",
       "      <th>3</th>\n",
       "      <td>or2</td>\n",
       "      <td>POLYGON ((-122.39995 45.56544, -122.39845 45.5...</td>\n",
       "    </tr>\n",
       "    <tr>\n",
       "      <th>4</th>\n",
       "      <td>or6</td>\n",
       "      <td>POLYGON ((-120.03311 45.75861, -120.03386 45.7...</td>\n",
       "    </tr>\n",
       "  </tbody>\n",
       "</table>\n",
       "</div>"
      ],
      "text/plain": [
       "  in_ReportingUnitNativeID                                           geometry\n",
       "0                      or1  POLYGON ((-123.50594 46.23513, -123.50129 46.2...\n",
       "1                      or8  POLYGON ((-117.91887 46.00038, -117.91537 46.0...\n",
       "2                      or7  POLYGON ((-119.35598 45.91852, -119.35590 45.9...\n",
       "3                      or2  POLYGON ((-122.39995 45.56544, -122.39845 45.5...\n",
       "4                      or6  POLYGON ((-120.03311 45.75861, -120.03386 45.7..."
      ]
     },
     "execution_count": 22,
     "metadata": {},
     "output_type": "execute_result"
    }
   ],
   "source": [
    "# Concatenate Basin & Subbasin DataFrames\n",
    "frames = [goutdf1] # add geoutdf dataframes here\n",
    "goutdf = pd.concat(frames).reset_index(drop=True)\n",
    "\n",
    "print(len(goutdf))\n",
    "goutdf.head()"
   ]
  },
  {
   "cell_type": "markdown",
   "metadata": {},
   "source": [
    "## Export Data"
   ]
  },
  {
   "cell_type": "code",
   "execution_count": 23,
   "metadata": {},
   "outputs": [
    {
     "name": "stdout",
     "output_type": "stream",
     "text": [
      "WaDEUUID                                  object\n",
      "in_Date                                   object\n",
      "in_Year                                   object\n",
      "in_OrganizationUUID                       object\n",
      "in_EPSGCodeCV                             object\n",
      "in_ReportingUnitName                      object\n",
      "in_ReportingUnitNativeID                  object\n",
      "in_ReportingUnitProductVersion            object\n",
      "in_ReportingUnitTypeCV                    object\n",
      "in_ReportingUnitUpdateDate                object\n",
      "in_StateCV                                object\n",
      "in_Geometry                               object\n",
      "in_OversightAgency                        object\n",
      "in_RegulatoryDescription                  object\n",
      "in_RegulatoryName                         object\n",
      "in_RegulatoryOverlayNativeID              object\n",
      "in_RegulatoryStatusCV                     object\n",
      "in_RegulatoryStatute                      object\n",
      "in_RegulatoryStatuteLink                  object\n",
      "in_StatutoryEffectiveDate         datetime64[ns]\n",
      "in_StatutoryEndDate                       object\n",
      "in_RegulatoryOverlayTypeCV                object\n",
      "in_WaterSourceTypeCV                      object\n",
      "dtype: object\n"
     ]
    }
   ],
   "source": [
    "with pd.option_context('display.max_rows', None, 'display.max_columns', None):\n",
    "    print(outdf.dtypes)"
   ]
  },
  {
   "cell_type": "code",
   "execution_count": 24,
   "metadata": {},
   "outputs": [
    {
     "name": "stdout",
     "output_type": "stream",
     "text": [
      "in_ReportingUnitNativeID      object\n",
      "geometry                    geometry\n",
      "dtype: object\n"
     ]
    }
   ],
   "source": [
    "with pd.option_context('display.max_rows', None, 'display.max_columns', None):\n",
    "    print(goutdf.dtypes)"
   ]
  },
  {
   "cell_type": "code",
   "execution_count": 25,
   "metadata": {},
   "outputs": [],
   "source": [
    "# Export out to CSV.\n",
    "outdf.to_csv('RawInputData/Pov_Main.zip', compression=dict(method='zip', archive_name='Pov_Main.csv'), index=False)  # The output, save as a zip\n",
    "goutdf.to_csv('RawInputData/P_Geometry.zip', compression=dict(method='zip', archive_name='P_Geometry.csv'), index=False)  # The output geometry."
   ]
  },
  {
   "cell_type": "code",
   "execution_count": null,
   "metadata": {},
   "outputs": [],
   "source": []
  }
 ],
 "metadata": {
  "kernelspec": {
   "display_name": "Python 3 (ipykernel)",
   "language": "python",
   "name": "python3"
  },
  "language_info": {
   "codemirror_mode": {
    "name": "ipython",
    "version": 3
   },
   "file_extension": ".py",
   "mimetype": "text/x-python",
   "name": "python",
   "nbconvert_exporter": "python",
   "pygments_lexer": "ipython3",
   "version": "3.12.3"
  }
 },
 "nbformat": 4,
 "nbformat_minor": 4
}
