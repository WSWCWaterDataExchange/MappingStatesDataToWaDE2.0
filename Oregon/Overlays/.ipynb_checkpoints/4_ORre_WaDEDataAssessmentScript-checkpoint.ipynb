{
 "cells": [
  {
   "cell_type": "markdown",
   "id": "d1f571be",
   "metadata": {},
   "source": [
    "# Data Assessment & Analytics - Regulatory Data\n",
    "Notes:\n",
    "- change os directory location\n",
    "- be aware of the number of provdied native source data files"
   ]
  },
  {
   "cell_type": "code",
   "execution_count": null,
   "id": "13ee81d8",
   "metadata": {},
   "outputs": [],
   "source": [
    "# Needed Libraries / Modules\n",
    "\n",
    "# ---- working with data ----\n",
    "import os  # native operating system interaction\n",
    "import numpy as np  # mathematical array manipulation\n",
    "import pandas as pd  # data structure and data analysis\n",
    "import geopandas as gpd  # geo-data structure and data analysis\n",
    "\n",
    "# ---- visualization ----\n",
    "import geoplot as gplt  # for plotting maps and geo-data\n",
    "import geoplot.crs as gcrs  #used to pull in webdata related to maps and geo-data\n",
    "import missingno as msno # creates a matrix chart to show missing values\n",
    "import plotly.express as px\n",
    "import plotly.graph_objects as go  # for subplot creation\n",
    "from plotly.subplots import make_subplots  # for subplot creation\n",
    "import matplotlib.pyplot as mplt  # use with gplt to save fig to pdf\n",
    "\n",
    "# ---- cleanup ----\n",
    "import re # string regular expression manipulation\n",
    "from datetime import datetime # date and time manipulation\n",
    "pd.set_option('display.max_columns', 999)  # How to display all columns of a Pandas DataFrame in Jupyter Notebook\n",
    "pd.set_option('display.float_format', lambda x: '%.5f' % x) # suppress scientific notation in Pandas"
   ]
  },
  {
   "cell_type": "code",
   "execution_count": null,
   "id": "14d2ac21",
   "metadata": {},
   "outputs": [],
   "source": [
    "# ---- working directory ----\n",
    "workingDirString = os.getcwd() # set working directory folder string here\n",
    "os.chdir(workingDirString)\n",
    "print(f'The working Directory is:', workingDirString)"
   ]
  },
  {
   "cell_type": "code",
   "execution_count": null,
   "id": "f24dccf3",
   "metadata": {},
   "outputs": [],
   "source": [
    "# ---- where to find input files ----\n",
    "InputFolderString = \"G:/Shared drives/WaDE Data/Oregon/Regulatory  # set this to where input files are located"
   ]
  },
  {
   "cell_type": "code",
   "execution_count": null,
   "id": "62de750e",
   "metadata": {},
   "outputs": [],
   "source": [
    "# Native Input Data\n",
    "#################################################################\n",
    "# ---- This needs to be custom per state ----\n",
    "\n",
    "# Data Set 1: oregon-water-resources-department-owrd-administrative-basins\n",
    "dfin1 = pd.read_csv(InputFolderString + '/RawinputData/oregon-water-resources-department-owrd-administrative-basins.zip') # will need name of souce input files"
   ]
  },
  {
   "cell_type": "code",
   "execution_count": null,
   "id": "ecbf2d48",
   "metadata": {},
   "outputs": [],
   "source": [
    "# WaDE Processed Input Data\n",
    "#################################################################\n",
    "\n",
    "dfru = pd.read_csv(InputFolderString + \"/ProcessedInputData/reportingunits.csv\").replace(np.nan, \"\")\n",
    "dfrupurge = pd.read_csv(InputFolderString + \"/ProcessedInputData/reportingunits_missing.csv\").replace(np.nan, \"\")\n",
    "\n",
    "dfro = pd.read_csv(InputFolderString + \"/ProcessedInputData/regulatoryoverlays.csv\").replace(np.nan, \"\")\n",
    "dfropurge = pd.read_csv(InputFolderString + \"/ProcessedInputData/regulatoryoverlays_missing.csv\").replace(np.nan, \"\")\n",
    "\n",
    "dfs = pd.read_csv(InputFolderString + \"/ProcessedInputData/sites.csv\").replace(np.nan, \"\")"
   ]
  },
  {
   "cell_type": "markdown",
   "id": "ce42e7a5",
   "metadata": {},
   "source": [
    "# Reporting Unit Info\n",
    "- reportingunits.csv"
   ]
  },
  {
   "cell_type": "code",
   "execution_count": null,
   "id": "7fafebfb",
   "metadata": {},
   "outputs": [],
   "source": [
    "print(len(dfru))\n",
    "dfru.head(1)"
   ]
  },
  {
   "cell_type": "code",
   "execution_count": null,
   "id": "93dfbef2",
   "metadata": {},
   "outputs": [],
   "source": [
    "# Check what columns contain missing information.\n",
    "#msno.matrix(dfru, figsize=(10,5), fontsize=10)\n",
    "msno.bar(dfru)"
   ]
  },
  {
   "cell_type": "code",
   "execution_count": null,
   "id": "dda35a49",
   "metadata": {},
   "outputs": [],
   "source": [
    "# Unique values for 'ReportingUnitName'\n",
    "for x in dfru['ReportingUnitName'].sort_values().unique():\n",
    "    print(f'\"' + x + '\",')"
   ]
  },
  {
   "cell_type": "code",
   "execution_count": null,
   "id": "c427b36b",
   "metadata": {},
   "outputs": [],
   "source": [
    "# Unique values for 'ReportingUnitNativeID'\n",
    "for x in dfru['ReportingUnitNativeID'].astype(str).sort_values().unique():\n",
    "    print(f'\"' + x + '\",')"
   ]
  },
  {
   "cell_type": "code",
   "execution_count": null,
   "id": "f887ed26",
   "metadata": {},
   "outputs": [],
   "source": [
    "# Unique values for 'ReportingUnitTypeCV'\n",
    "for x in dfru['ReportingUnitTypeCV'].sort_values().unique():\n",
    "    print(f'\"' + x + '\",')"
   ]
  },
  {
   "cell_type": "markdown",
   "id": "43f94051",
   "metadata": {},
   "source": [
    "# Regulatory Overlay Info\n",
    "- regulatoryoverlays.csv"
   ]
  },
  {
   "cell_type": "code",
   "execution_count": null,
   "id": "00742c31",
   "metadata": {},
   "outputs": [],
   "source": [
    "print(len(dfro))\n",
    "dfro.head(1)"
   ]
  },
  {
   "cell_type": "code",
   "execution_count": null,
   "id": "e369baf3",
   "metadata": {},
   "outputs": [],
   "source": [
    "# Check what columns contain missing information.\n",
    "#msno.matrix(dfro, figsize=(10,5), fontsize=10)\n",
    "msno.bar(dfro)"
   ]
  },
  {
   "cell_type": "code",
   "execution_count": null,
   "id": "11870cbe",
   "metadata": {},
   "outputs": [],
   "source": [
    "# Unique values for 'OversightAgency'\n",
    "for x in dfro['OversightAgency'].sort_values().unique():\n",
    "    print(f'\"' + x + '\",')"
   ]
  },
  {
   "cell_type": "code",
   "execution_count": null,
   "id": "4967fe2a",
   "metadata": {},
   "outputs": [],
   "source": [
    "# Unique values for 'RegulatoryName'\n",
    "for x in dfro['RegulatoryName'].sort_values().unique():\n",
    "    print(f'\"' + x + '\",')"
   ]
  },
  {
   "cell_type": "code",
   "execution_count": null,
   "id": "02ca6ba1",
   "metadata": {},
   "outputs": [],
   "source": [
    "# Unique values for 'RegulatoryOverlayNativeID'\n",
    "for x in dfro['RegulatoryOverlayNativeID'].astype(str).sort_values().unique():\n",
    "    print(f'\"' + x + '\",')"
   ]
  },
  {
   "cell_type": "code",
   "execution_count": null,
   "id": "780c96b1",
   "metadata": {},
   "outputs": [],
   "source": [
    "# Unique values for 'RegulatoryOverlayTypeCV'\n",
    "for x in dfro['RegulatoryOverlayTypeCV'].sort_values().unique():\n",
    "    print(f'\"' + x + '\",')"
   ]
  },
  {
   "cell_type": "code",
   "execution_count": null,
   "id": "8f08764f",
   "metadata": {},
   "outputs": [],
   "source": [
    "# Unique values for 'WaterSourceTypeCV'\n",
    "for x in dfro['WaterSourceTypeCV'].sort_values().unique():\n",
    "    print(f'\"' + x + '\",')"
   ]
  },
  {
   "cell_type": "markdown",
   "id": "d210db6f",
   "metadata": {},
   "source": [
    "# Site Info (related to Overlays)\n",
    "- sites.csv"
   ]
  },
  {
   "cell_type": "code",
   "execution_count": null,
   "id": "8139f0ff",
   "metadata": {},
   "outputs": [],
   "source": [
    "print(len(dfs))\n",
    "dfs.head(1)"
   ]
  },
  {
   "cell_type": "markdown",
   "id": "8772ee57",
   "metadata": {},
   "source": [
    "## Num of Record Summary"
   ]
  },
  {
   "cell_type": "code",
   "execution_count": null,
   "id": "199cfce0",
   "metadata": {},
   "outputs": [],
   "source": [
    "print(f\"Num of Source Entries (rows): \", len(dfin1))\n",
    "print(f\"Num of Identified Reporting Units: \", len(dfru))\n",
    "print(f\"Num of Identified Regulatory Overlays: \", len(dfro))"
   ]
  },
  {
   "cell_type": "markdown",
   "id": "6c8f031e",
   "metadata": {},
   "source": [
    "## Why Removed Records Summary"
   ]
  },
  {
   "cell_type": "code",
   "execution_count": null,
   "id": "1020895d",
   "metadata": {},
   "outputs": [],
   "source": [
    "print(\"---- Reasons why records were removed from reporting unit source info ----\")\n",
    "if len(dfrupurge) != 0:\n",
    "    print(dfrupurge['ReasonRemoved'].value_counts())\n",
    "else:\n",
    "    print(\"...nothing removed.\")"
   ]
  },
  {
   "cell_type": "code",
   "execution_count": null,
   "id": "969f2358",
   "metadata": {},
   "outputs": [],
   "source": [
    "print(\" ---- Reasons why records were removed from regula toryoverlays info ---- \")\n",
    "if len(dfropurge) != 0:\n",
    "    print(dfropurge['ReasonRemoved'].value_counts())\n",
    "else:\n",
    "    print(\"...nothing removed.\")"
   ]
  },
  {
   "cell_type": "markdown",
   "id": "6fd9f7f3",
   "metadata": {},
   "source": [
    "## Figures"
   ]
  },
  {
   "cell_type": "code",
   "execution_count": null,
   "id": "7f0fdccd",
   "metadata": {},
   "outputs": [],
   "source": [
    "# ReportingUnitName: histogram distribution of WaDE values\n",
    "print(dfru.ReportingUnitName.value_counts())\n",
    "\n",
    "fig = px.histogram(dfru, x=\"ReportingUnitName\")\n",
    "fig.update_layout(bargap=0.2,\n",
    "                  title=\"Histogram of ReportingUnitName Entries in reportingunits.csv\",\n",
    "                  xaxis_title=\"ReportingUnitName Value\",\n",
    "                  yaxis_title=\"# of entries\",\n",
    "                    font=dict(\n",
    "                        family=\"Arial Bold\",\n",
    "                        size=12,\n",
    "                        color=\"Black\")\n",
    "                 )\n",
    "fig.show()\n",
    "fig.write_image('figures/ReportingUnitName.png', engine=\"kaleido\")"
   ]
  },
  {
   "cell_type": "code",
   "execution_count": null,
   "id": "d592bfd9",
   "metadata": {},
   "outputs": [],
   "source": [
    "# ReportingUnitTypeCV: histogram distribution of WaDE values\n",
    "print(dfru.ReportingUnitTypeCV.value_counts())\n",
    "\n",
    "fig = px.histogram(dfru, x=\"ReportingUnitTypeCV\")\n",
    "fig.update_layout(bargap=0.2,\n",
    "                  title=\"Histogram of ReportingUnitTypeCV Entries in reportingunits.csv\",\n",
    "                  xaxis_title=\"ReportingUnitTypeCV Value\",\n",
    "                  yaxis_title=\"# of entries\",\n",
    "                    font=dict(\n",
    "                        family=\"Arial Bold\",\n",
    "                        size=12,\n",
    "                        color=\"Black\")\n",
    "                 )\n",
    "fig.show()\n",
    "fig.write_image('figures/ReportingUnitTypeCV.png', engine=\"kaleido\")"
   ]
  },
  {
   "cell_type": "code",
   "execution_count": null,
   "id": "f9fbb957",
   "metadata": {},
   "outputs": [],
   "source": [
    "# OversightAgency: histogram distribution of WaDE values\n",
    "print(dfro.OversightAgency.value_counts())\n",
    "\n",
    "fig = px.histogram(dfro, x=\"OversightAgency\")\n",
    "fig.update_layout(bargap=0.2,\n",
    "                  title=\"Histogram of OversightAgency Entries in regulatoryoverlays.csv\",\n",
    "                  xaxis_title=\"OversightAgency Value\",\n",
    "                  yaxis_title=\"# of entries\",\n",
    "                    font=dict(\n",
    "                        family=\"Arial Bold\",\n",
    "                        size=12,\n",
    "                        color=\"Black\")\n",
    "                 )\n",
    "fig.show()\n",
    "fig.write_image('figures/OversightAgency.png', engine=\"kaleido\")"
   ]
  },
  {
   "cell_type": "code",
   "execution_count": null,
   "id": "dfe63e20",
   "metadata": {},
   "outputs": [],
   "source": [
    "# RegulatoryName: histogram distribution of WaDE values\n",
    "print(dfro.RegulatoryName.value_counts())\n",
    "\n",
    "fig = px.histogram(dfro, x=\"RegulatoryName\")\n",
    "fig.update_layout(bargap=0.2,\n",
    "                  title=\"Histogram of RegulatoryName Entries in regulatoryoverlays.csv\",\n",
    "                  xaxis_title=\"RegulatoryName Value\",\n",
    "                  yaxis_title=\"# of entries\",\n",
    "                    font=dict(\n",
    "                        family=\"Arial Bold\",\n",
    "                        size=12,\n",
    "                        color=\"Black\")\n",
    "                 )\n",
    "fig.show()\n",
    "fig.write_image('figures/RegulatoryName.png', engine=\"kaleido\")"
   ]
  },
  {
   "cell_type": "code",
   "execution_count": null,
   "id": "e149d365",
   "metadata": {},
   "outputs": [],
   "source": [
    "# RegulatoryOverlayTypeCV: histogram distribution of WaDE values\n",
    "print(dfro.RegulatoryOverlayTypeCV.value_counts())\n",
    "\n",
    "fig = px.histogram(dfro, x=\"RegulatoryOverlayTypeCV\")\n",
    "fig.update_layout(bargap=0.2,\n",
    "                  title=\"Histogram of RegulatoryOverlayTypeCV Entries in regulatoryoverlays.csv\",\n",
    "                  xaxis_title=\"RegulatoryOverlayTypeCV Value\",\n",
    "                  yaxis_title=\"# of entries\",\n",
    "                    font=dict(\n",
    "                        family=\"Arial Bold\",\n",
    "                        size=12,\n",
    "                        color=\"Black\")\n",
    "                 )\n",
    "fig.show()\n",
    "fig.write_image('figures/RegulatoryOverlayTypeCV.png', engine=\"kaleido\")"
   ]
  },
  {
   "cell_type": "code",
   "execution_count": null,
   "id": "9f3bc530",
   "metadata": {},
   "outputs": [],
   "source": [
    "# RegulatoryOverlayUUIDs: histogram distribution of WaDE values\n",
    "print(dfs.RegulatoryOverlayUUIDs.value_counts())\n",
    "\n",
    "fig = px.histogram(dfs, x=\"RegulatoryOverlayUUIDs\")\n",
    "fig.update_layout(bargap=0.2,\n",
    "                  title=\"Histogram of RegulatoryOverlayUUIDs Entries in sites.csv\",\n",
    "                  xaxis_title=\"RegulatoryOverlayUUIDs Value\",\n",
    "                  yaxis_title=\"# of entries\",\n",
    "                  #legend_title=\"Legend Title\",\n",
    "                    font=dict(\n",
    "                        family=\"Arial Bold\",\n",
    "                        size=12,\n",
    "                        color=\"Black\")\n",
    "                 )\n",
    "fig.show()\n",
    "fig.write_image('figures/SiteRegulatoryOverlayUUIDs.png', engine=\"kaleido\")"
   ]
  },
  {
   "cell_type": "code",
   "execution_count": null,
   "id": "818c3b58",
   "metadata": {},
   "outputs": [],
   "source": [
    "# Map poly info\n",
    "\n",
    "dfruPoly = dfru.copy()\n",
    "dfruPoly = dfruPoly[dfruPoly['Geometry'] != \"\"].reset_index(drop=True)\n",
    "\n",
    "try:\n",
    "    contiguous_usa = gpd.read_file(gplt.datasets.get_path('contiguous_usa')) # use for background map in subplot\n",
    "    ax = gplt.webmap(contiguous_usa, projection=gcrs.WebMercator()) # set subplot\n",
    "\n",
    "    dfruPoly['Geometry'] = gpd.GeoSeries.from_wkt(dfruPoly['Geometry'], crs=\"EPSG:4326\")\n",
    "    gdfruPoly = gpd.GeoDataFrame(dfruPoly, geometry=dfruPoly['Geometry'], crs=\"EPSG:4326\") # covert to geodataframe\n",
    "    #gdfruPoly['Geometry'] = gdfruPoly.simplify(0.001) # simplify the geometry. Lower the number the larger the exported file.\n",
    "    gplt.polyplot(gdfruPoly, ax=ax)\n",
    "    mplt.savefig(format=\"png\", fname='figures/ReportingUnitMap.png') \n",
    "except:\n",
    "    print('No geometry data to plot')"
   ]
  },
  {
   "cell_type": "code",
   "execution_count": null,
   "id": "00bde125",
   "metadata": {},
   "outputs": [],
   "source": [
    "# map the site info (this would be lat & long Points only)\n",
    "\n",
    "dfsPoint = dfs.copy()\n",
    "dfsPoint = dfsPoint[dfsPoint['RegulatoryOverlayUUIDs'] != \"\"]\n",
    "    \n",
    "try:\n",
    "    contiguous_usa = gpd.read_file(gplt.datasets.get_path('contiguous_usa')) # use for background map in subplot\n",
    "    ax = gplt.webmap(contiguous_usa, projection=gcrs.WebMercator()) # set subplot\n",
    "    \n",
    "    gdfsPoint = gpd.GeoDataFrame(dfsPoint, geometry=gpd.points_from_xy(dfsPoint.Longitude.astype(float), dfsPoint.Latitude.astype(float)), crs=\"EPSG:4326\")\n",
    "    gplt.pointplot(gdfsPoint, hue='PODorPOUSite', legend=True, legend_var='hue', ax=ax)\n",
    "    mplt.savefig(format=\"png\", fname='figures/PointInRegMap.png') \n",
    "    \n",
    "except:\n",
    "    print('No point data to plot')"
   ]
  },
  {
   "cell_type": "markdown",
   "id": "5c080897",
   "metadata": {},
   "source": [
    "# Custom Queries and Analysis for this Dataset"
   ]
  },
  {
   "cell_type": "code",
   "execution_count": null,
   "id": "f5661603",
   "metadata": {
    "scrolled": true
   },
   "outputs": [],
   "source": [
    "# asdf"
   ]
  }
 ],
 "metadata": {
  "kernelspec": {
   "display_name": "Python 3 (ipykernel)",
   "language": "python",
   "name": "python3"
  },
  "language_info": {
   "codemirror_mode": {
    "name": "ipython",
    "version": 3
   },
   "file_extension": ".py",
   "mimetype": "text/x-python",
   "name": "python",
   "nbconvert_exporter": "python",
   "pygments_lexer": "ipython3",
   "version": "3.9.18"
  }
 },
 "nbformat": 4,
 "nbformat_minor": 5
}
