{
 "cells": [
  {
   "cell_type": "markdown",
   "metadata": {},
   "source": [
    "# KS Regulatory Data\n",
    "\n",
    "Preprocessing input data for a smoother upload experience of the state data to the WaDE 2.0 database.\n",
    "Using geopandas to read in shp file, and coverting to WKT for ReportingUnit geometry.\n",
    "\n",
    "Notes:\n",
    "- WKT will be in it's own separate geometery dataframe."
   ]
  },
  {
   "cell_type": "code",
   "execution_count": 1,
   "metadata": {},
   "outputs": [],
   "source": [
    "#Needed Libararies\n",
    "import os\n",
    "import numpy as np\n",
    "import pandas as pd\n",
    "from datetime import datetime\n",
    "import geopandas as gpd # the library that lets us read in shapefiles\n",
    "pd.set_option('display.max_columns', 999)  # How to display all columns of a Pandas DataFrame in Jupyter Notebook\n",
    "\n",
    "#Setting work directory, reading inputs, creating dataframe\n",
    "workingDir = \"C:/Users/rjame/Documents/WSWC Documents/MappingStatesDataToWaDE2.0/Kansas/Regulatory/RawInputData\"\n",
    "os.chdir(workingDir)"
   ]
  },
  {
   "cell_type": "markdown",
   "metadata": {},
   "source": [
    "## Interstate Stream Compact Regions\n",
    "- Filled in some of the data manualy from info from here: https://www.kgs.ku.edu/Hydro/gmd.html."
   ]
  },
  {
   "cell_type": "code",
   "execution_count": 3,
   "metadata": {},
   "outputs": [
    {
     "name": "stdout",
     "output_type": "stream",
     "text": [
      "5\n"
     ]
    },
    {
     "data": {
      "text/html": [
       "<div>\n",
       "<style scoped>\n",
       "    .dataframe tbody tr th:only-of-type {\n",
       "        vertical-align: middle;\n",
       "    }\n",
       "\n",
       "    .dataframe tbody tr th {\n",
       "        vertical-align: top;\n",
       "    }\n",
       "\n",
       "    .dataframe thead th {\n",
       "        text-align: right;\n",
       "    }\n",
       "</style>\n",
       "<table border=\"1\" class=\"dataframe\">\n",
       "  <thead>\n",
       "    <tr style=\"text-align: right;\">\n",
       "      <th></th>\n",
       "      <th>OID_</th>\n",
       "      <th>OBJECTID</th>\n",
       "      <th>AREA</th>\n",
       "      <th>PERIMETER</th>\n",
       "      <th>GMD_</th>\n",
       "      <th>GMD_ID</th>\n",
       "      <th>NAME</th>\n",
       "      <th>SYM</th>\n",
       "      <th>SQ_MILES</th>\n",
       "      <th>Shape_Leng</th>\n",
       "      <th>Shape_Area</th>\n",
       "      <th>in_OversightAgency</th>\n",
       "      <th>in_RegulatoryDescription</th>\n",
       "      <th>in_RegulatoryName</th>\n",
       "      <th>in_RegulatoryStatuteLink</th>\n",
       "      <th>in_StatutoryEffectiveDate</th>\n",
       "      <th>in_RegulatoryOverlayTypeCV</th>\n",
       "      <th>in_WaterSourceTypeCV</th>\n",
       "    </tr>\n",
       "  </thead>\n",
       "  <tbody>\n",
       "    <tr>\n",
       "      <th>0</th>\n",
       "      <td>1</td>\n",
       "      <td>2</td>\n",
       "      <td>4734380032</td>\n",
       "      <td>472221</td>\n",
       "      <td>3</td>\n",
       "      <td>1</td>\n",
       "      <td>Western Kansas GMD #1</td>\n",
       "      <td>82</td>\n",
       "      <td>1848.314936</td>\n",
       "      <td>5.059135</td>\n",
       "      <td>0.494811</td>\n",
       "      <td>Western Kansas Groundwater Management</td>\n",
       "      <td>Groundwater Management Districts</td>\n",
       "      <td>Western Kansas GMD #1</td>\n",
       "      <td>http://www.gmd1.org/</td>\n",
       "      <td>1/1/1970</td>\n",
       "      <td>Groundwater Management Districts</td>\n",
       "      <td>Groundwater</td>\n",
       "    </tr>\n",
       "    <tr>\n",
       "      <th>1</th>\n",
       "      <td>0</td>\n",
       "      <td>1</td>\n",
       "      <td>3543389952</td>\n",
       "      <td>392530</td>\n",
       "      <td>2</td>\n",
       "      <td>2</td>\n",
       "      <td>Equus Beds GMD #2</td>\n",
       "      <td>57</td>\n",
       "      <td>1722.231121</td>\n",
       "      <td>3.635700</td>\n",
       "      <td>0.457862</td>\n",
       "      <td>Equus Beds Groundwater Management</td>\n",
       "      <td>Groundwater Management Districts</td>\n",
       "      <td>Equus Beds GMD #2</td>\n",
       "      <td>http://www.gmd2.org/</td>\n",
       "      <td>1/1/1970</td>\n",
       "      <td>Groundwater Management Districts</td>\n",
       "      <td>Groundwater</td>\n",
       "    </tr>\n",
       "    <tr>\n",
       "      <th>2</th>\n",
       "      <td>4</td>\n",
       "      <td>5</td>\n",
       "      <td>21604399104</td>\n",
       "      <td>742771</td>\n",
       "      <td>6</td>\n",
       "      <td>3</td>\n",
       "      <td>Southwest Kansas GMD #3</td>\n",
       "      <td>57</td>\n",
       "      <td>8427.346468</td>\n",
       "      <td>7.748317</td>\n",
       "      <td>2.226546</td>\n",
       "      <td>Southwest Kansas Groundwater Management</td>\n",
       "      <td>Groundwater Management Districts</td>\n",
       "      <td>Southwest Kansas GMD #3</td>\n",
       "      <td>http://www.gmd3.org/</td>\n",
       "      <td>1/1/1970</td>\n",
       "      <td>Groundwater Management Districts</td>\n",
       "      <td>Groundwater</td>\n",
       "    </tr>\n",
       "  </tbody>\n",
       "</table>\n",
       "</div>"
      ],
      "text/plain": [
       "   OID_  OBJECTID         AREA  PERIMETER  GMD_  GMD_ID  \\\n",
       "0     1         2   4734380032     472221     3       1   \n",
       "1     0         1   3543389952     392530     2       2   \n",
       "2     4         5  21604399104     742771     6       3   \n",
       "\n",
       "                      NAME  SYM     SQ_MILES  Shape_Leng  Shape_Area  \\\n",
       "0    Western Kansas GMD #1   82  1848.314936    5.059135    0.494811   \n",
       "1        Equus Beds GMD #2   57  1722.231121    3.635700    0.457862   \n",
       "2  Southwest Kansas GMD #3   57  8427.346468    7.748317    2.226546   \n",
       "\n",
       "                        in_OversightAgency          in_RegulatoryDescription  \\\n",
       "0    Western Kansas Groundwater Management  Groundwater Management Districts   \n",
       "1        Equus Beds Groundwater Management  Groundwater Management Districts   \n",
       "2  Southwest Kansas Groundwater Management  Groundwater Management Districts   \n",
       "\n",
       "         in_RegulatoryName in_RegulatoryStatuteLink in_StatutoryEffectiveDate  \\\n",
       "0    Western Kansas GMD #1     http://www.gmd1.org/                  1/1/1970   \n",
       "1        Equus Beds GMD #2     http://www.gmd2.org/                  1/1/1970   \n",
       "2  Southwest Kansas GMD #3     http://www.gmd3.org/                  1/1/1970   \n",
       "\n",
       "         in_RegulatoryOverlayTypeCV in_WaterSourceTypeCV  \n",
       "0  Groundwater Management Districts          Groundwater  \n",
       "1  Groundwater Management Districts          Groundwater  \n",
       "2  Groundwater Management Districts          Groundwater  "
      ]
     },
     "execution_count": 3,
     "metadata": {},
     "output_type": "execute_result"
    }
   ],
   "source": [
    "#CSV input file\n",
    "fileInput = \"Groundwater_Districts_input.csv\"\n",
    "\n",
    "df = pd.read_csv(fileInput)\n",
    "print(len(df))\n",
    "df.head(3)"
   ]
  },
  {
   "cell_type": "code",
   "execution_count": 5,
   "metadata": {},
   "outputs": [],
   "source": [
    "df_out = df"
   ]
  },
  {
   "cell_type": "markdown",
   "metadata": {},
   "source": [
    "# Shapefile Data"
   ]
  },
  {
   "cell_type": "code",
   "execution_count": 6,
   "metadata": {
    "scrolled": true
   },
   "outputs": [
    {
     "name": "stdout",
     "output_type": "stream",
     "text": [
      "5\n"
     ]
    },
    {
     "data": {
      "text/html": [
       "<div>\n",
       "<style scoped>\n",
       "    .dataframe tbody tr th:only-of-type {\n",
       "        vertical-align: middle;\n",
       "    }\n",
       "\n",
       "    .dataframe tbody tr th {\n",
       "        vertical-align: top;\n",
       "    }\n",
       "\n",
       "    .dataframe thead th {\n",
       "        text-align: right;\n",
       "    }\n",
       "</style>\n",
       "<table border=\"1\" class=\"dataframe\">\n",
       "  <thead>\n",
       "    <tr style=\"text-align: right;\">\n",
       "      <th></th>\n",
       "      <th>OBJECTID</th>\n",
       "      <th>AREA</th>\n",
       "      <th>PERIMETER</th>\n",
       "      <th>GMD_</th>\n",
       "      <th>GMD_ID</th>\n",
       "      <th>NAME</th>\n",
       "      <th>SYM</th>\n",
       "      <th>SQ_MILES</th>\n",
       "      <th>Shape_Leng</th>\n",
       "      <th>Shape_Area</th>\n",
       "      <th>geometry</th>\n",
       "    </tr>\n",
       "  </thead>\n",
       "  <tbody>\n",
       "    <tr>\n",
       "      <th>0</th>\n",
       "      <td>1</td>\n",
       "      <td>3.543390e+09</td>\n",
       "      <td>392530.0</td>\n",
       "      <td>2</td>\n",
       "      <td>2</td>\n",
       "      <td>Equus Beds GMD #2</td>\n",
       "      <td>57</td>\n",
       "      <td>1722.231121</td>\n",
       "      <td>3.635700</td>\n",
       "      <td>0.457862</td>\n",
       "      <td>POLYGON ((-98.14224 38.17362, -98.03243 38.173...</td>\n",
       "    </tr>\n",
       "    <tr>\n",
       "      <th>1</th>\n",
       "      <td>2</td>\n",
       "      <td>4.734380e+09</td>\n",
       "      <td>472221.0</td>\n",
       "      <td>3</td>\n",
       "      <td>1</td>\n",
       "      <td>Western Kansas GMD #1</td>\n",
       "      <td>82</td>\n",
       "      <td>1848.314936</td>\n",
       "      <td>5.059135</td>\n",
       "      <td>0.494811</td>\n",
       "      <td>POLYGON ((-102.00183 38.91551, -101.98174 38.9...</td>\n",
       "    </tr>\n",
       "    <tr>\n",
       "      <th>2</th>\n",
       "      <td>3</td>\n",
       "      <td>1.262240e+10</td>\n",
       "      <td>626362.0</td>\n",
       "      <td>4</td>\n",
       "      <td>4</td>\n",
       "      <td>Northwest Kansas GMD #4</td>\n",
       "      <td>82</td>\n",
       "      <td>4927.368570</td>\n",
       "      <td>6.785530</td>\n",
       "      <td>1.334546</td>\n",
       "      <td>POLYGON ((-102.00039 39.87234, -101.27959 39.8...</td>\n",
       "    </tr>\n",
       "    <tr>\n",
       "      <th>3</th>\n",
       "      <td>4</td>\n",
       "      <td>1.011940e+10</td>\n",
       "      <td>587835.0</td>\n",
       "      <td>5</td>\n",
       "      <td>5</td>\n",
       "      <td>Big Bend GMD #5</td>\n",
       "      <td>82</td>\n",
       "      <td>3945.658099</td>\n",
       "      <td>6.120936</td>\n",
       "      <td>1.048748</td>\n",
       "      <td>POLYGON ((-98.47964 38.52198, -98.47953 38.304...</td>\n",
       "    </tr>\n",
       "    <tr>\n",
       "      <th>4</th>\n",
       "      <td>5</td>\n",
       "      <td>2.160440e+10</td>\n",
       "      <td>742771.0</td>\n",
       "      <td>6</td>\n",
       "      <td>3</td>\n",
       "      <td>Southwest Kansas GMD #3</td>\n",
       "      <td>57</td>\n",
       "      <td>8427.346468</td>\n",
       "      <td>7.748317</td>\n",
       "      <td>2.226546</td>\n",
       "      <td>POLYGON ((-101.07029 38.26463, -101.00045 38.2...</td>\n",
       "    </tr>\n",
       "  </tbody>\n",
       "</table>\n",
       "</div>"
      ],
      "text/plain": [
       "   OBJECTID          AREA  PERIMETER  GMD_  GMD_ID                     NAME  \\\n",
       "0         1  3.543390e+09   392530.0     2       2        Equus Beds GMD #2   \n",
       "1         2  4.734380e+09   472221.0     3       1    Western Kansas GMD #1   \n",
       "2         3  1.262240e+10   626362.0     4       4  Northwest Kansas GMD #4   \n",
       "3         4  1.011940e+10   587835.0     5       5          Big Bend GMD #5   \n",
       "4         5  2.160440e+10   742771.0     6       3  Southwest Kansas GMD #3   \n",
       "\n",
       "   SYM     SQ_MILES  Shape_Leng  Shape_Area  \\\n",
       "0   57  1722.231121    3.635700    0.457862   \n",
       "1   82  1848.314936    5.059135    0.494811   \n",
       "2   82  4927.368570    6.785530    1.334546   \n",
       "3   82  3945.658099    6.120936    1.048748   \n",
       "4   57  8427.346468    7.748317    2.226546   \n",
       "\n",
       "                                            geometry  \n",
       "0  POLYGON ((-98.14224 38.17362, -98.03243 38.173...  \n",
       "1  POLYGON ((-102.00183 38.91551, -101.98174 38.9...  \n",
       "2  POLYGON ((-102.00039 39.87234, -101.27959 39.8...  \n",
       "3  POLYGON ((-98.47964 38.52198, -98.47953 38.304...  \n",
       "4  POLYGON ((-101.07029 38.26463, -101.00045 38.2...  "
      ]
     },
     "execution_count": 6,
     "metadata": {},
     "output_type": "execute_result"
    }
   ],
   "source": [
    "# Interstate Stream Compact Regions\n",
    "\n",
    "ShapeFile = \"ShapefileData/Groundwater_Districts.shp\"\n",
    "dfShape = gpd.read_file(ShapeFile)\n",
    "\n",
    "print(len(dfShape))\n",
    "dfShape.head()"
   ]
  },
  {
   "cell_type": "code",
   "execution_count": 8,
   "metadata": {},
   "outputs": [
    {
     "name": "stdout",
     "output_type": "stream",
     "text": [
      "5\n"
     ]
    },
    {
     "data": {
      "text/html": [
       "<div>\n",
       "<style scoped>\n",
       "    .dataframe tbody tr th:only-of-type {\n",
       "        vertical-align: middle;\n",
       "    }\n",
       "\n",
       "    .dataframe tbody tr th {\n",
       "        vertical-align: top;\n",
       "    }\n",
       "\n",
       "    .dataframe thead th {\n",
       "        text-align: right;\n",
       "    }\n",
       "</style>\n",
       "<table border=\"1\" class=\"dataframe\">\n",
       "  <thead>\n",
       "    <tr style=\"text-align: right;\">\n",
       "      <th></th>\n",
       "      <th>GMD_ID</th>\n",
       "      <th>NAME</th>\n",
       "      <th>geometry</th>\n",
       "    </tr>\n",
       "  </thead>\n",
       "  <tbody>\n",
       "    <tr>\n",
       "      <th>0</th>\n",
       "      <td>2</td>\n",
       "      <td>Equus Beds Gmd #2</td>\n",
       "      <td>POLYGON ((-98.14224 38.17362, -98.03243 38.173...</td>\n",
       "    </tr>\n",
       "    <tr>\n",
       "      <th>1</th>\n",
       "      <td>1</td>\n",
       "      <td>Western Kansas Gmd #1</td>\n",
       "      <td>POLYGON ((-102.00183 38.91551, -101.98174 38.9...</td>\n",
       "    </tr>\n",
       "    <tr>\n",
       "      <th>2</th>\n",
       "      <td>4</td>\n",
       "      <td>Northwest Kansas Gmd #4</td>\n",
       "      <td>POLYGON ((-102.00039 39.87234, -101.27959 39.8...</td>\n",
       "    </tr>\n",
       "    <tr>\n",
       "      <th>3</th>\n",
       "      <td>5</td>\n",
       "      <td>Big Bend Gmd #5</td>\n",
       "      <td>POLYGON ((-98.47964 38.52198, -98.47953 38.304...</td>\n",
       "    </tr>\n",
       "    <tr>\n",
       "      <th>4</th>\n",
       "      <td>3</td>\n",
       "      <td>Southwest Kansas Gmd #3</td>\n",
       "      <td>POLYGON ((-101.07029 38.26463, -101.00045 38.2...</td>\n",
       "    </tr>\n",
       "  </tbody>\n",
       "</table>\n",
       "</div>"
      ],
      "text/plain": [
       "   GMD_ID                     NAME  \\\n",
       "0       2        Equus Beds Gmd #2   \n",
       "1       1    Western Kansas Gmd #1   \n",
       "2       4  Northwest Kansas Gmd #4   \n",
       "3       5          Big Bend Gmd #5   \n",
       "4       3  Southwest Kansas Gmd #3   \n",
       "\n",
       "                                            geometry  \n",
       "0  POLYGON ((-98.14224 38.17362, -98.03243 38.173...  \n",
       "1  POLYGON ((-102.00183 38.91551, -101.98174 38.9...  \n",
       "2  POLYGON ((-102.00039 39.87234, -101.27959 39.8...  \n",
       "3  POLYGON ((-98.47964 38.52198, -98.47953 38.304...  \n",
       "4  POLYGON ((-101.07029 38.26463, -101.00045 38.2...  "
      ]
     },
     "execution_count": 8,
     "metadata": {},
     "output_type": "execute_result"
    }
   ],
   "source": [
    "# Interstate Stream Compact Regions output shapefile dataframe\n",
    "columnList = ['GMD_ID', \n",
    "              'NAME',\n",
    "              'geometry']\n",
    "dfShape_2 = pd.DataFrame(columns=columnList, index=dfShape.index)\n",
    "\n",
    "dfShape_2['GMD_ID'] = dfShape['GMD_ID']\n",
    "dfShape_2['NAME'] = dfShape['NAME'].str.title()\n",
    "dfShape_2['geometry'] = dfShape['geometry']\n",
    "\n",
    "print(len(dfShape_2))\n",
    "dfShape_2.head()"
   ]
  },
  {
   "cell_type": "markdown",
   "metadata": {},
   "source": [
    "### Inspect Output Data & Export"
   ]
  },
  {
   "cell_type": "code",
   "execution_count": 9,
   "metadata": {
    "scrolled": false
   },
   "outputs": [
    {
     "name": "stdout",
     "output_type": "stream",
     "text": [
      "OID_                            int64\n",
      "OBJECTID                        int64\n",
      "AREA                            int64\n",
      "PERIMETER                       int64\n",
      "GMD_                            int64\n",
      "GMD_ID                          int64\n",
      "NAME                           object\n",
      "SYM                             int64\n",
      "SQ_MILES                      float64\n",
      "Shape_Leng                    float64\n",
      "Shape_Area                    float64\n",
      "in_OversightAgency             object\n",
      "in_RegulatoryDescription       object\n",
      "in_RegulatoryName              object\n",
      "in_RegulatoryStatuteLink       object\n",
      "in_StatutoryEffectiveDate      object\n",
      "in_RegulatoryOverlayTypeCV     object\n",
      "in_WaterSourceTypeCV           object\n",
      "dtype: object\n"
     ]
    }
   ],
   "source": [
    "with pd.option_context('display.max_rows', None, 'display.max_columns', None):\n",
    "    print(df_out.dtypes)"
   ]
  },
  {
   "cell_type": "code",
   "execution_count": 10,
   "metadata": {},
   "outputs": [
    {
     "name": "stdout",
     "output_type": "stream",
     "text": [
      "GMD_ID         int64\n",
      "NAME          object\n",
      "geometry    geometry\n",
      "dtype: object\n"
     ]
    }
   ],
   "source": [
    "with pd.option_context('display.max_rows', None, 'display.max_columns', None):\n",
    "    print(dfShape_2.dtypes)"
   ]
  },
  {
   "cell_type": "code",
   "execution_count": 12,
   "metadata": {},
   "outputs": [],
   "source": [
    "# Export out to CSV.\n",
    "df_out.to_csv('P_ksRegMaster.csv', index=False) # The output.\n",
    "dfShape_2.to_csv('P_ksRegGeometry.csv', index=False) # The output geometry."
   ]
  }
 ],
 "metadata": {
  "kernelspec": {
   "display_name": "Python 3",
   "language": "python",
   "name": "python3"
  },
  "language_info": {
   "codemirror_mode": {
    "name": "ipython",
    "version": 3
   },
   "file_extension": ".py",
   "mimetype": "text/x-python",
   "name": "python",
   "nbconvert_exporter": "python",
   "pygments_lexer": "ipython3",
   "version": "3.8.5"
  }
 },
 "nbformat": 4,
 "nbformat_minor": 4
}
