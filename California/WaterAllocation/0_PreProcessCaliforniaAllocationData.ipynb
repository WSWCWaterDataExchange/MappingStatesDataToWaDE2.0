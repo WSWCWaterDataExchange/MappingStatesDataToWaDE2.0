{
 "cells": [
  {
   "cell_type": "markdown",
   "metadata": {},
   "source": [
    "# Pre-processing California Allocation data for WaDEQA upload.\n",
    "Date Updated: 01/12/2021\n",
    "Purpose:  To pre-process the California data into one master file for simple DataFrame creation and extraction\n",
    "\n",
    "Notes:\n",
    "asfd"
   ]
  },
  {
   "cell_type": "code",
   "execution_count": null,
   "metadata": {},
   "outputs": [],
   "source": [
    "#Needed Libararies\n",
    "import os\n",
    "import numpy as np\n",
    "import pandas as pd\n",
    "from datetime import datetime\n",
    "pd.set_option('display.max_columns', 999)  # How to display all columns of a Pandas DataFrame in Jupyter Notebook"
   ]
  },
  {
   "cell_type": "code",
   "execution_count": null,
   "metadata": {},
   "outputs": [],
   "source": [
    "#Working Directory and Input File\n",
    "workingDir = \"C:/Users/rjame/Documents/WSWC Documents/MappingStatesDataToWaDE2.0/California/WaterAllocation/RawInputData\"\n",
    "os.chdir(workingDir)\n",
    "\n",
    "fileInput1 = \"EWRIMS MASTER FLAT FILE DATA DICTIONARY DRAFT 1-17-20.xlsx\" \n",
    "\n",
    "df = pd.read_excel(fileInput1, header=0, sheet_name=\"ewrims_flat_file\", skiprows=0).replace(np.nan, '')\n",
    "df"
   ]
  },
  {
   "cell_type": "code",
   "execution_count": null,
   "metadata": {},
   "outputs": [],
   "source": [
    "print(\"Allocation priority date...\")\n",
    "\n",
    "def formatDateString(inString1):\n",
    "    inString = str(inString1).strip()\n",
    "    try:\n",
    "        if inString == '' or pd.isnull(inString):\n",
    "            valndf = ''\n",
    "        else:\n",
    "            valD = pd.to_datetime(inString) # Also valD = parse(inString) #--datetuil.parser.parse\n",
    "            valnDd = valD.date()\n",
    "            valndf = valnDd.strftime('%m/%d/%Y')\n",
    "    except:\n",
    "        valndf = ''\n",
    "    return valndf\n",
    "\n",
    "df['in_AllocationPriorityDate'] = df.apply(lambda row: formatDateString(row['PRIORITY_DATE']) if str(row['PRIORITY_DATE']) != ''else formatDateString(row['APPLICATION_ACCEPTANCE_DATE']), axis=1)\n",
    "df.head(3)"
   ]
  },
  {
   "cell_type": "code",
   "execution_count": null,
   "metadata": {},
   "outputs": [],
   "source": [
    "print(\"Timeframe start and time frame end...\")\n",
    "\n",
    "def formatDateString2(inString1):\n",
    "    inString = str(inString1).strip()\n",
    "    try:\n",
    "        if inString == '' or pd.isnull(inString):\n",
    "            valndf = ''\n",
    "        else:            \n",
    "            valD = pd.to_datetime(inString)\n",
    "            valnDd = valD.date()\n",
    "            valndf = valnDd.strftime('%m/%d')\n",
    "    except:\n",
    "        valndf = ''\n",
    "    return valndf\n",
    "\n",
    "df['in_AllocationTimeframeStart'] = df.apply(lambda row: formatDateString2(row['DIRECT_DIV_SEASON_START']), axis=1)\n",
    "df['in_AllocationTimeframeEnd'] = df.apply(lambda row: formatDateString2(row['DIRECT_DIV_SEASON_END']), axis=1)\n",
    "df.head(3)"
   ]
  },
  {
   "cell_type": "code",
   "execution_count": null,
   "metadata": {},
   "outputs": [],
   "source": [
    "print(\"Allocation amount adjust units\")\n",
    "\n",
    "def assignAllocAmount(inString1, inString2):\n",
    "    convFact1 = 0.00222800926  # Gallons Per Minute (GPM) to CFS\n",
    "    convFact2 = 1.5472e-6  # Gallons per day (GPD) to CFS\n",
    "    rowVal = str(inString1).strip()\n",
    "    unitVal = str(inString2).strip()\n",
    "    if rowVal == '':\n",
    "        retVal = ''\n",
    "    else:\n",
    "        if unitVal =='Gallons per Minute':\n",
    "            retVal = float(rowVal) * convFact1\n",
    "        elif unitVal =='Gallons per Day':\n",
    "            retVal = float(rowVal) * convFact2\n",
    "        else:        #unitVal =='Cubic Feet per Second' OR empty (?)\n",
    "            retVal = float(rowVal)\n",
    "    return retVal\n",
    "\n",
    "df['in_AllocationAmount'] = df.apply(lambda row: assignAllocAmount(row['MAX_RATE_OF_DIVERSION'], row['MAX_RATE_OF_DIV_UNIT']), axis=1)\n",
    "df.head(3)"
   ]
  },
  {
   "cell_type": "code",
   "execution_count": null,
   "metadata": {},
   "outputs": [],
   "source": [
    "# Creating WaDE Custom water source native ID for easy water source identification\n",
    "# ----------------------------------------------------------------------------------------------------\n",
    "\n",
    "# Create temp WaterSourceNativeID dataframe of unique water source.\n",
    "def assignWaterSourceNativeID(colrowValue):\n",
    "    string1 = str(colrowValue)\n",
    "    outstring = \"WaDEWY_WS\" + string1\n",
    "    return outstring\n",
    "\n",
    "dfWaterSourceNativeID = pd.DataFrame()\n",
    "dfWaterSourceNativeID['in_WaterSourceName'] = dfout['in_WaterSourceName']\n",
    "dfWaterSourceNativeID['in_WaterSourceTypeCV'] = dfout['in_WaterSourceTypeCV']\n",
    "dfWaterSourceNativeID = dfWaterSourceNativeID.drop_duplicates()\n",
    "\n",
    "dftemp = pd.DataFrame(index=dfWaterSourceNativeID.index)\n",
    "dftemp[\"Count\"] = range(1, len(dftemp.index) + 1)\n",
    "dfWaterSourceNativeID['in_WaterSourceNativeID'] = dftemp.apply(lambda row: assignWaterSourceNativeID(row['Count']), axis=1)\n",
    "\n",
    "# ----------------------------------------------------------------------------------------------------\n",
    "\n",
    "# Retreive WaDE Custom water source native ID\n",
    "def retrieveWaterSourceNativeID(A, B):\n",
    "    if (A == '' and B == '') or (pd.isnull(A) and pd.isnull(B)):\n",
    "        outList = ''\n",
    "    else:\n",
    "        ml = dfWaterSourceNativeID.loc[(dfWaterSourceNativeID['in_WaterSourceName'] == A) & \n",
    "                                       (dfWaterSourceNativeID['in_WaterSourceTypeCV'] == B), 'in_WaterSourceNativeID']\n",
    "        if not (ml.empty):  # check if the series is empty\n",
    "            outList = ml.iloc[0]\n",
    "        else:\n",
    "            outList = ''\n",
    "    return outList\n",
    "\n",
    "dfout['in_WaterSourceNativeID'] = dfout.apply(lambda row: retrieveWaterSourceNativeID( row['in_WaterSourceName'], row['in_WaterSourceTypeCV']), axis=1)\n",
    "dfout"
   ]
  },
  {
   "cell_type": "code",
   "execution_count": null,
   "metadata": {},
   "outputs": [],
   "source": [
    "# Creating WaDE Custom water source native ID for easy water source identification\n",
    "# ----------------------------------------------------------------------------------------------------\n",
    "\n",
    "# Create temp WaterSourceNativeID dataframe of unique water source.\n",
    "def assignWaterSourceNativeID(colrowValue):\n",
    "    string1 = str(colrowValue)\n",
    "    outstring = \"WaDECA_WS\" + string1\n",
    "    return outstring\n",
    "\n",
    "dfWaterSourceNativeID = pd.DataFrame()\n",
    "dfWaterSourceNativeID['in_WaterSourceName'] = df['SOURCE_NAME']\n",
    "dfWaterSourceNativeID['in_WaterSourceTypeCV'] = df['SOURCE_TYPE']\n",
    "dfWaterSourceNativeID = dfWaterSourceNativeID.drop_duplicates()\n",
    "\n",
    "dftemp = pd.DataFrame(index=dfWaterSourceNativeID.index)\n",
    "dftemp[\"Count\"] = range(1, len(dftemp.index) + 1)\n",
    "dfWaterSourceNativeID['in_WaterSourceNativeID'] = dftemp.apply(lambda row: assignWaterSourceNativeID(row['Count']), axis=1)\n",
    "\n",
    "# ----------------------------------------------------------------------------------------------------\n",
    "\n",
    "# Retreive WaDE Custom water source native ID\n",
    "def retrieveWaterSourceNativeID(A, B):\n",
    "    ml = dfWaterSourceNativeID.loc[(dfWaterSourceNativeID['in_WaterSourceName'] == A) & \n",
    "                                   (dfWaterSourceNativeID['in_WaterSourceTypeCV'] == B), 'in_WaterSourceNativeID']\n",
    "    if not (ml.empty):  # check if the series is empty\n",
    "        outList = ml.iloc[0]\n",
    "    else:\n",
    "        outList = ''\n",
    "    return outList\n",
    "\n",
    "df['in_WaterSourceNativeID'] = df.apply(lambda row: retrieveWaterSourceNativeID( row['SOURCE_NAME'], row['SOURCE_TYPE']), axis=1)\n",
    "df"
   ]
  },
  {
   "cell_type": "markdown",
   "metadata": {},
   "source": [
    "## Export Outputs"
   ]
  },
  {
   "cell_type": "code",
   "execution_count": null,
   "metadata": {},
   "outputs": [],
   "source": [
    "with pd.option_context('display.max_rows', None, 'display.max_columns', None):\n",
    "    print(df.dtypes)"
   ]
  },
  {
   "cell_type": "code",
   "execution_count": null,
   "metadata": {},
   "outputs": [],
   "source": [
    "#Exporting to Finished File\n",
    "df.to_csv('P_CaliforniaMaster.csv', index=False)  # The output"
   ]
  },
  {
   "cell_type": "code",
   "execution_count": null,
   "metadata": {},
   "outputs": [],
   "source": []
  }
 ],
 "metadata": {
  "kernelspec": {
   "display_name": "Python 3",
   "language": "python",
   "name": "python3"
  },
  "language_info": {
   "codemirror_mode": {
    "name": "ipython",
    "version": 3
   },
   "file_extension": ".py",
   "mimetype": "text/x-python",
   "name": "python",
   "nbconvert_exporter": "python",
   "pygments_lexer": "ipython3",
   "version": "3.8.5"
  }
 },
 "nbformat": 4,
 "nbformat_minor": 2
}
