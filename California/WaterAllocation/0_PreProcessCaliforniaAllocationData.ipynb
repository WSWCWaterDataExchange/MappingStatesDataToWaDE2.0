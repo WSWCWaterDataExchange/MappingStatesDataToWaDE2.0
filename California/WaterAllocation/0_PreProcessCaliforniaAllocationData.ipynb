{
 "cells": [
  {
   "cell_type": "markdown",
   "metadata": {},
   "source": [
    "# Pre-processing California Allocation data for WaDEQA upload.\n",
    "Date Updated: 07/21/2021\n",
    "Purpose:  To pre-process the California data into one master file for simple DataFrame creation and extraction\n",
    "\n",
    "Notes:\n",
    "- asdf"
   ]
  },
  {
   "cell_type": "code",
   "execution_count": null,
   "metadata": {},
   "outputs": [],
   "source": [
    "#Needed Libararies\n",
    "import os\n",
    "import numpy as np\n",
    "import pandas as pd\n",
    "from datetime import datetime\n",
    "pd.set_option('display.max_columns', 999)  # How to display all columns of a Pandas DataFrame in Jupyter Notebook"
   ]
  },
  {
   "cell_type": "code",
   "execution_count": null,
   "metadata": {},
   "outputs": [],
   "source": [
    "# Working Directory\n",
    "workingDir = \"G:/Shared drives/WaDE Data/California/WaterAllocation/RawInputData\"\n",
    "os.chdir(workingDir)"
   ]
  },
  {
   "cell_type": "code",
   "execution_count": null,
   "metadata": {},
   "outputs": [],
   "source": [
    "# Input Data & dataframe creation\n",
    "fileInput1 = \"EWRIMS MASTER FLAT FILE DATA DICTIONARY DRAFT 1-17-20.xlsx\" # date & beneficial use data\n",
    "fileInput2 = \"POD_Attributes_input.csv\" # wr data\n",
    "fileInput3 = \"Points_of_Diversion_20210701_input.csv\" # site data\n",
    "\n",
    "df_emff = pd.read_excel(fileInput1, header=0, sheet_name=\"ewrims_flat_file\", skiprows=0).replace(np.nan, \"\")\n",
    "df_poda = pd.read_csv(fileInput2).replace(np.nan, \"\")\n",
    "df_point = pd.read_csv(fileInput3).replace(np.nan, \"\")"
   ]
  },
  {
   "cell_type": "code",
   "execution_count": null,
   "metadata": {},
   "outputs": [],
   "source": [
    "# Merging dataframes into one, using left-join.\n",
    "dfPOD = pd.merge(df_poda, df_point, left_on='CORE_POD_ID', right_on='POD_ID', how='left')\n",
    "dfPOD = pd.merge(dfPOD, df_emff[['WR_WATER_RIGHT_ID', 'PRIORITY_DATE', 'DIRECT_DIV_SEASON_END', 'DIRECT_DIV_SEASON_START', 'APPLICATION_ACCEPTANCE_DATE', 'USE_CODE']], on='WR_WATER_RIGHT_ID', how='left')\n",
    "print(len(dfPOD))\n",
    "dfPOD.head(3)"
   ]
  },
  {
   "cell_type": "code",
   "execution_count": null,
   "metadata": {},
   "outputs": [],
   "source": [
    "print(\"Allocation priority date...\")\n",
    "\n",
    "def formatDateString(inString1):\n",
    "    inString = str(inString1).strip()\n",
    "    try:\n",
    "        if inString == '' or pd.isnull(inString):\n",
    "            valndf = ''\n",
    "        else:\n",
    "            valD = pd.to_datetime(inString) # Also valD = parse(inString) #--datetuil.parser.parse\n",
    "            valnDd = valD.date()\n",
    "            valndf = valnDd.strftime('%m/%d/%Y')\n",
    "    except:\n",
    "        valndf = ''\n",
    "    return valndf\n",
    "\n",
    "dfPOD['in_AllocationPriorityDate'] = dfPOD.apply(lambda row: formatDateString(row['PRIORITY_DATE']) if str(row['PRIORITY_DATE']) != ''else formatDateString(row['APPLICATION_ACCEPTANCE_DATE']), axis=1)\n",
    "dfPOD.head(3)"
   ]
  },
  {
   "cell_type": "code",
   "execution_count": null,
   "metadata": {},
   "outputs": [],
   "source": [
    "print(\"Timeframe start and time frame end...\")\n",
    "\n",
    "def formatDateString2(inString1):\n",
    "    inString = str(inString1).strip()\n",
    "    try:\n",
    "        if inString == '' or pd.isnull(inString):\n",
    "            valndf = ''\n",
    "        else:            \n",
    "            valD = pd.to_datetime(inString)\n",
    "            valnDd = valD.date()\n",
    "            valndf = valnDd.strftime('%m/%d')\n",
    "    except:\n",
    "        valndf = ''\n",
    "    return valndf\n",
    "\n",
    "dfPOD['in_AllocationTimeframeStart'] = dfPOD.apply(lambda row: formatDateString2(row['DIRECT_DIV_SEASON_START']), axis=1)\n",
    "dfPOD['in_AllocationTimeframeEnd'] = dfPOD.apply(lambda row: formatDateString2(row['DIRECT_DIV_SEASON_END']), axis=1)\n",
    "dfPOD.head(3)"
   ]
  },
  {
   "cell_type": "code",
   "execution_count": null,
   "metadata": {},
   "outputs": [],
   "source": [
    "#Creating WaDE Owner Field.  \n",
    "#Create from Owner field. If empty, use LastName + FirstName fields.\n",
    "\n",
    "def retrieveOwner(FN, LN):\n",
    "    FN = str(FN).strip()\n",
    "    LN = str(LN).strip()\n",
    "    outList = FN + \" \" + LN\n",
    "    if FN == \"\" or pd.isnull(FN):\n",
    "        outList = LN\n",
    "    if LN == \"\" or pd.isnull(LN):\n",
    "        outList = FN\n",
    "    if (FN == \"\" and LN == \"\") or (pd.isnull(FN) and pd.isnull(LN)):\n",
    "        outList = \"Unspecified\"\n",
    "    print(outList)\n",
    "    return outList\n",
    "\n",
    "dfPOD['in_WaDEOwner'] = dfPOD.apply(lambda row: retrieveOwner(row['FIRST_NAME'], row['LAST_NAME']), axis=1)\n",
    "dfPOD.head(3)"
   ]
  },
  {
   "cell_type": "code",
   "execution_count": null,
   "metadata": {},
   "outputs": [],
   "source": [
    "# Creating WaDE Custom water source native ID for easy water source identification\n",
    "# ----------------------------------------------------------------------------------------------------\n",
    "\n",
    "# Create temp WaterSourceNativeID dataframe of unique water source.\n",
    "def assignWaterSourceNativeID(colrowValue):\n",
    "    string1 = str(colrowValue)\n",
    "    outstring = \"WaDECA_WS\" + string1\n",
    "    return outstring\n",
    "\n",
    "dfWaterSourceNativeID = pd.DataFrame()\n",
    "dfWaterSourceNativeID['in_WaterSourceName'] = dfPOD['SOURCE_NAME']\n",
    "dfWaterSourceNativeID = dfWaterSourceNativeID.drop_duplicates()\n",
    "\n",
    "dftemp = pd.DataFrame(index=dfWaterSourceNativeID.index)\n",
    "dftemp[\"Count\"] = range(1, len(dftemp.index) + 1)\n",
    "dfWaterSourceNativeID['in_WaterSourceNativeID'] = dftemp.apply(lambda row: assignWaterSourceNativeID(row['Count']), axis=1)\n",
    "\n",
    "# ----------------------------------------------------------------------------------------------------\n",
    "\n",
    "# Retreive WaDE Custom water source native ID\n",
    "def retrieveWaterSourceNativeID(A):\n",
    "    ml = dfWaterSourceNativeID.loc[(dfWaterSourceNativeID['in_WaterSourceName'] == A), 'in_WaterSourceNativeID']\n",
    "    if not (ml.empty):  # check if the series is empty\n",
    "        outList = ml.iloc[0]\n",
    "    else:\n",
    "        outList = ''\n",
    "    return outList\n",
    "\n",
    "dfPOD['in_WaterSourceNativeID'] = dfPOD.apply(lambda row: retrieveWaterSourceNativeID( row['SOURCE_NAME']), axis=1)\n",
    "dfPOD.head(3)"
   ]
  },
  {
   "cell_type": "markdown",
   "metadata": {},
   "source": [
    "## Export Outputs"
   ]
  },
  {
   "cell_type": "code",
   "execution_count": null,
   "metadata": {},
   "outputs": [],
   "source": [
    "with pd.option_context('display.max_rows', None, 'display.max_columns', None):\n",
    "    print(dfPOD.dtypes)"
   ]
  },
  {
   "cell_type": "code",
   "execution_count": null,
   "metadata": {},
   "outputs": [],
   "source": [
    "#Exporting to Finished File\n",
    "dfPOD.to_csv('P_CaliforniaMaster.csv', index=False)  # The output"
   ]
  },
  {
   "cell_type": "code",
   "execution_count": null,
   "metadata": {},
   "outputs": [],
   "source": []
  }
 ],
 "metadata": {
  "kernelspec": {
   "display_name": "Python 3 (ipykernel)",
   "language": "python",
   "name": "python3"
  },
  "language_info": {
   "codemirror_mode": {
    "name": "ipython",
    "version": 3
   },
   "file_extension": ".py",
   "mimetype": "text/x-python",
   "name": "python",
   "nbconvert_exporter": "python",
   "pygments_lexer": "ipython3",
   "version": "3.8.12"
  }
 },
 "nbformat": 4,
 "nbformat_minor": 2
}
