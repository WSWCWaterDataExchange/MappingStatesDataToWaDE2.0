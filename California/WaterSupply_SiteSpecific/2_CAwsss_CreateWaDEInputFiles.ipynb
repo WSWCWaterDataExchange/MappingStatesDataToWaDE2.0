{
 "cells": [
  {
   "cell_type": "markdown",
   "id": "091aecd3",
   "metadata": {},
   "source": [
    "# Create WaDE Uploader csv Files for Water Supply Site Time Series data for WaDE\n",
    "- Last Updated: 01/03/2025\n",
    "- Purpose: To create necessary processed WaDE Uploader csv files for reservoir and observation site information."
   ]
  },
  {
   "cell_type": "code",
   "execution_count": 1,
   "id": "90b6067a",
   "metadata": {},
   "outputs": [],
   "source": [
    "# Needed Libraries / Modules\n",
    "import sys\n",
    "import os\n",
    "\n",
    "## Custom Libraries\n",
    "sys.path.append(\"../../5_CustomFunctions/MappingFunctions\")\n",
    "import CreateWaterSourcesFile\n",
    "import CreateSitesFile\n",
    "import CreateSiteSpecificAmounts_factFile\n",
    "import RemoveUnusedRecordsFile\n",
    "import AddCountyHUC8HUC12File"
   ]
  },
  {
   "cell_type": "markdown",
   "id": "22229554",
   "metadata": {},
   "source": [
    "## Input Data (make changes here)\n",
    " - create and add variables specific to this proejct here"
   ]
  },
  {
   "cell_type": "code",
   "execution_count": 2,
   "id": "da2aba5f",
   "metadata": {},
   "outputs": [
    {
     "name": "stdout",
     "output_type": "stream",
     "text": [
      "The working Directory is: G:/Shared drives/WaDE Data/WaDE Data Folder/California/WaterSupply_SiteSpecific\n"
     ]
    }
   ],
   "source": [
    "# ---- Inputs ----\n",
    "varST = \"CA\" # source organization or state abbreviation\n",
    "varUUIDType = \"wsss\" # UUID data type abbreviation\n",
    "mainInputFile = \"Pwsss_caMain.zip\" # use processed zip file\n",
    "\n",
    "# ---- working directory ----\n",
    "workingDirString = \"G:/Shared drives/WaDE Data/WaDE Data Folder/California/WaterSupply_SiteSpecific\"  # set working directory folder string here\n",
    "os.chdir(workingDirString)\n",
    "print(f'The working Directory is:', workingDirString)"
   ]
  },
  {
   "cell_type": "markdown",
   "id": "9ca3ea3e",
   "metadata": {},
   "source": [
    "## Create CSV Input Files"
   ]
  },
  {
   "cell_type": "code",
   "execution_count": 3,
   "id": "f373f87f",
   "metadata": {},
   "outputs": [],
   "source": [
    "# ---- Method (methods.csv) ----\n",
    "# Simple info, create by hand and save in ProcessedInputData folder."
   ]
  },
  {
   "cell_type": "code",
   "execution_count": 4,
   "id": "d0292a0b",
   "metadata": {},
   "outputs": [],
   "source": [
    "# ---- Variable (variables.csv) ----\n",
    "# Simple info, create by hand and save in ProcessedInputData folder."
   ]
  },
  {
   "cell_type": "code",
   "execution_count": 5,
   "id": "de98ab0f",
   "metadata": {},
   "outputs": [],
   "source": [
    "# ---- Organization (organizations.csv) ----\n",
    "# Simple info, create by hand and save in ProcessedInputData folder."
   ]
  },
  {
   "cell_type": "code",
   "execution_count": 6,
   "id": "a96f088b",
   "metadata": {},
   "outputs": [
    {
     "name": "stdout",
     "output_type": "stream",
     "text": [
      "Creating Water Sources input csv...\n",
      "############################################################################\n",
      "Reading input csv...\n"
     ]
    },
    {
     "name": "stderr",
     "output_type": "stream",
     "text": [
      "C:\\Users\\rjame\\Documents\\WSWC Documents\\MappingStatesDataToWaDE2.0\\California\\WaterSupply_SiteSpecific\\../../5_CustomFunctions/MappingFunctions\\CreateWaterSourcesFile.py:40: DtypeWarning: Columns (14) have mixed types. Specify dtype option on import or set low_memory=False.\n",
      "  df = pd.read_csv(fileInput, compression='zip')\n"
     ]
    },
    {
     "name": "stdout",
     "output_type": "stream",
     "text": [
      "Populating dataframe...\n",
      "Geometry\n",
      "GNISFeatureNameCV\n",
      "WaterQualityIndicatorCV\n",
      "WaterSourceName\n",
      "WaterSourceNativeID\n",
      "WaterSourceTypeCV\n",
      "Adding Data Assessment UUID\n",
      "Resetting Index\n",
      "GroupBy outdf duplicates based on key fields...\n",
      "Error checking each field. Purging bad inputs.\n",
      "Length of outdf DataFrame:  1\n",
      "Length of dfpurge DataFrame:  0\n",
      "Assign WaterSourceUUID\n",
      "Cleaning export for correct data types...\n",
      "Exporting dataframe...\n",
      "Done\n"
     ]
    }
   ],
   "source": [
    "# ---- Water Sources (watersources.csv) ----\n",
    "print(\"Creating Water Sources input csv...\")\n",
    "print(\"############################################################################\")\n",
    "CreateWaterSourcesFile.CreateWaterSourcesInputFunction(workingDirString, varST, varUUIDType, mainInputFile)"
   ]
  },
  {
   "cell_type": "code",
   "execution_count": 7,
   "id": "b6494c99",
   "metadata": {},
   "outputs": [
    {
     "name": "stdout",
     "output_type": "stream",
     "text": [
      "Creating Sites input csv...\n",
      "############################################################################\n",
      "Reading input csv...\n"
     ]
    },
    {
     "name": "stderr",
     "output_type": "stream",
     "text": [
      "C:\\Users\\rjame\\Documents\\WSWC Documents\\MappingStatesDataToWaDE2.0\\California\\WaterSupply_SiteSpecific\\../../5_CustomFunctions/MappingFunctions\\CreateSitesFile.py:39: DtypeWarning: Columns (14) have mixed types. Specify dtype option on import or set low_memory=False.\n",
      "  df = pd.read_csv(fileInput, compression='zip')\n"
     ]
    },
    {
     "name": "stdout",
     "output_type": "stream",
     "text": [
      "...no geometry data to worry about.\n",
      "Populating dataframe...\n",
      "WaterSourceUUIDs\n",
      "RegulatoryOverlayUUIDs\n",
      "CoordinateAccuracy\n",
      "CoordinateMethodCV\n",
      "County\n",
      "EPSGCodeCV\n",
      "Geometry\n",
      "GNISCodeCV\n",
      "HUC12\n",
      "HUC8\n",
      "Latitude\n",
      "Longitude\n",
      "NHDNetworkStatusCV\n",
      "NHDProductCV\n",
      "PODorPOUSite\n",
      "SiteName\n",
      "SiteNativeID\n",
      "SitePoint\n",
      "SiteTypeCV\n",
      "StateCV\n",
      "USGSSiteID\n",
      "Adding Data Assessment UUID\n",
      "Resetting Index\n",
      "GroupBy outdf duplicates based on key fields...\n",
      "Error checking each field. Purging bad inputs.\n",
      "Length of outdf DataFrame:  357\n",
      "Length of dfpurge DataFrame:  1\n",
      "Assign SiteUUID\n",
      "Cleaning export for correct data types...\n",
      "Exporting dataframe...\n",
      "... 1  records removed.\n",
      "Done\n"
     ]
    }
   ],
   "source": [
    "# ---- Sites (sites.csv) ----\n",
    "print(\"Creating Sites input csv...\")\n",
    "print(\"############################################################################\")\n",
    "CreateSitesFile.CreateSitesInputFunction(workingDirString, varST, varUUIDType, mainInputFile)"
   ]
  },
  {
   "cell_type": "code",
   "execution_count": 8,
   "id": "154747bb-1ded-49fd-bf5f-30e4c7649089",
   "metadata": {},
   "outputs": [
    {
     "name": "stdout",
     "output_type": "stream",
     "text": [
      "Creating Site Specific Amounts input csv...\n",
      "############################################################################\n",
      "Reading input csv...\n"
     ]
    },
    {
     "name": "stderr",
     "output_type": "stream",
     "text": [
      "C:\\Users\\rjame\\Documents\\WSWC Documents\\MappingStatesDataToWaDE2.0\\California\\WaterSupply_SiteSpecific\\../../5_CustomFunctions/MappingFunctions\\CreateSiteSpecificAmounts_factFile.py:46: DtypeWarning: Columns (14) have mixed types. Specify dtype option on import or set low_memory=False.\n",
      "  df = pd.read_csv(fileInput, compression='zip')\n"
     ]
    },
    {
     "name": "stdout",
     "output_type": "stream",
     "text": [
      "Populating dataframe outdf...\n",
      "MethodUUID\n",
      "VariableSpecificUUID\n",
      "OrganizationUUID\n",
      "WaterSourceUUID\n",
      "SiteUUID\n",
      "Amount\n",
      "AllocationCropDutyAmount\n",
      "AssociatedNativeAllocationIDs\n",
      "BeneficialUseCategory\n",
      "CommunityWaterSupplySystem\n",
      "CropTypeCV\n",
      "CustomerTypeCV\n",
      "DataPublicationDate\n",
      "DataPublicationDOI\n",
      "Geometry\n",
      "IrrigatedAcreage\n",
      "IrrigationMethodCV\n",
      "PopulationServed\n",
      "PowerGeneratedGWh\n",
      "PowerType\n",
      "PrimaryUseCategory\n",
      "ReportYearCV\n",
      "SDWISIdentifier\n",
      "TimeframeEnd\n",
      "TimeframeStart\n",
      "Adding Data Assessment UUID\n",
      "Resetting Index\n",
      "Error checking each field. Purging bad inputs.\n"
     ]
    },
    {
     "name": "stderr",
     "output_type": "stream",
     "text": [
      "C:\\Users\\rjame\\Documents\\WSWC Documents\\MappingStatesDataToWaDE2.0\\California\\WaterSupply_SiteSpecific\\../../5_CustomFunctions/ErrorCheckCode\\ErrorCheckCodeFunctionsFile.py:1340: FutureWarning: Downcasting behavior in `replace` is deprecated and will be removed in a future version. To retain the old behavior, explicitly call `result.infer_objects(copy=False)`. To opt-in to the future behavior, set `pd.set_option('future.no_silent_downcasting', True)`\n",
      "  selectionVar = (dfx['Amount'].replace(\"\", 0).fillna(0).astype(float) <= 0.0)\n"
     ]
    },
    {
     "name": "stdout",
     "output_type": "stream",
     "text": [
      "Length of outdf DataFrame:  2873570\n",
      "Length of dfpurge DataFrame:  788736\n",
      "Cleaning export for correct data types...\n",
      "Exporting dataframe...\n",
      "... 788736  records removed.\n",
      "Done\n"
     ]
    }
   ],
   "source": [
    "# ---- Site Specific Amounts (sitespecificamounts.csv) ----\n",
    "print(\"Creating Site Specific Amounts input csv...\")\n",
    "print(\"############################################################################\")\n",
    "CreateSiteSpecificAmounts_factFile.CreateSiteSpecificAmounts_factsInputFunction(workingDirString, mainInputFile)"
   ]
  },
  {
   "cell_type": "code",
   "execution_count": 9,
   "id": "a769f9b0",
   "metadata": {},
   "outputs": [
    {
     "name": "stdout",
     "output_type": "stream",
     "text": [
      "Remove unused Water Sources and Sites records not found within sitespecificamountsinput.csv...\n",
      "############################################################################\n",
      "Reading input csv...\n",
      "Length of dfs before removing sites:  357\n",
      "Length of dfs after removing sites:  355\n",
      "Length of dfws before removing water sources:  1\n",
      "Length of dfws after removing water sources:  1\n",
      "Export Files - watersource.csv, watersource_missing.csv, sites.csv, sites_missing.csv, sitespecificamounts.csv\n",
      "Done\n"
     ]
    }
   ],
   "source": [
    "# ---- Remove unused records ----\n",
    "print(\"Remove unused Water Sources and Sites records not found within sitespecificamountsinput.csv...\")\n",
    "print(\"############################################################################\")\n",
    "RemoveUnusedRecordsFile.RemoveUnusedSiteSpecificAmountsRecordsFileFunction(workingDirString)"
   ]
  },
  {
   "cell_type": "code",
   "execution_count": 10,
   "id": "5e6fa82a-4721-4180-9e7f-30b54428a5fa",
   "metadata": {},
   "outputs": [
    {
     "name": "stdout",
     "output_type": "stream",
     "text": [
      "Add misinsg County, HUC8, HUC12 information if mising...\n",
      "############################################################################\n",
      "Checking for available shapefiles data / project...\n",
      "Reading input files(s)...\n",
      "Checking for missing County information....\n",
      "Checking for missing HUC8 information....\n",
      "Checking for missing HUC12 information....\n"
     ]
    },
    {
     "name": "stderr",
     "output_type": "stream",
     "text": [
      "C:\\Users\\rjame\\anaconda3\\Lib\\site-packages\\IPython\\core\\interactiveshell.py:3577: FutureWarning: The `op` parameter is deprecated and will be removed in a future release. Please use the `predicate` parameter instead.\n",
      "  exec(code_obj, self.user_global_ns, self.user_ns)\n",
      "C:\\Users\\rjame\\anaconda3\\Lib\\site-packages\\IPython\\core\\interactiveshell.py:3577: FutureWarning: The `op` parameter is deprecated and will be removed in a future release. Please use the `predicate` parameter instead.\n",
      "  exec(code_obj, self.user_global_ns, self.user_ns)\n",
      "C:\\Users\\rjame\\anaconda3\\Lib\\site-packages\\IPython\\core\\interactiveshell.py:3577: FutureWarning: The `op` parameter is deprecated and will be removed in a future release. Please use the `predicate` parameter instead.\n",
      "  exec(code_obj, self.user_global_ns, self.user_ns)\n"
     ]
    },
    {
     "name": "stdout",
     "output_type": "stream",
     "text": [
      "Done\n"
     ]
    }
   ],
   "source": [
    "# ---- Add missing County, HUC8, HUC12 information for Sites (Sites.csv update) ----\n",
    "print(\"Add misinsg County, HUC8, HUC12 information if mising...\")\n",
    "print(\"############################################################################\")\n",
    "AddCountyHUC8HUC12File.AddCountyHUC8HUC12Function(workingDirString)"
   ]
  }
 ],
 "metadata": {
  "kernelspec": {
   "display_name": "Python 3 (ipykernel)",
   "language": "python",
   "name": "python3"
  },
  "language_info": {
   "codemirror_mode": {
    "name": "ipython",
    "version": 3
   },
   "file_extension": ".py",
   "mimetype": "text/x-python",
   "name": "python",
   "nbconvert_exporter": "python",
   "pygments_lexer": "ipython3",
   "version": "3.12.3"
  }
 },
 "nbformat": 4,
 "nbformat_minor": 5
}
