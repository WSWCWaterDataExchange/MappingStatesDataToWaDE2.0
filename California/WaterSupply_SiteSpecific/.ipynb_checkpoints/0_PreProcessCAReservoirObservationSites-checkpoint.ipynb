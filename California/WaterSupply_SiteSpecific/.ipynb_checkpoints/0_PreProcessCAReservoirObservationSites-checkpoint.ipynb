{
 "cells": [
  {
   "cell_type": "markdown",
   "id": "1f178c7c",
   "metadata": {},
   "source": [
    "# Preprocessing California Reservoir and Gage data for WaDE\n",
    "Notes:\n",
    "- Using API to get timeseries data."
   ]
  },
  {
   "cell_type": "code",
   "execution_count": null,
   "id": "30b11961",
   "metadata": {},
   "outputs": [],
   "source": [
    "# Needed Libararies\n",
    "\n",
    "# working with data\n",
    "import os\n",
    "import numpy as np\n",
    "import pandas as pd\n",
    "import geopandas as gpd\n",
    "\n",
    "# visulizaiton\n",
    "import matplotlib.pyplot as plt\n",
    "import seaborn as sns\n",
    "\n",
    "# API retrieval\n",
    "import requests\n",
    "import json\n",
    "\n",
    "# Cleanup\n",
    "from datetime import datetime\n",
    "pd.set_option('display.max_columns', 999)  # How to display all columns of a Pandas DataFrame in Jupyter Notebook"
   ]
  },
  {
   "cell_type": "code",
   "execution_count": null,
   "id": "0b71bd78",
   "metadata": {},
   "outputs": [],
   "source": [
    "# Working Directory\n",
    "workingDir = \"G:/Shared drives/WaDE Data/California/SS_ReservoirsObservationSites/RawInputData\"\n",
    "os.chdir(workingDir)"
   ]
  },
  {
   "cell_type": "markdown",
   "id": "a2856299",
   "metadata": {},
   "source": [
    "## Getting Timeseries Data Using API\n",
    "- Only need to run this once.\n",
    "- Getting stream gage data.\n",
    "- Getting reservoir level datal."
   ]
  },
  {
   "cell_type": "markdown",
   "id": "c4a7d21d",
   "metadata": {},
   "source": [
    "### stream gage data"
   ]
  },
  {
   "cell_type": "code",
   "execution_count": null,
   "id": "c775e797",
   "metadata": {},
   "outputs": [],
   "source": [
    "# Stream gage for for CA.\n",
    "fileInput = \"StreamGages_caOnly.csv\"\n",
    "dfsg = pd.read_csv(fileInput)\n",
    "print(len(dfsg))\n",
    "dfsg.head(1)"
   ]
  },
  {
   "cell_type": "code",
   "execution_count": null,
   "id": "7cd2652c",
   "metadata": {},
   "outputs": [],
   "source": [
    "# siteid to list\n",
    "dfsgList = dfsg['siteid'].tolist()\n",
    "print(len(dfsgList))"
   ]
  },
  {
   "cell_type": "code",
   "execution_count": null,
   "id": "9f7890d1",
   "metadata": {},
   "outputs": [],
   "source": [
    "# done already\n",
    "\n",
    "# # retrieve stream gage time series data\n",
    "# # SensorNums=65\n",
    "# startTime = time.time()\n",
    "\n",
    "# dfsgout = pd.DataFrame() # ouput dataframe\n",
    "\n",
    "# for i in range(len(dfsgList)):\n",
    "#     crmSiteIDstr = str(dfsgList[i]).strip()   \n",
    "#     url = \"https://cdec.water.ca.gov/dynamicapp/req/CSVDataServlet?Stations=\" + crmSiteIDstr + \"&SensorNums=65&dur_code=M&Start=1950-03-22&End=2022-03-22\"\n",
    "#     r = requests.get(url).content\n",
    "#     rawData = pd.read_csv(io.StringIO(r.decode('utf-8')))\n",
    "    \n",
    "#     rawData = rawData.merge(dfsg, left_on='STATION_ID', right_on='siteid', how='left')\n",
    "    \n",
    "#     dfsgout = dfsgout.append(rawData)\n",
    "\n",
    "# dfsgout.head()\n",
    "\n",
    "# executionTime = (time.time() - startTime)\n",
    "# print('Execution time in seconds: ' + str(executionTime))"
   ]
  },
  {
   "cell_type": "code",
   "execution_count": null,
   "id": "88036934",
   "metadata": {},
   "outputs": [],
   "source": [
    "# # Export the output dataframe\n",
    "# dfsgout.to_csv('P_caStreamObsRecords.csv', index=False)  # The output"
   ]
  },
  {
   "cell_type": "markdown",
   "id": "b965f9c8",
   "metadata": {},
   "source": [
    "### reservoir level data"
   ]
  },
  {
   "cell_type": "code",
   "execution_count": null,
   "id": "84e94a20",
   "metadata": {},
   "outputs": [],
   "source": [
    "# Reservoir levels for CA.\n",
    "fileInput2 = \"ReservoirGages_caOnly.csv\"\n",
    "dfrg = pd.read_csv(fileInput2)\n",
    "print(len(dfrg))\n",
    "dfrg.head(1)"
   ]
  },
  {
   "cell_type": "code",
   "execution_count": null,
   "id": "2f755381",
   "metadata": {},
   "outputs": [],
   "source": [
    "# siteid to list\n",
    "dfrgList = dfrg['ID'].tolist()\n",
    "print(len(dfrgList))"
   ]
  },
  {
   "cell_type": "code",
   "execution_count": null,
   "id": "536fd555",
   "metadata": {},
   "outputs": [],
   "source": [
    "# retrieve reservoir leveltime series data\n",
    "# SensorNums=15\n",
    "startTime = time.time()\n",
    "\n",
    "dfrgout = pd.DataFrame() # ouput dataframe\n",
    "\n",
    "for i in range(len(dfrgList)):\n",
    "    crmSiteIDstr = str(dfrgList[i]).strip()   \n",
    "    url = \"https://cdec.water.ca.gov/dynamicapp/req/CSVDataServlet?Stations=\" + crmSiteIDstr + \"&SensorNums=15&dur_code=M&Start=1950-03-22&End=2022-03-22\"\n",
    "    r = requests.get(url).content\n",
    "    rawData = pd.read_csv(io.StringIO(r.decode('utf-8')))\n",
    "    \n",
    "    rawData = rawData.merge(dfrg, left_on='STATION_ID', right_on='ID', how='left')\n",
    "    \n",
    "    dfrgout = dfrgout.append(rawData)\n",
    "\n",
    "dfrgout.head()\n",
    "\n",
    "executionTime = (time.time() - startTime)\n",
    "print('Execution time in seconds: ' + str(executionTime))"
   ]
  },
  {
   "cell_type": "code",
   "execution_count": null,
   "id": "3842b161",
   "metadata": {},
   "outputs": [],
   "source": [
    "# # Export the output dataframe\n",
    "# dfrgout.to_csv('P_caReservoirObsRecords.csv', index=False)  # The output"
   ]
  },
  {
   "cell_type": "markdown",
   "id": "115263fe",
   "metadata": {},
   "source": [
    "## Processing observation record data"
   ]
  },
  {
   "cell_type": "markdown",
   "id": "cd7e2cb1",
   "metadata": {},
   "source": [
    "### Stream Gage Data"
   ]
  },
  {
   "cell_type": "code",
   "execution_count": null,
   "id": "6977f773",
   "metadata": {},
   "outputs": [],
   "source": [
    "# P_caStreamObsRecords\n",
    "fileInput = \"P_caStreamObsRecords.csv\"\n",
    "dfsi = pd.read_csv(fileInput)\n",
    "print(len(dfsi))\n",
    "dfsi.head(1)"
   ]
  },
  {
   "cell_type": "code",
   "execution_count": null,
   "id": "56aff0f6",
   "metadata": {},
   "outputs": [],
   "source": [
    "# WaDE Fields\n",
    "\n",
    "# output for stream data\n",
    "dfsi2 = pd.DataFrame(index=dfsi.index)\n",
    "\n",
    "# data assessment\n",
    "df1['WaDEUUID'] = dftlrsv['WaDEUUID']\n",
    "\n",
    "# Variable Info\n",
    "dfsi2['in_VariableSpecificCV'] = \"Discharge Flow_Monthly_Stage_Surface Water\"\n",
    "\n",
    "# Water Source Info\n",
    "dfsi2['in_WaterSourceName'] = \"WaDE Unspecified\"\n",
    "dfsi2['in_WaterSourceNativeID'] = \"\"\n",
    "dfsi2['in_WaterSourceTypeCV'] = dfsi['streamtype'].astype(str)\n",
    "\n",
    "# Site Info\n",
    "dfsi2['in_CoordinateAccuracy'] = \"WaDE Unspecified\"\n",
    "dfsi2['in_CoordinateMethodCV'] = \"WaDE Unspecified\"\n",
    "dfsi2['in_County'] = \"Unspecified\"\n",
    "dfsi2['in_HUC12'] = dfsi['huc12']\n",
    "dfsi2['in_HUC8'] = dfsi['huc8']\n",
    "dfsi2['in_Latitude'] = dfsi['Latitude']\n",
    "dfsi2['in_Longitude'] = dfsi['Longitude']\n",
    "dfsi2['in_PODorPOUSite'] = \"Gage\"\n",
    "dfsi2['in_SiteNativeID'] = dfsi['siteid']\n",
    "dfsi2['in_SiteName'] = dfsi['sitename']\n",
    "dfsi2['in_SiteTypeCV'] = \"Stream Gage\"\n",
    "dfsi2['in_StateCV'] = 'CA'\n",
    "\n",
    "# Site VariableAmounts Info\n",
    "dfsi2['in_Amount'] = dfsi['VALUE']\n",
    "dfsi2['in_BenUse'] = \"Stage\"\n",
    "dfsi2['in_CommunityWaterSupplySystem'] = dfsi['operator']\n",
    "dfsi2['date'] = dfsi['DATE TIME']\n",
    "\n",
    "print(len(dfsi2))\n",
    "dfsi2.head(1)"
   ]
  },
  {
   "cell_type": "markdown",
   "id": "608764d8",
   "metadata": {},
   "source": [
    "### Reservoir Level Data"
   ]
  },
  {
   "cell_type": "code",
   "execution_count": null,
   "id": "e95fdb69",
   "metadata": {},
   "outputs": [],
   "source": [
    "# P_caReservoirObsRecords\n",
    "fileInput = \"P_caReservoirObsRecords.csv\"\n",
    "dfri = pd.read_csv(fileInput)\n",
    "print(len(dfri))\n",
    "dfri.head(1)"
   ]
  },
  {
   "cell_type": "code",
   "execution_count": null,
   "id": "13157fdb",
   "metadata": {},
   "outputs": [],
   "source": [
    "# output for reservoir data\n",
    "dfri2 = pd.DataFrame(index=dfri.index)\n",
    "\n",
    "# Variable Info\n",
    "dfri2['in_VariableSpecificCV'] = \"Reservoir Level_Monthly_Storage_Surface Water\"\n",
    "\n",
    "# Water Source Info\n",
    "dfri2['in_WaterSourceTypeCV'] = \"Surface Water\"\n",
    "\n",
    "# Site Info\n",
    "dfri2['in_County'] = dfri['County']\n",
    "dfri2['in_HUC12'] = \"\"\n",
    "dfri2['in_HUC8'] = \"\"\n",
    "dfri2['in_Latitude'] = dfri['Latitude']\n",
    "dfri2['in_Longitude'] = dfri['Longitude']\n",
    "dfri2['in_SiteName'] = dfri['Station']\n",
    "dfri2['in_SiteNativeID'] = dfri['ID']\n",
    "dfri2['in_SiteTypeCV'] = \"Reservoir Gage\"\n",
    "\n",
    "# Site VariableAmounts Info\n",
    "dfri2['in_Amount'] = dfri['VALUE']\n",
    "dfri2['in_BenUse'] = \"Storage\"\n",
    "dfri2['in_CommunityWaterSupplySystem'] = dfri['Operating Agency']\n",
    "dfri2['date'] = dfri['DATE TIME']\n",
    "\n",
    "print(len(dfri2))\n",
    "dfri2.head(1)"
   ]
  },
  {
   "cell_type": "markdown",
   "id": "e32a4d8a",
   "metadata": {},
   "source": [
    "## Concatenate Together. Output Dataframe."
   ]
  },
  {
   "cell_type": "code",
   "execution_count": null,
   "id": "425554d1",
   "metadata": {},
   "outputs": [],
   "source": [
    "# Concatenate Produced Data Together\n",
    "frames = [dfsi2, dfri2]\n",
    "dfout = pd.concat(frames).reset_index(drop=True)\n",
    "print(len(dfout))"
   ]
  },
  {
   "cell_type": "markdown",
   "id": "e485f862",
   "metadata": {},
   "source": [
    "## Fixing a few errors"
   ]
  },
  {
   "cell_type": "code",
   "execution_count": null,
   "id": "82766db7",
   "metadata": {},
   "outputs": [],
   "source": [
    "# Converting data from string to datetime64[ns]\n",
    "# extracting year component of datetime64[ns]\n",
    "dfout['in_date'] = pd.to_datetime(dfout['date'])\n",
    "dfout['in_ReportYearCV'] = dfout['in_date'].dt.to_period('Y')\n",
    "dfout.head(1)"
   ]
  },
  {
   "cell_type": "code",
   "execution_count": null,
   "id": "cff6f255",
   "metadata": {},
   "outputs": [],
   "source": [
    "# Fixing Water Amount datatype\n",
    "# Issue of some entries are strings with a \",\" or as \"FALSE\".\n",
    "\n",
    "dfout['in_Amount'] = dfout['in_Amount'].replace('---','', regex=True)\n",
    "dfout['in_Amount'] = dfout['in_Amount'].replace(',','', regex=True)\n",
    "dfout['in_Amount'] = dfout['in_Amount'].replace('FALSE','', regex=True)\n",
    "dfout['in_Amount'] = dfout['in_Amount'].str.strip()\n",
    "dfout['in_Amount'] = pd.to_numeric(dfout['in_Amount'])\n",
    "dfout.head(1)"
   ]
  },
  {
   "cell_type": "code",
   "execution_count": null,
   "id": "651012a7",
   "metadata": {},
   "outputs": [],
   "source": [
    "# Creating WaDE Custom water source native ID for easy water source identification\n",
    "# ----------------------------------------------------------------------------------------------------\n",
    "\n",
    "# Create temp WaterSourceNativeID dataframe of unique water source.\n",
    "def assignWaterSourceNativeID(colrowValue):\n",
    "    string1 = str(colrowValue)\n",
    "    outstring = \"WaDECA_WS\" + string1\n",
    "    return outstring\n",
    "\n",
    "dfWaterSourceNativeID = pd.DataFrame()\n",
    "dfWaterSourceNativeID['in_WaterSourceTypeCV'] = dfout['in_WaterSourceTypeCV']\n",
    "dfWaterSourceNativeID = dfWaterSourceNativeID.drop_duplicates()\n",
    "\n",
    "dftemp = pd.DataFrame(index=dfWaterSourceNativeID.index)\n",
    "dftemp[\"Count\"] = range(1, len(dftemp.index) + 1)\n",
    "dfWaterSourceNativeID['in_WaterSourceNativeID'] = dftemp.apply(lambda row: assignWaterSourceNativeID(row['Count']), axis=1)\n",
    "\n",
    "# ----------------------------------------------------------------------------------------------------\n",
    "\n",
    "# Retreive WaDE Custom water source native ID\n",
    "def retrieveWaterSourceNativeID(A):\n",
    "    ml = dfWaterSourceNativeID.loc[(dfWaterSourceNativeID['in_WaterSourceTypeCV'] == A), 'in_WaterSourceNativeID']\n",
    "    if not (ml.empty):  # check if the series is empty\n",
    "        outList = ml.iloc[0]\n",
    "    else:\n",
    "        outList = ''\n",
    "    return outList\n",
    "\n",
    "dfout['in_WaterSourceNativeID'] = dfout.apply(lambda row: retrieveWaterSourceNativeID( row['in_WaterSourceTypeCV']), axis=1)\n",
    "dfout['in_WaterSourceNativeID'].unique()"
   ]
  },
  {
   "cell_type": "markdown",
   "id": "89691d7e",
   "metadata": {},
   "source": [
    "## Review and Export"
   ]
  },
  {
   "cell_type": "code",
   "execution_count": null,
   "id": "bd47e04f",
   "metadata": {},
   "outputs": [],
   "source": [
    "dfout.info()"
   ]
  },
  {
   "cell_type": "code",
   "execution_count": null,
   "id": "0c37ca24",
   "metadata": {},
   "outputs": [],
   "source": [
    "# Export the output dataframe\n",
    "dfout.to_csv('P_caObsRecords.csv', index=False)  # The output"
   ]
  },
  {
   "cell_type": "code",
   "execution_count": null,
   "id": "0b60b8d4",
   "metadata": {},
   "outputs": [],
   "source": []
  }
 ],
 "metadata": {
  "kernelspec": {
   "display_name": "Python 3 (ipykernel)",
   "language": "python",
   "name": "python3"
  },
  "language_info": {
   "codemirror_mode": {
    "name": "ipython",
    "version": 3
   },
   "file_extension": ".py",
   "mimetype": "text/x-python",
   "name": "python",
   "nbconvert_exporter": "python",
   "pygments_lexer": "ipython3",
   "version": "3.9.16"
  }
 },
 "nbformat": 4,
 "nbformat_minor": 5
}
