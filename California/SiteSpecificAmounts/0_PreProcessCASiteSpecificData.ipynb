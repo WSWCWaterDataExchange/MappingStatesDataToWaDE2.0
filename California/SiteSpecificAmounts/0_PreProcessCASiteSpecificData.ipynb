{
 "cells": [
  {
   "cell_type": "markdown",
   "metadata": {},
   "source": [
    "# Pre-processing California Site Specific data for WaDEQA upload.\n",
    "Date Updated: 02/26/2021\n",
    "\n",
    "Purpose:  To pre-process the California site specific data into one master file for simple dataframe creation and extraction.  See \"CA_SiteSpecificAmounts Schema Mapping to WaDE_QA.xlsx\" for more details.\n",
    "\n",
    "Notes:\n",
    "- asdf"
   ]
  },
  {
   "cell_type": "code",
   "execution_count": null,
   "metadata": {},
   "outputs": [],
   "source": [
    "#Needed Libararies\n",
    "import os\n",
    "import numpy as np\n",
    "import pandas as pd\n",
    "from datetime import datetime\n",
    "pd.set_option('display.max_columns', 999)  # How to display all columns of a Pandas DataFrame in Jupyter Notebook\n",
    "\n",
    "#Working Directory and Input File\n",
    "workingDir = \"C:/Users/rjame/Documents/WSWC Documents/MappingStatesDataToWaDE2.0/California/SiteSpecificAmounts/RawInputData\"\n",
    "os.chdir(workingDir)"
   ]
  },
  {
   "cell_type": "code",
   "execution_count": null,
   "metadata": {},
   "outputs": [],
   "source": [
    "#Time Series Data\n",
    "fileInput1 = \"deliveredPWS_2013_2016_input.csv\"\n",
    "dfts = pd.read_csv(fileInput1)\n",
    "print(len(dfts))\n",
    "dfts.head(1)"
   ]
  },
  {
   "cell_type": "code",
   "execution_count": null,
   "metadata": {},
   "outputs": [],
   "source": [
    "#Facility info\n",
    "fileInput2 = \"PWS Facility Information_input.csv\"\n",
    "dffi = pd.read_csv(fileInput2)\n",
    "print(len(dffi))\n",
    "dffi.head(1)"
   ]
  },
  {
   "cell_type": "code",
   "execution_count": null,
   "metadata": {},
   "outputs": [],
   "source": [
    "#Shapefile / Site and Boundary info\n",
    "fileInput3 = \"CADWS_AreaBoundaries_input.csv\"\n",
    "dfbi = pd.read_csv(fileInput3, encoding = \"ISO-8859-1\")\n",
    "print(len(dfbi))\n",
    "dfbi.head(1)"
   ]
  },
  {
   "cell_type": "code",
   "execution_count": null,
   "metadata": {},
   "outputs": [],
   "source": [
    "#Merging dataframes into one, using left-join.\n",
    "df = pd.merge(dfts, dffi, left_on='PWSID', right_on='Water System No', how='left') \n",
    "df = pd.merge(df, dfbi, left_on='PWSID', right_on='SABL_PWSID', how='left')\n",
    "print(len(df))\n",
    "df.head(1)"
   ]
  },
  {
   "cell_type": "code",
   "execution_count": null,
   "metadata": {},
   "outputs": [],
   "source": [
    "# Preserve columns of interest.\n",
    "\n",
    "columnsList=[\n",
    "\"PWSID\",\n",
    "\"Water.System.Name\",\n",
    "\"Water.System.Classification\",\n",
    "\"Year\",\n",
    "\"Month\",\n",
    "\"Date\",\n",
    "\"Days.In.Month\",\n",
    "\"Total. RESIDENTIAL Delivered.Gallons (Total Does not include Landscape Irrigation, Agricultural or to other PWS)\",\n",
    "\"Population Of Service Area\",\n",
    "\"State Water System Type\",\n",
    "\"Primary Water Source Type\",\n",
    "\"SABL_PWSID\",\n",
    "\"Lat\",\n",
    "\"Long\",\n",
    "\"WATER_SY_1\",\n",
    "\"BOUNDARY_T\",\n",
    "\"COUNTY\"]\n",
    "\n",
    "dfout = pd.DataFrame(columns=columnsList)\n",
    "dfout = df[columnsList]\n",
    "print(len(dfout))\n",
    "dfout.head(1)"
   ]
  },
  {
   "cell_type": "code",
   "execution_count": null,
   "metadata": {},
   "outputs": [],
   "source": [
    "# Remaning columns for dataframe simplicity / reduce errors.\n",
    "\n",
    "dfout = dfout.rename(columns={\"Water.System.Name\": \"Water System Name\",\n",
    "                              \"Water.System.Classification\" : \"Water System Classification\",\n",
    "                              \"Days.In.Month\" : \"Days In Month\",\n",
    "                              \"Total. RESIDENTIAL Delivered.Gallons (Total Does not include Landscape Irrigation, Agricultural or to other PWS)\": \"in_Amount\",\n",
    "                              \"WATER_SY_1\" : \"in_SiteTypeCV\"})\n",
    "print(len(dfout))\n",
    "dfout.head(1)                           "
   ]
  },
  {
   "cell_type": "code",
   "execution_count": null,
   "metadata": {},
   "outputs": [],
   "source": [
    "print(dfout['in_Amount'])"
   ]
  },
  {
   "cell_type": "code",
   "execution_count": null,
   "metadata": {
    "scrolled": true
   },
   "outputs": [],
   "source": [
    "# Fixing Water Amount datatype\n",
    "# Issue of some entries are strings with a \",\" or as \"FALSE\".\n",
    "\n",
    "dfout['in_Amount'] = dfout['in_Amount'].replace(',','', regex=True)\n",
    "dfout['in_Amount'] = dfout['in_Amount'].replace('FALSE','', regex=True)\n",
    "dfout['in_Amount'] = dfout['in_Amount'].str.strip()\n",
    "dfout['in_Amount'] = pd.to_numeric(dfout['in_Amount'])\n",
    "dfout.head(3)"
   ]
  },
  {
   "cell_type": "code",
   "execution_count": null,
   "metadata": {},
   "outputs": [],
   "source": [
    "# Fixing Population Data Type\n",
    "dfout['Population Of Service Area'] = dfout['Population Of Service Area'].fillna(0)\n",
    "dfout['Population Of Service Area'] = dfout['Population Of Service Area'].astype(int).fillna(0)\n",
    "dfout.head(1)"
   ]
  },
  {
   "cell_type": "code",
   "execution_count": null,
   "metadata": {},
   "outputs": [],
   "source": [
    "# Create WaDE TimeframeStart\n",
    "\n",
    "MonthDictionary = {\n",
    "\"January\" : \"01\",\n",
    "\"February\" : \"02\",\n",
    "\"March\" : \"03\",\n",
    "\"April\" : \"04\",\n",
    "\"May\" : \"05\",\n",
    "\"June\" : \"06\",\n",
    "\"July\" : \"07\",\n",
    "\"August\" : \"08\",\n",
    "\"September\" : \"09\",\n",
    "\"October\" : \"10\",\n",
    "\"November\" : \"11\",\n",
    "\"December\" : \"12\"}\n",
    "\n",
    "def createTimeframeStart(Year, Month):\n",
    "    yearString = str(Year).strip()\n",
    "    monthString = str(MonthDictionary[str(Month).strip()]).strip()\n",
    "    try:\n",
    "        outString = yearString + \"-\" + monthString + \"-01\"\n",
    "    except:\n",
    "        outString = ''\n",
    "    return outString\n",
    "\n",
    "dfout['in_TimeframeStart'] = dfout.apply(lambda row: createTimeframeStart(row['Year'], row['Month']), axis=1)\n",
    "dfout.head(1)"
   ]
  },
  {
   "cell_type": "code",
   "execution_count": null,
   "metadata": {},
   "outputs": [],
   "source": [
    "# Create WaDE TimeframeEnd\n",
    "\n",
    "MonthDictionary = {\n",
    "\"January\" : \"01\",\n",
    "\"February\" : \"02\",\n",
    "\"March\" : \"03\",\n",
    "\"April\" : \"04\",\n",
    "\"May\" : \"05\",\n",
    "\"June\" : \"06\",\n",
    "\"July\" : \"07\",\n",
    "\"August\" : \"08\",\n",
    "\"September\" : \"09\",\n",
    "\"October\" : \"10\",\n",
    "\"November\" : \"11\",\n",
    "\"December\" : \"12\"}\n",
    "\n",
    "def createTimeframeEnd(Year, Month, Day):\n",
    "    yearString = str(Year).strip()\n",
    "    monthString = str(MonthDictionary[str(Month).strip()]).strip()\n",
    "    dayString = str(Day).strip()\n",
    "    try:\n",
    "        outString = yearString + \"-\" + monthString + \"-\" + dayString\n",
    "    except:\n",
    "        outString = ''\n",
    "    return outString\n",
    "\n",
    "dfout['in_TimeframeEnd'] = dfout.apply(lambda row: createTimeframeEnd(row['Year'], row['Month'], row['Days In Month']), axis=1)\n",
    "dfout.head(1)"
   ]
  },
  {
   "cell_type": "code",
   "execution_count": null,
   "metadata": {},
   "outputs": [],
   "source": [
    "#Update datatype of Priority Date to fit WaDE 2.0 structure\n",
    "dfout['in_TimeframeStart'] = pd.to_datetime(dfout['in_TimeframeStart'])\n",
    "dfout['in_TimeframeStart'] = pd.to_datetime(dfout[\"in_TimeframeStart\"].dt.strftime('%m/%d/%Y'))\n",
    "\n",
    "dfout['in_TimeframeEnd'] = pd.to_datetime(dfout['in_TimeframeEnd'])\n",
    "dfout['in_TimeframeEnd'] = pd.to_datetime(dfout[\"in_TimeframeEnd\"].dt.strftime('%m/%d/%Y'))\n",
    "\n",
    "dfout.head(3)"
   ]
  },
  {
   "cell_type": "markdown",
   "metadata": {},
   "source": [
    "## Export Outputs"
   ]
  },
  {
   "cell_type": "code",
   "execution_count": null,
   "metadata": {},
   "outputs": [],
   "source": [
    "with pd.option_context('display.max_rows', None, 'display.max_columns', None):\n",
    "    print(dfout.dtypes)"
   ]
  },
  {
   "cell_type": "code",
   "execution_count": null,
   "metadata": {},
   "outputs": [],
   "source": [
    "#Exporting to Finished File\n",
    "dfout.to_csv('P_caSSMaster.csv', index=False)  # The output"
   ]
  },
  {
   "cell_type": "code",
   "execution_count": null,
   "metadata": {},
   "outputs": [],
   "source": []
  }
 ],
 "metadata": {
  "kernelspec": {
   "display_name": "Python 3",
   "language": "python",
   "name": "python3"
  },
  "language_info": {
   "codemirror_mode": {
    "name": "ipython",
    "version": 3
   },
   "file_extension": ".py",
   "mimetype": "text/x-python",
   "name": "python",
   "nbconvert_exporter": "python",
   "pygments_lexer": "ipython3",
   "version": "3.8.5"
  }
 },
 "nbformat": 4,
 "nbformat_minor": 2
}
