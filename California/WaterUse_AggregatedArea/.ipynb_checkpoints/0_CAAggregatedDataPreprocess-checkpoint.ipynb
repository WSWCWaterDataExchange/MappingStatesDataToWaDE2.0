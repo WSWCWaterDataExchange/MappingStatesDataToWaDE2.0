{
 "cells": [
  {
   "cell_type": "markdown",
   "metadata": {},
   "source": [
    "# Working with CA Aggregated Data\n",
    "\n",
    "Pre-processing input data for a smoother upload experience of the state data to the WaDE 2.0 database.\n",
    "Using geopandas to read in shp file, and coverting to WKT for ReportingUnit geometry.\n",
    "\n",
    "#### Notes:\n",
    "- Three ReportingUnitTypeCV: PA, HR, DAU"
   ]
  },
  {
   "cell_type": "code",
   "execution_count": 1,
   "metadata": {},
   "outputs": [],
   "source": [
    "#Needed Libararies\n",
    "\n",
    "# working with data\n",
    "import os\n",
    "import numpy as np\n",
    "import pandas as pd\n",
    "import geopandas as gpd\n",
    "\n",
    "# visulizaiton\n",
    "import matplotlib.pyplot as plt\n",
    "import seaborn as sns\n",
    "\n",
    "# Cleanup\n",
    "from datetime import datetime\n",
    "pd.set_option('display.max_columns', 999)  # How to display all columns of a Pandas DataFrame in Jupyter Notebook"
   ]
  },
  {
   "cell_type": "code",
   "execution_count": 2,
   "metadata": {},
   "outputs": [],
   "source": [
    "#Setting work directory, reading inputs, creating dataframe\n",
    "workingDir = \"G:/Shared drives/WaDE Data/California/AggregatedAmounts/RawInputData\"\n",
    "os.chdir(workingDir)"
   ]
  },
  {
   "cell_type": "markdown",
   "metadata": {},
   "source": [
    "## Input Data"
   ]
  },
  {
   "cell_type": "markdown",
   "metadata": {},
   "source": [
    "### hydrologic region (HR_CODE)"
   ]
  },
  {
   "cell_type": "code",
   "execution_count": 3,
   "metadata": {},
   "outputs": [
    {
     "name": "stdout",
     "output_type": "stream",
     "text": [
      "2850\n"
     ]
    },
    {
     "data": {
      "text/html": [
       "<div>\n",
       "<style scoped>\n",
       "    .dataframe tbody tr th:only-of-type {\n",
       "        vertical-align: middle;\n",
       "    }\n",
       "\n",
       "    .dataframe tbody tr th {\n",
       "        vertical-align: top;\n",
       "    }\n",
       "\n",
       "    .dataframe thead th {\n",
       "        text-align: right;\n",
       "    }\n",
       "</style>\n",
       "<table border=\"1\" class=\"dataframe\">\n",
       "  <thead>\n",
       "    <tr style=\"text-align: right;\">\n",
       "      <th></th>\n",
       "      <th>Year</th>\n",
       "      <th>CategoryC</th>\n",
       "      <th>CategoryD</th>\n",
       "      <th>HR</th>\n",
       "      <th>CategoryA</th>\n",
       "      <th>KAcreFt</th>\n",
       "    </tr>\n",
       "  </thead>\n",
       "  <tbody>\n",
       "    <tr>\n",
       "      <th>0</th>\n",
       "      <td>2002</td>\n",
       "      <td>Applied Water</td>\n",
       "      <td>AG1</td>\n",
       "      <td>Central Coast</td>\n",
       "      <td>Agriculture</td>\n",
       "      <td>1175.6</td>\n",
       "    </tr>\n",
       "  </tbody>\n",
       "</table>\n",
       "</div>"
      ],
      "text/plain": [
       "   Year      CategoryC CategoryD             HR    CategoryA  KAcreFt\n",
       "0  2002  Applied Water       AG1  Central Coast  Agriculture   1175.6"
      ]
     },
     "execution_count": 3,
     "metadata": {},
     "output_type": "execute_result"
    }
   ],
   "source": [
    "HR_2002 = \"HR_input/CA-DWR-WaterBalance-Level2-DP-1000-2002-HR.csv\"\n",
    "dfhr2002 = pd.read_csv(HR_2002)\n",
    "print(len(dfhr2002))\n",
    "dfhr2002.head(1)"
   ]
  },
  {
   "cell_type": "code",
   "execution_count": 4,
   "metadata": {},
   "outputs": [
    {
     "name": "stdout",
     "output_type": "stream",
     "text": [
      "2850\n"
     ]
    },
    {
     "data": {
      "text/html": [
       "<div>\n",
       "<style scoped>\n",
       "    .dataframe tbody tr th:only-of-type {\n",
       "        vertical-align: middle;\n",
       "    }\n",
       "\n",
       "    .dataframe tbody tr th {\n",
       "        vertical-align: top;\n",
       "    }\n",
       "\n",
       "    .dataframe thead th {\n",
       "        text-align: right;\n",
       "    }\n",
       "</style>\n",
       "<table border=\"1\" class=\"dataframe\">\n",
       "  <thead>\n",
       "    <tr style=\"text-align: right;\">\n",
       "      <th></th>\n",
       "      <th>Year</th>\n",
       "      <th>CategoryC</th>\n",
       "      <th>CategoryD</th>\n",
       "      <th>HR</th>\n",
       "      <th>CategoryA</th>\n",
       "      <th>KAcreFt</th>\n",
       "    </tr>\n",
       "  </thead>\n",
       "  <tbody>\n",
       "    <tr>\n",
       "      <th>0</th>\n",
       "      <td>2003</td>\n",
       "      <td>Applied Water</td>\n",
       "      <td>AG1</td>\n",
       "      <td>Central Coast</td>\n",
       "      <td>Agriculture</td>\n",
       "      <td>956.9</td>\n",
       "    </tr>\n",
       "  </tbody>\n",
       "</table>\n",
       "</div>"
      ],
      "text/plain": [
       "   Year      CategoryC CategoryD             HR    CategoryA  KAcreFt\n",
       "0  2003  Applied Water       AG1  Central Coast  Agriculture    956.9"
      ]
     },
     "execution_count": 4,
     "metadata": {},
     "output_type": "execute_result"
    }
   ],
   "source": [
    "HR_2003 = \"HR_input/CA-DWR-WaterBalance-Level2-DP-1000-2003-HR.csv\"\n",
    "dfhr2003 = pd.read_csv(HR_2003)\n",
    "print(len(dfhr2003))\n",
    "dfhr2003.head(1)"
   ]
  },
  {
   "cell_type": "code",
   "execution_count": 5,
   "metadata": {},
   "outputs": [
    {
     "name": "stdout",
     "output_type": "stream",
     "text": [
      "2830\n"
     ]
    },
    {
     "data": {
      "text/html": [
       "<div>\n",
       "<style scoped>\n",
       "    .dataframe tbody tr th:only-of-type {\n",
       "        vertical-align: middle;\n",
       "    }\n",
       "\n",
       "    .dataframe tbody tr th {\n",
       "        vertical-align: top;\n",
       "    }\n",
       "\n",
       "    .dataframe thead th {\n",
       "        text-align: right;\n",
       "    }\n",
       "</style>\n",
       "<table border=\"1\" class=\"dataframe\">\n",
       "  <thead>\n",
       "    <tr style=\"text-align: right;\">\n",
       "      <th></th>\n",
       "      <th>Year</th>\n",
       "      <th>CategoryC</th>\n",
       "      <th>CategoryD</th>\n",
       "      <th>HR</th>\n",
       "      <th>CategoryA</th>\n",
       "      <th>KAcreFt</th>\n",
       "    </tr>\n",
       "  </thead>\n",
       "  <tbody>\n",
       "    <tr>\n",
       "      <th>0</th>\n",
       "      <td>2004</td>\n",
       "      <td>Applied Water</td>\n",
       "      <td>AG1</td>\n",
       "      <td>Central Coast</td>\n",
       "      <td>Agriculture</td>\n",
       "      <td>1208.5</td>\n",
       "    </tr>\n",
       "  </tbody>\n",
       "</table>\n",
       "</div>"
      ],
      "text/plain": [
       "   Year      CategoryC CategoryD             HR    CategoryA  KAcreFt\n",
       "0  2004  Applied Water       AG1  Central Coast  Agriculture   1208.5"
      ]
     },
     "execution_count": 5,
     "metadata": {},
     "output_type": "execute_result"
    }
   ],
   "source": [
    "HR_2004 = \"HR_input/CA-DWR-WaterBalance-Level2-DP-1000-2004-HR.csv\"\n",
    "dfhr2004 = pd.read_csv(HR_2004)\n",
    "print(len(dfhr2004))\n",
    "dfhr2004.head(1)"
   ]
  },
  {
   "cell_type": "code",
   "execution_count": 6,
   "metadata": {},
   "outputs": [
    {
     "name": "stdout",
     "output_type": "stream",
     "text": [
      "2830\n"
     ]
    },
    {
     "data": {
      "text/html": [
       "<div>\n",
       "<style scoped>\n",
       "    .dataframe tbody tr th:only-of-type {\n",
       "        vertical-align: middle;\n",
       "    }\n",
       "\n",
       "    .dataframe tbody tr th {\n",
       "        vertical-align: top;\n",
       "    }\n",
       "\n",
       "    .dataframe thead th {\n",
       "        text-align: right;\n",
       "    }\n",
       "</style>\n",
       "<table border=\"1\" class=\"dataframe\">\n",
       "  <thead>\n",
       "    <tr style=\"text-align: right;\">\n",
       "      <th></th>\n",
       "      <th>Year</th>\n",
       "      <th>CategoryC</th>\n",
       "      <th>CategoryD</th>\n",
       "      <th>HR</th>\n",
       "      <th>CategoryA</th>\n",
       "      <th>KAcreFt</th>\n",
       "    </tr>\n",
       "  </thead>\n",
       "  <tbody>\n",
       "    <tr>\n",
       "      <th>0</th>\n",
       "      <td>2005</td>\n",
       "      <td>Applied Water</td>\n",
       "      <td>AG1</td>\n",
       "      <td>Central Coast</td>\n",
       "      <td>Agriculture</td>\n",
       "      <td>897.4</td>\n",
       "    </tr>\n",
       "  </tbody>\n",
       "</table>\n",
       "</div>"
      ],
      "text/plain": [
       "   Year      CategoryC CategoryD             HR    CategoryA  KAcreFt\n",
       "0  2005  Applied Water       AG1  Central Coast  Agriculture    897.4"
      ]
     },
     "execution_count": 6,
     "metadata": {},
     "output_type": "execute_result"
    }
   ],
   "source": [
    "HR_2005 = \"HR_input/CA-DWR-WaterBalance-Level2-DP-1000-2005-HR.csv\"\n",
    "dfhr2005 = pd.read_csv(HR_2005)\n",
    "print(len(dfhr2005))\n",
    "dfhr2005.head(1)"
   ]
  },
  {
   "cell_type": "code",
   "execution_count": 7,
   "metadata": {},
   "outputs": [
    {
     "name": "stdout",
     "output_type": "stream",
     "text": [
      "2830\n"
     ]
    },
    {
     "data": {
      "text/html": [
       "<div>\n",
       "<style scoped>\n",
       "    .dataframe tbody tr th:only-of-type {\n",
       "        vertical-align: middle;\n",
       "    }\n",
       "\n",
       "    .dataframe tbody tr th {\n",
       "        vertical-align: top;\n",
       "    }\n",
       "\n",
       "    .dataframe thead th {\n",
       "        text-align: right;\n",
       "    }\n",
       "</style>\n",
       "<table border=\"1\" class=\"dataframe\">\n",
       "  <thead>\n",
       "    <tr style=\"text-align: right;\">\n",
       "      <th></th>\n",
       "      <th>Year</th>\n",
       "      <th>CategoryC</th>\n",
       "      <th>CategoryD</th>\n",
       "      <th>HR</th>\n",
       "      <th>CategoryA</th>\n",
       "      <th>KAcreFt</th>\n",
       "    </tr>\n",
       "  </thead>\n",
       "  <tbody>\n",
       "    <tr>\n",
       "      <th>0</th>\n",
       "      <td>2006</td>\n",
       "      <td>Applied Water</td>\n",
       "      <td>AG1</td>\n",
       "      <td>Central Coast</td>\n",
       "      <td>Agriculture</td>\n",
       "      <td>789.0</td>\n",
       "    </tr>\n",
       "  </tbody>\n",
       "</table>\n",
       "</div>"
      ],
      "text/plain": [
       "   Year      CategoryC CategoryD             HR    CategoryA  KAcreFt\n",
       "0  2006  Applied Water       AG1  Central Coast  Agriculture    789.0"
      ]
     },
     "execution_count": 7,
     "metadata": {},
     "output_type": "execute_result"
    }
   ],
   "source": [
    "HR_2006 = \"HR_input/CA-DWR-WaterBalance-Level2-DP-1000-2006-HR.csv\"\n",
    "dfhr2006 = pd.read_csv(HR_2006)\n",
    "print(len(dfhr2006))\n",
    "dfhr2006.head(1)"
   ]
  },
  {
   "cell_type": "code",
   "execution_count": 8,
   "metadata": {},
   "outputs": [
    {
     "name": "stdout",
     "output_type": "stream",
     "text": [
      "2830\n"
     ]
    },
    {
     "data": {
      "text/html": [
       "<div>\n",
       "<style scoped>\n",
       "    .dataframe tbody tr th:only-of-type {\n",
       "        vertical-align: middle;\n",
       "    }\n",
       "\n",
       "    .dataframe tbody tr th {\n",
       "        vertical-align: top;\n",
       "    }\n",
       "\n",
       "    .dataframe thead th {\n",
       "        text-align: right;\n",
       "    }\n",
       "</style>\n",
       "<table border=\"1\" class=\"dataframe\">\n",
       "  <thead>\n",
       "    <tr style=\"text-align: right;\">\n",
       "      <th></th>\n",
       "      <th>Year</th>\n",
       "      <th>CategoryC</th>\n",
       "      <th>CategoryD</th>\n",
       "      <th>HR</th>\n",
       "      <th>CategoryA</th>\n",
       "      <th>KAcreFt</th>\n",
       "    </tr>\n",
       "  </thead>\n",
       "  <tbody>\n",
       "    <tr>\n",
       "      <th>0</th>\n",
       "      <td>2007</td>\n",
       "      <td>Applied Water</td>\n",
       "      <td>AG1</td>\n",
       "      <td>Central Coast</td>\n",
       "      <td>Agriculture</td>\n",
       "      <td>1200.2</td>\n",
       "    </tr>\n",
       "  </tbody>\n",
       "</table>\n",
       "</div>"
      ],
      "text/plain": [
       "   Year      CategoryC CategoryD             HR    CategoryA  KAcreFt\n",
       "0  2007  Applied Water       AG1  Central Coast  Agriculture   1200.2"
      ]
     },
     "execution_count": 8,
     "metadata": {},
     "output_type": "execute_result"
    }
   ],
   "source": [
    "HR_2007 = \"HR_input/CA-DWR-WaterBalance-Level2-DP-1000-2007-HR.csv\"\n",
    "dfhr2007 = pd.read_csv(HR_2007)\n",
    "print(len(dfhr2007))\n",
    "dfhr2007.head(1)"
   ]
  },
  {
   "cell_type": "code",
   "execution_count": 9,
   "metadata": {},
   "outputs": [
    {
     "name": "stdout",
     "output_type": "stream",
     "text": [
      "2830\n"
     ]
    },
    {
     "data": {
      "text/html": [
       "<div>\n",
       "<style scoped>\n",
       "    .dataframe tbody tr th:only-of-type {\n",
       "        vertical-align: middle;\n",
       "    }\n",
       "\n",
       "    .dataframe tbody tr th {\n",
       "        vertical-align: top;\n",
       "    }\n",
       "\n",
       "    .dataframe thead th {\n",
       "        text-align: right;\n",
       "    }\n",
       "</style>\n",
       "<table border=\"1\" class=\"dataframe\">\n",
       "  <thead>\n",
       "    <tr style=\"text-align: right;\">\n",
       "      <th></th>\n",
       "      <th>Year</th>\n",
       "      <th>CategoryC</th>\n",
       "      <th>CategoryD</th>\n",
       "      <th>HR</th>\n",
       "      <th>CategoryA</th>\n",
       "      <th>KAcreFt</th>\n",
       "    </tr>\n",
       "  </thead>\n",
       "  <tbody>\n",
       "    <tr>\n",
       "      <th>0</th>\n",
       "      <td>2008</td>\n",
       "      <td>Applied Water</td>\n",
       "      <td>AG1</td>\n",
       "      <td>Central Coast</td>\n",
       "      <td>Agriculture</td>\n",
       "      <td>1101.6</td>\n",
       "    </tr>\n",
       "  </tbody>\n",
       "</table>\n",
       "</div>"
      ],
      "text/plain": [
       "   Year      CategoryC CategoryD             HR    CategoryA  KAcreFt\n",
       "0  2008  Applied Water       AG1  Central Coast  Agriculture   1101.6"
      ]
     },
     "execution_count": 9,
     "metadata": {},
     "output_type": "execute_result"
    }
   ],
   "source": [
    "HR_2008 = \"HR_input/CA-DWR-WaterBalance-Level2-DP-1000-2008-HR.csv\"\n",
    "dfhr2008 = pd.read_csv(HR_2008)\n",
    "print(len(dfhr2008))\n",
    "dfhr2008.head(1)"
   ]
  },
  {
   "cell_type": "code",
   "execution_count": 10,
   "metadata": {},
   "outputs": [
    {
     "name": "stdout",
     "output_type": "stream",
     "text": [
      "2830\n"
     ]
    },
    {
     "data": {
      "text/html": [
       "<div>\n",
       "<style scoped>\n",
       "    .dataframe tbody tr th:only-of-type {\n",
       "        vertical-align: middle;\n",
       "    }\n",
       "\n",
       "    .dataframe tbody tr th {\n",
       "        vertical-align: top;\n",
       "    }\n",
       "\n",
       "    .dataframe thead th {\n",
       "        text-align: right;\n",
       "    }\n",
       "</style>\n",
       "<table border=\"1\" class=\"dataframe\">\n",
       "  <thead>\n",
       "    <tr style=\"text-align: right;\">\n",
       "      <th></th>\n",
       "      <th>Year</th>\n",
       "      <th>CategoryC</th>\n",
       "      <th>CategoryD</th>\n",
       "      <th>HR</th>\n",
       "      <th>CategoryA</th>\n",
       "      <th>KAcreFt</th>\n",
       "    </tr>\n",
       "  </thead>\n",
       "  <tbody>\n",
       "    <tr>\n",
       "      <th>0</th>\n",
       "      <td>2009</td>\n",
       "      <td>Applied Water</td>\n",
       "      <td>AG1</td>\n",
       "      <td>Central Coast</td>\n",
       "      <td>Agriculture</td>\n",
       "      <td>1034.4</td>\n",
       "    </tr>\n",
       "  </tbody>\n",
       "</table>\n",
       "</div>"
      ],
      "text/plain": [
       "   Year      CategoryC CategoryD             HR    CategoryA  KAcreFt\n",
       "0  2009  Applied Water       AG1  Central Coast  Agriculture   1034.4"
      ]
     },
     "execution_count": 10,
     "metadata": {},
     "output_type": "execute_result"
    }
   ],
   "source": [
    "HR_2009 = \"HR_input/CA-DWR-WaterBalance-Level2-DP-1000-2009-HR.csv\"\n",
    "dfhr2009 = pd.read_csv(HR_2009)\n",
    "print(len(dfhr2009))\n",
    "dfhr2009.head(1)"
   ]
  },
  {
   "cell_type": "code",
   "execution_count": 11,
   "metadata": {},
   "outputs": [
    {
     "name": "stdout",
     "output_type": "stream",
     "text": [
      "2830\n"
     ]
    },
    {
     "data": {
      "text/html": [
       "<div>\n",
       "<style scoped>\n",
       "    .dataframe tbody tr th:only-of-type {\n",
       "        vertical-align: middle;\n",
       "    }\n",
       "\n",
       "    .dataframe tbody tr th {\n",
       "        vertical-align: top;\n",
       "    }\n",
       "\n",
       "    .dataframe thead th {\n",
       "        text-align: right;\n",
       "    }\n",
       "</style>\n",
       "<table border=\"1\" class=\"dataframe\">\n",
       "  <thead>\n",
       "    <tr style=\"text-align: right;\">\n",
       "      <th></th>\n",
       "      <th>Year</th>\n",
       "      <th>CategoryC</th>\n",
       "      <th>CategoryD</th>\n",
       "      <th>HR</th>\n",
       "      <th>CategoryA</th>\n",
       "      <th>KAcreFt</th>\n",
       "    </tr>\n",
       "  </thead>\n",
       "  <tbody>\n",
       "    <tr>\n",
       "      <th>0</th>\n",
       "      <td>2010</td>\n",
       "      <td>Applied Water</td>\n",
       "      <td>AG1</td>\n",
       "      <td>Central Coast</td>\n",
       "      <td>Agriculture</td>\n",
       "      <td>859.5</td>\n",
       "    </tr>\n",
       "  </tbody>\n",
       "</table>\n",
       "</div>"
      ],
      "text/plain": [
       "   Year      CategoryC CategoryD             HR    CategoryA  KAcreFt\n",
       "0  2010  Applied Water       AG1  Central Coast  Agriculture    859.5"
      ]
     },
     "execution_count": 11,
     "metadata": {},
     "output_type": "execute_result"
    }
   ],
   "source": [
    "HR_2010 = \"HR_input/CA-DWR-WaterBalance-Level2-DP-1000-2010-HR.csv\"\n",
    "dfhr2010 = pd.read_csv(HR_2010)\n",
    "print(len(dfhr2010))\n",
    "dfhr2010.head(1)"
   ]
  },
  {
   "cell_type": "code",
   "execution_count": 12,
   "metadata": {},
   "outputs": [
    {
     "name": "stdout",
     "output_type": "stream",
     "text": [
      "2850\n"
     ]
    },
    {
     "data": {
      "text/html": [
       "<div>\n",
       "<style scoped>\n",
       "    .dataframe tbody tr th:only-of-type {\n",
       "        vertical-align: middle;\n",
       "    }\n",
       "\n",
       "    .dataframe tbody tr th {\n",
       "        vertical-align: top;\n",
       "    }\n",
       "\n",
       "    .dataframe thead th {\n",
       "        text-align: right;\n",
       "    }\n",
       "</style>\n",
       "<table border=\"1\" class=\"dataframe\">\n",
       "  <thead>\n",
       "    <tr style=\"text-align: right;\">\n",
       "      <th></th>\n",
       "      <th>Year</th>\n",
       "      <th>CategoryC</th>\n",
       "      <th>CategoryD</th>\n",
       "      <th>HR</th>\n",
       "      <th>CategoryA</th>\n",
       "      <th>KAcreFt</th>\n",
       "    </tr>\n",
       "  </thead>\n",
       "  <tbody>\n",
       "    <tr>\n",
       "      <th>0</th>\n",
       "      <td>2011</td>\n",
       "      <td>Applied Water</td>\n",
       "      <td>AG1</td>\n",
       "      <td>Central Coast</td>\n",
       "      <td>Agriculture</td>\n",
       "      <td>893.8</td>\n",
       "    </tr>\n",
       "  </tbody>\n",
       "</table>\n",
       "</div>"
      ],
      "text/plain": [
       "   Year      CategoryC CategoryD             HR    CategoryA  KAcreFt\n",
       "0  2011  Applied Water       AG1  Central Coast  Agriculture    893.8"
      ]
     },
     "execution_count": 12,
     "metadata": {},
     "output_type": "execute_result"
    }
   ],
   "source": [
    "HR_2011 = \"HR_input/CA-DWR-WaterBalance-Level2-DP-1000-2011-HR.csv\"\n",
    "dfhr2011 = pd.read_csv(HR_2011)\n",
    "print(len(dfhr2011))\n",
    "dfhr2011.head(1)"
   ]
  },
  {
   "cell_type": "code",
   "execution_count": 13,
   "metadata": {},
   "outputs": [
    {
     "name": "stdout",
     "output_type": "stream",
     "text": [
      "2850\n"
     ]
    },
    {
     "data": {
      "text/html": [
       "<div>\n",
       "<style scoped>\n",
       "    .dataframe tbody tr th:only-of-type {\n",
       "        vertical-align: middle;\n",
       "    }\n",
       "\n",
       "    .dataframe tbody tr th {\n",
       "        vertical-align: top;\n",
       "    }\n",
       "\n",
       "    .dataframe thead th {\n",
       "        text-align: right;\n",
       "    }\n",
       "</style>\n",
       "<table border=\"1\" class=\"dataframe\">\n",
       "  <thead>\n",
       "    <tr style=\"text-align: right;\">\n",
       "      <th></th>\n",
       "      <th>Year</th>\n",
       "      <th>CategoryC</th>\n",
       "      <th>CategoryD</th>\n",
       "      <th>HR</th>\n",
       "      <th>CategoryA</th>\n",
       "      <th>KAcreFt</th>\n",
       "    </tr>\n",
       "  </thead>\n",
       "  <tbody>\n",
       "    <tr>\n",
       "      <th>0</th>\n",
       "      <td>2012</td>\n",
       "      <td>Applied Water</td>\n",
       "      <td>AG1</td>\n",
       "      <td>Central Coast</td>\n",
       "      <td>Agriculture</td>\n",
       "      <td>991.6</td>\n",
       "    </tr>\n",
       "  </tbody>\n",
       "</table>\n",
       "</div>"
      ],
      "text/plain": [
       "   Year      CategoryC CategoryD             HR    CategoryA  KAcreFt\n",
       "0  2012  Applied Water       AG1  Central Coast  Agriculture    991.6"
      ]
     },
     "execution_count": 13,
     "metadata": {},
     "output_type": "execute_result"
    }
   ],
   "source": [
    "HR_2012 = \"HR_input/CA-DWR-WaterBalance-Level2-DP-1000-2012-HR.csv\"\n",
    "dfhr2012 = pd.read_csv(HR_2012)\n",
    "print(len(dfhr2012))\n",
    "dfhr2012.head(1)"
   ]
  },
  {
   "cell_type": "code",
   "execution_count": 14,
   "metadata": {},
   "outputs": [
    {
     "name": "stdout",
     "output_type": "stream",
     "text": [
      "2850\n"
     ]
    },
    {
     "data": {
      "text/html": [
       "<div>\n",
       "<style scoped>\n",
       "    .dataframe tbody tr th:only-of-type {\n",
       "        vertical-align: middle;\n",
       "    }\n",
       "\n",
       "    .dataframe tbody tr th {\n",
       "        vertical-align: top;\n",
       "    }\n",
       "\n",
       "    .dataframe thead th {\n",
       "        text-align: right;\n",
       "    }\n",
       "</style>\n",
       "<table border=\"1\" class=\"dataframe\">\n",
       "  <thead>\n",
       "    <tr style=\"text-align: right;\">\n",
       "      <th></th>\n",
       "      <th>Year</th>\n",
       "      <th>CategoryC</th>\n",
       "      <th>CategoryD</th>\n",
       "      <th>HR</th>\n",
       "      <th>CategoryA</th>\n",
       "      <th>KAcreFt</th>\n",
       "    </tr>\n",
       "  </thead>\n",
       "  <tbody>\n",
       "    <tr>\n",
       "      <th>0</th>\n",
       "      <td>2013</td>\n",
       "      <td>Applied Water</td>\n",
       "      <td>AG1</td>\n",
       "      <td>Central Coast</td>\n",
       "      <td>Agriculture</td>\n",
       "      <td>1246.7</td>\n",
       "    </tr>\n",
       "  </tbody>\n",
       "</table>\n",
       "</div>"
      ],
      "text/plain": [
       "   Year      CategoryC CategoryD             HR    CategoryA  KAcreFt\n",
       "0  2013  Applied Water       AG1  Central Coast  Agriculture   1246.7"
      ]
     },
     "execution_count": 14,
     "metadata": {},
     "output_type": "execute_result"
    }
   ],
   "source": [
    "HR_2013 = \"HR_input/CA-DWR-WaterBalance-Level2-DP-1000-2013-HR.csv\"\n",
    "dfhr2013 = pd.read_csv(HR_2013)\n",
    "print(len(dfhr2013))\n",
    "dfhr2013.head(1)"
   ]
  },
  {
   "cell_type": "code",
   "execution_count": 15,
   "metadata": {},
   "outputs": [
    {
     "name": "stdout",
     "output_type": "stream",
     "text": [
      "2850\n"
     ]
    },
    {
     "data": {
      "text/html": [
       "<div>\n",
       "<style scoped>\n",
       "    .dataframe tbody tr th:only-of-type {\n",
       "        vertical-align: middle;\n",
       "    }\n",
       "\n",
       "    .dataframe tbody tr th {\n",
       "        vertical-align: top;\n",
       "    }\n",
       "\n",
       "    .dataframe thead th {\n",
       "        text-align: right;\n",
       "    }\n",
       "</style>\n",
       "<table border=\"1\" class=\"dataframe\">\n",
       "  <thead>\n",
       "    <tr style=\"text-align: right;\">\n",
       "      <th></th>\n",
       "      <th>Year</th>\n",
       "      <th>CategoryC</th>\n",
       "      <th>CategoryD</th>\n",
       "      <th>HR</th>\n",
       "      <th>CategoryA</th>\n",
       "      <th>KAcreFt</th>\n",
       "    </tr>\n",
       "  </thead>\n",
       "  <tbody>\n",
       "    <tr>\n",
       "      <th>0</th>\n",
       "      <td>2014</td>\n",
       "      <td>Applied Water</td>\n",
       "      <td>AG1</td>\n",
       "      <td>Central Coast</td>\n",
       "      <td>Agriculture</td>\n",
       "      <td>1256.4</td>\n",
       "    </tr>\n",
       "  </tbody>\n",
       "</table>\n",
       "</div>"
      ],
      "text/plain": [
       "   Year      CategoryC CategoryD             HR    CategoryA  KAcreFt\n",
       "0  2014  Applied Water       AG1  Central Coast  Agriculture   1256.4"
      ]
     },
     "execution_count": 15,
     "metadata": {},
     "output_type": "execute_result"
    }
   ],
   "source": [
    "HR_2014 = \"HR_input/CA-DWR-WaterBalance-Level2-DP-1000-2014-HR.csv\"\n",
    "dfhr2014 = pd.read_csv(HR_2014)\n",
    "print(len(dfhr2014))\n",
    "dfhr2014.head(1)"
   ]
  },
  {
   "cell_type": "code",
   "execution_count": 16,
   "metadata": {},
   "outputs": [
    {
     "name": "stdout",
     "output_type": "stream",
     "text": [
      "2850\n"
     ]
    }
   ],
   "source": [
    "HR_2015 = \"HR_input/CA-DWR-WaterBalance-Level2-DP-1000-2015-HR.csv\"\n",
    "dfhr2015 = pd.read_csv(HR_2015)\n",
    "print(len(dfhr2015))"
   ]
  },
  {
   "cell_type": "code",
   "execution_count": 17,
   "metadata": {},
   "outputs": [
    {
     "name": "stdout",
     "output_type": "stream",
     "text": [
      "2850\n"
     ]
    },
    {
     "data": {
      "text/html": [
       "<div>\n",
       "<style scoped>\n",
       "    .dataframe tbody tr th:only-of-type {\n",
       "        vertical-align: middle;\n",
       "    }\n",
       "\n",
       "    .dataframe tbody tr th {\n",
       "        vertical-align: top;\n",
       "    }\n",
       "\n",
       "    .dataframe thead th {\n",
       "        text-align: right;\n",
       "    }\n",
       "</style>\n",
       "<table border=\"1\" class=\"dataframe\">\n",
       "  <thead>\n",
       "    <tr style=\"text-align: right;\">\n",
       "      <th></th>\n",
       "      <th>Year</th>\n",
       "      <th>CategoryC</th>\n",
       "      <th>CategoryD</th>\n",
       "      <th>HR</th>\n",
       "      <th>CategoryA</th>\n",
       "      <th>KAcreFt</th>\n",
       "    </tr>\n",
       "  </thead>\n",
       "  <tbody>\n",
       "    <tr>\n",
       "      <th>0</th>\n",
       "      <td>2016</td>\n",
       "      <td>Applied Water</td>\n",
       "      <td>AG1</td>\n",
       "      <td>Central Coast</td>\n",
       "      <td>Agriculture</td>\n",
       "      <td>1028.9</td>\n",
       "    </tr>\n",
       "  </tbody>\n",
       "</table>\n",
       "</div>"
      ],
      "text/plain": [
       "   Year      CategoryC CategoryD             HR    CategoryA  KAcreFt\n",
       "0  2016  Applied Water       AG1  Central Coast  Agriculture   1028.9"
      ]
     },
     "execution_count": 17,
     "metadata": {},
     "output_type": "execute_result"
    }
   ],
   "source": [
    "HR_2016 = \"HR_input/CA-DWR-WaterBalance-Level2-DP-1000-2016-HR.csv\"\n",
    "dfhr2016 = pd.read_csv(HR_2016)\n",
    "print(len(dfhr2016))\n",
    "dfhr2016.head(1)"
   ]
  },
  {
   "cell_type": "code",
   "execution_count": 18,
   "metadata": {
    "scrolled": true
   },
   "outputs": [
    {
     "name": "stdout",
     "output_type": "stream",
     "text": [
      "42610\n"
     ]
    },
    {
     "data": {
      "text/plain": [
       "array([2002, 2003, 2004, 2005, 2006, 2007, 2008, 2009, 2010, 2011, 2012,\n",
       "       2013, 2014, 2015, 2016], dtype=int64)"
      ]
     },
     "execution_count": 18,
     "metadata": {},
     "output_type": "execute_result"
    }
   ],
   "source": [
    "# Concatenate HR inputs into one dataframe\n",
    "frames = [dfhr2002,dfhr2003,dfhr2004,dfhr2005,dfhr2006,dfhr2007,dfhr2008,\n",
    "          dfhr2009,dfhr2010,dfhr2011,dfhr2012,dfhr2013,dfhr2014,dfhr2015,dfhr2016]\n",
    "dfHR = pd.concat(frames).reset_index(drop=True)\n",
    "print(len(dfHR))\n",
    "dfHR['Year'].unique()"
   ]
  },
  {
   "cell_type": "markdown",
   "metadata": {},
   "source": [
    "#### planning area (PA)"
   ]
  },
  {
   "cell_type": "code",
   "execution_count": 19,
   "metadata": {},
   "outputs": [
    {
     "name": "stdout",
     "output_type": "stream",
     "text": [
      "15960\n"
     ]
    },
    {
     "data": {
      "text/html": [
       "<div>\n",
       "<style scoped>\n",
       "    .dataframe tbody tr th:only-of-type {\n",
       "        vertical-align: middle;\n",
       "    }\n",
       "\n",
       "    .dataframe tbody tr th {\n",
       "        vertical-align: top;\n",
       "    }\n",
       "\n",
       "    .dataframe thead th {\n",
       "        text-align: right;\n",
       "    }\n",
       "</style>\n",
       "<table border=\"1\" class=\"dataframe\">\n",
       "  <thead>\n",
       "    <tr style=\"text-align: right;\">\n",
       "      <th></th>\n",
       "      <th>Year</th>\n",
       "      <th>CategoryC</th>\n",
       "      <th>CategoryD</th>\n",
       "      <th>PA</th>\n",
       "      <th>CategoryA</th>\n",
       "      <th>KAcreFt</th>\n",
       "    </tr>\n",
       "  </thead>\n",
       "  <tbody>\n",
       "    <tr>\n",
       "      <th>0</th>\n",
       "      <td>2002</td>\n",
       "      <td>Applied Water</td>\n",
       "      <td>AG1</td>\n",
       "      <td>101</td>\n",
       "      <td>Agriculture</td>\n",
       "      <td>664.4</td>\n",
       "    </tr>\n",
       "  </tbody>\n",
       "</table>\n",
       "</div>"
      ],
      "text/plain": [
       "   Year      CategoryC CategoryD   PA    CategoryA  KAcreFt\n",
       "0  2002  Applied Water       AG1  101  Agriculture    664.4"
      ]
     },
     "execution_count": 19,
     "metadata": {},
     "output_type": "execute_result"
    }
   ],
   "source": [
    "PA_2002 = \"PA_input/CA-DWR-WaterBalance-Level2-DP-1000-2002-PA.csv\"\n",
    "dfpa2002 = pd.read_csv(PA_2002)\n",
    "print(len(dfpa2002))\n",
    "dfpa2002.head(1)"
   ]
  },
  {
   "cell_type": "code",
   "execution_count": 20,
   "metadata": {},
   "outputs": [
    {
     "name": "stdout",
     "output_type": "stream",
     "text": [
      "15960\n"
     ]
    },
    {
     "data": {
      "text/html": [
       "<div>\n",
       "<style scoped>\n",
       "    .dataframe tbody tr th:only-of-type {\n",
       "        vertical-align: middle;\n",
       "    }\n",
       "\n",
       "    .dataframe tbody tr th {\n",
       "        vertical-align: top;\n",
       "    }\n",
       "\n",
       "    .dataframe thead th {\n",
       "        text-align: right;\n",
       "    }\n",
       "</style>\n",
       "<table border=\"1\" class=\"dataframe\">\n",
       "  <thead>\n",
       "    <tr style=\"text-align: right;\">\n",
       "      <th></th>\n",
       "      <th>Year</th>\n",
       "      <th>CategoryC</th>\n",
       "      <th>CategoryD</th>\n",
       "      <th>PA</th>\n",
       "      <th>CategoryA</th>\n",
       "      <th>KAcreFt</th>\n",
       "    </tr>\n",
       "  </thead>\n",
       "  <tbody>\n",
       "    <tr>\n",
       "      <th>0</th>\n",
       "      <td>2003</td>\n",
       "      <td>Applied Water</td>\n",
       "      <td>AG1</td>\n",
       "      <td>101</td>\n",
       "      <td>Agriculture</td>\n",
       "      <td>542.0</td>\n",
       "    </tr>\n",
       "  </tbody>\n",
       "</table>\n",
       "</div>"
      ],
      "text/plain": [
       "   Year      CategoryC CategoryD   PA    CategoryA  KAcreFt\n",
       "0  2003  Applied Water       AG1  101  Agriculture    542.0"
      ]
     },
     "execution_count": 20,
     "metadata": {},
     "output_type": "execute_result"
    }
   ],
   "source": [
    "PA_2003 = \"PA_input/CA-DWR-WaterBalance-Level2-DP-1000-2003-PA.csv\"\n",
    "dfpa2003 = pd.read_csv(PA_2003)\n",
    "print(len(dfpa2003))\n",
    "dfpa2003.head(1)"
   ]
  },
  {
   "cell_type": "code",
   "execution_count": 21,
   "metadata": {},
   "outputs": [
    {
     "name": "stdout",
     "output_type": "stream",
     "text": [
      "15848\n"
     ]
    },
    {
     "data": {
      "text/html": [
       "<div>\n",
       "<style scoped>\n",
       "    .dataframe tbody tr th:only-of-type {\n",
       "        vertical-align: middle;\n",
       "    }\n",
       "\n",
       "    .dataframe tbody tr th {\n",
       "        vertical-align: top;\n",
       "    }\n",
       "\n",
       "    .dataframe thead th {\n",
       "        text-align: right;\n",
       "    }\n",
       "</style>\n",
       "<table border=\"1\" class=\"dataframe\">\n",
       "  <thead>\n",
       "    <tr style=\"text-align: right;\">\n",
       "      <th></th>\n",
       "      <th>Year</th>\n",
       "      <th>CategoryC</th>\n",
       "      <th>CategoryD</th>\n",
       "      <th>PA</th>\n",
       "      <th>CategoryA</th>\n",
       "      <th>KAcreFt</th>\n",
       "    </tr>\n",
       "  </thead>\n",
       "  <tbody>\n",
       "    <tr>\n",
       "      <th>0</th>\n",
       "      <td>2004</td>\n",
       "      <td>Applied Water</td>\n",
       "      <td>AG1</td>\n",
       "      <td>101</td>\n",
       "      <td>Agriculture</td>\n",
       "      <td>562.9</td>\n",
       "    </tr>\n",
       "  </tbody>\n",
       "</table>\n",
       "</div>"
      ],
      "text/plain": [
       "   Year      CategoryC CategoryD   PA    CategoryA  KAcreFt\n",
       "0  2004  Applied Water       AG1  101  Agriculture    562.9"
      ]
     },
     "execution_count": 21,
     "metadata": {},
     "output_type": "execute_result"
    }
   ],
   "source": [
    "PA_2004 = \"PA_input/CA-DWR-WaterBalance-Level2-DP-1000-2004-PA.csv\"\n",
    "dfpa2004 = pd.read_csv(PA_2004)\n",
    "print(len(dfpa2004))\n",
    "dfpa2004.head(1)"
   ]
  },
  {
   "cell_type": "code",
   "execution_count": 22,
   "metadata": {},
   "outputs": [
    {
     "name": "stdout",
     "output_type": "stream",
     "text": [
      "15848\n"
     ]
    },
    {
     "data": {
      "text/html": [
       "<div>\n",
       "<style scoped>\n",
       "    .dataframe tbody tr th:only-of-type {\n",
       "        vertical-align: middle;\n",
       "    }\n",
       "\n",
       "    .dataframe tbody tr th {\n",
       "        vertical-align: top;\n",
       "    }\n",
       "\n",
       "    .dataframe thead th {\n",
       "        text-align: right;\n",
       "    }\n",
       "</style>\n",
       "<table border=\"1\" class=\"dataframe\">\n",
       "  <thead>\n",
       "    <tr style=\"text-align: right;\">\n",
       "      <th></th>\n",
       "      <th>Year</th>\n",
       "      <th>CategoryC</th>\n",
       "      <th>CategoryD</th>\n",
       "      <th>PA</th>\n",
       "      <th>CategoryA</th>\n",
       "      <th>KAcreFt</th>\n",
       "    </tr>\n",
       "  </thead>\n",
       "  <tbody>\n",
       "    <tr>\n",
       "      <th>0</th>\n",
       "      <td>2005</td>\n",
       "      <td>Applied Water</td>\n",
       "      <td>AG1</td>\n",
       "      <td>101</td>\n",
       "      <td>Agriculture</td>\n",
       "      <td>464.2</td>\n",
       "    </tr>\n",
       "  </tbody>\n",
       "</table>\n",
       "</div>"
      ],
      "text/plain": [
       "   Year      CategoryC CategoryD   PA    CategoryA  KAcreFt\n",
       "0  2005  Applied Water       AG1  101  Agriculture    464.2"
      ]
     },
     "execution_count": 22,
     "metadata": {},
     "output_type": "execute_result"
    }
   ],
   "source": [
    "PA_2005 = \"PA_input/CA-DWR-WaterBalance-Level2-DP-1000-2005-PA.csv\"\n",
    "dfpa2005 = pd.read_csv(PA_2005)\n",
    "print(len(dfpa2005))\n",
    "dfpa2005.head(1)"
   ]
  },
  {
   "cell_type": "code",
   "execution_count": 23,
   "metadata": {},
   "outputs": [
    {
     "name": "stdout",
     "output_type": "stream",
     "text": [
      "15848\n"
     ]
    },
    {
     "data": {
      "text/html": [
       "<div>\n",
       "<style scoped>\n",
       "    .dataframe tbody tr th:only-of-type {\n",
       "        vertical-align: middle;\n",
       "    }\n",
       "\n",
       "    .dataframe tbody tr th {\n",
       "        vertical-align: top;\n",
       "    }\n",
       "\n",
       "    .dataframe thead th {\n",
       "        text-align: right;\n",
       "    }\n",
       "</style>\n",
       "<table border=\"1\" class=\"dataframe\">\n",
       "  <thead>\n",
       "    <tr style=\"text-align: right;\">\n",
       "      <th></th>\n",
       "      <th>Year</th>\n",
       "      <th>CategoryC</th>\n",
       "      <th>CategoryD</th>\n",
       "      <th>PA</th>\n",
       "      <th>CategoryA</th>\n",
       "      <th>KAcreFt</th>\n",
       "    </tr>\n",
       "  </thead>\n",
       "  <tbody>\n",
       "    <tr>\n",
       "      <th>0</th>\n",
       "      <td>2006</td>\n",
       "      <td>Applied Water</td>\n",
       "      <td>AG1</td>\n",
       "      <td>101</td>\n",
       "      <td>Agriculture</td>\n",
       "      <td>595.1</td>\n",
       "    </tr>\n",
       "  </tbody>\n",
       "</table>\n",
       "</div>"
      ],
      "text/plain": [
       "   Year      CategoryC CategoryD   PA    CategoryA  KAcreFt\n",
       "0  2006  Applied Water       AG1  101  Agriculture    595.1"
      ]
     },
     "execution_count": 23,
     "metadata": {},
     "output_type": "execute_result"
    }
   ],
   "source": [
    "PA_2006 = \"PA_input/CA-DWR-WaterBalance-Level2-DP-1000-2006-PA.csv\"\n",
    "dfpa2006 = pd.read_csv(PA_2006)\n",
    "print(len(dfpa2006))\n",
    "dfpa2006.head(1)"
   ]
  },
  {
   "cell_type": "code",
   "execution_count": 24,
   "metadata": {},
   "outputs": [
    {
     "name": "stdout",
     "output_type": "stream",
     "text": [
      "15848\n"
     ]
    },
    {
     "data": {
      "text/html": [
       "<div>\n",
       "<style scoped>\n",
       "    .dataframe tbody tr th:only-of-type {\n",
       "        vertical-align: middle;\n",
       "    }\n",
       "\n",
       "    .dataframe tbody tr th {\n",
       "        vertical-align: top;\n",
       "    }\n",
       "\n",
       "    .dataframe thead th {\n",
       "        text-align: right;\n",
       "    }\n",
       "</style>\n",
       "<table border=\"1\" class=\"dataframe\">\n",
       "  <thead>\n",
       "    <tr style=\"text-align: right;\">\n",
       "      <th></th>\n",
       "      <th>Year</th>\n",
       "      <th>CategoryC</th>\n",
       "      <th>CategoryD</th>\n",
       "      <th>PA</th>\n",
       "      <th>CategoryA</th>\n",
       "      <th>KAcreFt</th>\n",
       "    </tr>\n",
       "  </thead>\n",
       "  <tbody>\n",
       "    <tr>\n",
       "      <th>0</th>\n",
       "      <td>2007</td>\n",
       "      <td>Applied Water</td>\n",
       "      <td>AG1</td>\n",
       "      <td>101</td>\n",
       "      <td>Agriculture</td>\n",
       "      <td>617.5</td>\n",
       "    </tr>\n",
       "  </tbody>\n",
       "</table>\n",
       "</div>"
      ],
      "text/plain": [
       "   Year      CategoryC CategoryD   PA    CategoryA  KAcreFt\n",
       "0  2007  Applied Water       AG1  101  Agriculture    617.5"
      ]
     },
     "execution_count": 24,
     "metadata": {},
     "output_type": "execute_result"
    }
   ],
   "source": [
    "PA_2007 = \"PA_input/CA-DWR-WaterBalance-Level2-DP-1000-2007-PA.csv\"\n",
    "dfpa2007 = pd.read_csv(PA_2007)\n",
    "print(len(dfpa2007))\n",
    "dfpa2007.head(1)"
   ]
  },
  {
   "cell_type": "code",
   "execution_count": 25,
   "metadata": {},
   "outputs": [
    {
     "name": "stdout",
     "output_type": "stream",
     "text": [
      "15848\n"
     ]
    },
    {
     "data": {
      "text/html": [
       "<div>\n",
       "<style scoped>\n",
       "    .dataframe tbody tr th:only-of-type {\n",
       "        vertical-align: middle;\n",
       "    }\n",
       "\n",
       "    .dataframe tbody tr th {\n",
       "        vertical-align: top;\n",
       "    }\n",
       "\n",
       "    .dataframe thead th {\n",
       "        text-align: right;\n",
       "    }\n",
       "</style>\n",
       "<table border=\"1\" class=\"dataframe\">\n",
       "  <thead>\n",
       "    <tr style=\"text-align: right;\">\n",
       "      <th></th>\n",
       "      <th>Year</th>\n",
       "      <th>CategoryC</th>\n",
       "      <th>CategoryD</th>\n",
       "      <th>PA</th>\n",
       "      <th>CategoryA</th>\n",
       "      <th>KAcreFt</th>\n",
       "    </tr>\n",
       "  </thead>\n",
       "  <tbody>\n",
       "    <tr>\n",
       "      <th>0</th>\n",
       "      <td>2008</td>\n",
       "      <td>Applied Water</td>\n",
       "      <td>AG1</td>\n",
       "      <td>101</td>\n",
       "      <td>Agriculture</td>\n",
       "      <td>581.4</td>\n",
       "    </tr>\n",
       "  </tbody>\n",
       "</table>\n",
       "</div>"
      ],
      "text/plain": [
       "   Year      CategoryC CategoryD   PA    CategoryA  KAcreFt\n",
       "0  2008  Applied Water       AG1  101  Agriculture    581.4"
      ]
     },
     "execution_count": 25,
     "metadata": {},
     "output_type": "execute_result"
    }
   ],
   "source": [
    "PA_2008 = \"PA_input/CA-DWR-WaterBalance-Level2-DP-1000-2008-PA.csv\"\n",
    "dfpa2008 = pd.read_csv(PA_2008)\n",
    "print(len(dfpa2008))\n",
    "dfpa2008.head(1)"
   ]
  },
  {
   "cell_type": "code",
   "execution_count": 26,
   "metadata": {},
   "outputs": [
    {
     "name": "stdout",
     "output_type": "stream",
     "text": [
      "15848\n"
     ]
    },
    {
     "data": {
      "text/html": [
       "<div>\n",
       "<style scoped>\n",
       "    .dataframe tbody tr th:only-of-type {\n",
       "        vertical-align: middle;\n",
       "    }\n",
       "\n",
       "    .dataframe tbody tr th {\n",
       "        vertical-align: top;\n",
       "    }\n",
       "\n",
       "    .dataframe thead th {\n",
       "        text-align: right;\n",
       "    }\n",
       "</style>\n",
       "<table border=\"1\" class=\"dataframe\">\n",
       "  <thead>\n",
       "    <tr style=\"text-align: right;\">\n",
       "      <th></th>\n",
       "      <th>Year</th>\n",
       "      <th>CategoryC</th>\n",
       "      <th>CategoryD</th>\n",
       "      <th>PA</th>\n",
       "      <th>CategoryA</th>\n",
       "      <th>KAcreFt</th>\n",
       "    </tr>\n",
       "  </thead>\n",
       "  <tbody>\n",
       "    <tr>\n",
       "      <th>0</th>\n",
       "      <td>2009</td>\n",
       "      <td>Applied Water</td>\n",
       "      <td>AG1</td>\n",
       "      <td>101</td>\n",
       "      <td>Agriculture</td>\n",
       "      <td>550.8</td>\n",
       "    </tr>\n",
       "  </tbody>\n",
       "</table>\n",
       "</div>"
      ],
      "text/plain": [
       "   Year      CategoryC CategoryD   PA    CategoryA  KAcreFt\n",
       "0  2009  Applied Water       AG1  101  Agriculture    550.8"
      ]
     },
     "execution_count": 26,
     "metadata": {},
     "output_type": "execute_result"
    }
   ],
   "source": [
    "PA_2009 = \"PA_input/CA-DWR-WaterBalance-Level2-DP-1000-2009-PA.csv\"\n",
    "dfpa2009 = pd.read_csv(PA_2009)\n",
    "print(len(dfpa2009))\n",
    "dfpa2009.head(1)"
   ]
  },
  {
   "cell_type": "code",
   "execution_count": 27,
   "metadata": {},
   "outputs": [
    {
     "name": "stdout",
     "output_type": "stream",
     "text": [
      "15848\n"
     ]
    },
    {
     "data": {
      "text/html": [
       "<div>\n",
       "<style scoped>\n",
       "    .dataframe tbody tr th:only-of-type {\n",
       "        vertical-align: middle;\n",
       "    }\n",
       "\n",
       "    .dataframe tbody tr th {\n",
       "        vertical-align: top;\n",
       "    }\n",
       "\n",
       "    .dataframe thead th {\n",
       "        text-align: right;\n",
       "    }\n",
       "</style>\n",
       "<table border=\"1\" class=\"dataframe\">\n",
       "  <thead>\n",
       "    <tr style=\"text-align: right;\">\n",
       "      <th></th>\n",
       "      <th>Year</th>\n",
       "      <th>CategoryC</th>\n",
       "      <th>CategoryD</th>\n",
       "      <th>PA</th>\n",
       "      <th>CategoryA</th>\n",
       "      <th>KAcreFt</th>\n",
       "    </tr>\n",
       "  </thead>\n",
       "  <tbody>\n",
       "    <tr>\n",
       "      <th>0</th>\n",
       "      <td>2010</td>\n",
       "      <td>Applied Water</td>\n",
       "      <td>AG1</td>\n",
       "      <td>101</td>\n",
       "      <td>Agriculture</td>\n",
       "      <td>616.7</td>\n",
       "    </tr>\n",
       "  </tbody>\n",
       "</table>\n",
       "</div>"
      ],
      "text/plain": [
       "   Year      CategoryC CategoryD   PA    CategoryA  KAcreFt\n",
       "0  2010  Applied Water       AG1  101  Agriculture    616.7"
      ]
     },
     "execution_count": 27,
     "metadata": {},
     "output_type": "execute_result"
    }
   ],
   "source": [
    "PA_2010 = \"PA_input/CA-DWR-WaterBalance-Level2-DP-1000-2010-PA.csv\"\n",
    "dfpa2010 = pd.read_csv(PA_2010)\n",
    "print(len(dfpa2010))\n",
    "dfpa2010.head(1)"
   ]
  },
  {
   "cell_type": "code",
   "execution_count": 28,
   "metadata": {},
   "outputs": [
    {
     "name": "stdout",
     "output_type": "stream",
     "text": [
      "15960\n"
     ]
    },
    {
     "data": {
      "text/html": [
       "<div>\n",
       "<style scoped>\n",
       "    .dataframe tbody tr th:only-of-type {\n",
       "        vertical-align: middle;\n",
       "    }\n",
       "\n",
       "    .dataframe tbody tr th {\n",
       "        vertical-align: top;\n",
       "    }\n",
       "\n",
       "    .dataframe thead th {\n",
       "        text-align: right;\n",
       "    }\n",
       "</style>\n",
       "<table border=\"1\" class=\"dataframe\">\n",
       "  <thead>\n",
       "    <tr style=\"text-align: right;\">\n",
       "      <th></th>\n",
       "      <th>Year</th>\n",
       "      <th>CategoryC</th>\n",
       "      <th>CategoryD</th>\n",
       "      <th>PA</th>\n",
       "      <th>CategoryA</th>\n",
       "      <th>KAcreFt</th>\n",
       "    </tr>\n",
       "  </thead>\n",
       "  <tbody>\n",
       "    <tr>\n",
       "      <th>0</th>\n",
       "      <td>2011</td>\n",
       "      <td>Applied Water</td>\n",
       "      <td>AG1</td>\n",
       "      <td>101</td>\n",
       "      <td>Agriculture</td>\n",
       "      <td>347.2</td>\n",
       "    </tr>\n",
       "  </tbody>\n",
       "</table>\n",
       "</div>"
      ],
      "text/plain": [
       "   Year      CategoryC CategoryD   PA    CategoryA  KAcreFt\n",
       "0  2011  Applied Water       AG1  101  Agriculture    347.2"
      ]
     },
     "execution_count": 28,
     "metadata": {},
     "output_type": "execute_result"
    }
   ],
   "source": [
    "PA_2011 = \"PA_input/CA-DWR-WaterBalance-Level2-DP-1000-2011-PA.csv\"\n",
    "dfpa2011 = pd.read_csv(PA_2011)\n",
    "print(len(dfpa2011))\n",
    "dfpa2011.head(1)"
   ]
  },
  {
   "cell_type": "code",
   "execution_count": 29,
   "metadata": {},
   "outputs": [
    {
     "name": "stdout",
     "output_type": "stream",
     "text": [
      "15960\n"
     ]
    },
    {
     "data": {
      "text/html": [
       "<div>\n",
       "<style scoped>\n",
       "    .dataframe tbody tr th:only-of-type {\n",
       "        vertical-align: middle;\n",
       "    }\n",
       "\n",
       "    .dataframe tbody tr th {\n",
       "        vertical-align: top;\n",
       "    }\n",
       "\n",
       "    .dataframe thead th {\n",
       "        text-align: right;\n",
       "    }\n",
       "</style>\n",
       "<table border=\"1\" class=\"dataframe\">\n",
       "  <thead>\n",
       "    <tr style=\"text-align: right;\">\n",
       "      <th></th>\n",
       "      <th>Year</th>\n",
       "      <th>CategoryC</th>\n",
       "      <th>CategoryD</th>\n",
       "      <th>PA</th>\n",
       "      <th>CategoryA</th>\n",
       "      <th>KAcreFt</th>\n",
       "    </tr>\n",
       "  </thead>\n",
       "  <tbody>\n",
       "    <tr>\n",
       "      <th>0</th>\n",
       "      <td>2012</td>\n",
       "      <td>Applied Water</td>\n",
       "      <td>AG1</td>\n",
       "      <td>101</td>\n",
       "      <td>Agriculture</td>\n",
       "      <td>452.3</td>\n",
       "    </tr>\n",
       "  </tbody>\n",
       "</table>\n",
       "</div>"
      ],
      "text/plain": [
       "   Year      CategoryC CategoryD   PA    CategoryA  KAcreFt\n",
       "0  2012  Applied Water       AG1  101  Agriculture    452.3"
      ]
     },
     "execution_count": 29,
     "metadata": {},
     "output_type": "execute_result"
    }
   ],
   "source": [
    "PA_2012 = \"PA_input/CA-DWR-WaterBalance-Level2-DP-1000-2012-PA.csv\"\n",
    "dfpa2012 = pd.read_csv(PA_2012)\n",
    "print(len(dfpa2012))\n",
    "dfpa2012.head(1)"
   ]
  },
  {
   "cell_type": "code",
   "execution_count": 30,
   "metadata": {},
   "outputs": [
    {
     "name": "stdout",
     "output_type": "stream",
     "text": [
      "15960\n"
     ]
    },
    {
     "data": {
      "text/html": [
       "<div>\n",
       "<style scoped>\n",
       "    .dataframe tbody tr th:only-of-type {\n",
       "        vertical-align: middle;\n",
       "    }\n",
       "\n",
       "    .dataframe tbody tr th {\n",
       "        vertical-align: top;\n",
       "    }\n",
       "\n",
       "    .dataframe thead th {\n",
       "        text-align: right;\n",
       "    }\n",
       "</style>\n",
       "<table border=\"1\" class=\"dataframe\">\n",
       "  <thead>\n",
       "    <tr style=\"text-align: right;\">\n",
       "      <th></th>\n",
       "      <th>Year</th>\n",
       "      <th>CategoryC</th>\n",
       "      <th>CategoryD</th>\n",
       "      <th>PA</th>\n",
       "      <th>CategoryA</th>\n",
       "      <th>KAcreFt</th>\n",
       "    </tr>\n",
       "  </thead>\n",
       "  <tbody>\n",
       "    <tr>\n",
       "      <th>0</th>\n",
       "      <td>2013</td>\n",
       "      <td>Applied Water</td>\n",
       "      <td>AG1</td>\n",
       "      <td>101</td>\n",
       "      <td>Agriculture</td>\n",
       "      <td>432.5</td>\n",
       "    </tr>\n",
       "  </tbody>\n",
       "</table>\n",
       "</div>"
      ],
      "text/plain": [
       "   Year      CategoryC CategoryD   PA    CategoryA  KAcreFt\n",
       "0  2013  Applied Water       AG1  101  Agriculture    432.5"
      ]
     },
     "execution_count": 30,
     "metadata": {},
     "output_type": "execute_result"
    }
   ],
   "source": [
    "PA_2013 = \"PA_input/CA-DWR-WaterBalance-Level2-DP-1000-2013-PA.csv\"\n",
    "dfpa2013 = pd.read_csv(PA_2013)\n",
    "print(len(dfpa2013))\n",
    "dfpa2013.head(1)"
   ]
  },
  {
   "cell_type": "code",
   "execution_count": 31,
   "metadata": {},
   "outputs": [
    {
     "name": "stdout",
     "output_type": "stream",
     "text": [
      "15960\n"
     ]
    },
    {
     "data": {
      "text/html": [
       "<div>\n",
       "<style scoped>\n",
       "    .dataframe tbody tr th:only-of-type {\n",
       "        vertical-align: middle;\n",
       "    }\n",
       "\n",
       "    .dataframe tbody tr th {\n",
       "        vertical-align: top;\n",
       "    }\n",
       "\n",
       "    .dataframe thead th {\n",
       "        text-align: right;\n",
       "    }\n",
       "</style>\n",
       "<table border=\"1\" class=\"dataframe\">\n",
       "  <thead>\n",
       "    <tr style=\"text-align: right;\">\n",
       "      <th></th>\n",
       "      <th>Year</th>\n",
       "      <th>CategoryC</th>\n",
       "      <th>CategoryD</th>\n",
       "      <th>PA</th>\n",
       "      <th>CategoryA</th>\n",
       "      <th>KAcreFt</th>\n",
       "    </tr>\n",
       "  </thead>\n",
       "  <tbody>\n",
       "    <tr>\n",
       "      <th>0</th>\n",
       "      <td>2014</td>\n",
       "      <td>Applied Water</td>\n",
       "      <td>AG1</td>\n",
       "      <td>101</td>\n",
       "      <td>Agriculture</td>\n",
       "      <td>421.0</td>\n",
       "    </tr>\n",
       "  </tbody>\n",
       "</table>\n",
       "</div>"
      ],
      "text/plain": [
       "   Year      CategoryC CategoryD   PA    CategoryA  KAcreFt\n",
       "0  2014  Applied Water       AG1  101  Agriculture    421.0"
      ]
     },
     "execution_count": 31,
     "metadata": {},
     "output_type": "execute_result"
    }
   ],
   "source": [
    "PA_2014 = \"PA_input/CA-DWR-WaterBalance-Level2-DP-1000-2014-PA.csv\"\n",
    "dfpa2014 = pd.read_csv(PA_2014)\n",
    "print(len(dfpa2014))\n",
    "dfpa2014.head(1)"
   ]
  },
  {
   "cell_type": "code",
   "execution_count": 32,
   "metadata": {},
   "outputs": [
    {
     "name": "stdout",
     "output_type": "stream",
     "text": [
      "15960\n"
     ]
    },
    {
     "data": {
      "text/html": [
       "<div>\n",
       "<style scoped>\n",
       "    .dataframe tbody tr th:only-of-type {\n",
       "        vertical-align: middle;\n",
       "    }\n",
       "\n",
       "    .dataframe tbody tr th {\n",
       "        vertical-align: top;\n",
       "    }\n",
       "\n",
       "    .dataframe thead th {\n",
       "        text-align: right;\n",
       "    }\n",
       "</style>\n",
       "<table border=\"1\" class=\"dataframe\">\n",
       "  <thead>\n",
       "    <tr style=\"text-align: right;\">\n",
       "      <th></th>\n",
       "      <th>Year</th>\n",
       "      <th>CategoryC</th>\n",
       "      <th>CategoryD</th>\n",
       "      <th>PA</th>\n",
       "      <th>CategoryA</th>\n",
       "      <th>KAcreFt</th>\n",
       "    </tr>\n",
       "  </thead>\n",
       "  <tbody>\n",
       "    <tr>\n",
       "      <th>0</th>\n",
       "      <td>2015</td>\n",
       "      <td>Applied Water</td>\n",
       "      <td>AG1</td>\n",
       "      <td>101</td>\n",
       "      <td>Agriculture</td>\n",
       "      <td>392.2</td>\n",
       "    </tr>\n",
       "  </tbody>\n",
       "</table>\n",
       "</div>"
      ],
      "text/plain": [
       "   Year      CategoryC CategoryD   PA    CategoryA  KAcreFt\n",
       "0  2015  Applied Water       AG1  101  Agriculture    392.2"
      ]
     },
     "execution_count": 32,
     "metadata": {},
     "output_type": "execute_result"
    }
   ],
   "source": [
    "PA_2015 = \"PA_input/CA-DWR-WaterBalance-Level2-DP-1000-2015-PA.csv\"\n",
    "dfpa2015 = pd.read_csv(PA_2015)\n",
    "print(len(dfpa2015))\n",
    "dfpa2015.head(1)"
   ]
  },
  {
   "cell_type": "code",
   "execution_count": 33,
   "metadata": {},
   "outputs": [
    {
     "name": "stdout",
     "output_type": "stream",
     "text": [
      "15960\n"
     ]
    },
    {
     "data": {
      "text/html": [
       "<div>\n",
       "<style scoped>\n",
       "    .dataframe tbody tr th:only-of-type {\n",
       "        vertical-align: middle;\n",
       "    }\n",
       "\n",
       "    .dataframe tbody tr th {\n",
       "        vertical-align: top;\n",
       "    }\n",
       "\n",
       "    .dataframe thead th {\n",
       "        text-align: right;\n",
       "    }\n",
       "</style>\n",
       "<table border=\"1\" class=\"dataframe\">\n",
       "  <thead>\n",
       "    <tr style=\"text-align: right;\">\n",
       "      <th></th>\n",
       "      <th>Year</th>\n",
       "      <th>CategoryC</th>\n",
       "      <th>CategoryD</th>\n",
       "      <th>PA</th>\n",
       "      <th>CategoryA</th>\n",
       "      <th>KAcreFt</th>\n",
       "    </tr>\n",
       "  </thead>\n",
       "  <tbody>\n",
       "    <tr>\n",
       "      <th>0</th>\n",
       "      <td>2016</td>\n",
       "      <td>Applied Water</td>\n",
       "      <td>AG1</td>\n",
       "      <td>101</td>\n",
       "      <td>Agriculture</td>\n",
       "      <td>455.5</td>\n",
       "    </tr>\n",
       "  </tbody>\n",
       "</table>\n",
       "</div>"
      ],
      "text/plain": [
       "   Year      CategoryC CategoryD   PA    CategoryA  KAcreFt\n",
       "0  2016  Applied Water       AG1  101  Agriculture    455.5"
      ]
     },
     "execution_count": 33,
     "metadata": {},
     "output_type": "execute_result"
    }
   ],
   "source": [
    "PA_2016 = \"PA_input/CA-DWR-WaterBalance-Level2-DP-1000-2016-PA.csv\"\n",
    "dfpa2016 = pd.read_csv(PA_2016)\n",
    "print(len(dfpa2016))\n",
    "dfpa2016.head(1)"
   ]
  },
  {
   "cell_type": "code",
   "execution_count": 34,
   "metadata": {},
   "outputs": [
    {
     "name": "stdout",
     "output_type": "stream",
     "text": [
      "238616\n"
     ]
    },
    {
     "data": {
      "text/plain": [
       "array([2002, 2003, 2004, 2005, 2006, 2007, 2008, 2009, 2010, 2011, 2012,\n",
       "       2013, 2014, 2015, 2016], dtype=int64)"
      ]
     },
     "execution_count": 34,
     "metadata": {},
     "output_type": "execute_result"
    }
   ],
   "source": [
    "# Concatenate PA inputs into one dataframe\n",
    "frames = [dfpa2002, dfpa2003, dfpa2004, dfpa2005, dfpa2006, dfpa2007, dfpa2008,\n",
    "          dfpa2009, dfpa2010, dfpa2011, dfpa2012, dfpa2013, dfpa2014, dfpa2015, dfpa2016]\n",
    "dfPA = pd.concat(frames).reset_index(drop=True)\n",
    "print(len(dfPA))\n",
    "dfPA['Year'].unique()"
   ]
  },
  {
   "cell_type": "markdown",
   "metadata": {},
   "source": [
    "### Detailed Analysis Units by County (DAU)"
   ]
  },
  {
   "cell_type": "code",
   "execution_count": 35,
   "metadata": {},
   "outputs": [
    {
     "name": "stdout",
     "output_type": "stream",
     "text": [
      "135945\n"
     ]
    },
    {
     "data": {
      "text/html": [
       "<div>\n",
       "<style scoped>\n",
       "    .dataframe tbody tr th:only-of-type {\n",
       "        vertical-align: middle;\n",
       "    }\n",
       "\n",
       "    .dataframe tbody tr th {\n",
       "        vertical-align: top;\n",
       "    }\n",
       "\n",
       "    .dataframe thead th {\n",
       "        text-align: right;\n",
       "    }\n",
       "</style>\n",
       "<table border=\"1\" class=\"dataframe\">\n",
       "  <thead>\n",
       "    <tr style=\"text-align: right;\">\n",
       "      <th></th>\n",
       "      <th>CategoryA</th>\n",
       "      <th>CategoryC</th>\n",
       "      <th>Year</th>\n",
       "      <th>DAU</th>\n",
       "      <th>DAU_NAME</th>\n",
       "      <th>HR_CODE</th>\n",
       "      <th>HR_NAME</th>\n",
       "      <th>PA</th>\n",
       "      <th>Longitude</th>\n",
       "      <th>Latitude</th>\n",
       "      <th>KAcreFt</th>\n",
       "      <th>CategoryD</th>\n",
       "      <th>CategoryB</th>\n",
       "    </tr>\n",
       "  </thead>\n",
       "  <tbody>\n",
       "    <tr>\n",
       "      <th>0</th>\n",
       "      <td>Agriculture</td>\n",
       "      <td>Applied Water</td>\n",
       "      <td>2002</td>\n",
       "      <td>DAU04827</td>\n",
       "      <td>Pressure</td>\n",
       "      <td>3</td>\n",
       "      <td>Central Coast</td>\n",
       "      <td>301</td>\n",
       "      <td>-121.637711</td>\n",
       "      <td>36.63942</td>\n",
       "      <td>105.5</td>\n",
       "      <td>AG1</td>\n",
       "      <td>1</td>\n",
       "    </tr>\n",
       "  </tbody>\n",
       "</table>\n",
       "</div>"
      ],
      "text/plain": [
       "     CategoryA      CategoryC  Year       DAU  DAU_NAME  HR_CODE  \\\n",
       "0  Agriculture  Applied Water  2002  DAU04827  Pressure        3   \n",
       "\n",
       "         HR_NAME   PA   Longitude  Latitude  KAcreFt CategoryD CategoryB  \n",
       "0  Central Coast  301 -121.637711  36.63942    105.5       AG1         1  "
      ]
     },
     "execution_count": 35,
     "metadata": {},
     "output_type": "execute_result"
    }
   ],
   "source": [
    "DAU_2002 = \"DAU_input/CA-DWR-WaterBalance-Level2-DP-1000-2002-DAUCO.csv\"\n",
    "dfdau2002 = pd.read_csv(DAU_2002)\n",
    "print(len(dfdau2002))\n",
    "dfdau2002.head(1)"
   ]
  },
  {
   "cell_type": "code",
   "execution_count": 36,
   "metadata": {},
   "outputs": [
    {
     "name": "stdout",
     "output_type": "stream",
     "text": [
      "135945\n"
     ]
    },
    {
     "data": {
      "text/html": [
       "<div>\n",
       "<style scoped>\n",
       "    .dataframe tbody tr th:only-of-type {\n",
       "        vertical-align: middle;\n",
       "    }\n",
       "\n",
       "    .dataframe tbody tr th {\n",
       "        vertical-align: top;\n",
       "    }\n",
       "\n",
       "    .dataframe thead th {\n",
       "        text-align: right;\n",
       "    }\n",
       "</style>\n",
       "<table border=\"1\" class=\"dataframe\">\n",
       "  <thead>\n",
       "    <tr style=\"text-align: right;\">\n",
       "      <th></th>\n",
       "      <th>CategoryA</th>\n",
       "      <th>CategoryC</th>\n",
       "      <th>Year</th>\n",
       "      <th>DAU</th>\n",
       "      <th>DAU_NAME</th>\n",
       "      <th>HR_CODE</th>\n",
       "      <th>HR_NAME</th>\n",
       "      <th>PA</th>\n",
       "      <th>Longitude</th>\n",
       "      <th>Latitude</th>\n",
       "      <th>KAcreFt</th>\n",
       "      <th>CategoryD</th>\n",
       "      <th>CategoryB</th>\n",
       "    </tr>\n",
       "  </thead>\n",
       "  <tbody>\n",
       "    <tr>\n",
       "      <th>0</th>\n",
       "      <td>Agriculture</td>\n",
       "      <td>Applied Water</td>\n",
       "      <td>2003</td>\n",
       "      <td>DAU04827</td>\n",
       "      <td>Pressure</td>\n",
       "      <td>3</td>\n",
       "      <td>Central Coast</td>\n",
       "      <td>301</td>\n",
       "      <td>-121.637711</td>\n",
       "      <td>36.63942</td>\n",
       "      <td>104.4</td>\n",
       "      <td>AG1</td>\n",
       "      <td>1</td>\n",
       "    </tr>\n",
       "  </tbody>\n",
       "</table>\n",
       "</div>"
      ],
      "text/plain": [
       "     CategoryA      CategoryC  Year       DAU  DAU_NAME  HR_CODE  \\\n",
       "0  Agriculture  Applied Water  2003  DAU04827  Pressure        3   \n",
       "\n",
       "         HR_NAME   PA   Longitude  Latitude  KAcreFt CategoryD CategoryB  \n",
       "0  Central Coast  301 -121.637711  36.63942    104.4       AG1         1  "
      ]
     },
     "execution_count": 36,
     "metadata": {},
     "output_type": "execute_result"
    }
   ],
   "source": [
    "DAU_2003 = \"DAU_input/CA-DWR-WaterBalance-Level2-DP-1000-2003-DAUCO.csv\"\n",
    "dfdau2003 = pd.read_csv(DAU_2003)\n",
    "print(len(dfdau2003))\n",
    "dfdau2003.head(1)"
   ]
  },
  {
   "cell_type": "code",
   "execution_count": 37,
   "metadata": {},
   "outputs": [
    {
     "name": "stdout",
     "output_type": "stream",
     "text": [
      "135557\n"
     ]
    },
    {
     "data": {
      "text/html": [
       "<div>\n",
       "<style scoped>\n",
       "    .dataframe tbody tr th:only-of-type {\n",
       "        vertical-align: middle;\n",
       "    }\n",
       "\n",
       "    .dataframe tbody tr th {\n",
       "        vertical-align: top;\n",
       "    }\n",
       "\n",
       "    .dataframe thead th {\n",
       "        text-align: right;\n",
       "    }\n",
       "</style>\n",
       "<table border=\"1\" class=\"dataframe\">\n",
       "  <thead>\n",
       "    <tr style=\"text-align: right;\">\n",
       "      <th></th>\n",
       "      <th>CategoryA</th>\n",
       "      <th>CategoryC</th>\n",
       "      <th>Year</th>\n",
       "      <th>DAU</th>\n",
       "      <th>DAU_NAME</th>\n",
       "      <th>HR_CODE</th>\n",
       "      <th>HR_NAME</th>\n",
       "      <th>PA</th>\n",
       "      <th>Longitude</th>\n",
       "      <th>Latitude</th>\n",
       "      <th>KAcreFt</th>\n",
       "      <th>CategoryD</th>\n",
       "      <th>CategoryB</th>\n",
       "    </tr>\n",
       "  </thead>\n",
       "  <tbody>\n",
       "    <tr>\n",
       "      <th>0</th>\n",
       "      <td>Agriculture</td>\n",
       "      <td>Applied Water</td>\n",
       "      <td>2004</td>\n",
       "      <td>DAU04827</td>\n",
       "      <td>Pressure</td>\n",
       "      <td>3</td>\n",
       "      <td>Central Coast</td>\n",
       "      <td>301</td>\n",
       "      <td>-121.637711</td>\n",
       "      <td>36.63942</td>\n",
       "      <td>129.4</td>\n",
       "      <td>AG1</td>\n",
       "      <td>1</td>\n",
       "    </tr>\n",
       "  </tbody>\n",
       "</table>\n",
       "</div>"
      ],
      "text/plain": [
       "     CategoryA      CategoryC  Year       DAU  DAU_NAME  HR_CODE  \\\n",
       "0  Agriculture  Applied Water  2004  DAU04827  Pressure        3   \n",
       "\n",
       "         HR_NAME   PA   Longitude  Latitude  KAcreFt CategoryD CategoryB  \n",
       "0  Central Coast  301 -121.637711  36.63942    129.4       AG1         1  "
      ]
     },
     "execution_count": 37,
     "metadata": {},
     "output_type": "execute_result"
    }
   ],
   "source": [
    "DAU_2004 = \"DAU_input/CA-DWR-WaterBalance-Level2-DP-1000-2004-DAUCO.csv\"\n",
    "dfdau2004 = pd.read_csv(DAU_2004)\n",
    "print(len(dfdau2004))\n",
    "dfdau2004.head(1)"
   ]
  },
  {
   "cell_type": "code",
   "execution_count": 38,
   "metadata": {},
   "outputs": [
    {
     "name": "stdout",
     "output_type": "stream",
     "text": [
      "135557\n"
     ]
    },
    {
     "data": {
      "text/html": [
       "<div>\n",
       "<style scoped>\n",
       "    .dataframe tbody tr th:only-of-type {\n",
       "        vertical-align: middle;\n",
       "    }\n",
       "\n",
       "    .dataframe tbody tr th {\n",
       "        vertical-align: top;\n",
       "    }\n",
       "\n",
       "    .dataframe thead th {\n",
       "        text-align: right;\n",
       "    }\n",
       "</style>\n",
       "<table border=\"1\" class=\"dataframe\">\n",
       "  <thead>\n",
       "    <tr style=\"text-align: right;\">\n",
       "      <th></th>\n",
       "      <th>CategoryA</th>\n",
       "      <th>CategoryC</th>\n",
       "      <th>Year</th>\n",
       "      <th>DAU</th>\n",
       "      <th>DAU_NAME</th>\n",
       "      <th>HR_CODE</th>\n",
       "      <th>HR_NAME</th>\n",
       "      <th>PA</th>\n",
       "      <th>Longitude</th>\n",
       "      <th>Latitude</th>\n",
       "      <th>KAcreFt</th>\n",
       "      <th>CategoryD</th>\n",
       "      <th>CategoryB</th>\n",
       "    </tr>\n",
       "  </thead>\n",
       "  <tbody>\n",
       "    <tr>\n",
       "      <th>0</th>\n",
       "      <td>Agriculture</td>\n",
       "      <td>Applied Water</td>\n",
       "      <td>2005</td>\n",
       "      <td>DAU04827</td>\n",
       "      <td>Pressure</td>\n",
       "      <td>3</td>\n",
       "      <td>Central Coast</td>\n",
       "      <td>301</td>\n",
       "      <td>-121.637711</td>\n",
       "      <td>36.63942</td>\n",
       "      <td>104.3</td>\n",
       "      <td>AG1</td>\n",
       "      <td>1</td>\n",
       "    </tr>\n",
       "  </tbody>\n",
       "</table>\n",
       "</div>"
      ],
      "text/plain": [
       "     CategoryA      CategoryC  Year       DAU  DAU_NAME  HR_CODE  \\\n",
       "0  Agriculture  Applied Water  2005  DAU04827  Pressure        3   \n",
       "\n",
       "         HR_NAME   PA   Longitude  Latitude  KAcreFt CategoryD CategoryB  \n",
       "0  Central Coast  301 -121.637711  36.63942    104.3       AG1         1  "
      ]
     },
     "execution_count": 38,
     "metadata": {},
     "output_type": "execute_result"
    }
   ],
   "source": [
    "DAU_2005 = \"DAU_input/CA-DWR-WaterBalance-Level2-DP-1000-2005-DAUCO.csv\"\n",
    "dfdau2005 = pd.read_csv(DAU_2005)\n",
    "print(len(dfdau2005))\n",
    "dfdau2005.head(1)"
   ]
  },
  {
   "cell_type": "code",
   "execution_count": 39,
   "metadata": {},
   "outputs": [
    {
     "name": "stdout",
     "output_type": "stream",
     "text": [
      "136406\n"
     ]
    },
    {
     "data": {
      "text/html": [
       "<div>\n",
       "<style scoped>\n",
       "    .dataframe tbody tr th:only-of-type {\n",
       "        vertical-align: middle;\n",
       "    }\n",
       "\n",
       "    .dataframe tbody tr th {\n",
       "        vertical-align: top;\n",
       "    }\n",
       "\n",
       "    .dataframe thead th {\n",
       "        text-align: right;\n",
       "    }\n",
       "</style>\n",
       "<table border=\"1\" class=\"dataframe\">\n",
       "  <thead>\n",
       "    <tr style=\"text-align: right;\">\n",
       "      <th></th>\n",
       "      <th>CategoryA</th>\n",
       "      <th>CategoryC</th>\n",
       "      <th>Year</th>\n",
       "      <th>DAU</th>\n",
       "      <th>DAU_NAME</th>\n",
       "      <th>HR_CODE</th>\n",
       "      <th>HR_NAME</th>\n",
       "      <th>PA</th>\n",
       "      <th>Longitude</th>\n",
       "      <th>Latitude</th>\n",
       "      <th>KAcreFt</th>\n",
       "      <th>CategoryD</th>\n",
       "      <th>CategoryB</th>\n",
       "    </tr>\n",
       "  </thead>\n",
       "  <tbody>\n",
       "    <tr>\n",
       "      <th>0</th>\n",
       "      <td>Agriculture</td>\n",
       "      <td>Applied Water</td>\n",
       "      <td>2006</td>\n",
       "      <td>DAU04827</td>\n",
       "      <td>Pressure</td>\n",
       "      <td>3</td>\n",
       "      <td>Central Coast</td>\n",
       "      <td>301</td>\n",
       "      <td>-121.637711</td>\n",
       "      <td>36.63942</td>\n",
       "      <td>77.1</td>\n",
       "      <td>AG1</td>\n",
       "      <td>1</td>\n",
       "    </tr>\n",
       "  </tbody>\n",
       "</table>\n",
       "</div>"
      ],
      "text/plain": [
       "     CategoryA      CategoryC  Year       DAU  DAU_NAME  HR_CODE  \\\n",
       "0  Agriculture  Applied Water  2006  DAU04827  Pressure        3   \n",
       "\n",
       "         HR_NAME   PA   Longitude  Latitude  KAcreFt CategoryD CategoryB  \n",
       "0  Central Coast  301 -121.637711  36.63942     77.1       AG1         1  "
      ]
     },
     "execution_count": 39,
     "metadata": {},
     "output_type": "execute_result"
    }
   ],
   "source": [
    "DAU_2006 = \"DAU_input/CA-DWR-WaterBalance-Level2-DP-1000-2006-DAUCO.csv\"\n",
    "dfdau2006 = pd.read_csv(DAU_2006)\n",
    "print(len(dfdau2006))\n",
    "dfdau2006.head(1)"
   ]
  },
  {
   "cell_type": "code",
   "execution_count": 40,
   "metadata": {},
   "outputs": [
    {
     "name": "stdout",
     "output_type": "stream",
     "text": [
      "136406\n"
     ]
    },
    {
     "data": {
      "text/html": [
       "<div>\n",
       "<style scoped>\n",
       "    .dataframe tbody tr th:only-of-type {\n",
       "        vertical-align: middle;\n",
       "    }\n",
       "\n",
       "    .dataframe tbody tr th {\n",
       "        vertical-align: top;\n",
       "    }\n",
       "\n",
       "    .dataframe thead th {\n",
       "        text-align: right;\n",
       "    }\n",
       "</style>\n",
       "<table border=\"1\" class=\"dataframe\">\n",
       "  <thead>\n",
       "    <tr style=\"text-align: right;\">\n",
       "      <th></th>\n",
       "      <th>CategoryA</th>\n",
       "      <th>CategoryC</th>\n",
       "      <th>Year</th>\n",
       "      <th>DAU</th>\n",
       "      <th>DAU_NAME</th>\n",
       "      <th>HR_CODE</th>\n",
       "      <th>HR_NAME</th>\n",
       "      <th>PA</th>\n",
       "      <th>Longitude</th>\n",
       "      <th>Latitude</th>\n",
       "      <th>KAcreFt</th>\n",
       "      <th>CategoryD</th>\n",
       "      <th>CategoryB</th>\n",
       "    </tr>\n",
       "  </thead>\n",
       "  <tbody>\n",
       "    <tr>\n",
       "      <th>0</th>\n",
       "      <td>Agriculture</td>\n",
       "      <td>Applied Water</td>\n",
       "      <td>2007</td>\n",
       "      <td>DAU04827</td>\n",
       "      <td>Pressure</td>\n",
       "      <td>3</td>\n",
       "      <td>Central Coast</td>\n",
       "      <td>301</td>\n",
       "      <td>-121.637711</td>\n",
       "      <td>36.63942</td>\n",
       "      <td>124.5</td>\n",
       "      <td>AG1</td>\n",
       "      <td>1</td>\n",
       "    </tr>\n",
       "  </tbody>\n",
       "</table>\n",
       "</div>"
      ],
      "text/plain": [
       "     CategoryA      CategoryC  Year       DAU  DAU_NAME  HR_CODE  \\\n",
       "0  Agriculture  Applied Water  2007  DAU04827  Pressure        3   \n",
       "\n",
       "         HR_NAME   PA   Longitude  Latitude  KAcreFt CategoryD CategoryB  \n",
       "0  Central Coast  301 -121.637711  36.63942    124.5       AG1         1  "
      ]
     },
     "execution_count": 40,
     "metadata": {},
     "output_type": "execute_result"
    }
   ],
   "source": [
    "DAU_2007 = \"DAU_input/CA-DWR-WaterBalance-Level2-DP-1000-2007-DAUCO.csv\"\n",
    "dfdau2007 = pd.read_csv(DAU_2007)\n",
    "print(len(dfdau2007))\n",
    "dfdau2007.head(1)"
   ]
  },
  {
   "cell_type": "code",
   "execution_count": 41,
   "metadata": {},
   "outputs": [
    {
     "name": "stdout",
     "output_type": "stream",
     "text": [
      "136689\n"
     ]
    },
    {
     "data": {
      "text/html": [
       "<div>\n",
       "<style scoped>\n",
       "    .dataframe tbody tr th:only-of-type {\n",
       "        vertical-align: middle;\n",
       "    }\n",
       "\n",
       "    .dataframe tbody tr th {\n",
       "        vertical-align: top;\n",
       "    }\n",
       "\n",
       "    .dataframe thead th {\n",
       "        text-align: right;\n",
       "    }\n",
       "</style>\n",
       "<table border=\"1\" class=\"dataframe\">\n",
       "  <thead>\n",
       "    <tr style=\"text-align: right;\">\n",
       "      <th></th>\n",
       "      <th>CategoryA</th>\n",
       "      <th>CategoryC</th>\n",
       "      <th>Year</th>\n",
       "      <th>DAU</th>\n",
       "      <th>DAU_NAME</th>\n",
       "      <th>HR_CODE</th>\n",
       "      <th>HR_NAME</th>\n",
       "      <th>PA</th>\n",
       "      <th>Longitude</th>\n",
       "      <th>Latitude</th>\n",
       "      <th>KAcreFt</th>\n",
       "      <th>CategoryD</th>\n",
       "      <th>CategoryB</th>\n",
       "    </tr>\n",
       "  </thead>\n",
       "  <tbody>\n",
       "    <tr>\n",
       "      <th>0</th>\n",
       "      <td>Agriculture</td>\n",
       "      <td>Applied Water</td>\n",
       "      <td>2008</td>\n",
       "      <td>DAU04827</td>\n",
       "      <td>Pressure</td>\n",
       "      <td>3</td>\n",
       "      <td>Central Coast</td>\n",
       "      <td>301</td>\n",
       "      <td>-121.637711</td>\n",
       "      <td>36.63942</td>\n",
       "      <td>128.4</td>\n",
       "      <td>AG1</td>\n",
       "      <td>1</td>\n",
       "    </tr>\n",
       "  </tbody>\n",
       "</table>\n",
       "</div>"
      ],
      "text/plain": [
       "     CategoryA      CategoryC  Year       DAU  DAU_NAME  HR_CODE  \\\n",
       "0  Agriculture  Applied Water  2008  DAU04827  Pressure        3   \n",
       "\n",
       "         HR_NAME   PA   Longitude  Latitude  KAcreFt CategoryD CategoryB  \n",
       "0  Central Coast  301 -121.637711  36.63942    128.4       AG1         1  "
      ]
     },
     "execution_count": 41,
     "metadata": {},
     "output_type": "execute_result"
    }
   ],
   "source": [
    "DAU_2008 = \"DAU_input/CA-DWR-WaterBalance-Level2-DP-1000-2008-DAUCO.csv\"\n",
    "dfdau2008 = pd.read_csv(DAU_2008)\n",
    "print(len(dfdau2008))\n",
    "dfdau2008.head(1)"
   ]
  },
  {
   "cell_type": "code",
   "execution_count": 42,
   "metadata": {},
   "outputs": [
    {
     "name": "stdout",
     "output_type": "stream",
     "text": [
      "136972\n"
     ]
    },
    {
     "data": {
      "text/html": [
       "<div>\n",
       "<style scoped>\n",
       "    .dataframe tbody tr th:only-of-type {\n",
       "        vertical-align: middle;\n",
       "    }\n",
       "\n",
       "    .dataframe tbody tr th {\n",
       "        vertical-align: top;\n",
       "    }\n",
       "\n",
       "    .dataframe thead th {\n",
       "        text-align: right;\n",
       "    }\n",
       "</style>\n",
       "<table border=\"1\" class=\"dataframe\">\n",
       "  <thead>\n",
       "    <tr style=\"text-align: right;\">\n",
       "      <th></th>\n",
       "      <th>CategoryA</th>\n",
       "      <th>CategoryC</th>\n",
       "      <th>Year</th>\n",
       "      <th>DAU</th>\n",
       "      <th>DAU_NAME</th>\n",
       "      <th>HR_CODE</th>\n",
       "      <th>HR_NAME</th>\n",
       "      <th>PA</th>\n",
       "      <th>Longitude</th>\n",
       "      <th>Latitude</th>\n",
       "      <th>KAcreFt</th>\n",
       "      <th>CategoryD</th>\n",
       "      <th>CategoryB</th>\n",
       "    </tr>\n",
       "  </thead>\n",
       "  <tbody>\n",
       "    <tr>\n",
       "      <th>0</th>\n",
       "      <td>Agriculture</td>\n",
       "      <td>Applied Water</td>\n",
       "      <td>2009</td>\n",
       "      <td>DAU04827</td>\n",
       "      <td>Pressure</td>\n",
       "      <td>3</td>\n",
       "      <td>Central Coast</td>\n",
       "      <td>301</td>\n",
       "      <td>-121.637711</td>\n",
       "      <td>36.63942</td>\n",
       "      <td>119.3</td>\n",
       "      <td>AG1</td>\n",
       "      <td>1</td>\n",
       "    </tr>\n",
       "  </tbody>\n",
       "</table>\n",
       "</div>"
      ],
      "text/plain": [
       "     CategoryA      CategoryC  Year       DAU  DAU_NAME  HR_CODE  \\\n",
       "0  Agriculture  Applied Water  2009  DAU04827  Pressure        3   \n",
       "\n",
       "         HR_NAME   PA   Longitude  Latitude  KAcreFt CategoryD CategoryB  \n",
       "0  Central Coast  301 -121.637711  36.63942    119.3       AG1         1  "
      ]
     },
     "execution_count": 42,
     "metadata": {},
     "output_type": "execute_result"
    }
   ],
   "source": [
    "DAU_2009 = \"DAU_input/CA-DWR-WaterBalance-Level2-DP-1000-2009-DAUCO.csv\"\n",
    "dfdau2009 = pd.read_csv(DAU_2009)\n",
    "print(len(dfdau2009))\n",
    "dfdau2009.head(1)"
   ]
  },
  {
   "cell_type": "code",
   "execution_count": 43,
   "metadata": {},
   "outputs": [
    {
     "name": "stdout",
     "output_type": "stream",
     "text": [
      "136972\n"
     ]
    },
    {
     "data": {
      "text/html": [
       "<div>\n",
       "<style scoped>\n",
       "    .dataframe tbody tr th:only-of-type {\n",
       "        vertical-align: middle;\n",
       "    }\n",
       "\n",
       "    .dataframe tbody tr th {\n",
       "        vertical-align: top;\n",
       "    }\n",
       "\n",
       "    .dataframe thead th {\n",
       "        text-align: right;\n",
       "    }\n",
       "</style>\n",
       "<table border=\"1\" class=\"dataframe\">\n",
       "  <thead>\n",
       "    <tr style=\"text-align: right;\">\n",
       "      <th></th>\n",
       "      <th>CategoryA</th>\n",
       "      <th>CategoryC</th>\n",
       "      <th>Year</th>\n",
       "      <th>DAU</th>\n",
       "      <th>DAU_NAME</th>\n",
       "      <th>HR_CODE</th>\n",
       "      <th>HR_NAME</th>\n",
       "      <th>PA</th>\n",
       "      <th>Longitude</th>\n",
       "      <th>Latitude</th>\n",
       "      <th>KAcreFt</th>\n",
       "      <th>CategoryD</th>\n",
       "      <th>CategoryB</th>\n",
       "    </tr>\n",
       "  </thead>\n",
       "  <tbody>\n",
       "    <tr>\n",
       "      <th>0</th>\n",
       "      <td>Agriculture</td>\n",
       "      <td>Applied Water</td>\n",
       "      <td>2010</td>\n",
       "      <td>DAU04827</td>\n",
       "      <td>Pressure</td>\n",
       "      <td>3</td>\n",
       "      <td>Central Coast</td>\n",
       "      <td>301</td>\n",
       "      <td>-121.637711</td>\n",
       "      <td>36.63942</td>\n",
       "      <td>89.3</td>\n",
       "      <td>AG1</td>\n",
       "      <td>1</td>\n",
       "    </tr>\n",
       "  </tbody>\n",
       "</table>\n",
       "</div>"
      ],
      "text/plain": [
       "     CategoryA      CategoryC  Year       DAU  DAU_NAME  HR_CODE  \\\n",
       "0  Agriculture  Applied Water  2010  DAU04827  Pressure        3   \n",
       "\n",
       "         HR_NAME   PA   Longitude  Latitude  KAcreFt CategoryD CategoryB  \n",
       "0  Central Coast  301 -121.637711  36.63942     89.3       AG1         1  "
      ]
     },
     "execution_count": 43,
     "metadata": {},
     "output_type": "execute_result"
    }
   ],
   "source": [
    "DAU_2010 = \"DAU_input/CA-DWR-WaterBalance-Level2-DP-1000-2010-DAUCO.csv\"\n",
    "dfdau2010 = pd.read_csv(DAU_2010)\n",
    "print(len(dfdau2010))\n",
    "dfdau2010.head(1)"
   ]
  },
  {
   "cell_type": "code",
   "execution_count": 44,
   "metadata": {},
   "outputs": [
    {
     "name": "stdout",
     "output_type": "stream",
     "text": [
      "321070\n"
     ]
    },
    {
     "data": {
      "text/html": [
       "<div>\n",
       "<style scoped>\n",
       "    .dataframe tbody tr th:only-of-type {\n",
       "        vertical-align: middle;\n",
       "    }\n",
       "\n",
       "    .dataframe tbody tr th {\n",
       "        vertical-align: top;\n",
       "    }\n",
       "\n",
       "    .dataframe thead th {\n",
       "        text-align: right;\n",
       "    }\n",
       "</style>\n",
       "<table border=\"1\" class=\"dataframe\">\n",
       "  <thead>\n",
       "    <tr style=\"text-align: right;\">\n",
       "      <th></th>\n",
       "      <th>CategoryA</th>\n",
       "      <th>CategoryC</th>\n",
       "      <th>Year</th>\n",
       "      <th>DAU</th>\n",
       "      <th>DAU_NAME</th>\n",
       "      <th>HR_CODE</th>\n",
       "      <th>HR_NAME</th>\n",
       "      <th>PA</th>\n",
       "      <th>Longitude</th>\n",
       "      <th>Latitude</th>\n",
       "      <th>KAcreFt</th>\n",
       "      <th>CategoryD</th>\n",
       "      <th>CategoryB</th>\n",
       "    </tr>\n",
       "  </thead>\n",
       "  <tbody>\n",
       "    <tr>\n",
       "      <th>0</th>\n",
       "      <td>Agriculture</td>\n",
       "      <td>Applied Water</td>\n",
       "      <td>2011</td>\n",
       "      <td>DAU04827</td>\n",
       "      <td>Pressure</td>\n",
       "      <td>3</td>\n",
       "      <td>Central Coast</td>\n",
       "      <td>301</td>\n",
       "      <td>-121.637711</td>\n",
       "      <td>36.63942</td>\n",
       "      <td>89.2</td>\n",
       "      <td>AG1</td>\n",
       "      <td>1</td>\n",
       "    </tr>\n",
       "  </tbody>\n",
       "</table>\n",
       "</div>"
      ],
      "text/plain": [
       "     CategoryA      CategoryC  Year       DAU  DAU_NAME  HR_CODE  \\\n",
       "0  Agriculture  Applied Water  2011  DAU04827  Pressure        3   \n",
       "\n",
       "         HR_NAME   PA   Longitude  Latitude  KAcreFt CategoryD CategoryB  \n",
       "0  Central Coast  301 -121.637711  36.63942     89.2       AG1         1  "
      ]
     },
     "execution_count": 44,
     "metadata": {},
     "output_type": "execute_result"
    }
   ],
   "source": [
    "DAU_2011 = \"DAU_input/CA-DWR-WaterBalance-Level2-DP-1000-2011-DAUCO.csv\"\n",
    "dfdau2011 = pd.read_csv(DAU_2011)\n",
    "print(len(dfdau2011))\n",
    "dfdau2011.head(1)"
   ]
  },
  {
   "cell_type": "code",
   "execution_count": 45,
   "metadata": {},
   "outputs": [
    {
     "name": "stdout",
     "output_type": "stream",
     "text": [
      "311696\n"
     ]
    },
    {
     "data": {
      "text/html": [
       "<div>\n",
       "<style scoped>\n",
       "    .dataframe tbody tr th:only-of-type {\n",
       "        vertical-align: middle;\n",
       "    }\n",
       "\n",
       "    .dataframe tbody tr th {\n",
       "        vertical-align: top;\n",
       "    }\n",
       "\n",
       "    .dataframe thead th {\n",
       "        text-align: right;\n",
       "    }\n",
       "</style>\n",
       "<table border=\"1\" class=\"dataframe\">\n",
       "  <thead>\n",
       "    <tr style=\"text-align: right;\">\n",
       "      <th></th>\n",
       "      <th>CategoryA</th>\n",
       "      <th>CategoryC</th>\n",
       "      <th>Year</th>\n",
       "      <th>DAU</th>\n",
       "      <th>DAU_NAME</th>\n",
       "      <th>HR_CODE</th>\n",
       "      <th>HR_NAME</th>\n",
       "      <th>PA</th>\n",
       "      <th>Longitude</th>\n",
       "      <th>Latitude</th>\n",
       "      <th>KAcreFt</th>\n",
       "      <th>CategoryD</th>\n",
       "      <th>CategoryB</th>\n",
       "    </tr>\n",
       "  </thead>\n",
       "  <tbody>\n",
       "    <tr>\n",
       "      <th>0</th>\n",
       "      <td>Agriculture</td>\n",
       "      <td>Applied Water</td>\n",
       "      <td>2012</td>\n",
       "      <td>DAU04827</td>\n",
       "      <td>Pressure</td>\n",
       "      <td>3</td>\n",
       "      <td>Central Coast</td>\n",
       "      <td>301</td>\n",
       "      <td>-121.637711</td>\n",
       "      <td>36.63942</td>\n",
       "      <td>92.7</td>\n",
       "      <td>AG1</td>\n",
       "      <td>1</td>\n",
       "    </tr>\n",
       "  </tbody>\n",
       "</table>\n",
       "</div>"
      ],
      "text/plain": [
       "     CategoryA      CategoryC  Year       DAU  DAU_NAME  HR_CODE  \\\n",
       "0  Agriculture  Applied Water  2012  DAU04827  Pressure        3   \n",
       "\n",
       "         HR_NAME   PA   Longitude  Latitude  KAcreFt CategoryD CategoryB  \n",
       "0  Central Coast  301 -121.637711  36.63942     92.7       AG1         1  "
      ]
     },
     "execution_count": 45,
     "metadata": {},
     "output_type": "execute_result"
    }
   ],
   "source": [
    "DAU_2012 = \"DAU_input/CA-DWR-WaterBalance-Level2-DP-1000-2012-DAUCO.csv\"\n",
    "dfdau2012 = pd.read_csv(DAU_2012)\n",
    "print(len(dfdau2012))\n",
    "dfdau2012.head(1)"
   ]
  },
  {
   "cell_type": "code",
   "execution_count": 46,
   "metadata": {},
   "outputs": [
    {
     "name": "stdout",
     "output_type": "stream",
     "text": [
      "304095\n"
     ]
    },
    {
     "data": {
      "text/html": [
       "<div>\n",
       "<style scoped>\n",
       "    .dataframe tbody tr th:only-of-type {\n",
       "        vertical-align: middle;\n",
       "    }\n",
       "\n",
       "    .dataframe tbody tr th {\n",
       "        vertical-align: top;\n",
       "    }\n",
       "\n",
       "    .dataframe thead th {\n",
       "        text-align: right;\n",
       "    }\n",
       "</style>\n",
       "<table border=\"1\" class=\"dataframe\">\n",
       "  <thead>\n",
       "    <tr style=\"text-align: right;\">\n",
       "      <th></th>\n",
       "      <th>CategoryA</th>\n",
       "      <th>CategoryC</th>\n",
       "      <th>Year</th>\n",
       "      <th>DAU</th>\n",
       "      <th>DAU_NAME</th>\n",
       "      <th>HR_CODE</th>\n",
       "      <th>HR_NAME</th>\n",
       "      <th>PA</th>\n",
       "      <th>Longitude</th>\n",
       "      <th>Latitude</th>\n",
       "      <th>KAcreFt</th>\n",
       "      <th>CategoryD</th>\n",
       "      <th>CategoryB</th>\n",
       "    </tr>\n",
       "  </thead>\n",
       "  <tbody>\n",
       "    <tr>\n",
       "      <th>0</th>\n",
       "      <td>Agriculture</td>\n",
       "      <td>Applied Water</td>\n",
       "      <td>2013</td>\n",
       "      <td>DAU04827</td>\n",
       "      <td>Pressure</td>\n",
       "      <td>3</td>\n",
       "      <td>Central Coast</td>\n",
       "      <td>301</td>\n",
       "      <td>-121.637711</td>\n",
       "      <td>36.63942</td>\n",
       "      <td>112.2</td>\n",
       "      <td>AG1</td>\n",
       "      <td>1</td>\n",
       "    </tr>\n",
       "  </tbody>\n",
       "</table>\n",
       "</div>"
      ],
      "text/plain": [
       "     CategoryA      CategoryC  Year       DAU  DAU_NAME  HR_CODE  \\\n",
       "0  Agriculture  Applied Water  2013  DAU04827  Pressure        3   \n",
       "\n",
       "         HR_NAME   PA   Longitude  Latitude  KAcreFt CategoryD CategoryB  \n",
       "0  Central Coast  301 -121.637711  36.63942    112.2       AG1         1  "
      ]
     },
     "execution_count": 46,
     "metadata": {},
     "output_type": "execute_result"
    }
   ],
   "source": [
    "DAU_2013 = \"DAU_input/CA-DWR-WaterBalance-Level2-DP-1000-2013-DAUCO.csv\"\n",
    "dfdau2013 = pd.read_csv(DAU_2013)\n",
    "print(len(dfdau2013))\n",
    "dfdau2013.head(1)"
   ]
  },
  {
   "cell_type": "code",
   "execution_count": 47,
   "metadata": {},
   "outputs": [
    {
     "name": "stdout",
     "output_type": "stream",
     "text": [
      "470935\n"
     ]
    },
    {
     "data": {
      "text/html": [
       "<div>\n",
       "<style scoped>\n",
       "    .dataframe tbody tr th:only-of-type {\n",
       "        vertical-align: middle;\n",
       "    }\n",
       "\n",
       "    .dataframe tbody tr th {\n",
       "        vertical-align: top;\n",
       "    }\n",
       "\n",
       "    .dataframe thead th {\n",
       "        text-align: right;\n",
       "    }\n",
       "</style>\n",
       "<table border=\"1\" class=\"dataframe\">\n",
       "  <thead>\n",
       "    <tr style=\"text-align: right;\">\n",
       "      <th></th>\n",
       "      <th>CategoryA</th>\n",
       "      <th>CategoryC</th>\n",
       "      <th>Year</th>\n",
       "      <th>DAU</th>\n",
       "      <th>DAU_NAME</th>\n",
       "      <th>HR_CODE</th>\n",
       "      <th>HR_NAME</th>\n",
       "      <th>PA</th>\n",
       "      <th>Longitude</th>\n",
       "      <th>Latitude</th>\n",
       "      <th>KAcreFt</th>\n",
       "      <th>CategoryD</th>\n",
       "      <th>CategoryB</th>\n",
       "    </tr>\n",
       "  </thead>\n",
       "  <tbody>\n",
       "    <tr>\n",
       "      <th>0</th>\n",
       "      <td>Agriculture</td>\n",
       "      <td>Applied Water</td>\n",
       "      <td>2014</td>\n",
       "      <td>DAU04827</td>\n",
       "      <td>Pressure</td>\n",
       "      <td>3</td>\n",
       "      <td>Central Coast</td>\n",
       "      <td>301</td>\n",
       "      <td>-121.637711</td>\n",
       "      <td>36.63942</td>\n",
       "      <td>100.5</td>\n",
       "      <td>AG1</td>\n",
       "      <td>1</td>\n",
       "    </tr>\n",
       "  </tbody>\n",
       "</table>\n",
       "</div>"
      ],
      "text/plain": [
       "     CategoryA      CategoryC  Year       DAU  DAU_NAME  HR_CODE  \\\n",
       "0  Agriculture  Applied Water  2014  DAU04827  Pressure        3   \n",
       "\n",
       "         HR_NAME   PA   Longitude  Latitude  KAcreFt CategoryD CategoryB  \n",
       "0  Central Coast  301 -121.637711  36.63942    100.5       AG1         1  "
      ]
     },
     "execution_count": 47,
     "metadata": {},
     "output_type": "execute_result"
    }
   ],
   "source": [
    "DAU_2014 = \"DAU_input/CA-DWR-WaterBalance-Level2-DP-1000-2014-DAUCO.csv\"\n",
    "dfdau2014 = pd.read_csv(DAU_2014)\n",
    "print(len(dfdau2014))\n",
    "dfdau2014.head(1)"
   ]
  },
  {
   "cell_type": "code",
   "execution_count": 48,
   "metadata": {},
   "outputs": [
    {
     "name": "stdout",
     "output_type": "stream",
     "text": [
      "235710\n"
     ]
    },
    {
     "data": {
      "text/html": [
       "<div>\n",
       "<style scoped>\n",
       "    .dataframe tbody tr th:only-of-type {\n",
       "        vertical-align: middle;\n",
       "    }\n",
       "\n",
       "    .dataframe tbody tr th {\n",
       "        vertical-align: top;\n",
       "    }\n",
       "\n",
       "    .dataframe thead th {\n",
       "        text-align: right;\n",
       "    }\n",
       "</style>\n",
       "<table border=\"1\" class=\"dataframe\">\n",
       "  <thead>\n",
       "    <tr style=\"text-align: right;\">\n",
       "      <th></th>\n",
       "      <th>CategoryA</th>\n",
       "      <th>CategoryC</th>\n",
       "      <th>Year</th>\n",
       "      <th>DAU</th>\n",
       "      <th>DAU_NAME</th>\n",
       "      <th>HR_CODE</th>\n",
       "      <th>HR_NAME</th>\n",
       "      <th>PA</th>\n",
       "      <th>Longitude</th>\n",
       "      <th>Latitude</th>\n",
       "      <th>KAcreFt</th>\n",
       "      <th>CategoryD</th>\n",
       "      <th>CategoryB</th>\n",
       "    </tr>\n",
       "  </thead>\n",
       "  <tbody>\n",
       "    <tr>\n",
       "      <th>0</th>\n",
       "      <td>Agriculture</td>\n",
       "      <td>Applied Water</td>\n",
       "      <td>2015</td>\n",
       "      <td>DAU04827</td>\n",
       "      <td>Pressure</td>\n",
       "      <td>3</td>\n",
       "      <td>Central Coast</td>\n",
       "      <td>301</td>\n",
       "      <td>-121.637711</td>\n",
       "      <td>36.63942</td>\n",
       "      <td>100.5</td>\n",
       "      <td>AG1</td>\n",
       "      <td>1</td>\n",
       "    </tr>\n",
       "  </tbody>\n",
       "</table>\n",
       "</div>"
      ],
      "text/plain": [
       "     CategoryA      CategoryC  Year       DAU  DAU_NAME  HR_CODE  \\\n",
       "0  Agriculture  Applied Water  2015  DAU04827  Pressure        3   \n",
       "\n",
       "         HR_NAME   PA   Longitude  Latitude  KAcreFt CategoryD CategoryB  \n",
       "0  Central Coast  301 -121.637711  36.63942    100.5       AG1         1  "
      ]
     },
     "execution_count": 48,
     "metadata": {},
     "output_type": "execute_result"
    }
   ],
   "source": [
    "DAU_2015 = \"DAU_input/CA-DWR-WaterBalance-Level2-DP-1000-2015-DAUCO.csv\"\n",
    "dfdau2015 = pd.read_csv(DAU_2015)\n",
    "print(len(dfdau2015))\n",
    "dfdau2015.head(1)"
   ]
  },
  {
   "cell_type": "code",
   "execution_count": 49,
   "metadata": {},
   "outputs": [
    {
     "name": "stdout",
     "output_type": "stream",
     "text": [
      "144045\n"
     ]
    },
    {
     "data": {
      "text/html": [
       "<div>\n",
       "<style scoped>\n",
       "    .dataframe tbody tr th:only-of-type {\n",
       "        vertical-align: middle;\n",
       "    }\n",
       "\n",
       "    .dataframe tbody tr th {\n",
       "        vertical-align: top;\n",
       "    }\n",
       "\n",
       "    .dataframe thead th {\n",
       "        text-align: right;\n",
       "    }\n",
       "</style>\n",
       "<table border=\"1\" class=\"dataframe\">\n",
       "  <thead>\n",
       "    <tr style=\"text-align: right;\">\n",
       "      <th></th>\n",
       "      <th>CategoryA</th>\n",
       "      <th>CategoryC</th>\n",
       "      <th>Year</th>\n",
       "      <th>DAU</th>\n",
       "      <th>DAU_NAME</th>\n",
       "      <th>HR_CODE</th>\n",
       "      <th>HR_NAME</th>\n",
       "      <th>PA</th>\n",
       "      <th>Longitude</th>\n",
       "      <th>Latitude</th>\n",
       "      <th>KAcreFt</th>\n",
       "      <th>CategoryD</th>\n",
       "      <th>CategoryB</th>\n",
       "    </tr>\n",
       "  </thead>\n",
       "  <tbody>\n",
       "    <tr>\n",
       "      <th>0</th>\n",
       "      <td>Agriculture</td>\n",
       "      <td>Applied Water</td>\n",
       "      <td>2016</td>\n",
       "      <td>DAU04827</td>\n",
       "      <td>Pressure</td>\n",
       "      <td>3</td>\n",
       "      <td>Central Coast</td>\n",
       "      <td>301</td>\n",
       "      <td>-121.637711</td>\n",
       "      <td>36.63942</td>\n",
       "      <td>0.0</td>\n",
       "      <td>AG1</td>\n",
       "      <td>1</td>\n",
       "    </tr>\n",
       "  </tbody>\n",
       "</table>\n",
       "</div>"
      ],
      "text/plain": [
       "     CategoryA      CategoryC  Year       DAU  DAU_NAME  HR_CODE  \\\n",
       "0  Agriculture  Applied Water  2016  DAU04827  Pressure        3   \n",
       "\n",
       "         HR_NAME   PA   Longitude  Latitude  KAcreFt CategoryD CategoryB  \n",
       "0  Central Coast  301 -121.637711  36.63942      0.0       AG1         1  "
      ]
     },
     "execution_count": 49,
     "metadata": {},
     "output_type": "execute_result"
    }
   ],
   "source": [
    "DAU_2016 = \"DAU_input/CA-DWR-WaterBalance-Level2-DP-1000-2016-DAUCO.csv\"\n",
    "dfdau2016 = pd.read_csv(DAU_2016)\n",
    "print(len(dfdau2016))\n",
    "dfdau2016.head(1)"
   ]
  },
  {
   "cell_type": "code",
   "execution_count": 50,
   "metadata": {},
   "outputs": [
    {
     "name": "stdout",
     "output_type": "stream",
     "text": [
      "3014000\n"
     ]
    },
    {
     "data": {
      "text/plain": [
       "array([2002, 2003, 2004, 2005, 2006, 2007, 2008, 2009, 2010, 2011, 2012,\n",
       "       2013, 2014, 2015, 2016], dtype=int64)"
      ]
     },
     "execution_count": 50,
     "metadata": {},
     "output_type": "execute_result"
    }
   ],
   "source": [
    "# Concatenate DAU inputs into one dataframe\n",
    "frames = [dfdau2002, dfdau2003, dfdau2004, dfdau2005, dfdau2006, dfdau2007, dfdau2008, dfdau2009,\n",
    "          dfdau2010, dfdau2011, dfdau2012, dfdau2013, dfdau2014, dfdau2015, dfdau2016]\n",
    "dfDAU = pd.concat(frames).reset_index(drop=True)\n",
    "print(len(dfDAU))\n",
    "dfDAU['Year'].unique()"
   ]
  },
  {
   "cell_type": "markdown",
   "metadata": {},
   "source": [
    "## Clean Data\n",
    "- We only want the Applied Water Use and Depletion values."
   ]
  },
  {
   "cell_type": "code",
   "execution_count": 51,
   "metadata": {},
   "outputs": [
    {
     "name": "stdout",
     "output_type": "stream",
     "text": [
      "1800\n",
      "['Applied Water Use' 'Depletion']\n"
     ]
    },
    {
     "data": {
      "text/html": [
       "<div>\n",
       "<style scoped>\n",
       "    .dataframe tbody tr th:only-of-type {\n",
       "        vertical-align: middle;\n",
       "    }\n",
       "\n",
       "    .dataframe tbody tr th {\n",
       "        vertical-align: top;\n",
       "    }\n",
       "\n",
       "    .dataframe thead th {\n",
       "        text-align: right;\n",
       "    }\n",
       "</style>\n",
       "<table border=\"1\" class=\"dataframe\">\n",
       "  <thead>\n",
       "    <tr style=\"text-align: right;\">\n",
       "      <th></th>\n",
       "      <th>Year</th>\n",
       "      <th>CategoryC</th>\n",
       "      <th>CategoryD</th>\n",
       "      <th>HR</th>\n",
       "      <th>CategoryA</th>\n",
       "      <th>KAcreFt</th>\n",
       "    </tr>\n",
       "  </thead>\n",
       "  <tbody>\n",
       "    <tr>\n",
       "      <th>0</th>\n",
       "      <td>2002</td>\n",
       "      <td>Applied Water Use</td>\n",
       "      <td>AWUAG</td>\n",
       "      <td>Central Coast</td>\n",
       "      <td>Agriculture</td>\n",
       "      <td>1175.6</td>\n",
       "    </tr>\n",
       "  </tbody>\n",
       "</table>\n",
       "</div>"
      ],
      "text/plain": [
       "   Year          CategoryC CategoryD             HR    CategoryA  KAcreFt\n",
       "0  2002  Applied Water Use     AWUAG  Central Coast  Agriculture   1175.6"
      ]
     },
     "execution_count": 51,
     "metadata": {},
     "output_type": "execute_result"
    }
   ],
   "source": [
    "# HR\n",
    "dfHR_2 = dfHR.copy()\n",
    "dfHR_2 = dfHR_2[dfHR_2['CategoryC'].isin(['Applied Water Use', 'Depletion']) ].reset_index(drop=True)\n",
    "dfHR_2 = dfHR_2.sort_values(by=['Year', 'CategoryC', 'HR', 'CategoryA', 'KAcreFt'], )\n",
    "print(len(dfHR_2))\n",
    "print(dfHR_2['CategoryC'].unique())\n",
    "dfHR_2.head(1)"
   ]
  },
  {
   "cell_type": "code",
   "execution_count": 52,
   "metadata": {},
   "outputs": [
    {
     "name": "stdout",
     "output_type": "stream",
     "text": [
      "10080\n",
      "['Applied Water Use' 'Depletion']\n"
     ]
    },
    {
     "data": {
      "text/html": [
       "<div>\n",
       "<style scoped>\n",
       "    .dataframe tbody tr th:only-of-type {\n",
       "        vertical-align: middle;\n",
       "    }\n",
       "\n",
       "    .dataframe tbody tr th {\n",
       "        vertical-align: top;\n",
       "    }\n",
       "\n",
       "    .dataframe thead th {\n",
       "        text-align: right;\n",
       "    }\n",
       "</style>\n",
       "<table border=\"1\" class=\"dataframe\">\n",
       "  <thead>\n",
       "    <tr style=\"text-align: right;\">\n",
       "      <th></th>\n",
       "      <th>Year</th>\n",
       "      <th>CategoryC</th>\n",
       "      <th>CategoryD</th>\n",
       "      <th>PA</th>\n",
       "      <th>CategoryA</th>\n",
       "      <th>KAcreFt</th>\n",
       "    </tr>\n",
       "  </thead>\n",
       "  <tbody>\n",
       "    <tr>\n",
       "      <th>0</th>\n",
       "      <td>2002</td>\n",
       "      <td>Applied Water Use</td>\n",
       "      <td>AWUAG</td>\n",
       "      <td>101</td>\n",
       "      <td>Agriculture</td>\n",
       "      <td>664.4</td>\n",
       "    </tr>\n",
       "  </tbody>\n",
       "</table>\n",
       "</div>"
      ],
      "text/plain": [
       "   Year          CategoryC CategoryD   PA    CategoryA  KAcreFt\n",
       "0  2002  Applied Water Use     AWUAG  101  Agriculture    664.4"
      ]
     },
     "execution_count": 52,
     "metadata": {},
     "output_type": "execute_result"
    }
   ],
   "source": [
    "# PA\n",
    "dfPA_2 = dfPA.copy()\n",
    "dfPA_2 = dfPA_2[dfPA_2['CategoryC'].isin(['Applied Water Use', 'Depletion']) ].reset_index(drop=True)\n",
    "dfPA_2 = dfPA_2.sort_values(by=['Year', 'CategoryC', 'PA', 'CategoryA', 'KAcreFt'], )\n",
    "print(len(dfPA_2))\n",
    "print(dfPA_2['CategoryC'].unique())\n",
    "dfPA_2.head(1)"
   ]
  },
  {
   "cell_type": "code",
   "execution_count": 53,
   "metadata": {},
   "outputs": [
    {
     "name": "stdout",
     "output_type": "stream",
     "text": [
      "86832\n",
      "['Applied Water Use' 'Depletion']\n"
     ]
    },
    {
     "data": {
      "text/html": [
       "<div>\n",
       "<style scoped>\n",
       "    .dataframe tbody tr th:only-of-type {\n",
       "        vertical-align: middle;\n",
       "    }\n",
       "\n",
       "    .dataframe tbody tr th {\n",
       "        vertical-align: top;\n",
       "    }\n",
       "\n",
       "    .dataframe thead th {\n",
       "        text-align: right;\n",
       "    }\n",
       "</style>\n",
       "<table border=\"1\" class=\"dataframe\">\n",
       "  <thead>\n",
       "    <tr style=\"text-align: right;\">\n",
       "      <th></th>\n",
       "      <th>CategoryA</th>\n",
       "      <th>CategoryC</th>\n",
       "      <th>Year</th>\n",
       "      <th>DAU</th>\n",
       "      <th>DAU_NAME</th>\n",
       "      <th>HR_CODE</th>\n",
       "      <th>HR_NAME</th>\n",
       "      <th>PA</th>\n",
       "      <th>Longitude</th>\n",
       "      <th>Latitude</th>\n",
       "      <th>KAcreFt</th>\n",
       "      <th>CategoryD</th>\n",
       "      <th>CategoryB</th>\n",
       "    </tr>\n",
       "  </thead>\n",
       "  <tbody>\n",
       "    <tr>\n",
       "      <th>132</th>\n",
       "      <td>Agriculture</td>\n",
       "      <td>Applied Water Use</td>\n",
       "      <td>2002</td>\n",
       "      <td>DAU00125</td>\n",
       "      <td>Lost River</td>\n",
       "      <td>1</td>\n",
       "      <td>North Coast</td>\n",
       "      <td>101</td>\n",
       "      <td>-121.060095</td>\n",
       "      <td>41.793815</td>\n",
       "      <td>132.3</td>\n",
       "      <td>AWUAG</td>\n",
       "      <td>Computed</td>\n",
       "    </tr>\n",
       "  </tbody>\n",
       "</table>\n",
       "</div>"
      ],
      "text/plain": [
       "       CategoryA          CategoryC  Year       DAU    DAU_NAME  HR_CODE  \\\n",
       "132  Agriculture  Applied Water Use  2002  DAU00125  Lost River        1   \n",
       "\n",
       "         HR_NAME   PA   Longitude   Latitude  KAcreFt CategoryD CategoryB  \n",
       "132  North Coast  101 -121.060095  41.793815    132.3     AWUAG  Computed  "
      ]
     },
     "execution_count": 53,
     "metadata": {},
     "output_type": "execute_result"
    }
   ],
   "source": [
    "# DAU\n",
    "dfDAU_2 = dfDAU.copy()\n",
    "dfDAU_2 = dfDAU_2[dfDAU_2['CategoryC'].isin(['Applied Water Use', 'Depletion']) ].reset_index(drop=True)\n",
    "dfDAU_2 = dfDAU_2.sort_values(by=['Year', 'CategoryC', 'DAU', 'CategoryA', 'KAcreFt'], )\n",
    "print(len(dfDAU_2))\n",
    "print(dfDAU_2['CategoryC'].unique())\n",
    "dfDAU_2.head(1)"
   ]
  },
  {
   "cell_type": "markdown",
   "metadata": {},
   "source": [
    "## Output Dataframes"
   ]
  },
  {
   "cell_type": "code",
   "execution_count": 54,
   "metadata": {
    "scrolled": true
   },
   "outputs": [
    {
     "name": "stdout",
     "output_type": "stream",
     "text": [
      "1800\n"
     ]
    },
    {
     "data": {
      "text/html": [
       "<div>\n",
       "<style scoped>\n",
       "    .dataframe tbody tr th:only-of-type {\n",
       "        vertical-align: middle;\n",
       "    }\n",
       "\n",
       "    .dataframe tbody tr th {\n",
       "        vertical-align: top;\n",
       "    }\n",
       "\n",
       "    .dataframe thead th {\n",
       "        text-align: right;\n",
       "    }\n",
       "</style>\n",
       "<table border=\"1\" class=\"dataframe\">\n",
       "  <thead>\n",
       "    <tr style=\"text-align: right;\">\n",
       "      <th></th>\n",
       "      <th>VariableCV</th>\n",
       "      <th>in_VariableSpecificCV</th>\n",
       "      <th>in_ReportingUnitName</th>\n",
       "      <th>in_ReportingUnitNativeID</th>\n",
       "      <th>in_ReportingUnitTypeCV</th>\n",
       "      <th>in_Amount</th>\n",
       "      <th>in_BenUse</th>\n",
       "      <th>in_ReportYearCV</th>\n",
       "      <th>in_TimeframeStart</th>\n",
       "      <th>in_TimeframeEnd</th>\n",
       "    </tr>\n",
       "  </thead>\n",
       "  <tbody>\n",
       "    <tr>\n",
       "      <th>0</th>\n",
       "      <td>Applied Water Use</td>\n",
       "      <td>Applied Water Use_Annual_Agriculture_Surface G...</td>\n",
       "      <td>Central Coast</td>\n",
       "      <td></td>\n",
       "      <td>Hydrologic Region</td>\n",
       "      <td>1175.6</td>\n",
       "      <td>Agriculture</td>\n",
       "      <td>2002</td>\n",
       "      <td>2002/01/01</td>\n",
       "      <td>2002/12/31</td>\n",
       "    </tr>\n",
       "  </tbody>\n",
       "</table>\n",
       "</div>"
      ],
      "text/plain": [
       "          VariableCV                              in_VariableSpecificCV  \\\n",
       "0  Applied Water Use  Applied Water Use_Annual_Agriculture_Surface G...   \n",
       "\n",
       "  in_ReportingUnitName in_ReportingUnitNativeID in_ReportingUnitTypeCV  \\\n",
       "0        Central Coast                               Hydrologic Region   \n",
       "\n",
       "   in_Amount    in_BenUse  in_ReportYearCV in_TimeframeStart in_TimeframeEnd  \n",
       "0     1175.6  Agriculture             2002        2002/01/01      2002/12/31  "
      ]
     },
     "execution_count": 54,
     "metadata": {},
     "output_type": "execute_result"
    }
   ],
   "source": [
    "# HR\n",
    "dfHR_3 = pd.DataFrame(index=dfHR_2.index)\n",
    "\n",
    "# Variable Info\n",
    "dfHR_3['VariableCV'] = dfHR_2['CategoryC']\n",
    "dfHR_3['in_VariableSpecificCV'] = dfHR_2['CategoryC'] + \"_Annual_\" + dfHR_2['CategoryA'] + \"_Surface Ground Water\"\n",
    "\n",
    "# ReportingUnits Info\n",
    "dfHR_3['in_ReportingUnitName'] = dfHR_2['HR']\n",
    "dfHR_3['in_ReportingUnitNativeID'] = \"\"\n",
    "dfHR_3['in_ReportingUnitTypeCV'] = \"Hydrologic Region\"\n",
    "\n",
    "# AggregatedAmounts Info\n",
    "dfHR_3['in_Amount'] = dfHR_2['KAcreFt']\n",
    "dfHR_3['in_BenUse'] = dfHR_2['CategoryA']\n",
    "dfHR_3['in_ReportYearCV'] =  dfHR_2['Year'].astype(int)\n",
    "dfHR_3['in_TimeframeStart'] = dfHR_2['Year'].astype(str) + \"/01/01\"\n",
    "dfHR_3['in_TimeframeEnd'] = dfHR_2['Year'].astype(str)  + \"/12/31\"\n",
    "\n",
    "print(len(dfHR_3))\n",
    "dfHR_3.head(1)"
   ]
  },
  {
   "cell_type": "code",
   "execution_count": 55,
   "metadata": {},
   "outputs": [
    {
     "data": {
      "text/plain": [
       "array([ 3, 10,  1,  8,  5,  2,  6,  4,  9,  7], dtype=int64)"
      ]
     },
     "execution_count": 55,
     "metadata": {},
     "output_type": "execute_result"
    }
   ],
   "source": [
    "# For creating ReportingUnitNativeID for HR data\n",
    "\n",
    "dftempHR_CODE = pd.DataFrame(columns = ['HR_CODE', 'HR_NAME'])\n",
    "dftempHR_CODE['HR_CODE'] = dfDAU_2['HR_CODE']\n",
    "dftempHR_CODE['HR_NAME'] = dfDAU_2['HR_NAME']\n",
    "dftempHR_CODE = dftempHR_CODE.drop_duplicates().reset_index(drop=True)\n",
    "\n",
    "HR_Code_dict = pd.Series(dftempHR_CODE.HR_CODE.values, index=dftempHR_CODE.HR_NAME).to_dict()\n",
    "\n",
    "def retrieveReportingUnitNativeID(colrowValue):\n",
    "    if colrowValue == '' or pd.isnull(colrowValue):\n",
    "        outString = ''\n",
    "    else:\n",
    "        String1 = colrowValue\n",
    "        try:\n",
    "            outString = HR_Code_dict[String1]\n",
    "        except:\n",
    "            outString = colrowValue\n",
    "    return outString\n",
    "\n",
    "dfHR_3['in_ReportingUnitNativeID'] = dfHR_3.apply(lambda row: retrieveReportingUnitNativeID(row['in_ReportingUnitName']), axis=1)\n",
    "dfHR_3['in_ReportingUnitNativeID'].unique()"
   ]
  },
  {
   "cell_type": "code",
   "execution_count": 56,
   "metadata": {},
   "outputs": [
    {
     "name": "stdout",
     "output_type": "stream",
     "text": [
      "10080\n"
     ]
    },
    {
     "data": {
      "text/html": [
       "<div>\n",
       "<style scoped>\n",
       "    .dataframe tbody tr th:only-of-type {\n",
       "        vertical-align: middle;\n",
       "    }\n",
       "\n",
       "    .dataframe tbody tr th {\n",
       "        vertical-align: top;\n",
       "    }\n",
       "\n",
       "    .dataframe thead th {\n",
       "        text-align: right;\n",
       "    }\n",
       "</style>\n",
       "<table border=\"1\" class=\"dataframe\">\n",
       "  <thead>\n",
       "    <tr style=\"text-align: right;\">\n",
       "      <th></th>\n",
       "      <th>VariableCV</th>\n",
       "      <th>in_VariableSpecificCV</th>\n",
       "      <th>in_ReportingUnitName</th>\n",
       "      <th>in_ReportingUnitNativeID</th>\n",
       "      <th>in_ReportingUnitTypeCV</th>\n",
       "      <th>in_Amount</th>\n",
       "      <th>in_BenUse</th>\n",
       "      <th>in_ReportYearCV</th>\n",
       "      <th>in_TimeframeStart</th>\n",
       "      <th>in_TimeframeEnd</th>\n",
       "    </tr>\n",
       "  </thead>\n",
       "  <tbody>\n",
       "    <tr>\n",
       "      <th>0</th>\n",
       "      <td>Applied Water Use</td>\n",
       "      <td>Applied Water Use_Annual_Agriculture_Surface G...</td>\n",
       "      <td>101</td>\n",
       "      <td>101</td>\n",
       "      <td>Planning Area</td>\n",
       "      <td>664.4</td>\n",
       "      <td>Agriculture</td>\n",
       "      <td>2002</td>\n",
       "      <td>2002/01/01</td>\n",
       "      <td>2002/12/31</td>\n",
       "    </tr>\n",
       "  </tbody>\n",
       "</table>\n",
       "</div>"
      ],
      "text/plain": [
       "          VariableCV                              in_VariableSpecificCV  \\\n",
       "0  Applied Water Use  Applied Water Use_Annual_Agriculture_Surface G...   \n",
       "\n",
       "   in_ReportingUnitName  in_ReportingUnitNativeID in_ReportingUnitTypeCV  \\\n",
       "0                   101                       101          Planning Area   \n",
       "\n",
       "   in_Amount    in_BenUse  in_ReportYearCV in_TimeframeStart in_TimeframeEnd  \n",
       "0      664.4  Agriculture             2002        2002/01/01      2002/12/31  "
      ]
     },
     "execution_count": 56,
     "metadata": {},
     "output_type": "execute_result"
    }
   ],
   "source": [
    "# PA\n",
    "dfPA_3 = pd.DataFrame(index=dfPA_2.index)\n",
    "\n",
    "# Variable Info\n",
    "dfPA_3['VariableCV'] = dfPA_2['CategoryC']\n",
    "dfPA_3['in_VariableSpecificCV'] = dfPA_2['CategoryC'] + \"_Annual_\" + dfPA_2['CategoryA'] + \"_Surface Ground Water\"\n",
    "\n",
    "# ReportingUnits Info\n",
    "dfPA_3['in_ReportingUnitName'] = dfPA_2['PA']\n",
    "dfPA_3['in_ReportingUnitNativeID'] = dfPA_2['PA'] # setting native id = name in this unique situation\n",
    "dfPA_3['in_ReportingUnitTypeCV'] = \"Planning Area\"\n",
    "\n",
    "# AggregatedAmounts Info\n",
    "dfPA_3['in_Amount'] = dfPA_2['KAcreFt']\n",
    "dfPA_3['in_BenUse'] = dfPA_2['CategoryA']\n",
    "dfPA_3['in_ReportYearCV'] =  dfPA_2['Year'].astype(int)\n",
    "dfPA_3['in_TimeframeStart'] = dfPA_2['Year'].astype(str) + \"/01/01\"\n",
    "dfPA_3['in_TimeframeEnd'] = dfPA_2['Year'].astype(str)  + \"/12/31\"\n",
    "\n",
    "print(len(dfPA_3))\n",
    "dfPA_3.head(1)"
   ]
  },
  {
   "cell_type": "code",
   "execution_count": 57,
   "metadata": {},
   "outputs": [
    {
     "name": "stdout",
     "output_type": "stream",
     "text": [
      "86832\n"
     ]
    },
    {
     "data": {
      "text/html": [
       "<div>\n",
       "<style scoped>\n",
       "    .dataframe tbody tr th:only-of-type {\n",
       "        vertical-align: middle;\n",
       "    }\n",
       "\n",
       "    .dataframe tbody tr th {\n",
       "        vertical-align: top;\n",
       "    }\n",
       "\n",
       "    .dataframe thead th {\n",
       "        text-align: right;\n",
       "    }\n",
       "</style>\n",
       "<table border=\"1\" class=\"dataframe\">\n",
       "  <thead>\n",
       "    <tr style=\"text-align: right;\">\n",
       "      <th></th>\n",
       "      <th>VariableCV</th>\n",
       "      <th>in_VariableSpecificCV</th>\n",
       "      <th>in_ReportingUnitName</th>\n",
       "      <th>in_ReportingUnitNativeID</th>\n",
       "      <th>in_ReportingUnitTypeCV</th>\n",
       "      <th>in_Amount</th>\n",
       "      <th>in_BenUse</th>\n",
       "      <th>in_ReportYearCV</th>\n",
       "      <th>in_TimeframeStart</th>\n",
       "      <th>in_TimeframeEnd</th>\n",
       "    </tr>\n",
       "  </thead>\n",
       "  <tbody>\n",
       "    <tr>\n",
       "      <th>132</th>\n",
       "      <td>Applied Water Use</td>\n",
       "      <td>Applied Water Use_Annual_Agriculture_Surface G...</td>\n",
       "      <td>Lost River</td>\n",
       "      <td>DAU00125</td>\n",
       "      <td>Detailed Analysis Units by County</td>\n",
       "      <td>132.3</td>\n",
       "      <td>Agriculture</td>\n",
       "      <td>2002</td>\n",
       "      <td>2002/01/01</td>\n",
       "      <td>2002/12/31</td>\n",
       "    </tr>\n",
       "  </tbody>\n",
       "</table>\n",
       "</div>"
      ],
      "text/plain": [
       "            VariableCV                              in_VariableSpecificCV  \\\n",
       "132  Applied Water Use  Applied Water Use_Annual_Agriculture_Surface G...   \n",
       "\n",
       "    in_ReportingUnitName in_ReportingUnitNativeID  \\\n",
       "132           Lost River                 DAU00125   \n",
       "\n",
       "                in_ReportingUnitTypeCV  in_Amount    in_BenUse  \\\n",
       "132  Detailed Analysis Units by County      132.3  Agriculture   \n",
       "\n",
       "     in_ReportYearCV in_TimeframeStart in_TimeframeEnd  \n",
       "132             2002        2002/01/01      2002/12/31  "
      ]
     },
     "execution_count": 57,
     "metadata": {},
     "output_type": "execute_result"
    }
   ],
   "source": [
    "# DAU\n",
    "dfDAU_3 = pd.DataFrame(index=dfDAU_2.index)\n",
    "\n",
    "# Variable Info\n",
    "dfDAU_3['VariableCV'] = dfDAU_2['CategoryC']\n",
    "dfDAU_3['in_VariableSpecificCV'] = dfDAU_2['CategoryC'] + \"_Annual_\" + dfDAU_2['CategoryA'] + \"_Surface Ground Water\"\n",
    "\n",
    "# ReportingUnits Info\n",
    "dfDAU_3['in_ReportingUnitName'] = dfDAU_2['DAU_NAME']\n",
    "dfDAU_3['in_ReportingUnitNativeID'] = dfDAU_2['DAU']\n",
    "dfDAU_3['in_ReportingUnitTypeCV'] = \"Detailed Analysis Units by County\"\n",
    "\n",
    "# AggregatedAmounts Info\n",
    "dfDAU_3['in_Amount'] = dfDAU_2['KAcreFt']\n",
    "dfDAU_3['in_BenUse'] = dfDAU_2['CategoryA']\n",
    "dfDAU_3['in_ReportYearCV'] =  dfDAU_2['Year'].astype(int)\n",
    "dfDAU_3['in_TimeframeStart'] = dfDAU_2['Year'].astype(str) + \"/01/01\"\n",
    "dfDAU_3['in_TimeframeEnd'] = dfDAU_2['Year'].astype(str)  + \"/12/31\"\n",
    "\n",
    "print(len(dfDAU_3))\n",
    "dfDAU_3.head(1)"
   ]
  },
  {
   "cell_type": "code",
   "execution_count": 58,
   "metadata": {},
   "outputs": [
    {
     "name": "stdout",
     "output_type": "stream",
     "text": [
      "98712\n"
     ]
    },
    {
     "data": {
      "text/plain": [
       "array(['Hydrologic Region', 'Planning Area',\n",
       "       'Detailed Analysis Units by County'], dtype=object)"
      ]
     },
     "execution_count": 58,
     "metadata": {},
     "output_type": "execute_result"
    }
   ],
   "source": [
    "# Concatenate HR, PA, & DAU datfames into single output dataframe.\n",
    "frames = [dfHR_3, dfPA_3, dfDAU_3]\n",
    "dfout = pd.concat(frames).reset_index(drop=True)\n",
    "print(len(dfout))\n",
    "dfout['in_ReportingUnitTypeCV'].unique()"
   ]
  },
  {
   "cell_type": "code",
   "execution_count": 59,
   "metadata": {},
   "outputs": [
    {
     "data": {
      "text/html": [
       "<div>\n",
       "<style scoped>\n",
       "    .dataframe tbody tr th:only-of-type {\n",
       "        vertical-align: middle;\n",
       "    }\n",
       "\n",
       "    .dataframe tbody tr th {\n",
       "        vertical-align: top;\n",
       "    }\n",
       "\n",
       "    .dataframe thead th {\n",
       "        text-align: right;\n",
       "    }\n",
       "</style>\n",
       "<table border=\"1\" class=\"dataframe\">\n",
       "  <thead>\n",
       "    <tr style=\"text-align: right;\">\n",
       "      <th></th>\n",
       "      <th>VariableCV</th>\n",
       "      <th>in_VariableSpecificCV</th>\n",
       "      <th>in_ReportingUnitName</th>\n",
       "      <th>in_ReportingUnitNativeID</th>\n",
       "      <th>in_ReportingUnitTypeCV</th>\n",
       "      <th>in_Amount</th>\n",
       "      <th>in_BenUse</th>\n",
       "      <th>in_ReportYearCV</th>\n",
       "      <th>in_TimeframeStart</th>\n",
       "      <th>in_TimeframeEnd</th>\n",
       "    </tr>\n",
       "  </thead>\n",
       "  <tbody>\n",
       "    <tr>\n",
       "      <th>0</th>\n",
       "      <td>Applied Water Use</td>\n",
       "      <td>Applied Water Use_Annual_Agriculture_Surface G...</td>\n",
       "      <td>Central Coast</td>\n",
       "      <td>3</td>\n",
       "      <td>Hydrologic Region</td>\n",
       "      <td>1175.6</td>\n",
       "      <td>Agriculture</td>\n",
       "      <td>2002</td>\n",
       "      <td>2002-01-01</td>\n",
       "      <td>2002-12-31</td>\n",
       "    </tr>\n",
       "    <tr>\n",
       "      <th>1</th>\n",
       "      <td>Applied Water Use</td>\n",
       "      <td>Applied Water Use_Annual_Instream Flow Require...</td>\n",
       "      <td>Central Coast</td>\n",
       "      <td>3</td>\n",
       "      <td>Hydrologic Region</td>\n",
       "      <td>10.7</td>\n",
       "      <td>Instream Flow Requirements</td>\n",
       "      <td>2002</td>\n",
       "      <td>2002-01-01</td>\n",
       "      <td>2002-12-31</td>\n",
       "    </tr>\n",
       "    <tr>\n",
       "      <th>2</th>\n",
       "      <td>Applied Water Use</td>\n",
       "      <td>Applied Water Use_Annual_Managed Wetlands_Surf...</td>\n",
       "      <td>Central Coast</td>\n",
       "      <td>3</td>\n",
       "      <td>Hydrologic Region</td>\n",
       "      <td>0.5</td>\n",
       "      <td>Managed Wetlands</td>\n",
       "      <td>2002</td>\n",
       "      <td>2002-01-01</td>\n",
       "      <td>2002-12-31</td>\n",
       "    </tr>\n",
       "    <tr>\n",
       "      <th>3</th>\n",
       "      <td>Applied Water Use</td>\n",
       "      <td>Applied Water Use_Annual_Required Delta Outflo...</td>\n",
       "      <td>Central Coast</td>\n",
       "      <td>3</td>\n",
       "      <td>Hydrologic Region</td>\n",
       "      <td>0.0</td>\n",
       "      <td>Required Delta Outflow</td>\n",
       "      <td>2002</td>\n",
       "      <td>2002-01-01</td>\n",
       "      <td>2002-12-31</td>\n",
       "    </tr>\n",
       "    <tr>\n",
       "      <th>4</th>\n",
       "      <td>Applied Water Use</td>\n",
       "      <td>Applied Water Use_Annual_Urban_Surface Ground ...</td>\n",
       "      <td>Central Coast</td>\n",
       "      <td>3</td>\n",
       "      <td>Hydrologic Region</td>\n",
       "      <td>291.8</td>\n",
       "      <td>Urban</td>\n",
       "      <td>2002</td>\n",
       "      <td>2002-01-01</td>\n",
       "      <td>2002-12-31</td>\n",
       "    </tr>\n",
       "  </tbody>\n",
       "</table>\n",
       "</div>"
      ],
      "text/plain": [
       "          VariableCV                              in_VariableSpecificCV  \\\n",
       "0  Applied Water Use  Applied Water Use_Annual_Agriculture_Surface G...   \n",
       "1  Applied Water Use  Applied Water Use_Annual_Instream Flow Require...   \n",
       "2  Applied Water Use  Applied Water Use_Annual_Managed Wetlands_Surf...   \n",
       "3  Applied Water Use  Applied Water Use_Annual_Required Delta Outflo...   \n",
       "4  Applied Water Use  Applied Water Use_Annual_Urban_Surface Ground ...   \n",
       "\n",
       "  in_ReportingUnitName in_ReportingUnitNativeID in_ReportingUnitTypeCV  \\\n",
       "0        Central Coast                        3      Hydrologic Region   \n",
       "1        Central Coast                        3      Hydrologic Region   \n",
       "2        Central Coast                        3      Hydrologic Region   \n",
       "3        Central Coast                        3      Hydrologic Region   \n",
       "4        Central Coast                        3      Hydrologic Region   \n",
       "\n",
       "   in_Amount                   in_BenUse  in_ReportYearCV in_TimeframeStart  \\\n",
       "0     1175.6                 Agriculture             2002        2002-01-01   \n",
       "1       10.7  Instream Flow Requirements             2002        2002-01-01   \n",
       "2        0.5            Managed Wetlands             2002        2002-01-01   \n",
       "3        0.0      Required Delta Outflow             2002        2002-01-01   \n",
       "4      291.8                       Urban             2002        2002-01-01   \n",
       "\n",
       "  in_TimeframeEnd  \n",
       "0      2002-12-31  \n",
       "1      2002-12-31  \n",
       "2      2002-12-31  \n",
       "3      2002-12-31  \n",
       "4      2002-12-31  "
      ]
     },
     "execution_count": 59,
     "metadata": {},
     "output_type": "execute_result"
    }
   ],
   "source": [
    "# Convert History Year to YYYY-MM-DD format.\n",
    "\n",
    "dfout['in_TimeframeStart'] = pd.to_datetime(dfout['in_TimeframeStart'], errors = 'coerce')\n",
    "dfout['in_TimeframeStart'] = pd.to_datetime(dfout[\"in_TimeframeStart\"].dt.strftime('%m/%d/%Y'))\n",
    "\n",
    "dfout['in_TimeframeEnd'] = pd.to_datetime(dfout['in_TimeframeEnd'], errors = 'coerce')\n",
    "dfout['in_TimeframeEnd'] = pd.to_datetime(dfout[\"in_TimeframeEnd\"].dt.strftime('%m/%d/%Y'))\n",
    "\n",
    "dfout.head()"
   ]
  },
  {
   "cell_type": "markdown",
   "metadata": {},
   "source": [
    "## WaDE Custom Elements (due to missing info)"
   ]
  },
  {
   "cell_type": "code",
   "execution_count": null,
   "metadata": {},
   "outputs": [],
   "source": []
  },
  {
   "cell_type": "markdown",
   "metadata": {},
   "source": [
    "# Shapefile Data"
   ]
  },
  {
   "cell_type": "code",
   "execution_count": 60,
   "metadata": {},
   "outputs": [],
   "source": [
    "# Shapefile input\n",
    "HydrologicRegionsShape = gpd.read_file('Hydrologic_Regions-shp/Hydrologic_Regions.shp', crs=\"EPSG:4326\")\n",
    "WaterPlanAreaShape = gpd.read_file('Water_Plan_Planning_Areas-shp/Water_Plan_Planning_Areas.shp', crs=\"EPSG:4326\")\n",
    "DAUCOShape = gpd.read_file('DAUCO-shp/WaDECADAU.shp', crs=\"EPSG:4326\")"
   ]
  },
  {
   "cell_type": "code",
   "execution_count": 61,
   "metadata": {},
   "outputs": [
    {
     "data": {
      "text/html": [
       "<div>\n",
       "<style scoped>\n",
       "    .dataframe tbody tr th:only-of-type {\n",
       "        vertical-align: middle;\n",
       "    }\n",
       "\n",
       "    .dataframe tbody tr th {\n",
       "        vertical-align: top;\n",
       "    }\n",
       "\n",
       "    .dataframe thead th {\n",
       "        text-align: right;\n",
       "    }\n",
       "</style>\n",
       "<table border=\"1\" class=\"dataframe\">\n",
       "  <thead>\n",
       "    <tr style=\"text-align: right;\">\n",
       "      <th></th>\n",
       "      <th>RU_ID</th>\n",
       "      <th>geometry</th>\n",
       "    </tr>\n",
       "  </thead>\n",
       "  <tbody>\n",
       "    <tr>\n",
       "      <th>0</th>\n",
       "      <td>3</td>\n",
       "      <td>POLYGON ((-122.11808 37.25528, -122.11795 37.2...</td>\n",
       "    </tr>\n",
       "    <tr>\n",
       "      <th>1</th>\n",
       "      <td>10</td>\n",
       "      <td>POLYGON ((-115.12583 35.39706, -115.09804 35.3...</td>\n",
       "    </tr>\n",
       "    <tr>\n",
       "      <th>2</th>\n",
       "      <td>1</td>\n",
       "      <td>POLYGON ((-122.30410 42.00836, -122.28218 42.0...</td>\n",
       "    </tr>\n",
       "    <tr>\n",
       "      <th>3</th>\n",
       "      <td>8</td>\n",
       "      <td>POLYGON ((-119.99946 41.99466, -119.99940 41.9...</td>\n",
       "    </tr>\n",
       "    <tr>\n",
       "      <th>4</th>\n",
       "      <td>5</td>\n",
       "      <td>POLYGON ((-120.20882 41.99296, -120.20892 41.9...</td>\n",
       "    </tr>\n",
       "    <tr>\n",
       "      <th>5</th>\n",
       "      <td>2</td>\n",
       "      <td>POLYGON ((-122.60736 38.65174, -122.60694 38.6...</td>\n",
       "    </tr>\n",
       "    <tr>\n",
       "      <th>6</th>\n",
       "      <td>6</td>\n",
       "      <td>POLYGON ((-120.53749 38.75047, -120.53636 38.7...</td>\n",
       "    </tr>\n",
       "    <tr>\n",
       "      <th>7</th>\n",
       "      <td>4</td>\n",
       "      <td>POLYGON ((-119.10918 34.82375, -119.10905 34.8...</td>\n",
       "    </tr>\n",
       "    <tr>\n",
       "      <th>8</th>\n",
       "      <td>9</td>\n",
       "      <td>POLYGON ((-118.88460 38.22193, -118.87599 38.2...</td>\n",
       "    </tr>\n",
       "    <tr>\n",
       "      <th>9</th>\n",
       "      <td>7</td>\n",
       "      <td>POLYGON ((-118.89596 37.20829, -118.89539 37.2...</td>\n",
       "    </tr>\n",
       "  </tbody>\n",
       "</table>\n",
       "</div>"
      ],
      "text/plain": [
       "  RU_ID                                           geometry\n",
       "0     3  POLYGON ((-122.11808 37.25528, -122.11795 37.2...\n",
       "1    10  POLYGON ((-115.12583 35.39706, -115.09804 35.3...\n",
       "2     1  POLYGON ((-122.30410 42.00836, -122.28218 42.0...\n",
       "3     8  POLYGON ((-119.99946 41.99466, -119.99940 41.9...\n",
       "4     5  POLYGON ((-120.20882 41.99296, -120.20892 41.9...\n",
       "5     2  POLYGON ((-122.60736 38.65174, -122.60694 38.6...\n",
       "6     6  POLYGON ((-120.53749 38.75047, -120.53636 38.7...\n",
       "7     4  POLYGON ((-119.10918 34.82375, -119.10905 34.8...\n",
       "8     9  POLYGON ((-118.88460 38.22193, -118.87599 38.2...\n",
       "9     7  POLYGON ((-118.89596 37.20829, -118.89539 37.2..."
      ]
     },
     "execution_count": 61,
     "metadata": {},
     "output_type": "execute_result"
    }
   ],
   "source": [
    "#check shp input Hydrologic Region\n",
    "dfHRshapetemp = pd.DataFrame(HydrologicRegionsShape)\n",
    "\n",
    "HydrologicRegionIDdict = {\n",
    "\"North Coast\" : \"1\",\n",
    "\"San Francisco Bay\" : \"2\",\n",
    "\"Central Coast\" : \"3\",\n",
    "\"South Coast\" : \"4\",\n",
    "\"Sacramento River\" : \"5\",\n",
    "\"San Joaquin River\" : \"6\",\n",
    "\"Tulare Lake\" : \"7\",\n",
    "\"North Lahontan\" : \"8\",\n",
    "\"South Lahontan\" : \"9\",\n",
    "\"Colorado River\" : \"10\"}\n",
    "    \n",
    "def retrieveHRID(colrowValue):\n",
    "    if colrowValue == '' or pd.isnull(colrowValue):\n",
    "        outList = ''\n",
    "    else:\n",
    "        String1 = colrowValue.strip()\n",
    "        try:\n",
    "            outList = HydrologicRegionIDdict[String1]\n",
    "        except:\n",
    "            outList = ''\n",
    "    return outList\n",
    "\n",
    "columnsList = ['RU_ID', 'geometry']\n",
    "dfHRshape = pd.DataFrame(columns=columnsList)\n",
    "dfHRshape['RU_ID'] = dfHRshapetemp.apply(lambda row: retrieveHRID(row['HR_NAME']), axis=1)\n",
    "dfHRshape['geometry'] = dfHRshapetemp['geometry']\n",
    "dfHRshape = dfHRshape.drop_duplicates(subset=None, keep='first', inplace=False, ignore_index=False)\n",
    "dfHRshape"
   ]
  },
  {
   "cell_type": "code",
   "execution_count": 62,
   "metadata": {},
   "outputs": [
    {
     "data": {
      "text/html": [
       "<div>\n",
       "<style scoped>\n",
       "    .dataframe tbody tr th:only-of-type {\n",
       "        vertical-align: middle;\n",
       "    }\n",
       "\n",
       "    .dataframe tbody tr th {\n",
       "        vertical-align: top;\n",
       "    }\n",
       "\n",
       "    .dataframe thead th {\n",
       "        text-align: right;\n",
       "    }\n",
       "</style>\n",
       "<table border=\"1\" class=\"dataframe\">\n",
       "  <thead>\n",
       "    <tr style=\"text-align: right;\">\n",
       "      <th></th>\n",
       "      <th>RU_ID</th>\n",
       "      <th>geometry</th>\n",
       "    </tr>\n",
       "  </thead>\n",
       "  <tbody>\n",
       "    <tr>\n",
       "      <th>0</th>\n",
       "      <td>1001</td>\n",
       "      <td>POLYGON ((-115.16056 35.35811, -115.16038 35.3...</td>\n",
       "    </tr>\n",
       "    <tr>\n",
       "      <th>1</th>\n",
       "      <td>1002</td>\n",
       "      <td>POLYGON ((-116.62283 34.16694, -116.62253 34.1...</td>\n",
       "    </tr>\n",
       "    <tr>\n",
       "      <th>2</th>\n",
       "      <td>1003</td>\n",
       "      <td>POLYGON ((-114.80515 34.22629, -114.80435 34.2...</td>\n",
       "    </tr>\n",
       "  </tbody>\n",
       "</table>\n",
       "</div>"
      ],
      "text/plain": [
       "  RU_ID                                           geometry\n",
       "0  1001  POLYGON ((-115.16056 35.35811, -115.16038 35.3...\n",
       "1  1002  POLYGON ((-116.62283 34.16694, -116.62253 34.1...\n",
       "2  1003  POLYGON ((-114.80515 34.22629, -114.80435 34.2..."
      ]
     },
     "execution_count": 62,
     "metadata": {},
     "output_type": "execute_result"
    }
   ],
   "source": [
    "#check shp input Water Plan Area\n",
    "dfWPAshapetemp = pd.DataFrame(WaterPlanAreaShape)\n",
    "\n",
    "columnsList = ['RU_ID', 'geometry']\n",
    "dfWPAshape = pd.DataFrame(columns=columnsList)\n",
    "dfWPAshape['RU_ID'] = dfWPAshapetemp['PA_NO']\n",
    "dfWPAshape['geometry'] = dfWPAshapetemp['geometry']\n",
    "dfWPAshape = dfWPAshape.drop_duplicates(subset=None, keep='first', inplace=False, ignore_index=False)\n",
    "dfWPAshape.head(3)"
   ]
  },
  {
   "cell_type": "code",
   "execution_count": 63,
   "metadata": {},
   "outputs": [
    {
     "data": {
      "text/html": [
       "<div>\n",
       "<style scoped>\n",
       "    .dataframe tbody tr th:only-of-type {\n",
       "        vertical-align: middle;\n",
       "    }\n",
       "\n",
       "    .dataframe tbody tr th {\n",
       "        vertical-align: top;\n",
       "    }\n",
       "\n",
       "    .dataframe thead th {\n",
       "        text-align: right;\n",
       "    }\n",
       "</style>\n",
       "<table border=\"1\" class=\"dataframe\">\n",
       "  <thead>\n",
       "    <tr style=\"text-align: right;\">\n",
       "      <th></th>\n",
       "      <th>RU_ID</th>\n",
       "      <th>geometry</th>\n",
       "    </tr>\n",
       "  </thead>\n",
       "  <tbody>\n",
       "    <tr>\n",
       "      <th>0</th>\n",
       "      <td>DAU00125</td>\n",
       "      <td>POLYGON ((-121.08710 41.99514, -120.70108 41.9...</td>\n",
       "    </tr>\n",
       "    <tr>\n",
       "      <th>1</th>\n",
       "      <td>DAU00147</td>\n",
       "      <td>POLYGON ((-121.88226 42.00329, -121.44784 41.9...</td>\n",
       "    </tr>\n",
       "    <tr>\n",
       "      <th>2</th>\n",
       "      <td>DAU00247</td>\n",
       "      <td>POLYGON ((-122.02221 42.00440, -121.94694 42.0...</td>\n",
       "    </tr>\n",
       "  </tbody>\n",
       "</table>\n",
       "</div>"
      ],
      "text/plain": [
       "      RU_ID                                           geometry\n",
       "0  DAU00125  POLYGON ((-121.08710 41.99514, -120.70108 41.9...\n",
       "1  DAU00147  POLYGON ((-121.88226 42.00329, -121.44784 41.9...\n",
       "2  DAU00247  POLYGON ((-122.02221 42.00440, -121.94694 42.0..."
      ]
     },
     "execution_count": 63,
     "metadata": {},
     "output_type": "execute_result"
    }
   ],
   "source": [
    "#check shp input DAUCO\n",
    "dfDAUCOshapetemp = pd.DataFrame(DAUCOShape)\n",
    "\n",
    "columnsList = ['RU_ID', 'geometry']\n",
    "dfDAUCOshape = pd.DataFrame(columns=columnsList)\n",
    "dfDAUCOshape['RU_ID'] = dfDAUCOshapetemp['RU_ID']\n",
    "dfDAUCOshape['geometry'] = dfDAUCOshapetemp['geometry']\n",
    "dfDAUCOshape = dfDAUCOshape.drop_duplicates(subset=None, keep='first', inplace=False, ignore_index=False)\n",
    "dfDAUCOshape.head(3)"
   ]
  },
  {
   "cell_type": "code",
   "execution_count": 64,
   "metadata": {},
   "outputs": [
    {
     "data": {
      "text/html": [
       "<div>\n",
       "<style scoped>\n",
       "    .dataframe tbody tr th:only-of-type {\n",
       "        vertical-align: middle;\n",
       "    }\n",
       "\n",
       "    .dataframe tbody tr th {\n",
       "        vertical-align: top;\n",
       "    }\n",
       "\n",
       "    .dataframe thead th {\n",
       "        text-align: right;\n",
       "    }\n",
       "</style>\n",
       "<table border=\"1\" class=\"dataframe\">\n",
       "  <thead>\n",
       "    <tr style=\"text-align: right;\">\n",
       "      <th></th>\n",
       "      <th>RU_ID</th>\n",
       "      <th>geometry</th>\n",
       "    </tr>\n",
       "  </thead>\n",
       "  <tbody>\n",
       "    <tr>\n",
       "      <th>0</th>\n",
       "      <td>3</td>\n",
       "      <td>POLYGON ((-122.11808 37.25528, -122.11795 37.2...</td>\n",
       "    </tr>\n",
       "    <tr>\n",
       "      <th>1</th>\n",
       "      <td>10</td>\n",
       "      <td>POLYGON ((-115.12583 35.39706, -115.09804 35.3...</td>\n",
       "    </tr>\n",
       "    <tr>\n",
       "      <th>2</th>\n",
       "      <td>1</td>\n",
       "      <td>POLYGON ((-122.30410 42.00836, -122.28218 42.0...</td>\n",
       "    </tr>\n",
       "    <tr>\n",
       "      <th>3</th>\n",
       "      <td>8</td>\n",
       "      <td>POLYGON ((-119.99946 41.99466, -119.99940 41.9...</td>\n",
       "    </tr>\n",
       "    <tr>\n",
       "      <th>4</th>\n",
       "      <td>5</td>\n",
       "      <td>POLYGON ((-120.20882 41.99296, -120.20892 41.9...</td>\n",
       "    </tr>\n",
       "    <tr>\n",
       "      <th>...</th>\n",
       "      <td>...</td>\n",
       "      <td>...</td>\n",
       "    </tr>\n",
       "    <tr>\n",
       "      <th>584</th>\n",
       "      <td>DAU40417</td>\n",
       "      <td>POLYGON ((-122.82745 38.85906, -122.83830 38.8...</td>\n",
       "    </tr>\n",
       "    <tr>\n",
       "      <th>585</th>\n",
       "      <td>DAU40423</td>\n",
       "      <td>POLYGON ((-122.85634 38.86348, -122.84992 38.8...</td>\n",
       "    </tr>\n",
       "    <tr>\n",
       "      <th>586</th>\n",
       "      <td>DAU40449</td>\n",
       "      <td>POLYGON ((-122.82249 38.85118, -122.81670 38.8...</td>\n",
       "    </tr>\n",
       "    <tr>\n",
       "      <th>587</th>\n",
       "      <td>DAU40523</td>\n",
       "      <td>POLYGON ((-123.10947 38.87033, -123.11125 38.8...</td>\n",
       "    </tr>\n",
       "    <tr>\n",
       "      <th>588</th>\n",
       "      <td>DAU40549</td>\n",
       "      <td>POLYGON ((-122.84934 38.61969, -122.86402 38.6...</td>\n",
       "    </tr>\n",
       "  </tbody>\n",
       "</table>\n",
       "<p>589 rows × 2 columns</p>\n",
       "</div>"
      ],
      "text/plain": [
       "        RU_ID                                           geometry\n",
       "0           3  POLYGON ((-122.11808 37.25528, -122.11795 37.2...\n",
       "1          10  POLYGON ((-115.12583 35.39706, -115.09804 35.3...\n",
       "2           1  POLYGON ((-122.30410 42.00836, -122.28218 42.0...\n",
       "3           8  POLYGON ((-119.99946 41.99466, -119.99940 41.9...\n",
       "4           5  POLYGON ((-120.20882 41.99296, -120.20892 41.9...\n",
       "..        ...                                                ...\n",
       "584  DAU40417  POLYGON ((-122.82745 38.85906, -122.83830 38.8...\n",
       "585  DAU40423  POLYGON ((-122.85634 38.86348, -122.84992 38.8...\n",
       "586  DAU40449  POLYGON ((-122.82249 38.85118, -122.81670 38.8...\n",
       "587  DAU40523  POLYGON ((-123.10947 38.87033, -123.11125 38.8...\n",
       "588  DAU40549  POLYGON ((-122.84934 38.61969, -122.86402 38.6...\n",
       "\n",
       "[589 rows x 2 columns]"
      ]
     },
     "execution_count": 64,
     "metadata": {},
     "output_type": "execute_result"
    }
   ],
   "source": [
    "# Concatenate shp datafraes together.\n",
    "frames = [dfHRshape, dfWPAshape, dfDAUCOshape]\n",
    "dfShape = pd.concat(frames).reset_index(drop=True)\n",
    "dfShape"
   ]
  },
  {
   "cell_type": "markdown",
   "metadata": {},
   "source": [
    "### Inspect Output Data & Export"
   ]
  },
  {
   "cell_type": "code",
   "execution_count": 65,
   "metadata": {},
   "outputs": [
    {
     "name": "stdout",
     "output_type": "stream",
     "text": [
      "<class 'pandas.core.frame.DataFrame'>\n",
      "RangeIndex: 98712 entries, 0 to 98711\n",
      "Data columns (total 10 columns):\n",
      " #   Column                    Non-Null Count  Dtype         \n",
      "---  ------                    --------------  -----         \n",
      " 0   VariableCV                98712 non-null  object        \n",
      " 1   in_VariableSpecificCV     98712 non-null  object        \n",
      " 2   in_ReportingUnitName      98712 non-null  object        \n",
      " 3   in_ReportingUnitNativeID  98712 non-null  object        \n",
      " 4   in_ReportingUnitTypeCV    98712 non-null  object        \n",
      " 5   in_Amount                 98712 non-null  float64       \n",
      " 6   in_BenUse                 98712 non-null  object        \n",
      " 7   in_ReportYearCV           98712 non-null  int32         \n",
      " 8   in_TimeframeStart         98712 non-null  datetime64[ns]\n",
      " 9   in_TimeframeEnd           98712 non-null  datetime64[ns]\n",
      "dtypes: datetime64[ns](2), float64(1), int32(1), object(6)\n",
      "memory usage: 7.2+ MB\n"
     ]
    }
   ],
   "source": [
    "dfout.info()"
   ]
  },
  {
   "cell_type": "code",
   "execution_count": 66,
   "metadata": {},
   "outputs": [
    {
     "name": "stdout",
     "output_type": "stream",
     "text": [
      "<class 'pandas.core.frame.DataFrame'>\n",
      "RangeIndex: 589 entries, 0 to 588\n",
      "Data columns (total 2 columns):\n",
      " #   Column    Non-Null Count  Dtype   \n",
      "---  ------    --------------  -----   \n",
      " 0   RU_ID     589 non-null    object  \n",
      " 1   geometry  589 non-null    geometry\n",
      "dtypes: geometry(1), object(1)\n",
      "memory usage: 9.3+ KB\n"
     ]
    }
   ],
   "source": [
    "dfShape.info()"
   ]
  },
  {
   "cell_type": "code",
   "execution_count": 67,
   "metadata": {},
   "outputs": [],
   "source": [
    "# Export out to CSV.\n",
    "dfout.to_csv('P_caAggMaster.csv', index=False) # The output.\n",
    "dfShape.to_csv('P_caGeometry.csv', index=False) # The output geometry."
   ]
  },
  {
   "cell_type": "code",
   "execution_count": null,
   "metadata": {},
   "outputs": [],
   "source": []
  },
  {
   "cell_type": "code",
   "execution_count": null,
   "metadata": {},
   "outputs": [],
   "source": []
  },
  {
   "cell_type": "code",
   "execution_count": 68,
   "metadata": {},
   "outputs": [
    {
     "data": {
      "text/plain": [
       "array(['Applied Water Use_Annual_Agriculture_Surface Ground Water',\n",
       "       'Applied Water Use_Annual_Instream Flow Requirements_Surface Ground Water',\n",
       "       'Applied Water Use_Annual_Managed Wetlands_Surface Ground Water',\n",
       "       'Applied Water Use_Annual_Required Delta Outflow_Surface Ground Water',\n",
       "       'Applied Water Use_Annual_Urban_Surface Ground Water',\n",
       "       'Applied Water Use_Annual_Wild and Scenic River_Surface Ground Water',\n",
       "       'Depletion_Annual_Agriculture_Surface Ground Water',\n",
       "       'Depletion_Annual_Instream Flow Requirements_Surface Ground Water',\n",
       "       'Depletion_Annual_Managed Wetlands_Surface Ground Water',\n",
       "       'Depletion_Annual_Required Delta Outflow_Surface Ground Water',\n",
       "       'Depletion_Annual_Urban_Surface Ground Water',\n",
       "       'Depletion_Annual_Wild and Scenic River_Surface Ground Water'],\n",
       "      dtype=object)"
      ]
     },
     "execution_count": 68,
     "metadata": {},
     "output_type": "execute_result"
    }
   ],
   "source": [
    "dfout['in_VariableSpecificCV'].unique()"
   ]
  },
  {
   "cell_type": "code",
   "execution_count": null,
   "metadata": {},
   "outputs": [],
   "source": []
  },
  {
   "cell_type": "code",
   "execution_count": 69,
   "metadata": {},
   "outputs": [],
   "source": [
    "# # Creating WaDE Custom reporting unit native ID for easy water site identification\n",
    "# # create by unique ReportingUnitName & ReportingUnitTypeCV\n",
    "# # only need for PA areas.\n",
    "# # ----------------------------------------------------------------------------------------------------\n",
    "\n",
    "# # Create temp ReportingUnitNativeID dataframe of unique reporting unit native ID areas.\n",
    "# def assignReportingUnitNativeID(colrowValue):\n",
    "#     string1 = str(colrowValue)\n",
    "#     outstring = \"WaDECA_RU\" + string1\n",
    "#     return outstring\n",
    "\n",
    "# dfReportingUnitNativeID = pd.DataFrame()\n",
    "# dfReportingUnitNativeID['in_ReportingUnitName'] = dfout['in_ReportingUnitName']\n",
    "# dfReportingUnitNativeID['in_ReportingUnitTypeCV'] = dfout['in_ReportingUnitTypeCV']\n",
    "# dfReportingUnitNativeID = dfReportingUnitNativeID.drop_duplicates()\n",
    "\n",
    "# dftemp = pd.DataFrame(index=dfReportingUnitNativeID.index)\n",
    "# dftemp[\"Count\"] = range(1, len(dftemp.index) + 1)\n",
    "# dfReportingUnitNativeID['in_ReportingUnitNativeID'] = dftemp.apply(lambda row: assignReportingUnitNativeID(row['Count']), axis=1)\n",
    "\n",
    "# # ----------------------------------------------------------------------------------------------------\n",
    "\n",
    "# # Retreive WaDE Custom reporting unit native ID areas.\n",
    "# def retrieveReportingUnitNativeID(A, B, C):\n",
    "#     # check if A is empty or null\n",
    "#     if A == \"\" or pd.isnull(A):\n",
    "#         ml = dfReportingUnitNativeID.loc[(dfReportingUnitNativeID['in_ReportingUnitName'] == B) & \n",
    "#                                          (dfReportingUnitNativeID['in_ReportingUnitTypeCV'] == C), 'in_ReportingUnitNativeID']\n",
    "#         if not (ml.empty):  # check if the series is empty\n",
    "#             outString = ml.iloc[0]\n",
    "#         else:\n",
    "#             outString = A\n",
    "#     else:\n",
    "#         outString = A\n",
    "\n",
    "#     return outString\n",
    "\n",
    "# dfout['in_ReportingUnitNativeID'] = dfout.apply(lambda row: retrieveReportingUnitNativeID(row['in_ReportingUnitNativeID'],\n",
    "#                                                                                           row['in_ReportingUnitName'],\n",
    "#                                                                                           row['in_ReportingUnitTypeCV']), axis=1)\n",
    "# print(dfout['in_ReportingUnitNativeID'].unique())"
   ]
  }
 ],
 "metadata": {
  "kernelspec": {
   "display_name": "Python 3 (ipykernel)",
   "language": "python",
   "name": "python3"
  },
  "language_info": {
   "codemirror_mode": {
    "name": "ipython",
    "version": 3
   },
   "file_extension": ".py",
   "mimetype": "text/x-python",
   "name": "python",
   "nbconvert_exporter": "python",
   "pygments_lexer": "ipython3",
   "version": "3.9.15"
  }
 },
 "nbformat": 4,
 "nbformat_minor": 4
}
