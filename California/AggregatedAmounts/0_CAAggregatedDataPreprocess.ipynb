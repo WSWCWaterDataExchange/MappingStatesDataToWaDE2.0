{
 "cells": [
  {
   "cell_type": "markdown",
   "metadata": {},
   "source": [
    "# Working with CA Aggregated Data\n",
    "\n",
    "Pre-processing input data for a smoother upload experience of the state data to the WaDE 2.0 database.\n",
    "Using geopandas to read in shp file, and coverting to WKT for ReportingUnit geometry.\n",
    "\n",
    "#### Notes:\n",
    "- Three ReportingUnitTypeCV: PA, HR, DAU"
   ]
  },
  {
   "cell_type": "code",
   "execution_count": null,
   "metadata": {},
   "outputs": [],
   "source": [
    "#Needed Libararies\n",
    "\n",
    "# working with data\n",
    "import os\n",
    "import numpy as np\n",
    "import pandas as pd\n",
    "import geopandas as gpd\n",
    "\n",
    "# visulizaiton\n",
    "import matplotlib.pyplot as plt\n",
    "import seaborn as sns\n",
    "\n",
    "# Cleanup\n",
    "from datetime import datetime\n",
    "pd.set_option('display.max_columns', 999)  # How to display all columns of a Pandas DataFrame in Jupyter Notebook"
   ]
  },
  {
   "cell_type": "code",
   "execution_count": null,
   "metadata": {},
   "outputs": [],
   "source": [
    "#Setting work directory, reading inputs, creating dataframe\n",
    "workingDir = \"G:/Shared drives/WaDE Data/California/AggregatedAmounts/RawInputData\"\n",
    "os.chdir(workingDir)"
   ]
  },
  {
   "cell_type": "markdown",
   "metadata": {},
   "source": [
    "## Input Data"
   ]
  },
  {
   "cell_type": "markdown",
   "metadata": {},
   "source": [
    "### hydrologic region (HR_CODE)"
   ]
  },
  {
   "cell_type": "code",
   "execution_count": null,
   "metadata": {},
   "outputs": [],
   "source": [
    "HR_2002 = \"HR_input/CA-DWR-WaterBalance-Level2-DP-1000-2002-HR.csv\"\n",
    "dfhr2002 = pd.read_csv(HR_2002)\n",
    "print(len(dfhr2002))\n",
    "dfhr2002.head(1)"
   ]
  },
  {
   "cell_type": "code",
   "execution_count": null,
   "metadata": {},
   "outputs": [],
   "source": [
    "HR_2003 = \"HR_input/CA-DWR-WaterBalance-Level2-DP-1000-2003-HR.csv\"\n",
    "dfhr2003 = pd.read_csv(HR_2003)\n",
    "print(len(dfhr2003))\n",
    "dfhr2003.head(1)"
   ]
  },
  {
   "cell_type": "code",
   "execution_count": null,
   "metadata": {},
   "outputs": [],
   "source": [
    "HR_2004 = \"HR_input/CA-DWR-WaterBalance-Level2-DP-1000-2004-HR.csv\"\n",
    "dfhr2004 = pd.read_csv(HR_2004)\n",
    "print(len(dfhr2004))\n",
    "dfhr2004.head(1)"
   ]
  },
  {
   "cell_type": "code",
   "execution_count": null,
   "metadata": {},
   "outputs": [],
   "source": [
    "HR_2005 = \"HR_input/CA-DWR-WaterBalance-Level2-DP-1000-2005-HR.csv\"\n",
    "dfhr2005 = pd.read_csv(HR_2005)\n",
    "print(len(dfhr2005))\n",
    "dfhr2005.head(1)"
   ]
  },
  {
   "cell_type": "code",
   "execution_count": null,
   "metadata": {},
   "outputs": [],
   "source": [
    "HR_2006 = \"HR_input/CA-DWR-WaterBalance-Level2-DP-1000-2006-HR.csv\"\n",
    "dfhr2006 = pd.read_csv(HR_2006)\n",
    "print(len(dfhr2006))\n",
    "dfhr2006.head(1)"
   ]
  },
  {
   "cell_type": "code",
   "execution_count": null,
   "metadata": {},
   "outputs": [],
   "source": [
    "HR_2007 = \"HR_input/CA-DWR-WaterBalance-Level2-DP-1000-2007-HR.csv\"\n",
    "dfhr2007 = pd.read_csv(HR_2007)\n",
    "print(len(dfhr2007))\n",
    "dfhr2007.head(1)"
   ]
  },
  {
   "cell_type": "code",
   "execution_count": null,
   "metadata": {},
   "outputs": [],
   "source": [
    "HR_2008 = \"HR_input/CA-DWR-WaterBalance-Level2-DP-1000-2008-HR.csv\"\n",
    "dfhr2008 = pd.read_csv(HR_2008)\n",
    "print(len(dfhr2008))\n",
    "dfhr2008.head(1)"
   ]
  },
  {
   "cell_type": "code",
   "execution_count": null,
   "metadata": {},
   "outputs": [],
   "source": [
    "HR_2009 = \"HR_input/CA-DWR-WaterBalance-Level2-DP-1000-2009-HR.csv\"\n",
    "dfhr2009 = pd.read_csv(HR_2009)\n",
    "print(len(dfhr2009))\n",
    "dfhr2009.head(1)"
   ]
  },
  {
   "cell_type": "code",
   "execution_count": null,
   "metadata": {},
   "outputs": [],
   "source": [
    "HR_2010 = \"HR_input/CA-DWR-WaterBalance-Level2-DP-1000-2010-HR.csv\"\n",
    "dfhr2010 = pd.read_csv(HR_2010)\n",
    "print(len(dfhr2010))\n",
    "dfhr2010.head(1)"
   ]
  },
  {
   "cell_type": "code",
   "execution_count": null,
   "metadata": {},
   "outputs": [],
   "source": [
    "HR_2011 = \"HR_input/CA-DWR-WaterBalance-Level2-DP-1000-2011-HR.csv\"\n",
    "dfhr2011 = pd.read_csv(HR_2011)\n",
    "print(len(dfhr2011))\n",
    "dfhr2011.head(1)"
   ]
  },
  {
   "cell_type": "code",
   "execution_count": null,
   "metadata": {},
   "outputs": [],
   "source": [
    "HR_2012 = \"HR_input/CA-DWR-WaterBalance-Level2-DP-1000-2012-HR.csv\"\n",
    "dfhr2012 = pd.read_csv(HR_2012)\n",
    "print(len(dfhr2012))\n",
    "dfhr2012.head(1)"
   ]
  },
  {
   "cell_type": "code",
   "execution_count": null,
   "metadata": {},
   "outputs": [],
   "source": [
    "HR_2013 = \"HR_input/CA-DWR-WaterBalance-Level2-DP-1000-2013-HR.csv\"\n",
    "dfhr2013 = pd.read_csv(HR_2013)\n",
    "print(len(dfhr2013))\n",
    "dfhr2013.head(1)"
   ]
  },
  {
   "cell_type": "code",
   "execution_count": null,
   "metadata": {},
   "outputs": [],
   "source": [
    "HR_2014 = \"HR_input/CA-DWR-WaterBalance-Level2-DP-1000-2014-HR.csv\"\n",
    "dfhr2014 = pd.read_csv(HR_2014)\n",
    "print(len(dfhr2014))\n",
    "dfhr2014.head(1)"
   ]
  },
  {
   "cell_type": "code",
   "execution_count": null,
   "metadata": {},
   "outputs": [],
   "source": [
    "HR_2015 = \"HR_input/CA-DWR-WaterBalance-Level2-DP-1000-2015-HR.csv\"\n",
    "dfhr2015 = pd.read_csv(HR_2015)\n",
    "print(len(dfhr2015))"
   ]
  },
  {
   "cell_type": "code",
   "execution_count": null,
   "metadata": {},
   "outputs": [],
   "source": [
    "HR_2016 = \"HR_input/CA-DWR-WaterBalance-Level2-DP-1000-2016-HR.csv\"\n",
    "dfhr2016 = pd.read_csv(HR_2016)\n",
    "print(len(dfhr2016))\n",
    "dfhr2016.head(1)"
   ]
  },
  {
   "cell_type": "code",
   "execution_count": null,
   "metadata": {
    "scrolled": true
   },
   "outputs": [],
   "source": [
    "# Concatenate HR inputs into one dataframe\n",
    "frames = [dfhr2002,dfhr2003,dfhr2004,dfhr2005,dfhr2006,dfhr2007,dfhr2008,\n",
    "          dfhr2009,dfhr2010,dfhr2011,dfhr2012,dfhr2013,dfhr2014,dfhr2015,dfhr2016]\n",
    "dfHR = pd.concat(frames).reset_index(drop=True)\n",
    "print(len(dfHR))\n",
    "dfHR['Year'].unique()"
   ]
  },
  {
   "cell_type": "markdown",
   "metadata": {},
   "source": [
    "#### planning area (PA)"
   ]
  },
  {
   "cell_type": "code",
   "execution_count": null,
   "metadata": {},
   "outputs": [],
   "source": [
    "PA_2002 = \"PA_input/CA-DWR-WaterBalance-Level2-DP-1000-2002-PA.csv\"\n",
    "dfpa2002 = pd.read_csv(PA_2002)\n",
    "print(len(dfpa2002))\n",
    "dfpa2002.head(1)"
   ]
  },
  {
   "cell_type": "code",
   "execution_count": null,
   "metadata": {},
   "outputs": [],
   "source": [
    "PA_2003 = \"PA_input/CA-DWR-WaterBalance-Level2-DP-1000-2003-PA.csv\"\n",
    "dfpa2003 = pd.read_csv(PA_2003)\n",
    "print(len(dfpa2003))\n",
    "dfpa2003.head(1)"
   ]
  },
  {
   "cell_type": "code",
   "execution_count": null,
   "metadata": {},
   "outputs": [],
   "source": [
    "PA_2004 = \"PA_input/CA-DWR-WaterBalance-Level2-DP-1000-2004-PA.csv\"\n",
    "dfpa2004 = pd.read_csv(PA_2004)\n",
    "print(len(dfpa2004))\n",
    "dfpa2004.head(1)"
   ]
  },
  {
   "cell_type": "code",
   "execution_count": null,
   "metadata": {},
   "outputs": [],
   "source": [
    "PA_2005 = \"PA_input/CA-DWR-WaterBalance-Level2-DP-1000-2005-PA.csv\"\n",
    "dfpa2005 = pd.read_csv(PA_2005)\n",
    "print(len(dfpa2005))\n",
    "dfpa2005.head(1)"
   ]
  },
  {
   "cell_type": "code",
   "execution_count": null,
   "metadata": {},
   "outputs": [],
   "source": [
    "PA_2006 = \"PA_input/CA-DWR-WaterBalance-Level2-DP-1000-2006-PA.csv\"\n",
    "dfpa2006 = pd.read_csv(PA_2006)\n",
    "print(len(dfpa2006))\n",
    "dfpa2006.head(1)"
   ]
  },
  {
   "cell_type": "code",
   "execution_count": null,
   "metadata": {},
   "outputs": [],
   "source": [
    "PA_2007 = \"PA_input/CA-DWR-WaterBalance-Level2-DP-1000-2007-PA.csv\"\n",
    "dfpa2007 = pd.read_csv(PA_2007)\n",
    "print(len(dfpa2007))\n",
    "dfpa2007.head(1)"
   ]
  },
  {
   "cell_type": "code",
   "execution_count": null,
   "metadata": {},
   "outputs": [],
   "source": [
    "PA_2008 = \"PA_input/CA-DWR-WaterBalance-Level2-DP-1000-2008-PA.csv\"\n",
    "dfpa2008 = pd.read_csv(PA_2008)\n",
    "print(len(dfpa2008))\n",
    "dfpa2008.head(1)"
   ]
  },
  {
   "cell_type": "code",
   "execution_count": null,
   "metadata": {},
   "outputs": [],
   "source": [
    "PA_2009 = \"PA_input/CA-DWR-WaterBalance-Level2-DP-1000-2009-PA.csv\"\n",
    "dfpa2009 = pd.read_csv(PA_2009)\n",
    "print(len(dfpa2009))\n",
    "dfpa2009.head(1)"
   ]
  },
  {
   "cell_type": "code",
   "execution_count": null,
   "metadata": {},
   "outputs": [],
   "source": [
    "PA_2010 = \"PA_input/CA-DWR-WaterBalance-Level2-DP-1000-2010-PA.csv\"\n",
    "dfpa2010 = pd.read_csv(PA_2010)\n",
    "print(len(dfpa2010))\n",
    "dfpa2010.head(1)"
   ]
  },
  {
   "cell_type": "code",
   "execution_count": null,
   "metadata": {},
   "outputs": [],
   "source": [
    "PA_2011 = \"PA_input/CA-DWR-WaterBalance-Level2-DP-1000-2011-PA.csv\"\n",
    "dfpa2011 = pd.read_csv(PA_2011)\n",
    "print(len(dfpa2011))\n",
    "dfpa2011.head(1)"
   ]
  },
  {
   "cell_type": "code",
   "execution_count": null,
   "metadata": {},
   "outputs": [],
   "source": [
    "PA_2012 = \"PA_input/CA-DWR-WaterBalance-Level2-DP-1000-2012-PA.csv\"\n",
    "dfpa2012 = pd.read_csv(PA_2012)\n",
    "print(len(dfpa2012))\n",
    "dfpa2012.head(1)"
   ]
  },
  {
   "cell_type": "code",
   "execution_count": null,
   "metadata": {},
   "outputs": [],
   "source": [
    "PA_2013 = \"PA_input/CA-DWR-WaterBalance-Level2-DP-1000-2013-PA.csv\"\n",
    "dfpa2013 = pd.read_csv(PA_2013)\n",
    "print(len(dfpa2013))\n",
    "dfpa2013.head(1)"
   ]
  },
  {
   "cell_type": "code",
   "execution_count": null,
   "metadata": {},
   "outputs": [],
   "source": [
    "PA_2014 = \"PA_input/CA-DWR-WaterBalance-Level2-DP-1000-2014-PA.csv\"\n",
    "dfpa2014 = pd.read_csv(PA_2014)\n",
    "print(len(dfpa2014))\n",
    "dfpa2014.head(1)"
   ]
  },
  {
   "cell_type": "code",
   "execution_count": null,
   "metadata": {},
   "outputs": [],
   "source": [
    "PA_2015 = \"PA_input/CA-DWR-WaterBalance-Level2-DP-1000-2015-PA.csv\"\n",
    "dfpa2015 = pd.read_csv(PA_2015)\n",
    "print(len(dfpa2015))\n",
    "dfpa2015.head(1)"
   ]
  },
  {
   "cell_type": "code",
   "execution_count": null,
   "metadata": {},
   "outputs": [],
   "source": [
    "PA_2016 = \"PA_input/CA-DWR-WaterBalance-Level2-DP-1000-2016-PA.csv\"\n",
    "dfpa2016 = pd.read_csv(PA_2016)\n",
    "print(len(dfpa2016))\n",
    "dfpa2016.head(1)"
   ]
  },
  {
   "cell_type": "code",
   "execution_count": null,
   "metadata": {},
   "outputs": [],
   "source": [
    "# Concatenate PA inputs into one dataframe\n",
    "frames = [dfpa2002, dfpa2003, dfpa2004, dfpa2005, dfpa2006, dfpa2007, dfpa2008,\n",
    "          dfpa2009, dfpa2010, dfpa2011, dfpa2012, dfpa2013, dfpa2014, dfpa2015, dfpa2016]\n",
    "dfPA = pd.concat(frames).reset_index(drop=True)\n",
    "print(len(dfPA))\n",
    "dfPA['Year'].unique()"
   ]
  },
  {
   "cell_type": "markdown",
   "metadata": {},
   "source": [
    "### Detailed Analysis Units by County (DAU)"
   ]
  },
  {
   "cell_type": "code",
   "execution_count": null,
   "metadata": {},
   "outputs": [],
   "source": [
    "DAU_2002 = \"DAU_input/CA-DWR-WaterBalance-Level2-DP-1000-2002-DAUCO.csv\"\n",
    "dfdau2002 = pd.read_csv(DAU_2002)\n",
    "print(len(dfdau2002))\n",
    "dfdau2002.head(1)"
   ]
  },
  {
   "cell_type": "code",
   "execution_count": null,
   "metadata": {},
   "outputs": [],
   "source": [
    "DAU_2003 = \"DAU_input/CA-DWR-WaterBalance-Level2-DP-1000-2003-DAUCO.csv\"\n",
    "dfdau2003 = pd.read_csv(DAU_2003)\n",
    "print(len(dfdau2003))\n",
    "dfdau2003.head(1)"
   ]
  },
  {
   "cell_type": "code",
   "execution_count": null,
   "metadata": {},
   "outputs": [],
   "source": [
    "DAU_2004 = \"DAU_input/CA-DWR-WaterBalance-Level2-DP-1000-2004-DAUCO.csv\"\n",
    "dfdau2004 = pd.read_csv(DAU_2004)\n",
    "print(len(dfdau2004))\n",
    "dfdau2004.head(1)"
   ]
  },
  {
   "cell_type": "code",
   "execution_count": null,
   "metadata": {},
   "outputs": [],
   "source": [
    "DAU_2005 = \"DAU_input/CA-DWR-WaterBalance-Level2-DP-1000-2005-DAUCO.csv\"\n",
    "dfdau2005 = pd.read_csv(DAU_2005)\n",
    "print(len(dfdau2005))\n",
    "dfdau2005.head(1)"
   ]
  },
  {
   "cell_type": "code",
   "execution_count": null,
   "metadata": {},
   "outputs": [],
   "source": [
    "DAU_2006 = \"DAU_input/CA-DWR-WaterBalance-Level2-DP-1000-2006-DAUCO.csv\"\n",
    "dfdau2006 = pd.read_csv(DAU_2006)\n",
    "print(len(dfdau2006))\n",
    "dfdau2006.head(1)"
   ]
  },
  {
   "cell_type": "code",
   "execution_count": null,
   "metadata": {},
   "outputs": [],
   "source": [
    "DAU_2007 = \"DAU_input/CA-DWR-WaterBalance-Level2-DP-1000-2007-DAUCO.csv\"\n",
    "dfdau2007 = pd.read_csv(DAU_2007)\n",
    "print(len(dfdau2007))\n",
    "dfdau2007.head(1)"
   ]
  },
  {
   "cell_type": "code",
   "execution_count": null,
   "metadata": {},
   "outputs": [],
   "source": [
    "DAU_2008 = \"DAU_input/CA-DWR-WaterBalance-Level2-DP-1000-2008-DAUCO.csv\"\n",
    "dfdau2008 = pd.read_csv(DAU_2008)\n",
    "print(len(dfdau2008))\n",
    "dfdau2008.head(1)"
   ]
  },
  {
   "cell_type": "code",
   "execution_count": null,
   "metadata": {},
   "outputs": [],
   "source": [
    "DAU_2009 = \"DAU_input/CA-DWR-WaterBalance-Level2-DP-1000-2009-DAUCO.csv\"\n",
    "dfdau2009 = pd.read_csv(DAU_2009)\n",
    "print(len(dfdau2009))\n",
    "dfdau2009.head(1)"
   ]
  },
  {
   "cell_type": "code",
   "execution_count": null,
   "metadata": {},
   "outputs": [],
   "source": [
    "DAU_2010 = \"DAU_input/CA-DWR-WaterBalance-Level2-DP-1000-2010-DAUCO.csv\"\n",
    "dfdau2010 = pd.read_csv(DAU_2010)\n",
    "print(len(dfdau2010))\n",
    "dfdau2010.head(1)"
   ]
  },
  {
   "cell_type": "code",
   "execution_count": null,
   "metadata": {},
   "outputs": [],
   "source": [
    "DAU_2011 = \"DAU_input/CA-DWR-WaterBalance-Level2-DP-1000-2011-DAUCO.csv\"\n",
    "dfdau2011 = pd.read_csv(DAU_2011)\n",
    "print(len(dfdau2011))\n",
    "dfdau2011.head(1)"
   ]
  },
  {
   "cell_type": "code",
   "execution_count": null,
   "metadata": {},
   "outputs": [],
   "source": [
    "DAU_2012 = \"DAU_input/CA-DWR-WaterBalance-Level2-DP-1000-2012-DAUCO.csv\"\n",
    "dfdau2012 = pd.read_csv(DAU_2012)\n",
    "print(len(dfdau2012))\n",
    "dfdau2012.head(1)"
   ]
  },
  {
   "cell_type": "code",
   "execution_count": null,
   "metadata": {},
   "outputs": [],
   "source": [
    "DAU_2013 = \"DAU_input/CA-DWR-WaterBalance-Level2-DP-1000-2013-DAUCO.csv\"\n",
    "dfdau2013 = pd.read_csv(DAU_2013)\n",
    "print(len(dfdau2013))\n",
    "dfdau2013.head(1)"
   ]
  },
  {
   "cell_type": "code",
   "execution_count": null,
   "metadata": {},
   "outputs": [],
   "source": [
    "DAU_2014 = \"DAU_input/CA-DWR-WaterBalance-Level2-DP-1000-2014-DAUCO.csv\"\n",
    "dfdau2014 = pd.read_csv(DAU_2014)\n",
    "print(len(dfdau2014))\n",
    "dfdau2014.head(1)"
   ]
  },
  {
   "cell_type": "code",
   "execution_count": null,
   "metadata": {},
   "outputs": [],
   "source": [
    "DAU_2015 = \"DAU_input/CA-DWR-WaterBalance-Level2-DP-1000-2015-DAUCO.csv\"\n",
    "dfdau2015 = pd.read_csv(DAU_2015)\n",
    "print(len(dfdau2015))\n",
    "dfdau2015.head(1)"
   ]
  },
  {
   "cell_type": "code",
   "execution_count": null,
   "metadata": {},
   "outputs": [],
   "source": [
    "DAU_2016 = \"DAU_input/CA-DWR-WaterBalance-Level2-DP-1000-2016-DAUCO.csv\"\n",
    "dfdau2016 = pd.read_csv(DAU_2016)\n",
    "print(len(dfdau2016))\n",
    "dfdau2016.head(1)"
   ]
  },
  {
   "cell_type": "code",
   "execution_count": null,
   "metadata": {},
   "outputs": [],
   "source": [
    "# Concatenate DAU inputs into one dataframe\n",
    "frames = [dfdau2002, dfdau2003, dfdau2004, dfdau2005, dfdau2006, dfdau2007, dfdau2008, dfdau2009,\n",
    "          dfdau2010, dfdau2011, dfdau2012, dfdau2013, dfdau2014, dfdau2015, dfdau2016]\n",
    "dfDAU = pd.concat(frames).reset_index(drop=True)\n",
    "print(len(dfDAU))\n",
    "dfDAU['Year'].unique()"
   ]
  },
  {
   "cell_type": "markdown",
   "metadata": {},
   "source": [
    "## Clean Data\n",
    "- We only want the Applied Water Use and Depletion values."
   ]
  },
  {
   "cell_type": "code",
   "execution_count": null,
   "metadata": {},
   "outputs": [],
   "source": [
    "# HR\n",
    "dfHR_2 = dfHR.copy()\n",
    "dfHR_2 = dfHR_2[dfHR_2['CategoryC'].isin(['Applied Water Use', 'Depletion']) ].reset_index(drop=True)\n",
    "dfHR_2 = dfHR_2.sort_values(by=['Year', 'CategoryC', 'HR', 'CategoryA', 'KAcreFt'], )\n",
    "print(len(dfHR_2))\n",
    "print(dfHR_2['CategoryC'].unique())\n",
    "dfHR_2.head(1)"
   ]
  },
  {
   "cell_type": "code",
   "execution_count": null,
   "metadata": {},
   "outputs": [],
   "source": [
    "# PA\n",
    "dfPA_2 = dfPA.copy()\n",
    "dfPA_2 = dfPA_2[dfPA_2['CategoryC'].isin(['Applied Water Use', 'Depletion']) ].reset_index(drop=True)\n",
    "dfPA_2 = dfPA_2.sort_values(by=['Year', 'CategoryC', 'PA', 'CategoryA', 'KAcreFt'], )\n",
    "print(len(dfPA_2))\n",
    "print(dfPA_2['CategoryC'].unique())\n",
    "dfPA_2.head(1)"
   ]
  },
  {
   "cell_type": "code",
   "execution_count": null,
   "metadata": {},
   "outputs": [],
   "source": [
    "# DAU\n",
    "dfDAU_2 = dfDAU.copy()\n",
    "dfDAU_2 = dfDAU_2[dfDAU_2['CategoryC'].isin(['Applied Water Use', 'Depletion']) ].reset_index(drop=True)\n",
    "dfDAU_2 = dfDAU_2.sort_values(by=['Year', 'CategoryC', 'DAU', 'CategoryA', 'KAcreFt'], )\n",
    "print(len(dfDAU_2))\n",
    "print(dfDAU_2['CategoryC'].unique())\n",
    "dfDAU_2.head(1)"
   ]
  },
  {
   "cell_type": "markdown",
   "metadata": {},
   "source": [
    "## Output Dataframes"
   ]
  },
  {
   "cell_type": "code",
   "execution_count": null,
   "metadata": {
    "scrolled": true
   },
   "outputs": [],
   "source": [
    "# HR\n",
    "dfHR_3 = pd.DataFrame(index=dfHR_2.index)\n",
    "\n",
    "# Variable Info\n",
    "dfHR_3['VariableCV'] = dfHR_2['CategoryC']\n",
    "dfHR_3['in_VariableSpecificCV'] = dfHR_2['CategoryC'] + \"_Annual_\" + dfHR_2['CategoryA'] + \"_Surface Ground Water\"\n",
    "\n",
    "# ReportingUnits Info\n",
    "dfHR_3['in_ReportingUnitName'] = dfHR_2['HR']\n",
    "dfHR_3['in_ReportingUnitNativeID'] = \"\"\n",
    "dfHR_3['in_ReportingUnitTypeCV'] = \"Hydrologic Region\"\n",
    "\n",
    "# AggregatedAmounts Info\n",
    "dfHR_3['in_Amount'] = dfHR_2['KAcreFt']\n",
    "dfHR_3['in_BenUse'] = dfHR_2['CategoryA']\n",
    "dfHR_3['in_ReportYearCV'] =  dfHR_2['Year'].astype(int)\n",
    "dfHR_3['in_TimeframeStart'] = dfHR_2['Year'].astype(str) + \"/01/01\"\n",
    "dfHR_3['in_TimeframeEnd'] = dfHR_2['Year'].astype(str)  + \"/12/31\"\n",
    "\n",
    "print(len(dfHR_3))\n",
    "dfHR_3.head(1)"
   ]
  },
  {
   "cell_type": "code",
   "execution_count": null,
   "metadata": {},
   "outputs": [],
   "source": [
    "# For creating ReportingUnitNativeID for HR data\n",
    "\n",
    "dftempHR_CODE = pd.DataFrame(columns = ['HR_CODE', 'HR_NAME'])\n",
    "dftempHR_CODE['HR_CODE'] = dfDAU_2['HR_CODE']\n",
    "dftempHR_CODE['HR_NAME'] = dfDAU_2['HR_NAME']\n",
    "dftempHR_CODE = dftempHR_CODE.drop_duplicates().reset_index(drop=True)\n",
    "\n",
    "HR_Code_dict = pd.Series(dftempHR_CODE.HR_CODE.values, index=dftempHR_CODE.HR_NAME).to_dict()\n",
    "\n",
    "def retrieveReportingUnitNativeID(colrowValue):\n",
    "    if colrowValue == '' or pd.isnull(colrowValue):\n",
    "        outString = ''\n",
    "    else:\n",
    "        String1 = colrowValue\n",
    "        try:\n",
    "            outString = HR_Code_dict[String1]\n",
    "        except:\n",
    "            outString = colrowValue\n",
    "    return outString\n",
    "\n",
    "dfHR_3['in_ReportingUnitNativeID'] = dfHR_3.apply(lambda row: retrieveReportingUnitNativeID(row['in_ReportingUnitName']), axis=1)\n",
    "dfHR_3['in_ReportingUnitNativeID'].unique()"
   ]
  },
  {
   "cell_type": "code",
   "execution_count": null,
   "metadata": {},
   "outputs": [],
   "source": [
    "# PA\n",
    "dfPA_3 = pd.DataFrame(index=dfPA_2.index)\n",
    "\n",
    "# Variable Info\n",
    "dfPA_3['VariableCV'] = dfPA_2['CategoryC']\n",
    "dfPA_3['in_VariableSpecificCV'] = dfPA_2['CategoryC'] + \"_Annual_\" + dfPA_2['CategoryA'] + \"_Surface Ground Water\"\n",
    "\n",
    "# ReportingUnits Info\n",
    "dfPA_3['in_ReportingUnitName'] = dfPA_2['PA']\n",
    "dfPA_3['in_ReportingUnitNativeID'] = dfPA_2['PA'] # setting native id = name in this unique situation\n",
    "dfPA_3['in_ReportingUnitTypeCV'] = \"Planning Area\"\n",
    "\n",
    "# AggregatedAmounts Info\n",
    "dfPA_3['in_Amount'] = dfPA_2['KAcreFt']\n",
    "dfPA_3['in_BenUse'] = dfPA_2['CategoryA']\n",
    "dfPA_3['in_ReportYearCV'] =  dfPA_2['Year'].astype(int)\n",
    "dfPA_3['in_TimeframeStart'] = dfPA_2['Year'].astype(str) + \"/01/01\"\n",
    "dfPA_3['in_TimeframeEnd'] = dfPA_2['Year'].astype(str)  + \"/12/31\"\n",
    "\n",
    "print(len(dfPA_3))\n",
    "dfPA_3.head(1)"
   ]
  },
  {
   "cell_type": "code",
   "execution_count": null,
   "metadata": {},
   "outputs": [],
   "source": [
    "# DAU\n",
    "dfDAU_3 = pd.DataFrame(index=dfDAU_2.index)\n",
    "\n",
    "# Variable Info\n",
    "dfDAU_3['VariableCV'] = dfDAU_2['CategoryC']\n",
    "dfDAU_3['in_VariableSpecificCV'] = dfDAU_2['CategoryC'] + \"_Annual_\" + dfDAU_2['CategoryA'] + \"_Surface Ground Water\"\n",
    "\n",
    "# ReportingUnits Info\n",
    "dfDAU_3['in_ReportingUnitName'] = dfDAU_2['DAU_NAME']\n",
    "dfDAU_3['in_ReportingUnitNativeID'] = dfDAU_2['DAU']\n",
    "dfDAU_3['in_ReportingUnitTypeCV'] = \"Detailed Analysis Units by County\"\n",
    "\n",
    "# AggregatedAmounts Info\n",
    "dfDAU_3['in_Amount'] = dfDAU_2['KAcreFt']\n",
    "dfDAU_3['in_BenUse'] = dfDAU_2['CategoryA']\n",
    "dfDAU_3['in_ReportYearCV'] =  dfDAU_2['Year'].astype(int)\n",
    "dfDAU_3['in_TimeframeStart'] = dfDAU_2['Year'].astype(str) + \"/01/01\"\n",
    "dfDAU_3['in_TimeframeEnd'] = dfDAU_2['Year'].astype(str)  + \"/12/31\"\n",
    "\n",
    "print(len(dfDAU_3))\n",
    "dfDAU_3.head(1)"
   ]
  },
  {
   "cell_type": "code",
   "execution_count": null,
   "metadata": {},
   "outputs": [],
   "source": [
    "# Concatenate HR, PA, & DAU datfames into single output dataframe.\n",
    "frames = [dfHR_3, dfPA_3, dfDAU_3]\n",
    "dfout = pd.concat(frames).reset_index(drop=True)\n",
    "print(len(dfout))\n",
    "dfout['in_ReportingUnitTypeCV'].unique()"
   ]
  },
  {
   "cell_type": "code",
   "execution_count": null,
   "metadata": {},
   "outputs": [],
   "source": [
    "# Convert History Year to YYYY-MM-DD format.\n",
    "\n",
    "dfout['in_TimeframeStart'] = pd.to_datetime(dfout['in_TimeframeStart'], errors = 'coerce')\n",
    "dfout['in_TimeframeStart'] = pd.to_datetime(dfout[\"in_TimeframeStart\"].dt.strftime('%m/%d/%Y'))\n",
    "\n",
    "dfout['in_TimeframeEnd'] = pd.to_datetime(dfout['in_TimeframeEnd'], errors = 'coerce')\n",
    "dfout['in_TimeframeEnd'] = pd.to_datetime(dfout[\"in_TimeframeEnd\"].dt.strftime('%m/%d/%Y'))\n",
    "\n",
    "dfout.head()"
   ]
  },
  {
   "cell_type": "markdown",
   "metadata": {},
   "source": [
    "## WaDE Custom Elements (due to missing info)"
   ]
  },
  {
   "cell_type": "code",
   "execution_count": null,
   "metadata": {},
   "outputs": [],
   "source": []
  },
  {
   "cell_type": "markdown",
   "metadata": {},
   "source": [
    "# Shapefile Data"
   ]
  },
  {
   "cell_type": "code",
   "execution_count": null,
   "metadata": {},
   "outputs": [],
   "source": [
    "# Shapefile input\n",
    "HydrologicRegionsShape = gpd.read_file('Hydrologic_Regions-shp/Hydrologic_Regions.shp', crs=\"EPSG:4326\")\n",
    "WaterPlanAreaShape = gpd.read_file('Water_Plan_Planning_Areas-shp/Water_Plan_Planning_Areas.shp', crs=\"EPSG:4326\")\n",
    "DAUCOShape = gpd.read_file('DAUCO-shp/WaDECADAU.shp', crs=\"EPSG:4326\")"
   ]
  },
  {
   "cell_type": "code",
   "execution_count": null,
   "metadata": {},
   "outputs": [],
   "source": [
    "#check shp input Hydrologic Region\n",
    "dfHRshapetemp = pd.DataFrame(HydrologicRegionsShape)\n",
    "\n",
    "HydrologicRegionIDdict = {\n",
    "\"North Coast\" : \"1\",\n",
    "\"San Francisco Bay\" : \"2\",\n",
    "\"Central Coast\" : \"3\",\n",
    "\"South Coast\" : \"4\",\n",
    "\"Sacramento River\" : \"5\",\n",
    "\"San Joaquin River\" : \"6\",\n",
    "\"Tulare Lake\" : \"7\",\n",
    "\"North Lahontan\" : \"8\",\n",
    "\"South Lahontan\" : \"9\",\n",
    "\"Colorado River\" : \"10\"}\n",
    "    \n",
    "def retrieveHRID(colrowValue):\n",
    "    if colrowValue == '' or pd.isnull(colrowValue):\n",
    "        outList = ''\n",
    "    else:\n",
    "        String1 = colrowValue.strip()\n",
    "        try:\n",
    "            outList = HydrologicRegionIDdict[String1]\n",
    "        except:\n",
    "            outList = ''\n",
    "    return outList\n",
    "\n",
    "columnsList = ['RU_ID', 'geometry']\n",
    "dfHRshape = pd.DataFrame(columns=columnsList)\n",
    "dfHRshape['RU_ID'] = dfHRshapetemp.apply(lambda row: retrieveHRID(row['HR_NAME']), axis=1)\n",
    "dfHRshape['geometry'] = dfHRshapetemp['geometry']\n",
    "dfHRshape = dfHRshape.drop_duplicates(subset=None, keep='first', inplace=False, ignore_index=False)\n",
    "dfHRshape"
   ]
  },
  {
   "cell_type": "code",
   "execution_count": null,
   "metadata": {},
   "outputs": [],
   "source": [
    "#check shp input Water Plan Area\n",
    "dfWPAshapetemp = pd.DataFrame(WaterPlanAreaShape)\n",
    "\n",
    "columnsList = ['RU_ID', 'geometry']\n",
    "dfWPAshape = pd.DataFrame(columns=columnsList)\n",
    "dfWPAshape['RU_ID'] = dfWPAshapetemp['PA_NO']\n",
    "dfWPAshape['geometry'] = dfWPAshapetemp['geometry']\n",
    "dfWPAshape = dfWPAshape.drop_duplicates(subset=None, keep='first', inplace=False, ignore_index=False)\n",
    "dfWPAshape.head(3)"
   ]
  },
  {
   "cell_type": "code",
   "execution_count": null,
   "metadata": {},
   "outputs": [],
   "source": [
    "#check shp input DAUCO\n",
    "dfDAUCOshapetemp = pd.DataFrame(DAUCOShape)\n",
    "\n",
    "columnsList = ['RU_ID', 'geometry']\n",
    "dfDAUCOshape = pd.DataFrame(columns=columnsList)\n",
    "dfDAUCOshape['RU_ID'] = dfDAUCOshapetemp['RU_ID']\n",
    "dfDAUCOshape['geometry'] = dfDAUCOshapetemp['geometry']\n",
    "dfDAUCOshape = dfDAUCOshape.drop_duplicates(subset=None, keep='first', inplace=False, ignore_index=False)\n",
    "dfDAUCOshape.head(3)"
   ]
  },
  {
   "cell_type": "code",
   "execution_count": null,
   "metadata": {},
   "outputs": [],
   "source": [
    "# Concatenate shp datafraes together.\n",
    "frames = [dfHRshape, dfWPAshape, dfDAUCOshape]\n",
    "dfShape = pd.concat(frames).reset_index(drop=True)\n",
    "dfShape"
   ]
  },
  {
   "cell_type": "markdown",
   "metadata": {},
   "source": [
    "### Inspect Output Data & Export"
   ]
  },
  {
   "cell_type": "code",
   "execution_count": null,
   "metadata": {},
   "outputs": [],
   "source": [
    "dfout.info()"
   ]
  },
  {
   "cell_type": "code",
   "execution_count": null,
   "metadata": {},
   "outputs": [],
   "source": [
    "dfShape.info()"
   ]
  },
  {
   "cell_type": "code",
   "execution_count": null,
   "metadata": {},
   "outputs": [],
   "source": [
    "# Export out to CSV.\n",
    "dfout.to_csv('P_caAggMaster.csv', index=False) # The output.\n",
    "dfShape.to_csv('P_caGeometry.csv', index=False) # The output geometry."
   ]
  },
  {
   "cell_type": "code",
   "execution_count": null,
   "metadata": {},
   "outputs": [],
   "source": []
  },
  {
   "cell_type": "code",
   "execution_count": null,
   "metadata": {},
   "outputs": [],
   "source": []
  },
  {
   "cell_type": "code",
   "execution_count": null,
   "metadata": {},
   "outputs": [],
   "source": [
    "dfout['in_VariableSpecificCV'].unique()"
   ]
  },
  {
   "cell_type": "code",
   "execution_count": null,
   "metadata": {},
   "outputs": [],
   "source": []
  },
  {
   "cell_type": "code",
   "execution_count": null,
   "metadata": {},
   "outputs": [],
   "source": [
    "# # Creating WaDE Custom reporting unit native ID for easy water site identification\n",
    "# # create by unique ReportingUnitName & ReportingUnitTypeCV\n",
    "# # only need for PA areas.\n",
    "# # ----------------------------------------------------------------------------------------------------\n",
    "\n",
    "# # Create temp ReportingUnitNativeID dataframe of unique reporting unit native ID areas.\n",
    "# def assignReportingUnitNativeID(colrowValue):\n",
    "#     string1 = str(colrowValue)\n",
    "#     outstring = \"WaDECA_RU\" + string1\n",
    "#     return outstring\n",
    "\n",
    "# dfReportingUnitNativeID = pd.DataFrame()\n",
    "# dfReportingUnitNativeID['in_ReportingUnitName'] = dfout['in_ReportingUnitName']\n",
    "# dfReportingUnitNativeID['in_ReportingUnitTypeCV'] = dfout['in_ReportingUnitTypeCV']\n",
    "# dfReportingUnitNativeID = dfReportingUnitNativeID.drop_duplicates()\n",
    "\n",
    "# dftemp = pd.DataFrame(index=dfReportingUnitNativeID.index)\n",
    "# dftemp[\"Count\"] = range(1, len(dftemp.index) + 1)\n",
    "# dfReportingUnitNativeID['in_ReportingUnitNativeID'] = dftemp.apply(lambda row: assignReportingUnitNativeID(row['Count']), axis=1)\n",
    "\n",
    "# # ----------------------------------------------------------------------------------------------------\n",
    "\n",
    "# # Retreive WaDE Custom reporting unit native ID areas.\n",
    "# def retrieveReportingUnitNativeID(A, B, C):\n",
    "#     # check if A is empty or null\n",
    "#     if A == \"\" or pd.isnull(A):\n",
    "#         ml = dfReportingUnitNativeID.loc[(dfReportingUnitNativeID['in_ReportingUnitName'] == B) & \n",
    "#                                          (dfReportingUnitNativeID['in_ReportingUnitTypeCV'] == C), 'in_ReportingUnitNativeID']\n",
    "#         if not (ml.empty):  # check if the series is empty\n",
    "#             outString = ml.iloc[0]\n",
    "#         else:\n",
    "#             outString = A\n",
    "#     else:\n",
    "#         outString = A\n",
    "\n",
    "#     return outString\n",
    "\n",
    "# dfout['in_ReportingUnitNativeID'] = dfout.apply(lambda row: retrieveReportingUnitNativeID(row['in_ReportingUnitNativeID'],\n",
    "#                                                                                           row['in_ReportingUnitName'],\n",
    "#                                                                                           row['in_ReportingUnitTypeCV']), axis=1)\n",
    "# print(dfout['in_ReportingUnitNativeID'].unique())"
   ]
  }
 ],
 "metadata": {
  "kernelspec": {
   "display_name": "Python 3 (ipykernel)",
   "language": "python",
   "name": "python3"
  },
  "language_info": {
   "codemirror_mode": {
    "name": "ipython",
    "version": 3
   },
   "file_extension": ".py",
   "mimetype": "text/x-python",
   "name": "python",
   "nbconvert_exporter": "python",
   "pygments_lexer": "ipython3",
   "version": "3.9.13"
  }
 },
 "nbformat": 4,
 "nbformat_minor": 4
}
