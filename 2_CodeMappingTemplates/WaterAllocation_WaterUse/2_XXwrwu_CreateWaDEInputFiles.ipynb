{
 "cells": [
  {
   "cell_type": "markdown",
   "id": "091aecd3",
   "metadata": {},
   "source": [
    "# Create WaDE Uploader csv Files for Water Right and Time Series Water Use Data\n",
    "- Last Updated: 07/22/2025\n",
    "- Purpose: To create necessary processed WaDE Uploader csv files for water right information."
   ]
  },
  {
   "cell_type": "code",
   "execution_count": null,
   "id": "90b6067a",
   "metadata": {},
   "outputs": [],
   "source": [
    "# Needed Libraries / Modules\n",
    "import sys\n",
    "import os\n",
    "\n",
    "## Custom Libraries\n",
    "sys.path.append(\"../../5_CustomFunctions/MappingFunctions\")\n",
    "import CreateWaterSourcesFile\n",
    "import CreateSitesFile\n",
    "import CreateAllocationsAmounts_factsFile\n",
    "import CreateSiteSpecificAmounts_factFile\n",
    "import RemoveUnusedRecordsFile\n",
    "import CreatePODSiteToPOUSiteRelationshipsFile\n",
    "import JoinOverlayToSiteFile\n",
    "import AddCountyHUC8HUC12File"
   ]
  },
  {
   "cell_type": "markdown",
   "id": "22229554",
   "metadata": {},
   "source": [
    "## Input Data (make changes here)\n",
    " - create and add variables specific to this proejct here"
   ]
  },
  {
   "cell_type": "code",
   "execution_count": null,
   "id": "da2aba5f",
   "metadata": {},
   "outputs": [],
   "source": [
    "# ---- working directory ----\n",
    "workingDirString = #\"G:/Shared drives/WaDE Data/WaDE Data Folder/Texas/WaterAllocation_WaterUse\"  # set working directory folder string here\n",
    "os.chdir(workingDirString)\n",
    "print(f'The working Directory is:', workingDirString)\n",
    "\n",
    "# ---- Inputs ----\n",
    "varST = #\"AZ\" # source organization or state abbreviation\n",
    "varUUIDType = #\"wr\" # UUID data type abbreviation\n",
    "mainInputFile = \"RawinputData/Pwrwu_Main.zip\" # use processed zip file"
   ]
  },
  {
   "cell_type": "code",
   "execution_count": null,
   "id": "e6900b6a-cc01-46b9-904a-22a498b588e2",
   "metadata": {},
   "outputs": [],
   "source": [
    "# ---- Read in mainInputFile csv file ----\n",
    "df = pd.read_csv(mainInputFile, compression='zip')\n",
    "print(f\"Total memory: {df.memory_usage(deep=True).sum() / 1024**2:.2f} MB\")"
   ]
  },
  {
   "cell_type": "code",
   "execution_count": null,
   "id": "e53087b9-1e4b-4b8a-975c-aec9b4395ce2",
   "metadata": {},
   "outputs": [],
   "source": [
    "# ---- Optomize data types of mainInputFile csv file ----\n",
    "def optimize_dataframe(df):\n",
    "    for col in df.select_dtypes(include='int'):\n",
    "        if (df[col] >= 0).all():\n",
    "            df[col] = pd.to_numeric(df[col], downcast='unsigned')\n",
    "        else:\n",
    "            df[col] = pd.to_numeric(df[col], downcast='integer')\n",
    "\n",
    "    for col in df.select_dtypes(include='float'):\n",
    "        df[col] = pd.to_numeric(df[col], downcast='float')\n",
    "\n",
    "    for col in df.select_dtypes(include='object'):\n",
    "        num_unique_values = df[col].nunique()\n",
    "        num_total_values = len(df[col])\n",
    "        if num_unique_values / num_total_values < 0.5:\n",
    "            df[col] = df[col].astype('category')\n",
    "\n",
    "    return df\n",
    "\n",
    "df = optimize_dataframe(df)\n",
    "print(f\"Total memory: {df.memory_usage(deep=True).sum() / 1024**2:.2f} MB\")"
   ]
  },
  {
   "cell_type": "markdown",
   "id": "9ca3ea3e",
   "metadata": {},
   "source": [
    "## Create CSV Input Files"
   ]
  },
  {
   "cell_type": "code",
   "execution_count": null,
   "id": "f373f87f",
   "metadata": {},
   "outputs": [],
   "source": [
    "# ---- Method (methods.csv) ----\n",
    "# Simple info, create by hand and save in ProcessedInputData folder."
   ]
  },
  {
   "cell_type": "code",
   "execution_count": null,
   "id": "d0292a0b",
   "metadata": {},
   "outputs": [],
   "source": [
    "# ---- Variable (variables.csv) ----\n",
    "# Simple info, create by hand and save in ProcessedInputData folder."
   ]
  },
  {
   "cell_type": "code",
   "execution_count": null,
   "id": "de98ab0f",
   "metadata": {},
   "outputs": [],
   "source": [
    "# ---- Organization (organizations.csv) ----\n",
    "# Simple info, create by hand and save in ProcessedInputData folder."
   ]
  },
  {
   "cell_type": "code",
   "execution_count": null,
   "id": "a96f088b",
   "metadata": {},
   "outputs": [],
   "source": [
    "# ---- Water Sources (watersources.csv) ----\n",
    "print(\"Creating Water Sources input csv...\")\n",
    "print(\"############################################################################\")\n",
    "CreateWaterSourcesFile.CreateWaterSourcesInputFunction(workingDirString, varST, varUUIDType, df)"
   ]
  },
  {
   "cell_type": "code",
   "execution_count": null,
   "id": "b6494c99",
   "metadata": {},
   "outputs": [],
   "source": [
    "# ---- Sites (sites.csv) ----\n",
    "print(\"Creating Sites input csv...\")\n",
    "print(\"############################################################################\")\n",
    "CreateSitesFile.CreateSitesInputFunction(workingDirString, varST, varUUIDType, df)"
   ]
  },
  {
   "cell_type": "code",
   "execution_count": null,
   "id": "ffb1f358",
   "metadata": {
    "scrolled": true
   },
   "outputs": [],
   "source": [
    "# ---- Allocations Amounts (waterallocations.csv) ----\n",
    "print(\"Creating AllocationsAmounts_facts input csv...\")\n",
    "print(\"############################################################################\")\n",
    "CreateAllocationsAmounts_factsFile.CreateAllocationsAmounts_factsInputFunction(workingDirString, varST, varUUIDType, df)"
   ]
  },
  {
   "cell_type": "code",
   "execution_count": null,
   "id": "154747bb-1ded-49fd-bf5f-30e4c7649089",
   "metadata": {},
   "outputs": [],
   "source": [
    "# ---- Site Specific Amounts (sitespecificamounts.csv) ----\n",
    "print(\"Creating Site Specific Amounts input csv...\")\n",
    "print(\"############################################################################\")\n",
    "CreateSiteSpecificAmounts_factFile.CreateSiteSpecificAmounts_factsInputFunction(workingDirString, df)"
   ]
  },
  {
   "cell_type": "code",
   "execution_count": null,
   "id": "a769f9b0",
   "metadata": {},
   "outputs": [],
   "source": [
    "# ---- Remove unused records ----\n",
    "print(\"Remove unused Water Sources and Sites records not found within waterallocations.csv...\")\n",
    "print(\"############################################################################\")\n",
    "RemoveUnusedRecordsFile.RemoveUnusedAllocationsAmountRecordsFileFunction(workingDirString)"
   ]
  },
  {
   "cell_type": "code",
   "execution_count": null,
   "id": "777d5d20",
   "metadata": {},
   "outputs": [],
   "source": [
    "# ---- Create POD and POU joins (podsitetopousiterelationships.csv) ----\n",
    "print(\"Creating Pod site -to- Pou site relationships input csv...\")\n",
    "print(\"############################################################################\")\n",
    "CreatePODSiteToPOUSiteRelationshipsFile.PODToPOUWaterRightRelationshipsFunction(workingDirString)"
   ]
  },
  {
   "cell_type": "code",
   "execution_count": null,
   "id": "11908591-b96c-4081-addc-62234b9fc238",
   "metadata": {},
   "outputs": [],
   "source": [
    "# ---- Join OverlayUUIDs for Sites (Sites.csv update) ----\n",
    "print(\"Joining OverlayUUIDs to Sites input csv if exists...\")\n",
    "print(\"############################################################################\")\n",
    "JoinOverlayToSiteFile.JoinOverlayToSiteFunction(workingDirString)"
   ]
  },
  {
   "cell_type": "code",
   "execution_count": null,
   "id": "f0e21540-5f7d-4f26-a6b2-862b37e91438",
   "metadata": {},
   "outputs": [],
   "source": [
    "# ---- Add missing County, HUC8, HUC12 information for Sites (Sites.csv update) ----\n",
    "print(\"Add missing County, HUC8, HUC12 information if missing...\")\n",
    "print(\"############################################################################\")\n",
    "AddCountyHUC8HUC12File.AddCountyHUC8HUC12Function(workingDirString)"
   ]
  }
 ],
 "metadata": {
  "kernelspec": {
   "display_name": "Python 3 (ipykernel)",
   "language": "python",
   "name": "python3"
  },
  "language_info": {
   "codemirror_mode": {
    "name": "ipython",
    "version": 3
   },
   "file_extension": ".py",
   "mimetype": "text/x-python",
   "name": "python",
   "nbconvert_exporter": "python",
   "pygments_lexer": "ipython3",
   "version": "3.12.3"
  }
 },
 "nbformat": 4,
 "nbformat_minor": 5
}
