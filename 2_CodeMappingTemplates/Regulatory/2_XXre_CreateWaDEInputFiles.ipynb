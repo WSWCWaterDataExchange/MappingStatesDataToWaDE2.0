{
 "cells": [
  {
   "cell_type": "markdown",
   "id": "091aecd3",
   "metadata": {},
   "source": [
    "# Create WaDE Uploader csv Files for Regulatory Data\n",
    "- Date Update: 07/07/2023\n",
    "- Purpose: To create WaDE data input files for regulatory information."
   ]
  },
  {
   "cell_type": "markdown",
   "id": "1dcf6456",
   "metadata": {},
   "source": [
    "## Custom Libraries"
   ]
  },
  {
   "cell_type": "code",
   "execution_count": null,
   "id": "008fa19f",
   "metadata": {},
   "outputs": [],
   "source": [
    "# Needed Libraries / Modules\n",
    "\n",
    "# WaDE Custom Libraries\n",
    "import sys\n",
    "sys.path.append(\"C:/Users/rjame/Documents/WSWC Documents/MappingStatesDataToWaDE2.0/5_CustomFunctions/MappingFunctions\")"
   ]
  },
  {
   "cell_type": "markdown",
   "id": "9aa8e660",
   "metadata": {},
   "source": [
    "## Input Data"
   ]
  },
  {
   "cell_type": "code",
   "execution_count": null,
   "id": "29142e85",
   "metadata": {},
   "outputs": [],
   "source": [
    "# Inputs\n",
    "varST = \"NM\" # state abbreviation\n",
    "varUUIDType = \"re\" # uuid abbreviation\n",
    "varWaDEDataType = \"Regulatory\" # WaDE datatype for file location\n",
    "mainInputFile = \"Pre_nmMain.zip\" # use processed zip file\n",
    "\n",
    "# working directory\n",
    "workingDirString = \"C:/Users/rjame/Documents/WSWC Documents/MappingStatesDataToWaDE2.0/2_CodeMappingTemplates/\" + varWaDEDataType\n",
    "print(f'The working Directory is:', workingDirString)"
   ]
  },
  {
   "cell_type": "markdown",
   "id": "9ca3ea3e",
   "metadata": {},
   "source": [
    "## Create RegulatoryOverlay Input Files"
   ]
  },
  {
   "cell_type": "code",
   "execution_count": null,
   "id": "f373f87f",
   "metadata": {},
   "outputs": [],
   "source": [
    "# ---- Date ----\n",
    "# Simple info, create by hand and save in ProcessedInputData folder."
   ]
  },
  {
   "cell_type": "code",
   "execution_count": null,
   "id": "de98ab0f",
   "metadata": {},
   "outputs": [],
   "source": [
    "# ---- Organization (organizations.csv) ----\n",
    "# Simple info, create by hand and save in ProcessedInputData folder."
   ]
  },
  {
   "cell_type": "code",
   "execution_count": null,
   "id": "c8d42fa0",
   "metadata": {},
   "outputs": [],
   "source": [
    "# Reporting Unit\n",
    "print(\"Creating Reporting Unit input csv...\")\n",
    "print(\"############################################################################\")\n",
    "import CreateReportingUnitsFile\n",
    "CreateReportingUnitsFile.CreateReportingUnitInputFunction(workingDirString, varST, varUUIDType, mainInputFile)"
   ]
  },
  {
   "cell_type": "code",
   "execution_count": null,
   "id": "ad265089",
   "metadata": {},
   "outputs": [],
   "source": [
    "# RegulatoryOverlays\n",
    "print(\"Creating Regulatory Overlays input csv...\")\n",
    "print(\"############################################################################\")\n",
    "import CreateRegulatoryOverlaysFile\n",
    "CreateRegulatoryOverlaysFile.CreateRegulatoryOverlaysInputFunction(workingDirString, varST, varUUIDType, mainInputFile)"
   ]
  },
  {
   "cell_type": "code",
   "execution_count": null,
   "id": "0e97535d",
   "metadata": {},
   "outputs": [],
   "source": [
    "# RegulatoryReportingUnits_fact\n",
    "print(\"Creating Regulatory Reporting Units input csv...\")\n",
    "print(\"############################################################################\")\n",
    "import CreateRegulatoryReportingUnits_factFile\n",
    "CreateRegulatoryReportingUnits_factFile.CreateRegulatoryReportingUnitsInputFunction(workingDirString, mainInputFile)"
   ]
  }
 ],
 "metadata": {
  "kernelspec": {
   "display_name": "Python 3 (ipykernel)",
   "language": "python",
   "name": "python3"
  },
  "language_info": {
   "codemirror_mode": {
    "name": "ipython",
    "version": 3
   },
   "file_extension": ".py",
   "mimetype": "text/x-python",
   "name": "python",
   "nbconvert_exporter": "python",
   "pygments_lexer": "ipython3",
   "version": "3.9.16"
  }
 },
 "nbformat": 4,
 "nbformat_minor": 5
}
