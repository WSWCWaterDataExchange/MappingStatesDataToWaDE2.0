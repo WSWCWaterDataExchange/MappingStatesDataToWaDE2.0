{
 "cells": [
  {
   "cell_type": "markdown",
   "id": "091aecd3",
   "metadata": {},
   "source": [
    "# Create WaDE Uploader csv Files for Regulatory Data\n",
    "- Date Update: 07/07/2023\n",
    "- Purpose: To create WaDE data input files for regulatory information."
   ]
  },
  {
   "cell_type": "code",
   "execution_count": 1,
   "id": "e2500615",
   "metadata": {},
   "outputs": [],
   "source": [
    "# Needed Libraries / Modules\n",
    "import sys\n",
    "import os\n",
    "\n",
    "## Custom Libraries\n",
    "sys.path.append(\"../../5_CustomFunctions/MappingFunctions\")\n",
    "import CreateReportingUnitsFile\n",
    "import CreateRegulatoryOverlaysFile\n",
    "import CreateRegulatoryReportingUnits_factFile\n",
    "import RemoveUnusedRecordsFile"
   ]
  },
  {
   "cell_type": "markdown",
   "id": "1af83dac",
   "metadata": {},
   "source": [
    "## Input Data\n",
    " - create and add variables specific to this proejct here"
   ]
  },
  {
   "cell_type": "code",
   "execution_count": 2,
   "id": "ef992aa3",
   "metadata": {},
   "outputs": [
    {
     "ename": "SyntaxError",
     "evalue": "invalid syntax (1820123922.py, line 2)",
     "output_type": "error",
     "traceback": [
      "\u001b[1;36m  Cell \u001b[1;32mIn[2], line 2\u001b[1;36m\u001b[0m\n\u001b[1;33m    varST = # \"NE\" # state abbreviation\u001b[0m\n\u001b[1;37m            ^\u001b[0m\n\u001b[1;31mSyntaxError\u001b[0m\u001b[1;31m:\u001b[0m invalid syntax\n"
     ]
    }
   ],
   "source": [
    "# ---- Inputs ----\n",
    "varST = # \"NE\" # state abbreviation\n",
    "varUUIDType = \"re\" # UUID data type abbreviation\n",
    "mainInputFile = \"Pre_Main.zip\" # use processed zip file\n",
    "\n",
    "# ---- working directory ----\n",
    "workingDirString = #\"G:/Shared drives/WaDE Data/Nebraska/Regulatory\" # set working directory folder string here\n",
    "os.chdir(workingDirString)\n",
    "print(f'The working Directory is:', workingDirString)"
   ]
  },
  {
   "cell_type": "markdown",
   "id": "9ca3ea3e",
   "metadata": {},
   "source": [
    "## Create RegulatoryOverlay Input Files"
   ]
  },
  {
   "cell_type": "code",
   "execution_count": null,
   "id": "f373f87f",
   "metadata": {},
   "outputs": [],
   "source": [
    "# ---- Date (date.csv)----\n",
    "# Simple info, create by hand and save in ProcessedInputData folder."
   ]
  },
  {
   "cell_type": "code",
   "execution_count": null,
   "id": "de98ab0f",
   "metadata": {},
   "outputs": [],
   "source": [
    "# ---- Organization (organizations.csv) ----\n",
    "# Simple info, create by hand and save in ProcessedInputData folder."
   ]
  },
  {
   "cell_type": "code",
   "execution_count": null,
   "id": "c8d42fa0",
   "metadata": {},
   "outputs": [],
   "source": [
    "# ---- Reporting Unit (reportingunits.csv) ----\n",
    "print(\"Creating Reporting Unit input csv...\")\n",
    "print(\"############################################################################\")\n",
    "CreateReportingUnitsFile.CreateReportingUnitInputFunction(workingDirString, varST, varUUIDType, mainInputFile)"
   ]
  },
  {
   "cell_type": "code",
   "execution_count": null,
   "id": "ad265089",
   "metadata": {},
   "outputs": [],
   "source": [
    "# ---- RegulatoryOverlays (regulatoryoverlays.csv) ----\n",
    "print(\"Creating Regulatory Overlays input csv...\")\n",
    "print(\"############################################################################\")\n",
    "CreateRegulatoryOverlaysFile.CreateRegulatoryOverlaysInputFunction(workingDirString, varST, varUUIDType, mainInputFile)"
   ]
  },
  {
   "cell_type": "code",
   "execution_count": null,
   "id": "0e97535d",
   "metadata": {},
   "outputs": [],
   "source": [
    "# ---- RegulatoryReportingUnits_fact (regulatoryreportingunits.csv) ----\n",
    "print(\"Creating Regulatory Reporting Units input csv...\")\n",
    "print(\"############################################################################\")\n",
    "CreateRegulatoryReportingUnits_factFile.CreateRegulatoryReportingUnitsInputFunction(workingDirString, mainInputFile)"
   ]
  },
  {
   "cell_type": "code",
   "execution_count": null,
   "id": "efac01eb",
   "metadata": {},
   "outputs": [],
   "source": [
    "# ---- Remove unused records ----\n",
    "print(\"Remove unused Reporting Unit records not found within RegulatoryOverlays input csv...\")\n",
    "print(\"############################################################################\")\n",
    "RemoveUnusedRecordsFile.RemoveUnusedRegulatoryOverlaysRecordsFileFunction(workingDirString)"
   ]
  }
 ],
 "metadata": {
  "kernelspec": {
   "display_name": "Python 3 (ipykernel)",
   "language": "python",
   "name": "python3"
  },
  "language_info": {
   "codemirror_mode": {
    "name": "ipython",
    "version": 3
   },
   "file_extension": ".py",
   "mimetype": "text/x-python",
   "name": "python",
   "nbconvert_exporter": "python",
   "pygments_lexer": "ipython3",
   "version": "3.9.18"
  }
 },
 "nbformat": 4,
 "nbformat_minor": 5
}
